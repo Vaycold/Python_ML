{
  "nbformat": 4,
  "nbformat_minor": 0,
  "metadata": {
    "colab": {
      "name": "E-commerce Data.ipynb",
      "provenance": [],
      "authorship_tag": "ABX9TyN0EdIHnsIheVJDSxB80ZpG",
      "include_colab_link": true
    },
    "kernelspec": {
      "name": "python3",
      "display_name": "Python 3"
    },
    "language_info": {
      "name": "python"
    }
  },
  "cells": [
    {
      "cell_type": "markdown",
      "metadata": {
        "id": "view-in-github",
        "colab_type": "text"
      },
      "source": [
        "<a href=\"https://colab.research.google.com/github/Vaycold/Python_ML/blob/main/Clusters/E-commerce%20Data.ipynb\" target=\"_parent\"><img src=\"https://colab.research.google.com/assets/colab-badge.svg\" alt=\"Open In Colab\"/></a>"
      ]
    },
    {
      "cell_type": "markdown",
      "metadata": {
        "id": "WM2GxGTewz9q"
      },
      "source": [
        "# E-Commerce \n",
        "_____________"
      ]
    },
    {
      "cell_type": "markdown",
      "metadata": {
        "id": "s1wH5Tdhw55q"
      },
      "source": [
        "## Load the data"
      ]
    },
    {
      "cell_type": "code",
      "metadata": {
        "id": "IcV233lywLVK"
      },
      "source": [
        "# Install the package\n",
        "import pandas as pd\n",
        "import numpy as np\n",
        "from datetime import datetime\n",
        "import plotly.express as px\n",
        "from sklearn.model_selection import train_test_split\n",
        "import warnings \n",
        "warnings.filterwarnings(action = 'ignore')\n",
        "pd.set_option('display.max_columns', None)"
      ],
      "execution_count": 1,
      "outputs": []
    },
    {
      "cell_type": "code",
      "metadata": {
        "id": "jo3qprK5xk2M"
      },
      "source": [
        "# data url\n",
        "user_meta_url = 'https://raw.githubusercontent.com/dajeong-lecture/raw_data/main/user_meta_data.csv'\n",
        "user_statsdata_url = 'https://raw.githubusercontent.com/dajeong-lecture/raw_data/main/user_stats_data.csv'\n",
        "\n",
        "user_meta_df = pd.read_csv(user_meta_url, parse_dates=[0])\n",
        "user_stats_df = pd.read_csv(user_statsdata_url, parse_dates=[0])"
      ],
      "execution_count": 2,
      "outputs": []
    },
    {
      "cell_type": "markdown",
      "metadata": {
        "id": "W8nNDoFoytA3"
      },
      "source": [
        "     Meta Data\n",
        "      - user_id         : 고객 고유 ID\n",
        "      - sex             : 성별(남0, 여1)\n",
        "      - birthday_year   : 생일년도(yyyy)\n",
        "      - membership_type : 멤버쉽타입(100 : 비회원, 300. 500: 정회원)\n",
        "      - category_prefer : 카테고리 선호 입력수\n",
        "      - joined_date     : 가입일자(yyyy-mm-dd)\n",
        "      - deleted_date    : 탈퇴일자(yyyy-mm-dd)\n",
        "      - join_path       : 가입경로(None 일반가입, 1: sns가입)\n",
        "      - os              : (IOS ,AOS)\n",
        "      - recommended_cnt : 친구추천 수"
      ]
    },
    {
      "cell_type": "code",
      "metadata": {
        "colab": {
          "base_uri": "https://localhost:8080/"
        },
        "id": "VPn8t_Hix7Cb",
        "outputId": "d06d94df-b42e-479d-ee97-4344c6f887ed"
      },
      "source": [
        "# Data shape\n",
        "print(user_meta_df.shape)\n",
        "print(user_stats_df.shape)"
      ],
      "execution_count": 3,
      "outputs": [
        {
          "output_type": "stream",
          "text": [
            "(3412, 10)\n",
            "(3412, 11)\n"
          ],
          "name": "stdout"
        }
      ]
    },
    {
      "cell_type": "code",
      "metadata": {
        "colab": {
          "base_uri": "https://localhost:8080/",
          "height": 106
        },
        "id": "IxOwUdfZyXeO",
        "outputId": "6a983d8d-81a0-4828-91ae-4eeb17ee2bf1"
      },
      "source": [
        "user_meta_df.head(2)"
      ],
      "execution_count": 4,
      "outputs": [
        {
          "output_type": "execute_result",
          "data": {
            "text/html": [
              "<div>\n",
              "<style scoped>\n",
              "    .dataframe tbody tr th:only-of-type {\n",
              "        vertical-align: middle;\n",
              "    }\n",
              "\n",
              "    .dataframe tbody tr th {\n",
              "        vertical-align: top;\n",
              "    }\n",
              "\n",
              "    .dataframe thead th {\n",
              "        text-align: right;\n",
              "    }\n",
              "</style>\n",
              "<table border=\"1\" class=\"dataframe\">\n",
              "  <thead>\n",
              "    <tr style=\"text-align: right;\">\n",
              "      <th></th>\n",
              "      <th>user_id</th>\n",
              "      <th>sex</th>\n",
              "      <th>birthday_year</th>\n",
              "      <th>membership_type</th>\n",
              "      <th>category_prefer</th>\n",
              "      <th>joined_date</th>\n",
              "      <th>deleted_date</th>\n",
              "      <th>join_path</th>\n",
              "      <th>os</th>\n",
              "      <th>recommended_cnt</th>\n",
              "    </tr>\n",
              "  </thead>\n",
              "  <tbody>\n",
              "    <tr>\n",
              "      <th>0</th>\n",
              "      <td>KjIRvUKVTgxGaek</td>\n",
              "      <td>0</td>\n",
              "      <td>1995</td>\n",
              "      <td>300</td>\n",
              "      <td>3</td>\n",
              "      <td>2019-09-09</td>\n",
              "      <td>NaT</td>\n",
              "      <td>NaN</td>\n",
              "      <td>AOS</td>\n",
              "      <td>4</td>\n",
              "    </tr>\n",
              "    <tr>\n",
              "      <th>1</th>\n",
              "      <td>QWhJIG1fOkhUJzG</td>\n",
              "      <td>1</td>\n",
              "      <td>1995</td>\n",
              "      <td>300</td>\n",
              "      <td>2</td>\n",
              "      <td>2020-04-13</td>\n",
              "      <td>NaT</td>\n",
              "      <td>NaN</td>\n",
              "      <td>AOS</td>\n",
              "      <td>1</td>\n",
              "    </tr>\n",
              "  </tbody>\n",
              "</table>\n",
              "</div>"
            ],
            "text/plain": [
              "           user_id  sex  birthday_year  membership_type  category_prefer  \\\n",
              "0  KjIRvUKVTgxGaek    0           1995              300                3   \n",
              "1  QWhJIG1fOkhUJzG    1           1995              300                2   \n",
              "\n",
              "  joined_date deleted_date  join_path   os  recommended_cnt  \n",
              "0  2019-09-09          NaT        NaN  AOS                4  \n",
              "1  2020-04-13          NaT        NaN  AOS                1  "
            ]
          },
          "metadata": {
            "tags": []
          },
          "execution_count": 4
        }
      ]
    },
    {
      "cell_type": "code",
      "metadata": {
        "colab": {
          "base_uri": "https://localhost:8080/",
          "height": 106
        },
        "id": "B0Ij91zpymHY",
        "outputId": "97b2a73c-dc1f-451f-a572-87d661e2bac1"
      },
      "source": [
        "user_stats_df.head(2)"
      ],
      "execution_count": 5,
      "outputs": [
        {
          "output_type": "execute_result",
          "data": {
            "text/html": [
              "<div>\n",
              "<style scoped>\n",
              "    .dataframe tbody tr th:only-of-type {\n",
              "        vertical-align: middle;\n",
              "    }\n",
              "\n",
              "    .dataframe tbody tr th {\n",
              "        vertical-align: top;\n",
              "    }\n",
              "\n",
              "    .dataframe thead th {\n",
              "        text-align: right;\n",
              "    }\n",
              "</style>\n",
              "<table border=\"1\" class=\"dataframe\">\n",
              "  <thead>\n",
              "    <tr style=\"text-align: right;\">\n",
              "      <th></th>\n",
              "      <th>user_id</th>\n",
              "      <th>membership_type</th>\n",
              "      <th>total_order_cnt</th>\n",
              "      <th>total_cost</th>\n",
              "      <th>avg_coupon_amt</th>\n",
              "      <th>avg_point_amt</th>\n",
              "      <th>weekly_order_cnt</th>\n",
              "      <th>monthly_order_cnt</th>\n",
              "      <th>avg_cost</th>\n",
              "      <th>avg_item_cost</th>\n",
              "      <th>last_date</th>\n",
              "    </tr>\n",
              "  </thead>\n",
              "  <tbody>\n",
              "    <tr>\n",
              "      <th>0</th>\n",
              "      <td>q3qlSo1pvyacJoy</td>\n",
              "      <td>100</td>\n",
              "      <td>1.0</td>\n",
              "      <td>23800.0</td>\n",
              "      <td>0.0</td>\n",
              "      <td>0.0</td>\n",
              "      <td>1.0</td>\n",
              "      <td>1.0</td>\n",
              "      <td>23800.0</td>\n",
              "      <td>0.0</td>\n",
              "      <td>2020-04-05</td>\n",
              "    </tr>\n",
              "    <tr>\n",
              "      <th>1</th>\n",
              "      <td>JRy7QRK0UMFP81X</td>\n",
              "      <td>100</td>\n",
              "      <td>1.0</td>\n",
              "      <td>23000.0</td>\n",
              "      <td>0.0</td>\n",
              "      <td>0.0</td>\n",
              "      <td>1.0</td>\n",
              "      <td>1.0</td>\n",
              "      <td>23000.0</td>\n",
              "      <td>10000.0</td>\n",
              "      <td>2020-01-17</td>\n",
              "    </tr>\n",
              "  </tbody>\n",
              "</table>\n",
              "</div>"
            ],
            "text/plain": [
              "           user_id  membership_type  total_order_cnt  total_cost  \\\n",
              "0  q3qlSo1pvyacJoy              100              1.0     23800.0   \n",
              "1  JRy7QRK0UMFP81X              100              1.0     23000.0   \n",
              "\n",
              "   avg_coupon_amt  avg_point_amt  weekly_order_cnt  monthly_order_cnt  \\\n",
              "0             0.0            0.0               1.0                1.0   \n",
              "1             0.0            0.0               1.0                1.0   \n",
              "\n",
              "   avg_cost  avg_item_cost   last_date  \n",
              "0   23800.0            0.0  2020-04-05  \n",
              "1   23000.0        10000.0  2020-01-17  "
            ]
          },
          "metadata": {
            "tags": []
          },
          "execution_count": 5
        }
      ]
    },
    {
      "cell_type": "code",
      "metadata": {
        "colab": {
          "base_uri": "https://localhost:8080/"
        },
        "id": "qUv91hUVynWZ",
        "outputId": "a08d6e9f-bcee-49d1-af04-f7b216808524"
      },
      "source": [
        "# 컬럼 데이터 타입을 확인해보자\n",
        "user_meta_df.dtypes"
      ],
      "execution_count": 6,
      "outputs": [
        {
          "output_type": "execute_result",
          "data": {
            "text/plain": [
              "user_id             object\n",
              "sex                  int64\n",
              "birthday_year        int64\n",
              "membership_type      int64\n",
              "category_prefer      int64\n",
              "joined_date         object\n",
              "deleted_date        object\n",
              "join_path          float64\n",
              "os                  object\n",
              "recommended_cnt      int64\n",
              "dtype: object"
            ]
          },
          "metadata": {
            "tags": []
          },
          "execution_count": 6
        }
      ]
    },
    {
      "cell_type": "code",
      "metadata": {
        "colab": {
          "base_uri": "https://localhost:8080/",
          "height": 106
        },
        "id": "GByqvoUn0kht",
        "outputId": "ab39cec9-5948-4e59-db7a-7c3c0b64350e"
      },
      "source": [
        "# 고객의 나이정보 생성\n",
        "this_year = 2021\n",
        "user_meta_df['age'] =this_year - user_meta_df['birthday_year'] + 1\n",
        "user_meta_df.head(2)"
      ],
      "execution_count": 7,
      "outputs": [
        {
          "output_type": "execute_result",
          "data": {
            "text/html": [
              "<div>\n",
              "<style scoped>\n",
              "    .dataframe tbody tr th:only-of-type {\n",
              "        vertical-align: middle;\n",
              "    }\n",
              "\n",
              "    .dataframe tbody tr th {\n",
              "        vertical-align: top;\n",
              "    }\n",
              "\n",
              "    .dataframe thead th {\n",
              "        text-align: right;\n",
              "    }\n",
              "</style>\n",
              "<table border=\"1\" class=\"dataframe\">\n",
              "  <thead>\n",
              "    <tr style=\"text-align: right;\">\n",
              "      <th></th>\n",
              "      <th>user_id</th>\n",
              "      <th>sex</th>\n",
              "      <th>birthday_year</th>\n",
              "      <th>membership_type</th>\n",
              "      <th>category_prefer</th>\n",
              "      <th>joined_date</th>\n",
              "      <th>deleted_date</th>\n",
              "      <th>join_path</th>\n",
              "      <th>os</th>\n",
              "      <th>recommended_cnt</th>\n",
              "      <th>age</th>\n",
              "    </tr>\n",
              "  </thead>\n",
              "  <tbody>\n",
              "    <tr>\n",
              "      <th>0</th>\n",
              "      <td>KjIRvUKVTgxGaek</td>\n",
              "      <td>0</td>\n",
              "      <td>1995</td>\n",
              "      <td>300</td>\n",
              "      <td>3</td>\n",
              "      <td>2019-09-09</td>\n",
              "      <td>NaT</td>\n",
              "      <td>NaN</td>\n",
              "      <td>AOS</td>\n",
              "      <td>4</td>\n",
              "      <td>27</td>\n",
              "    </tr>\n",
              "    <tr>\n",
              "      <th>1</th>\n",
              "      <td>QWhJIG1fOkhUJzG</td>\n",
              "      <td>1</td>\n",
              "      <td>1995</td>\n",
              "      <td>300</td>\n",
              "      <td>2</td>\n",
              "      <td>2020-04-13</td>\n",
              "      <td>NaT</td>\n",
              "      <td>NaN</td>\n",
              "      <td>AOS</td>\n",
              "      <td>1</td>\n",
              "      <td>27</td>\n",
              "    </tr>\n",
              "  </tbody>\n",
              "</table>\n",
              "</div>"
            ],
            "text/plain": [
              "           user_id  sex  birthday_year  membership_type  category_prefer  \\\n",
              "0  KjIRvUKVTgxGaek    0           1995              300                3   \n",
              "1  QWhJIG1fOkhUJzG    1           1995              300                2   \n",
              "\n",
              "  joined_date deleted_date  join_path   os  recommended_cnt  age  \n",
              "0  2019-09-09          NaT        NaN  AOS                4   27  \n",
              "1  2020-04-13          NaT        NaN  AOS                1   27  "
            ]
          },
          "metadata": {
            "tags": []
          },
          "execution_count": 7
        }
      ]
    },
    {
      "cell_type": "code",
      "metadata": {
        "colab": {
          "base_uri": "https://localhost:8080/",
          "height": 195
        },
        "id": "ssbSJDFL03i7",
        "outputId": "4bc737e5-9a9b-4878-c622-241c56f24443"
      },
      "source": [
        "# 가입일자를 사용하여 2021년 1월 1일 기준 고객의 가입 기간을 생성해보자\n",
        "today_ymd = datetime(2021, 1, 1)\n",
        "user_meta_df['joined_date'] = user_meta_df['joined_date'].astype('datetime64[ns]')\n",
        "\n",
        "user_meta_df['days_from_joined'] = (today_ymd - user_meta_df['joined_date']).dt.days # 가입기간을 일로 바꾸기\n",
        "user_meta_df['years_from_joined'] = (today_ymd - user_meta_df['joined_date']) / np.timedelta64(1, 'Y')\n",
        "user_meta_df['years_from_joined'] = user_meta_df['years_from_joined'].round(1)\n",
        "user_meta_df.head()\n"
      ],
      "execution_count": 8,
      "outputs": [
        {
          "output_type": "execute_result",
          "data": {
            "text/html": [
              "<div>\n",
              "<style scoped>\n",
              "    .dataframe tbody tr th:only-of-type {\n",
              "        vertical-align: middle;\n",
              "    }\n",
              "\n",
              "    .dataframe tbody tr th {\n",
              "        vertical-align: top;\n",
              "    }\n",
              "\n",
              "    .dataframe thead th {\n",
              "        text-align: right;\n",
              "    }\n",
              "</style>\n",
              "<table border=\"1\" class=\"dataframe\">\n",
              "  <thead>\n",
              "    <tr style=\"text-align: right;\">\n",
              "      <th></th>\n",
              "      <th>user_id</th>\n",
              "      <th>sex</th>\n",
              "      <th>birthday_year</th>\n",
              "      <th>membership_type</th>\n",
              "      <th>category_prefer</th>\n",
              "      <th>joined_date</th>\n",
              "      <th>deleted_date</th>\n",
              "      <th>join_path</th>\n",
              "      <th>os</th>\n",
              "      <th>recommended_cnt</th>\n",
              "      <th>age</th>\n",
              "      <th>days_from_joined</th>\n",
              "      <th>years_from_joined</th>\n",
              "    </tr>\n",
              "  </thead>\n",
              "  <tbody>\n",
              "    <tr>\n",
              "      <th>0</th>\n",
              "      <td>KjIRvUKVTgxGaek</td>\n",
              "      <td>0</td>\n",
              "      <td>1995</td>\n",
              "      <td>300</td>\n",
              "      <td>3</td>\n",
              "      <td>2019-09-09</td>\n",
              "      <td>NaT</td>\n",
              "      <td>NaN</td>\n",
              "      <td>AOS</td>\n",
              "      <td>4</td>\n",
              "      <td>27</td>\n",
              "      <td>480</td>\n",
              "      <td>1.3</td>\n",
              "    </tr>\n",
              "    <tr>\n",
              "      <th>1</th>\n",
              "      <td>QWhJIG1fOkhUJzG</td>\n",
              "      <td>1</td>\n",
              "      <td>1995</td>\n",
              "      <td>300</td>\n",
              "      <td>2</td>\n",
              "      <td>2020-04-13</td>\n",
              "      <td>NaT</td>\n",
              "      <td>NaN</td>\n",
              "      <td>AOS</td>\n",
              "      <td>1</td>\n",
              "      <td>27</td>\n",
              "      <td>263</td>\n",
              "      <td>0.7</td>\n",
              "    </tr>\n",
              "    <tr>\n",
              "      <th>2</th>\n",
              "      <td>5UD76uKfYNPTliG</td>\n",
              "      <td>1</td>\n",
              "      <td>1999</td>\n",
              "      <td>300</td>\n",
              "      <td>4</td>\n",
              "      <td>2018-12-18</td>\n",
              "      <td>NaT</td>\n",
              "      <td>NaN</td>\n",
              "      <td>AOS</td>\n",
              "      <td>6</td>\n",
              "      <td>23</td>\n",
              "      <td>745</td>\n",
              "      <td>2.0</td>\n",
              "    </tr>\n",
              "    <tr>\n",
              "      <th>3</th>\n",
              "      <td>lfpxRIsbmmt6mUQ</td>\n",
              "      <td>0</td>\n",
              "      <td>1998</td>\n",
              "      <td>300</td>\n",
              "      <td>7</td>\n",
              "      <td>2019-01-16</td>\n",
              "      <td>NaT</td>\n",
              "      <td>NaN</td>\n",
              "      <td>AOS</td>\n",
              "      <td>2</td>\n",
              "      <td>24</td>\n",
              "      <td>716</td>\n",
              "      <td>2.0</td>\n",
              "    </tr>\n",
              "    <tr>\n",
              "      <th>4</th>\n",
              "      <td>djGLdEHvJy17TDX</td>\n",
              "      <td>1</td>\n",
              "      <td>1999</td>\n",
              "      <td>300</td>\n",
              "      <td>6</td>\n",
              "      <td>2019-11-06</td>\n",
              "      <td>NaT</td>\n",
              "      <td>NaN</td>\n",
              "      <td>AOS</td>\n",
              "      <td>2</td>\n",
              "      <td>23</td>\n",
              "      <td>422</td>\n",
              "      <td>1.2</td>\n",
              "    </tr>\n",
              "  </tbody>\n",
              "</table>\n",
              "</div>"
            ],
            "text/plain": [
              "           user_id  sex  birthday_year  membership_type  category_prefer  \\\n",
              "0  KjIRvUKVTgxGaek    0           1995              300                3   \n",
              "1  QWhJIG1fOkhUJzG    1           1995              300                2   \n",
              "2  5UD76uKfYNPTliG    1           1999              300                4   \n",
              "3  lfpxRIsbmmt6mUQ    0           1998              300                7   \n",
              "4  djGLdEHvJy17TDX    1           1999              300                6   \n",
              "\n",
              "  joined_date deleted_date  join_path   os  recommended_cnt  age  \\\n",
              "0  2019-09-09          NaT        NaN  AOS                4   27   \n",
              "1  2020-04-13          NaT        NaN  AOS                1   27   \n",
              "2  2018-12-18          NaT        NaN  AOS                6   23   \n",
              "3  2019-01-16          NaT        NaN  AOS                2   24   \n",
              "4  2019-11-06          NaT        NaN  AOS                2   23   \n",
              "\n",
              "   days_from_joined  years_from_joined  \n",
              "0               480                1.3  \n",
              "1               263                0.7  \n",
              "2               745                2.0  \n",
              "3               716                2.0  \n",
              "4               422                1.2  "
            ]
          },
          "metadata": {
            "tags": []
          },
          "execution_count": 8
        }
      ]
    },
    {
      "cell_type": "code",
      "metadata": {
        "id": "TUzHNIYY14oe"
      },
      "source": [
        "# 탈퇴 일자를 사용하여 2021년 1월 1일 기준 고객의 탈퇴 여부를 binary로 나타내보자.\n",
        "user_meta_df['if_deleted'] = np.where(user_meta_df['deleted_date'] == 'NaT', 0, 1) # 1: 탈퇴함, 0 : 탈퇴하지 않음\n"
      ],
      "execution_count": 9,
      "outputs": []
    },
    {
      "cell_type": "code",
      "metadata": {
        "colab": {
          "base_uri": "https://localhost:8080/",
          "height": 215
        },
        "id": "jfuWdUOx2wUT",
        "outputId": "41255dfd-dd3b-4223-c815-c9fe3f3b809c"
      },
      "source": [
        "user_meta_df.head()"
      ],
      "execution_count": 10,
      "outputs": [
        {
          "output_type": "execute_result",
          "data": {
            "text/html": [
              "<div>\n",
              "<style scoped>\n",
              "    .dataframe tbody tr th:only-of-type {\n",
              "        vertical-align: middle;\n",
              "    }\n",
              "\n",
              "    .dataframe tbody tr th {\n",
              "        vertical-align: top;\n",
              "    }\n",
              "\n",
              "    .dataframe thead th {\n",
              "        text-align: right;\n",
              "    }\n",
              "</style>\n",
              "<table border=\"1\" class=\"dataframe\">\n",
              "  <thead>\n",
              "    <tr style=\"text-align: right;\">\n",
              "      <th></th>\n",
              "      <th>user_id</th>\n",
              "      <th>sex</th>\n",
              "      <th>birthday_year</th>\n",
              "      <th>membership_type</th>\n",
              "      <th>category_prefer</th>\n",
              "      <th>joined_date</th>\n",
              "      <th>deleted_date</th>\n",
              "      <th>join_path</th>\n",
              "      <th>os</th>\n",
              "      <th>recommended_cnt</th>\n",
              "      <th>age</th>\n",
              "      <th>days_from_joined</th>\n",
              "      <th>years_from_joined</th>\n",
              "      <th>if_deleted</th>\n",
              "    </tr>\n",
              "  </thead>\n",
              "  <tbody>\n",
              "    <tr>\n",
              "      <th>0</th>\n",
              "      <td>KjIRvUKVTgxGaek</td>\n",
              "      <td>0</td>\n",
              "      <td>1995</td>\n",
              "      <td>300</td>\n",
              "      <td>3</td>\n",
              "      <td>2019-09-09</td>\n",
              "      <td>NaT</td>\n",
              "      <td>NaN</td>\n",
              "      <td>AOS</td>\n",
              "      <td>4</td>\n",
              "      <td>27</td>\n",
              "      <td>480</td>\n",
              "      <td>1.3</td>\n",
              "      <td>0</td>\n",
              "    </tr>\n",
              "    <tr>\n",
              "      <th>1</th>\n",
              "      <td>QWhJIG1fOkhUJzG</td>\n",
              "      <td>1</td>\n",
              "      <td>1995</td>\n",
              "      <td>300</td>\n",
              "      <td>2</td>\n",
              "      <td>2020-04-13</td>\n",
              "      <td>NaT</td>\n",
              "      <td>NaN</td>\n",
              "      <td>AOS</td>\n",
              "      <td>1</td>\n",
              "      <td>27</td>\n",
              "      <td>263</td>\n",
              "      <td>0.7</td>\n",
              "      <td>0</td>\n",
              "    </tr>\n",
              "    <tr>\n",
              "      <th>2</th>\n",
              "      <td>5UD76uKfYNPTliG</td>\n",
              "      <td>1</td>\n",
              "      <td>1999</td>\n",
              "      <td>300</td>\n",
              "      <td>4</td>\n",
              "      <td>2018-12-18</td>\n",
              "      <td>NaT</td>\n",
              "      <td>NaN</td>\n",
              "      <td>AOS</td>\n",
              "      <td>6</td>\n",
              "      <td>23</td>\n",
              "      <td>745</td>\n",
              "      <td>2.0</td>\n",
              "      <td>0</td>\n",
              "    </tr>\n",
              "    <tr>\n",
              "      <th>3</th>\n",
              "      <td>lfpxRIsbmmt6mUQ</td>\n",
              "      <td>0</td>\n",
              "      <td>1998</td>\n",
              "      <td>300</td>\n",
              "      <td>7</td>\n",
              "      <td>2019-01-16</td>\n",
              "      <td>NaT</td>\n",
              "      <td>NaN</td>\n",
              "      <td>AOS</td>\n",
              "      <td>2</td>\n",
              "      <td>24</td>\n",
              "      <td>716</td>\n",
              "      <td>2.0</td>\n",
              "      <td>0</td>\n",
              "    </tr>\n",
              "    <tr>\n",
              "      <th>4</th>\n",
              "      <td>djGLdEHvJy17TDX</td>\n",
              "      <td>1</td>\n",
              "      <td>1999</td>\n",
              "      <td>300</td>\n",
              "      <td>6</td>\n",
              "      <td>2019-11-06</td>\n",
              "      <td>NaT</td>\n",
              "      <td>NaN</td>\n",
              "      <td>AOS</td>\n",
              "      <td>2</td>\n",
              "      <td>23</td>\n",
              "      <td>422</td>\n",
              "      <td>1.2</td>\n",
              "      <td>0</td>\n",
              "    </tr>\n",
              "  </tbody>\n",
              "</table>\n",
              "</div>"
            ],
            "text/plain": [
              "           user_id  sex  birthday_year  membership_type  category_prefer  \\\n",
              "0  KjIRvUKVTgxGaek    0           1995              300                3   \n",
              "1  QWhJIG1fOkhUJzG    1           1995              300                2   \n",
              "2  5UD76uKfYNPTliG    1           1999              300                4   \n",
              "3  lfpxRIsbmmt6mUQ    0           1998              300                7   \n",
              "4  djGLdEHvJy17TDX    1           1999              300                6   \n",
              "\n",
              "  joined_date deleted_date  join_path   os  recommended_cnt  age  \\\n",
              "0  2019-09-09          NaT        NaN  AOS                4   27   \n",
              "1  2020-04-13          NaT        NaN  AOS                1   27   \n",
              "2  2018-12-18          NaT        NaN  AOS                6   23   \n",
              "3  2019-01-16          NaT        NaN  AOS                2   24   \n",
              "4  2019-11-06          NaT        NaN  AOS                2   23   \n",
              "\n",
              "   days_from_joined  years_from_joined  if_deleted  \n",
              "0               480                1.3           0  \n",
              "1               263                0.7           0  \n",
              "2               745                2.0           0  \n",
              "3               716                2.0           0  \n",
              "4               422                1.2           0  "
            ]
          },
          "metadata": {
            "tags": []
          },
          "execution_count": 10
        }
      ]
    },
    {
      "cell_type": "markdown",
      "metadata": {
        "id": "WMpw-yJE27dA"
      },
      "source": [
        "     Stats Data\n",
        "      - user_id          : 고객 고유 ID\n",
        "      - membership_type  : 멤버쉽타입(100 : 비회원, 300. 500: 정회원)\n",
        "      - total_order_cnt  : 총 거래 건수\n",
        "      - total_cost       : 총 거래 금액      \n",
        "      - avg_coupon_amt   : 평균 쿠폰 사용 금액\n",
        "      - avg_point_amt    : 평균 포인트사용 금액\n",
        "      - weekly_order_cnt : 주평균 거래 건수\n",
        "      - monthly_order_cnt: 월평균 거래 건수\n",
        "      - avg_cost         : 평균 거래 금액\n",
        "      - avg_item_cost    : 평균 상품 금액\n",
        "      - last_date        : 마지막 거래 일자 (yyyy-mm-dd)"
      ]
    },
    {
      "cell_type": "code",
      "metadata": {
        "colab": {
          "base_uri": "https://localhost:8080/"
        },
        "id": "6bQ4zI283Fg3",
        "outputId": "acc55f55-6add-4df0-9e2b-1443765195d5"
      },
      "source": [
        "user_stats_df.dtypes"
      ],
      "execution_count": 11,
      "outputs": [
        {
          "output_type": "execute_result",
          "data": {
            "text/plain": [
              "user_id               object\n",
              "membership_type        int64\n",
              "total_order_cnt      float64\n",
              "total_cost           float64\n",
              "avg_coupon_amt       float64\n",
              "avg_point_amt        float64\n",
              "weekly_order_cnt     float64\n",
              "monthly_order_cnt    float64\n",
              "avg_cost             float64\n",
              "avg_item_cost        float64\n",
              "last_date             object\n",
              "dtype: object"
            ]
          },
          "metadata": {
            "tags": []
          },
          "execution_count": 11
        }
      ]
    },
    {
      "cell_type": "code",
      "metadata": {
        "colab": {
          "base_uri": "https://localhost:8080/"
        },
        "id": "wCpygubD_F3T",
        "outputId": "79e85db6-9946-4c6f-d59c-85adc9a73c36"
      },
      "source": [
        "user_stats_df.last_date.min(), user_stats_df.last_date.max()"
      ],
      "execution_count": 12,
      "outputs": [
        {
          "output_type": "execute_result",
          "data": {
            "text/plain": [
              "('2020-01-01', '2020-06-30')"
            ]
          },
          "metadata": {
            "tags": []
          },
          "execution_count": 12
        }
      ]
    },
    {
      "cell_type": "code",
      "metadata": {
        "id": "J7AUjOLh_Omc"
      },
      "source": [
        "# 마지막 거래일자의 가장 오래된 날짜를 선택하여 Recency의 정도를 알아보는 컬럼을 생성해보자\n",
        "# 기준점이 마지막 거래일자 직전일이 됨.\n",
        "oldest_ymd = datetime(2019,12,31)\n",
        "\n",
        "user_stats_df['last_date'] = user_stats_df['last_date'].astype('datetime64[ns]')\n",
        "user_stats_df['days_of_recency'] = (user_stats_df['last_date'] - oldest_ymd).dt.days"
      ],
      "execution_count": 13,
      "outputs": []
    },
    {
      "cell_type": "code",
      "metadata": {
        "colab": {
          "base_uri": "https://localhost:8080/",
          "height": 299
        },
        "id": "95hljKVOALZg",
        "outputId": "aa75df36-ffb5-419b-f0e5-83104d137030"
      },
      "source": [
        "user_stats_df.head()"
      ],
      "execution_count": 14,
      "outputs": [
        {
          "output_type": "execute_result",
          "data": {
            "text/html": [
              "<div>\n",
              "<style scoped>\n",
              "    .dataframe tbody tr th:only-of-type {\n",
              "        vertical-align: middle;\n",
              "    }\n",
              "\n",
              "    .dataframe tbody tr th {\n",
              "        vertical-align: top;\n",
              "    }\n",
              "\n",
              "    .dataframe thead th {\n",
              "        text-align: right;\n",
              "    }\n",
              "</style>\n",
              "<table border=\"1\" class=\"dataframe\">\n",
              "  <thead>\n",
              "    <tr style=\"text-align: right;\">\n",
              "      <th></th>\n",
              "      <th>user_id</th>\n",
              "      <th>membership_type</th>\n",
              "      <th>total_order_cnt</th>\n",
              "      <th>total_cost</th>\n",
              "      <th>avg_coupon_amt</th>\n",
              "      <th>avg_point_amt</th>\n",
              "      <th>weekly_order_cnt</th>\n",
              "      <th>monthly_order_cnt</th>\n",
              "      <th>avg_cost</th>\n",
              "      <th>avg_item_cost</th>\n",
              "      <th>last_date</th>\n",
              "      <th>days_of_recency</th>\n",
              "    </tr>\n",
              "  </thead>\n",
              "  <tbody>\n",
              "    <tr>\n",
              "      <th>0</th>\n",
              "      <td>q3qlSo1pvyacJoy</td>\n",
              "      <td>100</td>\n",
              "      <td>1.0</td>\n",
              "      <td>23800.0</td>\n",
              "      <td>0.0</td>\n",
              "      <td>0.0</td>\n",
              "      <td>1.000</td>\n",
              "      <td>1.00</td>\n",
              "      <td>23800.00</td>\n",
              "      <td>0.00</td>\n",
              "      <td>2020-04-05</td>\n",
              "      <td>96</td>\n",
              "    </tr>\n",
              "    <tr>\n",
              "      <th>1</th>\n",
              "      <td>JRy7QRK0UMFP81X</td>\n",
              "      <td>100</td>\n",
              "      <td>1.0</td>\n",
              "      <td>23000.0</td>\n",
              "      <td>0.0</td>\n",
              "      <td>0.0</td>\n",
              "      <td>1.000</td>\n",
              "      <td>1.00</td>\n",
              "      <td>23000.00</td>\n",
              "      <td>10000.00</td>\n",
              "      <td>2020-01-17</td>\n",
              "      <td>17</td>\n",
              "    </tr>\n",
              "    <tr>\n",
              "      <th>2</th>\n",
              "      <td>Z0IzeePX3LwQ2Ea</td>\n",
              "      <td>100</td>\n",
              "      <td>1.0</td>\n",
              "      <td>24000.0</td>\n",
              "      <td>0.0</td>\n",
              "      <td>0.0</td>\n",
              "      <td>1.000</td>\n",
              "      <td>1.00</td>\n",
              "      <td>24000.00</td>\n",
              "      <td>24000.00</td>\n",
              "      <td>2020-05-15</td>\n",
              "      <td>136</td>\n",
              "    </tr>\n",
              "    <tr>\n",
              "      <th>3</th>\n",
              "      <td>EoRzAGlei59fugN</td>\n",
              "      <td>100</td>\n",
              "      <td>1.0</td>\n",
              "      <td>22000.0</td>\n",
              "      <td>-5000.0</td>\n",
              "      <td>0.0</td>\n",
              "      <td>1.000</td>\n",
              "      <td>1.00</td>\n",
              "      <td>22000.00</td>\n",
              "      <td>14000.00</td>\n",
              "      <td>2020-03-02</td>\n",
              "      <td>62</td>\n",
              "    </tr>\n",
              "    <tr>\n",
              "      <th>4</th>\n",
              "      <td>zgQJlOYlFURl6ev</td>\n",
              "      <td>300</td>\n",
              "      <td>19.0</td>\n",
              "      <td>561200.0</td>\n",
              "      <td>0.0</td>\n",
              "      <td>0.0</td>\n",
              "      <td>2.375</td>\n",
              "      <td>4.75</td>\n",
              "      <td>29536.84</td>\n",
              "      <td>24615.79</td>\n",
              "      <td>2020-06-23</td>\n",
              "      <td>175</td>\n",
              "    </tr>\n",
              "  </tbody>\n",
              "</table>\n",
              "</div>"
            ],
            "text/plain": [
              "           user_id  membership_type  total_order_cnt  total_cost  \\\n",
              "0  q3qlSo1pvyacJoy              100              1.0     23800.0   \n",
              "1  JRy7QRK0UMFP81X              100              1.0     23000.0   \n",
              "2  Z0IzeePX3LwQ2Ea              100              1.0     24000.0   \n",
              "3  EoRzAGlei59fugN              100              1.0     22000.0   \n",
              "4  zgQJlOYlFURl6ev              300             19.0    561200.0   \n",
              "\n",
              "   avg_coupon_amt  avg_point_amt  weekly_order_cnt  monthly_order_cnt  \\\n",
              "0             0.0            0.0             1.000               1.00   \n",
              "1             0.0            0.0             1.000               1.00   \n",
              "2             0.0            0.0             1.000               1.00   \n",
              "3         -5000.0            0.0             1.000               1.00   \n",
              "4             0.0            0.0             2.375               4.75   \n",
              "\n",
              "   avg_cost  avg_item_cost  last_date  days_of_recency  \n",
              "0  23800.00           0.00 2020-04-05               96  \n",
              "1  23000.00       10000.00 2020-01-17               17  \n",
              "2  24000.00       24000.00 2020-05-15              136  \n",
              "3  22000.00       14000.00 2020-03-02               62  \n",
              "4  29536.84       24615.79 2020-06-23              175  "
            ]
          },
          "metadata": {
            "tags": []
          },
          "execution_count": 14
        }
      ]
    },
    {
      "cell_type": "code",
      "metadata": {
        "id": "9hwzHjYUAN-i"
      },
      "source": [
        ""
      ],
      "execution_count": 14,
      "outputs": []
    },
    {
      "cell_type": "markdown",
      "metadata": {
        "id": "QOjbtMoFAXxU"
      },
      "source": [
        "## 고객데이터 EDA\n"
      ]
    },
    {
      "cell_type": "code",
      "metadata": {
        "colab": {
          "base_uri": "https://localhost:8080/"
        },
        "id": "VATsizgqAZB6",
        "outputId": "12eba21b-f4bd-45a4-bcb5-642397e3ef2f"
      },
      "source": [
        "# 1. 컬럼별 Null 값이 있는가?\n",
        "\n",
        "user_meta_df.isna().sum()\n",
        "# user_meta_df.isnull().sum(axis=0) 같은방법"
      ],
      "execution_count": 15,
      "outputs": [
        {
          "output_type": "execute_result",
          "data": {
            "text/plain": [
              "user_id                 0\n",
              "sex                     0\n",
              "birthday_year           0\n",
              "membership_type         0\n",
              "category_prefer         0\n",
              "joined_date             0\n",
              "deleted_date            0\n",
              "join_path            2888\n",
              "os                      0\n",
              "recommended_cnt         0\n",
              "age                     0\n",
              "days_from_joined        0\n",
              "years_from_joined       0\n",
              "if_deleted              0\n",
              "dtype: int64"
            ]
          },
          "metadata": {
            "tags": []
          },
          "execution_count": 15
        }
      ]
    },
    {
      "cell_type": "code",
      "metadata": {
        "id": "SZwhqshLA1RI"
      },
      "source": [
        "# join path 는 위에서 보면 알 수 있듯이 null값은 일반가입을 의미함\n",
        "# 그래서 채워주기로 하자.\n",
        "user_meta_df['join_path'] = user_meta_df['join_path'].fillna(0)"
      ],
      "execution_count": 16,
      "outputs": []
    },
    {
      "cell_type": "code",
      "metadata": {
        "colab": {
          "base_uri": "https://localhost:8080/",
          "height": 47
        },
        "id": "V9vC09aWBJQn",
        "outputId": "4f6a9ddd-f104-48a3-fec2-0799070c085a"
      },
      "source": [
        "# 2. 고객 메타 데이터는 user_id 기준으로 unique 해야 되기 때문에 중복 데이터를 확인하자\n",
        "user_meta_df[user_meta_df.duplicated(['user_id'])]"
      ],
      "execution_count": 17,
      "outputs": [
        {
          "output_type": "execute_result",
          "data": {
            "text/html": [
              "<div>\n",
              "<style scoped>\n",
              "    .dataframe tbody tr th:only-of-type {\n",
              "        vertical-align: middle;\n",
              "    }\n",
              "\n",
              "    .dataframe tbody tr th {\n",
              "        vertical-align: top;\n",
              "    }\n",
              "\n",
              "    .dataframe thead th {\n",
              "        text-align: right;\n",
              "    }\n",
              "</style>\n",
              "<table border=\"1\" class=\"dataframe\">\n",
              "  <thead>\n",
              "    <tr style=\"text-align: right;\">\n",
              "      <th></th>\n",
              "      <th>user_id</th>\n",
              "      <th>sex</th>\n",
              "      <th>birthday_year</th>\n",
              "      <th>membership_type</th>\n",
              "      <th>category_prefer</th>\n",
              "      <th>joined_date</th>\n",
              "      <th>deleted_date</th>\n",
              "      <th>join_path</th>\n",
              "      <th>os</th>\n",
              "      <th>recommended_cnt</th>\n",
              "      <th>age</th>\n",
              "      <th>days_from_joined</th>\n",
              "      <th>years_from_joined</th>\n",
              "      <th>if_deleted</th>\n",
              "    </tr>\n",
              "  </thead>\n",
              "  <tbody>\n",
              "  </tbody>\n",
              "</table>\n",
              "</div>"
            ],
            "text/plain": [
              "Empty DataFrame\n",
              "Columns: [user_id, sex, birthday_year, membership_type, category_prefer, joined_date, deleted_date, join_path, os, recommended_cnt, age, days_from_joined, years_from_joined, if_deleted]\n",
              "Index: []"
            ]
          },
          "metadata": {
            "tags": []
          },
          "execution_count": 17
        }
      ]
    },
    {
      "cell_type": "code",
      "metadata": {
        "colab": {
          "base_uri": "https://localhost:8080/",
          "height": 422
        },
        "id": "iwFHYq_2Bajq",
        "outputId": "6b66c853-f3e4-40a5-86d0-d5b97d88b285"
      },
      "source": [
        "# 중복데이터가 있다면 지우자.\n",
        "user_meta_df.drop_duplicates(subset='user_id')"
      ],
      "execution_count": 18,
      "outputs": [
        {
          "output_type": "execute_result",
          "data": {
            "text/html": [
              "<div>\n",
              "<style scoped>\n",
              "    .dataframe tbody tr th:only-of-type {\n",
              "        vertical-align: middle;\n",
              "    }\n",
              "\n",
              "    .dataframe tbody tr th {\n",
              "        vertical-align: top;\n",
              "    }\n",
              "\n",
              "    .dataframe thead th {\n",
              "        text-align: right;\n",
              "    }\n",
              "</style>\n",
              "<table border=\"1\" class=\"dataframe\">\n",
              "  <thead>\n",
              "    <tr style=\"text-align: right;\">\n",
              "      <th></th>\n",
              "      <th>user_id</th>\n",
              "      <th>sex</th>\n",
              "      <th>birthday_year</th>\n",
              "      <th>membership_type</th>\n",
              "      <th>category_prefer</th>\n",
              "      <th>joined_date</th>\n",
              "      <th>deleted_date</th>\n",
              "      <th>join_path</th>\n",
              "      <th>os</th>\n",
              "      <th>recommended_cnt</th>\n",
              "      <th>age</th>\n",
              "      <th>days_from_joined</th>\n",
              "      <th>years_from_joined</th>\n",
              "      <th>if_deleted</th>\n",
              "    </tr>\n",
              "  </thead>\n",
              "  <tbody>\n",
              "    <tr>\n",
              "      <th>0</th>\n",
              "      <td>KjIRvUKVTgxGaek</td>\n",
              "      <td>0</td>\n",
              "      <td>1995</td>\n",
              "      <td>300</td>\n",
              "      <td>3</td>\n",
              "      <td>2019-09-09</td>\n",
              "      <td>NaT</td>\n",
              "      <td>0.0</td>\n",
              "      <td>AOS</td>\n",
              "      <td>4</td>\n",
              "      <td>27</td>\n",
              "      <td>480</td>\n",
              "      <td>1.3</td>\n",
              "      <td>0</td>\n",
              "    </tr>\n",
              "    <tr>\n",
              "      <th>1</th>\n",
              "      <td>QWhJIG1fOkhUJzG</td>\n",
              "      <td>1</td>\n",
              "      <td>1995</td>\n",
              "      <td>300</td>\n",
              "      <td>2</td>\n",
              "      <td>2020-04-13</td>\n",
              "      <td>NaT</td>\n",
              "      <td>0.0</td>\n",
              "      <td>AOS</td>\n",
              "      <td>1</td>\n",
              "      <td>27</td>\n",
              "      <td>263</td>\n",
              "      <td>0.7</td>\n",
              "      <td>0</td>\n",
              "    </tr>\n",
              "    <tr>\n",
              "      <th>2</th>\n",
              "      <td>5UD76uKfYNPTliG</td>\n",
              "      <td>1</td>\n",
              "      <td>1999</td>\n",
              "      <td>300</td>\n",
              "      <td>4</td>\n",
              "      <td>2018-12-18</td>\n",
              "      <td>NaT</td>\n",
              "      <td>0.0</td>\n",
              "      <td>AOS</td>\n",
              "      <td>6</td>\n",
              "      <td>23</td>\n",
              "      <td>745</td>\n",
              "      <td>2.0</td>\n",
              "      <td>0</td>\n",
              "    </tr>\n",
              "    <tr>\n",
              "      <th>3</th>\n",
              "      <td>lfpxRIsbmmt6mUQ</td>\n",
              "      <td>0</td>\n",
              "      <td>1998</td>\n",
              "      <td>300</td>\n",
              "      <td>7</td>\n",
              "      <td>2019-01-16</td>\n",
              "      <td>NaT</td>\n",
              "      <td>0.0</td>\n",
              "      <td>AOS</td>\n",
              "      <td>2</td>\n",
              "      <td>24</td>\n",
              "      <td>716</td>\n",
              "      <td>2.0</td>\n",
              "      <td>0</td>\n",
              "    </tr>\n",
              "    <tr>\n",
              "      <th>4</th>\n",
              "      <td>djGLdEHvJy17TDX</td>\n",
              "      <td>1</td>\n",
              "      <td>1999</td>\n",
              "      <td>300</td>\n",
              "      <td>6</td>\n",
              "      <td>2019-11-06</td>\n",
              "      <td>NaT</td>\n",
              "      <td>0.0</td>\n",
              "      <td>AOS</td>\n",
              "      <td>2</td>\n",
              "      <td>23</td>\n",
              "      <td>422</td>\n",
              "      <td>1.2</td>\n",
              "      <td>0</td>\n",
              "    </tr>\n",
              "    <tr>\n",
              "      <th>...</th>\n",
              "      <td>...</td>\n",
              "      <td>...</td>\n",
              "      <td>...</td>\n",
              "      <td>...</td>\n",
              "      <td>...</td>\n",
              "      <td>...</td>\n",
              "      <td>...</td>\n",
              "      <td>...</td>\n",
              "      <td>...</td>\n",
              "      <td>...</td>\n",
              "      <td>...</td>\n",
              "      <td>...</td>\n",
              "      <td>...</td>\n",
              "      <td>...</td>\n",
              "    </tr>\n",
              "    <tr>\n",
              "      <th>3407</th>\n",
              "      <td>K0qchcNENCEDzPH</td>\n",
              "      <td>1</td>\n",
              "      <td>1995</td>\n",
              "      <td>100</td>\n",
              "      <td>5</td>\n",
              "      <td>2019-02-08</td>\n",
              "      <td>NaT</td>\n",
              "      <td>0.0</td>\n",
              "      <td>AOS</td>\n",
              "      <td>3</td>\n",
              "      <td>27</td>\n",
              "      <td>693</td>\n",
              "      <td>1.9</td>\n",
              "      <td>0</td>\n",
              "    </tr>\n",
              "    <tr>\n",
              "      <th>3408</th>\n",
              "      <td>EgkSw32Hq7ueGrf</td>\n",
              "      <td>0</td>\n",
              "      <td>1981</td>\n",
              "      <td>100</td>\n",
              "      <td>0</td>\n",
              "      <td>2019-09-05</td>\n",
              "      <td>NaT</td>\n",
              "      <td>0.0</td>\n",
              "      <td>AOS</td>\n",
              "      <td>0</td>\n",
              "      <td>41</td>\n",
              "      <td>484</td>\n",
              "      <td>1.3</td>\n",
              "      <td>0</td>\n",
              "    </tr>\n",
              "    <tr>\n",
              "      <th>3409</th>\n",
              "      <td>wvzkibB8S2Oth9b</td>\n",
              "      <td>0</td>\n",
              "      <td>1978</td>\n",
              "      <td>100</td>\n",
              "      <td>0</td>\n",
              "      <td>2017-10-16</td>\n",
              "      <td>NaT</td>\n",
              "      <td>0.0</td>\n",
              "      <td>AOS</td>\n",
              "      <td>0</td>\n",
              "      <td>44</td>\n",
              "      <td>1173</td>\n",
              "      <td>3.2</td>\n",
              "      <td>0</td>\n",
              "    </tr>\n",
              "    <tr>\n",
              "      <th>3410</th>\n",
              "      <td>8WI83Ev0nnBfMB7</td>\n",
              "      <td>1</td>\n",
              "      <td>1988</td>\n",
              "      <td>100</td>\n",
              "      <td>8</td>\n",
              "      <td>2017-12-06</td>\n",
              "      <td>NaT</td>\n",
              "      <td>0.0</td>\n",
              "      <td>AOS</td>\n",
              "      <td>0</td>\n",
              "      <td>34</td>\n",
              "      <td>1122</td>\n",
              "      <td>3.1</td>\n",
              "      <td>0</td>\n",
              "    </tr>\n",
              "    <tr>\n",
              "      <th>3411</th>\n",
              "      <td>jat1krEScInB0Hx</td>\n",
              "      <td>1</td>\n",
              "      <td>1998</td>\n",
              "      <td>100</td>\n",
              "      <td>5</td>\n",
              "      <td>2020-06-19</td>\n",
              "      <td>NaT</td>\n",
              "      <td>0.0</td>\n",
              "      <td>IOS</td>\n",
              "      <td>2</td>\n",
              "      <td>24</td>\n",
              "      <td>196</td>\n",
              "      <td>0.5</td>\n",
              "      <td>0</td>\n",
              "    </tr>\n",
              "  </tbody>\n",
              "</table>\n",
              "<p>3412 rows × 14 columns</p>\n",
              "</div>"
            ],
            "text/plain": [
              "              user_id  sex  birthday_year  membership_type  category_prefer  \\\n",
              "0     KjIRvUKVTgxGaek    0           1995              300                3   \n",
              "1     QWhJIG1fOkhUJzG    1           1995              300                2   \n",
              "2     5UD76uKfYNPTliG    1           1999              300                4   \n",
              "3     lfpxRIsbmmt6mUQ    0           1998              300                7   \n",
              "4     djGLdEHvJy17TDX    1           1999              300                6   \n",
              "...               ...  ...            ...              ...              ...   \n",
              "3407  K0qchcNENCEDzPH    1           1995              100                5   \n",
              "3408  EgkSw32Hq7ueGrf    0           1981              100                0   \n",
              "3409  wvzkibB8S2Oth9b    0           1978              100                0   \n",
              "3410  8WI83Ev0nnBfMB7    1           1988              100                8   \n",
              "3411  jat1krEScInB0Hx    1           1998              100                5   \n",
              "\n",
              "     joined_date deleted_date  join_path   os  recommended_cnt  age  \\\n",
              "0     2019-09-09          NaT        0.0  AOS                4   27   \n",
              "1     2020-04-13          NaT        0.0  AOS                1   27   \n",
              "2     2018-12-18          NaT        0.0  AOS                6   23   \n",
              "3     2019-01-16          NaT        0.0  AOS                2   24   \n",
              "4     2019-11-06          NaT        0.0  AOS                2   23   \n",
              "...          ...          ...        ...  ...              ...  ...   \n",
              "3407  2019-02-08          NaT        0.0  AOS                3   27   \n",
              "3408  2019-09-05          NaT        0.0  AOS                0   41   \n",
              "3409  2017-10-16          NaT        0.0  AOS                0   44   \n",
              "3410  2017-12-06          NaT        0.0  AOS                0   34   \n",
              "3411  2020-06-19          NaT        0.0  IOS                2   24   \n",
              "\n",
              "      days_from_joined  years_from_joined  if_deleted  \n",
              "0                  480                1.3           0  \n",
              "1                  263                0.7           0  \n",
              "2                  745                2.0           0  \n",
              "3                  716                2.0           0  \n",
              "4                  422                1.2           0  \n",
              "...                ...                ...         ...  \n",
              "3407               693                1.9           0  \n",
              "3408               484                1.3           0  \n",
              "3409              1173                3.2           0  \n",
              "3410              1122                3.1           0  \n",
              "3411               196                0.5           0  \n",
              "\n",
              "[3412 rows x 14 columns]"
            ]
          },
          "metadata": {
            "tags": []
          },
          "execution_count": 18
        }
      ]
    },
    {
      "cell_type": "code",
      "metadata": {
        "colab": {
          "base_uri": "https://localhost:8080/"
        },
        "id": "Uh07GVPCBiQE",
        "outputId": "0b273a7d-aed7-4aae-c647-7f5b01bd72df"
      },
      "source": [
        "# 멤버쉽 타입별 분포를 확인해보자.\n",
        "\n",
        "type(user_meta_df.groupby(['membership_type'])[['user_id']].count()) # 대괄호 안에 두개 안에 넣으면 dataframe"
      ],
      "execution_count": 19,
      "outputs": [
        {
          "output_type": "execute_result",
          "data": {
            "text/plain": [
              "pandas.core.frame.DataFrame"
            ]
          },
          "metadata": {
            "tags": []
          },
          "execution_count": 19
        }
      ]
    },
    {
      "cell_type": "code",
      "metadata": {
        "colab": {
          "base_uri": "https://localhost:8080/"
        },
        "id": "yuGXmXK6BrpY",
        "outputId": "d008fbbb-3a9f-4c77-ad51-e92d05a508a3"
      },
      "source": [
        "type(user_meta_df.groupby(['membership_type'])['user_id'].count()) # 하나만 넣으면 series임."
      ],
      "execution_count": 20,
      "outputs": [
        {
          "output_type": "execute_result",
          "data": {
            "text/plain": [
              "pandas.core.series.Series"
            ]
          },
          "metadata": {
            "tags": []
          },
          "execution_count": 20
        }
      ]
    },
    {
      "cell_type": "code",
      "metadata": {
        "colab": {
          "base_uri": "https://localhost:8080/",
          "height": 195
        },
        "id": "2jXxf9jiB5nT",
        "outputId": "ef97451d-2f52-4c2d-ca6e-a22c7926c3e8"
      },
      "source": [
        "user_meta_df.groupby(['membership_type'])[['user_id']].count()"
      ],
      "execution_count": 21,
      "outputs": [
        {
          "output_type": "execute_result",
          "data": {
            "text/html": [
              "<div>\n",
              "<style scoped>\n",
              "    .dataframe tbody tr th:only-of-type {\n",
              "        vertical-align: middle;\n",
              "    }\n",
              "\n",
              "    .dataframe tbody tr th {\n",
              "        vertical-align: top;\n",
              "    }\n",
              "\n",
              "    .dataframe thead th {\n",
              "        text-align: right;\n",
              "    }\n",
              "</style>\n",
              "<table border=\"1\" class=\"dataframe\">\n",
              "  <thead>\n",
              "    <tr style=\"text-align: right;\">\n",
              "      <th></th>\n",
              "      <th>user_id</th>\n",
              "    </tr>\n",
              "    <tr>\n",
              "      <th>membership_type</th>\n",
              "      <th></th>\n",
              "    </tr>\n",
              "  </thead>\n",
              "  <tbody>\n",
              "    <tr>\n",
              "      <th>100</th>\n",
              "      <td>2667</td>\n",
              "    </tr>\n",
              "    <tr>\n",
              "      <th>300</th>\n",
              "      <td>513</td>\n",
              "    </tr>\n",
              "    <tr>\n",
              "      <th>400</th>\n",
              "      <td>126</td>\n",
              "    </tr>\n",
              "    <tr>\n",
              "      <th>500</th>\n",
              "      <td>106</td>\n",
              "    </tr>\n",
              "  </tbody>\n",
              "</table>\n",
              "</div>"
            ],
            "text/plain": [
              "                 user_id\n",
              "membership_type         \n",
              "100                 2667\n",
              "300                  513\n",
              "400                  126\n",
              "500                  106"
            ]
          },
          "metadata": {
            "tags": []
          },
          "execution_count": 21
        }
      ]
    },
    {
      "cell_type": "code",
      "metadata": {
        "colab": {
          "base_uri": "https://localhost:8080/"
        },
        "id": "Vl4HLvS3Choz",
        "outputId": "6d25f808-d175-4eb3-f9b7-2f482b8ab9f4"
      },
      "source": [
        "user_meta_df.columns"
      ],
      "execution_count": 22,
      "outputs": [
        {
          "output_type": "execute_result",
          "data": {
            "text/plain": [
              "Index(['user_id', 'sex', 'birthday_year', 'membership_type', 'category_prefer',\n",
              "       'joined_date', 'deleted_date', 'join_path', 'os', 'recommended_cnt',\n",
              "       'age', 'days_from_joined', 'years_from_joined', 'if_deleted'],\n",
              "      dtype='object')"
            ]
          },
          "metadata": {
            "tags": []
          },
          "execution_count": 22
        }
      ]
    },
    {
      "cell_type": "code",
      "metadata": {
        "colab": {
          "base_uri": "https://localhost:8080/",
          "height": 343
        },
        "id": "TstQb5H6B_na",
        "outputId": "d3c06512-e4ec-49c6-b23a-573e62e77ad0"
      },
      "source": [
        "# 가입기간에 따른 고객 분포 \n",
        "user_ct_from_join = user_meta_df.groupby(['years_from_joined'])[['user_id']].count().reset_index()\n",
        "user_ct_from_join[:10]"
      ],
      "execution_count": 23,
      "outputs": [
        {
          "output_type": "execute_result",
          "data": {
            "text/html": [
              "<div>\n",
              "<style scoped>\n",
              "    .dataframe tbody tr th:only-of-type {\n",
              "        vertical-align: middle;\n",
              "    }\n",
              "\n",
              "    .dataframe tbody tr th {\n",
              "        vertical-align: top;\n",
              "    }\n",
              "\n",
              "    .dataframe thead th {\n",
              "        text-align: right;\n",
              "    }\n",
              "</style>\n",
              "<table border=\"1\" class=\"dataframe\">\n",
              "  <thead>\n",
              "    <tr style=\"text-align: right;\">\n",
              "      <th></th>\n",
              "      <th>years_from_joined</th>\n",
              "      <th>user_id</th>\n",
              "    </tr>\n",
              "  </thead>\n",
              "  <tbody>\n",
              "    <tr>\n",
              "      <th>0</th>\n",
              "      <td>0.0</td>\n",
              "      <td>64</td>\n",
              "    </tr>\n",
              "    <tr>\n",
              "      <th>1</th>\n",
              "      <td>0.1</td>\n",
              "      <td>102</td>\n",
              "    </tr>\n",
              "    <tr>\n",
              "      <th>2</th>\n",
              "      <td>0.2</td>\n",
              "      <td>112</td>\n",
              "    </tr>\n",
              "    <tr>\n",
              "      <th>3</th>\n",
              "      <td>0.3</td>\n",
              "      <td>128</td>\n",
              "    </tr>\n",
              "    <tr>\n",
              "      <th>4</th>\n",
              "      <td>0.4</td>\n",
              "      <td>100</td>\n",
              "    </tr>\n",
              "    <tr>\n",
              "      <th>5</th>\n",
              "      <td>0.5</td>\n",
              "      <td>92</td>\n",
              "    </tr>\n",
              "    <tr>\n",
              "      <th>6</th>\n",
              "      <td>0.6</td>\n",
              "      <td>119</td>\n",
              "    </tr>\n",
              "    <tr>\n",
              "      <th>7</th>\n",
              "      <td>0.7</td>\n",
              "      <td>101</td>\n",
              "    </tr>\n",
              "    <tr>\n",
              "      <th>8</th>\n",
              "      <td>0.8</td>\n",
              "      <td>84</td>\n",
              "    </tr>\n",
              "    <tr>\n",
              "      <th>9</th>\n",
              "      <td>0.9</td>\n",
              "      <td>118</td>\n",
              "    </tr>\n",
              "  </tbody>\n",
              "</table>\n",
              "</div>"
            ],
            "text/plain": [
              "   years_from_joined  user_id\n",
              "0                0.0       64\n",
              "1                0.1      102\n",
              "2                0.2      112\n",
              "3                0.3      128\n",
              "4                0.4      100\n",
              "5                0.5       92\n",
              "6                0.6      119\n",
              "7                0.7      101\n",
              "8                0.8       84\n",
              "9                0.9      118"
            ]
          },
          "metadata": {
            "tags": []
          },
          "execution_count": 23
        }
      ]
    },
    {
      "cell_type": "code",
      "metadata": {
        "colab": {
          "base_uri": "https://localhost:8080/",
          "height": 229
        },
        "id": "lZ4I3EVDEm42",
        "outputId": "97c93e07-ded0-4dde-9ec2-6aee9b2c7225"
      },
      "source": [
        "plt.figure(figsize=(15,7))\n",
        "plt.bar(user_ct_from_join.years_from_joined, user_ct_from_join.user_id,\n",
        "        width=0.06, alpha=0.09, color='black')\n",
        "plt.show()\n"
      ],
      "execution_count": 24,
      "outputs": [
        {
          "output_type": "error",
          "ename": "NameError",
          "evalue": "ignored",
          "traceback": [
            "\u001b[0;31m---------------------------------------------------------------------------\u001b[0m",
            "\u001b[0;31mNameError\u001b[0m                                 Traceback (most recent call last)",
            "\u001b[0;32m<ipython-input-24-9ada74c8f226>\u001b[0m in \u001b[0;36m<module>\u001b[0;34m()\u001b[0m\n\u001b[0;32m----> 1\u001b[0;31m \u001b[0mplt\u001b[0m\u001b[0;34m.\u001b[0m\u001b[0mfigure\u001b[0m\u001b[0;34m(\u001b[0m\u001b[0mfigsize\u001b[0m\u001b[0;34m=\u001b[0m\u001b[0;34m(\u001b[0m\u001b[0;36m15\u001b[0m\u001b[0;34m,\u001b[0m\u001b[0;36m7\u001b[0m\u001b[0;34m)\u001b[0m\u001b[0;34m)\u001b[0m\u001b[0;34m\u001b[0m\u001b[0;34m\u001b[0m\u001b[0m\n\u001b[0m\u001b[1;32m      2\u001b[0m plt.bar(user_ct_from_join.years_from_joined, user_ct_from_join.user_id,\n\u001b[1;32m      3\u001b[0m         width=0.06, alpha=0.09, color='black')\n\u001b[1;32m      4\u001b[0m \u001b[0mplt\u001b[0m\u001b[0;34m.\u001b[0m\u001b[0mshow\u001b[0m\u001b[0;34m(\u001b[0m\u001b[0;34m)\u001b[0m\u001b[0;34m\u001b[0m\u001b[0;34m\u001b[0m\u001b[0m\n",
            "\u001b[0;31mNameError\u001b[0m: name 'plt' is not defined"
          ]
        }
      ]
    },
    {
      "cell_type": "code",
      "metadata": {
        "id": "IfB0dFUNFy49"
      },
      "source": [
        "fig  = px.bar(user_ct_from_join,\n",
        "              x = 'years_from_joined',\n",
        "              y = 'user_id')\n",
        "fig.update_layout(height = 500, width = 1000)\n",
        "fig.show()\n",
        "\n",
        "# 최근 가입한 유저가 많음."
      ],
      "execution_count": null,
      "outputs": []
    },
    {
      "cell_type": "code",
      "metadata": {
        "id": "z5ipeD3lHtYy"
      },
      "source": [
        "# 카테고리 선호 입력 수에 따른 고객 분포 확인\n",
        "user_ct_from_ctg = user_meta_df.groupby(['category_prefer'])[['user_id']].count().reset_index()\n",
        "fig  = px.bar(user_ct_from_ctg,\n",
        "              x = 'category_prefer',\n",
        "              y = 'user_id')\n",
        "fig.update_layout(height = 500, width = 1000)\n",
        "fig.show()"
      ],
      "execution_count": null,
      "outputs": []
    },
    {
      "cell_type": "code",
      "metadata": {
        "id": "ztZMa11iIIN8"
      },
      "source": [
        "user_meta_df.columns"
      ],
      "execution_count": null,
      "outputs": []
    },
    {
      "cell_type": "code",
      "metadata": {
        "colab": {
          "base_uri": "https://localhost:8080/",
          "height": 517
        },
        "id": "HF2gBnpNIK2O",
        "outputId": "b58ff6b2-1038-49c7-d4df-2402fc7d6090"
      },
      "source": [
        "# 친구 추천 횟수에 따른 고객 분포 확인\n",
        "user_ct_from_rcm = user_meta_df.groupby(['recommended_cnt'])[['user_id']].count().reset_index()\n",
        "fig  = px.bar(user_ct_from_rcm,\n",
        "              x = 'recommended_cnt',\n",
        "              y = 'user_id')\n",
        "fig.update_layout(height = 500, width = 1000)\n",
        "fig.show()"
      ],
      "execution_count": 25,
      "outputs": [
        {
          "output_type": "display_data",
          "data": {
            "text/html": [
              "<html>\n",
              "<head><meta charset=\"utf-8\" /></head>\n",
              "<body>\n",
              "    <div>\n",
              "            <script src=\"https://cdnjs.cloudflare.com/ajax/libs/mathjax/2.7.5/MathJax.js?config=TeX-AMS-MML_SVG\"></script><script type=\"text/javascript\">if (window.MathJax) {MathJax.Hub.Config({SVG: {font: \"STIX-Web\"}});}</script>\n",
              "                <script type=\"text/javascript\">window.PlotlyConfig = {MathJaxConfig: 'local'};</script>\n",
              "        <script src=\"https://cdn.plot.ly/plotly-latest.min.js\"></script>    \n",
              "            <div id=\"49ec2d27-c4fe-460c-b31c-2438410205cc\" class=\"plotly-graph-div\" style=\"height:500px; width:1000px;\"></div>\n",
              "            <script type=\"text/javascript\">\n",
              "                \n",
              "                    window.PLOTLYENV=window.PLOTLYENV || {};\n",
              "                    \n",
              "                if (document.getElementById(\"49ec2d27-c4fe-460c-b31c-2438410205cc\")) {\n",
              "                    Plotly.newPlot(\n",
              "                        '49ec2d27-c4fe-460c-b31c-2438410205cc',\n",
              "                        [{\"alignmentgroup\": \"True\", \"hoverlabel\": {\"namelength\": 0}, \"hovertemplate\": \"recommended_cnt=%{x}<br>user_id=%{y}\", \"legendgroup\": \"\", \"marker\": {\"color\": \"#636efa\"}, \"name\": \"\", \"offsetgroup\": \"\", \"orientation\": \"v\", \"showlegend\": false, \"textposition\": \"auto\", \"type\": \"bar\", \"x\": [0, 1, 2, 3, 4, 5, 6, 7, 8, 9, 10, 11, 12, 13, 14, 15, 16, 18, 19, 21], \"xaxis\": \"x\", \"y\": [1091, 439, 508, 494, 379, 227, 88, 58, 35, 27, 26, 14, 8, 8, 5, 1, 1, 1, 1, 1], \"yaxis\": \"y\"}],\n",
              "                        {\"barmode\": \"relative\", \"height\": 500, \"legend\": {\"tracegroupgap\": 0}, \"margin\": {\"t\": 60}, \"template\": {\"data\": {\"bar\": [{\"error_x\": {\"color\": \"#2a3f5f\"}, \"error_y\": {\"color\": \"#2a3f5f\"}, \"marker\": {\"line\": {\"color\": \"#E5ECF6\", \"width\": 0.5}}, \"type\": \"bar\"}], \"barpolar\": [{\"marker\": {\"line\": {\"color\": \"#E5ECF6\", \"width\": 0.5}}, \"type\": \"barpolar\"}], \"carpet\": [{\"aaxis\": {\"endlinecolor\": \"#2a3f5f\", \"gridcolor\": \"white\", \"linecolor\": \"white\", \"minorgridcolor\": \"white\", \"startlinecolor\": \"#2a3f5f\"}, \"baxis\": {\"endlinecolor\": \"#2a3f5f\", \"gridcolor\": \"white\", \"linecolor\": \"white\", \"minorgridcolor\": \"white\", \"startlinecolor\": \"#2a3f5f\"}, \"type\": \"carpet\"}], \"choropleth\": [{\"colorbar\": {\"outlinewidth\": 0, \"ticks\": \"\"}, \"type\": \"choropleth\"}], \"contour\": [{\"colorbar\": {\"outlinewidth\": 0, \"ticks\": \"\"}, \"colorscale\": [[0.0, \"#0d0887\"], [0.1111111111111111, \"#46039f\"], [0.2222222222222222, \"#7201a8\"], [0.3333333333333333, \"#9c179e\"], [0.4444444444444444, \"#bd3786\"], [0.5555555555555556, \"#d8576b\"], [0.6666666666666666, \"#ed7953\"], [0.7777777777777778, \"#fb9f3a\"], [0.8888888888888888, \"#fdca26\"], [1.0, \"#f0f921\"]], \"type\": \"contour\"}], \"contourcarpet\": [{\"colorbar\": {\"outlinewidth\": 0, \"ticks\": \"\"}, \"type\": \"contourcarpet\"}], \"heatmap\": [{\"colorbar\": {\"outlinewidth\": 0, \"ticks\": \"\"}, \"colorscale\": [[0.0, \"#0d0887\"], [0.1111111111111111, \"#46039f\"], [0.2222222222222222, \"#7201a8\"], [0.3333333333333333, \"#9c179e\"], [0.4444444444444444, \"#bd3786\"], [0.5555555555555556, \"#d8576b\"], [0.6666666666666666, \"#ed7953\"], [0.7777777777777778, \"#fb9f3a\"], [0.8888888888888888, \"#fdca26\"], [1.0, \"#f0f921\"]], \"type\": \"heatmap\"}], \"heatmapgl\": [{\"colorbar\": {\"outlinewidth\": 0, \"ticks\": \"\"}, \"colorscale\": [[0.0, \"#0d0887\"], [0.1111111111111111, \"#46039f\"], [0.2222222222222222, \"#7201a8\"], [0.3333333333333333, \"#9c179e\"], [0.4444444444444444, \"#bd3786\"], [0.5555555555555556, \"#d8576b\"], [0.6666666666666666, \"#ed7953\"], [0.7777777777777778, \"#fb9f3a\"], [0.8888888888888888, \"#fdca26\"], [1.0, \"#f0f921\"]], \"type\": \"heatmapgl\"}], \"histogram\": [{\"marker\": {\"colorbar\": {\"outlinewidth\": 0, \"ticks\": \"\"}}, \"type\": \"histogram\"}], \"histogram2d\": [{\"colorbar\": {\"outlinewidth\": 0, \"ticks\": \"\"}, \"colorscale\": [[0.0, \"#0d0887\"], [0.1111111111111111, \"#46039f\"], [0.2222222222222222, \"#7201a8\"], [0.3333333333333333, \"#9c179e\"], [0.4444444444444444, \"#bd3786\"], [0.5555555555555556, \"#d8576b\"], [0.6666666666666666, \"#ed7953\"], [0.7777777777777778, \"#fb9f3a\"], [0.8888888888888888, \"#fdca26\"], [1.0, \"#f0f921\"]], \"type\": \"histogram2d\"}], \"histogram2dcontour\": [{\"colorbar\": {\"outlinewidth\": 0, \"ticks\": \"\"}, \"colorscale\": [[0.0, \"#0d0887\"], [0.1111111111111111, \"#46039f\"], [0.2222222222222222, \"#7201a8\"], [0.3333333333333333, \"#9c179e\"], [0.4444444444444444, \"#bd3786\"], [0.5555555555555556, \"#d8576b\"], [0.6666666666666666, \"#ed7953\"], [0.7777777777777778, \"#fb9f3a\"], [0.8888888888888888, \"#fdca26\"], [1.0, \"#f0f921\"]], \"type\": \"histogram2dcontour\"}], \"mesh3d\": [{\"colorbar\": {\"outlinewidth\": 0, \"ticks\": \"\"}, \"type\": \"mesh3d\"}], \"parcoords\": [{\"line\": {\"colorbar\": {\"outlinewidth\": 0, \"ticks\": \"\"}}, \"type\": \"parcoords\"}], \"pie\": [{\"automargin\": true, \"type\": \"pie\"}], \"scatter\": [{\"marker\": {\"colorbar\": {\"outlinewidth\": 0, \"ticks\": \"\"}}, \"type\": \"scatter\"}], \"scatter3d\": [{\"line\": {\"colorbar\": {\"outlinewidth\": 0, \"ticks\": \"\"}}, \"marker\": {\"colorbar\": {\"outlinewidth\": 0, \"ticks\": \"\"}}, \"type\": \"scatter3d\"}], \"scattercarpet\": [{\"marker\": {\"colorbar\": {\"outlinewidth\": 0, \"ticks\": \"\"}}, \"type\": \"scattercarpet\"}], \"scattergeo\": [{\"marker\": {\"colorbar\": {\"outlinewidth\": 0, \"ticks\": \"\"}}, \"type\": \"scattergeo\"}], \"scattergl\": [{\"marker\": {\"colorbar\": {\"outlinewidth\": 0, \"ticks\": \"\"}}, \"type\": \"scattergl\"}], \"scattermapbox\": [{\"marker\": {\"colorbar\": {\"outlinewidth\": 0, \"ticks\": \"\"}}, \"type\": \"scattermapbox\"}], \"scatterpolar\": [{\"marker\": {\"colorbar\": {\"outlinewidth\": 0, \"ticks\": \"\"}}, \"type\": \"scatterpolar\"}], \"scatterpolargl\": [{\"marker\": {\"colorbar\": {\"outlinewidth\": 0, \"ticks\": \"\"}}, \"type\": \"scatterpolargl\"}], \"scatterternary\": [{\"marker\": {\"colorbar\": {\"outlinewidth\": 0, \"ticks\": \"\"}}, \"type\": \"scatterternary\"}], \"surface\": [{\"colorbar\": {\"outlinewidth\": 0, \"ticks\": \"\"}, \"colorscale\": [[0.0, \"#0d0887\"], [0.1111111111111111, \"#46039f\"], [0.2222222222222222, \"#7201a8\"], [0.3333333333333333, \"#9c179e\"], [0.4444444444444444, \"#bd3786\"], [0.5555555555555556, \"#d8576b\"], [0.6666666666666666, \"#ed7953\"], [0.7777777777777778, \"#fb9f3a\"], [0.8888888888888888, \"#fdca26\"], [1.0, \"#f0f921\"]], \"type\": \"surface\"}], \"table\": [{\"cells\": {\"fill\": {\"color\": \"#EBF0F8\"}, \"line\": {\"color\": \"white\"}}, \"header\": {\"fill\": {\"color\": \"#C8D4E3\"}, \"line\": {\"color\": \"white\"}}, \"type\": \"table\"}]}, \"layout\": {\"annotationdefaults\": {\"arrowcolor\": \"#2a3f5f\", \"arrowhead\": 0, \"arrowwidth\": 1}, \"coloraxis\": {\"colorbar\": {\"outlinewidth\": 0, \"ticks\": \"\"}}, \"colorscale\": {\"diverging\": [[0, \"#8e0152\"], [0.1, \"#c51b7d\"], [0.2, \"#de77ae\"], [0.3, \"#f1b6da\"], [0.4, \"#fde0ef\"], [0.5, \"#f7f7f7\"], [0.6, \"#e6f5d0\"], [0.7, \"#b8e186\"], [0.8, \"#7fbc41\"], [0.9, \"#4d9221\"], [1, \"#276419\"]], \"sequential\": [[0.0, \"#0d0887\"], [0.1111111111111111, \"#46039f\"], [0.2222222222222222, \"#7201a8\"], [0.3333333333333333, \"#9c179e\"], [0.4444444444444444, \"#bd3786\"], [0.5555555555555556, \"#d8576b\"], [0.6666666666666666, \"#ed7953\"], [0.7777777777777778, \"#fb9f3a\"], [0.8888888888888888, \"#fdca26\"], [1.0, \"#f0f921\"]], \"sequentialminus\": [[0.0, \"#0d0887\"], [0.1111111111111111, \"#46039f\"], [0.2222222222222222, \"#7201a8\"], [0.3333333333333333, \"#9c179e\"], [0.4444444444444444, \"#bd3786\"], [0.5555555555555556, \"#d8576b\"], [0.6666666666666666, \"#ed7953\"], [0.7777777777777778, \"#fb9f3a\"], [0.8888888888888888, \"#fdca26\"], [1.0, \"#f0f921\"]]}, \"colorway\": [\"#636efa\", \"#EF553B\", \"#00cc96\", \"#ab63fa\", \"#FFA15A\", \"#19d3f3\", \"#FF6692\", \"#B6E880\", \"#FF97FF\", \"#FECB52\"], \"font\": {\"color\": \"#2a3f5f\"}, \"geo\": {\"bgcolor\": \"white\", \"lakecolor\": \"white\", \"landcolor\": \"#E5ECF6\", \"showlakes\": true, \"showland\": true, \"subunitcolor\": \"white\"}, \"hoverlabel\": {\"align\": \"left\"}, \"hovermode\": \"closest\", \"mapbox\": {\"style\": \"light\"}, \"paper_bgcolor\": \"white\", \"plot_bgcolor\": \"#E5ECF6\", \"polar\": {\"angularaxis\": {\"gridcolor\": \"white\", \"linecolor\": \"white\", \"ticks\": \"\"}, \"bgcolor\": \"#E5ECF6\", \"radialaxis\": {\"gridcolor\": \"white\", \"linecolor\": \"white\", \"ticks\": \"\"}}, \"scene\": {\"xaxis\": {\"backgroundcolor\": \"#E5ECF6\", \"gridcolor\": \"white\", \"gridwidth\": 2, \"linecolor\": \"white\", \"showbackground\": true, \"ticks\": \"\", \"zerolinecolor\": \"white\"}, \"yaxis\": {\"backgroundcolor\": \"#E5ECF6\", \"gridcolor\": \"white\", \"gridwidth\": 2, \"linecolor\": \"white\", \"showbackground\": true, \"ticks\": \"\", \"zerolinecolor\": \"white\"}, \"zaxis\": {\"backgroundcolor\": \"#E5ECF6\", \"gridcolor\": \"white\", \"gridwidth\": 2, \"linecolor\": \"white\", \"showbackground\": true, \"ticks\": \"\", \"zerolinecolor\": \"white\"}}, \"shapedefaults\": {\"line\": {\"color\": \"#2a3f5f\"}}, \"ternary\": {\"aaxis\": {\"gridcolor\": \"white\", \"linecolor\": \"white\", \"ticks\": \"\"}, \"baxis\": {\"gridcolor\": \"white\", \"linecolor\": \"white\", \"ticks\": \"\"}, \"bgcolor\": \"#E5ECF6\", \"caxis\": {\"gridcolor\": \"white\", \"linecolor\": \"white\", \"ticks\": \"\"}}, \"title\": {\"x\": 0.05}, \"xaxis\": {\"automargin\": true, \"gridcolor\": \"white\", \"linecolor\": \"white\", \"ticks\": \"\", \"title\": {\"standoff\": 15}, \"zerolinecolor\": \"white\", \"zerolinewidth\": 2}, \"yaxis\": {\"automargin\": true, \"gridcolor\": \"white\", \"linecolor\": \"white\", \"ticks\": \"\", \"title\": {\"standoff\": 15}, \"zerolinecolor\": \"white\", \"zerolinewidth\": 2}}}, \"width\": 1000, \"xaxis\": {\"anchor\": \"y\", \"domain\": [0.0, 1.0], \"title\": {\"text\": \"recommended_cnt\"}}, \"yaxis\": {\"anchor\": \"x\", \"domain\": [0.0, 1.0], \"title\": {\"text\": \"user_id\"}}},\n",
              "                        {\"responsive\": true}\n",
              "                    ).then(function(){\n",
              "                            \n",
              "var gd = document.getElementById('49ec2d27-c4fe-460c-b31c-2438410205cc');\n",
              "var x = new MutationObserver(function (mutations, observer) {{\n",
              "        var display = window.getComputedStyle(gd).display;\n",
              "        if (!display || display === 'none') {{\n",
              "            console.log([gd, 'removed!']);\n",
              "            Plotly.purge(gd);\n",
              "            observer.disconnect();\n",
              "        }}\n",
              "}});\n",
              "\n",
              "// Listen for the removal of the full notebook cells\n",
              "var notebookContainer = gd.closest('#notebook-container');\n",
              "if (notebookContainer) {{\n",
              "    x.observe(notebookContainer, {childList: true});\n",
              "}}\n",
              "\n",
              "// Listen for the clearing of the current output cell\n",
              "var outputEl = gd.closest('.output');\n",
              "if (outputEl) {{\n",
              "    x.observe(outputEl, {childList: true});\n",
              "}}\n",
              "\n",
              "                        })\n",
              "                };\n",
              "                \n",
              "            </script>\n",
              "        </div>\n",
              "</body>\n",
              "</html>"
            ]
          },
          "metadata": {
            "tags": []
          }
        }
      ]
    },
    {
      "cell_type": "code",
      "metadata": {
        "id": "a37BQ-uBIeYK"
      },
      "source": [
        "# 변수간 상관관계 살펴보기\n",
        "corr_matrix = user_meta_df.corr()"
      ],
      "execution_count": 26,
      "outputs": []
    },
    {
      "cell_type": "code",
      "metadata": {
        "colab": {
          "base_uri": "https://localhost:8080/",
          "height": 343
        },
        "id": "ow1LNwB5I1UT",
        "outputId": "c17ce406-3a7b-4936-d3cc-37bfc9465d7d"
      },
      "source": [
        "corr_matrix[abs(corr_matrix>=0.5)]"
      ],
      "execution_count": 27,
      "outputs": [
        {
          "output_type": "execute_result",
          "data": {
            "text/html": [
              "<div>\n",
              "<style scoped>\n",
              "    .dataframe tbody tr th:only-of-type {\n",
              "        vertical-align: middle;\n",
              "    }\n",
              "\n",
              "    .dataframe tbody tr th {\n",
              "        vertical-align: top;\n",
              "    }\n",
              "\n",
              "    .dataframe thead th {\n",
              "        text-align: right;\n",
              "    }\n",
              "</style>\n",
              "<table border=\"1\" class=\"dataframe\">\n",
              "  <thead>\n",
              "    <tr style=\"text-align: right;\">\n",
              "      <th></th>\n",
              "      <th>sex</th>\n",
              "      <th>birthday_year</th>\n",
              "      <th>membership_type</th>\n",
              "      <th>category_prefer</th>\n",
              "      <th>join_path</th>\n",
              "      <th>recommended_cnt</th>\n",
              "      <th>age</th>\n",
              "      <th>days_from_joined</th>\n",
              "      <th>years_from_joined</th>\n",
              "      <th>if_deleted</th>\n",
              "    </tr>\n",
              "  </thead>\n",
              "  <tbody>\n",
              "    <tr>\n",
              "      <th>sex</th>\n",
              "      <td>1.0</td>\n",
              "      <td>NaN</td>\n",
              "      <td>NaN</td>\n",
              "      <td>NaN</td>\n",
              "      <td>NaN</td>\n",
              "      <td>NaN</td>\n",
              "      <td>NaN</td>\n",
              "      <td>NaN</td>\n",
              "      <td>NaN</td>\n",
              "      <td>NaN</td>\n",
              "    </tr>\n",
              "    <tr>\n",
              "      <th>birthday_year</th>\n",
              "      <td>NaN</td>\n",
              "      <td>1.000000</td>\n",
              "      <td>NaN</td>\n",
              "      <td>0.504292</td>\n",
              "      <td>NaN</td>\n",
              "      <td>NaN</td>\n",
              "      <td>NaN</td>\n",
              "      <td>NaN</td>\n",
              "      <td>NaN</td>\n",
              "      <td>NaN</td>\n",
              "    </tr>\n",
              "    <tr>\n",
              "      <th>membership_type</th>\n",
              "      <td>NaN</td>\n",
              "      <td>NaN</td>\n",
              "      <td>1.0</td>\n",
              "      <td>NaN</td>\n",
              "      <td>NaN</td>\n",
              "      <td>NaN</td>\n",
              "      <td>NaN</td>\n",
              "      <td>NaN</td>\n",
              "      <td>NaN</td>\n",
              "      <td>NaN</td>\n",
              "    </tr>\n",
              "    <tr>\n",
              "      <th>category_prefer</th>\n",
              "      <td>NaN</td>\n",
              "      <td>0.504292</td>\n",
              "      <td>NaN</td>\n",
              "      <td>1.000000</td>\n",
              "      <td>NaN</td>\n",
              "      <td>NaN</td>\n",
              "      <td>NaN</td>\n",
              "      <td>NaN</td>\n",
              "      <td>NaN</td>\n",
              "      <td>NaN</td>\n",
              "    </tr>\n",
              "    <tr>\n",
              "      <th>join_path</th>\n",
              "      <td>NaN</td>\n",
              "      <td>NaN</td>\n",
              "      <td>NaN</td>\n",
              "      <td>NaN</td>\n",
              "      <td>1.0</td>\n",
              "      <td>NaN</td>\n",
              "      <td>NaN</td>\n",
              "      <td>NaN</td>\n",
              "      <td>NaN</td>\n",
              "      <td>NaN</td>\n",
              "    </tr>\n",
              "    <tr>\n",
              "      <th>recommended_cnt</th>\n",
              "      <td>NaN</td>\n",
              "      <td>NaN</td>\n",
              "      <td>NaN</td>\n",
              "      <td>NaN</td>\n",
              "      <td>NaN</td>\n",
              "      <td>1.0</td>\n",
              "      <td>NaN</td>\n",
              "      <td>NaN</td>\n",
              "      <td>NaN</td>\n",
              "      <td>NaN</td>\n",
              "    </tr>\n",
              "    <tr>\n",
              "      <th>age</th>\n",
              "      <td>NaN</td>\n",
              "      <td>NaN</td>\n",
              "      <td>NaN</td>\n",
              "      <td>NaN</td>\n",
              "      <td>NaN</td>\n",
              "      <td>NaN</td>\n",
              "      <td>1.0</td>\n",
              "      <td>NaN</td>\n",
              "      <td>NaN</td>\n",
              "      <td>NaN</td>\n",
              "    </tr>\n",
              "    <tr>\n",
              "      <th>days_from_joined</th>\n",
              "      <td>NaN</td>\n",
              "      <td>NaN</td>\n",
              "      <td>NaN</td>\n",
              "      <td>NaN</td>\n",
              "      <td>NaN</td>\n",
              "      <td>NaN</td>\n",
              "      <td>NaN</td>\n",
              "      <td>1.000000</td>\n",
              "      <td>0.999718</td>\n",
              "      <td>NaN</td>\n",
              "    </tr>\n",
              "    <tr>\n",
              "      <th>years_from_joined</th>\n",
              "      <td>NaN</td>\n",
              "      <td>NaN</td>\n",
              "      <td>NaN</td>\n",
              "      <td>NaN</td>\n",
              "      <td>NaN</td>\n",
              "      <td>NaN</td>\n",
              "      <td>NaN</td>\n",
              "      <td>0.999718</td>\n",
              "      <td>1.000000</td>\n",
              "      <td>NaN</td>\n",
              "    </tr>\n",
              "    <tr>\n",
              "      <th>if_deleted</th>\n",
              "      <td>NaN</td>\n",
              "      <td>NaN</td>\n",
              "      <td>NaN</td>\n",
              "      <td>NaN</td>\n",
              "      <td>NaN</td>\n",
              "      <td>NaN</td>\n",
              "      <td>NaN</td>\n",
              "      <td>NaN</td>\n",
              "      <td>NaN</td>\n",
              "      <td>1.0</td>\n",
              "    </tr>\n",
              "  </tbody>\n",
              "</table>\n",
              "</div>"
            ],
            "text/plain": [
              "                   sex  birthday_year  membership_type  category_prefer  \\\n",
              "sex                1.0            NaN              NaN              NaN   \n",
              "birthday_year      NaN       1.000000              NaN         0.504292   \n",
              "membership_type    NaN            NaN              1.0              NaN   \n",
              "category_prefer    NaN       0.504292              NaN         1.000000   \n",
              "join_path          NaN            NaN              NaN              NaN   \n",
              "recommended_cnt    NaN            NaN              NaN              NaN   \n",
              "age                NaN            NaN              NaN              NaN   \n",
              "days_from_joined   NaN            NaN              NaN              NaN   \n",
              "years_from_joined  NaN            NaN              NaN              NaN   \n",
              "if_deleted         NaN            NaN              NaN              NaN   \n",
              "\n",
              "                   join_path  recommended_cnt  age  days_from_joined  \\\n",
              "sex                      NaN              NaN  NaN               NaN   \n",
              "birthday_year            NaN              NaN  NaN               NaN   \n",
              "membership_type          NaN              NaN  NaN               NaN   \n",
              "category_prefer          NaN              NaN  NaN               NaN   \n",
              "join_path                1.0              NaN  NaN               NaN   \n",
              "recommended_cnt          NaN              1.0  NaN               NaN   \n",
              "age                      NaN              NaN  1.0               NaN   \n",
              "days_from_joined         NaN              NaN  NaN          1.000000   \n",
              "years_from_joined        NaN              NaN  NaN          0.999718   \n",
              "if_deleted               NaN              NaN  NaN               NaN   \n",
              "\n",
              "                   years_from_joined  if_deleted  \n",
              "sex                              NaN         NaN  \n",
              "birthday_year                    NaN         NaN  \n",
              "membership_type                  NaN         NaN  \n",
              "category_prefer                  NaN         NaN  \n",
              "join_path                        NaN         NaN  \n",
              "recommended_cnt                  NaN         NaN  \n",
              "age                              NaN         NaN  \n",
              "days_from_joined            0.999718         NaN  \n",
              "years_from_joined           1.000000         NaN  \n",
              "if_deleted                       NaN         1.0  "
            ]
          },
          "metadata": {
            "tags": []
          },
          "execution_count": 27
        }
      ]
    },
    {
      "cell_type": "code",
      "metadata": {
        "colab": {
          "base_uri": "https://localhost:8080/",
          "height": 238
        },
        "id": "9XUqJmPvdsJo",
        "outputId": "12029fb5-752f-4dc4-e12e-0b5d4092ec82"
      },
      "source": [
        "# 히트맵으로 봐보자\n",
        "corr_matrix.style.background_gradient()"
      ],
      "execution_count": 28,
      "outputs": [
        {
          "output_type": "execute_result",
          "data": {
            "text/html": [
              "<style  type=\"text/css\" >\n",
              "#T_1680cee6_a904_11eb_be74_0242ac1c0002row0_col0,#T_1680cee6_a904_11eb_be74_0242ac1c0002row1_col1,#T_1680cee6_a904_11eb_be74_0242ac1c0002row2_col2,#T_1680cee6_a904_11eb_be74_0242ac1c0002row3_col3,#T_1680cee6_a904_11eb_be74_0242ac1c0002row4_col4,#T_1680cee6_a904_11eb_be74_0242ac1c0002row5_col5,#T_1680cee6_a904_11eb_be74_0242ac1c0002row6_col6,#T_1680cee6_a904_11eb_be74_0242ac1c0002row7_col7,#T_1680cee6_a904_11eb_be74_0242ac1c0002row7_col8,#T_1680cee6_a904_11eb_be74_0242ac1c0002row8_col7,#T_1680cee6_a904_11eb_be74_0242ac1c0002row8_col8,#T_1680cee6_a904_11eb_be74_0242ac1c0002row9_col9{\n",
              "            background-color:  #023858;\n",
              "            color:  #f1f1f1;\n",
              "        }#T_1680cee6_a904_11eb_be74_0242ac1c0002row0_col1{\n",
              "            background-color:  #75a9cf;\n",
              "            color:  #000000;\n",
              "        }#T_1680cee6_a904_11eb_be74_0242ac1c0002row0_col2,#T_1680cee6_a904_11eb_be74_0242ac1c0002row1_col4{\n",
              "            background-color:  #f5eef6;\n",
              "            color:  #000000;\n",
              "        }#T_1680cee6_a904_11eb_be74_0242ac1c0002row0_col3,#T_1680cee6_a904_11eb_be74_0242ac1c0002row7_col3,#T_1680cee6_a904_11eb_be74_0242ac1c0002row8_col3{\n",
              "            background-color:  #b5c4df;\n",
              "            color:  #000000;\n",
              "        }#T_1680cee6_a904_11eb_be74_0242ac1c0002row0_col4,#T_1680cee6_a904_11eb_be74_0242ac1c0002row5_col2{\n",
              "            background-color:  #f8f1f8;\n",
              "            color:  #000000;\n",
              "        }#T_1680cee6_a904_11eb_be74_0242ac1c0002row0_col5{\n",
              "            background-color:  #dddbec;\n",
              "            color:  #000000;\n",
              "        }#T_1680cee6_a904_11eb_be74_0242ac1c0002row0_col6{\n",
              "            background-color:  #73a9cf;\n",
              "            color:  #000000;\n",
              "        }#T_1680cee6_a904_11eb_be74_0242ac1c0002row0_col7,#T_1680cee6_a904_11eb_be74_0242ac1c0002row0_col8{\n",
              "            background-color:  #efe9f3;\n",
              "            color:  #000000;\n",
              "        }#T_1680cee6_a904_11eb_be74_0242ac1c0002row0_col9,#T_1680cee6_a904_11eb_be74_0242ac1c0002row6_col0{\n",
              "            background-color:  #fcf4fa;\n",
              "            color:  #000000;\n",
              "        }#T_1680cee6_a904_11eb_be74_0242ac1c0002row1_col0,#T_1680cee6_a904_11eb_be74_0242ac1c0002row2_col0,#T_1680cee6_a904_11eb_be74_0242ac1c0002row3_col2,#T_1680cee6_a904_11eb_be74_0242ac1c0002row9_col0{\n",
              "            background-color:  #fdf5fa;\n",
              "            color:  #000000;\n",
              "        }#T_1680cee6_a904_11eb_be74_0242ac1c0002row1_col2,#T_1680cee6_a904_11eb_be74_0242ac1c0002row1_col6,#T_1680cee6_a904_11eb_be74_0242ac1c0002row1_col7,#T_1680cee6_a904_11eb_be74_0242ac1c0002row1_col8,#T_1680cee6_a904_11eb_be74_0242ac1c0002row4_col0,#T_1680cee6_a904_11eb_be74_0242ac1c0002row4_col9,#T_1680cee6_a904_11eb_be74_0242ac1c0002row5_col0,#T_1680cee6_a904_11eb_be74_0242ac1c0002row6_col1,#T_1680cee6_a904_11eb_be74_0242ac1c0002row6_col3,#T_1680cee6_a904_11eb_be74_0242ac1c0002row6_col5,#T_1680cee6_a904_11eb_be74_0242ac1c0002row6_col9,#T_1680cee6_a904_11eb_be74_0242ac1c0002row7_col0,#T_1680cee6_a904_11eb_be74_0242ac1c0002row7_col4,#T_1680cee6_a904_11eb_be74_0242ac1c0002row8_col0,#T_1680cee6_a904_11eb_be74_0242ac1c0002row8_col4{\n",
              "            background-color:  #fff7fb;\n",
              "            color:  #000000;\n",
              "        }#T_1680cee6_a904_11eb_be74_0242ac1c0002row1_col3{\n",
              "            background-color:  #2484ba;\n",
              "            color:  #000000;\n",
              "        }#T_1680cee6_a904_11eb_be74_0242ac1c0002row1_col5{\n",
              "            background-color:  #97b7d7;\n",
              "            color:  #000000;\n",
              "        }#T_1680cee6_a904_11eb_be74_0242ac1c0002row1_col9,#T_1680cee6_a904_11eb_be74_0242ac1c0002row9_col4{\n",
              "            background-color:  #f9f2f8;\n",
              "            color:  #000000;\n",
              "        }#T_1680cee6_a904_11eb_be74_0242ac1c0002row2_col1{\n",
              "            background-color:  #81aed2;\n",
              "            color:  #000000;\n",
              "        }#T_1680cee6_a904_11eb_be74_0242ac1c0002row2_col3{\n",
              "            background-color:  #c0c9e2;\n",
              "            color:  #000000;\n",
              "        }#T_1680cee6_a904_11eb_be74_0242ac1c0002row2_col4{\n",
              "            background-color:  #f3edf5;\n",
              "            color:  #000000;\n",
              "        }#T_1680cee6_a904_11eb_be74_0242ac1c0002row2_col5{\n",
              "            background-color:  #dedcec;\n",
              "            color:  #000000;\n",
              "        }#T_1680cee6_a904_11eb_be74_0242ac1c0002row2_col6{\n",
              "            background-color:  #63a2cb;\n",
              "            color:  #000000;\n",
              "        }#T_1680cee6_a904_11eb_be74_0242ac1c0002row2_col7,#T_1680cee6_a904_11eb_be74_0242ac1c0002row2_col8{\n",
              "            background-color:  #e6e2ef;\n",
              "            color:  #000000;\n",
              "        }#T_1680cee6_a904_11eb_be74_0242ac1c0002row2_col9,#T_1680cee6_a904_11eb_be74_0242ac1c0002row5_col9{\n",
              "            background-color:  #fbf3f9;\n",
              "            color:  #000000;\n",
              "        }#T_1680cee6_a904_11eb_be74_0242ac1c0002row3_col0,#T_1680cee6_a904_11eb_be74_0242ac1c0002row7_col9,#T_1680cee6_a904_11eb_be74_0242ac1c0002row8_col9{\n",
              "            background-color:  #fef6fa;\n",
              "            color:  #000000;\n",
              "        }#T_1680cee6_a904_11eb_be74_0242ac1c0002row3_col1{\n",
              "            background-color:  #056faf;\n",
              "            color:  #f1f1f1;\n",
              "        }#T_1680cee6_a904_11eb_be74_0242ac1c0002row3_col4{\n",
              "            background-color:  #f6eff7;\n",
              "            color:  #000000;\n",
              "        }#T_1680cee6_a904_11eb_be74_0242ac1c0002row3_col5{\n",
              "            background-color:  #b1c2de;\n",
              "            color:  #000000;\n",
              "        }#T_1680cee6_a904_11eb_be74_0242ac1c0002row3_col6{\n",
              "            background-color:  #d1d2e6;\n",
              "            color:  #000000;\n",
              "        }#T_1680cee6_a904_11eb_be74_0242ac1c0002row3_col7,#T_1680cee6_a904_11eb_be74_0242ac1c0002row3_col8{\n",
              "            background-color:  #eee8f3;\n",
              "            color:  #000000;\n",
              "        }#T_1680cee6_a904_11eb_be74_0242ac1c0002row3_col9{\n",
              "            background-color:  #faf3f9;\n",
              "            color:  #000000;\n",
              "        }#T_1680cee6_a904_11eb_be74_0242ac1c0002row4_col1{\n",
              "            background-color:  #71a8ce;\n",
              "            color:  #000000;\n",
              "        }#T_1680cee6_a904_11eb_be74_0242ac1c0002row4_col2{\n",
              "            background-color:  #f2ecf5;\n",
              "            color:  #000000;\n",
              "        }#T_1680cee6_a904_11eb_be74_0242ac1c0002row4_col3{\n",
              "            background-color:  #b3c3de;\n",
              "            color:  #000000;\n",
              "        }#T_1680cee6_a904_11eb_be74_0242ac1c0002row4_col5,#T_1680cee6_a904_11eb_be74_0242ac1c0002row9_col5{\n",
              "            background-color:  #d9d8ea;\n",
              "            color:  #000000;\n",
              "        }#T_1680cee6_a904_11eb_be74_0242ac1c0002row4_col6{\n",
              "            background-color:  #76aad0;\n",
              "            color:  #000000;\n",
              "        }#T_1680cee6_a904_11eb_be74_0242ac1c0002row4_col7,#T_1680cee6_a904_11eb_be74_0242ac1c0002row4_col8,#T_1680cee6_a904_11eb_be74_0242ac1c0002row5_col4{\n",
              "            background-color:  #f5eff6;\n",
              "            color:  #000000;\n",
              "        }#T_1680cee6_a904_11eb_be74_0242ac1c0002row5_col1{\n",
              "            background-color:  #348ebf;\n",
              "            color:  #000000;\n",
              "        }#T_1680cee6_a904_11eb_be74_0242ac1c0002row5_col3{\n",
              "            background-color:  #88b1d4;\n",
              "            color:  #000000;\n",
              "        }#T_1680cee6_a904_11eb_be74_0242ac1c0002row5_col6{\n",
              "            background-color:  #a8bedc;\n",
              "            color:  #000000;\n",
              "        }#T_1680cee6_a904_11eb_be74_0242ac1c0002row5_col7,#T_1680cee6_a904_11eb_be74_0242ac1c0002row5_col8{\n",
              "            background-color:  #c4cbe3;\n",
              "            color:  #000000;\n",
              "        }#T_1680cee6_a904_11eb_be74_0242ac1c0002row6_col2{\n",
              "            background-color:  #ebe6f2;\n",
              "            color:  #000000;\n",
              "        }#T_1680cee6_a904_11eb_be74_0242ac1c0002row6_col4{\n",
              "            background-color:  #f7f0f7;\n",
              "            color:  #000000;\n",
              "        }#T_1680cee6_a904_11eb_be74_0242ac1c0002row6_col7,#T_1680cee6_a904_11eb_be74_0242ac1c0002row6_col8{\n",
              "            background-color:  #d2d2e7;\n",
              "            color:  #000000;\n",
              "        }#T_1680cee6_a904_11eb_be74_0242ac1c0002row7_col1,#T_1680cee6_a904_11eb_be74_0242ac1c0002row8_col1{\n",
              "            background-color:  #8fb4d6;\n",
              "            color:  #000000;\n",
              "        }#T_1680cee6_a904_11eb_be74_0242ac1c0002row7_col2,#T_1680cee6_a904_11eb_be74_0242ac1c0002row8_col2{\n",
              "            background-color:  #f0eaf4;\n",
              "            color:  #000000;\n",
              "        }#T_1680cee6_a904_11eb_be74_0242ac1c0002row7_col5,#T_1680cee6_a904_11eb_be74_0242ac1c0002row8_col5{\n",
              "            background-color:  #adc1dd;\n",
              "            color:  #000000;\n",
              "        }#T_1680cee6_a904_11eb_be74_0242ac1c0002row7_col6,#T_1680cee6_a904_11eb_be74_0242ac1c0002row8_col6{\n",
              "            background-color:  #529bc7;\n",
              "            color:  #000000;\n",
              "        }#T_1680cee6_a904_11eb_be74_0242ac1c0002row9_col1{\n",
              "            background-color:  #6fa7ce;\n",
              "            color:  #000000;\n",
              "        }#T_1680cee6_a904_11eb_be74_0242ac1c0002row9_col2{\n",
              "            background-color:  #f4eef6;\n",
              "            color:  #000000;\n",
              "        }#T_1680cee6_a904_11eb_be74_0242ac1c0002row9_col3{\n",
              "            background-color:  #b0c2de;\n",
              "            color:  #000000;\n",
              "        }#T_1680cee6_a904_11eb_be74_0242ac1c0002row9_col6{\n",
              "            background-color:  #78abd0;\n",
              "            color:  #000000;\n",
              "        }#T_1680cee6_a904_11eb_be74_0242ac1c0002row9_col7,#T_1680cee6_a904_11eb_be74_0242ac1c0002row9_col8{\n",
              "            background-color:  #eee9f3;\n",
              "            color:  #000000;\n",
              "        }</style><table id=\"T_1680cee6_a904_11eb_be74_0242ac1c0002\" ><thead>    <tr>        <th class=\"blank level0\" ></th>        <th class=\"col_heading level0 col0\" >sex</th>        <th class=\"col_heading level0 col1\" >birthday_year</th>        <th class=\"col_heading level0 col2\" >membership_type</th>        <th class=\"col_heading level0 col3\" >category_prefer</th>        <th class=\"col_heading level0 col4\" >join_path</th>        <th class=\"col_heading level0 col5\" >recommended_cnt</th>        <th class=\"col_heading level0 col6\" >age</th>        <th class=\"col_heading level0 col7\" >days_from_joined</th>        <th class=\"col_heading level0 col8\" >years_from_joined</th>        <th class=\"col_heading level0 col9\" >if_deleted</th>    </tr></thead><tbody>\n",
              "                <tr>\n",
              "                        <th id=\"T_1680cee6_a904_11eb_be74_0242ac1c0002level0_row0\" class=\"row_heading level0 row0\" >sex</th>\n",
              "                        <td id=\"T_1680cee6_a904_11eb_be74_0242ac1c0002row0_col0\" class=\"data row0 col0\" >1.000000</td>\n",
              "                        <td id=\"T_1680cee6_a904_11eb_be74_0242ac1c0002row0_col1\" class=\"data row0 col1\" >-0.005282</td>\n",
              "                        <td id=\"T_1680cee6_a904_11eb_be74_0242ac1c0002row0_col2\" class=\"data row0 col2\" >0.001593</td>\n",
              "                        <td id=\"T_1680cee6_a904_11eb_be74_0242ac1c0002row0_col3\" class=\"data row0 col3\" >-0.006267</td>\n",
              "                        <td id=\"T_1680cee6_a904_11eb_be74_0242ac1c0002row0_col4\" class=\"data row0 col4\" >-0.017552</td>\n",
              "                        <td id=\"T_1680cee6_a904_11eb_be74_0242ac1c0002row0_col5\" class=\"data row0 col5\" >-0.013729</td>\n",
              "                        <td id=\"T_1680cee6_a904_11eb_be74_0242ac1c0002row0_col6\" class=\"data row0 col6\" >0.005282</td>\n",
              "                        <td id=\"T_1680cee6_a904_11eb_be74_0242ac1c0002row0_col7\" class=\"data row0 col7\" >-0.016833</td>\n",
              "                        <td id=\"T_1680cee6_a904_11eb_be74_0242ac1c0002row0_col8\" class=\"data row0 col8\" >-0.016351</td>\n",
              "                        <td id=\"T_1680cee6_a904_11eb_be74_0242ac1c0002row0_col9\" class=\"data row0 col9\" >0.001651</td>\n",
              "            </tr>\n",
              "            <tr>\n",
              "                        <th id=\"T_1680cee6_a904_11eb_be74_0242ac1c0002level0_row1\" class=\"row_heading level0 row1\" >birthday_year</th>\n",
              "                        <td id=\"T_1680cee6_a904_11eb_be74_0242ac1c0002row1_col0\" class=\"data row1 col0\" >-0.005282</td>\n",
              "                        <td id=\"T_1680cee6_a904_11eb_be74_0242ac1c0002row1_col1\" class=\"data row1 col1\" >1.000000</td>\n",
              "                        <td id=\"T_1680cee6_a904_11eb_be74_0242ac1c0002row1_col2\" class=\"data row1 col2\" >-0.069491</td>\n",
              "                        <td id=\"T_1680cee6_a904_11eb_be74_0242ac1c0002row1_col3\" class=\"data row1 col3\" >0.504292</td>\n",
              "                        <td id=\"T_1680cee6_a904_11eb_be74_0242ac1c0002row1_col4\" class=\"data row1 col4\" >0.009461</td>\n",
              "                        <td id=\"T_1680cee6_a904_11eb_be74_0242ac1c0002row1_col5\" class=\"data row1 col5\" >0.258950</td>\n",
              "                        <td id=\"T_1680cee6_a904_11eb_be74_0242ac1c0002row1_col6\" class=\"data row1 col6\" >-1.000000</td>\n",
              "                        <td id=\"T_1680cee6_a904_11eb_be74_0242ac1c0002row1_col7\" class=\"data row1 col7\" >-0.138338</td>\n",
              "                        <td id=\"T_1680cee6_a904_11eb_be74_0242ac1c0002row1_col8\" class=\"data row1 col8\" >-0.138318</td>\n",
              "                        <td id=\"T_1680cee6_a904_11eb_be74_0242ac1c0002row1_col9\" class=\"data row1 col9\" >0.021408</td>\n",
              "            </tr>\n",
              "            <tr>\n",
              "                        <th id=\"T_1680cee6_a904_11eb_be74_0242ac1c0002level0_row2\" class=\"row_heading level0 row2\" >membership_type</th>\n",
              "                        <td id=\"T_1680cee6_a904_11eb_be74_0242ac1c0002row2_col0\" class=\"data row2 col0\" >0.001593</td>\n",
              "                        <td id=\"T_1680cee6_a904_11eb_be74_0242ac1c0002row2_col1\" class=\"data row2 col1\" >-0.069491</td>\n",
              "                        <td id=\"T_1680cee6_a904_11eb_be74_0242ac1c0002row2_col2\" class=\"data row2 col2\" >1.000000</td>\n",
              "                        <td id=\"T_1680cee6_a904_11eb_be74_0242ac1c0002row2_col3\" class=\"data row2 col3\" >-0.053046</td>\n",
              "                        <td id=\"T_1680cee6_a904_11eb_be74_0242ac1c0002row2_col4\" class=\"data row2 col4\" >0.019963</td>\n",
              "                        <td id=\"T_1680cee6_a904_11eb_be74_0242ac1c0002row2_col5\" class=\"data row2 col5\" >-0.021604</td>\n",
              "                        <td id=\"T_1680cee6_a904_11eb_be74_0242ac1c0002row2_col6\" class=\"data row2 col6\" >0.069491</td>\n",
              "                        <td id=\"T_1680cee6_a904_11eb_be74_0242ac1c0002row2_col7\" class=\"data row2 col7\" >0.037165</td>\n",
              "                        <td id=\"T_1680cee6_a904_11eb_be74_0242ac1c0002row2_col8\" class=\"data row2 col8\" >0.036992</td>\n",
              "                        <td id=\"T_1680cee6_a904_11eb_be74_0242ac1c0002row2_col9\" class=\"data row2 col9\" >0.009109</td>\n",
              "            </tr>\n",
              "            <tr>\n",
              "                        <th id=\"T_1680cee6_a904_11eb_be74_0242ac1c0002level0_row3\" class=\"row_heading level0 row3\" >category_prefer</th>\n",
              "                        <td id=\"T_1680cee6_a904_11eb_be74_0242ac1c0002row3_col0\" class=\"data row3 col0\" >-0.006267</td>\n",
              "                        <td id=\"T_1680cee6_a904_11eb_be74_0242ac1c0002row3_col1\" class=\"data row3 col1\" >0.504292</td>\n",
              "                        <td id=\"T_1680cee6_a904_11eb_be74_0242ac1c0002row3_col2\" class=\"data row3 col2\" >-0.053046</td>\n",
              "                        <td id=\"T_1680cee6_a904_11eb_be74_0242ac1c0002row3_col3\" class=\"data row3 col3\" >1.000000</td>\n",
              "                        <td id=\"T_1680cee6_a904_11eb_be74_0242ac1c0002row3_col4\" class=\"data row3 col4\" >0.002226</td>\n",
              "                        <td id=\"T_1680cee6_a904_11eb_be74_0242ac1c0002row3_col5\" class=\"data row3 col5\" >0.171625</td>\n",
              "                        <td id=\"T_1680cee6_a904_11eb_be74_0242ac1c0002row3_col6\" class=\"data row3 col6\" >-0.504292</td>\n",
              "                        <td id=\"T_1680cee6_a904_11eb_be74_0242ac1c0002row3_col7\" class=\"data row3 col7\" >-0.007478</td>\n",
              "                        <td id=\"T_1680cee6_a904_11eb_be74_0242ac1c0002row3_col8\" class=\"data row3 col8\" >-0.007576</td>\n",
              "                        <td id=\"T_1680cee6_a904_11eb_be74_0242ac1c0002row3_col9\" class=\"data row3 col9\" >0.013642</td>\n",
              "            </tr>\n",
              "            <tr>\n",
              "                        <th id=\"T_1680cee6_a904_11eb_be74_0242ac1c0002level0_row4\" class=\"row_heading level0 row4\" >join_path</th>\n",
              "                        <td id=\"T_1680cee6_a904_11eb_be74_0242ac1c0002row4_col0\" class=\"data row4 col0\" >-0.017552</td>\n",
              "                        <td id=\"T_1680cee6_a904_11eb_be74_0242ac1c0002row4_col1\" class=\"data row4 col1\" >0.009461</td>\n",
              "                        <td id=\"T_1680cee6_a904_11eb_be74_0242ac1c0002row4_col2\" class=\"data row4 col2\" >0.019963</td>\n",
              "                        <td id=\"T_1680cee6_a904_11eb_be74_0242ac1c0002row4_col3\" class=\"data row4 col3\" >0.002226</td>\n",
              "                        <td id=\"T_1680cee6_a904_11eb_be74_0242ac1c0002row4_col4\" class=\"data row4 col4\" >1.000000</td>\n",
              "                        <td id=\"T_1680cee6_a904_11eb_be74_0242ac1c0002row4_col5\" class=\"data row4 col5\" >0.006406</td>\n",
              "                        <td id=\"T_1680cee6_a904_11eb_be74_0242ac1c0002row4_col6\" class=\"data row4 col6\" >-0.009461</td>\n",
              "                        <td id=\"T_1680cee6_a904_11eb_be74_0242ac1c0002row4_col7\" class=\"data row4 col7\" >-0.064171</td>\n",
              "                        <td id=\"T_1680cee6_a904_11eb_be74_0242ac1c0002row4_col8\" class=\"data row4 col8\" >-0.063883</td>\n",
              "                        <td id=\"T_1680cee6_a904_11eb_be74_0242ac1c0002row4_col9\" class=\"data row4 col9\" >-0.020725</td>\n",
              "            </tr>\n",
              "            <tr>\n",
              "                        <th id=\"T_1680cee6_a904_11eb_be74_0242ac1c0002level0_row5\" class=\"row_heading level0 row5\" >recommended_cnt</th>\n",
              "                        <td id=\"T_1680cee6_a904_11eb_be74_0242ac1c0002row5_col0\" class=\"data row5 col0\" >-0.013729</td>\n",
              "                        <td id=\"T_1680cee6_a904_11eb_be74_0242ac1c0002row5_col1\" class=\"data row5 col1\" >0.258950</td>\n",
              "                        <td id=\"T_1680cee6_a904_11eb_be74_0242ac1c0002row5_col2\" class=\"data row5 col2\" >-0.021604</td>\n",
              "                        <td id=\"T_1680cee6_a904_11eb_be74_0242ac1c0002row5_col3\" class=\"data row5 col3\" >0.171625</td>\n",
              "                        <td id=\"T_1680cee6_a904_11eb_be74_0242ac1c0002row5_col4\" class=\"data row5 col4\" >0.006406</td>\n",
              "                        <td id=\"T_1680cee6_a904_11eb_be74_0242ac1c0002row5_col5\" class=\"data row5 col5\" >1.000000</td>\n",
              "                        <td id=\"T_1680cee6_a904_11eb_be74_0242ac1c0002row5_col6\" class=\"data row5 col6\" >-0.258950</td>\n",
              "                        <td id=\"T_1680cee6_a904_11eb_be74_0242ac1c0002row5_col7\" class=\"data row5 col7\" >0.186742</td>\n",
              "                        <td id=\"T_1680cee6_a904_11eb_be74_0242ac1c0002row5_col8\" class=\"data row5 col8\" >0.187304</td>\n",
              "                        <td id=\"T_1680cee6_a904_11eb_be74_0242ac1c0002row5_col9\" class=\"data row5 col9\" >0.009055</td>\n",
              "            </tr>\n",
              "            <tr>\n",
              "                        <th id=\"T_1680cee6_a904_11eb_be74_0242ac1c0002level0_row6\" class=\"row_heading level0 row6\" >age</th>\n",
              "                        <td id=\"T_1680cee6_a904_11eb_be74_0242ac1c0002row6_col0\" class=\"data row6 col0\" >0.005282</td>\n",
              "                        <td id=\"T_1680cee6_a904_11eb_be74_0242ac1c0002row6_col1\" class=\"data row6 col1\" >-1.000000</td>\n",
              "                        <td id=\"T_1680cee6_a904_11eb_be74_0242ac1c0002row6_col2\" class=\"data row6 col2\" >0.069491</td>\n",
              "                        <td id=\"T_1680cee6_a904_11eb_be74_0242ac1c0002row6_col3\" class=\"data row6 col3\" >-0.504292</td>\n",
              "                        <td id=\"T_1680cee6_a904_11eb_be74_0242ac1c0002row6_col4\" class=\"data row6 col4\" >-0.009461</td>\n",
              "                        <td id=\"T_1680cee6_a904_11eb_be74_0242ac1c0002row6_col5\" class=\"data row6 col5\" >-0.258950</td>\n",
              "                        <td id=\"T_1680cee6_a904_11eb_be74_0242ac1c0002row6_col6\" class=\"data row6 col6\" >1.000000</td>\n",
              "                        <td id=\"T_1680cee6_a904_11eb_be74_0242ac1c0002row6_col7\" class=\"data row6 col7\" >0.138338</td>\n",
              "                        <td id=\"T_1680cee6_a904_11eb_be74_0242ac1c0002row6_col8\" class=\"data row6 col8\" >0.138318</td>\n",
              "                        <td id=\"T_1680cee6_a904_11eb_be74_0242ac1c0002row6_col9\" class=\"data row6 col9\" >-0.021408</td>\n",
              "            </tr>\n",
              "            <tr>\n",
              "                        <th id=\"T_1680cee6_a904_11eb_be74_0242ac1c0002level0_row7\" class=\"row_heading level0 row7\" >days_from_joined</th>\n",
              "                        <td id=\"T_1680cee6_a904_11eb_be74_0242ac1c0002row7_col0\" class=\"data row7 col0\" >-0.016833</td>\n",
              "                        <td id=\"T_1680cee6_a904_11eb_be74_0242ac1c0002row7_col1\" class=\"data row7 col1\" >-0.138338</td>\n",
              "                        <td id=\"T_1680cee6_a904_11eb_be74_0242ac1c0002row7_col2\" class=\"data row7 col2\" >0.037165</td>\n",
              "                        <td id=\"T_1680cee6_a904_11eb_be74_0242ac1c0002row7_col3\" class=\"data row7 col3\" >-0.007478</td>\n",
              "                        <td id=\"T_1680cee6_a904_11eb_be74_0242ac1c0002row7_col4\" class=\"data row7 col4\" >-0.064171</td>\n",
              "                        <td id=\"T_1680cee6_a904_11eb_be74_0242ac1c0002row7_col5\" class=\"data row7 col5\" >0.186742</td>\n",
              "                        <td id=\"T_1680cee6_a904_11eb_be74_0242ac1c0002row7_col6\" class=\"data row7 col6\" >0.138338</td>\n",
              "                        <td id=\"T_1680cee6_a904_11eb_be74_0242ac1c0002row7_col7\" class=\"data row7 col7\" >1.000000</td>\n",
              "                        <td id=\"T_1680cee6_a904_11eb_be74_0242ac1c0002row7_col8\" class=\"data row7 col8\" >0.999718</td>\n",
              "                        <td id=\"T_1680cee6_a904_11eb_be74_0242ac1c0002row7_col9\" class=\"data row7 col9\" >-0.010898</td>\n",
              "            </tr>\n",
              "            <tr>\n",
              "                        <th id=\"T_1680cee6_a904_11eb_be74_0242ac1c0002level0_row8\" class=\"row_heading level0 row8\" >years_from_joined</th>\n",
              "                        <td id=\"T_1680cee6_a904_11eb_be74_0242ac1c0002row8_col0\" class=\"data row8 col0\" >-0.016351</td>\n",
              "                        <td id=\"T_1680cee6_a904_11eb_be74_0242ac1c0002row8_col1\" class=\"data row8 col1\" >-0.138318</td>\n",
              "                        <td id=\"T_1680cee6_a904_11eb_be74_0242ac1c0002row8_col2\" class=\"data row8 col2\" >0.036992</td>\n",
              "                        <td id=\"T_1680cee6_a904_11eb_be74_0242ac1c0002row8_col3\" class=\"data row8 col3\" >-0.007576</td>\n",
              "                        <td id=\"T_1680cee6_a904_11eb_be74_0242ac1c0002row8_col4\" class=\"data row8 col4\" >-0.063883</td>\n",
              "                        <td id=\"T_1680cee6_a904_11eb_be74_0242ac1c0002row8_col5\" class=\"data row8 col5\" >0.187304</td>\n",
              "                        <td id=\"T_1680cee6_a904_11eb_be74_0242ac1c0002row8_col6\" class=\"data row8 col6\" >0.138318</td>\n",
              "                        <td id=\"T_1680cee6_a904_11eb_be74_0242ac1c0002row8_col7\" class=\"data row8 col7\" >0.999718</td>\n",
              "                        <td id=\"T_1680cee6_a904_11eb_be74_0242ac1c0002row8_col8\" class=\"data row8 col8\" >1.000000</td>\n",
              "                        <td id=\"T_1680cee6_a904_11eb_be74_0242ac1c0002row8_col9\" class=\"data row8 col9\" >-0.011358</td>\n",
              "            </tr>\n",
              "            <tr>\n",
              "                        <th id=\"T_1680cee6_a904_11eb_be74_0242ac1c0002level0_row9\" class=\"row_heading level0 row9\" >if_deleted</th>\n",
              "                        <td id=\"T_1680cee6_a904_11eb_be74_0242ac1c0002row9_col0\" class=\"data row9 col0\" >0.001651</td>\n",
              "                        <td id=\"T_1680cee6_a904_11eb_be74_0242ac1c0002row9_col1\" class=\"data row9 col1\" >0.021408</td>\n",
              "                        <td id=\"T_1680cee6_a904_11eb_be74_0242ac1c0002row9_col2\" class=\"data row9 col2\" >0.009109</td>\n",
              "                        <td id=\"T_1680cee6_a904_11eb_be74_0242ac1c0002row9_col3\" class=\"data row9 col3\" >0.013642</td>\n",
              "                        <td id=\"T_1680cee6_a904_11eb_be74_0242ac1c0002row9_col4\" class=\"data row9 col4\" >-0.020725</td>\n",
              "                        <td id=\"T_1680cee6_a904_11eb_be74_0242ac1c0002row9_col5\" class=\"data row9 col5\" >0.009055</td>\n",
              "                        <td id=\"T_1680cee6_a904_11eb_be74_0242ac1c0002row9_col6\" class=\"data row9 col6\" >-0.021408</td>\n",
              "                        <td id=\"T_1680cee6_a904_11eb_be74_0242ac1c0002row9_col7\" class=\"data row9 col7\" >-0.010898</td>\n",
              "                        <td id=\"T_1680cee6_a904_11eb_be74_0242ac1c0002row9_col8\" class=\"data row9 col8\" >-0.011358</td>\n",
              "                        <td id=\"T_1680cee6_a904_11eb_be74_0242ac1c0002row9_col9\" class=\"data row9 col9\" >1.000000</td>\n",
              "            </tr>\n",
              "    </tbody></table>"
            ],
            "text/plain": [
              "<pandas.io.formats.style.Styler at 0x7f79d6f6c950>"
            ]
          },
          "metadata": {
            "tags": []
          },
          "execution_count": 28
        }
      ]
    },
    {
      "cell_type": "code",
      "metadata": {
        "colab": {
          "base_uri": "https://localhost:8080/",
          "height": 517
        },
        "id": "tq3gEIoleATq",
        "outputId": "c2dd2883-bd51-4dfe-cbfc-b38f5c7c5744"
      },
      "source": [
        "# age와 recommend의 상관관계를 봐보자\n",
        "\n",
        "fig = px.scatter(x = user_meta_df['age'],\n",
        "                 y = user_meta_df['category_prefer'])\n",
        "fig.update_layout(width = 600, height = 500)\n",
        "fig.show()"
      ],
      "execution_count": 29,
      "outputs": [
        {
          "output_type": "display_data",
          "data": {
            "text/html": [
              "<html>\n",
              "<head><meta charset=\"utf-8\" /></head>\n",
              "<body>\n",
              "    <div>\n",
              "            <script src=\"https://cdnjs.cloudflare.com/ajax/libs/mathjax/2.7.5/MathJax.js?config=TeX-AMS-MML_SVG\"></script><script type=\"text/javascript\">if (window.MathJax) {MathJax.Hub.Config({SVG: {font: \"STIX-Web\"}});}</script>\n",
              "                <script type=\"text/javascript\">window.PlotlyConfig = {MathJaxConfig: 'local'};</script>\n",
              "        <script src=\"https://cdn.plot.ly/plotly-latest.min.js\"></script>    \n",
              "            <div id=\"cb18def3-6efd-4ce6-8085-f78aba18e99c\" class=\"plotly-graph-div\" style=\"height:500px; width:600px;\"></div>\n",
              "            <script type=\"text/javascript\">\n",
              "                \n",
              "                    window.PLOTLYENV=window.PLOTLYENV || {};\n",
              "                    \n",
              "                if (document.getElementById(\"cb18def3-6efd-4ce6-8085-f78aba18e99c\")) {\n",
              "                    Plotly.newPlot(\n",
              "                        'cb18def3-6efd-4ce6-8085-f78aba18e99c',\n",
              "                        [{\"hoverlabel\": {\"namelength\": 0}, \"hovertemplate\": \"x=%{x}<br>y=%{y}\", \"legendgroup\": \"\", \"marker\": {\"color\": \"#636efa\", \"symbol\": \"circle\"}, \"mode\": \"markers\", \"name\": \"\", \"showlegend\": false, \"type\": \"scattergl\", \"x\": [27, 27, 23, 24, 23, 27, 28, 26, 27, 23, 23, 28, 27, 28, 27, 28, 25, 28, 26, 22, 26, 26, 25, 27, 25, 22, 26, 27, 27, 25, 25, 22, 26, 25, 25, 29, 24, 25, 27, 29, 24, 24, 25, 26, 28, 27, 25, 26, 23, 22, 19, 27, 29, 25, 23, 28, 27, 24, 25, 24, 24, 22, 29, 24, 23, 26, 27, 26, 26, 24, 29, 26, 27, 28, 22, 23, 25, 29, 27, 25, 28, 30, 23, 26, 26, 27, 21, 28, 27, 24, 27, 31, 23, 28, 25, 23, 25, 26, 29, 23, 25, 27, 23, 24, 26, 27, 25, 28, 27, 26, 26, 21, 22, 24, 27, 25, 27, 24, 25, 24, 25, 29, 26, 29, 27, 25, 22, 28, 26, 23, 22, 26, 29, 26, 27, 23, 28, 26, 24, 26, 23, 28, 25, 25, 28, 26, 26, 22, 25, 26, 23, 22, 27, 23, 26, 26, 28, 27, 29, 27, 27, 24, 25, 27, 29, 24, 25, 26, 26, 23, 23, 25, 25, 26, 27, 26, 30, 31, 32, 26, 30, 33, 37, 31, 33, 27, 30, 27, 32, 32, 31, 27, 33, 34, 28, 32, 32, 34, 31, 29, 31, 31, 30, 32, 33, 29, 33, 29, 34, 30, 30, 35, 32, 29, 29, 31, 32, 30, 33, 31, 33, 33, 30, 29, 29, 31, 31, 30, 31, 29, 31, 34, 30, 33, 30, 26, 32, 33, 31, 32, 27, 35, 34, 33, 35, 29, 34, 31, 29, 32, 29, 38, 29, 32, 28, 30, 30, 29, 38, 35, 32, 30, 33, 30, 40, 32, 35, 30, 34, 30, 33, 28, 27, 35, 30, 34, 29, 31, 31, 30, 34, 35, 31, 29, 28, 34, 33, 31, 30, 32, 31, 29, 32, 34, 33, 30, 32, 30, 33, 36, 32, 34, 33, 26, 23, 27, 36, 35, 36, 32, 30, 28, 34, 31, 36, 34, 30, 34, 34, 33, 30, 27, 31, 31, 31, 31, 33, 31, 40, 32, 31, 35, 34, 30, 36, 32, 26, 29, 35, 31, 28, 32, 27, 25, 28, 37, 30, 28, 28, 26, 36, 31, 32, 32, 33, 31, 33, 38, 31, 33, 31, 29, 32, 30, 34, 31, 32, 34, 33, 28, 31, 34, 31, 31, 32, 27, 28, 30, 30, 28, 31, 34, 32, 33, 31, 29, 32, 30, 31, 34, 29, 33, 30, 30, 30, 32, 42, 42, 43, 40, 42, 39, 51, 47, 46, 47, 47, 37, 45, 45, 47, 38, 36, 42, 42, 40, 45, 44, 48, 43, 38, 41, 43, 44, 46, 40, 39, 47, 39, 39, 45, 36, 36, 36, 47, 38, 32, 48, 43, 46, 44, 45, 43, 42, 47, 50, 42, 37, 48, 44, 42, 51, 36, 44, 46, 38, 45, 42, 38, 37, 52, 49, 42, 38, 50, 46, 45, 44, 45, 41, 50, 41, 42, 39, 39, 49, 40, 36, 39, 47, 43, 45, 37, 35, 41, 46, 50, 46, 45, 41, 42, 40, 47, 44, 44, 47, 44, 45, 36, 40, 46, 43, 43, 40, 40, 44, 43, 38, 38, 42, 39, 38, 41, 43, 37, 43, 34, 45, 35, 37, 45, 43, 43, 37, 50, 42, 48, 37, 47, 37, 45, 45, 38, 54, 48, 49, 48, 41, 46, 43, 51, 44, 44, 38, 32, 41, 42, 46, 38, 42, 47, 39, 42, 41, 37, 43, 42, 40, 45, 38, 44, 46, 44, 40, 44, 40, 46, 41, 47, 43, 43, 41, 46, 44, 34, 45, 48, 47, 37, 44, 49, 43, 39, 53, 49, 47, 50, 45, 46, 40, 43, 32, 37, 49, 38, 41, 34, 46, 54, 43, 49, 37, 38, 40, 47, 39, 43, 49, 41, 32, 46, 47, 40, 50, 42, 44, 43, 44, 36, 44, 40, 45, 45, 46, 44, 36, 28, 28, 27, 26, 26, 26, 27, 24, 26, 22, 26, 25, 22, 25, 29, 23, 25, 21, 24, 26, 22, 30, 23, 26, 28, 26, 24, 26, 26, 26, 22, 23, 27, 25, 28, 25, 23, 26, 27, 24, 21, 25, 23, 29, 26, 28, 29, 23, 24, 30, 26, 25, 27, 27, 24, 28, 25, 26, 27, 24, 24, 24, 30, 28, 27, 28, 26, 24, 27, 24, 29, 26, 30, 25, 21, 29, 31, 26, 24, 26, 21, 25, 24, 25, 28, 28, 28, 24, 25, 31, 26, 20, 26, 24, 32, 29, 30, 26, 25, 26, 24, 23, 28, 27, 27, 29, 26, 26, 24, 29, 24, 31, 27, 23, 24, 23, 22, 23, 29, 31, 25, 27, 48, 45, 31, 24, 46, 48, 21, 22, 20, 25, 22, 50, 42, 43, 33, 30, 29, 34, 37, 30, 23, 35, 26, 24, 47, 24, 45, 39, 49, 42, 29, 40, 46, 25, 32, 32, 37, 29, 27, 21, 26, 19, 33, 22, 38, 25, 27, 31, 42, 30, 28, 26, 24, 27, 25, 31, 52, 26, 27, 34, 25, 46, 25, 26, 24, 27, 23, 31, 23, 26, 32, 25, 49, 36, 44, 21, 26, 25, 43, 39, 25, 51, 25, 30, 22, 26, 37, 39, 25, 26, 32, 29, 25, 25, 26, 42, 29, 36, 32, 21, 43, 36, 47, 38, 23, 26, 33, 38, 23, 26, 33, 27, 18, 52, 23, 26, 32, 28, 23, 25, 28, 28, 37, 42, 27, 41, 28, 22, 37, 31, 27, 50, 28, 38, 45, 24, 33, 35, 35, 34, 32, 29, 32, 28, 26, 26, 28, 28, 31, 26, 24, 22, 26, 43, 25, 21, 42, 40, 30, 32, 43, 31, 26, 27, 30, 24, 25, 25, 38, 23, 34, 25, 24, 23, 27, 27, 20, 32, 45, 42, 25, 25, 20, 26, 28, 26, 32, 26, 29, 22, 24, 27, 25, 28, 24, 27, 39, 25, 34, 25, 30, 25, 30, 27, 30, 27, 26, 23, 27, 29, 25, 24, 21, 40, 30, 26, 33, 25, 24, 23, 24, 25, 48, 33, 28, 24, 30, 24, 45, 30, 26, 30, 46, 29, 24, 29, 29, 25, 22, 32, 42, 31, 26, 23, 25, 24, 29, 45, 32, 26, 26, 27, 36, 39, 31, 31, 22, 48, 27, 43, 33, 23, 26, 39, 23, 29, 35, 28, 31, 24, 32, 24, 28, 32, 29, 30, 30, 38, 49, 27, 49, 25, 24, 51, 28, 24, 50, 23, 40, 25, 36, 32, 45, 37, 31, 33, 42, 42, 32, 30, 26, 28, 30, 23, 28, 39, 35, 27, 29, 27, 34, 28, 28, 31, 32, 33, 24, 25, 24, 33, 23, 23, 41, 30, 27, 27, 25, 29, 23, 32, 27, 21, 27, 45, 31, 30, 34, 31, 24, 33, 24, 26, 41, 26, 46, 22, 22, 27, 26, 27, 22, 26, 32, 25, 28, 32, 28, 40, 25, 26, 43, 22, 29, 27, 41, 26, 32, 25, 26, 46, 31, 31, 30, 27, 28, 45, 31, 25, 28, 31, 25, 32, 31, 41, 24, 27, 30, 25, 24, 38, 22, 26, 24, 39, 48, 34, 36, 45, 27, 47, 28, 25, 33, 23, 31, 33, 37, 29, 36, 26, 27, 43, 30, 52, 27, 30, 32, 24, 24, 30, 29, 22, 32, 27, 25, 41, 31, 27, 44, 24, 29, 26, 29, 24, 21, 30, 31, 29, 28, 24, 27, 38, 23, 24, 28, 29, 30, 28, 27, 23, 20, 42, 32, 22, 26, 23, 22, 36, 28, 25, 23, 26, 31, 31, 22, 26, 24, 41, 30, 24, 28, 24, 42, 25, 25, 27, 33, 31, 31, 31, 23, 22, 24, 26, 28, 46, 31, 26, 23, 37, 30, 27, 39, 24, 30, 30, 22, 26, 22, 32, 42, 31, 22, 26, 23, 47, 32, 20, 33, 25, 45, 23, 45, 25, 18, 23, 53, 46, 22, 38, 24, 27, 47, 31, 24, 43, 32, 29, 28, 28, 25, 25, 23, 43, 32, 29, 30, 29, 27, 26, 22, 28, 25, 21, 24, 44, 30, 27, 33, 30, 34, 24, 26, 28, 30, 27, 29, 29, 37, 45, 28, 42, 41, 46, 34, 23, 26, 46, 41, 24, 49, 32, 28, 28, 23, 44, 33, 33, 27, 31, 36, 25, 31, 46, 30, 30, 21, 42, 51, 27, 28, 25, 20, 46, 26, 30, 50, 26, 45, 31, 33, 40, 28, 48, 39, 25, 30, 26, 30, 27, 30, 30, 48, 30, 30, 29, 22, 32, 23, 34, 21, 22, 24, 54, 31, 36, 23, 28, 29, 44, 27, 33, 35, 29, 27, 21, 28, 47, 26, 30, 27, 27, 46, 47, 32, 27, 32, 25, 51, 36, 40, 23, 34, 31, 28, 23, 27, 32, 25, 24, 32, 28, 26, 34, 27, 23, 26, 45, 23, 40, 28, 31, 42, 31, 47, 28, 38, 31, 27, 45, 45, 28, 30, 26, 39, 23, 32, 28, 48, 30, 23, 22, 26, 25, 26, 40, 46, 34, 22, 24, 27, 34, 47, 39, 32, 26, 24, 31, 52, 42, 33, 26, 31, 22, 28, 47, 33, 27, 24, 29, 32, 25, 26, 27, 43, 43, 34, 32, 28, 27, 30, 39, 41, 49, 39, 35, 31, 44, 24, 28, 48, 25, 42, 40, 35, 21, 43, 22, 44, 45, 27, 27, 30, 41, 31, 32, 24, 31, 31, 34, 25, 31, 20, 48, 27, 27, 31, 33, 28, 27, 29, 29, 43, 25, 23, 38, 23, 20, 24, 23, 23, 30, 30, 29, 35, 28, 28, 27, 44, 21, 26, 34, 25, 26, 30, 28, 40, 24, 25, 27, 48, 32, 29, 32, 44, 47, 26, 33, 32, 43, 23, 25, 21, 26, 26, 40, 33, 29, 29, 32, 41, 27, 43, 25, 32, 45, 25, 25, 31, 34, 36, 27, 47, 40, 25, 28, 40, 27, 25, 27, 23, 27, 28, 26, 29, 26, 30, 30, 25, 40, 29, 29, 29, 20, 25, 46, 22, 31, 43, 26, 26, 30, 24, 26, 43, 23, 47, 43, 28, 32, 26, 25, 34, 24, 31, 24, 25, 45, 34, 33, 30, 24, 53, 25, 33, 26, 30, 36, 26, 34, 23, 27, 42, 25, 46, 33, 41, 41, 20, 25, 26, 32, 33, 31, 28, 24, 25, 33, 23, 22, 42, 28, 30, 26, 41, 40, 30, 24, 35, 47, 29, 27, 24, 29, 47, 28, 34, 32, 46, 36, 36, 32, 24, 35, 34, 40, 25, 20, 26, 31, 35, 34, 28, 24, 32, 25, 22, 49, 25, 29, 32, 27, 24, 46, 39, 25, 46, 38, 27, 32, 42, 25, 27, 27, 24, 41, 27, 19, 46, 25, 30, 25, 28, 30, 45, 34, 28, 24, 31, 32, 26, 32, 23, 31, 42, 42, 27, 33, 20, 31, 30, 34, 25, 42, 32, 29, 28, 32, 28, 24, 40, 39, 43, 25, 31, 26, 26, 25, 31, 42, 41, 36, 47, 40, 33, 28, 49, 25, 28, 25, 41, 48, 22, 41, 32, 32, 22, 39, 46, 31, 23, 31, 24, 26, 27, 23, 42, 26, 44, 30, 26, 29, 32, 28, 21, 35, 43, 24, 23, 29, 34, 31, 35, 40, 25, 29, 44, 22, 27, 32, 27, 25, 27, 28, 29, 28, 27, 32, 29, 25, 34, 24, 34, 23, 25, 45, 23, 28, 46, 25, 25, 26, 25, 22, 25, 24, 34, 26, 25, 23, 27, 29, 37, 31, 27, 25, 25, 32, 37, 28, 23, 35, 45, 41, 24, 40, 26, 28, 28, 28, 24, 26, 28, 27, 21, 41, 30, 48, 30, 36, 24, 23, 26, 28, 32, 27, 47, 40, 48, 28, 46, 53, 37, 39, 46, 26, 26, 44, 47, 24, 25, 24, 48, 26, 46, 45, 38, 40, 23, 46, 23, 27, 28, 32, 25, 28, 32, 27, 25, 23, 31, 33, 28, 25, 25, 50, 27, 42, 30, 25, 24, 42, 30, 34, 39, 26, 33, 25, 29, 27, 33, 49, 25, 22, 45, 48, 28, 41, 23, 32, 24, 29, 25, 30, 44, 47, 18, 43, 45, 34, 30, 29, 30, 34, 24, 25, 31, 33, 34, 43, 42, 39, 34, 23, 28, 31, 47, 32, 26, 29, 29, 29, 26, 26, 41, 26, 28, 30, 31, 31, 30, 31, 32, 24, 42, 28, 40, 31, 42, 32, 30, 46, 44, 42, 30, 26, 26, 44, 27, 20, 23, 32, 36, 23, 23, 28, 25, 27, 27, 52, 32, 30, 21, 23, 30, 31, 39, 31, 37, 29, 41, 25, 37, 27, 30, 31, 28, 24, 33, 29, 29, 34, 23, 26, 37, 38, 31, 45, 32, 29, 28, 39, 33, 25, 34, 23, 22, 40, 45, 25, 28, 28, 45, 31, 19, 34, 35, 22, 24, 23, 27, 29, 35, 26, 29, 27, 26, 27, 26, 33, 26, 29, 30, 27, 32, 33, 43, 30, 33, 31, 25, 31, 28, 32, 43, 48, 26, 30, 28, 42, 24, 30, 38, 31, 51, 37, 28, 32, 22, 47, 30, 27, 21, 26, 26, 31, 39, 31, 25, 31, 28, 30, 28, 28, 27, 25, 25, 28, 22, 34, 42, 24, 23, 25, 32, 28, 29, 36, 42, 27, 32, 45, 23, 26, 22, 27, 32, 28, 43, 23, 39, 30, 27, 31, 21, 26, 36, 24, 35, 47, 28, 26, 33, 33, 34, 24, 25, 44, 24, 25, 22, 44, 29, 43, 30, 32, 25, 33, 22, 40, 31, 30, 44, 23, 39, 27, 22, 39, 52, 37, 24, 25, 32, 28, 26, 47, 23, 33, 39, 25, 53, 46, 26, 38, 23, 26, 44, 29, 43, 45, 41, 25, 45, 40, 23, 47, 26, 46, 30, 30, 31, 44, 23, 24, 26, 22, 23, 40, 25, 27, 30, 31, 41, 29, 27, 43, 20, 42, 29, 23, 27, 26, 45, 23, 30, 30, 27, 29, 28, 27, 45, 34, 24, 40, 24, 44, 25, 37, 25, 23, 22, 22, 27, 28, 33, 31, 28, 27, 28, 24, 21, 24, 31, 27, 46, 29, 31, 31, 25, 30, 23, 47, 28, 51, 44, 36, 33, 35, 27, 23, 45, 40, 24, 33, 44, 30, 31, 26, 24, 28, 27, 22, 23, 25, 24, 27, 47, 25, 43, 25, 33, 44, 39, 46, 25, 29, 41, 27, 28, 28, 40, 44, 28, 28, 26, 33, 32, 35, 26, 26, 29, 33, 28, 27, 25, 28, 30, 29, 26, 28, 23, 29, 47, 31, 22, 28, 40, 29, 29, 25, 30, 45, 42, 51, 33, 33, 39, 25, 31, 35, 36, 24, 27, 40, 41, 28, 46, 26, 49, 24, 31, 27, 25, 44, 24, 47, 27, 35, 32, 27, 25, 24, 23, 25, 24, 28, 23, 33, 27, 26, 29, 50, 31, 43, 25, 37, 28, 27, 40, 24, 29, 26, 22, 25, 32, 26, 20, 27, 41, 25, 43, 27, 28, 27, 26, 24, 37, 41, 43, 30, 29, 36, 32, 36, 28, 26, 29, 35, 44, 30, 25, 18, 26, 33, 28, 32, 27, 29, 25, 31, 23, 25, 26, 23, 36, 28, 25, 38, 42, 40, 44, 44, 41, 42, 27, 29, 40, 24, 33, 24, 32, 23, 50, 28, 22, 30, 51, 36, 29, 23, 39, 22, 29, 26, 34, 27, 43, 33, 32, 25, 43, 45, 24, 33, 42, 27, 43, 27, 27, 23, 29, 36, 45, 22, 26, 30, 38, 33, 24, 19, 29, 35, 25, 29, 26, 47, 26, 42, 27, 27, 26, 26, 30, 26, 36, 28, 27, 41, 28, 42, 24, 38, 28, 50, 26, 43, 22, 30, 32, 22, 22, 18, 24, 22, 26, 25, 22, 29, 33, 24, 21, 30, 42, 24, 28, 23, 42, 28, 28, 24, 26, 25, 44, 19, 40, 29, 30, 43, 25, 30, 51, 24, 27, 28, 35, 28, 35, 26, 25, 53, 22, 26, 27, 23, 43, 40, 29, 24, 25, 25, 30, 41, 46, 26, 24, 28, 27, 46, 26, 34, 32, 29, 29, 45, 23, 27, 23, 30, 26, 36, 29, 30, 36, 43, 51, 29, 46, 22, 33, 31, 32, 27, 35, 22, 39, 40, 26, 42, 40, 32, 34, 24, 38, 26, 35, 31, 27, 22, 34, 24, 29, 26, 24, 28, 28, 29, 31, 46, 32, 30, 30, 28, 28, 29, 24, 22, 26, 30, 41, 23, 28, 49, 24, 40, 27, 48, 32, 36, 27, 26, 39, 21, 39, 38, 32, 28, 38, 32, 26, 31, 33, 27, 33, 36, 22, 23, 31, 27, 29, 30, 25, 23, 21, 24, 28, 25, 27, 35, 32, 46, 27, 20, 29, 31, 29, 28, 41, 38, 32, 36, 26, 28, 20, 28, 29, 46, 28, 31, 23, 26, 36, 31, 23, 28, 26, 30, 40, 26, 35, 31, 27, 40, 29, 28, 38, 42, 28, 28, 31, 25, 32, 53, 43, 24, 31, 26, 27, 38, 30, 25, 33, 30, 25, 39, 33, 41, 32, 47, 37, 28, 30, 24, 44, 28, 37, 32, 27, 51, 23, 24, 28, 24, 32, 39, 28, 49, 30, 26, 40, 39, 49, 24, 34, 26, 49, 24, 26, 24, 26, 22, 34, 29, 28, 29, 24, 41, 27, 24, 27, 23, 31, 27, 40, 28, 25, 31, 31, 33, 27, 37, 35, 42, 32, 28, 34, 48, 33, 40, 29, 23, 34, 24, 34, 25, 30, 32, 24, 29, 43, 28, 28, 27, 24, 24, 28, 30, 30, 25, 43, 35, 21, 31, 23, 25, 28, 27, 36, 37, 40, 23, 26, 25, 33, 25, 40, 28, 26, 20, 23, 31, 25, 45, 38, 47, 51, 36, 25, 28, 47, 31, 25, 27, 27, 34, 26, 49, 26, 28, 38, 27, 27, 27, 31, 26, 33, 21, 22, 24, 30, 27, 31, 39, 50, 26, 42, 26, 33, 43, 28, 35, 22, 31, 23, 26, 39, 45, 26, 44, 30, 30, 29, 24, 30, 22, 34, 31, 29, 37, 30, 32, 29, 33, 33, 41, 28, 30, 34, 31, 26, 28, 29, 24, 45, 26, 27, 25, 39, 25, 26, 30, 42, 42, 22, 32, 24, 26, 27, 20, 26, 33, 24, 22, 25, 46, 20, 51, 38, 35, 25, 24, 30, 32, 48, 26, 30, 28, 28, 29, 26, 25, 28, 30, 45, 25, 33, 28, 29, 28, 31, 23, 40, 26, 22, 25, 31, 20, 21, 32, 26, 24, 23, 31, 27, 31, 43, 21, 28, 38, 28, 33, 24, 47, 45, 27, 40, 24, 47, 43, 29, 33, 41, 33, 29, 45, 31, 34, 29, 48, 40, 22, 26, 23, 35, 55, 26, 38, 33, 27, 33, 24, 25, 24, 26, 31, 22, 26, 44, 31, 30, 30, 27, 32, 26, 31, 50, 24, 25, 43, 28, 28, 22, 23, 26, 35, 29, 25, 22, 31, 27, 49, 34, 31, 24, 25, 23, 28, 40, 29, 19, 31, 37, 29, 27, 45, 23, 25, 24, 28, 42, 32, 27, 45, 30, 26, 48, 46, 21, 36, 29, 37, 25, 33, 29, 46, 29, 26, 36, 45, 27, 29, 48, 44, 31, 26, 36, 49, 22, 38, 23, 31, 27, 48, 44, 46, 27, 29, 23, 23, 26, 26, 26, 27, 27, 24, 34, 35, 37, 45, 31, 28, 28, 41, 24, 41, 23, 32, 23, 23, 33, 29, 27, 21, 41, 37, 36, 25, 25, 31, 34, 27, 45, 45, 39, 42, 20, 20, 33, 31, 46, 24, 22, 42, 29, 26, 33, 44, 28, 24, 26, 35, 30, 46, 42, 33, 43, 34, 24, 25, 24, 24, 30, 41, 26, 24, 32, 30, 32, 30, 30, 37, 38, 26, 23, 26, 43, 32, 25, 50, 26, 33, 22, 19, 43, 29, 32, 33, 25, 27, 28, 24, 26, 28, 40, 27, 34, 45, 41, 26, 27, 28, 25, 30, 24, 29, 27, 28, 30, 26, 46, 29, 29, 27, 40, 41, 26, 26, 24, 22, 31, 30, 35, 34, 42, 31, 30, 46, 29, 27, 35, 32, 26, 45, 24, 49, 23, 25, 35, 30, 27, 24, 40, 46, 26, 38, 25, 43, 37, 46, 42, 24, 29, 23, 45, 43, 30, 44, 26, 26, 30, 27, 42, 23, 24, 25, 25, 32, 44, 22, 26, 26, 45, 39, 30, 49, 27, 25, 27, 32, 29, 42, 30, 27, 25, 26, 25, 40, 36, 21, 28, 48, 44, 22, 44, 22, 45, 31, 26, 27, 24, 24, 42, 28, 53, 30, 28, 23, 22, 33, 45, 47, 35, 26, 39, 38, 29, 25, 23, 31, 43, 29, 45, 24, 24, 27, 42, 28, 46, 30, 29, 24, 27, 27, 22, 38, 43, 46, 34, 35, 21, 25, 30, 25, 25, 38, 23, 28, 41, 25, 29, 25, 23, 23, 33, 33, 45, 28, 27, 26, 51, 43, 34, 21, 41, 32, 27, 25, 43, 22, 33, 24, 27, 22, 22, 33, 40, 25, 27, 44, 16, 27, 29, 26, 44, 32, 47, 25, 29, 28, 25, 27, 24, 45, 30, 33, 27, 27, 33, 31, 31, 26, 48, 26, 29, 48, 33, 41, 24, 24, 30, 27, 41, 44, 34, 24], \"xaxis\": \"x\", \"y\": [3, 2, 4, 7, 6, 1, 4, 0, 5, 5, 10, 7, 5, 1, 6, 3, 2, 3, 6, 12, 4, 2, 5, 3, 5, 5, 4, 5, 3, 5, 9, 9, 4, 9, 6, 3, 7, 10, 4, 5, 2, 6, 5, 11, 4, 7, 10, 5, 11, 7, 9, 9, 6, 5, 7, 4, 3, 5, 8, 1, 3, 6, 3, 7, 7, 5, 6, 9, 2, 5, 0, 7, 5, 3, 8, 9, 8, 5, 13, 10, 5, 3, 5, 1, 9, 1, 8, 4, 3, 7, 4, 1, 2, 4, 5, 9, 1, 5, 0, 0, 6, 6, 5, 9, 4, 8, 6, 3, 6, 6, 5, 8, 10, 6, 5, 10, 11, 5, 7, 10, 4, 5, 4, 7, 7, 7, 7, 2, 7, 6, 6, 4, 1, 8, 3, 7, 8, 1, 7, 3, 14, 5, 5, 5, 2, 8, 3, 10, 5, 3, 8, 7, 6, 11, 7, 4, 0, 2, 7, 1, 7, 13, 9, 5, 6, 2, 5, 4, 6, 9, 5, 2, 10, 6, 5, 3, 1, 0, 9, 12, 0, 3, 8, 3, 3, 0, 1, 0, 3, 1, 9, 6, 9, 8, 5, 6, 5, 0, 0, 3, 3, 0, 5, 12, 7, 6, 6, 4, 3, 10, 5, 2, 7, 9, 4, 7, 9, 6, 1, 7, 1, 0, 6, 6, 6, 8, 6, 3, 0, 5, 6, 8, 0, 5, 10, 4, 9, 11, 5, 12, 7, 11, 9, 9, 8, 2, 8, 7, 3, 7, 4, 9, 5, 9, 8, 7, 12, 4, 10, 7, 4, 8, 5, 3, 1, 2, 6, 2, 7, 1, 7, 7, 5, 0, 7, 1, 3, 4, 3, 0, 3, 5, 6, 4, 0, 7, 5, 7, 0, 7, 4, 5, 2, 1, 7, 7, 13, 9, 6, 9, 2, 6, 5, 4, 5, 9, 0, 7, 7, 8, 5, 2, 8, 0, 5, 3, 0, 8, 7, 8, 6, 2, 9, 6, 7, 0, 6, 4, 3, 8, 4, 5, 8, 3, 5, 7, 2, 3, 5, 4, 0, 14, 5, 7, 2, 6, 8, 3, 0, 6, 7, 6, 4, 4, 9, 2, 4, 3, 8, 8, 5, 6, 8, 6, 0, 0, 8, 6, 4, 3, 2, 1, 5, 8, 5, 7, 10, 0, 10, 7, 8, 8, 6, 2, 3, 7, 2, 5, 13, 6, 1, 11, 4, 4, 8, 11, 4, 0, 2, 2, 1, 0, 0, 3, 1, 0, 0, 0, 2, 0, 3, 5, 0, 0, 0, 3, 6, 2, 1, 0, 0, 3, 0, 0, 2, 0, 2, 0, 0, 6, 3, 10, 1, 4, 2, 0, 0, 2, 0, 0, 6, 0, 0, 7, 5, 0, 6, 5, 6, 0, 0, 3, 0, 0, 4, 0, 0, 1, 3, 6, 0, 5, 0, 2, 5, 7, 0, 0, 0, 0, 0, 2, 0, 2, 0, 3, 1, 4, 1, 0, 0, 0, 0, 6, 0, 0, 2, 0, 1, 4, 0, 8, 0, 1, 4, 3, 1, 1, 0, 0, 0, 1, 0, 0, 0, 0, 2, 0, 0, 0, 1, 0, 0, 0, 0, 1, 0, 0, 3, 0, 5, 0, 3, 2, 2, 1, 0, 0, 1, 0, 4, 0, 0, 0, 4, 5, 6, 3, 6, 6, 2, 0, 1, 3, 2, 1, 0, 5, 2, 2, 0, 2, 3, 2, 1, 0, 3, 1, 6, 0, 7, 0, 3, 6, 4, 2, 3, 0, 1, 0, 0, 1, 0, 1, 2, 2, 4, 1, 0, 0, 1, 6, 0, 4, 0, 3, 2, 0, 0, 1, 3, 0, 0, 3, 1, 2, 0, 2, 3, 0, 0, 0, 5, 1, 0, 6, 0, 0, 0, 0, 0, 0, 0, 3, 6, 0, 0, 4, 7, 4, 7, 0, 1, 0, 0, 0, 3, 2, 3, 5, 6, 6, 3, 3, 5, 9, 6, 3, 7, 3, 4, 7, 4, 10, 11, 4, 4, 0, 7, 8, 10, 7, 10, 7, 4, 5, 9, 12, 2, 8, 4, 6, 11, 9, 4, 5, 8, 12, 10, 3, 4, 1, 2, 11, 3, 2, 2, 5, 3, 5, 5, 2, 4, 1, 6, 6, 10, 1, 7, 7, 1, 3, 5, 1, 4, 2, 7, 9, 7, 7, 8, 1, 9, 5, 6, 6, 7, 10, 11, 9, 6, 2, 6, 8, 8, 0, 7, 6, 12, 9, 0, 1, 0, 3, 0, 8, 2, 9, 5, 6, 8, 3, 5, 4, 10, 0, 8, 1, 0, 8, 8, 3, 8, 10, 5, 9, 5, 1, 0, 1, 11, 6, 0, 6, 6, 0, 11, 8, 10, 2, 0, 0, 11, 7, 1, 8, 9, 4, 6, 8, 5, 8, 3, 11, 0, 0, 1, 8, 8, 3, 3, 8, 0, 4, 6, 9, 7, 3, 6, 16, 0, 5, 2, 5, 2, 5, 1, 8, 6, 1, 6, 1, 10, 4, 3, 4, 8, 8, 2, 1, 7, 4, 10, 7, 9, 10, 7, 10, 6, 5, 0, 5, 2, 11, 5, 2, 0, 0, 5, 1, 5, 5, 11, 7, 3, 0, 12, 8, 5, 3, 10, 6, 7, 2, 0, 3, 11, 12, 0, 3, 0, 1, 8, 12, 8, 0, 8, 8, 8, 3, 11, 2, 6, 5, 7, 3, 6, 4, 8, 6, 0, 0, 7, 4, 6, 8, 2, 3, 5, 0, 0, 2, 0, 2, 4, 2, 3, 1, 4, 2, 6, 3, 0, 6, 4, 4, 11, 7, 9, 8, 6, 0, 7, 7, 1, 0, 6, 3, 4, 4, 7, 4, 9, 3, 5, 1, 0, 7, 13, 8, 9, 6, 10, 3, 12, 3, 6, 0, 7, 11, 8, 9, 1, 0, 8, 6, 1, 6, 5, 5, 0, 5, 8, 4, 1, 5, 5, 5, 2, 2, 5, 6, 2, 4, 4, 7, 4, 1, 5, 8, 6, 0, 12, 6, 7, 10, 7, 4, 0, 6, 0, 7, 1, 2, 0, 7, 3, 8, 6, 5, 6, 3, 9, 0, 6, 6, 11, 6, 4, 7, 8, 5, 4, 0, 4, 7, 4, 7, 1, 2, 8, 0, 3, 9, 11, 0, 10, 0, 6, 12, 8, 0, 8, 3, 10, 9, 7, 5, 5, 4, 7, 2, 0, 3, 5, 0, 8, 8, 0, 4, 5, 0, 7, 8, 0, 7, 1, 6, 0, 9, 2, 9, 4, 7, 5, 6, 0, 0, 6, 0, 5, 7, 1, 11, 2, 5, 5, 7, 6, 5, 8, 4, 6, 2, 9, 6, 8, 5, 12, 8, 2, 8, 4, 7, 6, 8, 6, 5, 7, 6, 7, 0, 2, 7, 8, 2, 8, 7, 11, 9, 0, 6, 5, 6, 11, 8, 2, 6, 3, 9, 3, 2, 3, 3, 7, 0, 5, 9, 5, 7, 4, 5, 0, 4, 1, 3, 2, 2, 2, 5, 6, 1, 4, 0, 6, 8, 2, 6, 9, 0, 2, 0, 4, 5, 7, 4, 6, 0, 4, 7, 5, 3, 0, 6, 1, 1, 7, 0, 4, 7, 7, 1, 2, 4, 9, 9, 1, 8, 4, 3, 1, 4, 10, 7, 1, 4, 5, 9, 9, 4, 7, 10, 2, 0, 3, 0, 3, 6, 7, 5, 9, 7, 8, 4, 0, 3, 2, 14, 3, 0, 13, 8, 0, 2, 4, 2, 0, 10, 8, 0, 6, 6, 5, 7, 9, 2, 4, 4, 2, 0, 4, 11, 8, 9, 7, 3, 10, 5, 2, 13, 2, 4, 5, 5, 6, 1, 9, 0, 10, 9, 0, 10, 1, 0, 6, 5, 9, 3, 1, 4, 1, 5, 1, 9, 7, 4, 11, 7, 1, 4, 5, 0, 5, 3, 4, 13, 5, 6, 5, 5, 3, 4, 9, 7, 3, 1, 5, 6, 6, 6, 0, 8, 11, 0, 4, 9, 4, 2, 7, 5, 10, 3, 6, 6, 0, 6, 4, 7, 9, 4, 8, 8, 5, 0, 3, 9, 10, 2, 1, 5, 0, 4, 9, 7, 2, 0, 3, 0, 10, 0, 3, 3, 8, 9, 9, 0, 2, 10, 0, 1, 7, 2, 14, 0, 5, 5, 0, 1, 3, 6, 2, 2, 0, 8, 9, 0, 2, 6, 9, 0, 8, 0, 3, 1, 3, 8, 2, 9, 5, 1, 6, 0, 0, 7, 11, 1, 6, 3, 6, 5, 0, 4, 4, 4, 8, 5, 6, 6, 5, 1, 10, 1, 5, 12, 6, 10, 7, 1, 3, 5, 11, 3, 3, 9, 0, 0, 9, 0, 5, 7, 0, 1, 6, 6, 4, 4, 0, 4, 0, 8, 9, 6, 2, 9, 12, 6, 5, 11, 1, 1, 10, 6, 3, 11, 8, 3, 9, 0, 7, 4, 0, 6, 1, 11, 3, 0, 2, 2, 1, 4, 5, 3, 0, 8, 11, 3, 5, 1, 12, 5, 7, 5, 5, 7, 3, 6, 6, 5, 5, 8, 0, 0, 9, 11, 10, 0, 0, 2, 3, 8, 4, 4, 0, 4, 2, 2, 6, 6, 3, 7, 1, 8, 1, 0, 9, 16, 3, 1, 2, 0, 6, 1, 0, 7, 6, 2, 15, 8, 0, 7, 3, 0, 7, 12, 0, 11, 3, 2, 0, 8, 7, 0, 0, 8, 4, 3, 6, 0, 2, 3, 9, 1, 3, 6, 3, 9, 2, 5, 5, 5, 0, 6, 11, 2, 3, 7, 6, 9, 5, 7, 6, 2, 7, 6, 3, 2, 0, 11, 1, 4, 4, 6, 3, 3, 0, 3, 3, 9, 0, 8, 9, 9, 1, 0, 7, 11, 7, 1, 8, 8, 7, 7, 2, 1, 0, 5, 0, 7, 8, 4, 0, 10, 8, 0, 8, 9, 1, 3, 2, 6, 0, 0, 6, 9, 2, 6, 2, 5, 5, 6, 8, 7, 9, 3, 3, 3, 3, 0, 0, 5, 4, 13, 4, 0, 10, 6, 5, 2, 4, 6, 10, 11, 0, 6, 0, 3, 5, 3, 6, 9, 4, 3, 8, 5, 5, 1, 3, 4, 4, 6, 1, 6, 5, 7, 2, 8, 5, 8, 9, 9, 0, 8, 3, 4, 0, 1, 10, 8, 4, 6, 7, 3, 6, 9, 11, 5, 9, 13, 4, 3, 5, 5, 5, 9, 3, 3, 4, 3, 6, 7, 6, 5, 2, 1, 13, 9, 0, 0, 0, 7, 8, 14, 7, 7, 11, 7, 8, 14, 7, 2, 5, 12, 13, 11, 1, 4, 6, 7, 14, 5, 8, 0, 2, 9, 0, 3, 6, 5, 0, 11, 7, 4, 11, 2, 8, 12, 6, 5, 5, 7, 3, 5, 0, 13, 0, 8, 6, 0, 7, 0, 1, 6, 5, 0, 2, 7, 10, 10, 5, 5, 8, 0, 5, 7, 2, 8, 0, 10, 0, 0, 2, 6, 3, 1, 7, 1, 9, 0, 6, 3, 0, 0, 8, 4, 3, 4, 2, 4, 0, 1, 11, 6, 6, 7, 10, 5, 0, 9, 6, 2, 12, 4, 0, 11, 5, 9, 4, 0, 3, 0, 3, 1, 6, 11, 0, 8, 6, 6, 6, 2, 1, 1, 3, 4, 0, 7, 0, 9, 2, 6, 9, 3, 8, 1, 5, 6, 9, 6, 9, 8, 0, 4, 0, 0, 7, 4, 0, 5, 3, 6, 2, 10, 6, 6, 7, 2, 8, 7, 4, 1, 7, 7, 3, 7, 0, 10, 0, 5, 8, 4, 5, 0, 9, 0, 6, 1, 1, 4, 5, 11, 4, 5, 4, 1, 10, 0, 3, 2, 8, 10, 4, 5, 8, 7, 0, 0, 0, 3, 0, 6, 4, 0, 0, 6, 7, 0, 3, 1, 3, 2, 0, 7, 0, 0, 0, 3, 9, 4, 6, 2, 3, 6, 3, 4, 7, 5, 5, 2, 6, 12, 2, 8, 6, 6, 6, 1, 7, 0, 2, 0, 3, 1, 5, 12, 7, 6, 1, 8, 0, 0, 5, 6, 5, 5, 2, 2, 5, 3, 3, 10, 6, 0, 4, 1, 8, 1, 5, 0, 9, 0, 9, 7, 7, 5, 6, 5, 0, 5, 2, 4, 2, 3, 6, 0, 2, 0, 4, 3, 2, 0, 6, 7, 0, 8, 9, 3, 2, 2, 8, 2, 10, 8, 1, 6, 2, 4, 2, 0, 7, 2, 5, 4, 2, 2, 9, 5, 4, 6, 4, 9, 2, 10, 4, 5, 2, 7, 8, 5, 0, 2, 13, 10, 5, 10, 0, 3, 5, 4, 0, 3, 0, 5, 6, 2, 2, 4, 11, 1, 6, 10, 9, 5, 1, 0, 7, 0, 2, 7, 7, 0, 2, 11, 12, 10, 13, 0, 2, 5, 5, 0, 2, 8, 11, 1, 6, 6, 5, 7, 5, 4, 4, 7, 1, 9, 9, 9, 5, 3, 8, 3, 5, 2, 7, 4, 0, 3, 1, 8, 5, 7, 9, 4, 0, 0, 8, 2, 1, 0, 5, 2, 0, 3, 0, 11, 4, 3, 6, 2, 0, 9, 12, 8, 7, 10, 6, 7, 8, 2, 4, 2, 0, 4, 3, 4, 2, 5, 10, 5, 0, 7, 6, 5, 9, 0, 10, 12, 0, 10, 0, 0, 8, 3, 5, 0, 0, 6, 0, 8, 0, 2, 0, 13, 10, 6, 2, 13, 3, 0, 5, 4, 10, 8, 3, 4, 4, 4, 6, 3, 7, 0, 5, 9, 3, 8, 1, 3, 7, 0, 9, 2, 3, 1, 1, 0, 5, 1, 1, 9, 3, 6, 1, 2, 5, 2, 2, 8, 1, 1, 0, 3, 6, 5, 7, 3, 0, 3, 0, 3, 2, 3, 3, 0, 7, 0, 6, 2, 5, 0, 7, 1, 4, 6, 8, 9, 3, 3, 0, 6, 9, 11, 2, 6, 6, 4, 9, 4, 4, 8, 4, 7, 0, 8, 6, 6, 1, 3, 8, 2, 1, 7, 6, 0, 6, 0, 3, 0, 6, 9, 7, 5, 5, 4, 6, 12, 0, 4, 0, 8, 9, 6, 6, 7, 4, 2, 3, 7, 8, 5, 14, 0, 3, 4, 4, 4, 5, 1, 3, 12, 3, 0, 8, 6, 0, 4, 6, 5, 6, 5, 5, 9, 3, 9, 8, 8, 5, 6, 0, 3, 4, 1, 0, 0, 6, 6, 2, 5, 4, 3, 2, 4, 1, 6, 8, 7, 11, 10, 6, 3, 2, 8, 4, 4, 10, 7, 9, 1, 9, 8, 8, 4, 0, 7, 7, 3, 1, 2, 5, 5, 9, 0, 2, 1, 4, 2, 0, 7, 0, 5, 4, 6, 4, 6, 4, 10, 2, 0, 3, 3, 0, 6, 6, 3, 8, 0, 11, 6, 4, 6, 6, 10, 6, 7, 11, 6, 7, 10, 5, 3, 7, 7, 8, 2, 6, 2, 6, 5, 0, 5, 8, 3, 8, 0, 9, 5, 10, 2, 0, 11, 0, 6, 5, 4, 3, 5, 8, 4, 0, 3, 4, 7, 7, 7, 5, 4, 9, 5, 1, 6, 13, 16, 9, 10, 1, 12, 2, 2, 9, 2, 6, 1, 3, 10, 4, 8, 7, 2, 0, 2, 0, 1, 1, 5, 7, 9, 0, 6, 0, 6, 7, 1, 0, 8, 6, 5, 2, 10, 0, 7, 0, 6, 0, 9, 7, 4, 6, 4, 2, 4, 0, 5, 3, 7, 4, 7, 1, 7, 5, 8, 4, 8, 0, 11, 9, 0, 0, 4, 5, 11, 0, 3, 2, 8, 4, 0, 4, 0, 6, 5, 5, 3, 15, 3, 4, 4, 1, 0, 1, 0, 5, 0, 8, 1, 3, 5, 9, 8, 6, 9, 8, 15, 10, 10, 6, 6, 8, 4, 11, 5, 9, 4, 0, 12, 1, 10, 1, 5, 7, 7, 9, 6, 4, 14, 0, 7, 8, 0, 8, 1, 0, 4, 2, 3, 0, 5, 8, 6, 5, 0, 8, 6, 5, 4, 4, 0, 5, 7, 7, 5, 5, 2, 0, 4, 6, 1, 8, 3, 8, 8, 11, 8, 0, 0, 8, 5, 5, 1, 1, 11, 3, 4, 4, 0, 0, 7, 4, 11, 2, 0, 8, 6, 7, 10, 1, 0, 7, 2, 4, 6, 11, 9, 0, 6, 5, 2, 4, 10, 5, 1, 6, 2, 9, 7, 3, 1, 5, 0, 6, 0, 9, 6, 8, 0, 6, 9, 6, 3, 1, 8, 4, 1, 7, 2, 6, 0, 8, 4, 4, 5, 0, 10, 0, 1, 2, 9, 6, 2, 6, 3, 9, 11, 0, 6, 12, 9, 1, 5, 2, 2, 5, 4, 9, 5, 3, 4, 4, 5, 1, 0, 3, 10, 3, 6, 6, 6, 1, 2, 2, 9, 5, 8, 11, 5, 4, 6, 9, 0, 3, 7, 10, 5, 11, 8, 11, 4, 0, 3, 7, 6, 6, 0, 11, 5, 6, 6, 3, 7, 4, 4, 3, 2, 5, 6, 1, 7, 8, 0, 2, 4, 8, 0, 3, 0, 10, 0, 4, 0, 1, 7, 10, 4, 0, 4, 10, 3, 6, 0, 7, 9, 6, 7, 0, 0, 4, 0, 1, 0, 0, 0, 0, 7, 0, 4, 4, 5, 12, 10, 1, 12, 3, 10, 2, 4, 5, 5, 1, 4, 5, 11, 2, 7, 0, 8, 3, 4, 0, 8, 7, 9, 5, 1, 0, 4, 10, 0, 9, 1, 11, 9, 0, 7, 1, 6, 6, 5, 5, 5, 4, 5, 6, 8, 6, 6, 5, 7, 10, 3, 0, 12, 10, 5, 8, 8, 2, 2, 8, 3, 0, 4, 9, 9, 11, 4, 2, 5, 6, 13, 7, 5, 3, 1, 0, 1, 4, 0, 10, 5, 2, 0, 6, 4, 4, 4, 0, 5, 6, 3, 0, 5, 1, 4, 5, 4, 2, 13, 13, 7, 6, 4, 4, 1, 4, 2, 0, 3, 6, 0, 8, 9, 13, 4, 13, 4, 0, 1, 10, 1, 7, 3, 4, 9, 6, 8, 3, 9, 4, 0, 0, 8, 5, 2, 5, 2, 0, 4, 4, 3, 8, 5, 3, 7, 2, 1, 4, 8, 1, 6, 6, 1, 3, 0, 8, 9, 10, 4, 13, 6, 8, 12, 9, 9, 8, 0, 12, 0, 0, 3, 4, 2, 6, 4, 1, 7, 6, 0, 1, 6, 6, 1, 1, 3, 0, 7, 0, 5, 3, 2, 4, 6, 4, 6, 9, 7, 2, 3, 4, 0, 4, 13, 5, 0, 7, 8, 0, 3, 6, 0, 9, 7, 4, 0, 0, 4, 0, 12, 2, 0, 11, 0, 9, 3, 5, 2, 4, 2, 0, 0, 0, 17, 7, 9, 5, 0, 2, 2, 2, 3, 5, 5, 6, 11, 7, 5, 12, 4, 2, 4, 2, 2, 3, 3, 3, 8, 4, 5, 7, 1, 5, 0, 6, 6, 6, 11, 4, 11, 6, 2, 2, 1, 8, 5, 10, 3, 7, 0, 0, 1, 10, 4, 7, 3, 7, 3, 8, 9, 8, 4, 0, 0, 6, 3, 2, 1, 0, 1, 10, 0, 4, 0, 10, 6, 7, 1, 3, 5, 0, 0, 4, 0, 0, 4, 3, 0, 8, 0, 9, 0, 9, 9, 6, 0, 0, 3, 3, 5, 6, 3, 4, 3, 1, 5, 8, 5, 5, 7, 3, 8, 0, 6, 4, 0, 8, 0, 10, 8, 11, 6, 10, 2, 1, 8, 3, 0, 1, 5, 9, 12, 8, 2, 4, 3, 0, 0, 12, 8, 5, 3, 9, 5, 7, 0, 3, 1, 2, 5, 1, 4, 4, 8, 6, 6, 0, 8, 1, 2, 2, 7, 6, 4, 3, 0, 3, 7, 6, 0, 4, 6, 4, 10, 0, 7, 7, 3, 5, 1, 6, 0, 6, 3, 7, 13, 0, 2, 8, 6, 4, 6, 3, 5, 7, 7, 1, 3, 4, 7, 1, 1, 3, 6, 4, 7, 7, 6, 5, 2, 8, 6, 2, 1, 0, 7, 0, 0, 11, 6, 4, 13, 8, 8, 7, 3, 0, 3, 0, 2, 9, 6, 3, 4, 6, 0, 7, 0, 5, 12, 1, 7, 4, 7, 2, 1, 6, 0, 0, 3, 0, 2, 6, 11, 2, 8, 9, 0, 0, 3, 8, 4, 8, 4, 0, 5, 6, 7, 6, 6, 0, 10, 8, 3, 0, 2, 2, 1, 7, 14, 1, 6, 4, 3, 7, 4, 3, 7, 9, 0, 0, 7, 9, 1, 8, 9, 1, 7, 0, 7, 2, 4, 4, 7, 0, 9, 1, 9, 11, 9, 12, 8, 0, 3, 2, 4, 2, 3, 0, 9, 5, 5, 2, 0, 2, 8, 6, 2, 5, 5, 0, 11, 5, 5, 1, 10, 9, 0, 0, 2, 6, 2, 11, 11, 7, 3, 5, 0, 4, 7, 5, 8, 5, 8, 8, 5, 0, 2, 3, 6, 3, 11, 4, 0, 0, 10, 0, 10, 2, 9, 1, 8, 3, 8, 6, 11, 7, 5, 0, 3, 4, 0, 10, 3, 1, 5, 2, 5, 5, 9, 4, 2, 5, 5, 3, 1, 4, 4, 2, 2, 3, 0, 5, 2, 2, 0, 0, 0, 8, 0, 7, 8, 4, 5, 0, 0, 8, 5], \"yaxis\": \"y\"}],\n",
              "                        {\"height\": 500, \"legend\": {\"tracegroupgap\": 0}, \"margin\": {\"t\": 60}, \"template\": {\"data\": {\"bar\": [{\"error_x\": {\"color\": \"#2a3f5f\"}, \"error_y\": {\"color\": \"#2a3f5f\"}, \"marker\": {\"line\": {\"color\": \"#E5ECF6\", \"width\": 0.5}}, \"type\": \"bar\"}], \"barpolar\": [{\"marker\": {\"line\": {\"color\": \"#E5ECF6\", \"width\": 0.5}}, \"type\": \"barpolar\"}], \"carpet\": [{\"aaxis\": {\"endlinecolor\": \"#2a3f5f\", \"gridcolor\": \"white\", \"linecolor\": \"white\", \"minorgridcolor\": \"white\", \"startlinecolor\": \"#2a3f5f\"}, \"baxis\": {\"endlinecolor\": \"#2a3f5f\", \"gridcolor\": \"white\", \"linecolor\": \"white\", \"minorgridcolor\": \"white\", \"startlinecolor\": \"#2a3f5f\"}, \"type\": \"carpet\"}], \"choropleth\": [{\"colorbar\": {\"outlinewidth\": 0, \"ticks\": \"\"}, \"type\": \"choropleth\"}], \"contour\": [{\"colorbar\": {\"outlinewidth\": 0, \"ticks\": \"\"}, \"colorscale\": [[0.0, \"#0d0887\"], [0.1111111111111111, \"#46039f\"], [0.2222222222222222, \"#7201a8\"], [0.3333333333333333, \"#9c179e\"], [0.4444444444444444, \"#bd3786\"], [0.5555555555555556, \"#d8576b\"], [0.6666666666666666, \"#ed7953\"], [0.7777777777777778, \"#fb9f3a\"], [0.8888888888888888, \"#fdca26\"], [1.0, \"#f0f921\"]], \"type\": \"contour\"}], \"contourcarpet\": [{\"colorbar\": {\"outlinewidth\": 0, \"ticks\": \"\"}, \"type\": \"contourcarpet\"}], \"heatmap\": [{\"colorbar\": {\"outlinewidth\": 0, \"ticks\": \"\"}, \"colorscale\": [[0.0, \"#0d0887\"], [0.1111111111111111, \"#46039f\"], [0.2222222222222222, \"#7201a8\"], [0.3333333333333333, \"#9c179e\"], [0.4444444444444444, \"#bd3786\"], [0.5555555555555556, \"#d8576b\"], [0.6666666666666666, \"#ed7953\"], [0.7777777777777778, \"#fb9f3a\"], [0.8888888888888888, \"#fdca26\"], [1.0, \"#f0f921\"]], \"type\": \"heatmap\"}], \"heatmapgl\": [{\"colorbar\": {\"outlinewidth\": 0, \"ticks\": \"\"}, \"colorscale\": [[0.0, \"#0d0887\"], [0.1111111111111111, \"#46039f\"], [0.2222222222222222, \"#7201a8\"], [0.3333333333333333, \"#9c179e\"], [0.4444444444444444, \"#bd3786\"], [0.5555555555555556, \"#d8576b\"], [0.6666666666666666, \"#ed7953\"], [0.7777777777777778, \"#fb9f3a\"], [0.8888888888888888, \"#fdca26\"], [1.0, \"#f0f921\"]], \"type\": \"heatmapgl\"}], \"histogram\": [{\"marker\": {\"colorbar\": {\"outlinewidth\": 0, \"ticks\": \"\"}}, \"type\": \"histogram\"}], \"histogram2d\": [{\"colorbar\": {\"outlinewidth\": 0, \"ticks\": \"\"}, \"colorscale\": [[0.0, \"#0d0887\"], [0.1111111111111111, \"#46039f\"], [0.2222222222222222, \"#7201a8\"], [0.3333333333333333, \"#9c179e\"], [0.4444444444444444, \"#bd3786\"], [0.5555555555555556, \"#d8576b\"], [0.6666666666666666, \"#ed7953\"], [0.7777777777777778, \"#fb9f3a\"], [0.8888888888888888, \"#fdca26\"], [1.0, \"#f0f921\"]], \"type\": \"histogram2d\"}], \"histogram2dcontour\": [{\"colorbar\": {\"outlinewidth\": 0, \"ticks\": \"\"}, \"colorscale\": [[0.0, \"#0d0887\"], [0.1111111111111111, \"#46039f\"], [0.2222222222222222, \"#7201a8\"], [0.3333333333333333, \"#9c179e\"], [0.4444444444444444, \"#bd3786\"], [0.5555555555555556, \"#d8576b\"], [0.6666666666666666, \"#ed7953\"], [0.7777777777777778, \"#fb9f3a\"], [0.8888888888888888, \"#fdca26\"], [1.0, \"#f0f921\"]], \"type\": \"histogram2dcontour\"}], \"mesh3d\": [{\"colorbar\": {\"outlinewidth\": 0, \"ticks\": \"\"}, \"type\": \"mesh3d\"}], \"parcoords\": [{\"line\": {\"colorbar\": {\"outlinewidth\": 0, \"ticks\": \"\"}}, \"type\": \"parcoords\"}], \"pie\": [{\"automargin\": true, \"type\": \"pie\"}], \"scatter\": [{\"marker\": {\"colorbar\": {\"outlinewidth\": 0, \"ticks\": \"\"}}, \"type\": \"scatter\"}], \"scatter3d\": [{\"line\": {\"colorbar\": {\"outlinewidth\": 0, \"ticks\": \"\"}}, \"marker\": {\"colorbar\": {\"outlinewidth\": 0, \"ticks\": \"\"}}, \"type\": \"scatter3d\"}], \"scattercarpet\": [{\"marker\": {\"colorbar\": {\"outlinewidth\": 0, \"ticks\": \"\"}}, \"type\": \"scattercarpet\"}], \"scattergeo\": [{\"marker\": {\"colorbar\": {\"outlinewidth\": 0, \"ticks\": \"\"}}, \"type\": \"scattergeo\"}], \"scattergl\": [{\"marker\": {\"colorbar\": {\"outlinewidth\": 0, \"ticks\": \"\"}}, \"type\": \"scattergl\"}], \"scattermapbox\": [{\"marker\": {\"colorbar\": {\"outlinewidth\": 0, \"ticks\": \"\"}}, \"type\": \"scattermapbox\"}], \"scatterpolar\": [{\"marker\": {\"colorbar\": {\"outlinewidth\": 0, \"ticks\": \"\"}}, \"type\": \"scatterpolar\"}], \"scatterpolargl\": [{\"marker\": {\"colorbar\": {\"outlinewidth\": 0, \"ticks\": \"\"}}, \"type\": \"scatterpolargl\"}], \"scatterternary\": [{\"marker\": {\"colorbar\": {\"outlinewidth\": 0, \"ticks\": \"\"}}, \"type\": \"scatterternary\"}], \"surface\": [{\"colorbar\": {\"outlinewidth\": 0, \"ticks\": \"\"}, \"colorscale\": [[0.0, \"#0d0887\"], [0.1111111111111111, \"#46039f\"], [0.2222222222222222, \"#7201a8\"], [0.3333333333333333, \"#9c179e\"], [0.4444444444444444, \"#bd3786\"], [0.5555555555555556, \"#d8576b\"], [0.6666666666666666, \"#ed7953\"], [0.7777777777777778, \"#fb9f3a\"], [0.8888888888888888, \"#fdca26\"], [1.0, \"#f0f921\"]], \"type\": \"surface\"}], \"table\": [{\"cells\": {\"fill\": {\"color\": \"#EBF0F8\"}, \"line\": {\"color\": \"white\"}}, \"header\": {\"fill\": {\"color\": \"#C8D4E3\"}, \"line\": {\"color\": \"white\"}}, \"type\": \"table\"}]}, \"layout\": {\"annotationdefaults\": {\"arrowcolor\": \"#2a3f5f\", \"arrowhead\": 0, \"arrowwidth\": 1}, \"coloraxis\": {\"colorbar\": {\"outlinewidth\": 0, \"ticks\": \"\"}}, \"colorscale\": {\"diverging\": [[0, \"#8e0152\"], [0.1, \"#c51b7d\"], [0.2, \"#de77ae\"], [0.3, \"#f1b6da\"], [0.4, \"#fde0ef\"], [0.5, \"#f7f7f7\"], [0.6, \"#e6f5d0\"], [0.7, \"#b8e186\"], [0.8, \"#7fbc41\"], [0.9, \"#4d9221\"], [1, \"#276419\"]], \"sequential\": [[0.0, \"#0d0887\"], [0.1111111111111111, \"#46039f\"], [0.2222222222222222, \"#7201a8\"], [0.3333333333333333, \"#9c179e\"], [0.4444444444444444, \"#bd3786\"], [0.5555555555555556, \"#d8576b\"], [0.6666666666666666, \"#ed7953\"], [0.7777777777777778, \"#fb9f3a\"], [0.8888888888888888, \"#fdca26\"], [1.0, \"#f0f921\"]], \"sequentialminus\": [[0.0, \"#0d0887\"], [0.1111111111111111, \"#46039f\"], [0.2222222222222222, \"#7201a8\"], [0.3333333333333333, \"#9c179e\"], [0.4444444444444444, \"#bd3786\"], [0.5555555555555556, \"#d8576b\"], [0.6666666666666666, \"#ed7953\"], [0.7777777777777778, \"#fb9f3a\"], [0.8888888888888888, \"#fdca26\"], [1.0, \"#f0f921\"]]}, \"colorway\": [\"#636efa\", \"#EF553B\", \"#00cc96\", \"#ab63fa\", \"#FFA15A\", \"#19d3f3\", \"#FF6692\", \"#B6E880\", \"#FF97FF\", \"#FECB52\"], \"font\": {\"color\": \"#2a3f5f\"}, \"geo\": {\"bgcolor\": \"white\", \"lakecolor\": \"white\", \"landcolor\": \"#E5ECF6\", \"showlakes\": true, \"showland\": true, \"subunitcolor\": \"white\"}, \"hoverlabel\": {\"align\": \"left\"}, \"hovermode\": \"closest\", \"mapbox\": {\"style\": \"light\"}, \"paper_bgcolor\": \"white\", \"plot_bgcolor\": \"#E5ECF6\", \"polar\": {\"angularaxis\": {\"gridcolor\": \"white\", \"linecolor\": \"white\", \"ticks\": \"\"}, \"bgcolor\": \"#E5ECF6\", \"radialaxis\": {\"gridcolor\": \"white\", \"linecolor\": \"white\", \"ticks\": \"\"}}, \"scene\": {\"xaxis\": {\"backgroundcolor\": \"#E5ECF6\", \"gridcolor\": \"white\", \"gridwidth\": 2, \"linecolor\": \"white\", \"showbackground\": true, \"ticks\": \"\", \"zerolinecolor\": \"white\"}, \"yaxis\": {\"backgroundcolor\": \"#E5ECF6\", \"gridcolor\": \"white\", \"gridwidth\": 2, \"linecolor\": \"white\", \"showbackground\": true, \"ticks\": \"\", \"zerolinecolor\": \"white\"}, \"zaxis\": {\"backgroundcolor\": \"#E5ECF6\", \"gridcolor\": \"white\", \"gridwidth\": 2, \"linecolor\": \"white\", \"showbackground\": true, \"ticks\": \"\", \"zerolinecolor\": \"white\"}}, \"shapedefaults\": {\"line\": {\"color\": \"#2a3f5f\"}}, \"ternary\": {\"aaxis\": {\"gridcolor\": \"white\", \"linecolor\": \"white\", \"ticks\": \"\"}, \"baxis\": {\"gridcolor\": \"white\", \"linecolor\": \"white\", \"ticks\": \"\"}, \"bgcolor\": \"#E5ECF6\", \"caxis\": {\"gridcolor\": \"white\", \"linecolor\": \"white\", \"ticks\": \"\"}}, \"title\": {\"x\": 0.05}, \"xaxis\": {\"automargin\": true, \"gridcolor\": \"white\", \"linecolor\": \"white\", \"ticks\": \"\", \"title\": {\"standoff\": 15}, \"zerolinecolor\": \"white\", \"zerolinewidth\": 2}, \"yaxis\": {\"automargin\": true, \"gridcolor\": \"white\", \"linecolor\": \"white\", \"ticks\": \"\", \"title\": {\"standoff\": 15}, \"zerolinecolor\": \"white\", \"zerolinewidth\": 2}}}, \"width\": 600, \"xaxis\": {\"anchor\": \"y\", \"domain\": [0.0, 1.0], \"title\": {\"text\": \"x\"}}, \"yaxis\": {\"anchor\": \"x\", \"domain\": [0.0, 1.0], \"title\": {\"text\": \"y\"}}},\n",
              "                        {\"responsive\": true}\n",
              "                    ).then(function(){\n",
              "                            \n",
              "var gd = document.getElementById('cb18def3-6efd-4ce6-8085-f78aba18e99c');\n",
              "var x = new MutationObserver(function (mutations, observer) {{\n",
              "        var display = window.getComputedStyle(gd).display;\n",
              "        if (!display || display === 'none') {{\n",
              "            console.log([gd, 'removed!']);\n",
              "            Plotly.purge(gd);\n",
              "            observer.disconnect();\n",
              "        }}\n",
              "}});\n",
              "\n",
              "// Listen for the removal of the full notebook cells\n",
              "var notebookContainer = gd.closest('#notebook-container');\n",
              "if (notebookContainer) {{\n",
              "    x.observe(notebookContainer, {childList: true});\n",
              "}}\n",
              "\n",
              "// Listen for the clearing of the current output cell\n",
              "var outputEl = gd.closest('.output');\n",
              "if (outputEl) {{\n",
              "    x.observe(outputEl, {childList: true});\n",
              "}}\n",
              "\n",
              "                        })\n",
              "                };\n",
              "                \n",
              "            </script>\n",
              "        </div>\n",
              "</body>\n",
              "</html>"
            ]
          },
          "metadata": {
            "tags": []
          }
        }
      ]
    },
    {
      "cell_type": "code",
      "metadata": {
        "colab": {
          "base_uri": "https://localhost:8080/",
          "height": 517
        },
        "id": "G7ZA5XVieZkY",
        "outputId": "8f233981-eff9-4229-f34e-cca03161b502"
      },
      "source": [
        "fig = px.scatter(x = user_meta_df['age'],\n",
        "                 y = user_meta_df['recommended_cnt'])\n",
        "fig.update_layout(width = 600, height = 500)\n",
        "fig.show()"
      ],
      "execution_count": 30,
      "outputs": [
        {
          "output_type": "display_data",
          "data": {
            "text/html": [
              "<html>\n",
              "<head><meta charset=\"utf-8\" /></head>\n",
              "<body>\n",
              "    <div>\n",
              "            <script src=\"https://cdnjs.cloudflare.com/ajax/libs/mathjax/2.7.5/MathJax.js?config=TeX-AMS-MML_SVG\"></script><script type=\"text/javascript\">if (window.MathJax) {MathJax.Hub.Config({SVG: {font: \"STIX-Web\"}});}</script>\n",
              "                <script type=\"text/javascript\">window.PlotlyConfig = {MathJaxConfig: 'local'};</script>\n",
              "        <script src=\"https://cdn.plot.ly/plotly-latest.min.js\"></script>    \n",
              "            <div id=\"1bf51008-e183-4613-a47a-493c76f0f80b\" class=\"plotly-graph-div\" style=\"height:500px; width:600px;\"></div>\n",
              "            <script type=\"text/javascript\">\n",
              "                \n",
              "                    window.PLOTLYENV=window.PLOTLYENV || {};\n",
              "                    \n",
              "                if (document.getElementById(\"1bf51008-e183-4613-a47a-493c76f0f80b\")) {\n",
              "                    Plotly.newPlot(\n",
              "                        '1bf51008-e183-4613-a47a-493c76f0f80b',\n",
              "                        [{\"hoverlabel\": {\"namelength\": 0}, \"hovertemplate\": \"x=%{x}<br>y=%{y}\", \"legendgroup\": \"\", \"marker\": {\"color\": \"#636efa\", \"symbol\": \"circle\"}, \"mode\": \"markers\", \"name\": \"\", \"showlegend\": false, \"type\": \"scattergl\", \"x\": [27, 27, 23, 24, 23, 27, 28, 26, 27, 23, 23, 28, 27, 28, 27, 28, 25, 28, 26, 22, 26, 26, 25, 27, 25, 22, 26, 27, 27, 25, 25, 22, 26, 25, 25, 29, 24, 25, 27, 29, 24, 24, 25, 26, 28, 27, 25, 26, 23, 22, 19, 27, 29, 25, 23, 28, 27, 24, 25, 24, 24, 22, 29, 24, 23, 26, 27, 26, 26, 24, 29, 26, 27, 28, 22, 23, 25, 29, 27, 25, 28, 30, 23, 26, 26, 27, 21, 28, 27, 24, 27, 31, 23, 28, 25, 23, 25, 26, 29, 23, 25, 27, 23, 24, 26, 27, 25, 28, 27, 26, 26, 21, 22, 24, 27, 25, 27, 24, 25, 24, 25, 29, 26, 29, 27, 25, 22, 28, 26, 23, 22, 26, 29, 26, 27, 23, 28, 26, 24, 26, 23, 28, 25, 25, 28, 26, 26, 22, 25, 26, 23, 22, 27, 23, 26, 26, 28, 27, 29, 27, 27, 24, 25, 27, 29, 24, 25, 26, 26, 23, 23, 25, 25, 26, 27, 26, 30, 31, 32, 26, 30, 33, 37, 31, 33, 27, 30, 27, 32, 32, 31, 27, 33, 34, 28, 32, 32, 34, 31, 29, 31, 31, 30, 32, 33, 29, 33, 29, 34, 30, 30, 35, 32, 29, 29, 31, 32, 30, 33, 31, 33, 33, 30, 29, 29, 31, 31, 30, 31, 29, 31, 34, 30, 33, 30, 26, 32, 33, 31, 32, 27, 35, 34, 33, 35, 29, 34, 31, 29, 32, 29, 38, 29, 32, 28, 30, 30, 29, 38, 35, 32, 30, 33, 30, 40, 32, 35, 30, 34, 30, 33, 28, 27, 35, 30, 34, 29, 31, 31, 30, 34, 35, 31, 29, 28, 34, 33, 31, 30, 32, 31, 29, 32, 34, 33, 30, 32, 30, 33, 36, 32, 34, 33, 26, 23, 27, 36, 35, 36, 32, 30, 28, 34, 31, 36, 34, 30, 34, 34, 33, 30, 27, 31, 31, 31, 31, 33, 31, 40, 32, 31, 35, 34, 30, 36, 32, 26, 29, 35, 31, 28, 32, 27, 25, 28, 37, 30, 28, 28, 26, 36, 31, 32, 32, 33, 31, 33, 38, 31, 33, 31, 29, 32, 30, 34, 31, 32, 34, 33, 28, 31, 34, 31, 31, 32, 27, 28, 30, 30, 28, 31, 34, 32, 33, 31, 29, 32, 30, 31, 34, 29, 33, 30, 30, 30, 32, 42, 42, 43, 40, 42, 39, 51, 47, 46, 47, 47, 37, 45, 45, 47, 38, 36, 42, 42, 40, 45, 44, 48, 43, 38, 41, 43, 44, 46, 40, 39, 47, 39, 39, 45, 36, 36, 36, 47, 38, 32, 48, 43, 46, 44, 45, 43, 42, 47, 50, 42, 37, 48, 44, 42, 51, 36, 44, 46, 38, 45, 42, 38, 37, 52, 49, 42, 38, 50, 46, 45, 44, 45, 41, 50, 41, 42, 39, 39, 49, 40, 36, 39, 47, 43, 45, 37, 35, 41, 46, 50, 46, 45, 41, 42, 40, 47, 44, 44, 47, 44, 45, 36, 40, 46, 43, 43, 40, 40, 44, 43, 38, 38, 42, 39, 38, 41, 43, 37, 43, 34, 45, 35, 37, 45, 43, 43, 37, 50, 42, 48, 37, 47, 37, 45, 45, 38, 54, 48, 49, 48, 41, 46, 43, 51, 44, 44, 38, 32, 41, 42, 46, 38, 42, 47, 39, 42, 41, 37, 43, 42, 40, 45, 38, 44, 46, 44, 40, 44, 40, 46, 41, 47, 43, 43, 41, 46, 44, 34, 45, 48, 47, 37, 44, 49, 43, 39, 53, 49, 47, 50, 45, 46, 40, 43, 32, 37, 49, 38, 41, 34, 46, 54, 43, 49, 37, 38, 40, 47, 39, 43, 49, 41, 32, 46, 47, 40, 50, 42, 44, 43, 44, 36, 44, 40, 45, 45, 46, 44, 36, 28, 28, 27, 26, 26, 26, 27, 24, 26, 22, 26, 25, 22, 25, 29, 23, 25, 21, 24, 26, 22, 30, 23, 26, 28, 26, 24, 26, 26, 26, 22, 23, 27, 25, 28, 25, 23, 26, 27, 24, 21, 25, 23, 29, 26, 28, 29, 23, 24, 30, 26, 25, 27, 27, 24, 28, 25, 26, 27, 24, 24, 24, 30, 28, 27, 28, 26, 24, 27, 24, 29, 26, 30, 25, 21, 29, 31, 26, 24, 26, 21, 25, 24, 25, 28, 28, 28, 24, 25, 31, 26, 20, 26, 24, 32, 29, 30, 26, 25, 26, 24, 23, 28, 27, 27, 29, 26, 26, 24, 29, 24, 31, 27, 23, 24, 23, 22, 23, 29, 31, 25, 27, 48, 45, 31, 24, 46, 48, 21, 22, 20, 25, 22, 50, 42, 43, 33, 30, 29, 34, 37, 30, 23, 35, 26, 24, 47, 24, 45, 39, 49, 42, 29, 40, 46, 25, 32, 32, 37, 29, 27, 21, 26, 19, 33, 22, 38, 25, 27, 31, 42, 30, 28, 26, 24, 27, 25, 31, 52, 26, 27, 34, 25, 46, 25, 26, 24, 27, 23, 31, 23, 26, 32, 25, 49, 36, 44, 21, 26, 25, 43, 39, 25, 51, 25, 30, 22, 26, 37, 39, 25, 26, 32, 29, 25, 25, 26, 42, 29, 36, 32, 21, 43, 36, 47, 38, 23, 26, 33, 38, 23, 26, 33, 27, 18, 52, 23, 26, 32, 28, 23, 25, 28, 28, 37, 42, 27, 41, 28, 22, 37, 31, 27, 50, 28, 38, 45, 24, 33, 35, 35, 34, 32, 29, 32, 28, 26, 26, 28, 28, 31, 26, 24, 22, 26, 43, 25, 21, 42, 40, 30, 32, 43, 31, 26, 27, 30, 24, 25, 25, 38, 23, 34, 25, 24, 23, 27, 27, 20, 32, 45, 42, 25, 25, 20, 26, 28, 26, 32, 26, 29, 22, 24, 27, 25, 28, 24, 27, 39, 25, 34, 25, 30, 25, 30, 27, 30, 27, 26, 23, 27, 29, 25, 24, 21, 40, 30, 26, 33, 25, 24, 23, 24, 25, 48, 33, 28, 24, 30, 24, 45, 30, 26, 30, 46, 29, 24, 29, 29, 25, 22, 32, 42, 31, 26, 23, 25, 24, 29, 45, 32, 26, 26, 27, 36, 39, 31, 31, 22, 48, 27, 43, 33, 23, 26, 39, 23, 29, 35, 28, 31, 24, 32, 24, 28, 32, 29, 30, 30, 38, 49, 27, 49, 25, 24, 51, 28, 24, 50, 23, 40, 25, 36, 32, 45, 37, 31, 33, 42, 42, 32, 30, 26, 28, 30, 23, 28, 39, 35, 27, 29, 27, 34, 28, 28, 31, 32, 33, 24, 25, 24, 33, 23, 23, 41, 30, 27, 27, 25, 29, 23, 32, 27, 21, 27, 45, 31, 30, 34, 31, 24, 33, 24, 26, 41, 26, 46, 22, 22, 27, 26, 27, 22, 26, 32, 25, 28, 32, 28, 40, 25, 26, 43, 22, 29, 27, 41, 26, 32, 25, 26, 46, 31, 31, 30, 27, 28, 45, 31, 25, 28, 31, 25, 32, 31, 41, 24, 27, 30, 25, 24, 38, 22, 26, 24, 39, 48, 34, 36, 45, 27, 47, 28, 25, 33, 23, 31, 33, 37, 29, 36, 26, 27, 43, 30, 52, 27, 30, 32, 24, 24, 30, 29, 22, 32, 27, 25, 41, 31, 27, 44, 24, 29, 26, 29, 24, 21, 30, 31, 29, 28, 24, 27, 38, 23, 24, 28, 29, 30, 28, 27, 23, 20, 42, 32, 22, 26, 23, 22, 36, 28, 25, 23, 26, 31, 31, 22, 26, 24, 41, 30, 24, 28, 24, 42, 25, 25, 27, 33, 31, 31, 31, 23, 22, 24, 26, 28, 46, 31, 26, 23, 37, 30, 27, 39, 24, 30, 30, 22, 26, 22, 32, 42, 31, 22, 26, 23, 47, 32, 20, 33, 25, 45, 23, 45, 25, 18, 23, 53, 46, 22, 38, 24, 27, 47, 31, 24, 43, 32, 29, 28, 28, 25, 25, 23, 43, 32, 29, 30, 29, 27, 26, 22, 28, 25, 21, 24, 44, 30, 27, 33, 30, 34, 24, 26, 28, 30, 27, 29, 29, 37, 45, 28, 42, 41, 46, 34, 23, 26, 46, 41, 24, 49, 32, 28, 28, 23, 44, 33, 33, 27, 31, 36, 25, 31, 46, 30, 30, 21, 42, 51, 27, 28, 25, 20, 46, 26, 30, 50, 26, 45, 31, 33, 40, 28, 48, 39, 25, 30, 26, 30, 27, 30, 30, 48, 30, 30, 29, 22, 32, 23, 34, 21, 22, 24, 54, 31, 36, 23, 28, 29, 44, 27, 33, 35, 29, 27, 21, 28, 47, 26, 30, 27, 27, 46, 47, 32, 27, 32, 25, 51, 36, 40, 23, 34, 31, 28, 23, 27, 32, 25, 24, 32, 28, 26, 34, 27, 23, 26, 45, 23, 40, 28, 31, 42, 31, 47, 28, 38, 31, 27, 45, 45, 28, 30, 26, 39, 23, 32, 28, 48, 30, 23, 22, 26, 25, 26, 40, 46, 34, 22, 24, 27, 34, 47, 39, 32, 26, 24, 31, 52, 42, 33, 26, 31, 22, 28, 47, 33, 27, 24, 29, 32, 25, 26, 27, 43, 43, 34, 32, 28, 27, 30, 39, 41, 49, 39, 35, 31, 44, 24, 28, 48, 25, 42, 40, 35, 21, 43, 22, 44, 45, 27, 27, 30, 41, 31, 32, 24, 31, 31, 34, 25, 31, 20, 48, 27, 27, 31, 33, 28, 27, 29, 29, 43, 25, 23, 38, 23, 20, 24, 23, 23, 30, 30, 29, 35, 28, 28, 27, 44, 21, 26, 34, 25, 26, 30, 28, 40, 24, 25, 27, 48, 32, 29, 32, 44, 47, 26, 33, 32, 43, 23, 25, 21, 26, 26, 40, 33, 29, 29, 32, 41, 27, 43, 25, 32, 45, 25, 25, 31, 34, 36, 27, 47, 40, 25, 28, 40, 27, 25, 27, 23, 27, 28, 26, 29, 26, 30, 30, 25, 40, 29, 29, 29, 20, 25, 46, 22, 31, 43, 26, 26, 30, 24, 26, 43, 23, 47, 43, 28, 32, 26, 25, 34, 24, 31, 24, 25, 45, 34, 33, 30, 24, 53, 25, 33, 26, 30, 36, 26, 34, 23, 27, 42, 25, 46, 33, 41, 41, 20, 25, 26, 32, 33, 31, 28, 24, 25, 33, 23, 22, 42, 28, 30, 26, 41, 40, 30, 24, 35, 47, 29, 27, 24, 29, 47, 28, 34, 32, 46, 36, 36, 32, 24, 35, 34, 40, 25, 20, 26, 31, 35, 34, 28, 24, 32, 25, 22, 49, 25, 29, 32, 27, 24, 46, 39, 25, 46, 38, 27, 32, 42, 25, 27, 27, 24, 41, 27, 19, 46, 25, 30, 25, 28, 30, 45, 34, 28, 24, 31, 32, 26, 32, 23, 31, 42, 42, 27, 33, 20, 31, 30, 34, 25, 42, 32, 29, 28, 32, 28, 24, 40, 39, 43, 25, 31, 26, 26, 25, 31, 42, 41, 36, 47, 40, 33, 28, 49, 25, 28, 25, 41, 48, 22, 41, 32, 32, 22, 39, 46, 31, 23, 31, 24, 26, 27, 23, 42, 26, 44, 30, 26, 29, 32, 28, 21, 35, 43, 24, 23, 29, 34, 31, 35, 40, 25, 29, 44, 22, 27, 32, 27, 25, 27, 28, 29, 28, 27, 32, 29, 25, 34, 24, 34, 23, 25, 45, 23, 28, 46, 25, 25, 26, 25, 22, 25, 24, 34, 26, 25, 23, 27, 29, 37, 31, 27, 25, 25, 32, 37, 28, 23, 35, 45, 41, 24, 40, 26, 28, 28, 28, 24, 26, 28, 27, 21, 41, 30, 48, 30, 36, 24, 23, 26, 28, 32, 27, 47, 40, 48, 28, 46, 53, 37, 39, 46, 26, 26, 44, 47, 24, 25, 24, 48, 26, 46, 45, 38, 40, 23, 46, 23, 27, 28, 32, 25, 28, 32, 27, 25, 23, 31, 33, 28, 25, 25, 50, 27, 42, 30, 25, 24, 42, 30, 34, 39, 26, 33, 25, 29, 27, 33, 49, 25, 22, 45, 48, 28, 41, 23, 32, 24, 29, 25, 30, 44, 47, 18, 43, 45, 34, 30, 29, 30, 34, 24, 25, 31, 33, 34, 43, 42, 39, 34, 23, 28, 31, 47, 32, 26, 29, 29, 29, 26, 26, 41, 26, 28, 30, 31, 31, 30, 31, 32, 24, 42, 28, 40, 31, 42, 32, 30, 46, 44, 42, 30, 26, 26, 44, 27, 20, 23, 32, 36, 23, 23, 28, 25, 27, 27, 52, 32, 30, 21, 23, 30, 31, 39, 31, 37, 29, 41, 25, 37, 27, 30, 31, 28, 24, 33, 29, 29, 34, 23, 26, 37, 38, 31, 45, 32, 29, 28, 39, 33, 25, 34, 23, 22, 40, 45, 25, 28, 28, 45, 31, 19, 34, 35, 22, 24, 23, 27, 29, 35, 26, 29, 27, 26, 27, 26, 33, 26, 29, 30, 27, 32, 33, 43, 30, 33, 31, 25, 31, 28, 32, 43, 48, 26, 30, 28, 42, 24, 30, 38, 31, 51, 37, 28, 32, 22, 47, 30, 27, 21, 26, 26, 31, 39, 31, 25, 31, 28, 30, 28, 28, 27, 25, 25, 28, 22, 34, 42, 24, 23, 25, 32, 28, 29, 36, 42, 27, 32, 45, 23, 26, 22, 27, 32, 28, 43, 23, 39, 30, 27, 31, 21, 26, 36, 24, 35, 47, 28, 26, 33, 33, 34, 24, 25, 44, 24, 25, 22, 44, 29, 43, 30, 32, 25, 33, 22, 40, 31, 30, 44, 23, 39, 27, 22, 39, 52, 37, 24, 25, 32, 28, 26, 47, 23, 33, 39, 25, 53, 46, 26, 38, 23, 26, 44, 29, 43, 45, 41, 25, 45, 40, 23, 47, 26, 46, 30, 30, 31, 44, 23, 24, 26, 22, 23, 40, 25, 27, 30, 31, 41, 29, 27, 43, 20, 42, 29, 23, 27, 26, 45, 23, 30, 30, 27, 29, 28, 27, 45, 34, 24, 40, 24, 44, 25, 37, 25, 23, 22, 22, 27, 28, 33, 31, 28, 27, 28, 24, 21, 24, 31, 27, 46, 29, 31, 31, 25, 30, 23, 47, 28, 51, 44, 36, 33, 35, 27, 23, 45, 40, 24, 33, 44, 30, 31, 26, 24, 28, 27, 22, 23, 25, 24, 27, 47, 25, 43, 25, 33, 44, 39, 46, 25, 29, 41, 27, 28, 28, 40, 44, 28, 28, 26, 33, 32, 35, 26, 26, 29, 33, 28, 27, 25, 28, 30, 29, 26, 28, 23, 29, 47, 31, 22, 28, 40, 29, 29, 25, 30, 45, 42, 51, 33, 33, 39, 25, 31, 35, 36, 24, 27, 40, 41, 28, 46, 26, 49, 24, 31, 27, 25, 44, 24, 47, 27, 35, 32, 27, 25, 24, 23, 25, 24, 28, 23, 33, 27, 26, 29, 50, 31, 43, 25, 37, 28, 27, 40, 24, 29, 26, 22, 25, 32, 26, 20, 27, 41, 25, 43, 27, 28, 27, 26, 24, 37, 41, 43, 30, 29, 36, 32, 36, 28, 26, 29, 35, 44, 30, 25, 18, 26, 33, 28, 32, 27, 29, 25, 31, 23, 25, 26, 23, 36, 28, 25, 38, 42, 40, 44, 44, 41, 42, 27, 29, 40, 24, 33, 24, 32, 23, 50, 28, 22, 30, 51, 36, 29, 23, 39, 22, 29, 26, 34, 27, 43, 33, 32, 25, 43, 45, 24, 33, 42, 27, 43, 27, 27, 23, 29, 36, 45, 22, 26, 30, 38, 33, 24, 19, 29, 35, 25, 29, 26, 47, 26, 42, 27, 27, 26, 26, 30, 26, 36, 28, 27, 41, 28, 42, 24, 38, 28, 50, 26, 43, 22, 30, 32, 22, 22, 18, 24, 22, 26, 25, 22, 29, 33, 24, 21, 30, 42, 24, 28, 23, 42, 28, 28, 24, 26, 25, 44, 19, 40, 29, 30, 43, 25, 30, 51, 24, 27, 28, 35, 28, 35, 26, 25, 53, 22, 26, 27, 23, 43, 40, 29, 24, 25, 25, 30, 41, 46, 26, 24, 28, 27, 46, 26, 34, 32, 29, 29, 45, 23, 27, 23, 30, 26, 36, 29, 30, 36, 43, 51, 29, 46, 22, 33, 31, 32, 27, 35, 22, 39, 40, 26, 42, 40, 32, 34, 24, 38, 26, 35, 31, 27, 22, 34, 24, 29, 26, 24, 28, 28, 29, 31, 46, 32, 30, 30, 28, 28, 29, 24, 22, 26, 30, 41, 23, 28, 49, 24, 40, 27, 48, 32, 36, 27, 26, 39, 21, 39, 38, 32, 28, 38, 32, 26, 31, 33, 27, 33, 36, 22, 23, 31, 27, 29, 30, 25, 23, 21, 24, 28, 25, 27, 35, 32, 46, 27, 20, 29, 31, 29, 28, 41, 38, 32, 36, 26, 28, 20, 28, 29, 46, 28, 31, 23, 26, 36, 31, 23, 28, 26, 30, 40, 26, 35, 31, 27, 40, 29, 28, 38, 42, 28, 28, 31, 25, 32, 53, 43, 24, 31, 26, 27, 38, 30, 25, 33, 30, 25, 39, 33, 41, 32, 47, 37, 28, 30, 24, 44, 28, 37, 32, 27, 51, 23, 24, 28, 24, 32, 39, 28, 49, 30, 26, 40, 39, 49, 24, 34, 26, 49, 24, 26, 24, 26, 22, 34, 29, 28, 29, 24, 41, 27, 24, 27, 23, 31, 27, 40, 28, 25, 31, 31, 33, 27, 37, 35, 42, 32, 28, 34, 48, 33, 40, 29, 23, 34, 24, 34, 25, 30, 32, 24, 29, 43, 28, 28, 27, 24, 24, 28, 30, 30, 25, 43, 35, 21, 31, 23, 25, 28, 27, 36, 37, 40, 23, 26, 25, 33, 25, 40, 28, 26, 20, 23, 31, 25, 45, 38, 47, 51, 36, 25, 28, 47, 31, 25, 27, 27, 34, 26, 49, 26, 28, 38, 27, 27, 27, 31, 26, 33, 21, 22, 24, 30, 27, 31, 39, 50, 26, 42, 26, 33, 43, 28, 35, 22, 31, 23, 26, 39, 45, 26, 44, 30, 30, 29, 24, 30, 22, 34, 31, 29, 37, 30, 32, 29, 33, 33, 41, 28, 30, 34, 31, 26, 28, 29, 24, 45, 26, 27, 25, 39, 25, 26, 30, 42, 42, 22, 32, 24, 26, 27, 20, 26, 33, 24, 22, 25, 46, 20, 51, 38, 35, 25, 24, 30, 32, 48, 26, 30, 28, 28, 29, 26, 25, 28, 30, 45, 25, 33, 28, 29, 28, 31, 23, 40, 26, 22, 25, 31, 20, 21, 32, 26, 24, 23, 31, 27, 31, 43, 21, 28, 38, 28, 33, 24, 47, 45, 27, 40, 24, 47, 43, 29, 33, 41, 33, 29, 45, 31, 34, 29, 48, 40, 22, 26, 23, 35, 55, 26, 38, 33, 27, 33, 24, 25, 24, 26, 31, 22, 26, 44, 31, 30, 30, 27, 32, 26, 31, 50, 24, 25, 43, 28, 28, 22, 23, 26, 35, 29, 25, 22, 31, 27, 49, 34, 31, 24, 25, 23, 28, 40, 29, 19, 31, 37, 29, 27, 45, 23, 25, 24, 28, 42, 32, 27, 45, 30, 26, 48, 46, 21, 36, 29, 37, 25, 33, 29, 46, 29, 26, 36, 45, 27, 29, 48, 44, 31, 26, 36, 49, 22, 38, 23, 31, 27, 48, 44, 46, 27, 29, 23, 23, 26, 26, 26, 27, 27, 24, 34, 35, 37, 45, 31, 28, 28, 41, 24, 41, 23, 32, 23, 23, 33, 29, 27, 21, 41, 37, 36, 25, 25, 31, 34, 27, 45, 45, 39, 42, 20, 20, 33, 31, 46, 24, 22, 42, 29, 26, 33, 44, 28, 24, 26, 35, 30, 46, 42, 33, 43, 34, 24, 25, 24, 24, 30, 41, 26, 24, 32, 30, 32, 30, 30, 37, 38, 26, 23, 26, 43, 32, 25, 50, 26, 33, 22, 19, 43, 29, 32, 33, 25, 27, 28, 24, 26, 28, 40, 27, 34, 45, 41, 26, 27, 28, 25, 30, 24, 29, 27, 28, 30, 26, 46, 29, 29, 27, 40, 41, 26, 26, 24, 22, 31, 30, 35, 34, 42, 31, 30, 46, 29, 27, 35, 32, 26, 45, 24, 49, 23, 25, 35, 30, 27, 24, 40, 46, 26, 38, 25, 43, 37, 46, 42, 24, 29, 23, 45, 43, 30, 44, 26, 26, 30, 27, 42, 23, 24, 25, 25, 32, 44, 22, 26, 26, 45, 39, 30, 49, 27, 25, 27, 32, 29, 42, 30, 27, 25, 26, 25, 40, 36, 21, 28, 48, 44, 22, 44, 22, 45, 31, 26, 27, 24, 24, 42, 28, 53, 30, 28, 23, 22, 33, 45, 47, 35, 26, 39, 38, 29, 25, 23, 31, 43, 29, 45, 24, 24, 27, 42, 28, 46, 30, 29, 24, 27, 27, 22, 38, 43, 46, 34, 35, 21, 25, 30, 25, 25, 38, 23, 28, 41, 25, 29, 25, 23, 23, 33, 33, 45, 28, 27, 26, 51, 43, 34, 21, 41, 32, 27, 25, 43, 22, 33, 24, 27, 22, 22, 33, 40, 25, 27, 44, 16, 27, 29, 26, 44, 32, 47, 25, 29, 28, 25, 27, 24, 45, 30, 33, 27, 27, 33, 31, 31, 26, 48, 26, 29, 48, 33, 41, 24, 24, 30, 27, 41, 44, 34, 24], \"xaxis\": \"x\", \"y\": [4, 1, 6, 2, 2, 0, 1, 0, 1, 5, 7, 4, 2, 1, 4, 0, 3, 3, 3, 3, 5, 4, 2, 2, 3, 4, 4, 4, 0, 2, 2, 3, 2, 2, 2, 2, 3, 0, 1, 1, 2, 1, 3, 2, 1, 0, 3, 3, 4, 2, 5, 3, 2, 3, 2, 2, 4, 4, 3, 3, 3, 4, 2, 2, 1, 3, 0, 4, 5, 5, 0, 4, 3, 2, 2, 1, 2, 0, 0, 4, 3, 1, 4, 3, 5, 2, 5, 3, 5, 1, 5, 3, 2, 2, 6, 1, 3, 1, 0, 5, 2, 0, 0, 4, 3, 2, 3, 1, 1, 2, 1, 0, 0, 3, 1, 2, 2, 4, 2, 2, 5, 0, 2, 1, 1, 1, 3, 2, 3, 4, 5, 1, 0, 2, 1, 3, 2, 4, 1, 2, 5, 3, 4, 3, 0, 2, 0, 2, 2, 0, 2, 3, 2, 3, 2, 4, 4, 5, 4, 0, 3, 2, 2, 2, 4, 2, 4, 5, 4, 5, 4, 4, 1, 6, 1, 1, 0, 2, 0, 0, 0, 8, 0, 1, 0, 0, 6, 0, 11, 1, 1, 4, 5, 0, 3, 0, 7, 1, 2, 0, 0, 5, 5, 0, 2, 3, 0, 2, 3, 0, 0, 0, 0, 8, 0, 6, 5, 9, 9, 0, 0, 0, 6, 0, 10, 0, 8, 5, 0, 3, 0, 3, 0, 0, 1, 0, 3, 3, 0, 5, 5, 11, 0, 9, 6, 4, 0, 1, 0, 5, 6, 2, 2, 0, 4, 0, 3, 0, 13, 1, 0, 0, 0, 4, 2, 9, 0, 0, 0, 3, 12, 7, 0, 0, 4, 3, 8, 0, 0, 0, 5, 4, 0, 5, 0, 0, 0, 3, 1, 10, 2, 0, 12, 0, 0, 4, 7, 14, 0, 5, 0, 0, 0, 6, 2, 1, 4, 0, 0, 0, 9, 1, 6, 1, 1, 0, 8, 10, 2, 0, 5, 2, 0, 13, 4, 0, 13, 4, 4, 1, 0, 2, 0, 2, 3, 12, 1, 10, 0, 0, 1, 0, 4, 5, 0, 2, 0, 1, 0, 9, 0, 0, 1, 8, 0, 0, 0, 2, 0, 7, 0, 3, 1, 1, 0, 11, 0, 2, 0, 12, 10, 9, 1, 0, 0, 0, 0, 11, 2, 2, 4, 0, 2, 4, 0, 4, 0, 5, 0, 14, 0, 0, 0, 0, 3, 10, 2, 0, 2, 4, 0, 2, 0, 1, 0, 0, 1, 0, 0, 0, 1, 0, 1, 0, 5, 2, 1, 0, 5, 5, 2, 0, 0, 0, 1, 0, 1, 3, 0, 0, 0, 0, 3, 0, 0, 0, 0, 2, 0, 0, 2, 0, 5, 2, 5, 0, 3, 0, 0, 0, 2, 0, 4, 0, 0, 1, 0, 0, 1, 5, 0, 1, 0, 0, 2, 2, 0, 0, 0, 1, 0, 0, 0, 2, 0, 0, 2, 0, 0, 0, 0, 6, 1, 0, 1, 0, 0, 0, 0, 0, 0, 0, 2, 0, 0, 0, 2, 6, 0, 1, 0, 0, 0, 0, 9, 1, 0, 4, 2, 5, 0, 5, 0, 0, 0, 0, 0, 0, 2, 0, 0, 0, 0, 0, 0, 0, 0, 0, 0, 0, 0, 4, 2, 0, 5, 0, 1, 0, 3, 0, 0, 0, 0, 1, 3, 0, 0, 0, 0, 2, 0, 0, 1, 0, 0, 0, 3, 0, 8, 0, 0, 2, 3, 2, 2, 3, 0, 4, 3, 1, 0, 0, 0, 1, 0, 0, 0, 0, 0, 0, 0, 3, 1, 0, 3, 0, 0, 0, 0, 4, 0, 0, 4, 1, 2, 0, 2, 4, 0, 0, 0, 2, 1, 4, 1, 3, 0, 3, 0, 5, 0, 0, 0, 0, 4, 0, 2, 0, 0, 0, 2, 4, 0, 0, 2, 0, 4, 3, 6, 4, 3, 2, 2, 4, 3, 5, 1, 4, 6, 3, 0, 3, 2, 4, 2, 2, 3, 0, 3, 3, 3, 3, 3, 1, 3, 2, 5, 0, 2, 2, 0, 1, 2, 3, 2, 2, 5, 1, 3, 2, 3, 3, 4, 4, 4, 4, 2, 3, 3, 1, 5, 3, 4, 3, 1, 3, 0, 2, 0, 0, 2, 0, 0, 4, 2, 2, 2, 0, 2, 0, 3, 0, 0, 5, 3, 0, 5, 4, 3, 2, 1, 2, 2, 2, 2, 1, 1, 4, 1, 0, 1, 1, 0, 1, 3, 3, 3, 3, 3, 2, 0, 3, 3, 1, 0, 3, 3, 4, 2, 3, 2, 4, 3, 4, 2, 0, 4, 0, 0, 0, 5, 5, 2, 0, 3, 3, 4, 4, 4, 0, 0, 0, 4, 5, 0, 3, 0, 18, 3, 0, 4, 3, 0, 2, 3, 0, 2, 1, 0, 0, 5, 4, 2, 0, 2, 10, 3, 6, 1, 5, 0, 4, 0, 3, 0, 0, 4, 0, 1, 1, 1, 3, 3, 0, 0, 2, 1, 1, 5, 2, 1, 2, 2, 2, 4, 1, 6, 3, 0, 3, 4, 0, 0, 5, 3, 4, 0, 1, 1, 0, 2, 1, 2, 2, 0, 1, 1, 1, 9, 0, 3, 5, 2, 0, 0, 0, 2, 1, 0, 1, 0, 2, 1, 0, 5, 0, 3, 2, 5, 3, 1, 0, 3, 3, 13, 3, 3, 2, 1, 2, 0, 2, 0, 0, 2, 2, 0, 6, 4, 0, 3, 0, 0, 4, 0, 4, 0, 6, 5, 2, 0, 4, 6, 3, 0, 2, 0, 1, 0, 3, 2, 1, 3, 4, 6, 2, 0, 7, 7, 0, 2, 5, 10, 1, 3, 2, 1, 3, 0, 1, 3, 1, 0, 9, 5, 0, 2, 5, 1, 2, 6, 1, 1, 4, 0, 0, 2, 1, 4, 0, 8, 0, 3, 1, 0, 0, 0, 4, 1, 2, 0, 1, 6, 5, 3, 5, 0, 5, 2, 3, 5, 0, 8, 3, 0, 2, 5, 3, 4, 2, 0, 0, 2, 5, 1, 4, 3, 0, 3, 6, 0, 2, 0, 2, 0, 0, 1, 0, 0, 12, 2, 3, 1, 7, 11, 0, 0, 2, 1, 1, 0, 1, 0, 0, 3, 0, 1, 0, 5, 2, 2, 0, 3, 2, 0, 2, 0, 4, 0, 2, 0, 3, 1, 0, 3, 0, 0, 9, 0, 4, 3, 1, 3, 2, 0, 4, 0, 2, 0, 5, 4, 0, 0, 7, 1, 0, 0, 7, 3, 1, 5, 5, 4, 0, 0, 0, 1, 0, 5, 3, 8, 1, 4, 0, 3, 3, 3, 7, 4, 1, 3, 10, 1, 2, 0, 0, 3, 5, 1, 4, 3, 1, 0, 0, 0, 5, 2, 10, 2, 2, 0, 3, 0, 2, 5, 3, 2, 0, 2, 3, 0, 4, 4, 0, 7, 2, 2, 3, 1, 2, 1, 5, 3, 1, 0, 4, 5, 3, 0, 0, 0, 1, 2, 0, 0, 2, 5, 0, 3, 0, 0, 1, 5, 2, 7, 2, 4, 3, 4, 1, 2, 0, 0, 2, 4, 7, 0, 0, 0, 0, 10, 5, 8, 0, 0, 5, 0, 2, 3, 5, 2, 1, 1, 0, 0, 4, 6, 6, 1, 4, 10, 6, 4, 0, 10, 3, 1, 5, 10, 2, 0, 0, 3, 0, 1, 0, 3, 2, 0, 0, 2, 3, 1, 3, 2, 3, 0, 2, 4, 1, 2, 1, 1, 3, 2, 5, 4, 4, 4, 3, 0, 1, 4, 0, 2, 0, 10, 3, 6, 3, 0, 3, 3, 2, 0, 2, 2, 11, 3, 4, 3, 2, 2, 7, 8, 7, 4, 0, 0, 3, 0, 1, 2, 0, 4, 3, 4, 10, 0, 6, 0, 3, 1, 0, 2, 3, 1, 4, 0, 4, 0, 4, 6, 4, 0, 3, 6, 0, 3, 0, 0, 6, 4, 0, 0, 3, 0, 2, 1, 1, 2, 0, 0, 0, 3, 1, 0, 4, 4, 0, 0, 6, 2, 1, 0, 1, 0, 1, 2, 3, 3, 8, 4, 3, 3, 3, 3, 2, 2, 0, 0, 0, 7, 3, 2, 3, 0, 5, 0, 4, 0, 1, 2, 1, 4, 0, 1, 2, 0, 2, 3, 0, 2, 0, 3, 0, 3, 5, 2, 5, 4, 5, 3, 5, 0, 0, 3, 0, 0, 4, 1, 3, 0, 4, 6, 3, 0, 3, 0, 4, 0, 3, 4, 0, 5, 2, 2, 3, 5, 5, 4, 0, 2, 4, 3, 0, 3, 0, 3, 0, 5, 4, 1, 4, 4, 0, 2, 0, 3, 0, 4, 0, 4, 3, 2, 2, 4, 3, 0, 2, 7, 3, 2, 2, 1, 0, 3, 2, 2, 2, 2, 0, 5, 2, 2, 0, 4, 0, 1, 0, 0, 0, 0, 2, 0, 0, 4, 4, 7, 2, 0, 1, 0, 7, 7, 5, 0, 8, 3, 2, 3, 5, 5, 0, 0, 7, 4, 3, 1, 0, 4, 2, 3, 2, 3, 4, 0, 1, 0, 0, 1, 5, 0, 2, 3, 2, 3, 3, 0, 2, 7, 2, 2, 1, 0, 6, 3, 8, 5, 1, 1, 0, 2, 7, 8, 0, 2, 0, 0, 1, 0, 0, 0, 2, 0, 3, 4, 0, 6, 0, 2, 6, 6, 1, 4, 1, 2, 6, 2, 8, 5, 7, 0, 0, 6, 5, 1, 0, 4, 0, 3, 4, 5, 6, 4, 3, 2, 1, 5, 0, 10, 1, 1, 1, 7, 15, 1, 4, 4, 0, 4, 2, 4, 3, 0, 3, 5, 1, 0, 0, 0, 2, 0, 1, 1, 11, 11, 4, 1, 2, 3, 3, 4, 2, 1, 0, 5, 4, 0, 0, 3, 1, 0, 0, 5, 2, 0, 0, 0, 2, 0, 10, 3, 2, 1, 2, 4, 1, 6, 0, 0, 3, 4, 0, 4, 5, 4, 0, 1, 2, 1, 2, 4, 0, 5, 7, 5, 2, 2, 0, 0, 2, 1, 3, 0, 0, 1, 3, 3, 1, 10, 3, 5, 5, 4, 0, 0, 5, 0, 3, 4, 2, 0, 1, 5, 0, 3, 6, 2, 1, 0, 3, 4, 4, 1, 0, 2, 0, 5, 9, 0, 1, 0, 3, 1, 1, 1, 4, 2, 2, 9, 3, 0, 0, 0, 2, 7, 0, 4, 0, 3, 2, 6, 2, 0, 2, 1, 0, 0, 0, 0, 2, 0, 0, 1, 5, 4, 13, 0, 1, 0, 1, 0, 3, 2, 1, 6, 7, 10, 2, 4, 0, 0, 3, 1, 12, 4, 3, 0, 1, 2, 3, 4, 0, 2, 6, 5, 0, 8, 5, 5, 0, 0, 0, 0, 2, 0, 0, 6, 0, 3, 6, 0, 5, 0, 9, 3, 4, 4, 4, 3, 2, 8, 4, 1, 4, 4, 3, 0, 0, 0, 3, 5, 3, 1, 3, 0, 1, 1, 0, 4, 4, 0, 2, 2, 4, 3, 4, 0, 0, 3, 1, 6, 0, 5, 1, 0, 8, 3, 7, 2, 5, 4, 5, 7, 3, 0, 0, 4, 5, 0, 1, 1, 5, 0, 2, 5, 2, 0, 1, 0, 3, 0, 3, 0, 4, 4, 3, 4, 3, 1, 3, 2, 2, 2, 2, 1, 3, 0, 4, 0, 4, 5, 2, 4, 0, 0, 4, 5, 4, 3, 3, 1, 5, 5, 3, 3, 4, 5, 1, 3, 11, 3, 3, 6, 0, 0, 3, 3, 0, 1, 0, 1, 5, 3, 0, 2, 2, 3, 1, 3, 0, 2, 0, 0, 0, 0, 8, 3, 4, 2, 2, 1, 3, 0, 4, 0, 2, 1, 0, 0, 0, 0, 1, 2, 5, 0, 5, 4, 3, 1, 4, 0, 3, 0, 0, 4, 0, 5, 3, 2, 0, 4, 0, 3, 5, 4, 2, 0, 1, 4, 2, 2, 3, 2, 0, 2, 4, 4, 0, 2, 0, 1, 2, 1, 2, 9, 2, 0, 0, 1, 2, 4, 0, 1, 2, 2, 5, 1, 3, 4, 0, 0, 0, 5, 0, 1, 2, 3, 0, 10, 0, 2, 3, 0, 11, 3, 7, 0, 0, 14, 3, 0, 0, 5, 1, 1, 0, 1, 3, 2, 0, 0, 1, 6, 1, 3, 3, 0, 8, 0, 3, 0, 4, 2, 2, 5, 5, 6, 0, 0, 1, 0, 4, 3, 2, 0, 2, 3, 0, 0, 2, 3, 3, 4, 3, 0, 4, 1, 3, 4, 2, 1, 0, 1, 2, 8, 3, 0, 3, 6, 3, 0, 7, 3, 3, 4, 2, 0, 0, 3, 4, 9, 2, 1, 0, 1, 9, 5, 0, 1, 2, 2, 3, 1, 3, 0, 3, 3, 4, 0, 9, 5, 10, 0, 2, 4, 6, 0, 0, 3, 1, 1, 0, 5, 1, 3, 0, 4, 0, 7, 1, 0, 2, 4, 4, 0, 5, 6, 0, 2, 5, 0, 0, 7, 3, 3, 0, 0, 2, 0, 0, 3, 7, 0, 4, 2, 4, 2, 5, 1, 3, 2, 6, 2, 10, 2, 6, 0, 0, 0, 3, 3, 5, 4, 2, 3, 0, 0, 5, 5, 5, 0, 1, 0, 4, 0, 2, 0, 0, 6, 3, 1, 3, 0, 1, 5, 4, 0, 1, 3, 7, 3, 5, 0, 0, 0, 3, 8, 3, 1, 5, 5, 1, 5, 0, 3, 4, 6, 0, 0, 1, 0, 3, 5, 2, 5, 0, 0, 0, 1, 3, 3, 5, 4, 0, 0, 3, 2, 3, 1, 3, 4, 0, 4, 4, 1, 5, 4, 0, 2, 4, 5, 3, 0, 4, 0, 5, 4, 3, 0, 1, 5, 0, 1, 0, 0, 2, 6, 0, 3, 4, 3, 3, 5, 0, 2, 1, 1, 1, 1, 0, 1, 0, 6, 1, 2, 1, 4, 4, 0, 4, 0, 0, 1, 0, 3, 4, 4, 4, 0, 1, 0, 0, 3, 4, 5, 3, 4, 1, 5, 0, 8, 7, 0, 0, 2, 3, 3, 3, 0, 0, 3, 2, 1, 0, 4, 6, 3, 0, 0, 7, 0, 0, 0, 0, 3, 3, 0, 0, 3, 0, 0, 0, 3, 2, 4, 4, 0, 3, 2, 0, 4, 1, 0, 1, 0, 1, 3, 0, 0, 0, 1, 0, 1, 2, 9, 2, 0, 0, 2, 2, 3, 0, 0, 6, 4, 1, 0, 7, 3, 1, 0, 0, 0, 4, 4, 1, 1, 2, 0, 0, 7, 4, 0, 0, 1, 2, 0, 0, 0, 0, 0, 0, 0, 3, 4, 9, 0, 4, 0, 0, 2, 1, 0, 2, 4, 4, 5, 3, 2, 2, 2, 0, 2, 0, 0, 2, 2, 3, 4, 4, 1, 1, 1, 13, 3, 5, 5, 3, 8, 5, 4, 0, 3, 2, 0, 3, 4, 1, 4, 5, 0, 0, 3, 4, 0, 0, 1, 1, 3, 1, 3, 4, 5, 0, 4, 0, 3, 0, 1, 0, 0, 2, 2, 0, 0, 11, 2, 5, 2, 0, 3, 8, 1, 1, 3, 0, 5, 4, 2, 2, 1, 1, 4, 4, 0, 0, 0, 0, 3, 0, 3, 1, 2, 5, 1, 3, 0, 2, 0, 0, 6, 4, 1, 1, 0, 3, 0, 4, 0, 1, 2, 4, 5, 0, 0, 4, 0, 2, 3, 7, 0, 2, 0, 0, 1, 3, 0, 2, 3, 2, 3, 7, 0, 1, 3, 4, 0, 0, 0, 0, 1, 0, 4, 0, 1, 1, 1, 3, 5, 5, 2, 4, 3, 0, 2, 0, 4, 0, 4, 0, 1, 1, 3, 7, 12, 5, 5, 4, 3, 4, 8, 0, 2, 0, 0, 3, 3, 0, 0, 3, 2, 2, 0, 2, 1, 4, 1, 3, 0, 3, 0, 11, 4, 0, 3, 1, 1, 4, 3, 2, 0, 5, 3, 1, 4, 0, 0, 4, 1, 4, 2, 1, 1, 5, 2, 3, 3, 3, 2, 4, 3, 4, 1, 0, 3, 0, 0, 0, 1, 0, 3, 2, 2, 12, 6, 1, 2, 0, 1, 0, 1, 1, 4, 7, 5, 2, 6, 0, 0, 6, 2, 1, 0, 2, 1, 5, 7, 2, 2, 0, 5, 0, 2, 2, 0, 6, 0, 5, 4, 0, 3, 2, 0, 4, 0, 3, 9, 3, 0, 4, 2, 1, 2, 1, 2, 2, 0, 0, 3, 0, 1, 0, 0, 0, 0, 3, 7, 2, 1, 0, 16, 2, 0, 0, 2, 0, 2, 2, 1, 6, 2, 4, 2, 6, 1, 2, 2, 6, 4, 4, 0, 1, 3, 0, 0, 0, 4, 4, 1, 1, 1, 2, 0, 0, 0, 0, 4, 7, 2, 2, 3, 0, 19, 0, 6, 3, 4, 0, 2, 1, 0, 11, 5, 1, 0, 0, 1, 0, 2, 1, 0, 0, 1, 2, 4, 3, 0, 0, 1, 2, 2, 2, 6, 0, 0, 1, 7, 9, 3, 0, 1, 0, 14, 1, 0, 0, 0, 3, 2, 3, 4, 3, 1, 0, 3, 5, 0, 0, 0, 2, 5, 0, 3, 4, 1, 0, 4, 3, 0, 2, 0, 3, 3, 4, 4, 4, 0, 5, 2, 3, 3, 0, 3, 6, 0, 3, 0, 1, 0, 0, 5, 13, 3, 1, 3, 0, 6, 0, 5, 4, 2, 3, 3, 0, 2, 3, 2, 1, 0, 2, 9, 0, 2, 3, 0, 3, 2, 4, 1, 3, 0, 0, 2, 5, 0, 0, 4, 8, 4, 0, 0, 0, 7, 0, 0, 4, 2, 0, 5, 1, 0, 1, 5, 2, 3, 3, 3, 4, 0, 3, 0, 0, 1, 0, 0, 0, 3, 3, 5, 2, 5, 1, 4, 2, 1, 2, 0, 1, 4, 3, 0, 1, 3, 2, 0, 3, 0, 1, 0, 3, 0, 3, 1, 1, 0, 2, 3, 5, 2, 0, 0, 2, 1, 0, 5, 0, 0, 4, 5, 4, 7, 2, 0, 0, 4, 4, 1, 3, 9, 0, 1, 0, 6, 1, 3, 3, 1, 3, 0, 4, 1, 1, 0, 2, 2, 0, 4, 0, 3, 0, 4, 3, 4, 4, 0, 4, 2, 2, 5, 0, 6, 0, 0, 4, 0, 5, 0, 4, 0, 3, 2, 0, 2, 0, 0, 5, 1, 0, 0, 2, 0, 1, 1, 3, 5, 1, 2, 4, 3, 6, 2, 4, 2, 2, 4, 2, 2, 4, 5, 0, 5, 4, 0, 0, 10, 6, 3, 1, 0, 5, 0, 3, 1, 4, 0, 0, 0, 0, 4, 0, 10, 0, 0, 0, 0, 2, 3, 4, 0, 6, 2, 0, 0, 0, 4, 1, 0, 3, 4, 6, 1, 3, 1, 1, 0, 3, 0, 8, 3, 0, 0, 3, 4, 3, 0, 1, 3, 3, 2, 6, 2, 3, 5, 4, 2, 0, 0, 8, 2, 1, 1, 5, 0, 4, 3, 9, 0, 2, 1, 0, 2, 0, 2, 4, 4, 1, 2, 0, 2, 3, 2, 3, 4, 0, 4, 1, 3, 1, 0, 0, 5, 0, 0, 1, 2, 1, 0, 6, 0, 0, 3, 1, 1, 1, 1, 0, 3, 0, 4, 0, 1, 0, 3, 2, 3, 4, 4, 6, 2, 4, 7, 0, 6, 0, 0, 2, 0, 0, 0, 0, 1, 0, 4, 3, 14, 1, 2, 4, 5, 0, 0, 4, 1, 7, 0, 1, 0, 1, 5, 0, 4, 4, 13, 5, 3, 3, 5, 0, 1, 2, 0, 0, 11, 3, 4, 4, 5, 1, 0, 1, 0, 0, 1, 6, 2, 2, 7, 0, 0, 1, 0, 1, 2, 0, 3, 0, 0, 4, 2, 2, 3, 0, 4, 1, 0, 0, 2, 7, 0, 3, 6, 0, 2, 3, 2, 1, 2, 2, 0, 4, 8, 0, 0, 4, 5, 2, 5, 1, 3, 5, 4, 0, 0, 1, 0, 3, 2, 0, 2, 0, 2, 2, 5, 4, 21, 3, 6, 3, 5, 2, 2, 0, 1, 1, 0, 10, 1, 5, 1, 0, 6, 4, 0, 8, 1, 0, 3, 0, 4, 0, 3, 5, 0, 0, 0, 3, 4, 5, 2, 3, 5, 0, 1, 4, 1, 1, 1, 2, 3, 3, 0, 3, 0, 2, 2, 1, 0, 1, 0, 0, 1, 3, 3, 0, 0, 2, 0, 0, 4, 2, 3, 2, 0, 4, 0, 2, 0, 4, 0, 4, 3, 8, 3, 3, 5, 2, 0, 2, 0, 9, 0, 4, 1, 0, 2, 0, 0, 3, 0, 0, 8, 3, 2, 0, 0, 1, 1, 2, 3, 1, 3, 0, 3, 0, 2, 2, 3, 3, 5, 0, 2, 0, 7, 0, 4, 2, 4, 3, 4, 1, 1, 1, 4, 3, 4, 2, 4, 5, 0, 4, 0, 1, 1, 0, 0, 2, 3, 4, 2, 0, 2, 3, 0, 3, 4, 3, 1, 2, 7, 0, 0, 4, 9, 4, 5, 2, 0, 1, 0, 4, 1, 2, 3, 0, 1, 3, 2, 0, 0, 3, 2, 2, 4, 1, 0, 3, 0, 3, 0, 0, 1, 7, 1, 3, 4, 3, 0, 0, 0, 2], \"yaxis\": \"y\"}],\n",
              "                        {\"height\": 500, \"legend\": {\"tracegroupgap\": 0}, \"margin\": {\"t\": 60}, \"template\": {\"data\": {\"bar\": [{\"error_x\": {\"color\": \"#2a3f5f\"}, \"error_y\": {\"color\": \"#2a3f5f\"}, \"marker\": {\"line\": {\"color\": \"#E5ECF6\", \"width\": 0.5}}, \"type\": \"bar\"}], \"barpolar\": [{\"marker\": {\"line\": {\"color\": \"#E5ECF6\", \"width\": 0.5}}, \"type\": \"barpolar\"}], \"carpet\": [{\"aaxis\": {\"endlinecolor\": \"#2a3f5f\", \"gridcolor\": \"white\", \"linecolor\": \"white\", \"minorgridcolor\": \"white\", \"startlinecolor\": \"#2a3f5f\"}, \"baxis\": {\"endlinecolor\": \"#2a3f5f\", \"gridcolor\": \"white\", \"linecolor\": \"white\", \"minorgridcolor\": \"white\", \"startlinecolor\": \"#2a3f5f\"}, \"type\": \"carpet\"}], \"choropleth\": [{\"colorbar\": {\"outlinewidth\": 0, \"ticks\": \"\"}, \"type\": \"choropleth\"}], \"contour\": [{\"colorbar\": {\"outlinewidth\": 0, \"ticks\": \"\"}, \"colorscale\": [[0.0, \"#0d0887\"], [0.1111111111111111, \"#46039f\"], [0.2222222222222222, \"#7201a8\"], [0.3333333333333333, \"#9c179e\"], [0.4444444444444444, \"#bd3786\"], [0.5555555555555556, \"#d8576b\"], [0.6666666666666666, \"#ed7953\"], [0.7777777777777778, \"#fb9f3a\"], [0.8888888888888888, \"#fdca26\"], [1.0, \"#f0f921\"]], \"type\": \"contour\"}], \"contourcarpet\": [{\"colorbar\": {\"outlinewidth\": 0, \"ticks\": \"\"}, \"type\": \"contourcarpet\"}], \"heatmap\": [{\"colorbar\": {\"outlinewidth\": 0, \"ticks\": \"\"}, \"colorscale\": [[0.0, \"#0d0887\"], [0.1111111111111111, \"#46039f\"], [0.2222222222222222, \"#7201a8\"], [0.3333333333333333, \"#9c179e\"], [0.4444444444444444, \"#bd3786\"], [0.5555555555555556, \"#d8576b\"], [0.6666666666666666, \"#ed7953\"], [0.7777777777777778, \"#fb9f3a\"], [0.8888888888888888, \"#fdca26\"], [1.0, \"#f0f921\"]], \"type\": \"heatmap\"}], \"heatmapgl\": [{\"colorbar\": {\"outlinewidth\": 0, \"ticks\": \"\"}, \"colorscale\": [[0.0, \"#0d0887\"], [0.1111111111111111, \"#46039f\"], [0.2222222222222222, \"#7201a8\"], [0.3333333333333333, \"#9c179e\"], [0.4444444444444444, \"#bd3786\"], [0.5555555555555556, \"#d8576b\"], [0.6666666666666666, \"#ed7953\"], [0.7777777777777778, \"#fb9f3a\"], [0.8888888888888888, \"#fdca26\"], [1.0, \"#f0f921\"]], \"type\": \"heatmapgl\"}], \"histogram\": [{\"marker\": {\"colorbar\": {\"outlinewidth\": 0, \"ticks\": \"\"}}, \"type\": \"histogram\"}], \"histogram2d\": [{\"colorbar\": {\"outlinewidth\": 0, \"ticks\": \"\"}, \"colorscale\": [[0.0, \"#0d0887\"], [0.1111111111111111, \"#46039f\"], [0.2222222222222222, \"#7201a8\"], [0.3333333333333333, \"#9c179e\"], [0.4444444444444444, \"#bd3786\"], [0.5555555555555556, \"#d8576b\"], [0.6666666666666666, \"#ed7953\"], [0.7777777777777778, \"#fb9f3a\"], [0.8888888888888888, \"#fdca26\"], [1.0, \"#f0f921\"]], \"type\": \"histogram2d\"}], \"histogram2dcontour\": [{\"colorbar\": {\"outlinewidth\": 0, \"ticks\": \"\"}, \"colorscale\": [[0.0, \"#0d0887\"], [0.1111111111111111, \"#46039f\"], [0.2222222222222222, \"#7201a8\"], [0.3333333333333333, \"#9c179e\"], [0.4444444444444444, \"#bd3786\"], [0.5555555555555556, \"#d8576b\"], [0.6666666666666666, \"#ed7953\"], [0.7777777777777778, \"#fb9f3a\"], [0.8888888888888888, \"#fdca26\"], [1.0, \"#f0f921\"]], \"type\": \"histogram2dcontour\"}], \"mesh3d\": [{\"colorbar\": {\"outlinewidth\": 0, \"ticks\": \"\"}, \"type\": \"mesh3d\"}], \"parcoords\": [{\"line\": {\"colorbar\": {\"outlinewidth\": 0, \"ticks\": \"\"}}, \"type\": \"parcoords\"}], \"pie\": [{\"automargin\": true, \"type\": \"pie\"}], \"scatter\": [{\"marker\": {\"colorbar\": {\"outlinewidth\": 0, \"ticks\": \"\"}}, \"type\": \"scatter\"}], \"scatter3d\": [{\"line\": {\"colorbar\": {\"outlinewidth\": 0, \"ticks\": \"\"}}, \"marker\": {\"colorbar\": {\"outlinewidth\": 0, \"ticks\": \"\"}}, \"type\": \"scatter3d\"}], \"scattercarpet\": [{\"marker\": {\"colorbar\": {\"outlinewidth\": 0, \"ticks\": \"\"}}, \"type\": \"scattercarpet\"}], \"scattergeo\": [{\"marker\": {\"colorbar\": {\"outlinewidth\": 0, \"ticks\": \"\"}}, \"type\": \"scattergeo\"}], \"scattergl\": [{\"marker\": {\"colorbar\": {\"outlinewidth\": 0, \"ticks\": \"\"}}, \"type\": \"scattergl\"}], \"scattermapbox\": [{\"marker\": {\"colorbar\": {\"outlinewidth\": 0, \"ticks\": \"\"}}, \"type\": \"scattermapbox\"}], \"scatterpolar\": [{\"marker\": {\"colorbar\": {\"outlinewidth\": 0, \"ticks\": \"\"}}, \"type\": \"scatterpolar\"}], \"scatterpolargl\": [{\"marker\": {\"colorbar\": {\"outlinewidth\": 0, \"ticks\": \"\"}}, \"type\": \"scatterpolargl\"}], \"scatterternary\": [{\"marker\": {\"colorbar\": {\"outlinewidth\": 0, \"ticks\": \"\"}}, \"type\": \"scatterternary\"}], \"surface\": [{\"colorbar\": {\"outlinewidth\": 0, \"ticks\": \"\"}, \"colorscale\": [[0.0, \"#0d0887\"], [0.1111111111111111, \"#46039f\"], [0.2222222222222222, \"#7201a8\"], [0.3333333333333333, \"#9c179e\"], [0.4444444444444444, \"#bd3786\"], [0.5555555555555556, \"#d8576b\"], [0.6666666666666666, \"#ed7953\"], [0.7777777777777778, \"#fb9f3a\"], [0.8888888888888888, \"#fdca26\"], [1.0, \"#f0f921\"]], \"type\": \"surface\"}], \"table\": [{\"cells\": {\"fill\": {\"color\": \"#EBF0F8\"}, \"line\": {\"color\": \"white\"}}, \"header\": {\"fill\": {\"color\": \"#C8D4E3\"}, \"line\": {\"color\": \"white\"}}, \"type\": \"table\"}]}, \"layout\": {\"annotationdefaults\": {\"arrowcolor\": \"#2a3f5f\", \"arrowhead\": 0, \"arrowwidth\": 1}, \"coloraxis\": {\"colorbar\": {\"outlinewidth\": 0, \"ticks\": \"\"}}, \"colorscale\": {\"diverging\": [[0, \"#8e0152\"], [0.1, \"#c51b7d\"], [0.2, \"#de77ae\"], [0.3, \"#f1b6da\"], [0.4, \"#fde0ef\"], [0.5, \"#f7f7f7\"], [0.6, \"#e6f5d0\"], [0.7, \"#b8e186\"], [0.8, \"#7fbc41\"], [0.9, \"#4d9221\"], [1, \"#276419\"]], \"sequential\": [[0.0, \"#0d0887\"], [0.1111111111111111, \"#46039f\"], [0.2222222222222222, \"#7201a8\"], [0.3333333333333333, \"#9c179e\"], [0.4444444444444444, \"#bd3786\"], [0.5555555555555556, \"#d8576b\"], [0.6666666666666666, \"#ed7953\"], [0.7777777777777778, \"#fb9f3a\"], [0.8888888888888888, \"#fdca26\"], [1.0, \"#f0f921\"]], \"sequentialminus\": [[0.0, \"#0d0887\"], [0.1111111111111111, \"#46039f\"], [0.2222222222222222, \"#7201a8\"], [0.3333333333333333, \"#9c179e\"], [0.4444444444444444, \"#bd3786\"], [0.5555555555555556, \"#d8576b\"], [0.6666666666666666, \"#ed7953\"], [0.7777777777777778, \"#fb9f3a\"], [0.8888888888888888, \"#fdca26\"], [1.0, \"#f0f921\"]]}, \"colorway\": [\"#636efa\", \"#EF553B\", \"#00cc96\", \"#ab63fa\", \"#FFA15A\", \"#19d3f3\", \"#FF6692\", \"#B6E880\", \"#FF97FF\", \"#FECB52\"], \"font\": {\"color\": \"#2a3f5f\"}, \"geo\": {\"bgcolor\": \"white\", \"lakecolor\": \"white\", \"landcolor\": \"#E5ECF6\", \"showlakes\": true, \"showland\": true, \"subunitcolor\": \"white\"}, \"hoverlabel\": {\"align\": \"left\"}, \"hovermode\": \"closest\", \"mapbox\": {\"style\": \"light\"}, \"paper_bgcolor\": \"white\", \"plot_bgcolor\": \"#E5ECF6\", \"polar\": {\"angularaxis\": {\"gridcolor\": \"white\", \"linecolor\": \"white\", \"ticks\": \"\"}, \"bgcolor\": \"#E5ECF6\", \"radialaxis\": {\"gridcolor\": \"white\", \"linecolor\": \"white\", \"ticks\": \"\"}}, \"scene\": {\"xaxis\": {\"backgroundcolor\": \"#E5ECF6\", \"gridcolor\": \"white\", \"gridwidth\": 2, \"linecolor\": \"white\", \"showbackground\": true, \"ticks\": \"\", \"zerolinecolor\": \"white\"}, \"yaxis\": {\"backgroundcolor\": \"#E5ECF6\", \"gridcolor\": \"white\", \"gridwidth\": 2, \"linecolor\": \"white\", \"showbackground\": true, \"ticks\": \"\", \"zerolinecolor\": \"white\"}, \"zaxis\": {\"backgroundcolor\": \"#E5ECF6\", \"gridcolor\": \"white\", \"gridwidth\": 2, \"linecolor\": \"white\", \"showbackground\": true, \"ticks\": \"\", \"zerolinecolor\": \"white\"}}, \"shapedefaults\": {\"line\": {\"color\": \"#2a3f5f\"}}, \"ternary\": {\"aaxis\": {\"gridcolor\": \"white\", \"linecolor\": \"white\", \"ticks\": \"\"}, \"baxis\": {\"gridcolor\": \"white\", \"linecolor\": \"white\", \"ticks\": \"\"}, \"bgcolor\": \"#E5ECF6\", \"caxis\": {\"gridcolor\": \"white\", \"linecolor\": \"white\", \"ticks\": \"\"}}, \"title\": {\"x\": 0.05}, \"xaxis\": {\"automargin\": true, \"gridcolor\": \"white\", \"linecolor\": \"white\", \"ticks\": \"\", \"title\": {\"standoff\": 15}, \"zerolinecolor\": \"white\", \"zerolinewidth\": 2}, \"yaxis\": {\"automargin\": true, \"gridcolor\": \"white\", \"linecolor\": \"white\", \"ticks\": \"\", \"title\": {\"standoff\": 15}, \"zerolinecolor\": \"white\", \"zerolinewidth\": 2}}}, \"width\": 600, \"xaxis\": {\"anchor\": \"y\", \"domain\": [0.0, 1.0], \"title\": {\"text\": \"x\"}}, \"yaxis\": {\"anchor\": \"x\", \"domain\": [0.0, 1.0], \"title\": {\"text\": \"y\"}}},\n",
              "                        {\"responsive\": true}\n",
              "                    ).then(function(){\n",
              "                            \n",
              "var gd = document.getElementById('1bf51008-e183-4613-a47a-493c76f0f80b');\n",
              "var x = new MutationObserver(function (mutations, observer) {{\n",
              "        var display = window.getComputedStyle(gd).display;\n",
              "        if (!display || display === 'none') {{\n",
              "            console.log([gd, 'removed!']);\n",
              "            Plotly.purge(gd);\n",
              "            observer.disconnect();\n",
              "        }}\n",
              "}});\n",
              "\n",
              "// Listen for the removal of the full notebook cells\n",
              "var notebookContainer = gd.closest('#notebook-container');\n",
              "if (notebookContainer) {{\n",
              "    x.observe(notebookContainer, {childList: true});\n",
              "}}\n",
              "\n",
              "// Listen for the clearing of the current output cell\n",
              "var outputEl = gd.closest('.output');\n",
              "if (outputEl) {{\n",
              "    x.observe(outputEl, {childList: true});\n",
              "}}\n",
              "\n",
              "                        })\n",
              "                };\n",
              "                \n",
              "            </script>\n",
              "        </div>\n",
              "</body>\n",
              "</html>"
            ]
          },
          "metadata": {
            "tags": []
          }
        }
      ]
    },
    {
      "cell_type": "code",
      "metadata": {
        "colab": {
          "base_uri": "https://localhost:8080/",
          "height": 136
        },
        "id": "6ZOxbJqle3cX",
        "outputId": "c021613b-d24e-40b6-e570-37224b68d7b3"
      },
      "source": [
        "user_meta_df.pivot_table(\n",
        "    values = 'user_id',\n",
        "    index = 'sex',\n",
        "    columns = 'join_path',\n",
        "    aggfunc = 'count'\n",
        ")"
      ],
      "execution_count": 31,
      "outputs": [
        {
          "output_type": "execute_result",
          "data": {
            "text/html": [
              "<div>\n",
              "<style scoped>\n",
              "    .dataframe tbody tr th:only-of-type {\n",
              "        vertical-align: middle;\n",
              "    }\n",
              "\n",
              "    .dataframe tbody tr th {\n",
              "        vertical-align: top;\n",
              "    }\n",
              "\n",
              "    .dataframe thead th {\n",
              "        text-align: right;\n",
              "    }\n",
              "</style>\n",
              "<table border=\"1\" class=\"dataframe\">\n",
              "  <thead>\n",
              "    <tr style=\"text-align: right;\">\n",
              "      <th>join_path</th>\n",
              "      <th>0.0</th>\n",
              "      <th>1.0</th>\n",
              "    </tr>\n",
              "    <tr>\n",
              "      <th>sex</th>\n",
              "      <th></th>\n",
              "      <th></th>\n",
              "    </tr>\n",
              "  </thead>\n",
              "  <tbody>\n",
              "    <tr>\n",
              "      <th>0</th>\n",
              "      <td>1253</td>\n",
              "      <td>240</td>\n",
              "    </tr>\n",
              "    <tr>\n",
              "      <th>1</th>\n",
              "      <td>1635</td>\n",
              "      <td>284</td>\n",
              "    </tr>\n",
              "  </tbody>\n",
              "</table>\n",
              "</div>"
            ],
            "text/plain": [
              "join_path   0.0  1.0\n",
              "sex                 \n",
              "0          1253  240\n",
              "1          1635  284"
            ]
          },
          "metadata": {
            "tags": []
          },
          "execution_count": 31
        }
      ]
    },
    {
      "cell_type": "markdown",
      "metadata": {
        "id": "YQSM_gMwfcH-"
      },
      "source": [
        "## Data Cleansing"
      ]
    },
    {
      "cell_type": "code",
      "metadata": {
        "colab": {
          "base_uri": "https://localhost:8080/",
          "height": 195
        },
        "id": "3G2oFJqZfNsH",
        "outputId": "bad632d4-a4d1-4d13-8724-179117f1a7a6"
      },
      "source": [
        "# numeric type 만 남기기\n",
        "numerics_types = ['int64' , 'int32', 'int16', 'float64', 'float32','float16']\n",
        "user_numeric_df = user_meta_df.select_dtypes(include=numerics_types)\n",
        "user_numeric_df.head()"
      ],
      "execution_count": 32,
      "outputs": [
        {
          "output_type": "execute_result",
          "data": {
            "text/html": [
              "<div>\n",
              "<style scoped>\n",
              "    .dataframe tbody tr th:only-of-type {\n",
              "        vertical-align: middle;\n",
              "    }\n",
              "\n",
              "    .dataframe tbody tr th {\n",
              "        vertical-align: top;\n",
              "    }\n",
              "\n",
              "    .dataframe thead th {\n",
              "        text-align: right;\n",
              "    }\n",
              "</style>\n",
              "<table border=\"1\" class=\"dataframe\">\n",
              "  <thead>\n",
              "    <tr style=\"text-align: right;\">\n",
              "      <th></th>\n",
              "      <th>sex</th>\n",
              "      <th>birthday_year</th>\n",
              "      <th>membership_type</th>\n",
              "      <th>category_prefer</th>\n",
              "      <th>join_path</th>\n",
              "      <th>recommended_cnt</th>\n",
              "      <th>age</th>\n",
              "      <th>days_from_joined</th>\n",
              "      <th>years_from_joined</th>\n",
              "      <th>if_deleted</th>\n",
              "    </tr>\n",
              "  </thead>\n",
              "  <tbody>\n",
              "    <tr>\n",
              "      <th>0</th>\n",
              "      <td>0</td>\n",
              "      <td>1995</td>\n",
              "      <td>300</td>\n",
              "      <td>3</td>\n",
              "      <td>0.0</td>\n",
              "      <td>4</td>\n",
              "      <td>27</td>\n",
              "      <td>480</td>\n",
              "      <td>1.3</td>\n",
              "      <td>0</td>\n",
              "    </tr>\n",
              "    <tr>\n",
              "      <th>1</th>\n",
              "      <td>1</td>\n",
              "      <td>1995</td>\n",
              "      <td>300</td>\n",
              "      <td>2</td>\n",
              "      <td>0.0</td>\n",
              "      <td>1</td>\n",
              "      <td>27</td>\n",
              "      <td>263</td>\n",
              "      <td>0.7</td>\n",
              "      <td>0</td>\n",
              "    </tr>\n",
              "    <tr>\n",
              "      <th>2</th>\n",
              "      <td>1</td>\n",
              "      <td>1999</td>\n",
              "      <td>300</td>\n",
              "      <td>4</td>\n",
              "      <td>0.0</td>\n",
              "      <td>6</td>\n",
              "      <td>23</td>\n",
              "      <td>745</td>\n",
              "      <td>2.0</td>\n",
              "      <td>0</td>\n",
              "    </tr>\n",
              "    <tr>\n",
              "      <th>3</th>\n",
              "      <td>0</td>\n",
              "      <td>1998</td>\n",
              "      <td>300</td>\n",
              "      <td>7</td>\n",
              "      <td>0.0</td>\n",
              "      <td>2</td>\n",
              "      <td>24</td>\n",
              "      <td>716</td>\n",
              "      <td>2.0</td>\n",
              "      <td>0</td>\n",
              "    </tr>\n",
              "    <tr>\n",
              "      <th>4</th>\n",
              "      <td>1</td>\n",
              "      <td>1999</td>\n",
              "      <td>300</td>\n",
              "      <td>6</td>\n",
              "      <td>0.0</td>\n",
              "      <td>2</td>\n",
              "      <td>23</td>\n",
              "      <td>422</td>\n",
              "      <td>1.2</td>\n",
              "      <td>0</td>\n",
              "    </tr>\n",
              "  </tbody>\n",
              "</table>\n",
              "</div>"
            ],
            "text/plain": [
              "   sex  birthday_year  membership_type  category_prefer  join_path  \\\n",
              "0    0           1995              300                3        0.0   \n",
              "1    1           1995              300                2        0.0   \n",
              "2    1           1999              300                4        0.0   \n",
              "3    0           1998              300                7        0.0   \n",
              "4    1           1999              300                6        0.0   \n",
              "\n",
              "   recommended_cnt  age  days_from_joined  years_from_joined  if_deleted  \n",
              "0                4   27               480                1.3           0  \n",
              "1                1   27               263                0.7           0  \n",
              "2                6   23               745                2.0           0  \n",
              "3                2   24               716                2.0           0  \n",
              "4                2   23               422                1.2           0  "
            ]
          },
          "metadata": {
            "tags": []
          },
          "execution_count": 32
        }
      ]
    },
    {
      "cell_type": "code",
      "metadata": {
        "colab": {
          "base_uri": "https://localhost:8080/",
          "height": 106
        },
        "id": "1OHPo174f1xQ",
        "outputId": "5a703b4f-d27f-46c8-f8d0-6abde4441608"
      },
      "source": [
        "# Binary 변수 제거 하자\n",
        "user_binary_cols = [col for col in user_numeric_df if np.isin(user_numeric_df[col].unique(), [0,1]).all()] # np.isin 이 안에 값이 해당하는 지 묻는 함수 \n",
        "user_numeric_df.drop(user_binary_cols, axis=1, inplace=True)\n",
        "user_numeric_df.head(2)"
      ],
      "execution_count": 33,
      "outputs": [
        {
          "output_type": "execute_result",
          "data": {
            "text/html": [
              "<div>\n",
              "<style scoped>\n",
              "    .dataframe tbody tr th:only-of-type {\n",
              "        vertical-align: middle;\n",
              "    }\n",
              "\n",
              "    .dataframe tbody tr th {\n",
              "        vertical-align: top;\n",
              "    }\n",
              "\n",
              "    .dataframe thead th {\n",
              "        text-align: right;\n",
              "    }\n",
              "</style>\n",
              "<table border=\"1\" class=\"dataframe\">\n",
              "  <thead>\n",
              "    <tr style=\"text-align: right;\">\n",
              "      <th></th>\n",
              "      <th>birthday_year</th>\n",
              "      <th>membership_type</th>\n",
              "      <th>category_prefer</th>\n",
              "      <th>recommended_cnt</th>\n",
              "      <th>age</th>\n",
              "      <th>days_from_joined</th>\n",
              "      <th>years_from_joined</th>\n",
              "    </tr>\n",
              "  </thead>\n",
              "  <tbody>\n",
              "    <tr>\n",
              "      <th>0</th>\n",
              "      <td>1995</td>\n",
              "      <td>300</td>\n",
              "      <td>3</td>\n",
              "      <td>4</td>\n",
              "      <td>27</td>\n",
              "      <td>480</td>\n",
              "      <td>1.3</td>\n",
              "    </tr>\n",
              "    <tr>\n",
              "      <th>1</th>\n",
              "      <td>1995</td>\n",
              "      <td>300</td>\n",
              "      <td>2</td>\n",
              "      <td>1</td>\n",
              "      <td>27</td>\n",
              "      <td>263</td>\n",
              "      <td>0.7</td>\n",
              "    </tr>\n",
              "  </tbody>\n",
              "</table>\n",
              "</div>"
            ],
            "text/plain": [
              "   birthday_year  membership_type  category_prefer  recommended_cnt  age  \\\n",
              "0           1995              300                3                4   27   \n",
              "1           1995              300                2                1   27   \n",
              "\n",
              "   days_from_joined  years_from_joined  \n",
              "0               480                1.3  \n",
              "1               263                0.7  "
            ]
          },
          "metadata": {
            "tags": []
          },
          "execution_count": 33
        }
      ]
    },
    {
      "cell_type": "code",
      "metadata": {
        "colab": {
          "base_uri": "https://localhost:8080/"
        },
        "id": "vXgZEuqYgue3",
        "outputId": "2746984c-5d3f-4843-9f9d-98ad76f2ed5e"
      },
      "source": [
        "# 멤버쉽 변수 분리\n",
        "\n",
        "user_x_cols = list(user_numeric_df.columns)\n",
        "user_x_cols.remove('membership_type')\n",
        "user_x_cols\n"
      ],
      "execution_count": 34,
      "outputs": [
        {
          "output_type": "execute_result",
          "data": {
            "text/plain": [
              "['birthday_year',\n",
              " 'category_prefer',\n",
              " 'recommended_cnt',\n",
              " 'age',\n",
              " 'days_from_joined',\n",
              " 'years_from_joined']"
            ]
          },
          "metadata": {
            "tags": []
          },
          "execution_count": 34
        }
      ]
    },
    {
      "cell_type": "code",
      "metadata": {
        "colab": {
          "base_uri": "https://localhost:8080/",
          "height": 284
        },
        "id": "wqPhVOqEhmEB",
        "outputId": "62dfabb8-2c09-4aaf-9f76-e77f4385e25d"
      },
      "source": [
        "user_numeric_df.describe()"
      ],
      "execution_count": 35,
      "outputs": [
        {
          "output_type": "execute_result",
          "data": {
            "text/html": [
              "<div>\n",
              "<style scoped>\n",
              "    .dataframe tbody tr th:only-of-type {\n",
              "        vertical-align: middle;\n",
              "    }\n",
              "\n",
              "    .dataframe tbody tr th {\n",
              "        vertical-align: top;\n",
              "    }\n",
              "\n",
              "    .dataframe thead th {\n",
              "        text-align: right;\n",
              "    }\n",
              "</style>\n",
              "<table border=\"1\" class=\"dataframe\">\n",
              "  <thead>\n",
              "    <tr style=\"text-align: right;\">\n",
              "      <th></th>\n",
              "      <th>birthday_year</th>\n",
              "      <th>membership_type</th>\n",
              "      <th>category_prefer</th>\n",
              "      <th>recommended_cnt</th>\n",
              "      <th>age</th>\n",
              "      <th>days_from_joined</th>\n",
              "      <th>years_from_joined</th>\n",
              "    </tr>\n",
              "  </thead>\n",
              "  <tbody>\n",
              "    <tr>\n",
              "      <th>count</th>\n",
              "      <td>3412.000000</td>\n",
              "      <td>3412.000000</td>\n",
              "      <td>3412.000000</td>\n",
              "      <td>3412.000000</td>\n",
              "      <td>3412.000000</td>\n",
              "      <td>3412.000000</td>\n",
              "      <td>3412.000000</td>\n",
              "    </tr>\n",
              "    <tr>\n",
              "      <th>mean</th>\n",
              "      <td>1990.516706</td>\n",
              "      <td>153.575615</td>\n",
              "      <td>4.596717</td>\n",
              "      <td>2.291325</td>\n",
              "      <td>31.483294</td>\n",
              "      <td>659.414127</td>\n",
              "      <td>1.805158</td>\n",
              "    </tr>\n",
              "    <tr>\n",
              "      <th>std</th>\n",
              "      <td>7.669478</td>\n",
              "      <td>106.964154</td>\n",
              "      <td>3.403961</td>\n",
              "      <td>2.455373</td>\n",
              "      <td>7.669478</td>\n",
              "      <td>443.232127</td>\n",
              "      <td>1.214158</td>\n",
              "    </tr>\n",
              "    <tr>\n",
              "      <th>min</th>\n",
              "      <td>1967.000000</td>\n",
              "      <td>100.000000</td>\n",
              "      <td>0.000000</td>\n",
              "      <td>0.000000</td>\n",
              "      <td>16.000000</td>\n",
              "      <td>1.000000</td>\n",
              "      <td>0.000000</td>\n",
              "    </tr>\n",
              "    <tr>\n",
              "      <th>25%</th>\n",
              "      <td>1986.000000</td>\n",
              "      <td>100.000000</td>\n",
              "      <td>2.000000</td>\n",
              "      <td>0.000000</td>\n",
              "      <td>26.000000</td>\n",
              "      <td>290.750000</td>\n",
              "      <td>0.800000</td>\n",
              "    </tr>\n",
              "    <tr>\n",
              "      <th>50%</th>\n",
              "      <td>1993.000000</td>\n",
              "      <td>100.000000</td>\n",
              "      <td>4.000000</td>\n",
              "      <td>2.000000</td>\n",
              "      <td>29.000000</td>\n",
              "      <td>603.000000</td>\n",
              "      <td>1.700000</td>\n",
              "    </tr>\n",
              "    <tr>\n",
              "      <th>75%</th>\n",
              "      <td>1996.000000</td>\n",
              "      <td>100.000000</td>\n",
              "      <td>7.000000</td>\n",
              "      <td>4.000000</td>\n",
              "      <td>36.000000</td>\n",
              "      <td>969.000000</td>\n",
              "      <td>2.700000</td>\n",
              "    </tr>\n",
              "    <tr>\n",
              "      <th>max</th>\n",
              "      <td>2006.000000</td>\n",
              "      <td>500.000000</td>\n",
              "      <td>17.000000</td>\n",
              "      <td>21.000000</td>\n",
              "      <td>55.000000</td>\n",
              "      <td>1817.000000</td>\n",
              "      <td>5.000000</td>\n",
              "    </tr>\n",
              "  </tbody>\n",
              "</table>\n",
              "</div>"
            ],
            "text/plain": [
              "       birthday_year  membership_type  category_prefer  recommended_cnt  \\\n",
              "count    3412.000000      3412.000000      3412.000000      3412.000000   \n",
              "mean     1990.516706       153.575615         4.596717         2.291325   \n",
              "std         7.669478       106.964154         3.403961         2.455373   \n",
              "min      1967.000000       100.000000         0.000000         0.000000   \n",
              "25%      1986.000000       100.000000         2.000000         0.000000   \n",
              "50%      1993.000000       100.000000         4.000000         2.000000   \n",
              "75%      1996.000000       100.000000         7.000000         4.000000   \n",
              "max      2006.000000       500.000000        17.000000        21.000000   \n",
              "\n",
              "               age  days_from_joined  years_from_joined  \n",
              "count  3412.000000       3412.000000        3412.000000  \n",
              "mean     31.483294        659.414127           1.805158  \n",
              "std       7.669478        443.232127           1.214158  \n",
              "min      16.000000          1.000000           0.000000  \n",
              "25%      26.000000        290.750000           0.800000  \n",
              "50%      29.000000        603.000000           1.700000  \n",
              "75%      36.000000        969.000000           2.700000  \n",
              "max      55.000000       1817.000000           5.000000  "
            ]
          },
          "metadata": {
            "tags": []
          },
          "execution_count": 35
        }
      ]
    },
    {
      "cell_type": "markdown",
      "metadata": {
        "id": "lVklj_7wh13V"
      },
      "source": [
        "## Split the data"
      ]
    },
    {
      "cell_type": "code",
      "metadata": {
        "colab": {
          "base_uri": "https://localhost:8080/"
        },
        "id": "o79caIQwh2--",
        "outputId": "93b4a0fb-736b-4ac3-f7d2-e8c7e711e19c"
      },
      "source": [
        "x = user_numeric_df[user_x_cols]\n",
        "y = user_numeric_df['membership_type']\n",
        "\n",
        "train_x, test_x, train_y, test_y = train_test_split(x, y, test_size = 0.2)\n",
        "print(len(train_x), len(test_x))"
      ],
      "execution_count": 36,
      "outputs": [
        {
          "output_type": "stream",
          "text": [
            "2729 683\n"
          ],
          "name": "stdout"
        }
      ]
    },
    {
      "cell_type": "markdown",
      "metadata": {
        "id": "52ZrZvIKiagN"
      },
      "source": [
        "## Clustering"
      ]
    },
    {
      "cell_type": "markdown",
      "metadata": {
        "id": "SjjddFrTifL1"
      },
      "source": [
        "### K-means"
      ]
    },
    {
      "cell_type": "code",
      "metadata": {
        "id": "AWR0e3uKiL7z"
      },
      "source": [
        "# import the module.\n",
        "from sklearn.cluster import KMeans\n",
        "\n",
        "# Find the best k using for elbow method\n",
        "\n",
        "distortions = []\n",
        "k_range = range(1,11)\n",
        "for n in k_range :\n",
        "    km = KMeans(n_clusters = n, random_state = 42)\n",
        "    km.fit(train_x)\n",
        "    distortions.append(km.inertia_.round(2))"
      ],
      "execution_count": 37,
      "outputs": []
    },
    {
      "cell_type": "code",
      "metadata": {
        "colab": {
          "base_uri": "https://localhost:8080/"
        },
        "id": "eKCmtRkTjFhh",
        "outputId": "af8b2e69-11e8-4a65-946c-ccde4418fd6e"
      },
      "source": [
        "distortions"
      ],
      "execution_count": 38,
      "outputs": [
        {
          "output_type": "execute_result",
          "data": {
            "text/plain": [
              "[538258808.83,\n",
              " 157745139.84,\n",
              " 73255981.71,\n",
              " 41250450.94,\n",
              " 26571918.67,\n",
              " 19006066.92,\n",
              " 14213744.07,\n",
              " 10793421.09,\n",
              " 8580177.51,\n",
              " 6928851.4]"
            ]
          },
          "metadata": {
            "tags": []
          },
          "execution_count": 38
        }
      ]
    },
    {
      "cell_type": "code",
      "metadata": {
        "colab": {
          "base_uri": "https://localhost:8080/",
          "height": 417
        },
        "id": "EQLBJpnQjLzI",
        "outputId": "8713f47b-74b4-46cb-8153-600e2bf4bb24"
      },
      "source": [
        "fig = px.line(x = k_range,\n",
        "              y = distortions,\n",
        "              labels = {'x' : 'k', 'y' : 'distortions'}) # x축 y 축 이름 정하기\n",
        "fig.update_layout(width = 700, height = 400)\n",
        "fig.show()"
      ],
      "execution_count": 39,
      "outputs": [
        {
          "output_type": "display_data",
          "data": {
            "text/html": [
              "<html>\n",
              "<head><meta charset=\"utf-8\" /></head>\n",
              "<body>\n",
              "    <div>\n",
              "            <script src=\"https://cdnjs.cloudflare.com/ajax/libs/mathjax/2.7.5/MathJax.js?config=TeX-AMS-MML_SVG\"></script><script type=\"text/javascript\">if (window.MathJax) {MathJax.Hub.Config({SVG: {font: \"STIX-Web\"}});}</script>\n",
              "                <script type=\"text/javascript\">window.PlotlyConfig = {MathJaxConfig: 'local'};</script>\n",
              "        <script src=\"https://cdn.plot.ly/plotly-latest.min.js\"></script>    \n",
              "            <div id=\"71005457-617f-432a-a92f-cdf1e04fc9ec\" class=\"plotly-graph-div\" style=\"height:400px; width:700px;\"></div>\n",
              "            <script type=\"text/javascript\">\n",
              "                \n",
              "                    window.PLOTLYENV=window.PLOTLYENV || {};\n",
              "                    \n",
              "                if (document.getElementById(\"71005457-617f-432a-a92f-cdf1e04fc9ec\")) {\n",
              "                    Plotly.newPlot(\n",
              "                        '71005457-617f-432a-a92f-cdf1e04fc9ec',\n",
              "                        [{\"hoverlabel\": {\"namelength\": 0}, \"hovertemplate\": \"k=%{x}<br>distortions=%{y}\", \"legendgroup\": \"\", \"line\": {\"color\": \"#636efa\", \"dash\": \"solid\"}, \"mode\": \"lines\", \"name\": \"\", \"showlegend\": false, \"type\": \"scatter\", \"x\": [1, 2, 3, 4, 5, 6, 7, 8, 9, 10], \"xaxis\": \"x\", \"y\": [538258808.83, 157745139.84, 73255981.71, 41250450.94, 26571918.67, 19006066.92, 14213744.07, 10793421.09, 8580177.51, 6928851.4], \"yaxis\": \"y\"}],\n",
              "                        {\"height\": 400, \"legend\": {\"tracegroupgap\": 0}, \"margin\": {\"t\": 60}, \"template\": {\"data\": {\"bar\": [{\"error_x\": {\"color\": \"#2a3f5f\"}, \"error_y\": {\"color\": \"#2a3f5f\"}, \"marker\": {\"line\": {\"color\": \"#E5ECF6\", \"width\": 0.5}}, \"type\": \"bar\"}], \"barpolar\": [{\"marker\": {\"line\": {\"color\": \"#E5ECF6\", \"width\": 0.5}}, \"type\": \"barpolar\"}], \"carpet\": [{\"aaxis\": {\"endlinecolor\": \"#2a3f5f\", \"gridcolor\": \"white\", \"linecolor\": \"white\", \"minorgridcolor\": \"white\", \"startlinecolor\": \"#2a3f5f\"}, \"baxis\": {\"endlinecolor\": \"#2a3f5f\", \"gridcolor\": \"white\", \"linecolor\": \"white\", \"minorgridcolor\": \"white\", \"startlinecolor\": \"#2a3f5f\"}, \"type\": \"carpet\"}], \"choropleth\": [{\"colorbar\": {\"outlinewidth\": 0, \"ticks\": \"\"}, \"type\": \"choropleth\"}], \"contour\": [{\"colorbar\": {\"outlinewidth\": 0, \"ticks\": \"\"}, \"colorscale\": [[0.0, \"#0d0887\"], [0.1111111111111111, \"#46039f\"], [0.2222222222222222, \"#7201a8\"], [0.3333333333333333, \"#9c179e\"], [0.4444444444444444, \"#bd3786\"], [0.5555555555555556, \"#d8576b\"], [0.6666666666666666, \"#ed7953\"], [0.7777777777777778, \"#fb9f3a\"], [0.8888888888888888, \"#fdca26\"], [1.0, \"#f0f921\"]], \"type\": \"contour\"}], \"contourcarpet\": [{\"colorbar\": {\"outlinewidth\": 0, \"ticks\": \"\"}, \"type\": \"contourcarpet\"}], \"heatmap\": [{\"colorbar\": {\"outlinewidth\": 0, \"ticks\": \"\"}, \"colorscale\": [[0.0, \"#0d0887\"], [0.1111111111111111, \"#46039f\"], [0.2222222222222222, \"#7201a8\"], [0.3333333333333333, \"#9c179e\"], [0.4444444444444444, \"#bd3786\"], [0.5555555555555556, \"#d8576b\"], [0.6666666666666666, \"#ed7953\"], [0.7777777777777778, \"#fb9f3a\"], [0.8888888888888888, \"#fdca26\"], [1.0, \"#f0f921\"]], \"type\": \"heatmap\"}], \"heatmapgl\": [{\"colorbar\": {\"outlinewidth\": 0, \"ticks\": \"\"}, \"colorscale\": [[0.0, \"#0d0887\"], [0.1111111111111111, \"#46039f\"], [0.2222222222222222, \"#7201a8\"], [0.3333333333333333, \"#9c179e\"], [0.4444444444444444, \"#bd3786\"], [0.5555555555555556, \"#d8576b\"], [0.6666666666666666, \"#ed7953\"], [0.7777777777777778, \"#fb9f3a\"], [0.8888888888888888, \"#fdca26\"], [1.0, \"#f0f921\"]], \"type\": \"heatmapgl\"}], \"histogram\": [{\"marker\": {\"colorbar\": {\"outlinewidth\": 0, \"ticks\": \"\"}}, \"type\": \"histogram\"}], \"histogram2d\": [{\"colorbar\": {\"outlinewidth\": 0, \"ticks\": \"\"}, \"colorscale\": [[0.0, \"#0d0887\"], [0.1111111111111111, \"#46039f\"], [0.2222222222222222, \"#7201a8\"], [0.3333333333333333, \"#9c179e\"], [0.4444444444444444, \"#bd3786\"], [0.5555555555555556, \"#d8576b\"], [0.6666666666666666, \"#ed7953\"], [0.7777777777777778, \"#fb9f3a\"], [0.8888888888888888, \"#fdca26\"], [1.0, \"#f0f921\"]], \"type\": \"histogram2d\"}], \"histogram2dcontour\": [{\"colorbar\": {\"outlinewidth\": 0, \"ticks\": \"\"}, \"colorscale\": [[0.0, \"#0d0887\"], [0.1111111111111111, \"#46039f\"], [0.2222222222222222, \"#7201a8\"], [0.3333333333333333, \"#9c179e\"], [0.4444444444444444, \"#bd3786\"], [0.5555555555555556, \"#d8576b\"], [0.6666666666666666, \"#ed7953\"], [0.7777777777777778, \"#fb9f3a\"], [0.8888888888888888, \"#fdca26\"], [1.0, \"#f0f921\"]], \"type\": \"histogram2dcontour\"}], \"mesh3d\": [{\"colorbar\": {\"outlinewidth\": 0, \"ticks\": \"\"}, \"type\": \"mesh3d\"}], \"parcoords\": [{\"line\": {\"colorbar\": {\"outlinewidth\": 0, \"ticks\": \"\"}}, \"type\": \"parcoords\"}], \"pie\": [{\"automargin\": true, \"type\": \"pie\"}], \"scatter\": [{\"marker\": {\"colorbar\": {\"outlinewidth\": 0, \"ticks\": \"\"}}, \"type\": \"scatter\"}], \"scatter3d\": [{\"line\": {\"colorbar\": {\"outlinewidth\": 0, \"ticks\": \"\"}}, \"marker\": {\"colorbar\": {\"outlinewidth\": 0, \"ticks\": \"\"}}, \"type\": \"scatter3d\"}], \"scattercarpet\": [{\"marker\": {\"colorbar\": {\"outlinewidth\": 0, \"ticks\": \"\"}}, \"type\": \"scattercarpet\"}], \"scattergeo\": [{\"marker\": {\"colorbar\": {\"outlinewidth\": 0, \"ticks\": \"\"}}, \"type\": \"scattergeo\"}], \"scattergl\": [{\"marker\": {\"colorbar\": {\"outlinewidth\": 0, \"ticks\": \"\"}}, \"type\": \"scattergl\"}], \"scattermapbox\": [{\"marker\": {\"colorbar\": {\"outlinewidth\": 0, \"ticks\": \"\"}}, \"type\": \"scattermapbox\"}], \"scatterpolar\": [{\"marker\": {\"colorbar\": {\"outlinewidth\": 0, \"ticks\": \"\"}}, \"type\": \"scatterpolar\"}], \"scatterpolargl\": [{\"marker\": {\"colorbar\": {\"outlinewidth\": 0, \"ticks\": \"\"}}, \"type\": \"scatterpolargl\"}], \"scatterternary\": [{\"marker\": {\"colorbar\": {\"outlinewidth\": 0, \"ticks\": \"\"}}, \"type\": \"scatterternary\"}], \"surface\": [{\"colorbar\": {\"outlinewidth\": 0, \"ticks\": \"\"}, \"colorscale\": [[0.0, \"#0d0887\"], [0.1111111111111111, \"#46039f\"], [0.2222222222222222, \"#7201a8\"], [0.3333333333333333, \"#9c179e\"], [0.4444444444444444, \"#bd3786\"], [0.5555555555555556, \"#d8576b\"], [0.6666666666666666, \"#ed7953\"], [0.7777777777777778, \"#fb9f3a\"], [0.8888888888888888, \"#fdca26\"], [1.0, \"#f0f921\"]], \"type\": \"surface\"}], \"table\": [{\"cells\": {\"fill\": {\"color\": \"#EBF0F8\"}, \"line\": {\"color\": \"white\"}}, \"header\": {\"fill\": {\"color\": \"#C8D4E3\"}, \"line\": {\"color\": \"white\"}}, \"type\": \"table\"}]}, \"layout\": {\"annotationdefaults\": {\"arrowcolor\": \"#2a3f5f\", \"arrowhead\": 0, \"arrowwidth\": 1}, \"coloraxis\": {\"colorbar\": {\"outlinewidth\": 0, \"ticks\": \"\"}}, \"colorscale\": {\"diverging\": [[0, \"#8e0152\"], [0.1, \"#c51b7d\"], [0.2, \"#de77ae\"], [0.3, \"#f1b6da\"], [0.4, \"#fde0ef\"], [0.5, \"#f7f7f7\"], [0.6, \"#e6f5d0\"], [0.7, \"#b8e186\"], [0.8, \"#7fbc41\"], [0.9, \"#4d9221\"], [1, \"#276419\"]], \"sequential\": [[0.0, \"#0d0887\"], [0.1111111111111111, \"#46039f\"], [0.2222222222222222, \"#7201a8\"], [0.3333333333333333, \"#9c179e\"], [0.4444444444444444, \"#bd3786\"], [0.5555555555555556, \"#d8576b\"], [0.6666666666666666, \"#ed7953\"], [0.7777777777777778, \"#fb9f3a\"], [0.8888888888888888, \"#fdca26\"], [1.0, \"#f0f921\"]], \"sequentialminus\": [[0.0, \"#0d0887\"], [0.1111111111111111, \"#46039f\"], [0.2222222222222222, \"#7201a8\"], [0.3333333333333333, \"#9c179e\"], [0.4444444444444444, \"#bd3786\"], [0.5555555555555556, \"#d8576b\"], [0.6666666666666666, \"#ed7953\"], [0.7777777777777778, \"#fb9f3a\"], [0.8888888888888888, \"#fdca26\"], [1.0, \"#f0f921\"]]}, \"colorway\": [\"#636efa\", \"#EF553B\", \"#00cc96\", \"#ab63fa\", \"#FFA15A\", \"#19d3f3\", \"#FF6692\", \"#B6E880\", \"#FF97FF\", \"#FECB52\"], \"font\": {\"color\": \"#2a3f5f\"}, \"geo\": {\"bgcolor\": \"white\", \"lakecolor\": \"white\", \"landcolor\": \"#E5ECF6\", \"showlakes\": true, \"showland\": true, \"subunitcolor\": \"white\"}, \"hoverlabel\": {\"align\": \"left\"}, \"hovermode\": \"closest\", \"mapbox\": {\"style\": \"light\"}, \"paper_bgcolor\": \"white\", \"plot_bgcolor\": \"#E5ECF6\", \"polar\": {\"angularaxis\": {\"gridcolor\": \"white\", \"linecolor\": \"white\", \"ticks\": \"\"}, \"bgcolor\": \"#E5ECF6\", \"radialaxis\": {\"gridcolor\": \"white\", \"linecolor\": \"white\", \"ticks\": \"\"}}, \"scene\": {\"xaxis\": {\"backgroundcolor\": \"#E5ECF6\", \"gridcolor\": \"white\", \"gridwidth\": 2, \"linecolor\": \"white\", \"showbackground\": true, \"ticks\": \"\", \"zerolinecolor\": \"white\"}, \"yaxis\": {\"backgroundcolor\": \"#E5ECF6\", \"gridcolor\": \"white\", \"gridwidth\": 2, \"linecolor\": \"white\", \"showbackground\": true, \"ticks\": \"\", \"zerolinecolor\": \"white\"}, \"zaxis\": {\"backgroundcolor\": \"#E5ECF6\", \"gridcolor\": \"white\", \"gridwidth\": 2, \"linecolor\": \"white\", \"showbackground\": true, \"ticks\": \"\", \"zerolinecolor\": \"white\"}}, \"shapedefaults\": {\"line\": {\"color\": \"#2a3f5f\"}}, \"ternary\": {\"aaxis\": {\"gridcolor\": \"white\", \"linecolor\": \"white\", \"ticks\": \"\"}, \"baxis\": {\"gridcolor\": \"white\", \"linecolor\": \"white\", \"ticks\": \"\"}, \"bgcolor\": \"#E5ECF6\", \"caxis\": {\"gridcolor\": \"white\", \"linecolor\": \"white\", \"ticks\": \"\"}}, \"title\": {\"x\": 0.05}, \"xaxis\": {\"automargin\": true, \"gridcolor\": \"white\", \"linecolor\": \"white\", \"ticks\": \"\", \"title\": {\"standoff\": 15}, \"zerolinecolor\": \"white\", \"zerolinewidth\": 2}, \"yaxis\": {\"automargin\": true, \"gridcolor\": \"white\", \"linecolor\": \"white\", \"ticks\": \"\", \"title\": {\"standoff\": 15}, \"zerolinecolor\": \"white\", \"zerolinewidth\": 2}}}, \"width\": 700, \"xaxis\": {\"anchor\": \"y\", \"domain\": [0.0, 1.0], \"title\": {\"text\": \"k\"}}, \"yaxis\": {\"anchor\": \"x\", \"domain\": [0.0, 1.0], \"title\": {\"text\": \"distortions\"}}},\n",
              "                        {\"responsive\": true}\n",
              "                    ).then(function(){\n",
              "                            \n",
              "var gd = document.getElementById('71005457-617f-432a-a92f-cdf1e04fc9ec');\n",
              "var x = new MutationObserver(function (mutations, observer) {{\n",
              "        var display = window.getComputedStyle(gd).display;\n",
              "        if (!display || display === 'none') {{\n",
              "            console.log([gd, 'removed!']);\n",
              "            Plotly.purge(gd);\n",
              "            observer.disconnect();\n",
              "        }}\n",
              "}});\n",
              "\n",
              "// Listen for the removal of the full notebook cells\n",
              "var notebookContainer = gd.closest('#notebook-container');\n",
              "if (notebookContainer) {{\n",
              "    x.observe(notebookContainer, {childList: true});\n",
              "}}\n",
              "\n",
              "// Listen for the clearing of the current output cell\n",
              "var outputEl = gd.closest('.output');\n",
              "if (outputEl) {{\n",
              "    x.observe(outputEl, {childList: true});\n",
              "}}\n",
              "\n",
              "                        })\n",
              "                };\n",
              "                \n",
              "            </script>\n",
              "        </div>\n",
              "</body>\n",
              "</html>"
            ]
          },
          "metadata": {
            "tags": []
          }
        }
      ]
    },
    {
      "cell_type": "code",
      "metadata": {
        "colab": {
          "base_uri": "https://localhost:8080/"
        },
        "id": "HvcHFQ1mjr2W",
        "outputId": "6e77d6bc-cf78-4e96-fa41-06469e4da74e"
      },
      "source": [
        "km = KMeans(n_clusters = 3, random_state = 42)\n",
        "km.fit(train_x)"
      ],
      "execution_count": 40,
      "outputs": [
        {
          "output_type": "execute_result",
          "data": {
            "text/plain": [
              "KMeans(algorithm='auto', copy_x=True, init='k-means++', max_iter=300,\n",
              "       n_clusters=3, n_init=10, n_jobs=None, precompute_distances='auto',\n",
              "       random_state=42, tol=0.0001, verbose=0)"
            ]
          },
          "metadata": {
            "tags": []
          },
          "execution_count": 40
        }
      ]
    },
    {
      "cell_type": "code",
      "metadata": {
        "colab": {
          "base_uri": "https://localhost:8080/",
          "height": 136
        },
        "id": "ijRWRoZ3j-BC",
        "outputId": "07c1a87a-42f2-4e75-bdea-8eeecd1d4b57"
      },
      "source": [
        "# 훈련된 결과 확인해보기\n",
        "pd.DataFrame(km.cluster_centers_ ,   columns=train_x.columns)"
      ],
      "execution_count": 41,
      "outputs": [
        {
          "output_type": "execute_result",
          "data": {
            "text/html": [
              "<div>\n",
              "<style scoped>\n",
              "    .dataframe tbody tr th:only-of-type {\n",
              "        vertical-align: middle;\n",
              "    }\n",
              "\n",
              "    .dataframe tbody tr th {\n",
              "        vertical-align: top;\n",
              "    }\n",
              "\n",
              "    .dataframe thead th {\n",
              "        text-align: right;\n",
              "    }\n",
              "</style>\n",
              "<table border=\"1\" class=\"dataframe\">\n",
              "  <thead>\n",
              "    <tr style=\"text-align: right;\">\n",
              "      <th></th>\n",
              "      <th>birthday_year</th>\n",
              "      <th>category_prefer</th>\n",
              "      <th>recommended_cnt</th>\n",
              "      <th>age</th>\n",
              "      <th>days_from_joined</th>\n",
              "      <th>years_from_joined</th>\n",
              "    </tr>\n",
              "  </thead>\n",
              "  <tbody>\n",
              "    <tr>\n",
              "      <th>0</th>\n",
              "      <td>1991.611395</td>\n",
              "      <td>4.671769</td>\n",
              "      <td>1.925170</td>\n",
              "      <td>30.388605</td>\n",
              "      <td>246.517007</td>\n",
              "      <td>0.675340</td>\n",
              "    </tr>\n",
              "    <tr>\n",
              "      <th>1</th>\n",
              "      <td>1989.750247</td>\n",
              "      <td>4.375123</td>\n",
              "      <td>2.291214</td>\n",
              "      <td>32.249753</td>\n",
              "      <td>768.765054</td>\n",
              "      <td>2.103455</td>\n",
              "    </tr>\n",
              "    <tr>\n",
              "      <th>2</th>\n",
              "      <td>1989.264815</td>\n",
              "      <td>4.533333</td>\n",
              "      <td>3.140741</td>\n",
              "      <td>32.735185</td>\n",
              "      <td>1343.088889</td>\n",
              "      <td>3.677778</td>\n",
              "    </tr>\n",
              "  </tbody>\n",
              "</table>\n",
              "</div>"
            ],
            "text/plain": [
              "   birthday_year  category_prefer  recommended_cnt        age  \\\n",
              "0    1991.611395         4.671769         1.925170  30.388605   \n",
              "1    1989.750247         4.375123         2.291214  32.249753   \n",
              "2    1989.264815         4.533333         3.140741  32.735185   \n",
              "\n",
              "   days_from_joined  years_from_joined  \n",
              "0        246.517007           0.675340  \n",
              "1        768.765054           2.103455  \n",
              "2       1343.088889           3.677778  "
            ]
          },
          "metadata": {
            "tags": []
          },
          "execution_count": 41
        }
      ]
    },
    {
      "cell_type": "code",
      "metadata": {
        "colab": {
          "base_uri": "https://localhost:8080/",
          "height": 195
        },
        "id": "WRk3ut0mkjJz",
        "outputId": "e284bc8d-7c37-4776-86d1-64a56d665981"
      },
      "source": [
        "# k를 바꿔서 비교해보기\n",
        "km = KMeans(n_clusters = 5, random_state = 42)\n",
        "km.fit(train_x)\n",
        "pd.DataFrame(km.cluster_centers_ ,   columns=train_x.columns)"
      ],
      "execution_count": 42,
      "outputs": [
        {
          "output_type": "execute_result",
          "data": {
            "text/html": [
              "<div>\n",
              "<style scoped>\n",
              "    .dataframe tbody tr th:only-of-type {\n",
              "        vertical-align: middle;\n",
              "    }\n",
              "\n",
              "    .dataframe tbody tr th {\n",
              "        vertical-align: top;\n",
              "    }\n",
              "\n",
              "    .dataframe thead th {\n",
              "        text-align: right;\n",
              "    }\n",
              "</style>\n",
              "<table border=\"1\" class=\"dataframe\">\n",
              "  <thead>\n",
              "    <tr style=\"text-align: right;\">\n",
              "      <th></th>\n",
              "      <th>birthday_year</th>\n",
              "      <th>category_prefer</th>\n",
              "      <th>recommended_cnt</th>\n",
              "      <th>age</th>\n",
              "      <th>days_from_joined</th>\n",
              "      <th>years_from_joined</th>\n",
              "    </tr>\n",
              "  </thead>\n",
              "  <tbody>\n",
              "    <tr>\n",
              "      <th>0</th>\n",
              "      <td>1991.007599</td>\n",
              "      <td>4.638298</td>\n",
              "      <td>1.989362</td>\n",
              "      <td>30.992401</td>\n",
              "      <td>434.793313</td>\n",
              "      <td>1.191489</td>\n",
              "    </tr>\n",
              "    <tr>\n",
              "      <th>1</th>\n",
              "      <td>1988.810345</td>\n",
              "      <td>4.700000</td>\n",
              "      <td>3.389655</td>\n",
              "      <td>33.189655</td>\n",
              "      <td>1499.237931</td>\n",
              "      <td>4.105172</td>\n",
              "    </tr>\n",
              "    <tr>\n",
              "      <th>2</th>\n",
              "      <td>1991.953079</td>\n",
              "      <td>4.646628</td>\n",
              "      <td>1.868035</td>\n",
              "      <td>30.046921</td>\n",
              "      <td>137.750733</td>\n",
              "      <td>0.376979</td>\n",
              "    </tr>\n",
              "    <tr>\n",
              "      <th>3</th>\n",
              "      <td>1989.686316</td>\n",
              "      <td>4.336842</td>\n",
              "      <td>2.827368</td>\n",
              "      <td>32.313684</td>\n",
              "      <td>1078.562105</td>\n",
              "      <td>2.952211</td>\n",
              "    </tr>\n",
              "    <tr>\n",
              "      <th>4</th>\n",
              "      <td>1989.589744</td>\n",
              "      <td>4.375000</td>\n",
              "      <td>2.198718</td>\n",
              "      <td>32.410256</td>\n",
              "      <td>748.068910</td>\n",
              "      <td>2.046635</td>\n",
              "    </tr>\n",
              "  </tbody>\n",
              "</table>\n",
              "</div>"
            ],
            "text/plain": [
              "   birthday_year  category_prefer  recommended_cnt        age  \\\n",
              "0    1991.007599         4.638298         1.989362  30.992401   \n",
              "1    1988.810345         4.700000         3.389655  33.189655   \n",
              "2    1991.953079         4.646628         1.868035  30.046921   \n",
              "3    1989.686316         4.336842         2.827368  32.313684   \n",
              "4    1989.589744         4.375000         2.198718  32.410256   \n",
              "\n",
              "   days_from_joined  years_from_joined  \n",
              "0        434.793313           1.191489  \n",
              "1       1499.237931           4.105172  \n",
              "2        137.750733           0.376979  \n",
              "3       1078.562105           2.952211  \n",
              "4        748.068910           2.046635  "
            ]
          },
          "metadata": {
            "tags": []
          },
          "execution_count": 42
        }
      ]
    },
    {
      "cell_type": "code",
      "metadata": {
        "colab": {
          "base_uri": "https://localhost:8080/"
        },
        "id": "13XNP1C7kya3",
        "outputId": "9d9cf5b8-46f8-4b80-950b-394d7c415b0f"
      },
      "source": [
        "# 각 군집별 데이터 수 확인\n",
        "label_list = list(km.labels_)\n",
        "[ [x, label_list.count(x)] for x in set(label_list)    ]"
      ],
      "execution_count": 43,
      "outputs": [
        {
          "output_type": "execute_result",
          "data": {
            "text/plain": [
              "[[0, 661], [1, 290], [2, 682], [3, 475], [4, 621]]"
            ]
          },
          "metadata": {
            "tags": []
          },
          "execution_count": 43
        }
      ]
    },
    {
      "cell_type": "code",
      "metadata": {
        "colab": {
          "base_uri": "https://localhost:8080/",
          "height": 136
        },
        "id": "oPSx7b5TlS0t",
        "outputId": "3c7895b9-0f74-49a9-cf82-7747f9f97a5a"
      },
      "source": [
        "# 최종훈련 모델 시각화\n",
        "km = KMeans(n_clusters = 3, random_state = 42)\n",
        "km.fit(train_x)\n",
        "pd.DataFrame(km.cluster_centers_ ,   columns=train_x.columns)"
      ],
      "execution_count": 44,
      "outputs": [
        {
          "output_type": "execute_result",
          "data": {
            "text/html": [
              "<div>\n",
              "<style scoped>\n",
              "    .dataframe tbody tr th:only-of-type {\n",
              "        vertical-align: middle;\n",
              "    }\n",
              "\n",
              "    .dataframe tbody tr th {\n",
              "        vertical-align: top;\n",
              "    }\n",
              "\n",
              "    .dataframe thead th {\n",
              "        text-align: right;\n",
              "    }\n",
              "</style>\n",
              "<table border=\"1\" class=\"dataframe\">\n",
              "  <thead>\n",
              "    <tr style=\"text-align: right;\">\n",
              "      <th></th>\n",
              "      <th>birthday_year</th>\n",
              "      <th>category_prefer</th>\n",
              "      <th>recommended_cnt</th>\n",
              "      <th>age</th>\n",
              "      <th>days_from_joined</th>\n",
              "      <th>years_from_joined</th>\n",
              "    </tr>\n",
              "  </thead>\n",
              "  <tbody>\n",
              "    <tr>\n",
              "      <th>0</th>\n",
              "      <td>1991.611395</td>\n",
              "      <td>4.671769</td>\n",
              "      <td>1.925170</td>\n",
              "      <td>30.388605</td>\n",
              "      <td>246.517007</td>\n",
              "      <td>0.675340</td>\n",
              "    </tr>\n",
              "    <tr>\n",
              "      <th>1</th>\n",
              "      <td>1989.750247</td>\n",
              "      <td>4.375123</td>\n",
              "      <td>2.291214</td>\n",
              "      <td>32.249753</td>\n",
              "      <td>768.765054</td>\n",
              "      <td>2.103455</td>\n",
              "    </tr>\n",
              "    <tr>\n",
              "      <th>2</th>\n",
              "      <td>1989.264815</td>\n",
              "      <td>4.533333</td>\n",
              "      <td>3.140741</td>\n",
              "      <td>32.735185</td>\n",
              "      <td>1343.088889</td>\n",
              "      <td>3.677778</td>\n",
              "    </tr>\n",
              "  </tbody>\n",
              "</table>\n",
              "</div>"
            ],
            "text/plain": [
              "   birthday_year  category_prefer  recommended_cnt        age  \\\n",
              "0    1991.611395         4.671769         1.925170  30.388605   \n",
              "1    1989.750247         4.375123         2.291214  32.249753   \n",
              "2    1989.264815         4.533333         3.140741  32.735185   \n",
              "\n",
              "   days_from_joined  years_from_joined  \n",
              "0        246.517007           0.675340  \n",
              "1        768.765054           2.103455  \n",
              "2       1343.088889           3.677778  "
            ]
          },
          "metadata": {
            "tags": []
          },
          "execution_count": 44
        }
      ]
    },
    {
      "cell_type": "code",
      "metadata": {
        "colab": {
          "base_uri": "https://localhost:8080/",
          "height": 166
        },
        "id": "XlFMxVfLlgeV",
        "outputId": "6bccc72a-14dc-4cf2-cc77-f110685f9c42"
      },
      "source": [
        "train_x['label_km'] = km.labels_\n",
        "train_x.groupby('label_km')[['birthday_year']].count()"
      ],
      "execution_count": 45,
      "outputs": [
        {
          "output_type": "execute_result",
          "data": {
            "text/html": [
              "<div>\n",
              "<style scoped>\n",
              "    .dataframe tbody tr th:only-of-type {\n",
              "        vertical-align: middle;\n",
              "    }\n",
              "\n",
              "    .dataframe tbody tr th {\n",
              "        vertical-align: top;\n",
              "    }\n",
              "\n",
              "    .dataframe thead th {\n",
              "        text-align: right;\n",
              "    }\n",
              "</style>\n",
              "<table border=\"1\" class=\"dataframe\">\n",
              "  <thead>\n",
              "    <tr style=\"text-align: right;\">\n",
              "      <th></th>\n",
              "      <th>birthday_year</th>\n",
              "    </tr>\n",
              "    <tr>\n",
              "      <th>label_km</th>\n",
              "      <th></th>\n",
              "    </tr>\n",
              "  </thead>\n",
              "  <tbody>\n",
              "    <tr>\n",
              "      <th>0</th>\n",
              "      <td>1176</td>\n",
              "    </tr>\n",
              "    <tr>\n",
              "      <th>1</th>\n",
              "      <td>1010</td>\n",
              "    </tr>\n",
              "    <tr>\n",
              "      <th>2</th>\n",
              "      <td>543</td>\n",
              "    </tr>\n",
              "  </tbody>\n",
              "</table>\n",
              "</div>"
            ],
            "text/plain": [
              "          birthday_year\n",
              "label_km               \n",
              "0                  1176\n",
              "1                  1010\n",
              "2                   543"
            ]
          },
          "metadata": {
            "tags": []
          },
          "execution_count": 45
        }
      ]
    },
    {
      "cell_type": "code",
      "metadata": {
        "colab": {
          "base_uri": "https://localhost:8080/",
          "height": 617
        },
        "id": "pqF0n_lGl8OC",
        "outputId": "a10f389e-98f7-4331-cc50-860590383c86"
      },
      "source": [
        "# Visualizing\n",
        "\n",
        "from plotly.subplots import make_subplots\n",
        "import plotly.graph_objects as go\n",
        "\n",
        "fig  = make_subplots(\n",
        "    rows = 1,\n",
        "    cols = 2, \n",
        "    subplot_titles=('Actual', 'K-means cluster')\n",
        "\n",
        ")\n",
        "\n",
        "# Actual\n",
        "\n",
        "fig.add_trace(\n",
        "    go.Scatter(\n",
        "        x = train_x['recommended_cnt'],\n",
        "        y = train_x['days_from_joined'],\n",
        "        mode = 'markers',\n",
        "\n",
        "\n",
        "    ),\n",
        "    row = 1,\n",
        "    col = 1\n",
        ")\n",
        "\n",
        "# Algorithm\n",
        "\n",
        "fig.add_trace(\n",
        "    go.Scatter(\n",
        "        x = train_x['recommended_cnt'],\n",
        "        y = train_x['days_from_joined'],\n",
        "        mode = 'markers',\n",
        "        marker = dict(color = train_x['label_km'])\n",
        "\n",
        "\n",
        "    ),\n",
        "    row = 1,\n",
        "    col = 2\n",
        ")\n",
        "\n",
        "fig.update_layout(width = 1000, height = 600)\n",
        "fig.show()"
      ],
      "execution_count": 46,
      "outputs": [
        {
          "output_type": "display_data",
          "data": {
            "text/html": [
              "<html>\n",
              "<head><meta charset=\"utf-8\" /></head>\n",
              "<body>\n",
              "    <div>\n",
              "            <script src=\"https://cdnjs.cloudflare.com/ajax/libs/mathjax/2.7.5/MathJax.js?config=TeX-AMS-MML_SVG\"></script><script type=\"text/javascript\">if (window.MathJax) {MathJax.Hub.Config({SVG: {font: \"STIX-Web\"}});}</script>\n",
              "                <script type=\"text/javascript\">window.PlotlyConfig = {MathJaxConfig: 'local'};</script>\n",
              "        <script src=\"https://cdn.plot.ly/plotly-latest.min.js\"></script>    \n",
              "            <div id=\"138ef1df-e919-4b41-879f-a4adacedce09\" class=\"plotly-graph-div\" style=\"height:600px; width:1000px;\"></div>\n",
              "            <script type=\"text/javascript\">\n",
              "                \n",
              "                    window.PLOTLYENV=window.PLOTLYENV || {};\n",
              "                    \n",
              "                if (document.getElementById(\"138ef1df-e919-4b41-879f-a4adacedce09\")) {\n",
              "                    Plotly.newPlot(\n",
              "                        '138ef1df-e919-4b41-879f-a4adacedce09',\n",
              "                        [{\"mode\": \"markers\", \"type\": \"scatter\", \"x\": [2, 2, 0, 0, 3, 0, 0, 2, 0, 5, 0, 6, 2, 7, 0, 3, 9, 4, 2, 5, 3, 0, 2, 0, 4, 4, 9, 5, 2, 12, 0, 4, 1, 2, 5, 3, 4, 6, 1, 0, 0, 0, 0, 4, 5, 0, 4, 5, 2, 3, 0, 0, 0, 0, 0, 3, 2, 5, 2, 0, 2, 3, 0, 4, 0, 0, 2, 3, 4, 5, 3, 4, 5, 5, 3, 0, 2, 3, 3, 2, 4, 7, 0, 1, 2, 7, 0, 3, 1, 0, 6, 3, 0, 3, 3, 3, 2, 2, 12, 0, 1, 3, 1, 0, 3, 3, 4, 5, 5, 0, 0, 3, 3, 3, 0, 3, 1, 2, 6, 6, 2, 0, 4, 1, 5, 3, 3, 7, 3, 0, 3, 3, 0, 0, 0, 3, 0, 1, 3, 6, 5, 5, 1, 0, 0, 2, 3, 10, 2, 6, 1, 3, 2, 3, 3, 2, 0, 4, 5, 1, 0, 0, 5, 2, 1, 1, 1, 12, 0, 0, 6, 1, 4, 5, 2, 5, 5, 3, 2, 3, 5, 4, 0, 2, 1, 4, 0, 7, 12, 5, 4, 0, 0, 1, 3, 2, 0, 4, 3, 4, 4, 0, 7, 4, 3, 5, 0, 0, 1, 3, 0, 2, 2, 3, 1, 0, 2, 4, 2, 6, 0, 4, 3, 2, 8, 2, 4, 3, 0, 2, 0, 0, 0, 4, 1, 0, 1, 0, 4, 0, 0, 0, 5, 0, 1, 0, 6, 5, 1, 3, 3, 3, 5, 2, 4, 10, 0, 0, 0, 0, 3, 3, 4, 0, 0, 7, 3, 1, 2, 0, 0, 0, 0, 5, 4, 6, 6, 1, 3, 1, 11, 1, 1, 3, 3, 7, 1, 2, 0, 3, 3, 5, 0, 3, 0, 0, 1, 5, 4, 0, 3, 0, 0, 0, 0, 0, 5, 0, 2, 6, 6, 3, 1, 1, 5, 0, 0, 2, 0, 0, 5, 2, 8, 5, 0, 6, 1, 0, 1, 0, 3, 3, 2, 0, 3, 0, 4, 1, 4, 5, 1, 2, 10, 3, 2, 4, 11, 0, 0, 4, 4, 15, 0, 2, 4, 2, 4, 1, 1, 4, 0, 0, 1, 0, 5, 0, 1, 0, 2, 0, 4, 6, 1, 0, 0, 0, 4, 0, 2, 1, 4, 0, 2, 1, 0, 1, 2, 5, 0, 3, 2, 2, 0, 3, 0, 4, 3, 1, 3, 0, 1, 0, 3, 2, 3, 2, 0, 0, 8, 4, 0, 0, 0, 3, 3, 2, 2, 1, 5, 3, 5, 2, 1, 0, 2, 5, 8, 5, 3, 1, 4, 4, 0, 8, 4, 0, 5, 0, 9, 2, 0, 0, 3, 2, 5, 0, 0, 4, 4, 5, 0, 0, 0, 2, 0, 1, 0, 1, 3, 0, 0, 1, 0, 4, 1, 5, 1, 2, 5, 2, 2, 5, 0, 4, 4, 3, 2, 1, 2, 3, 2, 3, 1, 4, 4, 1, 8, 5, 4, 1, 5, 5, 0, 1, 1, 1, 0, 2, 0, 3, 0, 0, 0, 5, 1, 5, 2, 6, 4, 6, 1, 0, 1, 4, 1, 2, 3, 0, 0, 3, 1, 8, 0, 4, 1, 6, 0, 0, 2, 5, 1, 3, 7, 4, 1, 5, 4, 0, 0, 1, 2, 2, 0, 7, 0, 0, 1, 7, 0, 3, 2, 3, 1, 1, 6, 3, 0, 6, 2, 0, 0, 0, 0, 4, 0, 6, 2, 8, 2, 0, 0, 0, 5, 3, 1, 3, 4, 4, 0, 2, 3, 7, 5, 4, 0, 3, 2, 4, 0, 0, 6, 4, 0, 0, 4, 1, 4, 0, 0, 2, 2, 4, 0, 4, 0, 1, 0, 0, 2, 4, 0, 0, 1, 1, 3, 4, 0, 0, 0, 5, 4, 10, 0, 9, 3, 0, 6, 2, 1, 0, 2, 6, 1, 2, 4, 1, 1, 0, 1, 2, 3, 2, 2, 5, 2, 4, 4, 0, 4, 1, 0, 3, 2, 3, 0, 1, 5, 3, 0, 0, 1, 13, 0, 1, 2, 8, 0, 4, 0, 3, 0, 0, 0, 6, 0, 2, 3, 0, 3, 4, 3, 3, 1, 3, 12, 1, 1, 5, 1, 0, 1, 0, 1, 2, 3, 3, 1, 4, 1, 1, 3, 2, 4, 0, 2, 10, 6, 0, 3, 1, 0, 0, 3, 2, 0, 0, 0, 4, 5, 1, 1, 2, 2, 3, 5, 0, 1, 6, 0, 4, 3, 0, 0, 3, 5, 1, 7, 3, 3, 0, 4, 0, 2, 0, 1, 0, 2, 0, 6, 3, 2, 3, 5, 2, 16, 1, 6, 4, 3, 0, 1, 18, 2, 2, 3, 0, 0, 1, 1, 0, 2, 0, 5, 1, 0, 3, 1, 1, 6, 2, 0, 5, 2, 4, 1, 0, 1, 2, 4, 4, 5, 2, 5, 6, 0, 0, 0, 0, 5, 1, 2, 1, 2, 3, 3, 4, 2, 0, 1, 2, 2, 4, 0, 4, 4, 3, 0, 0, 4, 3, 2, 3, 0, 2, 0, 10, 1, 4, 3, 0, 5, 3, 3, 2, 3, 0, 10, 2, 3, 1, 2, 2, 2, 0, 0, 8, 0, 2, 3, 3, 9, 1, 4, 5, 2, 0, 3, 2, 1, 13, 1, 1, 3, 0, 0, 1, 0, 0, 0, 8, 0, 1, 7, 0, 0, 3, 3, 0, 3, 5, 2, 1, 0, 4, 1, 6, 6, 3, 0, 5, 3, 4, 2, 2, 0, 0, 4, 5, 3, 5, 0, 0, 2, 7, 0, 5, 4, 2, 0, 1, 0, 3, 0, 0, 3, 0, 2, 1, 2, 3, 4, 4, 0, 1, 3, 7, 0, 3, 1, 5, 0, 3, 5, 5, 0, 0, 2, 3, 2, 3, 2, 4, 0, 1, 2, 1, 0, 2, 1, 2, 2, 0, 1, 3, 1, 6, 1, 0, 0, 2, 1, 0, 2, 2, 1, 0, 0, 4, 5, 0, 10, 3, 1, 1, 1, 1, 1, 0, 7, 0, 3, 1, 3, 2, 0, 0, 0, 1, 0, 4, 2, 0, 2, 0, 2, 1, 4, 0, 0, 4, 1, 0, 6, 5, 0, 0, 0, 2, 0, 0, 0, 0, 0, 2, 2, 1, 0, 0, 2, 0, 3, 2, 1, 0, 2, 0, 1, 7, 0, 3, 0, 2, 0, 1, 1, 0, 0, 8, 4, 1, 3, 1, 1, 2, 0, 2, 0, 0, 1, 0, 2, 3, 1, 0, 0, 0, 5, 3, 0, 2, 7, 0, 3, 0, 1, 2, 1, 0, 8, 1, 0, 0, 0, 3, 2, 2, 7, 0, 4, 0, 0, 1, 0, 3, 3, 2, 0, 0, 2, 5, 0, 2, 0, 2, 3, 0, 4, 6, 8, 3, 2, 2, 0, 4, 0, 5, 3, 1, 7, 4, 0, 1, 2, 0, 5, 2, 0, 1, 0, 5, 0, 0, 3, 3, 2, 2, 0, 6, 0, 0, 0, 0, 6, 2, 2, 0, 4, 2, 4, 0, 1, 0, 4, 10, 4, 6, 3, 6, 0, 0, 0, 0, 0, 6, 7, 3, 3, 1, 0, 3, 0, 5, 2, 2, 0, 2, 2, 5, 3, 6, 5, 3, 4, 0, 3, 0, 4, 1, 2, 5, 2, 2, 1, 1, 2, 0, 0, 1, 2, 2, 0, 4, 2, 1, 1, 0, 9, 4, 3, 0, 2, 4, 0, 0, 0, 8, 2, 4, 0, 3, 1, 6, 0, 0, 0, 0, 4, 3, 5, 2, 0, 0, 1, 4, 5, 2, 2, 0, 3, 2, 2, 3, 1, 0, 2, 3, 5, 0, 0, 1, 0, 0, 4, 11, 0, 0, 9, 0, 0, 2, 0, 2, 19, 0, 4, 11, 2, 1, 1, 4, 2, 6, 2, 2, 2, 0, 0, 3, 0, 2, 0, 0, 3, 2, 4, 0, 0, 3, 3, 3, 1, 2, 0, 0, 2, 5, 2, 2, 0, 2, 0, 7, 2, 0, 0, 2, 2, 2, 4, 0, 3, 10, 0, 3, 3, 0, 7, 9, 3, 3, 1, 1, 5, 0, 0, 0, 0, 0, 4, 11, 5, 0, 3, 2, 5, 1, 2, 3, 1, 5, 3, 0, 0, 0, 0, 2, 2, 4, 1, 0, 0, 3, 4, 0, 2, 3, 0, 7, 0, 1, 5, 2, 1, 1, 4, 4, 6, 0, 6, 0, 3, 5, 2, 10, 2, 4, 3, 1, 0, 1, 2, 4, 4, 0, 0, 0, 0, 0, 3, 2, 3, 2, 3, 1, 4, 1, 2, 3, 2, 3, 3, 0, 4, 1, 5, 2, 4, 0, 0, 0, 3, 0, 1, 0, 4, 3, 10, 4, 4, 1, 0, 0, 5, 5, 0, 0, 3, 2, 3, 3, 5, 5, 5, 4, 11, 2, 3, 0, 3, 4, 2, 0, 3, 0, 2, 7, 1, 11, 0, 1, 4, 1, 3, 5, 2, 0, 0, 0, 3, 0, 0, 4, 0, 0, 2, 1, 2, 1, 0, 1, 4, 5, 3, 0, 0, 5, 3, 0, 5, 3, 2, 3, 4, 0, 2, 7, 0, 0, 0, 0, 0, 4, 1, 0, 0, 2, 3, 0, 2, 3, 3, 2, 3, 2, 1, 0, 4, 1, 0, 3, 0, 2, 4, 3, 1, 3, 0, 7, 3, 3, 2, 0, 3, 3, 0, 6, 4, 1, 1, 0, 1, 4, 4, 1, 0, 1, 3, 3, 0, 2, 1, 3, 0, 1, 0, 0, 2, 0, 0, 4, 13, 2, 3, 7, 9, 3, 3, 0, 0, 2, 3, 0, 1, 0, 5, 4, 1, 0, 0, 0, 4, 0, 2, 3, 3, 0, 3, 0, 0, 3, 5, 0, 2, 13, 2, 3, 1, 1, 5, 0, 0, 5, 0, 0, 4, 0, 5, 3, 0, 3, 5, 3, 1, 3, 0, 0, 3, 0, 4, 0, 4, 4, 5, 2, 1, 2, 4, 0, 2, 6, 3, 0, 0, 1, 0, 1, 0, 0, 5, 1, 6, 0, 2, 0, 0, 5, 4, 5, 2, 4, 0, 3, 4, 0, 7, 3, 0, 2, 10, 0, 1, 1, 14, 0, 0, 3, 2, 4, 0, 2, 2, 7, 1, 8, 1, 1, 3, 0, 0, 2, 4, 10, 1, 5, 0, 0, 1, 1, 3, 0, 8, 1, 3, 3, 0, 1, 0, 1, 1, 4, 1, 4, 1, 5, 5, 4, 3, 6, 13, 3, 2, 7, 5, 0, 2, 2, 0, 0, 4, 0, 0, 0, 1, 2, 0, 6, 0, 2, 0, 0, 2, 4, 4, 2, 3, 1, 3, 0, 0, 5, 2, 11, 3, 0, 0, 13, 2, 1, 0, 1, 7, 3, 0, 0, 6, 8, 0, 4, 0, 2, 3, 0, 3, 7, 5, 3, 1, 3, 3, 0, 2, 3, 3, 3, 9, 4, 0, 3, 2, 5, 7, 0, 0, 0, 2, 0, 0, 0, 4, 3, 2, 3, 0, 0, 0, 4, 2, 0, 0, 0, 0, 4, 1, 1, 0, 2, 4, 3, 1, 0, 2, 0, 0, 2, 0, 6, 4, 0, 5, 5, 5, 4, 4, 4, 0, 2, 4, 2, 11, 4, 3, 1, 0, 10, 2, 0, 3, 0, 1, 1, 1, 0, 0, 0, 1, 5, 1, 0, 5, 0, 3, 8, 2, 0, 4, 0, 0, 0, 0, 3, 1, 2, 0, 1, 0, 2, 3, 9, 1, 2, 4, 3, 1, 5, 3, 0, 2, 0, 3, 1, 0, 2, 1, 0, 3, 0, 4, 0, 1, 5, 0, 5, 0, 2, 7, 0, 4, 0, 1, 3, 2, 8, 4, 3, 0, 4, 2, 0, 3, 5, 4, 6, 0, 4, 1, 0, 4, 0, 0, 0, 0, 2, 9, 0, 4, 3, 0, 3, 0, 0, 7, 3, 2, 0, 6, 9, 2, 4, 2, 4, 2, 0, 0, 3, 4, 4, 9, 3, 0, 2, 2, 0, 0, 0, 5, 5, 2, 0, 0, 0, 1, 0, 0, 0, 0, 0, 0, 2, 0, 0, 0, 0, 5, 2, 4, 5, 4, 0, 0, 0, 2, 0, 4, 0, 2, 0, 4, 0, 2, 5, 2, 4, 5, 0, 2, 0, 0, 0, 0, 0, 6, 0, 1, 3, 0, 6, 4, 10, 0, 2, 0, 2, 0, 0, 3, 6, 0, 0, 1, 3, 3, 2, 10, 5, 0, 2, 4, 7, 0, 1, 1, 5, 0, 0, 0, 1, 0, 0, 0, 0, 2, 3, 4, 2, 4, 3, 1, 1, 0, 9, 0, 1, 1, 3, 0, 1, 4, 4, 11, 0, 3, 3, 5, 5, 4, 3, 0, 0, 2, 3, 0, 4, 0, 3, 0, 5, 0, 2, 0, 1, 4, 0, 0, 0, 3, 0, 1, 8, 14, 4, 0, 1, 0, 0, 4, 0, 1, 0, 4, 0, 1, 3, 4, 0, 1, 0, 2, 3, 0, 1, 0, 0, 4, 0, 1, 0, 1, 7, 0, 5, 0, 3, 4, 0, 3, 1, 4, 1, 2, 2, 0, 3, 3, 5, 1, 1, 0, 0, 0, 4, 4, 1, 2, 0, 0, 2, 0, 0, 3, 2, 0, 3, 0, 1, 0, 4, 0, 0, 3, 4, 1, 3, 0, 7, 0, 1, 2, 1, 0, 7, 2, 2, 0, 3, 2, 1, 3, 2, 3, 4, 2, 0, 0, 0, 0, 1, 8, 0, 3, 4, 4, 2, 2, 1, 8, 1, 4, 2, 4, 4, 2, 2, 4, 0, 1, 2, 0, 0, 1, 0, 0, 2, 3, 3, 3, 0, 5, 4, 1, 4, 0, 3, 0, 1, 1, 0, 5, 4, 0, 1, 0, 2, 3, 3, 1, 1, 4, 0, 4, 5, 0, 0, 6, 0, 5, 3, 0, 0, 2, 4, 5, 1, 4, 0, 8, 9, 0, 3, 2, 0, 3, 0, 4, 2, 7, 0, 3, 12, 4, 4, 1, 0, 8, 0, 2, 1, 4, 0, 0, 9, 1, 1, 0, 10, 5, 1, 3, 0, 0, 3, 4, 3, 0, 1, 1, 3, 1, 5, 6, 4, 0, 4, 3, 2, 1, 3, 0, 5, 9, 0, 1, 2, 4, 1, 0, 0, 4, 3, 3, 0, 4, 3, 5, 5, 6, 3, 0, 0, 3, 0, 4, 0, 0, 0, 7, 1, 9, 1, 2, 3, 5, 4, 3, 0, 0, 0, 5, 3, 0, 0, 0, 2, 4, 0, 0, 0, 5, 0, 0, 2, 5, 3, 1, 2, 0, 5, 1, 4, 21, 3, 4, 0, 0, 0, 2, 3, 4, 0, 8, 3, 3, 3, 8, 1, 2, 2, 0, 6, 4, 6, 0, 0, 0, 2, 4, 4, 8, 3, 1, 4, 2, 1, 7, 1, 0, 1, 2, 2, 4, 2, 3, 1, 0, 4, 5, 0, 0, 3, 4, 0, 0, 4, 3, 4, 5, 4, 0, 0, 1, 0, 0, 6, 0, 1, 0, 2, 4, 3, 11, 5, 0, 4, 2, 1, 3, 1, 0, 3, 4, 0, 3, 6, 0, 3, 3, 3, 4, 3, 0, 10, 0, 4, 0, 1, 2, 2, 0, 4, 0, 7, 0, 4, 0, 5, 14, 1, 7, 0, 3, 2, 0, 0, 0, 4, 2, 2, 0, 10, 3, 1, 1, 0, 2, 0, 5, 2, 14, 2, 3, 2, 2, 1, 1, 0, 1, 0, 0, 1, 1, 4, 1, 7, 0, 0, 1, 8, 0, 3, 1, 0, 2, 4, 2, 0, 0, 0, 2, 0, 0, 4, 5, 1, 0, 1, 6, 0, 3, 0, 0, 6, 3, 3, 3, 1, 3, 1, 6, 0, 0, 3, 8, 2, 3, 0, 0, 1, 3, 3, 2, 5, 0, 3, 3, 2, 2, 1, 3, 0, 0, 4, 0, 1, 3, 1, 0, 1, 0, 0, 1, 0, 3, 8, 3, 3, 0, 5, 3, 3, 0, 1, 4, 0, 2, 5, 6, 3, 2, 4, 2, 0, 4, 5, 2, 0, 4, 0, 0, 0, 2, 0, 0, 3, 2, 2, 2, 4, 5, 8, 0, 1, 0, 6, 0, 4, 2, 0, 3, 5, 0, 2, 3, 3, 2, 0, 2, 0, 2, 2, 4, 1, 0, 4, 1, 0, 1, 0, 4, 3, 3, 0, 0, 2, 1, 3, 3, 0, 2, 1, 4, 3, 5, 7, 3, 0, 0, 2, 3, 3, 5, 0, 1, 5, 6, 3, 4, 0, 0, 0, 2, 3, 0, 2, 0, 3, 3, 2, 0, 0, 0, 5, 0, 1, 4, 0, 2, 9, 4, 2, 0, 1, 0, 6, 0, 0, 10, 1, 1, 4, 5, 0, 0, 1, 1, 4, 0, 1, 2, 0, 7, 9, 2, 0, 0, 1, 3, 2, 5, 2, 0, 0, 0, 2, 0, 5, 0, 3, 3, 0, 0, 1, 0, 0, 6, 1, 5, 9, 4, 0, 3], \"xaxis\": \"x\", \"y\": [337, 190, 657, 767, 502, 276, 722, 575, 1516, 167, 998, 1375, 6, 897, 686, 1221, 268, 668, 779, 656, 220, 96, 266, 15, 1128, 717, 1419, 624, 819, 1320, 172, 323, 3, 752, 467, 859, 452, 647, 439, 982, 111, 665, 276, 534, 808, 852, 136, 1280, 470, 647, 888, 955, 14, 234, 1143, 1156, 391, 888, 804, 612, 1429, 229, 18, 347, 738, 593, 72, 251, 2, 431, 626, 932, 465, 987, 436, 335, 1148, 54, 600, 364, 33, 1668, 1027, 1123, 433, 1052, 420, 225, 734, 55, 751, 134, 1405, 468, 1235, 1723, 165, 407, 872, 42, 831, 237, 756, 711, 546, 587, 851, 123, 1396, 54, 878, 1694, 924, 749, 396, 374, 510, 1502, 1024, 863, 711, 557, 728, 312, 370, 844, 560, 1414, 168, 1170, 1714, 1504, 446, 576, 129, 745, 506, 103, 461, 862, 1748, 1093, 360, 1151, 218, 847, 554, 262, 261, 133, 1635, 939, 259, 599, 420, 785, 961, 9, 485, 1511, 20, 1391, 1278, 1103, 297, 978, 345, 1037, 206, 988, 1296, 469, 35, 583, 207, 1631, 1292, 823, 901, 167, 889, 631, 496, 502, 147, 1505, 570, 1392, 1255, 342, 1435, 255, 736, 230, 535, 328, 719, 64, 78, 312, 750, 67, 738, 748, 260, 542, 1020, 72, 648, 54, 1158, 182, 330, 1061, 1703, 329, 628, 231, 1223, 237, 518, 367, 892, 107, 1481, 285, 299, 962, 1185, 280, 742, 436, 1486, 1102, 328, 1099, 234, 237, 269, 888, 868, 299, 1049, 289, 585, 591, 482, 1413, 131, 131, 620, 452, 629, 712, 572, 535, 1080, 179, 1255, 519, 1550, 87, 708, 314, 1289, 850, 1064, 581, 412, 637, 46, 482, 998, 679, 1082, 540, 767, 140, 1286, 407, 923, 962, 1494, 513, 1383, 1390, 699, 920, 150, 460, 155, 139, 917, 395, 1271, 782, 103, 597, 557, 1239, 397, 1757, 678, 1779, 904, 507, 622, 317, 1096, 672, 1011, 436, 646, 184, 1089, 547, 1583, 156, 801, 461, 804, 604, 1016, 981, 771, 751, 965, 593, 46, 839, 298, 944, 1147, 1769, 122, 634, 860, 193, 749, 249, 1434, 924, 1333, 1070, 107, 318, 1053, 580, 488, 455, 651, 690, 116, 621, 504, 1314, 500, 46, 958, 8, 1091, 345, 1322, 702, 297, 194, 696, 858, 1255, 312, 340, 1040, 107, 126, 172, 122, 1107, 1636, 327, 538, 982, 99, 577, 974, 67, 57, 47, 1160, 646, 244, 603, 1346, 1460, 911, 1301, 341, 176, 946, 1002, 231, 1707, 919, 1144, 1676, 560, 1098, 112, 1093, 1394, 90, 356, 32, 1082, 841, 820, 66, 766, 614, 92, 325, 1608, 568, 228, 475, 990, 369, 866, 169, 756, 110, 684, 125, 385, 635, 492, 256, 282, 103, 1241, 1, 693, 308, 1029, 275, 142, 209, 97, 890, 459, 312, 365, 951, 1593, 576, 507, 36, 788, 781, 355, 338, 1220, 778, 1779, 1319, 440, 1072, 358, 77, 1229, 3, 17, 1352, 684, 1272, 235, 802, 753, 373, 234, 1393, 676, 303, 779, 1402, 47, 743, 855, 162, 1475, 756, 138, 960, 651, 901, 1561, 8, 1143, 107, 652, 1439, 1063, 118, 521, 227, 400, 287, 1449, 1039, 169, 514, 1071, 542, 805, 1614, 1438, 1190, 201, 874, 738, 79, 425, 1420, 141, 921, 624, 526, 91, 1189, 106, 227, 122, 356, 12, 666, 60, 247, 749, 110, 639, 1125, 125, 698, 126, 155, 577, 602, 802, 1104, 556, 606, 1738, 1607, 34, 222, 801, 1425, 832, 693, 519, 738, 1103, 660, 500, 214, 496, 480, 147, 1788, 140, 601, 539, 1606, 775, 591, 96, 220, 325, 468, 101, 131, 287, 1145, 782, 1092, 865, 27, 911, 411, 181, 1490, 1188, 1311, 743, 149, 422, 720, 318, 658, 393, 348, 1011, 1251, 628, 886, 785, 780, 506, 1056, 106, 562, 528, 893, 613, 138, 952, 605, 280, 1530, 1362, 94, 85, 1172, 1723, 1182, 241, 881, 492, 743, 376, 40, 449, 502, 792, 51, 254, 685, 597, 619, 246, 1119, 1332, 45, 1494, 1065, 109, 320, 470, 982, 71, 1309, 192, 36, 268, 783, 52, 14, 740, 1535, 1191, 701, 1803, 1129, 427, 676, 762, 902, 446, 385, 172, 1275, 1039, 572, 744, 1176, 1037, 245, 256, 842, 934, 574, 20, 25, 640, 498, 432, 58, 1209, 1698, 265, 148, 643, 685, 596, 1060, 1346, 900, 304, 781, 886, 708, 780, 425, 494, 945, 596, 1681, 1249, 370, 1622, 805, 375, 141, 1412, 924, 361, 936, 725, 1000, 439, 825, 461, 229, 688, 75, 199, 802, 1144, 476, 890, 141, 267, 357, 1396, 959, 884, 968, 1082, 121, 44, 897, 202, 65, 1, 746, 1300, 77, 536, 13, 925, 852, 1271, 176, 1407, 324, 1291, 29, 1076, 395, 1649, 1039, 543, 1524, 1311, 40, 1498, 395, 300, 1037, 76, 316, 266, 430, 999, 269, 531, 769, 1553, 1051, 1080, 1080, 1061, 1182, 431, 480, 337, 629, 220, 716, 165, 71, 243, 309, 287, 1414, 160, 1255, 791, 1221, 1232, 982, 372, 118, 983, 898, 852, 658, 400, 477, 7, 555, 435, 81, 155, 425, 1209, 149, 116, 616, 701, 1081, 137, 570, 164, 639, 1017, 1360, 382, 680, 562, 525, 133, 620, 1069, 7, 552, 558, 1502, 260, 24, 1030, 589, 415, 94, 996, 279, 1161, 522, 541, 186, 67, 1338, 125, 113, 774, 725, 191, 949, 175, 646, 1473, 665, 568, 636, 347, 952, 809, 219, 86, 46, 1528, 1220, 118, 1356, 146, 1163, 60, 634, 902, 897, 1673, 23, 52, 960, 1618, 380, 1283, 1512, 6, 307, 1240, 23, 638, 811, 186, 634, 623, 1019, 727, 196, 620, 371, 816, 327, 385, 1429, 1034, 793, 211, 1777, 1803, 102, 946, 542, 76, 217, 549, 190, 593, 661, 57, 56, 754, 338, 29, 369, 786, 481, 310, 253, 462, 474, 911, 469, 1760, 894, 1162, 889, 422, 496, 201, 754, 1123, 1684, 808, 76, 858, 108, 1353, 116, 206, 445, 427, 762, 421, 875, 1477, 442, 985, 853, 483, 1171, 646, 766, 578, 561, 998, 318, 762, 791, 169, 1579, 1026, 183, 929, 342, 499, 1302, 680, 1378, 544, 56, 435, 136, 1053, 113, 307, 306, 549, 892, 113, 379, 1122, 365, 705, 233, 253, 598, 1269, 600, 65, 310, 704, 1660, 828, 362, 1438, 655, 1310, 815, 417, 1373, 617, 336, 227, 495, 929, 7, 380, 307, 211, 789, 312, 1158, 232, 197, 623, 1281, 635, 882, 567, 418, 647, 39, 488, 799, 493, 33, 1163, 1765, 623, 185, 274, 1036, 712, 414, 119, 750, 289, 155, 212, 617, 471, 592, 1071, 371, 587, 847, 202, 1356, 348, 1585, 1069, 8, 1648, 334, 557, 432, 727, 1188, 241, 1049, 416, 655, 534, 1581, 196, 1020, 218, 1455, 781, 986, 377, 1390, 431, 533, 231, 1615, 703, 725, 1086, 384, 299, 971, 333, 232, 199, 411, 662, 1044, 1078, 636, 350, 250, 573, 952, 155, 459, 119, 846, 948, 452, 417, 513, 1384, 501, 548, 622, 140, 1465, 483, 83, 866, 1040, 312, 311, 767, 95, 1056, 407, 293, 409, 627, 858, 246, 735, 538, 916, 812, 518, 517, 660, 879, 730, 696, 328, 642, 1040, 253, 972, 1078, 316, 1014, 1265, 1069, 1364, 907, 745, 909, 12, 310, 1513, 1329, 32, 12, 104, 678, 29, 43, 127, 925, 523, 1188, 963, 245, 1445, 783, 678, 49, 693, 580, 190, 1259, 260, 472, 841, 134, 1033, 711, 191, 593, 413, 476, 433, 893, 533, 482, 776, 433, 356, 384, 335, 418, 48, 249, 295, 208, 328, 783, 105, 732, 1428, 208, 335, 1696, 788, 440, 772, 348, 865, 429, 1202, 1421, 311, 790, 836, 744, 210, 620, 271, 470, 958, 522, 683, 552, 282, 1056, 632, 605, 1711, 758, 467, 977, 948, 1048, 498, 298, 364, 14, 985, 1012, 1102, 1491, 952, 102, 695, 908, 1112, 785, 486, 175, 1141, 536, 993, 616, 702, 856, 365, 119, 1004, 448, 1407, 1363, 115, 359, 954, 295, 345, 374, 496, 818, 1002, 11, 162, 835, 163, 1253, 36, 417, 233, 405, 766, 860, 599, 404, 1386, 863, 332, 53, 137, 1231, 132, 1133, 558, 236, 121, 482, 642, 1233, 135, 1210, 1124, 978, 207, 202, 1117, 85, 1499, 836, 1443, 1084, 1422, 602, 145, 706, 1037, 855, 287, 701, 152, 1035, 1146, 135, 359, 1169, 585, 1233, 99, 1118, 225, 107, 113, 748, 510, 68, 248, 665, 894, 712, 362, 97, 465, 68, 408, 571, 325, 456, 15, 420, 698, 778, 632, 318, 96, 1171, 1025, 1011, 510, 2, 660, 1041, 100, 1710, 1331, 1489, 1505, 265, 994, 203, 950, 145, 48, 33, 430, 655, 1253, 589, 96, 641, 548, 740, 57, 432, 529, 105, 998, 733, 1428, 1, 633, 1173, 417, 985, 303, 1424, 323, 463, 828, 845, 193, 1494, 885, 1441, 892, 881, 540, 915, 1081, 545, 26, 1027, 498, 709, 1378, 452, 1212, 754, 184, 355, 1007, 4, 1083, 1077, 1189, 326, 134, 950, 243, 1040, 152, 46, 1144, 323, 686, 978, 1369, 141, 73, 1189, 1592, 1191, 602, 882, 826, 100, 557, 156, 100, 133, 1801, 77, 774, 133, 1047, 74, 188, 1017, 184, 667, 1423, 382, 1315, 1051, 1290, 673, 315, 906, 454, 718, 227, 7, 1550, 409, 838, 633, 522, 1349, 437, 1081, 937, 268, 547, 769, 1050, 31, 599, 1073, 443, 769, 630, 249, 804, 475, 1561, 1158, 1197, 357, 413, 1712, 572, 869, 281, 859, 113, 673, 268, 379, 997, 833, 34, 411, 425, 305, 430, 14, 1410, 884, 60, 1590, 704, 259, 187, 230, 600, 284, 670, 174, 225, 790, 446, 78, 1218, 170, 1377, 114, 1495, 381, 353, 810, 156, 35, 1184, 549, 534, 196, 331, 742, 643, 516, 1605, 1421, 348, 1441, 499, 312, 104, 323, 117, 519, 52, 687, 74, 724, 108, 428, 88, 262, 2, 649, 773, 222, 309, 470, 334, 1231, 1465, 726, 353, 756, 85, 1103, 1078, 129, 740, 1185, 497, 1118, 1534, 173, 250, 102, 521, 825, 987, 422, 394, 653, 72, 456, 1408, 1626, 448, 521, 32, 330, 23, 908, 1417, 532, 31, 455, 1203, 787, 167, 161, 881, 1231, 188, 1318, 12, 1409, 738, 588, 212, 868, 573, 665, 710, 927, 1732, 1514, 122, 247, 1184, 829, 97, 320, 383, 95, 391, 167, 208, 1245, 155, 1046, 556, 189, 182, 394, 1376, 23, 1264, 1702, 59, 1035, 1196, 227, 485, 751, 304, 783, 621, 266, 414, 586, 364, 492, 221, 1, 991, 587, 1594, 641, 50, 1393, 136, 436, 1053, 688, 1409, 831, 107, 1015, 54, 986, 1072, 81, 400, 783, 1225, 1127, 477, 475, 1283, 499, 1144, 712, 718, 429, 446, 442, 1015, 1341, 98, 520, 419, 49, 450, 73, 118, 275, 830, 148, 1461, 559, 259, 1699, 99, 1420, 78, 638, 770, 1211, 808, 564, 558, 937, 1483, 454, 703, 161, 966, 795, 539, 1431, 625, 1305, 667, 159, 48, 642, 442, 1177, 243, 825, 767, 710, 56, 646, 300, 481, 901, 1496, 245, 566, 351, 677, 1657, 512, 208, 1761, 349, 531, 377, 871, 478, 1266, 1025, 703, 257, 533, 939, 787, 124, 355, 1016, 1418, 759, 314, 613, 1314, 1323, 54, 761, 230, 361, 1236, 389, 403, 727, 659, 1432, 1017, 1125, 391, 1334, 329, 802, 1158, 884, 685, 429, 765, 604, 1057, 602, 245, 564, 327, 834, 678, 698, 456, 781, 728, 726, 1069, 988, 832, 966, 1073, 598, 1577, 524, 186, 332, 36, 1149, 561, 1003, 30, 530, 32, 58, 524, 930, 278, 799, 766, 1111, 626, 202, 307, 1306, 717, 1312, 97, 322, 839, 884, 615, 1463, 474, 95, 668, 1184, 1096, 1324, 974, 373, 929, 1187, 1134, 73, 745, 498, 341, 958, 474, 111, 877, 958, 1617, 1012, 411, 406, 1332, 731, 485, 58, 898, 407, 745, 97, 1399, 396, 906, 960, 876, 161, 150, 224, 1482, 48, 242, 195, 618, 1484, 184, 1139, 648, 1159, 11, 809, 1194, 1050, 410, 1367, 917, 780, 1547, 91, 740, 475, 835, 373, 479, 578, 645, 892, 795, 917, 281, 1532, 1393, 1088, 212, 503, 728, 1103, 1277, 868, 755, 943, 1036, 915, 73, 84, 419, 1165, 244, 142, 1205, 919, 68, 591, 1391, 279, 1150, 761, 288, 1598, 269, 1206, 1280, 305, 426, 572, 570, 896, 212, 124, 304, 1636, 1043, 322, 230, 1036, 553, 853, 818, 736, 226, 480, 1032, 131, 916, 528, 1309, 12, 830, 367, 250, 868, 504, 265, 896, 1073, 1654, 898, 105, 167, 961, 1401, 1147, 335, 528, 98, 513, 132, 151, 889, 727, 74, 217, 851, 104, 1041, 150, 492, 1074, 466, 359, 1817, 1485, 1072, 1407, 445, 339, 94, 1139, 751, 370, 553, 1212, 447, 982, 1563, 422, 312, 1290, 381, 410, 207, 708, 833, 29, 280, 1025, 90, 1228, 692, 554, 158, 863, 629, 587, 608, 13, 1184, 1048, 853, 1, 701, 1570, 510, 1140, 13, 1326, 1051, 1543, 1630, 832, 372, 119, 557, 331, 7, 68, 446, 603, 102, 340, 312, 130, 830, 298, 1151, 267, 483, 1372, 130, 856, 657, 806, 228, 217, 1284, 879, 725, 745, 705, 939, 205, 629, 559, 243, 400, 186, 474, 1235, 56, 1517, 1741, 260, 657, 597, 1082, 478, 67, 995, 643, 55, 674, 567, 361, 826, 206, 867, 941, 1442, 388, 148, 920, 1048, 299, 764, 462, 1024, 278, 837, 1287, 632, 819, 944, 625, 304, 1434, 42, 86, 825, 530, 674, 648, 1531, 637, 58, 215, 973, 259, 1711, 705, 257, 113, 441, 808, 572, 625, 636, 153, 1518, 806, 81, 573, 998, 907, 95, 60, 762, 278, 468, 1012, 905, 451, 815, 969, 84, 539, 587, 5, 1471, 86, 293, 698, 487, 516, 459, 157, 1471, 726, 1220, 1699, 626, 20, 999, 239, 191, 998, 497, 451, 855, 896, 733, 285, 924, 872, 1209, 492, 1313, 573, 1475, 333, 36, 1199, 940, 1805, 1049, 1706, 458, 452, 1087, 1015, 1219, 39, 1499, 1517, 1104, 148, 199, 376, 1204, 541, 169, 93, 449, 492, 260, 228, 1715, 357, 23, 590, 117, 1380, 730, 118, 1349, 339, 1124, 95, 1310, 466, 898, 381, 1254, 1417, 582, 811, 793, 68, 1052, 848, 387, 795, 55, 942, 925, 41, 424, 963, 814, 1138, 734, 8, 179, 161, 397, 1200, 984, 1051, 1161, 165, 743, 802, 769, 898, 690, 1647, 904, 178, 417, 1147, 525, 441, 1301, 1493, 366, 881, 822, 437, 1118, 868, 375, 1614, 548, 29, 753, 795, 31, 219, 1805, 435, 623, 1161, 618, 132, 862, 1087, 61, 389, 502, 290, 154, 910, 383, 376, 1699, 1122, 221, 100, 354, 1086, 78, 576, 721, 614, 265, 504, 248, 1785, 736, 975, 389, 1233, 290, 1041, 284, 296, 541, 910, 1092, 100, 404, 835, 589, 1184, 61, 1093, 312, 667, 1519, 186, 193, 512, 1570, 869, 932, 435, 41, 1242, 332, 834, 983, 1215, 1099, 931, 226, 467, 66, 71, 18, 87, 194, 315, 404, 86, 1024, 217, 486, 868, 939, 466, 888, 457, 15, 617, 730, 1014, 440, 562, 651, 597, 941, 1284, 1649, 938, 45, 226, 332, 967, 190, 455, 626, 4, 95, 165, 314, 772, 582, 900, 299, 97, 159, 222, 903, 69, 574, 890, 613, 666, 1304, 531, 1120, 440, 1045, 668, 259, 1476, 489, 389, 969, 752, 203, 1326, 636, 1776, 1092, 1590, 590, 258, 1071, 433, 609, 558, 53, 315, 494, 740, 1533, 25, 1566, 104, 846, 315, 87, 259, 311, 1294, 1133, 648, 681, 4, 188, 884, 1614, 331, 1240, 929, 926, 587, 313, 735, 61, 835, 981, 942, 1058, 805, 433, 739, 1237, 439, 357, 218, 269, 471, 314, 1007, 378, 78, 1332, 463, 14, 1233, 431, 1059, 528, 271, 692, 707, 23, 197, 616, 182, 171, 94, 46, 1192, 569, 890, 1129, 862, 341, 593, 1814, 19, 306, 35, 1026, 673, 632, 1103, 457, 920, 5, 644, 410, 409, 331, 1231, 183, 525, 1271, 388, 236, 648, 313, 750, 424, 1092, 670, 428, 1277, 1025, 264, 344, 1019, 657, 757, 387, 578, 129, 543, 1194, 1579, 1533, 122, 1188, 215, 637, 1074, 16, 443, 1092, 253, 895, 16, 810, 223, 185, 1022, 731, 880, 466, 1229, 317, 27, 1337, 1676, 279, 797, 859, 1677, 240, 432, 331, 6, 266, 1167, 1529, 46, 1244, 880, 231, 516, 108, 710, 409, 515, 50, 339, 792, 1255, 765, 791, 350, 980, 762, 517, 696, 1718, 1199, 360, 806, 1552, 1164, 679, 325, 1426, 1360, 266, 951, 1624, 230, 88, 127, 393, 1152, 920, 1386, 1485, 862, 541, 943, 111, 353, 228, 1811, 874, 739, 357, 1520, 216, 1597, 758, 676, 161, 146, 1038, 629, 383, 495, 883, 1587, 1386, 226, 1355, 516, 169, 1407, 211, 1064, 785, 698, 926, 375, 337, 1159, 330, 928, 412, 60, 170, 606, 1354, 2, 246, 22, 834, 835, 630, 259, 389, 634, 463, 217, 195, 779, 3, 867, 430, 230, 131, 233, 631, 173, 268, 1154, 925, 1622, 227, 45, 425, 1200, 73, 730, 1005, 840, 1373, 37], \"yaxis\": \"y\"}, {\"marker\": {\"color\": [0, 0, 1, 1, 0, 0, 1, 1, 2, 0, 1, 2, 0, 1, 1, 2, 0, 1, 1, 1, 0, 0, 0, 0, 2, 1, 2, 1, 1, 2, 0, 0, 0, 1, 0, 1, 0, 1, 0, 1, 0, 1, 0, 1, 1, 1, 0, 2, 0, 1, 1, 1, 0, 0, 2, 2, 0, 1, 1, 1, 2, 0, 0, 0, 1, 1, 0, 0, 0, 0, 1, 1, 0, 1, 0, 0, 2, 0, 1, 0, 0, 2, 1, 2, 0, 1, 0, 0, 1, 0, 1, 0, 2, 0, 2, 2, 0, 0, 1, 0, 1, 0, 1, 1, 1, 1, 1, 0, 2, 0, 1, 2, 1, 1, 0, 0, 1, 2, 1, 1, 1, 1, 1, 0, 0, 1, 1, 2, 0, 2, 2, 2, 0, 1, 0, 1, 0, 0, 0, 1, 2, 2, 0, 2, 0, 1, 1, 0, 0, 0, 2, 1, 0, 1, 0, 1, 1, 0, 0, 2, 0, 2, 2, 2, 0, 1, 0, 1, 0, 1, 2, 0, 0, 1, 0, 2, 2, 1, 1, 0, 1, 1, 0, 0, 0, 2, 1, 2, 2, 0, 2, 0, 1, 0, 1, 0, 1, 0, 0, 0, 1, 0, 1, 1, 0, 1, 1, 0, 1, 0, 2, 0, 0, 2, 2, 0, 1, 0, 2, 0, 1, 0, 1, 0, 2, 0, 0, 1, 2, 0, 1, 0, 2, 2, 0, 2, 0, 0, 0, 1, 1, 0, 1, 0, 1, 1, 0, 2, 0, 0, 1, 0, 1, 1, 1, 1, 2, 0, 2, 1, 2, 0, 1, 0, 2, 1, 2, 1, 0, 1, 0, 0, 1, 1, 2, 1, 1, 0, 2, 0, 1, 1, 2, 1, 2, 2, 1, 1, 0, 0, 0, 0, 1, 0, 2, 1, 0, 1, 1, 2, 0, 2, 1, 2, 1, 0, 1, 0, 2, 1, 1, 0, 1, 0, 2, 1, 2, 0, 1, 0, 1, 1, 1, 1, 1, 1, 1, 1, 0, 1, 0, 1, 2, 2, 0, 1, 1, 0, 1, 0, 2, 1, 2, 2, 0, 0, 1, 1, 0, 0, 1, 1, 0, 1, 0, 2, 0, 0, 1, 0, 2, 0, 2, 1, 0, 0, 1, 1, 2, 0, 0, 1, 0, 0, 0, 0, 2, 2, 0, 1, 1, 0, 1, 1, 0, 0, 0, 2, 1, 0, 1, 2, 2, 1, 2, 0, 0, 1, 1, 0, 2, 1, 2, 2, 1, 2, 0, 2, 2, 0, 0, 0, 2, 1, 1, 0, 1, 1, 0, 0, 2, 1, 0, 0, 1, 0, 1, 0, 1, 0, 1, 0, 0, 1, 0, 0, 0, 0, 2, 0, 1, 0, 1, 0, 0, 0, 0, 1, 0, 0, 0, 1, 2, 1, 0, 0, 1, 1, 0, 0, 2, 1, 2, 2, 0, 2, 0, 0, 2, 0, 0, 2, 1, 2, 0, 1, 1, 0, 0, 2, 1, 0, 1, 2, 0, 1, 1, 0, 2, 1, 0, 1, 1, 1, 2, 0, 2, 0, 1, 2, 2, 0, 1, 0, 0, 0, 2, 1, 0, 1, 2, 1, 1, 2, 2, 2, 0, 1, 1, 0, 0, 2, 0, 1, 1, 1, 0, 2, 0, 0, 0, 0, 0, 1, 0, 0, 1, 0, 1, 2, 0, 1, 0, 0, 1, 1, 1, 2, 1, 1, 2, 2, 0, 0, 1, 2, 1, 1, 1, 1, 2, 1, 0, 0, 0, 0, 0, 2, 0, 1, 1, 2, 1, 1, 0, 0, 0, 0, 0, 0, 0, 2, 1, 2, 1, 0, 1, 0, 0, 2, 2, 2, 1, 0, 0, 1, 0, 1, 0, 0, 1, 2, 1, 1, 1, 1, 0, 2, 0, 1, 1, 1, 1, 0, 1, 1, 0, 2, 2, 0, 0, 2, 2, 2, 0, 1, 0, 1, 0, 0, 0, 0, 1, 0, 0, 1, 1, 1, 0, 2, 2, 0, 2, 2, 0, 0, 0, 1, 0, 2, 0, 0, 0, 1, 0, 0, 1, 2, 2, 1, 2, 2, 0, 1, 1, 1, 0, 0, 0, 2, 1, 1, 1, 2, 1, 0, 0, 1, 1, 1, 0, 0, 1, 0, 0, 0, 2, 2, 0, 0, 1, 1, 1, 2, 2, 1, 0, 1, 1, 1, 1, 0, 0, 1, 1, 2, 2, 0, 2, 1, 0, 0, 2, 1, 0, 1, 1, 1, 0, 1, 0, 0, 1, 0, 0, 1, 2, 0, 1, 0, 0, 0, 2, 1, 1, 1, 2, 0, 0, 1, 0, 0, 0, 1, 2, 0, 1, 0, 1, 1, 2, 0, 2, 0, 2, 0, 2, 0, 2, 1, 1, 2, 2, 0, 2, 0, 0, 1, 0, 0, 0, 0, 1, 0, 1, 1, 2, 1, 2, 2, 2, 2, 0, 0, 0, 1, 0, 1, 0, 0, 0, 0, 0, 2, 0, 2, 1, 2, 2, 1, 0, 0, 1, 1, 1, 1, 0, 0, 0, 1, 0, 0, 0, 0, 2, 0, 0, 1, 1, 2, 0, 1, 0, 1, 1, 2, 0, 1, 1, 1, 0, 1, 2, 0, 1, 1, 2, 0, 0, 1, 1, 0, 0, 1, 0, 2, 1, 1, 0, 0, 2, 0, 0, 1, 1, 0, 1, 0, 1, 2, 1, 1, 1, 0, 1, 1, 0, 0, 0, 2, 2, 0, 2, 0, 2, 0, 1, 1, 1, 2, 0, 0, 1, 2, 0, 2, 2, 0, 0, 2, 0, 1, 1, 0, 1, 1, 1, 1, 0, 1, 0, 1, 0, 0, 2, 1, 1, 0, 2, 2, 0, 1, 1, 0, 0, 1, 0, 1, 1, 0, 0, 1, 0, 0, 0, 1, 0, 0, 0, 0, 0, 1, 0, 2, 1, 2, 1, 0, 0, 0, 1, 2, 2, 1, 0, 1, 0, 2, 0, 0, 0, 0, 1, 0, 1, 2, 0, 1, 1, 0, 2, 1, 1, 1, 1, 1, 0, 1, 1, 0, 2, 1, 0, 1, 0, 0, 2, 1, 2, 1, 0, 0, 0, 1, 0, 0, 0, 1, 1, 0, 0, 2, 0, 1, 0, 0, 1, 2, 1, 0, 0, 1, 2, 1, 0, 2, 1, 2, 1, 0, 2, 1, 0, 0, 0, 1, 0, 0, 0, 0, 1, 0, 2, 0, 0, 1, 2, 1, 1, 1, 0, 1, 0, 0, 1, 0, 0, 2, 2, 1, 0, 0, 1, 1, 0, 0, 1, 0, 0, 0, 1, 0, 1, 2, 0, 1, 1, 0, 2, 0, 2, 2, 0, 2, 0, 1, 0, 1, 2, 0, 1, 0, 1, 1, 2, 0, 1, 0, 2, 1, 1, 0, 2, 0, 1, 0, 2, 1, 1, 2, 0, 0, 1, 0, 0, 0, 0, 1, 1, 2, 1, 0, 0, 1, 1, 0, 0, 0, 1, 1, 0, 0, 1, 2, 0, 1, 1, 0, 2, 0, 0, 1, 1, 0, 0, 1, 0, 2, 0, 0, 0, 1, 1, 0, 1, 1, 1, 1, 1, 1, 1, 1, 1, 1, 0, 1, 1, 0, 1, 2, 0, 1, 2, 2, 2, 1, 1, 1, 0, 0, 2, 2, 0, 0, 0, 1, 0, 0, 0, 1, 1, 2, 1, 0, 2, 1, 1, 0, 1, 1, 0, 2, 0, 0, 1, 0, 1, 1, 0, 1, 0, 0, 0, 1, 1, 0, 1, 0, 0, 0, 0, 0, 0, 0, 0, 0, 0, 1, 0, 1, 2, 0, 0, 2, 1, 0, 1, 0, 1, 0, 2, 2, 0, 1, 1, 1, 0, 1, 0, 0, 1, 1, 1, 1, 0, 2, 1, 1, 2, 1, 0, 1, 1, 1, 0, 0, 0, 0, 1, 1, 2, 2, 1, 0, 1, 1, 2, 1, 0, 0, 2, 1, 1, 1, 1, 1, 0, 0, 1, 0, 2, 2, 0, 0, 1, 0, 0, 0, 0, 1, 1, 0, 0, 1, 0, 2, 0, 0, 0, 0, 1, 1, 1, 0, 2, 1, 0, 0, 0, 2, 0, 2, 1, 0, 0, 0, 1, 2, 0, 2, 2, 1, 0, 0, 2, 0, 2, 1, 2, 2, 2, 1, 0, 1, 1, 1, 0, 1, 0, 1, 2, 0, 0, 2, 1, 2, 0, 2, 0, 0, 0, 1, 1, 0, 0, 1, 1, 1, 0, 0, 0, 0, 0, 1, 0, 0, 0, 0, 1, 1, 1, 0, 0, 2, 1, 1, 1, 0, 1, 1, 0, 2, 2, 2, 2, 0, 1, 0, 1, 0, 0, 0, 0, 1, 2, 1, 0, 1, 1, 1, 0, 0, 1, 0, 1, 1, 2, 0, 1, 2, 0, 1, 0, 2, 0, 0, 1, 1, 0, 2, 1, 2, 1, 1, 1, 1, 2, 1, 0, 1, 0, 1, 2, 0, 2, 1, 0, 0, 1, 0, 2, 2, 2, 0, 0, 1, 0, 1, 0, 0, 2, 0, 1, 1, 2, 0, 0, 2, 2, 2, 1, 1, 1, 0, 1, 0, 0, 0, 2, 0, 1, 0, 1, 0, 0, 1, 0, 1, 2, 0, 2, 1, 2, 1, 0, 1, 0, 1, 0, 0, 2, 0, 1, 1, 1, 2, 0, 2, 1, 0, 1, 1, 1, 0, 1, 2, 0, 1, 1, 0, 1, 0, 2, 2, 2, 0, 0, 2, 1, 1, 0, 1, 0, 1, 0, 0, 1, 1, 0, 0, 0, 0, 0, 0, 2, 1, 0, 2, 1, 0, 0, 0, 1, 0, 1, 0, 0, 1, 0, 0, 2, 0, 2, 0, 2, 0, 0, 1, 0, 0, 2, 1, 1, 0, 0, 1, 1, 1, 2, 2, 0, 2, 0, 0, 0, 0, 0, 1, 0, 1, 0, 1, 0, 0, 0, 0, 0, 1, 1, 0, 0, 0, 0, 2, 2, 1, 0, 1, 0, 2, 2, 0, 1, 2, 0, 2, 2, 0, 0, 0, 1, 1, 1, 0, 0, 1, 0, 0, 2, 2, 0, 1, 0, 0, 0, 1, 2, 1, 0, 0, 2, 1, 0, 0, 1, 2, 0, 2, 0, 2, 1, 1, 0, 1, 1, 1, 1, 1, 2, 2, 0, 0, 2, 1, 0, 0, 0, 0, 0, 0, 0, 2, 0, 1, 1, 0, 0, 0, 2, 0, 2, 2, 0, 1, 2, 0, 0, 1, 0, 1, 1, 0, 0, 1, 0, 0, 0, 0, 1, 1, 2, 1, 0, 2, 0, 0, 1, 1, 2, 1, 0, 1, 0, 1, 2, 0, 0, 1, 2, 2, 0, 0, 2, 0, 2, 1, 1, 0, 0, 0, 1, 2, 0, 1, 0, 0, 0, 0, 0, 0, 1, 0, 2, 1, 0, 2, 0, 2, 0, 1, 1, 2, 1, 1, 1, 1, 2, 0, 1, 0, 1, 1, 1, 2, 1, 2, 1, 0, 0, 1, 0, 2, 0, 1, 1, 1, 0, 1, 0, 0, 1, 2, 0, 1, 0, 1, 2, 1, 0, 2, 0, 1, 0, 1, 0, 2, 1, 1, 0, 1, 1, 1, 0, 0, 1, 2, 1, 0, 1, 2, 2, 0, 1, 0, 0, 2, 0, 0, 1, 1, 2, 1, 2, 0, 2, 0, 1, 2, 1, 1, 0, 1, 1, 2, 1, 0, 1, 0, 1, 1, 1, 0, 1, 1, 1, 2, 1, 1, 1, 2, 1, 2, 1, 0, 0, 0, 2, 1, 1, 0, 1, 0, 0, 1, 1, 0, 1, 1, 2, 1, 0, 0, 2, 1, 2, 0, 0, 1, 1, 1, 2, 0, 0, 1, 2, 2, 2, 1, 0, 1, 2, 2, 0, 1, 0, 0, 1, 0, 0, 1, 1, 2, 1, 0, 0, 2, 1, 0, 0, 1, 0, 1, 0, 2, 0, 1, 1, 1, 0, 0, 0, 2, 0, 0, 0, 1, 2, 0, 2, 1, 2, 0, 1, 2, 1, 0, 2, 1, 1, 2, 0, 1, 0, 1, 0, 0, 1, 1, 1, 1, 1, 0, 2, 2, 2, 0, 0, 1, 2, 2, 1, 1, 1, 1, 1, 0, 0, 0, 2, 0, 0, 2, 1, 0, 1, 2, 0, 2, 1, 0, 2, 0, 2, 2, 0, 0, 1, 1, 1, 0, 0, 0, 2, 1, 0, 0, 1, 1, 1, 1, 1, 0, 0, 1, 0, 1, 1, 2, 0, 1, 0, 0, 1, 0, 0, 1, 2, 2, 1, 0, 0, 1, 2, 2, 0, 1, 0, 1, 0, 0, 1, 1, 0, 0, 1, 0, 1, 0, 0, 2, 0, 0, 2, 2, 2, 2, 0, 0, 0, 2, 1, 0, 1, 2, 0, 1, 2, 0, 0, 2, 0, 0, 0, 1, 1, 0, 0, 1, 0, 2, 1, 1, 0, 1, 1, 1, 1, 0, 2, 1, 1, 0, 1, 2, 1, 2, 0, 2, 1, 2, 2, 1, 0, 0, 1, 0, 0, 0, 0, 1, 0, 0, 0, 0, 1, 0, 2, 0, 0, 2, 0, 1, 1, 1, 0, 0, 2, 1, 1, 1, 1, 1, 0, 1, 1, 0, 0, 0, 0, 2, 0, 2, 2, 0, 1, 1, 2, 0, 0, 1, 1, 0, 1, 1, 0, 1, 0, 1, 1, 2, 0, 0, 1, 1, 0, 1, 0, 1, 0, 1, 2, 1, 1, 1, 1, 0, 2, 0, 0, 1, 1, 1, 1, 2, 1, 0, 0, 1, 0, 2, 1, 0, 0, 0, 1, 1, 1, 1, 0, 2, 1, 0, 1, 1, 1, 0, 0, 1, 0, 0, 1, 1, 0, 1, 1, 0, 1, 1, 0, 2, 0, 0, 1, 0, 1, 0, 0, 2, 1, 2, 2, 1, 0, 1, 0, 0, 1, 0, 0, 1, 1, 1, 0, 1, 1, 2, 0, 2, 1, 2, 0, 0, 2, 1, 2, 1, 2, 0, 0, 2, 1, 2, 0, 2, 2, 2, 0, 0, 0, 2, 1, 0, 0, 0, 0, 0, 0, 2, 0, 0, 1, 0, 2, 1, 0, 2, 0, 2, 0, 2, 0, 1, 0, 2, 2, 1, 1, 1, 0, 1, 1, 0, 1, 0, 1, 1, 0, 0, 1, 1, 2, 1, 0, 0, 0, 0, 2, 1, 1, 2, 0, 1, 1, 1, 1, 1, 2, 1, 0, 0, 2, 1, 0, 2, 2, 0, 1, 1, 0, 2, 1, 0, 2, 1, 0, 1, 1, 0, 0, 2, 0, 1, 2, 1, 0, 1, 2, 0, 0, 0, 0, 0, 1, 0, 0, 2, 2, 0, 0, 0, 2, 0, 1, 1, 1, 0, 0, 0, 2, 1, 1, 0, 2, 0, 1, 0, 0, 1, 1, 2, 0, 0, 1, 1, 2, 0, 2, 0, 1, 2, 0, 0, 1, 2, 1, 1, 0, 0, 2, 0, 1, 1, 2, 2, 1, 0, 0, 0, 0, 0, 0, 0, 0, 0, 0, 1, 0, 0, 1, 1, 0, 1, 0, 0, 1, 1, 1, 0, 1, 1, 1, 1, 2, 2, 1, 0, 0, 0, 1, 0, 0, 1, 0, 0, 0, 0, 1, 1, 1, 0, 0, 0, 0, 1, 0, 1, 1, 1, 1, 2, 1, 2, 0, 1, 1, 0, 2, 0, 0, 1, 1, 0, 2, 1, 2, 2, 2, 1, 0, 2, 0, 1, 1, 0, 0, 0, 1, 2, 0, 2, 0, 1, 0, 0, 0, 0, 2, 2, 1, 1, 0, 0, 1, 2, 0, 2, 1, 1, 1, 0, 1, 0, 1, 1, 1, 2, 1, 0, 1, 2, 0, 0, 0, 0, 0, 0, 1, 0, 0, 2, 0, 0, 2, 0, 2, 1, 0, 1, 1, 0, 0, 1, 0, 0, 0, 0, 2, 1, 1, 2, 1, 0, 1, 2, 0, 0, 0, 1, 1, 1, 2, 0, 1, 0, 1, 0, 0, 0, 2, 0, 1, 2, 0, 0, 1, 0, 1, 0, 2, 1, 0, 2, 1, 0, 0, 1, 1, 1, 0, 1, 0, 1, 2, 2, 2, 0, 2, 0, 1, 2, 0, 0, 2, 0, 1, 0, 1, 0, 0, 1, 1, 1, 0, 2, 0, 0, 2, 2, 0, 1, 1, 2, 0, 0, 0, 0, 0, 2, 2, 0, 2, 1, 0, 1, 0, 1, 0, 1, 0, 0, 1, 2, 1, 1, 0, 1, 1, 1, 1, 2, 2, 0, 1, 2, 2, 1, 0, 2, 2, 0, 1, 2, 0, 0, 0, 0, 2, 1, 2, 2, 1, 1, 1, 0, 0, 0, 2, 1, 1, 0, 2, 0, 2, 1, 1, 0, 0, 1, 1, 0, 0, 1, 2, 2, 0, 2, 1, 0, 2, 0, 2, 1, 1, 1, 0, 0, 2, 0, 1, 0, 0, 0, 1, 2, 0, 0, 0, 1, 1, 1, 0, 0, 1, 0, 0, 0, 1, 0, 1, 0, 0, 0, 0, 1, 0, 0, 2, 1, 2, 0, 0, 0, 2, 0, 1, 1, 1, 2, 0]}, \"mode\": \"markers\", \"type\": \"scatter\", \"x\": [2, 2, 0, 0, 3, 0, 0, 2, 0, 5, 0, 6, 2, 7, 0, 3, 9, 4, 2, 5, 3, 0, 2, 0, 4, 4, 9, 5, 2, 12, 0, 4, 1, 2, 5, 3, 4, 6, 1, 0, 0, 0, 0, 4, 5, 0, 4, 5, 2, 3, 0, 0, 0, 0, 0, 3, 2, 5, 2, 0, 2, 3, 0, 4, 0, 0, 2, 3, 4, 5, 3, 4, 5, 5, 3, 0, 2, 3, 3, 2, 4, 7, 0, 1, 2, 7, 0, 3, 1, 0, 6, 3, 0, 3, 3, 3, 2, 2, 12, 0, 1, 3, 1, 0, 3, 3, 4, 5, 5, 0, 0, 3, 3, 3, 0, 3, 1, 2, 6, 6, 2, 0, 4, 1, 5, 3, 3, 7, 3, 0, 3, 3, 0, 0, 0, 3, 0, 1, 3, 6, 5, 5, 1, 0, 0, 2, 3, 10, 2, 6, 1, 3, 2, 3, 3, 2, 0, 4, 5, 1, 0, 0, 5, 2, 1, 1, 1, 12, 0, 0, 6, 1, 4, 5, 2, 5, 5, 3, 2, 3, 5, 4, 0, 2, 1, 4, 0, 7, 12, 5, 4, 0, 0, 1, 3, 2, 0, 4, 3, 4, 4, 0, 7, 4, 3, 5, 0, 0, 1, 3, 0, 2, 2, 3, 1, 0, 2, 4, 2, 6, 0, 4, 3, 2, 8, 2, 4, 3, 0, 2, 0, 0, 0, 4, 1, 0, 1, 0, 4, 0, 0, 0, 5, 0, 1, 0, 6, 5, 1, 3, 3, 3, 5, 2, 4, 10, 0, 0, 0, 0, 3, 3, 4, 0, 0, 7, 3, 1, 2, 0, 0, 0, 0, 5, 4, 6, 6, 1, 3, 1, 11, 1, 1, 3, 3, 7, 1, 2, 0, 3, 3, 5, 0, 3, 0, 0, 1, 5, 4, 0, 3, 0, 0, 0, 0, 0, 5, 0, 2, 6, 6, 3, 1, 1, 5, 0, 0, 2, 0, 0, 5, 2, 8, 5, 0, 6, 1, 0, 1, 0, 3, 3, 2, 0, 3, 0, 4, 1, 4, 5, 1, 2, 10, 3, 2, 4, 11, 0, 0, 4, 4, 15, 0, 2, 4, 2, 4, 1, 1, 4, 0, 0, 1, 0, 5, 0, 1, 0, 2, 0, 4, 6, 1, 0, 0, 0, 4, 0, 2, 1, 4, 0, 2, 1, 0, 1, 2, 5, 0, 3, 2, 2, 0, 3, 0, 4, 3, 1, 3, 0, 1, 0, 3, 2, 3, 2, 0, 0, 8, 4, 0, 0, 0, 3, 3, 2, 2, 1, 5, 3, 5, 2, 1, 0, 2, 5, 8, 5, 3, 1, 4, 4, 0, 8, 4, 0, 5, 0, 9, 2, 0, 0, 3, 2, 5, 0, 0, 4, 4, 5, 0, 0, 0, 2, 0, 1, 0, 1, 3, 0, 0, 1, 0, 4, 1, 5, 1, 2, 5, 2, 2, 5, 0, 4, 4, 3, 2, 1, 2, 3, 2, 3, 1, 4, 4, 1, 8, 5, 4, 1, 5, 5, 0, 1, 1, 1, 0, 2, 0, 3, 0, 0, 0, 5, 1, 5, 2, 6, 4, 6, 1, 0, 1, 4, 1, 2, 3, 0, 0, 3, 1, 8, 0, 4, 1, 6, 0, 0, 2, 5, 1, 3, 7, 4, 1, 5, 4, 0, 0, 1, 2, 2, 0, 7, 0, 0, 1, 7, 0, 3, 2, 3, 1, 1, 6, 3, 0, 6, 2, 0, 0, 0, 0, 4, 0, 6, 2, 8, 2, 0, 0, 0, 5, 3, 1, 3, 4, 4, 0, 2, 3, 7, 5, 4, 0, 3, 2, 4, 0, 0, 6, 4, 0, 0, 4, 1, 4, 0, 0, 2, 2, 4, 0, 4, 0, 1, 0, 0, 2, 4, 0, 0, 1, 1, 3, 4, 0, 0, 0, 5, 4, 10, 0, 9, 3, 0, 6, 2, 1, 0, 2, 6, 1, 2, 4, 1, 1, 0, 1, 2, 3, 2, 2, 5, 2, 4, 4, 0, 4, 1, 0, 3, 2, 3, 0, 1, 5, 3, 0, 0, 1, 13, 0, 1, 2, 8, 0, 4, 0, 3, 0, 0, 0, 6, 0, 2, 3, 0, 3, 4, 3, 3, 1, 3, 12, 1, 1, 5, 1, 0, 1, 0, 1, 2, 3, 3, 1, 4, 1, 1, 3, 2, 4, 0, 2, 10, 6, 0, 3, 1, 0, 0, 3, 2, 0, 0, 0, 4, 5, 1, 1, 2, 2, 3, 5, 0, 1, 6, 0, 4, 3, 0, 0, 3, 5, 1, 7, 3, 3, 0, 4, 0, 2, 0, 1, 0, 2, 0, 6, 3, 2, 3, 5, 2, 16, 1, 6, 4, 3, 0, 1, 18, 2, 2, 3, 0, 0, 1, 1, 0, 2, 0, 5, 1, 0, 3, 1, 1, 6, 2, 0, 5, 2, 4, 1, 0, 1, 2, 4, 4, 5, 2, 5, 6, 0, 0, 0, 0, 5, 1, 2, 1, 2, 3, 3, 4, 2, 0, 1, 2, 2, 4, 0, 4, 4, 3, 0, 0, 4, 3, 2, 3, 0, 2, 0, 10, 1, 4, 3, 0, 5, 3, 3, 2, 3, 0, 10, 2, 3, 1, 2, 2, 2, 0, 0, 8, 0, 2, 3, 3, 9, 1, 4, 5, 2, 0, 3, 2, 1, 13, 1, 1, 3, 0, 0, 1, 0, 0, 0, 8, 0, 1, 7, 0, 0, 3, 3, 0, 3, 5, 2, 1, 0, 4, 1, 6, 6, 3, 0, 5, 3, 4, 2, 2, 0, 0, 4, 5, 3, 5, 0, 0, 2, 7, 0, 5, 4, 2, 0, 1, 0, 3, 0, 0, 3, 0, 2, 1, 2, 3, 4, 4, 0, 1, 3, 7, 0, 3, 1, 5, 0, 3, 5, 5, 0, 0, 2, 3, 2, 3, 2, 4, 0, 1, 2, 1, 0, 2, 1, 2, 2, 0, 1, 3, 1, 6, 1, 0, 0, 2, 1, 0, 2, 2, 1, 0, 0, 4, 5, 0, 10, 3, 1, 1, 1, 1, 1, 0, 7, 0, 3, 1, 3, 2, 0, 0, 0, 1, 0, 4, 2, 0, 2, 0, 2, 1, 4, 0, 0, 4, 1, 0, 6, 5, 0, 0, 0, 2, 0, 0, 0, 0, 0, 2, 2, 1, 0, 0, 2, 0, 3, 2, 1, 0, 2, 0, 1, 7, 0, 3, 0, 2, 0, 1, 1, 0, 0, 8, 4, 1, 3, 1, 1, 2, 0, 2, 0, 0, 1, 0, 2, 3, 1, 0, 0, 0, 5, 3, 0, 2, 7, 0, 3, 0, 1, 2, 1, 0, 8, 1, 0, 0, 0, 3, 2, 2, 7, 0, 4, 0, 0, 1, 0, 3, 3, 2, 0, 0, 2, 5, 0, 2, 0, 2, 3, 0, 4, 6, 8, 3, 2, 2, 0, 4, 0, 5, 3, 1, 7, 4, 0, 1, 2, 0, 5, 2, 0, 1, 0, 5, 0, 0, 3, 3, 2, 2, 0, 6, 0, 0, 0, 0, 6, 2, 2, 0, 4, 2, 4, 0, 1, 0, 4, 10, 4, 6, 3, 6, 0, 0, 0, 0, 0, 6, 7, 3, 3, 1, 0, 3, 0, 5, 2, 2, 0, 2, 2, 5, 3, 6, 5, 3, 4, 0, 3, 0, 4, 1, 2, 5, 2, 2, 1, 1, 2, 0, 0, 1, 2, 2, 0, 4, 2, 1, 1, 0, 9, 4, 3, 0, 2, 4, 0, 0, 0, 8, 2, 4, 0, 3, 1, 6, 0, 0, 0, 0, 4, 3, 5, 2, 0, 0, 1, 4, 5, 2, 2, 0, 3, 2, 2, 3, 1, 0, 2, 3, 5, 0, 0, 1, 0, 0, 4, 11, 0, 0, 9, 0, 0, 2, 0, 2, 19, 0, 4, 11, 2, 1, 1, 4, 2, 6, 2, 2, 2, 0, 0, 3, 0, 2, 0, 0, 3, 2, 4, 0, 0, 3, 3, 3, 1, 2, 0, 0, 2, 5, 2, 2, 0, 2, 0, 7, 2, 0, 0, 2, 2, 2, 4, 0, 3, 10, 0, 3, 3, 0, 7, 9, 3, 3, 1, 1, 5, 0, 0, 0, 0, 0, 4, 11, 5, 0, 3, 2, 5, 1, 2, 3, 1, 5, 3, 0, 0, 0, 0, 2, 2, 4, 1, 0, 0, 3, 4, 0, 2, 3, 0, 7, 0, 1, 5, 2, 1, 1, 4, 4, 6, 0, 6, 0, 3, 5, 2, 10, 2, 4, 3, 1, 0, 1, 2, 4, 4, 0, 0, 0, 0, 0, 3, 2, 3, 2, 3, 1, 4, 1, 2, 3, 2, 3, 3, 0, 4, 1, 5, 2, 4, 0, 0, 0, 3, 0, 1, 0, 4, 3, 10, 4, 4, 1, 0, 0, 5, 5, 0, 0, 3, 2, 3, 3, 5, 5, 5, 4, 11, 2, 3, 0, 3, 4, 2, 0, 3, 0, 2, 7, 1, 11, 0, 1, 4, 1, 3, 5, 2, 0, 0, 0, 3, 0, 0, 4, 0, 0, 2, 1, 2, 1, 0, 1, 4, 5, 3, 0, 0, 5, 3, 0, 5, 3, 2, 3, 4, 0, 2, 7, 0, 0, 0, 0, 0, 4, 1, 0, 0, 2, 3, 0, 2, 3, 3, 2, 3, 2, 1, 0, 4, 1, 0, 3, 0, 2, 4, 3, 1, 3, 0, 7, 3, 3, 2, 0, 3, 3, 0, 6, 4, 1, 1, 0, 1, 4, 4, 1, 0, 1, 3, 3, 0, 2, 1, 3, 0, 1, 0, 0, 2, 0, 0, 4, 13, 2, 3, 7, 9, 3, 3, 0, 0, 2, 3, 0, 1, 0, 5, 4, 1, 0, 0, 0, 4, 0, 2, 3, 3, 0, 3, 0, 0, 3, 5, 0, 2, 13, 2, 3, 1, 1, 5, 0, 0, 5, 0, 0, 4, 0, 5, 3, 0, 3, 5, 3, 1, 3, 0, 0, 3, 0, 4, 0, 4, 4, 5, 2, 1, 2, 4, 0, 2, 6, 3, 0, 0, 1, 0, 1, 0, 0, 5, 1, 6, 0, 2, 0, 0, 5, 4, 5, 2, 4, 0, 3, 4, 0, 7, 3, 0, 2, 10, 0, 1, 1, 14, 0, 0, 3, 2, 4, 0, 2, 2, 7, 1, 8, 1, 1, 3, 0, 0, 2, 4, 10, 1, 5, 0, 0, 1, 1, 3, 0, 8, 1, 3, 3, 0, 1, 0, 1, 1, 4, 1, 4, 1, 5, 5, 4, 3, 6, 13, 3, 2, 7, 5, 0, 2, 2, 0, 0, 4, 0, 0, 0, 1, 2, 0, 6, 0, 2, 0, 0, 2, 4, 4, 2, 3, 1, 3, 0, 0, 5, 2, 11, 3, 0, 0, 13, 2, 1, 0, 1, 7, 3, 0, 0, 6, 8, 0, 4, 0, 2, 3, 0, 3, 7, 5, 3, 1, 3, 3, 0, 2, 3, 3, 3, 9, 4, 0, 3, 2, 5, 7, 0, 0, 0, 2, 0, 0, 0, 4, 3, 2, 3, 0, 0, 0, 4, 2, 0, 0, 0, 0, 4, 1, 1, 0, 2, 4, 3, 1, 0, 2, 0, 0, 2, 0, 6, 4, 0, 5, 5, 5, 4, 4, 4, 0, 2, 4, 2, 11, 4, 3, 1, 0, 10, 2, 0, 3, 0, 1, 1, 1, 0, 0, 0, 1, 5, 1, 0, 5, 0, 3, 8, 2, 0, 4, 0, 0, 0, 0, 3, 1, 2, 0, 1, 0, 2, 3, 9, 1, 2, 4, 3, 1, 5, 3, 0, 2, 0, 3, 1, 0, 2, 1, 0, 3, 0, 4, 0, 1, 5, 0, 5, 0, 2, 7, 0, 4, 0, 1, 3, 2, 8, 4, 3, 0, 4, 2, 0, 3, 5, 4, 6, 0, 4, 1, 0, 4, 0, 0, 0, 0, 2, 9, 0, 4, 3, 0, 3, 0, 0, 7, 3, 2, 0, 6, 9, 2, 4, 2, 4, 2, 0, 0, 3, 4, 4, 9, 3, 0, 2, 2, 0, 0, 0, 5, 5, 2, 0, 0, 0, 1, 0, 0, 0, 0, 0, 0, 2, 0, 0, 0, 0, 5, 2, 4, 5, 4, 0, 0, 0, 2, 0, 4, 0, 2, 0, 4, 0, 2, 5, 2, 4, 5, 0, 2, 0, 0, 0, 0, 0, 6, 0, 1, 3, 0, 6, 4, 10, 0, 2, 0, 2, 0, 0, 3, 6, 0, 0, 1, 3, 3, 2, 10, 5, 0, 2, 4, 7, 0, 1, 1, 5, 0, 0, 0, 1, 0, 0, 0, 0, 2, 3, 4, 2, 4, 3, 1, 1, 0, 9, 0, 1, 1, 3, 0, 1, 4, 4, 11, 0, 3, 3, 5, 5, 4, 3, 0, 0, 2, 3, 0, 4, 0, 3, 0, 5, 0, 2, 0, 1, 4, 0, 0, 0, 3, 0, 1, 8, 14, 4, 0, 1, 0, 0, 4, 0, 1, 0, 4, 0, 1, 3, 4, 0, 1, 0, 2, 3, 0, 1, 0, 0, 4, 0, 1, 0, 1, 7, 0, 5, 0, 3, 4, 0, 3, 1, 4, 1, 2, 2, 0, 3, 3, 5, 1, 1, 0, 0, 0, 4, 4, 1, 2, 0, 0, 2, 0, 0, 3, 2, 0, 3, 0, 1, 0, 4, 0, 0, 3, 4, 1, 3, 0, 7, 0, 1, 2, 1, 0, 7, 2, 2, 0, 3, 2, 1, 3, 2, 3, 4, 2, 0, 0, 0, 0, 1, 8, 0, 3, 4, 4, 2, 2, 1, 8, 1, 4, 2, 4, 4, 2, 2, 4, 0, 1, 2, 0, 0, 1, 0, 0, 2, 3, 3, 3, 0, 5, 4, 1, 4, 0, 3, 0, 1, 1, 0, 5, 4, 0, 1, 0, 2, 3, 3, 1, 1, 4, 0, 4, 5, 0, 0, 6, 0, 5, 3, 0, 0, 2, 4, 5, 1, 4, 0, 8, 9, 0, 3, 2, 0, 3, 0, 4, 2, 7, 0, 3, 12, 4, 4, 1, 0, 8, 0, 2, 1, 4, 0, 0, 9, 1, 1, 0, 10, 5, 1, 3, 0, 0, 3, 4, 3, 0, 1, 1, 3, 1, 5, 6, 4, 0, 4, 3, 2, 1, 3, 0, 5, 9, 0, 1, 2, 4, 1, 0, 0, 4, 3, 3, 0, 4, 3, 5, 5, 6, 3, 0, 0, 3, 0, 4, 0, 0, 0, 7, 1, 9, 1, 2, 3, 5, 4, 3, 0, 0, 0, 5, 3, 0, 0, 0, 2, 4, 0, 0, 0, 5, 0, 0, 2, 5, 3, 1, 2, 0, 5, 1, 4, 21, 3, 4, 0, 0, 0, 2, 3, 4, 0, 8, 3, 3, 3, 8, 1, 2, 2, 0, 6, 4, 6, 0, 0, 0, 2, 4, 4, 8, 3, 1, 4, 2, 1, 7, 1, 0, 1, 2, 2, 4, 2, 3, 1, 0, 4, 5, 0, 0, 3, 4, 0, 0, 4, 3, 4, 5, 4, 0, 0, 1, 0, 0, 6, 0, 1, 0, 2, 4, 3, 11, 5, 0, 4, 2, 1, 3, 1, 0, 3, 4, 0, 3, 6, 0, 3, 3, 3, 4, 3, 0, 10, 0, 4, 0, 1, 2, 2, 0, 4, 0, 7, 0, 4, 0, 5, 14, 1, 7, 0, 3, 2, 0, 0, 0, 4, 2, 2, 0, 10, 3, 1, 1, 0, 2, 0, 5, 2, 14, 2, 3, 2, 2, 1, 1, 0, 1, 0, 0, 1, 1, 4, 1, 7, 0, 0, 1, 8, 0, 3, 1, 0, 2, 4, 2, 0, 0, 0, 2, 0, 0, 4, 5, 1, 0, 1, 6, 0, 3, 0, 0, 6, 3, 3, 3, 1, 3, 1, 6, 0, 0, 3, 8, 2, 3, 0, 0, 1, 3, 3, 2, 5, 0, 3, 3, 2, 2, 1, 3, 0, 0, 4, 0, 1, 3, 1, 0, 1, 0, 0, 1, 0, 3, 8, 3, 3, 0, 5, 3, 3, 0, 1, 4, 0, 2, 5, 6, 3, 2, 4, 2, 0, 4, 5, 2, 0, 4, 0, 0, 0, 2, 0, 0, 3, 2, 2, 2, 4, 5, 8, 0, 1, 0, 6, 0, 4, 2, 0, 3, 5, 0, 2, 3, 3, 2, 0, 2, 0, 2, 2, 4, 1, 0, 4, 1, 0, 1, 0, 4, 3, 3, 0, 0, 2, 1, 3, 3, 0, 2, 1, 4, 3, 5, 7, 3, 0, 0, 2, 3, 3, 5, 0, 1, 5, 6, 3, 4, 0, 0, 0, 2, 3, 0, 2, 0, 3, 3, 2, 0, 0, 0, 5, 0, 1, 4, 0, 2, 9, 4, 2, 0, 1, 0, 6, 0, 0, 10, 1, 1, 4, 5, 0, 0, 1, 1, 4, 0, 1, 2, 0, 7, 9, 2, 0, 0, 1, 3, 2, 5, 2, 0, 0, 0, 2, 0, 5, 0, 3, 3, 0, 0, 1, 0, 0, 6, 1, 5, 9, 4, 0, 3], \"xaxis\": \"x2\", \"y\": [337, 190, 657, 767, 502, 276, 722, 575, 1516, 167, 998, 1375, 6, 897, 686, 1221, 268, 668, 779, 656, 220, 96, 266, 15, 1128, 717, 1419, 624, 819, 1320, 172, 323, 3, 752, 467, 859, 452, 647, 439, 982, 111, 665, 276, 534, 808, 852, 136, 1280, 470, 647, 888, 955, 14, 234, 1143, 1156, 391, 888, 804, 612, 1429, 229, 18, 347, 738, 593, 72, 251, 2, 431, 626, 932, 465, 987, 436, 335, 1148, 54, 600, 364, 33, 1668, 1027, 1123, 433, 1052, 420, 225, 734, 55, 751, 134, 1405, 468, 1235, 1723, 165, 407, 872, 42, 831, 237, 756, 711, 546, 587, 851, 123, 1396, 54, 878, 1694, 924, 749, 396, 374, 510, 1502, 1024, 863, 711, 557, 728, 312, 370, 844, 560, 1414, 168, 1170, 1714, 1504, 446, 576, 129, 745, 506, 103, 461, 862, 1748, 1093, 360, 1151, 218, 847, 554, 262, 261, 133, 1635, 939, 259, 599, 420, 785, 961, 9, 485, 1511, 20, 1391, 1278, 1103, 297, 978, 345, 1037, 206, 988, 1296, 469, 35, 583, 207, 1631, 1292, 823, 901, 167, 889, 631, 496, 502, 147, 1505, 570, 1392, 1255, 342, 1435, 255, 736, 230, 535, 328, 719, 64, 78, 312, 750, 67, 738, 748, 260, 542, 1020, 72, 648, 54, 1158, 182, 330, 1061, 1703, 329, 628, 231, 1223, 237, 518, 367, 892, 107, 1481, 285, 299, 962, 1185, 280, 742, 436, 1486, 1102, 328, 1099, 234, 237, 269, 888, 868, 299, 1049, 289, 585, 591, 482, 1413, 131, 131, 620, 452, 629, 712, 572, 535, 1080, 179, 1255, 519, 1550, 87, 708, 314, 1289, 850, 1064, 581, 412, 637, 46, 482, 998, 679, 1082, 540, 767, 140, 1286, 407, 923, 962, 1494, 513, 1383, 1390, 699, 920, 150, 460, 155, 139, 917, 395, 1271, 782, 103, 597, 557, 1239, 397, 1757, 678, 1779, 904, 507, 622, 317, 1096, 672, 1011, 436, 646, 184, 1089, 547, 1583, 156, 801, 461, 804, 604, 1016, 981, 771, 751, 965, 593, 46, 839, 298, 944, 1147, 1769, 122, 634, 860, 193, 749, 249, 1434, 924, 1333, 1070, 107, 318, 1053, 580, 488, 455, 651, 690, 116, 621, 504, 1314, 500, 46, 958, 8, 1091, 345, 1322, 702, 297, 194, 696, 858, 1255, 312, 340, 1040, 107, 126, 172, 122, 1107, 1636, 327, 538, 982, 99, 577, 974, 67, 57, 47, 1160, 646, 244, 603, 1346, 1460, 911, 1301, 341, 176, 946, 1002, 231, 1707, 919, 1144, 1676, 560, 1098, 112, 1093, 1394, 90, 356, 32, 1082, 841, 820, 66, 766, 614, 92, 325, 1608, 568, 228, 475, 990, 369, 866, 169, 756, 110, 684, 125, 385, 635, 492, 256, 282, 103, 1241, 1, 693, 308, 1029, 275, 142, 209, 97, 890, 459, 312, 365, 951, 1593, 576, 507, 36, 788, 781, 355, 338, 1220, 778, 1779, 1319, 440, 1072, 358, 77, 1229, 3, 17, 1352, 684, 1272, 235, 802, 753, 373, 234, 1393, 676, 303, 779, 1402, 47, 743, 855, 162, 1475, 756, 138, 960, 651, 901, 1561, 8, 1143, 107, 652, 1439, 1063, 118, 521, 227, 400, 287, 1449, 1039, 169, 514, 1071, 542, 805, 1614, 1438, 1190, 201, 874, 738, 79, 425, 1420, 141, 921, 624, 526, 91, 1189, 106, 227, 122, 356, 12, 666, 60, 247, 749, 110, 639, 1125, 125, 698, 126, 155, 577, 602, 802, 1104, 556, 606, 1738, 1607, 34, 222, 801, 1425, 832, 693, 519, 738, 1103, 660, 500, 214, 496, 480, 147, 1788, 140, 601, 539, 1606, 775, 591, 96, 220, 325, 468, 101, 131, 287, 1145, 782, 1092, 865, 27, 911, 411, 181, 1490, 1188, 1311, 743, 149, 422, 720, 318, 658, 393, 348, 1011, 1251, 628, 886, 785, 780, 506, 1056, 106, 562, 528, 893, 613, 138, 952, 605, 280, 1530, 1362, 94, 85, 1172, 1723, 1182, 241, 881, 492, 743, 376, 40, 449, 502, 792, 51, 254, 685, 597, 619, 246, 1119, 1332, 45, 1494, 1065, 109, 320, 470, 982, 71, 1309, 192, 36, 268, 783, 52, 14, 740, 1535, 1191, 701, 1803, 1129, 427, 676, 762, 902, 446, 385, 172, 1275, 1039, 572, 744, 1176, 1037, 245, 256, 842, 934, 574, 20, 25, 640, 498, 432, 58, 1209, 1698, 265, 148, 643, 685, 596, 1060, 1346, 900, 304, 781, 886, 708, 780, 425, 494, 945, 596, 1681, 1249, 370, 1622, 805, 375, 141, 1412, 924, 361, 936, 725, 1000, 439, 825, 461, 229, 688, 75, 199, 802, 1144, 476, 890, 141, 267, 357, 1396, 959, 884, 968, 1082, 121, 44, 897, 202, 65, 1, 746, 1300, 77, 536, 13, 925, 852, 1271, 176, 1407, 324, 1291, 29, 1076, 395, 1649, 1039, 543, 1524, 1311, 40, 1498, 395, 300, 1037, 76, 316, 266, 430, 999, 269, 531, 769, 1553, 1051, 1080, 1080, 1061, 1182, 431, 480, 337, 629, 220, 716, 165, 71, 243, 309, 287, 1414, 160, 1255, 791, 1221, 1232, 982, 372, 118, 983, 898, 852, 658, 400, 477, 7, 555, 435, 81, 155, 425, 1209, 149, 116, 616, 701, 1081, 137, 570, 164, 639, 1017, 1360, 382, 680, 562, 525, 133, 620, 1069, 7, 552, 558, 1502, 260, 24, 1030, 589, 415, 94, 996, 279, 1161, 522, 541, 186, 67, 1338, 125, 113, 774, 725, 191, 949, 175, 646, 1473, 665, 568, 636, 347, 952, 809, 219, 86, 46, 1528, 1220, 118, 1356, 146, 1163, 60, 634, 902, 897, 1673, 23, 52, 960, 1618, 380, 1283, 1512, 6, 307, 1240, 23, 638, 811, 186, 634, 623, 1019, 727, 196, 620, 371, 816, 327, 385, 1429, 1034, 793, 211, 1777, 1803, 102, 946, 542, 76, 217, 549, 190, 593, 661, 57, 56, 754, 338, 29, 369, 786, 481, 310, 253, 462, 474, 911, 469, 1760, 894, 1162, 889, 422, 496, 201, 754, 1123, 1684, 808, 76, 858, 108, 1353, 116, 206, 445, 427, 762, 421, 875, 1477, 442, 985, 853, 483, 1171, 646, 766, 578, 561, 998, 318, 762, 791, 169, 1579, 1026, 183, 929, 342, 499, 1302, 680, 1378, 544, 56, 435, 136, 1053, 113, 307, 306, 549, 892, 113, 379, 1122, 365, 705, 233, 253, 598, 1269, 600, 65, 310, 704, 1660, 828, 362, 1438, 655, 1310, 815, 417, 1373, 617, 336, 227, 495, 929, 7, 380, 307, 211, 789, 312, 1158, 232, 197, 623, 1281, 635, 882, 567, 418, 647, 39, 488, 799, 493, 33, 1163, 1765, 623, 185, 274, 1036, 712, 414, 119, 750, 289, 155, 212, 617, 471, 592, 1071, 371, 587, 847, 202, 1356, 348, 1585, 1069, 8, 1648, 334, 557, 432, 727, 1188, 241, 1049, 416, 655, 534, 1581, 196, 1020, 218, 1455, 781, 986, 377, 1390, 431, 533, 231, 1615, 703, 725, 1086, 384, 299, 971, 333, 232, 199, 411, 662, 1044, 1078, 636, 350, 250, 573, 952, 155, 459, 119, 846, 948, 452, 417, 513, 1384, 501, 548, 622, 140, 1465, 483, 83, 866, 1040, 312, 311, 767, 95, 1056, 407, 293, 409, 627, 858, 246, 735, 538, 916, 812, 518, 517, 660, 879, 730, 696, 328, 642, 1040, 253, 972, 1078, 316, 1014, 1265, 1069, 1364, 907, 745, 909, 12, 310, 1513, 1329, 32, 12, 104, 678, 29, 43, 127, 925, 523, 1188, 963, 245, 1445, 783, 678, 49, 693, 580, 190, 1259, 260, 472, 841, 134, 1033, 711, 191, 593, 413, 476, 433, 893, 533, 482, 776, 433, 356, 384, 335, 418, 48, 249, 295, 208, 328, 783, 105, 732, 1428, 208, 335, 1696, 788, 440, 772, 348, 865, 429, 1202, 1421, 311, 790, 836, 744, 210, 620, 271, 470, 958, 522, 683, 552, 282, 1056, 632, 605, 1711, 758, 467, 977, 948, 1048, 498, 298, 364, 14, 985, 1012, 1102, 1491, 952, 102, 695, 908, 1112, 785, 486, 175, 1141, 536, 993, 616, 702, 856, 365, 119, 1004, 448, 1407, 1363, 115, 359, 954, 295, 345, 374, 496, 818, 1002, 11, 162, 835, 163, 1253, 36, 417, 233, 405, 766, 860, 599, 404, 1386, 863, 332, 53, 137, 1231, 132, 1133, 558, 236, 121, 482, 642, 1233, 135, 1210, 1124, 978, 207, 202, 1117, 85, 1499, 836, 1443, 1084, 1422, 602, 145, 706, 1037, 855, 287, 701, 152, 1035, 1146, 135, 359, 1169, 585, 1233, 99, 1118, 225, 107, 113, 748, 510, 68, 248, 665, 894, 712, 362, 97, 465, 68, 408, 571, 325, 456, 15, 420, 698, 778, 632, 318, 96, 1171, 1025, 1011, 510, 2, 660, 1041, 100, 1710, 1331, 1489, 1505, 265, 994, 203, 950, 145, 48, 33, 430, 655, 1253, 589, 96, 641, 548, 740, 57, 432, 529, 105, 998, 733, 1428, 1, 633, 1173, 417, 985, 303, 1424, 323, 463, 828, 845, 193, 1494, 885, 1441, 892, 881, 540, 915, 1081, 545, 26, 1027, 498, 709, 1378, 452, 1212, 754, 184, 355, 1007, 4, 1083, 1077, 1189, 326, 134, 950, 243, 1040, 152, 46, 1144, 323, 686, 978, 1369, 141, 73, 1189, 1592, 1191, 602, 882, 826, 100, 557, 156, 100, 133, 1801, 77, 774, 133, 1047, 74, 188, 1017, 184, 667, 1423, 382, 1315, 1051, 1290, 673, 315, 906, 454, 718, 227, 7, 1550, 409, 838, 633, 522, 1349, 437, 1081, 937, 268, 547, 769, 1050, 31, 599, 1073, 443, 769, 630, 249, 804, 475, 1561, 1158, 1197, 357, 413, 1712, 572, 869, 281, 859, 113, 673, 268, 379, 997, 833, 34, 411, 425, 305, 430, 14, 1410, 884, 60, 1590, 704, 259, 187, 230, 600, 284, 670, 174, 225, 790, 446, 78, 1218, 170, 1377, 114, 1495, 381, 353, 810, 156, 35, 1184, 549, 534, 196, 331, 742, 643, 516, 1605, 1421, 348, 1441, 499, 312, 104, 323, 117, 519, 52, 687, 74, 724, 108, 428, 88, 262, 2, 649, 773, 222, 309, 470, 334, 1231, 1465, 726, 353, 756, 85, 1103, 1078, 129, 740, 1185, 497, 1118, 1534, 173, 250, 102, 521, 825, 987, 422, 394, 653, 72, 456, 1408, 1626, 448, 521, 32, 330, 23, 908, 1417, 532, 31, 455, 1203, 787, 167, 161, 881, 1231, 188, 1318, 12, 1409, 738, 588, 212, 868, 573, 665, 710, 927, 1732, 1514, 122, 247, 1184, 829, 97, 320, 383, 95, 391, 167, 208, 1245, 155, 1046, 556, 189, 182, 394, 1376, 23, 1264, 1702, 59, 1035, 1196, 227, 485, 751, 304, 783, 621, 266, 414, 586, 364, 492, 221, 1, 991, 587, 1594, 641, 50, 1393, 136, 436, 1053, 688, 1409, 831, 107, 1015, 54, 986, 1072, 81, 400, 783, 1225, 1127, 477, 475, 1283, 499, 1144, 712, 718, 429, 446, 442, 1015, 1341, 98, 520, 419, 49, 450, 73, 118, 275, 830, 148, 1461, 559, 259, 1699, 99, 1420, 78, 638, 770, 1211, 808, 564, 558, 937, 1483, 454, 703, 161, 966, 795, 539, 1431, 625, 1305, 667, 159, 48, 642, 442, 1177, 243, 825, 767, 710, 56, 646, 300, 481, 901, 1496, 245, 566, 351, 677, 1657, 512, 208, 1761, 349, 531, 377, 871, 478, 1266, 1025, 703, 257, 533, 939, 787, 124, 355, 1016, 1418, 759, 314, 613, 1314, 1323, 54, 761, 230, 361, 1236, 389, 403, 727, 659, 1432, 1017, 1125, 391, 1334, 329, 802, 1158, 884, 685, 429, 765, 604, 1057, 602, 245, 564, 327, 834, 678, 698, 456, 781, 728, 726, 1069, 988, 832, 966, 1073, 598, 1577, 524, 186, 332, 36, 1149, 561, 1003, 30, 530, 32, 58, 524, 930, 278, 799, 766, 1111, 626, 202, 307, 1306, 717, 1312, 97, 322, 839, 884, 615, 1463, 474, 95, 668, 1184, 1096, 1324, 974, 373, 929, 1187, 1134, 73, 745, 498, 341, 958, 474, 111, 877, 958, 1617, 1012, 411, 406, 1332, 731, 485, 58, 898, 407, 745, 97, 1399, 396, 906, 960, 876, 161, 150, 224, 1482, 48, 242, 195, 618, 1484, 184, 1139, 648, 1159, 11, 809, 1194, 1050, 410, 1367, 917, 780, 1547, 91, 740, 475, 835, 373, 479, 578, 645, 892, 795, 917, 281, 1532, 1393, 1088, 212, 503, 728, 1103, 1277, 868, 755, 943, 1036, 915, 73, 84, 419, 1165, 244, 142, 1205, 919, 68, 591, 1391, 279, 1150, 761, 288, 1598, 269, 1206, 1280, 305, 426, 572, 570, 896, 212, 124, 304, 1636, 1043, 322, 230, 1036, 553, 853, 818, 736, 226, 480, 1032, 131, 916, 528, 1309, 12, 830, 367, 250, 868, 504, 265, 896, 1073, 1654, 898, 105, 167, 961, 1401, 1147, 335, 528, 98, 513, 132, 151, 889, 727, 74, 217, 851, 104, 1041, 150, 492, 1074, 466, 359, 1817, 1485, 1072, 1407, 445, 339, 94, 1139, 751, 370, 553, 1212, 447, 982, 1563, 422, 312, 1290, 381, 410, 207, 708, 833, 29, 280, 1025, 90, 1228, 692, 554, 158, 863, 629, 587, 608, 13, 1184, 1048, 853, 1, 701, 1570, 510, 1140, 13, 1326, 1051, 1543, 1630, 832, 372, 119, 557, 331, 7, 68, 446, 603, 102, 340, 312, 130, 830, 298, 1151, 267, 483, 1372, 130, 856, 657, 806, 228, 217, 1284, 879, 725, 745, 705, 939, 205, 629, 559, 243, 400, 186, 474, 1235, 56, 1517, 1741, 260, 657, 597, 1082, 478, 67, 995, 643, 55, 674, 567, 361, 826, 206, 867, 941, 1442, 388, 148, 920, 1048, 299, 764, 462, 1024, 278, 837, 1287, 632, 819, 944, 625, 304, 1434, 42, 86, 825, 530, 674, 648, 1531, 637, 58, 215, 973, 259, 1711, 705, 257, 113, 441, 808, 572, 625, 636, 153, 1518, 806, 81, 573, 998, 907, 95, 60, 762, 278, 468, 1012, 905, 451, 815, 969, 84, 539, 587, 5, 1471, 86, 293, 698, 487, 516, 459, 157, 1471, 726, 1220, 1699, 626, 20, 999, 239, 191, 998, 497, 451, 855, 896, 733, 285, 924, 872, 1209, 492, 1313, 573, 1475, 333, 36, 1199, 940, 1805, 1049, 1706, 458, 452, 1087, 1015, 1219, 39, 1499, 1517, 1104, 148, 199, 376, 1204, 541, 169, 93, 449, 492, 260, 228, 1715, 357, 23, 590, 117, 1380, 730, 118, 1349, 339, 1124, 95, 1310, 466, 898, 381, 1254, 1417, 582, 811, 793, 68, 1052, 848, 387, 795, 55, 942, 925, 41, 424, 963, 814, 1138, 734, 8, 179, 161, 397, 1200, 984, 1051, 1161, 165, 743, 802, 769, 898, 690, 1647, 904, 178, 417, 1147, 525, 441, 1301, 1493, 366, 881, 822, 437, 1118, 868, 375, 1614, 548, 29, 753, 795, 31, 219, 1805, 435, 623, 1161, 618, 132, 862, 1087, 61, 389, 502, 290, 154, 910, 383, 376, 1699, 1122, 221, 100, 354, 1086, 78, 576, 721, 614, 265, 504, 248, 1785, 736, 975, 389, 1233, 290, 1041, 284, 296, 541, 910, 1092, 100, 404, 835, 589, 1184, 61, 1093, 312, 667, 1519, 186, 193, 512, 1570, 869, 932, 435, 41, 1242, 332, 834, 983, 1215, 1099, 931, 226, 467, 66, 71, 18, 87, 194, 315, 404, 86, 1024, 217, 486, 868, 939, 466, 888, 457, 15, 617, 730, 1014, 440, 562, 651, 597, 941, 1284, 1649, 938, 45, 226, 332, 967, 190, 455, 626, 4, 95, 165, 314, 772, 582, 900, 299, 97, 159, 222, 903, 69, 574, 890, 613, 666, 1304, 531, 1120, 440, 1045, 668, 259, 1476, 489, 389, 969, 752, 203, 1326, 636, 1776, 1092, 1590, 590, 258, 1071, 433, 609, 558, 53, 315, 494, 740, 1533, 25, 1566, 104, 846, 315, 87, 259, 311, 1294, 1133, 648, 681, 4, 188, 884, 1614, 331, 1240, 929, 926, 587, 313, 735, 61, 835, 981, 942, 1058, 805, 433, 739, 1237, 439, 357, 218, 269, 471, 314, 1007, 378, 78, 1332, 463, 14, 1233, 431, 1059, 528, 271, 692, 707, 23, 197, 616, 182, 171, 94, 46, 1192, 569, 890, 1129, 862, 341, 593, 1814, 19, 306, 35, 1026, 673, 632, 1103, 457, 920, 5, 644, 410, 409, 331, 1231, 183, 525, 1271, 388, 236, 648, 313, 750, 424, 1092, 670, 428, 1277, 1025, 264, 344, 1019, 657, 757, 387, 578, 129, 543, 1194, 1579, 1533, 122, 1188, 215, 637, 1074, 16, 443, 1092, 253, 895, 16, 810, 223, 185, 1022, 731, 880, 466, 1229, 317, 27, 1337, 1676, 279, 797, 859, 1677, 240, 432, 331, 6, 266, 1167, 1529, 46, 1244, 880, 231, 516, 108, 710, 409, 515, 50, 339, 792, 1255, 765, 791, 350, 980, 762, 517, 696, 1718, 1199, 360, 806, 1552, 1164, 679, 325, 1426, 1360, 266, 951, 1624, 230, 88, 127, 393, 1152, 920, 1386, 1485, 862, 541, 943, 111, 353, 228, 1811, 874, 739, 357, 1520, 216, 1597, 758, 676, 161, 146, 1038, 629, 383, 495, 883, 1587, 1386, 226, 1355, 516, 169, 1407, 211, 1064, 785, 698, 926, 375, 337, 1159, 330, 928, 412, 60, 170, 606, 1354, 2, 246, 22, 834, 835, 630, 259, 389, 634, 463, 217, 195, 779, 3, 867, 430, 230, 131, 233, 631, 173, 268, 1154, 925, 1622, 227, 45, 425, 1200, 73, 730, 1005, 840, 1373, 37], \"yaxis\": \"y2\"}],\n",
              "                        {\"annotations\": [{\"font\": {\"size\": 16}, \"showarrow\": false, \"text\": \"Actual\", \"x\": 0.225, \"xanchor\": \"center\", \"xref\": \"paper\", \"y\": 1.0, \"yanchor\": \"bottom\", \"yref\": \"paper\"}, {\"font\": {\"size\": 16}, \"showarrow\": false, \"text\": \"K-means cluster\", \"x\": 0.775, \"xanchor\": \"center\", \"xref\": \"paper\", \"y\": 1.0, \"yanchor\": \"bottom\", \"yref\": \"paper\"}], \"height\": 600, \"template\": {\"data\": {\"bar\": [{\"error_x\": {\"color\": \"#2a3f5f\"}, \"error_y\": {\"color\": \"#2a3f5f\"}, \"marker\": {\"line\": {\"color\": \"#E5ECF6\", \"width\": 0.5}}, \"type\": \"bar\"}], \"barpolar\": [{\"marker\": {\"line\": {\"color\": \"#E5ECF6\", \"width\": 0.5}}, \"type\": \"barpolar\"}], \"carpet\": [{\"aaxis\": {\"endlinecolor\": \"#2a3f5f\", \"gridcolor\": \"white\", \"linecolor\": \"white\", \"minorgridcolor\": \"white\", \"startlinecolor\": \"#2a3f5f\"}, \"baxis\": {\"endlinecolor\": \"#2a3f5f\", \"gridcolor\": \"white\", \"linecolor\": \"white\", \"minorgridcolor\": \"white\", \"startlinecolor\": \"#2a3f5f\"}, \"type\": \"carpet\"}], \"choropleth\": [{\"colorbar\": {\"outlinewidth\": 0, \"ticks\": \"\"}, \"type\": \"choropleth\"}], \"contour\": [{\"colorbar\": {\"outlinewidth\": 0, \"ticks\": \"\"}, \"colorscale\": [[0.0, \"#0d0887\"], [0.1111111111111111, \"#46039f\"], [0.2222222222222222, \"#7201a8\"], [0.3333333333333333, \"#9c179e\"], [0.4444444444444444, \"#bd3786\"], [0.5555555555555556, \"#d8576b\"], [0.6666666666666666, \"#ed7953\"], [0.7777777777777778, \"#fb9f3a\"], [0.8888888888888888, \"#fdca26\"], [1.0, \"#f0f921\"]], \"type\": \"contour\"}], \"contourcarpet\": [{\"colorbar\": {\"outlinewidth\": 0, \"ticks\": \"\"}, \"type\": \"contourcarpet\"}], \"heatmap\": [{\"colorbar\": {\"outlinewidth\": 0, \"ticks\": \"\"}, \"colorscale\": [[0.0, \"#0d0887\"], [0.1111111111111111, \"#46039f\"], [0.2222222222222222, \"#7201a8\"], [0.3333333333333333, \"#9c179e\"], [0.4444444444444444, \"#bd3786\"], [0.5555555555555556, \"#d8576b\"], [0.6666666666666666, \"#ed7953\"], [0.7777777777777778, \"#fb9f3a\"], [0.8888888888888888, \"#fdca26\"], [1.0, \"#f0f921\"]], \"type\": \"heatmap\"}], \"heatmapgl\": [{\"colorbar\": {\"outlinewidth\": 0, \"ticks\": \"\"}, \"colorscale\": [[0.0, \"#0d0887\"], [0.1111111111111111, \"#46039f\"], [0.2222222222222222, \"#7201a8\"], [0.3333333333333333, \"#9c179e\"], [0.4444444444444444, \"#bd3786\"], [0.5555555555555556, \"#d8576b\"], [0.6666666666666666, \"#ed7953\"], [0.7777777777777778, \"#fb9f3a\"], [0.8888888888888888, \"#fdca26\"], [1.0, \"#f0f921\"]], \"type\": \"heatmapgl\"}], \"histogram\": [{\"marker\": {\"colorbar\": {\"outlinewidth\": 0, \"ticks\": \"\"}}, \"type\": \"histogram\"}], \"histogram2d\": [{\"colorbar\": {\"outlinewidth\": 0, \"ticks\": \"\"}, \"colorscale\": [[0.0, \"#0d0887\"], [0.1111111111111111, \"#46039f\"], [0.2222222222222222, \"#7201a8\"], [0.3333333333333333, \"#9c179e\"], [0.4444444444444444, \"#bd3786\"], [0.5555555555555556, \"#d8576b\"], [0.6666666666666666, \"#ed7953\"], [0.7777777777777778, \"#fb9f3a\"], [0.8888888888888888, \"#fdca26\"], [1.0, \"#f0f921\"]], \"type\": \"histogram2d\"}], \"histogram2dcontour\": [{\"colorbar\": {\"outlinewidth\": 0, \"ticks\": \"\"}, \"colorscale\": [[0.0, \"#0d0887\"], [0.1111111111111111, \"#46039f\"], [0.2222222222222222, \"#7201a8\"], [0.3333333333333333, \"#9c179e\"], [0.4444444444444444, \"#bd3786\"], [0.5555555555555556, \"#d8576b\"], [0.6666666666666666, \"#ed7953\"], [0.7777777777777778, \"#fb9f3a\"], [0.8888888888888888, \"#fdca26\"], [1.0, \"#f0f921\"]], \"type\": \"histogram2dcontour\"}], \"mesh3d\": [{\"colorbar\": {\"outlinewidth\": 0, \"ticks\": \"\"}, \"type\": \"mesh3d\"}], \"parcoords\": [{\"line\": {\"colorbar\": {\"outlinewidth\": 0, \"ticks\": \"\"}}, \"type\": \"parcoords\"}], \"pie\": [{\"automargin\": true, \"type\": \"pie\"}], \"scatter\": [{\"marker\": {\"colorbar\": {\"outlinewidth\": 0, \"ticks\": \"\"}}, \"type\": \"scatter\"}], \"scatter3d\": [{\"line\": {\"colorbar\": {\"outlinewidth\": 0, \"ticks\": \"\"}}, \"marker\": {\"colorbar\": {\"outlinewidth\": 0, \"ticks\": \"\"}}, \"type\": \"scatter3d\"}], \"scattercarpet\": [{\"marker\": {\"colorbar\": {\"outlinewidth\": 0, \"ticks\": \"\"}}, \"type\": \"scattercarpet\"}], \"scattergeo\": [{\"marker\": {\"colorbar\": {\"outlinewidth\": 0, \"ticks\": \"\"}}, \"type\": \"scattergeo\"}], \"scattergl\": [{\"marker\": {\"colorbar\": {\"outlinewidth\": 0, \"ticks\": \"\"}}, \"type\": \"scattergl\"}], \"scattermapbox\": [{\"marker\": {\"colorbar\": {\"outlinewidth\": 0, \"ticks\": \"\"}}, \"type\": \"scattermapbox\"}], \"scatterpolar\": [{\"marker\": {\"colorbar\": {\"outlinewidth\": 0, \"ticks\": \"\"}}, \"type\": \"scatterpolar\"}], \"scatterpolargl\": [{\"marker\": {\"colorbar\": {\"outlinewidth\": 0, \"ticks\": \"\"}}, \"type\": \"scatterpolargl\"}], \"scatterternary\": [{\"marker\": {\"colorbar\": {\"outlinewidth\": 0, \"ticks\": \"\"}}, \"type\": \"scatterternary\"}], \"surface\": [{\"colorbar\": {\"outlinewidth\": 0, \"ticks\": \"\"}, \"colorscale\": [[0.0, \"#0d0887\"], [0.1111111111111111, \"#46039f\"], [0.2222222222222222, \"#7201a8\"], [0.3333333333333333, \"#9c179e\"], [0.4444444444444444, \"#bd3786\"], [0.5555555555555556, \"#d8576b\"], [0.6666666666666666, \"#ed7953\"], [0.7777777777777778, \"#fb9f3a\"], [0.8888888888888888, \"#fdca26\"], [1.0, \"#f0f921\"]], \"type\": \"surface\"}], \"table\": [{\"cells\": {\"fill\": {\"color\": \"#EBF0F8\"}, \"line\": {\"color\": \"white\"}}, \"header\": {\"fill\": {\"color\": \"#C8D4E3\"}, \"line\": {\"color\": \"white\"}}, \"type\": \"table\"}]}, \"layout\": {\"annotationdefaults\": {\"arrowcolor\": \"#2a3f5f\", \"arrowhead\": 0, \"arrowwidth\": 1}, \"coloraxis\": {\"colorbar\": {\"outlinewidth\": 0, \"ticks\": \"\"}}, \"colorscale\": {\"diverging\": [[0, \"#8e0152\"], [0.1, \"#c51b7d\"], [0.2, \"#de77ae\"], [0.3, \"#f1b6da\"], [0.4, \"#fde0ef\"], [0.5, \"#f7f7f7\"], [0.6, \"#e6f5d0\"], [0.7, \"#b8e186\"], [0.8, \"#7fbc41\"], [0.9, \"#4d9221\"], [1, \"#276419\"]], \"sequential\": [[0.0, \"#0d0887\"], [0.1111111111111111, \"#46039f\"], [0.2222222222222222, \"#7201a8\"], [0.3333333333333333, \"#9c179e\"], [0.4444444444444444, \"#bd3786\"], [0.5555555555555556, \"#d8576b\"], [0.6666666666666666, \"#ed7953\"], [0.7777777777777778, \"#fb9f3a\"], [0.8888888888888888, \"#fdca26\"], [1.0, \"#f0f921\"]], \"sequentialminus\": [[0.0, \"#0d0887\"], [0.1111111111111111, \"#46039f\"], [0.2222222222222222, \"#7201a8\"], [0.3333333333333333, \"#9c179e\"], [0.4444444444444444, \"#bd3786\"], [0.5555555555555556, \"#d8576b\"], [0.6666666666666666, \"#ed7953\"], [0.7777777777777778, \"#fb9f3a\"], [0.8888888888888888, \"#fdca26\"], [1.0, \"#f0f921\"]]}, \"colorway\": [\"#636efa\", \"#EF553B\", \"#00cc96\", \"#ab63fa\", \"#FFA15A\", \"#19d3f3\", \"#FF6692\", \"#B6E880\", \"#FF97FF\", \"#FECB52\"], \"font\": {\"color\": \"#2a3f5f\"}, \"geo\": {\"bgcolor\": \"white\", \"lakecolor\": \"white\", \"landcolor\": \"#E5ECF6\", \"showlakes\": true, \"showland\": true, \"subunitcolor\": \"white\"}, \"hoverlabel\": {\"align\": \"left\"}, \"hovermode\": \"closest\", \"mapbox\": {\"style\": \"light\"}, \"paper_bgcolor\": \"white\", \"plot_bgcolor\": \"#E5ECF6\", \"polar\": {\"angularaxis\": {\"gridcolor\": \"white\", \"linecolor\": \"white\", \"ticks\": \"\"}, \"bgcolor\": \"#E5ECF6\", \"radialaxis\": {\"gridcolor\": \"white\", \"linecolor\": \"white\", \"ticks\": \"\"}}, \"scene\": {\"xaxis\": {\"backgroundcolor\": \"#E5ECF6\", \"gridcolor\": \"white\", \"gridwidth\": 2, \"linecolor\": \"white\", \"showbackground\": true, \"ticks\": \"\", \"zerolinecolor\": \"white\"}, \"yaxis\": {\"backgroundcolor\": \"#E5ECF6\", \"gridcolor\": \"white\", \"gridwidth\": 2, \"linecolor\": \"white\", \"showbackground\": true, \"ticks\": \"\", \"zerolinecolor\": \"white\"}, \"zaxis\": {\"backgroundcolor\": \"#E5ECF6\", \"gridcolor\": \"white\", \"gridwidth\": 2, \"linecolor\": \"white\", \"showbackground\": true, \"ticks\": \"\", \"zerolinecolor\": \"white\"}}, \"shapedefaults\": {\"line\": {\"color\": \"#2a3f5f\"}}, \"ternary\": {\"aaxis\": {\"gridcolor\": \"white\", \"linecolor\": \"white\", \"ticks\": \"\"}, \"baxis\": {\"gridcolor\": \"white\", \"linecolor\": \"white\", \"ticks\": \"\"}, \"bgcolor\": \"#E5ECF6\", \"caxis\": {\"gridcolor\": \"white\", \"linecolor\": \"white\", \"ticks\": \"\"}}, \"title\": {\"x\": 0.05}, \"xaxis\": {\"automargin\": true, \"gridcolor\": \"white\", \"linecolor\": \"white\", \"ticks\": \"\", \"title\": {\"standoff\": 15}, \"zerolinecolor\": \"white\", \"zerolinewidth\": 2}, \"yaxis\": {\"automargin\": true, \"gridcolor\": \"white\", \"linecolor\": \"white\", \"ticks\": \"\", \"title\": {\"standoff\": 15}, \"zerolinecolor\": \"white\", \"zerolinewidth\": 2}}}, \"width\": 1000, \"xaxis\": {\"anchor\": \"y\", \"domain\": [0.0, 0.45]}, \"xaxis2\": {\"anchor\": \"y2\", \"domain\": [0.55, 1.0]}, \"yaxis\": {\"anchor\": \"x\", \"domain\": [0.0, 1.0]}, \"yaxis2\": {\"anchor\": \"x2\", \"domain\": [0.0, 1.0]}},\n",
              "                        {\"responsive\": true}\n",
              "                    ).then(function(){\n",
              "                            \n",
              "var gd = document.getElementById('138ef1df-e919-4b41-879f-a4adacedce09');\n",
              "var x = new MutationObserver(function (mutations, observer) {{\n",
              "        var display = window.getComputedStyle(gd).display;\n",
              "        if (!display || display === 'none') {{\n",
              "            console.log([gd, 'removed!']);\n",
              "            Plotly.purge(gd);\n",
              "            observer.disconnect();\n",
              "        }}\n",
              "}});\n",
              "\n",
              "// Listen for the removal of the full notebook cells\n",
              "var notebookContainer = gd.closest('#notebook-container');\n",
              "if (notebookContainer) {{\n",
              "    x.observe(notebookContainer, {childList: true});\n",
              "}}\n",
              "\n",
              "// Listen for the clearing of the current output cell\n",
              "var outputEl = gd.closest('.output');\n",
              "if (outputEl) {{\n",
              "    x.observe(outputEl, {childList: true});\n",
              "}}\n",
              "\n",
              "                        })\n",
              "                };\n",
              "                \n",
              "            </script>\n",
              "        </div>\n",
              "</body>\n",
              "</html>"
            ]
          },
          "metadata": {
            "tags": []
          }
        }
      ]
    },
    {
      "cell_type": "code",
      "metadata": {
        "colab": {
          "base_uri": "https://localhost:8080/",
          "height": 617
        },
        "id": "KRwJO6h9nH7n",
        "outputId": "accb1f43-2286-445b-de98-ecb808b78ee1"
      },
      "source": [
        "# Visualizing\n",
        "\n",
        "from plotly.subplots import make_subplots\n",
        "import plotly.graph_objects as go\n",
        "\n",
        "fig  = make_subplots(\n",
        "    rows = 1,\n",
        "    cols = 2, \n",
        "    subplot_titles=('Actual', 'K-means cluster')\n",
        "\n",
        ")\n",
        "\n",
        "# Actual\n",
        "\n",
        "fig.add_trace(\n",
        "    go.Scatter(\n",
        "        x = train_x['recommended_cnt'],\n",
        "        y = train_x['category_prefer'],\n",
        "        mode = 'markers',\n",
        "\n",
        "\n",
        "    ),\n",
        "    row = 1,\n",
        "    col = 1\n",
        ")\n",
        "\n",
        "# Algorithm\n",
        "\n",
        "fig.add_trace(\n",
        "    go.Scatter(\n",
        "        x = train_x['recommended_cnt'],\n",
        "        y = train_x['category_prefer'],\n",
        "        mode = 'markers',\n",
        "        marker = dict(color = train_x['label_km'])\n",
        "\n",
        "\n",
        "    ),\n",
        "    row = 1,\n",
        "    col = 2\n",
        ")\n",
        "\n",
        "fig.update_layout(width = 1000, height = 600)\n",
        "fig.show()"
      ],
      "execution_count": 47,
      "outputs": [
        {
          "output_type": "display_data",
          "data": {
            "text/html": [
              "<html>\n",
              "<head><meta charset=\"utf-8\" /></head>\n",
              "<body>\n",
              "    <div>\n",
              "            <script src=\"https://cdnjs.cloudflare.com/ajax/libs/mathjax/2.7.5/MathJax.js?config=TeX-AMS-MML_SVG\"></script><script type=\"text/javascript\">if (window.MathJax) {MathJax.Hub.Config({SVG: {font: \"STIX-Web\"}});}</script>\n",
              "                <script type=\"text/javascript\">window.PlotlyConfig = {MathJaxConfig: 'local'};</script>\n",
              "        <script src=\"https://cdn.plot.ly/plotly-latest.min.js\"></script>    \n",
              "            <div id=\"833a88d4-bc35-47c8-bf5f-029d7ee360a7\" class=\"plotly-graph-div\" style=\"height:600px; width:1000px;\"></div>\n",
              "            <script type=\"text/javascript\">\n",
              "                \n",
              "                    window.PLOTLYENV=window.PLOTLYENV || {};\n",
              "                    \n",
              "                if (document.getElementById(\"833a88d4-bc35-47c8-bf5f-029d7ee360a7\")) {\n",
              "                    Plotly.newPlot(\n",
              "                        '833a88d4-bc35-47c8-bf5f-029d7ee360a7',\n",
              "                        [{\"mode\": \"markers\", \"type\": \"scatter\", \"x\": [2, 2, 0, 0, 3, 0, 0, 2, 0, 5, 0, 6, 2, 7, 0, 3, 9, 4, 2, 5, 3, 0, 2, 0, 4, 4, 9, 5, 2, 12, 0, 4, 1, 2, 5, 3, 4, 6, 1, 0, 0, 0, 0, 4, 5, 0, 4, 5, 2, 3, 0, 0, 0, 0, 0, 3, 2, 5, 2, 0, 2, 3, 0, 4, 0, 0, 2, 3, 4, 5, 3, 4, 5, 5, 3, 0, 2, 3, 3, 2, 4, 7, 0, 1, 2, 7, 0, 3, 1, 0, 6, 3, 0, 3, 3, 3, 2, 2, 12, 0, 1, 3, 1, 0, 3, 3, 4, 5, 5, 0, 0, 3, 3, 3, 0, 3, 1, 2, 6, 6, 2, 0, 4, 1, 5, 3, 3, 7, 3, 0, 3, 3, 0, 0, 0, 3, 0, 1, 3, 6, 5, 5, 1, 0, 0, 2, 3, 10, 2, 6, 1, 3, 2, 3, 3, 2, 0, 4, 5, 1, 0, 0, 5, 2, 1, 1, 1, 12, 0, 0, 6, 1, 4, 5, 2, 5, 5, 3, 2, 3, 5, 4, 0, 2, 1, 4, 0, 7, 12, 5, 4, 0, 0, 1, 3, 2, 0, 4, 3, 4, 4, 0, 7, 4, 3, 5, 0, 0, 1, 3, 0, 2, 2, 3, 1, 0, 2, 4, 2, 6, 0, 4, 3, 2, 8, 2, 4, 3, 0, 2, 0, 0, 0, 4, 1, 0, 1, 0, 4, 0, 0, 0, 5, 0, 1, 0, 6, 5, 1, 3, 3, 3, 5, 2, 4, 10, 0, 0, 0, 0, 3, 3, 4, 0, 0, 7, 3, 1, 2, 0, 0, 0, 0, 5, 4, 6, 6, 1, 3, 1, 11, 1, 1, 3, 3, 7, 1, 2, 0, 3, 3, 5, 0, 3, 0, 0, 1, 5, 4, 0, 3, 0, 0, 0, 0, 0, 5, 0, 2, 6, 6, 3, 1, 1, 5, 0, 0, 2, 0, 0, 5, 2, 8, 5, 0, 6, 1, 0, 1, 0, 3, 3, 2, 0, 3, 0, 4, 1, 4, 5, 1, 2, 10, 3, 2, 4, 11, 0, 0, 4, 4, 15, 0, 2, 4, 2, 4, 1, 1, 4, 0, 0, 1, 0, 5, 0, 1, 0, 2, 0, 4, 6, 1, 0, 0, 0, 4, 0, 2, 1, 4, 0, 2, 1, 0, 1, 2, 5, 0, 3, 2, 2, 0, 3, 0, 4, 3, 1, 3, 0, 1, 0, 3, 2, 3, 2, 0, 0, 8, 4, 0, 0, 0, 3, 3, 2, 2, 1, 5, 3, 5, 2, 1, 0, 2, 5, 8, 5, 3, 1, 4, 4, 0, 8, 4, 0, 5, 0, 9, 2, 0, 0, 3, 2, 5, 0, 0, 4, 4, 5, 0, 0, 0, 2, 0, 1, 0, 1, 3, 0, 0, 1, 0, 4, 1, 5, 1, 2, 5, 2, 2, 5, 0, 4, 4, 3, 2, 1, 2, 3, 2, 3, 1, 4, 4, 1, 8, 5, 4, 1, 5, 5, 0, 1, 1, 1, 0, 2, 0, 3, 0, 0, 0, 5, 1, 5, 2, 6, 4, 6, 1, 0, 1, 4, 1, 2, 3, 0, 0, 3, 1, 8, 0, 4, 1, 6, 0, 0, 2, 5, 1, 3, 7, 4, 1, 5, 4, 0, 0, 1, 2, 2, 0, 7, 0, 0, 1, 7, 0, 3, 2, 3, 1, 1, 6, 3, 0, 6, 2, 0, 0, 0, 0, 4, 0, 6, 2, 8, 2, 0, 0, 0, 5, 3, 1, 3, 4, 4, 0, 2, 3, 7, 5, 4, 0, 3, 2, 4, 0, 0, 6, 4, 0, 0, 4, 1, 4, 0, 0, 2, 2, 4, 0, 4, 0, 1, 0, 0, 2, 4, 0, 0, 1, 1, 3, 4, 0, 0, 0, 5, 4, 10, 0, 9, 3, 0, 6, 2, 1, 0, 2, 6, 1, 2, 4, 1, 1, 0, 1, 2, 3, 2, 2, 5, 2, 4, 4, 0, 4, 1, 0, 3, 2, 3, 0, 1, 5, 3, 0, 0, 1, 13, 0, 1, 2, 8, 0, 4, 0, 3, 0, 0, 0, 6, 0, 2, 3, 0, 3, 4, 3, 3, 1, 3, 12, 1, 1, 5, 1, 0, 1, 0, 1, 2, 3, 3, 1, 4, 1, 1, 3, 2, 4, 0, 2, 10, 6, 0, 3, 1, 0, 0, 3, 2, 0, 0, 0, 4, 5, 1, 1, 2, 2, 3, 5, 0, 1, 6, 0, 4, 3, 0, 0, 3, 5, 1, 7, 3, 3, 0, 4, 0, 2, 0, 1, 0, 2, 0, 6, 3, 2, 3, 5, 2, 16, 1, 6, 4, 3, 0, 1, 18, 2, 2, 3, 0, 0, 1, 1, 0, 2, 0, 5, 1, 0, 3, 1, 1, 6, 2, 0, 5, 2, 4, 1, 0, 1, 2, 4, 4, 5, 2, 5, 6, 0, 0, 0, 0, 5, 1, 2, 1, 2, 3, 3, 4, 2, 0, 1, 2, 2, 4, 0, 4, 4, 3, 0, 0, 4, 3, 2, 3, 0, 2, 0, 10, 1, 4, 3, 0, 5, 3, 3, 2, 3, 0, 10, 2, 3, 1, 2, 2, 2, 0, 0, 8, 0, 2, 3, 3, 9, 1, 4, 5, 2, 0, 3, 2, 1, 13, 1, 1, 3, 0, 0, 1, 0, 0, 0, 8, 0, 1, 7, 0, 0, 3, 3, 0, 3, 5, 2, 1, 0, 4, 1, 6, 6, 3, 0, 5, 3, 4, 2, 2, 0, 0, 4, 5, 3, 5, 0, 0, 2, 7, 0, 5, 4, 2, 0, 1, 0, 3, 0, 0, 3, 0, 2, 1, 2, 3, 4, 4, 0, 1, 3, 7, 0, 3, 1, 5, 0, 3, 5, 5, 0, 0, 2, 3, 2, 3, 2, 4, 0, 1, 2, 1, 0, 2, 1, 2, 2, 0, 1, 3, 1, 6, 1, 0, 0, 2, 1, 0, 2, 2, 1, 0, 0, 4, 5, 0, 10, 3, 1, 1, 1, 1, 1, 0, 7, 0, 3, 1, 3, 2, 0, 0, 0, 1, 0, 4, 2, 0, 2, 0, 2, 1, 4, 0, 0, 4, 1, 0, 6, 5, 0, 0, 0, 2, 0, 0, 0, 0, 0, 2, 2, 1, 0, 0, 2, 0, 3, 2, 1, 0, 2, 0, 1, 7, 0, 3, 0, 2, 0, 1, 1, 0, 0, 8, 4, 1, 3, 1, 1, 2, 0, 2, 0, 0, 1, 0, 2, 3, 1, 0, 0, 0, 5, 3, 0, 2, 7, 0, 3, 0, 1, 2, 1, 0, 8, 1, 0, 0, 0, 3, 2, 2, 7, 0, 4, 0, 0, 1, 0, 3, 3, 2, 0, 0, 2, 5, 0, 2, 0, 2, 3, 0, 4, 6, 8, 3, 2, 2, 0, 4, 0, 5, 3, 1, 7, 4, 0, 1, 2, 0, 5, 2, 0, 1, 0, 5, 0, 0, 3, 3, 2, 2, 0, 6, 0, 0, 0, 0, 6, 2, 2, 0, 4, 2, 4, 0, 1, 0, 4, 10, 4, 6, 3, 6, 0, 0, 0, 0, 0, 6, 7, 3, 3, 1, 0, 3, 0, 5, 2, 2, 0, 2, 2, 5, 3, 6, 5, 3, 4, 0, 3, 0, 4, 1, 2, 5, 2, 2, 1, 1, 2, 0, 0, 1, 2, 2, 0, 4, 2, 1, 1, 0, 9, 4, 3, 0, 2, 4, 0, 0, 0, 8, 2, 4, 0, 3, 1, 6, 0, 0, 0, 0, 4, 3, 5, 2, 0, 0, 1, 4, 5, 2, 2, 0, 3, 2, 2, 3, 1, 0, 2, 3, 5, 0, 0, 1, 0, 0, 4, 11, 0, 0, 9, 0, 0, 2, 0, 2, 19, 0, 4, 11, 2, 1, 1, 4, 2, 6, 2, 2, 2, 0, 0, 3, 0, 2, 0, 0, 3, 2, 4, 0, 0, 3, 3, 3, 1, 2, 0, 0, 2, 5, 2, 2, 0, 2, 0, 7, 2, 0, 0, 2, 2, 2, 4, 0, 3, 10, 0, 3, 3, 0, 7, 9, 3, 3, 1, 1, 5, 0, 0, 0, 0, 0, 4, 11, 5, 0, 3, 2, 5, 1, 2, 3, 1, 5, 3, 0, 0, 0, 0, 2, 2, 4, 1, 0, 0, 3, 4, 0, 2, 3, 0, 7, 0, 1, 5, 2, 1, 1, 4, 4, 6, 0, 6, 0, 3, 5, 2, 10, 2, 4, 3, 1, 0, 1, 2, 4, 4, 0, 0, 0, 0, 0, 3, 2, 3, 2, 3, 1, 4, 1, 2, 3, 2, 3, 3, 0, 4, 1, 5, 2, 4, 0, 0, 0, 3, 0, 1, 0, 4, 3, 10, 4, 4, 1, 0, 0, 5, 5, 0, 0, 3, 2, 3, 3, 5, 5, 5, 4, 11, 2, 3, 0, 3, 4, 2, 0, 3, 0, 2, 7, 1, 11, 0, 1, 4, 1, 3, 5, 2, 0, 0, 0, 3, 0, 0, 4, 0, 0, 2, 1, 2, 1, 0, 1, 4, 5, 3, 0, 0, 5, 3, 0, 5, 3, 2, 3, 4, 0, 2, 7, 0, 0, 0, 0, 0, 4, 1, 0, 0, 2, 3, 0, 2, 3, 3, 2, 3, 2, 1, 0, 4, 1, 0, 3, 0, 2, 4, 3, 1, 3, 0, 7, 3, 3, 2, 0, 3, 3, 0, 6, 4, 1, 1, 0, 1, 4, 4, 1, 0, 1, 3, 3, 0, 2, 1, 3, 0, 1, 0, 0, 2, 0, 0, 4, 13, 2, 3, 7, 9, 3, 3, 0, 0, 2, 3, 0, 1, 0, 5, 4, 1, 0, 0, 0, 4, 0, 2, 3, 3, 0, 3, 0, 0, 3, 5, 0, 2, 13, 2, 3, 1, 1, 5, 0, 0, 5, 0, 0, 4, 0, 5, 3, 0, 3, 5, 3, 1, 3, 0, 0, 3, 0, 4, 0, 4, 4, 5, 2, 1, 2, 4, 0, 2, 6, 3, 0, 0, 1, 0, 1, 0, 0, 5, 1, 6, 0, 2, 0, 0, 5, 4, 5, 2, 4, 0, 3, 4, 0, 7, 3, 0, 2, 10, 0, 1, 1, 14, 0, 0, 3, 2, 4, 0, 2, 2, 7, 1, 8, 1, 1, 3, 0, 0, 2, 4, 10, 1, 5, 0, 0, 1, 1, 3, 0, 8, 1, 3, 3, 0, 1, 0, 1, 1, 4, 1, 4, 1, 5, 5, 4, 3, 6, 13, 3, 2, 7, 5, 0, 2, 2, 0, 0, 4, 0, 0, 0, 1, 2, 0, 6, 0, 2, 0, 0, 2, 4, 4, 2, 3, 1, 3, 0, 0, 5, 2, 11, 3, 0, 0, 13, 2, 1, 0, 1, 7, 3, 0, 0, 6, 8, 0, 4, 0, 2, 3, 0, 3, 7, 5, 3, 1, 3, 3, 0, 2, 3, 3, 3, 9, 4, 0, 3, 2, 5, 7, 0, 0, 0, 2, 0, 0, 0, 4, 3, 2, 3, 0, 0, 0, 4, 2, 0, 0, 0, 0, 4, 1, 1, 0, 2, 4, 3, 1, 0, 2, 0, 0, 2, 0, 6, 4, 0, 5, 5, 5, 4, 4, 4, 0, 2, 4, 2, 11, 4, 3, 1, 0, 10, 2, 0, 3, 0, 1, 1, 1, 0, 0, 0, 1, 5, 1, 0, 5, 0, 3, 8, 2, 0, 4, 0, 0, 0, 0, 3, 1, 2, 0, 1, 0, 2, 3, 9, 1, 2, 4, 3, 1, 5, 3, 0, 2, 0, 3, 1, 0, 2, 1, 0, 3, 0, 4, 0, 1, 5, 0, 5, 0, 2, 7, 0, 4, 0, 1, 3, 2, 8, 4, 3, 0, 4, 2, 0, 3, 5, 4, 6, 0, 4, 1, 0, 4, 0, 0, 0, 0, 2, 9, 0, 4, 3, 0, 3, 0, 0, 7, 3, 2, 0, 6, 9, 2, 4, 2, 4, 2, 0, 0, 3, 4, 4, 9, 3, 0, 2, 2, 0, 0, 0, 5, 5, 2, 0, 0, 0, 1, 0, 0, 0, 0, 0, 0, 2, 0, 0, 0, 0, 5, 2, 4, 5, 4, 0, 0, 0, 2, 0, 4, 0, 2, 0, 4, 0, 2, 5, 2, 4, 5, 0, 2, 0, 0, 0, 0, 0, 6, 0, 1, 3, 0, 6, 4, 10, 0, 2, 0, 2, 0, 0, 3, 6, 0, 0, 1, 3, 3, 2, 10, 5, 0, 2, 4, 7, 0, 1, 1, 5, 0, 0, 0, 1, 0, 0, 0, 0, 2, 3, 4, 2, 4, 3, 1, 1, 0, 9, 0, 1, 1, 3, 0, 1, 4, 4, 11, 0, 3, 3, 5, 5, 4, 3, 0, 0, 2, 3, 0, 4, 0, 3, 0, 5, 0, 2, 0, 1, 4, 0, 0, 0, 3, 0, 1, 8, 14, 4, 0, 1, 0, 0, 4, 0, 1, 0, 4, 0, 1, 3, 4, 0, 1, 0, 2, 3, 0, 1, 0, 0, 4, 0, 1, 0, 1, 7, 0, 5, 0, 3, 4, 0, 3, 1, 4, 1, 2, 2, 0, 3, 3, 5, 1, 1, 0, 0, 0, 4, 4, 1, 2, 0, 0, 2, 0, 0, 3, 2, 0, 3, 0, 1, 0, 4, 0, 0, 3, 4, 1, 3, 0, 7, 0, 1, 2, 1, 0, 7, 2, 2, 0, 3, 2, 1, 3, 2, 3, 4, 2, 0, 0, 0, 0, 1, 8, 0, 3, 4, 4, 2, 2, 1, 8, 1, 4, 2, 4, 4, 2, 2, 4, 0, 1, 2, 0, 0, 1, 0, 0, 2, 3, 3, 3, 0, 5, 4, 1, 4, 0, 3, 0, 1, 1, 0, 5, 4, 0, 1, 0, 2, 3, 3, 1, 1, 4, 0, 4, 5, 0, 0, 6, 0, 5, 3, 0, 0, 2, 4, 5, 1, 4, 0, 8, 9, 0, 3, 2, 0, 3, 0, 4, 2, 7, 0, 3, 12, 4, 4, 1, 0, 8, 0, 2, 1, 4, 0, 0, 9, 1, 1, 0, 10, 5, 1, 3, 0, 0, 3, 4, 3, 0, 1, 1, 3, 1, 5, 6, 4, 0, 4, 3, 2, 1, 3, 0, 5, 9, 0, 1, 2, 4, 1, 0, 0, 4, 3, 3, 0, 4, 3, 5, 5, 6, 3, 0, 0, 3, 0, 4, 0, 0, 0, 7, 1, 9, 1, 2, 3, 5, 4, 3, 0, 0, 0, 5, 3, 0, 0, 0, 2, 4, 0, 0, 0, 5, 0, 0, 2, 5, 3, 1, 2, 0, 5, 1, 4, 21, 3, 4, 0, 0, 0, 2, 3, 4, 0, 8, 3, 3, 3, 8, 1, 2, 2, 0, 6, 4, 6, 0, 0, 0, 2, 4, 4, 8, 3, 1, 4, 2, 1, 7, 1, 0, 1, 2, 2, 4, 2, 3, 1, 0, 4, 5, 0, 0, 3, 4, 0, 0, 4, 3, 4, 5, 4, 0, 0, 1, 0, 0, 6, 0, 1, 0, 2, 4, 3, 11, 5, 0, 4, 2, 1, 3, 1, 0, 3, 4, 0, 3, 6, 0, 3, 3, 3, 4, 3, 0, 10, 0, 4, 0, 1, 2, 2, 0, 4, 0, 7, 0, 4, 0, 5, 14, 1, 7, 0, 3, 2, 0, 0, 0, 4, 2, 2, 0, 10, 3, 1, 1, 0, 2, 0, 5, 2, 14, 2, 3, 2, 2, 1, 1, 0, 1, 0, 0, 1, 1, 4, 1, 7, 0, 0, 1, 8, 0, 3, 1, 0, 2, 4, 2, 0, 0, 0, 2, 0, 0, 4, 5, 1, 0, 1, 6, 0, 3, 0, 0, 6, 3, 3, 3, 1, 3, 1, 6, 0, 0, 3, 8, 2, 3, 0, 0, 1, 3, 3, 2, 5, 0, 3, 3, 2, 2, 1, 3, 0, 0, 4, 0, 1, 3, 1, 0, 1, 0, 0, 1, 0, 3, 8, 3, 3, 0, 5, 3, 3, 0, 1, 4, 0, 2, 5, 6, 3, 2, 4, 2, 0, 4, 5, 2, 0, 4, 0, 0, 0, 2, 0, 0, 3, 2, 2, 2, 4, 5, 8, 0, 1, 0, 6, 0, 4, 2, 0, 3, 5, 0, 2, 3, 3, 2, 0, 2, 0, 2, 2, 4, 1, 0, 4, 1, 0, 1, 0, 4, 3, 3, 0, 0, 2, 1, 3, 3, 0, 2, 1, 4, 3, 5, 7, 3, 0, 0, 2, 3, 3, 5, 0, 1, 5, 6, 3, 4, 0, 0, 0, 2, 3, 0, 2, 0, 3, 3, 2, 0, 0, 0, 5, 0, 1, 4, 0, 2, 9, 4, 2, 0, 1, 0, 6, 0, 0, 10, 1, 1, 4, 5, 0, 0, 1, 1, 4, 0, 1, 2, 0, 7, 9, 2, 0, 0, 1, 3, 2, 5, 2, 0, 0, 0, 2, 0, 5, 0, 3, 3, 0, 0, 1, 0, 0, 6, 1, 5, 9, 4, 0, 3], \"xaxis\": \"x\", \"y\": [5, 5, 9, 5, 7, 3, 1, 1, 2, 3, 0, 1, 9, 11, 3, 1, 8, 7, 5, 2, 2, 0, 0, 8, 7, 3, 7, 7, 9, 3, 0, 15, 3, 0, 4, 1, 5, 8, 2, 3, 0, 1, 4, 6, 7, 0, 5, 2, 6, 5, 9, 2, 5, 1, 0, 8, 9, 3, 2, 3, 4, 5, 4, 11, 5, 4, 6, 5, 6, 6, 6, 8, 5, 6, 5, 0, 6, 10, 9, 4, 8, 0, 4, 0, 6, 3, 0, 7, 5, 3, 12, 9, 7, 6, 3, 6, 5, 6, 7, 5, 4, 6, 7, 9, 1, 7, 6, 8, 3, 1, 5, 1, 9, 2, 7, 5, 0, 12, 7, 9, 13, 6, 0, 6, 3, 4, 8, 8, 7, 9, 0, 6, 7, 0, 1, 3, 9, 6, 7, 6, 4, 5, 5, 3, 0, 2, 5, 6, 8, 3, 5, 4, 7, 1, 5, 6, 8, 8, 6, 6, 6, 0, 5, 6, 6, 7, 4, 3, 1, 2, 2, 6, 11, 5, 7, 2, 8, 10, 6, 6, 0, 7, 3, 1, 7, 5, 0, 8, 7, 9, 4, 0, 11, 9, 8, 4, 2, 5, 6, 3, 7, 6, 7, 5, 3, 7, 6, 1, 8, 2, 0, 1, 3, 5, 8, 9, 9, 8, 0, 10, 1, 4, 1, 2, 0, 4, 4, 6, 4, 4, 5, 3, 6, 4, 2, 0, 5, 2, 1, 1, 4, 2, 3, 1, 0, 1, 5, 5, 5, 3, 8, 6, 1, 10, 0, 4, 9, 7, 9, 8, 8, 5, 5, 0, 3, 7, 8, 9, 14, 1, 3, 1, 1, 6, 4, 5, 8, 3, 3, 8, 7, 0, 5, 1, 10, 1, 5, 4, 0, 7, 0, 7, 1, 8, 6, 5, 12, 0, 10, 1, 7, 2, 2, 0, 9, 4, 6, 5, 0, 0, 0, 2, 1, 6, 2, 6, 9, 5, 4, 3, 5, 5, 1, 9, 7, 10, 5, 7, 3, 1, 3, 11, 2, 8, 8, 9, 0, 7, 3, 6, 1, 10, 7, 2, 6, 12, 7, 0, 0, 4, 10, 2, 0, 4, 5, 4, 2, 0, 5, 3, 10, 0, 4, 4, 6, 0, 2, 4, 2, 7, 11, 5, 6, 10, 3, 0, 5, 5, 11, 6, 8, 7, 2, 3, 3, 5, 4, 3, 7, 6, 3, 3, 5, 8, 3, 7, 6, 3, 3, 0, 0, 0, 0, 1, 7, 5, 0, 1, 3, 5, 5, 11, 0, 11, 0, 5, 0, 0, 5, 4, 5, 0, 1, 0, 7, 0, 0, 8, 5, 4, 3, 2, 0, 5, 8, 4, 3, 3, 4, 8, 8, 0, 1, 9, 3, 0, 0, 13, 4, 1, 5, 1, 2, 0, 2, 4, 3, 0, 7, 6, 0, 10, 0, 2, 2, 0, 1, 2, 6, 8, 4, 15, 5, 1, 7, 6, 7, 4, 2, 7, 0, 1, 1, 6, 1, 5, 5, 7, 9, 0, 4, 4, 0, 5, 0, 6, 6, 8, 0, 3, 0, 7, 4, 6, 0, 8, 1, 2, 9, 7, 5, 0, 8, 5, 9, 10, 8, 10, 0, 0, 7, 7, 2, 8, 0, 5, 7, 2, 6, 11, 7, 7, 13, 0, 4, 1, 5, 0, 6, 7, 8, 8, 4, 9, 6, 0, 2, 6, 11, 10, 6, 9, 12, 10, 2, 1, 7, 0, 2, 0, 1, 4, 3, 3, 1, 8, 8, 1, 9, 0, 0, 0, 7, 8, 3, 4, 8, 6, 4, 11, 1, 4, 4, 1, 2, 3, 9, 10, 7, 9, 8, 6, 8, 6, 4, 4, 7, 2, 5, 7, 3, 4, 0, 7, 10, 4, 4, 0, 3, 3, 0, 1, 6, 0, 2, 0, 0, 2, 0, 11, 3, 4, 3, 5, 3, 0, 3, 5, 3, 0, 8, 4, 0, 5, 6, 10, 4, 7, 7, 4, 7, 1, 7, 2, 9, 7, 2, 0, 8, 8, 1, 1, 0, 10, 5, 12, 7, 2, 6, 2, 0, 4, 2, 9, 3, 6, 4, 7, 3, 11, 6, 5, 5, 1, 2, 2, 8, 3, 0, 1, 6, 8, 0, 8, 7, 0, 4, 9, 4, 13, 0, 1, 7, 4, 9, 3, 11, 1, 6, 4, 4, 5, 3, 0, 9, 9, 4, 1, 2, 0, 3, 0, 11, 6, 9, 0, 0, 10, 3, 3, 0, 6, 6, 9, 8, 0, 0, 5, 0, 11, 7, 0, 6, 6, 8, 5, 1, 6, 13, 0, 13, 6, 8, 0, 0, 4, 8, 2, 6, 9, 1, 5, 4, 5, 2, 10, 5, 3, 9, 4, 3, 4, 0, 5, 2, 3, 3, 3, 11, 6, 4, 0, 2, 6, 8, 9, 2, 0, 3, 8, 0, 4, 5, 3, 5, 11, 7, 7, 8, 10, 1, 5, 0, 9, 0, 2, 4, 9, 3, 9, 11, 9, 5, 4, 4, 2, 8, 4, 2, 10, 9, 5, 2, 2, 0, 7, 8, 0, 3, 9, 7, 2, 6, 0, 6, 11, 4, 0, 7, 2, 4, 7, 3, 3, 5, 3, 1, 6, 2, 3, 0, 8, 3, 1, 0, 6, 0, 0, 8, 8, 4, 3, 9, 3, 8, 8, 5, 1, 0, 6, 11, 7, 6, 4, 6, 6, 5, 6, 10, 3, 4, 3, 11, 10, 5, 6, 3, 10, 7, 5, 2, 3, 3, 1, 0, 5, 1, 8, 0, 5, 6, 0, 5, 4, 4, 0, 3, 6, 8, 8, 2, 10, 0, 12, 6, 9, 5, 4, 0, 4, 5, 1, 0, 0, 6, 8, 5, 8, 5, 4, 9, 4, 4, 0, 10, 0, 1, 0, 6, 8, 2, 6, 4, 5, 6, 3, 6, 2, 8, 7, 3, 5, 5, 2, 12, 10, 0, 6, 9, 0, 6, 8, 7, 14, 4, 7, 3, 0, 2, 4, 3, 4, 5, 8, 3, 8, 6, 5, 4, 0, 7, 4, 9, 6, 6, 3, 2, 3, 8, 0, 9, 0, 6, 0, 7, 1, 0, 3, 6, 5, 2, 8, 8, 3, 6, 0, 6, 3, 4, 5, 8, 8, 7, 6, 3, 3, 1, 0, 7, 0, 6, 2, 3, 0, 3, 6, 5, 2, 1, 0, 6, 2, 7, 5, 11, 1, 4, 7, 8, 13, 4, 9, 0, 0, 1, 0, 7, 3, 7, 2, 3, 0, 5, 7, 0, 4, 6, 0, 3, 2, 10, 5, 9, 8, 2, 0, 0, 6, 11, 4, 13, 0, 0, 7, 6, 11, 0, 10, 12, 2, 4, 0, 0, 6, 9, 5, 7, 1, 0, 8, 0, 0, 0, 1, 10, 10, 0, 0, 3, 9, 8, 12, 2, 0, 3, 13, 0, 3, 0, 5, 6, 5, 3, 6, 3, 8, 5, 10, 4, 8, 0, 12, 3, 6, 7, 9, 4, 11, 6, 12, 0, 3, 7, 5, 0, 0, 0, 6, 0, 5, 4, 6, 11, 6, 13, 0, 9, 3, 7, 1, 5, 8, 5, 9, 3, 11, 0, 0, 6, 0, 3, 1, 0, 3, 2, 9, 0, 0, 0, 4, 7, 2, 0, 5, 0, 9, 1, 5, 4, 16, 3, 5, 6, 9, 6, 5, 5, 1, 11, 4, 4, 3, 6, 9, 9, 5, 5, 7, 6, 8, 0, 5, 2, 0, 5, 6, 6, 4, 10, 5, 3, 12, 9, 0, 0, 2, 0, 3, 0, 9, 0, 7, 0, 1, 3, 4, 8, 6, 6, 6, 2, 6, 1, 5, 0, 11, 2, 0, 1, 3, 5, 1, 6, 0, 3, 8, 3, 3, 12, 1, 6, 0, 3, 0, 4, 7, 9, 1, 5, 4, 9, 4, 9, 0, 2, 4, 5, 0, 6, 4, 7, 1, 5, 0, 10, 3, 5, 6, 6, 1, 0, 1, 4, 7, 0, 2, 0, 7, 4, 2, 0, 7, 0, 1, 7, 5, 6, 2, 0, 5, 2, 1, 11, 0, 8, 5, 11, 0, 7, 6, 10, 8, 7, 3, 8, 3, 8, 7, 3, 5, 6, 8, 7, 6, 0, 9, 0, 4, 3, 1, 9, 4, 3, 3, 0, 2, 7, 1, 7, 4, 2, 0, 2, 2, 5, 11, 1, 7, 2, 0, 5, 0, 6, 3, 4, 0, 0, 5, 0, 4, 10, 7, 8, 2, 1, 3, 7, 9, 0, 5, 3, 6, 0, 7, 11, 0, 6, 6, 4, 3, 6, 8, 7, 5, 7, 0, 8, 2, 3, 9, 5, 1, 4, 9, 11, 7, 6, 1, 14, 2, 5, 0, 2, 11, 6, 3, 1, 1, 7, 0, 2, 4, 6, 8, 11, 10, 7, 0, 9, 2, 6, 12, 2, 1, 0, 1, 4, 4, 1, 9, 7, 5, 9, 12, 6, 5, 4, 0, 3, 6, 8, 2, 3, 1, 8, 7, 3, 11, 0, 6, 0, 5, 5, 3, 3, 0, 4, 8, 1, 8, 9, 5, 4, 2, 10, 5, 4, 6, 3, 2, 1, 8, 14, 1, 0, 6, 10, 3, 7, 0, 1, 2, 3, 5, 3, 8, 4, 5, 1, 0, 3, 4, 6, 1, 0, 6, 4, 2, 9, 7, 9, 6, 2, 8, 3, 4, 2, 0, 7, 4, 4, 2, 4, 6, 0, 8, 0, 3, 8, 7, 1, 0, 6, 7, 1, 4, 3, 0, 2, 9, 5, 6, 3, 3, 0, 0, 7, 6, 2, 1, 7, 8, 7, 0, 6, 3, 10, 9, 5, 9, 7, 4, 4, 5, 1, 12, 10, 10, 0, 4, 1, 0, 10, 1, 6, 2, 9, 2, 5, 0, 5, 3, 8, 10, 5, 0, 6, 2, 2, 12, 4, 4, 6, 6, 11, 5, 4, 0, 3, 0, 0, 14, 1, 8, 2, 4, 0, 8, 5, 8, 6, 7, 7, 2, 3, 11, 9, 5, 8, 0, 2, 6, 5, 6, 7, 10, 7, 0, 7, 5, 11, 2, 10, 8, 2, 5, 5, 4, 3, 0, 7, 5, 0, 0, 3, 2, 6, 3, 4, 2, 8, 5, 7, 0, 5, 5, 0, 0, 14, 0, 2, 5, 10, 0, 0, 9, 13, 4, 0, 4, 3, 6, 4, 8, 0, 0, 6, 0, 1, 7, 2, 9, 10, 16, 4, 6, 5, 6, 2, 2, 2, 9, 8, 2, 6, 5, 0, 8, 2, 13, 5, 4, 9, 3, 9, 10, 0, 8, 14, 2, 8, 11, 6, 0, 10, 4, 10, 4, 5, 0, 4, 1, 0, 0, 5, 4, 1, 1, 3, 9, 9, 3, 2, 1, 4, 9, 12, 7, 3, 5, 6, 11, 5, 3, 4, 10, 6, 6, 3, 9, 3, 8, 7, 6, 12, 6, 2, 0, 8, 9, 4, 0, 7, 13, 6, 5, 0, 7, 0, 7, 0, 7, 6, 9, 4, 0, 2, 5, 7, 4, 0, 4, 0, 2, 0, 6, 8, 4, 6, 2, 1, 1, 8, 8, 3, 1, 7, 0, 8, 7, 5, 6, 8, 7, 0, 5, 5, 8, 3, 1, 10, 6, 4, 11, 8, 3, 3, 1, 0, 5, 11, 5, 12, 4, 0, 10, 8, 6, 0, 7, 4, 0, 7, 8, 9, 2, 4, 0, 5, 6, 6, 5, 4, 0, 3, 2, 11, 0, 0, 6, 14, 4, 9, 1, 1, 1, 3, 1, 0, 3, 5, 6, 4, 4, 8, 4, 7, 1, 3, 2, 4, 0, 2, 6, 3, 5, 3, 0, 4, 3, 5, 2, 7, 1, 5, 10, 10, 8, 0, 8, 10, 0, 0, 10, 8, 3, 0, 9, 0, 0, 2, 6, 1, 8, 8, 6, 0, 5, 10, 0, 7, 4, 1, 2, 2, 1, 10, 6, 2, 0, 5, 0, 0, 0, 4, 1, 3, 8, 0, 2, 10, 3, 11, 7, 0, 5, 4, 9, 0, 6, 2, 4, 10, 0, 2, 8, 9, 6, 7, 11, 5, 1, 8, 7, 7, 0, 7, 3, 0, 3, 0, 7, 0, 0, 7, 4, 0, 2, 1, 3, 8, 10, 1, 6, 0, 4, 5, 0, 4, 3, 4, 0, 4, 10, 7, 2, 0, 6, 6, 0, 8, 4, 0, 5, 7, 2, 8, 3, 0, 8, 10, 5, 7, 5, 2, 10, 4, 4, 4, 0, 5, 1, 4, 4, 8, 5, 12, 2, 2, 1, 13, 1, 7, 0, 6, 1, 0, 5, 5, 9, 0, 0, 5, 2, 2, 4, 9, 6, 13, 2, 6, 9, 7, 9, 4, 9, 10, 8, 5, 6, 2, 9, 5, 6, 9, 2, 3, 9, 3, 10, 3, 9, 4, 6, 1, 7, 2, 3, 7, 8, 7, 10, 4, 0, 0, 0, 7, 4, 4, 0, 0, 0, 8, 3, 6, 0, 4, 2, 4, 0, 13, 7, 7, 5, 5, 0, 6, 1, 11, 8, 2, 9, 0, 0, 1, 2, 2, 5, 6, 11, 3, 4, 0, 1, 5, 8, 2, 8, 4, 0, 0, 8, 0, 0, 12, 2, 5, 12, 6, 5, 3, 5, 0, 0, 7, 0, 1, 7, 3, 5, 9, 6, 2, 8, 2, 9, 2, 6, 2, 0, 2, 6, 2, 2, 5, 12, 11, 0, 4, 0, 4, 4, 6, 7, 1, 2, 9, 6, 0, 5, 7, 5, 0, 0, 1, 1, 8, 0, 11, 8, 5, 0, 3, 1, 3, 0, 8, 1, 5, 7, 4, 4, 7, 0, 5, 9, 0, 1, 3, 7, 8, 0, 8, 8, 0, 3, 3, 0, 0, 9, 0, 10, 2, 6, 6, 0, 9, 5, 2, 0, 1, 6, 3, 8, 0, 2, 4, 3, 1, 0, 2, 12, 2, 3, 5, 6, 2, 7, 2, 3, 0, 4, 5, 13, 7, 5, 2, 0, 6, 3, 6, 1, 4, 0, 4, 3, 3, 4, 3, 9, 4, 6, 6, 4, 12, 0, 8, 6, 0, 5, 6, 0, 5, 12, 9, 8, 3, 2, 1, 1, 6, 12, 9, 10, 16, 2, 4, 0, 2, 0, 1, 5, 5, 4, 4, 0, 7, 5, 7, 4, 4, 11, 6, 5, 0, 8, 2, 12, 2, 8, 1, 4, 2, 0, 0, 1, 0, 4, 9, 4, 3, 7, 9, 10, 8, 6, 0, 6, 5, 1, 11, 4, 1, 7, 0, 10, 6, 11, 10, 9, 9, 1, 3, 1, 2, 7, 4, 7, 4, 0, 0, 5, 10, 6, 5, 2, 2, 0, 0, 6, 7, 0, 0, 3, 2, 7, 5, 6, 8, 5, 5, 1, 0, 0, 0, 8, 6, 6, 9, 3, 1, 1, 5, 3, 1, 11, 5, 8, 5, 5, 8, 4, 2, 12, 4, 3, 9, 8, 7, 0, 0, 7, 3, 7, 0, 7, 1, 11, 5, 6, 3, 4, 6, 8, 10, 1, 0, 2, 12, 11, 0, 6, 9, 7, 11, 5, 7, 3, 6, 6, 3, 9, 6, 0, 3, 10, 5, 5, 5, 0, 0, 0, 7, 1, 2, 9, 6, 6, 0, 0, 2, 2, 4, 3, 9, 9, 8, 3, 1, 3, 0, 4, 3, 5, 3, 1, 10, 10, 0, 0, 2, 5, 7, 3, 2, 8, 2, 5, 13, 2, 0, 5, 2, 9, 4, 13, 0, 7, 6, 8, 5, 0, 6, 1, 6, 7, 9, 4, 5, 3, 2, 5, 5, 4, 10, 3, 1, 3, 9, 1, 9, 5, 7, 0, 8, 6, 0, 5, 0, 5, 0, 5, 8, 7, 0, 4, 0, 1, 5, 1, 7, 12, 0, 1, 5, 6, 6, 3, 4, 9, 10, 9, 2, 3, 4, 5, 7, 2, 8, 7, 6, 13, 5, 4, 6, 5, 6, 2, 6, 1, 9, 9, 12, 1, 4, 3, 9, 5, 8, 8, 7, 0, 12, 9, 1, 6, 0, 10, 2, 5, 11, 4, 9, 5, 4, 3, 6, 6, 0, 5, 8, 8, 0, 9, 0, 4, 1, 2, 0, 9, 4, 2, 7, 0, 5, 2, 0, 8, 8, 0, 3, 7, 10, 0, 1, 4, 10, 7, 6, 8, 2, 1, 3, 3, 4, 0, 3, 3, 1, 12, 7, 1, 1, 0, 7, 0, 6, 0, 7, 4, 1, 5, 5, 2, 5, 3, 10, 10, 8, 10, 5, 0, 6, 0, 0, 0, 9, 0, 0, 3, 8, 5, 5, 0, 7, 10, 8, 0, 0, 6, 3, 7, 0, 6, 9, 3, 1, 5, 0, 11, 0, 4, 5, 2, 10, 2, 1, 3, 1, 6, 0, 0, 0, 2, 6, 6, 2, 7, 6, 7, 4, 8, 0, 0, 3, 8, 0, 1, 3, 8, 3, 0, 4, 3, 0, 12, 6, 1, 1, 5, 8, 4, 0, 3, 3, 8, 3, 5, 6, 0, 5, 11, 0, 8, 5, 2, 0, 2, 2, 6, 0, 0, 4, 5, 7, 5, 6, 0, 3], \"yaxis\": \"y\"}, {\"marker\": {\"color\": [0, 0, 1, 1, 0, 0, 1, 1, 2, 0, 1, 2, 0, 1, 1, 2, 0, 1, 1, 1, 0, 0, 0, 0, 2, 1, 2, 1, 1, 2, 0, 0, 0, 1, 0, 1, 0, 1, 0, 1, 0, 1, 0, 1, 1, 1, 0, 2, 0, 1, 1, 1, 0, 0, 2, 2, 0, 1, 1, 1, 2, 0, 0, 0, 1, 1, 0, 0, 0, 0, 1, 1, 0, 1, 0, 0, 2, 0, 1, 0, 0, 2, 1, 2, 0, 1, 0, 0, 1, 0, 1, 0, 2, 0, 2, 2, 0, 0, 1, 0, 1, 0, 1, 1, 1, 1, 1, 0, 2, 0, 1, 2, 1, 1, 0, 0, 1, 2, 1, 1, 1, 1, 1, 0, 0, 1, 1, 2, 0, 2, 2, 2, 0, 1, 0, 1, 0, 0, 0, 1, 2, 2, 0, 2, 0, 1, 1, 0, 0, 0, 2, 1, 0, 1, 0, 1, 1, 0, 0, 2, 0, 2, 2, 2, 0, 1, 0, 1, 0, 1, 2, 0, 0, 1, 0, 2, 2, 1, 1, 0, 1, 1, 0, 0, 0, 2, 1, 2, 2, 0, 2, 0, 1, 0, 1, 0, 1, 0, 0, 0, 1, 0, 1, 1, 0, 1, 1, 0, 1, 0, 2, 0, 0, 2, 2, 0, 1, 0, 2, 0, 1, 0, 1, 0, 2, 0, 0, 1, 2, 0, 1, 0, 2, 2, 0, 2, 0, 0, 0, 1, 1, 0, 1, 0, 1, 1, 0, 2, 0, 0, 1, 0, 1, 1, 1, 1, 2, 0, 2, 1, 2, 0, 1, 0, 2, 1, 2, 1, 0, 1, 0, 0, 1, 1, 2, 1, 1, 0, 2, 0, 1, 1, 2, 1, 2, 2, 1, 1, 0, 0, 0, 0, 1, 0, 2, 1, 0, 1, 1, 2, 0, 2, 1, 2, 1, 0, 1, 0, 2, 1, 1, 0, 1, 0, 2, 1, 2, 0, 1, 0, 1, 1, 1, 1, 1, 1, 1, 1, 0, 1, 0, 1, 2, 2, 0, 1, 1, 0, 1, 0, 2, 1, 2, 2, 0, 0, 1, 1, 0, 0, 1, 1, 0, 1, 0, 2, 0, 0, 1, 0, 2, 0, 2, 1, 0, 0, 1, 1, 2, 0, 0, 1, 0, 0, 0, 0, 2, 2, 0, 1, 1, 0, 1, 1, 0, 0, 0, 2, 1, 0, 1, 2, 2, 1, 2, 0, 0, 1, 1, 0, 2, 1, 2, 2, 1, 2, 0, 2, 2, 0, 0, 0, 2, 1, 1, 0, 1, 1, 0, 0, 2, 1, 0, 0, 1, 0, 1, 0, 1, 0, 1, 0, 0, 1, 0, 0, 0, 0, 2, 0, 1, 0, 1, 0, 0, 0, 0, 1, 0, 0, 0, 1, 2, 1, 0, 0, 1, 1, 0, 0, 2, 1, 2, 2, 0, 2, 0, 0, 2, 0, 0, 2, 1, 2, 0, 1, 1, 0, 0, 2, 1, 0, 1, 2, 0, 1, 1, 0, 2, 1, 0, 1, 1, 1, 2, 0, 2, 0, 1, 2, 2, 0, 1, 0, 0, 0, 2, 1, 0, 1, 2, 1, 1, 2, 2, 2, 0, 1, 1, 0, 0, 2, 0, 1, 1, 1, 0, 2, 0, 0, 0, 0, 0, 1, 0, 0, 1, 0, 1, 2, 0, 1, 0, 0, 1, 1, 1, 2, 1, 1, 2, 2, 0, 0, 1, 2, 1, 1, 1, 1, 2, 1, 0, 0, 0, 0, 0, 2, 0, 1, 1, 2, 1, 1, 0, 0, 0, 0, 0, 0, 0, 2, 1, 2, 1, 0, 1, 0, 0, 2, 2, 2, 1, 0, 0, 1, 0, 1, 0, 0, 1, 2, 1, 1, 1, 1, 0, 2, 0, 1, 1, 1, 1, 0, 1, 1, 0, 2, 2, 0, 0, 2, 2, 2, 0, 1, 0, 1, 0, 0, 0, 0, 1, 0, 0, 1, 1, 1, 0, 2, 2, 0, 2, 2, 0, 0, 0, 1, 0, 2, 0, 0, 0, 1, 0, 0, 1, 2, 2, 1, 2, 2, 0, 1, 1, 1, 0, 0, 0, 2, 1, 1, 1, 2, 1, 0, 0, 1, 1, 1, 0, 0, 1, 0, 0, 0, 2, 2, 0, 0, 1, 1, 1, 2, 2, 1, 0, 1, 1, 1, 1, 0, 0, 1, 1, 2, 2, 0, 2, 1, 0, 0, 2, 1, 0, 1, 1, 1, 0, 1, 0, 0, 1, 0, 0, 1, 2, 0, 1, 0, 0, 0, 2, 1, 1, 1, 2, 0, 0, 1, 0, 0, 0, 1, 2, 0, 1, 0, 1, 1, 2, 0, 2, 0, 2, 0, 2, 0, 2, 1, 1, 2, 2, 0, 2, 0, 0, 1, 0, 0, 0, 0, 1, 0, 1, 1, 2, 1, 2, 2, 2, 2, 0, 0, 0, 1, 0, 1, 0, 0, 0, 0, 0, 2, 0, 2, 1, 2, 2, 1, 0, 0, 1, 1, 1, 1, 0, 0, 0, 1, 0, 0, 0, 0, 2, 0, 0, 1, 1, 2, 0, 1, 0, 1, 1, 2, 0, 1, 1, 1, 0, 1, 2, 0, 1, 1, 2, 0, 0, 1, 1, 0, 0, 1, 0, 2, 1, 1, 0, 0, 2, 0, 0, 1, 1, 0, 1, 0, 1, 2, 1, 1, 1, 0, 1, 1, 0, 0, 0, 2, 2, 0, 2, 0, 2, 0, 1, 1, 1, 2, 0, 0, 1, 2, 0, 2, 2, 0, 0, 2, 0, 1, 1, 0, 1, 1, 1, 1, 0, 1, 0, 1, 0, 0, 2, 1, 1, 0, 2, 2, 0, 1, 1, 0, 0, 1, 0, 1, 1, 0, 0, 1, 0, 0, 0, 1, 0, 0, 0, 0, 0, 1, 0, 2, 1, 2, 1, 0, 0, 0, 1, 2, 2, 1, 0, 1, 0, 2, 0, 0, 0, 0, 1, 0, 1, 2, 0, 1, 1, 0, 2, 1, 1, 1, 1, 1, 0, 1, 1, 0, 2, 1, 0, 1, 0, 0, 2, 1, 2, 1, 0, 0, 0, 1, 0, 0, 0, 1, 1, 0, 0, 2, 0, 1, 0, 0, 1, 2, 1, 0, 0, 1, 2, 1, 0, 2, 1, 2, 1, 0, 2, 1, 0, 0, 0, 1, 0, 0, 0, 0, 1, 0, 2, 0, 0, 1, 2, 1, 1, 1, 0, 1, 0, 0, 1, 0, 0, 2, 2, 1, 0, 0, 1, 1, 0, 0, 1, 0, 0, 0, 1, 0, 1, 2, 0, 1, 1, 0, 2, 0, 2, 2, 0, 2, 0, 1, 0, 1, 2, 0, 1, 0, 1, 1, 2, 0, 1, 0, 2, 1, 1, 0, 2, 0, 1, 0, 2, 1, 1, 2, 0, 0, 1, 0, 0, 0, 0, 1, 1, 2, 1, 0, 0, 1, 1, 0, 0, 0, 1, 1, 0, 0, 1, 2, 0, 1, 1, 0, 2, 0, 0, 1, 1, 0, 0, 1, 0, 2, 0, 0, 0, 1, 1, 0, 1, 1, 1, 1, 1, 1, 1, 1, 1, 1, 0, 1, 1, 0, 1, 2, 0, 1, 2, 2, 2, 1, 1, 1, 0, 0, 2, 2, 0, 0, 0, 1, 0, 0, 0, 1, 1, 2, 1, 0, 2, 1, 1, 0, 1, 1, 0, 2, 0, 0, 1, 0, 1, 1, 0, 1, 0, 0, 0, 1, 1, 0, 1, 0, 0, 0, 0, 0, 0, 0, 0, 0, 0, 1, 0, 1, 2, 0, 0, 2, 1, 0, 1, 0, 1, 0, 2, 2, 0, 1, 1, 1, 0, 1, 0, 0, 1, 1, 1, 1, 0, 2, 1, 1, 2, 1, 0, 1, 1, 1, 0, 0, 0, 0, 1, 1, 2, 2, 1, 0, 1, 1, 2, 1, 0, 0, 2, 1, 1, 1, 1, 1, 0, 0, 1, 0, 2, 2, 0, 0, 1, 0, 0, 0, 0, 1, 1, 0, 0, 1, 0, 2, 0, 0, 0, 0, 1, 1, 1, 0, 2, 1, 0, 0, 0, 2, 0, 2, 1, 0, 0, 0, 1, 2, 0, 2, 2, 1, 0, 0, 2, 0, 2, 1, 2, 2, 2, 1, 0, 1, 1, 1, 0, 1, 0, 1, 2, 0, 0, 2, 1, 2, 0, 2, 0, 0, 0, 1, 1, 0, 0, 1, 1, 1, 0, 0, 0, 0, 0, 1, 0, 0, 0, 0, 1, 1, 1, 0, 0, 2, 1, 1, 1, 0, 1, 1, 0, 2, 2, 2, 2, 0, 1, 0, 1, 0, 0, 0, 0, 1, 2, 1, 0, 1, 1, 1, 0, 0, 1, 0, 1, 1, 2, 0, 1, 2, 0, 1, 0, 2, 0, 0, 1, 1, 0, 2, 1, 2, 1, 1, 1, 1, 2, 1, 0, 1, 0, 1, 2, 0, 2, 1, 0, 0, 1, 0, 2, 2, 2, 0, 0, 1, 0, 1, 0, 0, 2, 0, 1, 1, 2, 0, 0, 2, 2, 2, 1, 1, 1, 0, 1, 0, 0, 0, 2, 0, 1, 0, 1, 0, 0, 1, 0, 1, 2, 0, 2, 1, 2, 1, 0, 1, 0, 1, 0, 0, 2, 0, 1, 1, 1, 2, 0, 2, 1, 0, 1, 1, 1, 0, 1, 2, 0, 1, 1, 0, 1, 0, 2, 2, 2, 0, 0, 2, 1, 1, 0, 1, 0, 1, 0, 0, 1, 1, 0, 0, 0, 0, 0, 0, 2, 1, 0, 2, 1, 0, 0, 0, 1, 0, 1, 0, 0, 1, 0, 0, 2, 0, 2, 0, 2, 0, 0, 1, 0, 0, 2, 1, 1, 0, 0, 1, 1, 1, 2, 2, 0, 2, 0, 0, 0, 0, 0, 1, 0, 1, 0, 1, 0, 0, 0, 0, 0, 1, 1, 0, 0, 0, 0, 2, 2, 1, 0, 1, 0, 2, 2, 0, 1, 2, 0, 2, 2, 0, 0, 0, 1, 1, 1, 0, 0, 1, 0, 0, 2, 2, 0, 1, 0, 0, 0, 1, 2, 1, 0, 0, 2, 1, 0, 0, 1, 2, 0, 2, 0, 2, 1, 1, 0, 1, 1, 1, 1, 1, 2, 2, 0, 0, 2, 1, 0, 0, 0, 0, 0, 0, 0, 2, 0, 1, 1, 0, 0, 0, 2, 0, 2, 2, 0, 1, 2, 0, 0, 1, 0, 1, 1, 0, 0, 1, 0, 0, 0, 0, 1, 1, 2, 1, 0, 2, 0, 0, 1, 1, 2, 1, 0, 1, 0, 1, 2, 0, 0, 1, 2, 2, 0, 0, 2, 0, 2, 1, 1, 0, 0, 0, 1, 2, 0, 1, 0, 0, 0, 0, 0, 0, 1, 0, 2, 1, 0, 2, 0, 2, 0, 1, 1, 2, 1, 1, 1, 1, 2, 0, 1, 0, 1, 1, 1, 2, 1, 2, 1, 0, 0, 1, 0, 2, 0, 1, 1, 1, 0, 1, 0, 0, 1, 2, 0, 1, 0, 1, 2, 1, 0, 2, 0, 1, 0, 1, 0, 2, 1, 1, 0, 1, 1, 1, 0, 0, 1, 2, 1, 0, 1, 2, 2, 0, 1, 0, 0, 2, 0, 0, 1, 1, 2, 1, 2, 0, 2, 0, 1, 2, 1, 1, 0, 1, 1, 2, 1, 0, 1, 0, 1, 1, 1, 0, 1, 1, 1, 2, 1, 1, 1, 2, 1, 2, 1, 0, 0, 0, 2, 1, 1, 0, 1, 0, 0, 1, 1, 0, 1, 1, 2, 1, 0, 0, 2, 1, 2, 0, 0, 1, 1, 1, 2, 0, 0, 1, 2, 2, 2, 1, 0, 1, 2, 2, 0, 1, 0, 0, 1, 0, 0, 1, 1, 2, 1, 0, 0, 2, 1, 0, 0, 1, 0, 1, 0, 2, 0, 1, 1, 1, 0, 0, 0, 2, 0, 0, 0, 1, 2, 0, 2, 1, 2, 0, 1, 2, 1, 0, 2, 1, 1, 2, 0, 1, 0, 1, 0, 0, 1, 1, 1, 1, 1, 0, 2, 2, 2, 0, 0, 1, 2, 2, 1, 1, 1, 1, 1, 0, 0, 0, 2, 0, 0, 2, 1, 0, 1, 2, 0, 2, 1, 0, 2, 0, 2, 2, 0, 0, 1, 1, 1, 0, 0, 0, 2, 1, 0, 0, 1, 1, 1, 1, 1, 0, 0, 1, 0, 1, 1, 2, 0, 1, 0, 0, 1, 0, 0, 1, 2, 2, 1, 0, 0, 1, 2, 2, 0, 1, 0, 1, 0, 0, 1, 1, 0, 0, 1, 0, 1, 0, 0, 2, 0, 0, 2, 2, 2, 2, 0, 0, 0, 2, 1, 0, 1, 2, 0, 1, 2, 0, 0, 2, 0, 0, 0, 1, 1, 0, 0, 1, 0, 2, 1, 1, 0, 1, 1, 1, 1, 0, 2, 1, 1, 0, 1, 2, 1, 2, 0, 2, 1, 2, 2, 1, 0, 0, 1, 0, 0, 0, 0, 1, 0, 0, 0, 0, 1, 0, 2, 0, 0, 2, 0, 1, 1, 1, 0, 0, 2, 1, 1, 1, 1, 1, 0, 1, 1, 0, 0, 0, 0, 2, 0, 2, 2, 0, 1, 1, 2, 0, 0, 1, 1, 0, 1, 1, 0, 1, 0, 1, 1, 2, 0, 0, 1, 1, 0, 1, 0, 1, 0, 1, 2, 1, 1, 1, 1, 0, 2, 0, 0, 1, 1, 1, 1, 2, 1, 0, 0, 1, 0, 2, 1, 0, 0, 0, 1, 1, 1, 1, 0, 2, 1, 0, 1, 1, 1, 0, 0, 1, 0, 0, 1, 1, 0, 1, 1, 0, 1, 1, 0, 2, 0, 0, 1, 0, 1, 0, 0, 2, 1, 2, 2, 1, 0, 1, 0, 0, 1, 0, 0, 1, 1, 1, 0, 1, 1, 2, 0, 2, 1, 2, 0, 0, 2, 1, 2, 1, 2, 0, 0, 2, 1, 2, 0, 2, 2, 2, 0, 0, 0, 2, 1, 0, 0, 0, 0, 0, 0, 2, 0, 0, 1, 0, 2, 1, 0, 2, 0, 2, 0, 2, 0, 1, 0, 2, 2, 1, 1, 1, 0, 1, 1, 0, 1, 0, 1, 1, 0, 0, 1, 1, 2, 1, 0, 0, 0, 0, 2, 1, 1, 2, 0, 1, 1, 1, 1, 1, 2, 1, 0, 0, 2, 1, 0, 2, 2, 0, 1, 1, 0, 2, 1, 0, 2, 1, 0, 1, 1, 0, 0, 2, 0, 1, 2, 1, 0, 1, 2, 0, 0, 0, 0, 0, 1, 0, 0, 2, 2, 0, 0, 0, 2, 0, 1, 1, 1, 0, 0, 0, 2, 1, 1, 0, 2, 0, 1, 0, 0, 1, 1, 2, 0, 0, 1, 1, 2, 0, 2, 0, 1, 2, 0, 0, 1, 2, 1, 1, 0, 0, 2, 0, 1, 1, 2, 2, 1, 0, 0, 0, 0, 0, 0, 0, 0, 0, 0, 1, 0, 0, 1, 1, 0, 1, 0, 0, 1, 1, 1, 0, 1, 1, 1, 1, 2, 2, 1, 0, 0, 0, 1, 0, 0, 1, 0, 0, 0, 0, 1, 1, 1, 0, 0, 0, 0, 1, 0, 1, 1, 1, 1, 2, 1, 2, 0, 1, 1, 0, 2, 0, 0, 1, 1, 0, 2, 1, 2, 2, 2, 1, 0, 2, 0, 1, 1, 0, 0, 0, 1, 2, 0, 2, 0, 1, 0, 0, 0, 0, 2, 2, 1, 1, 0, 0, 1, 2, 0, 2, 1, 1, 1, 0, 1, 0, 1, 1, 1, 2, 1, 0, 1, 2, 0, 0, 0, 0, 0, 0, 1, 0, 0, 2, 0, 0, 2, 0, 2, 1, 0, 1, 1, 0, 0, 1, 0, 0, 0, 0, 2, 1, 1, 2, 1, 0, 1, 2, 0, 0, 0, 1, 1, 1, 2, 0, 1, 0, 1, 0, 0, 0, 2, 0, 1, 2, 0, 0, 1, 0, 1, 0, 2, 1, 0, 2, 1, 0, 0, 1, 1, 1, 0, 1, 0, 1, 2, 2, 2, 0, 2, 0, 1, 2, 0, 0, 2, 0, 1, 0, 1, 0, 0, 1, 1, 1, 0, 2, 0, 0, 2, 2, 0, 1, 1, 2, 0, 0, 0, 0, 0, 2, 2, 0, 2, 1, 0, 1, 0, 1, 0, 1, 0, 0, 1, 2, 1, 1, 0, 1, 1, 1, 1, 2, 2, 0, 1, 2, 2, 1, 0, 2, 2, 0, 1, 2, 0, 0, 0, 0, 2, 1, 2, 2, 1, 1, 1, 0, 0, 0, 2, 1, 1, 0, 2, 0, 2, 1, 1, 0, 0, 1, 1, 0, 0, 1, 2, 2, 0, 2, 1, 0, 2, 0, 2, 1, 1, 1, 0, 0, 2, 0, 1, 0, 0, 0, 1, 2, 0, 0, 0, 1, 1, 1, 0, 0, 1, 0, 0, 0, 1, 0, 1, 0, 0, 0, 0, 1, 0, 0, 2, 1, 2, 0, 0, 0, 2, 0, 1, 1, 1, 2, 0]}, \"mode\": \"markers\", \"type\": \"scatter\", \"x\": [2, 2, 0, 0, 3, 0, 0, 2, 0, 5, 0, 6, 2, 7, 0, 3, 9, 4, 2, 5, 3, 0, 2, 0, 4, 4, 9, 5, 2, 12, 0, 4, 1, 2, 5, 3, 4, 6, 1, 0, 0, 0, 0, 4, 5, 0, 4, 5, 2, 3, 0, 0, 0, 0, 0, 3, 2, 5, 2, 0, 2, 3, 0, 4, 0, 0, 2, 3, 4, 5, 3, 4, 5, 5, 3, 0, 2, 3, 3, 2, 4, 7, 0, 1, 2, 7, 0, 3, 1, 0, 6, 3, 0, 3, 3, 3, 2, 2, 12, 0, 1, 3, 1, 0, 3, 3, 4, 5, 5, 0, 0, 3, 3, 3, 0, 3, 1, 2, 6, 6, 2, 0, 4, 1, 5, 3, 3, 7, 3, 0, 3, 3, 0, 0, 0, 3, 0, 1, 3, 6, 5, 5, 1, 0, 0, 2, 3, 10, 2, 6, 1, 3, 2, 3, 3, 2, 0, 4, 5, 1, 0, 0, 5, 2, 1, 1, 1, 12, 0, 0, 6, 1, 4, 5, 2, 5, 5, 3, 2, 3, 5, 4, 0, 2, 1, 4, 0, 7, 12, 5, 4, 0, 0, 1, 3, 2, 0, 4, 3, 4, 4, 0, 7, 4, 3, 5, 0, 0, 1, 3, 0, 2, 2, 3, 1, 0, 2, 4, 2, 6, 0, 4, 3, 2, 8, 2, 4, 3, 0, 2, 0, 0, 0, 4, 1, 0, 1, 0, 4, 0, 0, 0, 5, 0, 1, 0, 6, 5, 1, 3, 3, 3, 5, 2, 4, 10, 0, 0, 0, 0, 3, 3, 4, 0, 0, 7, 3, 1, 2, 0, 0, 0, 0, 5, 4, 6, 6, 1, 3, 1, 11, 1, 1, 3, 3, 7, 1, 2, 0, 3, 3, 5, 0, 3, 0, 0, 1, 5, 4, 0, 3, 0, 0, 0, 0, 0, 5, 0, 2, 6, 6, 3, 1, 1, 5, 0, 0, 2, 0, 0, 5, 2, 8, 5, 0, 6, 1, 0, 1, 0, 3, 3, 2, 0, 3, 0, 4, 1, 4, 5, 1, 2, 10, 3, 2, 4, 11, 0, 0, 4, 4, 15, 0, 2, 4, 2, 4, 1, 1, 4, 0, 0, 1, 0, 5, 0, 1, 0, 2, 0, 4, 6, 1, 0, 0, 0, 4, 0, 2, 1, 4, 0, 2, 1, 0, 1, 2, 5, 0, 3, 2, 2, 0, 3, 0, 4, 3, 1, 3, 0, 1, 0, 3, 2, 3, 2, 0, 0, 8, 4, 0, 0, 0, 3, 3, 2, 2, 1, 5, 3, 5, 2, 1, 0, 2, 5, 8, 5, 3, 1, 4, 4, 0, 8, 4, 0, 5, 0, 9, 2, 0, 0, 3, 2, 5, 0, 0, 4, 4, 5, 0, 0, 0, 2, 0, 1, 0, 1, 3, 0, 0, 1, 0, 4, 1, 5, 1, 2, 5, 2, 2, 5, 0, 4, 4, 3, 2, 1, 2, 3, 2, 3, 1, 4, 4, 1, 8, 5, 4, 1, 5, 5, 0, 1, 1, 1, 0, 2, 0, 3, 0, 0, 0, 5, 1, 5, 2, 6, 4, 6, 1, 0, 1, 4, 1, 2, 3, 0, 0, 3, 1, 8, 0, 4, 1, 6, 0, 0, 2, 5, 1, 3, 7, 4, 1, 5, 4, 0, 0, 1, 2, 2, 0, 7, 0, 0, 1, 7, 0, 3, 2, 3, 1, 1, 6, 3, 0, 6, 2, 0, 0, 0, 0, 4, 0, 6, 2, 8, 2, 0, 0, 0, 5, 3, 1, 3, 4, 4, 0, 2, 3, 7, 5, 4, 0, 3, 2, 4, 0, 0, 6, 4, 0, 0, 4, 1, 4, 0, 0, 2, 2, 4, 0, 4, 0, 1, 0, 0, 2, 4, 0, 0, 1, 1, 3, 4, 0, 0, 0, 5, 4, 10, 0, 9, 3, 0, 6, 2, 1, 0, 2, 6, 1, 2, 4, 1, 1, 0, 1, 2, 3, 2, 2, 5, 2, 4, 4, 0, 4, 1, 0, 3, 2, 3, 0, 1, 5, 3, 0, 0, 1, 13, 0, 1, 2, 8, 0, 4, 0, 3, 0, 0, 0, 6, 0, 2, 3, 0, 3, 4, 3, 3, 1, 3, 12, 1, 1, 5, 1, 0, 1, 0, 1, 2, 3, 3, 1, 4, 1, 1, 3, 2, 4, 0, 2, 10, 6, 0, 3, 1, 0, 0, 3, 2, 0, 0, 0, 4, 5, 1, 1, 2, 2, 3, 5, 0, 1, 6, 0, 4, 3, 0, 0, 3, 5, 1, 7, 3, 3, 0, 4, 0, 2, 0, 1, 0, 2, 0, 6, 3, 2, 3, 5, 2, 16, 1, 6, 4, 3, 0, 1, 18, 2, 2, 3, 0, 0, 1, 1, 0, 2, 0, 5, 1, 0, 3, 1, 1, 6, 2, 0, 5, 2, 4, 1, 0, 1, 2, 4, 4, 5, 2, 5, 6, 0, 0, 0, 0, 5, 1, 2, 1, 2, 3, 3, 4, 2, 0, 1, 2, 2, 4, 0, 4, 4, 3, 0, 0, 4, 3, 2, 3, 0, 2, 0, 10, 1, 4, 3, 0, 5, 3, 3, 2, 3, 0, 10, 2, 3, 1, 2, 2, 2, 0, 0, 8, 0, 2, 3, 3, 9, 1, 4, 5, 2, 0, 3, 2, 1, 13, 1, 1, 3, 0, 0, 1, 0, 0, 0, 8, 0, 1, 7, 0, 0, 3, 3, 0, 3, 5, 2, 1, 0, 4, 1, 6, 6, 3, 0, 5, 3, 4, 2, 2, 0, 0, 4, 5, 3, 5, 0, 0, 2, 7, 0, 5, 4, 2, 0, 1, 0, 3, 0, 0, 3, 0, 2, 1, 2, 3, 4, 4, 0, 1, 3, 7, 0, 3, 1, 5, 0, 3, 5, 5, 0, 0, 2, 3, 2, 3, 2, 4, 0, 1, 2, 1, 0, 2, 1, 2, 2, 0, 1, 3, 1, 6, 1, 0, 0, 2, 1, 0, 2, 2, 1, 0, 0, 4, 5, 0, 10, 3, 1, 1, 1, 1, 1, 0, 7, 0, 3, 1, 3, 2, 0, 0, 0, 1, 0, 4, 2, 0, 2, 0, 2, 1, 4, 0, 0, 4, 1, 0, 6, 5, 0, 0, 0, 2, 0, 0, 0, 0, 0, 2, 2, 1, 0, 0, 2, 0, 3, 2, 1, 0, 2, 0, 1, 7, 0, 3, 0, 2, 0, 1, 1, 0, 0, 8, 4, 1, 3, 1, 1, 2, 0, 2, 0, 0, 1, 0, 2, 3, 1, 0, 0, 0, 5, 3, 0, 2, 7, 0, 3, 0, 1, 2, 1, 0, 8, 1, 0, 0, 0, 3, 2, 2, 7, 0, 4, 0, 0, 1, 0, 3, 3, 2, 0, 0, 2, 5, 0, 2, 0, 2, 3, 0, 4, 6, 8, 3, 2, 2, 0, 4, 0, 5, 3, 1, 7, 4, 0, 1, 2, 0, 5, 2, 0, 1, 0, 5, 0, 0, 3, 3, 2, 2, 0, 6, 0, 0, 0, 0, 6, 2, 2, 0, 4, 2, 4, 0, 1, 0, 4, 10, 4, 6, 3, 6, 0, 0, 0, 0, 0, 6, 7, 3, 3, 1, 0, 3, 0, 5, 2, 2, 0, 2, 2, 5, 3, 6, 5, 3, 4, 0, 3, 0, 4, 1, 2, 5, 2, 2, 1, 1, 2, 0, 0, 1, 2, 2, 0, 4, 2, 1, 1, 0, 9, 4, 3, 0, 2, 4, 0, 0, 0, 8, 2, 4, 0, 3, 1, 6, 0, 0, 0, 0, 4, 3, 5, 2, 0, 0, 1, 4, 5, 2, 2, 0, 3, 2, 2, 3, 1, 0, 2, 3, 5, 0, 0, 1, 0, 0, 4, 11, 0, 0, 9, 0, 0, 2, 0, 2, 19, 0, 4, 11, 2, 1, 1, 4, 2, 6, 2, 2, 2, 0, 0, 3, 0, 2, 0, 0, 3, 2, 4, 0, 0, 3, 3, 3, 1, 2, 0, 0, 2, 5, 2, 2, 0, 2, 0, 7, 2, 0, 0, 2, 2, 2, 4, 0, 3, 10, 0, 3, 3, 0, 7, 9, 3, 3, 1, 1, 5, 0, 0, 0, 0, 0, 4, 11, 5, 0, 3, 2, 5, 1, 2, 3, 1, 5, 3, 0, 0, 0, 0, 2, 2, 4, 1, 0, 0, 3, 4, 0, 2, 3, 0, 7, 0, 1, 5, 2, 1, 1, 4, 4, 6, 0, 6, 0, 3, 5, 2, 10, 2, 4, 3, 1, 0, 1, 2, 4, 4, 0, 0, 0, 0, 0, 3, 2, 3, 2, 3, 1, 4, 1, 2, 3, 2, 3, 3, 0, 4, 1, 5, 2, 4, 0, 0, 0, 3, 0, 1, 0, 4, 3, 10, 4, 4, 1, 0, 0, 5, 5, 0, 0, 3, 2, 3, 3, 5, 5, 5, 4, 11, 2, 3, 0, 3, 4, 2, 0, 3, 0, 2, 7, 1, 11, 0, 1, 4, 1, 3, 5, 2, 0, 0, 0, 3, 0, 0, 4, 0, 0, 2, 1, 2, 1, 0, 1, 4, 5, 3, 0, 0, 5, 3, 0, 5, 3, 2, 3, 4, 0, 2, 7, 0, 0, 0, 0, 0, 4, 1, 0, 0, 2, 3, 0, 2, 3, 3, 2, 3, 2, 1, 0, 4, 1, 0, 3, 0, 2, 4, 3, 1, 3, 0, 7, 3, 3, 2, 0, 3, 3, 0, 6, 4, 1, 1, 0, 1, 4, 4, 1, 0, 1, 3, 3, 0, 2, 1, 3, 0, 1, 0, 0, 2, 0, 0, 4, 13, 2, 3, 7, 9, 3, 3, 0, 0, 2, 3, 0, 1, 0, 5, 4, 1, 0, 0, 0, 4, 0, 2, 3, 3, 0, 3, 0, 0, 3, 5, 0, 2, 13, 2, 3, 1, 1, 5, 0, 0, 5, 0, 0, 4, 0, 5, 3, 0, 3, 5, 3, 1, 3, 0, 0, 3, 0, 4, 0, 4, 4, 5, 2, 1, 2, 4, 0, 2, 6, 3, 0, 0, 1, 0, 1, 0, 0, 5, 1, 6, 0, 2, 0, 0, 5, 4, 5, 2, 4, 0, 3, 4, 0, 7, 3, 0, 2, 10, 0, 1, 1, 14, 0, 0, 3, 2, 4, 0, 2, 2, 7, 1, 8, 1, 1, 3, 0, 0, 2, 4, 10, 1, 5, 0, 0, 1, 1, 3, 0, 8, 1, 3, 3, 0, 1, 0, 1, 1, 4, 1, 4, 1, 5, 5, 4, 3, 6, 13, 3, 2, 7, 5, 0, 2, 2, 0, 0, 4, 0, 0, 0, 1, 2, 0, 6, 0, 2, 0, 0, 2, 4, 4, 2, 3, 1, 3, 0, 0, 5, 2, 11, 3, 0, 0, 13, 2, 1, 0, 1, 7, 3, 0, 0, 6, 8, 0, 4, 0, 2, 3, 0, 3, 7, 5, 3, 1, 3, 3, 0, 2, 3, 3, 3, 9, 4, 0, 3, 2, 5, 7, 0, 0, 0, 2, 0, 0, 0, 4, 3, 2, 3, 0, 0, 0, 4, 2, 0, 0, 0, 0, 4, 1, 1, 0, 2, 4, 3, 1, 0, 2, 0, 0, 2, 0, 6, 4, 0, 5, 5, 5, 4, 4, 4, 0, 2, 4, 2, 11, 4, 3, 1, 0, 10, 2, 0, 3, 0, 1, 1, 1, 0, 0, 0, 1, 5, 1, 0, 5, 0, 3, 8, 2, 0, 4, 0, 0, 0, 0, 3, 1, 2, 0, 1, 0, 2, 3, 9, 1, 2, 4, 3, 1, 5, 3, 0, 2, 0, 3, 1, 0, 2, 1, 0, 3, 0, 4, 0, 1, 5, 0, 5, 0, 2, 7, 0, 4, 0, 1, 3, 2, 8, 4, 3, 0, 4, 2, 0, 3, 5, 4, 6, 0, 4, 1, 0, 4, 0, 0, 0, 0, 2, 9, 0, 4, 3, 0, 3, 0, 0, 7, 3, 2, 0, 6, 9, 2, 4, 2, 4, 2, 0, 0, 3, 4, 4, 9, 3, 0, 2, 2, 0, 0, 0, 5, 5, 2, 0, 0, 0, 1, 0, 0, 0, 0, 0, 0, 2, 0, 0, 0, 0, 5, 2, 4, 5, 4, 0, 0, 0, 2, 0, 4, 0, 2, 0, 4, 0, 2, 5, 2, 4, 5, 0, 2, 0, 0, 0, 0, 0, 6, 0, 1, 3, 0, 6, 4, 10, 0, 2, 0, 2, 0, 0, 3, 6, 0, 0, 1, 3, 3, 2, 10, 5, 0, 2, 4, 7, 0, 1, 1, 5, 0, 0, 0, 1, 0, 0, 0, 0, 2, 3, 4, 2, 4, 3, 1, 1, 0, 9, 0, 1, 1, 3, 0, 1, 4, 4, 11, 0, 3, 3, 5, 5, 4, 3, 0, 0, 2, 3, 0, 4, 0, 3, 0, 5, 0, 2, 0, 1, 4, 0, 0, 0, 3, 0, 1, 8, 14, 4, 0, 1, 0, 0, 4, 0, 1, 0, 4, 0, 1, 3, 4, 0, 1, 0, 2, 3, 0, 1, 0, 0, 4, 0, 1, 0, 1, 7, 0, 5, 0, 3, 4, 0, 3, 1, 4, 1, 2, 2, 0, 3, 3, 5, 1, 1, 0, 0, 0, 4, 4, 1, 2, 0, 0, 2, 0, 0, 3, 2, 0, 3, 0, 1, 0, 4, 0, 0, 3, 4, 1, 3, 0, 7, 0, 1, 2, 1, 0, 7, 2, 2, 0, 3, 2, 1, 3, 2, 3, 4, 2, 0, 0, 0, 0, 1, 8, 0, 3, 4, 4, 2, 2, 1, 8, 1, 4, 2, 4, 4, 2, 2, 4, 0, 1, 2, 0, 0, 1, 0, 0, 2, 3, 3, 3, 0, 5, 4, 1, 4, 0, 3, 0, 1, 1, 0, 5, 4, 0, 1, 0, 2, 3, 3, 1, 1, 4, 0, 4, 5, 0, 0, 6, 0, 5, 3, 0, 0, 2, 4, 5, 1, 4, 0, 8, 9, 0, 3, 2, 0, 3, 0, 4, 2, 7, 0, 3, 12, 4, 4, 1, 0, 8, 0, 2, 1, 4, 0, 0, 9, 1, 1, 0, 10, 5, 1, 3, 0, 0, 3, 4, 3, 0, 1, 1, 3, 1, 5, 6, 4, 0, 4, 3, 2, 1, 3, 0, 5, 9, 0, 1, 2, 4, 1, 0, 0, 4, 3, 3, 0, 4, 3, 5, 5, 6, 3, 0, 0, 3, 0, 4, 0, 0, 0, 7, 1, 9, 1, 2, 3, 5, 4, 3, 0, 0, 0, 5, 3, 0, 0, 0, 2, 4, 0, 0, 0, 5, 0, 0, 2, 5, 3, 1, 2, 0, 5, 1, 4, 21, 3, 4, 0, 0, 0, 2, 3, 4, 0, 8, 3, 3, 3, 8, 1, 2, 2, 0, 6, 4, 6, 0, 0, 0, 2, 4, 4, 8, 3, 1, 4, 2, 1, 7, 1, 0, 1, 2, 2, 4, 2, 3, 1, 0, 4, 5, 0, 0, 3, 4, 0, 0, 4, 3, 4, 5, 4, 0, 0, 1, 0, 0, 6, 0, 1, 0, 2, 4, 3, 11, 5, 0, 4, 2, 1, 3, 1, 0, 3, 4, 0, 3, 6, 0, 3, 3, 3, 4, 3, 0, 10, 0, 4, 0, 1, 2, 2, 0, 4, 0, 7, 0, 4, 0, 5, 14, 1, 7, 0, 3, 2, 0, 0, 0, 4, 2, 2, 0, 10, 3, 1, 1, 0, 2, 0, 5, 2, 14, 2, 3, 2, 2, 1, 1, 0, 1, 0, 0, 1, 1, 4, 1, 7, 0, 0, 1, 8, 0, 3, 1, 0, 2, 4, 2, 0, 0, 0, 2, 0, 0, 4, 5, 1, 0, 1, 6, 0, 3, 0, 0, 6, 3, 3, 3, 1, 3, 1, 6, 0, 0, 3, 8, 2, 3, 0, 0, 1, 3, 3, 2, 5, 0, 3, 3, 2, 2, 1, 3, 0, 0, 4, 0, 1, 3, 1, 0, 1, 0, 0, 1, 0, 3, 8, 3, 3, 0, 5, 3, 3, 0, 1, 4, 0, 2, 5, 6, 3, 2, 4, 2, 0, 4, 5, 2, 0, 4, 0, 0, 0, 2, 0, 0, 3, 2, 2, 2, 4, 5, 8, 0, 1, 0, 6, 0, 4, 2, 0, 3, 5, 0, 2, 3, 3, 2, 0, 2, 0, 2, 2, 4, 1, 0, 4, 1, 0, 1, 0, 4, 3, 3, 0, 0, 2, 1, 3, 3, 0, 2, 1, 4, 3, 5, 7, 3, 0, 0, 2, 3, 3, 5, 0, 1, 5, 6, 3, 4, 0, 0, 0, 2, 3, 0, 2, 0, 3, 3, 2, 0, 0, 0, 5, 0, 1, 4, 0, 2, 9, 4, 2, 0, 1, 0, 6, 0, 0, 10, 1, 1, 4, 5, 0, 0, 1, 1, 4, 0, 1, 2, 0, 7, 9, 2, 0, 0, 1, 3, 2, 5, 2, 0, 0, 0, 2, 0, 5, 0, 3, 3, 0, 0, 1, 0, 0, 6, 1, 5, 9, 4, 0, 3], \"xaxis\": \"x2\", \"y\": [5, 5, 9, 5, 7, 3, 1, 1, 2, 3, 0, 1, 9, 11, 3, 1, 8, 7, 5, 2, 2, 0, 0, 8, 7, 3, 7, 7, 9, 3, 0, 15, 3, 0, 4, 1, 5, 8, 2, 3, 0, 1, 4, 6, 7, 0, 5, 2, 6, 5, 9, 2, 5, 1, 0, 8, 9, 3, 2, 3, 4, 5, 4, 11, 5, 4, 6, 5, 6, 6, 6, 8, 5, 6, 5, 0, 6, 10, 9, 4, 8, 0, 4, 0, 6, 3, 0, 7, 5, 3, 12, 9, 7, 6, 3, 6, 5, 6, 7, 5, 4, 6, 7, 9, 1, 7, 6, 8, 3, 1, 5, 1, 9, 2, 7, 5, 0, 12, 7, 9, 13, 6, 0, 6, 3, 4, 8, 8, 7, 9, 0, 6, 7, 0, 1, 3, 9, 6, 7, 6, 4, 5, 5, 3, 0, 2, 5, 6, 8, 3, 5, 4, 7, 1, 5, 6, 8, 8, 6, 6, 6, 0, 5, 6, 6, 7, 4, 3, 1, 2, 2, 6, 11, 5, 7, 2, 8, 10, 6, 6, 0, 7, 3, 1, 7, 5, 0, 8, 7, 9, 4, 0, 11, 9, 8, 4, 2, 5, 6, 3, 7, 6, 7, 5, 3, 7, 6, 1, 8, 2, 0, 1, 3, 5, 8, 9, 9, 8, 0, 10, 1, 4, 1, 2, 0, 4, 4, 6, 4, 4, 5, 3, 6, 4, 2, 0, 5, 2, 1, 1, 4, 2, 3, 1, 0, 1, 5, 5, 5, 3, 8, 6, 1, 10, 0, 4, 9, 7, 9, 8, 8, 5, 5, 0, 3, 7, 8, 9, 14, 1, 3, 1, 1, 6, 4, 5, 8, 3, 3, 8, 7, 0, 5, 1, 10, 1, 5, 4, 0, 7, 0, 7, 1, 8, 6, 5, 12, 0, 10, 1, 7, 2, 2, 0, 9, 4, 6, 5, 0, 0, 0, 2, 1, 6, 2, 6, 9, 5, 4, 3, 5, 5, 1, 9, 7, 10, 5, 7, 3, 1, 3, 11, 2, 8, 8, 9, 0, 7, 3, 6, 1, 10, 7, 2, 6, 12, 7, 0, 0, 4, 10, 2, 0, 4, 5, 4, 2, 0, 5, 3, 10, 0, 4, 4, 6, 0, 2, 4, 2, 7, 11, 5, 6, 10, 3, 0, 5, 5, 11, 6, 8, 7, 2, 3, 3, 5, 4, 3, 7, 6, 3, 3, 5, 8, 3, 7, 6, 3, 3, 0, 0, 0, 0, 1, 7, 5, 0, 1, 3, 5, 5, 11, 0, 11, 0, 5, 0, 0, 5, 4, 5, 0, 1, 0, 7, 0, 0, 8, 5, 4, 3, 2, 0, 5, 8, 4, 3, 3, 4, 8, 8, 0, 1, 9, 3, 0, 0, 13, 4, 1, 5, 1, 2, 0, 2, 4, 3, 0, 7, 6, 0, 10, 0, 2, 2, 0, 1, 2, 6, 8, 4, 15, 5, 1, 7, 6, 7, 4, 2, 7, 0, 1, 1, 6, 1, 5, 5, 7, 9, 0, 4, 4, 0, 5, 0, 6, 6, 8, 0, 3, 0, 7, 4, 6, 0, 8, 1, 2, 9, 7, 5, 0, 8, 5, 9, 10, 8, 10, 0, 0, 7, 7, 2, 8, 0, 5, 7, 2, 6, 11, 7, 7, 13, 0, 4, 1, 5, 0, 6, 7, 8, 8, 4, 9, 6, 0, 2, 6, 11, 10, 6, 9, 12, 10, 2, 1, 7, 0, 2, 0, 1, 4, 3, 3, 1, 8, 8, 1, 9, 0, 0, 0, 7, 8, 3, 4, 8, 6, 4, 11, 1, 4, 4, 1, 2, 3, 9, 10, 7, 9, 8, 6, 8, 6, 4, 4, 7, 2, 5, 7, 3, 4, 0, 7, 10, 4, 4, 0, 3, 3, 0, 1, 6, 0, 2, 0, 0, 2, 0, 11, 3, 4, 3, 5, 3, 0, 3, 5, 3, 0, 8, 4, 0, 5, 6, 10, 4, 7, 7, 4, 7, 1, 7, 2, 9, 7, 2, 0, 8, 8, 1, 1, 0, 10, 5, 12, 7, 2, 6, 2, 0, 4, 2, 9, 3, 6, 4, 7, 3, 11, 6, 5, 5, 1, 2, 2, 8, 3, 0, 1, 6, 8, 0, 8, 7, 0, 4, 9, 4, 13, 0, 1, 7, 4, 9, 3, 11, 1, 6, 4, 4, 5, 3, 0, 9, 9, 4, 1, 2, 0, 3, 0, 11, 6, 9, 0, 0, 10, 3, 3, 0, 6, 6, 9, 8, 0, 0, 5, 0, 11, 7, 0, 6, 6, 8, 5, 1, 6, 13, 0, 13, 6, 8, 0, 0, 4, 8, 2, 6, 9, 1, 5, 4, 5, 2, 10, 5, 3, 9, 4, 3, 4, 0, 5, 2, 3, 3, 3, 11, 6, 4, 0, 2, 6, 8, 9, 2, 0, 3, 8, 0, 4, 5, 3, 5, 11, 7, 7, 8, 10, 1, 5, 0, 9, 0, 2, 4, 9, 3, 9, 11, 9, 5, 4, 4, 2, 8, 4, 2, 10, 9, 5, 2, 2, 0, 7, 8, 0, 3, 9, 7, 2, 6, 0, 6, 11, 4, 0, 7, 2, 4, 7, 3, 3, 5, 3, 1, 6, 2, 3, 0, 8, 3, 1, 0, 6, 0, 0, 8, 8, 4, 3, 9, 3, 8, 8, 5, 1, 0, 6, 11, 7, 6, 4, 6, 6, 5, 6, 10, 3, 4, 3, 11, 10, 5, 6, 3, 10, 7, 5, 2, 3, 3, 1, 0, 5, 1, 8, 0, 5, 6, 0, 5, 4, 4, 0, 3, 6, 8, 8, 2, 10, 0, 12, 6, 9, 5, 4, 0, 4, 5, 1, 0, 0, 6, 8, 5, 8, 5, 4, 9, 4, 4, 0, 10, 0, 1, 0, 6, 8, 2, 6, 4, 5, 6, 3, 6, 2, 8, 7, 3, 5, 5, 2, 12, 10, 0, 6, 9, 0, 6, 8, 7, 14, 4, 7, 3, 0, 2, 4, 3, 4, 5, 8, 3, 8, 6, 5, 4, 0, 7, 4, 9, 6, 6, 3, 2, 3, 8, 0, 9, 0, 6, 0, 7, 1, 0, 3, 6, 5, 2, 8, 8, 3, 6, 0, 6, 3, 4, 5, 8, 8, 7, 6, 3, 3, 1, 0, 7, 0, 6, 2, 3, 0, 3, 6, 5, 2, 1, 0, 6, 2, 7, 5, 11, 1, 4, 7, 8, 13, 4, 9, 0, 0, 1, 0, 7, 3, 7, 2, 3, 0, 5, 7, 0, 4, 6, 0, 3, 2, 10, 5, 9, 8, 2, 0, 0, 6, 11, 4, 13, 0, 0, 7, 6, 11, 0, 10, 12, 2, 4, 0, 0, 6, 9, 5, 7, 1, 0, 8, 0, 0, 0, 1, 10, 10, 0, 0, 3, 9, 8, 12, 2, 0, 3, 13, 0, 3, 0, 5, 6, 5, 3, 6, 3, 8, 5, 10, 4, 8, 0, 12, 3, 6, 7, 9, 4, 11, 6, 12, 0, 3, 7, 5, 0, 0, 0, 6, 0, 5, 4, 6, 11, 6, 13, 0, 9, 3, 7, 1, 5, 8, 5, 9, 3, 11, 0, 0, 6, 0, 3, 1, 0, 3, 2, 9, 0, 0, 0, 4, 7, 2, 0, 5, 0, 9, 1, 5, 4, 16, 3, 5, 6, 9, 6, 5, 5, 1, 11, 4, 4, 3, 6, 9, 9, 5, 5, 7, 6, 8, 0, 5, 2, 0, 5, 6, 6, 4, 10, 5, 3, 12, 9, 0, 0, 2, 0, 3, 0, 9, 0, 7, 0, 1, 3, 4, 8, 6, 6, 6, 2, 6, 1, 5, 0, 11, 2, 0, 1, 3, 5, 1, 6, 0, 3, 8, 3, 3, 12, 1, 6, 0, 3, 0, 4, 7, 9, 1, 5, 4, 9, 4, 9, 0, 2, 4, 5, 0, 6, 4, 7, 1, 5, 0, 10, 3, 5, 6, 6, 1, 0, 1, 4, 7, 0, 2, 0, 7, 4, 2, 0, 7, 0, 1, 7, 5, 6, 2, 0, 5, 2, 1, 11, 0, 8, 5, 11, 0, 7, 6, 10, 8, 7, 3, 8, 3, 8, 7, 3, 5, 6, 8, 7, 6, 0, 9, 0, 4, 3, 1, 9, 4, 3, 3, 0, 2, 7, 1, 7, 4, 2, 0, 2, 2, 5, 11, 1, 7, 2, 0, 5, 0, 6, 3, 4, 0, 0, 5, 0, 4, 10, 7, 8, 2, 1, 3, 7, 9, 0, 5, 3, 6, 0, 7, 11, 0, 6, 6, 4, 3, 6, 8, 7, 5, 7, 0, 8, 2, 3, 9, 5, 1, 4, 9, 11, 7, 6, 1, 14, 2, 5, 0, 2, 11, 6, 3, 1, 1, 7, 0, 2, 4, 6, 8, 11, 10, 7, 0, 9, 2, 6, 12, 2, 1, 0, 1, 4, 4, 1, 9, 7, 5, 9, 12, 6, 5, 4, 0, 3, 6, 8, 2, 3, 1, 8, 7, 3, 11, 0, 6, 0, 5, 5, 3, 3, 0, 4, 8, 1, 8, 9, 5, 4, 2, 10, 5, 4, 6, 3, 2, 1, 8, 14, 1, 0, 6, 10, 3, 7, 0, 1, 2, 3, 5, 3, 8, 4, 5, 1, 0, 3, 4, 6, 1, 0, 6, 4, 2, 9, 7, 9, 6, 2, 8, 3, 4, 2, 0, 7, 4, 4, 2, 4, 6, 0, 8, 0, 3, 8, 7, 1, 0, 6, 7, 1, 4, 3, 0, 2, 9, 5, 6, 3, 3, 0, 0, 7, 6, 2, 1, 7, 8, 7, 0, 6, 3, 10, 9, 5, 9, 7, 4, 4, 5, 1, 12, 10, 10, 0, 4, 1, 0, 10, 1, 6, 2, 9, 2, 5, 0, 5, 3, 8, 10, 5, 0, 6, 2, 2, 12, 4, 4, 6, 6, 11, 5, 4, 0, 3, 0, 0, 14, 1, 8, 2, 4, 0, 8, 5, 8, 6, 7, 7, 2, 3, 11, 9, 5, 8, 0, 2, 6, 5, 6, 7, 10, 7, 0, 7, 5, 11, 2, 10, 8, 2, 5, 5, 4, 3, 0, 7, 5, 0, 0, 3, 2, 6, 3, 4, 2, 8, 5, 7, 0, 5, 5, 0, 0, 14, 0, 2, 5, 10, 0, 0, 9, 13, 4, 0, 4, 3, 6, 4, 8, 0, 0, 6, 0, 1, 7, 2, 9, 10, 16, 4, 6, 5, 6, 2, 2, 2, 9, 8, 2, 6, 5, 0, 8, 2, 13, 5, 4, 9, 3, 9, 10, 0, 8, 14, 2, 8, 11, 6, 0, 10, 4, 10, 4, 5, 0, 4, 1, 0, 0, 5, 4, 1, 1, 3, 9, 9, 3, 2, 1, 4, 9, 12, 7, 3, 5, 6, 11, 5, 3, 4, 10, 6, 6, 3, 9, 3, 8, 7, 6, 12, 6, 2, 0, 8, 9, 4, 0, 7, 13, 6, 5, 0, 7, 0, 7, 0, 7, 6, 9, 4, 0, 2, 5, 7, 4, 0, 4, 0, 2, 0, 6, 8, 4, 6, 2, 1, 1, 8, 8, 3, 1, 7, 0, 8, 7, 5, 6, 8, 7, 0, 5, 5, 8, 3, 1, 10, 6, 4, 11, 8, 3, 3, 1, 0, 5, 11, 5, 12, 4, 0, 10, 8, 6, 0, 7, 4, 0, 7, 8, 9, 2, 4, 0, 5, 6, 6, 5, 4, 0, 3, 2, 11, 0, 0, 6, 14, 4, 9, 1, 1, 1, 3, 1, 0, 3, 5, 6, 4, 4, 8, 4, 7, 1, 3, 2, 4, 0, 2, 6, 3, 5, 3, 0, 4, 3, 5, 2, 7, 1, 5, 10, 10, 8, 0, 8, 10, 0, 0, 10, 8, 3, 0, 9, 0, 0, 2, 6, 1, 8, 8, 6, 0, 5, 10, 0, 7, 4, 1, 2, 2, 1, 10, 6, 2, 0, 5, 0, 0, 0, 4, 1, 3, 8, 0, 2, 10, 3, 11, 7, 0, 5, 4, 9, 0, 6, 2, 4, 10, 0, 2, 8, 9, 6, 7, 11, 5, 1, 8, 7, 7, 0, 7, 3, 0, 3, 0, 7, 0, 0, 7, 4, 0, 2, 1, 3, 8, 10, 1, 6, 0, 4, 5, 0, 4, 3, 4, 0, 4, 10, 7, 2, 0, 6, 6, 0, 8, 4, 0, 5, 7, 2, 8, 3, 0, 8, 10, 5, 7, 5, 2, 10, 4, 4, 4, 0, 5, 1, 4, 4, 8, 5, 12, 2, 2, 1, 13, 1, 7, 0, 6, 1, 0, 5, 5, 9, 0, 0, 5, 2, 2, 4, 9, 6, 13, 2, 6, 9, 7, 9, 4, 9, 10, 8, 5, 6, 2, 9, 5, 6, 9, 2, 3, 9, 3, 10, 3, 9, 4, 6, 1, 7, 2, 3, 7, 8, 7, 10, 4, 0, 0, 0, 7, 4, 4, 0, 0, 0, 8, 3, 6, 0, 4, 2, 4, 0, 13, 7, 7, 5, 5, 0, 6, 1, 11, 8, 2, 9, 0, 0, 1, 2, 2, 5, 6, 11, 3, 4, 0, 1, 5, 8, 2, 8, 4, 0, 0, 8, 0, 0, 12, 2, 5, 12, 6, 5, 3, 5, 0, 0, 7, 0, 1, 7, 3, 5, 9, 6, 2, 8, 2, 9, 2, 6, 2, 0, 2, 6, 2, 2, 5, 12, 11, 0, 4, 0, 4, 4, 6, 7, 1, 2, 9, 6, 0, 5, 7, 5, 0, 0, 1, 1, 8, 0, 11, 8, 5, 0, 3, 1, 3, 0, 8, 1, 5, 7, 4, 4, 7, 0, 5, 9, 0, 1, 3, 7, 8, 0, 8, 8, 0, 3, 3, 0, 0, 9, 0, 10, 2, 6, 6, 0, 9, 5, 2, 0, 1, 6, 3, 8, 0, 2, 4, 3, 1, 0, 2, 12, 2, 3, 5, 6, 2, 7, 2, 3, 0, 4, 5, 13, 7, 5, 2, 0, 6, 3, 6, 1, 4, 0, 4, 3, 3, 4, 3, 9, 4, 6, 6, 4, 12, 0, 8, 6, 0, 5, 6, 0, 5, 12, 9, 8, 3, 2, 1, 1, 6, 12, 9, 10, 16, 2, 4, 0, 2, 0, 1, 5, 5, 4, 4, 0, 7, 5, 7, 4, 4, 11, 6, 5, 0, 8, 2, 12, 2, 8, 1, 4, 2, 0, 0, 1, 0, 4, 9, 4, 3, 7, 9, 10, 8, 6, 0, 6, 5, 1, 11, 4, 1, 7, 0, 10, 6, 11, 10, 9, 9, 1, 3, 1, 2, 7, 4, 7, 4, 0, 0, 5, 10, 6, 5, 2, 2, 0, 0, 6, 7, 0, 0, 3, 2, 7, 5, 6, 8, 5, 5, 1, 0, 0, 0, 8, 6, 6, 9, 3, 1, 1, 5, 3, 1, 11, 5, 8, 5, 5, 8, 4, 2, 12, 4, 3, 9, 8, 7, 0, 0, 7, 3, 7, 0, 7, 1, 11, 5, 6, 3, 4, 6, 8, 10, 1, 0, 2, 12, 11, 0, 6, 9, 7, 11, 5, 7, 3, 6, 6, 3, 9, 6, 0, 3, 10, 5, 5, 5, 0, 0, 0, 7, 1, 2, 9, 6, 6, 0, 0, 2, 2, 4, 3, 9, 9, 8, 3, 1, 3, 0, 4, 3, 5, 3, 1, 10, 10, 0, 0, 2, 5, 7, 3, 2, 8, 2, 5, 13, 2, 0, 5, 2, 9, 4, 13, 0, 7, 6, 8, 5, 0, 6, 1, 6, 7, 9, 4, 5, 3, 2, 5, 5, 4, 10, 3, 1, 3, 9, 1, 9, 5, 7, 0, 8, 6, 0, 5, 0, 5, 0, 5, 8, 7, 0, 4, 0, 1, 5, 1, 7, 12, 0, 1, 5, 6, 6, 3, 4, 9, 10, 9, 2, 3, 4, 5, 7, 2, 8, 7, 6, 13, 5, 4, 6, 5, 6, 2, 6, 1, 9, 9, 12, 1, 4, 3, 9, 5, 8, 8, 7, 0, 12, 9, 1, 6, 0, 10, 2, 5, 11, 4, 9, 5, 4, 3, 6, 6, 0, 5, 8, 8, 0, 9, 0, 4, 1, 2, 0, 9, 4, 2, 7, 0, 5, 2, 0, 8, 8, 0, 3, 7, 10, 0, 1, 4, 10, 7, 6, 8, 2, 1, 3, 3, 4, 0, 3, 3, 1, 12, 7, 1, 1, 0, 7, 0, 6, 0, 7, 4, 1, 5, 5, 2, 5, 3, 10, 10, 8, 10, 5, 0, 6, 0, 0, 0, 9, 0, 0, 3, 8, 5, 5, 0, 7, 10, 8, 0, 0, 6, 3, 7, 0, 6, 9, 3, 1, 5, 0, 11, 0, 4, 5, 2, 10, 2, 1, 3, 1, 6, 0, 0, 0, 2, 6, 6, 2, 7, 6, 7, 4, 8, 0, 0, 3, 8, 0, 1, 3, 8, 3, 0, 4, 3, 0, 12, 6, 1, 1, 5, 8, 4, 0, 3, 3, 8, 3, 5, 6, 0, 5, 11, 0, 8, 5, 2, 0, 2, 2, 6, 0, 0, 4, 5, 7, 5, 6, 0, 3], \"yaxis\": \"y2\"}],\n",
              "                        {\"annotations\": [{\"font\": {\"size\": 16}, \"showarrow\": false, \"text\": \"Actual\", \"x\": 0.225, \"xanchor\": \"center\", \"xref\": \"paper\", \"y\": 1.0, \"yanchor\": \"bottom\", \"yref\": \"paper\"}, {\"font\": {\"size\": 16}, \"showarrow\": false, \"text\": \"K-means cluster\", \"x\": 0.775, \"xanchor\": \"center\", \"xref\": \"paper\", \"y\": 1.0, \"yanchor\": \"bottom\", \"yref\": \"paper\"}], \"height\": 600, \"template\": {\"data\": {\"bar\": [{\"error_x\": {\"color\": \"#2a3f5f\"}, \"error_y\": {\"color\": \"#2a3f5f\"}, \"marker\": {\"line\": {\"color\": \"#E5ECF6\", \"width\": 0.5}}, \"type\": \"bar\"}], \"barpolar\": [{\"marker\": {\"line\": {\"color\": \"#E5ECF6\", \"width\": 0.5}}, \"type\": \"barpolar\"}], \"carpet\": [{\"aaxis\": {\"endlinecolor\": \"#2a3f5f\", \"gridcolor\": \"white\", \"linecolor\": \"white\", \"minorgridcolor\": \"white\", \"startlinecolor\": \"#2a3f5f\"}, \"baxis\": {\"endlinecolor\": \"#2a3f5f\", \"gridcolor\": \"white\", \"linecolor\": \"white\", \"minorgridcolor\": \"white\", \"startlinecolor\": \"#2a3f5f\"}, \"type\": \"carpet\"}], \"choropleth\": [{\"colorbar\": {\"outlinewidth\": 0, \"ticks\": \"\"}, \"type\": \"choropleth\"}], \"contour\": [{\"colorbar\": {\"outlinewidth\": 0, \"ticks\": \"\"}, \"colorscale\": [[0.0, \"#0d0887\"], [0.1111111111111111, \"#46039f\"], [0.2222222222222222, \"#7201a8\"], [0.3333333333333333, \"#9c179e\"], [0.4444444444444444, \"#bd3786\"], [0.5555555555555556, \"#d8576b\"], [0.6666666666666666, \"#ed7953\"], [0.7777777777777778, \"#fb9f3a\"], [0.8888888888888888, \"#fdca26\"], [1.0, \"#f0f921\"]], \"type\": \"contour\"}], \"contourcarpet\": [{\"colorbar\": {\"outlinewidth\": 0, \"ticks\": \"\"}, \"type\": \"contourcarpet\"}], \"heatmap\": [{\"colorbar\": {\"outlinewidth\": 0, \"ticks\": \"\"}, \"colorscale\": [[0.0, \"#0d0887\"], [0.1111111111111111, \"#46039f\"], [0.2222222222222222, \"#7201a8\"], [0.3333333333333333, \"#9c179e\"], [0.4444444444444444, \"#bd3786\"], [0.5555555555555556, \"#d8576b\"], [0.6666666666666666, \"#ed7953\"], [0.7777777777777778, \"#fb9f3a\"], [0.8888888888888888, \"#fdca26\"], [1.0, \"#f0f921\"]], \"type\": \"heatmap\"}], \"heatmapgl\": [{\"colorbar\": {\"outlinewidth\": 0, \"ticks\": \"\"}, \"colorscale\": [[0.0, \"#0d0887\"], [0.1111111111111111, \"#46039f\"], [0.2222222222222222, \"#7201a8\"], [0.3333333333333333, \"#9c179e\"], [0.4444444444444444, \"#bd3786\"], [0.5555555555555556, \"#d8576b\"], [0.6666666666666666, \"#ed7953\"], [0.7777777777777778, \"#fb9f3a\"], [0.8888888888888888, \"#fdca26\"], [1.0, \"#f0f921\"]], \"type\": \"heatmapgl\"}], \"histogram\": [{\"marker\": {\"colorbar\": {\"outlinewidth\": 0, \"ticks\": \"\"}}, \"type\": \"histogram\"}], \"histogram2d\": [{\"colorbar\": {\"outlinewidth\": 0, \"ticks\": \"\"}, \"colorscale\": [[0.0, \"#0d0887\"], [0.1111111111111111, \"#46039f\"], [0.2222222222222222, \"#7201a8\"], [0.3333333333333333, \"#9c179e\"], [0.4444444444444444, \"#bd3786\"], [0.5555555555555556, \"#d8576b\"], [0.6666666666666666, \"#ed7953\"], [0.7777777777777778, \"#fb9f3a\"], [0.8888888888888888, \"#fdca26\"], [1.0, \"#f0f921\"]], \"type\": \"histogram2d\"}], \"histogram2dcontour\": [{\"colorbar\": {\"outlinewidth\": 0, \"ticks\": \"\"}, \"colorscale\": [[0.0, \"#0d0887\"], [0.1111111111111111, \"#46039f\"], [0.2222222222222222, \"#7201a8\"], [0.3333333333333333, \"#9c179e\"], [0.4444444444444444, \"#bd3786\"], [0.5555555555555556, \"#d8576b\"], [0.6666666666666666, \"#ed7953\"], [0.7777777777777778, \"#fb9f3a\"], [0.8888888888888888, \"#fdca26\"], [1.0, \"#f0f921\"]], \"type\": \"histogram2dcontour\"}], \"mesh3d\": [{\"colorbar\": {\"outlinewidth\": 0, \"ticks\": \"\"}, \"type\": \"mesh3d\"}], \"parcoords\": [{\"line\": {\"colorbar\": {\"outlinewidth\": 0, \"ticks\": \"\"}}, \"type\": \"parcoords\"}], \"pie\": [{\"automargin\": true, \"type\": \"pie\"}], \"scatter\": [{\"marker\": {\"colorbar\": {\"outlinewidth\": 0, \"ticks\": \"\"}}, \"type\": \"scatter\"}], \"scatter3d\": [{\"line\": {\"colorbar\": {\"outlinewidth\": 0, \"ticks\": \"\"}}, \"marker\": {\"colorbar\": {\"outlinewidth\": 0, \"ticks\": \"\"}}, \"type\": \"scatter3d\"}], \"scattercarpet\": [{\"marker\": {\"colorbar\": {\"outlinewidth\": 0, \"ticks\": \"\"}}, \"type\": \"scattercarpet\"}], \"scattergeo\": [{\"marker\": {\"colorbar\": {\"outlinewidth\": 0, \"ticks\": \"\"}}, \"type\": \"scattergeo\"}], \"scattergl\": [{\"marker\": {\"colorbar\": {\"outlinewidth\": 0, \"ticks\": \"\"}}, \"type\": \"scattergl\"}], \"scattermapbox\": [{\"marker\": {\"colorbar\": {\"outlinewidth\": 0, \"ticks\": \"\"}}, \"type\": \"scattermapbox\"}], \"scatterpolar\": [{\"marker\": {\"colorbar\": {\"outlinewidth\": 0, \"ticks\": \"\"}}, \"type\": \"scatterpolar\"}], \"scatterpolargl\": [{\"marker\": {\"colorbar\": {\"outlinewidth\": 0, \"ticks\": \"\"}}, \"type\": \"scatterpolargl\"}], \"scatterternary\": [{\"marker\": {\"colorbar\": {\"outlinewidth\": 0, \"ticks\": \"\"}}, \"type\": \"scatterternary\"}], \"surface\": [{\"colorbar\": {\"outlinewidth\": 0, \"ticks\": \"\"}, \"colorscale\": [[0.0, \"#0d0887\"], [0.1111111111111111, \"#46039f\"], [0.2222222222222222, \"#7201a8\"], [0.3333333333333333, \"#9c179e\"], [0.4444444444444444, \"#bd3786\"], [0.5555555555555556, \"#d8576b\"], [0.6666666666666666, \"#ed7953\"], [0.7777777777777778, \"#fb9f3a\"], [0.8888888888888888, \"#fdca26\"], [1.0, \"#f0f921\"]], \"type\": \"surface\"}], \"table\": [{\"cells\": {\"fill\": {\"color\": \"#EBF0F8\"}, \"line\": {\"color\": \"white\"}}, \"header\": {\"fill\": {\"color\": \"#C8D4E3\"}, \"line\": {\"color\": \"white\"}}, \"type\": \"table\"}]}, \"layout\": {\"annotationdefaults\": {\"arrowcolor\": \"#2a3f5f\", \"arrowhead\": 0, \"arrowwidth\": 1}, \"coloraxis\": {\"colorbar\": {\"outlinewidth\": 0, \"ticks\": \"\"}}, \"colorscale\": {\"diverging\": [[0, \"#8e0152\"], [0.1, \"#c51b7d\"], [0.2, \"#de77ae\"], [0.3, \"#f1b6da\"], [0.4, \"#fde0ef\"], [0.5, \"#f7f7f7\"], [0.6, \"#e6f5d0\"], [0.7, \"#b8e186\"], [0.8, \"#7fbc41\"], [0.9, \"#4d9221\"], [1, \"#276419\"]], \"sequential\": [[0.0, \"#0d0887\"], [0.1111111111111111, \"#46039f\"], [0.2222222222222222, \"#7201a8\"], [0.3333333333333333, \"#9c179e\"], [0.4444444444444444, \"#bd3786\"], [0.5555555555555556, \"#d8576b\"], [0.6666666666666666, \"#ed7953\"], [0.7777777777777778, \"#fb9f3a\"], [0.8888888888888888, \"#fdca26\"], [1.0, \"#f0f921\"]], \"sequentialminus\": [[0.0, \"#0d0887\"], [0.1111111111111111, \"#46039f\"], [0.2222222222222222, \"#7201a8\"], [0.3333333333333333, \"#9c179e\"], [0.4444444444444444, \"#bd3786\"], [0.5555555555555556, \"#d8576b\"], [0.6666666666666666, \"#ed7953\"], [0.7777777777777778, \"#fb9f3a\"], [0.8888888888888888, \"#fdca26\"], [1.0, \"#f0f921\"]]}, \"colorway\": [\"#636efa\", \"#EF553B\", \"#00cc96\", \"#ab63fa\", \"#FFA15A\", \"#19d3f3\", \"#FF6692\", \"#B6E880\", \"#FF97FF\", \"#FECB52\"], \"font\": {\"color\": \"#2a3f5f\"}, \"geo\": {\"bgcolor\": \"white\", \"lakecolor\": \"white\", \"landcolor\": \"#E5ECF6\", \"showlakes\": true, \"showland\": true, \"subunitcolor\": \"white\"}, \"hoverlabel\": {\"align\": \"left\"}, \"hovermode\": \"closest\", \"mapbox\": {\"style\": \"light\"}, \"paper_bgcolor\": \"white\", \"plot_bgcolor\": \"#E5ECF6\", \"polar\": {\"angularaxis\": {\"gridcolor\": \"white\", \"linecolor\": \"white\", \"ticks\": \"\"}, \"bgcolor\": \"#E5ECF6\", \"radialaxis\": {\"gridcolor\": \"white\", \"linecolor\": \"white\", \"ticks\": \"\"}}, \"scene\": {\"xaxis\": {\"backgroundcolor\": \"#E5ECF6\", \"gridcolor\": \"white\", \"gridwidth\": 2, \"linecolor\": \"white\", \"showbackground\": true, \"ticks\": \"\", \"zerolinecolor\": \"white\"}, \"yaxis\": {\"backgroundcolor\": \"#E5ECF6\", \"gridcolor\": \"white\", \"gridwidth\": 2, \"linecolor\": \"white\", \"showbackground\": true, \"ticks\": \"\", \"zerolinecolor\": \"white\"}, \"zaxis\": {\"backgroundcolor\": \"#E5ECF6\", \"gridcolor\": \"white\", \"gridwidth\": 2, \"linecolor\": \"white\", \"showbackground\": true, \"ticks\": \"\", \"zerolinecolor\": \"white\"}}, \"shapedefaults\": {\"line\": {\"color\": \"#2a3f5f\"}}, \"ternary\": {\"aaxis\": {\"gridcolor\": \"white\", \"linecolor\": \"white\", \"ticks\": \"\"}, \"baxis\": {\"gridcolor\": \"white\", \"linecolor\": \"white\", \"ticks\": \"\"}, \"bgcolor\": \"#E5ECF6\", \"caxis\": {\"gridcolor\": \"white\", \"linecolor\": \"white\", \"ticks\": \"\"}}, \"title\": {\"x\": 0.05}, \"xaxis\": {\"automargin\": true, \"gridcolor\": \"white\", \"linecolor\": \"white\", \"ticks\": \"\", \"title\": {\"standoff\": 15}, \"zerolinecolor\": \"white\", \"zerolinewidth\": 2}, \"yaxis\": {\"automargin\": true, \"gridcolor\": \"white\", \"linecolor\": \"white\", \"ticks\": \"\", \"title\": {\"standoff\": 15}, \"zerolinecolor\": \"white\", \"zerolinewidth\": 2}}}, \"width\": 1000, \"xaxis\": {\"anchor\": \"y\", \"domain\": [0.0, 0.45]}, \"xaxis2\": {\"anchor\": \"y2\", \"domain\": [0.55, 1.0]}, \"yaxis\": {\"anchor\": \"x\", \"domain\": [0.0, 1.0]}, \"yaxis2\": {\"anchor\": \"x2\", \"domain\": [0.0, 1.0]}},\n",
              "                        {\"responsive\": true}\n",
              "                    ).then(function(){\n",
              "                            \n",
              "var gd = document.getElementById('833a88d4-bc35-47c8-bf5f-029d7ee360a7');\n",
              "var x = new MutationObserver(function (mutations, observer) {{\n",
              "        var display = window.getComputedStyle(gd).display;\n",
              "        if (!display || display === 'none') {{\n",
              "            console.log([gd, 'removed!']);\n",
              "            Plotly.purge(gd);\n",
              "            observer.disconnect();\n",
              "        }}\n",
              "}});\n",
              "\n",
              "// Listen for the removal of the full notebook cells\n",
              "var notebookContainer = gd.closest('#notebook-container');\n",
              "if (notebookContainer) {{\n",
              "    x.observe(notebookContainer, {childList: true});\n",
              "}}\n",
              "\n",
              "// Listen for the clearing of the current output cell\n",
              "var outputEl = gd.closest('.output');\n",
              "if (outputEl) {{\n",
              "    x.observe(outputEl, {childList: true});\n",
              "}}\n",
              "\n",
              "                        })\n",
              "                };\n",
              "                \n",
              "            </script>\n",
              "        </div>\n",
              "</body>\n",
              "</html>"
            ]
          },
          "metadata": {
            "tags": []
          }
        }
      ]
    },
    {
      "cell_type": "markdown",
      "metadata": {
        "id": "6sXQr5GZnymz"
      },
      "source": [
        "       # K-means\n",
        "\n",
        "       차이가 많이 나는 column으로 보면 명확하게 구분이 나지만\n",
        "       차이가 적게 나는 colum으로 보면 구분할 수 없음.\n",
        "       \n",
        "       시각화를 다시 보게 되면 x는 영향이 거의 없고 y에 큰 영향이 있음을 알 수 있다.\n",
        "       이는 K-means clustering은 거리에 영향을 받는데 단위가 y축(day_from_jointed)가 크기 때문에 저러한 결과가 나타났다고 볼 수 있다."
      ]
    },
    {
      "cell_type": "code",
      "metadata": {
        "colab": {
          "base_uri": "https://localhost:8080/",
          "height": 517
        },
        "id": "Jx9bCOhwnkNR",
        "outputId": "55180d19-22e8-432d-fa9b-27c7e62bdcb5"
      },
      "source": [
        "# 3D 그래프로 변수 3개를 시각화해보자\n",
        "fig = go.Figure(data = [go.Scatter3d(\n",
        "    x = train_x['recommended_cnt'],\n",
        "    y = train_x['days_from_joined'],\n",
        "    z = train_x['category_prefer'],\n",
        "    mode = 'markers',\n",
        "    marker = dict(color=train_x['label_km'])\n",
        "    \n",
        ")])\n",
        "fig.update_layout(width = 600, height = 500)\n",
        "fig.show()"
      ],
      "execution_count": 54,
      "outputs": [
        {
          "output_type": "display_data",
          "data": {
            "text/html": [
              "<html>\n",
              "<head><meta charset=\"utf-8\" /></head>\n",
              "<body>\n",
              "    <div>\n",
              "            <script src=\"https://cdnjs.cloudflare.com/ajax/libs/mathjax/2.7.5/MathJax.js?config=TeX-AMS-MML_SVG\"></script><script type=\"text/javascript\">if (window.MathJax) {MathJax.Hub.Config({SVG: {font: \"STIX-Web\"}});}</script>\n",
              "                <script type=\"text/javascript\">window.PlotlyConfig = {MathJaxConfig: 'local'};</script>\n",
              "        <script src=\"https://cdn.plot.ly/plotly-latest.min.js\"></script>    \n",
              "            <div id=\"0070ff6a-b6d5-4b31-92a9-d2216c004a7a\" class=\"plotly-graph-div\" style=\"height:500px; width:600px;\"></div>\n",
              "            <script type=\"text/javascript\">\n",
              "                \n",
              "                    window.PLOTLYENV=window.PLOTLYENV || {};\n",
              "                    \n",
              "                if (document.getElementById(\"0070ff6a-b6d5-4b31-92a9-d2216c004a7a\")) {\n",
              "                    Plotly.newPlot(\n",
              "                        '0070ff6a-b6d5-4b31-92a9-d2216c004a7a',\n",
              "                        [{\"marker\": {\"color\": [0, 0, 1, 1, 0, 0, 1, 1, 2, 0, 1, 2, 0, 1, 1, 2, 0, 1, 1, 1, 0, 0, 0, 0, 2, 1, 2, 1, 1, 2, 0, 0, 0, 1, 0, 1, 0, 1, 0, 1, 0, 1, 0, 1, 1, 1, 0, 2, 0, 1, 1, 1, 0, 0, 2, 2, 0, 1, 1, 1, 2, 0, 0, 0, 1, 1, 0, 0, 0, 0, 1, 1, 0, 1, 0, 0, 2, 0, 1, 0, 0, 2, 1, 2, 0, 1, 0, 0, 1, 0, 1, 0, 2, 0, 2, 2, 0, 0, 1, 0, 1, 0, 1, 1, 1, 1, 1, 0, 2, 0, 1, 2, 1, 1, 0, 0, 1, 2, 1, 1, 1, 1, 1, 0, 0, 1, 1, 2, 0, 2, 2, 2, 0, 1, 0, 1, 0, 0, 0, 1, 2, 2, 0, 2, 0, 1, 1, 0, 0, 0, 2, 1, 0, 1, 0, 1, 1, 0, 0, 2, 0, 2, 2, 2, 0, 1, 0, 1, 0, 1, 2, 0, 0, 1, 0, 2, 2, 1, 1, 0, 1, 1, 0, 0, 0, 2, 1, 2, 2, 0, 2, 0, 1, 0, 1, 0, 1, 0, 0, 0, 1, 0, 1, 1, 0, 1, 1, 0, 1, 0, 2, 0, 0, 2, 2, 0, 1, 0, 2, 0, 1, 0, 1, 0, 2, 0, 0, 1, 2, 0, 1, 0, 2, 2, 0, 2, 0, 0, 0, 1, 1, 0, 1, 0, 1, 1, 0, 2, 0, 0, 1, 0, 1, 1, 1, 1, 2, 0, 2, 1, 2, 0, 1, 0, 2, 1, 2, 1, 0, 1, 0, 0, 1, 1, 2, 1, 1, 0, 2, 0, 1, 1, 2, 1, 2, 2, 1, 1, 0, 0, 0, 0, 1, 0, 2, 1, 0, 1, 1, 2, 0, 2, 1, 2, 1, 0, 1, 0, 2, 1, 1, 0, 1, 0, 2, 1, 2, 0, 1, 0, 1, 1, 1, 1, 1, 1, 1, 1, 0, 1, 0, 1, 2, 2, 0, 1, 1, 0, 1, 0, 2, 1, 2, 2, 0, 0, 1, 1, 0, 0, 1, 1, 0, 1, 0, 2, 0, 0, 1, 0, 2, 0, 2, 1, 0, 0, 1, 1, 2, 0, 0, 1, 0, 0, 0, 0, 2, 2, 0, 1, 1, 0, 1, 1, 0, 0, 0, 2, 1, 0, 1, 2, 2, 1, 2, 0, 0, 1, 1, 0, 2, 1, 2, 2, 1, 2, 0, 2, 2, 0, 0, 0, 2, 1, 1, 0, 1, 1, 0, 0, 2, 1, 0, 0, 1, 0, 1, 0, 1, 0, 1, 0, 0, 1, 0, 0, 0, 0, 2, 0, 1, 0, 1, 0, 0, 0, 0, 1, 0, 0, 0, 1, 2, 1, 0, 0, 1, 1, 0, 0, 2, 1, 2, 2, 0, 2, 0, 0, 2, 0, 0, 2, 1, 2, 0, 1, 1, 0, 0, 2, 1, 0, 1, 2, 0, 1, 1, 0, 2, 1, 0, 1, 1, 1, 2, 0, 2, 0, 1, 2, 2, 0, 1, 0, 0, 0, 2, 1, 0, 1, 2, 1, 1, 2, 2, 2, 0, 1, 1, 0, 0, 2, 0, 1, 1, 1, 0, 2, 0, 0, 0, 0, 0, 1, 0, 0, 1, 0, 1, 2, 0, 1, 0, 0, 1, 1, 1, 2, 1, 1, 2, 2, 0, 0, 1, 2, 1, 1, 1, 1, 2, 1, 0, 0, 0, 0, 0, 2, 0, 1, 1, 2, 1, 1, 0, 0, 0, 0, 0, 0, 0, 2, 1, 2, 1, 0, 1, 0, 0, 2, 2, 2, 1, 0, 0, 1, 0, 1, 0, 0, 1, 2, 1, 1, 1, 1, 0, 2, 0, 1, 1, 1, 1, 0, 1, 1, 0, 2, 2, 0, 0, 2, 2, 2, 0, 1, 0, 1, 0, 0, 0, 0, 1, 0, 0, 1, 1, 1, 0, 2, 2, 0, 2, 2, 0, 0, 0, 1, 0, 2, 0, 0, 0, 1, 0, 0, 1, 2, 2, 1, 2, 2, 0, 1, 1, 1, 0, 0, 0, 2, 1, 1, 1, 2, 1, 0, 0, 1, 1, 1, 0, 0, 1, 0, 0, 0, 2, 2, 0, 0, 1, 1, 1, 2, 2, 1, 0, 1, 1, 1, 1, 0, 0, 1, 1, 2, 2, 0, 2, 1, 0, 0, 2, 1, 0, 1, 1, 1, 0, 1, 0, 0, 1, 0, 0, 1, 2, 0, 1, 0, 0, 0, 2, 1, 1, 1, 2, 0, 0, 1, 0, 0, 0, 1, 2, 0, 1, 0, 1, 1, 2, 0, 2, 0, 2, 0, 2, 0, 2, 1, 1, 2, 2, 0, 2, 0, 0, 1, 0, 0, 0, 0, 1, 0, 1, 1, 2, 1, 2, 2, 2, 2, 0, 0, 0, 1, 0, 1, 0, 0, 0, 0, 0, 2, 0, 2, 1, 2, 2, 1, 0, 0, 1, 1, 1, 1, 0, 0, 0, 1, 0, 0, 0, 0, 2, 0, 0, 1, 1, 2, 0, 1, 0, 1, 1, 2, 0, 1, 1, 1, 0, 1, 2, 0, 1, 1, 2, 0, 0, 1, 1, 0, 0, 1, 0, 2, 1, 1, 0, 0, 2, 0, 0, 1, 1, 0, 1, 0, 1, 2, 1, 1, 1, 0, 1, 1, 0, 0, 0, 2, 2, 0, 2, 0, 2, 0, 1, 1, 1, 2, 0, 0, 1, 2, 0, 2, 2, 0, 0, 2, 0, 1, 1, 0, 1, 1, 1, 1, 0, 1, 0, 1, 0, 0, 2, 1, 1, 0, 2, 2, 0, 1, 1, 0, 0, 1, 0, 1, 1, 0, 0, 1, 0, 0, 0, 1, 0, 0, 0, 0, 0, 1, 0, 2, 1, 2, 1, 0, 0, 0, 1, 2, 2, 1, 0, 1, 0, 2, 0, 0, 0, 0, 1, 0, 1, 2, 0, 1, 1, 0, 2, 1, 1, 1, 1, 1, 0, 1, 1, 0, 2, 1, 0, 1, 0, 0, 2, 1, 2, 1, 0, 0, 0, 1, 0, 0, 0, 1, 1, 0, 0, 2, 0, 1, 0, 0, 1, 2, 1, 0, 0, 1, 2, 1, 0, 2, 1, 2, 1, 0, 2, 1, 0, 0, 0, 1, 0, 0, 0, 0, 1, 0, 2, 0, 0, 1, 2, 1, 1, 1, 0, 1, 0, 0, 1, 0, 0, 2, 2, 1, 0, 0, 1, 1, 0, 0, 1, 0, 0, 0, 1, 0, 1, 2, 0, 1, 1, 0, 2, 0, 2, 2, 0, 2, 0, 1, 0, 1, 2, 0, 1, 0, 1, 1, 2, 0, 1, 0, 2, 1, 1, 0, 2, 0, 1, 0, 2, 1, 1, 2, 0, 0, 1, 0, 0, 0, 0, 1, 1, 2, 1, 0, 0, 1, 1, 0, 0, 0, 1, 1, 0, 0, 1, 2, 0, 1, 1, 0, 2, 0, 0, 1, 1, 0, 0, 1, 0, 2, 0, 0, 0, 1, 1, 0, 1, 1, 1, 1, 1, 1, 1, 1, 1, 1, 0, 1, 1, 0, 1, 2, 0, 1, 2, 2, 2, 1, 1, 1, 0, 0, 2, 2, 0, 0, 0, 1, 0, 0, 0, 1, 1, 2, 1, 0, 2, 1, 1, 0, 1, 1, 0, 2, 0, 0, 1, 0, 1, 1, 0, 1, 0, 0, 0, 1, 1, 0, 1, 0, 0, 0, 0, 0, 0, 0, 0, 0, 0, 1, 0, 1, 2, 0, 0, 2, 1, 0, 1, 0, 1, 0, 2, 2, 0, 1, 1, 1, 0, 1, 0, 0, 1, 1, 1, 1, 0, 2, 1, 1, 2, 1, 0, 1, 1, 1, 0, 0, 0, 0, 1, 1, 2, 2, 1, 0, 1, 1, 2, 1, 0, 0, 2, 1, 1, 1, 1, 1, 0, 0, 1, 0, 2, 2, 0, 0, 1, 0, 0, 0, 0, 1, 1, 0, 0, 1, 0, 2, 0, 0, 0, 0, 1, 1, 1, 0, 2, 1, 0, 0, 0, 2, 0, 2, 1, 0, 0, 0, 1, 2, 0, 2, 2, 1, 0, 0, 2, 0, 2, 1, 2, 2, 2, 1, 0, 1, 1, 1, 0, 1, 0, 1, 2, 0, 0, 2, 1, 2, 0, 2, 0, 0, 0, 1, 1, 0, 0, 1, 1, 1, 0, 0, 0, 0, 0, 1, 0, 0, 0, 0, 1, 1, 1, 0, 0, 2, 1, 1, 1, 0, 1, 1, 0, 2, 2, 2, 2, 0, 1, 0, 1, 0, 0, 0, 0, 1, 2, 1, 0, 1, 1, 1, 0, 0, 1, 0, 1, 1, 2, 0, 1, 2, 0, 1, 0, 2, 0, 0, 1, 1, 0, 2, 1, 2, 1, 1, 1, 1, 2, 1, 0, 1, 0, 1, 2, 0, 2, 1, 0, 0, 1, 0, 2, 2, 2, 0, 0, 1, 0, 1, 0, 0, 2, 0, 1, 1, 2, 0, 0, 2, 2, 2, 1, 1, 1, 0, 1, 0, 0, 0, 2, 0, 1, 0, 1, 0, 0, 1, 0, 1, 2, 0, 2, 1, 2, 1, 0, 1, 0, 1, 0, 0, 2, 0, 1, 1, 1, 2, 0, 2, 1, 0, 1, 1, 1, 0, 1, 2, 0, 1, 1, 0, 1, 0, 2, 2, 2, 0, 0, 2, 1, 1, 0, 1, 0, 1, 0, 0, 1, 1, 0, 0, 0, 0, 0, 0, 2, 1, 0, 2, 1, 0, 0, 0, 1, 0, 1, 0, 0, 1, 0, 0, 2, 0, 2, 0, 2, 0, 0, 1, 0, 0, 2, 1, 1, 0, 0, 1, 1, 1, 2, 2, 0, 2, 0, 0, 0, 0, 0, 1, 0, 1, 0, 1, 0, 0, 0, 0, 0, 1, 1, 0, 0, 0, 0, 2, 2, 1, 0, 1, 0, 2, 2, 0, 1, 2, 0, 2, 2, 0, 0, 0, 1, 1, 1, 0, 0, 1, 0, 0, 2, 2, 0, 1, 0, 0, 0, 1, 2, 1, 0, 0, 2, 1, 0, 0, 1, 2, 0, 2, 0, 2, 1, 1, 0, 1, 1, 1, 1, 1, 2, 2, 0, 0, 2, 1, 0, 0, 0, 0, 0, 0, 0, 2, 0, 1, 1, 0, 0, 0, 2, 0, 2, 2, 0, 1, 2, 0, 0, 1, 0, 1, 1, 0, 0, 1, 0, 0, 0, 0, 1, 1, 2, 1, 0, 2, 0, 0, 1, 1, 2, 1, 0, 1, 0, 1, 2, 0, 0, 1, 2, 2, 0, 0, 2, 0, 2, 1, 1, 0, 0, 0, 1, 2, 0, 1, 0, 0, 0, 0, 0, 0, 1, 0, 2, 1, 0, 2, 0, 2, 0, 1, 1, 2, 1, 1, 1, 1, 2, 0, 1, 0, 1, 1, 1, 2, 1, 2, 1, 0, 0, 1, 0, 2, 0, 1, 1, 1, 0, 1, 0, 0, 1, 2, 0, 1, 0, 1, 2, 1, 0, 2, 0, 1, 0, 1, 0, 2, 1, 1, 0, 1, 1, 1, 0, 0, 1, 2, 1, 0, 1, 2, 2, 0, 1, 0, 0, 2, 0, 0, 1, 1, 2, 1, 2, 0, 2, 0, 1, 2, 1, 1, 0, 1, 1, 2, 1, 0, 1, 0, 1, 1, 1, 0, 1, 1, 1, 2, 1, 1, 1, 2, 1, 2, 1, 0, 0, 0, 2, 1, 1, 0, 1, 0, 0, 1, 1, 0, 1, 1, 2, 1, 0, 0, 2, 1, 2, 0, 0, 1, 1, 1, 2, 0, 0, 1, 2, 2, 2, 1, 0, 1, 2, 2, 0, 1, 0, 0, 1, 0, 0, 1, 1, 2, 1, 0, 0, 2, 1, 0, 0, 1, 0, 1, 0, 2, 0, 1, 1, 1, 0, 0, 0, 2, 0, 0, 0, 1, 2, 0, 2, 1, 2, 0, 1, 2, 1, 0, 2, 1, 1, 2, 0, 1, 0, 1, 0, 0, 1, 1, 1, 1, 1, 0, 2, 2, 2, 0, 0, 1, 2, 2, 1, 1, 1, 1, 1, 0, 0, 0, 2, 0, 0, 2, 1, 0, 1, 2, 0, 2, 1, 0, 2, 0, 2, 2, 0, 0, 1, 1, 1, 0, 0, 0, 2, 1, 0, 0, 1, 1, 1, 1, 1, 0, 0, 1, 0, 1, 1, 2, 0, 1, 0, 0, 1, 0, 0, 1, 2, 2, 1, 0, 0, 1, 2, 2, 0, 1, 0, 1, 0, 0, 1, 1, 0, 0, 1, 0, 1, 0, 0, 2, 0, 0, 2, 2, 2, 2, 0, 0, 0, 2, 1, 0, 1, 2, 0, 1, 2, 0, 0, 2, 0, 0, 0, 1, 1, 0, 0, 1, 0, 2, 1, 1, 0, 1, 1, 1, 1, 0, 2, 1, 1, 0, 1, 2, 1, 2, 0, 2, 1, 2, 2, 1, 0, 0, 1, 0, 0, 0, 0, 1, 0, 0, 0, 0, 1, 0, 2, 0, 0, 2, 0, 1, 1, 1, 0, 0, 2, 1, 1, 1, 1, 1, 0, 1, 1, 0, 0, 0, 0, 2, 0, 2, 2, 0, 1, 1, 2, 0, 0, 1, 1, 0, 1, 1, 0, 1, 0, 1, 1, 2, 0, 0, 1, 1, 0, 1, 0, 1, 0, 1, 2, 1, 1, 1, 1, 0, 2, 0, 0, 1, 1, 1, 1, 2, 1, 0, 0, 1, 0, 2, 1, 0, 0, 0, 1, 1, 1, 1, 0, 2, 1, 0, 1, 1, 1, 0, 0, 1, 0, 0, 1, 1, 0, 1, 1, 0, 1, 1, 0, 2, 0, 0, 1, 0, 1, 0, 0, 2, 1, 2, 2, 1, 0, 1, 0, 0, 1, 0, 0, 1, 1, 1, 0, 1, 1, 2, 0, 2, 1, 2, 0, 0, 2, 1, 2, 1, 2, 0, 0, 2, 1, 2, 0, 2, 2, 2, 0, 0, 0, 2, 1, 0, 0, 0, 0, 0, 0, 2, 0, 0, 1, 0, 2, 1, 0, 2, 0, 2, 0, 2, 0, 1, 0, 2, 2, 1, 1, 1, 0, 1, 1, 0, 1, 0, 1, 1, 0, 0, 1, 1, 2, 1, 0, 0, 0, 0, 2, 1, 1, 2, 0, 1, 1, 1, 1, 1, 2, 1, 0, 0, 2, 1, 0, 2, 2, 0, 1, 1, 0, 2, 1, 0, 2, 1, 0, 1, 1, 0, 0, 2, 0, 1, 2, 1, 0, 1, 2, 0, 0, 0, 0, 0, 1, 0, 0, 2, 2, 0, 0, 0, 2, 0, 1, 1, 1, 0, 0, 0, 2, 1, 1, 0, 2, 0, 1, 0, 0, 1, 1, 2, 0, 0, 1, 1, 2, 0, 2, 0, 1, 2, 0, 0, 1, 2, 1, 1, 0, 0, 2, 0, 1, 1, 2, 2, 1, 0, 0, 0, 0, 0, 0, 0, 0, 0, 0, 1, 0, 0, 1, 1, 0, 1, 0, 0, 1, 1, 1, 0, 1, 1, 1, 1, 2, 2, 1, 0, 0, 0, 1, 0, 0, 1, 0, 0, 0, 0, 1, 1, 1, 0, 0, 0, 0, 1, 0, 1, 1, 1, 1, 2, 1, 2, 0, 1, 1, 0, 2, 0, 0, 1, 1, 0, 2, 1, 2, 2, 2, 1, 0, 2, 0, 1, 1, 0, 0, 0, 1, 2, 0, 2, 0, 1, 0, 0, 0, 0, 2, 2, 1, 1, 0, 0, 1, 2, 0, 2, 1, 1, 1, 0, 1, 0, 1, 1, 1, 2, 1, 0, 1, 2, 0, 0, 0, 0, 0, 0, 1, 0, 0, 2, 0, 0, 2, 0, 2, 1, 0, 1, 1, 0, 0, 1, 0, 0, 0, 0, 2, 1, 1, 2, 1, 0, 1, 2, 0, 0, 0, 1, 1, 1, 2, 0, 1, 0, 1, 0, 0, 0, 2, 0, 1, 2, 0, 0, 1, 0, 1, 0, 2, 1, 0, 2, 1, 0, 0, 1, 1, 1, 0, 1, 0, 1, 2, 2, 2, 0, 2, 0, 1, 2, 0, 0, 2, 0, 1, 0, 1, 0, 0, 1, 1, 1, 0, 2, 0, 0, 2, 2, 0, 1, 1, 2, 0, 0, 0, 0, 0, 2, 2, 0, 2, 1, 0, 1, 0, 1, 0, 1, 0, 0, 1, 2, 1, 1, 0, 1, 1, 1, 1, 2, 2, 0, 1, 2, 2, 1, 0, 2, 2, 0, 1, 2, 0, 0, 0, 0, 2, 1, 2, 2, 1, 1, 1, 0, 0, 0, 2, 1, 1, 0, 2, 0, 2, 1, 1, 0, 0, 1, 1, 0, 0, 1, 2, 2, 0, 2, 1, 0, 2, 0, 2, 1, 1, 1, 0, 0, 2, 0, 1, 0, 0, 0, 1, 2, 0, 0, 0, 1, 1, 1, 0, 0, 1, 0, 0, 0, 1, 0, 1, 0, 0, 0, 0, 1, 0, 0, 2, 1, 2, 0, 0, 0, 2, 0, 1, 1, 1, 2, 0]}, \"mode\": \"markers\", \"type\": \"scatter3d\", \"x\": [2, 2, 0, 0, 3, 0, 0, 2, 0, 5, 0, 6, 2, 7, 0, 3, 9, 4, 2, 5, 3, 0, 2, 0, 4, 4, 9, 5, 2, 12, 0, 4, 1, 2, 5, 3, 4, 6, 1, 0, 0, 0, 0, 4, 5, 0, 4, 5, 2, 3, 0, 0, 0, 0, 0, 3, 2, 5, 2, 0, 2, 3, 0, 4, 0, 0, 2, 3, 4, 5, 3, 4, 5, 5, 3, 0, 2, 3, 3, 2, 4, 7, 0, 1, 2, 7, 0, 3, 1, 0, 6, 3, 0, 3, 3, 3, 2, 2, 12, 0, 1, 3, 1, 0, 3, 3, 4, 5, 5, 0, 0, 3, 3, 3, 0, 3, 1, 2, 6, 6, 2, 0, 4, 1, 5, 3, 3, 7, 3, 0, 3, 3, 0, 0, 0, 3, 0, 1, 3, 6, 5, 5, 1, 0, 0, 2, 3, 10, 2, 6, 1, 3, 2, 3, 3, 2, 0, 4, 5, 1, 0, 0, 5, 2, 1, 1, 1, 12, 0, 0, 6, 1, 4, 5, 2, 5, 5, 3, 2, 3, 5, 4, 0, 2, 1, 4, 0, 7, 12, 5, 4, 0, 0, 1, 3, 2, 0, 4, 3, 4, 4, 0, 7, 4, 3, 5, 0, 0, 1, 3, 0, 2, 2, 3, 1, 0, 2, 4, 2, 6, 0, 4, 3, 2, 8, 2, 4, 3, 0, 2, 0, 0, 0, 4, 1, 0, 1, 0, 4, 0, 0, 0, 5, 0, 1, 0, 6, 5, 1, 3, 3, 3, 5, 2, 4, 10, 0, 0, 0, 0, 3, 3, 4, 0, 0, 7, 3, 1, 2, 0, 0, 0, 0, 5, 4, 6, 6, 1, 3, 1, 11, 1, 1, 3, 3, 7, 1, 2, 0, 3, 3, 5, 0, 3, 0, 0, 1, 5, 4, 0, 3, 0, 0, 0, 0, 0, 5, 0, 2, 6, 6, 3, 1, 1, 5, 0, 0, 2, 0, 0, 5, 2, 8, 5, 0, 6, 1, 0, 1, 0, 3, 3, 2, 0, 3, 0, 4, 1, 4, 5, 1, 2, 10, 3, 2, 4, 11, 0, 0, 4, 4, 15, 0, 2, 4, 2, 4, 1, 1, 4, 0, 0, 1, 0, 5, 0, 1, 0, 2, 0, 4, 6, 1, 0, 0, 0, 4, 0, 2, 1, 4, 0, 2, 1, 0, 1, 2, 5, 0, 3, 2, 2, 0, 3, 0, 4, 3, 1, 3, 0, 1, 0, 3, 2, 3, 2, 0, 0, 8, 4, 0, 0, 0, 3, 3, 2, 2, 1, 5, 3, 5, 2, 1, 0, 2, 5, 8, 5, 3, 1, 4, 4, 0, 8, 4, 0, 5, 0, 9, 2, 0, 0, 3, 2, 5, 0, 0, 4, 4, 5, 0, 0, 0, 2, 0, 1, 0, 1, 3, 0, 0, 1, 0, 4, 1, 5, 1, 2, 5, 2, 2, 5, 0, 4, 4, 3, 2, 1, 2, 3, 2, 3, 1, 4, 4, 1, 8, 5, 4, 1, 5, 5, 0, 1, 1, 1, 0, 2, 0, 3, 0, 0, 0, 5, 1, 5, 2, 6, 4, 6, 1, 0, 1, 4, 1, 2, 3, 0, 0, 3, 1, 8, 0, 4, 1, 6, 0, 0, 2, 5, 1, 3, 7, 4, 1, 5, 4, 0, 0, 1, 2, 2, 0, 7, 0, 0, 1, 7, 0, 3, 2, 3, 1, 1, 6, 3, 0, 6, 2, 0, 0, 0, 0, 4, 0, 6, 2, 8, 2, 0, 0, 0, 5, 3, 1, 3, 4, 4, 0, 2, 3, 7, 5, 4, 0, 3, 2, 4, 0, 0, 6, 4, 0, 0, 4, 1, 4, 0, 0, 2, 2, 4, 0, 4, 0, 1, 0, 0, 2, 4, 0, 0, 1, 1, 3, 4, 0, 0, 0, 5, 4, 10, 0, 9, 3, 0, 6, 2, 1, 0, 2, 6, 1, 2, 4, 1, 1, 0, 1, 2, 3, 2, 2, 5, 2, 4, 4, 0, 4, 1, 0, 3, 2, 3, 0, 1, 5, 3, 0, 0, 1, 13, 0, 1, 2, 8, 0, 4, 0, 3, 0, 0, 0, 6, 0, 2, 3, 0, 3, 4, 3, 3, 1, 3, 12, 1, 1, 5, 1, 0, 1, 0, 1, 2, 3, 3, 1, 4, 1, 1, 3, 2, 4, 0, 2, 10, 6, 0, 3, 1, 0, 0, 3, 2, 0, 0, 0, 4, 5, 1, 1, 2, 2, 3, 5, 0, 1, 6, 0, 4, 3, 0, 0, 3, 5, 1, 7, 3, 3, 0, 4, 0, 2, 0, 1, 0, 2, 0, 6, 3, 2, 3, 5, 2, 16, 1, 6, 4, 3, 0, 1, 18, 2, 2, 3, 0, 0, 1, 1, 0, 2, 0, 5, 1, 0, 3, 1, 1, 6, 2, 0, 5, 2, 4, 1, 0, 1, 2, 4, 4, 5, 2, 5, 6, 0, 0, 0, 0, 5, 1, 2, 1, 2, 3, 3, 4, 2, 0, 1, 2, 2, 4, 0, 4, 4, 3, 0, 0, 4, 3, 2, 3, 0, 2, 0, 10, 1, 4, 3, 0, 5, 3, 3, 2, 3, 0, 10, 2, 3, 1, 2, 2, 2, 0, 0, 8, 0, 2, 3, 3, 9, 1, 4, 5, 2, 0, 3, 2, 1, 13, 1, 1, 3, 0, 0, 1, 0, 0, 0, 8, 0, 1, 7, 0, 0, 3, 3, 0, 3, 5, 2, 1, 0, 4, 1, 6, 6, 3, 0, 5, 3, 4, 2, 2, 0, 0, 4, 5, 3, 5, 0, 0, 2, 7, 0, 5, 4, 2, 0, 1, 0, 3, 0, 0, 3, 0, 2, 1, 2, 3, 4, 4, 0, 1, 3, 7, 0, 3, 1, 5, 0, 3, 5, 5, 0, 0, 2, 3, 2, 3, 2, 4, 0, 1, 2, 1, 0, 2, 1, 2, 2, 0, 1, 3, 1, 6, 1, 0, 0, 2, 1, 0, 2, 2, 1, 0, 0, 4, 5, 0, 10, 3, 1, 1, 1, 1, 1, 0, 7, 0, 3, 1, 3, 2, 0, 0, 0, 1, 0, 4, 2, 0, 2, 0, 2, 1, 4, 0, 0, 4, 1, 0, 6, 5, 0, 0, 0, 2, 0, 0, 0, 0, 0, 2, 2, 1, 0, 0, 2, 0, 3, 2, 1, 0, 2, 0, 1, 7, 0, 3, 0, 2, 0, 1, 1, 0, 0, 8, 4, 1, 3, 1, 1, 2, 0, 2, 0, 0, 1, 0, 2, 3, 1, 0, 0, 0, 5, 3, 0, 2, 7, 0, 3, 0, 1, 2, 1, 0, 8, 1, 0, 0, 0, 3, 2, 2, 7, 0, 4, 0, 0, 1, 0, 3, 3, 2, 0, 0, 2, 5, 0, 2, 0, 2, 3, 0, 4, 6, 8, 3, 2, 2, 0, 4, 0, 5, 3, 1, 7, 4, 0, 1, 2, 0, 5, 2, 0, 1, 0, 5, 0, 0, 3, 3, 2, 2, 0, 6, 0, 0, 0, 0, 6, 2, 2, 0, 4, 2, 4, 0, 1, 0, 4, 10, 4, 6, 3, 6, 0, 0, 0, 0, 0, 6, 7, 3, 3, 1, 0, 3, 0, 5, 2, 2, 0, 2, 2, 5, 3, 6, 5, 3, 4, 0, 3, 0, 4, 1, 2, 5, 2, 2, 1, 1, 2, 0, 0, 1, 2, 2, 0, 4, 2, 1, 1, 0, 9, 4, 3, 0, 2, 4, 0, 0, 0, 8, 2, 4, 0, 3, 1, 6, 0, 0, 0, 0, 4, 3, 5, 2, 0, 0, 1, 4, 5, 2, 2, 0, 3, 2, 2, 3, 1, 0, 2, 3, 5, 0, 0, 1, 0, 0, 4, 11, 0, 0, 9, 0, 0, 2, 0, 2, 19, 0, 4, 11, 2, 1, 1, 4, 2, 6, 2, 2, 2, 0, 0, 3, 0, 2, 0, 0, 3, 2, 4, 0, 0, 3, 3, 3, 1, 2, 0, 0, 2, 5, 2, 2, 0, 2, 0, 7, 2, 0, 0, 2, 2, 2, 4, 0, 3, 10, 0, 3, 3, 0, 7, 9, 3, 3, 1, 1, 5, 0, 0, 0, 0, 0, 4, 11, 5, 0, 3, 2, 5, 1, 2, 3, 1, 5, 3, 0, 0, 0, 0, 2, 2, 4, 1, 0, 0, 3, 4, 0, 2, 3, 0, 7, 0, 1, 5, 2, 1, 1, 4, 4, 6, 0, 6, 0, 3, 5, 2, 10, 2, 4, 3, 1, 0, 1, 2, 4, 4, 0, 0, 0, 0, 0, 3, 2, 3, 2, 3, 1, 4, 1, 2, 3, 2, 3, 3, 0, 4, 1, 5, 2, 4, 0, 0, 0, 3, 0, 1, 0, 4, 3, 10, 4, 4, 1, 0, 0, 5, 5, 0, 0, 3, 2, 3, 3, 5, 5, 5, 4, 11, 2, 3, 0, 3, 4, 2, 0, 3, 0, 2, 7, 1, 11, 0, 1, 4, 1, 3, 5, 2, 0, 0, 0, 3, 0, 0, 4, 0, 0, 2, 1, 2, 1, 0, 1, 4, 5, 3, 0, 0, 5, 3, 0, 5, 3, 2, 3, 4, 0, 2, 7, 0, 0, 0, 0, 0, 4, 1, 0, 0, 2, 3, 0, 2, 3, 3, 2, 3, 2, 1, 0, 4, 1, 0, 3, 0, 2, 4, 3, 1, 3, 0, 7, 3, 3, 2, 0, 3, 3, 0, 6, 4, 1, 1, 0, 1, 4, 4, 1, 0, 1, 3, 3, 0, 2, 1, 3, 0, 1, 0, 0, 2, 0, 0, 4, 13, 2, 3, 7, 9, 3, 3, 0, 0, 2, 3, 0, 1, 0, 5, 4, 1, 0, 0, 0, 4, 0, 2, 3, 3, 0, 3, 0, 0, 3, 5, 0, 2, 13, 2, 3, 1, 1, 5, 0, 0, 5, 0, 0, 4, 0, 5, 3, 0, 3, 5, 3, 1, 3, 0, 0, 3, 0, 4, 0, 4, 4, 5, 2, 1, 2, 4, 0, 2, 6, 3, 0, 0, 1, 0, 1, 0, 0, 5, 1, 6, 0, 2, 0, 0, 5, 4, 5, 2, 4, 0, 3, 4, 0, 7, 3, 0, 2, 10, 0, 1, 1, 14, 0, 0, 3, 2, 4, 0, 2, 2, 7, 1, 8, 1, 1, 3, 0, 0, 2, 4, 10, 1, 5, 0, 0, 1, 1, 3, 0, 8, 1, 3, 3, 0, 1, 0, 1, 1, 4, 1, 4, 1, 5, 5, 4, 3, 6, 13, 3, 2, 7, 5, 0, 2, 2, 0, 0, 4, 0, 0, 0, 1, 2, 0, 6, 0, 2, 0, 0, 2, 4, 4, 2, 3, 1, 3, 0, 0, 5, 2, 11, 3, 0, 0, 13, 2, 1, 0, 1, 7, 3, 0, 0, 6, 8, 0, 4, 0, 2, 3, 0, 3, 7, 5, 3, 1, 3, 3, 0, 2, 3, 3, 3, 9, 4, 0, 3, 2, 5, 7, 0, 0, 0, 2, 0, 0, 0, 4, 3, 2, 3, 0, 0, 0, 4, 2, 0, 0, 0, 0, 4, 1, 1, 0, 2, 4, 3, 1, 0, 2, 0, 0, 2, 0, 6, 4, 0, 5, 5, 5, 4, 4, 4, 0, 2, 4, 2, 11, 4, 3, 1, 0, 10, 2, 0, 3, 0, 1, 1, 1, 0, 0, 0, 1, 5, 1, 0, 5, 0, 3, 8, 2, 0, 4, 0, 0, 0, 0, 3, 1, 2, 0, 1, 0, 2, 3, 9, 1, 2, 4, 3, 1, 5, 3, 0, 2, 0, 3, 1, 0, 2, 1, 0, 3, 0, 4, 0, 1, 5, 0, 5, 0, 2, 7, 0, 4, 0, 1, 3, 2, 8, 4, 3, 0, 4, 2, 0, 3, 5, 4, 6, 0, 4, 1, 0, 4, 0, 0, 0, 0, 2, 9, 0, 4, 3, 0, 3, 0, 0, 7, 3, 2, 0, 6, 9, 2, 4, 2, 4, 2, 0, 0, 3, 4, 4, 9, 3, 0, 2, 2, 0, 0, 0, 5, 5, 2, 0, 0, 0, 1, 0, 0, 0, 0, 0, 0, 2, 0, 0, 0, 0, 5, 2, 4, 5, 4, 0, 0, 0, 2, 0, 4, 0, 2, 0, 4, 0, 2, 5, 2, 4, 5, 0, 2, 0, 0, 0, 0, 0, 6, 0, 1, 3, 0, 6, 4, 10, 0, 2, 0, 2, 0, 0, 3, 6, 0, 0, 1, 3, 3, 2, 10, 5, 0, 2, 4, 7, 0, 1, 1, 5, 0, 0, 0, 1, 0, 0, 0, 0, 2, 3, 4, 2, 4, 3, 1, 1, 0, 9, 0, 1, 1, 3, 0, 1, 4, 4, 11, 0, 3, 3, 5, 5, 4, 3, 0, 0, 2, 3, 0, 4, 0, 3, 0, 5, 0, 2, 0, 1, 4, 0, 0, 0, 3, 0, 1, 8, 14, 4, 0, 1, 0, 0, 4, 0, 1, 0, 4, 0, 1, 3, 4, 0, 1, 0, 2, 3, 0, 1, 0, 0, 4, 0, 1, 0, 1, 7, 0, 5, 0, 3, 4, 0, 3, 1, 4, 1, 2, 2, 0, 3, 3, 5, 1, 1, 0, 0, 0, 4, 4, 1, 2, 0, 0, 2, 0, 0, 3, 2, 0, 3, 0, 1, 0, 4, 0, 0, 3, 4, 1, 3, 0, 7, 0, 1, 2, 1, 0, 7, 2, 2, 0, 3, 2, 1, 3, 2, 3, 4, 2, 0, 0, 0, 0, 1, 8, 0, 3, 4, 4, 2, 2, 1, 8, 1, 4, 2, 4, 4, 2, 2, 4, 0, 1, 2, 0, 0, 1, 0, 0, 2, 3, 3, 3, 0, 5, 4, 1, 4, 0, 3, 0, 1, 1, 0, 5, 4, 0, 1, 0, 2, 3, 3, 1, 1, 4, 0, 4, 5, 0, 0, 6, 0, 5, 3, 0, 0, 2, 4, 5, 1, 4, 0, 8, 9, 0, 3, 2, 0, 3, 0, 4, 2, 7, 0, 3, 12, 4, 4, 1, 0, 8, 0, 2, 1, 4, 0, 0, 9, 1, 1, 0, 10, 5, 1, 3, 0, 0, 3, 4, 3, 0, 1, 1, 3, 1, 5, 6, 4, 0, 4, 3, 2, 1, 3, 0, 5, 9, 0, 1, 2, 4, 1, 0, 0, 4, 3, 3, 0, 4, 3, 5, 5, 6, 3, 0, 0, 3, 0, 4, 0, 0, 0, 7, 1, 9, 1, 2, 3, 5, 4, 3, 0, 0, 0, 5, 3, 0, 0, 0, 2, 4, 0, 0, 0, 5, 0, 0, 2, 5, 3, 1, 2, 0, 5, 1, 4, 21, 3, 4, 0, 0, 0, 2, 3, 4, 0, 8, 3, 3, 3, 8, 1, 2, 2, 0, 6, 4, 6, 0, 0, 0, 2, 4, 4, 8, 3, 1, 4, 2, 1, 7, 1, 0, 1, 2, 2, 4, 2, 3, 1, 0, 4, 5, 0, 0, 3, 4, 0, 0, 4, 3, 4, 5, 4, 0, 0, 1, 0, 0, 6, 0, 1, 0, 2, 4, 3, 11, 5, 0, 4, 2, 1, 3, 1, 0, 3, 4, 0, 3, 6, 0, 3, 3, 3, 4, 3, 0, 10, 0, 4, 0, 1, 2, 2, 0, 4, 0, 7, 0, 4, 0, 5, 14, 1, 7, 0, 3, 2, 0, 0, 0, 4, 2, 2, 0, 10, 3, 1, 1, 0, 2, 0, 5, 2, 14, 2, 3, 2, 2, 1, 1, 0, 1, 0, 0, 1, 1, 4, 1, 7, 0, 0, 1, 8, 0, 3, 1, 0, 2, 4, 2, 0, 0, 0, 2, 0, 0, 4, 5, 1, 0, 1, 6, 0, 3, 0, 0, 6, 3, 3, 3, 1, 3, 1, 6, 0, 0, 3, 8, 2, 3, 0, 0, 1, 3, 3, 2, 5, 0, 3, 3, 2, 2, 1, 3, 0, 0, 4, 0, 1, 3, 1, 0, 1, 0, 0, 1, 0, 3, 8, 3, 3, 0, 5, 3, 3, 0, 1, 4, 0, 2, 5, 6, 3, 2, 4, 2, 0, 4, 5, 2, 0, 4, 0, 0, 0, 2, 0, 0, 3, 2, 2, 2, 4, 5, 8, 0, 1, 0, 6, 0, 4, 2, 0, 3, 5, 0, 2, 3, 3, 2, 0, 2, 0, 2, 2, 4, 1, 0, 4, 1, 0, 1, 0, 4, 3, 3, 0, 0, 2, 1, 3, 3, 0, 2, 1, 4, 3, 5, 7, 3, 0, 0, 2, 3, 3, 5, 0, 1, 5, 6, 3, 4, 0, 0, 0, 2, 3, 0, 2, 0, 3, 3, 2, 0, 0, 0, 5, 0, 1, 4, 0, 2, 9, 4, 2, 0, 1, 0, 6, 0, 0, 10, 1, 1, 4, 5, 0, 0, 1, 1, 4, 0, 1, 2, 0, 7, 9, 2, 0, 0, 1, 3, 2, 5, 2, 0, 0, 0, 2, 0, 5, 0, 3, 3, 0, 0, 1, 0, 0, 6, 1, 5, 9, 4, 0, 3], \"y\": [337, 190, 657, 767, 502, 276, 722, 575, 1516, 167, 998, 1375, 6, 897, 686, 1221, 268, 668, 779, 656, 220, 96, 266, 15, 1128, 717, 1419, 624, 819, 1320, 172, 323, 3, 752, 467, 859, 452, 647, 439, 982, 111, 665, 276, 534, 808, 852, 136, 1280, 470, 647, 888, 955, 14, 234, 1143, 1156, 391, 888, 804, 612, 1429, 229, 18, 347, 738, 593, 72, 251, 2, 431, 626, 932, 465, 987, 436, 335, 1148, 54, 600, 364, 33, 1668, 1027, 1123, 433, 1052, 420, 225, 734, 55, 751, 134, 1405, 468, 1235, 1723, 165, 407, 872, 42, 831, 237, 756, 711, 546, 587, 851, 123, 1396, 54, 878, 1694, 924, 749, 396, 374, 510, 1502, 1024, 863, 711, 557, 728, 312, 370, 844, 560, 1414, 168, 1170, 1714, 1504, 446, 576, 129, 745, 506, 103, 461, 862, 1748, 1093, 360, 1151, 218, 847, 554, 262, 261, 133, 1635, 939, 259, 599, 420, 785, 961, 9, 485, 1511, 20, 1391, 1278, 1103, 297, 978, 345, 1037, 206, 988, 1296, 469, 35, 583, 207, 1631, 1292, 823, 901, 167, 889, 631, 496, 502, 147, 1505, 570, 1392, 1255, 342, 1435, 255, 736, 230, 535, 328, 719, 64, 78, 312, 750, 67, 738, 748, 260, 542, 1020, 72, 648, 54, 1158, 182, 330, 1061, 1703, 329, 628, 231, 1223, 237, 518, 367, 892, 107, 1481, 285, 299, 962, 1185, 280, 742, 436, 1486, 1102, 328, 1099, 234, 237, 269, 888, 868, 299, 1049, 289, 585, 591, 482, 1413, 131, 131, 620, 452, 629, 712, 572, 535, 1080, 179, 1255, 519, 1550, 87, 708, 314, 1289, 850, 1064, 581, 412, 637, 46, 482, 998, 679, 1082, 540, 767, 140, 1286, 407, 923, 962, 1494, 513, 1383, 1390, 699, 920, 150, 460, 155, 139, 917, 395, 1271, 782, 103, 597, 557, 1239, 397, 1757, 678, 1779, 904, 507, 622, 317, 1096, 672, 1011, 436, 646, 184, 1089, 547, 1583, 156, 801, 461, 804, 604, 1016, 981, 771, 751, 965, 593, 46, 839, 298, 944, 1147, 1769, 122, 634, 860, 193, 749, 249, 1434, 924, 1333, 1070, 107, 318, 1053, 580, 488, 455, 651, 690, 116, 621, 504, 1314, 500, 46, 958, 8, 1091, 345, 1322, 702, 297, 194, 696, 858, 1255, 312, 340, 1040, 107, 126, 172, 122, 1107, 1636, 327, 538, 982, 99, 577, 974, 67, 57, 47, 1160, 646, 244, 603, 1346, 1460, 911, 1301, 341, 176, 946, 1002, 231, 1707, 919, 1144, 1676, 560, 1098, 112, 1093, 1394, 90, 356, 32, 1082, 841, 820, 66, 766, 614, 92, 325, 1608, 568, 228, 475, 990, 369, 866, 169, 756, 110, 684, 125, 385, 635, 492, 256, 282, 103, 1241, 1, 693, 308, 1029, 275, 142, 209, 97, 890, 459, 312, 365, 951, 1593, 576, 507, 36, 788, 781, 355, 338, 1220, 778, 1779, 1319, 440, 1072, 358, 77, 1229, 3, 17, 1352, 684, 1272, 235, 802, 753, 373, 234, 1393, 676, 303, 779, 1402, 47, 743, 855, 162, 1475, 756, 138, 960, 651, 901, 1561, 8, 1143, 107, 652, 1439, 1063, 118, 521, 227, 400, 287, 1449, 1039, 169, 514, 1071, 542, 805, 1614, 1438, 1190, 201, 874, 738, 79, 425, 1420, 141, 921, 624, 526, 91, 1189, 106, 227, 122, 356, 12, 666, 60, 247, 749, 110, 639, 1125, 125, 698, 126, 155, 577, 602, 802, 1104, 556, 606, 1738, 1607, 34, 222, 801, 1425, 832, 693, 519, 738, 1103, 660, 500, 214, 496, 480, 147, 1788, 140, 601, 539, 1606, 775, 591, 96, 220, 325, 468, 101, 131, 287, 1145, 782, 1092, 865, 27, 911, 411, 181, 1490, 1188, 1311, 743, 149, 422, 720, 318, 658, 393, 348, 1011, 1251, 628, 886, 785, 780, 506, 1056, 106, 562, 528, 893, 613, 138, 952, 605, 280, 1530, 1362, 94, 85, 1172, 1723, 1182, 241, 881, 492, 743, 376, 40, 449, 502, 792, 51, 254, 685, 597, 619, 246, 1119, 1332, 45, 1494, 1065, 109, 320, 470, 982, 71, 1309, 192, 36, 268, 783, 52, 14, 740, 1535, 1191, 701, 1803, 1129, 427, 676, 762, 902, 446, 385, 172, 1275, 1039, 572, 744, 1176, 1037, 245, 256, 842, 934, 574, 20, 25, 640, 498, 432, 58, 1209, 1698, 265, 148, 643, 685, 596, 1060, 1346, 900, 304, 781, 886, 708, 780, 425, 494, 945, 596, 1681, 1249, 370, 1622, 805, 375, 141, 1412, 924, 361, 936, 725, 1000, 439, 825, 461, 229, 688, 75, 199, 802, 1144, 476, 890, 141, 267, 357, 1396, 959, 884, 968, 1082, 121, 44, 897, 202, 65, 1, 746, 1300, 77, 536, 13, 925, 852, 1271, 176, 1407, 324, 1291, 29, 1076, 395, 1649, 1039, 543, 1524, 1311, 40, 1498, 395, 300, 1037, 76, 316, 266, 430, 999, 269, 531, 769, 1553, 1051, 1080, 1080, 1061, 1182, 431, 480, 337, 629, 220, 716, 165, 71, 243, 309, 287, 1414, 160, 1255, 791, 1221, 1232, 982, 372, 118, 983, 898, 852, 658, 400, 477, 7, 555, 435, 81, 155, 425, 1209, 149, 116, 616, 701, 1081, 137, 570, 164, 639, 1017, 1360, 382, 680, 562, 525, 133, 620, 1069, 7, 552, 558, 1502, 260, 24, 1030, 589, 415, 94, 996, 279, 1161, 522, 541, 186, 67, 1338, 125, 113, 774, 725, 191, 949, 175, 646, 1473, 665, 568, 636, 347, 952, 809, 219, 86, 46, 1528, 1220, 118, 1356, 146, 1163, 60, 634, 902, 897, 1673, 23, 52, 960, 1618, 380, 1283, 1512, 6, 307, 1240, 23, 638, 811, 186, 634, 623, 1019, 727, 196, 620, 371, 816, 327, 385, 1429, 1034, 793, 211, 1777, 1803, 102, 946, 542, 76, 217, 549, 190, 593, 661, 57, 56, 754, 338, 29, 369, 786, 481, 310, 253, 462, 474, 911, 469, 1760, 894, 1162, 889, 422, 496, 201, 754, 1123, 1684, 808, 76, 858, 108, 1353, 116, 206, 445, 427, 762, 421, 875, 1477, 442, 985, 853, 483, 1171, 646, 766, 578, 561, 998, 318, 762, 791, 169, 1579, 1026, 183, 929, 342, 499, 1302, 680, 1378, 544, 56, 435, 136, 1053, 113, 307, 306, 549, 892, 113, 379, 1122, 365, 705, 233, 253, 598, 1269, 600, 65, 310, 704, 1660, 828, 362, 1438, 655, 1310, 815, 417, 1373, 617, 336, 227, 495, 929, 7, 380, 307, 211, 789, 312, 1158, 232, 197, 623, 1281, 635, 882, 567, 418, 647, 39, 488, 799, 493, 33, 1163, 1765, 623, 185, 274, 1036, 712, 414, 119, 750, 289, 155, 212, 617, 471, 592, 1071, 371, 587, 847, 202, 1356, 348, 1585, 1069, 8, 1648, 334, 557, 432, 727, 1188, 241, 1049, 416, 655, 534, 1581, 196, 1020, 218, 1455, 781, 986, 377, 1390, 431, 533, 231, 1615, 703, 725, 1086, 384, 299, 971, 333, 232, 199, 411, 662, 1044, 1078, 636, 350, 250, 573, 952, 155, 459, 119, 846, 948, 452, 417, 513, 1384, 501, 548, 622, 140, 1465, 483, 83, 866, 1040, 312, 311, 767, 95, 1056, 407, 293, 409, 627, 858, 246, 735, 538, 916, 812, 518, 517, 660, 879, 730, 696, 328, 642, 1040, 253, 972, 1078, 316, 1014, 1265, 1069, 1364, 907, 745, 909, 12, 310, 1513, 1329, 32, 12, 104, 678, 29, 43, 127, 925, 523, 1188, 963, 245, 1445, 783, 678, 49, 693, 580, 190, 1259, 260, 472, 841, 134, 1033, 711, 191, 593, 413, 476, 433, 893, 533, 482, 776, 433, 356, 384, 335, 418, 48, 249, 295, 208, 328, 783, 105, 732, 1428, 208, 335, 1696, 788, 440, 772, 348, 865, 429, 1202, 1421, 311, 790, 836, 744, 210, 620, 271, 470, 958, 522, 683, 552, 282, 1056, 632, 605, 1711, 758, 467, 977, 948, 1048, 498, 298, 364, 14, 985, 1012, 1102, 1491, 952, 102, 695, 908, 1112, 785, 486, 175, 1141, 536, 993, 616, 702, 856, 365, 119, 1004, 448, 1407, 1363, 115, 359, 954, 295, 345, 374, 496, 818, 1002, 11, 162, 835, 163, 1253, 36, 417, 233, 405, 766, 860, 599, 404, 1386, 863, 332, 53, 137, 1231, 132, 1133, 558, 236, 121, 482, 642, 1233, 135, 1210, 1124, 978, 207, 202, 1117, 85, 1499, 836, 1443, 1084, 1422, 602, 145, 706, 1037, 855, 287, 701, 152, 1035, 1146, 135, 359, 1169, 585, 1233, 99, 1118, 225, 107, 113, 748, 510, 68, 248, 665, 894, 712, 362, 97, 465, 68, 408, 571, 325, 456, 15, 420, 698, 778, 632, 318, 96, 1171, 1025, 1011, 510, 2, 660, 1041, 100, 1710, 1331, 1489, 1505, 265, 994, 203, 950, 145, 48, 33, 430, 655, 1253, 589, 96, 641, 548, 740, 57, 432, 529, 105, 998, 733, 1428, 1, 633, 1173, 417, 985, 303, 1424, 323, 463, 828, 845, 193, 1494, 885, 1441, 892, 881, 540, 915, 1081, 545, 26, 1027, 498, 709, 1378, 452, 1212, 754, 184, 355, 1007, 4, 1083, 1077, 1189, 326, 134, 950, 243, 1040, 152, 46, 1144, 323, 686, 978, 1369, 141, 73, 1189, 1592, 1191, 602, 882, 826, 100, 557, 156, 100, 133, 1801, 77, 774, 133, 1047, 74, 188, 1017, 184, 667, 1423, 382, 1315, 1051, 1290, 673, 315, 906, 454, 718, 227, 7, 1550, 409, 838, 633, 522, 1349, 437, 1081, 937, 268, 547, 769, 1050, 31, 599, 1073, 443, 769, 630, 249, 804, 475, 1561, 1158, 1197, 357, 413, 1712, 572, 869, 281, 859, 113, 673, 268, 379, 997, 833, 34, 411, 425, 305, 430, 14, 1410, 884, 60, 1590, 704, 259, 187, 230, 600, 284, 670, 174, 225, 790, 446, 78, 1218, 170, 1377, 114, 1495, 381, 353, 810, 156, 35, 1184, 549, 534, 196, 331, 742, 643, 516, 1605, 1421, 348, 1441, 499, 312, 104, 323, 117, 519, 52, 687, 74, 724, 108, 428, 88, 262, 2, 649, 773, 222, 309, 470, 334, 1231, 1465, 726, 353, 756, 85, 1103, 1078, 129, 740, 1185, 497, 1118, 1534, 173, 250, 102, 521, 825, 987, 422, 394, 653, 72, 456, 1408, 1626, 448, 521, 32, 330, 23, 908, 1417, 532, 31, 455, 1203, 787, 167, 161, 881, 1231, 188, 1318, 12, 1409, 738, 588, 212, 868, 573, 665, 710, 927, 1732, 1514, 122, 247, 1184, 829, 97, 320, 383, 95, 391, 167, 208, 1245, 155, 1046, 556, 189, 182, 394, 1376, 23, 1264, 1702, 59, 1035, 1196, 227, 485, 751, 304, 783, 621, 266, 414, 586, 364, 492, 221, 1, 991, 587, 1594, 641, 50, 1393, 136, 436, 1053, 688, 1409, 831, 107, 1015, 54, 986, 1072, 81, 400, 783, 1225, 1127, 477, 475, 1283, 499, 1144, 712, 718, 429, 446, 442, 1015, 1341, 98, 520, 419, 49, 450, 73, 118, 275, 830, 148, 1461, 559, 259, 1699, 99, 1420, 78, 638, 770, 1211, 808, 564, 558, 937, 1483, 454, 703, 161, 966, 795, 539, 1431, 625, 1305, 667, 159, 48, 642, 442, 1177, 243, 825, 767, 710, 56, 646, 300, 481, 901, 1496, 245, 566, 351, 677, 1657, 512, 208, 1761, 349, 531, 377, 871, 478, 1266, 1025, 703, 257, 533, 939, 787, 124, 355, 1016, 1418, 759, 314, 613, 1314, 1323, 54, 761, 230, 361, 1236, 389, 403, 727, 659, 1432, 1017, 1125, 391, 1334, 329, 802, 1158, 884, 685, 429, 765, 604, 1057, 602, 245, 564, 327, 834, 678, 698, 456, 781, 728, 726, 1069, 988, 832, 966, 1073, 598, 1577, 524, 186, 332, 36, 1149, 561, 1003, 30, 530, 32, 58, 524, 930, 278, 799, 766, 1111, 626, 202, 307, 1306, 717, 1312, 97, 322, 839, 884, 615, 1463, 474, 95, 668, 1184, 1096, 1324, 974, 373, 929, 1187, 1134, 73, 745, 498, 341, 958, 474, 111, 877, 958, 1617, 1012, 411, 406, 1332, 731, 485, 58, 898, 407, 745, 97, 1399, 396, 906, 960, 876, 161, 150, 224, 1482, 48, 242, 195, 618, 1484, 184, 1139, 648, 1159, 11, 809, 1194, 1050, 410, 1367, 917, 780, 1547, 91, 740, 475, 835, 373, 479, 578, 645, 892, 795, 917, 281, 1532, 1393, 1088, 212, 503, 728, 1103, 1277, 868, 755, 943, 1036, 915, 73, 84, 419, 1165, 244, 142, 1205, 919, 68, 591, 1391, 279, 1150, 761, 288, 1598, 269, 1206, 1280, 305, 426, 572, 570, 896, 212, 124, 304, 1636, 1043, 322, 230, 1036, 553, 853, 818, 736, 226, 480, 1032, 131, 916, 528, 1309, 12, 830, 367, 250, 868, 504, 265, 896, 1073, 1654, 898, 105, 167, 961, 1401, 1147, 335, 528, 98, 513, 132, 151, 889, 727, 74, 217, 851, 104, 1041, 150, 492, 1074, 466, 359, 1817, 1485, 1072, 1407, 445, 339, 94, 1139, 751, 370, 553, 1212, 447, 982, 1563, 422, 312, 1290, 381, 410, 207, 708, 833, 29, 280, 1025, 90, 1228, 692, 554, 158, 863, 629, 587, 608, 13, 1184, 1048, 853, 1, 701, 1570, 510, 1140, 13, 1326, 1051, 1543, 1630, 832, 372, 119, 557, 331, 7, 68, 446, 603, 102, 340, 312, 130, 830, 298, 1151, 267, 483, 1372, 130, 856, 657, 806, 228, 217, 1284, 879, 725, 745, 705, 939, 205, 629, 559, 243, 400, 186, 474, 1235, 56, 1517, 1741, 260, 657, 597, 1082, 478, 67, 995, 643, 55, 674, 567, 361, 826, 206, 867, 941, 1442, 388, 148, 920, 1048, 299, 764, 462, 1024, 278, 837, 1287, 632, 819, 944, 625, 304, 1434, 42, 86, 825, 530, 674, 648, 1531, 637, 58, 215, 973, 259, 1711, 705, 257, 113, 441, 808, 572, 625, 636, 153, 1518, 806, 81, 573, 998, 907, 95, 60, 762, 278, 468, 1012, 905, 451, 815, 969, 84, 539, 587, 5, 1471, 86, 293, 698, 487, 516, 459, 157, 1471, 726, 1220, 1699, 626, 20, 999, 239, 191, 998, 497, 451, 855, 896, 733, 285, 924, 872, 1209, 492, 1313, 573, 1475, 333, 36, 1199, 940, 1805, 1049, 1706, 458, 452, 1087, 1015, 1219, 39, 1499, 1517, 1104, 148, 199, 376, 1204, 541, 169, 93, 449, 492, 260, 228, 1715, 357, 23, 590, 117, 1380, 730, 118, 1349, 339, 1124, 95, 1310, 466, 898, 381, 1254, 1417, 582, 811, 793, 68, 1052, 848, 387, 795, 55, 942, 925, 41, 424, 963, 814, 1138, 734, 8, 179, 161, 397, 1200, 984, 1051, 1161, 165, 743, 802, 769, 898, 690, 1647, 904, 178, 417, 1147, 525, 441, 1301, 1493, 366, 881, 822, 437, 1118, 868, 375, 1614, 548, 29, 753, 795, 31, 219, 1805, 435, 623, 1161, 618, 132, 862, 1087, 61, 389, 502, 290, 154, 910, 383, 376, 1699, 1122, 221, 100, 354, 1086, 78, 576, 721, 614, 265, 504, 248, 1785, 736, 975, 389, 1233, 290, 1041, 284, 296, 541, 910, 1092, 100, 404, 835, 589, 1184, 61, 1093, 312, 667, 1519, 186, 193, 512, 1570, 869, 932, 435, 41, 1242, 332, 834, 983, 1215, 1099, 931, 226, 467, 66, 71, 18, 87, 194, 315, 404, 86, 1024, 217, 486, 868, 939, 466, 888, 457, 15, 617, 730, 1014, 440, 562, 651, 597, 941, 1284, 1649, 938, 45, 226, 332, 967, 190, 455, 626, 4, 95, 165, 314, 772, 582, 900, 299, 97, 159, 222, 903, 69, 574, 890, 613, 666, 1304, 531, 1120, 440, 1045, 668, 259, 1476, 489, 389, 969, 752, 203, 1326, 636, 1776, 1092, 1590, 590, 258, 1071, 433, 609, 558, 53, 315, 494, 740, 1533, 25, 1566, 104, 846, 315, 87, 259, 311, 1294, 1133, 648, 681, 4, 188, 884, 1614, 331, 1240, 929, 926, 587, 313, 735, 61, 835, 981, 942, 1058, 805, 433, 739, 1237, 439, 357, 218, 269, 471, 314, 1007, 378, 78, 1332, 463, 14, 1233, 431, 1059, 528, 271, 692, 707, 23, 197, 616, 182, 171, 94, 46, 1192, 569, 890, 1129, 862, 341, 593, 1814, 19, 306, 35, 1026, 673, 632, 1103, 457, 920, 5, 644, 410, 409, 331, 1231, 183, 525, 1271, 388, 236, 648, 313, 750, 424, 1092, 670, 428, 1277, 1025, 264, 344, 1019, 657, 757, 387, 578, 129, 543, 1194, 1579, 1533, 122, 1188, 215, 637, 1074, 16, 443, 1092, 253, 895, 16, 810, 223, 185, 1022, 731, 880, 466, 1229, 317, 27, 1337, 1676, 279, 797, 859, 1677, 240, 432, 331, 6, 266, 1167, 1529, 46, 1244, 880, 231, 516, 108, 710, 409, 515, 50, 339, 792, 1255, 765, 791, 350, 980, 762, 517, 696, 1718, 1199, 360, 806, 1552, 1164, 679, 325, 1426, 1360, 266, 951, 1624, 230, 88, 127, 393, 1152, 920, 1386, 1485, 862, 541, 943, 111, 353, 228, 1811, 874, 739, 357, 1520, 216, 1597, 758, 676, 161, 146, 1038, 629, 383, 495, 883, 1587, 1386, 226, 1355, 516, 169, 1407, 211, 1064, 785, 698, 926, 375, 337, 1159, 330, 928, 412, 60, 170, 606, 1354, 2, 246, 22, 834, 835, 630, 259, 389, 634, 463, 217, 195, 779, 3, 867, 430, 230, 131, 233, 631, 173, 268, 1154, 925, 1622, 227, 45, 425, 1200, 73, 730, 1005, 840, 1373, 37], \"z\": [5, 5, 9, 5, 7, 3, 1, 1, 2, 3, 0, 1, 9, 11, 3, 1, 8, 7, 5, 2, 2, 0, 0, 8, 7, 3, 7, 7, 9, 3, 0, 15, 3, 0, 4, 1, 5, 8, 2, 3, 0, 1, 4, 6, 7, 0, 5, 2, 6, 5, 9, 2, 5, 1, 0, 8, 9, 3, 2, 3, 4, 5, 4, 11, 5, 4, 6, 5, 6, 6, 6, 8, 5, 6, 5, 0, 6, 10, 9, 4, 8, 0, 4, 0, 6, 3, 0, 7, 5, 3, 12, 9, 7, 6, 3, 6, 5, 6, 7, 5, 4, 6, 7, 9, 1, 7, 6, 8, 3, 1, 5, 1, 9, 2, 7, 5, 0, 12, 7, 9, 13, 6, 0, 6, 3, 4, 8, 8, 7, 9, 0, 6, 7, 0, 1, 3, 9, 6, 7, 6, 4, 5, 5, 3, 0, 2, 5, 6, 8, 3, 5, 4, 7, 1, 5, 6, 8, 8, 6, 6, 6, 0, 5, 6, 6, 7, 4, 3, 1, 2, 2, 6, 11, 5, 7, 2, 8, 10, 6, 6, 0, 7, 3, 1, 7, 5, 0, 8, 7, 9, 4, 0, 11, 9, 8, 4, 2, 5, 6, 3, 7, 6, 7, 5, 3, 7, 6, 1, 8, 2, 0, 1, 3, 5, 8, 9, 9, 8, 0, 10, 1, 4, 1, 2, 0, 4, 4, 6, 4, 4, 5, 3, 6, 4, 2, 0, 5, 2, 1, 1, 4, 2, 3, 1, 0, 1, 5, 5, 5, 3, 8, 6, 1, 10, 0, 4, 9, 7, 9, 8, 8, 5, 5, 0, 3, 7, 8, 9, 14, 1, 3, 1, 1, 6, 4, 5, 8, 3, 3, 8, 7, 0, 5, 1, 10, 1, 5, 4, 0, 7, 0, 7, 1, 8, 6, 5, 12, 0, 10, 1, 7, 2, 2, 0, 9, 4, 6, 5, 0, 0, 0, 2, 1, 6, 2, 6, 9, 5, 4, 3, 5, 5, 1, 9, 7, 10, 5, 7, 3, 1, 3, 11, 2, 8, 8, 9, 0, 7, 3, 6, 1, 10, 7, 2, 6, 12, 7, 0, 0, 4, 10, 2, 0, 4, 5, 4, 2, 0, 5, 3, 10, 0, 4, 4, 6, 0, 2, 4, 2, 7, 11, 5, 6, 10, 3, 0, 5, 5, 11, 6, 8, 7, 2, 3, 3, 5, 4, 3, 7, 6, 3, 3, 5, 8, 3, 7, 6, 3, 3, 0, 0, 0, 0, 1, 7, 5, 0, 1, 3, 5, 5, 11, 0, 11, 0, 5, 0, 0, 5, 4, 5, 0, 1, 0, 7, 0, 0, 8, 5, 4, 3, 2, 0, 5, 8, 4, 3, 3, 4, 8, 8, 0, 1, 9, 3, 0, 0, 13, 4, 1, 5, 1, 2, 0, 2, 4, 3, 0, 7, 6, 0, 10, 0, 2, 2, 0, 1, 2, 6, 8, 4, 15, 5, 1, 7, 6, 7, 4, 2, 7, 0, 1, 1, 6, 1, 5, 5, 7, 9, 0, 4, 4, 0, 5, 0, 6, 6, 8, 0, 3, 0, 7, 4, 6, 0, 8, 1, 2, 9, 7, 5, 0, 8, 5, 9, 10, 8, 10, 0, 0, 7, 7, 2, 8, 0, 5, 7, 2, 6, 11, 7, 7, 13, 0, 4, 1, 5, 0, 6, 7, 8, 8, 4, 9, 6, 0, 2, 6, 11, 10, 6, 9, 12, 10, 2, 1, 7, 0, 2, 0, 1, 4, 3, 3, 1, 8, 8, 1, 9, 0, 0, 0, 7, 8, 3, 4, 8, 6, 4, 11, 1, 4, 4, 1, 2, 3, 9, 10, 7, 9, 8, 6, 8, 6, 4, 4, 7, 2, 5, 7, 3, 4, 0, 7, 10, 4, 4, 0, 3, 3, 0, 1, 6, 0, 2, 0, 0, 2, 0, 11, 3, 4, 3, 5, 3, 0, 3, 5, 3, 0, 8, 4, 0, 5, 6, 10, 4, 7, 7, 4, 7, 1, 7, 2, 9, 7, 2, 0, 8, 8, 1, 1, 0, 10, 5, 12, 7, 2, 6, 2, 0, 4, 2, 9, 3, 6, 4, 7, 3, 11, 6, 5, 5, 1, 2, 2, 8, 3, 0, 1, 6, 8, 0, 8, 7, 0, 4, 9, 4, 13, 0, 1, 7, 4, 9, 3, 11, 1, 6, 4, 4, 5, 3, 0, 9, 9, 4, 1, 2, 0, 3, 0, 11, 6, 9, 0, 0, 10, 3, 3, 0, 6, 6, 9, 8, 0, 0, 5, 0, 11, 7, 0, 6, 6, 8, 5, 1, 6, 13, 0, 13, 6, 8, 0, 0, 4, 8, 2, 6, 9, 1, 5, 4, 5, 2, 10, 5, 3, 9, 4, 3, 4, 0, 5, 2, 3, 3, 3, 11, 6, 4, 0, 2, 6, 8, 9, 2, 0, 3, 8, 0, 4, 5, 3, 5, 11, 7, 7, 8, 10, 1, 5, 0, 9, 0, 2, 4, 9, 3, 9, 11, 9, 5, 4, 4, 2, 8, 4, 2, 10, 9, 5, 2, 2, 0, 7, 8, 0, 3, 9, 7, 2, 6, 0, 6, 11, 4, 0, 7, 2, 4, 7, 3, 3, 5, 3, 1, 6, 2, 3, 0, 8, 3, 1, 0, 6, 0, 0, 8, 8, 4, 3, 9, 3, 8, 8, 5, 1, 0, 6, 11, 7, 6, 4, 6, 6, 5, 6, 10, 3, 4, 3, 11, 10, 5, 6, 3, 10, 7, 5, 2, 3, 3, 1, 0, 5, 1, 8, 0, 5, 6, 0, 5, 4, 4, 0, 3, 6, 8, 8, 2, 10, 0, 12, 6, 9, 5, 4, 0, 4, 5, 1, 0, 0, 6, 8, 5, 8, 5, 4, 9, 4, 4, 0, 10, 0, 1, 0, 6, 8, 2, 6, 4, 5, 6, 3, 6, 2, 8, 7, 3, 5, 5, 2, 12, 10, 0, 6, 9, 0, 6, 8, 7, 14, 4, 7, 3, 0, 2, 4, 3, 4, 5, 8, 3, 8, 6, 5, 4, 0, 7, 4, 9, 6, 6, 3, 2, 3, 8, 0, 9, 0, 6, 0, 7, 1, 0, 3, 6, 5, 2, 8, 8, 3, 6, 0, 6, 3, 4, 5, 8, 8, 7, 6, 3, 3, 1, 0, 7, 0, 6, 2, 3, 0, 3, 6, 5, 2, 1, 0, 6, 2, 7, 5, 11, 1, 4, 7, 8, 13, 4, 9, 0, 0, 1, 0, 7, 3, 7, 2, 3, 0, 5, 7, 0, 4, 6, 0, 3, 2, 10, 5, 9, 8, 2, 0, 0, 6, 11, 4, 13, 0, 0, 7, 6, 11, 0, 10, 12, 2, 4, 0, 0, 6, 9, 5, 7, 1, 0, 8, 0, 0, 0, 1, 10, 10, 0, 0, 3, 9, 8, 12, 2, 0, 3, 13, 0, 3, 0, 5, 6, 5, 3, 6, 3, 8, 5, 10, 4, 8, 0, 12, 3, 6, 7, 9, 4, 11, 6, 12, 0, 3, 7, 5, 0, 0, 0, 6, 0, 5, 4, 6, 11, 6, 13, 0, 9, 3, 7, 1, 5, 8, 5, 9, 3, 11, 0, 0, 6, 0, 3, 1, 0, 3, 2, 9, 0, 0, 0, 4, 7, 2, 0, 5, 0, 9, 1, 5, 4, 16, 3, 5, 6, 9, 6, 5, 5, 1, 11, 4, 4, 3, 6, 9, 9, 5, 5, 7, 6, 8, 0, 5, 2, 0, 5, 6, 6, 4, 10, 5, 3, 12, 9, 0, 0, 2, 0, 3, 0, 9, 0, 7, 0, 1, 3, 4, 8, 6, 6, 6, 2, 6, 1, 5, 0, 11, 2, 0, 1, 3, 5, 1, 6, 0, 3, 8, 3, 3, 12, 1, 6, 0, 3, 0, 4, 7, 9, 1, 5, 4, 9, 4, 9, 0, 2, 4, 5, 0, 6, 4, 7, 1, 5, 0, 10, 3, 5, 6, 6, 1, 0, 1, 4, 7, 0, 2, 0, 7, 4, 2, 0, 7, 0, 1, 7, 5, 6, 2, 0, 5, 2, 1, 11, 0, 8, 5, 11, 0, 7, 6, 10, 8, 7, 3, 8, 3, 8, 7, 3, 5, 6, 8, 7, 6, 0, 9, 0, 4, 3, 1, 9, 4, 3, 3, 0, 2, 7, 1, 7, 4, 2, 0, 2, 2, 5, 11, 1, 7, 2, 0, 5, 0, 6, 3, 4, 0, 0, 5, 0, 4, 10, 7, 8, 2, 1, 3, 7, 9, 0, 5, 3, 6, 0, 7, 11, 0, 6, 6, 4, 3, 6, 8, 7, 5, 7, 0, 8, 2, 3, 9, 5, 1, 4, 9, 11, 7, 6, 1, 14, 2, 5, 0, 2, 11, 6, 3, 1, 1, 7, 0, 2, 4, 6, 8, 11, 10, 7, 0, 9, 2, 6, 12, 2, 1, 0, 1, 4, 4, 1, 9, 7, 5, 9, 12, 6, 5, 4, 0, 3, 6, 8, 2, 3, 1, 8, 7, 3, 11, 0, 6, 0, 5, 5, 3, 3, 0, 4, 8, 1, 8, 9, 5, 4, 2, 10, 5, 4, 6, 3, 2, 1, 8, 14, 1, 0, 6, 10, 3, 7, 0, 1, 2, 3, 5, 3, 8, 4, 5, 1, 0, 3, 4, 6, 1, 0, 6, 4, 2, 9, 7, 9, 6, 2, 8, 3, 4, 2, 0, 7, 4, 4, 2, 4, 6, 0, 8, 0, 3, 8, 7, 1, 0, 6, 7, 1, 4, 3, 0, 2, 9, 5, 6, 3, 3, 0, 0, 7, 6, 2, 1, 7, 8, 7, 0, 6, 3, 10, 9, 5, 9, 7, 4, 4, 5, 1, 12, 10, 10, 0, 4, 1, 0, 10, 1, 6, 2, 9, 2, 5, 0, 5, 3, 8, 10, 5, 0, 6, 2, 2, 12, 4, 4, 6, 6, 11, 5, 4, 0, 3, 0, 0, 14, 1, 8, 2, 4, 0, 8, 5, 8, 6, 7, 7, 2, 3, 11, 9, 5, 8, 0, 2, 6, 5, 6, 7, 10, 7, 0, 7, 5, 11, 2, 10, 8, 2, 5, 5, 4, 3, 0, 7, 5, 0, 0, 3, 2, 6, 3, 4, 2, 8, 5, 7, 0, 5, 5, 0, 0, 14, 0, 2, 5, 10, 0, 0, 9, 13, 4, 0, 4, 3, 6, 4, 8, 0, 0, 6, 0, 1, 7, 2, 9, 10, 16, 4, 6, 5, 6, 2, 2, 2, 9, 8, 2, 6, 5, 0, 8, 2, 13, 5, 4, 9, 3, 9, 10, 0, 8, 14, 2, 8, 11, 6, 0, 10, 4, 10, 4, 5, 0, 4, 1, 0, 0, 5, 4, 1, 1, 3, 9, 9, 3, 2, 1, 4, 9, 12, 7, 3, 5, 6, 11, 5, 3, 4, 10, 6, 6, 3, 9, 3, 8, 7, 6, 12, 6, 2, 0, 8, 9, 4, 0, 7, 13, 6, 5, 0, 7, 0, 7, 0, 7, 6, 9, 4, 0, 2, 5, 7, 4, 0, 4, 0, 2, 0, 6, 8, 4, 6, 2, 1, 1, 8, 8, 3, 1, 7, 0, 8, 7, 5, 6, 8, 7, 0, 5, 5, 8, 3, 1, 10, 6, 4, 11, 8, 3, 3, 1, 0, 5, 11, 5, 12, 4, 0, 10, 8, 6, 0, 7, 4, 0, 7, 8, 9, 2, 4, 0, 5, 6, 6, 5, 4, 0, 3, 2, 11, 0, 0, 6, 14, 4, 9, 1, 1, 1, 3, 1, 0, 3, 5, 6, 4, 4, 8, 4, 7, 1, 3, 2, 4, 0, 2, 6, 3, 5, 3, 0, 4, 3, 5, 2, 7, 1, 5, 10, 10, 8, 0, 8, 10, 0, 0, 10, 8, 3, 0, 9, 0, 0, 2, 6, 1, 8, 8, 6, 0, 5, 10, 0, 7, 4, 1, 2, 2, 1, 10, 6, 2, 0, 5, 0, 0, 0, 4, 1, 3, 8, 0, 2, 10, 3, 11, 7, 0, 5, 4, 9, 0, 6, 2, 4, 10, 0, 2, 8, 9, 6, 7, 11, 5, 1, 8, 7, 7, 0, 7, 3, 0, 3, 0, 7, 0, 0, 7, 4, 0, 2, 1, 3, 8, 10, 1, 6, 0, 4, 5, 0, 4, 3, 4, 0, 4, 10, 7, 2, 0, 6, 6, 0, 8, 4, 0, 5, 7, 2, 8, 3, 0, 8, 10, 5, 7, 5, 2, 10, 4, 4, 4, 0, 5, 1, 4, 4, 8, 5, 12, 2, 2, 1, 13, 1, 7, 0, 6, 1, 0, 5, 5, 9, 0, 0, 5, 2, 2, 4, 9, 6, 13, 2, 6, 9, 7, 9, 4, 9, 10, 8, 5, 6, 2, 9, 5, 6, 9, 2, 3, 9, 3, 10, 3, 9, 4, 6, 1, 7, 2, 3, 7, 8, 7, 10, 4, 0, 0, 0, 7, 4, 4, 0, 0, 0, 8, 3, 6, 0, 4, 2, 4, 0, 13, 7, 7, 5, 5, 0, 6, 1, 11, 8, 2, 9, 0, 0, 1, 2, 2, 5, 6, 11, 3, 4, 0, 1, 5, 8, 2, 8, 4, 0, 0, 8, 0, 0, 12, 2, 5, 12, 6, 5, 3, 5, 0, 0, 7, 0, 1, 7, 3, 5, 9, 6, 2, 8, 2, 9, 2, 6, 2, 0, 2, 6, 2, 2, 5, 12, 11, 0, 4, 0, 4, 4, 6, 7, 1, 2, 9, 6, 0, 5, 7, 5, 0, 0, 1, 1, 8, 0, 11, 8, 5, 0, 3, 1, 3, 0, 8, 1, 5, 7, 4, 4, 7, 0, 5, 9, 0, 1, 3, 7, 8, 0, 8, 8, 0, 3, 3, 0, 0, 9, 0, 10, 2, 6, 6, 0, 9, 5, 2, 0, 1, 6, 3, 8, 0, 2, 4, 3, 1, 0, 2, 12, 2, 3, 5, 6, 2, 7, 2, 3, 0, 4, 5, 13, 7, 5, 2, 0, 6, 3, 6, 1, 4, 0, 4, 3, 3, 4, 3, 9, 4, 6, 6, 4, 12, 0, 8, 6, 0, 5, 6, 0, 5, 12, 9, 8, 3, 2, 1, 1, 6, 12, 9, 10, 16, 2, 4, 0, 2, 0, 1, 5, 5, 4, 4, 0, 7, 5, 7, 4, 4, 11, 6, 5, 0, 8, 2, 12, 2, 8, 1, 4, 2, 0, 0, 1, 0, 4, 9, 4, 3, 7, 9, 10, 8, 6, 0, 6, 5, 1, 11, 4, 1, 7, 0, 10, 6, 11, 10, 9, 9, 1, 3, 1, 2, 7, 4, 7, 4, 0, 0, 5, 10, 6, 5, 2, 2, 0, 0, 6, 7, 0, 0, 3, 2, 7, 5, 6, 8, 5, 5, 1, 0, 0, 0, 8, 6, 6, 9, 3, 1, 1, 5, 3, 1, 11, 5, 8, 5, 5, 8, 4, 2, 12, 4, 3, 9, 8, 7, 0, 0, 7, 3, 7, 0, 7, 1, 11, 5, 6, 3, 4, 6, 8, 10, 1, 0, 2, 12, 11, 0, 6, 9, 7, 11, 5, 7, 3, 6, 6, 3, 9, 6, 0, 3, 10, 5, 5, 5, 0, 0, 0, 7, 1, 2, 9, 6, 6, 0, 0, 2, 2, 4, 3, 9, 9, 8, 3, 1, 3, 0, 4, 3, 5, 3, 1, 10, 10, 0, 0, 2, 5, 7, 3, 2, 8, 2, 5, 13, 2, 0, 5, 2, 9, 4, 13, 0, 7, 6, 8, 5, 0, 6, 1, 6, 7, 9, 4, 5, 3, 2, 5, 5, 4, 10, 3, 1, 3, 9, 1, 9, 5, 7, 0, 8, 6, 0, 5, 0, 5, 0, 5, 8, 7, 0, 4, 0, 1, 5, 1, 7, 12, 0, 1, 5, 6, 6, 3, 4, 9, 10, 9, 2, 3, 4, 5, 7, 2, 8, 7, 6, 13, 5, 4, 6, 5, 6, 2, 6, 1, 9, 9, 12, 1, 4, 3, 9, 5, 8, 8, 7, 0, 12, 9, 1, 6, 0, 10, 2, 5, 11, 4, 9, 5, 4, 3, 6, 6, 0, 5, 8, 8, 0, 9, 0, 4, 1, 2, 0, 9, 4, 2, 7, 0, 5, 2, 0, 8, 8, 0, 3, 7, 10, 0, 1, 4, 10, 7, 6, 8, 2, 1, 3, 3, 4, 0, 3, 3, 1, 12, 7, 1, 1, 0, 7, 0, 6, 0, 7, 4, 1, 5, 5, 2, 5, 3, 10, 10, 8, 10, 5, 0, 6, 0, 0, 0, 9, 0, 0, 3, 8, 5, 5, 0, 7, 10, 8, 0, 0, 6, 3, 7, 0, 6, 9, 3, 1, 5, 0, 11, 0, 4, 5, 2, 10, 2, 1, 3, 1, 6, 0, 0, 0, 2, 6, 6, 2, 7, 6, 7, 4, 8, 0, 0, 3, 8, 0, 1, 3, 8, 3, 0, 4, 3, 0, 12, 6, 1, 1, 5, 8, 4, 0, 3, 3, 8, 3, 5, 6, 0, 5, 11, 0, 8, 5, 2, 0, 2, 2, 6, 0, 0, 4, 5, 7, 5, 6, 0, 3]}],\n",
              "                        {\"height\": 500, \"template\": {\"data\": {\"bar\": [{\"error_x\": {\"color\": \"#2a3f5f\"}, \"error_y\": {\"color\": \"#2a3f5f\"}, \"marker\": {\"line\": {\"color\": \"#E5ECF6\", \"width\": 0.5}}, \"type\": \"bar\"}], \"barpolar\": [{\"marker\": {\"line\": {\"color\": \"#E5ECF6\", \"width\": 0.5}}, \"type\": \"barpolar\"}], \"carpet\": [{\"aaxis\": {\"endlinecolor\": \"#2a3f5f\", \"gridcolor\": \"white\", \"linecolor\": \"white\", \"minorgridcolor\": \"white\", \"startlinecolor\": \"#2a3f5f\"}, \"baxis\": {\"endlinecolor\": \"#2a3f5f\", \"gridcolor\": \"white\", \"linecolor\": \"white\", \"minorgridcolor\": \"white\", \"startlinecolor\": \"#2a3f5f\"}, \"type\": \"carpet\"}], \"choropleth\": [{\"colorbar\": {\"outlinewidth\": 0, \"ticks\": \"\"}, \"type\": \"choropleth\"}], \"contour\": [{\"colorbar\": {\"outlinewidth\": 0, \"ticks\": \"\"}, \"colorscale\": [[0.0, \"#0d0887\"], [0.1111111111111111, \"#46039f\"], [0.2222222222222222, \"#7201a8\"], [0.3333333333333333, \"#9c179e\"], [0.4444444444444444, \"#bd3786\"], [0.5555555555555556, \"#d8576b\"], [0.6666666666666666, \"#ed7953\"], [0.7777777777777778, \"#fb9f3a\"], [0.8888888888888888, \"#fdca26\"], [1.0, \"#f0f921\"]], \"type\": \"contour\"}], \"contourcarpet\": [{\"colorbar\": {\"outlinewidth\": 0, \"ticks\": \"\"}, \"type\": \"contourcarpet\"}], \"heatmap\": [{\"colorbar\": {\"outlinewidth\": 0, \"ticks\": \"\"}, \"colorscale\": [[0.0, \"#0d0887\"], [0.1111111111111111, \"#46039f\"], [0.2222222222222222, \"#7201a8\"], [0.3333333333333333, \"#9c179e\"], [0.4444444444444444, \"#bd3786\"], [0.5555555555555556, \"#d8576b\"], [0.6666666666666666, \"#ed7953\"], [0.7777777777777778, \"#fb9f3a\"], [0.8888888888888888, \"#fdca26\"], [1.0, \"#f0f921\"]], \"type\": \"heatmap\"}], \"heatmapgl\": [{\"colorbar\": {\"outlinewidth\": 0, \"ticks\": \"\"}, \"colorscale\": [[0.0, \"#0d0887\"], [0.1111111111111111, \"#46039f\"], [0.2222222222222222, \"#7201a8\"], [0.3333333333333333, \"#9c179e\"], [0.4444444444444444, \"#bd3786\"], [0.5555555555555556, \"#d8576b\"], [0.6666666666666666, \"#ed7953\"], [0.7777777777777778, \"#fb9f3a\"], [0.8888888888888888, \"#fdca26\"], [1.0, \"#f0f921\"]], \"type\": \"heatmapgl\"}], \"histogram\": [{\"marker\": {\"colorbar\": {\"outlinewidth\": 0, \"ticks\": \"\"}}, \"type\": \"histogram\"}], \"histogram2d\": [{\"colorbar\": {\"outlinewidth\": 0, \"ticks\": \"\"}, \"colorscale\": [[0.0, \"#0d0887\"], [0.1111111111111111, \"#46039f\"], [0.2222222222222222, \"#7201a8\"], [0.3333333333333333, \"#9c179e\"], [0.4444444444444444, \"#bd3786\"], [0.5555555555555556, \"#d8576b\"], [0.6666666666666666, \"#ed7953\"], [0.7777777777777778, \"#fb9f3a\"], [0.8888888888888888, \"#fdca26\"], [1.0, \"#f0f921\"]], \"type\": \"histogram2d\"}], \"histogram2dcontour\": [{\"colorbar\": {\"outlinewidth\": 0, \"ticks\": \"\"}, \"colorscale\": [[0.0, \"#0d0887\"], [0.1111111111111111, \"#46039f\"], [0.2222222222222222, \"#7201a8\"], [0.3333333333333333, \"#9c179e\"], [0.4444444444444444, \"#bd3786\"], [0.5555555555555556, \"#d8576b\"], [0.6666666666666666, \"#ed7953\"], [0.7777777777777778, \"#fb9f3a\"], [0.8888888888888888, \"#fdca26\"], [1.0, \"#f0f921\"]], \"type\": \"histogram2dcontour\"}], \"mesh3d\": [{\"colorbar\": {\"outlinewidth\": 0, \"ticks\": \"\"}, \"type\": \"mesh3d\"}], \"parcoords\": [{\"line\": {\"colorbar\": {\"outlinewidth\": 0, \"ticks\": \"\"}}, \"type\": \"parcoords\"}], \"pie\": [{\"automargin\": true, \"type\": \"pie\"}], \"scatter\": [{\"marker\": {\"colorbar\": {\"outlinewidth\": 0, \"ticks\": \"\"}}, \"type\": \"scatter\"}], \"scatter3d\": [{\"line\": {\"colorbar\": {\"outlinewidth\": 0, \"ticks\": \"\"}}, \"marker\": {\"colorbar\": {\"outlinewidth\": 0, \"ticks\": \"\"}}, \"type\": \"scatter3d\"}], \"scattercarpet\": [{\"marker\": {\"colorbar\": {\"outlinewidth\": 0, \"ticks\": \"\"}}, \"type\": \"scattercarpet\"}], \"scattergeo\": [{\"marker\": {\"colorbar\": {\"outlinewidth\": 0, \"ticks\": \"\"}}, \"type\": \"scattergeo\"}], \"scattergl\": [{\"marker\": {\"colorbar\": {\"outlinewidth\": 0, \"ticks\": \"\"}}, \"type\": \"scattergl\"}], \"scattermapbox\": [{\"marker\": {\"colorbar\": {\"outlinewidth\": 0, \"ticks\": \"\"}}, \"type\": \"scattermapbox\"}], \"scatterpolar\": [{\"marker\": {\"colorbar\": {\"outlinewidth\": 0, \"ticks\": \"\"}}, \"type\": \"scatterpolar\"}], \"scatterpolargl\": [{\"marker\": {\"colorbar\": {\"outlinewidth\": 0, \"ticks\": \"\"}}, \"type\": \"scatterpolargl\"}], \"scatterternary\": [{\"marker\": {\"colorbar\": {\"outlinewidth\": 0, \"ticks\": \"\"}}, \"type\": \"scatterternary\"}], \"surface\": [{\"colorbar\": {\"outlinewidth\": 0, \"ticks\": \"\"}, \"colorscale\": [[0.0, \"#0d0887\"], [0.1111111111111111, \"#46039f\"], [0.2222222222222222, \"#7201a8\"], [0.3333333333333333, \"#9c179e\"], [0.4444444444444444, \"#bd3786\"], [0.5555555555555556, \"#d8576b\"], [0.6666666666666666, \"#ed7953\"], [0.7777777777777778, \"#fb9f3a\"], [0.8888888888888888, \"#fdca26\"], [1.0, \"#f0f921\"]], \"type\": \"surface\"}], \"table\": [{\"cells\": {\"fill\": {\"color\": \"#EBF0F8\"}, \"line\": {\"color\": \"white\"}}, \"header\": {\"fill\": {\"color\": \"#C8D4E3\"}, \"line\": {\"color\": \"white\"}}, \"type\": \"table\"}]}, \"layout\": {\"annotationdefaults\": {\"arrowcolor\": \"#2a3f5f\", \"arrowhead\": 0, \"arrowwidth\": 1}, \"coloraxis\": {\"colorbar\": {\"outlinewidth\": 0, \"ticks\": \"\"}}, \"colorscale\": {\"diverging\": [[0, \"#8e0152\"], [0.1, \"#c51b7d\"], [0.2, \"#de77ae\"], [0.3, \"#f1b6da\"], [0.4, \"#fde0ef\"], [0.5, \"#f7f7f7\"], [0.6, \"#e6f5d0\"], [0.7, \"#b8e186\"], [0.8, \"#7fbc41\"], [0.9, \"#4d9221\"], [1, \"#276419\"]], \"sequential\": [[0.0, \"#0d0887\"], [0.1111111111111111, \"#46039f\"], [0.2222222222222222, \"#7201a8\"], [0.3333333333333333, \"#9c179e\"], [0.4444444444444444, \"#bd3786\"], [0.5555555555555556, \"#d8576b\"], [0.6666666666666666, \"#ed7953\"], [0.7777777777777778, \"#fb9f3a\"], [0.8888888888888888, \"#fdca26\"], [1.0, \"#f0f921\"]], \"sequentialminus\": [[0.0, \"#0d0887\"], [0.1111111111111111, \"#46039f\"], [0.2222222222222222, \"#7201a8\"], [0.3333333333333333, \"#9c179e\"], [0.4444444444444444, \"#bd3786\"], [0.5555555555555556, \"#d8576b\"], [0.6666666666666666, \"#ed7953\"], [0.7777777777777778, \"#fb9f3a\"], [0.8888888888888888, \"#fdca26\"], [1.0, \"#f0f921\"]]}, \"colorway\": [\"#636efa\", \"#EF553B\", \"#00cc96\", \"#ab63fa\", \"#FFA15A\", \"#19d3f3\", \"#FF6692\", \"#B6E880\", \"#FF97FF\", \"#FECB52\"], \"font\": {\"color\": \"#2a3f5f\"}, \"geo\": {\"bgcolor\": \"white\", \"lakecolor\": \"white\", \"landcolor\": \"#E5ECF6\", \"showlakes\": true, \"showland\": true, \"subunitcolor\": \"white\"}, \"hoverlabel\": {\"align\": \"left\"}, \"hovermode\": \"closest\", \"mapbox\": {\"style\": \"light\"}, \"paper_bgcolor\": \"white\", \"plot_bgcolor\": \"#E5ECF6\", \"polar\": {\"angularaxis\": {\"gridcolor\": \"white\", \"linecolor\": \"white\", \"ticks\": \"\"}, \"bgcolor\": \"#E5ECF6\", \"radialaxis\": {\"gridcolor\": \"white\", \"linecolor\": \"white\", \"ticks\": \"\"}}, \"scene\": {\"xaxis\": {\"backgroundcolor\": \"#E5ECF6\", \"gridcolor\": \"white\", \"gridwidth\": 2, \"linecolor\": \"white\", \"showbackground\": true, \"ticks\": \"\", \"zerolinecolor\": \"white\"}, \"yaxis\": {\"backgroundcolor\": \"#E5ECF6\", \"gridcolor\": \"white\", \"gridwidth\": 2, \"linecolor\": \"white\", \"showbackground\": true, \"ticks\": \"\", \"zerolinecolor\": \"white\"}, \"zaxis\": {\"backgroundcolor\": \"#E5ECF6\", \"gridcolor\": \"white\", \"gridwidth\": 2, \"linecolor\": \"white\", \"showbackground\": true, \"ticks\": \"\", \"zerolinecolor\": \"white\"}}, \"shapedefaults\": {\"line\": {\"color\": \"#2a3f5f\"}}, \"ternary\": {\"aaxis\": {\"gridcolor\": \"white\", \"linecolor\": \"white\", \"ticks\": \"\"}, \"baxis\": {\"gridcolor\": \"white\", \"linecolor\": \"white\", \"ticks\": \"\"}, \"bgcolor\": \"#E5ECF6\", \"caxis\": {\"gridcolor\": \"white\", \"linecolor\": \"white\", \"ticks\": \"\"}}, \"title\": {\"x\": 0.05}, \"xaxis\": {\"automargin\": true, \"gridcolor\": \"white\", \"linecolor\": \"white\", \"ticks\": \"\", \"title\": {\"standoff\": 15}, \"zerolinecolor\": \"white\", \"zerolinewidth\": 2}, \"yaxis\": {\"automargin\": true, \"gridcolor\": \"white\", \"linecolor\": \"white\", \"ticks\": \"\", \"title\": {\"standoff\": 15}, \"zerolinecolor\": \"white\", \"zerolinewidth\": 2}}}, \"width\": 600},\n",
              "                        {\"responsive\": true}\n",
              "                    ).then(function(){\n",
              "                            \n",
              "var gd = document.getElementById('0070ff6a-b6d5-4b31-92a9-d2216c004a7a');\n",
              "var x = new MutationObserver(function (mutations, observer) {{\n",
              "        var display = window.getComputedStyle(gd).display;\n",
              "        if (!display || display === 'none') {{\n",
              "            console.log([gd, 'removed!']);\n",
              "            Plotly.purge(gd);\n",
              "            observer.disconnect();\n",
              "        }}\n",
              "}});\n",
              "\n",
              "// Listen for the removal of the full notebook cells\n",
              "var notebookContainer = gd.closest('#notebook-container');\n",
              "if (notebookContainer) {{\n",
              "    x.observe(notebookContainer, {childList: true});\n",
              "}}\n",
              "\n",
              "// Listen for the clearing of the current output cell\n",
              "var outputEl = gd.closest('.output');\n",
              "if (outputEl) {{\n",
              "    x.observe(outputEl, {childList: true});\n",
              "}}\n",
              "\n",
              "                        })\n",
              "                };\n",
              "                \n",
              "            </script>\n",
              "        </div>\n",
              "</body>\n",
              "</html>"
            ]
          },
          "metadata": {
            "tags": []
          }
        }
      ]
    },
    {
      "cell_type": "code",
      "metadata": {
        "colab": {
          "base_uri": "https://localhost:8080/"
        },
        "id": "b99j1N9TXeun",
        "outputId": "32954948-9b18-4a06-ca58-371f32a4c2d5"
      },
      "source": [
        "# 정규화\n",
        "from sklearn.preprocessing import MinMaxScaler\n",
        "mm_scaler = MinMaxScaler(feature_range=(0,1))\n",
        "scaled_user_meta = mm_scaler.fit_transform(user_numeric_df)\n",
        "scaled_user_meta"
      ],
      "execution_count": 57,
      "outputs": [
        {
          "output_type": "execute_result",
          "data": {
            "text/plain": [
              "array([[0.71794872, 0.5       , 0.17647059, ..., 0.28205128, 0.26376652,\n",
              "        0.26      ],\n",
              "       [0.71794872, 0.5       , 0.11764706, ..., 0.28205128, 0.14427313,\n",
              "        0.14      ],\n",
              "       [0.82051282, 0.5       , 0.23529412, ..., 0.17948718, 0.40969163,\n",
              "        0.4       ],\n",
              "       ...,\n",
              "       [0.28205128, 0.        , 0.        , ..., 0.71794872, 0.64537445,\n",
              "        0.64      ],\n",
              "       [0.53846154, 0.        , 0.47058824, ..., 0.46153846, 0.61729075,\n",
              "        0.62      ],\n",
              "       [0.79487179, 0.        , 0.29411765, ..., 0.20512821, 0.10737885,\n",
              "        0.1       ]])"
            ]
          },
          "metadata": {
            "tags": []
          },
          "execution_count": 57
        }
      ]
    },
    {
      "cell_type": "code",
      "metadata": {
        "colab": {
          "base_uri": "https://localhost:8080/",
          "height": 402
        },
        "id": "LsceO4O_Ya9p",
        "outputId": "4ffbd453-e69c-4233-fa3c-fcedcc656608"
      },
      "source": [
        "scaled_user_metadata_df = pd.DataFrame(scaled_user_meta, columns = user_numeric_df.columns)\n",
        "scaled_user_metadata_df"
      ],
      "execution_count": 60,
      "outputs": [
        {
          "output_type": "execute_result",
          "data": {
            "text/html": [
              "<div>\n",
              "<style scoped>\n",
              "    .dataframe tbody tr th:only-of-type {\n",
              "        vertical-align: middle;\n",
              "    }\n",
              "\n",
              "    .dataframe tbody tr th {\n",
              "        vertical-align: top;\n",
              "    }\n",
              "\n",
              "    .dataframe thead th {\n",
              "        text-align: right;\n",
              "    }\n",
              "</style>\n",
              "<table border=\"1\" class=\"dataframe\">\n",
              "  <thead>\n",
              "    <tr style=\"text-align: right;\">\n",
              "      <th></th>\n",
              "      <th>birthday_year</th>\n",
              "      <th>membership_type</th>\n",
              "      <th>category_prefer</th>\n",
              "      <th>recommended_cnt</th>\n",
              "      <th>age</th>\n",
              "      <th>days_from_joined</th>\n",
              "      <th>years_from_joined</th>\n",
              "    </tr>\n",
              "  </thead>\n",
              "  <tbody>\n",
              "    <tr>\n",
              "      <th>0</th>\n",
              "      <td>0.717949</td>\n",
              "      <td>0.5</td>\n",
              "      <td>0.176471</td>\n",
              "      <td>0.190476</td>\n",
              "      <td>0.282051</td>\n",
              "      <td>0.263767</td>\n",
              "      <td>0.26</td>\n",
              "    </tr>\n",
              "    <tr>\n",
              "      <th>1</th>\n",
              "      <td>0.717949</td>\n",
              "      <td>0.5</td>\n",
              "      <td>0.117647</td>\n",
              "      <td>0.047619</td>\n",
              "      <td>0.282051</td>\n",
              "      <td>0.144273</td>\n",
              "      <td>0.14</td>\n",
              "    </tr>\n",
              "    <tr>\n",
              "      <th>2</th>\n",
              "      <td>0.820513</td>\n",
              "      <td>0.5</td>\n",
              "      <td>0.235294</td>\n",
              "      <td>0.285714</td>\n",
              "      <td>0.179487</td>\n",
              "      <td>0.409692</td>\n",
              "      <td>0.40</td>\n",
              "    </tr>\n",
              "    <tr>\n",
              "      <th>3</th>\n",
              "      <td>0.794872</td>\n",
              "      <td>0.5</td>\n",
              "      <td>0.411765</td>\n",
              "      <td>0.095238</td>\n",
              "      <td>0.205128</td>\n",
              "      <td>0.393722</td>\n",
              "      <td>0.40</td>\n",
              "    </tr>\n",
              "    <tr>\n",
              "      <th>4</th>\n",
              "      <td>0.820513</td>\n",
              "      <td>0.5</td>\n",
              "      <td>0.352941</td>\n",
              "      <td>0.095238</td>\n",
              "      <td>0.179487</td>\n",
              "      <td>0.231828</td>\n",
              "      <td>0.24</td>\n",
              "    </tr>\n",
              "    <tr>\n",
              "      <th>...</th>\n",
              "      <td>...</td>\n",
              "      <td>...</td>\n",
              "      <td>...</td>\n",
              "      <td>...</td>\n",
              "      <td>...</td>\n",
              "      <td>...</td>\n",
              "      <td>...</td>\n",
              "    </tr>\n",
              "    <tr>\n",
              "      <th>3407</th>\n",
              "      <td>0.717949</td>\n",
              "      <td>0.0</td>\n",
              "      <td>0.294118</td>\n",
              "      <td>0.142857</td>\n",
              "      <td>0.282051</td>\n",
              "      <td>0.381057</td>\n",
              "      <td>0.38</td>\n",
              "    </tr>\n",
              "    <tr>\n",
              "      <th>3408</th>\n",
              "      <td>0.358974</td>\n",
              "      <td>0.0</td>\n",
              "      <td>0.000000</td>\n",
              "      <td>0.000000</td>\n",
              "      <td>0.641026</td>\n",
              "      <td>0.265969</td>\n",
              "      <td>0.26</td>\n",
              "    </tr>\n",
              "    <tr>\n",
              "      <th>3409</th>\n",
              "      <td>0.282051</td>\n",
              "      <td>0.0</td>\n",
              "      <td>0.000000</td>\n",
              "      <td>0.000000</td>\n",
              "      <td>0.717949</td>\n",
              "      <td>0.645374</td>\n",
              "      <td>0.64</td>\n",
              "    </tr>\n",
              "    <tr>\n",
              "      <th>3410</th>\n",
              "      <td>0.538462</td>\n",
              "      <td>0.0</td>\n",
              "      <td>0.470588</td>\n",
              "      <td>0.000000</td>\n",
              "      <td>0.461538</td>\n",
              "      <td>0.617291</td>\n",
              "      <td>0.62</td>\n",
              "    </tr>\n",
              "    <tr>\n",
              "      <th>3411</th>\n",
              "      <td>0.794872</td>\n",
              "      <td>0.0</td>\n",
              "      <td>0.294118</td>\n",
              "      <td>0.095238</td>\n",
              "      <td>0.205128</td>\n",
              "      <td>0.107379</td>\n",
              "      <td>0.10</td>\n",
              "    </tr>\n",
              "  </tbody>\n",
              "</table>\n",
              "<p>3412 rows × 7 columns</p>\n",
              "</div>"
            ],
            "text/plain": [
              "      birthday_year  membership_type  category_prefer  recommended_cnt  \\\n",
              "0          0.717949              0.5         0.176471         0.190476   \n",
              "1          0.717949              0.5         0.117647         0.047619   \n",
              "2          0.820513              0.5         0.235294         0.285714   \n",
              "3          0.794872              0.5         0.411765         0.095238   \n",
              "4          0.820513              0.5         0.352941         0.095238   \n",
              "...             ...              ...              ...              ...   \n",
              "3407       0.717949              0.0         0.294118         0.142857   \n",
              "3408       0.358974              0.0         0.000000         0.000000   \n",
              "3409       0.282051              0.0         0.000000         0.000000   \n",
              "3410       0.538462              0.0         0.470588         0.000000   \n",
              "3411       0.794872              0.0         0.294118         0.095238   \n",
              "\n",
              "           age  days_from_joined  years_from_joined  \n",
              "0     0.282051          0.263767               0.26  \n",
              "1     0.282051          0.144273               0.14  \n",
              "2     0.179487          0.409692               0.40  \n",
              "3     0.205128          0.393722               0.40  \n",
              "4     0.179487          0.231828               0.24  \n",
              "...        ...               ...                ...  \n",
              "3407  0.282051          0.381057               0.38  \n",
              "3408  0.641026          0.265969               0.26  \n",
              "3409  0.717949          0.645374               0.64  \n",
              "3410  0.461538          0.617291               0.62  \n",
              "3411  0.205128          0.107379               0.10  \n",
              "\n",
              "[3412 rows x 7 columns]"
            ]
          },
          "metadata": {
            "tags": []
          },
          "execution_count": 60
        }
      ]
    },
    {
      "cell_type": "code",
      "metadata": {
        "id": "e6T3CXUEYxj8"
      },
      "source": [
        "# 정규화된 데이터를 다시 나누자\n",
        "x = scaled_user_metadata_df[user_x_cols]\n",
        "y = scaled_user_metadata_df['membership_type']\n",
        "train_x, test_x, train_y, test_y  = train_test_split(x,y, test_size = 0.2, random_state = 42)"
      ],
      "execution_count": 62,
      "outputs": []
    },
    {
      "cell_type": "code",
      "metadata": {
        "colab": {
          "base_uri": "https://localhost:8080/"
        },
        "id": "HvZcjT--ZShs",
        "outputId": "2af306bc-e01a-4d42-e9f1-7690dfcea13f"
      },
      "source": [
        "# 최적의 k를 찾자\n",
        "!pip install kneed"
      ],
      "execution_count": 63,
      "outputs": [
        {
          "output_type": "stream",
          "text": [
            "Collecting kneed\n",
            "  Downloading https://files.pythonhosted.org/packages/c3/6b/e130913aaaad1373060e259ab222ca2330672db696b297b082c3f3089fcc/kneed-0.7.0-py2.py3-none-any.whl\n",
            "Requirement already satisfied: scipy in /usr/local/lib/python3.7/dist-packages (from kneed) (1.4.1)\n",
            "Requirement already satisfied: matplotlib in /usr/local/lib/python3.7/dist-packages (from kneed) (3.2.2)\n",
            "Requirement already satisfied: numpy>=1.14.2 in /usr/local/lib/python3.7/dist-packages (from kneed) (1.19.5)\n",
            "Requirement already satisfied: cycler>=0.10 in /usr/local/lib/python3.7/dist-packages (from matplotlib->kneed) (0.10.0)\n",
            "Requirement already satisfied: kiwisolver>=1.0.1 in /usr/local/lib/python3.7/dist-packages (from matplotlib->kneed) (1.3.1)\n",
            "Requirement already satisfied: python-dateutil>=2.1 in /usr/local/lib/python3.7/dist-packages (from matplotlib->kneed) (2.8.1)\n",
            "Requirement already satisfied: pyparsing!=2.0.4,!=2.1.2,!=2.1.6,>=2.0.1 in /usr/local/lib/python3.7/dist-packages (from matplotlib->kneed) (2.4.7)\n",
            "Requirement already satisfied: six in /usr/local/lib/python3.7/dist-packages (from cycler>=0.10->matplotlib->kneed) (1.15.0)\n",
            "Installing collected packages: kneed\n",
            "Successfully installed kneed-0.7.0\n"
          ],
          "name": "stdout"
        }
      ]
    },
    {
      "cell_type": "code",
      "metadata": {
        "colab": {
          "base_uri": "https://localhost:8080/"
        },
        "id": "IPI4KJ8RZfzR",
        "outputId": "0602feba-7298-4f38-b768-898b850335dc"
      },
      "source": [
        "distortions = []\n",
        "k_range = range(1,11)\n",
        "for n in k_range :\n",
        "    km = KMeans(n_clusters = n, random_state = 24)\n",
        "    km.fit(train_x)\n",
        "    distortions.append(km.inertia_)\n",
        "distortions\n"
      ],
      "execution_count": 65,
      "outputs": [
        {
          "output_type": "execute_result",
          "data": {
            "text/plain": [
              "[679.4836542879931,\n",
              " 443.9087526624991,\n",
              " 294.68843284543493,\n",
              " 249.2945201913454,\n",
              " 215.7201661910974,\n",
              " 191.17156140191497,\n",
              " 174.98230529754474,\n",
              " 162.84836313776026,\n",
              " 152.95230403292962,\n",
              " 144.00937709433563]"
            ]
          },
          "metadata": {
            "tags": []
          },
          "execution_count": 65
        }
      ]
    },
    {
      "cell_type": "code",
      "metadata": {
        "colab": {
          "base_uri": "https://localhost:8080/",
          "height": 427
        },
        "id": "V64kwjmcZ1Hn",
        "outputId": "78ff7131-8f4f-4b43-af88-40f6d7fe0021"
      },
      "source": [
        "# kneed 모듈을 사용해보자\n",
        "from kneed import KneeLocator\n",
        "kneedle = KneeLocator(x = k_range, y = distortions, curve= 'convex', direction = 'decreasing')\n",
        "print(f'최적의 k : {round(kneedle.elbow, 3)}')\n",
        "print(f'최적의 k의 y값 : {round(kneedle.elbow_y, 3)}')\n",
        "kneedle.plot_knee()"
      ],
      "execution_count": 68,
      "outputs": [
        {
          "output_type": "stream",
          "text": [
            "최적의 k : 3\n",
            "최적의 k의 y값 : 294.688\n"
          ],
          "name": "stdout"
        },
        {
          "output_type": "display_data",
          "data": {
            "image/png": "[encoded data removed]",
            "text/plain": [
              "<Figure size 432x432 with 1 Axes>"
            ]
          },
          "metadata": {
            "tags": [],
            "needs_background": "light"
          }
        }
      ]
    },
    {
      "cell_type": "code",
      "metadata": {
        "colab": {
          "base_uri": "https://localhost:8080/"
        },
        "id": "I4sZKatHaXv3",
        "outputId": "91fed38e-735d-4e50-c9af-ff6c9d7f9d20"
      },
      "source": [
        "km = KMeans(n_clusters = 3)\n",
        "km.fit(train_x)"
      ],
      "execution_count": 69,
      "outputs": [
        {
          "output_type": "execute_result",
          "data": {
            "text/plain": [
              "KMeans(algorithm='auto', copy_x=True, init='k-means++', max_iter=300,\n",
              "       n_clusters=3, n_init=10, n_jobs=None, precompute_distances='auto',\n",
              "       random_state=None, tol=0.0001, verbose=0)"
            ]
          },
          "metadata": {
            "tags": []
          },
          "execution_count": 69
        }
      ]
    },
    {
      "cell_type": "code",
      "metadata": {
        "colab": {
          "base_uri": "https://localhost:8080/",
          "height": 136
        },
        "id": "Mhrq9EyebGo_",
        "outputId": "e444194c-1dae-404e-d816-799a9e7dc4bc"
      },
      "source": [
        "user_meta_cluster_centers = pd.DataFrame(km.cluster_centers_ , columns= train_x.columns)\n",
        "user_meta_cluster_centers"
      ],
      "execution_count": 70,
      "outputs": [
        {
          "output_type": "execute_result",
          "data": {
            "text/html": [
              "<div>\n",
              "<style scoped>\n",
              "    .dataframe tbody tr th:only-of-type {\n",
              "        vertical-align: middle;\n",
              "    }\n",
              "\n",
              "    .dataframe tbody tr th {\n",
              "        vertical-align: top;\n",
              "    }\n",
              "\n",
              "    .dataframe thead th {\n",
              "        text-align: right;\n",
              "    }\n",
              "</style>\n",
              "<table border=\"1\" class=\"dataframe\">\n",
              "  <thead>\n",
              "    <tr style=\"text-align: right;\">\n",
              "      <th></th>\n",
              "      <th>birthday_year</th>\n",
              "      <th>category_prefer</th>\n",
              "      <th>recommended_cnt</th>\n",
              "      <th>age</th>\n",
              "      <th>days_from_joined</th>\n",
              "      <th>years_from_joined</th>\n",
              "    </tr>\n",
              "  </thead>\n",
              "  <tbody>\n",
              "    <tr>\n",
              "      <th>0</th>\n",
              "      <td>0.622074</td>\n",
              "      <td>0.294325</td>\n",
              "      <td>0.152314</td>\n",
              "      <td>0.377926</td>\n",
              "      <td>0.644393</td>\n",
              "      <td>0.641363</td>\n",
              "    </tr>\n",
              "    <tr>\n",
              "      <th>1</th>\n",
              "      <td>0.730290</td>\n",
              "      <td>0.338373</td>\n",
              "      <td>0.112112</td>\n",
              "      <td>0.269710</td>\n",
              "      <td>0.199726</td>\n",
              "      <td>0.199159</td>\n",
              "    </tr>\n",
              "    <tr>\n",
              "      <th>2</th>\n",
              "      <td>0.304757</td>\n",
              "      <td>0.090018</td>\n",
              "      <td>0.046737</td>\n",
              "      <td>0.695243</td>\n",
              "      <td>0.296687</td>\n",
              "      <td>0.295387</td>\n",
              "    </tr>\n",
              "  </tbody>\n",
              "</table>\n",
              "</div>"
            ],
            "text/plain": [
              "   birthday_year  category_prefer  recommended_cnt       age  \\\n",
              "0       0.622074         0.294325         0.152314  0.377926   \n",
              "1       0.730290         0.338373         0.112112  0.269710   \n",
              "2       0.304757         0.090018         0.046737  0.695243   \n",
              "\n",
              "   days_from_joined  years_from_joined  \n",
              "0          0.644393           0.641363  \n",
              "1          0.199726           0.199159  \n",
              "2          0.296687           0.295387  "
            ]
          },
          "metadata": {
            "tags": []
          },
          "execution_count": 70
        }
      ]
    },
    {
      "cell_type": "code",
      "metadata": {
        "colab": {
          "base_uri": "https://localhost:8080/",
          "height": 166
        },
        "id": "43HbTAHRbQS1",
        "outputId": "e2d294a1-76ef-4483-8765-a3fc40bb02c1"
      },
      "source": [
        "# 훈련된 모델의 label을 확인하자\n",
        "user_meta_label_df = train_x.copy()\n",
        "user_meta_label_df['label_km'] = km.labels_\n",
        "user_meta_label_df.groupby('label_km')[['age']].count()"
      ],
      "execution_count": 72,
      "outputs": [
        {
          "output_type": "execute_result",
          "data": {
            "text/html": [
              "<div>\n",
              "<style scoped>\n",
              "    .dataframe tbody tr th:only-of-type {\n",
              "        vertical-align: middle;\n",
              "    }\n",
              "\n",
              "    .dataframe tbody tr th {\n",
              "        vertical-align: top;\n",
              "    }\n",
              "\n",
              "    .dataframe thead th {\n",
              "        text-align: right;\n",
              "    }\n",
              "</style>\n",
              "<table border=\"1\" class=\"dataframe\">\n",
              "  <thead>\n",
              "    <tr style=\"text-align: right;\">\n",
              "      <th></th>\n",
              "      <th>age</th>\n",
              "    </tr>\n",
              "    <tr>\n",
              "      <th>label_km</th>\n",
              "      <th></th>\n",
              "    </tr>\n",
              "  </thead>\n",
              "  <tbody>\n",
              "    <tr>\n",
              "      <th>0</th>\n",
              "      <td>851</td>\n",
              "    </tr>\n",
              "    <tr>\n",
              "      <th>1</th>\n",
              "      <td>1284</td>\n",
              "    </tr>\n",
              "    <tr>\n",
              "      <th>2</th>\n",
              "      <td>594</td>\n",
              "    </tr>\n",
              "  </tbody>\n",
              "</table>\n",
              "</div>"
            ],
            "text/plain": [
              "           age\n",
              "label_km      \n",
              "0          851\n",
              "1         1284\n",
              "2          594"
            ]
          },
          "metadata": {
            "tags": []
          },
          "execution_count": 72
        }
      ]
    },
    {
      "cell_type": "code",
      "metadata": {
        "colab": {
          "base_uri": "https://localhost:8080/"
        },
        "id": "ejAnKClBbqRw",
        "outputId": "99b77d6a-2029-464e-b181-702948cf813b"
      },
      "source": [
        "# 어느 변수가 분산이 큰 지 확인해보자\n",
        "user_meta_cluster_centers.std()"
      ],
      "execution_count": 76,
      "outputs": [
        {
          "output_type": "execute_result",
          "data": {
            "text/plain": [
              "birthday_year        0.221163\n",
              "category_prefer      0.132515\n",
              "recommended_cnt      0.053286\n",
              "age                  0.221163\n",
              "days_from_joined     0.233820\n",
              "years_from_joined    0.232560\n",
              "dtype: float64"
            ]
          },
          "metadata": {
            "tags": []
          },
          "execution_count": 76
        }
      ]
    },
    {
      "cell_type": "code",
      "metadata": {
        "colab": {
          "base_uri": "https://localhost:8080/",
          "height": 617
        },
        "id": "5bEOyaXyb6Fh",
        "outputId": "a4026c3e-f588-4b19-a05d-7ecd370c0d00"
      },
      "source": [
        "# 결과를 시각화하자\n",
        "\n",
        "\n",
        "from plotly.subplots import make_subplots\n",
        "import plotly.graph_objects as go\n",
        "\n",
        "fig  = make_subplots(\n",
        "    rows = 1,\n",
        "    cols = 2, \n",
        "    subplot_titles=('Actual', 'K-means cluster')\n",
        "\n",
        ")\n",
        "\n",
        "# Actual\n",
        "\n",
        "fig.add_trace(\n",
        "    go.Scatter(\n",
        "        x = user_meta_label_df['recommended_cnt'],\n",
        "        y = user_meta_label_df['days_from_joined'],\n",
        "        mode = 'markers',\n",
        "\n",
        "\n",
        "    ),\n",
        "    row = 1,\n",
        "    col = 1\n",
        ")\n",
        "\n",
        "# Algorithm\n",
        "\n",
        "fig.add_trace(\n",
        "    go.Scatter(\n",
        "        x = user_meta_label_df['recommended_cnt'],\n",
        "        y = user_meta_label_df['days_from_joined'],\n",
        "        mode = 'markers',\n",
        "        marker = dict(color = user_meta_label_df['label_km'])\n",
        "\n",
        "\n",
        "    ),\n",
        "    row = 1,\n",
        "    col = 2\n",
        ")\n",
        "\n",
        "fig.update_layout(width = 1000, height = 600)\n",
        "fig.show()"
      ],
      "execution_count": 77,
      "outputs": [
        {
          "output_type": "display_data",
          "data": {
            "text/html": [
              "<html>\n",
              "<head><meta charset=\"utf-8\" /></head>\n",
              "<body>\n",
              "    <div>\n",
              "            <script src=\"https://cdnjs.cloudflare.com/ajax/libs/mathjax/2.7.5/MathJax.js?config=TeX-AMS-MML_SVG\"></script><script type=\"text/javascript\">if (window.MathJax) {MathJax.Hub.Config({SVG: {font: \"STIX-Web\"}});}</script>\n",
              "                <script type=\"text/javascript\">window.PlotlyConfig = {MathJaxConfig: 'local'};</script>\n",
              "        <script src=\"https://cdn.plot.ly/plotly-latest.min.js\"></script>    \n",
              "            <div id=\"1015cb4c-e42e-4cdf-8d12-ec15175d83a5\" class=\"plotly-graph-div\" style=\"height:600px; width:1000px;\"></div>\n",
              "            <script type=\"text/javascript\">\n",
              "                \n",
              "                    window.PLOTLYENV=window.PLOTLYENV || {};\n",
              "                    \n",
              "                if (document.getElementById(\"1015cb4c-e42e-4cdf-8d12-ec15175d83a5\")) {\n",
              "                    Plotly.newPlot(\n",
              "                        '1015cb4c-e42e-4cdf-8d12-ec15175d83a5',\n",
              "                        [{\"mode\": \"markers\", \"type\": \"scatter\", \"x\": [0.047619047619047616, 0.047619047619047616, 0.09523809523809523, 0.14285714285714285, 0.0, 0.047619047619047616, 0.14285714285714285, 0.0, 0.047619047619047616, 0.047619047619047616, 0.0, 0.0, 0.14285714285714285, 0.09523809523809523, 0.047619047619047616, 0.0, 0.0, 0.19047619047619047, 0.19047619047619047, 0.23809523809523808, 0.0, 0.38095238095238093, 0.047619047619047616, 0.0, 0.047619047619047616, 0.047619047619047616, 0.047619047619047616, 0.0, 0.0, 0.09523809523809523, 0.09523809523809523, 0.14285714285714285, 0.047619047619047616, 0.0, 0.19047619047619047, 0.19047619047619047, 0.09523809523809523, 0.14285714285714285, 0.19047619047619047, 0.0, 0.09523809523809523, 0.0, 0.09523809523809523, 0.14285714285714285, 0.42857142857142855, 0.0, 0.14285714285714285, 0.0, 0.14285714285714285, 0.047619047619047616, 0.09523809523809523, 0.0, 0.09523809523809523, 0.047619047619047616, 0.047619047619047616, 0.0, 0.0, 0.19047619047619047, 0.0, 0.09523809523809523, 0.047619047619047616, 0.09523809523809523, 0.0, 0.0, 0.0, 0.0, 0.0, 0.09523809523809523, 0.3333333333333333, 0.0, 0.0, 0.0, 0.0, 0.047619047619047616, 0.09523809523809523, 0.23809523809523808, 0.0, 0.0, 0.09523809523809523, 0.19047619047619047, 0.047619047619047616, 0.0, 0.047619047619047616, 0.14285714285714285, 0.2857142857142857, 0.14285714285714285, 0.19047619047619047, 0.14285714285714285, 0.047619047619047616, 0.09523809523809523, 0.0, 0.42857142857142855, 0.14285714285714285, 0.0, 0.09523809523809523, 0.0, 0.0, 0.047619047619047616, 0.23809523809523808, 0.047619047619047616, 0.19047619047619047, 0.0, 0.0, 0.0, 0.38095238095238093, 0.14285714285714285, 0.14285714285714285, 0.047619047619047616, 0.09523809523809523, 0.09523809523809523, 0.14285714285714285, 0.09523809523809523, 0.09523809523809523, 0.09523809523809523, 0.14285714285714285, 0.14285714285714285, 0.23809523809523808, 0.19047619047619047, 0.09523809523809523, 0.19047619047619047, 0.0, 0.14285714285714285, 0.09523809523809523, 0.14285714285714285, 0.09523809523809523, 0.047619047619047616, 0.19047619047619047, 0.0, 0.19047619047619047, 0.09523809523809523, 0.09523809523809523, 0.14285714285714285, 0.09523809523809523, 0.19047619047619047, 0.19047619047619047, 0.0, 0.09523809523809523, 0.14285714285714285, 0.0, 0.0, 0.3333333333333333, 0.09523809523809523, 0.0, 0.14285714285714285, 0.047619047619047616, 0.19047619047619047, 0.19047619047619047, 0.09523809523809523, 0.09523809523809523, 0.2857142857142857, 0.0, 0.0, 0.0, 0.047619047619047616, 0.47619047619047616, 0.19047619047619047, 0.19047619047619047, 0.19047619047619047, 0.23809523809523808, 0.14285714285714285, 0.19047619047619047, 0.09523809523809523, 0.14285714285714285, 0.14285714285714285, 0.0, 0.19047619047619047, 0.23809523809523808, 0.047619047619047616, 0.09523809523809523, 0.14285714285714285, 0.23809523809523808, 0.19047619047619047, 0.14285714285714285, 0.0, 0.38095238095238093, 0.0, 0.047619047619047616, 0.0, 0.0, 0.14285714285714285, 0.09523809523809523, 0.047619047619047616, 0.14285714285714285, 0.047619047619047616, 0.14285714285714285, 0.23809523809523808, 0.14285714285714285, 0.0, 0.0, 0.14285714285714285, 0.14285714285714285, 0.19047619047619047, 0.23809523809523808, 0.14285714285714285, 0.0, 0.09523809523809523, 0.0, 0.0, 0.0, 0.23809523809523808, 0.0, 0.0, 0.047619047619047616, 0.19047619047619047, 0.0, 0.09523809523809523, 0.19047619047619047, 0.09523809523809523, 0.047619047619047616, 0.14285714285714285, 0.0, 0.3333333333333333, 0.0, 0.047619047619047616, 0.0, 0.19047619047619047, 0.19047619047619047, 0.0, 0.09523809523809523, 0.19047619047619047, 0.0, 0.19047619047619047, 0.19047619047619047, 0.0, 0.0, 0.14285714285714285, 0.0, 0.09523809523809523, 0.14285714285714285, 0.19047619047619047, 0.14285714285714285, 0.0, 0.0, 0.0, 0.09523809523809523, 0.0, 0.09523809523809523, 0.047619047619047616, 0.0, 0.19047619047619047, 0.0, 0.0, 0.0, 0.0, 0.0, 0.0, 0.23809523809523808, 0.047619047619047616, 0.0, 0.3333333333333333, 0.0, 0.23809523809523808, 0.09523809523809523, 0.14285714285714285, 0.23809523809523808, 0.5238095238095237, 0.09523809523809523, 0.2857142857142857, 0.09523809523809523, 0.38095238095238093, 0.0, 0.09523809523809523, 0.14285714285714285, 0.047619047619047616, 0.19047619047619047, 0.0, 0.0, 0.19047619047619047, 0.0, 0.14285714285714285, 0.14285714285714285, 0.047619047619047616, 0.047619047619047616, 0.0, 0.0, 0.0, 0.047619047619047616, 0.09523809523809523, 0.47619047619047616, 0.09523809523809523, 0.047619047619047616, 0.047619047619047616, 0.0, 0.0, 0.14285714285714285, 0.0, 0.47619047619047616, 0.0, 0.0, 0.0, 0.0, 0.0, 0.19047619047619047, 0.14285714285714285, 0.47619047619047616, 0.19047619047619047, 0.23809523809523808, 0.09523809523809523, 0.14285714285714285, 0.0, 0.0, 0.0, 0.0, 0.14285714285714285, 0.23809523809523808, 0.19047619047619047, 0.0, 0.14285714285714285, 1.0, 0.09523809523809523, 0.047619047619047616, 0.09523809523809523, 0.19047619047619047, 0.0, 0.14285714285714285, 0.14285714285714285, 0.19047619047619047, 0.14285714285714285, 0.14285714285714285, 0.047619047619047616, 0.0, 0.09523809523809523, 0.0, 0.23809523809523808, 0.09523809523809523, 0.38095238095238093, 0.0, 0.0, 0.14285714285714285, 0.09523809523809523, 0.14285714285714285, 0.0, 0.0, 0.19047619047619047, 0.0, 0.09523809523809523, 0.14285714285714285, 0.0, 0.19047619047619047, 0.23809523809523808, 0.0, 0.09523809523809523, 0.0, 0.0, 0.5238095238095237, 0.09523809523809523, 0.09523809523809523, 0.23809523809523808, 0.0, 0.0, 0.38095238095238093, 0.23809523809523808, 0.0, 0.0, 0.047619047619047616, 0.09523809523809523, 0.0, 0.3333333333333333, 0.19047619047619047, 0.09523809523809523, 0.09523809523809523, 0.0, 0.23809523809523808, 0.19047619047619047, 0.0, 0.09523809523809523, 0.0, 0.19047619047619047, 0.09523809523809523, 0.14285714285714285, 0.8571428571428571, 0.047619047619047616, 0.047619047619047616, 0.19047619047619047, 0.23809523809523808, 0.14285714285714285, 0.09523809523809523, 0.19047619047619047, 0.09523809523809523, 0.09523809523809523, 0.0, 0.14285714285714285, 0.0, 0.047619047619047616, 0.0, 0.0, 0.0, 0.0, 0.14285714285714285, 0.0, 0.19047619047619047, 0.2857142857142857, 0.0, 0.09523809523809523, 0.047619047619047616, 0.0, 0.09523809523809523, 0.09523809523809523, 0.2857142857142857, 0.14285714285714285, 0.047619047619047616, 0.0, 0.14285714285714285, 0.0, 0.0, 0.047619047619047616, 0.19047619047619047, 0.0, 0.0, 0.14285714285714285, 0.0, 0.047619047619047616, 0.09523809523809523, 0.14285714285714285, 0.09523809523809523, 0.0, 0.0, 0.09523809523809523, 0.14285714285714285, 0.3333333333333333, 0.0, 0.0, 0.0, 0.09523809523809523, 0.14285714285714285, 0.09523809523809523, 0.0, 0.09523809523809523, 0.2857142857142857, 0.2857142857142857, 0.14285714285714285, 0.5238095238095237, 0.23809523809523808, 0.14285714285714285, 0.14285714285714285, 0.047619047619047616, 0.0, 0.0, 0.047619047619047616, 0.14285714285714285, 0.047619047619047616, 0.0, 0.047619047619047616, 0.14285714285714285, 0.42857142857142855, 0.0, 0.0, 0.14285714285714285, 0.42857142857142855, 0.0, 0.47619047619047616, 0.0, 0.09523809523809523, 0.09523809523809523, 0.047619047619047616, 0.23809523809523808, 0.047619047619047616, 0.3333333333333333, 0.0, 0.09523809523809523, 0.0, 0.09523809523809523, 0.0, 0.0, 0.0, 0.23809523809523808, 0.0, 0.14285714285714285, 0.047619047619047616, 0.14285714285714285, 0.2857142857142857, 0.0, 0.09523809523809523, 0.09523809523809523, 0.047619047619047616, 0.047619047619047616, 0.0, 0.19047619047619047, 0.047619047619047616, 0.14285714285714285, 0.0, 0.2857142857142857, 0.0, 0.0, 0.23809523809523808, 0.14285714285714285, 0.09523809523809523, 0.19047619047619047, 0.0, 0.0, 0.047619047619047616, 0.09523809523809523, 0.047619047619047616, 0.3333333333333333, 0.047619047619047616, 0.09523809523809523, 0.0, 0.38095238095238093, 0.0, 0.0, 0.14285714285714285, 0.0, 0.23809523809523808, 0.19047619047619047, 0.047619047619047616, 0.19047619047619047, 0.047619047619047616, 0.23809523809523808, 0.23809523809523808, 0.14285714285714285, 0.23809523809523808, 0.0, 0.047619047619047616, 0.14285714285714285, 0.0, 0.19047619047619047, 0.23809523809523808, 0.047619047619047616, 0.09523809523809523, 0.0, 0.14285714285714285, 0.5238095238095237, 0.19047619047619047, 0.19047619047619047, 0.0, 0.09523809523809523, 0.14285714285714285, 0.2857142857142857, 0.0, 0.14285714285714285, 0.23809523809523808, 0.0, 0.047619047619047616, 0.19047619047619047, 0.0, 0.14285714285714285, 0.3333333333333333, 0.09523809523809523, 0.047619047619047616, 0.09523809523809523, 0.09523809523809523, 0.0, 0.19047619047619047, 0.09523809523809523, 0.14285714285714285, 0.0, 0.42857142857142855, 0.0, 0.09523809523809523, 0.14285714285714285, 0.0, 0.14285714285714285, 0.047619047619047616, 0.0, 0.047619047619047616, 0.19047619047619047, 0.09523809523809523, 0.0, 0.14285714285714285, 0.19047619047619047, 0.0, 0.14285714285714285, 0.09523809523809523, 0.09523809523809523, 0.14285714285714285, 0.0, 0.19047619047619047, 0.09523809523809523, 0.23809523809523808, 0.19047619047619047, 0.047619047619047616, 0.0, 0.09523809523809523, 0.09523809523809523, 0.047619047619047616, 0.3333333333333333, 0.19047619047619047, 0.23809523809523808, 0.047619047619047616, 0.19047619047619047, 0.09523809523809523, 0.2857142857142857, 0.19047619047619047, 0.19047619047619047, 0.0, 0.0, 0.14285714285714285, 0.14285714285714285, 0.0, 0.47619047619047616, 0.0, 0.6666666666666666, 0.3333333333333333, 0.0, 0.0, 0.09523809523809523, 0.0, 0.14285714285714285, 0.0, 0.047619047619047616, 0.42857142857142855, 0.047619047619047616, 0.19047619047619047, 0.19047619047619047, 0.23809523809523808, 0.09523809523809523, 0.0, 0.14285714285714285, 0.0, 0.09523809523809523, 0.14285714285714285, 0.14285714285714285, 0.19047619047619047, 0.0, 0.14285714285714285, 0.14285714285714285, 0.19047619047619047, 0.23809523809523808, 0.047619047619047616, 0.14285714285714285, 0.2857142857142857, 0.09523809523809523, 0.23809523809523808, 0.14285714285714285, 0.047619047619047616, 0.047619047619047616, 0.0, 0.09523809523809523, 0.0, 0.047619047619047616, 0.09523809523809523, 0.09523809523809523, 0.0, 0.23809523809523808, 0.0, 0.2857142857142857, 0.19047619047619047, 0.09523809523809523, 0.09523809523809523, 0.09523809523809523, 0.0, 0.09523809523809523, 0.2857142857142857, 0.2857142857142857, 0.09523809523809523, 0.09523809523809523, 0.23809523809523808, 0.19047619047619047, 0.0, 0.09523809523809523, 0.23809523809523808, 0.14285714285714285, 0.23809523809523808, 0.047619047619047616, 0.0, 0.0, 0.23809523809523808, 0.14285714285714285, 0.0, 0.047619047619047616, 0.09523809523809523, 0.09523809523809523, 0.09523809523809523, 0.0, 0.0, 0.047619047619047616, 0.0, 0.047619047619047616, 0.19047619047619047, 0.19047619047619047, 0.14285714285714285, 0.09523809523809523, 0.3333333333333333, 0.09523809523809523, 0.0, 0.09523809523809523, 0.42857142857142855, 0.19047619047619047, 0.0, 0.38095238095238093, 0.14285714285714285, 0.0, 0.09523809523809523, 0.0, 0.2857142857142857, 0.3333333333333333, 0.09523809523809523, 0.0, 0.19047619047619047, 0.09523809523809523, 0.09523809523809523, 0.23809523809523808, 0.0, 0.14285714285714285, 0.047619047619047616, 0.09523809523809523, 0.0, 0.0, 0.14285714285714285, 0.6666666666666666, 0.19047619047619047, 0.0, 0.0, 0.0, 0.2857142857142857, 0.0, 0.0, 0.047619047619047616, 0.047619047619047616, 0.19047619047619047, 0.23809523809523808, 0.0, 0.14285714285714285, 0.0, 0.047619047619047616, 0.0, 0.2857142857142857, 0.47619047619047616, 0.19047619047619047, 0.09523809523809523, 0.19047619047619047, 0.19047619047619047, 0.23809523809523808, 0.14285714285714285, 0.0, 0.14285714285714285, 0.23809523809523808, 0.14285714285714285, 0.38095238095238093, 0.19047619047619047, 0.23809523809523808, 0.19047619047619047, 0.0, 0.19047619047619047, 0.09523809523809523, 0.23809523809523808, 0.09523809523809523, 0.047619047619047616, 0.047619047619047616, 0.0, 0.19047619047619047, 0.0, 0.09523809523809523, 0.19047619047619047, 0.3333333333333333, 0.0, 0.0, 0.0, 0.14285714285714285, 0.0, 0.14285714285714285, 0.14285714285714285, 0.0, 0.14285714285714285, 0.19047619047619047, 0.09523809523809523, 0.0, 0.0, 0.2857142857142857, 0.09523809523809523, 0.3333333333333333, 0.19047619047619047, 0.23809523809523808, 0.09523809523809523, 0.14285714285714285, 0.047619047619047616, 0.19047619047619047, 0.0, 0.0, 0.0, 0.19047619047619047, 0.3333333333333333, 0.09523809523809523, 0.23809523809523808, 0.0, 0.09523809523809523, 0.19047619047619047, 0.09523809523809523, 0.19047619047619047, 0.047619047619047616, 0.3333333333333333, 0.047619047619047616, 0.0, 0.09523809523809523, 0.23809523809523808, 0.0, 0.0, 0.0, 0.19047619047619047, 0.14285714285714285, 0.19047619047619047, 0.0, 0.09523809523809523, 0.047619047619047616, 0.0, 0.0, 0.14285714285714285, 0.19047619047619047, 0.09523809523809523, 0.0, 0.0, 0.047619047619047616, 0.38095238095238093, 0.0, 0.14285714285714285, 0.14285714285714285, 0.09523809523809523, 0.0, 0.23809523809523808, 0.047619047619047616, 0.14285714285714285, 0.14285714285714285, 0.0, 0.0, 0.19047619047619047, 0.09523809523809523, 0.09523809523809523, 0.0, 0.0, 0.2857142857142857, 0.38095238095238093, 0.14285714285714285, 0.14285714285714285, 0.14285714285714285, 0.047619047619047616, 0.38095238095238093, 0.0, 0.0, 0.14285714285714285, 0.14285714285714285, 0.0, 0.047619047619047616, 0.0, 0.23809523809523808, 0.23809523809523808, 0.14285714285714285, 0.14285714285714285, 0.09523809523809523, 0.42857142857142855, 0.0, 0.0, 0.0, 0.047619047619047616, 0.0, 0.0, 0.38095238095238093, 0.19047619047619047, 0.047619047619047616, 0.047619047619047616, 0.23809523809523808, 0.14285714285714285, 0.0, 0.0, 0.0, 0.0, 0.09523809523809523, 0.14285714285714285, 0.0, 0.14285714285714285, 0.0, 0.09523809523809523, 0.14285714285714285, 0.19047619047619047, 0.14285714285714285, 0.19047619047619047, 0.19047619047619047, 0.0, 0.09523809523809523, 0.0, 0.19047619047619047, 0.0, 0.14285714285714285, 0.14285714285714285, 0.14285714285714285, 0.14285714285714285, 0.09523809523809523, 0.23809523809523808, 0.047619047619047616, 0.14285714285714285, 0.42857142857142855, 0.0, 0.14285714285714285, 0.047619047619047616, 0.0, 0.0, 0.14285714285714285, 0.19047619047619047, 0.19047619047619047, 0.14285714285714285, 0.09523809523809523, 0.0, 0.0, 0.14285714285714285, 0.0, 0.09523809523809523, 0.0, 0.14285714285714285, 0.0, 0.0, 0.3333333333333333, 0.38095238095238093, 0.23809523809523808, 0.14285714285714285, 0.09523809523809523, 0.047619047619047616, 0.0, 0.047619047619047616, 0.0, 0.23809523809523808, 0.2857142857142857, 0.0, 0.14285714285714285, 0.0, 0.047619047619047616, 0.23809523809523808, 0.09523809523809523, 0.14285714285714285, 0.047619047619047616, 0.09523809523809523, 0.19047619047619047, 0.047619047619047616, 0.09523809523809523, 0.0, 0.047619047619047616, 0.0, 0.19047619047619047, 0.2857142857142857, 0.09523809523809523, 0.09523809523809523, 0.14285714285714285, 0.047619047619047616, 0.0, 0.2857142857142857, 0.14285714285714285, 0.09523809523809523, 0.047619047619047616, 0.047619047619047616, 0.09523809523809523, 0.38095238095238093, 0.0, 0.14285714285714285, 0.047619047619047616, 0.09523809523809523, 0.09523809523809523, 0.19047619047619047, 0.0, 0.9047619047619047, 0.09523809523809523, 0.0, 0.0, 0.19047619047619047, 0.09523809523809523, 0.09523809523809523, 0.0, 0.42857142857142855, 0.047619047619047616, 0.14285714285714285, 0.047619047619047616, 0.09523809523809523, 0.047619047619047616, 0.19047619047619047, 0.0, 0.09523809523809523, 0.38095238095238093, 0.0, 0.09523809523809523, 0.23809523809523808, 0.23809523809523808, 0.23809523809523808, 0.09523809523809523, 0.0, 0.19047619047619047, 0.38095238095238093, 0.0, 0.09523809523809523, 0.047619047619047616, 0.38095238095238093, 0.047619047619047616, 0.09523809523809523, 0.19047619047619047, 0.0, 0.19047619047619047, 0.0, 0.09523809523809523, 0.19047619047619047, 0.0, 0.047619047619047616, 0.23809523809523808, 0.0, 0.19047619047619047, 0.047619047619047616, 0.47619047619047616, 0.14285714285714285, 0.0, 0.19047619047619047, 0.14285714285714285, 0.0, 0.0, 0.19047619047619047, 0.0, 0.14285714285714285, 0.23809523809523808, 0.19047619047619047, 0.19047619047619047, 0.047619047619047616, 0.23809523809523808, 0.14285714285714285, 0.047619047619047616, 0.2857142857142857, 0.0, 0.047619047619047616, 0.14285714285714285, 0.0, 0.5238095238095237, 0.09523809523809523, 0.14285714285714285, 0.09523809523809523, 0.0, 0.0, 0.09523809523809523, 0.09523809523809523, 0.23809523809523808, 0.0, 0.0, 0.0, 0.0, 0.0, 0.19047619047619047, 0.0, 0.0, 0.19047619047619047, 0.19047619047619047, 0.09523809523809523, 0.0, 0.19047619047619047, 0.19047619047619047, 0.14285714285714285, 0.0, 0.23809523809523808, 0.14285714285714285, 0.0, 0.0, 0.19047619047619047, 0.14285714285714285, 0.5238095238095237, 0.47619047619047616, 0.09523809523809523, 0.14285714285714285, 0.0, 0.14285714285714285, 0.14285714285714285, 0.0, 0.23809523809523808, 0.19047619047619047, 0.23809523809523808, 0.047619047619047616, 0.19047619047619047, 0.0, 0.0, 0.14285714285714285, 0.19047619047619047, 0.0, 0.0, 0.3333333333333333, 0.23809523809523808, 0.09523809523809523, 0.0, 0.19047619047619047, 0.09523809523809523, 0.19047619047619047, 0.047619047619047616, 0.0, 0.0, 0.23809523809523808, 0.0, 0.14285714285714285, 0.14285714285714285, 0.09523809523809523, 0.14285714285714285, 0.0, 0.09523809523809523, 0.047619047619047616, 0.14285714285714285, 0.14285714285714285, 0.047619047619047616, 0.23809523809523808, 0.0, 0.0, 0.19047619047619047, 0.047619047619047616, 0.0, 0.0, 0.0, 0.14285714285714285, 0.19047619047619047, 0.19047619047619047, 0.14285714285714285, 0.09523809523809523, 0.047619047619047616, 0.047619047619047616, 0.0, 0.0, 0.19047619047619047, 0.047619047619047616, 0.047619047619047616, 0.0, 0.19047619047619047, 0.0, 0.09523809523809523, 0.3333333333333333, 0.19047619047619047, 0.0, 0.14285714285714285, 0.047619047619047616, 0.2857142857142857, 0.19047619047619047, 0.19047619047619047, 0.047619047619047616, 0.14285714285714285, 0.0, 0.09523809523809523, 0.09523809523809523, 0.0, 0.0, 0.14285714285714285, 0.14285714285714285, 0.0, 0.0, 0.23809523809523808, 0.3333333333333333, 0.14285714285714285, 0.14285714285714285, 0.0, 0.19047619047619047, 0.0, 0.3333333333333333, 0.19047619047619047, 0.0, 0.19047619047619047, 0.0, 0.0, 0.0, 0.0, 0.14285714285714285, 0.14285714285714285, 0.0, 0.19047619047619047, 0.0, 0.0, 0.14285714285714285, 0.047619047619047616, 0.0, 0.47619047619047616, 0.0, 0.047619047619047616, 0.0, 0.09523809523809523, 0.0, 0.09523809523809523, 0.0, 0.0, 0.2857142857142857, 0.3333333333333333, 0.38095238095238093, 0.19047619047619047, 0.0, 0.0, 0.23809523809523808, 0.0, 0.047619047619047616, 0.047619047619047616, 0.0, 0.14285714285714285, 0.0, 0.047619047619047616, 0.2857142857142857, 0.0, 0.0, 0.14285714285714285, 0.0, 0.14285714285714285, 0.23809523809523808, 0.23809523809523808, 0.14285714285714285, 0.047619047619047616, 0.19047619047619047, 0.047619047619047616, 0.09523809523809523, 0.14285714285714285, 0.0, 0.047619047619047616, 0.14285714285714285, 0.14285714285714285, 0.14285714285714285, 0.47619047619047616, 0.0, 0.047619047619047616, 0.0, 0.047619047619047616, 0.09523809523809523, 0.09523809523809523, 0.14285714285714285, 0.047619047619047616, 0.0, 0.0, 0.0, 0.09523809523809523, 0.047619047619047616, 0.14285714285714285, 0.09523809523809523, 0.14285714285714285, 0.047619047619047616, 0.0, 0.47619047619047616, 0.0, 0.14285714285714285, 0.23809523809523808, 0.0, 0.0, 0.047619047619047616, 0.14285714285714285, 0.047619047619047616, 0.0, 0.047619047619047616, 0.0, 0.047619047619047616, 0.2857142857142857, 0.09523809523809523, 0.2857142857142857, 0.19047619047619047, 0.047619047619047616, 0.14285714285714285, 0.14285714285714285, 0.047619047619047616, 0.09523809523809523, 0.09523809523809523, 0.23809523809523808, 0.14285714285714285, 0.19047619047619047, 0.19047619047619047, 0.23809523809523808, 0.2857142857142857, 0.047619047619047616, 0.23809523809523808, 0.14285714285714285, 0.0, 0.0, 0.0, 0.0, 0.0, 0.23809523809523808, 0.0, 0.0, 0.19047619047619047, 0.19047619047619047, 0.2857142857142857, 0.09523809523809523, 0.23809523809523808, 0.2857142857142857, 0.0, 0.14285714285714285, 0.09523809523809523, 0.0, 0.19047619047619047, 0.047619047619047616, 0.09523809523809523, 0.19047619047619047, 0.0, 0.09523809523809523, 0.19047619047619047, 0.0, 0.14285714285714285, 0.3333333333333333, 0.047619047619047616, 0.0, 0.0, 0.2857142857142857, 0.14285714285714285, 0.14285714285714285, 0.0, 0.14285714285714285, 0.09523809523809523, 0.09523809523809523, 0.6190476190476191, 0.047619047619047616, 0.09523809523809523, 0.047619047619047616, 0.42857142857142855, 0.14285714285714285, 0.0, 0.0, 0.047619047619047616, 0.0, 0.047619047619047616, 0.2857142857142857, 0.3333333333333333, 0.09523809523809523, 0.047619047619047616, 0.19047619047619047, 0.0, 0.09523809523809523, 0.19047619047619047, 0.14285714285714285, 0.0, 0.09523809523809523, 0.047619047619047616, 0.19047619047619047, 0.14285714285714285, 0.23809523809523808, 0.0, 0.19047619047619047, 0.0, 0.23809523809523808, 0.42857142857142855, 0.047619047619047616, 0.19047619047619047, 0.09523809523809523, 0.23809523809523808, 0.0, 0.0, 0.047619047619047616, 0.0, 0.14285714285714285, 0.0, 0.09523809523809523, 0.2857142857142857, 0.09523809523809523, 0.14285714285714285, 0.14285714285714285, 0.047619047619047616, 0.14285714285714285, 0.0, 0.0, 0.5714285714285714, 0.0, 0.09523809523809523, 0.6190476190476191, 0.23809523809523808, 0.19047619047619047, 0.19047619047619047, 0.14285714285714285, 0.2857142857142857, 0.19047619047619047, 0.0, 0.0, 0.23809523809523808, 0.0, 0.047619047619047616, 0.14285714285714285, 0.0, 0.42857142857142855, 0.0, 0.2857142857142857, 0.047619047619047616, 0.09523809523809523, 0.3333333333333333, 0.09523809523809523, 0.19047619047619047, 0.2857142857142857, 0.0, 0.09523809523809523, 0.42857142857142855, 0.0, 0.38095238095238093, 0.09523809523809523, 0.09523809523809523, 0.09523809523809523, 0.047619047619047616, 0.14285714285714285, 0.0, 0.0, 0.2857142857142857, 0.0, 0.09523809523809523, 0.42857142857142855, 0.047619047619047616, 0.0, 0.0, 0.0, 0.14285714285714285, 0.047619047619047616, 0.0, 0.047619047619047616, 0.0, 0.09523809523809523, 0.19047619047619047, 0.047619047619047616, 0.14285714285714285, 0.19047619047619047, 0.19047619047619047, 0.14285714285714285, 0.09523809523809523, 0.0, 0.09523809523809523, 0.09523809523809523, 0.14285714285714285, 0.0, 0.19047619047619047, 0.09523809523809523, 0.2857142857142857, 0.14285714285714285, 0.0, 0.42857142857142855, 0.14285714285714285, 0.0, 0.047619047619047616, 0.23809523809523808, 0.047619047619047616, 0.047619047619047616, 0.14285714285714285, 0.0, 0.0, 0.14285714285714285, 0.09523809523809523, 0.0, 0.09523809523809523, 0.0, 0.09523809523809523, 0.0, 0.2857142857142857, 0.23809523809523808, 0.09523809523809523, 0.19047619047619047, 0.14285714285714285, 0.047619047619047616, 0.14285714285714285, 0.0, 0.0, 0.19047619047619047, 0.047619047619047616, 0.047619047619047616, 0.0, 0.047619047619047616, 0.14285714285714285, 0.14285714285714285, 0.09523809523809523, 0.047619047619047616, 0.14285714285714285, 0.19047619047619047, 0.09523809523809523, 0.19047619047619047, 0.23809523809523808, 0.19047619047619047, 0.047619047619047616, 0.2857142857142857, 0.0, 0.0, 0.0, 0.6190476190476191, 0.23809523809523808, 0.0, 0.19047619047619047, 0.0, 0.19047619047619047, 0.14285714285714285, 0.047619047619047616, 0.0, 0.0, 0.047619047619047616, 0.047619047619047616, 0.0, 0.19047619047619047, 0.09523809523809523, 0.0, 0.0, 0.38095238095238093, 0.0, 0.09523809523809523, 0.0, 0.0, 0.09523809523809523, 0.0, 0.0, 0.0, 0.047619047619047616, 0.19047619047619047, 0.23809523809523808, 0.23809523809523808, 0.0, 0.19047619047619047, 0.047619047619047616, 0.14285714285714285, 0.23809523809523808, 0.0, 0.14285714285714285, 0.19047619047619047, 0.19047619047619047, 0.09523809523809523, 0.0, 0.09523809523809523, 0.0, 0.0, 0.09523809523809523, 0.0, 0.42857142857142855, 0.38095238095238093, 0.09523809523809523, 0.14285714285714285, 0.14285714285714285, 0.0, 0.14285714285714285, 0.0, 0.09523809523809523, 0.19047619047619047, 0.14285714285714285, 0.0, 0.0, 0.0, 0.0, 0.2857142857142857, 0.09523809523809523, 0.047619047619047616, 0.047619047619047616, 0.14285714285714285, 0.047619047619047616, 0.09523809523809523, 0.23809523809523808, 0.23809523809523808, 0.047619047619047616, 0.0, 0.14285714285714285, 0.14285714285714285, 0.0, 0.047619047619047616, 0.09523809523809523, 0.0, 0.14285714285714285, 0.0, 0.0, 0.14285714285714285, 0.047619047619047616, 0.0, 0.09523809523809523, 0.047619047619047616, 0.0, 0.0, 0.38095238095238093, 0.19047619047619047, 0.2857142857142857, 0.0, 0.0, 0.23809523809523808, 0.0, 0.19047619047619047, 0.19047619047619047, 0.0, 0.19047619047619047, 0.19047619047619047, 0.14285714285714285, 0.2857142857142857, 0.09523809523809523, 0.047619047619047616, 0.047619047619047616, 0.0, 0.0, 0.0, 0.047619047619047616, 0.0, 0.047619047619047616, 0.047619047619047616, 0.09523809523809523, 0.09523809523809523, 0.14285714285714285, 0.19047619047619047, 0.0, 0.047619047619047616, 0.09523809523809523, 0.0, 0.14285714285714285, 0.09523809523809523, 0.14285714285714285, 0.0, 0.0, 0.0, 0.0, 0.0, 0.0, 0.047619047619047616, 0.5714285714285714, 0.0, 0.0, 0.6190476190476191, 0.19047619047619047, 0.0, 0.09523809523809523, 0.0, 0.09523809523809523, 0.09523809523809523, 0.14285714285714285, 0.0, 0.23809523809523808, 0.19047619047619047, 0.0, 0.047619047619047616, 0.0, 0.2857142857142857, 0.047619047619047616, 0.09523809523809523, 0.14285714285714285, 0.0, 0.09523809523809523, 0.14285714285714285, 0.0, 0.14285714285714285, 0.23809523809523808, 0.09523809523809523, 0.14285714285714285, 0.0, 0.09523809523809523, 0.047619047619047616, 0.19047619047619047, 0.0, 0.047619047619047616, 0.19047619047619047, 0.0, 0.0, 0.09523809523809523, 0.0, 0.23809523809523808, 0.09523809523809523, 0.19047619047619047, 0.09523809523809523, 0.09523809523809523, 0.047619047619047616, 0.0, 0.0, 0.14285714285714285, 0.14285714285714285, 0.0, 0.09523809523809523, 0.047619047619047616, 0.0, 0.14285714285714285, 0.09523809523809523, 0.0, 0.047619047619047616, 0.14285714285714285, 0.0, 0.0, 0.0, 0.047619047619047616, 0.047619047619047616, 0.0, 0.19047619047619047, 0.42857142857142855, 0.047619047619047616, 0.09523809523809523, 0.42857142857142855, 0.19047619047619047, 0.09523809523809523, 0.0, 0.3333333333333333, 0.14285714285714285, 0.14285714285714285, 0.23809523809523808, 0.14285714285714285, 0.23809523809523808, 0.2857142857142857, 0.19047619047619047, 0.23809523809523808, 0.0, 0.09523809523809523, 0.09523809523809523, 0.09523809523809523, 0.09523809523809523, 0.19047619047619047, 0.23809523809523808, 0.0, 0.09523809523809523, 0.0, 0.09523809523809523, 0.0, 0.09523809523809523, 0.0, 0.0, 0.0, 0.047619047619047616, 0.23809523809523808, 0.0, 0.0, 0.0, 0.0, 0.0, 0.0, 0.19047619047619047, 0.09523809523809523, 0.047619047619047616, 0.0, 0.047619047619047616, 0.09523809523809523, 0.23809523809523808, 0.19047619047619047, 0.09523809523809523, 0.0, 0.0, 0.0, 0.09523809523809523, 0.09523809523809523, 0.0, 0.0, 0.19047619047619047, 0.0, 0.0, 0.09523809523809523, 0.047619047619047616, 0.23809523809523808, 0.09523809523809523, 0.2857142857142857, 0.0, 0.047619047619047616, 0.0, 0.23809523809523808, 0.14285714285714285, 0.09523809523809523, 0.0, 0.0, 0.09523809523809523, 0.0, 0.09523809523809523, 0.0, 0.19047619047619047, 0.0, 0.047619047619047616, 0.0, 0.0, 0.09523809523809523, 0.19047619047619047, 0.19047619047619047, 0.0, 0.23809523809523808, 0.0, 0.14285714285714285, 0.0, 0.0, 0.14285714285714285, 0.14285714285714285, 0.14285714285714285, 0.23809523809523808, 0.047619047619047616, 0.0, 0.14285714285714285, 0.047619047619047616, 0.09523809523809523, 0.0, 0.0, 0.14285714285714285, 0.0, 0.0, 0.047619047619047616, 0.42857142857142855, 0.19047619047619047, 0.047619047619047616, 0.19047619047619047, 0.23809523809523808, 0.0, 0.0, 0.047619047619047616, 0.19047619047619047, 0.0, 0.38095238095238093, 0.23809523809523808, 0.0, 0.19047619047619047, 0.47619047619047616, 0.047619047619047616, 0.047619047619047616, 0.14285714285714285, 0.3333333333333333, 0.047619047619047616, 0.09523809523809523, 0.09523809523809523, 0.0, 0.0, 0.09523809523809523, 0.0, 0.14285714285714285, 0.0, 0.14285714285714285, 0.14285714285714285, 0.19047619047619047, 0.09523809523809523, 0.09523809523809523, 0.09523809523809523, 0.09523809523809523, 0.14285714285714285, 0.0, 0.0, 0.19047619047619047, 0.047619047619047616, 0.0, 0.0, 0.0, 0.23809523809523808, 0.09523809523809523, 0.047619047619047616, 0.047619047619047616, 0.09523809523809523, 0.3333333333333333, 0.14285714285714285, 0.047619047619047616, 0.14285714285714285, 0.0, 0.0, 0.0, 0.09523809523809523, 0.047619047619047616, 0.19047619047619047, 0.14285714285714285, 0.09523809523809523, 0.0, 0.0, 0.09523809523809523, 0.09523809523809523, 0.047619047619047616, 0.0, 0.0, 0.19047619047619047, 0.14285714285714285, 0.0, 0.0, 0.0, 0.0, 0.23809523809523808, 0.047619047619047616, 0.047619047619047616, 0.14285714285714285, 0.09523809523809523, 0.19047619047619047, 0.14285714285714285, 0.14285714285714285, 0.0, 0.19047619047619047, 0.047619047619047616, 0.047619047619047616, 0.14285714285714285, 0.14285714285714285, 0.14285714285714285, 0.23809523809523808, 0.047619047619047616, 0.0, 0.09523809523809523, 0.0, 0.14285714285714285, 0.0, 0.0, 0.09523809523809523, 0.0, 0.19047619047619047, 0.19047619047619047, 0.09523809523809523, 0.0, 0.14285714285714285, 0.09523809523809523, 0.2857142857142857, 0.0, 0.09523809523809523, 0.0, 0.0, 0.09523809523809523, 0.09523809523809523, 0.09523809523809523, 0.047619047619047616, 0.047619047619047616, 0.14285714285714285, 0.14285714285714285, 0.0, 0.19047619047619047, 0.19047619047619047, 0.0, 0.19047619047619047, 0.19047619047619047, 0.0, 0.14285714285714285, 0.14285714285714285, 0.19047619047619047, 0.047619047619047616, 0.0, 0.0, 0.14285714285714285, 0.3333333333333333, 0.09523809523809523, 0.19047619047619047, 0.047619047619047616, 0.19047619047619047, 0.14285714285714285, 0.047619047619047616, 0.14285714285714285, 0.09523809523809523, 0.23809523809523808, 0.23809523809523808, 0.23809523809523808, 0.23809523809523808, 0.3333333333333333, 0.14285714285714285, 0.09523809523809523, 0.14285714285714285, 0.19047619047619047, 0.0, 0.2857142857142857, 0.047619047619047616, 0.14285714285714285, 0.23809523809523808, 0.09523809523809523, 0.047619047619047616, 0.047619047619047616, 0.23809523809523808, 0.19047619047619047, 0.0, 0.19047619047619047, 0.19047619047619047, 0.19047619047619047, 0.047619047619047616, 0.0, 0.19047619047619047, 0.0, 0.09523809523809523, 0.047619047619047616, 0.09523809523809523, 0.0, 0.0, 0.14285714285714285, 0.14285714285714285, 0.14285714285714285, 0.0, 0.0, 0.09523809523809523, 0.0, 0.047619047619047616, 0.0, 0.0, 0.0, 0.09523809523809523, 0.0, 0.0, 0.14285714285714285, 0.19047619047619047, 0.0, 0.0, 0.09523809523809523, 0.09523809523809523, 0.0, 0.19047619047619047, 0.09523809523809523, 0.09523809523809523, 0.19047619047619047, 0.23809523809523808, 0.047619047619047616, 0.23809523809523808, 0.14285714285714285, 0.23809523809523808, 0.047619047619047616, 0.0, 0.09523809523809523, 0.0, 0.09523809523809523, 0.047619047619047616, 0.09523809523809523, 0.14285714285714285, 0.14285714285714285, 0.0, 0.14285714285714285, 0.047619047619047616, 0.19047619047619047, 0.09523809523809523, 0.047619047619047616, 0.14285714285714285, 0.19047619047619047, 0.0, 0.0, 0.0, 0.0, 0.0, 0.09523809523809523, 0.23809523809523808, 0.047619047619047616, 0.23809523809523808, 0.0, 0.0, 0.09523809523809523, 0.047619047619047616, 0.0, 0.0, 0.2857142857142857, 0.0, 0.14285714285714285, 0.0, 0.19047619047619047, 0.0, 0.14285714285714285, 0.23809523809523808, 0.19047619047619047, 0.23809523809523808, 0.047619047619047616, 0.23809523809523808, 0.23809523809523808, 0.14285714285714285, 0.0, 0.14285714285714285, 0.6666666666666666, 0.47619047619047616, 0.23809523809523808, 0.19047619047619047, 0.047619047619047616, 0.3333333333333333, 0.0, 0.19047619047619047, 0.047619047619047616, 0.14285714285714285, 0.09523809523809523, 0.047619047619047616, 0.0, 0.09523809523809523, 0.0, 0.3333333333333333, 0.047619047619047616, 0.047619047619047616, 0.047619047619047616, 0.09523809523809523, 0.14285714285714285, 0.19047619047619047, 0.19047619047619047, 0.0, 0.0, 0.19047619047619047, 0.0, 0.0, 0.047619047619047616, 0.0, 0.5238095238095237, 0.047619047619047616, 0.0, 0.09523809523809523, 0.047619047619047616, 0.0, 0.19047619047619047, 0.19047619047619047, 0.19047619047619047, 0.047619047619047616, 0.047619047619047616, 0.0, 0.0, 0.47619047619047616, 0.09523809523809523, 0.09523809523809523, 0.19047619047619047, 0.047619047619047616, 0.23809523809523808, 0.047619047619047616, 0.09523809523809523, 0.42857142857142855, 0.0, 0.19047619047619047, 0.0, 0.19047619047619047, 0.0, 0.19047619047619047, 0.0, 0.047619047619047616, 0.047619047619047616, 0.0, 0.0, 0.09523809523809523, 0.0, 0.19047619047619047, 0.14285714285714285, 0.047619047619047616, 0.047619047619047616, 0.047619047619047616, 0.09523809523809523, 0.23809523809523808, 0.19047619047619047, 0.23809523809523808, 0.23809523809523808, 0.0, 0.19047619047619047, 0.23809523809523808, 0.19047619047619047, 0.23809523809523808, 0.0, 0.0, 0.047619047619047616, 0.23809523809523808, 0.09523809523809523, 0.14285714285714285, 0.0, 0.0, 0.19047619047619047, 0.0, 0.19047619047619047, 0.14285714285714285, 0.047619047619047616, 0.19047619047619047, 0.047619047619047616, 0.14285714285714285, 0.047619047619047616, 0.09523809523809523, 0.19047619047619047, 0.14285714285714285, 0.23809523809523808, 0.047619047619047616, 0.23809523809523808, 0.047619047619047616, 0.047619047619047616, 0.14285714285714285, 0.047619047619047616, 0.0, 0.19047619047619047, 0.23809523809523808, 0.14285714285714285, 0.14285714285714285, 0.14285714285714285, 0.19047619047619047, 0.0, 0.2857142857142857, 0.0, 0.047619047619047616, 0.0, 0.14285714285714285, 0.19047619047619047, 0.0, 0.23809523809523808, 0.19047619047619047, 0.0, 0.09523809523809523, 0.09523809523809523, 0.047619047619047616, 0.047619047619047616, 0.47619047619047616, 0.0, 0.2857142857142857, 0.047619047619047616, 0.09523809523809523, 0.09523809523809523, 0.0, 0.0, 0.0, 0.0, 0.0, 0.19047619047619047, 0.0, 0.38095238095238093, 0.19047619047619047, 0.0, 0.14285714285714285, 0.09523809523809523, 0.14285714285714285, 0.23809523809523808, 0.14285714285714285, 0.0, 0.047619047619047616, 0.09523809523809523, 0.14285714285714285, 0.19047619047619047, 0.14285714285714285, 0.0, 0.19047619047619047, 0.09523809523809523, 0.14285714285714285, 0.047619047619047616, 0.047619047619047616, 0.42857142857142855, 0.19047619047619047, 0.09523809523809523, 0.047619047619047616, 0.0, 0.0, 0.7619047619047619, 0.047619047619047616, 0.047619047619047616, 0.14285714285714285, 0.0, 0.0, 0.14285714285714285, 0.19047619047619047, 0.19047619047619047, 0.09523809523809523, 0.0, 0.14285714285714285, 0.14285714285714285, 0.14285714285714285, 0.38095238095238093, 0.0, 0.0, 0.047619047619047616, 0.0, 0.0, 0.0, 0.047619047619047616, 0.6190476190476191, 0.09523809523809523, 0.09523809523809523, 0.09523809523809523, 0.09523809523809523, 0.09523809523809523, 0.19047619047619047, 0.5714285714285714, 0.19047619047619047, 0.0, 0.0, 0.09523809523809523, 0.0, 0.047619047619047616, 0.0, 0.19047619047619047, 0.19047619047619047, 0.23809523809523808, 0.14285714285714285, 0.14285714285714285, 0.3333333333333333, 0.0, 0.0, 0.3333333333333333, 0.0, 0.0, 0.19047619047619047, 0.09523809523809523, 0.19047619047619047, 0.0, 0.5238095238095237, 0.047619047619047616, 0.23809523809523808, 0.0, 0.3333333333333333, 0.23809523809523808, 0.0, 0.0, 0.047619047619047616, 0.0, 0.0, 0.14285714285714285, 0.09523809523809523, 0.047619047619047616, 0.14285714285714285, 0.0, 0.3333333333333333, 0.23809523809523808, 0.19047619047619047, 0.0, 0.0, 0.0, 0.0, 0.0, 0.14285714285714285, 0.0, 0.19047619047619047, 0.0, 0.0, 0.14285714285714285, 0.09523809523809523, 0.47619047619047616, 0.14285714285714285, 0.23809523809523808, 0.09523809523809523, 0.09523809523809523, 0.19047619047619047, 0.2857142857142857, 0.047619047619047616, 0.047619047619047616, 0.09523809523809523, 0.09523809523809523, 0.23809523809523808, 0.0, 0.14285714285714285, 0.0, 0.23809523809523808, 0.5714285714285714, 0.0, 0.5238095238095237, 0.0, 0.0, 0.14285714285714285, 0.0, 0.14285714285714285, 0.0, 0.09523809523809523, 0.14285714285714285, 0.23809523809523808, 0.09523809523809523, 0.23809523809523808, 0.09523809523809523, 0.09523809523809523, 0.0, 0.23809523809523808, 0.047619047619047616, 0.14285714285714285, 0.2857142857142857, 0.09523809523809523, 0.2857142857142857, 0.09523809523809523, 0.23809523809523808, 0.0, 0.0, 0.23809523809523808, 0.0, 0.0, 0.14285714285714285, 0.09523809523809523, 0.09523809523809523, 0.19047619047619047, 0.2857142857142857, 0.23809523809523808, 0.19047619047619047, 0.0, 0.047619047619047616, 0.19047619047619047, 0.19047619047619047, 0.09523809523809523, 0.14285714285714285, 0.047619047619047616, 0.09523809523809523, 0.0, 0.23809523809523808, 0.047619047619047616, 0.0, 0.047619047619047616, 0.14285714285714285, 0.5238095238095237, 0.047619047619047616, 0.0, 0.0, 0.5714285714285714, 0.09523809523809523, 0.19047619047619047, 0.09523809523809523, 0.09523809523809523, 0.19047619047619047, 0.09523809523809523, 0.14285714285714285, 0.19047619047619047, 0.0, 0.0, 0.0, 0.0, 0.14285714285714285, 0.047619047619047616, 0.3333333333333333, 0.047619047619047616, 0.047619047619047616, 0.047619047619047616, 0.09523809523809523, 0.0, 0.0, 0.0, 0.0, 0.047619047619047616, 0.047619047619047616, 0.047619047619047616, 0.047619047619047616, 0.0, 0.0, 0.0, 0.0, 0.19047619047619047, 0.047619047619047616, 0.38095238095238093, 0.09523809523809523, 0.047619047619047616, 0.23809523809523808, 0.047619047619047616, 0.09523809523809523, 0.0, 0.0, 0.14285714285714285, 0.09523809523809523, 0.0, 0.09523809523809523, 0.047619047619047616, 0.19047619047619047, 0.19047619047619047, 0.14285714285714285, 0.0, 0.0, 0.0, 0.0, 0.19047619047619047, 0.047619047619047616, 0.047619047619047616, 0.047619047619047616, 0.14285714285714285, 0.14285714285714285, 0.14285714285714285, 0.14285714285714285, 0.0, 0.047619047619047616, 0.14285714285714285, 0.14285714285714285, 0.047619047619047616, 0.14285714285714285, 0.14285714285714285, 0.2857142857142857, 0.14285714285714285, 0.0, 0.14285714285714285, 0.047619047619047616, 0.14285714285714285, 0.14285714285714285, 0.14285714285714285, 0.14285714285714285, 0.0, 0.14285714285714285, 0.047619047619047616, 0.0, 0.047619047619047616, 0.0, 0.2857142857142857, 0.0, 0.2857142857142857, 0.09523809523809523, 0.0, 0.0, 0.2857142857142857, 0.0, 0.0, 0.19047619047619047, 0.3333333333333333, 0.0, 0.23809523809523808, 0.0, 0.14285714285714285, 0.2857142857142857, 0.14285714285714285, 0.14285714285714285, 0.047619047619047616, 0.0, 0.0, 0.047619047619047616, 0.0, 0.19047619047619047, 0.09523809523809523, 0.0, 0.0, 0.19047619047619047, 0.0, 0.09523809523809523, 0.09523809523809523, 0.19047619047619047, 0.14285714285714285, 0.09523809523809523, 0.0, 0.0, 0.38095238095238093, 0.0, 0.0, 0.23809523809523808, 0.14285714285714285, 0.19047619047619047, 0.14285714285714285, 0.14285714285714285, 0.0, 0.0, 0.14285714285714285, 0.09523809523809523, 0.2857142857142857, 0.09523809523809523, 0.0, 0.47619047619047616, 0.0, 0.14285714285714285, 0.0, 0.19047619047619047, 0.0, 0.3333333333333333, 0.23809523809523808, 0.23809523809523808, 0.0, 0.19047619047619047, 0.09523809523809523, 0.14285714285714285, 0.09523809523809523, 0.0, 0.0, 0.2857142857142857, 0.0, 0.0, 0.19047619047619047, 0.047619047619047616, 0.047619047619047616, 0.14285714285714285, 0.047619047619047616, 0.0, 0.047619047619047616, 0.0, 0.0, 0.0, 0.09523809523809523, 0.23809523809523808, 0.047619047619047616, 0.0, 0.09523809523809523, 0.23809523809523808, 0.047619047619047616, 0.14285714285714285, 0.14285714285714285, 0.09523809523809523, 0.0, 0.14285714285714285, 0.047619047619047616, 0.0, 0.23809523809523808, 0.0, 0.2857142857142857, 0.14285714285714285, 0.047619047619047616, 0.0, 0.09523809523809523, 0.14285714285714285, 0.19047619047619047, 0.14285714285714285, 0.09523809523809523, 0.2857142857142857, 0.23809523809523808, 0.0, 0.14285714285714285, 0.23809523809523808, 0.19047619047619047, 0.0, 0.09523809523809523, 0.14285714285714285, 0.14285714285714285, 0.14285714285714285, 0.19047619047619047, 0.47619047619047616, 0.14285714285714285, 0.3333333333333333, 0.047619047619047616, 0.09523809523809523, 0.0, 0.0, 0.09523809523809523, 0.0, 0.047619047619047616, 0.14285714285714285, 0.3333333333333333, 0.09523809523809523, 0.19047619047619047, 0.19047619047619047, 0.23809523809523808, 0.0, 0.0, 0.2857142857142857, 0.0, 0.19047619047619047, 0.19047619047619047, 0.23809523809523808, 0.0, 0.0, 0.09523809523809523, 0.0, 0.0, 0.42857142857142855, 0.19047619047619047, 0.19047619047619047, 0.09523809523809523, 0.0, 0.0, 0.14285714285714285, 0.14285714285714285, 0.0, 0.0, 0.09523809523809523, 0.09523809523809523, 0.09523809523809523, 0.047619047619047616, 0.09523809523809523, 0.047619047619047616, 0.0, 0.09523809523809523, 0.23809523809523808, 0.14285714285714285, 0.38095238095238093, 0.19047619047619047, 0.0, 0.0, 0.0, 0.0, 0.0, 0.0, 0.0, 0.09523809523809523, 0.0, 0.0, 0.09523809523809523, 0.0, 0.047619047619047616, 0.23809523809523808, 0.14285714285714285, 0.0, 0.0, 0.0, 0.0, 0.0, 0.14285714285714285, 0.047619047619047616, 0.0, 0.19047619047619047, 0.2857142857142857, 0.2857142857142857, 0.0, 0.0, 0.0, 0.19047619047619047, 0.2857142857142857, 0.0, 0.0, 0.0, 0.23809523809523808, 0.09523809523809523, 0.047619047619047616, 0.23809523809523808, 0.47619047619047616, 0.0, 0.14285714285714285, 0.23809523809523808, 0.047619047619047616, 0.6190476190476191, 0.14285714285714285, 0.0, 0.09523809523809523, 0.38095238095238093, 0.14285714285714285, 0.14285714285714285, 0.047619047619047616, 0.047619047619047616, 0.0, 0.047619047619047616, 0.09523809523809523, 0.09523809523809523, 0.0, 0.23809523809523808, 0.047619047619047616, 0.19047619047619047, 0.14285714285714285, 0.19047619047619047, 0.47619047619047616, 0.19047619047619047, 0.0, 0.0, 0.14285714285714285, 0.047619047619047616, 0.047619047619047616, 0.047619047619047616, 0.0, 0.14285714285714285, 0.23809523809523808, 0.09523809523809523, 0.09523809523809523, 0.14285714285714285, 0.09523809523809523, 0.0, 0.09523809523809523, 0.0, 0.0, 0.14285714285714285, 0.0, 0.09523809523809523, 0.5238095238095237, 0.0, 0.3333333333333333, 0.09523809523809523, 0.0, 0.19047619047619047, 0.23809523809523808, 0.0, 0.19047619047619047, 0.047619047619047616, 0.0, 0.0, 0.23809523809523808, 0.3333333333333333, 0.09523809523809523, 0.5238095238095237, 0.047619047619047616, 0.0, 0.0, 0.19047619047619047, 0.047619047619047616, 0.23809523809523808, 0.0, 0.19047619047619047, 0.14285714285714285, 0.19047619047619047, 0.23809523809523808, 0.23809523809523808, 0.0, 0.14285714285714285, 0.14285714285714285, 0.0, 0.6666666666666666, 0.0, 0.047619047619047616, 0.19047619047619047, 0.19047619047619047, 0.23809523809523808, 0.14285714285714285, 0.0, 0.0, 0.0, 0.2857142857142857, 0.0, 0.0, 0.19047619047619047, 0.23809523809523808, 0.047619047619047616, 0.0, 0.23809523809523808, 0.0, 0.047619047619047616, 0.047619047619047616, 0.23809523809523808, 0.23809523809523808, 0.0, 0.0, 0.23809523809523808, 0.23809523809523808, 0.0, 0.09523809523809523, 0.047619047619047616, 0.09523809523809523, 0.0, 0.0, 0.0, 0.0, 0.09523809523809523, 0.047619047619047616, 0.14285714285714285, 0.0, 0.0, 0.047619047619047616, 0.19047619047619047], \"xaxis\": \"x\", \"y\": [0.413546255506608, 0.2990088105726873, 0.0842511013215859, 0.5165198237885463, 0.14482378854625552, 0.420704845814978, 0.4620044052863437, 0.27477973568281944, 0.4284140969162996, 0.6189427312775331, 0.03634361233480177, 0.04680616740088107, 0.2274229074889868, 0.4140969162995595, 0.61784140969163, 0.1685022026431718, 0.4686123348017622, 0.07433920704845816, 0.6150881057268723, 0.48898678414096924, 0.1828193832599119, 0.3491189427312776, 0.3056167400881058, 0.3188325991189428, 0.028083700440528638, 0.3166299559471366, 0.06057268722466961, 0.5490088105726872, 0.8160792951541851, 0.00881057268722467, 0.4218061674008811, 0.2940528634361234, 0.058370044052863446, 0.1696035242290749, 0.5044052863436124, 0.585352422907489, 0.4994493392070485, 0.6718061674008812, 0.40143171806167405, 0.0033039647577092516, 0.2290748898678414, 0.34581497797356836, 0.4085903083700441, 0.907488986784141, 0.682819383259912, 0.1194933920704846, 0.11508810572687225, 0.6321585903083701, 0.25110132158590315, 0.223568281938326, 0.6332599118942732, 0.3083700440528635, 0.670704845814978, 0.08480176211453745, 0.10627753303964758, 0.5941629955947137, 0.29240088105726875, 0.4498898678414098, 0.25000000000000006, 0.012114537444933921, 0.1668502202643172, 0.001101321585903084, 0.23072687224669605, 0.7389867841409693, 0.05726872246696036, 0.29625550660792954, 0.1261013215859031, 0.4030837004405287, 0.9179515418502203, 0.6409691629955948, 0.8232378854625552, 0.18061674008810574, 0.09416299559471367, 0.637114537444934, 0.05506607929515419, 0.7775330396475771, 0.07984581497797358, 0.9779735682819385, 0.07323788546255507, 0.26156387665198244, 0.4190528634361234, 0.21145374449339208, 0.8617841409691631, 0.019823788546255508, 0.5187224669603525, 0.7075991189427314, 0.03854625550660794, 0.09966960352422909, 0.328193832599119, 0.05231277533039649, 0.8193832599118944, 0.22522026431718065, 0.20539647577092512, 0.21640969162995596, 0.5269823788546256, 0.20704845814977976, 0.4845814977973569, 0.1668502202643172, 0.5110132158590309, 0.2290748898678414, 0.053414096916299565, 0.37114537444933926, 0.08314977973568283, 0.6602422907488987, 0.3436123348017622, 0.5236784140969164, 0.37500000000000006, 0.05231277533039649, 0.0060572687224669615, 0.4625550660792952, 0.14702643171806168, 0.38766519823788553, 0.23348017621145375, 0.04405286343612336, 0.8970264317180617, 0.572136563876652, 0.25550660792951546, 0.5247797356828194, 0.0644273127753304, 0.4300660792951542, 0.48513215859030845, 0.6007709251101322, 0.7802863436123348, 0.3397577092511014, 0.47466960352422916, 0.1723568281938326, 0.40363436123348023, 0.029735682819383262, 0.27477973568281944, 0.058370044052863446, 0.07929515418502203, 0.022026431718061675, 0.3386563876651983, 0.02092511013215859, 0.2599118942731278, 0.12114537444933922, 0.40914096916299564, 0.5165198237885463, 0.06883259911894274, 0.09416299559471367, 0.629955947136564, 0.413546255506608, 0.37224669603524235, 0.10077092511013216, 0.3193832599118943, 0.48953744493392076, 0.4620044052863437, 0.6657488986784141, 0.08920704845814978, 0.9229074889867842, 0.748898678414097, 0.5517621145374451, 0.15308370044052863, 0.7202643171806168, 0.4553964757709252, 0.756057268722467, 0.4190528634361234, 0.3860132158590309, 0.11618942731277533, 0.5886563876651983, 0.4421806167400882, 0.4658590308370045, 0.1222466960352423, 0.3199339207048459, 0.02588105726872247, 0.0038546255506607934, 0.5859030837004406, 0.1800660792951542, 0.09030837004405287, 0.6079295154185023, 0.7665198237885463, 0.2808370044052864, 0.8926211453744495, 0.3612334801762115, 0.8898678414096918, 0.3386563876651983, 0.5203744493392071, 0.3177312775330397, 0.9350220264317182, 0.3612334801762115, 0.06828193832599119, 0.4515418502202644, 0.06277533039647577, 0.13491189427312777, 0.1668502202643172, 0.7797356828193833, 0.11288546255506608, 0.028083700440528638, 0.6993392070484582, 0.3155286343612335, 0.03248898678414097, 0.2285242290748899, 0.2874449339207049, 0.6662995594713658, 0.6596916299559472, 0.2263215859030837, 0.07709251101321586, 0.26486784140969166, 0.8248898678414098, 0.597466960352423, 0.5038546255506609, 0.4240088105726873, 0.40638766519823794, 0.9416299559471367, 0.8711453744493393, 0.001101321585903084, 0.25220264317180624, 0.058370044052863446, 0.05671806167400882, 0.12334801762114538, 0.2901982378854626, 0.8937224669603525, 0.3193832599118943, 0.031387665198237893, 0.5523127753303966, 0.8882158590308371, 0.050660792951541855, 0.7026431718061675, 0.1525330396475771, 0.29350220264317184, 0.052863436123348026, 0.7698237885462555, 0.6998898678414098, 0.1734581497797357, 0.564977973568282, 0.25110132158590315, 0.7758810572687226, 0.4212555066079296, 0.11674008810572688, 0.4113436123348018, 0.38491189427312783, 0.09526431718061674, 0.14262114537444934, 0.8325991189427314, 0.33535242290748907, 0.05176211453744494, 0.5269823788546256, 0.2533039647577093, 0.1894273127753304, 0.25715859030837007, 0.17290748898678415, 0.009911894273127754, 0.15143171806167402, 0.4295154185022027, 0.07984581497797358, 0.23623348017621146, 0.49394273127753313, 0.022577092511013218, 0.6327092511013217, 0.48348017621145384, 0.6013215859030838, 0.518171806167401, 0.18226872246696035, 0.02918502202643172, 0.5605726872246697, 0.48623348017621154, 0.223568281938326, 0.7059471365638768, 0.10462555066079296, 0.5258810572687226, 0.15859030837004406, 0.03303964757709252, 0.17125550660792951, 0.3215859030837005, 0.39372246696035246, 0.47742290748898686, 0.02918502202643172, 0.314977973568282, 0.5715859030837005, 0.0919603524229075, 0.4410792951541851, 0.334251101321586, 0.6475770925110133, 0.7654185022026433, 0.1591409691629956, 0.05176211453744494, 0.4443832599118943, 0.1563876651982379, 0.9366740088105728, 0.7406387665198239, 0.20649779735682822, 0.21640969162995596, 0.295704845814978, 0.1261013215859031, 0.26707048458149785, 0.07709251101321586, 0.38270925110132165, 0.007158590308370045, 0.047356828193832606, 0.18887665198237888, 0.5396475770925111, 0.49339207048458156, 0.6883259911894274, 0.019273127753303965, 0.8265418502202644, 0.4432819383259913, 0.5969162995594715, 0.39867841409691634, 0.5319383259911895, 0.6145374449339208, 0.8887665198237886, 0.38656387665198244, 0.18722466960352424, 0.013766519823788547, 0.5897577092511014, 0.5005506607929516, 0.37940528634361237, 0.354625550660793, 0.9823788546255507, 0.0005506607929515419, 0.029735682819383262, 0.328193832599119, 0.11398678414096917, 0.3061674008810573, 0.4289647577092512, 0.2312775330396476, 0.4779735682819384, 0.29185022026431723, 0.09746696035242292, 0.754955947136564, 0.4185022026431719, 0.4229074889867842, 0.06002202643171807, 0.1745594713656388, 0.19218061674008813, 0.6387665198237886, 0.04019823788546256, 0.13711453744493393, 0.7665198237885463, 0.3050660792951542, 0.4278634361233481, 0.024229074889867842, 0.29185022026431723, 0.5126651982378856, 0.16464757709251102, 0.09966960352422909, 0.5677312775330398, 0.25385462555066085, 0.11068281938325991, 0.12444933920704845, 0.4454845814977974, 0.5011013215859031, 0.12444933920704845, 0.4361233480176212, 0.4994493392070485, 0.10407488986784141, 0.05396475770925111, 0.9686123348017622, 0.29735682819383263, 0.5925110132158591, 0.7505506607929516, 0.15088105726872247, 0.557819383259912, 0.04019823788546256, 0.13491189427312777, 0.2483480176211454, 0.2505506607929516, 0.015418502202643174, 0.27147577092511016, 0.4449339207048459, 0.029735682819383262, 0.07764317180616741, 0.623898678414097, 0.053414096916299565, 0.5346916299559472, 0.27202643171806173, 0.7064977973568283, 0.21145374449339208, 0.25825991189427316, 0.5660792951541851, 0.8386563876651983, 0.36563876651982385, 0.604625550660793, 0.17180616740088106, 0.7158590308370045, 0.03359030837004406, 0.17290748898678415, 0.21916299559471367, 0.23568281938325994, 0.12830396475770925, 0.21475770925110133, 0.19383259911894274, 0.6150881057268723, 0.3425110132158591, 0.19603524229074892, 0.7466960352422909, 0.24284140969162998, 0.8447136563876653, 0.7406387665198239, 0.5699339207048459, 0.5980176211453745, 0.5088105726872247, 0.7340308370044054, 0.08700440528634362, 0.10187224669603524, 0.20925110132158592, 0.06718061674008811, 0.017070484581497798, 0.6800660792951543, 0.3232378854625551, 0.854625550660793, 0.2890969162995595, 0.0644273127753304, 0.030286343612334805, 0.10187224669603524, 0.9922907488986785, 0.17841409691629956, 0.5594713656387666, 0.4911894273127754, 0.4229074889867842, 0.03689427312775331, 0.0038546255506607934, 0.17841409691629956, 0.13381057268722468, 0.21585903083700442, 0.26266519823788553, 0.6150881057268723, 0.0908590308370044, 0.5837004405286345, 0.45374449339207057, 0.4124449339207049, 0.768171806167401, 0.11123348017621146, 0.6040748898678415, 0.49669603524229083, 0.18502202643171808, 0.7626651982378856, 0.5099118942731278, 0.4317180616740089, 0.38381057268722474, 0.04405286343612336, 0.5963656387665199, 0.5776431718061675, 0.4162995594713657, 0.018722466960352423, 0.532488986784141, 0.183920704845815, 0.04680616740088107, 0.3469162995594714, 0.18226872246696035, 0.17180616740088106, 0.11288546255506608, 0.07158590308370044, 0.10132158590308371, 0.3177312775330397, 0.8177312775330398, 0.2703744493392071, 0.7648678414096918, 0.19438325991189428, 0.38656387665198244, 0.7175110132158591, 0.042400881057268726, 0.5611233480176212, 0.5583700440528635, 0.10297356828193834, 0.24339207048458153, 0.5765418502202644, 0.0060572687224669615, 0.05671806167400882, 0.5947136563876653, 0.08204845814977973, 0.27422907488986786, 0.05231277533039649, 0.19658590308370044, 0.9443832599118944, 0.10903083700440529, 0.25660792951541855, 0.23568281938325994, 0.2912995594713657, 0.9581497797356829, 0.3557268722466961, 0.5798458149779736, 0.019273127753303965, 0.15088105726872247, 0.3138766519823789, 0.781387665198238, 0.3006607929515419, 0.1800660792951542, 0.5666299559471366, 0.016519823788546256, 0.03248898678414097, 0.6596916299559472, 0.35627753303964765, 0.055616740088105736, 0.3160792951541851, 0.48403083700440536, 0.17676211453744495, 0.35352422907488995, 0.3226872246696036, 0.26211453744493396, 0.4289647577092512, 0.35242290748898686, 0.07654185022026432, 0.4058370044052864, 0.031387665198237893, 0.024229074889867842, 0.05451541850220265, 0.86784140969163, 0.400330396475771, 0.11894273127753305, 0.030837004405286344, 0.5848017621145375, 0.1354625550660793, 0.41189427312775334, 0.3309471365638767, 0.2863436123348018, 0.48733480176211463, 0.07544052863436124, 0.3436123348017622, 0.3298458149779736, 0.050110132158590316, 0.6437224669603525, 0.1156387665198238, 0.5892070484581499, 0.4113436123348018, 0.29074889867841414, 0.2389867841409692, 0.7186123348017622, 0.5148678414096917, 0.15363436123348018, 0.36563876651982385, 0.6382158590308371, 0.48843612334801767, 0.6894273127753305, 0.2378854625550661, 0.3507709251101322, 0.6514317180616741, 0.7257709251101323, 0.13436123348017623, 0.3072687224669604, 0.37334801762114544, 0.27863436123348023, 0.170704845814978, 0.4146475770925111, 0.056167400881057275, 0.08700440528634362, 0.21145374449339208, 0.5892070484581499, 0.8997797356828194, 0.6894273127753305, 0.028634361233480177, 0.3529735682819384, 0.7857929515418504, 0.4245594713656388, 0.10737885462555066, 0.27257709251101325, 0.4212555066079296, 0.7494493392070486, 0.03579295154185023, 0.6464757709251102, 0.22962555066079296, 0.013215859030837005, 0.3755506607929516, 0.459251101321586, 0.3430616740088106, 0.4361233480176212, 0.34966960352422916, 0.301762114537445, 0.6844713656387666, 0.7329295154185023, 0.02092511013215859, 0.03579295154185023, 0.01762114537444934, 0.39096916299559475, 0.29735682819383263, 0.2417400881057269, 0.4174008810572688, 0.19107929515418504, 0.5231277533039649, 0.33810572687224677, 0.6651982378854626, 0.047907488986784146, 0.4085903083700441, 0.10737885462555066, 0.9394273127753305, 0.314977973568282, 0.23348017621145375, 0.5490088105726872, 0.13876651982378854, 0.11784140969162996, 0.044603524229074897, 0.7659691629955948, 0.35517621145374456, 0.38931718061674014, 0.28689427312775334, 0.055616740088105736, 0.20539647577092512, 0.6305066079295155, 0.10187224669603524, 0.2940528634361234, 0.400330396475771, 0.7120044052863437, 0.5611233480176212, 0.061674008810572695, 0.8050660792951543, 0.236784140969163, 0.36563876651982385, 0.07433920704845816, 0.1591409691629956, 0.9922907488986785, 0.426762114537445, 0.1459251101321586, 0.061123348017621155, 0.5512114537444934, 0.18502202643171808, 0.19988986784140972, 0.40143171806167405, 0.8540748898678415, 0.21090308370044056, 0.3320484581497798, 0.34856828193832606, 0.13325991189427314, 0.72852422907489, 0.5424008810572688, 0.308920704845815, 0.11013215859030838, 0.6062775330396477, 0.25825991189427316, 0.295704845814978, 0.3370044052863437, 0.4047356828193833, 0.058370044052863446, 0.4284140969162996, 0.23953744493392073, 0.49394273127753313, 0.6376651982378856, 0.0005506607929515419, 0.047907488986784146, 0.20429515418502203, 0.20870044052863437, 0.04955947136563878, 0.38491189427312783, 0.38766519823788553, 0.25770925110132165, 0.3166299559471366, 0.7566079295154186, 0.4344713656387666, 0.170704845814978, 0.5044052863436124, 0.13766519823788548, 0.20594713656387667, 0.5352422907488987, 0.6602422907488987, 0.26486784140969166, 0.37004405286343617, 0.09306167400881057, 0.38931718061674014, 0.1288546255506608, 0.3309471365638767, 0.011563876651982379, 0.6095814977973569, 0.21310572687224671, 0.8689427312775332, 0.08314977973568283, 0.04625550660792952, 0.055616740088105736, 0.39427312775330403, 0.3331497797356829, 0.7461453744493393, 0.7857929515418504, 0.3755506607929516, 0.4146475770925111, 0.13601321585903084, 0.38711453744493396, 0.10462555066079296, 0.6294052863436124, 0.4151982378854626, 0.10352422907488987, 0.35792951541850226, 0.48733480176211463, 0.564977973568282, 0.03579295154185023, 0.3491189427312776, 0.04570484581497798, 0.432819383259912, 0.45649779735682827, 0.7455947136563877, 0.2505506607929516, 0.5286343612334803, 0.7670704845814978, 0.5275330396475771, 0.3425110132158591, 0.10132158590308371, 0.48898678414096924, 0.49284140969163004, 0.7461453744493393, 0.016519823788546256, 0.27367841409691634, 0.5022026431718062, 0.3133259911894274, 0.12665198237885464, 0.768171806167401, 0.03689427312775331, 0.06607929515418502, 0.19218061674008813, 0.04129955947136565, 0.13436123348017623, 0.4306167400881058, 0.9322687224669605, 0.6514317180616741, 0.15308370044052863, 0.23182819383259914, 0.8166299559471366, 0.5490088105726872, 0.5539647577092511, 0.39482378854625555, 0.49284140969163004, 0.5044052863436124, 0.4146475770925111, 0.058370044052863446, 0.11618942731277533, 0.2505506607929516, 0.1668502202643172, 0.8359030837004406, 0.12830396475770925, 0.34856828193832606, 0.5297356828193833, 0.689977973568282, 0.4493392070484582, 0.28579295154185025, 0.3248898678414097, 0.39427312775330403, 0.09801762114537445, 0.19548458149779738, 0.9454845814977975, 0.27588105726872253, 0.7109030837004406, 0.6211453744493393, 0.8408590308370045, 0.5605726872246697, 0.27367841409691634, 0.1194933920704846, 0.9884361233480178, 0.6850220264317182, 0.5941629955947137, 0.73568281938326, 0.25605726872246704, 0.09030837004405287, 0.49174008810572695, 0.20594713656387667, 0.1618942731277533, 0.504955947136564, 0.1194933920704846, 0.26817180616740094, 0.49339207048458156, 0.06057268722466961, 0.08975770925110133, 0.11288546255506608, 0.17841409691629956, 0.7648678414096918, 0.48237885462555075, 0.47246696035242297, 0.2290748898678414, 0.3006607929515419, 0.5038546255506609, 0.08480176211453745, 0.07213656387665199, 0.7301762114537446, 0.5776431718061675, 0.14096916299559473, 0.5154185022026433, 0.3116740088105727, 0.26651982378854633, 0.2912995594713657, 0.5930616740088106, 0.5407488986784141, 0.61784140969163, 0.1194933920704846, 0.028083700440528638, 0.0881057268722467, 0.3661894273127754, 0.7648678414096918, 0.3557268722466961, 0.703193832599119, 0.4598017621145375, 0.12775330396475773, 0.8590308370044054, 0.1696035242290749, 0.2769823788546256, 0.056167400881057275, 0.062224669603524234, 0.08370044052863436, 0.3584801762114538, 0.24284140969162998, 0.8777533039647578, 0.3953744493392071, 0.7610132158590309, 0.03359030837004406, 0.18226872246696035, 0.5220264317180617, 0.5501101321585904, 0.16795154185022027, 0.27643171806167405, 0.3375550660792952, 0.27863436123348023, 0.301762114537445, 0.6514317180616741, 0.4190528634361234, 0.07433920704845816, 0.04625550660792952, 0.3215859030837005, 0.15583700440528636, 0.5820484581497798, 0.4350220264317181, 0.21255506607929517, 0.3034140969162996, 0.6514317180616741, 0.11894273127753305, 0.12720264317180618, 0.1563876651982379, 0.09636563876651982, 0.506057268722467, 0.06773127753303965, 0.11288546255506608, 0.08755506607929515, 0.48898678414096924, 0.18722466960352424, 0.8243392070484582, 0.5187224669603525, 0.6536343612334803, 0.5005506607929516, 0.4069383259911895, 0.17015418502202645, 0.14207048458149782, 0.007158590308370045, 0.6250000000000001, 0.0033039647577092516, 0.2505506607929516, 0.052863436123348026, 0.05396475770925111, 0.26651982378854633, 0.21751101321585906, 0.017070484581497798, 0.13656387665198239, 0.37224669603524235, 0.9432819383259913, 0.3441629955947137, 0.197136563876652, 0.7808370044052865, 0.0060572687224669615, 0.7026431718061675, 0.47742290748898686, 0.16629955947136565, 0.08975770925110133, 0.3309471365638767, 0.4702643171806168, 0.5952643171806168, 0.03909691629955948, 0.37169603524229083, 0.2329295154185022, 0.012114537444933921, 0.29625550660792954, 0.07378854625550661, 0.07158590308370044, 0.07984581497797358, 0.637114537444934, 0.6349118942731279, 0.8430616740088107, 0.4779735682819384, 0.5468061674008812, 0.4542951541850221, 0.00275330396475771, 0.8061674008810573, 0.1459251101321586, 0.3612334801762115, 0.40143171806167405, 0.11894273127753305, 0.2444933920704846, 0.17566079295154186, 0.6205947136563877, 0.3375550660792952, 0.06057268722466961, 0.4394273127753305, 0.3430616740088106, 0.04295154185022027, 0.4212555066079296, 0.5429515418502203, 0.03248898678414097, 0.061674008810572695, 0.6073788546255507, 0.841409691629956, 0.47852422907488995, 0.5837004405286345, 0.2329295154185022, 0.28138766519823794, 0.047356828193832606, 0.17125550660792951, 0.17125550660792951, 0.49669603524229083, 0.19438325991189428, 0.6712555066079297, 0.03689427312775331, 0.30011013215859034, 0.26431718061674014, 0.4465859030837005, 0.3860132158590309, 0.23182819383259914, 0.0947136563876652, 0.15418502202643172, 0.46530837004405295, 0.49889867841409696, 0.48623348017621154, 0.24118942731277535, 0.30121145374449343, 0.20484581497797358, 0.2835903083700441, 0.19658590308370044, 0.3992290748898679, 0.36068281938325997, 0.30671806167400884, 0.058920704845814985, 0.17015418502202645, 0.06387665198237885, 0.16354625550660795, 0.03303964757709252, 0.12444933920704845, 0.38270925110132165, 0.05176211453744494, 0.19107929515418504, 0.48678414096916306, 0.015418502202643174, 0.7444933920704847, 0.4845814977973569, 0.1877753303964758, 0.0814977973568282, 0.8006607929515419, 0.41299559471365643, 0.19988986784140972, 0.30121145374449343, 0.25715859030837007, 0.5776431718061675, 0.6316079295154186, 0.709251101321586, 0.030286343612334805, 0.2301762114537445, 0.3243392070484582, 0.4587004405286344, 0.39867841409691634, 0.5743392070484582, 0.4845814977973569, 0.506057268722467, 0.12389867841409692, 0.22797356828193835, 0.38381057268722474, 0.03469162995594714, 0.20649779735682822, 0.5236784140969164, 0.021475770925110133, 0.5148678414096917, 0.3981277533039648, 0.1393171806167401, 0.5958149779735684, 0.7279735682819384, 0.5622246696035244, 0.3463656387665199, 0.5512114537444934, 0.0512114537444934, 0.26707048458149785, 0.0578193832599119, 0.47962555066079304, 0.12279735682819384, 0.25660792951541855, 0.17676211453744495, 0.11398678414096917, 0.6784140969162996, 0.37169603524229083, 0.5583700440528635, 0.5330396475770925, 0.08865638766519825, 0.3325991189427313, 0.557819383259912, 0.05176211453744494, 0.2389867841409692, 0.7626651982378856, 0.197136563876652, 0.2472466960352423, 0.7593612334801763, 0.1629955947136564, 0.656387665198238, 0.6316079295154186, 0.37279735682819387, 0.5726872246696036, 0.38050660792951546, 0.10407488986784141, 0.8094713656387666, 0.25715859030837007, 0.5401982378854626, 0.17125550660792951, 0.8871145374449341, 0.36729074889867847, 0.1299559471365639, 0.8689427312775332, 0.6360132158590309, 0.4185022026431719, 0.3821585903083701, 0.3248898678414097, 0.4768722466960353, 0.27588105726872253, 0.16740088105726875, 0.8882158590308371, 0.04570484581497798, 0.5379955947136564, 0.29074889867841414, 0.2197136563876652, 0.13436123348017623, 0.7439427312775332, 0.09636563876651982, 0.019273127753303965, 0.007709251101321586, 0.06332599118942732, 0.12444933920704845, 0.6685022026431718, 0.06883259911894274, 0.5765418502202644, 0.06828193832599119, 0.031387665198237893, 0.38491189427312783, 0.6183920704845816, 0.8766519823788548, 0.6211453744493393, 0.20429515418502203, 0.4300660792951542, 0.7158590308370045, 0.12169603524229075, 0.2263215859030837, 0.4350220264317181, 0.6580396475770925, 0.6007709251101322, 0.08204845814977973, 0.03964757709251102, 0.3177312775330397, 0.4124449339207049, 0.341409691629956, 0.33149779735682827, 0.6161894273127754, 0.223568281938326, 0.17566079295154186, 0.15363436123348018, 0.7879955947136564, 0.1668502202643172, 0.1316079295154185, 0.4344713656387666, 0.18612334801762115, 0.892070484581498, 0.5792951541850221, 0.7665198237885463, 0.5897577092511014, 0.14262114537444934, 0.5903083700440529, 0.5203744493392071, 0.2301762114537445, 0.03634361233480177, 0.5980176211453745, 0.308920704845815, 0.7742290748898679, 0.8314977973568283, 0.16519823788546256, 0.6552863436123348, 0.3337004405286344, 0.22191629955947137, 0.018171806167400884, 0.2290748898678414, 0.6905286343612336, 0.6437224669603525, 0.1156387665198238, 0.005506607929515419, 0.024779735682819385, 0.2703744493392071, 0.1811674008810573, 0.46916299559471375, 0.06662995594713657, 0.3325991189427313, 0.6453744493392072, 0.210352422907489, 0.08094713656387666, 0.19493392070484583, 0.20980176211453747, 0.27147577092511016, 0.009911894273127754, 0.9333700440528635, 0.17400881057268724, 0.45374449339207057, 0.17015418502202645, 0.5176211453744494, 0.3370044052863437, 0.18171806167400884, 0.11508810572687225, 0.7797356828193833, 0.39977973568281944, 0.5748898678414097, 0.4768722466960353, 0.11618942731277533, 0.5418502202643173, 0.17125550660792951, 0.4410792951541851, 0.012114537444933921, 0.0038546255506607934, 0.08645374449339208, 0.6112334801762115, 0.23733480176211455, 0.2990088105726873, 0.26101321585903087, 0.8601321585903084, 0.3518722466960353, 0.7912995594713658, 0.4807268722466961, 0.504955947136564, 0.5881057268722468, 0.21475770925110133, 0.19988986784140972, 0.40803964757709255, 0.13986784140969163, 0.03303964757709252, 0.024779735682819385, 0.7131057268722468, 0.16244493392070486, 0.4416299559471366, 0.006607929515418503, 0.7841409691629957, 0.6205947136563877, 0.5286343612334803, 0.17290748898678415, 0.585352422907489, 0.27808370044052866, 0.37059471365638774, 0.49394273127753313, 0.1828193832599119, 0.793502202643172, 0.24118942731277535, 0.5330396475770925, 0.3133259911894274, 0.12059471365638767, 0.4333700440528635, 0.6905286343612336, 0.15308370044052863, 0.49559471365638774, 0.4295154185022027, 0.25220264317180624, 0.4306167400881058, 0.05396475770925111, 0.5005506607929516, 0.19218061674008813, 0.13381057268722468, 0.11894273127753305, 0.07158590308370044, 0.3364537444933921, 0.8904185022026433, 0.6272026431718063, 0.4058370044052864, 0.030837004405286344, 0.35517621145374456, 0.16464757709251102, 0.8436123348017622, 0.6569383259911895, 0.08259911894273128, 0.6288546255506609, 0.11288546255506608, 0.37720264317180624, 0.15363436123348018, 0.40803964757709255, 0.37610132158590315, 0.5561674008810573, 0.413546255506608, 0.341409691629956, 0.042400881057268726, 0.40143171806167405, 0.27202643171806173, 0.04019823788546256, 0.16409691629955947, 0.07544052863436124, 0.03193832599118943, 0.571035242290749, 0.4625550660792952, 0.24229074889867844, 0.1894273127753304, 0.47191629955947145, 0.1811674008810573, 0.0512114537444934, 0.06387665198237885, 0.024779735682819385, 0.5644273127753304, 0.12444933920704845, 0.02312775330396476, 0.6541850220264318, 0.35627753303964765, 0.13601321585903084, 0.0881057268722467, 0.11398678414096917, 0.13215859030837004, 0.36013215859030845, 0.7274229074889869, 0.9322687224669605, 0.49063876651982385, 0.14151982378854627, 0.7709251101321587, 0.8287444933920706, 0.38381057268722474, 0.46145374449339216, 0.26651982378854633, 0.20814977973568283, 0.19823788546255508, 0.37004405286343617, 0.420704845814978, 0.27808370044052866, 0.36178414096916306, 0.6712555066079297, 0.8639867841409693, 0.0033039647577092516, 0.3408590308370045, 0.170704845814978, 0.6294052863436124, 0.41685022026431723, 0.4295154185022027, 0.6448237885462555, 0.28689427312775334, 0.12059471365638767, 0.14262114537444934, 0.08535242290748898, 0.10297356828193834, 0.06828193832599119, 0.7577092511013217, 0.4911894273127754, 0.47081497797356836, 0.4427312775330397, 0.017070484581497798, 0.48568281938325997, 0.9135462555066081, 0.09140969162995595, 0.21751101321585906, 0.6398678414096917, 0.1828193832599119, 0.1685022026431718, 0.2180616740088106, 0.20649779735682822, 0.6073788546255507, 0.3237885462555067, 0.9344713656387666, 0.28193832599118945, 0.1811674008810573, 0.2483480176211454, 0.34966960352422916, 0.39041850220264324, 0.4218061674008811, 0.3623348017621146, 0.10297356828193834, 0.5947136563876653, 0.7615638766519824, 0.23733480176211455, 0.23458149779735685, 0.7912995594713658, 0.5148678414096917, 0.12004405286343613, 0.3287444933920705, 0.5214757709251102, 0.5941629955947137, 0.36949339207048465, 0.05396475770925111, 0.34746696035242297, 0.8215859030837005, 0.3502202643171807, 0.38381057268722474, 0.03689427312775331, 0.26982378854625555, 0.19933920704845817, 0.2984581497797357, 0.3964757709251102, 0.2846916299559472, 0.3100220264317181, 0.3502202643171807, 0.46530837004405295, 0.35792951541850226, 0.7951541850220265, 0.5225770925110133, 0.16795154185022027, 0.3303964757709252, 0.30671806167400884, 0.2968061674008811, 0.41189427312775334, 0.5302863436123348, 0.06332599118942732, 0.531387665198238, 0.13105726872246698, 0.06773127753303965, 0.9350220264317182, 0.35517621145374456, 0.7213656387665199, 0.14757709251101322, 0.4372246696035243, 0.3821585903083701, 0.04185022026431719, 0.26596916299559475, 0.7048458149779736, 0.0644273127753304, 0.25000000000000006, 0.572136563876652, 0.9421806167400882, 0.001101321585903084, 0.36839207048458156, 0.4730176211453745, 0.07213656387665199, 0.26046255506607935, 0.4212555066079296, 0.2169603524229075, 0.3006607929515419, 0.3160792951541851, 0.3992290748898679, 0.3507709251101322, 0.06607929515418502, 0.7042951541850221, 0.36729074889867847, 0.1745594713656388, 0.18171806167400884, 0.5693832599118943, 0.6784140969162996, 0.17015418502202645, 0.7257709251101323, 0.4504405286343613, 0.4443832599118943, 0.4487885462555067, 0.2979074889867842, 0.4741189427312776, 0.7665198237885463, 0.09966960352422909, 0.8083700440528635, 0.058920704845814985, 0.6618942731277534, 0.019823788546255508, 0.5787444933920706, 0.0814977973568282, 0.5401982378854626, 0.0038546255506607934, 0.7042951541850221, 0.7725770925110134, 0.7830396475770927, 0.26046255506607935, 0.5567180616740088, 0.2351321585903084, 0.38986784140969166, 0.8733480176211454, 0.09911894273127754, 0.8843612334801764, 0.4096916299559472, 0.1905286343612335, 0.7626651982378856, 0.5715859030837005, 0.5236784140969164, 0.15143171806167402, 0.09361233480176212, 0.17125550660792951, 0.4019823788546256, 0.578193832599119, 0.7098017621145375, 0.5825991189427313, 0.4432819383259913, 0.506057268722467, 0.4405286343612335, 0.04129955947136565, 0.37279735682819387, 0.4218061674008811, 0.5115638766519824, 0.19162995594713658, 0.7208149779735684, 0.24944933920704845, 0.459251101321586, 0.07158590308370044, 0.22577092511013216, 0.25605726872246704, 0.2444933920704846, 0.5892070484581499, 0.3034140969162996, 0.722466960352423, 0.6872246696035244, 0.3661894273127754, 0.28303964757709255, 0.45374449339207057, 0.7059471365638768, 0.28524229074889873, 0.5435022026431718, 0.06552863436123348, 0.3226872246696036, 0.3331497797356829, 0.3259911894273128, 0.4609030837004406, 0.5892070484581499, 0.6156387665198239, 0.06828193832599119, 0.45649779735682827, 0.3078193832599119, 0.10022026431718062, 0.8513215859030838, 0.07599118942731278, 0.6569383259911895, 0.5468061674008812, 0.3463656387665199, 0.6729074889867842, 0.012665198237885464, 0.39041850220264324, 0.009361233480176211, 0.3177312775330397, 0.2703744493392071, 0.3199339207048459, 0.34966960352422916, 0.19988986784140972, 0.2835903083700441, 0.459251101321586, 0.14262114537444934, 0.5688325991189428, 0.6585903083700442, 0.19768722466960353, 0.16409691629955947, 0.27092511013215864, 0.47907488986784147, 0.36563876651982385, 0.446035242290749, 0.5903083700440529, 0.13436123348017623, 0.1299559471365639, 0.05451541850220265, 0.48292951541850226, 0.6558370044052865, 0.3226872246696036, 0.0060572687224669615, 0.4581497797356829, 0.0407488986784141, 0.0022026431718061676, 0.8744493392070486, 0.0407488986784141, 0.7819383259911895, 0.6954845814977975, 0.3237885462555067, 0.0033039647577092516, 0.07764317180616741, 0.007158590308370045, 0.15969162995594716, 0.15748898678414097, 0.4421806167400882, 0.06773127753303965, 0.8348017621145375, 0.37610132158590315, 0.07654185022026432, 0.10407488986784141, 0.34196035242290757, 0.11729074889867842, 0.03248898678414097, 0.8436123348017622, 0.4179515418502203, 0.4306167400881058, 0.5357929515418502, 0.6211453744493393, 0.5429515418502203, 0.30671806167400884, 0.41189427312775334, 0.16409691629955947, 0.01762114537444934, 0.6068281938325992, 0.2769823788546256, 0.14537444933920707, 0.183920704845815, 0.018171806167400884, 0.05671806167400882, 0.16409691629955947, 0.19603524229074892, 0.7114537444933922, 0.6332599118942732, 0.22577092511013216, 0.49614537444933926, 0.022577092511013218, 0.28799559471365643, 0.49614537444933926, 0.48843612334801767, 0.22246696035242292, 0.20429515418502203, 0.18337004405286345, 0.05506607929515419, 0.055616740088105736, 0.1811674008810573, 0.4598017621145375, 0.11343612334801763, 0.07764317180616741, 0.20154185022026433, 0.2169603524229075, 0.5759911894273129, 0.3469162995594714, 0.3182819383259912, 0.19107929515418504, 0.48953744493392076, 0.4372246696035243, 0.6795154185022028, 0.40914096916299564, 0.3612334801762115, 0.28524229074889873, 0.6585903083700442, 0.04185022026431719, 0.4405286343612335, 0.7208149779735684, 0.8348017621145375, 0.12444933920704845, 0.4498898678414098, 0.8441629955947137, 0.20044052863436124, 0.23182819383259914, 0.004955947136563877, 0.09801762114537445, 0.46035242290748907, 0.25275330396475776, 0.39867841409691634, 0.49063876651982385, 0.3259911894273128, 0.210352422907489, 0.8188325991189428, 0.3309471365638767, 0.23348017621145375, 0.20980176211453747, 0.3287444933920705, 0.49559471365638774, 0.5726872246696036, 0.1685022026431718, 0.11343612334801763, 0.40363436123348023, 0.23953744493392073, 0.3188325991189428, 0.07929515418502203, 0.052863436123348026, 0.22522026431718065, 0.35903083700440536, 0.39592511013215864, 0.1828193832599119, 0.19548458149779738, 0.7648678414096918, 0.02588105726872247, 0.518171806167401, 0.48182819383259917, 0.30396475770925113, 0.38931718061674014, 0.9432819383259913, 0.6261013215859031, 0.6398678414096917, 0.7213656387665199, 0.08700440528634362, 0.2731277533039648, 0.38766519823788553, 0.6013215859030838, 0.04625550660792952, 0.11618942731277533, 0.21475770925110133, 0.47081497797356836, 0.7323788546255507, 0.03854625550660794, 0.8039647577092512, 0.26376651982378857, 0.07158590308370044, 0.5110132158590309, 0.02643171806167401, 0.20374449339207049, 0.07323788546255507, 0.22136563876651985, 0.4449339207048459, 0.26817180616740094, 0.5495594713656389, 0.4394273127753305, 0.6277533039647578, 0.27367841409691634, 0.3078193832599119, 0.49834801762114544, 0.38986784140969166, 0.41960352422907493, 0.6316079295154186, 0.2901982378854626, 0.03248898678414097, 0.8794052863436125, 0.21145374449339208, 0.7868942731277534, 0.7731277533039649, 0.5704845814977975, 0.19878854625550663, 0.7924008810572688, 0.25881057268722474, 0.024779735682819385, 0.6905286343612336, 0.08865638766519825, 0.26266519823788553, 0.8105726872246697, 0.17290748898678415, 0.12775330396475773, 0.3259911894273128, 0.20484581497797358, 0.024229074889867842, 0.4372246696035243, 0.49889867841409696, 0.1156387665198238, 0.4069383259911895, 0.5280837004405287, 0.643171806167401, 0.07268722466960352, 0.8639867841409693, 0.29185022026431723, 0.052863436123348026, 0.13711453744493393, 0.08370044052863436, 0.11068281938325991, 0.1459251101321586, 0.2533039647577093, 0.0947136563876652, 0.3557268722466961, 0.5930616740088106, 0.09581497797356829, 0.07213656387665199, 0.1734581497797357, 0.058370044052863446, 0.4427312775330397, 0.04405286343612336, 0.08755506607929515, 0.5699339207048459, 0.3469162995594714, 0.4069383259911895, 0.49174008810572695, 0.25660792951541855, 0.23072687224669605, 0.49063876651982385, 0.5732378854625552, 0.7450440528634362, 0.09801762114537445, 0.793502202643172, 0.04185022026431719, 0.35132158590308377, 0.37389867841409696, 0.042400881057268726, 0.35242290748898686, 0.4355726872246697, 0.4041850220264318, 0.17125550660792951, 0.7742290748898679, 0.09030837004405287, 0.14867841409691632, 0.49174008810572695, 0.1773127753303965, 0.49339207048458156, 0.41299559471365643, 0.49724669603524235, 0.8612334801762116, 0.024779735682819385, 0.3507709251101322, 0.010462555066079295, 0.6712555066079297, 0.650330396475771, 0.9372246696035244, 0.12775330396475773, 0.5528634361233481, 0.571035242290749, 0.028083700440528638, 0.39867841409691634, 0.6376651982378856, 0.6795154185022028, 0.10792951541850221, 0.14537444933920707, 0.1261013215859031, 0.4553964757709252, 0.5919603524229076, 0.314977973568282, 0.5837004405286345, 0.5209251101321587, 0.11508810572687225, 0.030286343612334805, 0.3292951541850221, 0.23568281938325994, 0.7687224669603525, 0.24229074889867844, 0.39041850220264324, 0.35407488986784147, 0.14812775330396477, 0.26541850220264324, 0.08204845814977973, 0.37059471365638774, 0.5044052863436124, 0.5165198237885463, 0.7863436123348019, 0.029735682819383262, 0.4658590308370045, 0.6629955947136564, 0.4218061674008811, 0.2246696035242291, 0.13436123348017623, 0.06662995594713657, 0.8970264317180617, 0.22577092511013216, 0.7059471365638768, 0.18502202643171808, 0.05396475770925111, 0.23843612334801764, 0.0578193832599119, 0.09251101321585904, 0.6294052863436124, 0.03689427312775331, 0.7555066079295155, 0.7500000000000001, 0.3006607929515419, 0.26762114537444937, 0.12555066079295155, 0.6288546255506609, 0.18171806167400884, 0.5484581497797357, 0.5418502202643173, 0.46530837004405295, 0.39151982378854633, 0.4702643171806168, 0.7626651982378856, 0.3860132158590309, 0.5809471365638768, 0.14041850220264318, 0.00275330396475771, 0.20154185022026433, 0.6040748898678415, 0.0060572687224669615, 0.05947136563876653, 0.183920704845815, 0.20044052863436124, 0.006607929515418503, 0.35627753303964765, 0.8689427312775332, 0.1789647577092511, 0.6365638766519824, 0.34581497797356836, 0.030837004405286344, 0.49063876651982385, 0.7230176211453745, 0.6927312775330398, 0.23182819383259914, 0.10572687224669604, 0.9845814977973569, 0.6150881057268723, 0.781387665198238, 0.7918502202643173, 0.03909691629955948, 0.5165198237885463, 0.24008810572687225, 0.3116740088105727, 0.8193832599118944, 0.47577092511013225, 0.026982378854625552, 0.12279735682819384, 0.4686123348017622, 0.5435022026431718, 0.19162995594713658, 0.28138766519823794, 0.8882158590308371, 0.10077092511013216, 0.2285242290748899, 0.09801762114537445, 0.4229074889867842, 0.7362334801762116, 0.572136563876652, 0.10572687224669604, 0.5269823788546256, 0.016519823788546256, 0.10627753303964758, 0.6552863436123348, 0.008259911894273128, 0.07048458149779736, 0.001101321585903084, 0.5154185022026433, 0.20814977973568283, 0.06883259911894274, 0.8788546255506609, 0.14372246696035243, 0.0644273127753304, 0.4229074889867842, 0.48623348017621154, 0.49834801762114544, 0.38381057268722474, 0.18061674008810574, 0.06002202643171807, 0.2417400881057269, 0.1685022026431718, 0.20814977973568283, 0.48953744493392076, 0.4570484581497798, 0.4278634361233481, 0.02588105726872247, 0.4229074889867842, 0.48513215859030845, 0.1800660792951542, 0.1459251101321586, 0.39372246696035246, 0.8111233480176212, 0.05451541850220265, 0.047907488986784146, 0.052863436123348026, 0.1800660792951542, 0.6007709251101322, 0.7351321585903084, 0.7648678414096918, 0.5732378854625552, 0.7312775330396477, 0.14207048458149782, 0.2389867841409692, 0.7153083700440529, 0.6068281938325992, 0.6850220264317182, 0.4741189427312776, 0.1354625550660793, 0.13215859030837004, 0.183920704845815, 0.2208149779735683, 0.5401982378854626, 0.29460352422907493, 0.13325991189427314, 0.19603524229074892, 0.45099118942731287, 0.6569383259911895, 0.4405286343612335, 0.3436123348017622, 0.017070484581497798, 0.16409691629955947, 0.4994493392070485, 0.3248898678414097, 0.1773127753303965, 0.35242290748898686, 0.5088105726872247, 0.604625550660793, 0.3359030837004406, 0.41024229074889873, 0.5374449339207049, 0.35352422907488995, 0.6481277533039649, 0.39096916299559475, 0.042400881057268726, 0.1183920704845815, 0.5401982378854626, 0.8243392070484582, 0.40253303964757714, 0.7808370044052865, 0.6161894273127754, 0.35682819383259917, 0.05726872246696036, 0.10077092511013216, 0.11013215859030838, 0.1459251101321586, 0.04680616740088107, 0.4069383259911895, 0.10903083700440529, 0.33920704845814986, 0.6227973568281939, 0.37720264317180624, 0.2979074889867842, 0.6266519823788547, 0.3061674008810573, 0.6150881057268723, 0.4201541850220265, 0.03524229074889868, 0.22522026431718065, 0.37665198237885467, 0.11784140969162996, 0.18171806167400884, 0.282488986784141, 0.12720264317180618, 0.4146475770925111, 0.10572687224669604, 0.17400881057268724, 0.6029735682819384, 0.03909691629955948, 0.39151982378854633, 0.5330396475770925, 0.24118942731277535, 0.6536343612334803, 0.29350220264317184, 0.34966960352422916, 0.0016519823788546258, 0.5297356828193833, 0.334251101321586, 0.5567180616740088, 0.09581497797356829, 0.12775330396475773, 0.1261013215859031, 0.629955947136564, 0.1299559471365639, 0.2417400881057269, 0.10572687224669604, 0.33920704845814986, 0.14537444933920707, 0.5952643171806168, 0.210352422907489, 0.18226872246696035, 0.5005506607929516, 0.15308370044052863, 0.5225770925110133, 0.5357929515418502, 0.14867841409691632, 0.12830396475770925, 0.08480176211453745, 0.0908590308370044, 0.5770925110132159, 0.597466960352423, 0.3529735682819384, 0.5011013215859031, 0.28524229074889873, 0.197136563876652, 0.8491189427312776, 0.09251101321585904, 0.8127753303964759, 0.5765418502202644, 0.25881057268722474, 0.4096916299559472, 0.8221365638766521, 0.20484581497797358, 0.3166299559471366, 0.5991189427312776, 0.03248898678414097, 0.11674008810572688, 0.22191629955947137, 0.6998898678414098, 0.3155286343612335, 0.236784140969163, 0.28689427312775334, 0.26872246696035246, 0.058370044052863446, 0.2995594713656388, 0.28193832599118945, 0.3171806167400882, 0.5231277533039649, 0.10462555066079296, 0.27257709251101325, 0.8276431718061675, 0.22522026431718065, 0.49174008810572695, 0.08094713656387666, 0.37830396475770933, 0.27367841409691634, 0.12169603524229075, 0.5908590308370045, 0.8094713656387666, 0.07048458149779736, 0.2990088105726873, 0.3072687224669604, 0.7654185022026433, 0.013215859030837005, 0.24504405286343614, 0.5170704845814978, 0.4421806167400882, 0.19768722466960353, 0.20814977973568283, 0.07709251101321586, 0.4113436123348018, 0.28193832599118945, 0.6332599118942732, 0.07709251101321586, 0.9933920704845817, 0.7846916299559472, 0.6514317180616741, 0.4344713656387666, 0.25660792951541855, 0.2990088105726873, 0.6068281938325992, 0.17290748898678415, 0.34471365638766527, 0.5638766519823789, 0.10242290748898679, 0.314977973568282, 0.6547356828193833, 0.14647577092511013, 0.7742290748898679, 0.40253303964757714, 0.3254405286343613, 0.19107929515418504, 0.4289647577092512, 0.0005506607929515419, 0.5137665198237886, 0.8028634361233481, 0.5088105726872247, 0.09966960352422909, 0.0407488986784141, 0.35627753303964765, 0.5236784140969164, 0.025330396475770928, 0.8116740088105728, 0.06332599118942732, 0.19383259911894274, 0.35517621145374456, 0.20759911894273128, 0.20649779735682822, 0.4383259911894274, 0.48843612334801767, 0.4807268722466961, 0.47466960352422916, 0.8061674008810573, 0.015969162995594713, 0.6773127753303966, 0.37665198237885467, 0.8331497797356829, 0.637114537444934, 0.5693832599118943, 0.014317180616740088, 0.9207048458149781, 0.4085903083700441, 0.06718061674008811, 0.07268722466960352, 0.1723568281938326, 0.5033039647577093, 0.5082599118942732, 0.7665198237885463, 0.6690528634361235, 0.5412995594713658, 0.828193832599119, 0.8221365638766521, 0.7780837004405288, 0.36839207048458156, 0.5897577092511014, 0.22246696035242292, 0.4383259911894274, 0.2378854625550661, 0.0, 0.19988986784140972, 0.7522026431718063, 0.39482378854625555, 0.4730176211453745, 0.5291850220264318, 0.8221365638766521, 0.328193832599119, 0.37444933920704854, 0.0512114537444934, 0.03909691629955948, 0.41024229074889873, 0.03964757709251102, 0.8926211453744495, 0.11233480176211455, 0.8248898678414098, 0.38105726872246704, 0.7654185022026433, 0.34856828193832606, 0.572136563876652, 0.06662995594713657, 0.37610132158590315, 0.36343612334801767, 0.30396475770925113, 0.045154185022026436, 0.3045154185022027, 0.25825991189427316, 0.74284140969163, 0.1261013215859031, 0.13325991189427314, 0.288546255506608, 0.46806167400881066, 0.7334801762114538, 0.1194933920704846, 0.6117841409691631, 0.22577092511013216, 0.23348017621145375, 0.0512114537444934, 0.3992290748898679, 0.012665198237885464, 0.02588105726872247, 0.14096916299559473, 0.4284140969162996, 0.25385462555066085, 0.9713656387665199, 0.16354625550660795, 0.3144273127753304, 0.2769823788546256, 0.08865638766519825, 0.14041850220264318, 0.4504405286343613, 0.3529735682819384, 0.3276431718061675, 0.3061674008810573, 0.7329295154185023, 0.4317180616740089, 0.47191629955947145, 0.328193832599119, 0.22411894273127755, 0.08039647577092511, 0.650330396475771, 0.23953744493392073, 0.5881057268722468, 0.42621145374449343, 0.36013215859030845, 0.36674008810572695, 0.33149779735682827, 0.5473568281938327, 0.782488986784141, 0.5479074889867842, 0.3116740088105727, 0.36674008810572695, 0.09140969162995595, 0.05396475770925111, 0.2378854625550661, 0.37004405286343617, 0.2274229074889868, 0.23623348017621146, 0.1051762114537445, 0.2901982378854626, 0.7180616740088107, 0.6651982378854626, 0.028634361233480177, 0.41299559471365643, 0.46420704845814986, 0.6007709251101322, 0.12665198237885464, 0.7098017621145375, 0.11894273127753305, 0.4752202643171807, 0.13876651982378854, 0.4581497797356829, 0.27422907488986786, 0.4140969162995595, 0.14372246696035243, 0.3061674008810573, 0.12830396475770925, 0.22962555066079296, 0.236784140969163, 0.34856828193832606, 0.6668502202643173, 0.22301762114537446, 0.5220264317180617, 0.9003303964757711, 0.5176211453744494, 0.729625550660793, 0.18337004405286345, 0.36288546255506615, 0.5501101321585904, 0.5363436123348019, 0.052863436123348026, 0.6382158590308371, 0.28028634361233484, 0.616740088105727, 0.09140969162995595, 0.9223568281938327, 0.25936123348017626, 0.08480176211453745, 0.7483480176211454, 0.26817180616740094, 0.012114537444933921, 0.125, 0.018722466960352423, 0.681718061674009, 0.13876651982378854, 0.16740088105726875, 0.5341409691629957, 0.938876651982379, 0.4317180616740089, 0.1459251101321586, 0.3689427312775331, 0.814977973568282, 0.6437224669603525, 0.5809471365638768, 0.20154185022026433, 0.9587004405286345, 0.5776431718061675, 0.02918502202643172, 0.15583700440528636, 0.38711453744493396, 0.18171806167400884, 0.10187224669603524, 0.07048458149779736, 0.25715859030837007, 0.38546255506607935, 0.021475770925110133, 0.4410792951541851, 0.7422907488986785, 0.12555066079295155, 0.8590308370044054, 0.38270925110132165, 0.6266519823788547, 0.20484581497797358, 0.5539647577092511, 0.7312775330396477, 0.834251101321586, 0.3480176211453745, 0.7103524229074891, 0.2846916299559472, 0.5379955947136564, 0.34746696035242297, 0.13986784140969163, 0.407488986784141, 0.125, 0.466409691629956, 0.6558370044052865, 0.3166299559471366, 0.38656387665198244, 0.5809471365638768, 0.06662995594713657, 0.3441629955947137, 0.7026431718061675, 0.019273127753303965, 0.8122246696035244, 0.12940528634361234, 0.4482378854625551, 0.030286343612334805, 0.14757709251101322, 0.3292951541850221, 0.7753303964757711, 0.15418502202643172, 0.24118942731277535, 0.6233480176211454, 0.1685022026431718, 0.5462555066079295, 0.49504405286343617, 0.47962555066079304, 0.6965859030837005, 0.6013215859030838, 0.8034140969162996, 0.37279735682819387, 0.5930616740088106, 0.3122246696035243, 0.20319383259911897, 0.09030837004405287, 0.46806167400881066, 0.5490088105726872, 0.2290748898678414, 0.5638766519823789, 0.28193832599118945, 0.18557268722466963, 0.525330396475771, 0.7659691629955948, 0.38546255506607935, 0.223568281938326, 0.8045154185022028, 0.04845814977973569, 0.03854625550660794, 0.45759911894273136, 0.28028634361233484, 0.45759911894273136, 0.4845814977973569, 0.3480176211453745, 0.7874449339207049, 0.5594713656387666, 0.07323788546255507, 0.5214757709251102, 0.0033039647577092516, 0.28138766519823794, 0.3303964757709252, 0.519273127753304, 0.058920704845814985, 0.5093612334801763, 0.5837004405286345, 0.49834801762114544, 0.459251101321586, 0.05176211453744494, 0.13711453744493393, 0.3056167400881058, 0.38381057268722474, 0.6068281938325992, 0.46310572687224677, 0.5737885462555067, 0.4245594713656388, 0.061123348017621155, 0.04625550660792952, 0.328193832599119, 0.2417400881057269, 0.03634361233480177, 0.4317180616740089, 0.644273127753304, 0.014317180616740088, 0.4256607929515419, 0.3061674008810573, 0.11508810572687225, 0.7896475770925111, 0.7780837004405288, 0.15033039647577093, 0.35352422907488995, 0.10407488986784141, 0.12004405286343613, 0.1877753303964758, 0.5198237885462555, 0.236784140969163, 0.8419603524229076, 0.07433920704845816, 0.5704845814977975, 0.17125550660792951, 0.7098017621145375, 0.47191629955947145, 0.0060572687224669615, 0.4526431718061675, 0.3171806167400882, 0.13766519823788548, 0.643171806167401, 0.38105726872246704, 0.09140969162995595, 0.6773127753303966, 0.23182819383259914, 0.644273127753304, 0.2246696035242291, 0.27422907488986786, 0.0236784140969163, 0.3204845814977974, 0.18502202643171808, 0.052863436123348026, 0.41299559471365643, 0.8204845814977975, 0.6470264317180617, 0.33149779735682827, 0.20319383259911897, 0.35517621145374456, 0.38546255506607935, 0.39977973568281944, 0.4344713656387666, 0.24779735682819384, 0.35792951541850226, 0.017070484581497798, 0.6007709251101322, 0.21365638766519826, 0.2890969162995595, 0.07268722466960352, 0.6156387665198239, 0.3463656387665199, 0.3259911894273128, 0.24339207048458153, 0.7714757709251102, 0.14262114537444934, 0.024779735682819385, 0.40638766519823794, 0.183920704845815, 0.1618942731277533, 0.39977973568281944, 0.4317180616740089, 0.1618942731277533, 0.9757709251101323, 0.03744493392070485, 0.5077092511013217, 0.4355726872246697, 0.38050660792951546, 0.2863436123348018, 0.7263215859030838, 0.3502202643171807, 0.6013215859030838, 0.49559471365638774, 0.17400881057268724, 0.007709251101321586, 0.11343612334801763, 0.24614537444933923, 0.2703744493392071, 0.506057268722467, 0.39207048458149785, 0.6200440528634362, 0.29460352422907493, 0.6519823788546256, 0.48898678414096924, 0.6073788546255507, 0.308920704845815, 0.3226872246696036, 0.10022026431718062, 0.17125550660792951, 0.08480176211453745, 0.19823788546255508, 0.22687224669603526, 0.532488986784141, 0.8772026431718063, 0.20319383259911897, 0.19493392070484583, 0.06002202643171807, 0.24504405286343614, 0.2444933920704846, 0.47246696035242297, 0.6773127753303966, 0.5066079295154186, 0.5000000000000001, 0.5754405286343613, 0.6762114537444934, 0.23182819383259914, 0.25440528634361237, 0.2285242290748899, 0.321035242290749, 0.23458149779735685, 0.13436123348017623, 0.8447136563876653, 0.15473568281938327, 0.12114537444933922, 0.14482378854625552, 0.09306167400881057, 0.018722466960352423, 0.16409691629955947, 0.3144273127753304, 0.14096916299559473, 0.9069383259911895, 0.4498898678414098, 0.48348017621145384, 0.3325991189427313, 0.6007709251101322, 0.48127753303964765, 0.3370044052863437, 0.37775330396475776, 0.578193832599119, 0.7015418502202644, 0.629955947136564, 0.4245594713656388, 0.20704845814977976, 0.10903083700440529, 0.3100220264317181, 0.28028634361233484, 0.20870044052863437, 0.295704845814978, 0.4405286343612335, 0.1525330396475771, 0.5159691629955948, 0.5011013215859031, 0.36013215859030845, 0.23072687224669605, 0.5792951541850221, 0.09140969162995595, 0.06497797356828194, 0.19493392070484583, 0.48403083700440536, 0.4295154185022027, 0.3298458149779736, 0.022577092511013218, 0.41299559471365643, 0.5881057268722468, 0.8838105726872247, 0.11398678414096917, 0.544603524229075, 0.4443832599118943, 0.1894273127753304, 0.5401982378854626, 0.5633259911894274, 0.6624449339207049, 0.2312775330396476, 0.3177312775330397, 0.04955947136563878, 0.9620044052863437, 0.26266519823788553, 0.02918502202643172, 0.4741189427312776, 0.004955947136563877, 0.005506607929515419, 0.25440528634361237, 0.39096916299559475, 0.15583700440528636, 0.14041850220264318, 0.5556167400881058, 0.6740088105726874, 0.1800660792951542, 0.3386563876651983, 0.03964757709251102, 0.37389867841409696, 0.3452643171806168, 0.2901982378854626, 0.028634361233480177, 0.5561674008810573, 0.4096916299559472, 0.10682819383259913, 0.3502202643171807, 0.6294052863436124, 0.781387665198238, 0.06332599118942732, 0.007158590308370045, 0.6172907488986785, 0.20925110132158592, 0.25936123348017626, 0.08480176211453745, 0.2929515418502203, 0.0710352422907489, 0.04185022026431719, 0.322136563876652, 0.5407488986784141, 0.37830396475770933, 0.7533039647577093, 0.5770925110132159, 0.9251101321585904, 0.10737885462555066, 0.288546255506608, 0.07764317180616741, 0.025330396475770928, 0.03634361233480177, 0.4234581497797357, 0.459251101321586, 0.34581497797356836, 0.696035242290749, 0.07488986784140969, 0.26101321585903087, 0.010462555066079295, 0.14207048458149782, 0.1811674008810573, 0.2846916299559472, 0.8320484581497798, 0.8364537444933922, 0.48953744493392076, 0.49229074889867847, 0.08039647577092511, 0.5308370044052864, 0.28028634361233484, 0.13105726872246698, 0.3034140969162996, 0.1811674008810573, 0.6068281938325992, 0.48843612334801767, 0.5033039647577093, 0.7709251101321587, 0.6822687224669605, 0.2197136563876652, 0.9267621145374451, 0.027533039647577095, 0.39977973568281944, 0.28799559471365643, 0.7610132158590309, 0.4140969162995595, 0.026982378854625552, 0.4069383259911895, 0.05671806167400882, 0.13601321585903084, 0.4333700440528635, 0.15748898678414097, 0.26541850220264324, 0.8359030837004406, 0.015418502202643174, 0.14427312775330398, 0.36839207048458156, 0.16464757709251102, 0.12720264317180618, 0.030286343612334805, 0.5770925110132159, 0.1156387665198238, 0.17125550660792951, 0.25385462555066085, 0.7929515418502203, 0.47466960352422916, 0.631057268722467, 0.0005506607929515419, 0.3595814977973569, 0.19438325991189428, 0.5947136563876653, 0.5947136563876653, 0.3292951541850221, 0.45374449339207057, 0.5814977973568283, 0.045154185022026436, 0.5583700440528635, 0.0407488986784141, 0.0881057268722467, 0.18557268722466963, 0.29460352422907493, 0.27588105726872253, 0.8788546255506609, 0.024779735682819385, 0.6387665198237886, 0.08480176211453745, 0.7973568281938327, 0.2835903083700441, 0.2169603524229075, 0.29735682819383263, 0.21751101321585906, 0.3309471365638767, 0.3529735682819384, 0.4047356828193833, 0.26321585903083705, 0.6635462555066081, 0.3430616740088106, 0.6398678414096917, 0.8171806167400882, 0.631057268722467, 0.37334801762114544, 0.0908590308370044, 0.17786343612334804, 0.3441629955947137, 0.17841409691629956, 0.05451541850220265, 0.10848017621145375, 0.9983480176211454, 0.8750000000000001, 0.3259911894273128, 0.5732378854625552, 0.22191629955947137, 0.42621145374449343, 0.13711453744493393, 0.015418502202643174, 0.23733480176211455, 0.024779735682819385, 0.10297356828193834, 0.16354625550660795, 0.341409691629956, 0.531387665198238, 0.6982378854625552, 0.4741189427312776, 0.3502202643171807, 0.12169603524229075, 0.7819383259911895, 0.3133259911894274, 0.3887665198237886, 0.29240088105726875, 0.1327092511013216, 0.7742290748898679, 0.16079295154185022, 0.14207048458149782, 0.14537444933920707, 0.10792951541850221, 0.6200440528634362, 0.6993392070484582, 0.14207048458149782, 0.572136563876652, 0.4058370044052864, 0.23953744493392073, 0.4427312775330397, 0.22797356828193835, 0.413546255506608, 0.34966960352422916, 0.716409691629956, 0.46145374449339216, 0.004405286343612335, 0.36398678414096924, 0.6095814977973569, 0.2169603524229075, 0.5231277533039649, 0.47632158590308377, 0.11123348017621146, 0.8948237885462557, 0.3243392070484582, 0.14757709251101322, 0.28028634361233484, 0.39977973568281944, 0.6547356828193833, 0.322136563876652, 0.34746696035242297, 0.953193832599119, 0.4598017621145375, 0.29625550660792954, 0.33920704845814986, 0.29350220264317184, 0.053414096916299565, 0.19603524229074892, 0.46916299559471375, 0.24614537444933923, 0.729625550660793, 0.26762114537444937, 0.7009911894273129, 0.3276431718061675, 0.35517621145374456, 0.3006607929515419, 0.4278634361233481, 0.14702643171806168, 0.7747797356828194, 0.09526431718061674, 0.2979074889867842, 0.5726872246696036, 0.4041850220264318, 0.2483480176211454, 0.061674008810572695, 0.20594713656387667, 0.47742290748898686, 0.7075991189427314, 0.30121145374449343, 0.7136563876651983, 0.5490088105726872, 0.06497797356828194, 0.3083700440528635, 0.7230176211453745, 0.27367841409691634, 0.328193832599119, 0.21145374449339208, 0.13491189427312777, 0.2351321585903084, 0.0022026431718061676, 0.19823788546255508, 0.15748898678414097, 0.5837004405286345, 0.20870044052863437, 0.9691629955947137, 0.061674008810572695, 0.2378854625550661, 0.5319383259911895, 0.24284140969162998, 0.2703744493392071, 0.5082599118942732, 0.5666299559471366, 0.22577092511013216, 0.8975770925110134, 0.46916299559471375, 0.4647577092511014, 0.49394273127753313, 0.21365638766519826, 0.48678414096916306, 0.8849118942731279, 0.27367841409691634, 0.17951541850220265, 0.08094713656387666, 0.12059471365638767, 0.25605726872246704, 0.9790748898678415, 0.7753303964757711, 0.13215859030837004, 0.07764317180616741, 0.031387665198237893, 0.5214757709251102, 0.4185022026431719, 0.5594713656387666, 0.4421806167400882, 0.4493392070484582, 0.17290748898678415, 0.1563876651982379, 0.015969162995594713, 0.5209251101321587, 0.578193832599119, 0.24504405286343614, 0.7890969162995596, 0.3144273127753304, 0.18722466960352424, 0.08590308370044053, 0.047356828193832606, 0.09801762114537445, 0.6459251101321587, 0.21530837004405287, 0.20814977973568283, 0.6409691629955948, 0.6784140969162996, 0.36178414096916306, 0.6762114537444934, 0.4581497797356829, 0.26046255506607935, 0.7830396475770927, 0.3072687224669604, 0.5379955947136564, 0.36288546255506615, 0.7582599118942732, 0.5038546255506609, 0.5490088105726872, 0.3127753303964758, 0.40143171806167405, 0.1629955947136564, 0.19493392070484583, 0.4030837004405287, 0.5110132158590309, 0.17951541850220265, 0.34196035242290757, 0.7571585903083702, 0.3408590308370045, 0.3375550660792952, 0.17841409691629956, 0.301762114537445, 0.6756607929515419, 0.4306167400881058, 0.5638766519823789, 0.016519823788546256, 0.432819383259912], \"yaxis\": \"y\"}, {\"marker\": {\"color\": [1, 1, 1, 0, 2, 1, 1, 1, 0, 0, 2, 1, 1, 0, 2, 2, 2, 1, 0, 0, 1, 1, 1, 2, 1, 2, 2, 2, 0, 1, 0, 1, 1, 1, 0, 0, 0, 0, 1, 2, 1, 2, 1, 0, 0, 2, 1, 0, 1, 1, 0, 2, 0, 2, 1, 0, 2, 0, 1, 1, 2, 1, 2, 0, 2, 2, 2, 1, 0, 0, 0, 1, 2, 0, 1, 0, 1, 0, 1, 1, 0, 1, 0, 1, 0, 0, 1, 2, 1, 2, 0, 1, 1, 2, 0, 1, 2, 1, 0, 1, 2, 1, 2, 0, 1, 2, 1, 1, 1, 0, 1, 1, 1, 1, 0, 0, 2, 0, 1, 0, 0, 0, 0, 2, 0, 1, 1, 1, 1, 1, 1, 1, 2, 1, 1, 2, 1, 0, 2, 1, 0, 2, 1, 1, 1, 0, 0, 0, 2, 0, 0, 2, 1, 0, 0, 0, 1, 1, 2, 0, 0, 0, 1, 1, 1, 1, 2, 1, 1, 0, 0, 1, 0, 1, 0, 2, 0, 2, 0, 1, 1, 0, 1, 1, 1, 0, 1, 1, 0, 1, 1, 1, 1, 0, 0, 1, 2, 2, 0, 0, 0, 0, 1, 0, 0, 1, 1, 1, 1, 1, 2, 0, 1, 1, 0, 0, 1, 0, 2, 1, 1, 0, 0, 2, 0, 1, 0, 1, 1, 1, 1, 2, 2, 0, 1, 2, 2, 2, 2, 1, 1, 1, 2, 2, 2, 2, 2, 1, 0, 0, 0, 0, 1, 1, 0, 0, 2, 0, 1, 0, 2, 1, 2, 2, 1, 2, 1, 1, 0, 1, 1, 1, 0, 0, 1, 2, 2, 1, 0, 0, 1, 1, 2, 2, 1, 2, 1, 2, 2, 1, 2, 2, 0, 1, 0, 2, 0, 1, 0, 2, 0, 2, 2, 1, 0, 0, 2, 1, 0, 1, 1, 1, 1, 1, 1, 1, 0, 1, 1, 0, 1, 1, 2, 1, 1, 0, 1, 1, 0, 1, 1, 2, 2, 0, 2, 2, 0, 1, 1, 1, 2, 0, 2, 2, 0, 2, 1, 0, 1, 0, 0, 1, 0, 2, 1, 1, 1, 2, 1, 1, 1, 2, 2, 2, 0, 1, 0, 1, 2, 0, 0, 1, 0, 1, 0, 1, 1, 1, 1, 1, 2, 1, 0, 2, 1, 0, 1, 0, 0, 0, 0, 0, 0, 1, 1, 1, 1, 1, 0, 1, 0, 2, 1, 1, 2, 0, 1, 0, 2, 0, 1, 1, 1, 1, 1, 2, 0, 1, 0, 2, 2, 0, 2, 0, 0, 1, 0, 2, 1, 1, 1, 0, 0, 0, 1, 0, 2, 2, 2, 1, 1, 1, 1, 1, 1, 0, 1, 2, 1, 1, 0, 2, 2, 0, 2, 1, 0, 1, 2, 0, 2, 1, 1, 1, 0, 1, 1, 1, 1, 0, 1, 0, 1, 1, 1, 0, 1, 1, 0, 1, 1, 0, 1, 2, 1, 2, 1, 1, 2, 2, 0, 1, 1, 0, 1, 1, 2, 0, 2, 2, 1, 2, 1, 1, 1, 1, 2, 1, 1, 1, 1, 0, 1, 0, 2, 1, 1, 0, 0, 1, 1, 0, 0, 0, 2, 2, 0, 0, 2, 1, 1, 1, 1, 1, 2, 1, 1, 0, 0, 0, 2, 1, 0, 1, 1, 2, 0, 0, 1, 0, 1, 1, 1, 0, 2, 0, 1, 2, 2, 0, 2, 1, 1, 1, 1, 2, 1, 1, 0, 2, 0, 1, 1, 1, 0, 1, 1, 0, 1, 1, 1, 0, 1, 1, 2, 2, 1, 0, 1, 1, 2, 0, 0, 2, 0, 1, 2, 1, 1, 0, 1, 1, 1, 0, 1, 1, 1, 0, 1, 1, 1, 1, 0, 0, 1, 1, 0, 1, 1, 1, 0, 1, 0, 1, 0, 2, 2, 1, 1, 2, 1, 1, 1, 1, 1, 0, 0, 1, 0, 1, 1, 2, 0, 1, 2, 1, 1, 1, 1, 1, 0, 1, 0, 1, 1, 2, 1, 1, 0, 0, 1, 1, 1, 2, 1, 2, 1, 2, 1, 0, 0, 1, 1, 1, 0, 0, 0, 1, 0, 0, 0, 2, 1, 0, 0, 0, 1, 1, 0, 1, 1, 0, 1, 1, 1, 1, 2, 0, 0, 0, 1, 2, 0, 2, 0, 2, 0, 0, 0, 1, 1, 1, 1, 0, 1, 2, 0, 0, 1, 1, 1, 1, 1, 1, 0, 1, 0, 0, 0, 0, 1, 1, 0, 0, 0, 0, 1, 1, 2, 2, 1, 2, 1, 1, 0, 2, 2, 2, 1, 0, 2, 0, 2, 1, 0, 1, 1, 0, 0, 2, 0, 1, 1, 1, 0, 0, 0, 2, 2, 1, 1, 0, 1, 0, 2, 1, 0, 1, 1, 1, 2, 1, 2, 2, 0, 2, 0, 1, 2, 0, 0, 1, 1, 2, 2, 1, 0, 1, 1, 1, 1, 1, 0, 0, 1, 1, 2, 1, 1, 1, 1, 0, 1, 2, 1, 0, 1, 0, 2, 0, 0, 1, 1, 1, 1, 0, 1, 2, 1, 1, 1, 1, 1, 1, 1, 0, 1, 1, 0, 2, 0, 0, 1, 1, 1, 0, 0, 1, 1, 1, 1, 1, 2, 1, 2, 0, 2, 0, 0, 0, 2, 1, 0, 1, 2, 1, 2, 1, 1, 0, 2, 1, 1, 1, 1, 2, 2, 2, 1, 0, 0, 0, 0, 1, 2, 1, 1, 2, 0, 1, 0, 2, 1, 2, 0, 2, 1, 2, 2, 2, 0, 0, 1, 1, 1, 2, 1, 2, 1, 1, 2, 1, 2, 1, 1, 1, 1, 1, 1, 0, 1, 0, 2, 1, 1, 0, 0, 1, 1, 1, 2, 2, 0, 1, 1, 1, 0, 1, 0, 0, 2, 1, 1, 1, 1, 1, 0, 1, 2, 1, 1, 0, 0, 2, 1, 0, 1, 1, 1, 2, 1, 2, 1, 1, 0, 2, 0, 0, 1, 1, 0, 1, 1, 0, 1, 1, 0, 1, 2, 0, 1, 0, 1, 1, 0, 1, 0, 1, 0, 1, 1, 0, 0, 2, 1, 1, 0, 2, 1, 0, 1, 2, 1, 1, 1, 0, 1, 1, 1, 2, 1, 0, 1, 0, 1, 1, 1, 0, 0, 0, 1, 0, 0, 2, 1, 0, 2, 0, 2, 1, 1, 1, 1, 2, 0, 1, 1, 2, 0, 1, 1, 0, 1, 0, 0, 0, 0, 1, 0, 0, 1, 1, 0, 1, 0, 0, 1, 0, 2, 1, 1, 1, 0, 2, 1, 1, 1, 1, 1, 0, 1, 2, 2, 1, 1, 1, 2, 1, 1, 0, 1, 0, 2, 0, 2, 1, 1, 0, 1, 0, 0, 2, 0, 1, 0, 1, 1, 1, 0, 1, 2, 1, 0, 2, 0, 0, 0, 0, 1, 1, 2, 2, 1, 1, 0, 1, 1, 1, 0, 0, 0, 2, 0, 2, 1, 0, 2, 0, 1, 0, 1, 1, 2, 0, 2, 2, 2, 2, 1, 2, 2, 2, 2, 1, 1, 2, 0, 0, 1, 1, 1, 2, 0, 0, 1, 2, 2, 2, 1, 1, 1, 0, 0, 2, 1, 2, 2, 2, 2, 1, 1, 0, 1, 1, 1, 0, 2, 1, 1, 1, 0, 2, 1, 0, 1, 1, 2, 1, 1, 2, 0, 0, 0, 1, 0, 0, 1, 2, 1, 1, 1, 1, 2, 1, 2, 0, 0, 1, 1, 1, 0, 2, 2, 0, 2, 1, 1, 2, 2, 1, 0, 2, 0, 1, 1, 0, 0, 1, 1, 0, 1, 1, 1, 1, 0, 2, 0, 1, 1, 1, 1, 2, 2, 1, 1, 0, 0, 2, 1, 0, 0, 2, 2, 2, 0, 1, 1, 2, 0, 1, 1, 1, 1, 1, 2, 1, 1, 1, 1, 0, 2, 0, 0, 1, 2, 1, 1, 2, 0, 2, 0, 1, 1, 0, 2, 2, 1, 0, 1, 2, 2, 0, 1, 2, 0, 0, 1, 1, 2, 1, 1, 0, 1, 2, 1, 2, 2, 1, 0, 2, 1, 1, 0, 0, 1, 0, 1, 1, 0, 2, 0, 0, 1, 0, 1, 0, 2, 2, 1, 0, 1, 0, 0, 0, 2, 0, 1, 1, 0, 1, 0, 1, 1, 0, 2, 0, 1, 1, 1, 0, 0, 0, 0, 2, 2, 0, 1, 1, 0, 0, 2, 0, 1, 0, 1, 1, 1, 1, 0, 2, 0, 0, 2, 1, 0, 0, 1, 0, 1, 1, 1, 1, 0, 0, 0, 1, 0, 1, 1, 0, 1, 0, 0, 1, 0, 1, 2, 1, 1, 1, 2, 1, 1, 1, 2, 1, 0, 0, 1, 1, 2, 0, 2, 0, 0, 1, 2, 1, 0, 0, 2, 1, 0, 1, 1, 0, 1, 0, 0, 1, 1, 1, 1, 1, 2, 2, 1, 0, 1, 1, 2, 1, 1, 1, 0, 2, 0, 0, 0, 0, 1, 2, 2, 1, 0, 1, 1, 2, 1, 1, 1, 1, 0, 0, 1, 0, 1, 1, 0, 2, 1, 1, 2, 2, 1, 1, 0, 1, 1, 1, 1, 0, 1, 2, 1, 0, 0, 0, 0, 1, 1, 2, 1, 2, 0, 0, 2, 0, 0, 2, 1, 2, 1, 2, 1, 1, 0, 2, 1, 0, 1, 1, 1, 1, 0, 0, 2, 1, 1, 1, 1, 1, 2, 1, 1, 2, 1, 2, 0, 2, 0, 0, 1, 1, 0, 0, 0, 0, 2, 2, 2, 0, 1, 1, 1, 0, 0, 2, 0, 1, 1, 0, 1, 2, 1, 2, 0, 2, 0, 0, 0, 1, 1, 0, 2, 2, 0, 1, 1, 0, 1, 0, 0, 0, 2, 0, 1, 1, 0, 2, 1, 0, 1, 1, 1, 1, 1, 1, 0, 2, 1, 0, 2, 1, 0, 1, 1, 1, 1, 2, 1, 1, 2, 1, 0, 1, 1, 1, 1, 2, 1, 1, 0, 1, 2, 0, 1, 1, 2, 0, 0, 1, 0, 1, 1, 2, 1, 1, 2, 1, 1, 0, 1, 1, 0, 1, 0, 2, 0, 0, 2, 1, 1, 2, 0, 0, 1, 0, 0, 1, 1, 0, 0, 1, 1, 1, 0, 0, 1, 0, 0, 1, 1, 1, 1, 0, 1, 2, 2, 2, 1, 2, 1, 2, 0, 0, 1, 2, 0, 2, 2, 2, 2, 0, 1, 0, 1, 1, 1, 1, 1, 2, 1, 0, 0, 2, 1, 1, 0, 1, 0, 2, 2, 1, 2, 0, 1, 0, 2, 1, 1, 0, 1, 1, 2, 1, 1, 1, 0, 1, 0, 2, 1, 0, 0, 0, 1, 1, 0, 0, 0, 0, 2, 0, 1, 1, 0, 0, 1, 1, 0, 0, 1, 2, 0, 1, 2, 1, 2, 0, 0, 1, 0, 1, 2, 0, 1, 1, 2, 2, 1, 1, 0, 1, 1, 2, 0, 0, 1, 1, 1, 1, 2, 1, 0, 0, 0, 1, 1, 0, 1, 1, 1, 0, 1, 2, 1, 1, 0, 0, 0, 0, 0, 1, 2, 2, 0, 0, 2, 1, 1, 1, 2, 0, 1, 1, 2, 0, 0, 2, 2, 1, 1, 0, 2, 2, 1, 2, 0, 1, 1, 0, 1, 2, 1, 1, 1, 0, 0, 1, 0, 0, 2, 1, 1, 1, 1, 1, 1, 1, 1, 2, 1, 2, 2, 1, 0, 0, 1, 2, 2, 1, 1, 1, 1, 1, 1, 1, 2, 1, 1, 0, 1, 0, 1, 1, 1, 0, 1, 0, 1, 2, 1, 0, 1, 1, 2, 2, 1, 2, 1, 2, 0, 1, 0, 2, 1, 1, 1, 1, 0, 0, 1, 0, 2, 1, 0, 2, 0, 2, 1, 1, 0, 2, 1, 0, 2, 1, 1, 0, 2, 1, 2, 1, 2, 1, 2, 1, 0, 2, 1, 0, 1, 0, 1, 1, 2, 1, 2, 0, 2, 1, 2, 0, 1, 1, 0, 0, 1, 2, 1, 1, 1, 2, 1, 0, 0, 0, 1, 1, 2, 0, 2, 2, 0, 1, 1, 0, 1, 0, 1, 1, 1, 2, 1, 2, 0, 0, 2, 2, 2, 0, 1, 0, 1, 1, 1, 2, 1, 1, 2, 0, 1, 0, 1, 0, 1, 0, 0, 0, 1, 0, 1, 1, 1, 1, 0, 0, 0, 0, 0, 0, 0, 0, 1, 0, 2, 1, 1, 1, 2, 0, 2, 2, 2, 0, 1, 2, 1, 1, 1, 2, 0, 2, 0, 1, 0, 1, 0, 1, 1, 1, 1, 2, 1, 1, 0, 1, 2, 2, 2, 0, 1, 0, 1, 1, 1, 1, 1, 2, 2, 0, 1, 0, 2, 1, 1, 1, 1, 1, 2, 1, 2, 0, 1, 0, 1, 1, 1, 0, 1, 0, 0, 2, 1, 1, 0, 0, 2, 1, 2, 1, 1, 1, 1, 2, 1, 1, 1, 0, 0, 1, 1, 0, 2, 1, 0, 1, 0, 1, 0, 1, 1, 1, 1, 2, 1, 1, 1, 0, 1, 0, 0, 0, 0, 1, 1, 0, 0, 2, 0, 1, 0, 1, 0, 1, 1, 0, 2, 1, 1, 2, 0, 2, 1, 2, 0, 0, 1, 1, 0, 0, 2, 1, 0, 0, 1, 1, 1, 1, 1, 1, 1, 1, 2, 0, 0, 1, 0, 1, 0, 1, 2, 0, 0, 2, 0, 1, 0, 1, 2, 2, 1, 2, 0, 2, 1, 0, 1, 1, 0, 2, 0, 1, 2, 1, 1, 1, 0, 2, 1, 0, 2, 0, 0, 0, 0, 2, 0, 1, 2, 1, 2, 1, 1, 0, 2, 0, 1, 1, 2, 0, 1, 2, 0, 1, 1, 0, 1, 0, 0, 1, 0, 0, 2, 2, 1, 1, 1, 0, 1, 0, 0, 2, 0, 1, 1, 1, 2, 0, 2, 0, 1, 2, 1, 2, 1, 1, 1, 0, 1, 0, 1, 1, 0, 0, 2, 1, 1, 1, 1, 2, 2, 0, 1, 0, 1, 0, 2, 2, 1, 1, 1, 0, 1, 1, 0, 1, 0, 1, 1, 1, 1, 1, 1, 1, 0, 0, 2, 2, 1, 2, 1, 1, 2, 1, 2, 0, 1, 1, 1, 0, 1, 1, 2, 0, 1, 1, 1, 1, 2, 2, 2, 2, 0, 1, 0, 2, 2, 2, 0, 2, 0, 0, 1, 1, 1, 1, 1, 2, 2, 2, 1, 2, 2, 0, 2, 1, 1, 1, 1, 1, 2, 2, 0, 1, 1, 1, 1, 2, 0, 0, 0, 0, 0, 0, 1, 1, 1, 1, 2, 1, 0, 1, 2, 1, 1, 1, 1, 1, 1, 0, 0, 0, 2, 0, 0, 1, 1, 0, 0, 0, 2, 2, 1, 1, 2, 1, 1, 0, 1, 2, 0, 1, 2, 0, 1, 1, 2, 0, 2, 1, 2, 2, 0, 0, 1, 0, 2, 1, 0, 2, 0, 1, 1, 2, 0, 2, 1, 0, 1, 1, 2, 2, 1, 1, 0, 0, 2, 1, 1, 2, 2, 1, 1, 0, 1, 1, 2, 0, 0, 1, 1, 0, 1, 2, 1, 1, 1, 1, 1, 0, 1, 0, 0, 0, 2, 1, 1, 1, 1, 0, 2, 1, 2, 1, 1, 1, 1, 2, 2, 0, 0, 2, 0, 1, 0, 1, 2, 2, 1, 0, 0, 2, 0, 0, 2, 0, 1, 2, 2, 0, 0, 1, 0, 1, 2, 2, 1, 1, 0, 1, 1, 1, 1, 1, 1, 0, 1, 1, 1, 0, 2, 0, 1, 2, 1, 0, 0, 1, 0, 0, 1, 0, 2, 1, 1, 2, 1, 0, 1, 0, 1, 0, 1, 2, 1, 1, 2, 1, 1, 1, 0, 1, 0, 0, 0, 2, 1, 1, 2, 1, 1, 2, 0, 0, 1, 2, 2, 1, 2, 1, 2, 1, 1, 1, 2, 0, 0, 0, 1, 2, 0, 1, 1, 2, 2, 0, 1, 1, 2, 1, 2, 0, 1, 2, 2, 2, 2, 2, 2, 1, 2, 2, 1, 2, 0, 2, 2, 0, 1, 0, 1, 2, 2, 1, 0, 1, 2, 0, 0, 1, 1, 1, 1, 1, 0, 1, 0, 1, 0, 1, 1, 1, 1, 2, 0, 1, 1, 0, 1, 1, 1, 1, 1, 0, 1, 0, 2, 1, 1, 0, 1, 1, 1, 1, 1, 1, 1, 1, 0, 1, 0, 1, 1, 0, 2, 1, 0, 2, 1, 0, 2, 2, 0, 1, 0, 0, 1, 1, 1, 1, 2, 0, 0, 1, 1, 1, 0, 1, 0, 1, 0, 2, 1, 2, 0, 0, 1, 0, 1, 1, 1, 1, 1, 0, 2, 1, 0, 0, 1, 0, 0, 1, 0, 2, 0, 2, 0, 0, 0, 2, 1, 1, 2, 1, 0, 2, 1, 0, 2, 1, 1, 1, 0, 0, 0, 1, 1]}, \"mode\": \"markers\", \"type\": \"scatter\", \"x\": [0.047619047619047616, 0.047619047619047616, 0.09523809523809523, 0.14285714285714285, 0.0, 0.047619047619047616, 0.14285714285714285, 0.0, 0.047619047619047616, 0.047619047619047616, 0.0, 0.0, 0.14285714285714285, 0.09523809523809523, 0.047619047619047616, 0.0, 0.0, 0.19047619047619047, 0.19047619047619047, 0.23809523809523808, 0.0, 0.38095238095238093, 0.047619047619047616, 0.0, 0.047619047619047616, 0.047619047619047616, 0.047619047619047616, 0.0, 0.0, 0.09523809523809523, 0.09523809523809523, 0.14285714285714285, 0.047619047619047616, 0.0, 0.19047619047619047, 0.19047619047619047, 0.09523809523809523, 0.14285714285714285, 0.19047619047619047, 0.0, 0.09523809523809523, 0.0, 0.09523809523809523, 0.14285714285714285, 0.42857142857142855, 0.0, 0.14285714285714285, 0.0, 0.14285714285714285, 0.047619047619047616, 0.09523809523809523, 0.0, 0.09523809523809523, 0.047619047619047616, 0.047619047619047616, 0.0, 0.0, 0.19047619047619047, 0.0, 0.09523809523809523, 0.047619047619047616, 0.09523809523809523, 0.0, 0.0, 0.0, 0.0, 0.0, 0.09523809523809523, 0.3333333333333333, 0.0, 0.0, 0.0, 0.0, 0.047619047619047616, 0.09523809523809523, 0.23809523809523808, 0.0, 0.0, 0.09523809523809523, 0.19047619047619047, 0.047619047619047616, 0.0, 0.047619047619047616, 0.14285714285714285, 0.2857142857142857, 0.14285714285714285, 0.19047619047619047, 0.14285714285714285, 0.047619047619047616, 0.09523809523809523, 0.0, 0.42857142857142855, 0.14285714285714285, 0.0, 0.09523809523809523, 0.0, 0.0, 0.047619047619047616, 0.23809523809523808, 0.047619047619047616, 0.19047619047619047, 0.0, 0.0, 0.0, 0.38095238095238093, 0.14285714285714285, 0.14285714285714285, 0.047619047619047616, 0.09523809523809523, 0.09523809523809523, 0.14285714285714285, 0.09523809523809523, 0.09523809523809523, 0.09523809523809523, 0.14285714285714285, 0.14285714285714285, 0.23809523809523808, 0.19047619047619047, 0.09523809523809523, 0.19047619047619047, 0.0, 0.14285714285714285, 0.09523809523809523, 0.14285714285714285, 0.09523809523809523, 0.047619047619047616, 0.19047619047619047, 0.0, 0.19047619047619047, 0.09523809523809523, 0.09523809523809523, 0.14285714285714285, 0.09523809523809523, 0.19047619047619047, 0.19047619047619047, 0.0, 0.09523809523809523, 0.14285714285714285, 0.0, 0.0, 0.3333333333333333, 0.09523809523809523, 0.0, 0.14285714285714285, 0.047619047619047616, 0.19047619047619047, 0.19047619047619047, 0.09523809523809523, 0.09523809523809523, 0.2857142857142857, 0.0, 0.0, 0.0, 0.047619047619047616, 0.47619047619047616, 0.19047619047619047, 0.19047619047619047, 0.19047619047619047, 0.23809523809523808, 0.14285714285714285, 0.19047619047619047, 0.09523809523809523, 0.14285714285714285, 0.14285714285714285, 0.0, 0.19047619047619047, 0.23809523809523808, 0.047619047619047616, 0.09523809523809523, 0.14285714285714285, 0.23809523809523808, 0.19047619047619047, 0.14285714285714285, 0.0, 0.38095238095238093, 0.0, 0.047619047619047616, 0.0, 0.0, 0.14285714285714285, 0.09523809523809523, 0.047619047619047616, 0.14285714285714285, 0.047619047619047616, 0.14285714285714285, 0.23809523809523808, 0.14285714285714285, 0.0, 0.0, 0.14285714285714285, 0.14285714285714285, 0.19047619047619047, 0.23809523809523808, 0.14285714285714285, 0.0, 0.09523809523809523, 0.0, 0.0, 0.0, 0.23809523809523808, 0.0, 0.0, 0.047619047619047616, 0.19047619047619047, 0.0, 0.09523809523809523, 0.19047619047619047, 0.09523809523809523, 0.047619047619047616, 0.14285714285714285, 0.0, 0.3333333333333333, 0.0, 0.047619047619047616, 0.0, 0.19047619047619047, 0.19047619047619047, 0.0, 0.09523809523809523, 0.19047619047619047, 0.0, 0.19047619047619047, 0.19047619047619047, 0.0, 0.0, 0.14285714285714285, 0.0, 0.09523809523809523, 0.14285714285714285, 0.19047619047619047, 0.14285714285714285, 0.0, 0.0, 0.0, 0.09523809523809523, 0.0, 0.09523809523809523, 0.047619047619047616, 0.0, 0.19047619047619047, 0.0, 0.0, 0.0, 0.0, 0.0, 0.0, 0.23809523809523808, 0.047619047619047616, 0.0, 0.3333333333333333, 0.0, 0.23809523809523808, 0.09523809523809523, 0.14285714285714285, 0.23809523809523808, 0.5238095238095237, 0.09523809523809523, 0.2857142857142857, 0.09523809523809523, 0.38095238095238093, 0.0, 0.09523809523809523, 0.14285714285714285, 0.047619047619047616, 0.19047619047619047, 0.0, 0.0, 0.19047619047619047, 0.0, 0.14285714285714285, 0.14285714285714285, 0.047619047619047616, 0.047619047619047616, 0.0, 0.0, 0.0, 0.047619047619047616, 0.09523809523809523, 0.47619047619047616, 0.09523809523809523, 0.047619047619047616, 0.047619047619047616, 0.0, 0.0, 0.14285714285714285, 0.0, 0.47619047619047616, 0.0, 0.0, 0.0, 0.0, 0.0, 0.19047619047619047, 0.14285714285714285, 0.47619047619047616, 0.19047619047619047, 0.23809523809523808, 0.09523809523809523, 0.14285714285714285, 0.0, 0.0, 0.0, 0.0, 0.14285714285714285, 0.23809523809523808, 0.19047619047619047, 0.0, 0.14285714285714285, 1.0, 0.09523809523809523, 0.047619047619047616, 0.09523809523809523, 0.19047619047619047, 0.0, 0.14285714285714285, 0.14285714285714285, 0.19047619047619047, 0.14285714285714285, 0.14285714285714285, 0.047619047619047616, 0.0, 0.09523809523809523, 0.0, 0.23809523809523808, 0.09523809523809523, 0.38095238095238093, 0.0, 0.0, 0.14285714285714285, 0.09523809523809523, 0.14285714285714285, 0.0, 0.0, 0.19047619047619047, 0.0, 0.09523809523809523, 0.14285714285714285, 0.0, 0.19047619047619047, 0.23809523809523808, 0.0, 0.09523809523809523, 0.0, 0.0, 0.5238095238095237, 0.09523809523809523, 0.09523809523809523, 0.23809523809523808, 0.0, 0.0, 0.38095238095238093, 0.23809523809523808, 0.0, 0.0, 0.047619047619047616, 0.09523809523809523, 0.0, 0.3333333333333333, 0.19047619047619047, 0.09523809523809523, 0.09523809523809523, 0.0, 0.23809523809523808, 0.19047619047619047, 0.0, 0.09523809523809523, 0.0, 0.19047619047619047, 0.09523809523809523, 0.14285714285714285, 0.8571428571428571, 0.047619047619047616, 0.047619047619047616, 0.19047619047619047, 0.23809523809523808, 0.14285714285714285, 0.09523809523809523, 0.19047619047619047, 0.09523809523809523, 0.09523809523809523, 0.0, 0.14285714285714285, 0.0, 0.047619047619047616, 0.0, 0.0, 0.0, 0.0, 0.14285714285714285, 0.0, 0.19047619047619047, 0.2857142857142857, 0.0, 0.09523809523809523, 0.047619047619047616, 0.0, 0.09523809523809523, 0.09523809523809523, 0.2857142857142857, 0.14285714285714285, 0.047619047619047616, 0.0, 0.14285714285714285, 0.0, 0.0, 0.047619047619047616, 0.19047619047619047, 0.0, 0.0, 0.14285714285714285, 0.0, 0.047619047619047616, 0.09523809523809523, 0.14285714285714285, 0.09523809523809523, 0.0, 0.0, 0.09523809523809523, 0.14285714285714285, 0.3333333333333333, 0.0, 0.0, 0.0, 0.09523809523809523, 0.14285714285714285, 0.09523809523809523, 0.0, 0.09523809523809523, 0.2857142857142857, 0.2857142857142857, 0.14285714285714285, 0.5238095238095237, 0.23809523809523808, 0.14285714285714285, 0.14285714285714285, 0.047619047619047616, 0.0, 0.0, 0.047619047619047616, 0.14285714285714285, 0.047619047619047616, 0.0, 0.047619047619047616, 0.14285714285714285, 0.42857142857142855, 0.0, 0.0, 0.14285714285714285, 0.42857142857142855, 0.0, 0.47619047619047616, 0.0, 0.09523809523809523, 0.09523809523809523, 0.047619047619047616, 0.23809523809523808, 0.047619047619047616, 0.3333333333333333, 0.0, 0.09523809523809523, 0.0, 0.09523809523809523, 0.0, 0.0, 0.0, 0.23809523809523808, 0.0, 0.14285714285714285, 0.047619047619047616, 0.14285714285714285, 0.2857142857142857, 0.0, 0.09523809523809523, 0.09523809523809523, 0.047619047619047616, 0.047619047619047616, 0.0, 0.19047619047619047, 0.047619047619047616, 0.14285714285714285, 0.0, 0.2857142857142857, 0.0, 0.0, 0.23809523809523808, 0.14285714285714285, 0.09523809523809523, 0.19047619047619047, 0.0, 0.0, 0.047619047619047616, 0.09523809523809523, 0.047619047619047616, 0.3333333333333333, 0.047619047619047616, 0.09523809523809523, 0.0, 0.38095238095238093, 0.0, 0.0, 0.14285714285714285, 0.0, 0.23809523809523808, 0.19047619047619047, 0.047619047619047616, 0.19047619047619047, 0.047619047619047616, 0.23809523809523808, 0.23809523809523808, 0.14285714285714285, 0.23809523809523808, 0.0, 0.047619047619047616, 0.14285714285714285, 0.0, 0.19047619047619047, 0.23809523809523808, 0.047619047619047616, 0.09523809523809523, 0.0, 0.14285714285714285, 0.5238095238095237, 0.19047619047619047, 0.19047619047619047, 0.0, 0.09523809523809523, 0.14285714285714285, 0.2857142857142857, 0.0, 0.14285714285714285, 0.23809523809523808, 0.0, 0.047619047619047616, 0.19047619047619047, 0.0, 0.14285714285714285, 0.3333333333333333, 0.09523809523809523, 0.047619047619047616, 0.09523809523809523, 0.09523809523809523, 0.0, 0.19047619047619047, 0.09523809523809523, 0.14285714285714285, 0.0, 0.42857142857142855, 0.0, 0.09523809523809523, 0.14285714285714285, 0.0, 0.14285714285714285, 0.047619047619047616, 0.0, 0.047619047619047616, 0.19047619047619047, 0.09523809523809523, 0.0, 0.14285714285714285, 0.19047619047619047, 0.0, 0.14285714285714285, 0.09523809523809523, 0.09523809523809523, 0.14285714285714285, 0.0, 0.19047619047619047, 0.09523809523809523, 0.23809523809523808, 0.19047619047619047, 0.047619047619047616, 0.0, 0.09523809523809523, 0.09523809523809523, 0.047619047619047616, 0.3333333333333333, 0.19047619047619047, 0.23809523809523808, 0.047619047619047616, 0.19047619047619047, 0.09523809523809523, 0.2857142857142857, 0.19047619047619047, 0.19047619047619047, 0.0, 0.0, 0.14285714285714285, 0.14285714285714285, 0.0, 0.47619047619047616, 0.0, 0.6666666666666666, 0.3333333333333333, 0.0, 0.0, 0.09523809523809523, 0.0, 0.14285714285714285, 0.0, 0.047619047619047616, 0.42857142857142855, 0.047619047619047616, 0.19047619047619047, 0.19047619047619047, 0.23809523809523808, 0.09523809523809523, 0.0, 0.14285714285714285, 0.0, 0.09523809523809523, 0.14285714285714285, 0.14285714285714285, 0.19047619047619047, 0.0, 0.14285714285714285, 0.14285714285714285, 0.19047619047619047, 0.23809523809523808, 0.047619047619047616, 0.14285714285714285, 0.2857142857142857, 0.09523809523809523, 0.23809523809523808, 0.14285714285714285, 0.047619047619047616, 0.047619047619047616, 0.0, 0.09523809523809523, 0.0, 0.047619047619047616, 0.09523809523809523, 0.09523809523809523, 0.0, 0.23809523809523808, 0.0, 0.2857142857142857, 0.19047619047619047, 0.09523809523809523, 0.09523809523809523, 0.09523809523809523, 0.0, 0.09523809523809523, 0.2857142857142857, 0.2857142857142857, 0.09523809523809523, 0.09523809523809523, 0.23809523809523808, 0.19047619047619047, 0.0, 0.09523809523809523, 0.23809523809523808, 0.14285714285714285, 0.23809523809523808, 0.047619047619047616, 0.0, 0.0, 0.23809523809523808, 0.14285714285714285, 0.0, 0.047619047619047616, 0.09523809523809523, 0.09523809523809523, 0.09523809523809523, 0.0, 0.0, 0.047619047619047616, 0.0, 0.047619047619047616, 0.19047619047619047, 0.19047619047619047, 0.14285714285714285, 0.09523809523809523, 0.3333333333333333, 0.09523809523809523, 0.0, 0.09523809523809523, 0.42857142857142855, 0.19047619047619047, 0.0, 0.38095238095238093, 0.14285714285714285, 0.0, 0.09523809523809523, 0.0, 0.2857142857142857, 0.3333333333333333, 0.09523809523809523, 0.0, 0.19047619047619047, 0.09523809523809523, 0.09523809523809523, 0.23809523809523808, 0.0, 0.14285714285714285, 0.047619047619047616, 0.09523809523809523, 0.0, 0.0, 0.14285714285714285, 0.6666666666666666, 0.19047619047619047, 0.0, 0.0, 0.0, 0.2857142857142857, 0.0, 0.0, 0.047619047619047616, 0.047619047619047616, 0.19047619047619047, 0.23809523809523808, 0.0, 0.14285714285714285, 0.0, 0.047619047619047616, 0.0, 0.2857142857142857, 0.47619047619047616, 0.19047619047619047, 0.09523809523809523, 0.19047619047619047, 0.19047619047619047, 0.23809523809523808, 0.14285714285714285, 0.0, 0.14285714285714285, 0.23809523809523808, 0.14285714285714285, 0.38095238095238093, 0.19047619047619047, 0.23809523809523808, 0.19047619047619047, 0.0, 0.19047619047619047, 0.09523809523809523, 0.23809523809523808, 0.09523809523809523, 0.047619047619047616, 0.047619047619047616, 0.0, 0.19047619047619047, 0.0, 0.09523809523809523, 0.19047619047619047, 0.3333333333333333, 0.0, 0.0, 0.0, 0.14285714285714285, 0.0, 0.14285714285714285, 0.14285714285714285, 0.0, 0.14285714285714285, 0.19047619047619047, 0.09523809523809523, 0.0, 0.0, 0.2857142857142857, 0.09523809523809523, 0.3333333333333333, 0.19047619047619047, 0.23809523809523808, 0.09523809523809523, 0.14285714285714285, 0.047619047619047616, 0.19047619047619047, 0.0, 0.0, 0.0, 0.19047619047619047, 0.3333333333333333, 0.09523809523809523, 0.23809523809523808, 0.0, 0.09523809523809523, 0.19047619047619047, 0.09523809523809523, 0.19047619047619047, 0.047619047619047616, 0.3333333333333333, 0.047619047619047616, 0.0, 0.09523809523809523, 0.23809523809523808, 0.0, 0.0, 0.0, 0.19047619047619047, 0.14285714285714285, 0.19047619047619047, 0.0, 0.09523809523809523, 0.047619047619047616, 0.0, 0.0, 0.14285714285714285, 0.19047619047619047, 0.09523809523809523, 0.0, 0.0, 0.047619047619047616, 0.38095238095238093, 0.0, 0.14285714285714285, 0.14285714285714285, 0.09523809523809523, 0.0, 0.23809523809523808, 0.047619047619047616, 0.14285714285714285, 0.14285714285714285, 0.0, 0.0, 0.19047619047619047, 0.09523809523809523, 0.09523809523809523, 0.0, 0.0, 0.2857142857142857, 0.38095238095238093, 0.14285714285714285, 0.14285714285714285, 0.14285714285714285, 0.047619047619047616, 0.38095238095238093, 0.0, 0.0, 0.14285714285714285, 0.14285714285714285, 0.0, 0.047619047619047616, 0.0, 0.23809523809523808, 0.23809523809523808, 0.14285714285714285, 0.14285714285714285, 0.09523809523809523, 0.42857142857142855, 0.0, 0.0, 0.0, 0.047619047619047616, 0.0, 0.0, 0.38095238095238093, 0.19047619047619047, 0.047619047619047616, 0.047619047619047616, 0.23809523809523808, 0.14285714285714285, 0.0, 0.0, 0.0, 0.0, 0.09523809523809523, 0.14285714285714285, 0.0, 0.14285714285714285, 0.0, 0.09523809523809523, 0.14285714285714285, 0.19047619047619047, 0.14285714285714285, 0.19047619047619047, 0.19047619047619047, 0.0, 0.09523809523809523, 0.0, 0.19047619047619047, 0.0, 0.14285714285714285, 0.14285714285714285, 0.14285714285714285, 0.14285714285714285, 0.09523809523809523, 0.23809523809523808, 0.047619047619047616, 0.14285714285714285, 0.42857142857142855, 0.0, 0.14285714285714285, 0.047619047619047616, 0.0, 0.0, 0.14285714285714285, 0.19047619047619047, 0.19047619047619047, 0.14285714285714285, 0.09523809523809523, 0.0, 0.0, 0.14285714285714285, 0.0, 0.09523809523809523, 0.0, 0.14285714285714285, 0.0, 0.0, 0.3333333333333333, 0.38095238095238093, 0.23809523809523808, 0.14285714285714285, 0.09523809523809523, 0.047619047619047616, 0.0, 0.047619047619047616, 0.0, 0.23809523809523808, 0.2857142857142857, 0.0, 0.14285714285714285, 0.0, 0.047619047619047616, 0.23809523809523808, 0.09523809523809523, 0.14285714285714285, 0.047619047619047616, 0.09523809523809523, 0.19047619047619047, 0.047619047619047616, 0.09523809523809523, 0.0, 0.047619047619047616, 0.0, 0.19047619047619047, 0.2857142857142857, 0.09523809523809523, 0.09523809523809523, 0.14285714285714285, 0.047619047619047616, 0.0, 0.2857142857142857, 0.14285714285714285, 0.09523809523809523, 0.047619047619047616, 0.047619047619047616, 0.09523809523809523, 0.38095238095238093, 0.0, 0.14285714285714285, 0.047619047619047616, 0.09523809523809523, 0.09523809523809523, 0.19047619047619047, 0.0, 0.9047619047619047, 0.09523809523809523, 0.0, 0.0, 0.19047619047619047, 0.09523809523809523, 0.09523809523809523, 0.0, 0.42857142857142855, 0.047619047619047616, 0.14285714285714285, 0.047619047619047616, 0.09523809523809523, 0.047619047619047616, 0.19047619047619047, 0.0, 0.09523809523809523, 0.38095238095238093, 0.0, 0.09523809523809523, 0.23809523809523808, 0.23809523809523808, 0.23809523809523808, 0.09523809523809523, 0.0, 0.19047619047619047, 0.38095238095238093, 0.0, 0.09523809523809523, 0.047619047619047616, 0.38095238095238093, 0.047619047619047616, 0.09523809523809523, 0.19047619047619047, 0.0, 0.19047619047619047, 0.0, 0.09523809523809523, 0.19047619047619047, 0.0, 0.047619047619047616, 0.23809523809523808, 0.0, 0.19047619047619047, 0.047619047619047616, 0.47619047619047616, 0.14285714285714285, 0.0, 0.19047619047619047, 0.14285714285714285, 0.0, 0.0, 0.19047619047619047, 0.0, 0.14285714285714285, 0.23809523809523808, 0.19047619047619047, 0.19047619047619047, 0.047619047619047616, 0.23809523809523808, 0.14285714285714285, 0.047619047619047616, 0.2857142857142857, 0.0, 0.047619047619047616, 0.14285714285714285, 0.0, 0.5238095238095237, 0.09523809523809523, 0.14285714285714285, 0.09523809523809523, 0.0, 0.0, 0.09523809523809523, 0.09523809523809523, 0.23809523809523808, 0.0, 0.0, 0.0, 0.0, 0.0, 0.19047619047619047, 0.0, 0.0, 0.19047619047619047, 0.19047619047619047, 0.09523809523809523, 0.0, 0.19047619047619047, 0.19047619047619047, 0.14285714285714285, 0.0, 0.23809523809523808, 0.14285714285714285, 0.0, 0.0, 0.19047619047619047, 0.14285714285714285, 0.5238095238095237, 0.47619047619047616, 0.09523809523809523, 0.14285714285714285, 0.0, 0.14285714285714285, 0.14285714285714285, 0.0, 0.23809523809523808, 0.19047619047619047, 0.23809523809523808, 0.047619047619047616, 0.19047619047619047, 0.0, 0.0, 0.14285714285714285, 0.19047619047619047, 0.0, 0.0, 0.3333333333333333, 0.23809523809523808, 0.09523809523809523, 0.0, 0.19047619047619047, 0.09523809523809523, 0.19047619047619047, 0.047619047619047616, 0.0, 0.0, 0.23809523809523808, 0.0, 0.14285714285714285, 0.14285714285714285, 0.09523809523809523, 0.14285714285714285, 0.0, 0.09523809523809523, 0.047619047619047616, 0.14285714285714285, 0.14285714285714285, 0.047619047619047616, 0.23809523809523808, 0.0, 0.0, 0.19047619047619047, 0.047619047619047616, 0.0, 0.0, 0.0, 0.14285714285714285, 0.19047619047619047, 0.19047619047619047, 0.14285714285714285, 0.09523809523809523, 0.047619047619047616, 0.047619047619047616, 0.0, 0.0, 0.19047619047619047, 0.047619047619047616, 0.047619047619047616, 0.0, 0.19047619047619047, 0.0, 0.09523809523809523, 0.3333333333333333, 0.19047619047619047, 0.0, 0.14285714285714285, 0.047619047619047616, 0.2857142857142857, 0.19047619047619047, 0.19047619047619047, 0.047619047619047616, 0.14285714285714285, 0.0, 0.09523809523809523, 0.09523809523809523, 0.0, 0.0, 0.14285714285714285, 0.14285714285714285, 0.0, 0.0, 0.23809523809523808, 0.3333333333333333, 0.14285714285714285, 0.14285714285714285, 0.0, 0.19047619047619047, 0.0, 0.3333333333333333, 0.19047619047619047, 0.0, 0.19047619047619047, 0.0, 0.0, 0.0, 0.0, 0.14285714285714285, 0.14285714285714285, 0.0, 0.19047619047619047, 0.0, 0.0, 0.14285714285714285, 0.047619047619047616, 0.0, 0.47619047619047616, 0.0, 0.047619047619047616, 0.0, 0.09523809523809523, 0.0, 0.09523809523809523, 0.0, 0.0, 0.2857142857142857, 0.3333333333333333, 0.38095238095238093, 0.19047619047619047, 0.0, 0.0, 0.23809523809523808, 0.0, 0.047619047619047616, 0.047619047619047616, 0.0, 0.14285714285714285, 0.0, 0.047619047619047616, 0.2857142857142857, 0.0, 0.0, 0.14285714285714285, 0.0, 0.14285714285714285, 0.23809523809523808, 0.23809523809523808, 0.14285714285714285, 0.047619047619047616, 0.19047619047619047, 0.047619047619047616, 0.09523809523809523, 0.14285714285714285, 0.0, 0.047619047619047616, 0.14285714285714285, 0.14285714285714285, 0.14285714285714285, 0.47619047619047616, 0.0, 0.047619047619047616, 0.0, 0.047619047619047616, 0.09523809523809523, 0.09523809523809523, 0.14285714285714285, 0.047619047619047616, 0.0, 0.0, 0.0, 0.09523809523809523, 0.047619047619047616, 0.14285714285714285, 0.09523809523809523, 0.14285714285714285, 0.047619047619047616, 0.0, 0.47619047619047616, 0.0, 0.14285714285714285, 0.23809523809523808, 0.0, 0.0, 0.047619047619047616, 0.14285714285714285, 0.047619047619047616, 0.0, 0.047619047619047616, 0.0, 0.047619047619047616, 0.2857142857142857, 0.09523809523809523, 0.2857142857142857, 0.19047619047619047, 0.047619047619047616, 0.14285714285714285, 0.14285714285714285, 0.047619047619047616, 0.09523809523809523, 0.09523809523809523, 0.23809523809523808, 0.14285714285714285, 0.19047619047619047, 0.19047619047619047, 0.23809523809523808, 0.2857142857142857, 0.047619047619047616, 0.23809523809523808, 0.14285714285714285, 0.0, 0.0, 0.0, 0.0, 0.0, 0.23809523809523808, 0.0, 0.0, 0.19047619047619047, 0.19047619047619047, 0.2857142857142857, 0.09523809523809523, 0.23809523809523808, 0.2857142857142857, 0.0, 0.14285714285714285, 0.09523809523809523, 0.0, 0.19047619047619047, 0.047619047619047616, 0.09523809523809523, 0.19047619047619047, 0.0, 0.09523809523809523, 0.19047619047619047, 0.0, 0.14285714285714285, 0.3333333333333333, 0.047619047619047616, 0.0, 0.0, 0.2857142857142857, 0.14285714285714285, 0.14285714285714285, 0.0, 0.14285714285714285, 0.09523809523809523, 0.09523809523809523, 0.6190476190476191, 0.047619047619047616, 0.09523809523809523, 0.047619047619047616, 0.42857142857142855, 0.14285714285714285, 0.0, 0.0, 0.047619047619047616, 0.0, 0.047619047619047616, 0.2857142857142857, 0.3333333333333333, 0.09523809523809523, 0.047619047619047616, 0.19047619047619047, 0.0, 0.09523809523809523, 0.19047619047619047, 0.14285714285714285, 0.0, 0.09523809523809523, 0.047619047619047616, 0.19047619047619047, 0.14285714285714285, 0.23809523809523808, 0.0, 0.19047619047619047, 0.0, 0.23809523809523808, 0.42857142857142855, 0.047619047619047616, 0.19047619047619047, 0.09523809523809523, 0.23809523809523808, 0.0, 0.0, 0.047619047619047616, 0.0, 0.14285714285714285, 0.0, 0.09523809523809523, 0.2857142857142857, 0.09523809523809523, 0.14285714285714285, 0.14285714285714285, 0.047619047619047616, 0.14285714285714285, 0.0, 0.0, 0.5714285714285714, 0.0, 0.09523809523809523, 0.6190476190476191, 0.23809523809523808, 0.19047619047619047, 0.19047619047619047, 0.14285714285714285, 0.2857142857142857, 0.19047619047619047, 0.0, 0.0, 0.23809523809523808, 0.0, 0.047619047619047616, 0.14285714285714285, 0.0, 0.42857142857142855, 0.0, 0.2857142857142857, 0.047619047619047616, 0.09523809523809523, 0.3333333333333333, 0.09523809523809523, 0.19047619047619047, 0.2857142857142857, 0.0, 0.09523809523809523, 0.42857142857142855, 0.0, 0.38095238095238093, 0.09523809523809523, 0.09523809523809523, 0.09523809523809523, 0.047619047619047616, 0.14285714285714285, 0.0, 0.0, 0.2857142857142857, 0.0, 0.09523809523809523, 0.42857142857142855, 0.047619047619047616, 0.0, 0.0, 0.0, 0.14285714285714285, 0.047619047619047616, 0.0, 0.047619047619047616, 0.0, 0.09523809523809523, 0.19047619047619047, 0.047619047619047616, 0.14285714285714285, 0.19047619047619047, 0.19047619047619047, 0.14285714285714285, 0.09523809523809523, 0.0, 0.09523809523809523, 0.09523809523809523, 0.14285714285714285, 0.0, 0.19047619047619047, 0.09523809523809523, 0.2857142857142857, 0.14285714285714285, 0.0, 0.42857142857142855, 0.14285714285714285, 0.0, 0.047619047619047616, 0.23809523809523808, 0.047619047619047616, 0.047619047619047616, 0.14285714285714285, 0.0, 0.0, 0.14285714285714285, 0.09523809523809523, 0.0, 0.09523809523809523, 0.0, 0.09523809523809523, 0.0, 0.2857142857142857, 0.23809523809523808, 0.09523809523809523, 0.19047619047619047, 0.14285714285714285, 0.047619047619047616, 0.14285714285714285, 0.0, 0.0, 0.19047619047619047, 0.047619047619047616, 0.047619047619047616, 0.0, 0.047619047619047616, 0.14285714285714285, 0.14285714285714285, 0.09523809523809523, 0.047619047619047616, 0.14285714285714285, 0.19047619047619047, 0.09523809523809523, 0.19047619047619047, 0.23809523809523808, 0.19047619047619047, 0.047619047619047616, 0.2857142857142857, 0.0, 0.0, 0.0, 0.6190476190476191, 0.23809523809523808, 0.0, 0.19047619047619047, 0.0, 0.19047619047619047, 0.14285714285714285, 0.047619047619047616, 0.0, 0.0, 0.047619047619047616, 0.047619047619047616, 0.0, 0.19047619047619047, 0.09523809523809523, 0.0, 0.0, 0.38095238095238093, 0.0, 0.09523809523809523, 0.0, 0.0, 0.09523809523809523, 0.0, 0.0, 0.0, 0.047619047619047616, 0.19047619047619047, 0.23809523809523808, 0.23809523809523808, 0.0, 0.19047619047619047, 0.047619047619047616, 0.14285714285714285, 0.23809523809523808, 0.0, 0.14285714285714285, 0.19047619047619047, 0.19047619047619047, 0.09523809523809523, 0.0, 0.09523809523809523, 0.0, 0.0, 0.09523809523809523, 0.0, 0.42857142857142855, 0.38095238095238093, 0.09523809523809523, 0.14285714285714285, 0.14285714285714285, 0.0, 0.14285714285714285, 0.0, 0.09523809523809523, 0.19047619047619047, 0.14285714285714285, 0.0, 0.0, 0.0, 0.0, 0.2857142857142857, 0.09523809523809523, 0.047619047619047616, 0.047619047619047616, 0.14285714285714285, 0.047619047619047616, 0.09523809523809523, 0.23809523809523808, 0.23809523809523808, 0.047619047619047616, 0.0, 0.14285714285714285, 0.14285714285714285, 0.0, 0.047619047619047616, 0.09523809523809523, 0.0, 0.14285714285714285, 0.0, 0.0, 0.14285714285714285, 0.047619047619047616, 0.0, 0.09523809523809523, 0.047619047619047616, 0.0, 0.0, 0.38095238095238093, 0.19047619047619047, 0.2857142857142857, 0.0, 0.0, 0.23809523809523808, 0.0, 0.19047619047619047, 0.19047619047619047, 0.0, 0.19047619047619047, 0.19047619047619047, 0.14285714285714285, 0.2857142857142857, 0.09523809523809523, 0.047619047619047616, 0.047619047619047616, 0.0, 0.0, 0.0, 0.047619047619047616, 0.0, 0.047619047619047616, 0.047619047619047616, 0.09523809523809523, 0.09523809523809523, 0.14285714285714285, 0.19047619047619047, 0.0, 0.047619047619047616, 0.09523809523809523, 0.0, 0.14285714285714285, 0.09523809523809523, 0.14285714285714285, 0.0, 0.0, 0.0, 0.0, 0.0, 0.0, 0.047619047619047616, 0.5714285714285714, 0.0, 0.0, 0.6190476190476191, 0.19047619047619047, 0.0, 0.09523809523809523, 0.0, 0.09523809523809523, 0.09523809523809523, 0.14285714285714285, 0.0, 0.23809523809523808, 0.19047619047619047, 0.0, 0.047619047619047616, 0.0, 0.2857142857142857, 0.047619047619047616, 0.09523809523809523, 0.14285714285714285, 0.0, 0.09523809523809523, 0.14285714285714285, 0.0, 0.14285714285714285, 0.23809523809523808, 0.09523809523809523, 0.14285714285714285, 0.0, 0.09523809523809523, 0.047619047619047616, 0.19047619047619047, 0.0, 0.047619047619047616, 0.19047619047619047, 0.0, 0.0, 0.09523809523809523, 0.0, 0.23809523809523808, 0.09523809523809523, 0.19047619047619047, 0.09523809523809523, 0.09523809523809523, 0.047619047619047616, 0.0, 0.0, 0.14285714285714285, 0.14285714285714285, 0.0, 0.09523809523809523, 0.047619047619047616, 0.0, 0.14285714285714285, 0.09523809523809523, 0.0, 0.047619047619047616, 0.14285714285714285, 0.0, 0.0, 0.0, 0.047619047619047616, 0.047619047619047616, 0.0, 0.19047619047619047, 0.42857142857142855, 0.047619047619047616, 0.09523809523809523, 0.42857142857142855, 0.19047619047619047, 0.09523809523809523, 0.0, 0.3333333333333333, 0.14285714285714285, 0.14285714285714285, 0.23809523809523808, 0.14285714285714285, 0.23809523809523808, 0.2857142857142857, 0.19047619047619047, 0.23809523809523808, 0.0, 0.09523809523809523, 0.09523809523809523, 0.09523809523809523, 0.09523809523809523, 0.19047619047619047, 0.23809523809523808, 0.0, 0.09523809523809523, 0.0, 0.09523809523809523, 0.0, 0.09523809523809523, 0.0, 0.0, 0.0, 0.047619047619047616, 0.23809523809523808, 0.0, 0.0, 0.0, 0.0, 0.0, 0.0, 0.19047619047619047, 0.09523809523809523, 0.047619047619047616, 0.0, 0.047619047619047616, 0.09523809523809523, 0.23809523809523808, 0.19047619047619047, 0.09523809523809523, 0.0, 0.0, 0.0, 0.09523809523809523, 0.09523809523809523, 0.0, 0.0, 0.19047619047619047, 0.0, 0.0, 0.09523809523809523, 0.047619047619047616, 0.23809523809523808, 0.09523809523809523, 0.2857142857142857, 0.0, 0.047619047619047616, 0.0, 0.23809523809523808, 0.14285714285714285, 0.09523809523809523, 0.0, 0.0, 0.09523809523809523, 0.0, 0.09523809523809523, 0.0, 0.19047619047619047, 0.0, 0.047619047619047616, 0.0, 0.0, 0.09523809523809523, 0.19047619047619047, 0.19047619047619047, 0.0, 0.23809523809523808, 0.0, 0.14285714285714285, 0.0, 0.0, 0.14285714285714285, 0.14285714285714285, 0.14285714285714285, 0.23809523809523808, 0.047619047619047616, 0.0, 0.14285714285714285, 0.047619047619047616, 0.09523809523809523, 0.0, 0.0, 0.14285714285714285, 0.0, 0.0, 0.047619047619047616, 0.42857142857142855, 0.19047619047619047, 0.047619047619047616, 0.19047619047619047, 0.23809523809523808, 0.0, 0.0, 0.047619047619047616, 0.19047619047619047, 0.0, 0.38095238095238093, 0.23809523809523808, 0.0, 0.19047619047619047, 0.47619047619047616, 0.047619047619047616, 0.047619047619047616, 0.14285714285714285, 0.3333333333333333, 0.047619047619047616, 0.09523809523809523, 0.09523809523809523, 0.0, 0.0, 0.09523809523809523, 0.0, 0.14285714285714285, 0.0, 0.14285714285714285, 0.14285714285714285, 0.19047619047619047, 0.09523809523809523, 0.09523809523809523, 0.09523809523809523, 0.09523809523809523, 0.14285714285714285, 0.0, 0.0, 0.19047619047619047, 0.047619047619047616, 0.0, 0.0, 0.0, 0.23809523809523808, 0.09523809523809523, 0.047619047619047616, 0.047619047619047616, 0.09523809523809523, 0.3333333333333333, 0.14285714285714285, 0.047619047619047616, 0.14285714285714285, 0.0, 0.0, 0.0, 0.09523809523809523, 0.047619047619047616, 0.19047619047619047, 0.14285714285714285, 0.09523809523809523, 0.0, 0.0, 0.09523809523809523, 0.09523809523809523, 0.047619047619047616, 0.0, 0.0, 0.19047619047619047, 0.14285714285714285, 0.0, 0.0, 0.0, 0.0, 0.23809523809523808, 0.047619047619047616, 0.047619047619047616, 0.14285714285714285, 0.09523809523809523, 0.19047619047619047, 0.14285714285714285, 0.14285714285714285, 0.0, 0.19047619047619047, 0.047619047619047616, 0.047619047619047616, 0.14285714285714285, 0.14285714285714285, 0.14285714285714285, 0.23809523809523808, 0.047619047619047616, 0.0, 0.09523809523809523, 0.0, 0.14285714285714285, 0.0, 0.0, 0.09523809523809523, 0.0, 0.19047619047619047, 0.19047619047619047, 0.09523809523809523, 0.0, 0.14285714285714285, 0.09523809523809523, 0.2857142857142857, 0.0, 0.09523809523809523, 0.0, 0.0, 0.09523809523809523, 0.09523809523809523, 0.09523809523809523, 0.047619047619047616, 0.047619047619047616, 0.14285714285714285, 0.14285714285714285, 0.0, 0.19047619047619047, 0.19047619047619047, 0.0, 0.19047619047619047, 0.19047619047619047, 0.0, 0.14285714285714285, 0.14285714285714285, 0.19047619047619047, 0.047619047619047616, 0.0, 0.0, 0.14285714285714285, 0.3333333333333333, 0.09523809523809523, 0.19047619047619047, 0.047619047619047616, 0.19047619047619047, 0.14285714285714285, 0.047619047619047616, 0.14285714285714285, 0.09523809523809523, 0.23809523809523808, 0.23809523809523808, 0.23809523809523808, 0.23809523809523808, 0.3333333333333333, 0.14285714285714285, 0.09523809523809523, 0.14285714285714285, 0.19047619047619047, 0.0, 0.2857142857142857, 0.047619047619047616, 0.14285714285714285, 0.23809523809523808, 0.09523809523809523, 0.047619047619047616, 0.047619047619047616, 0.23809523809523808, 0.19047619047619047, 0.0, 0.19047619047619047, 0.19047619047619047, 0.19047619047619047, 0.047619047619047616, 0.0, 0.19047619047619047, 0.0, 0.09523809523809523, 0.047619047619047616, 0.09523809523809523, 0.0, 0.0, 0.14285714285714285, 0.14285714285714285, 0.14285714285714285, 0.0, 0.0, 0.09523809523809523, 0.0, 0.047619047619047616, 0.0, 0.0, 0.0, 0.09523809523809523, 0.0, 0.0, 0.14285714285714285, 0.19047619047619047, 0.0, 0.0, 0.09523809523809523, 0.09523809523809523, 0.0, 0.19047619047619047, 0.09523809523809523, 0.09523809523809523, 0.19047619047619047, 0.23809523809523808, 0.047619047619047616, 0.23809523809523808, 0.14285714285714285, 0.23809523809523808, 0.047619047619047616, 0.0, 0.09523809523809523, 0.0, 0.09523809523809523, 0.047619047619047616, 0.09523809523809523, 0.14285714285714285, 0.14285714285714285, 0.0, 0.14285714285714285, 0.047619047619047616, 0.19047619047619047, 0.09523809523809523, 0.047619047619047616, 0.14285714285714285, 0.19047619047619047, 0.0, 0.0, 0.0, 0.0, 0.0, 0.09523809523809523, 0.23809523809523808, 0.047619047619047616, 0.23809523809523808, 0.0, 0.0, 0.09523809523809523, 0.047619047619047616, 0.0, 0.0, 0.2857142857142857, 0.0, 0.14285714285714285, 0.0, 0.19047619047619047, 0.0, 0.14285714285714285, 0.23809523809523808, 0.19047619047619047, 0.23809523809523808, 0.047619047619047616, 0.23809523809523808, 0.23809523809523808, 0.14285714285714285, 0.0, 0.14285714285714285, 0.6666666666666666, 0.47619047619047616, 0.23809523809523808, 0.19047619047619047, 0.047619047619047616, 0.3333333333333333, 0.0, 0.19047619047619047, 0.047619047619047616, 0.14285714285714285, 0.09523809523809523, 0.047619047619047616, 0.0, 0.09523809523809523, 0.0, 0.3333333333333333, 0.047619047619047616, 0.047619047619047616, 0.047619047619047616, 0.09523809523809523, 0.14285714285714285, 0.19047619047619047, 0.19047619047619047, 0.0, 0.0, 0.19047619047619047, 0.0, 0.0, 0.047619047619047616, 0.0, 0.5238095238095237, 0.047619047619047616, 0.0, 0.09523809523809523, 0.047619047619047616, 0.0, 0.19047619047619047, 0.19047619047619047, 0.19047619047619047, 0.047619047619047616, 0.047619047619047616, 0.0, 0.0, 0.47619047619047616, 0.09523809523809523, 0.09523809523809523, 0.19047619047619047, 0.047619047619047616, 0.23809523809523808, 0.047619047619047616, 0.09523809523809523, 0.42857142857142855, 0.0, 0.19047619047619047, 0.0, 0.19047619047619047, 0.0, 0.19047619047619047, 0.0, 0.047619047619047616, 0.047619047619047616, 0.0, 0.0, 0.09523809523809523, 0.0, 0.19047619047619047, 0.14285714285714285, 0.047619047619047616, 0.047619047619047616, 0.047619047619047616, 0.09523809523809523, 0.23809523809523808, 0.19047619047619047, 0.23809523809523808, 0.23809523809523808, 0.0, 0.19047619047619047, 0.23809523809523808, 0.19047619047619047, 0.23809523809523808, 0.0, 0.0, 0.047619047619047616, 0.23809523809523808, 0.09523809523809523, 0.14285714285714285, 0.0, 0.0, 0.19047619047619047, 0.0, 0.19047619047619047, 0.14285714285714285, 0.047619047619047616, 0.19047619047619047, 0.047619047619047616, 0.14285714285714285, 0.047619047619047616, 0.09523809523809523, 0.19047619047619047, 0.14285714285714285, 0.23809523809523808, 0.047619047619047616, 0.23809523809523808, 0.047619047619047616, 0.047619047619047616, 0.14285714285714285, 0.047619047619047616, 0.0, 0.19047619047619047, 0.23809523809523808, 0.14285714285714285, 0.14285714285714285, 0.14285714285714285, 0.19047619047619047, 0.0, 0.2857142857142857, 0.0, 0.047619047619047616, 0.0, 0.14285714285714285, 0.19047619047619047, 0.0, 0.23809523809523808, 0.19047619047619047, 0.0, 0.09523809523809523, 0.09523809523809523, 0.047619047619047616, 0.047619047619047616, 0.47619047619047616, 0.0, 0.2857142857142857, 0.047619047619047616, 0.09523809523809523, 0.09523809523809523, 0.0, 0.0, 0.0, 0.0, 0.0, 0.19047619047619047, 0.0, 0.38095238095238093, 0.19047619047619047, 0.0, 0.14285714285714285, 0.09523809523809523, 0.14285714285714285, 0.23809523809523808, 0.14285714285714285, 0.0, 0.047619047619047616, 0.09523809523809523, 0.14285714285714285, 0.19047619047619047, 0.14285714285714285, 0.0, 0.19047619047619047, 0.09523809523809523, 0.14285714285714285, 0.047619047619047616, 0.047619047619047616, 0.42857142857142855, 0.19047619047619047, 0.09523809523809523, 0.047619047619047616, 0.0, 0.0, 0.7619047619047619, 0.047619047619047616, 0.047619047619047616, 0.14285714285714285, 0.0, 0.0, 0.14285714285714285, 0.19047619047619047, 0.19047619047619047, 0.09523809523809523, 0.0, 0.14285714285714285, 0.14285714285714285, 0.14285714285714285, 0.38095238095238093, 0.0, 0.0, 0.047619047619047616, 0.0, 0.0, 0.0, 0.047619047619047616, 0.6190476190476191, 0.09523809523809523, 0.09523809523809523, 0.09523809523809523, 0.09523809523809523, 0.09523809523809523, 0.19047619047619047, 0.5714285714285714, 0.19047619047619047, 0.0, 0.0, 0.09523809523809523, 0.0, 0.047619047619047616, 0.0, 0.19047619047619047, 0.19047619047619047, 0.23809523809523808, 0.14285714285714285, 0.14285714285714285, 0.3333333333333333, 0.0, 0.0, 0.3333333333333333, 0.0, 0.0, 0.19047619047619047, 0.09523809523809523, 0.19047619047619047, 0.0, 0.5238095238095237, 0.047619047619047616, 0.23809523809523808, 0.0, 0.3333333333333333, 0.23809523809523808, 0.0, 0.0, 0.047619047619047616, 0.0, 0.0, 0.14285714285714285, 0.09523809523809523, 0.047619047619047616, 0.14285714285714285, 0.0, 0.3333333333333333, 0.23809523809523808, 0.19047619047619047, 0.0, 0.0, 0.0, 0.0, 0.0, 0.14285714285714285, 0.0, 0.19047619047619047, 0.0, 0.0, 0.14285714285714285, 0.09523809523809523, 0.47619047619047616, 0.14285714285714285, 0.23809523809523808, 0.09523809523809523, 0.09523809523809523, 0.19047619047619047, 0.2857142857142857, 0.047619047619047616, 0.047619047619047616, 0.09523809523809523, 0.09523809523809523, 0.23809523809523808, 0.0, 0.14285714285714285, 0.0, 0.23809523809523808, 0.5714285714285714, 0.0, 0.5238095238095237, 0.0, 0.0, 0.14285714285714285, 0.0, 0.14285714285714285, 0.0, 0.09523809523809523, 0.14285714285714285, 0.23809523809523808, 0.09523809523809523, 0.23809523809523808, 0.09523809523809523, 0.09523809523809523, 0.0, 0.23809523809523808, 0.047619047619047616, 0.14285714285714285, 0.2857142857142857, 0.09523809523809523, 0.2857142857142857, 0.09523809523809523, 0.23809523809523808, 0.0, 0.0, 0.23809523809523808, 0.0, 0.0, 0.14285714285714285, 0.09523809523809523, 0.09523809523809523, 0.19047619047619047, 0.2857142857142857, 0.23809523809523808, 0.19047619047619047, 0.0, 0.047619047619047616, 0.19047619047619047, 0.19047619047619047, 0.09523809523809523, 0.14285714285714285, 0.047619047619047616, 0.09523809523809523, 0.0, 0.23809523809523808, 0.047619047619047616, 0.0, 0.047619047619047616, 0.14285714285714285, 0.5238095238095237, 0.047619047619047616, 0.0, 0.0, 0.5714285714285714, 0.09523809523809523, 0.19047619047619047, 0.09523809523809523, 0.09523809523809523, 0.19047619047619047, 0.09523809523809523, 0.14285714285714285, 0.19047619047619047, 0.0, 0.0, 0.0, 0.0, 0.14285714285714285, 0.047619047619047616, 0.3333333333333333, 0.047619047619047616, 0.047619047619047616, 0.047619047619047616, 0.09523809523809523, 0.0, 0.0, 0.0, 0.0, 0.047619047619047616, 0.047619047619047616, 0.047619047619047616, 0.047619047619047616, 0.0, 0.0, 0.0, 0.0, 0.19047619047619047, 0.047619047619047616, 0.38095238095238093, 0.09523809523809523, 0.047619047619047616, 0.23809523809523808, 0.047619047619047616, 0.09523809523809523, 0.0, 0.0, 0.14285714285714285, 0.09523809523809523, 0.0, 0.09523809523809523, 0.047619047619047616, 0.19047619047619047, 0.19047619047619047, 0.14285714285714285, 0.0, 0.0, 0.0, 0.0, 0.19047619047619047, 0.047619047619047616, 0.047619047619047616, 0.047619047619047616, 0.14285714285714285, 0.14285714285714285, 0.14285714285714285, 0.14285714285714285, 0.0, 0.047619047619047616, 0.14285714285714285, 0.14285714285714285, 0.047619047619047616, 0.14285714285714285, 0.14285714285714285, 0.2857142857142857, 0.14285714285714285, 0.0, 0.14285714285714285, 0.047619047619047616, 0.14285714285714285, 0.14285714285714285, 0.14285714285714285, 0.14285714285714285, 0.0, 0.14285714285714285, 0.047619047619047616, 0.0, 0.047619047619047616, 0.0, 0.2857142857142857, 0.0, 0.2857142857142857, 0.09523809523809523, 0.0, 0.0, 0.2857142857142857, 0.0, 0.0, 0.19047619047619047, 0.3333333333333333, 0.0, 0.23809523809523808, 0.0, 0.14285714285714285, 0.2857142857142857, 0.14285714285714285, 0.14285714285714285, 0.047619047619047616, 0.0, 0.0, 0.047619047619047616, 0.0, 0.19047619047619047, 0.09523809523809523, 0.0, 0.0, 0.19047619047619047, 0.0, 0.09523809523809523, 0.09523809523809523, 0.19047619047619047, 0.14285714285714285, 0.09523809523809523, 0.0, 0.0, 0.38095238095238093, 0.0, 0.0, 0.23809523809523808, 0.14285714285714285, 0.19047619047619047, 0.14285714285714285, 0.14285714285714285, 0.0, 0.0, 0.14285714285714285, 0.09523809523809523, 0.2857142857142857, 0.09523809523809523, 0.0, 0.47619047619047616, 0.0, 0.14285714285714285, 0.0, 0.19047619047619047, 0.0, 0.3333333333333333, 0.23809523809523808, 0.23809523809523808, 0.0, 0.19047619047619047, 0.09523809523809523, 0.14285714285714285, 0.09523809523809523, 0.0, 0.0, 0.2857142857142857, 0.0, 0.0, 0.19047619047619047, 0.047619047619047616, 0.047619047619047616, 0.14285714285714285, 0.047619047619047616, 0.0, 0.047619047619047616, 0.0, 0.0, 0.0, 0.09523809523809523, 0.23809523809523808, 0.047619047619047616, 0.0, 0.09523809523809523, 0.23809523809523808, 0.047619047619047616, 0.14285714285714285, 0.14285714285714285, 0.09523809523809523, 0.0, 0.14285714285714285, 0.047619047619047616, 0.0, 0.23809523809523808, 0.0, 0.2857142857142857, 0.14285714285714285, 0.047619047619047616, 0.0, 0.09523809523809523, 0.14285714285714285, 0.19047619047619047, 0.14285714285714285, 0.09523809523809523, 0.2857142857142857, 0.23809523809523808, 0.0, 0.14285714285714285, 0.23809523809523808, 0.19047619047619047, 0.0, 0.09523809523809523, 0.14285714285714285, 0.14285714285714285, 0.14285714285714285, 0.19047619047619047, 0.47619047619047616, 0.14285714285714285, 0.3333333333333333, 0.047619047619047616, 0.09523809523809523, 0.0, 0.0, 0.09523809523809523, 0.0, 0.047619047619047616, 0.14285714285714285, 0.3333333333333333, 0.09523809523809523, 0.19047619047619047, 0.19047619047619047, 0.23809523809523808, 0.0, 0.0, 0.2857142857142857, 0.0, 0.19047619047619047, 0.19047619047619047, 0.23809523809523808, 0.0, 0.0, 0.09523809523809523, 0.0, 0.0, 0.42857142857142855, 0.19047619047619047, 0.19047619047619047, 0.09523809523809523, 0.0, 0.0, 0.14285714285714285, 0.14285714285714285, 0.0, 0.0, 0.09523809523809523, 0.09523809523809523, 0.09523809523809523, 0.047619047619047616, 0.09523809523809523, 0.047619047619047616, 0.0, 0.09523809523809523, 0.23809523809523808, 0.14285714285714285, 0.38095238095238093, 0.19047619047619047, 0.0, 0.0, 0.0, 0.0, 0.0, 0.0, 0.0, 0.09523809523809523, 0.0, 0.0, 0.09523809523809523, 0.0, 0.047619047619047616, 0.23809523809523808, 0.14285714285714285, 0.0, 0.0, 0.0, 0.0, 0.0, 0.14285714285714285, 0.047619047619047616, 0.0, 0.19047619047619047, 0.2857142857142857, 0.2857142857142857, 0.0, 0.0, 0.0, 0.19047619047619047, 0.2857142857142857, 0.0, 0.0, 0.0, 0.23809523809523808, 0.09523809523809523, 0.047619047619047616, 0.23809523809523808, 0.47619047619047616, 0.0, 0.14285714285714285, 0.23809523809523808, 0.047619047619047616, 0.6190476190476191, 0.14285714285714285, 0.0, 0.09523809523809523, 0.38095238095238093, 0.14285714285714285, 0.14285714285714285, 0.047619047619047616, 0.047619047619047616, 0.0, 0.047619047619047616, 0.09523809523809523, 0.09523809523809523, 0.0, 0.23809523809523808, 0.047619047619047616, 0.19047619047619047, 0.14285714285714285, 0.19047619047619047, 0.47619047619047616, 0.19047619047619047, 0.0, 0.0, 0.14285714285714285, 0.047619047619047616, 0.047619047619047616, 0.047619047619047616, 0.0, 0.14285714285714285, 0.23809523809523808, 0.09523809523809523, 0.09523809523809523, 0.14285714285714285, 0.09523809523809523, 0.0, 0.09523809523809523, 0.0, 0.0, 0.14285714285714285, 0.0, 0.09523809523809523, 0.5238095238095237, 0.0, 0.3333333333333333, 0.09523809523809523, 0.0, 0.19047619047619047, 0.23809523809523808, 0.0, 0.19047619047619047, 0.047619047619047616, 0.0, 0.0, 0.23809523809523808, 0.3333333333333333, 0.09523809523809523, 0.5238095238095237, 0.047619047619047616, 0.0, 0.0, 0.19047619047619047, 0.047619047619047616, 0.23809523809523808, 0.0, 0.19047619047619047, 0.14285714285714285, 0.19047619047619047, 0.23809523809523808, 0.23809523809523808, 0.0, 0.14285714285714285, 0.14285714285714285, 0.0, 0.6666666666666666, 0.0, 0.047619047619047616, 0.19047619047619047, 0.19047619047619047, 0.23809523809523808, 0.14285714285714285, 0.0, 0.0, 0.0, 0.2857142857142857, 0.0, 0.0, 0.19047619047619047, 0.23809523809523808, 0.047619047619047616, 0.0, 0.23809523809523808, 0.0, 0.047619047619047616, 0.047619047619047616, 0.23809523809523808, 0.23809523809523808, 0.0, 0.0, 0.23809523809523808, 0.23809523809523808, 0.0, 0.09523809523809523, 0.047619047619047616, 0.09523809523809523, 0.0, 0.0, 0.0, 0.0, 0.09523809523809523, 0.047619047619047616, 0.14285714285714285, 0.0, 0.0, 0.047619047619047616, 0.19047619047619047], \"xaxis\": \"x2\", \"y\": [0.413546255506608, 0.2990088105726873, 0.0842511013215859, 0.5165198237885463, 0.14482378854625552, 0.420704845814978, 0.4620044052863437, 0.27477973568281944, 0.4284140969162996, 0.6189427312775331, 0.03634361233480177, 0.04680616740088107, 0.2274229074889868, 0.4140969162995595, 0.61784140969163, 0.1685022026431718, 0.4686123348017622, 0.07433920704845816, 0.6150881057268723, 0.48898678414096924, 0.1828193832599119, 0.3491189427312776, 0.3056167400881058, 0.3188325991189428, 0.028083700440528638, 0.3166299559471366, 0.06057268722466961, 0.5490088105726872, 0.8160792951541851, 0.00881057268722467, 0.4218061674008811, 0.2940528634361234, 0.058370044052863446, 0.1696035242290749, 0.5044052863436124, 0.585352422907489, 0.4994493392070485, 0.6718061674008812, 0.40143171806167405, 0.0033039647577092516, 0.2290748898678414, 0.34581497797356836, 0.4085903083700441, 0.907488986784141, 0.682819383259912, 0.1194933920704846, 0.11508810572687225, 0.6321585903083701, 0.25110132158590315, 0.223568281938326, 0.6332599118942732, 0.3083700440528635, 0.670704845814978, 0.08480176211453745, 0.10627753303964758, 0.5941629955947137, 0.29240088105726875, 0.4498898678414098, 0.25000000000000006, 0.012114537444933921, 0.1668502202643172, 0.001101321585903084, 0.23072687224669605, 0.7389867841409693, 0.05726872246696036, 0.29625550660792954, 0.1261013215859031, 0.4030837004405287, 0.9179515418502203, 0.6409691629955948, 0.8232378854625552, 0.18061674008810574, 0.09416299559471367, 0.637114537444934, 0.05506607929515419, 0.7775330396475771, 0.07984581497797358, 0.9779735682819385, 0.07323788546255507, 0.26156387665198244, 0.4190528634361234, 0.21145374449339208, 0.8617841409691631, 0.019823788546255508, 0.5187224669603525, 0.7075991189427314, 0.03854625550660794, 0.09966960352422909, 0.328193832599119, 0.05231277533039649, 0.8193832599118944, 0.22522026431718065, 0.20539647577092512, 0.21640969162995596, 0.5269823788546256, 0.20704845814977976, 0.4845814977973569, 0.1668502202643172, 0.5110132158590309, 0.2290748898678414, 0.053414096916299565, 0.37114537444933926, 0.08314977973568283, 0.6602422907488987, 0.3436123348017622, 0.5236784140969164, 0.37500000000000006, 0.05231277533039649, 0.0060572687224669615, 0.4625550660792952, 0.14702643171806168, 0.38766519823788553, 0.23348017621145375, 0.04405286343612336, 0.8970264317180617, 0.572136563876652, 0.25550660792951546, 0.5247797356828194, 0.0644273127753304, 0.4300660792951542, 0.48513215859030845, 0.6007709251101322, 0.7802863436123348, 0.3397577092511014, 0.47466960352422916, 0.1723568281938326, 0.40363436123348023, 0.029735682819383262, 0.27477973568281944, 0.058370044052863446, 0.07929515418502203, 0.022026431718061675, 0.3386563876651983, 0.02092511013215859, 0.2599118942731278, 0.12114537444933922, 0.40914096916299564, 0.5165198237885463, 0.06883259911894274, 0.09416299559471367, 0.629955947136564, 0.413546255506608, 0.37224669603524235, 0.10077092511013216, 0.3193832599118943, 0.48953744493392076, 0.4620044052863437, 0.6657488986784141, 0.08920704845814978, 0.9229074889867842, 0.748898678414097, 0.5517621145374451, 0.15308370044052863, 0.7202643171806168, 0.4553964757709252, 0.756057268722467, 0.4190528634361234, 0.3860132158590309, 0.11618942731277533, 0.5886563876651983, 0.4421806167400882, 0.4658590308370045, 0.1222466960352423, 0.3199339207048459, 0.02588105726872247, 0.0038546255506607934, 0.5859030837004406, 0.1800660792951542, 0.09030837004405287, 0.6079295154185023, 0.7665198237885463, 0.2808370044052864, 0.8926211453744495, 0.3612334801762115, 0.8898678414096918, 0.3386563876651983, 0.5203744493392071, 0.3177312775330397, 0.9350220264317182, 0.3612334801762115, 0.06828193832599119, 0.4515418502202644, 0.06277533039647577, 0.13491189427312777, 0.1668502202643172, 0.7797356828193833, 0.11288546255506608, 0.028083700440528638, 0.6993392070484582, 0.3155286343612335, 0.03248898678414097, 0.2285242290748899, 0.2874449339207049, 0.6662995594713658, 0.6596916299559472, 0.2263215859030837, 0.07709251101321586, 0.26486784140969166, 0.8248898678414098, 0.597466960352423, 0.5038546255506609, 0.4240088105726873, 0.40638766519823794, 0.9416299559471367, 0.8711453744493393, 0.001101321585903084, 0.25220264317180624, 0.058370044052863446, 0.05671806167400882, 0.12334801762114538, 0.2901982378854626, 0.8937224669603525, 0.3193832599118943, 0.031387665198237893, 0.5523127753303966, 0.8882158590308371, 0.050660792951541855, 0.7026431718061675, 0.1525330396475771, 0.29350220264317184, 0.052863436123348026, 0.7698237885462555, 0.6998898678414098, 0.1734581497797357, 0.564977973568282, 0.25110132158590315, 0.7758810572687226, 0.4212555066079296, 0.11674008810572688, 0.4113436123348018, 0.38491189427312783, 0.09526431718061674, 0.14262114537444934, 0.8325991189427314, 0.33535242290748907, 0.05176211453744494, 0.5269823788546256, 0.2533039647577093, 0.1894273127753304, 0.25715859030837007, 0.17290748898678415, 0.009911894273127754, 0.15143171806167402, 0.4295154185022027, 0.07984581497797358, 0.23623348017621146, 0.49394273127753313, 0.022577092511013218, 0.6327092511013217, 0.48348017621145384, 0.6013215859030838, 0.518171806167401, 0.18226872246696035, 0.02918502202643172, 0.5605726872246697, 0.48623348017621154, 0.223568281938326, 0.7059471365638768, 0.10462555066079296, 0.5258810572687226, 0.15859030837004406, 0.03303964757709252, 0.17125550660792951, 0.3215859030837005, 0.39372246696035246, 0.47742290748898686, 0.02918502202643172, 0.314977973568282, 0.5715859030837005, 0.0919603524229075, 0.4410792951541851, 0.334251101321586, 0.6475770925110133, 0.7654185022026433, 0.1591409691629956, 0.05176211453744494, 0.4443832599118943, 0.1563876651982379, 0.9366740088105728, 0.7406387665198239, 0.20649779735682822, 0.21640969162995596, 0.295704845814978, 0.1261013215859031, 0.26707048458149785, 0.07709251101321586, 0.38270925110132165, 0.007158590308370045, 0.047356828193832606, 0.18887665198237888, 0.5396475770925111, 0.49339207048458156, 0.6883259911894274, 0.019273127753303965, 0.8265418502202644, 0.4432819383259913, 0.5969162995594715, 0.39867841409691634, 0.5319383259911895, 0.6145374449339208, 0.8887665198237886, 0.38656387665198244, 0.18722466960352424, 0.013766519823788547, 0.5897577092511014, 0.5005506607929516, 0.37940528634361237, 0.354625550660793, 0.9823788546255507, 0.0005506607929515419, 0.029735682819383262, 0.328193832599119, 0.11398678414096917, 0.3061674008810573, 0.4289647577092512, 0.2312775330396476, 0.4779735682819384, 0.29185022026431723, 0.09746696035242292, 0.754955947136564, 0.4185022026431719, 0.4229074889867842, 0.06002202643171807, 0.1745594713656388, 0.19218061674008813, 0.6387665198237886, 0.04019823788546256, 0.13711453744493393, 0.7665198237885463, 0.3050660792951542, 0.4278634361233481, 0.024229074889867842, 0.29185022026431723, 0.5126651982378856, 0.16464757709251102, 0.09966960352422909, 0.5677312775330398, 0.25385462555066085, 0.11068281938325991, 0.12444933920704845, 0.4454845814977974, 0.5011013215859031, 0.12444933920704845, 0.4361233480176212, 0.4994493392070485, 0.10407488986784141, 0.05396475770925111, 0.9686123348017622, 0.29735682819383263, 0.5925110132158591, 0.7505506607929516, 0.15088105726872247, 0.557819383259912, 0.04019823788546256, 0.13491189427312777, 0.2483480176211454, 0.2505506607929516, 0.015418502202643174, 0.27147577092511016, 0.4449339207048459, 0.029735682819383262, 0.07764317180616741, 0.623898678414097, 0.053414096916299565, 0.5346916299559472, 0.27202643171806173, 0.7064977973568283, 0.21145374449339208, 0.25825991189427316, 0.5660792951541851, 0.8386563876651983, 0.36563876651982385, 0.604625550660793, 0.17180616740088106, 0.7158590308370045, 0.03359030837004406, 0.17290748898678415, 0.21916299559471367, 0.23568281938325994, 0.12830396475770925, 0.21475770925110133, 0.19383259911894274, 0.6150881057268723, 0.3425110132158591, 0.19603524229074892, 0.7466960352422909, 0.24284140969162998, 0.8447136563876653, 0.7406387665198239, 0.5699339207048459, 0.5980176211453745, 0.5088105726872247, 0.7340308370044054, 0.08700440528634362, 0.10187224669603524, 0.20925110132158592, 0.06718061674008811, 0.017070484581497798, 0.6800660792951543, 0.3232378854625551, 0.854625550660793, 0.2890969162995595, 0.0644273127753304, 0.030286343612334805, 0.10187224669603524, 0.9922907488986785, 0.17841409691629956, 0.5594713656387666, 0.4911894273127754, 0.4229074889867842, 0.03689427312775331, 0.0038546255506607934, 0.17841409691629956, 0.13381057268722468, 0.21585903083700442, 0.26266519823788553, 0.6150881057268723, 0.0908590308370044, 0.5837004405286345, 0.45374449339207057, 0.4124449339207049, 0.768171806167401, 0.11123348017621146, 0.6040748898678415, 0.49669603524229083, 0.18502202643171808, 0.7626651982378856, 0.5099118942731278, 0.4317180616740089, 0.38381057268722474, 0.04405286343612336, 0.5963656387665199, 0.5776431718061675, 0.4162995594713657, 0.018722466960352423, 0.532488986784141, 0.183920704845815, 0.04680616740088107, 0.3469162995594714, 0.18226872246696035, 0.17180616740088106, 0.11288546255506608, 0.07158590308370044, 0.10132158590308371, 0.3177312775330397, 0.8177312775330398, 0.2703744493392071, 0.7648678414096918, 0.19438325991189428, 0.38656387665198244, 0.7175110132158591, 0.042400881057268726, 0.5611233480176212, 0.5583700440528635, 0.10297356828193834, 0.24339207048458153, 0.5765418502202644, 0.0060572687224669615, 0.05671806167400882, 0.5947136563876653, 0.08204845814977973, 0.27422907488986786, 0.05231277533039649, 0.19658590308370044, 0.9443832599118944, 0.10903083700440529, 0.25660792951541855, 0.23568281938325994, 0.2912995594713657, 0.9581497797356829, 0.3557268722466961, 0.5798458149779736, 0.019273127753303965, 0.15088105726872247, 0.3138766519823789, 0.781387665198238, 0.3006607929515419, 0.1800660792951542, 0.5666299559471366, 0.016519823788546256, 0.03248898678414097, 0.6596916299559472, 0.35627753303964765, 0.055616740088105736, 0.3160792951541851, 0.48403083700440536, 0.17676211453744495, 0.35352422907488995, 0.3226872246696036, 0.26211453744493396, 0.4289647577092512, 0.35242290748898686, 0.07654185022026432, 0.4058370044052864, 0.031387665198237893, 0.024229074889867842, 0.05451541850220265, 0.86784140969163, 0.400330396475771, 0.11894273127753305, 0.030837004405286344, 0.5848017621145375, 0.1354625550660793, 0.41189427312775334, 0.3309471365638767, 0.2863436123348018, 0.48733480176211463, 0.07544052863436124, 0.3436123348017622, 0.3298458149779736, 0.050110132158590316, 0.6437224669603525, 0.1156387665198238, 0.5892070484581499, 0.4113436123348018, 0.29074889867841414, 0.2389867841409692, 0.7186123348017622, 0.5148678414096917, 0.15363436123348018, 0.36563876651982385, 0.6382158590308371, 0.48843612334801767, 0.6894273127753305, 0.2378854625550661, 0.3507709251101322, 0.6514317180616741, 0.7257709251101323, 0.13436123348017623, 0.3072687224669604, 0.37334801762114544, 0.27863436123348023, 0.170704845814978, 0.4146475770925111, 0.056167400881057275, 0.08700440528634362, 0.21145374449339208, 0.5892070484581499, 0.8997797356828194, 0.6894273127753305, 0.028634361233480177, 0.3529735682819384, 0.7857929515418504, 0.4245594713656388, 0.10737885462555066, 0.27257709251101325, 0.4212555066079296, 0.7494493392070486, 0.03579295154185023, 0.6464757709251102, 0.22962555066079296, 0.013215859030837005, 0.3755506607929516, 0.459251101321586, 0.3430616740088106, 0.4361233480176212, 0.34966960352422916, 0.301762114537445, 0.6844713656387666, 0.7329295154185023, 0.02092511013215859, 0.03579295154185023, 0.01762114537444934, 0.39096916299559475, 0.29735682819383263, 0.2417400881057269, 0.4174008810572688, 0.19107929515418504, 0.5231277533039649, 0.33810572687224677, 0.6651982378854626, 0.047907488986784146, 0.4085903083700441, 0.10737885462555066, 0.9394273127753305, 0.314977973568282, 0.23348017621145375, 0.5490088105726872, 0.13876651982378854, 0.11784140969162996, 0.044603524229074897, 0.7659691629955948, 0.35517621145374456, 0.38931718061674014, 0.28689427312775334, 0.055616740088105736, 0.20539647577092512, 0.6305066079295155, 0.10187224669603524, 0.2940528634361234, 0.400330396475771, 0.7120044052863437, 0.5611233480176212, 0.061674008810572695, 0.8050660792951543, 0.236784140969163, 0.36563876651982385, 0.07433920704845816, 0.1591409691629956, 0.9922907488986785, 0.426762114537445, 0.1459251101321586, 0.061123348017621155, 0.5512114537444934, 0.18502202643171808, 0.19988986784140972, 0.40143171806167405, 0.8540748898678415, 0.21090308370044056, 0.3320484581497798, 0.34856828193832606, 0.13325991189427314, 0.72852422907489, 0.5424008810572688, 0.308920704845815, 0.11013215859030838, 0.6062775330396477, 0.25825991189427316, 0.295704845814978, 0.3370044052863437, 0.4047356828193833, 0.058370044052863446, 0.4284140969162996, 0.23953744493392073, 0.49394273127753313, 0.6376651982378856, 0.0005506607929515419, 0.047907488986784146, 0.20429515418502203, 0.20870044052863437, 0.04955947136563878, 0.38491189427312783, 0.38766519823788553, 0.25770925110132165, 0.3166299559471366, 0.7566079295154186, 0.4344713656387666, 0.170704845814978, 0.5044052863436124, 0.13766519823788548, 0.20594713656387667, 0.5352422907488987, 0.6602422907488987, 0.26486784140969166, 0.37004405286343617, 0.09306167400881057, 0.38931718061674014, 0.1288546255506608, 0.3309471365638767, 0.011563876651982379, 0.6095814977973569, 0.21310572687224671, 0.8689427312775332, 0.08314977973568283, 0.04625550660792952, 0.055616740088105736, 0.39427312775330403, 0.3331497797356829, 0.7461453744493393, 0.7857929515418504, 0.3755506607929516, 0.4146475770925111, 0.13601321585903084, 0.38711453744493396, 0.10462555066079296, 0.6294052863436124, 0.4151982378854626, 0.10352422907488987, 0.35792951541850226, 0.48733480176211463, 0.564977973568282, 0.03579295154185023, 0.3491189427312776, 0.04570484581497798, 0.432819383259912, 0.45649779735682827, 0.7455947136563877, 0.2505506607929516, 0.5286343612334803, 0.7670704845814978, 0.5275330396475771, 0.3425110132158591, 0.10132158590308371, 0.48898678414096924, 0.49284140969163004, 0.7461453744493393, 0.016519823788546256, 0.27367841409691634, 0.5022026431718062, 0.3133259911894274, 0.12665198237885464, 0.768171806167401, 0.03689427312775331, 0.06607929515418502, 0.19218061674008813, 0.04129955947136565, 0.13436123348017623, 0.4306167400881058, 0.9322687224669605, 0.6514317180616741, 0.15308370044052863, 0.23182819383259914, 0.8166299559471366, 0.5490088105726872, 0.5539647577092511, 0.39482378854625555, 0.49284140969163004, 0.5044052863436124, 0.4146475770925111, 0.058370044052863446, 0.11618942731277533, 0.2505506607929516, 0.1668502202643172, 0.8359030837004406, 0.12830396475770925, 0.34856828193832606, 0.5297356828193833, 0.689977973568282, 0.4493392070484582, 0.28579295154185025, 0.3248898678414097, 0.39427312775330403, 0.09801762114537445, 0.19548458149779738, 0.9454845814977975, 0.27588105726872253, 0.7109030837004406, 0.6211453744493393, 0.8408590308370045, 0.5605726872246697, 0.27367841409691634, 0.1194933920704846, 0.9884361233480178, 0.6850220264317182, 0.5941629955947137, 0.73568281938326, 0.25605726872246704, 0.09030837004405287, 0.49174008810572695, 0.20594713656387667, 0.1618942731277533, 0.504955947136564, 0.1194933920704846, 0.26817180616740094, 0.49339207048458156, 0.06057268722466961, 0.08975770925110133, 0.11288546255506608, 0.17841409691629956, 0.7648678414096918, 0.48237885462555075, 0.47246696035242297, 0.2290748898678414, 0.3006607929515419, 0.5038546255506609, 0.08480176211453745, 0.07213656387665199, 0.7301762114537446, 0.5776431718061675, 0.14096916299559473, 0.5154185022026433, 0.3116740088105727, 0.26651982378854633, 0.2912995594713657, 0.5930616740088106, 0.5407488986784141, 0.61784140969163, 0.1194933920704846, 0.028083700440528638, 0.0881057268722467, 0.3661894273127754, 0.7648678414096918, 0.3557268722466961, 0.703193832599119, 0.4598017621145375, 0.12775330396475773, 0.8590308370044054, 0.1696035242290749, 0.2769823788546256, 0.056167400881057275, 0.062224669603524234, 0.08370044052863436, 0.3584801762114538, 0.24284140969162998, 0.8777533039647578, 0.3953744493392071, 0.7610132158590309, 0.03359030837004406, 0.18226872246696035, 0.5220264317180617, 0.5501101321585904, 0.16795154185022027, 0.27643171806167405, 0.3375550660792952, 0.27863436123348023, 0.301762114537445, 0.6514317180616741, 0.4190528634361234, 0.07433920704845816, 0.04625550660792952, 0.3215859030837005, 0.15583700440528636, 0.5820484581497798, 0.4350220264317181, 0.21255506607929517, 0.3034140969162996, 0.6514317180616741, 0.11894273127753305, 0.12720264317180618, 0.1563876651982379, 0.09636563876651982, 0.506057268722467, 0.06773127753303965, 0.11288546255506608, 0.08755506607929515, 0.48898678414096924, 0.18722466960352424, 0.8243392070484582, 0.5187224669603525, 0.6536343612334803, 0.5005506607929516, 0.4069383259911895, 0.17015418502202645, 0.14207048458149782, 0.007158590308370045, 0.6250000000000001, 0.0033039647577092516, 0.2505506607929516, 0.052863436123348026, 0.05396475770925111, 0.26651982378854633, 0.21751101321585906, 0.017070484581497798, 0.13656387665198239, 0.37224669603524235, 0.9432819383259913, 0.3441629955947137, 0.197136563876652, 0.7808370044052865, 0.0060572687224669615, 0.7026431718061675, 0.47742290748898686, 0.16629955947136565, 0.08975770925110133, 0.3309471365638767, 0.4702643171806168, 0.5952643171806168, 0.03909691629955948, 0.37169603524229083, 0.2329295154185022, 0.012114537444933921, 0.29625550660792954, 0.07378854625550661, 0.07158590308370044, 0.07984581497797358, 0.637114537444934, 0.6349118942731279, 0.8430616740088107, 0.4779735682819384, 0.5468061674008812, 0.4542951541850221, 0.00275330396475771, 0.8061674008810573, 0.1459251101321586, 0.3612334801762115, 0.40143171806167405, 0.11894273127753305, 0.2444933920704846, 0.17566079295154186, 0.6205947136563877, 0.3375550660792952, 0.06057268722466961, 0.4394273127753305, 0.3430616740088106, 0.04295154185022027, 0.4212555066079296, 0.5429515418502203, 0.03248898678414097, 0.061674008810572695, 0.6073788546255507, 0.841409691629956, 0.47852422907488995, 0.5837004405286345, 0.2329295154185022, 0.28138766519823794, 0.047356828193832606, 0.17125550660792951, 0.17125550660792951, 0.49669603524229083, 0.19438325991189428, 0.6712555066079297, 0.03689427312775331, 0.30011013215859034, 0.26431718061674014, 0.4465859030837005, 0.3860132158590309, 0.23182819383259914, 0.0947136563876652, 0.15418502202643172, 0.46530837004405295, 0.49889867841409696, 0.48623348017621154, 0.24118942731277535, 0.30121145374449343, 0.20484581497797358, 0.2835903083700441, 0.19658590308370044, 0.3992290748898679, 0.36068281938325997, 0.30671806167400884, 0.058920704845814985, 0.17015418502202645, 0.06387665198237885, 0.16354625550660795, 0.03303964757709252, 0.12444933920704845, 0.38270925110132165, 0.05176211453744494, 0.19107929515418504, 0.48678414096916306, 0.015418502202643174, 0.7444933920704847, 0.4845814977973569, 0.1877753303964758, 0.0814977973568282, 0.8006607929515419, 0.41299559471365643, 0.19988986784140972, 0.30121145374449343, 0.25715859030837007, 0.5776431718061675, 0.6316079295154186, 0.709251101321586, 0.030286343612334805, 0.2301762114537445, 0.3243392070484582, 0.4587004405286344, 0.39867841409691634, 0.5743392070484582, 0.4845814977973569, 0.506057268722467, 0.12389867841409692, 0.22797356828193835, 0.38381057268722474, 0.03469162995594714, 0.20649779735682822, 0.5236784140969164, 0.021475770925110133, 0.5148678414096917, 0.3981277533039648, 0.1393171806167401, 0.5958149779735684, 0.7279735682819384, 0.5622246696035244, 0.3463656387665199, 0.5512114537444934, 0.0512114537444934, 0.26707048458149785, 0.0578193832599119, 0.47962555066079304, 0.12279735682819384, 0.25660792951541855, 0.17676211453744495, 0.11398678414096917, 0.6784140969162996, 0.37169603524229083, 0.5583700440528635, 0.5330396475770925, 0.08865638766519825, 0.3325991189427313, 0.557819383259912, 0.05176211453744494, 0.2389867841409692, 0.7626651982378856, 0.197136563876652, 0.2472466960352423, 0.7593612334801763, 0.1629955947136564, 0.656387665198238, 0.6316079295154186, 0.37279735682819387, 0.5726872246696036, 0.38050660792951546, 0.10407488986784141, 0.8094713656387666, 0.25715859030837007, 0.5401982378854626, 0.17125550660792951, 0.8871145374449341, 0.36729074889867847, 0.1299559471365639, 0.8689427312775332, 0.6360132158590309, 0.4185022026431719, 0.3821585903083701, 0.3248898678414097, 0.4768722466960353, 0.27588105726872253, 0.16740088105726875, 0.8882158590308371, 0.04570484581497798, 0.5379955947136564, 0.29074889867841414, 0.2197136563876652, 0.13436123348017623, 0.7439427312775332, 0.09636563876651982, 0.019273127753303965, 0.007709251101321586, 0.06332599118942732, 0.12444933920704845, 0.6685022026431718, 0.06883259911894274, 0.5765418502202644, 0.06828193832599119, 0.031387665198237893, 0.38491189427312783, 0.6183920704845816, 0.8766519823788548, 0.6211453744493393, 0.20429515418502203, 0.4300660792951542, 0.7158590308370045, 0.12169603524229075, 0.2263215859030837, 0.4350220264317181, 0.6580396475770925, 0.6007709251101322, 0.08204845814977973, 0.03964757709251102, 0.3177312775330397, 0.4124449339207049, 0.341409691629956, 0.33149779735682827, 0.6161894273127754, 0.223568281938326, 0.17566079295154186, 0.15363436123348018, 0.7879955947136564, 0.1668502202643172, 0.1316079295154185, 0.4344713656387666, 0.18612334801762115, 0.892070484581498, 0.5792951541850221, 0.7665198237885463, 0.5897577092511014, 0.14262114537444934, 0.5903083700440529, 0.5203744493392071, 0.2301762114537445, 0.03634361233480177, 0.5980176211453745, 0.308920704845815, 0.7742290748898679, 0.8314977973568283, 0.16519823788546256, 0.6552863436123348, 0.3337004405286344, 0.22191629955947137, 0.018171806167400884, 0.2290748898678414, 0.6905286343612336, 0.6437224669603525, 0.1156387665198238, 0.005506607929515419, 0.024779735682819385, 0.2703744493392071, 0.1811674008810573, 0.46916299559471375, 0.06662995594713657, 0.3325991189427313, 0.6453744493392072, 0.210352422907489, 0.08094713656387666, 0.19493392070484583, 0.20980176211453747, 0.27147577092511016, 0.009911894273127754, 0.9333700440528635, 0.17400881057268724, 0.45374449339207057, 0.17015418502202645, 0.5176211453744494, 0.3370044052863437, 0.18171806167400884, 0.11508810572687225, 0.7797356828193833, 0.39977973568281944, 0.5748898678414097, 0.4768722466960353, 0.11618942731277533, 0.5418502202643173, 0.17125550660792951, 0.4410792951541851, 0.012114537444933921, 0.0038546255506607934, 0.08645374449339208, 0.6112334801762115, 0.23733480176211455, 0.2990088105726873, 0.26101321585903087, 0.8601321585903084, 0.3518722466960353, 0.7912995594713658, 0.4807268722466961, 0.504955947136564, 0.5881057268722468, 0.21475770925110133, 0.19988986784140972, 0.40803964757709255, 0.13986784140969163, 0.03303964757709252, 0.024779735682819385, 0.7131057268722468, 0.16244493392070486, 0.4416299559471366, 0.006607929515418503, 0.7841409691629957, 0.6205947136563877, 0.5286343612334803, 0.17290748898678415, 0.585352422907489, 0.27808370044052866, 0.37059471365638774, 0.49394273127753313, 0.1828193832599119, 0.793502202643172, 0.24118942731277535, 0.5330396475770925, 0.3133259911894274, 0.12059471365638767, 0.4333700440528635, 0.6905286343612336, 0.15308370044052863, 0.49559471365638774, 0.4295154185022027, 0.25220264317180624, 0.4306167400881058, 0.05396475770925111, 0.5005506607929516, 0.19218061674008813, 0.13381057268722468, 0.11894273127753305, 0.07158590308370044, 0.3364537444933921, 0.8904185022026433, 0.6272026431718063, 0.4058370044052864, 0.030837004405286344, 0.35517621145374456, 0.16464757709251102, 0.8436123348017622, 0.6569383259911895, 0.08259911894273128, 0.6288546255506609, 0.11288546255506608, 0.37720264317180624, 0.15363436123348018, 0.40803964757709255, 0.37610132158590315, 0.5561674008810573, 0.413546255506608, 0.341409691629956, 0.042400881057268726, 0.40143171806167405, 0.27202643171806173, 0.04019823788546256, 0.16409691629955947, 0.07544052863436124, 0.03193832599118943, 0.571035242290749, 0.4625550660792952, 0.24229074889867844, 0.1894273127753304, 0.47191629955947145, 0.1811674008810573, 0.0512114537444934, 0.06387665198237885, 0.024779735682819385, 0.5644273127753304, 0.12444933920704845, 0.02312775330396476, 0.6541850220264318, 0.35627753303964765, 0.13601321585903084, 0.0881057268722467, 0.11398678414096917, 0.13215859030837004, 0.36013215859030845, 0.7274229074889869, 0.9322687224669605, 0.49063876651982385, 0.14151982378854627, 0.7709251101321587, 0.8287444933920706, 0.38381057268722474, 0.46145374449339216, 0.26651982378854633, 0.20814977973568283, 0.19823788546255508, 0.37004405286343617, 0.420704845814978, 0.27808370044052866, 0.36178414096916306, 0.6712555066079297, 0.8639867841409693, 0.0033039647577092516, 0.3408590308370045, 0.170704845814978, 0.6294052863436124, 0.41685022026431723, 0.4295154185022027, 0.6448237885462555, 0.28689427312775334, 0.12059471365638767, 0.14262114537444934, 0.08535242290748898, 0.10297356828193834, 0.06828193832599119, 0.7577092511013217, 0.4911894273127754, 0.47081497797356836, 0.4427312775330397, 0.017070484581497798, 0.48568281938325997, 0.9135462555066081, 0.09140969162995595, 0.21751101321585906, 0.6398678414096917, 0.1828193832599119, 0.1685022026431718, 0.2180616740088106, 0.20649779735682822, 0.6073788546255507, 0.3237885462555067, 0.9344713656387666, 0.28193832599118945, 0.1811674008810573, 0.2483480176211454, 0.34966960352422916, 0.39041850220264324, 0.4218061674008811, 0.3623348017621146, 0.10297356828193834, 0.5947136563876653, 0.7615638766519824, 0.23733480176211455, 0.23458149779735685, 0.7912995594713658, 0.5148678414096917, 0.12004405286343613, 0.3287444933920705, 0.5214757709251102, 0.5941629955947137, 0.36949339207048465, 0.05396475770925111, 0.34746696035242297, 0.8215859030837005, 0.3502202643171807, 0.38381057268722474, 0.03689427312775331, 0.26982378854625555, 0.19933920704845817, 0.2984581497797357, 0.3964757709251102, 0.2846916299559472, 0.3100220264317181, 0.3502202643171807, 0.46530837004405295, 0.35792951541850226, 0.7951541850220265, 0.5225770925110133, 0.16795154185022027, 0.3303964757709252, 0.30671806167400884, 0.2968061674008811, 0.41189427312775334, 0.5302863436123348, 0.06332599118942732, 0.531387665198238, 0.13105726872246698, 0.06773127753303965, 0.9350220264317182, 0.35517621145374456, 0.7213656387665199, 0.14757709251101322, 0.4372246696035243, 0.3821585903083701, 0.04185022026431719, 0.26596916299559475, 0.7048458149779736, 0.0644273127753304, 0.25000000000000006, 0.572136563876652, 0.9421806167400882, 0.001101321585903084, 0.36839207048458156, 0.4730176211453745, 0.07213656387665199, 0.26046255506607935, 0.4212555066079296, 0.2169603524229075, 0.3006607929515419, 0.3160792951541851, 0.3992290748898679, 0.3507709251101322, 0.06607929515418502, 0.7042951541850221, 0.36729074889867847, 0.1745594713656388, 0.18171806167400884, 0.5693832599118943, 0.6784140969162996, 0.17015418502202645, 0.7257709251101323, 0.4504405286343613, 0.4443832599118943, 0.4487885462555067, 0.2979074889867842, 0.4741189427312776, 0.7665198237885463, 0.09966960352422909, 0.8083700440528635, 0.058920704845814985, 0.6618942731277534, 0.019823788546255508, 0.5787444933920706, 0.0814977973568282, 0.5401982378854626, 0.0038546255506607934, 0.7042951541850221, 0.7725770925110134, 0.7830396475770927, 0.26046255506607935, 0.5567180616740088, 0.2351321585903084, 0.38986784140969166, 0.8733480176211454, 0.09911894273127754, 0.8843612334801764, 0.4096916299559472, 0.1905286343612335, 0.7626651982378856, 0.5715859030837005, 0.5236784140969164, 0.15143171806167402, 0.09361233480176212, 0.17125550660792951, 0.4019823788546256, 0.578193832599119, 0.7098017621145375, 0.5825991189427313, 0.4432819383259913, 0.506057268722467, 0.4405286343612335, 0.04129955947136565, 0.37279735682819387, 0.4218061674008811, 0.5115638766519824, 0.19162995594713658, 0.7208149779735684, 0.24944933920704845, 0.459251101321586, 0.07158590308370044, 0.22577092511013216, 0.25605726872246704, 0.2444933920704846, 0.5892070484581499, 0.3034140969162996, 0.722466960352423, 0.6872246696035244, 0.3661894273127754, 0.28303964757709255, 0.45374449339207057, 0.7059471365638768, 0.28524229074889873, 0.5435022026431718, 0.06552863436123348, 0.3226872246696036, 0.3331497797356829, 0.3259911894273128, 0.4609030837004406, 0.5892070484581499, 0.6156387665198239, 0.06828193832599119, 0.45649779735682827, 0.3078193832599119, 0.10022026431718062, 0.8513215859030838, 0.07599118942731278, 0.6569383259911895, 0.5468061674008812, 0.3463656387665199, 0.6729074889867842, 0.012665198237885464, 0.39041850220264324, 0.009361233480176211, 0.3177312775330397, 0.2703744493392071, 0.3199339207048459, 0.34966960352422916, 0.19988986784140972, 0.2835903083700441, 0.459251101321586, 0.14262114537444934, 0.5688325991189428, 0.6585903083700442, 0.19768722466960353, 0.16409691629955947, 0.27092511013215864, 0.47907488986784147, 0.36563876651982385, 0.446035242290749, 0.5903083700440529, 0.13436123348017623, 0.1299559471365639, 0.05451541850220265, 0.48292951541850226, 0.6558370044052865, 0.3226872246696036, 0.0060572687224669615, 0.4581497797356829, 0.0407488986784141, 0.0022026431718061676, 0.8744493392070486, 0.0407488986784141, 0.7819383259911895, 0.6954845814977975, 0.3237885462555067, 0.0033039647577092516, 0.07764317180616741, 0.007158590308370045, 0.15969162995594716, 0.15748898678414097, 0.4421806167400882, 0.06773127753303965, 0.8348017621145375, 0.37610132158590315, 0.07654185022026432, 0.10407488986784141, 0.34196035242290757, 0.11729074889867842, 0.03248898678414097, 0.8436123348017622, 0.4179515418502203, 0.4306167400881058, 0.5357929515418502, 0.6211453744493393, 0.5429515418502203, 0.30671806167400884, 0.41189427312775334, 0.16409691629955947, 0.01762114537444934, 0.6068281938325992, 0.2769823788546256, 0.14537444933920707, 0.183920704845815, 0.018171806167400884, 0.05671806167400882, 0.16409691629955947, 0.19603524229074892, 0.7114537444933922, 0.6332599118942732, 0.22577092511013216, 0.49614537444933926, 0.022577092511013218, 0.28799559471365643, 0.49614537444933926, 0.48843612334801767, 0.22246696035242292, 0.20429515418502203, 0.18337004405286345, 0.05506607929515419, 0.055616740088105736, 0.1811674008810573, 0.4598017621145375, 0.11343612334801763, 0.07764317180616741, 0.20154185022026433, 0.2169603524229075, 0.5759911894273129, 0.3469162995594714, 0.3182819383259912, 0.19107929515418504, 0.48953744493392076, 0.4372246696035243, 0.6795154185022028, 0.40914096916299564, 0.3612334801762115, 0.28524229074889873, 0.6585903083700442, 0.04185022026431719, 0.4405286343612335, 0.7208149779735684, 0.8348017621145375, 0.12444933920704845, 0.4498898678414098, 0.8441629955947137, 0.20044052863436124, 0.23182819383259914, 0.004955947136563877, 0.09801762114537445, 0.46035242290748907, 0.25275330396475776, 0.39867841409691634, 0.49063876651982385, 0.3259911894273128, 0.210352422907489, 0.8188325991189428, 0.3309471365638767, 0.23348017621145375, 0.20980176211453747, 0.3287444933920705, 0.49559471365638774, 0.5726872246696036, 0.1685022026431718, 0.11343612334801763, 0.40363436123348023, 0.23953744493392073, 0.3188325991189428, 0.07929515418502203, 0.052863436123348026, 0.22522026431718065, 0.35903083700440536, 0.39592511013215864, 0.1828193832599119, 0.19548458149779738, 0.7648678414096918, 0.02588105726872247, 0.518171806167401, 0.48182819383259917, 0.30396475770925113, 0.38931718061674014, 0.9432819383259913, 0.6261013215859031, 0.6398678414096917, 0.7213656387665199, 0.08700440528634362, 0.2731277533039648, 0.38766519823788553, 0.6013215859030838, 0.04625550660792952, 0.11618942731277533, 0.21475770925110133, 0.47081497797356836, 0.7323788546255507, 0.03854625550660794, 0.8039647577092512, 0.26376651982378857, 0.07158590308370044, 0.5110132158590309, 0.02643171806167401, 0.20374449339207049, 0.07323788546255507, 0.22136563876651985, 0.4449339207048459, 0.26817180616740094, 0.5495594713656389, 0.4394273127753305, 0.6277533039647578, 0.27367841409691634, 0.3078193832599119, 0.49834801762114544, 0.38986784140969166, 0.41960352422907493, 0.6316079295154186, 0.2901982378854626, 0.03248898678414097, 0.8794052863436125, 0.21145374449339208, 0.7868942731277534, 0.7731277533039649, 0.5704845814977975, 0.19878854625550663, 0.7924008810572688, 0.25881057268722474, 0.024779735682819385, 0.6905286343612336, 0.08865638766519825, 0.26266519823788553, 0.8105726872246697, 0.17290748898678415, 0.12775330396475773, 0.3259911894273128, 0.20484581497797358, 0.024229074889867842, 0.4372246696035243, 0.49889867841409696, 0.1156387665198238, 0.4069383259911895, 0.5280837004405287, 0.643171806167401, 0.07268722466960352, 0.8639867841409693, 0.29185022026431723, 0.052863436123348026, 0.13711453744493393, 0.08370044052863436, 0.11068281938325991, 0.1459251101321586, 0.2533039647577093, 0.0947136563876652, 0.3557268722466961, 0.5930616740088106, 0.09581497797356829, 0.07213656387665199, 0.1734581497797357, 0.058370044052863446, 0.4427312775330397, 0.04405286343612336, 0.08755506607929515, 0.5699339207048459, 0.3469162995594714, 0.4069383259911895, 0.49174008810572695, 0.25660792951541855, 0.23072687224669605, 0.49063876651982385, 0.5732378854625552, 0.7450440528634362, 0.09801762114537445, 0.793502202643172, 0.04185022026431719, 0.35132158590308377, 0.37389867841409696, 0.042400881057268726, 0.35242290748898686, 0.4355726872246697, 0.4041850220264318, 0.17125550660792951, 0.7742290748898679, 0.09030837004405287, 0.14867841409691632, 0.49174008810572695, 0.1773127753303965, 0.49339207048458156, 0.41299559471365643, 0.49724669603524235, 0.8612334801762116, 0.024779735682819385, 0.3507709251101322, 0.010462555066079295, 0.6712555066079297, 0.650330396475771, 0.9372246696035244, 0.12775330396475773, 0.5528634361233481, 0.571035242290749, 0.028083700440528638, 0.39867841409691634, 0.6376651982378856, 0.6795154185022028, 0.10792951541850221, 0.14537444933920707, 0.1261013215859031, 0.4553964757709252, 0.5919603524229076, 0.314977973568282, 0.5837004405286345, 0.5209251101321587, 0.11508810572687225, 0.030286343612334805, 0.3292951541850221, 0.23568281938325994, 0.7687224669603525, 0.24229074889867844, 0.39041850220264324, 0.35407488986784147, 0.14812775330396477, 0.26541850220264324, 0.08204845814977973, 0.37059471365638774, 0.5044052863436124, 0.5165198237885463, 0.7863436123348019, 0.029735682819383262, 0.4658590308370045, 0.6629955947136564, 0.4218061674008811, 0.2246696035242291, 0.13436123348017623, 0.06662995594713657, 0.8970264317180617, 0.22577092511013216, 0.7059471365638768, 0.18502202643171808, 0.05396475770925111, 0.23843612334801764, 0.0578193832599119, 0.09251101321585904, 0.6294052863436124, 0.03689427312775331, 0.7555066079295155, 0.7500000000000001, 0.3006607929515419, 0.26762114537444937, 0.12555066079295155, 0.6288546255506609, 0.18171806167400884, 0.5484581497797357, 0.5418502202643173, 0.46530837004405295, 0.39151982378854633, 0.4702643171806168, 0.7626651982378856, 0.3860132158590309, 0.5809471365638768, 0.14041850220264318, 0.00275330396475771, 0.20154185022026433, 0.6040748898678415, 0.0060572687224669615, 0.05947136563876653, 0.183920704845815, 0.20044052863436124, 0.006607929515418503, 0.35627753303964765, 0.8689427312775332, 0.1789647577092511, 0.6365638766519824, 0.34581497797356836, 0.030837004405286344, 0.49063876651982385, 0.7230176211453745, 0.6927312775330398, 0.23182819383259914, 0.10572687224669604, 0.9845814977973569, 0.6150881057268723, 0.781387665198238, 0.7918502202643173, 0.03909691629955948, 0.5165198237885463, 0.24008810572687225, 0.3116740088105727, 0.8193832599118944, 0.47577092511013225, 0.026982378854625552, 0.12279735682819384, 0.4686123348017622, 0.5435022026431718, 0.19162995594713658, 0.28138766519823794, 0.8882158590308371, 0.10077092511013216, 0.2285242290748899, 0.09801762114537445, 0.4229074889867842, 0.7362334801762116, 0.572136563876652, 0.10572687224669604, 0.5269823788546256, 0.016519823788546256, 0.10627753303964758, 0.6552863436123348, 0.008259911894273128, 0.07048458149779736, 0.001101321585903084, 0.5154185022026433, 0.20814977973568283, 0.06883259911894274, 0.8788546255506609, 0.14372246696035243, 0.0644273127753304, 0.4229074889867842, 0.48623348017621154, 0.49834801762114544, 0.38381057268722474, 0.18061674008810574, 0.06002202643171807, 0.2417400881057269, 0.1685022026431718, 0.20814977973568283, 0.48953744493392076, 0.4570484581497798, 0.4278634361233481, 0.02588105726872247, 0.4229074889867842, 0.48513215859030845, 0.1800660792951542, 0.1459251101321586, 0.39372246696035246, 0.8111233480176212, 0.05451541850220265, 0.047907488986784146, 0.052863436123348026, 0.1800660792951542, 0.6007709251101322, 0.7351321585903084, 0.7648678414096918, 0.5732378854625552, 0.7312775330396477, 0.14207048458149782, 0.2389867841409692, 0.7153083700440529, 0.6068281938325992, 0.6850220264317182, 0.4741189427312776, 0.1354625550660793, 0.13215859030837004, 0.183920704845815, 0.2208149779735683, 0.5401982378854626, 0.29460352422907493, 0.13325991189427314, 0.19603524229074892, 0.45099118942731287, 0.6569383259911895, 0.4405286343612335, 0.3436123348017622, 0.017070484581497798, 0.16409691629955947, 0.4994493392070485, 0.3248898678414097, 0.1773127753303965, 0.35242290748898686, 0.5088105726872247, 0.604625550660793, 0.3359030837004406, 0.41024229074889873, 0.5374449339207049, 0.35352422907488995, 0.6481277533039649, 0.39096916299559475, 0.042400881057268726, 0.1183920704845815, 0.5401982378854626, 0.8243392070484582, 0.40253303964757714, 0.7808370044052865, 0.6161894273127754, 0.35682819383259917, 0.05726872246696036, 0.10077092511013216, 0.11013215859030838, 0.1459251101321586, 0.04680616740088107, 0.4069383259911895, 0.10903083700440529, 0.33920704845814986, 0.6227973568281939, 0.37720264317180624, 0.2979074889867842, 0.6266519823788547, 0.3061674008810573, 0.6150881057268723, 0.4201541850220265, 0.03524229074889868, 0.22522026431718065, 0.37665198237885467, 0.11784140969162996, 0.18171806167400884, 0.282488986784141, 0.12720264317180618, 0.4146475770925111, 0.10572687224669604, 0.17400881057268724, 0.6029735682819384, 0.03909691629955948, 0.39151982378854633, 0.5330396475770925, 0.24118942731277535, 0.6536343612334803, 0.29350220264317184, 0.34966960352422916, 0.0016519823788546258, 0.5297356828193833, 0.334251101321586, 0.5567180616740088, 0.09581497797356829, 0.12775330396475773, 0.1261013215859031, 0.629955947136564, 0.1299559471365639, 0.2417400881057269, 0.10572687224669604, 0.33920704845814986, 0.14537444933920707, 0.5952643171806168, 0.210352422907489, 0.18226872246696035, 0.5005506607929516, 0.15308370044052863, 0.5225770925110133, 0.5357929515418502, 0.14867841409691632, 0.12830396475770925, 0.08480176211453745, 0.0908590308370044, 0.5770925110132159, 0.597466960352423, 0.3529735682819384, 0.5011013215859031, 0.28524229074889873, 0.197136563876652, 0.8491189427312776, 0.09251101321585904, 0.8127753303964759, 0.5765418502202644, 0.25881057268722474, 0.4096916299559472, 0.8221365638766521, 0.20484581497797358, 0.3166299559471366, 0.5991189427312776, 0.03248898678414097, 0.11674008810572688, 0.22191629955947137, 0.6998898678414098, 0.3155286343612335, 0.236784140969163, 0.28689427312775334, 0.26872246696035246, 0.058370044052863446, 0.2995594713656388, 0.28193832599118945, 0.3171806167400882, 0.5231277533039649, 0.10462555066079296, 0.27257709251101325, 0.8276431718061675, 0.22522026431718065, 0.49174008810572695, 0.08094713656387666, 0.37830396475770933, 0.27367841409691634, 0.12169603524229075, 0.5908590308370045, 0.8094713656387666, 0.07048458149779736, 0.2990088105726873, 0.3072687224669604, 0.7654185022026433, 0.013215859030837005, 0.24504405286343614, 0.5170704845814978, 0.4421806167400882, 0.19768722466960353, 0.20814977973568283, 0.07709251101321586, 0.4113436123348018, 0.28193832599118945, 0.6332599118942732, 0.07709251101321586, 0.9933920704845817, 0.7846916299559472, 0.6514317180616741, 0.4344713656387666, 0.25660792951541855, 0.2990088105726873, 0.6068281938325992, 0.17290748898678415, 0.34471365638766527, 0.5638766519823789, 0.10242290748898679, 0.314977973568282, 0.6547356828193833, 0.14647577092511013, 0.7742290748898679, 0.40253303964757714, 0.3254405286343613, 0.19107929515418504, 0.4289647577092512, 0.0005506607929515419, 0.5137665198237886, 0.8028634361233481, 0.5088105726872247, 0.09966960352422909, 0.0407488986784141, 0.35627753303964765, 0.5236784140969164, 0.025330396475770928, 0.8116740088105728, 0.06332599118942732, 0.19383259911894274, 0.35517621145374456, 0.20759911894273128, 0.20649779735682822, 0.4383259911894274, 0.48843612334801767, 0.4807268722466961, 0.47466960352422916, 0.8061674008810573, 0.015969162995594713, 0.6773127753303966, 0.37665198237885467, 0.8331497797356829, 0.637114537444934, 0.5693832599118943, 0.014317180616740088, 0.9207048458149781, 0.4085903083700441, 0.06718061674008811, 0.07268722466960352, 0.1723568281938326, 0.5033039647577093, 0.5082599118942732, 0.7665198237885463, 0.6690528634361235, 0.5412995594713658, 0.828193832599119, 0.8221365638766521, 0.7780837004405288, 0.36839207048458156, 0.5897577092511014, 0.22246696035242292, 0.4383259911894274, 0.2378854625550661, 0.0, 0.19988986784140972, 0.7522026431718063, 0.39482378854625555, 0.4730176211453745, 0.5291850220264318, 0.8221365638766521, 0.328193832599119, 0.37444933920704854, 0.0512114537444934, 0.03909691629955948, 0.41024229074889873, 0.03964757709251102, 0.8926211453744495, 0.11233480176211455, 0.8248898678414098, 0.38105726872246704, 0.7654185022026433, 0.34856828193832606, 0.572136563876652, 0.06662995594713657, 0.37610132158590315, 0.36343612334801767, 0.30396475770925113, 0.045154185022026436, 0.3045154185022027, 0.25825991189427316, 0.74284140969163, 0.1261013215859031, 0.13325991189427314, 0.288546255506608, 0.46806167400881066, 0.7334801762114538, 0.1194933920704846, 0.6117841409691631, 0.22577092511013216, 0.23348017621145375, 0.0512114537444934, 0.3992290748898679, 0.012665198237885464, 0.02588105726872247, 0.14096916299559473, 0.4284140969162996, 0.25385462555066085, 0.9713656387665199, 0.16354625550660795, 0.3144273127753304, 0.2769823788546256, 0.08865638766519825, 0.14041850220264318, 0.4504405286343613, 0.3529735682819384, 0.3276431718061675, 0.3061674008810573, 0.7329295154185023, 0.4317180616740089, 0.47191629955947145, 0.328193832599119, 0.22411894273127755, 0.08039647577092511, 0.650330396475771, 0.23953744493392073, 0.5881057268722468, 0.42621145374449343, 0.36013215859030845, 0.36674008810572695, 0.33149779735682827, 0.5473568281938327, 0.782488986784141, 0.5479074889867842, 0.3116740088105727, 0.36674008810572695, 0.09140969162995595, 0.05396475770925111, 0.2378854625550661, 0.37004405286343617, 0.2274229074889868, 0.23623348017621146, 0.1051762114537445, 0.2901982378854626, 0.7180616740088107, 0.6651982378854626, 0.028634361233480177, 0.41299559471365643, 0.46420704845814986, 0.6007709251101322, 0.12665198237885464, 0.7098017621145375, 0.11894273127753305, 0.4752202643171807, 0.13876651982378854, 0.4581497797356829, 0.27422907488986786, 0.4140969162995595, 0.14372246696035243, 0.3061674008810573, 0.12830396475770925, 0.22962555066079296, 0.236784140969163, 0.34856828193832606, 0.6668502202643173, 0.22301762114537446, 0.5220264317180617, 0.9003303964757711, 0.5176211453744494, 0.729625550660793, 0.18337004405286345, 0.36288546255506615, 0.5501101321585904, 0.5363436123348019, 0.052863436123348026, 0.6382158590308371, 0.28028634361233484, 0.616740088105727, 0.09140969162995595, 0.9223568281938327, 0.25936123348017626, 0.08480176211453745, 0.7483480176211454, 0.26817180616740094, 0.012114537444933921, 0.125, 0.018722466960352423, 0.681718061674009, 0.13876651982378854, 0.16740088105726875, 0.5341409691629957, 0.938876651982379, 0.4317180616740089, 0.1459251101321586, 0.3689427312775331, 0.814977973568282, 0.6437224669603525, 0.5809471365638768, 0.20154185022026433, 0.9587004405286345, 0.5776431718061675, 0.02918502202643172, 0.15583700440528636, 0.38711453744493396, 0.18171806167400884, 0.10187224669603524, 0.07048458149779736, 0.25715859030837007, 0.38546255506607935, 0.021475770925110133, 0.4410792951541851, 0.7422907488986785, 0.12555066079295155, 0.8590308370044054, 0.38270925110132165, 0.6266519823788547, 0.20484581497797358, 0.5539647577092511, 0.7312775330396477, 0.834251101321586, 0.3480176211453745, 0.7103524229074891, 0.2846916299559472, 0.5379955947136564, 0.34746696035242297, 0.13986784140969163, 0.407488986784141, 0.125, 0.466409691629956, 0.6558370044052865, 0.3166299559471366, 0.38656387665198244, 0.5809471365638768, 0.06662995594713657, 0.3441629955947137, 0.7026431718061675, 0.019273127753303965, 0.8122246696035244, 0.12940528634361234, 0.4482378854625551, 0.030286343612334805, 0.14757709251101322, 0.3292951541850221, 0.7753303964757711, 0.15418502202643172, 0.24118942731277535, 0.6233480176211454, 0.1685022026431718, 0.5462555066079295, 0.49504405286343617, 0.47962555066079304, 0.6965859030837005, 0.6013215859030838, 0.8034140969162996, 0.37279735682819387, 0.5930616740088106, 0.3122246696035243, 0.20319383259911897, 0.09030837004405287, 0.46806167400881066, 0.5490088105726872, 0.2290748898678414, 0.5638766519823789, 0.28193832599118945, 0.18557268722466963, 0.525330396475771, 0.7659691629955948, 0.38546255506607935, 0.223568281938326, 0.8045154185022028, 0.04845814977973569, 0.03854625550660794, 0.45759911894273136, 0.28028634361233484, 0.45759911894273136, 0.4845814977973569, 0.3480176211453745, 0.7874449339207049, 0.5594713656387666, 0.07323788546255507, 0.5214757709251102, 0.0033039647577092516, 0.28138766519823794, 0.3303964757709252, 0.519273127753304, 0.058920704845814985, 0.5093612334801763, 0.5837004405286345, 0.49834801762114544, 0.459251101321586, 0.05176211453744494, 0.13711453744493393, 0.3056167400881058, 0.38381057268722474, 0.6068281938325992, 0.46310572687224677, 0.5737885462555067, 0.4245594713656388, 0.061123348017621155, 0.04625550660792952, 0.328193832599119, 0.2417400881057269, 0.03634361233480177, 0.4317180616740089, 0.644273127753304, 0.014317180616740088, 0.4256607929515419, 0.3061674008810573, 0.11508810572687225, 0.7896475770925111, 0.7780837004405288, 0.15033039647577093, 0.35352422907488995, 0.10407488986784141, 0.12004405286343613, 0.1877753303964758, 0.5198237885462555, 0.236784140969163, 0.8419603524229076, 0.07433920704845816, 0.5704845814977975, 0.17125550660792951, 0.7098017621145375, 0.47191629955947145, 0.0060572687224669615, 0.4526431718061675, 0.3171806167400882, 0.13766519823788548, 0.643171806167401, 0.38105726872246704, 0.09140969162995595, 0.6773127753303966, 0.23182819383259914, 0.644273127753304, 0.2246696035242291, 0.27422907488986786, 0.0236784140969163, 0.3204845814977974, 0.18502202643171808, 0.052863436123348026, 0.41299559471365643, 0.8204845814977975, 0.6470264317180617, 0.33149779735682827, 0.20319383259911897, 0.35517621145374456, 0.38546255506607935, 0.39977973568281944, 0.4344713656387666, 0.24779735682819384, 0.35792951541850226, 0.017070484581497798, 0.6007709251101322, 0.21365638766519826, 0.2890969162995595, 0.07268722466960352, 0.6156387665198239, 0.3463656387665199, 0.3259911894273128, 0.24339207048458153, 0.7714757709251102, 0.14262114537444934, 0.024779735682819385, 0.40638766519823794, 0.183920704845815, 0.1618942731277533, 0.39977973568281944, 0.4317180616740089, 0.1618942731277533, 0.9757709251101323, 0.03744493392070485, 0.5077092511013217, 0.4355726872246697, 0.38050660792951546, 0.2863436123348018, 0.7263215859030838, 0.3502202643171807, 0.6013215859030838, 0.49559471365638774, 0.17400881057268724, 0.007709251101321586, 0.11343612334801763, 0.24614537444933923, 0.2703744493392071, 0.506057268722467, 0.39207048458149785, 0.6200440528634362, 0.29460352422907493, 0.6519823788546256, 0.48898678414096924, 0.6073788546255507, 0.308920704845815, 0.3226872246696036, 0.10022026431718062, 0.17125550660792951, 0.08480176211453745, 0.19823788546255508, 0.22687224669603526, 0.532488986784141, 0.8772026431718063, 0.20319383259911897, 0.19493392070484583, 0.06002202643171807, 0.24504405286343614, 0.2444933920704846, 0.47246696035242297, 0.6773127753303966, 0.5066079295154186, 0.5000000000000001, 0.5754405286343613, 0.6762114537444934, 0.23182819383259914, 0.25440528634361237, 0.2285242290748899, 0.321035242290749, 0.23458149779735685, 0.13436123348017623, 0.8447136563876653, 0.15473568281938327, 0.12114537444933922, 0.14482378854625552, 0.09306167400881057, 0.018722466960352423, 0.16409691629955947, 0.3144273127753304, 0.14096916299559473, 0.9069383259911895, 0.4498898678414098, 0.48348017621145384, 0.3325991189427313, 0.6007709251101322, 0.48127753303964765, 0.3370044052863437, 0.37775330396475776, 0.578193832599119, 0.7015418502202644, 0.629955947136564, 0.4245594713656388, 0.20704845814977976, 0.10903083700440529, 0.3100220264317181, 0.28028634361233484, 0.20870044052863437, 0.295704845814978, 0.4405286343612335, 0.1525330396475771, 0.5159691629955948, 0.5011013215859031, 0.36013215859030845, 0.23072687224669605, 0.5792951541850221, 0.09140969162995595, 0.06497797356828194, 0.19493392070484583, 0.48403083700440536, 0.4295154185022027, 0.3298458149779736, 0.022577092511013218, 0.41299559471365643, 0.5881057268722468, 0.8838105726872247, 0.11398678414096917, 0.544603524229075, 0.4443832599118943, 0.1894273127753304, 0.5401982378854626, 0.5633259911894274, 0.6624449339207049, 0.2312775330396476, 0.3177312775330397, 0.04955947136563878, 0.9620044052863437, 0.26266519823788553, 0.02918502202643172, 0.4741189427312776, 0.004955947136563877, 0.005506607929515419, 0.25440528634361237, 0.39096916299559475, 0.15583700440528636, 0.14041850220264318, 0.5556167400881058, 0.6740088105726874, 0.1800660792951542, 0.3386563876651983, 0.03964757709251102, 0.37389867841409696, 0.3452643171806168, 0.2901982378854626, 0.028634361233480177, 0.5561674008810573, 0.4096916299559472, 0.10682819383259913, 0.3502202643171807, 0.6294052863436124, 0.781387665198238, 0.06332599118942732, 0.007158590308370045, 0.6172907488986785, 0.20925110132158592, 0.25936123348017626, 0.08480176211453745, 0.2929515418502203, 0.0710352422907489, 0.04185022026431719, 0.322136563876652, 0.5407488986784141, 0.37830396475770933, 0.7533039647577093, 0.5770925110132159, 0.9251101321585904, 0.10737885462555066, 0.288546255506608, 0.07764317180616741, 0.025330396475770928, 0.03634361233480177, 0.4234581497797357, 0.459251101321586, 0.34581497797356836, 0.696035242290749, 0.07488986784140969, 0.26101321585903087, 0.010462555066079295, 0.14207048458149782, 0.1811674008810573, 0.2846916299559472, 0.8320484581497798, 0.8364537444933922, 0.48953744493392076, 0.49229074889867847, 0.08039647577092511, 0.5308370044052864, 0.28028634361233484, 0.13105726872246698, 0.3034140969162996, 0.1811674008810573, 0.6068281938325992, 0.48843612334801767, 0.5033039647577093, 0.7709251101321587, 0.6822687224669605, 0.2197136563876652, 0.9267621145374451, 0.027533039647577095, 0.39977973568281944, 0.28799559471365643, 0.7610132158590309, 0.4140969162995595, 0.026982378854625552, 0.4069383259911895, 0.05671806167400882, 0.13601321585903084, 0.4333700440528635, 0.15748898678414097, 0.26541850220264324, 0.8359030837004406, 0.015418502202643174, 0.14427312775330398, 0.36839207048458156, 0.16464757709251102, 0.12720264317180618, 0.030286343612334805, 0.5770925110132159, 0.1156387665198238, 0.17125550660792951, 0.25385462555066085, 0.7929515418502203, 0.47466960352422916, 0.631057268722467, 0.0005506607929515419, 0.3595814977973569, 0.19438325991189428, 0.5947136563876653, 0.5947136563876653, 0.3292951541850221, 0.45374449339207057, 0.5814977973568283, 0.045154185022026436, 0.5583700440528635, 0.0407488986784141, 0.0881057268722467, 0.18557268722466963, 0.29460352422907493, 0.27588105726872253, 0.8788546255506609, 0.024779735682819385, 0.6387665198237886, 0.08480176211453745, 0.7973568281938327, 0.2835903083700441, 0.2169603524229075, 0.29735682819383263, 0.21751101321585906, 0.3309471365638767, 0.3529735682819384, 0.4047356828193833, 0.26321585903083705, 0.6635462555066081, 0.3430616740088106, 0.6398678414096917, 0.8171806167400882, 0.631057268722467, 0.37334801762114544, 0.0908590308370044, 0.17786343612334804, 0.3441629955947137, 0.17841409691629956, 0.05451541850220265, 0.10848017621145375, 0.9983480176211454, 0.8750000000000001, 0.3259911894273128, 0.5732378854625552, 0.22191629955947137, 0.42621145374449343, 0.13711453744493393, 0.015418502202643174, 0.23733480176211455, 0.024779735682819385, 0.10297356828193834, 0.16354625550660795, 0.341409691629956, 0.531387665198238, 0.6982378854625552, 0.4741189427312776, 0.3502202643171807, 0.12169603524229075, 0.7819383259911895, 0.3133259911894274, 0.3887665198237886, 0.29240088105726875, 0.1327092511013216, 0.7742290748898679, 0.16079295154185022, 0.14207048458149782, 0.14537444933920707, 0.10792951541850221, 0.6200440528634362, 0.6993392070484582, 0.14207048458149782, 0.572136563876652, 0.4058370044052864, 0.23953744493392073, 0.4427312775330397, 0.22797356828193835, 0.413546255506608, 0.34966960352422916, 0.716409691629956, 0.46145374449339216, 0.004405286343612335, 0.36398678414096924, 0.6095814977973569, 0.2169603524229075, 0.5231277533039649, 0.47632158590308377, 0.11123348017621146, 0.8948237885462557, 0.3243392070484582, 0.14757709251101322, 0.28028634361233484, 0.39977973568281944, 0.6547356828193833, 0.322136563876652, 0.34746696035242297, 0.953193832599119, 0.4598017621145375, 0.29625550660792954, 0.33920704845814986, 0.29350220264317184, 0.053414096916299565, 0.19603524229074892, 0.46916299559471375, 0.24614537444933923, 0.729625550660793, 0.26762114537444937, 0.7009911894273129, 0.3276431718061675, 0.35517621145374456, 0.3006607929515419, 0.4278634361233481, 0.14702643171806168, 0.7747797356828194, 0.09526431718061674, 0.2979074889867842, 0.5726872246696036, 0.4041850220264318, 0.2483480176211454, 0.061674008810572695, 0.20594713656387667, 0.47742290748898686, 0.7075991189427314, 0.30121145374449343, 0.7136563876651983, 0.5490088105726872, 0.06497797356828194, 0.3083700440528635, 0.7230176211453745, 0.27367841409691634, 0.328193832599119, 0.21145374449339208, 0.13491189427312777, 0.2351321585903084, 0.0022026431718061676, 0.19823788546255508, 0.15748898678414097, 0.5837004405286345, 0.20870044052863437, 0.9691629955947137, 0.061674008810572695, 0.2378854625550661, 0.5319383259911895, 0.24284140969162998, 0.2703744493392071, 0.5082599118942732, 0.5666299559471366, 0.22577092511013216, 0.8975770925110134, 0.46916299559471375, 0.4647577092511014, 0.49394273127753313, 0.21365638766519826, 0.48678414096916306, 0.8849118942731279, 0.27367841409691634, 0.17951541850220265, 0.08094713656387666, 0.12059471365638767, 0.25605726872246704, 0.9790748898678415, 0.7753303964757711, 0.13215859030837004, 0.07764317180616741, 0.031387665198237893, 0.5214757709251102, 0.4185022026431719, 0.5594713656387666, 0.4421806167400882, 0.4493392070484582, 0.17290748898678415, 0.1563876651982379, 0.015969162995594713, 0.5209251101321587, 0.578193832599119, 0.24504405286343614, 0.7890969162995596, 0.3144273127753304, 0.18722466960352424, 0.08590308370044053, 0.047356828193832606, 0.09801762114537445, 0.6459251101321587, 0.21530837004405287, 0.20814977973568283, 0.6409691629955948, 0.6784140969162996, 0.36178414096916306, 0.6762114537444934, 0.4581497797356829, 0.26046255506607935, 0.7830396475770927, 0.3072687224669604, 0.5379955947136564, 0.36288546255506615, 0.7582599118942732, 0.5038546255506609, 0.5490088105726872, 0.3127753303964758, 0.40143171806167405, 0.1629955947136564, 0.19493392070484583, 0.4030837004405287, 0.5110132158590309, 0.17951541850220265, 0.34196035242290757, 0.7571585903083702, 0.3408590308370045, 0.3375550660792952, 0.17841409691629956, 0.301762114537445, 0.6756607929515419, 0.4306167400881058, 0.5638766519823789, 0.016519823788546256, 0.432819383259912], \"yaxis\": \"y2\"}],\n",
              "                        {\"annotations\": [{\"font\": {\"size\": 16}, \"showarrow\": false, \"text\": \"Actual\", \"x\": 0.225, \"xanchor\": \"center\", \"xref\": \"paper\", \"y\": 1.0, \"yanchor\": \"bottom\", \"yref\": \"paper\"}, {\"font\": {\"size\": 16}, \"showarrow\": false, \"text\": \"K-means cluster\", \"x\": 0.775, \"xanchor\": \"center\", \"xref\": \"paper\", \"y\": 1.0, \"yanchor\": \"bottom\", \"yref\": \"paper\"}], \"height\": 600, \"template\": {\"data\": {\"bar\": [{\"error_x\": {\"color\": \"#2a3f5f\"}, \"error_y\": {\"color\": \"#2a3f5f\"}, \"marker\": {\"line\": {\"color\": \"#E5ECF6\", \"width\": 0.5}}, \"type\": \"bar\"}], \"barpolar\": [{\"marker\": {\"line\": {\"color\": \"#E5ECF6\", \"width\": 0.5}}, \"type\": \"barpolar\"}], \"carpet\": [{\"aaxis\": {\"endlinecolor\": \"#2a3f5f\", \"gridcolor\": \"white\", \"linecolor\": \"white\", \"minorgridcolor\": \"white\", \"startlinecolor\": \"#2a3f5f\"}, \"baxis\": {\"endlinecolor\": \"#2a3f5f\", \"gridcolor\": \"white\", \"linecolor\": \"white\", \"minorgridcolor\": \"white\", \"startlinecolor\": \"#2a3f5f\"}, \"type\": \"carpet\"}], \"choropleth\": [{\"colorbar\": {\"outlinewidth\": 0, \"ticks\": \"\"}, \"type\": \"choropleth\"}], \"contour\": [{\"colorbar\": {\"outlinewidth\": 0, \"ticks\": \"\"}, \"colorscale\": [[0.0, \"#0d0887\"], [0.1111111111111111, \"#46039f\"], [0.2222222222222222, \"#7201a8\"], [0.3333333333333333, \"#9c179e\"], [0.4444444444444444, \"#bd3786\"], [0.5555555555555556, \"#d8576b\"], [0.6666666666666666, \"#ed7953\"], [0.7777777777777778, \"#fb9f3a\"], [0.8888888888888888, \"#fdca26\"], [1.0, \"#f0f921\"]], \"type\": \"contour\"}], \"contourcarpet\": [{\"colorbar\": {\"outlinewidth\": 0, \"ticks\": \"\"}, \"type\": \"contourcarpet\"}], \"heatmap\": [{\"colorbar\": {\"outlinewidth\": 0, \"ticks\": \"\"}, \"colorscale\": [[0.0, \"#0d0887\"], [0.1111111111111111, \"#46039f\"], [0.2222222222222222, \"#7201a8\"], [0.3333333333333333, \"#9c179e\"], [0.4444444444444444, \"#bd3786\"], [0.5555555555555556, \"#d8576b\"], [0.6666666666666666, \"#ed7953\"], [0.7777777777777778, \"#fb9f3a\"], [0.8888888888888888, \"#fdca26\"], [1.0, \"#f0f921\"]], \"type\": \"heatmap\"}], \"heatmapgl\": [{\"colorbar\": {\"outlinewidth\": 0, \"ticks\": \"\"}, \"colorscale\": [[0.0, \"#0d0887\"], [0.1111111111111111, \"#46039f\"], [0.2222222222222222, \"#7201a8\"], [0.3333333333333333, \"#9c179e\"], [0.4444444444444444, \"#bd3786\"], [0.5555555555555556, \"#d8576b\"], [0.6666666666666666, \"#ed7953\"], [0.7777777777777778, \"#fb9f3a\"], [0.8888888888888888, \"#fdca26\"], [1.0, \"#f0f921\"]], \"type\": \"heatmapgl\"}], \"histogram\": [{\"marker\": {\"colorbar\": {\"outlinewidth\": 0, \"ticks\": \"\"}}, \"type\": \"histogram\"}], \"histogram2d\": [{\"colorbar\": {\"outlinewidth\": 0, \"ticks\": \"\"}, \"colorscale\": [[0.0, \"#0d0887\"], [0.1111111111111111, \"#46039f\"], [0.2222222222222222, \"#7201a8\"], [0.3333333333333333, \"#9c179e\"], [0.4444444444444444, \"#bd3786\"], [0.5555555555555556, \"#d8576b\"], [0.6666666666666666, \"#ed7953\"], [0.7777777777777778, \"#fb9f3a\"], [0.8888888888888888, \"#fdca26\"], [1.0, \"#f0f921\"]], \"type\": \"histogram2d\"}], \"histogram2dcontour\": [{\"colorbar\": {\"outlinewidth\": 0, \"ticks\": \"\"}, \"colorscale\": [[0.0, \"#0d0887\"], [0.1111111111111111, \"#46039f\"], [0.2222222222222222, \"#7201a8\"], [0.3333333333333333, \"#9c179e\"], [0.4444444444444444, \"#bd3786\"], [0.5555555555555556, \"#d8576b\"], [0.6666666666666666, \"#ed7953\"], [0.7777777777777778, \"#fb9f3a\"], [0.8888888888888888, \"#fdca26\"], [1.0, \"#f0f921\"]], \"type\": \"histogram2dcontour\"}], \"mesh3d\": [{\"colorbar\": {\"outlinewidth\": 0, \"ticks\": \"\"}, \"type\": \"mesh3d\"}], \"parcoords\": [{\"line\": {\"colorbar\": {\"outlinewidth\": 0, \"ticks\": \"\"}}, \"type\": \"parcoords\"}], \"pie\": [{\"automargin\": true, \"type\": \"pie\"}], \"scatter\": [{\"marker\": {\"colorbar\": {\"outlinewidth\": 0, \"ticks\": \"\"}}, \"type\": \"scatter\"}], \"scatter3d\": [{\"line\": {\"colorbar\": {\"outlinewidth\": 0, \"ticks\": \"\"}}, \"marker\": {\"colorbar\": {\"outlinewidth\": 0, \"ticks\": \"\"}}, \"type\": \"scatter3d\"}], \"scattercarpet\": [{\"marker\": {\"colorbar\": {\"outlinewidth\": 0, \"ticks\": \"\"}}, \"type\": \"scattercarpet\"}], \"scattergeo\": [{\"marker\": {\"colorbar\": {\"outlinewidth\": 0, \"ticks\": \"\"}}, \"type\": \"scattergeo\"}], \"scattergl\": [{\"marker\": {\"colorbar\": {\"outlinewidth\": 0, \"ticks\": \"\"}}, \"type\": \"scattergl\"}], \"scattermapbox\": [{\"marker\": {\"colorbar\": {\"outlinewidth\": 0, \"ticks\": \"\"}}, \"type\": \"scattermapbox\"}], \"scatterpolar\": [{\"marker\": {\"colorbar\": {\"outlinewidth\": 0, \"ticks\": \"\"}}, \"type\": \"scatterpolar\"}], \"scatterpolargl\": [{\"marker\": {\"colorbar\": {\"outlinewidth\": 0, \"ticks\": \"\"}}, \"type\": \"scatterpolargl\"}], \"scatterternary\": [{\"marker\": {\"colorbar\": {\"outlinewidth\": 0, \"ticks\": \"\"}}, \"type\": \"scatterternary\"}], \"surface\": [{\"colorbar\": {\"outlinewidth\": 0, \"ticks\": \"\"}, \"colorscale\": [[0.0, \"#0d0887\"], [0.1111111111111111, \"#46039f\"], [0.2222222222222222, \"#7201a8\"], [0.3333333333333333, \"#9c179e\"], [0.4444444444444444, \"#bd3786\"], [0.5555555555555556, \"#d8576b\"], [0.6666666666666666, \"#ed7953\"], [0.7777777777777778, \"#fb9f3a\"], [0.8888888888888888, \"#fdca26\"], [1.0, \"#f0f921\"]], \"type\": \"surface\"}], \"table\": [{\"cells\": {\"fill\": {\"color\": \"#EBF0F8\"}, \"line\": {\"color\": \"white\"}}, \"header\": {\"fill\": {\"color\": \"#C8D4E3\"}, \"line\": {\"color\": \"white\"}}, \"type\": \"table\"}]}, \"layout\": {\"annotationdefaults\": {\"arrowcolor\": \"#2a3f5f\", \"arrowhead\": 0, \"arrowwidth\": 1}, \"coloraxis\": {\"colorbar\": {\"outlinewidth\": 0, \"ticks\": \"\"}}, \"colorscale\": {\"diverging\": [[0, \"#8e0152\"], [0.1, \"#c51b7d\"], [0.2, \"#de77ae\"], [0.3, \"#f1b6da\"], [0.4, \"#fde0ef\"], [0.5, \"#f7f7f7\"], [0.6, \"#e6f5d0\"], [0.7, \"#b8e186\"], [0.8, \"#7fbc41\"], [0.9, \"#4d9221\"], [1, \"#276419\"]], \"sequential\": [[0.0, \"#0d0887\"], [0.1111111111111111, \"#46039f\"], [0.2222222222222222, \"#7201a8\"], [0.3333333333333333, \"#9c179e\"], [0.4444444444444444, \"#bd3786\"], [0.5555555555555556, \"#d8576b\"], [0.6666666666666666, \"#ed7953\"], [0.7777777777777778, \"#fb9f3a\"], [0.8888888888888888, \"#fdca26\"], [1.0, \"#f0f921\"]], \"sequentialminus\": [[0.0, \"#0d0887\"], [0.1111111111111111, \"#46039f\"], [0.2222222222222222, \"#7201a8\"], [0.3333333333333333, \"#9c179e\"], [0.4444444444444444, \"#bd3786\"], [0.5555555555555556, \"#d8576b\"], [0.6666666666666666, \"#ed7953\"], [0.7777777777777778, \"#fb9f3a\"], [0.8888888888888888, \"#fdca26\"], [1.0, \"#f0f921\"]]}, \"colorway\": [\"#636efa\", \"#EF553B\", \"#00cc96\", \"#ab63fa\", \"#FFA15A\", \"#19d3f3\", \"#FF6692\", \"#B6E880\", \"#FF97FF\", \"#FECB52\"], \"font\": {\"color\": \"#2a3f5f\"}, \"geo\": {\"bgcolor\": \"white\", \"lakecolor\": \"white\", \"landcolor\": \"#E5ECF6\", \"showlakes\": true, \"showland\": true, \"subunitcolor\": \"white\"}, \"hoverlabel\": {\"align\": \"left\"}, \"hovermode\": \"closest\", \"mapbox\": {\"style\": \"light\"}, \"paper_bgcolor\": \"white\", \"plot_bgcolor\": \"#E5ECF6\", \"polar\": {\"angularaxis\": {\"gridcolor\": \"white\", \"linecolor\": \"white\", \"ticks\": \"\"}, \"bgcolor\": \"#E5ECF6\", \"radialaxis\": {\"gridcolor\": \"white\", \"linecolor\": \"white\", \"ticks\": \"\"}}, \"scene\": {\"xaxis\": {\"backgroundcolor\": \"#E5ECF6\", \"gridcolor\": \"white\", \"gridwidth\": 2, \"linecolor\": \"white\", \"showbackground\": true, \"ticks\": \"\", \"zerolinecolor\": \"white\"}, \"yaxis\": {\"backgroundcolor\": \"#E5ECF6\", \"gridcolor\": \"white\", \"gridwidth\": 2, \"linecolor\": \"white\", \"showbackground\": true, \"ticks\": \"\", \"zerolinecolor\": \"white\"}, \"zaxis\": {\"backgroundcolor\": \"#E5ECF6\", \"gridcolor\": \"white\", \"gridwidth\": 2, \"linecolor\": \"white\", \"showbackground\": true, \"ticks\": \"\", \"zerolinecolor\": \"white\"}}, \"shapedefaults\": {\"line\": {\"color\": \"#2a3f5f\"}}, \"ternary\": {\"aaxis\": {\"gridcolor\": \"white\", \"linecolor\": \"white\", \"ticks\": \"\"}, \"baxis\": {\"gridcolor\": \"white\", \"linecolor\": \"white\", \"ticks\": \"\"}, \"bgcolor\": \"#E5ECF6\", \"caxis\": {\"gridcolor\": \"white\", \"linecolor\": \"white\", \"ticks\": \"\"}}, \"title\": {\"x\": 0.05}, \"xaxis\": {\"automargin\": true, \"gridcolor\": \"white\", \"linecolor\": \"white\", \"ticks\": \"\", \"title\": {\"standoff\": 15}, \"zerolinecolor\": \"white\", \"zerolinewidth\": 2}, \"yaxis\": {\"automargin\": true, \"gridcolor\": \"white\", \"linecolor\": \"white\", \"ticks\": \"\", \"title\": {\"standoff\": 15}, \"zerolinecolor\": \"white\", \"zerolinewidth\": 2}}}, \"width\": 1000, \"xaxis\": {\"anchor\": \"y\", \"domain\": [0.0, 0.45]}, \"xaxis2\": {\"anchor\": \"y2\", \"domain\": [0.55, 1.0]}, \"yaxis\": {\"anchor\": \"x\", \"domain\": [0.0, 1.0]}, \"yaxis2\": {\"anchor\": \"x2\", \"domain\": [0.0, 1.0]}},\n",
              "                        {\"responsive\": true}\n",
              "                    ).then(function(){\n",
              "                            \n",
              "var gd = document.getElementById('1015cb4c-e42e-4cdf-8d12-ec15175d83a5');\n",
              "var x = new MutationObserver(function (mutations, observer) {{\n",
              "        var display = window.getComputedStyle(gd).display;\n",
              "        if (!display || display === 'none') {{\n",
              "            console.log([gd, 'removed!']);\n",
              "            Plotly.purge(gd);\n",
              "            observer.disconnect();\n",
              "        }}\n",
              "}});\n",
              "\n",
              "// Listen for the removal of the full notebook cells\n",
              "var notebookContainer = gd.closest('#notebook-container');\n",
              "if (notebookContainer) {{\n",
              "    x.observe(notebookContainer, {childList: true});\n",
              "}}\n",
              "\n",
              "// Listen for the clearing of the current output cell\n",
              "var outputEl = gd.closest('.output');\n",
              "if (outputEl) {{\n",
              "    x.observe(outputEl, {childList: true});\n",
              "}}\n",
              "\n",
              "                        })\n",
              "                };\n",
              "                \n",
              "            </script>\n",
              "        </div>\n",
              "</body>\n",
              "</html>"
            ]
          },
          "metadata": {
            "tags": []
          }
        }
      ]
    },
    {
      "cell_type": "code",
      "metadata": {
        "colab": {
          "base_uri": "https://localhost:8080/",
          "height": 617
        },
        "id": "A6svHHsIcThh",
        "outputId": "239a342c-9ad1-4d06-a1c8-39e3bb3cf7e8"
      },
      "source": [
        "fig  = make_subplots(\n",
        "    rows = 1,\n",
        "    cols = 2, \n",
        "    subplot_titles=('Actual', 'K-means cluster')\n",
        "\n",
        ")\n",
        "\n",
        "# Actual\n",
        "\n",
        "fig.add_trace(\n",
        "    go.Scatter(\n",
        "        x = user_meta_label_df['days_from_joined'],\n",
        "        y = user_meta_label_df['age'],\n",
        "        mode = 'markers',\n",
        "\n",
        "\n",
        "    ),\n",
        "    row = 1,\n",
        "    col = 1\n",
        ")\n",
        "\n",
        "# Algorithm\n",
        "\n",
        "fig.add_trace(\n",
        "    go.Scatter(\n",
        "        x = user_meta_label_df['days_from_joined'],\n",
        "        y = user_meta_label_df['age'],\n",
        "        mode = 'markers',\n",
        "        marker = dict(color = user_meta_label_df['label_km'])\n",
        "\n",
        "\n",
        "    ),\n",
        "    row = 1,\n",
        "    col = 2\n",
        ")\n",
        "\n",
        "fig.update_layout(width = 1000, height = 600)\n",
        "fig.show()"
      ],
      "execution_count": 78,
      "outputs": [
        {
          "output_type": "display_data",
          "data": {
            "text/html": [
              "<html>\n",
              "<head><meta charset=\"utf-8\" /></head>\n",
              "<body>\n",
              "    <div>\n",
              "            <script src=\"https://cdnjs.cloudflare.com/ajax/libs/mathjax/2.7.5/MathJax.js?config=TeX-AMS-MML_SVG\"></script><script type=\"text/javascript\">if (window.MathJax) {MathJax.Hub.Config({SVG: {font: \"STIX-Web\"}});}</script>\n",
              "                <script type=\"text/javascript\">window.PlotlyConfig = {MathJaxConfig: 'local'};</script>\n",
              "        <script src=\"https://cdn.plot.ly/plotly-latest.min.js\"></script>    \n",
              "            <div id=\"091eed93-b5b5-484d-89cf-0587f10c84d2\" class=\"plotly-graph-div\" style=\"height:600px; width:1000px;\"></div>\n",
              "            <script type=\"text/javascript\">\n",
              "                \n",
              "                    window.PLOTLYENV=window.PLOTLYENV || {};\n",
              "                    \n",
              "                if (document.getElementById(\"091eed93-b5b5-484d-89cf-0587f10c84d2\")) {\n",
              "                    Plotly.newPlot(\n",
              "                        '091eed93-b5b5-484d-89cf-0587f10c84d2',\n",
              "                        [{\"mode\": \"markers\", \"type\": \"scatter\", \"x\": [0.413546255506608, 0.2990088105726873, 0.0842511013215859, 0.5165198237885463, 0.14482378854625552, 0.420704845814978, 0.4620044052863437, 0.27477973568281944, 0.4284140969162996, 0.6189427312775331, 0.03634361233480177, 0.04680616740088107, 0.2274229074889868, 0.4140969162995595, 0.61784140969163, 0.1685022026431718, 0.4686123348017622, 0.07433920704845816, 0.6150881057268723, 0.48898678414096924, 0.1828193832599119, 0.3491189427312776, 0.3056167400881058, 0.3188325991189428, 0.028083700440528638, 0.3166299559471366, 0.06057268722466961, 0.5490088105726872, 0.8160792951541851, 0.00881057268722467, 0.4218061674008811, 0.2940528634361234, 0.058370044052863446, 0.1696035242290749, 0.5044052863436124, 0.585352422907489, 0.4994493392070485, 0.6718061674008812, 0.40143171806167405, 0.0033039647577092516, 0.2290748898678414, 0.34581497797356836, 0.4085903083700441, 0.907488986784141, 0.682819383259912, 0.1194933920704846, 0.11508810572687225, 0.6321585903083701, 0.25110132158590315, 0.223568281938326, 0.6332599118942732, 0.3083700440528635, 0.670704845814978, 0.08480176211453745, 0.10627753303964758, 0.5941629955947137, 0.29240088105726875, 0.4498898678414098, 0.25000000000000006, 0.012114537444933921, 0.1668502202643172, 0.001101321585903084, 0.23072687224669605, 0.7389867841409693, 0.05726872246696036, 0.29625550660792954, 0.1261013215859031, 0.4030837004405287, 0.9179515418502203, 0.6409691629955948, 0.8232378854625552, 0.18061674008810574, 0.09416299559471367, 0.637114537444934, 0.05506607929515419, 0.7775330396475771, 0.07984581497797358, 0.9779735682819385, 0.07323788546255507, 0.26156387665198244, 0.4190528634361234, 0.21145374449339208, 0.8617841409691631, 0.019823788546255508, 0.5187224669603525, 0.7075991189427314, 0.03854625550660794, 0.09966960352422909, 0.328193832599119, 0.05231277533039649, 0.8193832599118944, 0.22522026431718065, 0.20539647577092512, 0.21640969162995596, 0.5269823788546256, 0.20704845814977976, 0.4845814977973569, 0.1668502202643172, 0.5110132158590309, 0.2290748898678414, 0.053414096916299565, 0.37114537444933926, 0.08314977973568283, 0.6602422907488987, 0.3436123348017622, 0.5236784140969164, 0.37500000000000006, 0.05231277533039649, 0.0060572687224669615, 0.4625550660792952, 0.14702643171806168, 0.38766519823788553, 0.23348017621145375, 0.04405286343612336, 0.8970264317180617, 0.572136563876652, 0.25550660792951546, 0.5247797356828194, 0.0644273127753304, 0.4300660792951542, 0.48513215859030845, 0.6007709251101322, 0.7802863436123348, 0.3397577092511014, 0.47466960352422916, 0.1723568281938326, 0.40363436123348023, 0.029735682819383262, 0.27477973568281944, 0.058370044052863446, 0.07929515418502203, 0.022026431718061675, 0.3386563876651983, 0.02092511013215859, 0.2599118942731278, 0.12114537444933922, 0.40914096916299564, 0.5165198237885463, 0.06883259911894274, 0.09416299559471367, 0.629955947136564, 0.413546255506608, 0.37224669603524235, 0.10077092511013216, 0.3193832599118943, 0.48953744493392076, 0.4620044052863437, 0.6657488986784141, 0.08920704845814978, 0.9229074889867842, 0.748898678414097, 0.5517621145374451, 0.15308370044052863, 0.7202643171806168, 0.4553964757709252, 0.756057268722467, 0.4190528634361234, 0.3860132158590309, 0.11618942731277533, 0.5886563876651983, 0.4421806167400882, 0.4658590308370045, 0.1222466960352423, 0.3199339207048459, 0.02588105726872247, 0.0038546255506607934, 0.5859030837004406, 0.1800660792951542, 0.09030837004405287, 0.6079295154185023, 0.7665198237885463, 0.2808370044052864, 0.8926211453744495, 0.3612334801762115, 0.8898678414096918, 0.3386563876651983, 0.5203744493392071, 0.3177312775330397, 0.9350220264317182, 0.3612334801762115, 0.06828193832599119, 0.4515418502202644, 0.06277533039647577, 0.13491189427312777, 0.1668502202643172, 0.7797356828193833, 0.11288546255506608, 0.028083700440528638, 0.6993392070484582, 0.3155286343612335, 0.03248898678414097, 0.2285242290748899, 0.2874449339207049, 0.6662995594713658, 0.6596916299559472, 0.2263215859030837, 0.07709251101321586, 0.26486784140969166, 0.8248898678414098, 0.597466960352423, 0.5038546255506609, 0.4240088105726873, 0.40638766519823794, 0.9416299559471367, 0.8711453744493393, 0.001101321585903084, 0.25220264317180624, 0.058370044052863446, 0.05671806167400882, 0.12334801762114538, 0.2901982378854626, 0.8937224669603525, 0.3193832599118943, 0.031387665198237893, 0.5523127753303966, 0.8882158590308371, 0.050660792951541855, 0.7026431718061675, 0.1525330396475771, 0.29350220264317184, 0.052863436123348026, 0.7698237885462555, 0.6998898678414098, 0.1734581497797357, 0.564977973568282, 0.25110132158590315, 0.7758810572687226, 0.4212555066079296, 0.11674008810572688, 0.4113436123348018, 0.38491189427312783, 0.09526431718061674, 0.14262114537444934, 0.8325991189427314, 0.33535242290748907, 0.05176211453744494, 0.5269823788546256, 0.2533039647577093, 0.1894273127753304, 0.25715859030837007, 0.17290748898678415, 0.009911894273127754, 0.15143171806167402, 0.4295154185022027, 0.07984581497797358, 0.23623348017621146, 0.49394273127753313, 0.022577092511013218, 0.6327092511013217, 0.48348017621145384, 0.6013215859030838, 0.518171806167401, 0.18226872246696035, 0.02918502202643172, 0.5605726872246697, 0.48623348017621154, 0.223568281938326, 0.7059471365638768, 0.10462555066079296, 0.5258810572687226, 0.15859030837004406, 0.03303964757709252, 0.17125550660792951, 0.3215859030837005, 0.39372246696035246, 0.47742290748898686, 0.02918502202643172, 0.314977973568282, 0.5715859030837005, 0.0919603524229075, 0.4410792951541851, 0.334251101321586, 0.6475770925110133, 0.7654185022026433, 0.1591409691629956, 0.05176211453744494, 0.4443832599118943, 0.1563876651982379, 0.9366740088105728, 0.7406387665198239, 0.20649779735682822, 0.21640969162995596, 0.295704845814978, 0.1261013215859031, 0.26707048458149785, 0.07709251101321586, 0.38270925110132165, 0.007158590308370045, 0.047356828193832606, 0.18887665198237888, 0.5396475770925111, 0.49339207048458156, 0.6883259911894274, 0.019273127753303965, 0.8265418502202644, 0.4432819383259913, 0.5969162995594715, 0.39867841409691634, 0.5319383259911895, 0.6145374449339208, 0.8887665198237886, 0.38656387665198244, 0.18722466960352424, 0.013766519823788547, 0.5897577092511014, 0.5005506607929516, 0.37940528634361237, 0.354625550660793, 0.9823788546255507, 0.0005506607929515419, 0.029735682819383262, 0.328193832599119, 0.11398678414096917, 0.3061674008810573, 0.4289647577092512, 0.2312775330396476, 0.4779735682819384, 0.29185022026431723, 0.09746696035242292, 0.754955947136564, 0.4185022026431719, 0.4229074889867842, 0.06002202643171807, 0.1745594713656388, 0.19218061674008813, 0.6387665198237886, 0.04019823788546256, 0.13711453744493393, 0.7665198237885463, 0.3050660792951542, 0.4278634361233481, 0.024229074889867842, 0.29185022026431723, 0.5126651982378856, 0.16464757709251102, 0.09966960352422909, 0.5677312775330398, 0.25385462555066085, 0.11068281938325991, 0.12444933920704845, 0.4454845814977974, 0.5011013215859031, 0.12444933920704845, 0.4361233480176212, 0.4994493392070485, 0.10407488986784141, 0.05396475770925111, 0.9686123348017622, 0.29735682819383263, 0.5925110132158591, 0.7505506607929516, 0.15088105726872247, 0.557819383259912, 0.04019823788546256, 0.13491189427312777, 0.2483480176211454, 0.2505506607929516, 0.015418502202643174, 0.27147577092511016, 0.4449339207048459, 0.029735682819383262, 0.07764317180616741, 0.623898678414097, 0.053414096916299565, 0.5346916299559472, 0.27202643171806173, 0.7064977973568283, 0.21145374449339208, 0.25825991189427316, 0.5660792951541851, 0.8386563876651983, 0.36563876651982385, 0.604625550660793, 0.17180616740088106, 0.7158590308370045, 0.03359030837004406, 0.17290748898678415, 0.21916299559471367, 0.23568281938325994, 0.12830396475770925, 0.21475770925110133, 0.19383259911894274, 0.6150881057268723, 0.3425110132158591, 0.19603524229074892, 0.7466960352422909, 0.24284140969162998, 0.8447136563876653, 0.7406387665198239, 0.5699339207048459, 0.5980176211453745, 0.5088105726872247, 0.7340308370044054, 0.08700440528634362, 0.10187224669603524, 0.20925110132158592, 0.06718061674008811, 0.017070484581497798, 0.6800660792951543, 0.3232378854625551, 0.854625550660793, 0.2890969162995595, 0.0644273127753304, 0.030286343612334805, 0.10187224669603524, 0.9922907488986785, 0.17841409691629956, 0.5594713656387666, 0.4911894273127754, 0.4229074889867842, 0.03689427312775331, 0.0038546255506607934, 0.17841409691629956, 0.13381057268722468, 0.21585903083700442, 0.26266519823788553, 0.6150881057268723, 0.0908590308370044, 0.5837004405286345, 0.45374449339207057, 0.4124449339207049, 0.768171806167401, 0.11123348017621146, 0.6040748898678415, 0.49669603524229083, 0.18502202643171808, 0.7626651982378856, 0.5099118942731278, 0.4317180616740089, 0.38381057268722474, 0.04405286343612336, 0.5963656387665199, 0.5776431718061675, 0.4162995594713657, 0.018722466960352423, 0.532488986784141, 0.183920704845815, 0.04680616740088107, 0.3469162995594714, 0.18226872246696035, 0.17180616740088106, 0.11288546255506608, 0.07158590308370044, 0.10132158590308371, 0.3177312775330397, 0.8177312775330398, 0.2703744493392071, 0.7648678414096918, 0.19438325991189428, 0.38656387665198244, 0.7175110132158591, 0.042400881057268726, 0.5611233480176212, 0.5583700440528635, 0.10297356828193834, 0.24339207048458153, 0.5765418502202644, 0.0060572687224669615, 0.05671806167400882, 0.5947136563876653, 0.08204845814977973, 0.27422907488986786, 0.05231277533039649, 0.19658590308370044, 0.9443832599118944, 0.10903083700440529, 0.25660792951541855, 0.23568281938325994, 0.2912995594713657, 0.9581497797356829, 0.3557268722466961, 0.5798458149779736, 0.019273127753303965, 0.15088105726872247, 0.3138766519823789, 0.781387665198238, 0.3006607929515419, 0.1800660792951542, 0.5666299559471366, 0.016519823788546256, 0.03248898678414097, 0.6596916299559472, 0.35627753303964765, 0.055616740088105736, 0.3160792951541851, 0.48403083700440536, 0.17676211453744495, 0.35352422907488995, 0.3226872246696036, 0.26211453744493396, 0.4289647577092512, 0.35242290748898686, 0.07654185022026432, 0.4058370044052864, 0.031387665198237893, 0.024229074889867842, 0.05451541850220265, 0.86784140969163, 0.400330396475771, 0.11894273127753305, 0.030837004405286344, 0.5848017621145375, 0.1354625550660793, 0.41189427312775334, 0.3309471365638767, 0.2863436123348018, 0.48733480176211463, 0.07544052863436124, 0.3436123348017622, 0.3298458149779736, 0.050110132158590316, 0.6437224669603525, 0.1156387665198238, 0.5892070484581499, 0.4113436123348018, 0.29074889867841414, 0.2389867841409692, 0.7186123348017622, 0.5148678414096917, 0.15363436123348018, 0.36563876651982385, 0.6382158590308371, 0.48843612334801767, 0.6894273127753305, 0.2378854625550661, 0.3507709251101322, 0.6514317180616741, 0.7257709251101323, 0.13436123348017623, 0.3072687224669604, 0.37334801762114544, 0.27863436123348023, 0.170704845814978, 0.4146475770925111, 0.056167400881057275, 0.08700440528634362, 0.21145374449339208, 0.5892070484581499, 0.8997797356828194, 0.6894273127753305, 0.028634361233480177, 0.3529735682819384, 0.7857929515418504, 0.4245594713656388, 0.10737885462555066, 0.27257709251101325, 0.4212555066079296, 0.7494493392070486, 0.03579295154185023, 0.6464757709251102, 0.22962555066079296, 0.013215859030837005, 0.3755506607929516, 0.459251101321586, 0.3430616740088106, 0.4361233480176212, 0.34966960352422916, 0.301762114537445, 0.6844713656387666, 0.7329295154185023, 0.02092511013215859, 0.03579295154185023, 0.01762114537444934, 0.39096916299559475, 0.29735682819383263, 0.2417400881057269, 0.4174008810572688, 0.19107929515418504, 0.5231277533039649, 0.33810572687224677, 0.6651982378854626, 0.047907488986784146, 0.4085903083700441, 0.10737885462555066, 0.9394273127753305, 0.314977973568282, 0.23348017621145375, 0.5490088105726872, 0.13876651982378854, 0.11784140969162996, 0.044603524229074897, 0.7659691629955948, 0.35517621145374456, 0.38931718061674014, 0.28689427312775334, 0.055616740088105736, 0.20539647577092512, 0.6305066079295155, 0.10187224669603524, 0.2940528634361234, 0.400330396475771, 0.7120044052863437, 0.5611233480176212, 0.061674008810572695, 0.8050660792951543, 0.236784140969163, 0.36563876651982385, 0.07433920704845816, 0.1591409691629956, 0.9922907488986785, 0.426762114537445, 0.1459251101321586, 0.061123348017621155, 0.5512114537444934, 0.18502202643171808, 0.19988986784140972, 0.40143171806167405, 0.8540748898678415, 0.21090308370044056, 0.3320484581497798, 0.34856828193832606, 0.13325991189427314, 0.72852422907489, 0.5424008810572688, 0.308920704845815, 0.11013215859030838, 0.6062775330396477, 0.25825991189427316, 0.295704845814978, 0.3370044052863437, 0.4047356828193833, 0.058370044052863446, 0.4284140969162996, 0.23953744493392073, 0.49394273127753313, 0.6376651982378856, 0.0005506607929515419, 0.047907488986784146, 0.20429515418502203, 0.20870044052863437, 0.04955947136563878, 0.38491189427312783, 0.38766519823788553, 0.25770925110132165, 0.3166299559471366, 0.7566079295154186, 0.4344713656387666, 0.170704845814978, 0.5044052863436124, 0.13766519823788548, 0.20594713656387667, 0.5352422907488987, 0.6602422907488987, 0.26486784140969166, 0.37004405286343617, 0.09306167400881057, 0.38931718061674014, 0.1288546255506608, 0.3309471365638767, 0.011563876651982379, 0.6095814977973569, 0.21310572687224671, 0.8689427312775332, 0.08314977973568283, 0.04625550660792952, 0.055616740088105736, 0.39427312775330403, 0.3331497797356829, 0.7461453744493393, 0.7857929515418504, 0.3755506607929516, 0.4146475770925111, 0.13601321585903084, 0.38711453744493396, 0.10462555066079296, 0.6294052863436124, 0.4151982378854626, 0.10352422907488987, 0.35792951541850226, 0.48733480176211463, 0.564977973568282, 0.03579295154185023, 0.3491189427312776, 0.04570484581497798, 0.432819383259912, 0.45649779735682827, 0.7455947136563877, 0.2505506607929516, 0.5286343612334803, 0.7670704845814978, 0.5275330396475771, 0.3425110132158591, 0.10132158590308371, 0.48898678414096924, 0.49284140969163004, 0.7461453744493393, 0.016519823788546256, 0.27367841409691634, 0.5022026431718062, 0.3133259911894274, 0.12665198237885464, 0.768171806167401, 0.03689427312775331, 0.06607929515418502, 0.19218061674008813, 0.04129955947136565, 0.13436123348017623, 0.4306167400881058, 0.9322687224669605, 0.6514317180616741, 0.15308370044052863, 0.23182819383259914, 0.8166299559471366, 0.5490088105726872, 0.5539647577092511, 0.39482378854625555, 0.49284140969163004, 0.5044052863436124, 0.4146475770925111, 0.058370044052863446, 0.11618942731277533, 0.2505506607929516, 0.1668502202643172, 0.8359030837004406, 0.12830396475770925, 0.34856828193832606, 0.5297356828193833, 0.689977973568282, 0.4493392070484582, 0.28579295154185025, 0.3248898678414097, 0.39427312775330403, 0.09801762114537445, 0.19548458149779738, 0.9454845814977975, 0.27588105726872253, 0.7109030837004406, 0.6211453744493393, 0.8408590308370045, 0.5605726872246697, 0.27367841409691634, 0.1194933920704846, 0.9884361233480178, 0.6850220264317182, 0.5941629955947137, 0.73568281938326, 0.25605726872246704, 0.09030837004405287, 0.49174008810572695, 0.20594713656387667, 0.1618942731277533, 0.504955947136564, 0.1194933920704846, 0.26817180616740094, 0.49339207048458156, 0.06057268722466961, 0.08975770925110133, 0.11288546255506608, 0.17841409691629956, 0.7648678414096918, 0.48237885462555075, 0.47246696035242297, 0.2290748898678414, 0.3006607929515419, 0.5038546255506609, 0.08480176211453745, 0.07213656387665199, 0.7301762114537446, 0.5776431718061675, 0.14096916299559473, 0.5154185022026433, 0.3116740088105727, 0.26651982378854633, 0.2912995594713657, 0.5930616740088106, 0.5407488986784141, 0.61784140969163, 0.1194933920704846, 0.028083700440528638, 0.0881057268722467, 0.3661894273127754, 0.7648678414096918, 0.3557268722466961, 0.703193832599119, 0.4598017621145375, 0.12775330396475773, 0.8590308370044054, 0.1696035242290749, 0.2769823788546256, 0.056167400881057275, 0.062224669603524234, 0.08370044052863436, 0.3584801762114538, 0.24284140969162998, 0.8777533039647578, 0.3953744493392071, 0.7610132158590309, 0.03359030837004406, 0.18226872246696035, 0.5220264317180617, 0.5501101321585904, 0.16795154185022027, 0.27643171806167405, 0.3375550660792952, 0.27863436123348023, 0.301762114537445, 0.6514317180616741, 0.4190528634361234, 0.07433920704845816, 0.04625550660792952, 0.3215859030837005, 0.15583700440528636, 0.5820484581497798, 0.4350220264317181, 0.21255506607929517, 0.3034140969162996, 0.6514317180616741, 0.11894273127753305, 0.12720264317180618, 0.1563876651982379, 0.09636563876651982, 0.506057268722467, 0.06773127753303965, 0.11288546255506608, 0.08755506607929515, 0.48898678414096924, 0.18722466960352424, 0.8243392070484582, 0.5187224669603525, 0.6536343612334803, 0.5005506607929516, 0.4069383259911895, 0.17015418502202645, 0.14207048458149782, 0.007158590308370045, 0.6250000000000001, 0.0033039647577092516, 0.2505506607929516, 0.052863436123348026, 0.05396475770925111, 0.26651982378854633, 0.21751101321585906, 0.017070484581497798, 0.13656387665198239, 0.37224669603524235, 0.9432819383259913, 0.3441629955947137, 0.197136563876652, 0.7808370044052865, 0.0060572687224669615, 0.7026431718061675, 0.47742290748898686, 0.16629955947136565, 0.08975770925110133, 0.3309471365638767, 0.4702643171806168, 0.5952643171806168, 0.03909691629955948, 0.37169603524229083, 0.2329295154185022, 0.012114537444933921, 0.29625550660792954, 0.07378854625550661, 0.07158590308370044, 0.07984581497797358, 0.637114537444934, 0.6349118942731279, 0.8430616740088107, 0.4779735682819384, 0.5468061674008812, 0.4542951541850221, 0.00275330396475771, 0.8061674008810573, 0.1459251101321586, 0.3612334801762115, 0.40143171806167405, 0.11894273127753305, 0.2444933920704846, 0.17566079295154186, 0.6205947136563877, 0.3375550660792952, 0.06057268722466961, 0.4394273127753305, 0.3430616740088106, 0.04295154185022027, 0.4212555066079296, 0.5429515418502203, 0.03248898678414097, 0.061674008810572695, 0.6073788546255507, 0.841409691629956, 0.47852422907488995, 0.5837004405286345, 0.2329295154185022, 0.28138766519823794, 0.047356828193832606, 0.17125550660792951, 0.17125550660792951, 0.49669603524229083, 0.19438325991189428, 0.6712555066079297, 0.03689427312775331, 0.30011013215859034, 0.26431718061674014, 0.4465859030837005, 0.3860132158590309, 0.23182819383259914, 0.0947136563876652, 0.15418502202643172, 0.46530837004405295, 0.49889867841409696, 0.48623348017621154, 0.24118942731277535, 0.30121145374449343, 0.20484581497797358, 0.2835903083700441, 0.19658590308370044, 0.3992290748898679, 0.36068281938325997, 0.30671806167400884, 0.058920704845814985, 0.17015418502202645, 0.06387665198237885, 0.16354625550660795, 0.03303964757709252, 0.12444933920704845, 0.38270925110132165, 0.05176211453744494, 0.19107929515418504, 0.48678414096916306, 0.015418502202643174, 0.7444933920704847, 0.4845814977973569, 0.1877753303964758, 0.0814977973568282, 0.8006607929515419, 0.41299559471365643, 0.19988986784140972, 0.30121145374449343, 0.25715859030837007, 0.5776431718061675, 0.6316079295154186, 0.709251101321586, 0.030286343612334805, 0.2301762114537445, 0.3243392070484582, 0.4587004405286344, 0.39867841409691634, 0.5743392070484582, 0.4845814977973569, 0.506057268722467, 0.12389867841409692, 0.22797356828193835, 0.38381057268722474, 0.03469162995594714, 0.20649779735682822, 0.5236784140969164, 0.021475770925110133, 0.5148678414096917, 0.3981277533039648, 0.1393171806167401, 0.5958149779735684, 0.7279735682819384, 0.5622246696035244, 0.3463656387665199, 0.5512114537444934, 0.0512114537444934, 0.26707048458149785, 0.0578193832599119, 0.47962555066079304, 0.12279735682819384, 0.25660792951541855, 0.17676211453744495, 0.11398678414096917, 0.6784140969162996, 0.37169603524229083, 0.5583700440528635, 0.5330396475770925, 0.08865638766519825, 0.3325991189427313, 0.557819383259912, 0.05176211453744494, 0.2389867841409692, 0.7626651982378856, 0.197136563876652, 0.2472466960352423, 0.7593612334801763, 0.1629955947136564, 0.656387665198238, 0.6316079295154186, 0.37279735682819387, 0.5726872246696036, 0.38050660792951546, 0.10407488986784141, 0.8094713656387666, 0.25715859030837007, 0.5401982378854626, 0.17125550660792951, 0.8871145374449341, 0.36729074889867847, 0.1299559471365639, 0.8689427312775332, 0.6360132158590309, 0.4185022026431719, 0.3821585903083701, 0.3248898678414097, 0.4768722466960353, 0.27588105726872253, 0.16740088105726875, 0.8882158590308371, 0.04570484581497798, 0.5379955947136564, 0.29074889867841414, 0.2197136563876652, 0.13436123348017623, 0.7439427312775332, 0.09636563876651982, 0.019273127753303965, 0.007709251101321586, 0.06332599118942732, 0.12444933920704845, 0.6685022026431718, 0.06883259911894274, 0.5765418502202644, 0.06828193832599119, 0.031387665198237893, 0.38491189427312783, 0.6183920704845816, 0.8766519823788548, 0.6211453744493393, 0.20429515418502203, 0.4300660792951542, 0.7158590308370045, 0.12169603524229075, 0.2263215859030837, 0.4350220264317181, 0.6580396475770925, 0.6007709251101322, 0.08204845814977973, 0.03964757709251102, 0.3177312775330397, 0.4124449339207049, 0.341409691629956, 0.33149779735682827, 0.6161894273127754, 0.223568281938326, 0.17566079295154186, 0.15363436123348018, 0.7879955947136564, 0.1668502202643172, 0.1316079295154185, 0.4344713656387666, 0.18612334801762115, 0.892070484581498, 0.5792951541850221, 0.7665198237885463, 0.5897577092511014, 0.14262114537444934, 0.5903083700440529, 0.5203744493392071, 0.2301762114537445, 0.03634361233480177, 0.5980176211453745, 0.308920704845815, 0.7742290748898679, 0.8314977973568283, 0.16519823788546256, 0.6552863436123348, 0.3337004405286344, 0.22191629955947137, 0.018171806167400884, 0.2290748898678414, 0.6905286343612336, 0.6437224669603525, 0.1156387665198238, 0.005506607929515419, 0.024779735682819385, 0.2703744493392071, 0.1811674008810573, 0.46916299559471375, 0.06662995594713657, 0.3325991189427313, 0.6453744493392072, 0.210352422907489, 0.08094713656387666, 0.19493392070484583, 0.20980176211453747, 0.27147577092511016, 0.009911894273127754, 0.9333700440528635, 0.17400881057268724, 0.45374449339207057, 0.17015418502202645, 0.5176211453744494, 0.3370044052863437, 0.18171806167400884, 0.11508810572687225, 0.7797356828193833, 0.39977973568281944, 0.5748898678414097, 0.4768722466960353, 0.11618942731277533, 0.5418502202643173, 0.17125550660792951, 0.4410792951541851, 0.012114537444933921, 0.0038546255506607934, 0.08645374449339208, 0.6112334801762115, 0.23733480176211455, 0.2990088105726873, 0.26101321585903087, 0.8601321585903084, 0.3518722466960353, 0.7912995594713658, 0.4807268722466961, 0.504955947136564, 0.5881057268722468, 0.21475770925110133, 0.19988986784140972, 0.40803964757709255, 0.13986784140969163, 0.03303964757709252, 0.024779735682819385, 0.7131057268722468, 0.16244493392070486, 0.4416299559471366, 0.006607929515418503, 0.7841409691629957, 0.6205947136563877, 0.5286343612334803, 0.17290748898678415, 0.585352422907489, 0.27808370044052866, 0.37059471365638774, 0.49394273127753313, 0.1828193832599119, 0.793502202643172, 0.24118942731277535, 0.5330396475770925, 0.3133259911894274, 0.12059471365638767, 0.4333700440528635, 0.6905286343612336, 0.15308370044052863, 0.49559471365638774, 0.4295154185022027, 0.25220264317180624, 0.4306167400881058, 0.05396475770925111, 0.5005506607929516, 0.19218061674008813, 0.13381057268722468, 0.11894273127753305, 0.07158590308370044, 0.3364537444933921, 0.8904185022026433, 0.6272026431718063, 0.4058370044052864, 0.030837004405286344, 0.35517621145374456, 0.16464757709251102, 0.8436123348017622, 0.6569383259911895, 0.08259911894273128, 0.6288546255506609, 0.11288546255506608, 0.37720264317180624, 0.15363436123348018, 0.40803964757709255, 0.37610132158590315, 0.5561674008810573, 0.413546255506608, 0.341409691629956, 0.042400881057268726, 0.40143171806167405, 0.27202643171806173, 0.04019823788546256, 0.16409691629955947, 0.07544052863436124, 0.03193832599118943, 0.571035242290749, 0.4625550660792952, 0.24229074889867844, 0.1894273127753304, 0.47191629955947145, 0.1811674008810573, 0.0512114537444934, 0.06387665198237885, 0.024779735682819385, 0.5644273127753304, 0.12444933920704845, 0.02312775330396476, 0.6541850220264318, 0.35627753303964765, 0.13601321585903084, 0.0881057268722467, 0.11398678414096917, 0.13215859030837004, 0.36013215859030845, 0.7274229074889869, 0.9322687224669605, 0.49063876651982385, 0.14151982378854627, 0.7709251101321587, 0.8287444933920706, 0.38381057268722474, 0.46145374449339216, 0.26651982378854633, 0.20814977973568283, 0.19823788546255508, 0.37004405286343617, 0.420704845814978, 0.27808370044052866, 0.36178414096916306, 0.6712555066079297, 0.8639867841409693, 0.0033039647577092516, 0.3408590308370045, 0.170704845814978, 0.6294052863436124, 0.41685022026431723, 0.4295154185022027, 0.6448237885462555, 0.28689427312775334, 0.12059471365638767, 0.14262114537444934, 0.08535242290748898, 0.10297356828193834, 0.06828193832599119, 0.7577092511013217, 0.4911894273127754, 0.47081497797356836, 0.4427312775330397, 0.017070484581497798, 0.48568281938325997, 0.9135462555066081, 0.09140969162995595, 0.21751101321585906, 0.6398678414096917, 0.1828193832599119, 0.1685022026431718, 0.2180616740088106, 0.20649779735682822, 0.6073788546255507, 0.3237885462555067, 0.9344713656387666, 0.28193832599118945, 0.1811674008810573, 0.2483480176211454, 0.34966960352422916, 0.39041850220264324, 0.4218061674008811, 0.3623348017621146, 0.10297356828193834, 0.5947136563876653, 0.7615638766519824, 0.23733480176211455, 0.23458149779735685, 0.7912995594713658, 0.5148678414096917, 0.12004405286343613, 0.3287444933920705, 0.5214757709251102, 0.5941629955947137, 0.36949339207048465, 0.05396475770925111, 0.34746696035242297, 0.8215859030837005, 0.3502202643171807, 0.38381057268722474, 0.03689427312775331, 0.26982378854625555, 0.19933920704845817, 0.2984581497797357, 0.3964757709251102, 0.2846916299559472, 0.3100220264317181, 0.3502202643171807, 0.46530837004405295, 0.35792951541850226, 0.7951541850220265, 0.5225770925110133, 0.16795154185022027, 0.3303964757709252, 0.30671806167400884, 0.2968061674008811, 0.41189427312775334, 0.5302863436123348, 0.06332599118942732, 0.531387665198238, 0.13105726872246698, 0.06773127753303965, 0.9350220264317182, 0.35517621145374456, 0.7213656387665199, 0.14757709251101322, 0.4372246696035243, 0.3821585903083701, 0.04185022026431719, 0.26596916299559475, 0.7048458149779736, 0.0644273127753304, 0.25000000000000006, 0.572136563876652, 0.9421806167400882, 0.001101321585903084, 0.36839207048458156, 0.4730176211453745, 0.07213656387665199, 0.26046255506607935, 0.4212555066079296, 0.2169603524229075, 0.3006607929515419, 0.3160792951541851, 0.3992290748898679, 0.3507709251101322, 0.06607929515418502, 0.7042951541850221, 0.36729074889867847, 0.1745594713656388, 0.18171806167400884, 0.5693832599118943, 0.6784140969162996, 0.17015418502202645, 0.7257709251101323, 0.4504405286343613, 0.4443832599118943, 0.4487885462555067, 0.2979074889867842, 0.4741189427312776, 0.7665198237885463, 0.09966960352422909, 0.8083700440528635, 0.058920704845814985, 0.6618942731277534, 0.019823788546255508, 0.5787444933920706, 0.0814977973568282, 0.5401982378854626, 0.0038546255506607934, 0.7042951541850221, 0.7725770925110134, 0.7830396475770927, 0.26046255506607935, 0.5567180616740088, 0.2351321585903084, 0.38986784140969166, 0.8733480176211454, 0.09911894273127754, 0.8843612334801764, 0.4096916299559472, 0.1905286343612335, 0.7626651982378856, 0.5715859030837005, 0.5236784140969164, 0.15143171806167402, 0.09361233480176212, 0.17125550660792951, 0.4019823788546256, 0.578193832599119, 0.7098017621145375, 0.5825991189427313, 0.4432819383259913, 0.506057268722467, 0.4405286343612335, 0.04129955947136565, 0.37279735682819387, 0.4218061674008811, 0.5115638766519824, 0.19162995594713658, 0.7208149779735684, 0.24944933920704845, 0.459251101321586, 0.07158590308370044, 0.22577092511013216, 0.25605726872246704, 0.2444933920704846, 0.5892070484581499, 0.3034140969162996, 0.722466960352423, 0.6872246696035244, 0.3661894273127754, 0.28303964757709255, 0.45374449339207057, 0.7059471365638768, 0.28524229074889873, 0.5435022026431718, 0.06552863436123348, 0.3226872246696036, 0.3331497797356829, 0.3259911894273128, 0.4609030837004406, 0.5892070484581499, 0.6156387665198239, 0.06828193832599119, 0.45649779735682827, 0.3078193832599119, 0.10022026431718062, 0.8513215859030838, 0.07599118942731278, 0.6569383259911895, 0.5468061674008812, 0.3463656387665199, 0.6729074889867842, 0.012665198237885464, 0.39041850220264324, 0.009361233480176211, 0.3177312775330397, 0.2703744493392071, 0.3199339207048459, 0.34966960352422916, 0.19988986784140972, 0.2835903083700441, 0.459251101321586, 0.14262114537444934, 0.5688325991189428, 0.6585903083700442, 0.19768722466960353, 0.16409691629955947, 0.27092511013215864, 0.47907488986784147, 0.36563876651982385, 0.446035242290749, 0.5903083700440529, 0.13436123348017623, 0.1299559471365639, 0.05451541850220265, 0.48292951541850226, 0.6558370044052865, 0.3226872246696036, 0.0060572687224669615, 0.4581497797356829, 0.0407488986784141, 0.0022026431718061676, 0.8744493392070486, 0.0407488986784141, 0.7819383259911895, 0.6954845814977975, 0.3237885462555067, 0.0033039647577092516, 0.07764317180616741, 0.007158590308370045, 0.15969162995594716, 0.15748898678414097, 0.4421806167400882, 0.06773127753303965, 0.8348017621145375, 0.37610132158590315, 0.07654185022026432, 0.10407488986784141, 0.34196035242290757, 0.11729074889867842, 0.03248898678414097, 0.8436123348017622, 0.4179515418502203, 0.4306167400881058, 0.5357929515418502, 0.6211453744493393, 0.5429515418502203, 0.30671806167400884, 0.41189427312775334, 0.16409691629955947, 0.01762114537444934, 0.6068281938325992, 0.2769823788546256, 0.14537444933920707, 0.183920704845815, 0.018171806167400884, 0.05671806167400882, 0.16409691629955947, 0.19603524229074892, 0.7114537444933922, 0.6332599118942732, 0.22577092511013216, 0.49614537444933926, 0.022577092511013218, 0.28799559471365643, 0.49614537444933926, 0.48843612334801767, 0.22246696035242292, 0.20429515418502203, 0.18337004405286345, 0.05506607929515419, 0.055616740088105736, 0.1811674008810573, 0.4598017621145375, 0.11343612334801763, 0.07764317180616741, 0.20154185022026433, 0.2169603524229075, 0.5759911894273129, 0.3469162995594714, 0.3182819383259912, 0.19107929515418504, 0.48953744493392076, 0.4372246696035243, 0.6795154185022028, 0.40914096916299564, 0.3612334801762115, 0.28524229074889873, 0.6585903083700442, 0.04185022026431719, 0.4405286343612335, 0.7208149779735684, 0.8348017621145375, 0.12444933920704845, 0.4498898678414098, 0.8441629955947137, 0.20044052863436124, 0.23182819383259914, 0.004955947136563877, 0.09801762114537445, 0.46035242290748907, 0.25275330396475776, 0.39867841409691634, 0.49063876651982385, 0.3259911894273128, 0.210352422907489, 0.8188325991189428, 0.3309471365638767, 0.23348017621145375, 0.20980176211453747, 0.3287444933920705, 0.49559471365638774, 0.5726872246696036, 0.1685022026431718, 0.11343612334801763, 0.40363436123348023, 0.23953744493392073, 0.3188325991189428, 0.07929515418502203, 0.052863436123348026, 0.22522026431718065, 0.35903083700440536, 0.39592511013215864, 0.1828193832599119, 0.19548458149779738, 0.7648678414096918, 0.02588105726872247, 0.518171806167401, 0.48182819383259917, 0.30396475770925113, 0.38931718061674014, 0.9432819383259913, 0.6261013215859031, 0.6398678414096917, 0.7213656387665199, 0.08700440528634362, 0.2731277533039648, 0.38766519823788553, 0.6013215859030838, 0.04625550660792952, 0.11618942731277533, 0.21475770925110133, 0.47081497797356836, 0.7323788546255507, 0.03854625550660794, 0.8039647577092512, 0.26376651982378857, 0.07158590308370044, 0.5110132158590309, 0.02643171806167401, 0.20374449339207049, 0.07323788546255507, 0.22136563876651985, 0.4449339207048459, 0.26817180616740094, 0.5495594713656389, 0.4394273127753305, 0.6277533039647578, 0.27367841409691634, 0.3078193832599119, 0.49834801762114544, 0.38986784140969166, 0.41960352422907493, 0.6316079295154186, 0.2901982378854626, 0.03248898678414097, 0.8794052863436125, 0.21145374449339208, 0.7868942731277534, 0.7731277533039649, 0.5704845814977975, 0.19878854625550663, 0.7924008810572688, 0.25881057268722474, 0.024779735682819385, 0.6905286343612336, 0.08865638766519825, 0.26266519823788553, 0.8105726872246697, 0.17290748898678415, 0.12775330396475773, 0.3259911894273128, 0.20484581497797358, 0.024229074889867842, 0.4372246696035243, 0.49889867841409696, 0.1156387665198238, 0.4069383259911895, 0.5280837004405287, 0.643171806167401, 0.07268722466960352, 0.8639867841409693, 0.29185022026431723, 0.052863436123348026, 0.13711453744493393, 0.08370044052863436, 0.11068281938325991, 0.1459251101321586, 0.2533039647577093, 0.0947136563876652, 0.3557268722466961, 0.5930616740088106, 0.09581497797356829, 0.07213656387665199, 0.1734581497797357, 0.058370044052863446, 0.4427312775330397, 0.04405286343612336, 0.08755506607929515, 0.5699339207048459, 0.3469162995594714, 0.4069383259911895, 0.49174008810572695, 0.25660792951541855, 0.23072687224669605, 0.49063876651982385, 0.5732378854625552, 0.7450440528634362, 0.09801762114537445, 0.793502202643172, 0.04185022026431719, 0.35132158590308377, 0.37389867841409696, 0.042400881057268726, 0.35242290748898686, 0.4355726872246697, 0.4041850220264318, 0.17125550660792951, 0.7742290748898679, 0.09030837004405287, 0.14867841409691632, 0.49174008810572695, 0.1773127753303965, 0.49339207048458156, 0.41299559471365643, 0.49724669603524235, 0.8612334801762116, 0.024779735682819385, 0.3507709251101322, 0.010462555066079295, 0.6712555066079297, 0.650330396475771, 0.9372246696035244, 0.12775330396475773, 0.5528634361233481, 0.571035242290749, 0.028083700440528638, 0.39867841409691634, 0.6376651982378856, 0.6795154185022028, 0.10792951541850221, 0.14537444933920707, 0.1261013215859031, 0.4553964757709252, 0.5919603524229076, 0.314977973568282, 0.5837004405286345, 0.5209251101321587, 0.11508810572687225, 0.030286343612334805, 0.3292951541850221, 0.23568281938325994, 0.7687224669603525, 0.24229074889867844, 0.39041850220264324, 0.35407488986784147, 0.14812775330396477, 0.26541850220264324, 0.08204845814977973, 0.37059471365638774, 0.5044052863436124, 0.5165198237885463, 0.7863436123348019, 0.029735682819383262, 0.4658590308370045, 0.6629955947136564, 0.4218061674008811, 0.2246696035242291, 0.13436123348017623, 0.06662995594713657, 0.8970264317180617, 0.22577092511013216, 0.7059471365638768, 0.18502202643171808, 0.05396475770925111, 0.23843612334801764, 0.0578193832599119, 0.09251101321585904, 0.6294052863436124, 0.03689427312775331, 0.7555066079295155, 0.7500000000000001, 0.3006607929515419, 0.26762114537444937, 0.12555066079295155, 0.6288546255506609, 0.18171806167400884, 0.5484581497797357, 0.5418502202643173, 0.46530837004405295, 0.39151982378854633, 0.4702643171806168, 0.7626651982378856, 0.3860132158590309, 0.5809471365638768, 0.14041850220264318, 0.00275330396475771, 0.20154185022026433, 0.6040748898678415, 0.0060572687224669615, 0.05947136563876653, 0.183920704845815, 0.20044052863436124, 0.006607929515418503, 0.35627753303964765, 0.8689427312775332, 0.1789647577092511, 0.6365638766519824, 0.34581497797356836, 0.030837004405286344, 0.49063876651982385, 0.7230176211453745, 0.6927312775330398, 0.23182819383259914, 0.10572687224669604, 0.9845814977973569, 0.6150881057268723, 0.781387665198238, 0.7918502202643173, 0.03909691629955948, 0.5165198237885463, 0.24008810572687225, 0.3116740088105727, 0.8193832599118944, 0.47577092511013225, 0.026982378854625552, 0.12279735682819384, 0.4686123348017622, 0.5435022026431718, 0.19162995594713658, 0.28138766519823794, 0.8882158590308371, 0.10077092511013216, 0.2285242290748899, 0.09801762114537445, 0.4229074889867842, 0.7362334801762116, 0.572136563876652, 0.10572687224669604, 0.5269823788546256, 0.016519823788546256, 0.10627753303964758, 0.6552863436123348, 0.008259911894273128, 0.07048458149779736, 0.001101321585903084, 0.5154185022026433, 0.20814977973568283, 0.06883259911894274, 0.8788546255506609, 0.14372246696035243, 0.0644273127753304, 0.4229074889867842, 0.48623348017621154, 0.49834801762114544, 0.38381057268722474, 0.18061674008810574, 0.06002202643171807, 0.2417400881057269, 0.1685022026431718, 0.20814977973568283, 0.48953744493392076, 0.4570484581497798, 0.4278634361233481, 0.02588105726872247, 0.4229074889867842, 0.48513215859030845, 0.1800660792951542, 0.1459251101321586, 0.39372246696035246, 0.8111233480176212, 0.05451541850220265, 0.047907488986784146, 0.052863436123348026, 0.1800660792951542, 0.6007709251101322, 0.7351321585903084, 0.7648678414096918, 0.5732378854625552, 0.7312775330396477, 0.14207048458149782, 0.2389867841409692, 0.7153083700440529, 0.6068281938325992, 0.6850220264317182, 0.4741189427312776, 0.1354625550660793, 0.13215859030837004, 0.183920704845815, 0.2208149779735683, 0.5401982378854626, 0.29460352422907493, 0.13325991189427314, 0.19603524229074892, 0.45099118942731287, 0.6569383259911895, 0.4405286343612335, 0.3436123348017622, 0.017070484581497798, 0.16409691629955947, 0.4994493392070485, 0.3248898678414097, 0.1773127753303965, 0.35242290748898686, 0.5088105726872247, 0.604625550660793, 0.3359030837004406, 0.41024229074889873, 0.5374449339207049, 0.35352422907488995, 0.6481277533039649, 0.39096916299559475, 0.042400881057268726, 0.1183920704845815, 0.5401982378854626, 0.8243392070484582, 0.40253303964757714, 0.7808370044052865, 0.6161894273127754, 0.35682819383259917, 0.05726872246696036, 0.10077092511013216, 0.11013215859030838, 0.1459251101321586, 0.04680616740088107, 0.4069383259911895, 0.10903083700440529, 0.33920704845814986, 0.6227973568281939, 0.37720264317180624, 0.2979074889867842, 0.6266519823788547, 0.3061674008810573, 0.6150881057268723, 0.4201541850220265, 0.03524229074889868, 0.22522026431718065, 0.37665198237885467, 0.11784140969162996, 0.18171806167400884, 0.282488986784141, 0.12720264317180618, 0.4146475770925111, 0.10572687224669604, 0.17400881057268724, 0.6029735682819384, 0.03909691629955948, 0.39151982378854633, 0.5330396475770925, 0.24118942731277535, 0.6536343612334803, 0.29350220264317184, 0.34966960352422916, 0.0016519823788546258, 0.5297356828193833, 0.334251101321586, 0.5567180616740088, 0.09581497797356829, 0.12775330396475773, 0.1261013215859031, 0.629955947136564, 0.1299559471365639, 0.2417400881057269, 0.10572687224669604, 0.33920704845814986, 0.14537444933920707, 0.5952643171806168, 0.210352422907489, 0.18226872246696035, 0.5005506607929516, 0.15308370044052863, 0.5225770925110133, 0.5357929515418502, 0.14867841409691632, 0.12830396475770925, 0.08480176211453745, 0.0908590308370044, 0.5770925110132159, 0.597466960352423, 0.3529735682819384, 0.5011013215859031, 0.28524229074889873, 0.197136563876652, 0.8491189427312776, 0.09251101321585904, 0.8127753303964759, 0.5765418502202644, 0.25881057268722474, 0.4096916299559472, 0.8221365638766521, 0.20484581497797358, 0.3166299559471366, 0.5991189427312776, 0.03248898678414097, 0.11674008810572688, 0.22191629955947137, 0.6998898678414098, 0.3155286343612335, 0.236784140969163, 0.28689427312775334, 0.26872246696035246, 0.058370044052863446, 0.2995594713656388, 0.28193832599118945, 0.3171806167400882, 0.5231277533039649, 0.10462555066079296, 0.27257709251101325, 0.8276431718061675, 0.22522026431718065, 0.49174008810572695, 0.08094713656387666, 0.37830396475770933, 0.27367841409691634, 0.12169603524229075, 0.5908590308370045, 0.8094713656387666, 0.07048458149779736, 0.2990088105726873, 0.3072687224669604, 0.7654185022026433, 0.013215859030837005, 0.24504405286343614, 0.5170704845814978, 0.4421806167400882, 0.19768722466960353, 0.20814977973568283, 0.07709251101321586, 0.4113436123348018, 0.28193832599118945, 0.6332599118942732, 0.07709251101321586, 0.9933920704845817, 0.7846916299559472, 0.6514317180616741, 0.4344713656387666, 0.25660792951541855, 0.2990088105726873, 0.6068281938325992, 0.17290748898678415, 0.34471365638766527, 0.5638766519823789, 0.10242290748898679, 0.314977973568282, 0.6547356828193833, 0.14647577092511013, 0.7742290748898679, 0.40253303964757714, 0.3254405286343613, 0.19107929515418504, 0.4289647577092512, 0.0005506607929515419, 0.5137665198237886, 0.8028634361233481, 0.5088105726872247, 0.09966960352422909, 0.0407488986784141, 0.35627753303964765, 0.5236784140969164, 0.025330396475770928, 0.8116740088105728, 0.06332599118942732, 0.19383259911894274, 0.35517621145374456, 0.20759911894273128, 0.20649779735682822, 0.4383259911894274, 0.48843612334801767, 0.4807268722466961, 0.47466960352422916, 0.8061674008810573, 0.015969162995594713, 0.6773127753303966, 0.37665198237885467, 0.8331497797356829, 0.637114537444934, 0.5693832599118943, 0.014317180616740088, 0.9207048458149781, 0.4085903083700441, 0.06718061674008811, 0.07268722466960352, 0.1723568281938326, 0.5033039647577093, 0.5082599118942732, 0.7665198237885463, 0.6690528634361235, 0.5412995594713658, 0.828193832599119, 0.8221365638766521, 0.7780837004405288, 0.36839207048458156, 0.5897577092511014, 0.22246696035242292, 0.4383259911894274, 0.2378854625550661, 0.0, 0.19988986784140972, 0.7522026431718063, 0.39482378854625555, 0.4730176211453745, 0.5291850220264318, 0.8221365638766521, 0.328193832599119, 0.37444933920704854, 0.0512114537444934, 0.03909691629955948, 0.41024229074889873, 0.03964757709251102, 0.8926211453744495, 0.11233480176211455, 0.8248898678414098, 0.38105726872246704, 0.7654185022026433, 0.34856828193832606, 0.572136563876652, 0.06662995594713657, 0.37610132158590315, 0.36343612334801767, 0.30396475770925113, 0.045154185022026436, 0.3045154185022027, 0.25825991189427316, 0.74284140969163, 0.1261013215859031, 0.13325991189427314, 0.288546255506608, 0.46806167400881066, 0.7334801762114538, 0.1194933920704846, 0.6117841409691631, 0.22577092511013216, 0.23348017621145375, 0.0512114537444934, 0.3992290748898679, 0.012665198237885464, 0.02588105726872247, 0.14096916299559473, 0.4284140969162996, 0.25385462555066085, 0.9713656387665199, 0.16354625550660795, 0.3144273127753304, 0.2769823788546256, 0.08865638766519825, 0.14041850220264318, 0.4504405286343613, 0.3529735682819384, 0.3276431718061675, 0.3061674008810573, 0.7329295154185023, 0.4317180616740089, 0.47191629955947145, 0.328193832599119, 0.22411894273127755, 0.08039647577092511, 0.650330396475771, 0.23953744493392073, 0.5881057268722468, 0.42621145374449343, 0.36013215859030845, 0.36674008810572695, 0.33149779735682827, 0.5473568281938327, 0.782488986784141, 0.5479074889867842, 0.3116740088105727, 0.36674008810572695, 0.09140969162995595, 0.05396475770925111, 0.2378854625550661, 0.37004405286343617, 0.2274229074889868, 0.23623348017621146, 0.1051762114537445, 0.2901982378854626, 0.7180616740088107, 0.6651982378854626, 0.028634361233480177, 0.41299559471365643, 0.46420704845814986, 0.6007709251101322, 0.12665198237885464, 0.7098017621145375, 0.11894273127753305, 0.4752202643171807, 0.13876651982378854, 0.4581497797356829, 0.27422907488986786, 0.4140969162995595, 0.14372246696035243, 0.3061674008810573, 0.12830396475770925, 0.22962555066079296, 0.236784140969163, 0.34856828193832606, 0.6668502202643173, 0.22301762114537446, 0.5220264317180617, 0.9003303964757711, 0.5176211453744494, 0.729625550660793, 0.18337004405286345, 0.36288546255506615, 0.5501101321585904, 0.5363436123348019, 0.052863436123348026, 0.6382158590308371, 0.28028634361233484, 0.616740088105727, 0.09140969162995595, 0.9223568281938327, 0.25936123348017626, 0.08480176211453745, 0.7483480176211454, 0.26817180616740094, 0.012114537444933921, 0.125, 0.018722466960352423, 0.681718061674009, 0.13876651982378854, 0.16740088105726875, 0.5341409691629957, 0.938876651982379, 0.4317180616740089, 0.1459251101321586, 0.3689427312775331, 0.814977973568282, 0.6437224669603525, 0.5809471365638768, 0.20154185022026433, 0.9587004405286345, 0.5776431718061675, 0.02918502202643172, 0.15583700440528636, 0.38711453744493396, 0.18171806167400884, 0.10187224669603524, 0.07048458149779736, 0.25715859030837007, 0.38546255506607935, 0.021475770925110133, 0.4410792951541851, 0.7422907488986785, 0.12555066079295155, 0.8590308370044054, 0.38270925110132165, 0.6266519823788547, 0.20484581497797358, 0.5539647577092511, 0.7312775330396477, 0.834251101321586, 0.3480176211453745, 0.7103524229074891, 0.2846916299559472, 0.5379955947136564, 0.34746696035242297, 0.13986784140969163, 0.407488986784141, 0.125, 0.466409691629956, 0.6558370044052865, 0.3166299559471366, 0.38656387665198244, 0.5809471365638768, 0.06662995594713657, 0.3441629955947137, 0.7026431718061675, 0.019273127753303965, 0.8122246696035244, 0.12940528634361234, 0.4482378854625551, 0.030286343612334805, 0.14757709251101322, 0.3292951541850221, 0.7753303964757711, 0.15418502202643172, 0.24118942731277535, 0.6233480176211454, 0.1685022026431718, 0.5462555066079295, 0.49504405286343617, 0.47962555066079304, 0.6965859030837005, 0.6013215859030838, 0.8034140969162996, 0.37279735682819387, 0.5930616740088106, 0.3122246696035243, 0.20319383259911897, 0.09030837004405287, 0.46806167400881066, 0.5490088105726872, 0.2290748898678414, 0.5638766519823789, 0.28193832599118945, 0.18557268722466963, 0.525330396475771, 0.7659691629955948, 0.38546255506607935, 0.223568281938326, 0.8045154185022028, 0.04845814977973569, 0.03854625550660794, 0.45759911894273136, 0.28028634361233484, 0.45759911894273136, 0.4845814977973569, 0.3480176211453745, 0.7874449339207049, 0.5594713656387666, 0.07323788546255507, 0.5214757709251102, 0.0033039647577092516, 0.28138766519823794, 0.3303964757709252, 0.519273127753304, 0.058920704845814985, 0.5093612334801763, 0.5837004405286345, 0.49834801762114544, 0.459251101321586, 0.05176211453744494, 0.13711453744493393, 0.3056167400881058, 0.38381057268722474, 0.6068281938325992, 0.46310572687224677, 0.5737885462555067, 0.4245594713656388, 0.061123348017621155, 0.04625550660792952, 0.328193832599119, 0.2417400881057269, 0.03634361233480177, 0.4317180616740089, 0.644273127753304, 0.014317180616740088, 0.4256607929515419, 0.3061674008810573, 0.11508810572687225, 0.7896475770925111, 0.7780837004405288, 0.15033039647577093, 0.35352422907488995, 0.10407488986784141, 0.12004405286343613, 0.1877753303964758, 0.5198237885462555, 0.236784140969163, 0.8419603524229076, 0.07433920704845816, 0.5704845814977975, 0.17125550660792951, 0.7098017621145375, 0.47191629955947145, 0.0060572687224669615, 0.4526431718061675, 0.3171806167400882, 0.13766519823788548, 0.643171806167401, 0.38105726872246704, 0.09140969162995595, 0.6773127753303966, 0.23182819383259914, 0.644273127753304, 0.2246696035242291, 0.27422907488986786, 0.0236784140969163, 0.3204845814977974, 0.18502202643171808, 0.052863436123348026, 0.41299559471365643, 0.8204845814977975, 0.6470264317180617, 0.33149779735682827, 0.20319383259911897, 0.35517621145374456, 0.38546255506607935, 0.39977973568281944, 0.4344713656387666, 0.24779735682819384, 0.35792951541850226, 0.017070484581497798, 0.6007709251101322, 0.21365638766519826, 0.2890969162995595, 0.07268722466960352, 0.6156387665198239, 0.3463656387665199, 0.3259911894273128, 0.24339207048458153, 0.7714757709251102, 0.14262114537444934, 0.024779735682819385, 0.40638766519823794, 0.183920704845815, 0.1618942731277533, 0.39977973568281944, 0.4317180616740089, 0.1618942731277533, 0.9757709251101323, 0.03744493392070485, 0.5077092511013217, 0.4355726872246697, 0.38050660792951546, 0.2863436123348018, 0.7263215859030838, 0.3502202643171807, 0.6013215859030838, 0.49559471365638774, 0.17400881057268724, 0.007709251101321586, 0.11343612334801763, 0.24614537444933923, 0.2703744493392071, 0.506057268722467, 0.39207048458149785, 0.6200440528634362, 0.29460352422907493, 0.6519823788546256, 0.48898678414096924, 0.6073788546255507, 0.308920704845815, 0.3226872246696036, 0.10022026431718062, 0.17125550660792951, 0.08480176211453745, 0.19823788546255508, 0.22687224669603526, 0.532488986784141, 0.8772026431718063, 0.20319383259911897, 0.19493392070484583, 0.06002202643171807, 0.24504405286343614, 0.2444933920704846, 0.47246696035242297, 0.6773127753303966, 0.5066079295154186, 0.5000000000000001, 0.5754405286343613, 0.6762114537444934, 0.23182819383259914, 0.25440528634361237, 0.2285242290748899, 0.321035242290749, 0.23458149779735685, 0.13436123348017623, 0.8447136563876653, 0.15473568281938327, 0.12114537444933922, 0.14482378854625552, 0.09306167400881057, 0.018722466960352423, 0.16409691629955947, 0.3144273127753304, 0.14096916299559473, 0.9069383259911895, 0.4498898678414098, 0.48348017621145384, 0.3325991189427313, 0.6007709251101322, 0.48127753303964765, 0.3370044052863437, 0.37775330396475776, 0.578193832599119, 0.7015418502202644, 0.629955947136564, 0.4245594713656388, 0.20704845814977976, 0.10903083700440529, 0.3100220264317181, 0.28028634361233484, 0.20870044052863437, 0.295704845814978, 0.4405286343612335, 0.1525330396475771, 0.5159691629955948, 0.5011013215859031, 0.36013215859030845, 0.23072687224669605, 0.5792951541850221, 0.09140969162995595, 0.06497797356828194, 0.19493392070484583, 0.48403083700440536, 0.4295154185022027, 0.3298458149779736, 0.022577092511013218, 0.41299559471365643, 0.5881057268722468, 0.8838105726872247, 0.11398678414096917, 0.544603524229075, 0.4443832599118943, 0.1894273127753304, 0.5401982378854626, 0.5633259911894274, 0.6624449339207049, 0.2312775330396476, 0.3177312775330397, 0.04955947136563878, 0.9620044052863437, 0.26266519823788553, 0.02918502202643172, 0.4741189427312776, 0.004955947136563877, 0.005506607929515419, 0.25440528634361237, 0.39096916299559475, 0.15583700440528636, 0.14041850220264318, 0.5556167400881058, 0.6740088105726874, 0.1800660792951542, 0.3386563876651983, 0.03964757709251102, 0.37389867841409696, 0.3452643171806168, 0.2901982378854626, 0.028634361233480177, 0.5561674008810573, 0.4096916299559472, 0.10682819383259913, 0.3502202643171807, 0.6294052863436124, 0.781387665198238, 0.06332599118942732, 0.007158590308370045, 0.6172907488986785, 0.20925110132158592, 0.25936123348017626, 0.08480176211453745, 0.2929515418502203, 0.0710352422907489, 0.04185022026431719, 0.322136563876652, 0.5407488986784141, 0.37830396475770933, 0.7533039647577093, 0.5770925110132159, 0.9251101321585904, 0.10737885462555066, 0.288546255506608, 0.07764317180616741, 0.025330396475770928, 0.03634361233480177, 0.4234581497797357, 0.459251101321586, 0.34581497797356836, 0.696035242290749, 0.07488986784140969, 0.26101321585903087, 0.010462555066079295, 0.14207048458149782, 0.1811674008810573, 0.2846916299559472, 0.8320484581497798, 0.8364537444933922, 0.48953744493392076, 0.49229074889867847, 0.08039647577092511, 0.5308370044052864, 0.28028634361233484, 0.13105726872246698, 0.3034140969162996, 0.1811674008810573, 0.6068281938325992, 0.48843612334801767, 0.5033039647577093, 0.7709251101321587, 0.6822687224669605, 0.2197136563876652, 0.9267621145374451, 0.027533039647577095, 0.39977973568281944, 0.28799559471365643, 0.7610132158590309, 0.4140969162995595, 0.026982378854625552, 0.4069383259911895, 0.05671806167400882, 0.13601321585903084, 0.4333700440528635, 0.15748898678414097, 0.26541850220264324, 0.8359030837004406, 0.015418502202643174, 0.14427312775330398, 0.36839207048458156, 0.16464757709251102, 0.12720264317180618, 0.030286343612334805, 0.5770925110132159, 0.1156387665198238, 0.17125550660792951, 0.25385462555066085, 0.7929515418502203, 0.47466960352422916, 0.631057268722467, 0.0005506607929515419, 0.3595814977973569, 0.19438325991189428, 0.5947136563876653, 0.5947136563876653, 0.3292951541850221, 0.45374449339207057, 0.5814977973568283, 0.045154185022026436, 0.5583700440528635, 0.0407488986784141, 0.0881057268722467, 0.18557268722466963, 0.29460352422907493, 0.27588105726872253, 0.8788546255506609, 0.024779735682819385, 0.6387665198237886, 0.08480176211453745, 0.7973568281938327, 0.2835903083700441, 0.2169603524229075, 0.29735682819383263, 0.21751101321585906, 0.3309471365638767, 0.3529735682819384, 0.4047356828193833, 0.26321585903083705, 0.6635462555066081, 0.3430616740088106, 0.6398678414096917, 0.8171806167400882, 0.631057268722467, 0.37334801762114544, 0.0908590308370044, 0.17786343612334804, 0.3441629955947137, 0.17841409691629956, 0.05451541850220265, 0.10848017621145375, 0.9983480176211454, 0.8750000000000001, 0.3259911894273128, 0.5732378854625552, 0.22191629955947137, 0.42621145374449343, 0.13711453744493393, 0.015418502202643174, 0.23733480176211455, 0.024779735682819385, 0.10297356828193834, 0.16354625550660795, 0.341409691629956, 0.531387665198238, 0.6982378854625552, 0.4741189427312776, 0.3502202643171807, 0.12169603524229075, 0.7819383259911895, 0.3133259911894274, 0.3887665198237886, 0.29240088105726875, 0.1327092511013216, 0.7742290748898679, 0.16079295154185022, 0.14207048458149782, 0.14537444933920707, 0.10792951541850221, 0.6200440528634362, 0.6993392070484582, 0.14207048458149782, 0.572136563876652, 0.4058370044052864, 0.23953744493392073, 0.4427312775330397, 0.22797356828193835, 0.413546255506608, 0.34966960352422916, 0.716409691629956, 0.46145374449339216, 0.004405286343612335, 0.36398678414096924, 0.6095814977973569, 0.2169603524229075, 0.5231277533039649, 0.47632158590308377, 0.11123348017621146, 0.8948237885462557, 0.3243392070484582, 0.14757709251101322, 0.28028634361233484, 0.39977973568281944, 0.6547356828193833, 0.322136563876652, 0.34746696035242297, 0.953193832599119, 0.4598017621145375, 0.29625550660792954, 0.33920704845814986, 0.29350220264317184, 0.053414096916299565, 0.19603524229074892, 0.46916299559471375, 0.24614537444933923, 0.729625550660793, 0.26762114537444937, 0.7009911894273129, 0.3276431718061675, 0.35517621145374456, 0.3006607929515419, 0.4278634361233481, 0.14702643171806168, 0.7747797356828194, 0.09526431718061674, 0.2979074889867842, 0.5726872246696036, 0.4041850220264318, 0.2483480176211454, 0.061674008810572695, 0.20594713656387667, 0.47742290748898686, 0.7075991189427314, 0.30121145374449343, 0.7136563876651983, 0.5490088105726872, 0.06497797356828194, 0.3083700440528635, 0.7230176211453745, 0.27367841409691634, 0.328193832599119, 0.21145374449339208, 0.13491189427312777, 0.2351321585903084, 0.0022026431718061676, 0.19823788546255508, 0.15748898678414097, 0.5837004405286345, 0.20870044052863437, 0.9691629955947137, 0.061674008810572695, 0.2378854625550661, 0.5319383259911895, 0.24284140969162998, 0.2703744493392071, 0.5082599118942732, 0.5666299559471366, 0.22577092511013216, 0.8975770925110134, 0.46916299559471375, 0.4647577092511014, 0.49394273127753313, 0.21365638766519826, 0.48678414096916306, 0.8849118942731279, 0.27367841409691634, 0.17951541850220265, 0.08094713656387666, 0.12059471365638767, 0.25605726872246704, 0.9790748898678415, 0.7753303964757711, 0.13215859030837004, 0.07764317180616741, 0.031387665198237893, 0.5214757709251102, 0.4185022026431719, 0.5594713656387666, 0.4421806167400882, 0.4493392070484582, 0.17290748898678415, 0.1563876651982379, 0.015969162995594713, 0.5209251101321587, 0.578193832599119, 0.24504405286343614, 0.7890969162995596, 0.3144273127753304, 0.18722466960352424, 0.08590308370044053, 0.047356828193832606, 0.09801762114537445, 0.6459251101321587, 0.21530837004405287, 0.20814977973568283, 0.6409691629955948, 0.6784140969162996, 0.36178414096916306, 0.6762114537444934, 0.4581497797356829, 0.26046255506607935, 0.7830396475770927, 0.3072687224669604, 0.5379955947136564, 0.36288546255506615, 0.7582599118942732, 0.5038546255506609, 0.5490088105726872, 0.3127753303964758, 0.40143171806167405, 0.1629955947136564, 0.19493392070484583, 0.4030837004405287, 0.5110132158590309, 0.17951541850220265, 0.34196035242290757, 0.7571585903083702, 0.3408590308370045, 0.3375550660792952, 0.17841409691629956, 0.301762114537445, 0.6756607929515419, 0.4306167400881058, 0.5638766519823789, 0.016519823788546256, 0.432819383259912], \"xaxis\": \"x\", \"y\": [0.15384615384615385, 0.20512820512820518, 0.17948717948717952, 0.17948717948717952, 0.6410256410256411, 0.33333333333333337, 0.15384615384615385, 0.3846153846153846, 0.4358974358974359, 0.4871794871794871, 0.7692307692307693, 0.3076923076923077, 0.5128205128205128, 0.46153846153846156, 0.6923076923076922, 0.5641025641025641, 0.5897435897435898, 0.20512820512820518, 0.17948717948717952, 0.33333333333333337, 0.2564102564102564, 0.41025641025641024, 0.3076923076923077, 0.6410256410256411, 0.33333333333333337, 0.5897435897435898, 0.6153846153846153, 0.717948717948718, 0.4358974358974359, 0.3846153846153846, 0.3846153846153846, 0.15384615384615385, 0.28205128205128205, 0.3846153846153846, 0.17948717948717952, 0.41025641025641024, 0.46153846153846156, 0.20512820512820518, 0.23076923076923073, 0.717948717948718, 0.28205128205128205, 0.7948717948717948, 0.20512820512820518, 0.20512820512820518, 0.28205128205128205, 0.6923076923076922, 0.15384615384615385, 0.41025641025641024, 0.17948717948717952, 0.28205128205128205, 0.3589743589743589, 0.4358974358974359, 0.3076923076923077, 0.5897435897435898, 0.20512820512820518, 0.3846153846153846, 0.717948717948718, 0.28205128205128205, 0.28205128205128205, 0.17948717948717952, 0.6410256410256411, 0.4358974358974359, 0.7435897435897435, 0.5384615384615384, 0.6666666666666666, 0.7948717948717948, 0.8461538461538461, 0.20512820512820518, 0.5897435897435898, 0.5128205128205128, 0.3846153846153846, 0.41025641025641024, 0.7948717948717948, 0.23076923076923073, 0.20512820512820518, 0.20512820512820518, 0.20512820512820518, 0.33333333333333337, 0.28205128205128205, 0.33333333333333337, 0.3846153846153846, 0.41025641025641024, 0.23076923076923073, 0.2564102564102564, 0.3846153846153846, 0.46153846153846156, 0.10256410256410253, 0.6153846153846153, 0.3846153846153846, 0.5384615384615384, 0.4358974358974359, 0.41025641025641024, 0.20512820512820518, 0.6666666666666666, 0.28205128205128205, 0.1282051282051282, 0.6666666666666666, 0.5128205128205128, 0.3846153846153846, 0.1282051282051282, 0.7948717948717948, 0.23076923076923073, 0.6666666666666666, 0.41025641025641024, 0.3846153846153846, 0.7692307692307693, 0.2564102564102564, 0.2564102564102564, 0.2564102564102564, 0.3076923076923077, 0.3076923076923077, 0.28205128205128205, 0.2564102564102564, 0.28205128205128205, 0.33333333333333337, 0.17948717948717952, 0.6923076923076922, 0.2564102564102564, 0.2564102564102564, 0.3076923076923077, 0.41025641025641024, 0.28205128205128205, 0.23076923076923073, 0.7948717948717948, 0.23076923076923073, 0.33333333333333337, 0.1282051282051282, 0.3589743589743589, 0.23076923076923073, 0.20512820512820518, 0.15384615384615385, 0.1282051282051282, 0.5641025641025641, 0.23076923076923073, 0.15384615384615385, 0.923076923076923, 0.2564102564102564, 0.3076923076923077, 0.5384615384615384, 0.28205128205128205, 0.4871794871794871, 0.7692307692307693, 0.3846153846153846, 0.23076923076923073, 0.3589743589743589, 0.28205128205128205, 0.2564102564102564, 0.33333333333333337, 0.7692307692307693, 0.46153846153846156, 0.6153846153846153, 0.9743589743589743, 0.23076923076923073, 0.4358974358974359, 0.33333333333333337, 0.23076923076923073, 0.10256410256410253, 0.3846153846153846, 0.717948717948718, 0.4358974358974359, 0.2564102564102564, 0.28205128205128205, 0.17948717948717952, 0.20512820512820518, 0.2564102564102564, 0.23076923076923073, 0.7948717948717948, 0.28205128205128205, 0.3076923076923077, 0.28205128205128205, 0.2564102564102564, 0.23076923076923073, 0.8974358974358975, 0.3846153846153846, 0.3846153846153846, 0.4358974358974359, 0.5641025641025641, 0.5128205128205128, 0.28205128205128205, 0.20512820512820518, 0.23076923076923073, 0.2564102564102564, 0.3076923076923077, 0.2564102564102564, 0.3076923076923077, 0.07692307692307693, 0.2564102564102564, 0.28205128205128205, 0.4358974358974359, 0.1282051282051282, 0.20512820512820518, 0.23076923076923073, 0.3846153846153846, 0.41025641025641024, 0.28205128205128205, 0.17948717948717952, 0.6923076923076922, 0.6923076923076922, 0.6410256410256411, 0.28205128205128205, 0.3846153846153846, 0.5128205128205128, 0.3076923076923077, 0.4871794871794871, 0.28205128205128205, 0.23076923076923073, 0.15384615384615385, 0.2564102564102564, 0.2564102564102564, 0.2564102564102564, 0.8974358974358975, 0.4358974358974359, 0.33333333333333337, 0.3076923076923077, 0.3589743589743589, 0.3846153846153846, 0.15384615384615385, 0.7435897435897435, 0.6923076923076922, 0.2564102564102564, 0.3076923076923077, 0.28205128205128205, 0.2564102564102564, 0.7948717948717948, 0.3846153846153846, 0.23076923076923073, 0.6666666666666666, 0.17948717948717952, 0.17948717948717952, 0.33333333333333337, 0.15384615384615385, 0.6923076923076922, 0.6923076923076922, 0.3846153846153846, 0.46153846153846156, 0.7948717948717948, 0.6666666666666666, 0.8974358974358975, 0.717948717948718, 0.28205128205128205, 0.3846153846153846, 0.33333333333333337, 0.7948717948717948, 0.6666666666666666, 0.923076923076923, 0.6666666666666666, 0.7435897435897435, 0.2564102564102564, 0.5128205128205128, 0.2564102564102564, 0.3589743589743589, 0.28205128205128205, 0.3076923076923077, 0.3076923076923077, 0.3589743589743589, 0.3846153846153846, 0.7435897435897435, 0.3846153846153846, 0.2564102564102564, 0.33333333333333337, 0.7948717948717948, 0.20512820512820518, 0.7692307692307693, 0.41025641025641024, 0.3076923076923077, 0.5384615384615384, 0.2564102564102564, 0.28205128205128205, 0.5641025641025641, 0.20512820512820518, 0.23076923076923073, 0.4358974358974359, 0.3846153846153846, 0.33333333333333337, 0.2564102564102564, 0.7692307692307693, 0.6153846153846153, 0.23076923076923073, 0.3589743589743589, 0.6153846153846153, 0.2564102564102564, 0.28205128205128205, 0.41025641025641024, 0.5897435897435898, 0.33333333333333337, 0.5128205128205128, 0.3589743589743589, 0.8205128205128206, 0.5897435897435898, 0.33333333333333337, 0.6153846153846153, 0.7435897435897435, 0.3076923076923077, 0.28205128205128205, 0.46153846153846156, 0.7692307692307693, 0.33333333333333337, 0.20512820512820518, 0.46153846153846156, 0.7948717948717948, 0.5641025641025641, 0.8717948717948717, 0.7692307692307693, 0.23076923076923073, 0.5897435897435898, 0.20512820512820518, 0.6153846153846153, 0.17948717948717952, 0.3846153846153846, 0.41025641025641024, 0.28205128205128205, 0.3589743589743589, 0.2564102564102564, 0.46153846153846156, 0.2564102564102564, 0.07692307692307693, 0.3589743589743589, 0.2564102564102564, 0.17948717948717952, 0.3846153846153846, 0.33333333333333337, 0.3076923076923077, 0.5641025641025641, 0.2564102564102564, 0.33333333333333337, 0.3846153846153846, 0.28205128205128205, 0.33333333333333337, 0.5384615384615384, 0.15384615384615385, 0.20512820512820518, 0.6153846153846153, 0.6153846153846153, 0.41025641025641024, 0.7948717948717948, 0.5897435897435898, 0.2564102564102564, 0.5897435897435898, 0.15384615384615385, 0.15384615384615385, 0.5641025641025641, 0.41025641025641024, 0.8461538461538461, 0.8205128205128206, 0.33333333333333337, 0.8717948717948717, 0.23076923076923073, 0.2564102564102564, 0.3076923076923077, 0.5641025641025641, 0.41025641025641024, 0.23076923076923073, 0.41025641025641024, 0.6153846153846153, 0.15384615384615385, 0.2564102564102564, 0.3076923076923077, 0.7692307692307693, 0.17948717948717952, 0.15384615384615385, 0.3076923076923077, 0.5641025641025641, 0.6666666666666666, 0.7692307692307693, 0.3589743589743589, 0.33333333333333337, 0.28205128205128205, 0.2564102564102564, 0.4871794871794871, 0.28205128205128205, 0.3589743589743589, 0.2564102564102564, 0.33333333333333337, 0.2564102564102564, 0.33333333333333337, 0.23076923076923073, 0.23076923076923073, 0.4358974358974359, 0.20512820512820518, 0.20512820512820518, 0.4358974358974359, 0.10256410256410253, 0.4358974358974359, 0.717948717948718, 0.3846153846153846, 0.5128205128205128, 0.20512820512820518, 0.7435897435897435, 0.3589743589743589, 0.46153846153846156, 0.28205128205128205, 0.15384615384615385, 0.5641025641025641, 0.2564102564102564, 0.20512820512820518, 0.46153846153846156, 0.17948717948717952, 0.17948717948717952, 0.3846153846153846, 0.3076923076923077, 0.5897435897435898, 0.8461538461538461, 0.10256410256410253, 0.5128205128205128, 0.717948717948718, 0.6410256410256411, 0.17948717948717952, 0.3846153846153846, 0.717948717948718, 0.5384615384615384, 0.46153846153846156, 0.3076923076923077, 0.28205128205128205, 0.2564102564102564, 0.17948717948717952, 0.5384615384615384, 0.41025641025641024, 0.20512820512820518, 0.4358974358974359, 0.6923076923076922, 0.6666666666666666, 0.3589743589743589, 0.6666666666666666, 0.28205128205128205, 0.28205128205128205, 0.33333333333333337, 0.23076923076923073, 0.5641025641025641, 0.10256410256410253, 0.28205128205128205, 0.2564102564102564, 0.3076923076923077, 0.20512820512820518, 0.3846153846153846, 0.17948717948717952, 0.5897435897435898, 0.6410256410256411, 0.5641025641025641, 0.8461538461538461, 0.23076923076923073, 0.20512820512820518, 0.3846153846153846, 0.3076923076923077, 0.3076923076923077, 0.4358974358974359, 0.3846153846153846, 0.46153846153846156, 0.8205128205128206, 0.3589743589743589, 0.3589743589743589, 0.3846153846153846, 0.5384615384615384, 0.6410256410256411, 0.3846153846153846, 0.6923076923076922, 0.20512820512820518, 0.3076923076923077, 0.07692307692307693, 0.8205128205128206, 0.23076923076923073, 0.6923076923076922, 0.15384615384615385, 0.3589743589743589, 0.3076923076923077, 0.41025641025641024, 0.23076923076923073, 0.20512820512820518, 0.3076923076923077, 0.28205128205128205, 0.2564102564102564, 0.3846153846153846, 0.3589743589743589, 0.3076923076923077, 0.2564102564102564, 0.3076923076923077, 0.6410256410256411, 0.3846153846153846, 0.3076923076923077, 0.3076923076923077, 0.3076923076923077, 0.2564102564102564, 0.3589743589743589, 0.3076923076923077, 0.8205128205128206, 0.28205128205128205, 0.6410256410256411, 0.28205128205128205, 0.15384615384615385, 0.8717948717948717, 0.717948717948718, 0.33333333333333337, 0.17948717948717952, 0.23076923076923073, 0.4871794871794871, 0.3076923076923077, 0.3076923076923077, 0.6666666666666666, 0.41025641025641024, 0.8717948717948717, 0.6666666666666666, 0.20512820512820518, 0.5897435897435898, 0.23076923076923073, 0.20512820512820518, 0.41025641025641024, 0.23076923076923073, 0.7692307692307693, 0.28205128205128205, 0.41025641025641024, 0.23076923076923073, 0.20512820512820518, 0.41025641025641024, 0.28205128205128205, 0.33333333333333337, 0.717948717948718, 0.23076923076923073, 0.15384615384615385, 0.7692307692307693, 0.15384615384615385, 0.3589743589743589, 0.28205128205128205, 0.41025641025641024, 0.41025641025641024, 0.20512820512820518, 0.8205128205128206, 0.6153846153846153, 0.20512820512820518, 0.3846153846153846, 0.6410256410256411, 0.2564102564102564, 0.15384615384615385, 0.3076923076923077, 0.2564102564102564, 0.23076923076923073, 0.5641025641025641, 0.10256410256410253, 0.3846153846153846, 0.28205128205128205, 0.5897435897435898, 0.717948717948718, 0.5641025641025641, 0.41025641025641024, 0.6153846153846153, 0.3076923076923077, 0.2564102564102564, 0.7948717948717948, 0.33333333333333337, 0.33333333333333337, 0.23076923076923073, 0.28205128205128205, 0.3076923076923077, 0.2564102564102564, 0.28205128205128205, 0.28205128205128205, 0.5384615384615384, 0.3589743589743589, 0.2564102564102564, 0.5897435897435898, 0.8717948717948717, 0.7435897435897435, 0.6410256410256411, 0.17948717948717952, 0.3846153846153846, 0.17948717948717952, 0.20512820512820518, 0.7435897435897435, 0.3076923076923077, 0.15384615384615385, 0.4358974358974359, 0.7435897435897435, 0.28205128205128205, 0.20512820512820518, 0.1282051282051282, 0.20512820512820518, 0.6153846153846153, 0.46153846153846156, 0.3076923076923077, 0.17948717948717952, 0.3846153846153846, 0.3846153846153846, 0.23076923076923073, 0.3846153846153846, 0.20512820512820518, 0.23076923076923073, 0.8205128205128206, 0.7948717948717948, 0.28205128205128205, 0.3076923076923077, 0.28205128205128205, 0.3846153846153846, 0.8461538461538461, 0.3589743589743589, 0.33333333333333337, 0.9487179487179488, 0.33333333333333337, 0.23076923076923073, 0.717948717948718, 0.23076923076923073, 0.3846153846153846, 0.6666666666666666, 0.2564102564102564, 0.2564102564102564, 0.1282051282051282, 0.20512820512820518, 0.10256410256410253, 0.33333333333333337, 0.4871794871794871, 0.23076923076923073, 0.2564102564102564, 0.2564102564102564, 0.2564102564102564, 0.3076923076923077, 0.5128205128205128, 0.46153846153846156, 0.28205128205128205, 0.28205128205128205, 0.33333333333333337, 0.17948717948717952, 0.2564102564102564, 0.23076923076923073, 0.4871794871794871, 0.23076923076923073, 0.3076923076923077, 0.3589743589743589, 0.4358974358974359, 0.717948717948718, 0.8205128205128206, 0.20512820512820518, 0.5128205128205128, 0.7948717948717948, 0.3076923076923077, 0.3846153846153846, 0.4871794871794871, 0.23076923076923073, 0.3076923076923077, 0.7435897435897435, 0.28205128205128205, 0.23076923076923073, 0.28205128205128205, 0.41025641025641024, 0.3589743589743589, 0.5897435897435898, 0.2564102564102564, 0.4871794871794871, 0.5897435897435898, 0.28205128205128205, 0.20512820512820518, 0.15384615384615385, 0.3589743589743589, 0.10256410256410253, 0.6923076923076922, 0.20512820512820518, 0.2564102564102564, 0.17948717948717952, 0.3076923076923077, 0.6153846153846153, 0.23076923076923073, 0.20512820512820518, 0.33333333333333337, 0.33333333333333337, 0.23076923076923073, 0.3076923076923077, 0.3846153846153846, 0.7948717948717948, 0.3076923076923077, 0.7948717948717948, 0.3076923076923077, 0.5641025641025641, 0.3846153846153846, 0.1282051282051282, 0.2564102564102564, 0.20512820512820518, 0.15384615384615385, 0.3846153846153846, 0.5128205128205128, 0.3589743589743589, 0.3589743589743589, 0.3589743589743589, 0.5128205128205128, 0.41025641025641024, 0.2564102564102564, 0.717948717948718, 0.23076923076923073, 0.4871794871794871, 0.17948717948717952, 0.5384615384615384, 0.20512820512820518, 0.3076923076923077, 0.1282051282051282, 0.2564102564102564, 0.20512820512820518, 0.41025641025641024, 0.4358974358974359, 0.17948717948717952, 0.15384615384615385, 0.17948717948717952, 0.8974358974358975, 0.3846153846153846, 0.3076923076923077, 0.4358974358974359, 0.23076923076923073, 0.6410256410256411, 0.46153846153846156, 0.8205128205128206, 0.46153846153846156, 0.6666666666666666, 0.3076923076923077, 0.15384615384615385, 0.3846153846153846, 0.17948717948717952, 0.41025641025641024, 0.33333333333333337, 0.20512820512820518, 0.3846153846153846, 0.20512820512820518, 0.8205128205128206, 0.17948717948717952, 0.3589743589743589, 0.10256410256410253, 0.28205128205128205, 0.3846153846153846, 0.33333333333333337, 0.33333333333333337, 0.17948717948717952, 0.4871794871794871, 0.2564102564102564, 0.15384615384615385, 0.2564102564102564, 0.3846153846153846, 0.3076923076923077, 0.17948717948717952, 0.3589743589743589, 0.4871794871794871, 0.4358974358974359, 0.17948717948717952, 0.20512820512820518, 0.15384615384615385, 0.28205128205128205, 0.5897435897435898, 0.717948717948718, 0.23076923076923073, 0.5897435897435898, 0.3076923076923077, 0.17948717948717952, 0.46153846153846156, 0.46153846153846156, 0.6666666666666666, 0.923076923076923, 0.28205128205128205, 0.6410256410256411, 0.7435897435897435, 0.46153846153846156, 0.6410256410256411, 0.23076923076923073, 0.15384615384615385, 0.28205128205128205, 0.3589743589743589, 0.4358974358974359, 0.46153846153846156, 0.6153846153846153, 0.3589743589743589, 0.23076923076923073, 0.46153846153846156, 0.23076923076923073, 0.3589743589743589, 0.3076923076923077, 0.4871794871794871, 0.7435897435897435, 0.6410256410256411, 0.41025641025641024, 0.20512820512820518, 0.8205128205128206, 0.41025641025641024, 0.28205128205128205, 0.717948717948718, 0.23076923076923073, 0.2564102564102564, 0.17948717948717952, 0.3589743589743589, 0.15384615384615385, 0.6666666666666666, 0.2564102564102564, 0.4871794871794871, 0.7435897435897435, 0.4871794871794871, 0.7435897435897435, 0.3589743589743589, 0.23076923076923073, 0.6923076923076922, 0.20512820512820518, 0.20512820512820518, 0.41025641025641024, 0.20512820512820518, 0.7948717948717948, 0.6666666666666666, 0.23076923076923073, 0.3589743589743589, 0.2564102564102564, 0.20512820512820518, 0.3846153846153846, 0.4358974358974359, 0.28205128205128205, 0.2564102564102564, 0.41025641025641024, 0.23076923076923073, 0.20512820512820518, 0.6923076923076922, 0.3846153846153846, 0.23076923076923073, 0.28205128205128205, 0.2564102564102564, 0.20512820512820518, 0.41025641025641024, 0.6923076923076922, 0.2564102564102564, 0.2564102564102564, 0.10256410256410253, 0.3846153846153846, 0.6153846153846153, 0.41025641025641024, 0.3846153846153846, 0.20512820512820518, 0.17948717948717952, 0.15384615384615385, 0.23076923076923073, 0.5384615384615384, 0.41025641025641024, 0.6666666666666666, 0.33333333333333337, 0.1282051282051282, 0.28205128205128205, 0.3076923076923077, 0.2564102564102564, 0.20512820512820518, 0.17948717948717952, 0.7948717948717948, 0.17948717948717952, 0.2564102564102564, 0.4358974358974359, 0.5384615384615384, 0.7435897435897435, 0.4358974358974359, 0.2564102564102564, 0.28205128205128205, 0.28205128205128205, 0.3076923076923077, 0.23076923076923073, 0.2564102564102564, 0.2564102564102564, 0.23076923076923073, 0.23076923076923073, 0.28205128205128205, 0.7692307692307693, 0.3589743589743589, 0.6923076923076922, 0.23076923076923073, 0.8461538461538461, 0.46153846153846156, 0.15384615384615385, 0.28205128205128205, 0.7435897435897435, 0.23076923076923073, 0.4358974358974359, 0.33333333333333337, 0.7948717948717948, 0.15384615384615385, 0.7435897435897435, 0.28205128205128205, 0.3589743589743589, 0.33333333333333337, 0.923076923076923, 0.28205128205128205, 0.23076923076923073, 0.28205128205128205, 0.20512820512820518, 0.7692307692307693, 0.7948717948717948, 0.5641025641025641, 0.1282051282051282, 0.28205128205128205, 0.33333333333333337, 0.3076923076923077, 0.3076923076923077, 0.3076923076923077, 0.5641025641025641, 0.28205128205128205, 0.23076923076923073, 0.5128205128205128, 0.3846153846153846, 0.28205128205128205, 0.5128205128205128, 0.8461538461538461, 0.17948717948717952, 0.7435897435897435, 0.3076923076923077, 0.717948717948718, 0.3846153846153846, 0.6410256410256411, 0.6666666666666666, 0.6923076923076922, 0.3589743589743589, 0.1282051282051282, 0.3846153846153846, 0.4871794871794871, 0.23076923076923073, 0.8205128205128206, 0.3076923076923077, 0.6410256410256411, 0.23076923076923073, 0.10256410256410253, 0.5384615384615384, 0.20512820512820518, 0.7435897435897435, 0.3076923076923077, 0.28205128205128205, 0.17948717948717952, 0.2564102564102564, 0.2564102564102564, 0.2564102564102564, 0.23076923076923073, 0.3076923076923077, 0.41025641025641024, 0.8461538461538461, 0.28205128205128205, 0.3589743589743589, 0.3076923076923077, 0.3846153846153846, 0.33333333333333337, 0.4871794871794871, 0.28205128205128205, 0.6666666666666666, 0.8205128205128206, 0.3589743589743589, 0.17948717948717952, 0.2564102564102564, 0.17948717948717952, 0.28205128205128205, 0.28205128205128205, 0.3589743589743589, 0.5128205128205128, 0.7948717948717948, 0.2564102564102564, 0.28205128205128205, 0.33333333333333337, 0.23076923076923073, 0.33333333333333337, 0.3076923076923077, 0.17948717948717952, 0.5641025641025641, 0.3076923076923077, 0.2564102564102564, 0.20512820512820518, 0.23076923076923073, 0.7692307692307693, 0.3589743589743589, 0.4358974358974359, 0.28205128205128205, 0.3076923076923077, 0.3076923076923077, 0.6923076923076922, 0.33333333333333337, 0.7948717948717948, 0.15384615384615385, 0.3846153846153846, 0.41025641025641024, 0.6923076923076922, 0.20512820512820518, 0.41025641025641024, 0.15384615384615385, 0.2564102564102564, 0.3846153846153846, 0.17948717948717952, 0.33333333333333337, 0.33333333333333337, 0.15384615384615385, 0.28205128205128205, 0.3846153846153846, 0.20512820512820518, 0.7435897435897435, 0.2564102564102564, 0.3589743589743589, 0.41025641025641024, 0.4871794871794871, 0.33333333333333337, 0.33333333333333337, 0.33333333333333337, 0.17948717948717952, 0.3589743589743589, 0.4871794871794871, 0.2564102564102564, 0.41025641025641024, 0.4358974358974359, 0.3589743589743589, 0.9487179487179488, 0.2564102564102564, 0.4871794871794871, 0.33333333333333337, 0.7692307692307693, 0.2564102564102564, 0.6666666666666666, 0.28205128205128205, 0.6410256410256411, 0.20512820512820518, 0.17948717948717952, 0.28205128205128205, 0.3589743589743589, 0.33333333333333337, 0.2564102564102564, 0.3589743589743589, 0.8205128205128206, 0.33333333333333337, 0.33333333333333337, 0.20512820512820518, 0.3589743589743589, 0.23076923076923073, 0.2564102564102564, 0.17948717948717952, 0.5384615384615384, 0.41025641025641024, 0.3846153846153846, 0.23076923076923073, 0.3589743589743589, 0.6923076923076922, 0.5384615384615384, 0.3076923076923077, 0.3589743589743589, 0.8461538461538461, 0.33333333333333337, 0.5897435897435898, 0.3589743589743589, 0.3076923076923077, 0.33333333333333337, 0.33333333333333337, 0.6153846153846153, 0.23076923076923073, 0.17948717948717952, 0.23076923076923073, 0.5641025641025641, 0.4358974358974359, 0.3076923076923077, 0.33333333333333337, 0.33333333333333337, 0.33333333333333337, 0.3076923076923077, 0.33333333333333337, 0.3589743589743589, 0.2564102564102564, 0.3076923076923077, 0.5641025641025641, 0.2564102564102564, 0.33333333333333337, 0.23076923076923073, 0.2564102564102564, 0.23076923076923073, 0.4358974358974359, 0.4358974358974359, 0.23076923076923073, 0.41025641025641024, 0.717948717948718, 0.17948717948717952, 0.2564102564102564, 0.33333333333333337, 0.3076923076923077, 0.8974358974358975, 0.20512820512820518, 0.28205128205128205, 0.4358974358974359, 0.20512820512820518, 0.15384615384615385, 0.3076923076923077, 0.33333333333333337, 0.4871794871794871, 0.717948717948718, 0.2564102564102564, 0.28205128205128205, 0.23076923076923073, 0.46153846153846156, 0.17948717948717952, 0.2564102564102564, 0.46153846153846156, 0.2564102564102564, 0.3846153846153846, 0.8974358974358975, 0.3589743589743589, 0.5641025641025641, 0.23076923076923073, 0.28205128205128205, 0.3846153846153846, 0.17948717948717952, 0.33333333333333337, 0.3589743589743589, 0.7435897435897435, 0.33333333333333337, 0.23076923076923073, 0.3846153846153846, 0.23076923076923073, 0.28205128205128205, 0.17948717948717952, 0.3076923076923077, 0.3846153846153846, 0.6153846153846153, 0.20512820512820518, 0.6666666666666666, 0.717948717948718, 0.28205128205128205, 0.3589743589743589, 0.3846153846153846, 0.5384615384615384, 0.23076923076923073, 0.15384615384615385, 0.4871794871794871, 0.6666666666666666, 0.17948717948717952, 0.28205128205128205, 0.3846153846153846, 0.28205128205128205, 0.15384615384615385, 0.28205128205128205, 0.7692307692307693, 0.4871794871794871, 0.23076923076923073, 0.6153846153846153, 0.3846153846153846, 0.6666666666666666, 0.23076923076923073, 0.2564102564102564, 0.8205128205128206, 0.6410256410256411, 0.3076923076923077, 0.20512820512820518, 0.2564102564102564, 0.23076923076923073, 0.7948717948717948, 0.6410256410256411, 0.6666666666666666, 0.6410256410256411, 0.6153846153846153, 0.6923076923076922, 0.20512820512820518, 0.7435897435897435, 0.5641025641025641, 0.5384615384615384, 0.6923076923076922, 0.3076923076923077, 0.20512820512820518, 0.7692307692307693, 0.33333333333333337, 0.6153846153846153, 0.33333333333333337, 0.3076923076923077, 0.23076923076923073, 0.5384615384615384, 0.41025641025641024, 0.4358974358974359, 0.28205128205128205, 0.7692307692307693, 0.6666666666666666, 0.6923076923076922, 0.1282051282051282, 0.3589743589743589, 0.3076923076923077, 0.5384615384615384, 0.3589743589743589, 0.5128205128205128, 0.20512820512820518, 0.6153846153846153, 0.6153846153846153, 0.8205128205128206, 0.4871794871794871, 0.33333333333333337, 0.23076923076923073, 0.3589743589743589, 0.15384615384615385, 0.33333333333333337, 0.3076923076923077, 0.4871794871794871, 0.6410256410256411, 0.3076923076923077, 0.15384615384615385, 0.23076923076923073, 0.33333333333333337, 0.7692307692307693, 0.1282051282051282, 0.6666666666666666, 0.17948717948717952, 0.23076923076923073, 0.8461538461538461, 0.33333333333333337, 0.3076923076923077, 0.6923076923076922, 0.41025641025641024, 0.3846153846153846, 0.3076923076923077, 0.15384615384615385, 0.41025641025641024, 0.41025641025641024, 0.33333333333333337, 0.6410256410256411, 0.2564102564102564, 0.3589743589743589, 0.23076923076923073, 0.2564102564102564, 0.6923076923076922, 0.2564102564102564, 0.7948717948717948, 0.3076923076923077, 0.46153846153846156, 0.33333333333333337, 0.20512820512820518, 0.28205128205128205, 0.5641025641025641, 0.5897435897435898, 0.7692307692307693, 0.41025641025641024, 0.6410256410256411, 0.28205128205128205, 0.23076923076923073, 0.6153846153846153, 0.717948717948718, 0.20512820512820518, 0.4358974358974359, 0.6666666666666666, 0.41025641025641024, 0.17948717948717952, 0.23076923076923073, 0.3589743589743589, 0.23076923076923073, 0.33333333333333337, 0.3846153846153846, 0.20512820512820518, 0.3076923076923077, 0.3589743589743589, 0.1282051282051282, 0.33333333333333337, 0.20512820512820518, 0.6153846153846153, 0.17948717948717952, 0.2564102564102564, 0.3846153846153846, 0.2564102564102564, 0.33333333333333337, 0.7948717948717948, 0.4358974358974359, 0.28205128205128205, 0.2564102564102564, 0.3589743589743589, 0.3846153846153846, 0.6666666666666666, 0.23076923076923073, 0.3846153846153846, 0.4871794871794871, 0.8205128205128206, 0.717948717948718, 0.6153846153846153, 0.41025641025641024, 0.2564102564102564, 0.46153846153846156, 0.7692307692307693, 0.17948717948717952, 0.28205128205128205, 0.3076923076923077, 0.2564102564102564, 0.41025641025641024, 0.15384615384615385, 0.5128205128205128, 0.2564102564102564, 0.15384615384615385, 0.28205128205128205, 0.28205128205128205, 0.23076923076923073, 0.7692307692307693, 0.8717948717948717, 0.4358974358974359, 0.3076923076923077, 0.6153846153846153, 0.3076923076923077, 0.23076923076923073, 0.6410256410256411, 0.23076923076923073, 0.717948717948718, 0.33333333333333337, 0.33333333333333337, 0.23076923076923073, 0.5641025641025641, 0.717948717948718, 0.7692307692307693, 0.23076923076923073, 0.3589743589743589, 0.2564102564102564, 0.7435897435897435, 0.6410256410256411, 0.5128205128205128, 0.28205128205128205, 0.6666666666666666, 0.15384615384615385, 0.3589743589743589, 0.23076923076923073, 0.33333333333333337, 0.717948717948718, 0.33333333333333337, 0.2564102564102564, 0.3589743589743589, 0.20512820512820518, 0.7435897435897435, 0.2564102564102564, 0.717948717948718, 0.6666666666666666, 0.20512820512820518, 0.3846153846153846, 0.6153846153846153, 0.2564102564102564, 0.4358974358974359, 0.051282051282051266, 0.33333333333333337, 0.28205128205128205, 0.7948717948717948, 0.17948717948717952, 0.20512820512820518, 0.33333333333333337, 0.6666666666666666, 0.3846153846153846, 0.3589743589743589, 0.2564102564102564, 0.3076923076923077, 0.23076923076923073, 0.17948717948717952, 0.6923076923076922, 0.8461538461538461, 0.20512820512820518, 0.3589743589743589, 0.20512820512820518, 0.5128205128205128, 0.4871794871794871, 0.41025641025641024, 0.7692307692307693, 0.2564102564102564, 0.3846153846153846, 0.17948717948717952, 0.6923076923076922, 0.20512820512820518, 0.41025641025641024, 0.17948717948717952, 0.20512820512820518, 0.3846153846153846, 0.8205128205128206, 0.2564102564102564, 0.3846153846153846, 0.28205128205128205, 0.20512820512820518, 0.41025641025641024, 0.41025641025641024, 0.3076923076923077, 0.28205128205128205, 0.6410256410256411, 0.7948717948717948, 0.3076923076923077, 0.33333333333333337, 0.41025641025641024, 0.4871794871794871, 0.3589743589743589, 0.6153846153846153, 0.5384615384615384, 0.3589743589743589, 0.3846153846153846, 0.28205128205128205, 0.28205128205128205, 0.28205128205128205, 0.2564102564102564, 0.46153846153846156, 0.717948717948718, 0.28205128205128205, 0.33333333333333337, 0.6410256410256411, 0.28205128205128205, 0.3589743589743589, 0.6410256410256411, 0.46153846153846156, 0.4871794871794871, 0.3076923076923077, 0.2564102564102564, 0.28205128205128205, 0.20512820512820518, 0.3589743589743589, 0.5384615384615384, 0.3589743589743589, 0.23076923076923073, 0.28205128205128205, 0.1282051282051282, 0.3076923076923077, 0.6666666666666666, 0.20512820512820518, 0.5897435897435898, 0.41025641025641024, 0.3076923076923077, 0.3076923076923077, 0.20512820512820518, 0.6923076923076922, 0.23076923076923073, 0.3076923076923077, 0.28205128205128205, 0.5128205128205128, 0.33333333333333337, 0.3589743589743589, 0.23076923076923073, 0.7692307692307693, 0.3076923076923077, 0.41025641025641024, 0.6153846153846153, 0.3076923076923077, 0.2564102564102564, 0.6666666666666666, 0.41025641025641024, 0.6410256410256411, 0.28205128205128205, 0.3589743589743589, 0.23076923076923073, 0.6923076923076922, 0.28205128205128205, 0.4871794871794871, 0.3846153846153846, 0.7692307692307693, 0.28205128205128205, 0.2564102564102564, 0.15384615384615385, 0.3076923076923077, 0.2564102564102564, 0.28205128205128205, 0.41025641025641024, 0.23076923076923073, 0.3076923076923077, 0.28205128205128205, 0.3846153846153846, 0.2564102564102564, 0.28205128205128205, 0.5897435897435898, 0.6666666666666666, 0.28205128205128205, 0.23076923076923073, 0.10256410256410253, 0.15384615384615385, 0.7435897435897435, 0.17948717948717952, 0.17948717948717952, 0.28205128205128205, 0.7435897435897435, 0.7435897435897435, 0.3589743589743589, 0.4358974358974359, 0.3846153846153846, 0.3589743589743589, 0.5128205128205128, 0.8461538461538461, 0.7948717948717948, 0.23076923076923073, 0.3076923076923077, 0.2564102564102564, 0.3589743589743589, 0.6666666666666666, 0.20512820512820518, 0.15384615384615385, 0.28205128205128205, 0.20512820512820518, 0.23076923076923073, 0.28205128205128205, 0.3589743589743589, 0.4358974358974359, 0.2564102564102564, 0.2564102564102564, 0.41025641025641024, 0.8974358974358975, 0.33333333333333337, 0.33333333333333337, 0.6666666666666666, 0.7692307692307693, 0.4358974358974359, 0.15384615384615385, 0.41025641025641024, 0.2564102564102564, 0.28205128205128205, 0.28205128205128205, 0.41025641025641024, 0.17948717948717952, 0.3846153846153846, 0.7435897435897435, 0.3846153846153846, 0.20512820512820518, 0.2564102564102564, 0.3076923076923077, 0.4358974358974359, 0.3589743589743589, 0.41025641025641024, 0.6923076923076922, 0.3076923076923077, 0.7435897435897435, 0.3846153846153846, 0.3076923076923077, 0.6410256410256411, 0.33333333333333337, 0.41025641025641024, 0.7435897435897435, 0.33333333333333337, 0.8717948717948717, 0.23076923076923073, 0.5384615384615384, 0.28205128205128205, 0.3589743589743589, 0.33333333333333337, 0.717948717948718, 0.2564102564102564, 0.6666666666666666, 0.3846153846153846, 0.23076923076923073, 0.23076923076923073, 0.23076923076923073, 0.3076923076923077, 0.46153846153846156, 0.6153846153846153, 0.1282051282051282, 0.20512820512820518, 0.3846153846153846, 0.33333333333333337, 0.23076923076923073, 0.6923076923076922, 0.3589743589743589, 0.3076923076923077, 0.6153846153846153, 0.23076923076923073, 0.717948717948718, 0.7435897435897435, 0.7435897435897435, 0.41025641025641024, 0.4871794871794871, 0.17948717948717952, 0.28205128205128205, 0.717948717948718, 0.3846153846153846, 0.4358974358974359, 0.33333333333333337, 0.5641025641025641, 0.8974358974358975, 0.7692307692307693, 0.28205128205128205, 0.23076923076923073, 0.2564102564102564, 0.3846153846153846, 0.41025641025641024, 0.23076923076923073, 0.923076923076923, 0.20512820512820518, 0.46153846153846156, 0.15384615384615385, 0.15384615384615385, 0.15384615384615385, 0.7692307692307693, 0.41025641025641024, 0.717948717948718, 0.28205128205128205, 0.8461538461538461, 0.6666666666666666, 0.2564102564102564, 0.17948717948717952, 0.3589743589743589, 0.2564102564102564, 0.15384615384615385, 0.7692307692307693, 0.6923076923076922, 0.3076923076923077, 0.41025641025641024, 0.17948717948717952, 0.41025641025641024, 0.17948717948717952, 0.3846153846153846, 0.46153846153846156, 0.4358974358974359, 0.5897435897435898, 0.3846153846153846, 0.3589743589743589, 0.28205128205128205, 0.3846153846153846, 0.6923076923076922, 0.4358974358974359, 0.4358974358974359, 0.1282051282051282, 0.3076923076923077, 0.20512820512820518, 0.41025641025641024, 0.15384615384615385, 0.28205128205128205, 0.2564102564102564, 0.6923076923076922, 0.20512820512820518, 0.1282051282051282, 0.7948717948717948, 0.23076923076923073, 0.3846153846153846, 0.5128205128205128, 0.28205128205128205, 0.3846153846153846, 0.20512820512820518, 0.9487179487179488, 0.33333333333333337, 0.17948717948717952, 0.717948717948718, 0.23076923076923073, 0.33333333333333337, 0.3076923076923077, 0.20512820512820518, 0.33333333333333337, 0.15384615384615385, 0.5384615384615384, 0.20512820512820518, 0.3846153846153846, 0.2564102564102564, 0.33333333333333337, 0.4358974358974359, 0.3846153846153846, 0.3076923076923077, 0.23076923076923073, 0.6923076923076922, 0.33333333333333337, 0.4871794871794871, 0.33333333333333337, 0.3589743589743589, 0.3076923076923077, 0.2564102564102564, 0.7692307692307693, 0.2564102564102564, 0.3589743589743589, 0.6410256410256411, 0.23076923076923073, 0.1282051282051282, 0.3589743589743589, 0.2564102564102564, 0.33333333333333337, 0.4358974358974359, 0.33333333333333337, 0.15384615384615385, 0.46153846153846156, 0.3846153846153846, 0.3846153846153846, 0.5897435897435898, 0.28205128205128205, 0.33333333333333337, 0.9487179487179488, 0.4358974358974359, 0.41025641025641024, 0.5384615384615384, 0.4871794871794871, 0.15384615384615385, 0.3076923076923077, 0.28205128205128205, 0.17948717948717952, 0.41025641025641024, 0.15384615384615385, 0.46153846153846156, 0.23076923076923073, 0.3589743589743589, 0.23076923076923073, 0.17948717948717952, 0.3076923076923077, 0.4358974358974359, 0.33333333333333337, 0.3076923076923077, 0.2564102564102564, 0.3846153846153846, 0.7435897435897435, 0.15384615384615385, 0.8205128205128206, 0.6666666666666666, 0.46153846153846156, 0.3076923076923077, 0.717948717948718, 0.3076923076923077, 0.717948717948718, 0.3589743589743589, 0.3589743589743589, 0.2564102564102564, 0.6923076923076922, 0.28205128205128205, 0.5641025641025641, 0.5128205128205128, 0.7435897435897435, 0.5641025641025641, 0.41025641025641024, 0.5384615384615384, 0.28205128205128205, 0.2564102564102564, 0.28205128205128205, 0.20512820512820518, 0.2564102564102564, 0.4358974358974359, 0.8461538461538461, 0.10256410256410253, 0.23076923076923073, 0.6666666666666666, 0.6410256410256411, 0.2564102564102564, 0.2564102564102564, 0.3076923076923077, 0.41025641025641024, 0.23076923076923073, 0.717948717948718, 0.8461538461538461, 0.2564102564102564, 0.7435897435897435, 0.6923076923076922, 0.46153846153846156, 0.41025641025641024, 0.8974358974358975, 0.2564102564102564, 0.33333333333333337, 0.07692307692307693, 0.23076923076923073, 0.2564102564102564, 0.6410256410256411, 0.3076923076923077, 0.28205128205128205, 0.3076923076923077, 0.3846153846153846, 0.3076923076923077, 0.41025641025641024, 0.7435897435897435, 0.28205128205128205, 0.28205128205128205, 0.3846153846153846, 0.3589743589743589, 0.17948717948717952, 0.20512820512820518, 0.4871794871794871, 0.15384615384615385, 0.3846153846153846, 0.46153846153846156, 0.7948717948717948, 0.41025641025641024, 0.28205128205128205, 0.15384615384615385, 0.2564102564102564, 0.3589743589743589, 0.23076923076923073, 0.28205128205128205, 0.4871794871794871, 0.3846153846153846, 0.3076923076923077, 0.717948717948718, 0.41025641025641024, 0.28205128205128205, 0.5897435897435898, 0.3076923076923077, 0.6923076923076922, 0.3076923076923077, 0.4358974358974359, 0.20512820512820518, 0.23076923076923073, 0.23076923076923073, 0.7435897435897435, 0.4358974358974359, 0.2564102564102564, 0.17948717948717952, 0.6153846153846153, 0.7435897435897435, 0.23076923076923073, 0.15384615384615385, 0.7435897435897435, 0.33333333333333337, 0.2564102564102564, 0.6153846153846153, 0.2564102564102564, 0.17948717948717952, 0.3076923076923077, 0.1282051282051282, 0.20512820512820518, 0.4358974358974359, 0.5128205128205128, 0.41025641025641024, 0.46153846153846156, 0.4358974358974359, 0.46153846153846156, 0.28205128205128205, 0.20512820512820518, 0.20512820512820518, 0.2564102564102564, 0.2564102564102564, 0.20512820512820518, 0.15384615384615385, 0.23076923076923073, 0.717948717948718, 0.28205128205128205, 0.15384615384615385, 0.23076923076923073, 0.3846153846153846, 0.4358974358974359, 0.46153846153846156, 0.4358974358974359, 0.3589743589743589, 0.5641025641025641, 0.8974358974358975, 0.20512820512820518, 0.3846153846153846, 0.6923076923076922, 0.23076923076923073, 0.2564102564102564, 0.33333333333333337, 0.7692307692307693, 0.3076923076923077, 0.20512820512820518, 0.3589743589743589, 0.6153846153846153, 0.33333333333333337, 0.2564102564102564, 0.6666666666666666, 0.7435897435897435, 0.20512820512820518, 0.1282051282051282, 0.2564102564102564, 0.4871794871794871, 0.7435897435897435, 0.15384615384615385, 0.8205128205128206, 0.3589743589743589, 0.28205128205128205, 0.2564102564102564, 0.41025641025641024, 0.17948717948717952, 0.8205128205128206, 0.23076923076923073, 0.28205128205128205, 0.41025641025641024, 0.17948717948717952, 0.3846153846153846, 0.4358974358974359, 0.28205128205128205, 0.3589743589743589, 0.6410256410256411, 0.23076923076923073, 0.07692307692307693, 0.17948717948717952, 0.23076923076923073, 0.15384615384615385, 0.41025641025641024, 0.46153846153846156, 0.10256410256410253, 0.8461538461538461, 0.20512820512820518, 0.7435897435897435, 0.6666666666666666, 0.17948717948717952, 0.46153846153846156, 0.5128205128205128, 0.28205128205128205, 0.5897435897435898, 0.6666666666666666, 0.2564102564102564, 0.3076923076923077, 0.15384615384615385, 0.4358974358974359, 0.17948717948717952, 0.3076923076923077, 0.4871794871794871, 0.717948717948718, 0.15384615384615385, 0.17948717948717952, 0.3076923076923077, 0.2564102564102564, 0.2564102564102564, 0.23076923076923073, 0.23076923076923073, 0.1282051282051282, 0.20512820512820518, 0.28205128205128205, 0.5128205128205128, 0.17948717948717952, 0.6923076923076922, 0.23076923076923073, 0.2564102564102564, 0.23076923076923073, 0.33333333333333337, 0.5128205128205128, 0.5384615384615384, 0.20512820512820518, 0.7435897435897435, 0.20512820512820518, 0.6153846153846153, 0.23076923076923073, 0.20512820512820518, 0.20512820512820518, 0.7435897435897435, 0.3076923076923077, 0.17948717948717952, 0.1282051282051282, 0.20512820512820518, 0.46153846153846156, 0.23076923076923073, 0.4358974358974359, 0.15384615384615385, 0.6410256410256411, 0.2564102564102564, 0.33333333333333337, 0.6666666666666666, 0.15384615384615385, 0.7948717948717948, 0.23076923076923073, 0.28205128205128205, 0.4358974358974359, 0.6923076923076922, 0.1282051282051282, 0.2564102564102564, 0.6153846153846153, 0.2564102564102564, 0.17948717948717952, 0.2564102564102564, 0.6666666666666666, 0.41025641025641024, 0.41025641025641024, 0.15384615384615385, 0.717948717948718, 0.20512820512820518, 0.6153846153846153, 0.20512820512820518, 0.33333333333333337, 0.7692307692307693, 0.33333333333333337, 0.6666666666666666, 0.2564102564102564, 0.3589743589743589, 0.20512820512820518, 0.23076923076923073, 0.5641025641025641, 0.4358974358974359, 0.7948717948717948, 0.41025641025641024, 0.7948717948717948, 0.3076923076923077, 0.5384615384615384, 0.41025641025641024, 0.17948717948717952, 0.4358974358974359, 0.3846153846153846, 0.2564102564102564, 0.41025641025641024, 0.6153846153846153, 0.3589743589743589, 0.2564102564102564, 0.4358974358974359, 0.8205128205128206, 0.17948717948717952, 0.41025641025641024, 0.6153846153846153, 0.23076923076923073, 0.1282051282051282, 0.41025641025641024, 0.7948717948717948, 0.41025641025641024, 0.6666666666666666, 0.8205128205128206, 0.23076923076923073, 0.2564102564102564, 0.2564102564102564, 0.6923076923076922, 0.3076923076923077, 0.41025641025641024, 0.17948717948717952, 0.33333333333333337, 0.17948717948717952, 0.5897435897435898, 0.3846153846153846, 0.7435897435897435, 0.33333333333333337, 0.5128205128205128, 0.8461538461538461, 0.7435897435897435, 0.7692307692307693, 0.3846153846153846, 0.2564102564102564, 0.46153846153846156, 0.2564102564102564, 0.3589743589743589, 0.3589743589743589, 0.5897435897435898, 0.33333333333333337, 0.17948717948717952, 0.6666666666666666, 0.3076923076923077, 0.051282051282051266, 0.33333333333333337, 0.2564102564102564, 0.3846153846153846, 0.17948717948717952, 0.5897435897435898, 0.41025641025641024, 0.3846153846153846, 0.3076923076923077, 0.17948717948717952, 0.28205128205128205, 0.051282051282051266, 0.28205128205128205, 0.20512820512820518, 0.3589743589743589, 0.41025641025641024, 0.46153846153846156, 0.6153846153846153, 0.10256410256410253, 0.20512820512820518, 0.41025641025641024, 0.4358974358974359, 0.4358974358974359, 0.20512820512820518, 0.7435897435897435, 0.17948717948717952, 0.20512820512820518, 0.3076923076923077, 0.6923076923076922, 0.46153846153846156, 0.9743589743589743, 0.7435897435897435, 0.8974358974358975, 0.3846153846153846, 0.23076923076923073, 0.5641025641025641, 0.17948717948717952, 0.23076923076923073, 0.17948717948717952, 0.8717948717948717, 0.46153846153846156, 0.8974358974358975, 0.6153846153846153, 0.41025641025641024, 0.4358974358974359, 0.3076923076923077, 0.4358974358974359, 0.33333333333333337, 0.15384615384615385, 0.28205128205128205, 0.17948717948717952, 0.5641025641025641, 0.23076923076923073, 0.23076923076923073, 0.17948717948717952, 0.20512820512820518, 0.6410256410256411, 0.9487179487179488, 0.7435897435897435, 0.3846153846153846, 0.2564102564102564, 0.20512820512820518, 0.2564102564102564, 0.23076923076923073, 0.1282051282051282, 0.33333333333333337, 0.20512820512820518, 0.6153846153846153, 0.6153846153846153, 0.28205128205128205, 0.28205128205128205, 0.23076923076923073, 0.6666666666666666, 0.3076923076923077, 0.3076923076923077, 0.23076923076923073, 0.28205128205128205, 0.23076923076923073, 0.6153846153846153, 0.20512820512820518, 0.4358974358974359, 0.2564102564102564, 0.20512820512820518, 0.23076923076923073, 0.28205128205128205, 0.2564102564102564, 0.20512820512820518, 0.28205128205128205, 0.1282051282051282, 0.5128205128205128, 0.3589743589743589, 0.8205128205128206, 0.23076923076923073, 0.33333333333333337, 0.4358974358974359, 0.41025641025641024, 0.5897435897435898, 0.20512820512820518, 0.6153846153846153, 0.23076923076923073, 0.3076923076923077, 0.28205128205128205, 0.33333333333333337, 0.6153846153846153, 0.2564102564102564, 0.4358974358974359, 0.23076923076923073, 0.20512820512820518, 0.3846153846153846, 0.17948717948717952, 0.28205128205128205, 0.2564102564102564, 0.7692307692307693, 0.17948717948717952, 0.3589743589743589, 0.23076923076923073, 0.28205128205128205, 0.3589743589743589, 0.3846153846153846, 0.2564102564102564, 0.3589743589743589, 0.2564102564102564, 0.4358974358974359, 0.5128205128205128, 0.4358974358974359, 0.20512820512820518, 0.2564102564102564, 0.23076923076923073, 0.20512820512820518, 0.41025641025641024, 0.46153846153846156, 0.3589743589743589, 0.4871794871794871, 0.20512820512820518, 0.4358974358974359, 0.23076923076923073, 0.33333333333333337, 0.7948717948717948, 0.23076923076923073, 0.10256410256410253, 0.4871794871794871, 0.5128205128205128, 0.6153846153846153, 0.17948717948717952, 0.2564102564102564, 0.41025641025641024, 0.5384615384615384, 0.10256410256410253, 0.20512820512820518, 0.6666666666666666, 0.41025641025641024, 0.5641025641025641, 0.3076923076923077, 0.6410256410256411, 0.3589743589743589, 0.4358974358974359, 0.17948717948717952, 0.28205128205128205, 0.33333333333333337, 0.2564102564102564, 0.8205128205128206, 0.20512820512820518, 0.33333333333333337, 0.2564102564102564, 0.2564102564102564, 0.2564102564102564, 0.3589743589743589, 0.23076923076923073, 0.3076923076923077, 0.28205128205128205, 0.46153846153846156, 0.28205128205128205, 0.7692307692307693, 0.3589743589743589, 0.3076923076923077, 0.3076923076923077, 0.5128205128205128, 0.3076923076923077, 0.41025641025641024, 0.23076923076923073, 0.6923076923076922, 0.28205128205128205, 0.717948717948718, 0.7435897435897435, 0.41025641025641024, 0.17948717948717952, 0.20512820512820518, 0.20512820512820518, 0.6923076923076922, 0.8205128205128206, 0.23076923076923073, 0.9487179487179488, 0.3076923076923077, 0.6153846153846153, 0.3076923076923077, 0.20512820512820518, 0.20512820512820518, 0.2564102564102564, 0.46153846153846156, 0.6153846153846153, 0.3589743589743589, 0.15384615384615385, 0.6410256410256411, 0.3846153846153846, 0.3076923076923077, 0.33333333333333337, 0.3846153846153846, 0.5641025641025641, 0.3589743589743589, 0.3076923076923077, 0.717948717948718, 0.28205128205128205, 0.28205128205128205, 0.41025641025641024, 0.7435897435897435, 0.6923076923076922, 0.4358974358974359, 0.3076923076923077, 0.6923076923076922, 0.3589743589743589, 0.6410256410256411, 0.28205128205128205, 0.10256410256410253, 0.2564102564102564, 0.6410256410256411, 0.2564102564102564, 0.3589743589743589, 0.4358974358974359, 0.7692307692307693, 0.46153846153846156, 0.5128205128205128, 0.7948717948717948, 0.33333333333333337, 0.5128205128205128, 0.15384615384615385, 0.3846153846153846, 0.3846153846153846, 0.28205128205128205, 0.33333333333333337, 0.41025641025641024, 0.3846153846153846, 0.4358974358974359, 0.7692307692307693, 0.6153846153846153, 0.28205128205128205, 0.41025641025641024, 0.41025641025641024, 0.17948717948717952, 0.17948717948717952, 0.33333333333333337, 0.3846153846153846, 0.8461538461538461, 0.2564102564102564, 0.2564102564102564, 0.15384615384615385, 0.3846153846153846, 0.7692307692307693, 0.5641025641025641, 0.5897435897435898, 0.3846153846153846, 0.28205128205128205, 0.6410256410256411, 0.20512820512820518, 0.717948717948718, 0.3589743589743589, 0.17948717948717952, 0.15384615384615385, 0.4358974358974359, 0.23076923076923073, 0.28205128205128205, 0.28205128205128205, 0.20512820512820518, 0.2564102564102564, 0.3076923076923077, 0.7435897435897435, 0.28205128205128205, 0.23076923076923073, 0.20512820512820518, 0.15384615384615385, 0.6410256410256411, 0.7692307692307693, 0.7692307692307693, 0.15384615384615385, 0.3076923076923077, 0.46153846153846156, 0.3589743589743589, 0.8717948717948717, 0.5897435897435898, 0.23076923076923073, 0.41025641025641024, 0.17948717948717952, 0.5384615384615384, 0.20512820512820518, 0.20512820512820518, 0.3076923076923077, 0.17948717948717952, 0.3589743589743589, 0.3076923076923077, 0.2564102564102564, 0.33333333333333337, 0.41025641025641024, 0.2564102564102564, 0.3076923076923077, 0.07692307692307693, 0.6410256410256411, 0.20512820512820518, 0.717948717948718, 0.7435897435897435, 0.3076923076923077, 0.46153846153846156, 0.07692307692307693, 0.2564102564102564, 0.6666666666666666, 0.28205128205128205, 0.7435897435897435, 0.2564102564102564, 0.23076923076923073, 0.20512820512820518, 0.15384615384615385, 0.23076923076923073, 0.4358974358974359, 0.3076923076923077, 0.6153846153846153, 0.2564102564102564, 0.23076923076923073, 0.15384615384615385, 0.28205128205128205, 0.33333333333333337, 0.7435897435897435, 0.6666666666666666, 0.6923076923076922, 0.8717948717948717, 0.5128205128205128, 0.20512820512820518, 0.3846153846153846, 0.8205128205128206, 0.6410256410256411, 0.6923076923076922, 0.5641025641025641, 0.6923076923076922, 0.33333333333333337, 0.5384615384615384, 0.3076923076923077, 0.20512820512820518, 0.2564102564102564, 0.20512820512820518, 0.2564102564102564, 0.6410256410256411, 0.5128205128205128, 0.6410256410256411, 0.3589743589743589, 0.7435897435897435, 0.6923076923076922, 0.46153846153846156, 0.6410256410256411, 0.33333333333333337, 0.28205128205128205, 0.3076923076923077, 0.3076923076923077, 0.28205128205128205, 0.5641025641025641, 0.7692307692307693, 0.7948717948717948, 0.3846153846153846, 0.2564102564102564, 0.23076923076923073, 0.23076923076923073, 0.6923076923076922, 0.3589743589743589, 0.46153846153846156, 0.3589743589743589, 0.3589743589743589, 0.3076923076923077, 0.6153846153846153, 0.28205128205128205, 0.20512820512820518, 0.17948717948717952, 0.15384615384615385, 0.7692307692307693, 0.3589743589743589, 0.23076923076923073, 0.20512820512820518, 0.6666666666666666, 0.28205128205128205, 0.33333333333333337, 0.17948717948717952, 0.20512820512820518, 0.20512820512820518, 0.2564102564102564, 0.3846153846153846, 0.3589743589743589, 0.3846153846153846, 0.6923076923076922, 0.3846153846153846, 0.4358974358974359, 0.28205128205128205, 0.17948717948717952, 0.3589743589743589, 0.23076923076923073, 0.17948717948717952, 0.6666666666666666, 0.6410256410256411, 0.2564102564102564, 0.33333333333333337, 0.7948717948717948, 0.23076923076923073, 0.3589743589743589, 0.3076923076923077, 0.28205128205128205, 0.7435897435897435, 0.28205128205128205, 0.17948717948717952, 0.6666666666666666, 0.2564102564102564, 0.20512820512820518, 0.23076923076923073, 0.7692307692307693, 0.28205128205128205, 0.7692307692307693, 0.28205128205128205, 0.5897435897435898, 0.6923076923076922, 0.3846153846153846, 0.6666666666666666, 0.23076923076923073, 0.2564102564102564, 0.7435897435897435, 0.33333333333333337, 0.4871794871794871, 0.9487179487179488, 0.41025641025641024, 0.20512820512820518, 0.46153846153846156, 0.6153846153846153, 0.2564102564102564, 0.8717948717948717, 0.3076923076923077, 0.23076923076923073, 0.2564102564102564, 0.23076923076923073, 0.7948717948717948, 0.5384615384615384, 0.28205128205128205, 0.1282051282051282, 0.46153846153846156, 0.20512820512820518, 0.8205128205128206, 0.20512820512820518, 0.3076923076923077, 0.5128205128205128, 0.7692307692307693, 0.3846153846153846, 0.3076923076923077, 0.3076923076923077, 0.3076923076923077, 0.20512820512820518, 0.7692307692307693, 0.2564102564102564, 0.3589743589743589, 0.3589743589743589, 0.4358974358974359, 0.3589743589743589, 0.17948717948717952, 0.6410256410256411, 0.33333333333333337, 0.20512820512820518, 0.23076923076923073, 0.33333333333333337, 0.2564102564102564, 0.28205128205128205, 0.41025641025641024, 0.3846153846153846, 0.5897435897435898, 0.3076923076923077, 0.7435897435897435, 0.23076923076923073, 0.28205128205128205, 0.2564102564102564, 0.2564102564102564, 0.3076923076923077, 0.6666666666666666, 0.15384615384615385, 0.8717948717948717, 0.3589743589743589, 0.2564102564102564, 0.20512820512820518, 0.23076923076923073, 0.6923076923076922, 0.8717948717948717, 0.3589743589743589, 0.7948717948717948, 0.6410256410256411, 0.5641025641025641, 0.20512820512820518, 0.23076923076923073, 0.17948717948717952, 0.46153846153846156, 0.7692307692307693, 0.3076923076923077, 0.46153846153846156, 0.5384615384615384, 0.6666666666666666, 0.2564102564102564, 0.3589743589743589, 0.5897435897435898, 0.7948717948717948, 0.15384615384615385, 0.6666666666666666, 0.8461538461538461, 0.28205128205128205, 0.41025641025641024, 0.17948717948717952, 0.4358974358974359, 0.2564102564102564, 0.5128205128205128, 0.5128205128205128, 0.4358974358974359, 0.28205128205128205, 0.3589743589743589, 0.17948717948717952, 0.28205128205128205, 0.33333333333333337, 0.3589743589743589, 0.23076923076923073, 0.17948717948717952, 0.2564102564102564, 0.23076923076923073, 0.1282051282051282, 0.17948717948717952, 0.4871794871794871, 0.6923076923076922, 0.6153846153846153, 0.20512820512820518, 0.6666666666666666, 0.23076923076923073, 0.17948717948717952, 0.2564102564102564, 0.2564102564102564, 0.23076923076923073, 0.46153846153846156, 0.17948717948717952, 0.41025641025641024, 0.5897435897435898, 0.23076923076923073, 0.41025641025641024, 0.6410256410256411, 0.3076923076923077, 0.4871794871794871, 0.33333333333333337, 0.5384615384615384, 0.46153846153846156, 0.41025641025641024, 0.28205128205128205, 0.717948717948718, 0.3076923076923077, 0.3589743589743589, 0.6153846153846153, 0.3589743589743589, 0.3589743589743589, 0.17948717948717952, 0.4358974358974359, 0.17948717948717952, 0.3846153846153846, 0.7692307692307693, 0.3589743589743589, 0.6153846153846153, 0.2564102564102564, 0.3589743589743589, 0.7692307692307693, 0.20512820512820518, 0.20512820512820518, 0.7435897435897435, 0.3589743589743589, 0.20512820512820518, 0.3076923076923077, 0.8974358974358975, 0.5128205128205128, 0.33333333333333337, 0.8205128205128206, 0.3076923076923077, 0.6666666666666666, 0.2564102564102564, 0.17948717948717952, 0.3076923076923077, 0.6153846153846153, 0.41025641025641024, 0.2564102564102564, 0.3846153846153846, 0.41025641025641024, 0.5897435897435898, 0.5128205128205128, 0.4358974358974359, 0.3589743589743589, 0.8974358974358975, 0.5384615384615384, 0.6666666666666666, 0.3589743589743589, 0.33333333333333337, 0.8461538461538461, 0.10256410256410253, 0.717948717948718, 0.4358974358974359, 0.1282051282051282, 0.6923076923076922, 0.6410256410256411, 0.6153846153846153, 0.5897435897435898, 0.4871794871794871, 0.923076923076923, 0.23076923076923073, 0.8974358974358975, 0.6923076923076922, 0.1282051282051282, 0.5384615384615384, 0.4358974358974359, 0.6153846153846153, 0.6410256410256411, 0.3846153846153846, 0.2564102564102564, 0.28205128205128205, 0.20512820512820518, 0.5128205128205128, 0.7435897435897435, 0.17948717948717952, 0.3589743589743589, 0.33333333333333337, 0.8205128205128206, 0.41025641025641024, 0.4358974358974359, 0.20512820512820518, 0.17948717948717952, 0.28205128205128205, 0.4358974358974359, 0.15384615384615385, 0.3846153846153846, 0.33333333333333337, 0.3846153846153846, 0.46153846153846156, 0.3589743589743589, 0.17948717948717952, 0.33333333333333337, 0.33333333333333337, 0.17948717948717952, 0.7948717948717948, 0.3076923076923077, 0.33333333333333337, 0.3589743589743589, 0.3846153846153846, 0.15384615384615385, 0.17948717948717952, 0.28205128205128205, 0.33333333333333337, 0.15384615384615385, 0.4358974358974359, 0.3846153846153846, 0.33333333333333337, 0.5641025641025641, 0.3846153846153846, 0.2564102564102564, 0.7435897435897435, 0.20512820512820518, 0.3846153846153846, 0.20512820512820518, 0.28205128205128205, 0.17948717948717952, 0.17948717948717952, 0.3846153846153846, 0.3589743589743589, 0.41025641025641024, 0.3846153846153846, 0.41025641025641024, 0.2564102564102564, 0.28205128205128205, 0.4358974358974359, 0.6923076923076922, 0.3846153846153846, 0.23076923076923073, 0.5897435897435898, 0.23076923076923073, 0.3589743589743589, 0.5641025641025641, 0.7692307692307693, 0.3589743589743589, 0.33333333333333337, 0.33333333333333337, 0.4871794871794871, 0.5128205128205128, 0.23076923076923073, 0.4871794871794871, 0.2564102564102564, 0.7948717948717948, 0.8461538461538461, 0.5641025641025641, 0.3589743589743589, 0.17948717948717952, 0.33333333333333337, 0.2564102564102564, 0.15384615384615385, 0.28205128205128205, 0.17948717948717952, 0.3846153846153846, 0.5641025641025641, 0.28205128205128205, 0.717948717948718, 0.4358974358974359, 0.41025641025641024, 0.28205128205128205, 0.41025641025641024, 0.28205128205128205, 0.20512820512820518, 0.20512820512820518, 0.23076923076923073, 0.15384615384615385, 0.3846153846153846, 0.5897435897435898, 0.46153846153846156, 0.28205128205128205, 0.5897435897435898, 0.2564102564102564, 0.5384615384615384, 0.3846153846153846, 0.3589743589743589, 0.17948717948717952, 0.6410256410256411, 0.3076923076923077, 0.8461538461538461, 0.4358974358974359, 0.23076923076923073, 0.4871794871794871, 0.717948717948718, 0.10256410256410253, 0.15384615384615385, 0.6666666666666666, 0.2564102564102564, 0.3076923076923077, 0.5897435897435898, 0.3846153846153846, 0.3589743589743589, 0.7435897435897435, 0.3589743589743589, 0.17948717948717952, 0.28205128205128205, 0.28205128205128205, 0.3846153846153846, 0.3589743589743589, 0.051282051282051266, 0.23076923076923073], \"yaxis\": \"y\"}, {\"marker\": {\"color\": [1, 1, 1, 0, 2, 1, 1, 1, 0, 0, 2, 1, 1, 0, 2, 2, 2, 1, 0, 0, 1, 1, 1, 2, 1, 2, 2, 2, 0, 1, 0, 1, 1, 1, 0, 0, 0, 0, 1, 2, 1, 2, 1, 0, 0, 2, 1, 0, 1, 1, 0, 2, 0, 2, 1, 0, 2, 0, 1, 1, 2, 1, 2, 0, 2, 2, 2, 1, 0, 0, 0, 1, 2, 0, 1, 0, 1, 0, 1, 1, 0, 1, 0, 1, 0, 0, 1, 2, 1, 2, 0, 1, 1, 2, 0, 1, 2, 1, 0, 1, 2, 1, 2, 0, 1, 2, 1, 1, 1, 0, 1, 1, 1, 1, 0, 0, 2, 0, 1, 0, 0, 0, 0, 2, 0, 1, 1, 1, 1, 1, 1, 1, 2, 1, 1, 2, 1, 0, 2, 1, 0, 2, 1, 1, 1, 0, 0, 0, 2, 0, 0, 2, 1, 0, 0, 0, 1, 1, 2, 0, 0, 0, 1, 1, 1, 1, 2, 1, 1, 0, 0, 1, 0, 1, 0, 2, 0, 2, 0, 1, 1, 0, 1, 1, 1, 0, 1, 1, 0, 1, 1, 1, 1, 0, 0, 1, 2, 2, 0, 0, 0, 0, 1, 0, 0, 1, 1, 1, 1, 1, 2, 0, 1, 1, 0, 0, 1, 0, 2, 1, 1, 0, 0, 2, 0, 1, 0, 1, 1, 1, 1, 2, 2, 0, 1, 2, 2, 2, 2, 1, 1, 1, 2, 2, 2, 2, 2, 1, 0, 0, 0, 0, 1, 1, 0, 0, 2, 0, 1, 0, 2, 1, 2, 2, 1, 2, 1, 1, 0, 1, 1, 1, 0, 0, 1, 2, 2, 1, 0, 0, 1, 1, 2, 2, 1, 2, 1, 2, 2, 1, 2, 2, 0, 1, 0, 2, 0, 1, 0, 2, 0, 2, 2, 1, 0, 0, 2, 1, 0, 1, 1, 1, 1, 1, 1, 1, 0, 1, 1, 0, 1, 1, 2, 1, 1, 0, 1, 1, 0, 1, 1, 2, 2, 0, 2, 2, 0, 1, 1, 1, 2, 0, 2, 2, 0, 2, 1, 0, 1, 0, 0, 1, 0, 2, 1, 1, 1, 2, 1, 1, 1, 2, 2, 2, 0, 1, 0, 1, 2, 0, 0, 1, 0, 1, 0, 1, 1, 1, 1, 1, 2, 1, 0, 2, 1, 0, 1, 0, 0, 0, 0, 0, 0, 1, 1, 1, 1, 1, 0, 1, 0, 2, 1, 1, 2, 0, 1, 0, 2, 0, 1, 1, 1, 1, 1, 2, 0, 1, 0, 2, 2, 0, 2, 0, 0, 1, 0, 2, 1, 1, 1, 0, 0, 0, 1, 0, 2, 2, 2, 1, 1, 1, 1, 1, 1, 0, 1, 2, 1, 1, 0, 2, 2, 0, 2, 1, 0, 1, 2, 0, 2, 1, 1, 1, 0, 1, 1, 1, 1, 0, 1, 0, 1, 1, 1, 0, 1, 1, 0, 1, 1, 0, 1, 2, 1, 2, 1, 1, 2, 2, 0, 1, 1, 0, 1, 1, 2, 0, 2, 2, 1, 2, 1, 1, 1, 1, 2, 1, 1, 1, 1, 0, 1, 0, 2, 1, 1, 0, 0, 1, 1, 0, 0, 0, 2, 2, 0, 0, 2, 1, 1, 1, 1, 1, 2, 1, 1, 0, 0, 0, 2, 1, 0, 1, 1, 2, 0, 0, 1, 0, 1, 1, 1, 0, 2, 0, 1, 2, 2, 0, 2, 1, 1, 1, 1, 2, 1, 1, 0, 2, 0, 1, 1, 1, 0, 1, 1, 0, 1, 1, 1, 0, 1, 1, 2, 2, 1, 0, 1, 1, 2, 0, 0, 2, 0, 1, 2, 1, 1, 0, 1, 1, 1, 0, 1, 1, 1, 0, 1, 1, 1, 1, 0, 0, 1, 1, 0, 1, 1, 1, 0, 1, 0, 1, 0, 2, 2, 1, 1, 2, 1, 1, 1, 1, 1, 0, 0, 1, 0, 1, 1, 2, 0, 1, 2, 1, 1, 1, 1, 1, 0, 1, 0, 1, 1, 2, 1, 1, 0, 0, 1, 1, 1, 2, 1, 2, 1, 2, 1, 0, 0, 1, 1, 1, 0, 0, 0, 1, 0, 0, 0, 2, 1, 0, 0, 0, 1, 1, 0, 1, 1, 0, 1, 1, 1, 1, 2, 0, 0, 0, 1, 2, 0, 2, 0, 2, 0, 0, 0, 1, 1, 1, 1, 0, 1, 2, 0, 0, 1, 1, 1, 1, 1, 1, 0, 1, 0, 0, 0, 0, 1, 1, 0, 0, 0, 0, 1, 1, 2, 2, 1, 2, 1, 1, 0, 2, 2, 2, 1, 0, 2, 0, 2, 1, 0, 1, 1, 0, 0, 2, 0, 1, 1, 1, 0, 0, 0, 2, 2, 1, 1, 0, 1, 0, 2, 1, 0, 1, 1, 1, 2, 1, 2, 2, 0, 2, 0, 1, 2, 0, 0, 1, 1, 2, 2, 1, 0, 1, 1, 1, 1, 1, 0, 0, 1, 1, 2, 1, 1, 1, 1, 0, 1, 2, 1, 0, 1, 0, 2, 0, 0, 1, 1, 1, 1, 0, 1, 2, 1, 1, 1, 1, 1, 1, 1, 0, 1, 1, 0, 2, 0, 0, 1, 1, 1, 0, 0, 1, 1, 1, 1, 1, 2, 1, 2, 0, 2, 0, 0, 0, 2, 1, 0, 1, 2, 1, 2, 1, 1, 0, 2, 1, 1, 1, 1, 2, 2, 2, 1, 0, 0, 0, 0, 1, 2, 1, 1, 2, 0, 1, 0, 2, 1, 2, 0, 2, 1, 2, 2, 2, 0, 0, 1, 1, 1, 2, 1, 2, 1, 1, 2, 1, 2, 1, 1, 1, 1, 1, 1, 0, 1, 0, 2, 1, 1, 0, 0, 1, 1, 1, 2, 2, 0, 1, 1, 1, 0, 1, 0, 0, 2, 1, 1, 1, 1, 1, 0, 1, 2, 1, 1, 0, 0, 2, 1, 0, 1, 1, 1, 2, 1, 2, 1, 1, 0, 2, 0, 0, 1, 1, 0, 1, 1, 0, 1, 1, 0, 1, 2, 0, 1, 0, 1, 1, 0, 1, 0, 1, 0, 1, 1, 0, 0, 2, 1, 1, 0, 2, 1, 0, 1, 2, 1, 1, 1, 0, 1, 1, 1, 2, 1, 0, 1, 0, 1, 1, 1, 0, 0, 0, 1, 0, 0, 2, 1, 0, 2, 0, 2, 1, 1, 1, 1, 2, 0, 1, 1, 2, 0, 1, 1, 0, 1, 0, 0, 0, 0, 1, 0, 0, 1, 1, 0, 1, 0, 0, 1, 0, 2, 1, 1, 1, 0, 2, 1, 1, 1, 1, 1, 0, 1, 2, 2, 1, 1, 1, 2, 1, 1, 0, 1, 0, 2, 0, 2, 1, 1, 0, 1, 0, 0, 2, 0, 1, 0, 1, 1, 1, 0, 1, 2, 1, 0, 2, 0, 0, 0, 0, 1, 1, 2, 2, 1, 1, 0, 1, 1, 1, 0, 0, 0, 2, 0, 2, 1, 0, 2, 0, 1, 0, 1, 1, 2, 0, 2, 2, 2, 2, 1, 2, 2, 2, 2, 1, 1, 2, 0, 0, 1, 1, 1, 2, 0, 0, 1, 2, 2, 2, 1, 1, 1, 0, 0, 2, 1, 2, 2, 2, 2, 1, 1, 0, 1, 1, 1, 0, 2, 1, 1, 1, 0, 2, 1, 0, 1, 1, 2, 1, 1, 2, 0, 0, 0, 1, 0, 0, 1, 2, 1, 1, 1, 1, 2, 1, 2, 0, 0, 1, 1, 1, 0, 2, 2, 0, 2, 1, 1, 2, 2, 1, 0, 2, 0, 1, 1, 0, 0, 1, 1, 0, 1, 1, 1, 1, 0, 2, 0, 1, 1, 1, 1, 2, 2, 1, 1, 0, 0, 2, 1, 0, 0, 2, 2, 2, 0, 1, 1, 2, 0, 1, 1, 1, 1, 1, 2, 1, 1, 1, 1, 0, 2, 0, 0, 1, 2, 1, 1, 2, 0, 2, 0, 1, 1, 0, 2, 2, 1, 0, 1, 2, 2, 0, 1, 2, 0, 0, 1, 1, 2, 1, 1, 0, 1, 2, 1, 2, 2, 1, 0, 2, 1, 1, 0, 0, 1, 0, 1, 1, 0, 2, 0, 0, 1, 0, 1, 0, 2, 2, 1, 0, 1, 0, 0, 0, 2, 0, 1, 1, 0, 1, 0, 1, 1, 0, 2, 0, 1, 1, 1, 0, 0, 0, 0, 2, 2, 0, 1, 1, 0, 0, 2, 0, 1, 0, 1, 1, 1, 1, 0, 2, 0, 0, 2, 1, 0, 0, 1, 0, 1, 1, 1, 1, 0, 0, 0, 1, 0, 1, 1, 0, 1, 0, 0, 1, 0, 1, 2, 1, 1, 1, 2, 1, 1, 1, 2, 1, 0, 0, 1, 1, 2, 0, 2, 0, 0, 1, 2, 1, 0, 0, 2, 1, 0, 1, 1, 0, 1, 0, 0, 1, 1, 1, 1, 1, 2, 2, 1, 0, 1, 1, 2, 1, 1, 1, 0, 2, 0, 0, 0, 0, 1, 2, 2, 1, 0, 1, 1, 2, 1, 1, 1, 1, 0, 0, 1, 0, 1, 1, 0, 2, 1, 1, 2, 2, 1, 1, 0, 1, 1, 1, 1, 0, 1, 2, 1, 0, 0, 0, 0, 1, 1, 2, 1, 2, 0, 0, 2, 0, 0, 2, 1, 2, 1, 2, 1, 1, 0, 2, 1, 0, 1, 1, 1, 1, 0, 0, 2, 1, 1, 1, 1, 1, 2, 1, 1, 2, 1, 2, 0, 2, 0, 0, 1, 1, 0, 0, 0, 0, 2, 2, 2, 0, 1, 1, 1, 0, 0, 2, 0, 1, 1, 0, 1, 2, 1, 2, 0, 2, 0, 0, 0, 1, 1, 0, 2, 2, 0, 1, 1, 0, 1, 0, 0, 0, 2, 0, 1, 1, 0, 2, 1, 0, 1, 1, 1, 1, 1, 1, 0, 2, 1, 0, 2, 1, 0, 1, 1, 1, 1, 2, 1, 1, 2, 1, 0, 1, 1, 1, 1, 2, 1, 1, 0, 1, 2, 0, 1, 1, 2, 0, 0, 1, 0, 1, 1, 2, 1, 1, 2, 1, 1, 0, 1, 1, 0, 1, 0, 2, 0, 0, 2, 1, 1, 2, 0, 0, 1, 0, 0, 1, 1, 0, 0, 1, 1, 1, 0, 0, 1, 0, 0, 1, 1, 1, 1, 0, 1, 2, 2, 2, 1, 2, 1, 2, 0, 0, 1, 2, 0, 2, 2, 2, 2, 0, 1, 0, 1, 1, 1, 1, 1, 2, 1, 0, 0, 2, 1, 1, 0, 1, 0, 2, 2, 1, 2, 0, 1, 0, 2, 1, 1, 0, 1, 1, 2, 1, 1, 1, 0, 1, 0, 2, 1, 0, 0, 0, 1, 1, 0, 0, 0, 0, 2, 0, 1, 1, 0, 0, 1, 1, 0, 0, 1, 2, 0, 1, 2, 1, 2, 0, 0, 1, 0, 1, 2, 0, 1, 1, 2, 2, 1, 1, 0, 1, 1, 2, 0, 0, 1, 1, 1, 1, 2, 1, 0, 0, 0, 1, 1, 0, 1, 1, 1, 0, 1, 2, 1, 1, 0, 0, 0, 0, 0, 1, 2, 2, 0, 0, 2, 1, 1, 1, 2, 0, 1, 1, 2, 0, 0, 2, 2, 1, 1, 0, 2, 2, 1, 2, 0, 1, 1, 0, 1, 2, 1, 1, 1, 0, 0, 1, 0, 0, 2, 1, 1, 1, 1, 1, 1, 1, 1, 2, 1, 2, 2, 1, 0, 0, 1, 2, 2, 1, 1, 1, 1, 1, 1, 1, 2, 1, 1, 0, 1, 0, 1, 1, 1, 0, 1, 0, 1, 2, 1, 0, 1, 1, 2, 2, 1, 2, 1, 2, 0, 1, 0, 2, 1, 1, 1, 1, 0, 0, 1, 0, 2, 1, 0, 2, 0, 2, 1, 1, 0, 2, 1, 0, 2, 1, 1, 0, 2, 1, 2, 1, 2, 1, 2, 1, 0, 2, 1, 0, 1, 0, 1, 1, 2, 1, 2, 0, 2, 1, 2, 0, 1, 1, 0, 0, 1, 2, 1, 1, 1, 2, 1, 0, 0, 0, 1, 1, 2, 0, 2, 2, 0, 1, 1, 0, 1, 0, 1, 1, 1, 2, 1, 2, 0, 0, 2, 2, 2, 0, 1, 0, 1, 1, 1, 2, 1, 1, 2, 0, 1, 0, 1, 0, 1, 0, 0, 0, 1, 0, 1, 1, 1, 1, 0, 0, 0, 0, 0, 0, 0, 0, 1, 0, 2, 1, 1, 1, 2, 0, 2, 2, 2, 0, 1, 2, 1, 1, 1, 2, 0, 2, 0, 1, 0, 1, 0, 1, 1, 1, 1, 2, 1, 1, 0, 1, 2, 2, 2, 0, 1, 0, 1, 1, 1, 1, 1, 2, 2, 0, 1, 0, 2, 1, 1, 1, 1, 1, 2, 1, 2, 0, 1, 0, 1, 1, 1, 0, 1, 0, 0, 2, 1, 1, 0, 0, 2, 1, 2, 1, 1, 1, 1, 2, 1, 1, 1, 0, 0, 1, 1, 0, 2, 1, 0, 1, 0, 1, 0, 1, 1, 1, 1, 2, 1, 1, 1, 0, 1, 0, 0, 0, 0, 1, 1, 0, 0, 2, 0, 1, 0, 1, 0, 1, 1, 0, 2, 1, 1, 2, 0, 2, 1, 2, 0, 0, 1, 1, 0, 0, 2, 1, 0, 0, 1, 1, 1, 1, 1, 1, 1, 1, 2, 0, 0, 1, 0, 1, 0, 1, 2, 0, 0, 2, 0, 1, 0, 1, 2, 2, 1, 2, 0, 2, 1, 0, 1, 1, 0, 2, 0, 1, 2, 1, 1, 1, 0, 2, 1, 0, 2, 0, 0, 0, 0, 2, 0, 1, 2, 1, 2, 1, 1, 0, 2, 0, 1, 1, 2, 0, 1, 2, 0, 1, 1, 0, 1, 0, 0, 1, 0, 0, 2, 2, 1, 1, 1, 0, 1, 0, 0, 2, 0, 1, 1, 1, 2, 0, 2, 0, 1, 2, 1, 2, 1, 1, 1, 0, 1, 0, 1, 1, 0, 0, 2, 1, 1, 1, 1, 2, 2, 0, 1, 0, 1, 0, 2, 2, 1, 1, 1, 0, 1, 1, 0, 1, 0, 1, 1, 1, 1, 1, 1, 1, 0, 0, 2, 2, 1, 2, 1, 1, 2, 1, 2, 0, 1, 1, 1, 0, 1, 1, 2, 0, 1, 1, 1, 1, 2, 2, 2, 2, 0, 1, 0, 2, 2, 2, 0, 2, 0, 0, 1, 1, 1, 1, 1, 2, 2, 2, 1, 2, 2, 0, 2, 1, 1, 1, 1, 1, 2, 2, 0, 1, 1, 1, 1, 2, 0, 0, 0, 0, 0, 0, 1, 1, 1, 1, 2, 1, 0, 1, 2, 1, 1, 1, 1, 1, 1, 0, 0, 0, 2, 0, 0, 1, 1, 0, 0, 0, 2, 2, 1, 1, 2, 1, 1, 0, 1, 2, 0, 1, 2, 0, 1, 1, 2, 0, 2, 1, 2, 2, 0, 0, 1, 0, 2, 1, 0, 2, 0, 1, 1, 2, 0, 2, 1, 0, 1, 1, 2, 2, 1, 1, 0, 0, 2, 1, 1, 2, 2, 1, 1, 0, 1, 1, 2, 0, 0, 1, 1, 0, 1, 2, 1, 1, 1, 1, 1, 0, 1, 0, 0, 0, 2, 1, 1, 1, 1, 0, 2, 1, 2, 1, 1, 1, 1, 2, 2, 0, 0, 2, 0, 1, 0, 1, 2, 2, 1, 0, 0, 2, 0, 0, 2, 0, 1, 2, 2, 0, 0, 1, 0, 1, 2, 2, 1, 1, 0, 1, 1, 1, 1, 1, 1, 0, 1, 1, 1, 0, 2, 0, 1, 2, 1, 0, 0, 1, 0, 0, 1, 0, 2, 1, 1, 2, 1, 0, 1, 0, 1, 0, 1, 2, 1, 1, 2, 1, 1, 1, 0, 1, 0, 0, 0, 2, 1, 1, 2, 1, 1, 2, 0, 0, 1, 2, 2, 1, 2, 1, 2, 1, 1, 1, 2, 0, 0, 0, 1, 2, 0, 1, 1, 2, 2, 0, 1, 1, 2, 1, 2, 0, 1, 2, 2, 2, 2, 2, 2, 1, 2, 2, 1, 2, 0, 2, 2, 0, 1, 0, 1, 2, 2, 1, 0, 1, 2, 0, 0, 1, 1, 1, 1, 1, 0, 1, 0, 1, 0, 1, 1, 1, 1, 2, 0, 1, 1, 0, 1, 1, 1, 1, 1, 0, 1, 0, 2, 1, 1, 0, 1, 1, 1, 1, 1, 1, 1, 1, 0, 1, 0, 1, 1, 0, 2, 1, 0, 2, 1, 0, 2, 2, 0, 1, 0, 0, 1, 1, 1, 1, 2, 0, 0, 1, 1, 1, 0, 1, 0, 1, 0, 2, 1, 2, 0, 0, 1, 0, 1, 1, 1, 1, 1, 0, 2, 1, 0, 0, 1, 0, 0, 1, 0, 2, 0, 2, 0, 0, 0, 2, 1, 1, 2, 1, 0, 2, 1, 0, 2, 1, 1, 1, 0, 0, 0, 1, 1]}, \"mode\": \"markers\", \"type\": \"scatter\", \"x\": [0.413546255506608, 0.2990088105726873, 0.0842511013215859, 0.5165198237885463, 0.14482378854625552, 0.420704845814978, 0.4620044052863437, 0.27477973568281944, 0.4284140969162996, 0.6189427312775331, 0.03634361233480177, 0.04680616740088107, 0.2274229074889868, 0.4140969162995595, 0.61784140969163, 0.1685022026431718, 0.4686123348017622, 0.07433920704845816, 0.6150881057268723, 0.48898678414096924, 0.1828193832599119, 0.3491189427312776, 0.3056167400881058, 0.3188325991189428, 0.028083700440528638, 0.3166299559471366, 0.06057268722466961, 0.5490088105726872, 0.8160792951541851, 0.00881057268722467, 0.4218061674008811, 0.2940528634361234, 0.058370044052863446, 0.1696035242290749, 0.5044052863436124, 0.585352422907489, 0.4994493392070485, 0.6718061674008812, 0.40143171806167405, 0.0033039647577092516, 0.2290748898678414, 0.34581497797356836, 0.4085903083700441, 0.907488986784141, 0.682819383259912, 0.1194933920704846, 0.11508810572687225, 0.6321585903083701, 0.25110132158590315, 0.223568281938326, 0.6332599118942732, 0.3083700440528635, 0.670704845814978, 0.08480176211453745, 0.10627753303964758, 0.5941629955947137, 0.29240088105726875, 0.4498898678414098, 0.25000000000000006, 0.012114537444933921, 0.1668502202643172, 0.001101321585903084, 0.23072687224669605, 0.7389867841409693, 0.05726872246696036, 0.29625550660792954, 0.1261013215859031, 0.4030837004405287, 0.9179515418502203, 0.6409691629955948, 0.8232378854625552, 0.18061674008810574, 0.09416299559471367, 0.637114537444934, 0.05506607929515419, 0.7775330396475771, 0.07984581497797358, 0.9779735682819385, 0.07323788546255507, 0.26156387665198244, 0.4190528634361234, 0.21145374449339208, 0.8617841409691631, 0.019823788546255508, 0.5187224669603525, 0.7075991189427314, 0.03854625550660794, 0.09966960352422909, 0.328193832599119, 0.05231277533039649, 0.8193832599118944, 0.22522026431718065, 0.20539647577092512, 0.21640969162995596, 0.5269823788546256, 0.20704845814977976, 0.4845814977973569, 0.1668502202643172, 0.5110132158590309, 0.2290748898678414, 0.053414096916299565, 0.37114537444933926, 0.08314977973568283, 0.6602422907488987, 0.3436123348017622, 0.5236784140969164, 0.37500000000000006, 0.05231277533039649, 0.0060572687224669615, 0.4625550660792952, 0.14702643171806168, 0.38766519823788553, 0.23348017621145375, 0.04405286343612336, 0.8970264317180617, 0.572136563876652, 0.25550660792951546, 0.5247797356828194, 0.0644273127753304, 0.4300660792951542, 0.48513215859030845, 0.6007709251101322, 0.7802863436123348, 0.3397577092511014, 0.47466960352422916, 0.1723568281938326, 0.40363436123348023, 0.029735682819383262, 0.27477973568281944, 0.058370044052863446, 0.07929515418502203, 0.022026431718061675, 0.3386563876651983, 0.02092511013215859, 0.2599118942731278, 0.12114537444933922, 0.40914096916299564, 0.5165198237885463, 0.06883259911894274, 0.09416299559471367, 0.629955947136564, 0.413546255506608, 0.37224669603524235, 0.10077092511013216, 0.3193832599118943, 0.48953744493392076, 0.4620044052863437, 0.6657488986784141, 0.08920704845814978, 0.9229074889867842, 0.748898678414097, 0.5517621145374451, 0.15308370044052863, 0.7202643171806168, 0.4553964757709252, 0.756057268722467, 0.4190528634361234, 0.3860132158590309, 0.11618942731277533, 0.5886563876651983, 0.4421806167400882, 0.4658590308370045, 0.1222466960352423, 0.3199339207048459, 0.02588105726872247, 0.0038546255506607934, 0.5859030837004406, 0.1800660792951542, 0.09030837004405287, 0.6079295154185023, 0.7665198237885463, 0.2808370044052864, 0.8926211453744495, 0.3612334801762115, 0.8898678414096918, 0.3386563876651983, 0.5203744493392071, 0.3177312775330397, 0.9350220264317182, 0.3612334801762115, 0.06828193832599119, 0.4515418502202644, 0.06277533039647577, 0.13491189427312777, 0.1668502202643172, 0.7797356828193833, 0.11288546255506608, 0.028083700440528638, 0.6993392070484582, 0.3155286343612335, 0.03248898678414097, 0.2285242290748899, 0.2874449339207049, 0.6662995594713658, 0.6596916299559472, 0.2263215859030837, 0.07709251101321586, 0.26486784140969166, 0.8248898678414098, 0.597466960352423, 0.5038546255506609, 0.4240088105726873, 0.40638766519823794, 0.9416299559471367, 0.8711453744493393, 0.001101321585903084, 0.25220264317180624, 0.058370044052863446, 0.05671806167400882, 0.12334801762114538, 0.2901982378854626, 0.8937224669603525, 0.3193832599118943, 0.031387665198237893, 0.5523127753303966, 0.8882158590308371, 0.050660792951541855, 0.7026431718061675, 0.1525330396475771, 0.29350220264317184, 0.052863436123348026, 0.7698237885462555, 0.6998898678414098, 0.1734581497797357, 0.564977973568282, 0.25110132158590315, 0.7758810572687226, 0.4212555066079296, 0.11674008810572688, 0.4113436123348018, 0.38491189427312783, 0.09526431718061674, 0.14262114537444934, 0.8325991189427314, 0.33535242290748907, 0.05176211453744494, 0.5269823788546256, 0.2533039647577093, 0.1894273127753304, 0.25715859030837007, 0.17290748898678415, 0.009911894273127754, 0.15143171806167402, 0.4295154185022027, 0.07984581497797358, 0.23623348017621146, 0.49394273127753313, 0.022577092511013218, 0.6327092511013217, 0.48348017621145384, 0.6013215859030838, 0.518171806167401, 0.18226872246696035, 0.02918502202643172, 0.5605726872246697, 0.48623348017621154, 0.223568281938326, 0.7059471365638768, 0.10462555066079296, 0.5258810572687226, 0.15859030837004406, 0.03303964757709252, 0.17125550660792951, 0.3215859030837005, 0.39372246696035246, 0.47742290748898686, 0.02918502202643172, 0.314977973568282, 0.5715859030837005, 0.0919603524229075, 0.4410792951541851, 0.334251101321586, 0.6475770925110133, 0.7654185022026433, 0.1591409691629956, 0.05176211453744494, 0.4443832599118943, 0.1563876651982379, 0.9366740088105728, 0.7406387665198239, 0.20649779735682822, 0.21640969162995596, 0.295704845814978, 0.1261013215859031, 0.26707048458149785, 0.07709251101321586, 0.38270925110132165, 0.007158590308370045, 0.047356828193832606, 0.18887665198237888, 0.5396475770925111, 0.49339207048458156, 0.6883259911894274, 0.019273127753303965, 0.8265418502202644, 0.4432819383259913, 0.5969162995594715, 0.39867841409691634, 0.5319383259911895, 0.6145374449339208, 0.8887665198237886, 0.38656387665198244, 0.18722466960352424, 0.013766519823788547, 0.5897577092511014, 0.5005506607929516, 0.37940528634361237, 0.354625550660793, 0.9823788546255507, 0.0005506607929515419, 0.029735682819383262, 0.328193832599119, 0.11398678414096917, 0.3061674008810573, 0.4289647577092512, 0.2312775330396476, 0.4779735682819384, 0.29185022026431723, 0.09746696035242292, 0.754955947136564, 0.4185022026431719, 0.4229074889867842, 0.06002202643171807, 0.1745594713656388, 0.19218061674008813, 0.6387665198237886, 0.04019823788546256, 0.13711453744493393, 0.7665198237885463, 0.3050660792951542, 0.4278634361233481, 0.024229074889867842, 0.29185022026431723, 0.5126651982378856, 0.16464757709251102, 0.09966960352422909, 0.5677312775330398, 0.25385462555066085, 0.11068281938325991, 0.12444933920704845, 0.4454845814977974, 0.5011013215859031, 0.12444933920704845, 0.4361233480176212, 0.4994493392070485, 0.10407488986784141, 0.05396475770925111, 0.9686123348017622, 0.29735682819383263, 0.5925110132158591, 0.7505506607929516, 0.15088105726872247, 0.557819383259912, 0.04019823788546256, 0.13491189427312777, 0.2483480176211454, 0.2505506607929516, 0.015418502202643174, 0.27147577092511016, 0.4449339207048459, 0.029735682819383262, 0.07764317180616741, 0.623898678414097, 0.053414096916299565, 0.5346916299559472, 0.27202643171806173, 0.7064977973568283, 0.21145374449339208, 0.25825991189427316, 0.5660792951541851, 0.8386563876651983, 0.36563876651982385, 0.604625550660793, 0.17180616740088106, 0.7158590308370045, 0.03359030837004406, 0.17290748898678415, 0.21916299559471367, 0.23568281938325994, 0.12830396475770925, 0.21475770925110133, 0.19383259911894274, 0.6150881057268723, 0.3425110132158591, 0.19603524229074892, 0.7466960352422909, 0.24284140969162998, 0.8447136563876653, 0.7406387665198239, 0.5699339207048459, 0.5980176211453745, 0.5088105726872247, 0.7340308370044054, 0.08700440528634362, 0.10187224669603524, 0.20925110132158592, 0.06718061674008811, 0.017070484581497798, 0.6800660792951543, 0.3232378854625551, 0.854625550660793, 0.2890969162995595, 0.0644273127753304, 0.030286343612334805, 0.10187224669603524, 0.9922907488986785, 0.17841409691629956, 0.5594713656387666, 0.4911894273127754, 0.4229074889867842, 0.03689427312775331, 0.0038546255506607934, 0.17841409691629956, 0.13381057268722468, 0.21585903083700442, 0.26266519823788553, 0.6150881057268723, 0.0908590308370044, 0.5837004405286345, 0.45374449339207057, 0.4124449339207049, 0.768171806167401, 0.11123348017621146, 0.6040748898678415, 0.49669603524229083, 0.18502202643171808, 0.7626651982378856, 0.5099118942731278, 0.4317180616740089, 0.38381057268722474, 0.04405286343612336, 0.5963656387665199, 0.5776431718061675, 0.4162995594713657, 0.018722466960352423, 0.532488986784141, 0.183920704845815, 0.04680616740088107, 0.3469162995594714, 0.18226872246696035, 0.17180616740088106, 0.11288546255506608, 0.07158590308370044, 0.10132158590308371, 0.3177312775330397, 0.8177312775330398, 0.2703744493392071, 0.7648678414096918, 0.19438325991189428, 0.38656387665198244, 0.7175110132158591, 0.042400881057268726, 0.5611233480176212, 0.5583700440528635, 0.10297356828193834, 0.24339207048458153, 0.5765418502202644, 0.0060572687224669615, 0.05671806167400882, 0.5947136563876653, 0.08204845814977973, 0.27422907488986786, 0.05231277533039649, 0.19658590308370044, 0.9443832599118944, 0.10903083700440529, 0.25660792951541855, 0.23568281938325994, 0.2912995594713657, 0.9581497797356829, 0.3557268722466961, 0.5798458149779736, 0.019273127753303965, 0.15088105726872247, 0.3138766519823789, 0.781387665198238, 0.3006607929515419, 0.1800660792951542, 0.5666299559471366, 0.016519823788546256, 0.03248898678414097, 0.6596916299559472, 0.35627753303964765, 0.055616740088105736, 0.3160792951541851, 0.48403083700440536, 0.17676211453744495, 0.35352422907488995, 0.3226872246696036, 0.26211453744493396, 0.4289647577092512, 0.35242290748898686, 0.07654185022026432, 0.4058370044052864, 0.031387665198237893, 0.024229074889867842, 0.05451541850220265, 0.86784140969163, 0.400330396475771, 0.11894273127753305, 0.030837004405286344, 0.5848017621145375, 0.1354625550660793, 0.41189427312775334, 0.3309471365638767, 0.2863436123348018, 0.48733480176211463, 0.07544052863436124, 0.3436123348017622, 0.3298458149779736, 0.050110132158590316, 0.6437224669603525, 0.1156387665198238, 0.5892070484581499, 0.4113436123348018, 0.29074889867841414, 0.2389867841409692, 0.7186123348017622, 0.5148678414096917, 0.15363436123348018, 0.36563876651982385, 0.6382158590308371, 0.48843612334801767, 0.6894273127753305, 0.2378854625550661, 0.3507709251101322, 0.6514317180616741, 0.7257709251101323, 0.13436123348017623, 0.3072687224669604, 0.37334801762114544, 0.27863436123348023, 0.170704845814978, 0.4146475770925111, 0.056167400881057275, 0.08700440528634362, 0.21145374449339208, 0.5892070484581499, 0.8997797356828194, 0.6894273127753305, 0.028634361233480177, 0.3529735682819384, 0.7857929515418504, 0.4245594713656388, 0.10737885462555066, 0.27257709251101325, 0.4212555066079296, 0.7494493392070486, 0.03579295154185023, 0.6464757709251102, 0.22962555066079296, 0.013215859030837005, 0.3755506607929516, 0.459251101321586, 0.3430616740088106, 0.4361233480176212, 0.34966960352422916, 0.301762114537445, 0.6844713656387666, 0.7329295154185023, 0.02092511013215859, 0.03579295154185023, 0.01762114537444934, 0.39096916299559475, 0.29735682819383263, 0.2417400881057269, 0.4174008810572688, 0.19107929515418504, 0.5231277533039649, 0.33810572687224677, 0.6651982378854626, 0.047907488986784146, 0.4085903083700441, 0.10737885462555066, 0.9394273127753305, 0.314977973568282, 0.23348017621145375, 0.5490088105726872, 0.13876651982378854, 0.11784140969162996, 0.044603524229074897, 0.7659691629955948, 0.35517621145374456, 0.38931718061674014, 0.28689427312775334, 0.055616740088105736, 0.20539647577092512, 0.6305066079295155, 0.10187224669603524, 0.2940528634361234, 0.400330396475771, 0.7120044052863437, 0.5611233480176212, 0.061674008810572695, 0.8050660792951543, 0.236784140969163, 0.36563876651982385, 0.07433920704845816, 0.1591409691629956, 0.9922907488986785, 0.426762114537445, 0.1459251101321586, 0.061123348017621155, 0.5512114537444934, 0.18502202643171808, 0.19988986784140972, 0.40143171806167405, 0.8540748898678415, 0.21090308370044056, 0.3320484581497798, 0.34856828193832606, 0.13325991189427314, 0.72852422907489, 0.5424008810572688, 0.308920704845815, 0.11013215859030838, 0.6062775330396477, 0.25825991189427316, 0.295704845814978, 0.3370044052863437, 0.4047356828193833, 0.058370044052863446, 0.4284140969162996, 0.23953744493392073, 0.49394273127753313, 0.6376651982378856, 0.0005506607929515419, 0.047907488986784146, 0.20429515418502203, 0.20870044052863437, 0.04955947136563878, 0.38491189427312783, 0.38766519823788553, 0.25770925110132165, 0.3166299559471366, 0.7566079295154186, 0.4344713656387666, 0.170704845814978, 0.5044052863436124, 0.13766519823788548, 0.20594713656387667, 0.5352422907488987, 0.6602422907488987, 0.26486784140969166, 0.37004405286343617, 0.09306167400881057, 0.38931718061674014, 0.1288546255506608, 0.3309471365638767, 0.011563876651982379, 0.6095814977973569, 0.21310572687224671, 0.8689427312775332, 0.08314977973568283, 0.04625550660792952, 0.055616740088105736, 0.39427312775330403, 0.3331497797356829, 0.7461453744493393, 0.7857929515418504, 0.3755506607929516, 0.4146475770925111, 0.13601321585903084, 0.38711453744493396, 0.10462555066079296, 0.6294052863436124, 0.4151982378854626, 0.10352422907488987, 0.35792951541850226, 0.48733480176211463, 0.564977973568282, 0.03579295154185023, 0.3491189427312776, 0.04570484581497798, 0.432819383259912, 0.45649779735682827, 0.7455947136563877, 0.2505506607929516, 0.5286343612334803, 0.7670704845814978, 0.5275330396475771, 0.3425110132158591, 0.10132158590308371, 0.48898678414096924, 0.49284140969163004, 0.7461453744493393, 0.016519823788546256, 0.27367841409691634, 0.5022026431718062, 0.3133259911894274, 0.12665198237885464, 0.768171806167401, 0.03689427312775331, 0.06607929515418502, 0.19218061674008813, 0.04129955947136565, 0.13436123348017623, 0.4306167400881058, 0.9322687224669605, 0.6514317180616741, 0.15308370044052863, 0.23182819383259914, 0.8166299559471366, 0.5490088105726872, 0.5539647577092511, 0.39482378854625555, 0.49284140969163004, 0.5044052863436124, 0.4146475770925111, 0.058370044052863446, 0.11618942731277533, 0.2505506607929516, 0.1668502202643172, 0.8359030837004406, 0.12830396475770925, 0.34856828193832606, 0.5297356828193833, 0.689977973568282, 0.4493392070484582, 0.28579295154185025, 0.3248898678414097, 0.39427312775330403, 0.09801762114537445, 0.19548458149779738, 0.9454845814977975, 0.27588105726872253, 0.7109030837004406, 0.6211453744493393, 0.8408590308370045, 0.5605726872246697, 0.27367841409691634, 0.1194933920704846, 0.9884361233480178, 0.6850220264317182, 0.5941629955947137, 0.73568281938326, 0.25605726872246704, 0.09030837004405287, 0.49174008810572695, 0.20594713656387667, 0.1618942731277533, 0.504955947136564, 0.1194933920704846, 0.26817180616740094, 0.49339207048458156, 0.06057268722466961, 0.08975770925110133, 0.11288546255506608, 0.17841409691629956, 0.7648678414096918, 0.48237885462555075, 0.47246696035242297, 0.2290748898678414, 0.3006607929515419, 0.5038546255506609, 0.08480176211453745, 0.07213656387665199, 0.7301762114537446, 0.5776431718061675, 0.14096916299559473, 0.5154185022026433, 0.3116740088105727, 0.26651982378854633, 0.2912995594713657, 0.5930616740088106, 0.5407488986784141, 0.61784140969163, 0.1194933920704846, 0.028083700440528638, 0.0881057268722467, 0.3661894273127754, 0.7648678414096918, 0.3557268722466961, 0.703193832599119, 0.4598017621145375, 0.12775330396475773, 0.8590308370044054, 0.1696035242290749, 0.2769823788546256, 0.056167400881057275, 0.062224669603524234, 0.08370044052863436, 0.3584801762114538, 0.24284140969162998, 0.8777533039647578, 0.3953744493392071, 0.7610132158590309, 0.03359030837004406, 0.18226872246696035, 0.5220264317180617, 0.5501101321585904, 0.16795154185022027, 0.27643171806167405, 0.3375550660792952, 0.27863436123348023, 0.301762114537445, 0.6514317180616741, 0.4190528634361234, 0.07433920704845816, 0.04625550660792952, 0.3215859030837005, 0.15583700440528636, 0.5820484581497798, 0.4350220264317181, 0.21255506607929517, 0.3034140969162996, 0.6514317180616741, 0.11894273127753305, 0.12720264317180618, 0.1563876651982379, 0.09636563876651982, 0.506057268722467, 0.06773127753303965, 0.11288546255506608, 0.08755506607929515, 0.48898678414096924, 0.18722466960352424, 0.8243392070484582, 0.5187224669603525, 0.6536343612334803, 0.5005506607929516, 0.4069383259911895, 0.17015418502202645, 0.14207048458149782, 0.007158590308370045, 0.6250000000000001, 0.0033039647577092516, 0.2505506607929516, 0.052863436123348026, 0.05396475770925111, 0.26651982378854633, 0.21751101321585906, 0.017070484581497798, 0.13656387665198239, 0.37224669603524235, 0.9432819383259913, 0.3441629955947137, 0.197136563876652, 0.7808370044052865, 0.0060572687224669615, 0.7026431718061675, 0.47742290748898686, 0.16629955947136565, 0.08975770925110133, 0.3309471365638767, 0.4702643171806168, 0.5952643171806168, 0.03909691629955948, 0.37169603524229083, 0.2329295154185022, 0.012114537444933921, 0.29625550660792954, 0.07378854625550661, 0.07158590308370044, 0.07984581497797358, 0.637114537444934, 0.6349118942731279, 0.8430616740088107, 0.4779735682819384, 0.5468061674008812, 0.4542951541850221, 0.00275330396475771, 0.8061674008810573, 0.1459251101321586, 0.3612334801762115, 0.40143171806167405, 0.11894273127753305, 0.2444933920704846, 0.17566079295154186, 0.6205947136563877, 0.3375550660792952, 0.06057268722466961, 0.4394273127753305, 0.3430616740088106, 0.04295154185022027, 0.4212555066079296, 0.5429515418502203, 0.03248898678414097, 0.061674008810572695, 0.6073788546255507, 0.841409691629956, 0.47852422907488995, 0.5837004405286345, 0.2329295154185022, 0.28138766519823794, 0.047356828193832606, 0.17125550660792951, 0.17125550660792951, 0.49669603524229083, 0.19438325991189428, 0.6712555066079297, 0.03689427312775331, 0.30011013215859034, 0.26431718061674014, 0.4465859030837005, 0.3860132158590309, 0.23182819383259914, 0.0947136563876652, 0.15418502202643172, 0.46530837004405295, 0.49889867841409696, 0.48623348017621154, 0.24118942731277535, 0.30121145374449343, 0.20484581497797358, 0.2835903083700441, 0.19658590308370044, 0.3992290748898679, 0.36068281938325997, 0.30671806167400884, 0.058920704845814985, 0.17015418502202645, 0.06387665198237885, 0.16354625550660795, 0.03303964757709252, 0.12444933920704845, 0.38270925110132165, 0.05176211453744494, 0.19107929515418504, 0.48678414096916306, 0.015418502202643174, 0.7444933920704847, 0.4845814977973569, 0.1877753303964758, 0.0814977973568282, 0.8006607929515419, 0.41299559471365643, 0.19988986784140972, 0.30121145374449343, 0.25715859030837007, 0.5776431718061675, 0.6316079295154186, 0.709251101321586, 0.030286343612334805, 0.2301762114537445, 0.3243392070484582, 0.4587004405286344, 0.39867841409691634, 0.5743392070484582, 0.4845814977973569, 0.506057268722467, 0.12389867841409692, 0.22797356828193835, 0.38381057268722474, 0.03469162995594714, 0.20649779735682822, 0.5236784140969164, 0.021475770925110133, 0.5148678414096917, 0.3981277533039648, 0.1393171806167401, 0.5958149779735684, 0.7279735682819384, 0.5622246696035244, 0.3463656387665199, 0.5512114537444934, 0.0512114537444934, 0.26707048458149785, 0.0578193832599119, 0.47962555066079304, 0.12279735682819384, 0.25660792951541855, 0.17676211453744495, 0.11398678414096917, 0.6784140969162996, 0.37169603524229083, 0.5583700440528635, 0.5330396475770925, 0.08865638766519825, 0.3325991189427313, 0.557819383259912, 0.05176211453744494, 0.2389867841409692, 0.7626651982378856, 0.197136563876652, 0.2472466960352423, 0.7593612334801763, 0.1629955947136564, 0.656387665198238, 0.6316079295154186, 0.37279735682819387, 0.5726872246696036, 0.38050660792951546, 0.10407488986784141, 0.8094713656387666, 0.25715859030837007, 0.5401982378854626, 0.17125550660792951, 0.8871145374449341, 0.36729074889867847, 0.1299559471365639, 0.8689427312775332, 0.6360132158590309, 0.4185022026431719, 0.3821585903083701, 0.3248898678414097, 0.4768722466960353, 0.27588105726872253, 0.16740088105726875, 0.8882158590308371, 0.04570484581497798, 0.5379955947136564, 0.29074889867841414, 0.2197136563876652, 0.13436123348017623, 0.7439427312775332, 0.09636563876651982, 0.019273127753303965, 0.007709251101321586, 0.06332599118942732, 0.12444933920704845, 0.6685022026431718, 0.06883259911894274, 0.5765418502202644, 0.06828193832599119, 0.031387665198237893, 0.38491189427312783, 0.6183920704845816, 0.8766519823788548, 0.6211453744493393, 0.20429515418502203, 0.4300660792951542, 0.7158590308370045, 0.12169603524229075, 0.2263215859030837, 0.4350220264317181, 0.6580396475770925, 0.6007709251101322, 0.08204845814977973, 0.03964757709251102, 0.3177312775330397, 0.4124449339207049, 0.341409691629956, 0.33149779735682827, 0.6161894273127754, 0.223568281938326, 0.17566079295154186, 0.15363436123348018, 0.7879955947136564, 0.1668502202643172, 0.1316079295154185, 0.4344713656387666, 0.18612334801762115, 0.892070484581498, 0.5792951541850221, 0.7665198237885463, 0.5897577092511014, 0.14262114537444934, 0.5903083700440529, 0.5203744493392071, 0.2301762114537445, 0.03634361233480177, 0.5980176211453745, 0.308920704845815, 0.7742290748898679, 0.8314977973568283, 0.16519823788546256, 0.6552863436123348, 0.3337004405286344, 0.22191629955947137, 0.018171806167400884, 0.2290748898678414, 0.6905286343612336, 0.6437224669603525, 0.1156387665198238, 0.005506607929515419, 0.024779735682819385, 0.2703744493392071, 0.1811674008810573, 0.46916299559471375, 0.06662995594713657, 0.3325991189427313, 0.6453744493392072, 0.210352422907489, 0.08094713656387666, 0.19493392070484583, 0.20980176211453747, 0.27147577092511016, 0.009911894273127754, 0.9333700440528635, 0.17400881057268724, 0.45374449339207057, 0.17015418502202645, 0.5176211453744494, 0.3370044052863437, 0.18171806167400884, 0.11508810572687225, 0.7797356828193833, 0.39977973568281944, 0.5748898678414097, 0.4768722466960353, 0.11618942731277533, 0.5418502202643173, 0.17125550660792951, 0.4410792951541851, 0.012114537444933921, 0.0038546255506607934, 0.08645374449339208, 0.6112334801762115, 0.23733480176211455, 0.2990088105726873, 0.26101321585903087, 0.8601321585903084, 0.3518722466960353, 0.7912995594713658, 0.4807268722466961, 0.504955947136564, 0.5881057268722468, 0.21475770925110133, 0.19988986784140972, 0.40803964757709255, 0.13986784140969163, 0.03303964757709252, 0.024779735682819385, 0.7131057268722468, 0.16244493392070486, 0.4416299559471366, 0.006607929515418503, 0.7841409691629957, 0.6205947136563877, 0.5286343612334803, 0.17290748898678415, 0.585352422907489, 0.27808370044052866, 0.37059471365638774, 0.49394273127753313, 0.1828193832599119, 0.793502202643172, 0.24118942731277535, 0.5330396475770925, 0.3133259911894274, 0.12059471365638767, 0.4333700440528635, 0.6905286343612336, 0.15308370044052863, 0.49559471365638774, 0.4295154185022027, 0.25220264317180624, 0.4306167400881058, 0.05396475770925111, 0.5005506607929516, 0.19218061674008813, 0.13381057268722468, 0.11894273127753305, 0.07158590308370044, 0.3364537444933921, 0.8904185022026433, 0.6272026431718063, 0.4058370044052864, 0.030837004405286344, 0.35517621145374456, 0.16464757709251102, 0.8436123348017622, 0.6569383259911895, 0.08259911894273128, 0.6288546255506609, 0.11288546255506608, 0.37720264317180624, 0.15363436123348018, 0.40803964757709255, 0.37610132158590315, 0.5561674008810573, 0.413546255506608, 0.341409691629956, 0.042400881057268726, 0.40143171806167405, 0.27202643171806173, 0.04019823788546256, 0.16409691629955947, 0.07544052863436124, 0.03193832599118943, 0.571035242290749, 0.4625550660792952, 0.24229074889867844, 0.1894273127753304, 0.47191629955947145, 0.1811674008810573, 0.0512114537444934, 0.06387665198237885, 0.024779735682819385, 0.5644273127753304, 0.12444933920704845, 0.02312775330396476, 0.6541850220264318, 0.35627753303964765, 0.13601321585903084, 0.0881057268722467, 0.11398678414096917, 0.13215859030837004, 0.36013215859030845, 0.7274229074889869, 0.9322687224669605, 0.49063876651982385, 0.14151982378854627, 0.7709251101321587, 0.8287444933920706, 0.38381057268722474, 0.46145374449339216, 0.26651982378854633, 0.20814977973568283, 0.19823788546255508, 0.37004405286343617, 0.420704845814978, 0.27808370044052866, 0.36178414096916306, 0.6712555066079297, 0.8639867841409693, 0.0033039647577092516, 0.3408590308370045, 0.170704845814978, 0.6294052863436124, 0.41685022026431723, 0.4295154185022027, 0.6448237885462555, 0.28689427312775334, 0.12059471365638767, 0.14262114537444934, 0.08535242290748898, 0.10297356828193834, 0.06828193832599119, 0.7577092511013217, 0.4911894273127754, 0.47081497797356836, 0.4427312775330397, 0.017070484581497798, 0.48568281938325997, 0.9135462555066081, 0.09140969162995595, 0.21751101321585906, 0.6398678414096917, 0.1828193832599119, 0.1685022026431718, 0.2180616740088106, 0.20649779735682822, 0.6073788546255507, 0.3237885462555067, 0.9344713656387666, 0.28193832599118945, 0.1811674008810573, 0.2483480176211454, 0.34966960352422916, 0.39041850220264324, 0.4218061674008811, 0.3623348017621146, 0.10297356828193834, 0.5947136563876653, 0.7615638766519824, 0.23733480176211455, 0.23458149779735685, 0.7912995594713658, 0.5148678414096917, 0.12004405286343613, 0.3287444933920705, 0.5214757709251102, 0.5941629955947137, 0.36949339207048465, 0.05396475770925111, 0.34746696035242297, 0.8215859030837005, 0.3502202643171807, 0.38381057268722474, 0.03689427312775331, 0.26982378854625555, 0.19933920704845817, 0.2984581497797357, 0.3964757709251102, 0.2846916299559472, 0.3100220264317181, 0.3502202643171807, 0.46530837004405295, 0.35792951541850226, 0.7951541850220265, 0.5225770925110133, 0.16795154185022027, 0.3303964757709252, 0.30671806167400884, 0.2968061674008811, 0.41189427312775334, 0.5302863436123348, 0.06332599118942732, 0.531387665198238, 0.13105726872246698, 0.06773127753303965, 0.9350220264317182, 0.35517621145374456, 0.7213656387665199, 0.14757709251101322, 0.4372246696035243, 0.3821585903083701, 0.04185022026431719, 0.26596916299559475, 0.7048458149779736, 0.0644273127753304, 0.25000000000000006, 0.572136563876652, 0.9421806167400882, 0.001101321585903084, 0.36839207048458156, 0.4730176211453745, 0.07213656387665199, 0.26046255506607935, 0.4212555066079296, 0.2169603524229075, 0.3006607929515419, 0.3160792951541851, 0.3992290748898679, 0.3507709251101322, 0.06607929515418502, 0.7042951541850221, 0.36729074889867847, 0.1745594713656388, 0.18171806167400884, 0.5693832599118943, 0.6784140969162996, 0.17015418502202645, 0.7257709251101323, 0.4504405286343613, 0.4443832599118943, 0.4487885462555067, 0.2979074889867842, 0.4741189427312776, 0.7665198237885463, 0.09966960352422909, 0.8083700440528635, 0.058920704845814985, 0.6618942731277534, 0.019823788546255508, 0.5787444933920706, 0.0814977973568282, 0.5401982378854626, 0.0038546255506607934, 0.7042951541850221, 0.7725770925110134, 0.7830396475770927, 0.26046255506607935, 0.5567180616740088, 0.2351321585903084, 0.38986784140969166, 0.8733480176211454, 0.09911894273127754, 0.8843612334801764, 0.4096916299559472, 0.1905286343612335, 0.7626651982378856, 0.5715859030837005, 0.5236784140969164, 0.15143171806167402, 0.09361233480176212, 0.17125550660792951, 0.4019823788546256, 0.578193832599119, 0.7098017621145375, 0.5825991189427313, 0.4432819383259913, 0.506057268722467, 0.4405286343612335, 0.04129955947136565, 0.37279735682819387, 0.4218061674008811, 0.5115638766519824, 0.19162995594713658, 0.7208149779735684, 0.24944933920704845, 0.459251101321586, 0.07158590308370044, 0.22577092511013216, 0.25605726872246704, 0.2444933920704846, 0.5892070484581499, 0.3034140969162996, 0.722466960352423, 0.6872246696035244, 0.3661894273127754, 0.28303964757709255, 0.45374449339207057, 0.7059471365638768, 0.28524229074889873, 0.5435022026431718, 0.06552863436123348, 0.3226872246696036, 0.3331497797356829, 0.3259911894273128, 0.4609030837004406, 0.5892070484581499, 0.6156387665198239, 0.06828193832599119, 0.45649779735682827, 0.3078193832599119, 0.10022026431718062, 0.8513215859030838, 0.07599118942731278, 0.6569383259911895, 0.5468061674008812, 0.3463656387665199, 0.6729074889867842, 0.012665198237885464, 0.39041850220264324, 0.009361233480176211, 0.3177312775330397, 0.2703744493392071, 0.3199339207048459, 0.34966960352422916, 0.19988986784140972, 0.2835903083700441, 0.459251101321586, 0.14262114537444934, 0.5688325991189428, 0.6585903083700442, 0.19768722466960353, 0.16409691629955947, 0.27092511013215864, 0.47907488986784147, 0.36563876651982385, 0.446035242290749, 0.5903083700440529, 0.13436123348017623, 0.1299559471365639, 0.05451541850220265, 0.48292951541850226, 0.6558370044052865, 0.3226872246696036, 0.0060572687224669615, 0.4581497797356829, 0.0407488986784141, 0.0022026431718061676, 0.8744493392070486, 0.0407488986784141, 0.7819383259911895, 0.6954845814977975, 0.3237885462555067, 0.0033039647577092516, 0.07764317180616741, 0.007158590308370045, 0.15969162995594716, 0.15748898678414097, 0.4421806167400882, 0.06773127753303965, 0.8348017621145375, 0.37610132158590315, 0.07654185022026432, 0.10407488986784141, 0.34196035242290757, 0.11729074889867842, 0.03248898678414097, 0.8436123348017622, 0.4179515418502203, 0.4306167400881058, 0.5357929515418502, 0.6211453744493393, 0.5429515418502203, 0.30671806167400884, 0.41189427312775334, 0.16409691629955947, 0.01762114537444934, 0.6068281938325992, 0.2769823788546256, 0.14537444933920707, 0.183920704845815, 0.018171806167400884, 0.05671806167400882, 0.16409691629955947, 0.19603524229074892, 0.7114537444933922, 0.6332599118942732, 0.22577092511013216, 0.49614537444933926, 0.022577092511013218, 0.28799559471365643, 0.49614537444933926, 0.48843612334801767, 0.22246696035242292, 0.20429515418502203, 0.18337004405286345, 0.05506607929515419, 0.055616740088105736, 0.1811674008810573, 0.4598017621145375, 0.11343612334801763, 0.07764317180616741, 0.20154185022026433, 0.2169603524229075, 0.5759911894273129, 0.3469162995594714, 0.3182819383259912, 0.19107929515418504, 0.48953744493392076, 0.4372246696035243, 0.6795154185022028, 0.40914096916299564, 0.3612334801762115, 0.28524229074889873, 0.6585903083700442, 0.04185022026431719, 0.4405286343612335, 0.7208149779735684, 0.8348017621145375, 0.12444933920704845, 0.4498898678414098, 0.8441629955947137, 0.20044052863436124, 0.23182819383259914, 0.004955947136563877, 0.09801762114537445, 0.46035242290748907, 0.25275330396475776, 0.39867841409691634, 0.49063876651982385, 0.3259911894273128, 0.210352422907489, 0.8188325991189428, 0.3309471365638767, 0.23348017621145375, 0.20980176211453747, 0.3287444933920705, 0.49559471365638774, 0.5726872246696036, 0.1685022026431718, 0.11343612334801763, 0.40363436123348023, 0.23953744493392073, 0.3188325991189428, 0.07929515418502203, 0.052863436123348026, 0.22522026431718065, 0.35903083700440536, 0.39592511013215864, 0.1828193832599119, 0.19548458149779738, 0.7648678414096918, 0.02588105726872247, 0.518171806167401, 0.48182819383259917, 0.30396475770925113, 0.38931718061674014, 0.9432819383259913, 0.6261013215859031, 0.6398678414096917, 0.7213656387665199, 0.08700440528634362, 0.2731277533039648, 0.38766519823788553, 0.6013215859030838, 0.04625550660792952, 0.11618942731277533, 0.21475770925110133, 0.47081497797356836, 0.7323788546255507, 0.03854625550660794, 0.8039647577092512, 0.26376651982378857, 0.07158590308370044, 0.5110132158590309, 0.02643171806167401, 0.20374449339207049, 0.07323788546255507, 0.22136563876651985, 0.4449339207048459, 0.26817180616740094, 0.5495594713656389, 0.4394273127753305, 0.6277533039647578, 0.27367841409691634, 0.3078193832599119, 0.49834801762114544, 0.38986784140969166, 0.41960352422907493, 0.6316079295154186, 0.2901982378854626, 0.03248898678414097, 0.8794052863436125, 0.21145374449339208, 0.7868942731277534, 0.7731277533039649, 0.5704845814977975, 0.19878854625550663, 0.7924008810572688, 0.25881057268722474, 0.024779735682819385, 0.6905286343612336, 0.08865638766519825, 0.26266519823788553, 0.8105726872246697, 0.17290748898678415, 0.12775330396475773, 0.3259911894273128, 0.20484581497797358, 0.024229074889867842, 0.4372246696035243, 0.49889867841409696, 0.1156387665198238, 0.4069383259911895, 0.5280837004405287, 0.643171806167401, 0.07268722466960352, 0.8639867841409693, 0.29185022026431723, 0.052863436123348026, 0.13711453744493393, 0.08370044052863436, 0.11068281938325991, 0.1459251101321586, 0.2533039647577093, 0.0947136563876652, 0.3557268722466961, 0.5930616740088106, 0.09581497797356829, 0.07213656387665199, 0.1734581497797357, 0.058370044052863446, 0.4427312775330397, 0.04405286343612336, 0.08755506607929515, 0.5699339207048459, 0.3469162995594714, 0.4069383259911895, 0.49174008810572695, 0.25660792951541855, 0.23072687224669605, 0.49063876651982385, 0.5732378854625552, 0.7450440528634362, 0.09801762114537445, 0.793502202643172, 0.04185022026431719, 0.35132158590308377, 0.37389867841409696, 0.042400881057268726, 0.35242290748898686, 0.4355726872246697, 0.4041850220264318, 0.17125550660792951, 0.7742290748898679, 0.09030837004405287, 0.14867841409691632, 0.49174008810572695, 0.1773127753303965, 0.49339207048458156, 0.41299559471365643, 0.49724669603524235, 0.8612334801762116, 0.024779735682819385, 0.3507709251101322, 0.010462555066079295, 0.6712555066079297, 0.650330396475771, 0.9372246696035244, 0.12775330396475773, 0.5528634361233481, 0.571035242290749, 0.028083700440528638, 0.39867841409691634, 0.6376651982378856, 0.6795154185022028, 0.10792951541850221, 0.14537444933920707, 0.1261013215859031, 0.4553964757709252, 0.5919603524229076, 0.314977973568282, 0.5837004405286345, 0.5209251101321587, 0.11508810572687225, 0.030286343612334805, 0.3292951541850221, 0.23568281938325994, 0.7687224669603525, 0.24229074889867844, 0.39041850220264324, 0.35407488986784147, 0.14812775330396477, 0.26541850220264324, 0.08204845814977973, 0.37059471365638774, 0.5044052863436124, 0.5165198237885463, 0.7863436123348019, 0.029735682819383262, 0.4658590308370045, 0.6629955947136564, 0.4218061674008811, 0.2246696035242291, 0.13436123348017623, 0.06662995594713657, 0.8970264317180617, 0.22577092511013216, 0.7059471365638768, 0.18502202643171808, 0.05396475770925111, 0.23843612334801764, 0.0578193832599119, 0.09251101321585904, 0.6294052863436124, 0.03689427312775331, 0.7555066079295155, 0.7500000000000001, 0.3006607929515419, 0.26762114537444937, 0.12555066079295155, 0.6288546255506609, 0.18171806167400884, 0.5484581497797357, 0.5418502202643173, 0.46530837004405295, 0.39151982378854633, 0.4702643171806168, 0.7626651982378856, 0.3860132158590309, 0.5809471365638768, 0.14041850220264318, 0.00275330396475771, 0.20154185022026433, 0.6040748898678415, 0.0060572687224669615, 0.05947136563876653, 0.183920704845815, 0.20044052863436124, 0.006607929515418503, 0.35627753303964765, 0.8689427312775332, 0.1789647577092511, 0.6365638766519824, 0.34581497797356836, 0.030837004405286344, 0.49063876651982385, 0.7230176211453745, 0.6927312775330398, 0.23182819383259914, 0.10572687224669604, 0.9845814977973569, 0.6150881057268723, 0.781387665198238, 0.7918502202643173, 0.03909691629955948, 0.5165198237885463, 0.24008810572687225, 0.3116740088105727, 0.8193832599118944, 0.47577092511013225, 0.026982378854625552, 0.12279735682819384, 0.4686123348017622, 0.5435022026431718, 0.19162995594713658, 0.28138766519823794, 0.8882158590308371, 0.10077092511013216, 0.2285242290748899, 0.09801762114537445, 0.4229074889867842, 0.7362334801762116, 0.572136563876652, 0.10572687224669604, 0.5269823788546256, 0.016519823788546256, 0.10627753303964758, 0.6552863436123348, 0.008259911894273128, 0.07048458149779736, 0.001101321585903084, 0.5154185022026433, 0.20814977973568283, 0.06883259911894274, 0.8788546255506609, 0.14372246696035243, 0.0644273127753304, 0.4229074889867842, 0.48623348017621154, 0.49834801762114544, 0.38381057268722474, 0.18061674008810574, 0.06002202643171807, 0.2417400881057269, 0.1685022026431718, 0.20814977973568283, 0.48953744493392076, 0.4570484581497798, 0.4278634361233481, 0.02588105726872247, 0.4229074889867842, 0.48513215859030845, 0.1800660792951542, 0.1459251101321586, 0.39372246696035246, 0.8111233480176212, 0.05451541850220265, 0.047907488986784146, 0.052863436123348026, 0.1800660792951542, 0.6007709251101322, 0.7351321585903084, 0.7648678414096918, 0.5732378854625552, 0.7312775330396477, 0.14207048458149782, 0.2389867841409692, 0.7153083700440529, 0.6068281938325992, 0.6850220264317182, 0.4741189427312776, 0.1354625550660793, 0.13215859030837004, 0.183920704845815, 0.2208149779735683, 0.5401982378854626, 0.29460352422907493, 0.13325991189427314, 0.19603524229074892, 0.45099118942731287, 0.6569383259911895, 0.4405286343612335, 0.3436123348017622, 0.017070484581497798, 0.16409691629955947, 0.4994493392070485, 0.3248898678414097, 0.1773127753303965, 0.35242290748898686, 0.5088105726872247, 0.604625550660793, 0.3359030837004406, 0.41024229074889873, 0.5374449339207049, 0.35352422907488995, 0.6481277533039649, 0.39096916299559475, 0.042400881057268726, 0.1183920704845815, 0.5401982378854626, 0.8243392070484582, 0.40253303964757714, 0.7808370044052865, 0.6161894273127754, 0.35682819383259917, 0.05726872246696036, 0.10077092511013216, 0.11013215859030838, 0.1459251101321586, 0.04680616740088107, 0.4069383259911895, 0.10903083700440529, 0.33920704845814986, 0.6227973568281939, 0.37720264317180624, 0.2979074889867842, 0.6266519823788547, 0.3061674008810573, 0.6150881057268723, 0.4201541850220265, 0.03524229074889868, 0.22522026431718065, 0.37665198237885467, 0.11784140969162996, 0.18171806167400884, 0.282488986784141, 0.12720264317180618, 0.4146475770925111, 0.10572687224669604, 0.17400881057268724, 0.6029735682819384, 0.03909691629955948, 0.39151982378854633, 0.5330396475770925, 0.24118942731277535, 0.6536343612334803, 0.29350220264317184, 0.34966960352422916, 0.0016519823788546258, 0.5297356828193833, 0.334251101321586, 0.5567180616740088, 0.09581497797356829, 0.12775330396475773, 0.1261013215859031, 0.629955947136564, 0.1299559471365639, 0.2417400881057269, 0.10572687224669604, 0.33920704845814986, 0.14537444933920707, 0.5952643171806168, 0.210352422907489, 0.18226872246696035, 0.5005506607929516, 0.15308370044052863, 0.5225770925110133, 0.5357929515418502, 0.14867841409691632, 0.12830396475770925, 0.08480176211453745, 0.0908590308370044, 0.5770925110132159, 0.597466960352423, 0.3529735682819384, 0.5011013215859031, 0.28524229074889873, 0.197136563876652, 0.8491189427312776, 0.09251101321585904, 0.8127753303964759, 0.5765418502202644, 0.25881057268722474, 0.4096916299559472, 0.8221365638766521, 0.20484581497797358, 0.3166299559471366, 0.5991189427312776, 0.03248898678414097, 0.11674008810572688, 0.22191629955947137, 0.6998898678414098, 0.3155286343612335, 0.236784140969163, 0.28689427312775334, 0.26872246696035246, 0.058370044052863446, 0.2995594713656388, 0.28193832599118945, 0.3171806167400882, 0.5231277533039649, 0.10462555066079296, 0.27257709251101325, 0.8276431718061675, 0.22522026431718065, 0.49174008810572695, 0.08094713656387666, 0.37830396475770933, 0.27367841409691634, 0.12169603524229075, 0.5908590308370045, 0.8094713656387666, 0.07048458149779736, 0.2990088105726873, 0.3072687224669604, 0.7654185022026433, 0.013215859030837005, 0.24504405286343614, 0.5170704845814978, 0.4421806167400882, 0.19768722466960353, 0.20814977973568283, 0.07709251101321586, 0.4113436123348018, 0.28193832599118945, 0.6332599118942732, 0.07709251101321586, 0.9933920704845817, 0.7846916299559472, 0.6514317180616741, 0.4344713656387666, 0.25660792951541855, 0.2990088105726873, 0.6068281938325992, 0.17290748898678415, 0.34471365638766527, 0.5638766519823789, 0.10242290748898679, 0.314977973568282, 0.6547356828193833, 0.14647577092511013, 0.7742290748898679, 0.40253303964757714, 0.3254405286343613, 0.19107929515418504, 0.4289647577092512, 0.0005506607929515419, 0.5137665198237886, 0.8028634361233481, 0.5088105726872247, 0.09966960352422909, 0.0407488986784141, 0.35627753303964765, 0.5236784140969164, 0.025330396475770928, 0.8116740088105728, 0.06332599118942732, 0.19383259911894274, 0.35517621145374456, 0.20759911894273128, 0.20649779735682822, 0.4383259911894274, 0.48843612334801767, 0.4807268722466961, 0.47466960352422916, 0.8061674008810573, 0.015969162995594713, 0.6773127753303966, 0.37665198237885467, 0.8331497797356829, 0.637114537444934, 0.5693832599118943, 0.014317180616740088, 0.9207048458149781, 0.4085903083700441, 0.06718061674008811, 0.07268722466960352, 0.1723568281938326, 0.5033039647577093, 0.5082599118942732, 0.7665198237885463, 0.6690528634361235, 0.5412995594713658, 0.828193832599119, 0.8221365638766521, 0.7780837004405288, 0.36839207048458156, 0.5897577092511014, 0.22246696035242292, 0.4383259911894274, 0.2378854625550661, 0.0, 0.19988986784140972, 0.7522026431718063, 0.39482378854625555, 0.4730176211453745, 0.5291850220264318, 0.8221365638766521, 0.328193832599119, 0.37444933920704854, 0.0512114537444934, 0.03909691629955948, 0.41024229074889873, 0.03964757709251102, 0.8926211453744495, 0.11233480176211455, 0.8248898678414098, 0.38105726872246704, 0.7654185022026433, 0.34856828193832606, 0.572136563876652, 0.06662995594713657, 0.37610132158590315, 0.36343612334801767, 0.30396475770925113, 0.045154185022026436, 0.3045154185022027, 0.25825991189427316, 0.74284140969163, 0.1261013215859031, 0.13325991189427314, 0.288546255506608, 0.46806167400881066, 0.7334801762114538, 0.1194933920704846, 0.6117841409691631, 0.22577092511013216, 0.23348017621145375, 0.0512114537444934, 0.3992290748898679, 0.012665198237885464, 0.02588105726872247, 0.14096916299559473, 0.4284140969162996, 0.25385462555066085, 0.9713656387665199, 0.16354625550660795, 0.3144273127753304, 0.2769823788546256, 0.08865638766519825, 0.14041850220264318, 0.4504405286343613, 0.3529735682819384, 0.3276431718061675, 0.3061674008810573, 0.7329295154185023, 0.4317180616740089, 0.47191629955947145, 0.328193832599119, 0.22411894273127755, 0.08039647577092511, 0.650330396475771, 0.23953744493392073, 0.5881057268722468, 0.42621145374449343, 0.36013215859030845, 0.36674008810572695, 0.33149779735682827, 0.5473568281938327, 0.782488986784141, 0.5479074889867842, 0.3116740088105727, 0.36674008810572695, 0.09140969162995595, 0.05396475770925111, 0.2378854625550661, 0.37004405286343617, 0.2274229074889868, 0.23623348017621146, 0.1051762114537445, 0.2901982378854626, 0.7180616740088107, 0.6651982378854626, 0.028634361233480177, 0.41299559471365643, 0.46420704845814986, 0.6007709251101322, 0.12665198237885464, 0.7098017621145375, 0.11894273127753305, 0.4752202643171807, 0.13876651982378854, 0.4581497797356829, 0.27422907488986786, 0.4140969162995595, 0.14372246696035243, 0.3061674008810573, 0.12830396475770925, 0.22962555066079296, 0.236784140969163, 0.34856828193832606, 0.6668502202643173, 0.22301762114537446, 0.5220264317180617, 0.9003303964757711, 0.5176211453744494, 0.729625550660793, 0.18337004405286345, 0.36288546255506615, 0.5501101321585904, 0.5363436123348019, 0.052863436123348026, 0.6382158590308371, 0.28028634361233484, 0.616740088105727, 0.09140969162995595, 0.9223568281938327, 0.25936123348017626, 0.08480176211453745, 0.7483480176211454, 0.26817180616740094, 0.012114537444933921, 0.125, 0.018722466960352423, 0.681718061674009, 0.13876651982378854, 0.16740088105726875, 0.5341409691629957, 0.938876651982379, 0.4317180616740089, 0.1459251101321586, 0.3689427312775331, 0.814977973568282, 0.6437224669603525, 0.5809471365638768, 0.20154185022026433, 0.9587004405286345, 0.5776431718061675, 0.02918502202643172, 0.15583700440528636, 0.38711453744493396, 0.18171806167400884, 0.10187224669603524, 0.07048458149779736, 0.25715859030837007, 0.38546255506607935, 0.021475770925110133, 0.4410792951541851, 0.7422907488986785, 0.12555066079295155, 0.8590308370044054, 0.38270925110132165, 0.6266519823788547, 0.20484581497797358, 0.5539647577092511, 0.7312775330396477, 0.834251101321586, 0.3480176211453745, 0.7103524229074891, 0.2846916299559472, 0.5379955947136564, 0.34746696035242297, 0.13986784140969163, 0.407488986784141, 0.125, 0.466409691629956, 0.6558370044052865, 0.3166299559471366, 0.38656387665198244, 0.5809471365638768, 0.06662995594713657, 0.3441629955947137, 0.7026431718061675, 0.019273127753303965, 0.8122246696035244, 0.12940528634361234, 0.4482378854625551, 0.030286343612334805, 0.14757709251101322, 0.3292951541850221, 0.7753303964757711, 0.15418502202643172, 0.24118942731277535, 0.6233480176211454, 0.1685022026431718, 0.5462555066079295, 0.49504405286343617, 0.47962555066079304, 0.6965859030837005, 0.6013215859030838, 0.8034140969162996, 0.37279735682819387, 0.5930616740088106, 0.3122246696035243, 0.20319383259911897, 0.09030837004405287, 0.46806167400881066, 0.5490088105726872, 0.2290748898678414, 0.5638766519823789, 0.28193832599118945, 0.18557268722466963, 0.525330396475771, 0.7659691629955948, 0.38546255506607935, 0.223568281938326, 0.8045154185022028, 0.04845814977973569, 0.03854625550660794, 0.45759911894273136, 0.28028634361233484, 0.45759911894273136, 0.4845814977973569, 0.3480176211453745, 0.7874449339207049, 0.5594713656387666, 0.07323788546255507, 0.5214757709251102, 0.0033039647577092516, 0.28138766519823794, 0.3303964757709252, 0.519273127753304, 0.058920704845814985, 0.5093612334801763, 0.5837004405286345, 0.49834801762114544, 0.459251101321586, 0.05176211453744494, 0.13711453744493393, 0.3056167400881058, 0.38381057268722474, 0.6068281938325992, 0.46310572687224677, 0.5737885462555067, 0.4245594713656388, 0.061123348017621155, 0.04625550660792952, 0.328193832599119, 0.2417400881057269, 0.03634361233480177, 0.4317180616740089, 0.644273127753304, 0.014317180616740088, 0.4256607929515419, 0.3061674008810573, 0.11508810572687225, 0.7896475770925111, 0.7780837004405288, 0.15033039647577093, 0.35352422907488995, 0.10407488986784141, 0.12004405286343613, 0.1877753303964758, 0.5198237885462555, 0.236784140969163, 0.8419603524229076, 0.07433920704845816, 0.5704845814977975, 0.17125550660792951, 0.7098017621145375, 0.47191629955947145, 0.0060572687224669615, 0.4526431718061675, 0.3171806167400882, 0.13766519823788548, 0.643171806167401, 0.38105726872246704, 0.09140969162995595, 0.6773127753303966, 0.23182819383259914, 0.644273127753304, 0.2246696035242291, 0.27422907488986786, 0.0236784140969163, 0.3204845814977974, 0.18502202643171808, 0.052863436123348026, 0.41299559471365643, 0.8204845814977975, 0.6470264317180617, 0.33149779735682827, 0.20319383259911897, 0.35517621145374456, 0.38546255506607935, 0.39977973568281944, 0.4344713656387666, 0.24779735682819384, 0.35792951541850226, 0.017070484581497798, 0.6007709251101322, 0.21365638766519826, 0.2890969162995595, 0.07268722466960352, 0.6156387665198239, 0.3463656387665199, 0.3259911894273128, 0.24339207048458153, 0.7714757709251102, 0.14262114537444934, 0.024779735682819385, 0.40638766519823794, 0.183920704845815, 0.1618942731277533, 0.39977973568281944, 0.4317180616740089, 0.1618942731277533, 0.9757709251101323, 0.03744493392070485, 0.5077092511013217, 0.4355726872246697, 0.38050660792951546, 0.2863436123348018, 0.7263215859030838, 0.3502202643171807, 0.6013215859030838, 0.49559471365638774, 0.17400881057268724, 0.007709251101321586, 0.11343612334801763, 0.24614537444933923, 0.2703744493392071, 0.506057268722467, 0.39207048458149785, 0.6200440528634362, 0.29460352422907493, 0.6519823788546256, 0.48898678414096924, 0.6073788546255507, 0.308920704845815, 0.3226872246696036, 0.10022026431718062, 0.17125550660792951, 0.08480176211453745, 0.19823788546255508, 0.22687224669603526, 0.532488986784141, 0.8772026431718063, 0.20319383259911897, 0.19493392070484583, 0.06002202643171807, 0.24504405286343614, 0.2444933920704846, 0.47246696035242297, 0.6773127753303966, 0.5066079295154186, 0.5000000000000001, 0.5754405286343613, 0.6762114537444934, 0.23182819383259914, 0.25440528634361237, 0.2285242290748899, 0.321035242290749, 0.23458149779735685, 0.13436123348017623, 0.8447136563876653, 0.15473568281938327, 0.12114537444933922, 0.14482378854625552, 0.09306167400881057, 0.018722466960352423, 0.16409691629955947, 0.3144273127753304, 0.14096916299559473, 0.9069383259911895, 0.4498898678414098, 0.48348017621145384, 0.3325991189427313, 0.6007709251101322, 0.48127753303964765, 0.3370044052863437, 0.37775330396475776, 0.578193832599119, 0.7015418502202644, 0.629955947136564, 0.4245594713656388, 0.20704845814977976, 0.10903083700440529, 0.3100220264317181, 0.28028634361233484, 0.20870044052863437, 0.295704845814978, 0.4405286343612335, 0.1525330396475771, 0.5159691629955948, 0.5011013215859031, 0.36013215859030845, 0.23072687224669605, 0.5792951541850221, 0.09140969162995595, 0.06497797356828194, 0.19493392070484583, 0.48403083700440536, 0.4295154185022027, 0.3298458149779736, 0.022577092511013218, 0.41299559471365643, 0.5881057268722468, 0.8838105726872247, 0.11398678414096917, 0.544603524229075, 0.4443832599118943, 0.1894273127753304, 0.5401982378854626, 0.5633259911894274, 0.6624449339207049, 0.2312775330396476, 0.3177312775330397, 0.04955947136563878, 0.9620044052863437, 0.26266519823788553, 0.02918502202643172, 0.4741189427312776, 0.004955947136563877, 0.005506607929515419, 0.25440528634361237, 0.39096916299559475, 0.15583700440528636, 0.14041850220264318, 0.5556167400881058, 0.6740088105726874, 0.1800660792951542, 0.3386563876651983, 0.03964757709251102, 0.37389867841409696, 0.3452643171806168, 0.2901982378854626, 0.028634361233480177, 0.5561674008810573, 0.4096916299559472, 0.10682819383259913, 0.3502202643171807, 0.6294052863436124, 0.781387665198238, 0.06332599118942732, 0.007158590308370045, 0.6172907488986785, 0.20925110132158592, 0.25936123348017626, 0.08480176211453745, 0.2929515418502203, 0.0710352422907489, 0.04185022026431719, 0.322136563876652, 0.5407488986784141, 0.37830396475770933, 0.7533039647577093, 0.5770925110132159, 0.9251101321585904, 0.10737885462555066, 0.288546255506608, 0.07764317180616741, 0.025330396475770928, 0.03634361233480177, 0.4234581497797357, 0.459251101321586, 0.34581497797356836, 0.696035242290749, 0.07488986784140969, 0.26101321585903087, 0.010462555066079295, 0.14207048458149782, 0.1811674008810573, 0.2846916299559472, 0.8320484581497798, 0.8364537444933922, 0.48953744493392076, 0.49229074889867847, 0.08039647577092511, 0.5308370044052864, 0.28028634361233484, 0.13105726872246698, 0.3034140969162996, 0.1811674008810573, 0.6068281938325992, 0.48843612334801767, 0.5033039647577093, 0.7709251101321587, 0.6822687224669605, 0.2197136563876652, 0.9267621145374451, 0.027533039647577095, 0.39977973568281944, 0.28799559471365643, 0.7610132158590309, 0.4140969162995595, 0.026982378854625552, 0.4069383259911895, 0.05671806167400882, 0.13601321585903084, 0.4333700440528635, 0.15748898678414097, 0.26541850220264324, 0.8359030837004406, 0.015418502202643174, 0.14427312775330398, 0.36839207048458156, 0.16464757709251102, 0.12720264317180618, 0.030286343612334805, 0.5770925110132159, 0.1156387665198238, 0.17125550660792951, 0.25385462555066085, 0.7929515418502203, 0.47466960352422916, 0.631057268722467, 0.0005506607929515419, 0.3595814977973569, 0.19438325991189428, 0.5947136563876653, 0.5947136563876653, 0.3292951541850221, 0.45374449339207057, 0.5814977973568283, 0.045154185022026436, 0.5583700440528635, 0.0407488986784141, 0.0881057268722467, 0.18557268722466963, 0.29460352422907493, 0.27588105726872253, 0.8788546255506609, 0.024779735682819385, 0.6387665198237886, 0.08480176211453745, 0.7973568281938327, 0.2835903083700441, 0.2169603524229075, 0.29735682819383263, 0.21751101321585906, 0.3309471365638767, 0.3529735682819384, 0.4047356828193833, 0.26321585903083705, 0.6635462555066081, 0.3430616740088106, 0.6398678414096917, 0.8171806167400882, 0.631057268722467, 0.37334801762114544, 0.0908590308370044, 0.17786343612334804, 0.3441629955947137, 0.17841409691629956, 0.05451541850220265, 0.10848017621145375, 0.9983480176211454, 0.8750000000000001, 0.3259911894273128, 0.5732378854625552, 0.22191629955947137, 0.42621145374449343, 0.13711453744493393, 0.015418502202643174, 0.23733480176211455, 0.024779735682819385, 0.10297356828193834, 0.16354625550660795, 0.341409691629956, 0.531387665198238, 0.6982378854625552, 0.4741189427312776, 0.3502202643171807, 0.12169603524229075, 0.7819383259911895, 0.3133259911894274, 0.3887665198237886, 0.29240088105726875, 0.1327092511013216, 0.7742290748898679, 0.16079295154185022, 0.14207048458149782, 0.14537444933920707, 0.10792951541850221, 0.6200440528634362, 0.6993392070484582, 0.14207048458149782, 0.572136563876652, 0.4058370044052864, 0.23953744493392073, 0.4427312775330397, 0.22797356828193835, 0.413546255506608, 0.34966960352422916, 0.716409691629956, 0.46145374449339216, 0.004405286343612335, 0.36398678414096924, 0.6095814977973569, 0.2169603524229075, 0.5231277533039649, 0.47632158590308377, 0.11123348017621146, 0.8948237885462557, 0.3243392070484582, 0.14757709251101322, 0.28028634361233484, 0.39977973568281944, 0.6547356828193833, 0.322136563876652, 0.34746696035242297, 0.953193832599119, 0.4598017621145375, 0.29625550660792954, 0.33920704845814986, 0.29350220264317184, 0.053414096916299565, 0.19603524229074892, 0.46916299559471375, 0.24614537444933923, 0.729625550660793, 0.26762114537444937, 0.7009911894273129, 0.3276431718061675, 0.35517621145374456, 0.3006607929515419, 0.4278634361233481, 0.14702643171806168, 0.7747797356828194, 0.09526431718061674, 0.2979074889867842, 0.5726872246696036, 0.4041850220264318, 0.2483480176211454, 0.061674008810572695, 0.20594713656387667, 0.47742290748898686, 0.7075991189427314, 0.30121145374449343, 0.7136563876651983, 0.5490088105726872, 0.06497797356828194, 0.3083700440528635, 0.7230176211453745, 0.27367841409691634, 0.328193832599119, 0.21145374449339208, 0.13491189427312777, 0.2351321585903084, 0.0022026431718061676, 0.19823788546255508, 0.15748898678414097, 0.5837004405286345, 0.20870044052863437, 0.9691629955947137, 0.061674008810572695, 0.2378854625550661, 0.5319383259911895, 0.24284140969162998, 0.2703744493392071, 0.5082599118942732, 0.5666299559471366, 0.22577092511013216, 0.8975770925110134, 0.46916299559471375, 0.4647577092511014, 0.49394273127753313, 0.21365638766519826, 0.48678414096916306, 0.8849118942731279, 0.27367841409691634, 0.17951541850220265, 0.08094713656387666, 0.12059471365638767, 0.25605726872246704, 0.9790748898678415, 0.7753303964757711, 0.13215859030837004, 0.07764317180616741, 0.031387665198237893, 0.5214757709251102, 0.4185022026431719, 0.5594713656387666, 0.4421806167400882, 0.4493392070484582, 0.17290748898678415, 0.1563876651982379, 0.015969162995594713, 0.5209251101321587, 0.578193832599119, 0.24504405286343614, 0.7890969162995596, 0.3144273127753304, 0.18722466960352424, 0.08590308370044053, 0.047356828193832606, 0.09801762114537445, 0.6459251101321587, 0.21530837004405287, 0.20814977973568283, 0.6409691629955948, 0.6784140969162996, 0.36178414096916306, 0.6762114537444934, 0.4581497797356829, 0.26046255506607935, 0.7830396475770927, 0.3072687224669604, 0.5379955947136564, 0.36288546255506615, 0.7582599118942732, 0.5038546255506609, 0.5490088105726872, 0.3127753303964758, 0.40143171806167405, 0.1629955947136564, 0.19493392070484583, 0.4030837004405287, 0.5110132158590309, 0.17951541850220265, 0.34196035242290757, 0.7571585903083702, 0.3408590308370045, 0.3375550660792952, 0.17841409691629956, 0.301762114537445, 0.6756607929515419, 0.4306167400881058, 0.5638766519823789, 0.016519823788546256, 0.432819383259912], \"xaxis\": \"x2\", \"y\": [0.15384615384615385, 0.20512820512820518, 0.17948717948717952, 0.17948717948717952, 0.6410256410256411, 0.33333333333333337, 0.15384615384615385, 0.3846153846153846, 0.4358974358974359, 0.4871794871794871, 0.7692307692307693, 0.3076923076923077, 0.5128205128205128, 0.46153846153846156, 0.6923076923076922, 0.5641025641025641, 0.5897435897435898, 0.20512820512820518, 0.17948717948717952, 0.33333333333333337, 0.2564102564102564, 0.41025641025641024, 0.3076923076923077, 0.6410256410256411, 0.33333333333333337, 0.5897435897435898, 0.6153846153846153, 0.717948717948718, 0.4358974358974359, 0.3846153846153846, 0.3846153846153846, 0.15384615384615385, 0.28205128205128205, 0.3846153846153846, 0.17948717948717952, 0.41025641025641024, 0.46153846153846156, 0.20512820512820518, 0.23076923076923073, 0.717948717948718, 0.28205128205128205, 0.7948717948717948, 0.20512820512820518, 0.20512820512820518, 0.28205128205128205, 0.6923076923076922, 0.15384615384615385, 0.41025641025641024, 0.17948717948717952, 0.28205128205128205, 0.3589743589743589, 0.4358974358974359, 0.3076923076923077, 0.5897435897435898, 0.20512820512820518, 0.3846153846153846, 0.717948717948718, 0.28205128205128205, 0.28205128205128205, 0.17948717948717952, 0.6410256410256411, 0.4358974358974359, 0.7435897435897435, 0.5384615384615384, 0.6666666666666666, 0.7948717948717948, 0.8461538461538461, 0.20512820512820518, 0.5897435897435898, 0.5128205128205128, 0.3846153846153846, 0.41025641025641024, 0.7948717948717948, 0.23076923076923073, 0.20512820512820518, 0.20512820512820518, 0.20512820512820518, 0.33333333333333337, 0.28205128205128205, 0.33333333333333337, 0.3846153846153846, 0.41025641025641024, 0.23076923076923073, 0.2564102564102564, 0.3846153846153846, 0.46153846153846156, 0.10256410256410253, 0.6153846153846153, 0.3846153846153846, 0.5384615384615384, 0.4358974358974359, 0.41025641025641024, 0.20512820512820518, 0.6666666666666666, 0.28205128205128205, 0.1282051282051282, 0.6666666666666666, 0.5128205128205128, 0.3846153846153846, 0.1282051282051282, 0.7948717948717948, 0.23076923076923073, 0.6666666666666666, 0.41025641025641024, 0.3846153846153846, 0.7692307692307693, 0.2564102564102564, 0.2564102564102564, 0.2564102564102564, 0.3076923076923077, 0.3076923076923077, 0.28205128205128205, 0.2564102564102564, 0.28205128205128205, 0.33333333333333337, 0.17948717948717952, 0.6923076923076922, 0.2564102564102564, 0.2564102564102564, 0.3076923076923077, 0.41025641025641024, 0.28205128205128205, 0.23076923076923073, 0.7948717948717948, 0.23076923076923073, 0.33333333333333337, 0.1282051282051282, 0.3589743589743589, 0.23076923076923073, 0.20512820512820518, 0.15384615384615385, 0.1282051282051282, 0.5641025641025641, 0.23076923076923073, 0.15384615384615385, 0.923076923076923, 0.2564102564102564, 0.3076923076923077, 0.5384615384615384, 0.28205128205128205, 0.4871794871794871, 0.7692307692307693, 0.3846153846153846, 0.23076923076923073, 0.3589743589743589, 0.28205128205128205, 0.2564102564102564, 0.33333333333333337, 0.7692307692307693, 0.46153846153846156, 0.6153846153846153, 0.9743589743589743, 0.23076923076923073, 0.4358974358974359, 0.33333333333333337, 0.23076923076923073, 0.10256410256410253, 0.3846153846153846, 0.717948717948718, 0.4358974358974359, 0.2564102564102564, 0.28205128205128205, 0.17948717948717952, 0.20512820512820518, 0.2564102564102564, 0.23076923076923073, 0.7948717948717948, 0.28205128205128205, 0.3076923076923077, 0.28205128205128205, 0.2564102564102564, 0.23076923076923073, 0.8974358974358975, 0.3846153846153846, 0.3846153846153846, 0.4358974358974359, 0.5641025641025641, 0.5128205128205128, 0.28205128205128205, 0.20512820512820518, 0.23076923076923073, 0.2564102564102564, 0.3076923076923077, 0.2564102564102564, 0.3076923076923077, 0.07692307692307693, 0.2564102564102564, 0.28205128205128205, 0.4358974358974359, 0.1282051282051282, 0.20512820512820518, 0.23076923076923073, 0.3846153846153846, 0.41025641025641024, 0.28205128205128205, 0.17948717948717952, 0.6923076923076922, 0.6923076923076922, 0.6410256410256411, 0.28205128205128205, 0.3846153846153846, 0.5128205128205128, 0.3076923076923077, 0.4871794871794871, 0.28205128205128205, 0.23076923076923073, 0.15384615384615385, 0.2564102564102564, 0.2564102564102564, 0.2564102564102564, 0.8974358974358975, 0.4358974358974359, 0.33333333333333337, 0.3076923076923077, 0.3589743589743589, 0.3846153846153846, 0.15384615384615385, 0.7435897435897435, 0.6923076923076922, 0.2564102564102564, 0.3076923076923077, 0.28205128205128205, 0.2564102564102564, 0.7948717948717948, 0.3846153846153846, 0.23076923076923073, 0.6666666666666666, 0.17948717948717952, 0.17948717948717952, 0.33333333333333337, 0.15384615384615385, 0.6923076923076922, 0.6923076923076922, 0.3846153846153846, 0.46153846153846156, 0.7948717948717948, 0.6666666666666666, 0.8974358974358975, 0.717948717948718, 0.28205128205128205, 0.3846153846153846, 0.33333333333333337, 0.7948717948717948, 0.6666666666666666, 0.923076923076923, 0.6666666666666666, 0.7435897435897435, 0.2564102564102564, 0.5128205128205128, 0.2564102564102564, 0.3589743589743589, 0.28205128205128205, 0.3076923076923077, 0.3076923076923077, 0.3589743589743589, 0.3846153846153846, 0.7435897435897435, 0.3846153846153846, 0.2564102564102564, 0.33333333333333337, 0.7948717948717948, 0.20512820512820518, 0.7692307692307693, 0.41025641025641024, 0.3076923076923077, 0.5384615384615384, 0.2564102564102564, 0.28205128205128205, 0.5641025641025641, 0.20512820512820518, 0.23076923076923073, 0.4358974358974359, 0.3846153846153846, 0.33333333333333337, 0.2564102564102564, 0.7692307692307693, 0.6153846153846153, 0.23076923076923073, 0.3589743589743589, 0.6153846153846153, 0.2564102564102564, 0.28205128205128205, 0.41025641025641024, 0.5897435897435898, 0.33333333333333337, 0.5128205128205128, 0.3589743589743589, 0.8205128205128206, 0.5897435897435898, 0.33333333333333337, 0.6153846153846153, 0.7435897435897435, 0.3076923076923077, 0.28205128205128205, 0.46153846153846156, 0.7692307692307693, 0.33333333333333337, 0.20512820512820518, 0.46153846153846156, 0.7948717948717948, 0.5641025641025641, 0.8717948717948717, 0.7692307692307693, 0.23076923076923073, 0.5897435897435898, 0.20512820512820518, 0.6153846153846153, 0.17948717948717952, 0.3846153846153846, 0.41025641025641024, 0.28205128205128205, 0.3589743589743589, 0.2564102564102564, 0.46153846153846156, 0.2564102564102564, 0.07692307692307693, 0.3589743589743589, 0.2564102564102564, 0.17948717948717952, 0.3846153846153846, 0.33333333333333337, 0.3076923076923077, 0.5641025641025641, 0.2564102564102564, 0.33333333333333337, 0.3846153846153846, 0.28205128205128205, 0.33333333333333337, 0.5384615384615384, 0.15384615384615385, 0.20512820512820518, 0.6153846153846153, 0.6153846153846153, 0.41025641025641024, 0.7948717948717948, 0.5897435897435898, 0.2564102564102564, 0.5897435897435898, 0.15384615384615385, 0.15384615384615385, 0.5641025641025641, 0.41025641025641024, 0.8461538461538461, 0.8205128205128206, 0.33333333333333337, 0.8717948717948717, 0.23076923076923073, 0.2564102564102564, 0.3076923076923077, 0.5641025641025641, 0.41025641025641024, 0.23076923076923073, 0.41025641025641024, 0.6153846153846153, 0.15384615384615385, 0.2564102564102564, 0.3076923076923077, 0.7692307692307693, 0.17948717948717952, 0.15384615384615385, 0.3076923076923077, 0.5641025641025641, 0.6666666666666666, 0.7692307692307693, 0.3589743589743589, 0.33333333333333337, 0.28205128205128205, 0.2564102564102564, 0.4871794871794871, 0.28205128205128205, 0.3589743589743589, 0.2564102564102564, 0.33333333333333337, 0.2564102564102564, 0.33333333333333337, 0.23076923076923073, 0.23076923076923073, 0.4358974358974359, 0.20512820512820518, 0.20512820512820518, 0.4358974358974359, 0.10256410256410253, 0.4358974358974359, 0.717948717948718, 0.3846153846153846, 0.5128205128205128, 0.20512820512820518, 0.7435897435897435, 0.3589743589743589, 0.46153846153846156, 0.28205128205128205, 0.15384615384615385, 0.5641025641025641, 0.2564102564102564, 0.20512820512820518, 0.46153846153846156, 0.17948717948717952, 0.17948717948717952, 0.3846153846153846, 0.3076923076923077, 0.5897435897435898, 0.8461538461538461, 0.10256410256410253, 0.5128205128205128, 0.717948717948718, 0.6410256410256411, 0.17948717948717952, 0.3846153846153846, 0.717948717948718, 0.5384615384615384, 0.46153846153846156, 0.3076923076923077, 0.28205128205128205, 0.2564102564102564, 0.17948717948717952, 0.5384615384615384, 0.41025641025641024, 0.20512820512820518, 0.4358974358974359, 0.6923076923076922, 0.6666666666666666, 0.3589743589743589, 0.6666666666666666, 0.28205128205128205, 0.28205128205128205, 0.33333333333333337, 0.23076923076923073, 0.5641025641025641, 0.10256410256410253, 0.28205128205128205, 0.2564102564102564, 0.3076923076923077, 0.20512820512820518, 0.3846153846153846, 0.17948717948717952, 0.5897435897435898, 0.6410256410256411, 0.5641025641025641, 0.8461538461538461, 0.23076923076923073, 0.20512820512820518, 0.3846153846153846, 0.3076923076923077, 0.3076923076923077, 0.4358974358974359, 0.3846153846153846, 0.46153846153846156, 0.8205128205128206, 0.3589743589743589, 0.3589743589743589, 0.3846153846153846, 0.5384615384615384, 0.6410256410256411, 0.3846153846153846, 0.6923076923076922, 0.20512820512820518, 0.3076923076923077, 0.07692307692307693, 0.8205128205128206, 0.23076923076923073, 0.6923076923076922, 0.15384615384615385, 0.3589743589743589, 0.3076923076923077, 0.41025641025641024, 0.23076923076923073, 0.20512820512820518, 0.3076923076923077, 0.28205128205128205, 0.2564102564102564, 0.3846153846153846, 0.3589743589743589, 0.3076923076923077, 0.2564102564102564, 0.3076923076923077, 0.6410256410256411, 0.3846153846153846, 0.3076923076923077, 0.3076923076923077, 0.3076923076923077, 0.2564102564102564, 0.3589743589743589, 0.3076923076923077, 0.8205128205128206, 0.28205128205128205, 0.6410256410256411, 0.28205128205128205, 0.15384615384615385, 0.8717948717948717, 0.717948717948718, 0.33333333333333337, 0.17948717948717952, 0.23076923076923073, 0.4871794871794871, 0.3076923076923077, 0.3076923076923077, 0.6666666666666666, 0.41025641025641024, 0.8717948717948717, 0.6666666666666666, 0.20512820512820518, 0.5897435897435898, 0.23076923076923073, 0.20512820512820518, 0.41025641025641024, 0.23076923076923073, 0.7692307692307693, 0.28205128205128205, 0.41025641025641024, 0.23076923076923073, 0.20512820512820518, 0.41025641025641024, 0.28205128205128205, 0.33333333333333337, 0.717948717948718, 0.23076923076923073, 0.15384615384615385, 0.7692307692307693, 0.15384615384615385, 0.3589743589743589, 0.28205128205128205, 0.41025641025641024, 0.41025641025641024, 0.20512820512820518, 0.8205128205128206, 0.6153846153846153, 0.20512820512820518, 0.3846153846153846, 0.6410256410256411, 0.2564102564102564, 0.15384615384615385, 0.3076923076923077, 0.2564102564102564, 0.23076923076923073, 0.5641025641025641, 0.10256410256410253, 0.3846153846153846, 0.28205128205128205, 0.5897435897435898, 0.717948717948718, 0.5641025641025641, 0.41025641025641024, 0.6153846153846153, 0.3076923076923077, 0.2564102564102564, 0.7948717948717948, 0.33333333333333337, 0.33333333333333337, 0.23076923076923073, 0.28205128205128205, 0.3076923076923077, 0.2564102564102564, 0.28205128205128205, 0.28205128205128205, 0.5384615384615384, 0.3589743589743589, 0.2564102564102564, 0.5897435897435898, 0.8717948717948717, 0.7435897435897435, 0.6410256410256411, 0.17948717948717952, 0.3846153846153846, 0.17948717948717952, 0.20512820512820518, 0.7435897435897435, 0.3076923076923077, 0.15384615384615385, 0.4358974358974359, 0.7435897435897435, 0.28205128205128205, 0.20512820512820518, 0.1282051282051282, 0.20512820512820518, 0.6153846153846153, 0.46153846153846156, 0.3076923076923077, 0.17948717948717952, 0.3846153846153846, 0.3846153846153846, 0.23076923076923073, 0.3846153846153846, 0.20512820512820518, 0.23076923076923073, 0.8205128205128206, 0.7948717948717948, 0.28205128205128205, 0.3076923076923077, 0.28205128205128205, 0.3846153846153846, 0.8461538461538461, 0.3589743589743589, 0.33333333333333337, 0.9487179487179488, 0.33333333333333337, 0.23076923076923073, 0.717948717948718, 0.23076923076923073, 0.3846153846153846, 0.6666666666666666, 0.2564102564102564, 0.2564102564102564, 0.1282051282051282, 0.20512820512820518, 0.10256410256410253, 0.33333333333333337, 0.4871794871794871, 0.23076923076923073, 0.2564102564102564, 0.2564102564102564, 0.2564102564102564, 0.3076923076923077, 0.5128205128205128, 0.46153846153846156, 0.28205128205128205, 0.28205128205128205, 0.33333333333333337, 0.17948717948717952, 0.2564102564102564, 0.23076923076923073, 0.4871794871794871, 0.23076923076923073, 0.3076923076923077, 0.3589743589743589, 0.4358974358974359, 0.717948717948718, 0.8205128205128206, 0.20512820512820518, 0.5128205128205128, 0.7948717948717948, 0.3076923076923077, 0.3846153846153846, 0.4871794871794871, 0.23076923076923073, 0.3076923076923077, 0.7435897435897435, 0.28205128205128205, 0.23076923076923073, 0.28205128205128205, 0.41025641025641024, 0.3589743589743589, 0.5897435897435898, 0.2564102564102564, 0.4871794871794871, 0.5897435897435898, 0.28205128205128205, 0.20512820512820518, 0.15384615384615385, 0.3589743589743589, 0.10256410256410253, 0.6923076923076922, 0.20512820512820518, 0.2564102564102564, 0.17948717948717952, 0.3076923076923077, 0.6153846153846153, 0.23076923076923073, 0.20512820512820518, 0.33333333333333337, 0.33333333333333337, 0.23076923076923073, 0.3076923076923077, 0.3846153846153846, 0.7948717948717948, 0.3076923076923077, 0.7948717948717948, 0.3076923076923077, 0.5641025641025641, 0.3846153846153846, 0.1282051282051282, 0.2564102564102564, 0.20512820512820518, 0.15384615384615385, 0.3846153846153846, 0.5128205128205128, 0.3589743589743589, 0.3589743589743589, 0.3589743589743589, 0.5128205128205128, 0.41025641025641024, 0.2564102564102564, 0.717948717948718, 0.23076923076923073, 0.4871794871794871, 0.17948717948717952, 0.5384615384615384, 0.20512820512820518, 0.3076923076923077, 0.1282051282051282, 0.2564102564102564, 0.20512820512820518, 0.41025641025641024, 0.4358974358974359, 0.17948717948717952, 0.15384615384615385, 0.17948717948717952, 0.8974358974358975, 0.3846153846153846, 0.3076923076923077, 0.4358974358974359, 0.23076923076923073, 0.6410256410256411, 0.46153846153846156, 0.8205128205128206, 0.46153846153846156, 0.6666666666666666, 0.3076923076923077, 0.15384615384615385, 0.3846153846153846, 0.17948717948717952, 0.41025641025641024, 0.33333333333333337, 0.20512820512820518, 0.3846153846153846, 0.20512820512820518, 0.8205128205128206, 0.17948717948717952, 0.3589743589743589, 0.10256410256410253, 0.28205128205128205, 0.3846153846153846, 0.33333333333333337, 0.33333333333333337, 0.17948717948717952, 0.4871794871794871, 0.2564102564102564, 0.15384615384615385, 0.2564102564102564, 0.3846153846153846, 0.3076923076923077, 0.17948717948717952, 0.3589743589743589, 0.4871794871794871, 0.4358974358974359, 0.17948717948717952, 0.20512820512820518, 0.15384615384615385, 0.28205128205128205, 0.5897435897435898, 0.717948717948718, 0.23076923076923073, 0.5897435897435898, 0.3076923076923077, 0.17948717948717952, 0.46153846153846156, 0.46153846153846156, 0.6666666666666666, 0.923076923076923, 0.28205128205128205, 0.6410256410256411, 0.7435897435897435, 0.46153846153846156, 0.6410256410256411, 0.23076923076923073, 0.15384615384615385, 0.28205128205128205, 0.3589743589743589, 0.4358974358974359, 0.46153846153846156, 0.6153846153846153, 0.3589743589743589, 0.23076923076923073, 0.46153846153846156, 0.23076923076923073, 0.3589743589743589, 0.3076923076923077, 0.4871794871794871, 0.7435897435897435, 0.6410256410256411, 0.41025641025641024, 0.20512820512820518, 0.8205128205128206, 0.41025641025641024, 0.28205128205128205, 0.717948717948718, 0.23076923076923073, 0.2564102564102564, 0.17948717948717952, 0.3589743589743589, 0.15384615384615385, 0.6666666666666666, 0.2564102564102564, 0.4871794871794871, 0.7435897435897435, 0.4871794871794871, 0.7435897435897435, 0.3589743589743589, 0.23076923076923073, 0.6923076923076922, 0.20512820512820518, 0.20512820512820518, 0.41025641025641024, 0.20512820512820518, 0.7948717948717948, 0.6666666666666666, 0.23076923076923073, 0.3589743589743589, 0.2564102564102564, 0.20512820512820518, 0.3846153846153846, 0.4358974358974359, 0.28205128205128205, 0.2564102564102564, 0.41025641025641024, 0.23076923076923073, 0.20512820512820518, 0.6923076923076922, 0.3846153846153846, 0.23076923076923073, 0.28205128205128205, 0.2564102564102564, 0.20512820512820518, 0.41025641025641024, 0.6923076923076922, 0.2564102564102564, 0.2564102564102564, 0.10256410256410253, 0.3846153846153846, 0.6153846153846153, 0.41025641025641024, 0.3846153846153846, 0.20512820512820518, 0.17948717948717952, 0.15384615384615385, 0.23076923076923073, 0.5384615384615384, 0.41025641025641024, 0.6666666666666666, 0.33333333333333337, 0.1282051282051282, 0.28205128205128205, 0.3076923076923077, 0.2564102564102564, 0.20512820512820518, 0.17948717948717952, 0.7948717948717948, 0.17948717948717952, 0.2564102564102564, 0.4358974358974359, 0.5384615384615384, 0.7435897435897435, 0.4358974358974359, 0.2564102564102564, 0.28205128205128205, 0.28205128205128205, 0.3076923076923077, 0.23076923076923073, 0.2564102564102564, 0.2564102564102564, 0.23076923076923073, 0.23076923076923073, 0.28205128205128205, 0.7692307692307693, 0.3589743589743589, 0.6923076923076922, 0.23076923076923073, 0.8461538461538461, 0.46153846153846156, 0.15384615384615385, 0.28205128205128205, 0.7435897435897435, 0.23076923076923073, 0.4358974358974359, 0.33333333333333337, 0.7948717948717948, 0.15384615384615385, 0.7435897435897435, 0.28205128205128205, 0.3589743589743589, 0.33333333333333337, 0.923076923076923, 0.28205128205128205, 0.23076923076923073, 0.28205128205128205, 0.20512820512820518, 0.7692307692307693, 0.7948717948717948, 0.5641025641025641, 0.1282051282051282, 0.28205128205128205, 0.33333333333333337, 0.3076923076923077, 0.3076923076923077, 0.3076923076923077, 0.5641025641025641, 0.28205128205128205, 0.23076923076923073, 0.5128205128205128, 0.3846153846153846, 0.28205128205128205, 0.5128205128205128, 0.8461538461538461, 0.17948717948717952, 0.7435897435897435, 0.3076923076923077, 0.717948717948718, 0.3846153846153846, 0.6410256410256411, 0.6666666666666666, 0.6923076923076922, 0.3589743589743589, 0.1282051282051282, 0.3846153846153846, 0.4871794871794871, 0.23076923076923073, 0.8205128205128206, 0.3076923076923077, 0.6410256410256411, 0.23076923076923073, 0.10256410256410253, 0.5384615384615384, 0.20512820512820518, 0.7435897435897435, 0.3076923076923077, 0.28205128205128205, 0.17948717948717952, 0.2564102564102564, 0.2564102564102564, 0.2564102564102564, 0.23076923076923073, 0.3076923076923077, 0.41025641025641024, 0.8461538461538461, 0.28205128205128205, 0.3589743589743589, 0.3076923076923077, 0.3846153846153846, 0.33333333333333337, 0.4871794871794871, 0.28205128205128205, 0.6666666666666666, 0.8205128205128206, 0.3589743589743589, 0.17948717948717952, 0.2564102564102564, 0.17948717948717952, 0.28205128205128205, 0.28205128205128205, 0.3589743589743589, 0.5128205128205128, 0.7948717948717948, 0.2564102564102564, 0.28205128205128205, 0.33333333333333337, 0.23076923076923073, 0.33333333333333337, 0.3076923076923077, 0.17948717948717952, 0.5641025641025641, 0.3076923076923077, 0.2564102564102564, 0.20512820512820518, 0.23076923076923073, 0.7692307692307693, 0.3589743589743589, 0.4358974358974359, 0.28205128205128205, 0.3076923076923077, 0.3076923076923077, 0.6923076923076922, 0.33333333333333337, 0.7948717948717948, 0.15384615384615385, 0.3846153846153846, 0.41025641025641024, 0.6923076923076922, 0.20512820512820518, 0.41025641025641024, 0.15384615384615385, 0.2564102564102564, 0.3846153846153846, 0.17948717948717952, 0.33333333333333337, 0.33333333333333337, 0.15384615384615385, 0.28205128205128205, 0.3846153846153846, 0.20512820512820518, 0.7435897435897435, 0.2564102564102564, 0.3589743589743589, 0.41025641025641024, 0.4871794871794871, 0.33333333333333337, 0.33333333333333337, 0.33333333333333337, 0.17948717948717952, 0.3589743589743589, 0.4871794871794871, 0.2564102564102564, 0.41025641025641024, 0.4358974358974359, 0.3589743589743589, 0.9487179487179488, 0.2564102564102564, 0.4871794871794871, 0.33333333333333337, 0.7692307692307693, 0.2564102564102564, 0.6666666666666666, 0.28205128205128205, 0.6410256410256411, 0.20512820512820518, 0.17948717948717952, 0.28205128205128205, 0.3589743589743589, 0.33333333333333337, 0.2564102564102564, 0.3589743589743589, 0.8205128205128206, 0.33333333333333337, 0.33333333333333337, 0.20512820512820518, 0.3589743589743589, 0.23076923076923073, 0.2564102564102564, 0.17948717948717952, 0.5384615384615384, 0.41025641025641024, 0.3846153846153846, 0.23076923076923073, 0.3589743589743589, 0.6923076923076922, 0.5384615384615384, 0.3076923076923077, 0.3589743589743589, 0.8461538461538461, 0.33333333333333337, 0.5897435897435898, 0.3589743589743589, 0.3076923076923077, 0.33333333333333337, 0.33333333333333337, 0.6153846153846153, 0.23076923076923073, 0.17948717948717952, 0.23076923076923073, 0.5641025641025641, 0.4358974358974359, 0.3076923076923077, 0.33333333333333337, 0.33333333333333337, 0.33333333333333337, 0.3076923076923077, 0.33333333333333337, 0.3589743589743589, 0.2564102564102564, 0.3076923076923077, 0.5641025641025641, 0.2564102564102564, 0.33333333333333337, 0.23076923076923073, 0.2564102564102564, 0.23076923076923073, 0.4358974358974359, 0.4358974358974359, 0.23076923076923073, 0.41025641025641024, 0.717948717948718, 0.17948717948717952, 0.2564102564102564, 0.33333333333333337, 0.3076923076923077, 0.8974358974358975, 0.20512820512820518, 0.28205128205128205, 0.4358974358974359, 0.20512820512820518, 0.15384615384615385, 0.3076923076923077, 0.33333333333333337, 0.4871794871794871, 0.717948717948718, 0.2564102564102564, 0.28205128205128205, 0.23076923076923073, 0.46153846153846156, 0.17948717948717952, 0.2564102564102564, 0.46153846153846156, 0.2564102564102564, 0.3846153846153846, 0.8974358974358975, 0.3589743589743589, 0.5641025641025641, 0.23076923076923073, 0.28205128205128205, 0.3846153846153846, 0.17948717948717952, 0.33333333333333337, 0.3589743589743589, 0.7435897435897435, 0.33333333333333337, 0.23076923076923073, 0.3846153846153846, 0.23076923076923073, 0.28205128205128205, 0.17948717948717952, 0.3076923076923077, 0.3846153846153846, 0.6153846153846153, 0.20512820512820518, 0.6666666666666666, 0.717948717948718, 0.28205128205128205, 0.3589743589743589, 0.3846153846153846, 0.5384615384615384, 0.23076923076923073, 0.15384615384615385, 0.4871794871794871, 0.6666666666666666, 0.17948717948717952, 0.28205128205128205, 0.3846153846153846, 0.28205128205128205, 0.15384615384615385, 0.28205128205128205, 0.7692307692307693, 0.4871794871794871, 0.23076923076923073, 0.6153846153846153, 0.3846153846153846, 0.6666666666666666, 0.23076923076923073, 0.2564102564102564, 0.8205128205128206, 0.6410256410256411, 0.3076923076923077, 0.20512820512820518, 0.2564102564102564, 0.23076923076923073, 0.7948717948717948, 0.6410256410256411, 0.6666666666666666, 0.6410256410256411, 0.6153846153846153, 0.6923076923076922, 0.20512820512820518, 0.7435897435897435, 0.5641025641025641, 0.5384615384615384, 0.6923076923076922, 0.3076923076923077, 0.20512820512820518, 0.7692307692307693, 0.33333333333333337, 0.6153846153846153, 0.33333333333333337, 0.3076923076923077, 0.23076923076923073, 0.5384615384615384, 0.41025641025641024, 0.4358974358974359, 0.28205128205128205, 0.7692307692307693, 0.6666666666666666, 0.6923076923076922, 0.1282051282051282, 0.3589743589743589, 0.3076923076923077, 0.5384615384615384, 0.3589743589743589, 0.5128205128205128, 0.20512820512820518, 0.6153846153846153, 0.6153846153846153, 0.8205128205128206, 0.4871794871794871, 0.33333333333333337, 0.23076923076923073, 0.3589743589743589, 0.15384615384615385, 0.33333333333333337, 0.3076923076923077, 0.4871794871794871, 0.6410256410256411, 0.3076923076923077, 0.15384615384615385, 0.23076923076923073, 0.33333333333333337, 0.7692307692307693, 0.1282051282051282, 0.6666666666666666, 0.17948717948717952, 0.23076923076923073, 0.8461538461538461, 0.33333333333333337, 0.3076923076923077, 0.6923076923076922, 0.41025641025641024, 0.3846153846153846, 0.3076923076923077, 0.15384615384615385, 0.41025641025641024, 0.41025641025641024, 0.33333333333333337, 0.6410256410256411, 0.2564102564102564, 0.3589743589743589, 0.23076923076923073, 0.2564102564102564, 0.6923076923076922, 0.2564102564102564, 0.7948717948717948, 0.3076923076923077, 0.46153846153846156, 0.33333333333333337, 0.20512820512820518, 0.28205128205128205, 0.5641025641025641, 0.5897435897435898, 0.7692307692307693, 0.41025641025641024, 0.6410256410256411, 0.28205128205128205, 0.23076923076923073, 0.6153846153846153, 0.717948717948718, 0.20512820512820518, 0.4358974358974359, 0.6666666666666666, 0.41025641025641024, 0.17948717948717952, 0.23076923076923073, 0.3589743589743589, 0.23076923076923073, 0.33333333333333337, 0.3846153846153846, 0.20512820512820518, 0.3076923076923077, 0.3589743589743589, 0.1282051282051282, 0.33333333333333337, 0.20512820512820518, 0.6153846153846153, 0.17948717948717952, 0.2564102564102564, 0.3846153846153846, 0.2564102564102564, 0.33333333333333337, 0.7948717948717948, 0.4358974358974359, 0.28205128205128205, 0.2564102564102564, 0.3589743589743589, 0.3846153846153846, 0.6666666666666666, 0.23076923076923073, 0.3846153846153846, 0.4871794871794871, 0.8205128205128206, 0.717948717948718, 0.6153846153846153, 0.41025641025641024, 0.2564102564102564, 0.46153846153846156, 0.7692307692307693, 0.17948717948717952, 0.28205128205128205, 0.3076923076923077, 0.2564102564102564, 0.41025641025641024, 0.15384615384615385, 0.5128205128205128, 0.2564102564102564, 0.15384615384615385, 0.28205128205128205, 0.28205128205128205, 0.23076923076923073, 0.7692307692307693, 0.8717948717948717, 0.4358974358974359, 0.3076923076923077, 0.6153846153846153, 0.3076923076923077, 0.23076923076923073, 0.6410256410256411, 0.23076923076923073, 0.717948717948718, 0.33333333333333337, 0.33333333333333337, 0.23076923076923073, 0.5641025641025641, 0.717948717948718, 0.7692307692307693, 0.23076923076923073, 0.3589743589743589, 0.2564102564102564, 0.7435897435897435, 0.6410256410256411, 0.5128205128205128, 0.28205128205128205, 0.6666666666666666, 0.15384615384615385, 0.3589743589743589, 0.23076923076923073, 0.33333333333333337, 0.717948717948718, 0.33333333333333337, 0.2564102564102564, 0.3589743589743589, 0.20512820512820518, 0.7435897435897435, 0.2564102564102564, 0.717948717948718, 0.6666666666666666, 0.20512820512820518, 0.3846153846153846, 0.6153846153846153, 0.2564102564102564, 0.4358974358974359, 0.051282051282051266, 0.33333333333333337, 0.28205128205128205, 0.7948717948717948, 0.17948717948717952, 0.20512820512820518, 0.33333333333333337, 0.6666666666666666, 0.3846153846153846, 0.3589743589743589, 0.2564102564102564, 0.3076923076923077, 0.23076923076923073, 0.17948717948717952, 0.6923076923076922, 0.8461538461538461, 0.20512820512820518, 0.3589743589743589, 0.20512820512820518, 0.5128205128205128, 0.4871794871794871, 0.41025641025641024, 0.7692307692307693, 0.2564102564102564, 0.3846153846153846, 0.17948717948717952, 0.6923076923076922, 0.20512820512820518, 0.41025641025641024, 0.17948717948717952, 0.20512820512820518, 0.3846153846153846, 0.8205128205128206, 0.2564102564102564, 0.3846153846153846, 0.28205128205128205, 0.20512820512820518, 0.41025641025641024, 0.41025641025641024, 0.3076923076923077, 0.28205128205128205, 0.6410256410256411, 0.7948717948717948, 0.3076923076923077, 0.33333333333333337, 0.41025641025641024, 0.4871794871794871, 0.3589743589743589, 0.6153846153846153, 0.5384615384615384, 0.3589743589743589, 0.3846153846153846, 0.28205128205128205, 0.28205128205128205, 0.28205128205128205, 0.2564102564102564, 0.46153846153846156, 0.717948717948718, 0.28205128205128205, 0.33333333333333337, 0.6410256410256411, 0.28205128205128205, 0.3589743589743589, 0.6410256410256411, 0.46153846153846156, 0.4871794871794871, 0.3076923076923077, 0.2564102564102564, 0.28205128205128205, 0.20512820512820518, 0.3589743589743589, 0.5384615384615384, 0.3589743589743589, 0.23076923076923073, 0.28205128205128205, 0.1282051282051282, 0.3076923076923077, 0.6666666666666666, 0.20512820512820518, 0.5897435897435898, 0.41025641025641024, 0.3076923076923077, 0.3076923076923077, 0.20512820512820518, 0.6923076923076922, 0.23076923076923073, 0.3076923076923077, 0.28205128205128205, 0.5128205128205128, 0.33333333333333337, 0.3589743589743589, 0.23076923076923073, 0.7692307692307693, 0.3076923076923077, 0.41025641025641024, 0.6153846153846153, 0.3076923076923077, 0.2564102564102564, 0.6666666666666666, 0.41025641025641024, 0.6410256410256411, 0.28205128205128205, 0.3589743589743589, 0.23076923076923073, 0.6923076923076922, 0.28205128205128205, 0.4871794871794871, 0.3846153846153846, 0.7692307692307693, 0.28205128205128205, 0.2564102564102564, 0.15384615384615385, 0.3076923076923077, 0.2564102564102564, 0.28205128205128205, 0.41025641025641024, 0.23076923076923073, 0.3076923076923077, 0.28205128205128205, 0.3846153846153846, 0.2564102564102564, 0.28205128205128205, 0.5897435897435898, 0.6666666666666666, 0.28205128205128205, 0.23076923076923073, 0.10256410256410253, 0.15384615384615385, 0.7435897435897435, 0.17948717948717952, 0.17948717948717952, 0.28205128205128205, 0.7435897435897435, 0.7435897435897435, 0.3589743589743589, 0.4358974358974359, 0.3846153846153846, 0.3589743589743589, 0.5128205128205128, 0.8461538461538461, 0.7948717948717948, 0.23076923076923073, 0.3076923076923077, 0.2564102564102564, 0.3589743589743589, 0.6666666666666666, 0.20512820512820518, 0.15384615384615385, 0.28205128205128205, 0.20512820512820518, 0.23076923076923073, 0.28205128205128205, 0.3589743589743589, 0.4358974358974359, 0.2564102564102564, 0.2564102564102564, 0.41025641025641024, 0.8974358974358975, 0.33333333333333337, 0.33333333333333337, 0.6666666666666666, 0.7692307692307693, 0.4358974358974359, 0.15384615384615385, 0.41025641025641024, 0.2564102564102564, 0.28205128205128205, 0.28205128205128205, 0.41025641025641024, 0.17948717948717952, 0.3846153846153846, 0.7435897435897435, 0.3846153846153846, 0.20512820512820518, 0.2564102564102564, 0.3076923076923077, 0.4358974358974359, 0.3589743589743589, 0.41025641025641024, 0.6923076923076922, 0.3076923076923077, 0.7435897435897435, 0.3846153846153846, 0.3076923076923077, 0.6410256410256411, 0.33333333333333337, 0.41025641025641024, 0.7435897435897435, 0.33333333333333337, 0.8717948717948717, 0.23076923076923073, 0.5384615384615384, 0.28205128205128205, 0.3589743589743589, 0.33333333333333337, 0.717948717948718, 0.2564102564102564, 0.6666666666666666, 0.3846153846153846, 0.23076923076923073, 0.23076923076923073, 0.23076923076923073, 0.3076923076923077, 0.46153846153846156, 0.6153846153846153, 0.1282051282051282, 0.20512820512820518, 0.3846153846153846, 0.33333333333333337, 0.23076923076923073, 0.6923076923076922, 0.3589743589743589, 0.3076923076923077, 0.6153846153846153, 0.23076923076923073, 0.717948717948718, 0.7435897435897435, 0.7435897435897435, 0.41025641025641024, 0.4871794871794871, 0.17948717948717952, 0.28205128205128205, 0.717948717948718, 0.3846153846153846, 0.4358974358974359, 0.33333333333333337, 0.5641025641025641, 0.8974358974358975, 0.7692307692307693, 0.28205128205128205, 0.23076923076923073, 0.2564102564102564, 0.3846153846153846, 0.41025641025641024, 0.23076923076923073, 0.923076923076923, 0.20512820512820518, 0.46153846153846156, 0.15384615384615385, 0.15384615384615385, 0.15384615384615385, 0.7692307692307693, 0.41025641025641024, 0.717948717948718, 0.28205128205128205, 0.8461538461538461, 0.6666666666666666, 0.2564102564102564, 0.17948717948717952, 0.3589743589743589, 0.2564102564102564, 0.15384615384615385, 0.7692307692307693, 0.6923076923076922, 0.3076923076923077, 0.41025641025641024, 0.17948717948717952, 0.41025641025641024, 0.17948717948717952, 0.3846153846153846, 0.46153846153846156, 0.4358974358974359, 0.5897435897435898, 0.3846153846153846, 0.3589743589743589, 0.28205128205128205, 0.3846153846153846, 0.6923076923076922, 0.4358974358974359, 0.4358974358974359, 0.1282051282051282, 0.3076923076923077, 0.20512820512820518, 0.41025641025641024, 0.15384615384615385, 0.28205128205128205, 0.2564102564102564, 0.6923076923076922, 0.20512820512820518, 0.1282051282051282, 0.7948717948717948, 0.23076923076923073, 0.3846153846153846, 0.5128205128205128, 0.28205128205128205, 0.3846153846153846, 0.20512820512820518, 0.9487179487179488, 0.33333333333333337, 0.17948717948717952, 0.717948717948718, 0.23076923076923073, 0.33333333333333337, 0.3076923076923077, 0.20512820512820518, 0.33333333333333337, 0.15384615384615385, 0.5384615384615384, 0.20512820512820518, 0.3846153846153846, 0.2564102564102564, 0.33333333333333337, 0.4358974358974359, 0.3846153846153846, 0.3076923076923077, 0.23076923076923073, 0.6923076923076922, 0.33333333333333337, 0.4871794871794871, 0.33333333333333337, 0.3589743589743589, 0.3076923076923077, 0.2564102564102564, 0.7692307692307693, 0.2564102564102564, 0.3589743589743589, 0.6410256410256411, 0.23076923076923073, 0.1282051282051282, 0.3589743589743589, 0.2564102564102564, 0.33333333333333337, 0.4358974358974359, 0.33333333333333337, 0.15384615384615385, 0.46153846153846156, 0.3846153846153846, 0.3846153846153846, 0.5897435897435898, 0.28205128205128205, 0.33333333333333337, 0.9487179487179488, 0.4358974358974359, 0.41025641025641024, 0.5384615384615384, 0.4871794871794871, 0.15384615384615385, 0.3076923076923077, 0.28205128205128205, 0.17948717948717952, 0.41025641025641024, 0.15384615384615385, 0.46153846153846156, 0.23076923076923073, 0.3589743589743589, 0.23076923076923073, 0.17948717948717952, 0.3076923076923077, 0.4358974358974359, 0.33333333333333337, 0.3076923076923077, 0.2564102564102564, 0.3846153846153846, 0.7435897435897435, 0.15384615384615385, 0.8205128205128206, 0.6666666666666666, 0.46153846153846156, 0.3076923076923077, 0.717948717948718, 0.3076923076923077, 0.717948717948718, 0.3589743589743589, 0.3589743589743589, 0.2564102564102564, 0.6923076923076922, 0.28205128205128205, 0.5641025641025641, 0.5128205128205128, 0.7435897435897435, 0.5641025641025641, 0.41025641025641024, 0.5384615384615384, 0.28205128205128205, 0.2564102564102564, 0.28205128205128205, 0.20512820512820518, 0.2564102564102564, 0.4358974358974359, 0.8461538461538461, 0.10256410256410253, 0.23076923076923073, 0.6666666666666666, 0.6410256410256411, 0.2564102564102564, 0.2564102564102564, 0.3076923076923077, 0.41025641025641024, 0.23076923076923073, 0.717948717948718, 0.8461538461538461, 0.2564102564102564, 0.7435897435897435, 0.6923076923076922, 0.46153846153846156, 0.41025641025641024, 0.8974358974358975, 0.2564102564102564, 0.33333333333333337, 0.07692307692307693, 0.23076923076923073, 0.2564102564102564, 0.6410256410256411, 0.3076923076923077, 0.28205128205128205, 0.3076923076923077, 0.3846153846153846, 0.3076923076923077, 0.41025641025641024, 0.7435897435897435, 0.28205128205128205, 0.28205128205128205, 0.3846153846153846, 0.3589743589743589, 0.17948717948717952, 0.20512820512820518, 0.4871794871794871, 0.15384615384615385, 0.3846153846153846, 0.46153846153846156, 0.7948717948717948, 0.41025641025641024, 0.28205128205128205, 0.15384615384615385, 0.2564102564102564, 0.3589743589743589, 0.23076923076923073, 0.28205128205128205, 0.4871794871794871, 0.3846153846153846, 0.3076923076923077, 0.717948717948718, 0.41025641025641024, 0.28205128205128205, 0.5897435897435898, 0.3076923076923077, 0.6923076923076922, 0.3076923076923077, 0.4358974358974359, 0.20512820512820518, 0.23076923076923073, 0.23076923076923073, 0.7435897435897435, 0.4358974358974359, 0.2564102564102564, 0.17948717948717952, 0.6153846153846153, 0.7435897435897435, 0.23076923076923073, 0.15384615384615385, 0.7435897435897435, 0.33333333333333337, 0.2564102564102564, 0.6153846153846153, 0.2564102564102564, 0.17948717948717952, 0.3076923076923077, 0.1282051282051282, 0.20512820512820518, 0.4358974358974359, 0.5128205128205128, 0.41025641025641024, 0.46153846153846156, 0.4358974358974359, 0.46153846153846156, 0.28205128205128205, 0.20512820512820518, 0.20512820512820518, 0.2564102564102564, 0.2564102564102564, 0.20512820512820518, 0.15384615384615385, 0.23076923076923073, 0.717948717948718, 0.28205128205128205, 0.15384615384615385, 0.23076923076923073, 0.3846153846153846, 0.4358974358974359, 0.46153846153846156, 0.4358974358974359, 0.3589743589743589, 0.5641025641025641, 0.8974358974358975, 0.20512820512820518, 0.3846153846153846, 0.6923076923076922, 0.23076923076923073, 0.2564102564102564, 0.33333333333333337, 0.7692307692307693, 0.3076923076923077, 0.20512820512820518, 0.3589743589743589, 0.6153846153846153, 0.33333333333333337, 0.2564102564102564, 0.6666666666666666, 0.7435897435897435, 0.20512820512820518, 0.1282051282051282, 0.2564102564102564, 0.4871794871794871, 0.7435897435897435, 0.15384615384615385, 0.8205128205128206, 0.3589743589743589, 0.28205128205128205, 0.2564102564102564, 0.41025641025641024, 0.17948717948717952, 0.8205128205128206, 0.23076923076923073, 0.28205128205128205, 0.41025641025641024, 0.17948717948717952, 0.3846153846153846, 0.4358974358974359, 0.28205128205128205, 0.3589743589743589, 0.6410256410256411, 0.23076923076923073, 0.07692307692307693, 0.17948717948717952, 0.23076923076923073, 0.15384615384615385, 0.41025641025641024, 0.46153846153846156, 0.10256410256410253, 0.8461538461538461, 0.20512820512820518, 0.7435897435897435, 0.6666666666666666, 0.17948717948717952, 0.46153846153846156, 0.5128205128205128, 0.28205128205128205, 0.5897435897435898, 0.6666666666666666, 0.2564102564102564, 0.3076923076923077, 0.15384615384615385, 0.4358974358974359, 0.17948717948717952, 0.3076923076923077, 0.4871794871794871, 0.717948717948718, 0.15384615384615385, 0.17948717948717952, 0.3076923076923077, 0.2564102564102564, 0.2564102564102564, 0.23076923076923073, 0.23076923076923073, 0.1282051282051282, 0.20512820512820518, 0.28205128205128205, 0.5128205128205128, 0.17948717948717952, 0.6923076923076922, 0.23076923076923073, 0.2564102564102564, 0.23076923076923073, 0.33333333333333337, 0.5128205128205128, 0.5384615384615384, 0.20512820512820518, 0.7435897435897435, 0.20512820512820518, 0.6153846153846153, 0.23076923076923073, 0.20512820512820518, 0.20512820512820518, 0.7435897435897435, 0.3076923076923077, 0.17948717948717952, 0.1282051282051282, 0.20512820512820518, 0.46153846153846156, 0.23076923076923073, 0.4358974358974359, 0.15384615384615385, 0.6410256410256411, 0.2564102564102564, 0.33333333333333337, 0.6666666666666666, 0.15384615384615385, 0.7948717948717948, 0.23076923076923073, 0.28205128205128205, 0.4358974358974359, 0.6923076923076922, 0.1282051282051282, 0.2564102564102564, 0.6153846153846153, 0.2564102564102564, 0.17948717948717952, 0.2564102564102564, 0.6666666666666666, 0.41025641025641024, 0.41025641025641024, 0.15384615384615385, 0.717948717948718, 0.20512820512820518, 0.6153846153846153, 0.20512820512820518, 0.33333333333333337, 0.7692307692307693, 0.33333333333333337, 0.6666666666666666, 0.2564102564102564, 0.3589743589743589, 0.20512820512820518, 0.23076923076923073, 0.5641025641025641, 0.4358974358974359, 0.7948717948717948, 0.41025641025641024, 0.7948717948717948, 0.3076923076923077, 0.5384615384615384, 0.41025641025641024, 0.17948717948717952, 0.4358974358974359, 0.3846153846153846, 0.2564102564102564, 0.41025641025641024, 0.6153846153846153, 0.3589743589743589, 0.2564102564102564, 0.4358974358974359, 0.8205128205128206, 0.17948717948717952, 0.41025641025641024, 0.6153846153846153, 0.23076923076923073, 0.1282051282051282, 0.41025641025641024, 0.7948717948717948, 0.41025641025641024, 0.6666666666666666, 0.8205128205128206, 0.23076923076923073, 0.2564102564102564, 0.2564102564102564, 0.6923076923076922, 0.3076923076923077, 0.41025641025641024, 0.17948717948717952, 0.33333333333333337, 0.17948717948717952, 0.5897435897435898, 0.3846153846153846, 0.7435897435897435, 0.33333333333333337, 0.5128205128205128, 0.8461538461538461, 0.7435897435897435, 0.7692307692307693, 0.3846153846153846, 0.2564102564102564, 0.46153846153846156, 0.2564102564102564, 0.3589743589743589, 0.3589743589743589, 0.5897435897435898, 0.33333333333333337, 0.17948717948717952, 0.6666666666666666, 0.3076923076923077, 0.051282051282051266, 0.33333333333333337, 0.2564102564102564, 0.3846153846153846, 0.17948717948717952, 0.5897435897435898, 0.41025641025641024, 0.3846153846153846, 0.3076923076923077, 0.17948717948717952, 0.28205128205128205, 0.051282051282051266, 0.28205128205128205, 0.20512820512820518, 0.3589743589743589, 0.41025641025641024, 0.46153846153846156, 0.6153846153846153, 0.10256410256410253, 0.20512820512820518, 0.41025641025641024, 0.4358974358974359, 0.4358974358974359, 0.20512820512820518, 0.7435897435897435, 0.17948717948717952, 0.20512820512820518, 0.3076923076923077, 0.6923076923076922, 0.46153846153846156, 0.9743589743589743, 0.7435897435897435, 0.8974358974358975, 0.3846153846153846, 0.23076923076923073, 0.5641025641025641, 0.17948717948717952, 0.23076923076923073, 0.17948717948717952, 0.8717948717948717, 0.46153846153846156, 0.8974358974358975, 0.6153846153846153, 0.41025641025641024, 0.4358974358974359, 0.3076923076923077, 0.4358974358974359, 0.33333333333333337, 0.15384615384615385, 0.28205128205128205, 0.17948717948717952, 0.5641025641025641, 0.23076923076923073, 0.23076923076923073, 0.17948717948717952, 0.20512820512820518, 0.6410256410256411, 0.9487179487179488, 0.7435897435897435, 0.3846153846153846, 0.2564102564102564, 0.20512820512820518, 0.2564102564102564, 0.23076923076923073, 0.1282051282051282, 0.33333333333333337, 0.20512820512820518, 0.6153846153846153, 0.6153846153846153, 0.28205128205128205, 0.28205128205128205, 0.23076923076923073, 0.6666666666666666, 0.3076923076923077, 0.3076923076923077, 0.23076923076923073, 0.28205128205128205, 0.23076923076923073, 0.6153846153846153, 0.20512820512820518, 0.4358974358974359, 0.2564102564102564, 0.20512820512820518, 0.23076923076923073, 0.28205128205128205, 0.2564102564102564, 0.20512820512820518, 0.28205128205128205, 0.1282051282051282, 0.5128205128205128, 0.3589743589743589, 0.8205128205128206, 0.23076923076923073, 0.33333333333333337, 0.4358974358974359, 0.41025641025641024, 0.5897435897435898, 0.20512820512820518, 0.6153846153846153, 0.23076923076923073, 0.3076923076923077, 0.28205128205128205, 0.33333333333333337, 0.6153846153846153, 0.2564102564102564, 0.4358974358974359, 0.23076923076923073, 0.20512820512820518, 0.3846153846153846, 0.17948717948717952, 0.28205128205128205, 0.2564102564102564, 0.7692307692307693, 0.17948717948717952, 0.3589743589743589, 0.23076923076923073, 0.28205128205128205, 0.3589743589743589, 0.3846153846153846, 0.2564102564102564, 0.3589743589743589, 0.2564102564102564, 0.4358974358974359, 0.5128205128205128, 0.4358974358974359, 0.20512820512820518, 0.2564102564102564, 0.23076923076923073, 0.20512820512820518, 0.41025641025641024, 0.46153846153846156, 0.3589743589743589, 0.4871794871794871, 0.20512820512820518, 0.4358974358974359, 0.23076923076923073, 0.33333333333333337, 0.7948717948717948, 0.23076923076923073, 0.10256410256410253, 0.4871794871794871, 0.5128205128205128, 0.6153846153846153, 0.17948717948717952, 0.2564102564102564, 0.41025641025641024, 0.5384615384615384, 0.10256410256410253, 0.20512820512820518, 0.6666666666666666, 0.41025641025641024, 0.5641025641025641, 0.3076923076923077, 0.6410256410256411, 0.3589743589743589, 0.4358974358974359, 0.17948717948717952, 0.28205128205128205, 0.33333333333333337, 0.2564102564102564, 0.8205128205128206, 0.20512820512820518, 0.33333333333333337, 0.2564102564102564, 0.2564102564102564, 0.2564102564102564, 0.3589743589743589, 0.23076923076923073, 0.3076923076923077, 0.28205128205128205, 0.46153846153846156, 0.28205128205128205, 0.7692307692307693, 0.3589743589743589, 0.3076923076923077, 0.3076923076923077, 0.5128205128205128, 0.3076923076923077, 0.41025641025641024, 0.23076923076923073, 0.6923076923076922, 0.28205128205128205, 0.717948717948718, 0.7435897435897435, 0.41025641025641024, 0.17948717948717952, 0.20512820512820518, 0.20512820512820518, 0.6923076923076922, 0.8205128205128206, 0.23076923076923073, 0.9487179487179488, 0.3076923076923077, 0.6153846153846153, 0.3076923076923077, 0.20512820512820518, 0.20512820512820518, 0.2564102564102564, 0.46153846153846156, 0.6153846153846153, 0.3589743589743589, 0.15384615384615385, 0.6410256410256411, 0.3846153846153846, 0.3076923076923077, 0.33333333333333337, 0.3846153846153846, 0.5641025641025641, 0.3589743589743589, 0.3076923076923077, 0.717948717948718, 0.28205128205128205, 0.28205128205128205, 0.41025641025641024, 0.7435897435897435, 0.6923076923076922, 0.4358974358974359, 0.3076923076923077, 0.6923076923076922, 0.3589743589743589, 0.6410256410256411, 0.28205128205128205, 0.10256410256410253, 0.2564102564102564, 0.6410256410256411, 0.2564102564102564, 0.3589743589743589, 0.4358974358974359, 0.7692307692307693, 0.46153846153846156, 0.5128205128205128, 0.7948717948717948, 0.33333333333333337, 0.5128205128205128, 0.15384615384615385, 0.3846153846153846, 0.3846153846153846, 0.28205128205128205, 0.33333333333333337, 0.41025641025641024, 0.3846153846153846, 0.4358974358974359, 0.7692307692307693, 0.6153846153846153, 0.28205128205128205, 0.41025641025641024, 0.41025641025641024, 0.17948717948717952, 0.17948717948717952, 0.33333333333333337, 0.3846153846153846, 0.8461538461538461, 0.2564102564102564, 0.2564102564102564, 0.15384615384615385, 0.3846153846153846, 0.7692307692307693, 0.5641025641025641, 0.5897435897435898, 0.3846153846153846, 0.28205128205128205, 0.6410256410256411, 0.20512820512820518, 0.717948717948718, 0.3589743589743589, 0.17948717948717952, 0.15384615384615385, 0.4358974358974359, 0.23076923076923073, 0.28205128205128205, 0.28205128205128205, 0.20512820512820518, 0.2564102564102564, 0.3076923076923077, 0.7435897435897435, 0.28205128205128205, 0.23076923076923073, 0.20512820512820518, 0.15384615384615385, 0.6410256410256411, 0.7692307692307693, 0.7692307692307693, 0.15384615384615385, 0.3076923076923077, 0.46153846153846156, 0.3589743589743589, 0.8717948717948717, 0.5897435897435898, 0.23076923076923073, 0.41025641025641024, 0.17948717948717952, 0.5384615384615384, 0.20512820512820518, 0.20512820512820518, 0.3076923076923077, 0.17948717948717952, 0.3589743589743589, 0.3076923076923077, 0.2564102564102564, 0.33333333333333337, 0.41025641025641024, 0.2564102564102564, 0.3076923076923077, 0.07692307692307693, 0.6410256410256411, 0.20512820512820518, 0.717948717948718, 0.7435897435897435, 0.3076923076923077, 0.46153846153846156, 0.07692307692307693, 0.2564102564102564, 0.6666666666666666, 0.28205128205128205, 0.7435897435897435, 0.2564102564102564, 0.23076923076923073, 0.20512820512820518, 0.15384615384615385, 0.23076923076923073, 0.4358974358974359, 0.3076923076923077, 0.6153846153846153, 0.2564102564102564, 0.23076923076923073, 0.15384615384615385, 0.28205128205128205, 0.33333333333333337, 0.7435897435897435, 0.6666666666666666, 0.6923076923076922, 0.8717948717948717, 0.5128205128205128, 0.20512820512820518, 0.3846153846153846, 0.8205128205128206, 0.6410256410256411, 0.6923076923076922, 0.5641025641025641, 0.6923076923076922, 0.33333333333333337, 0.5384615384615384, 0.3076923076923077, 0.20512820512820518, 0.2564102564102564, 0.20512820512820518, 0.2564102564102564, 0.6410256410256411, 0.5128205128205128, 0.6410256410256411, 0.3589743589743589, 0.7435897435897435, 0.6923076923076922, 0.46153846153846156, 0.6410256410256411, 0.33333333333333337, 0.28205128205128205, 0.3076923076923077, 0.3076923076923077, 0.28205128205128205, 0.5641025641025641, 0.7692307692307693, 0.7948717948717948, 0.3846153846153846, 0.2564102564102564, 0.23076923076923073, 0.23076923076923073, 0.6923076923076922, 0.3589743589743589, 0.46153846153846156, 0.3589743589743589, 0.3589743589743589, 0.3076923076923077, 0.6153846153846153, 0.28205128205128205, 0.20512820512820518, 0.17948717948717952, 0.15384615384615385, 0.7692307692307693, 0.3589743589743589, 0.23076923076923073, 0.20512820512820518, 0.6666666666666666, 0.28205128205128205, 0.33333333333333337, 0.17948717948717952, 0.20512820512820518, 0.20512820512820518, 0.2564102564102564, 0.3846153846153846, 0.3589743589743589, 0.3846153846153846, 0.6923076923076922, 0.3846153846153846, 0.4358974358974359, 0.28205128205128205, 0.17948717948717952, 0.3589743589743589, 0.23076923076923073, 0.17948717948717952, 0.6666666666666666, 0.6410256410256411, 0.2564102564102564, 0.33333333333333337, 0.7948717948717948, 0.23076923076923073, 0.3589743589743589, 0.3076923076923077, 0.28205128205128205, 0.7435897435897435, 0.28205128205128205, 0.17948717948717952, 0.6666666666666666, 0.2564102564102564, 0.20512820512820518, 0.23076923076923073, 0.7692307692307693, 0.28205128205128205, 0.7692307692307693, 0.28205128205128205, 0.5897435897435898, 0.6923076923076922, 0.3846153846153846, 0.6666666666666666, 0.23076923076923073, 0.2564102564102564, 0.7435897435897435, 0.33333333333333337, 0.4871794871794871, 0.9487179487179488, 0.41025641025641024, 0.20512820512820518, 0.46153846153846156, 0.6153846153846153, 0.2564102564102564, 0.8717948717948717, 0.3076923076923077, 0.23076923076923073, 0.2564102564102564, 0.23076923076923073, 0.7948717948717948, 0.5384615384615384, 0.28205128205128205, 0.1282051282051282, 0.46153846153846156, 0.20512820512820518, 0.8205128205128206, 0.20512820512820518, 0.3076923076923077, 0.5128205128205128, 0.7692307692307693, 0.3846153846153846, 0.3076923076923077, 0.3076923076923077, 0.3076923076923077, 0.20512820512820518, 0.7692307692307693, 0.2564102564102564, 0.3589743589743589, 0.3589743589743589, 0.4358974358974359, 0.3589743589743589, 0.17948717948717952, 0.6410256410256411, 0.33333333333333337, 0.20512820512820518, 0.23076923076923073, 0.33333333333333337, 0.2564102564102564, 0.28205128205128205, 0.41025641025641024, 0.3846153846153846, 0.5897435897435898, 0.3076923076923077, 0.7435897435897435, 0.23076923076923073, 0.28205128205128205, 0.2564102564102564, 0.2564102564102564, 0.3076923076923077, 0.6666666666666666, 0.15384615384615385, 0.8717948717948717, 0.3589743589743589, 0.2564102564102564, 0.20512820512820518, 0.23076923076923073, 0.6923076923076922, 0.8717948717948717, 0.3589743589743589, 0.7948717948717948, 0.6410256410256411, 0.5641025641025641, 0.20512820512820518, 0.23076923076923073, 0.17948717948717952, 0.46153846153846156, 0.7692307692307693, 0.3076923076923077, 0.46153846153846156, 0.5384615384615384, 0.6666666666666666, 0.2564102564102564, 0.3589743589743589, 0.5897435897435898, 0.7948717948717948, 0.15384615384615385, 0.6666666666666666, 0.8461538461538461, 0.28205128205128205, 0.41025641025641024, 0.17948717948717952, 0.4358974358974359, 0.2564102564102564, 0.5128205128205128, 0.5128205128205128, 0.4358974358974359, 0.28205128205128205, 0.3589743589743589, 0.17948717948717952, 0.28205128205128205, 0.33333333333333337, 0.3589743589743589, 0.23076923076923073, 0.17948717948717952, 0.2564102564102564, 0.23076923076923073, 0.1282051282051282, 0.17948717948717952, 0.4871794871794871, 0.6923076923076922, 0.6153846153846153, 0.20512820512820518, 0.6666666666666666, 0.23076923076923073, 0.17948717948717952, 0.2564102564102564, 0.2564102564102564, 0.23076923076923073, 0.46153846153846156, 0.17948717948717952, 0.41025641025641024, 0.5897435897435898, 0.23076923076923073, 0.41025641025641024, 0.6410256410256411, 0.3076923076923077, 0.4871794871794871, 0.33333333333333337, 0.5384615384615384, 0.46153846153846156, 0.41025641025641024, 0.28205128205128205, 0.717948717948718, 0.3076923076923077, 0.3589743589743589, 0.6153846153846153, 0.3589743589743589, 0.3589743589743589, 0.17948717948717952, 0.4358974358974359, 0.17948717948717952, 0.3846153846153846, 0.7692307692307693, 0.3589743589743589, 0.6153846153846153, 0.2564102564102564, 0.3589743589743589, 0.7692307692307693, 0.20512820512820518, 0.20512820512820518, 0.7435897435897435, 0.3589743589743589, 0.20512820512820518, 0.3076923076923077, 0.8974358974358975, 0.5128205128205128, 0.33333333333333337, 0.8205128205128206, 0.3076923076923077, 0.6666666666666666, 0.2564102564102564, 0.17948717948717952, 0.3076923076923077, 0.6153846153846153, 0.41025641025641024, 0.2564102564102564, 0.3846153846153846, 0.41025641025641024, 0.5897435897435898, 0.5128205128205128, 0.4358974358974359, 0.3589743589743589, 0.8974358974358975, 0.5384615384615384, 0.6666666666666666, 0.3589743589743589, 0.33333333333333337, 0.8461538461538461, 0.10256410256410253, 0.717948717948718, 0.4358974358974359, 0.1282051282051282, 0.6923076923076922, 0.6410256410256411, 0.6153846153846153, 0.5897435897435898, 0.4871794871794871, 0.923076923076923, 0.23076923076923073, 0.8974358974358975, 0.6923076923076922, 0.1282051282051282, 0.5384615384615384, 0.4358974358974359, 0.6153846153846153, 0.6410256410256411, 0.3846153846153846, 0.2564102564102564, 0.28205128205128205, 0.20512820512820518, 0.5128205128205128, 0.7435897435897435, 0.17948717948717952, 0.3589743589743589, 0.33333333333333337, 0.8205128205128206, 0.41025641025641024, 0.4358974358974359, 0.20512820512820518, 0.17948717948717952, 0.28205128205128205, 0.4358974358974359, 0.15384615384615385, 0.3846153846153846, 0.33333333333333337, 0.3846153846153846, 0.46153846153846156, 0.3589743589743589, 0.17948717948717952, 0.33333333333333337, 0.33333333333333337, 0.17948717948717952, 0.7948717948717948, 0.3076923076923077, 0.33333333333333337, 0.3589743589743589, 0.3846153846153846, 0.15384615384615385, 0.17948717948717952, 0.28205128205128205, 0.33333333333333337, 0.15384615384615385, 0.4358974358974359, 0.3846153846153846, 0.33333333333333337, 0.5641025641025641, 0.3846153846153846, 0.2564102564102564, 0.7435897435897435, 0.20512820512820518, 0.3846153846153846, 0.20512820512820518, 0.28205128205128205, 0.17948717948717952, 0.17948717948717952, 0.3846153846153846, 0.3589743589743589, 0.41025641025641024, 0.3846153846153846, 0.41025641025641024, 0.2564102564102564, 0.28205128205128205, 0.4358974358974359, 0.6923076923076922, 0.3846153846153846, 0.23076923076923073, 0.5897435897435898, 0.23076923076923073, 0.3589743589743589, 0.5641025641025641, 0.7692307692307693, 0.3589743589743589, 0.33333333333333337, 0.33333333333333337, 0.4871794871794871, 0.5128205128205128, 0.23076923076923073, 0.4871794871794871, 0.2564102564102564, 0.7948717948717948, 0.8461538461538461, 0.5641025641025641, 0.3589743589743589, 0.17948717948717952, 0.33333333333333337, 0.2564102564102564, 0.15384615384615385, 0.28205128205128205, 0.17948717948717952, 0.3846153846153846, 0.5641025641025641, 0.28205128205128205, 0.717948717948718, 0.4358974358974359, 0.41025641025641024, 0.28205128205128205, 0.41025641025641024, 0.28205128205128205, 0.20512820512820518, 0.20512820512820518, 0.23076923076923073, 0.15384615384615385, 0.3846153846153846, 0.5897435897435898, 0.46153846153846156, 0.28205128205128205, 0.5897435897435898, 0.2564102564102564, 0.5384615384615384, 0.3846153846153846, 0.3589743589743589, 0.17948717948717952, 0.6410256410256411, 0.3076923076923077, 0.8461538461538461, 0.4358974358974359, 0.23076923076923073, 0.4871794871794871, 0.717948717948718, 0.10256410256410253, 0.15384615384615385, 0.6666666666666666, 0.2564102564102564, 0.3076923076923077, 0.5897435897435898, 0.3846153846153846, 0.3589743589743589, 0.7435897435897435, 0.3589743589743589, 0.17948717948717952, 0.28205128205128205, 0.28205128205128205, 0.3846153846153846, 0.3589743589743589, 0.051282051282051266, 0.23076923076923073], \"yaxis\": \"y2\"}],\n",
              "                        {\"annotations\": [{\"font\": {\"size\": 16}, \"showarrow\": false, \"text\": \"Actual\", \"x\": 0.225, \"xanchor\": \"center\", \"xref\": \"paper\", \"y\": 1.0, \"yanchor\": \"bottom\", \"yref\": \"paper\"}, {\"font\": {\"size\": 16}, \"showarrow\": false, \"text\": \"K-means cluster\", \"x\": 0.775, \"xanchor\": \"center\", \"xref\": \"paper\", \"y\": 1.0, \"yanchor\": \"bottom\", \"yref\": \"paper\"}], \"height\": 600, \"template\": {\"data\": {\"bar\": [{\"error_x\": {\"color\": \"#2a3f5f\"}, \"error_y\": {\"color\": \"#2a3f5f\"}, \"marker\": {\"line\": {\"color\": \"#E5ECF6\", \"width\": 0.5}}, \"type\": \"bar\"}], \"barpolar\": [{\"marker\": {\"line\": {\"color\": \"#E5ECF6\", \"width\": 0.5}}, \"type\": \"barpolar\"}], \"carpet\": [{\"aaxis\": {\"endlinecolor\": \"#2a3f5f\", \"gridcolor\": \"white\", \"linecolor\": \"white\", \"minorgridcolor\": \"white\", \"startlinecolor\": \"#2a3f5f\"}, \"baxis\": {\"endlinecolor\": \"#2a3f5f\", \"gridcolor\": \"white\", \"linecolor\": \"white\", \"minorgridcolor\": \"white\", \"startlinecolor\": \"#2a3f5f\"}, \"type\": \"carpet\"}], \"choropleth\": [{\"colorbar\": {\"outlinewidth\": 0, \"ticks\": \"\"}, \"type\": \"choropleth\"}], \"contour\": [{\"colorbar\": {\"outlinewidth\": 0, \"ticks\": \"\"}, \"colorscale\": [[0.0, \"#0d0887\"], [0.1111111111111111, \"#46039f\"], [0.2222222222222222, \"#7201a8\"], [0.3333333333333333, \"#9c179e\"], [0.4444444444444444, \"#bd3786\"], [0.5555555555555556, \"#d8576b\"], [0.6666666666666666, \"#ed7953\"], [0.7777777777777778, \"#fb9f3a\"], [0.8888888888888888, \"#fdca26\"], [1.0, \"#f0f921\"]], \"type\": \"contour\"}], \"contourcarpet\": [{\"colorbar\": {\"outlinewidth\": 0, \"ticks\": \"\"}, \"type\": \"contourcarpet\"}], \"heatmap\": [{\"colorbar\": {\"outlinewidth\": 0, \"ticks\": \"\"}, \"colorscale\": [[0.0, \"#0d0887\"], [0.1111111111111111, \"#46039f\"], [0.2222222222222222, \"#7201a8\"], [0.3333333333333333, \"#9c179e\"], [0.4444444444444444, \"#bd3786\"], [0.5555555555555556, \"#d8576b\"], [0.6666666666666666, \"#ed7953\"], [0.7777777777777778, \"#fb9f3a\"], [0.8888888888888888, \"#fdca26\"], [1.0, \"#f0f921\"]], \"type\": \"heatmap\"}], \"heatmapgl\": [{\"colorbar\": {\"outlinewidth\": 0, \"ticks\": \"\"}, \"colorscale\": [[0.0, \"#0d0887\"], [0.1111111111111111, \"#46039f\"], [0.2222222222222222, \"#7201a8\"], [0.3333333333333333, \"#9c179e\"], [0.4444444444444444, \"#bd3786\"], [0.5555555555555556, \"#d8576b\"], [0.6666666666666666, \"#ed7953\"], [0.7777777777777778, \"#fb9f3a\"], [0.8888888888888888, \"#fdca26\"], [1.0, \"#f0f921\"]], \"type\": \"heatmapgl\"}], \"histogram\": [{\"marker\": {\"colorbar\": {\"outlinewidth\": 0, \"ticks\": \"\"}}, \"type\": \"histogram\"}], \"histogram2d\": [{\"colorbar\": {\"outlinewidth\": 0, \"ticks\": \"\"}, \"colorscale\": [[0.0, \"#0d0887\"], [0.1111111111111111, \"#46039f\"], [0.2222222222222222, \"#7201a8\"], [0.3333333333333333, \"#9c179e\"], [0.4444444444444444, \"#bd3786\"], [0.5555555555555556, \"#d8576b\"], [0.6666666666666666, \"#ed7953\"], [0.7777777777777778, \"#fb9f3a\"], [0.8888888888888888, \"#fdca26\"], [1.0, \"#f0f921\"]], \"type\": \"histogram2d\"}], \"histogram2dcontour\": [{\"colorbar\": {\"outlinewidth\": 0, \"ticks\": \"\"}, \"colorscale\": [[0.0, \"#0d0887\"], [0.1111111111111111, \"#46039f\"], [0.2222222222222222, \"#7201a8\"], [0.3333333333333333, \"#9c179e\"], [0.4444444444444444, \"#bd3786\"], [0.5555555555555556, \"#d8576b\"], [0.6666666666666666, \"#ed7953\"], [0.7777777777777778, \"#fb9f3a\"], [0.8888888888888888, \"#fdca26\"], [1.0, \"#f0f921\"]], \"type\": \"histogram2dcontour\"}], \"mesh3d\": [{\"colorbar\": {\"outlinewidth\": 0, \"ticks\": \"\"}, \"type\": \"mesh3d\"}], \"parcoords\": [{\"line\": {\"colorbar\": {\"outlinewidth\": 0, \"ticks\": \"\"}}, \"type\": \"parcoords\"}], \"pie\": [{\"automargin\": true, \"type\": \"pie\"}], \"scatter\": [{\"marker\": {\"colorbar\": {\"outlinewidth\": 0, \"ticks\": \"\"}}, \"type\": \"scatter\"}], \"scatter3d\": [{\"line\": {\"colorbar\": {\"outlinewidth\": 0, \"ticks\": \"\"}}, \"marker\": {\"colorbar\": {\"outlinewidth\": 0, \"ticks\": \"\"}}, \"type\": \"scatter3d\"}], \"scattercarpet\": [{\"marker\": {\"colorbar\": {\"outlinewidth\": 0, \"ticks\": \"\"}}, \"type\": \"scattercarpet\"}], \"scattergeo\": [{\"marker\": {\"colorbar\": {\"outlinewidth\": 0, \"ticks\": \"\"}}, \"type\": \"scattergeo\"}], \"scattergl\": [{\"marker\": {\"colorbar\": {\"outlinewidth\": 0, \"ticks\": \"\"}}, \"type\": \"scattergl\"}], \"scattermapbox\": [{\"marker\": {\"colorbar\": {\"outlinewidth\": 0, \"ticks\": \"\"}}, \"type\": \"scattermapbox\"}], \"scatterpolar\": [{\"marker\": {\"colorbar\": {\"outlinewidth\": 0, \"ticks\": \"\"}}, \"type\": \"scatterpolar\"}], \"scatterpolargl\": [{\"marker\": {\"colorbar\": {\"outlinewidth\": 0, \"ticks\": \"\"}}, \"type\": \"scatterpolargl\"}], \"scatterternary\": [{\"marker\": {\"colorbar\": {\"outlinewidth\": 0, \"ticks\": \"\"}}, \"type\": \"scatterternary\"}], \"surface\": [{\"colorbar\": {\"outlinewidth\": 0, \"ticks\": \"\"}, \"colorscale\": [[0.0, \"#0d0887\"], [0.1111111111111111, \"#46039f\"], [0.2222222222222222, \"#7201a8\"], [0.3333333333333333, \"#9c179e\"], [0.4444444444444444, \"#bd3786\"], [0.5555555555555556, \"#d8576b\"], [0.6666666666666666, \"#ed7953\"], [0.7777777777777778, \"#fb9f3a\"], [0.8888888888888888, \"#fdca26\"], [1.0, \"#f0f921\"]], \"type\": \"surface\"}], \"table\": [{\"cells\": {\"fill\": {\"color\": \"#EBF0F8\"}, \"line\": {\"color\": \"white\"}}, \"header\": {\"fill\": {\"color\": \"#C8D4E3\"}, \"line\": {\"color\": \"white\"}}, \"type\": \"table\"}]}, \"layout\": {\"annotationdefaults\": {\"arrowcolor\": \"#2a3f5f\", \"arrowhead\": 0, \"arrowwidth\": 1}, \"coloraxis\": {\"colorbar\": {\"outlinewidth\": 0, \"ticks\": \"\"}}, \"colorscale\": {\"diverging\": [[0, \"#8e0152\"], [0.1, \"#c51b7d\"], [0.2, \"#de77ae\"], [0.3, \"#f1b6da\"], [0.4, \"#fde0ef\"], [0.5, \"#f7f7f7\"], [0.6, \"#e6f5d0\"], [0.7, \"#b8e186\"], [0.8, \"#7fbc41\"], [0.9, \"#4d9221\"], [1, \"#276419\"]], \"sequential\": [[0.0, \"#0d0887\"], [0.1111111111111111, \"#46039f\"], [0.2222222222222222, \"#7201a8\"], [0.3333333333333333, \"#9c179e\"], [0.4444444444444444, \"#bd3786\"], [0.5555555555555556, \"#d8576b\"], [0.6666666666666666, \"#ed7953\"], [0.7777777777777778, \"#fb9f3a\"], [0.8888888888888888, \"#fdca26\"], [1.0, \"#f0f921\"]], \"sequentialminus\": [[0.0, \"#0d0887\"], [0.1111111111111111, \"#46039f\"], [0.2222222222222222, \"#7201a8\"], [0.3333333333333333, \"#9c179e\"], [0.4444444444444444, \"#bd3786\"], [0.5555555555555556, \"#d8576b\"], [0.6666666666666666, \"#ed7953\"], [0.7777777777777778, \"#fb9f3a\"], [0.8888888888888888, \"#fdca26\"], [1.0, \"#f0f921\"]]}, \"colorway\": [\"#636efa\", \"#EF553B\", \"#00cc96\", \"#ab63fa\", \"#FFA15A\", \"#19d3f3\", \"#FF6692\", \"#B6E880\", \"#FF97FF\", \"#FECB52\"], \"font\": {\"color\": \"#2a3f5f\"}, \"geo\": {\"bgcolor\": \"white\", \"lakecolor\": \"white\", \"landcolor\": \"#E5ECF6\", \"showlakes\": true, \"showland\": true, \"subunitcolor\": \"white\"}, \"hoverlabel\": {\"align\": \"left\"}, \"hovermode\": \"closest\", \"mapbox\": {\"style\": \"light\"}, \"paper_bgcolor\": \"white\", \"plot_bgcolor\": \"#E5ECF6\", \"polar\": {\"angularaxis\": {\"gridcolor\": \"white\", \"linecolor\": \"white\", \"ticks\": \"\"}, \"bgcolor\": \"#E5ECF6\", \"radialaxis\": {\"gridcolor\": \"white\", \"linecolor\": \"white\", \"ticks\": \"\"}}, \"scene\": {\"xaxis\": {\"backgroundcolor\": \"#E5ECF6\", \"gridcolor\": \"white\", \"gridwidth\": 2, \"linecolor\": \"white\", \"showbackground\": true, \"ticks\": \"\", \"zerolinecolor\": \"white\"}, \"yaxis\": {\"backgroundcolor\": \"#E5ECF6\", \"gridcolor\": \"white\", \"gridwidth\": 2, \"linecolor\": \"white\", \"showbackground\": true, \"ticks\": \"\", \"zerolinecolor\": \"white\"}, \"zaxis\": {\"backgroundcolor\": \"#E5ECF6\", \"gridcolor\": \"white\", \"gridwidth\": 2, \"linecolor\": \"white\", \"showbackground\": true, \"ticks\": \"\", \"zerolinecolor\": \"white\"}}, \"shapedefaults\": {\"line\": {\"color\": \"#2a3f5f\"}}, \"ternary\": {\"aaxis\": {\"gridcolor\": \"white\", \"linecolor\": \"white\", \"ticks\": \"\"}, \"baxis\": {\"gridcolor\": \"white\", \"linecolor\": \"white\", \"ticks\": \"\"}, \"bgcolor\": \"#E5ECF6\", \"caxis\": {\"gridcolor\": \"white\", \"linecolor\": \"white\", \"ticks\": \"\"}}, \"title\": {\"x\": 0.05}, \"xaxis\": {\"automargin\": true, \"gridcolor\": \"white\", \"linecolor\": \"white\", \"ticks\": \"\", \"title\": {\"standoff\": 15}, \"zerolinecolor\": \"white\", \"zerolinewidth\": 2}, \"yaxis\": {\"automargin\": true, \"gridcolor\": \"white\", \"linecolor\": \"white\", \"ticks\": \"\", \"title\": {\"standoff\": 15}, \"zerolinecolor\": \"white\", \"zerolinewidth\": 2}}}, \"width\": 1000, \"xaxis\": {\"anchor\": \"y\", \"domain\": [0.0, 0.45]}, \"xaxis2\": {\"anchor\": \"y2\", \"domain\": [0.55, 1.0]}, \"yaxis\": {\"anchor\": \"x\", \"domain\": [0.0, 1.0]}, \"yaxis2\": {\"anchor\": \"x2\", \"domain\": [0.0, 1.0]}},\n",
              "                        {\"responsive\": true}\n",
              "                    ).then(function(){\n",
              "                            \n",
              "var gd = document.getElementById('091eed93-b5b5-484d-89cf-0587f10c84d2');\n",
              "var x = new MutationObserver(function (mutations, observer) {{\n",
              "        var display = window.getComputedStyle(gd).display;\n",
              "        if (!display || display === 'none') {{\n",
              "            console.log([gd, 'removed!']);\n",
              "            Plotly.purge(gd);\n",
              "            observer.disconnect();\n",
              "        }}\n",
              "}});\n",
              "\n",
              "// Listen for the removal of the full notebook cells\n",
              "var notebookContainer = gd.closest('#notebook-container');\n",
              "if (notebookContainer) {{\n",
              "    x.observe(notebookContainer, {childList: true});\n",
              "}}\n",
              "\n",
              "// Listen for the clearing of the current output cell\n",
              "var outputEl = gd.closest('.output');\n",
              "if (outputEl) {{\n",
              "    x.observe(outputEl, {childList: true});\n",
              "}}\n",
              "\n",
              "                        })\n",
              "                };\n",
              "                \n",
              "            </script>\n",
              "        </div>\n",
              "</body>\n",
              "</html>"
            ]
          },
          "metadata": {
            "tags": []
          }
        }
      ]
    },
    {
      "cell_type": "code",
      "metadata": {
        "id": "Eg8CAZCHcgRt"
      },
      "source": [
        "# test set을 사용하여 predict 해보기\n",
        "test_user_meta_label_df = test_x.copy()\n",
        "test_cluster = km.fit_predict(test_x)\n",
        "test_user_meta_label_df['label_km'] = test_cluster"
      ],
      "execution_count": 79,
      "outputs": []
    },
    {
      "cell_type": "code",
      "metadata": {
        "colab": {
          "base_uri": "https://localhost:8080/",
          "height": 617
        },
        "id": "9poV-Sindcbj",
        "outputId": "2581d01f-9351-4459-dd58-c698816c718a"
      },
      "source": [
        "fig  = make_subplots(\n",
        "    rows = 1,\n",
        "    cols = 2, \n",
        "    subplot_titles=('Actual', 'K-means cluster')\n",
        "\n",
        ")\n",
        "\n",
        "# Actual\n",
        "\n",
        "fig.add_trace(\n",
        "    go.Scatter(\n",
        "        x = test_user_meta_label_df['days_from_joined'],\n",
        "        y = test_user_meta_label_df['age'],\n",
        "        mode = 'markers',\n",
        "\n",
        "\n",
        "    ),\n",
        "    row = 1,\n",
        "    col = 1\n",
        ")\n",
        "\n",
        "# Algorithm\n",
        "\n",
        "fig.add_trace(\n",
        "    go.Scatter(\n",
        "        x = test_user_meta_label_df['days_from_joined'],\n",
        "        y = test_user_meta_label_df['age'],\n",
        "        mode = 'markers',\n",
        "        marker = dict(color = test_user_meta_label_df['label_km'])\n",
        "\n",
        "\n",
        "    ),\n",
        "    row = 1,\n",
        "    col = 2\n",
        ")\n",
        "\n",
        "fig.update_layout(width = 1000, height = 600)\n",
        "fig.show()"
      ],
      "execution_count": 80,
      "outputs": [
        {
          "output_type": "display_data",
          "data": {
            "text/html": [
              "<html>\n",
              "<head><meta charset=\"utf-8\" /></head>\n",
              "<body>\n",
              "    <div>\n",
              "            <script src=\"https://cdnjs.cloudflare.com/ajax/libs/mathjax/2.7.5/MathJax.js?config=TeX-AMS-MML_SVG\"></script><script type=\"text/javascript\">if (window.MathJax) {MathJax.Hub.Config({SVG: {font: \"STIX-Web\"}});}</script>\n",
              "                <script type=\"text/javascript\">window.PlotlyConfig = {MathJaxConfig: 'local'};</script>\n",
              "        <script src=\"https://cdn.plot.ly/plotly-latest.min.js\"></script>    \n",
              "            <div id=\"18b95989-0948-4e8c-9ef1-fc80c09ace9b\" class=\"plotly-graph-div\" style=\"height:600px; width:1000px;\"></div>\n",
              "            <script type=\"text/javascript\">\n",
              "                \n",
              "                    window.PLOTLYENV=window.PLOTLYENV || {};\n",
              "                    \n",
              "                if (document.getElementById(\"18b95989-0948-4e8c-9ef1-fc80c09ace9b\")) {\n",
              "                    Plotly.newPlot(\n",
              "                        '18b95989-0948-4e8c-9ef1-fc80c09ace9b',\n",
              "                        [{\"mode\": \"markers\", \"type\": \"scatter\", \"x\": [0.07378854625550661, 0.23182819383259914, 0.3061674008810573, 0.05947136563876653, 0.1629955947136564, 0.34581497797356836, 0.19823788546255508, 0.8750000000000001, 0.14867841409691632, 0.5451541850220265, 0.3298458149779736, 0.5269823788546256, 0.23953744493392073, 0.4019823788546256, 0.38766519823788553, 0.13876651982378854, 0.24669603524229078, 0.14482378854625552, 0.25825991189427316, 0.39977973568281944, 0.3133259911894274, 0.07654185022026432, 0.3623348017621146, 0.061674008810572695, 0.04405286343612336, 0.1299559471365639, 0.22577092511013216, 0.6189427312775331, 0.08535242290748898, 0.7769823788546256, 0.1668502202643172, 0.04680616740088107, 0.48403083700440536, 0.4752202643171807, 0.38546255506607935, 0.9933920704845817, 0.24284140969162998, 0.7742290748898679, 0.3320484581497798, 0.5396475770925111, 0.519273127753304, 0.0, 0.25220264317180624, 0.3309471365638767, 0.21365638766519826, 0.5412995594713658, 0.10077092511013216, 0.6833700440528635, 0.49394273127753313, 0.13876651982378854, 0.6685022026431718, 0.10682819383259913, 0.4190528634361234, 0.11729074889867842, 0.1734581497797357, 0.4542951541850221, 0.7863436123348019, 0.24779735682819384, 0.3292951541850221, 0.4295154185022027, 0.9790748898678415, 0.14537444933920707, 0.12444933920704845, 0.6393171806167401, 0.13601321585903084, 0.5291850220264318, 0.3441629955947137, 0.18337004405286345, 0.28028634361233484, 0.25550660792951546, 0.5831497797356829, 0.36729074889867847, 0.26046255506607935, 0.6002202643171807, 0.25605726872246704, 0.3276431718061675, 0.34581497797356836, 0.6530837004405288, 0.37169603524229083, 0.2180616740088106, 0.25000000000000006, 0.36178414096916306, 0.006607929515418503, 0.00275330396475771, 0.4559471365638767, 0.5699339207048459, 0.34746696035242297, 0.4124449339207049, 0.07599118942731278, 0.4223568281938327, 0.1866740088105727, 0.5892070484581499, 0.6822687224669605, 0.1723568281938326, 0.7202643171806168, 0.17786343612334804, 0.4741189427312776, 0.7940528634361235, 0.26101321585903087, 0.5776431718061675, 0.12940528634361234, 0.644273127753304, 0.3887665198237886, 0.11068281938325991, 0.4542951541850221, 0.6982378854625552, 0.26817180616740094, 0.1316079295154185, 0.17566079295154186, 0.49284140969163004, 0.3348017621145375, 0.41189427312775334, 0.2533039647577093, 0.5374449339207049, 0.26541850220264324, 0.2197136563876652, 0.45649779735682827, 0.3452643171806168, 0.5704845814977975, 0.06497797356828194, 0.12665198237885464, 0.14207048458149782, 0.08535242290748898, 0.5055066079295155, 0.5176211453744494, 0.4245594713656388, 0.08755506607929515, 0.1222466960352423, 0.27257709251101325, 0.00275330396475771, 0.21365638766519826, 0.5567180616740088, 0.37169603524229083, 0.5792951541850221, 0.7890969162995596, 0.4284140969162996, 0.2246696035242291, 0.5236784140969164, 0.3226872246696036, 0.4295154185022027, 0.35132158590308377, 0.5952643171806168, 0.5561674008810573, 0.06662995594713657, 0.2929515418502203, 0.9669603524229076, 0.19273127753303967, 0.9416299559471367, 0.7081497797356829, 0.03524229074889868, 0.4410792951541851, 0.21751101321585906, 0.49834801762114544, 0.5787444933920706, 0.10242290748898679, 0.5941629955947137, 0.008259911894273128, 0.0, 0.4284140969162996, 0.1723568281938326, 0.27588105726872253, 0.6062775330396477, 0.0236784140969163, 0.7422907488986785, 0.4047356828193833, 0.07268722466960352, 0.1145374449339207, 0.37389867841409696, 0.1773127753303965, 0.0016519823788546258, 0.16740088105726875, 0.22301762114537446, 0.39151982378854633, 0.4542951541850221, 0.15748898678414097, 0.12004405286343613, 0.5748898678414097, 0.6183920704845816, 0.5831497797356829, 0.5110132158590309, 0.1525330396475771, 0.0512114537444934, 0.2968061674008811, 0.5881057268722468, 0.3348017621145375, 0.03524229074889868, 0.7527533039647578, 0.7208149779735684, 0.35792951541850226, 0.1905286343612335, 0.18612334801762115, 0.20209251101321588, 0.341409691629956, 0.031387665198237893, 0.02918502202643172, 0.4322687224669604, 0.06332599118942732, 0.009911894273127754, 0.407488986784141, 0.9840308370044054, 0.6536343612334803, 0.19878854625550663, 0.7720264317180617, 0.17951541850220265, 0.2835903083700441, 0.6172907488986785, 0.15473568281938327, 0.25165198237885467, 0.20374449339207049, 0.4482378854625551, 0.40528634361233484, 0.24008810572687225, 0.0060572687224669615, 0.05947136563876653, 0.5644273127753304, 0.4454845814977974, 0.05451541850220265, 0.06938325991189427, 0.4350220264317181, 0.09251101321585904, 0.7230176211453745, 0.05176211453744494, 0.20264317180616742, 0.6519823788546256, 0.38436123348017626, 0.3425110132158591, 0.512114537444934, 0.7472466960352424, 0.10297356828193834, 0.6701541850220265, 0.5077092511013217, 0.03303964757709252, 0.2180616740088106, 0.16079295154185022, 0.6338105726872247, 0.1299559471365639, 0.38105726872246704, 0.04129955947136565, 0.39041850220264324, 0.558920704845815, 0.37059471365638774, 0.4306167400881058, 0.8832599118942732, 0.9438325991189428, 0.4096916299559472, 0.3397577092511014, 0.4190528634361234, 0.06938325991189427, 0.4570484581497798, 0.23733480176211455, 0.4675110132158591, 0.27257709251101325, 0.5038546255506609, 0.9735682819383261, 0.37169603524229083, 0.3386563876651983, 0.5611233480176212, 0.6712555066079297, 0.2246696035242291, 0.5704845814977975, 0.6404185022026433, 0.042400881057268726, 0.40638766519823794, 0.5082599118942732, 0.27533039647577096, 0.24504405286343614, 0.197136563876652, 0.15803964757709252, 0.39317180616740094, 0.16354625550660795, 0.019273127753303965, 0.6894273127753305, 0.25000000000000006, 0.26101321585903087, 0.7940528634361235, 0.7081497797356829, 0.7654185022026433, 0.26376651982378857, 0.5985682819383261, 0.3006607929515419, 0.3226872246696036, 0.056167400881057275, 0.03964757709251102, 0.61068281938326, 0.49834801762114544, 0.36674008810572695, 0.41574889867841414, 0.05231277533039649, 0.39151982378854633, 0.3188325991189428, 0.650330396475771, 0.15859030837004406, 0.2472466960352423, 0.37665198237885467, 0.4372246696035243, 0.6718061674008812, 0.8116740088105728, 0.413546255506608, 0.4587004405286344, 0.6613436123348019, 0.34856828193832606, 0.4251101321585904, 0.6905286343612336, 0.9223568281938327, 0.33810572687224677, 0.022026431718061675, 0.23733480176211455, 0.6668502202643173, 0.36288546255506615, 0.8265418502202644, 0.3287444933920705, 0.2731277533039648, 0.6415198237885463, 0.7153083700440529, 0.1894273127753304, 0.459251101321586, 0.170704845814978, 0.0005506607929515419, 0.8727973568281939, 0.26156387665198244, 0.37940528634361237, 0.2863436123348018, 0.08645374449339208, 0.4372246696035243, 0.25770925110132165, 0.446035242290749, 0.09251101321585904, 0.6183920704845816, 0.009361233480176211, 0.6420704845814978, 0.5495594713656389, 0.7582599118942732, 0.9564977973568283, 0.25825991189427316, 0.9410792951541851, 0.7841409691629957, 0.637114537444934, 0.9911894273127755, 0.0644273127753304, 0.26376651982378857, 0.2197136563876652, 0.631057268722467, 0.09416299559471367, 0.5633259911894274, 0.01762114537444934, 0.5104625550660794, 0.7208149779735684, 0.125, 0.012114537444933921, 0.14702643171806168, 0.001101321585903084, 0.6778634361233481, 0.30671806167400884, 0.3177312775330397, 0.36288546255506615, 0.6993392070484582, 0.643171806167401, 0.9482378854625552, 0.49504405286343617, 0.14702643171806168, 0.0016519823788546258, 0.5280837004405287, 0.12389867841409692, 0.7544052863436125, 0.03524229074889868, 0.48843612334801767, 0.7064977973568283, 0.5055066079295155, 0.12334801762114538, 0.681718061674009, 0.210352422907489, 1.0000000000000002, 0.36949339207048465, 0.2483480176211454, 0.3612334801762115, 0.6354625550660794, 0.26486784140969166, 0.07488986784140969, 0.5903083700440529, 0.6475770925110133, 0.03524229074889868, 0.26211453744493396, 0.21090308370044056, 0.28414096916299564, 0.24669603524229078, 0.49724669603524235, 0.40143171806167405, 0.04900881057268723, 0.07323788546255507, 0.12389867841409692, 0.4058370044052864, 0.19603524229074892, 0.288546255506608, 0.3403083700440529, 0.28028634361233484, 0.4300660792951542, 0.48568281938325997, 0.39592511013215864, 0.4212555066079296, 0.585352422907489, 0.9030837004405288, 0.8953744493392072, 0.6701541850220265, 0.6773127753303966, 0.8171806167400882, 0.2455947136563877, 0.24889867841409694, 0.41685022026431723, 0.7835903083700442, 0.026982378854625552, 0.19218061674008813, 0.27422907488986786, 0.20099118942731278, 0.14702643171806168, 0.2483480176211454, 0.3188325991189428, 0.26321585903083705, 0.670704845814978, 0.2444933920704846, 0.21310572687224671, 0.19438325991189428, 0.9350220264317182, 0.21585903083700442, 0.7378854625550662, 0.6905286343612336, 0.4162995594713657, 0.26376651982378857, 0.5726872246696036, 0.24944933920704845, 0.1866740088105727, 0.3408590308370045, 0.3199339207048459, 0.0710352422907489, 0.4443832599118943, 0.04570484581497798, 0.308920704845815, 0.1773127753303965, 0.8700440528634362, 0.48623348017621154, 0.47246696035242297, 0.518171806167401, 0.14757709251101322, 0.9118942731277534, 0.23733480176211455, 0.30396475770925113, 0.15859030837004406, 0.2180616740088106, 0.4405286343612335, 0.6541850220264318, 0.18447136563876654, 0.433920704845815, 0.33810572687224677, 0.8529735682819384, 0.5682819383259913, 0.183920704845815, 0.09911894273127754, 0.14647577092511013, 0.13656387665198239, 0.5088105726872247, 0.08480176211453745, 0.5154185022026433, 0.7929515418502203, 0.11123348017621146, 0.6740088105726874, 0.09251101321585904, 0.04129955947136565, 0.41574889867841414, 0.2984581497797357, 0.6651982378854626, 0.906387665198238, 0.08094713656387666, 0.8254405286343613, 0.4273127753303965, 0.6541850220264318, 0.907488986784141, 0.14207048458149782, 0.9774229074889869, 0.0, 0.39702643171806173, 0.5280837004405287, 0.11894273127753305, 0.29735682819383263, 0.23623348017621146, 0.525330396475771, 0.4410792951541851, 0.018171806167400884, 0.9003303964757711, 0.08645374449339208, 0.7912995594713658, 0.8226872246696036, 0.3045154185022027, 0.20925110132158592, 0.28414096916299564, 0.17125550660792951, 0.7483480176211454, 0.29460352422907493, 0.5126651982378856, 0.6806167400881058, 0.1723568281938326, 0.0578193832599119, 0.25440528634361237, 0.47742290748898686, 0.3425110132158591, 0.35792951541850226, 0.8529735682819384, 0.8353524229074891, 0.6514317180616741, 0.5539647577092511, 0.007709251101321586, 0.10187224669603524, 0.7235682819383261, 0.709251101321586, 0.38546255506607935, 0.4476872246696036, 0.12665198237885464, 0.5390969162995596, 0.5638766519823789, 0.4218061674008811, 0.644273127753304, 0.47742290748898686, 0.4977973568281939, 0.7345814977973569, 0.04900881057268723, 0.012114537444933921, 0.2483480176211454, 0.2290748898678414, 0.47632158590308377, 0.39592511013215864, 0.23953744493392073, 0.48623348017621154, 0.4096916299559472, 0.4702643171806168, 0.4058370044052864, 0.2505506607929516, 0.6784140969162996, 0.3122246696035243, 0.3237885462555067, 0.4256607929515419, 0.2378854625550661, 0.8722466960352424, 0.828193832599119, 0.3650881057268723, 0.459251101321586, 0.3270925110132159, 0.38105726872246704, 0.3408590308370045, 0.8425110132158591, 0.2340308370044053, 0.13876651982378854, 0.2197136563876652, 0.8761013215859031, 0.21255506607929517, 0.061674008810572695, 0.29185022026431723, 0.6387665198237886, 0.4085903083700441, 0.12389867841409692, 0.24504405286343614, 0.0033039647577092516, 0.23348017621145375, 0.8155286343612336, 0.16905286343612336, 0.7301762114537446, 0.19383259911894274, 0.5418502202643173, 0.6090308370044054, 0.7219162995594715, 0.41574889867841414, 0.125, 0.45374449339207057, 0.8199339207048459, 0.4587004405286344, 0.18612334801762115, 0.7632158590308371, 0.8023127753303966, 0.3441629955947137, 0.4113436123348018, 0.4432819383259913, 0.5401982378854626, 0.008259911894273128, 0.12169603524229075, 0.4041850220264318, 0.2263215859030837, 0.10407488986784141, 0.010462555066079295, 0.9966960352422909, 0.17841409691629956, 0.3144273127753304, 0.5952643171806168, 0.7230176211453745, 0.45759911894273136, 0.5715859030837005, 0.0881057268722467, 0.1828193832599119, 0.0, 0.2703744493392071, 0.5424008810572688, 0.41574889867841414, 0.14041850220264318, 0.3111233480176212, 0.10022026431718062, 0.19273127753303967, 0.5082599118942732, 0.0578193832599119, 0.11068281938325991, 0.024779735682819385, 0.6266519823788547, 0.009361233480176211, 0.0644273127753304, 0.5969162995594715, 0.35627753303964765, 0.5512114537444934, 0.578193832599119, 0.12389867841409692, 0.26431718061674014, 0.4520925110132159, 0.35517621145374456, 0.6029735682819384, 0.06662995594713657, 0.9102422907488988, 0.47577092511013225, 0.2929515418502203, 0.20264317180616742, 0.6233480176211454, 0.13325991189427314, 0.9482378854625552, 0.26486784140969166, 0.27422907488986786, 0.6657488986784141, 0.420704845814978, 0.4300660792951542, 0.0881057268722467, 0.021475770925110133, 0.22687224669603526, 0.558920704845815, 0.8160792951541851, 0.400330396475771, 0.23623348017621146, 0.015418502202643174, 0.011563876651982379, 0.16629955947136565, 0.21365638766519826, 0.2389867841409692, 0.35352422907488995, 0.1745594713656388, 0.06497797356828194, 0.13381057268722468, 0.08535242290748898, 0.25605726872246704, 0.3061674008810573, 0.3193832599118943, 0.28689427312775334, 0.05176211453744494, 0.20044052863436124, 0.12334801762114538, 0.5093612334801763, 0.14317180616740088, 0.1745594713656388, 0.5633259911894274, 0.02643171806167401, 0.05726872246696036, 0.4686123348017622, 0.26156387665198244, 0.20044052863436124, 0.04955947136563878, 0.38821585903083705, 0.47742290748898686, 0.5908590308370045, 0.007158590308370045, 0.20925110132158592, 0.4218061674008811, 0.03964757709251102, 0.1261013215859031, 0.6536343612334803, 0.19548458149779738, 0.7329295154185023, 0.18887665198237888, 0.7505506607929516, 0.13656387665198239, 0.7555066079295155, 0.7252202643171807, 0.3144273127753304, 0.37279735682819387], \"xaxis\": \"x\", \"y\": [0.17948717948717952, 0.28205128205128205, 0.17948717948717952, 0.20512820512820518, 0.20512820512820518, 0.717948717948718, 0.3076923076923077, 0.3846153846153846, 0.20512820512820518, 0.6666666666666666, 0.3076923076923077, 0.6923076923076922, 0.3076923076923077, 0.6153846153846153, 0.33333333333333337, 0.9999999999999999, 0.28205128205128205, 0.20512820512820518, 0.23076923076923073, 0.4358974358974359, 0.717948717948718, 0.23076923076923073, 0.3589743589743589, 0.1282051282051282, 0.2564102564102564, 0.2564102564102564, 0.20512820512820518, 0.5128205128205128, 0.2564102564102564, 0.20512820512820518, 0.2564102564102564, 0.41025641025641024, 0.6666666666666666, 0.3076923076923077, 0.3076923076923077, 0.28205128205128205, 0.7948717948717948, 0.15384615384615385, 0.4358974358974359, 0.5128205128205128, 0.4358974358974359, 0.7692307692307693, 0.3076923076923077, 0.7948717948717948, 0.6153846153846153, 0.23076923076923073, 0.2564102564102564, 0.4871794871794871, 0.6923076923076922, 0.28205128205128205, 0.46153846153846156, 0.3076923076923077, 0.15384615384615385, 0.20512820512820518, 0.20512820512820518, 0.5128205128205128, 0.33333333333333337, 0.23076923076923073, 0.7435897435897435, 0.3076923076923077, 0.8205128205128206, 0.33333333333333337, 0.41025641025641024, 0.33333333333333337, 0.8461538461538461, 0.33333333333333337, 0.2564102564102564, 0.5897435897435898, 0.46153846153846156, 0.0, 0.717948717948718, 0.2564102564102564, 0.33333333333333337, 0.46153846153846156, 0.4358974358974359, 0.23076923076923073, 0.41025641025641024, 0.5384615384615384, 0.23076923076923073, 0.20512820512820518, 0.15384615384615385, 0.1282051282051282, 0.5897435897435898, 0.2564102564102564, 0.6153846153846153, 0.7435897435897435, 0.3076923076923077, 0.28205128205128205, 0.28205128205128205, 0.923076923076923, 0.07692307692307693, 0.5128205128205128, 0.4358974358974359, 0.7435897435897435, 0.46153846153846156, 0.28205128205128205, 0.4871794871794871, 0.7435897435897435, 0.6153846153846153, 0.4358974358974359, 0.20512820512820518, 0.41025641025641024, 0.3589743589743589, 0.2564102564102564, 0.3846153846153846, 0.4358974358974359, 0.7435897435897435, 0.8461538461538461, 0.3589743589743589, 0.3076923076923077, 0.17948717948717952, 0.8205128205128206, 0.3076923076923077, 0.3846153846153846, 0.41025641025641024, 0.2564102564102564, 0.28205128205128205, 0.23076923076923073, 0.28205128205128205, 0.3076923076923077, 0.8974358974358975, 0.6666666666666666, 0.20512820512820518, 0.23076923076923073, 0.28205128205128205, 0.23076923076923073, 0.33333333333333337, 0.46153846153846156, 0.33333333333333337, 0.6410256410256411, 0.2564102564102564, 0.3076923076923077, 0.17948717948717952, 0.2564102564102564, 0.4358974358974359, 0.3076923076923077, 0.3076923076923077, 0.41025641025641024, 0.5384615384615384, 0.3076923076923077, 0.3589743589743589, 0.7692307692307693, 0.3076923076923077, 0.2564102564102564, 0.7435897435897435, 0.6153846153846153, 0.8717948717948717, 0.41025641025641024, 0.6666666666666666, 0.3846153846153846, 0.5384615384615384, 0.3846153846153846, 0.1282051282051282, 0.41025641025641024, 0.23076923076923073, 0.17948717948717952, 0.3589743589743589, 0.2564102564102564, 0.3589743589743589, 0.46153846153846156, 0.17948717948717952, 0.3846153846153846, 0.10256410256410253, 0.46153846153846156, 0.33333333333333337, 0.1282051282051282, 0.4358974358974359, 0.4871794871794871, 0.10256410256410253, 0.2564102564102564, 0.15384615384615385, 0.3846153846153846, 0.20512820512820518, 0.3846153846153846, 0.6923076923076922, 0.3076923076923077, 0.3846153846153846, 0.23076923076923073, 0.3076923076923077, 0.41025641025641024, 0.20512820512820518, 0.20512820512820518, 0.6923076923076922, 0.28205128205128205, 0.5641025641025641, 0.17948717948717952, 0.23076923076923073, 0.4871794871794871, 0.4358974358974359, 0.33333333333333337, 0.23076923076923073, 0.23076923076923073, 0.23076923076923073, 0.2564102564102564, 0.8461538461538461, 0.3589743589743589, 0.33333333333333337, 0.6923076923076922, 0.2564102564102564, 0.3589743589743589, 0.3589743589743589, 0.2564102564102564, 0.23076923076923073, 0.5384615384615384, 0.5641025641025641, 0.46153846153846156, 0.6923076923076922, 0.5641025641025641, 0.8717948717948717, 0.33333333333333337, 0.5128205128205128, 0.3589743589743589, 0.3076923076923077, 0.17948717948717952, 0.4358974358974359, 0.41025641025641024, 0.33333333333333337, 0.5384615384615384, 0.23076923076923073, 0.17948717948717952, 0.717948717948718, 0.3076923076923077, 0.6666666666666666, 0.3589743589743589, 0.28205128205128205, 0.8205128205128206, 0.6666666666666666, 0.4358974358974359, 0.20512820512820518, 0.41025641025641024, 0.46153846153846156, 0.41025641025641024, 0.3076923076923077, 0.17948717948717952, 0.20512820512820518, 0.15384615384615385, 0.28205128205128205, 0.6153846153846153, 0.5384615384615384, 0.3589743589743589, 0.33333333333333337, 0.15384615384615385, 0.33333333333333337, 0.41025641025641024, 0.17948717948717952, 0.6666666666666666, 0.3076923076923077, 0.2564102564102564, 0.3076923076923077, 0.3076923076923077, 0.3076923076923077, 0.23076923076923073, 0.28205128205128205, 0.41025641025641024, 0.17948717948717952, 0.7692307692307693, 0.33333333333333337, 0.28205128205128205, 0.20512820512820518, 0.6923076923076922, 0.28205128205128205, 0.23076923076923073, 0.6153846153846153, 0.41025641025641024, 0.15384615384615385, 0.3076923076923077, 0.7435897435897435, 0.7435897435897435, 0.46153846153846156, 0.2564102564102564, 0.33333333333333337, 0.3589743589743589, 0.2564102564102564, 0.7948717948717948, 0.4358974358974359, 0.33333333333333337, 0.20512820512820518, 0.3589743589743589, 0.28205128205128205, 0.3076923076923077, 0.15384615384615385, 0.3076923076923077, 0.3589743589743589, 0.41025641025641024, 0.4358974358974359, 0.6153846153846153, 0.20512820512820518, 0.28205128205128205, 0.2564102564102564, 0.20512820512820518, 0.3076923076923077, 0.2564102564102564, 0.3589743589743589, 0.28205128205128205, 0.4358974358974359, 0.3846153846153846, 0.33333333333333337, 0.28205128205128205, 0.46153846153846156, 0.46153846153846156, 0.41025641025641024, 0.3846153846153846, 0.28205128205128205, 0.3846153846153846, 0.6666666666666666, 0.20512820512820518, 0.17948717948717952, 0.3589743589743589, 0.717948717948718, 0.15384615384615385, 0.28205128205128205, 0.28205128205128205, 0.2564102564102564, 0.3589743589743589, 0.5128205128205128, 0.5128205128205128, 0.23076923076923073, 0.23076923076923073, 0.28205128205128205, 0.17948717948717952, 0.28205128205128205, 0.7692307692307693, 0.717948717948718, 0.6666666666666666, 0.3076923076923077, 0.7692307692307693, 0.20512820512820518, 0.4871794871794871, 0.28205128205128205, 0.2564102564102564, 0.28205128205128205, 0.3076923076923077, 0.3076923076923077, 0.5897435897435898, 0.3076923076923077, 0.4358974358974359, 0.33333333333333337, 0.41025641025641024, 0.28205128205128205, 0.28205128205128205, 0.20512820512820518, 0.3589743589743589, 0.28205128205128205, 0.6923076923076922, 0.28205128205128205, 0.28205128205128205, 0.6666666666666666, 0.3589743589743589, 0.6153846153846153, 0.17948717948717952, 0.20512820512820518, 0.28205128205128205, 0.4871794871794871, 0.5641025641025641, 0.17948717948717952, 0.46153846153846156, 0.33333333333333337, 0.7692307692307693, 0.20512820512820518, 0.28205128205128205, 0.28205128205128205, 0.23076923076923073, 0.17948717948717952, 0.717948717948718, 0.2564102564102564, 0.6923076923076922, 0.46153846153846156, 0.6923076923076922, 0.23076923076923073, 0.41025641025641024, 0.17948717948717952, 0.3589743589743589, 0.2564102564102564, 0.17948717948717952, 0.23076923076923073, 0.33333333333333337, 0.3589743589743589, 0.20512820512820518, 0.17948717948717952, 0.33333333333333337, 0.23076923076923073, 0.4358974358974359, 0.6666666666666666, 0.20512820512820518, 0.2564102564102564, 0.17948717948717952, 0.23076923076923073, 0.23076923076923073, 0.1282051282051282, 0.28205128205128205, 0.8205128205128206, 0.15384615384615385, 0.28205128205128205, 0.2564102564102564, 0.20512820512820518, 0.3076923076923077, 0.4358974358974359, 0.7435897435897435, 0.8717948717948717, 0.20512820512820518, 0.6153846153846153, 0.3589743589743589, 0.3589743589743589, 0.46153846153846156, 0.5641025641025641, 0.4358974358974359, 0.8461538461538461, 0.3846153846153846, 0.41025641025641024, 0.1282051282051282, 0.717948717948718, 0.15384615384615385, 0.3076923076923077, 0.7948717948717948, 0.6153846153846153, 0.6666666666666666, 0.5897435897435898, 0.717948717948718, 0.28205128205128205, 0.7435897435897435, 0.4358974358974359, 0.7435897435897435, 0.28205128205128205, 0.7692307692307693, 0.5128205128205128, 0.28205128205128205, 0.28205128205128205, 0.5384615384615384, 0.7435897435897435, 0.23076923076923073, 0.23076923076923073, 0.28205128205128205, 0.7948717948717948, 0.4358974358974359, 0.717948717948718, 0.5384615384615384, 0.051282051282051266, 0.33333333333333337, 0.5641025641025641, 0.4871794871794871, 0.3846153846153846, 0.6923076923076922, 0.3589743589743589, 0.4358974358974359, 0.7692307692307693, 0.5384615384615384, 0.2564102564102564, 0.5641025641025641, 0.20512820512820518, 0.2564102564102564, 0.5897435897435898, 0.2564102564102564, 0.3846153846153846, 0.41025641025641024, 0.17948717948717952, 0.20512820512820518, 0.3076923076923077, 0.7948717948717948, 0.41025641025641024, 0.717948717948718, 0.23076923076923073, 0.2564102564102564, 0.23076923076923073, 0.7435897435897435, 0.3589743589743589, 0.20512820512820518, 0.3846153846153846, 0.2564102564102564, 0.6410256410256411, 0.8461538461538461, 0.2564102564102564, 0.41025641025641024, 0.20512820512820518, 0.5641025641025641, 0.7692307692307693, 0.5641025641025641, 0.46153846153846156, 0.5897435897435898, 0.717948717948718, 0.7435897435897435, 0.717948717948718, 0.5641025641025641, 0.5897435897435898, 0.3076923076923077, 0.33333333333333337, 0.2564102564102564, 0.3846153846153846, 0.5128205128205128, 0.6153846153846153, 0.46153846153846156, 0.3076923076923077, 0.17948717948717952, 0.8974358974358975, 0.41025641025641024, 0.3589743589743589, 0.2564102564102564, 0.4358974358974359, 0.3846153846153846, 0.46153846153846156, 0.28205128205128205, 0.23076923076923073, 0.6410256410256411, 0.2564102564102564, 0.717948717948718, 0.3589743589743589, 0.3846153846153846, 0.41025641025641024, 0.7435897435897435, 0.46153846153846156, 0.23076923076923073, 0.3589743589743589, 0.33333333333333337, 0.8717948717948717, 0.23076923076923073, 0.10256410256410253, 0.3589743589743589, 0.2564102564102564, 0.41025641025641024, 0.28205128205128205, 0.5897435897435898, 0.46153846153846156, 0.3846153846153846, 0.20512820512820518, 0.28205128205128205, 0.7692307692307693, 0.7692307692307693, 0.23076923076923073, 0.2564102564102564, 0.17948717948717952, 0.6666666666666666, 0.28205128205128205, 0.8717948717948717, 0.6923076923076922, 0.2564102564102564, 0.15384615384615385, 0.6666666666666666, 0.4358974358974359, 0.2564102564102564, 0.23076923076923073, 0.41025641025641024, 0.3589743589743589, 0.5641025641025641, 0.6153846153846153, 0.33333333333333337, 0.6410256410256411, 0.5384615384615384, 0.7692307692307693, 0.7435897435897435, 0.15384615384615385, 0.23076923076923073, 0.6153846153846153, 0.3076923076923077, 0.28205128205128205, 0.23076923076923073, 0.46153846153846156, 0.46153846153846156, 0.15384615384615385, 0.4358974358974359, 0.28205128205128205, 0.5128205128205128, 0.717948717948718, 0.33333333333333337, 0.4358974358974359, 0.2564102564102564, 0.3076923076923077, 0.46153846153846156, 0.3076923076923077, 0.20512820512820518, 0.3076923076923077, 0.15384615384615385, 0.46153846153846156, 0.6923076923076922, 0.41025641025641024, 0.41025641025641024, 0.23076923076923073, 0.3076923076923077, 0.6923076923076922, 0.46153846153846156, 0.5897435897435898, 0.6410256410256411, 0.23076923076923073, 0.17948717948717952, 0.20512820512820518, 0.3076923076923077, 0.4358974358974359, 0.9487179487179488, 0.20512820512820518, 0.23076923076923073, 0.7948717948717948, 0.3589743589743589, 0.6923076923076922, 0.3589743589743589, 0.6923076923076922, 0.7435897435897435, 0.2564102564102564, 0.28205128205128205, 0.5641025641025641, 0.3589743589743589, 0.2564102564102564, 0.28205128205128205, 0.5128205128205128, 0.3846153846153846, 0.20512820512820518, 0.5128205128205128, 0.20512820512820518, 0.2564102564102564, 0.3846153846153846, 0.17948717948717952, 0.9743589743589743, 0.41025641025641024, 0.23076923076923073, 0.28205128205128205, 0.5897435897435898, 0.3076923076923077, 0.15384615384615385, 0.3589743589743589, 0.3076923076923077, 0.3589743589743589, 0.2564102564102564, 0.5897435897435898, 0.6410256410256411, 0.3076923076923077, 0.23076923076923073, 0.3589743589743589, 0.17948717948717952, 0.4871794871794871, 0.41025641025641024, 0.5641025641025641, 0.23076923076923073, 0.6410256410256411, 0.46153846153846156, 0.2564102564102564, 0.15384615384615385, 0.6923076923076922, 0.28205128205128205, 0.3589743589743589, 0.3846153846153846, 0.2564102564102564, 0.41025641025641024, 0.2564102564102564, 0.33333333333333337, 0.717948717948718, 0.23076923076923073, 0.33333333333333337, 0.2564102564102564, 0.23076923076923073, 0.41025641025641024, 0.3589743589743589, 0.7692307692307693, 0.1282051282051282, 0.46153846153846156, 0.7948717948717948, 0.33333333333333337, 0.2564102564102564, 0.28205128205128205, 0.7948717948717948, 0.17948717948717952, 0.10256410256410253, 0.2564102564102564, 0.33333333333333337, 0.28205128205128205, 0.23076923076923073, 0.6923076923076922, 0.3076923076923077, 0.3846153846153846, 0.3076923076923077, 0.17948717948717952, 0.3846153846153846, 0.28205128205128205, 0.2564102564102564, 0.3846153846153846, 0.4871794871794871, 0.23076923076923073, 0.7692307692307693, 0.28205128205128205, 0.41025641025641024, 0.6923076923076922, 0.3846153846153846, 0.23076923076923073, 0.7692307692307693, 0.23076923076923073, 0.717948717948718, 0.2564102564102564], \"yaxis\": \"y\"}, {\"marker\": {\"color\": [2, 2, 2, 2, 2, 0, 2, 1, 2, 0, 2, 0, 2, 0, 2, 0, 2, 2, 2, 2, 0, 2, 2, 2, 2, 2, 2, 1, 2, 1, 2, 2, 0, 1, 2, 1, 0, 1, 2, 1, 1, 0, 2, 0, 0, 1, 2, 1, 0, 2, 1, 2, 2, 2, 2, 0, 1, 2, 0, 2, 1, 2, 2, 1, 0, 1, 2, 0, 2, 2, 0, 2, 2, 1, 2, 2, 2, 1, 2, 2, 2, 2, 0, 2, 0, 0, 2, 2, 2, 0, 2, 1, 1, 0, 1, 2, 1, 1, 0, 1, 2, 1, 2, 2, 1, 1, 0, 0, 2, 1, 2, 0, 2, 1, 2, 2, 2, 2, 1, 2, 0, 0, 2, 1, 1, 2, 2, 2, 2, 0, 2, 1, 2, 1, 1, 2, 2, 1, 0, 2, 2, 0, 1, 2, 0, 1, 0, 1, 1, 2, 0, 2, 2, 1, 2, 1, 2, 2, 2, 2, 2, 1, 2, 1, 2, 2, 2, 0, 2, 2, 2, 2, 2, 1, 0, 2, 1, 1, 1, 1, 2, 2, 0, 1, 0, 2, 1, 1, 2, 2, 2, 2, 2, 2, 0, 1, 2, 0, 2, 1, 1, 2, 1, 0, 0, 1, 0, 0, 0, 2, 0, 2, 2, 2, 1, 1, 2, 2, 2, 2, 1, 2, 0, 1, 2, 0, 0, 1, 2, 1, 1, 2, 2, 2, 1, 2, 2, 0, 0, 1, 2, 2, 1, 1, 2, 0, 2, 2, 1, 2, 1, 2, 1, 1, 2, 0, 1, 1, 2, 0, 1, 2, 0, 1, 2, 2, 0, 0, 2, 2, 2, 1, 2, 0, 1, 1, 1, 2, 1, 2, 2, 2, 2, 1, 1, 0, 2, 2, 2, 2, 1, 2, 2, 2, 1, 1, 1, 2, 0, 1, 2, 1, 1, 1, 0, 2, 2, 1, 0, 1, 2, 2, 1, 1, 0, 1, 2, 2, 1, 2, 2, 0, 0, 0, 2, 0, 2, 1, 2, 1, 1, 1, 1, 0, 1, 1, 1, 1, 2, 2, 2, 1, 2, 0, 2, 1, 1, 2, 0, 2, 2, 1, 0, 0, 2, 1, 1, 1, 1, 2, 2, 1, 2, 1, 2, 0, 1, 0, 2, 1, 2, 1, 2, 2, 2, 1, 2, 2, 1, 1, 2, 2, 0, 2, 2, 1, 2, 2, 2, 2, 0, 2, 2, 2, 2, 2, 1, 0, 0, 1, 1, 1, 1, 1, 1, 2, 0, 2, 1, 2, 0, 2, 2, 0, 0, 0, 0, 0, 2, 0, 2, 1, 2, 1, 1, 2, 2, 1, 0, 2, 2, 2, 0, 1, 0, 0, 2, 1, 0, 0, 1, 0, 1, 2, 0, 0, 2, 0, 1, 2, 0, 2, 1, 1, 2, 2, 2, 0, 1, 0, 1, 1, 2, 1, 2, 2, 2, 2, 1, 1, 2, 1, 2, 1, 1, 0, 1, 0, 0, 0, 0, 0, 0, 1, 1, 2, 1, 2, 1, 1, 2, 2, 0, 2, 1, 2, 1, 1, 2, 2, 2, 0, 2, 0, 1, 1, 1, 0, 2, 2, 1, 1, 0, 2, 2, 1, 1, 2, 1, 0, 1, 1, 2, 2, 0, 0, 1, 2, 2, 0, 2, 0, 0, 2, 1, 0, 2, 2, 2, 1, 1, 0, 0, 2, 0, 2, 1, 0, 2, 2, 1, 2, 2, 2, 1, 2, 2, 2, 2, 0, 1, 2, 1, 2, 1, 1, 1, 2, 2, 2, 1, 0, 2, 1, 1, 2, 0, 0, 0, 0, 2, 2, 2, 2, 2, 1, 2, 2, 0, 1, 0, 1, 0, 0, 2, 2, 0, 2, 2, 2, 2, 2, 1, 2, 2, 2, 1, 2, 0, 1, 2, 1, 0, 2, 2, 1, 2, 1, 2, 1, 0, 2, 2, 1, 2, 1, 2, 0, 1, 0, 1, 2, 2, 0, 1, 1, 2, 2, 2, 2, 2, 0, 2, 2, 2, 2, 2, 2, 0, 2, 2, 0, 2, 2, 2, 0, 2, 2, 1, 2, 2, 2, 0, 2, 2, 2, 2, 1, 2, 2, 1, 2, 2, 0, 2, 1, 0, 1, 2, 1, 1, 0, 2]}, \"mode\": \"markers\", \"type\": \"scatter\", \"x\": [0.07378854625550661, 0.23182819383259914, 0.3061674008810573, 0.05947136563876653, 0.1629955947136564, 0.34581497797356836, 0.19823788546255508, 0.8750000000000001, 0.14867841409691632, 0.5451541850220265, 0.3298458149779736, 0.5269823788546256, 0.23953744493392073, 0.4019823788546256, 0.38766519823788553, 0.13876651982378854, 0.24669603524229078, 0.14482378854625552, 0.25825991189427316, 0.39977973568281944, 0.3133259911894274, 0.07654185022026432, 0.3623348017621146, 0.061674008810572695, 0.04405286343612336, 0.1299559471365639, 0.22577092511013216, 0.6189427312775331, 0.08535242290748898, 0.7769823788546256, 0.1668502202643172, 0.04680616740088107, 0.48403083700440536, 0.4752202643171807, 0.38546255506607935, 0.9933920704845817, 0.24284140969162998, 0.7742290748898679, 0.3320484581497798, 0.5396475770925111, 0.519273127753304, 0.0, 0.25220264317180624, 0.3309471365638767, 0.21365638766519826, 0.5412995594713658, 0.10077092511013216, 0.6833700440528635, 0.49394273127753313, 0.13876651982378854, 0.6685022026431718, 0.10682819383259913, 0.4190528634361234, 0.11729074889867842, 0.1734581497797357, 0.4542951541850221, 0.7863436123348019, 0.24779735682819384, 0.3292951541850221, 0.4295154185022027, 0.9790748898678415, 0.14537444933920707, 0.12444933920704845, 0.6393171806167401, 0.13601321585903084, 0.5291850220264318, 0.3441629955947137, 0.18337004405286345, 0.28028634361233484, 0.25550660792951546, 0.5831497797356829, 0.36729074889867847, 0.26046255506607935, 0.6002202643171807, 0.25605726872246704, 0.3276431718061675, 0.34581497797356836, 0.6530837004405288, 0.37169603524229083, 0.2180616740088106, 0.25000000000000006, 0.36178414096916306, 0.006607929515418503, 0.00275330396475771, 0.4559471365638767, 0.5699339207048459, 0.34746696035242297, 0.4124449339207049, 0.07599118942731278, 0.4223568281938327, 0.1866740088105727, 0.5892070484581499, 0.6822687224669605, 0.1723568281938326, 0.7202643171806168, 0.17786343612334804, 0.4741189427312776, 0.7940528634361235, 0.26101321585903087, 0.5776431718061675, 0.12940528634361234, 0.644273127753304, 0.3887665198237886, 0.11068281938325991, 0.4542951541850221, 0.6982378854625552, 0.26817180616740094, 0.1316079295154185, 0.17566079295154186, 0.49284140969163004, 0.3348017621145375, 0.41189427312775334, 0.2533039647577093, 0.5374449339207049, 0.26541850220264324, 0.2197136563876652, 0.45649779735682827, 0.3452643171806168, 0.5704845814977975, 0.06497797356828194, 0.12665198237885464, 0.14207048458149782, 0.08535242290748898, 0.5055066079295155, 0.5176211453744494, 0.4245594713656388, 0.08755506607929515, 0.1222466960352423, 0.27257709251101325, 0.00275330396475771, 0.21365638766519826, 0.5567180616740088, 0.37169603524229083, 0.5792951541850221, 0.7890969162995596, 0.4284140969162996, 0.2246696035242291, 0.5236784140969164, 0.3226872246696036, 0.4295154185022027, 0.35132158590308377, 0.5952643171806168, 0.5561674008810573, 0.06662995594713657, 0.2929515418502203, 0.9669603524229076, 0.19273127753303967, 0.9416299559471367, 0.7081497797356829, 0.03524229074889868, 0.4410792951541851, 0.21751101321585906, 0.49834801762114544, 0.5787444933920706, 0.10242290748898679, 0.5941629955947137, 0.008259911894273128, 0.0, 0.4284140969162996, 0.1723568281938326, 0.27588105726872253, 0.6062775330396477, 0.0236784140969163, 0.7422907488986785, 0.4047356828193833, 0.07268722466960352, 0.1145374449339207, 0.37389867841409696, 0.1773127753303965, 0.0016519823788546258, 0.16740088105726875, 0.22301762114537446, 0.39151982378854633, 0.4542951541850221, 0.15748898678414097, 0.12004405286343613, 0.5748898678414097, 0.6183920704845816, 0.5831497797356829, 0.5110132158590309, 0.1525330396475771, 0.0512114537444934, 0.2968061674008811, 0.5881057268722468, 0.3348017621145375, 0.03524229074889868, 0.7527533039647578, 0.7208149779735684, 0.35792951541850226, 0.1905286343612335, 0.18612334801762115, 0.20209251101321588, 0.341409691629956, 0.031387665198237893, 0.02918502202643172, 0.4322687224669604, 0.06332599118942732, 0.009911894273127754, 0.407488986784141, 0.9840308370044054, 0.6536343612334803, 0.19878854625550663, 0.7720264317180617, 0.17951541850220265, 0.2835903083700441, 0.6172907488986785, 0.15473568281938327, 0.25165198237885467, 0.20374449339207049, 0.4482378854625551, 0.40528634361233484, 0.24008810572687225, 0.0060572687224669615, 0.05947136563876653, 0.5644273127753304, 0.4454845814977974, 0.05451541850220265, 0.06938325991189427, 0.4350220264317181, 0.09251101321585904, 0.7230176211453745, 0.05176211453744494, 0.20264317180616742, 0.6519823788546256, 0.38436123348017626, 0.3425110132158591, 0.512114537444934, 0.7472466960352424, 0.10297356828193834, 0.6701541850220265, 0.5077092511013217, 0.03303964757709252, 0.2180616740088106, 0.16079295154185022, 0.6338105726872247, 0.1299559471365639, 0.38105726872246704, 0.04129955947136565, 0.39041850220264324, 0.558920704845815, 0.37059471365638774, 0.4306167400881058, 0.8832599118942732, 0.9438325991189428, 0.4096916299559472, 0.3397577092511014, 0.4190528634361234, 0.06938325991189427, 0.4570484581497798, 0.23733480176211455, 0.4675110132158591, 0.27257709251101325, 0.5038546255506609, 0.9735682819383261, 0.37169603524229083, 0.3386563876651983, 0.5611233480176212, 0.6712555066079297, 0.2246696035242291, 0.5704845814977975, 0.6404185022026433, 0.042400881057268726, 0.40638766519823794, 0.5082599118942732, 0.27533039647577096, 0.24504405286343614, 0.197136563876652, 0.15803964757709252, 0.39317180616740094, 0.16354625550660795, 0.019273127753303965, 0.6894273127753305, 0.25000000000000006, 0.26101321585903087, 0.7940528634361235, 0.7081497797356829, 0.7654185022026433, 0.26376651982378857, 0.5985682819383261, 0.3006607929515419, 0.3226872246696036, 0.056167400881057275, 0.03964757709251102, 0.61068281938326, 0.49834801762114544, 0.36674008810572695, 0.41574889867841414, 0.05231277533039649, 0.39151982378854633, 0.3188325991189428, 0.650330396475771, 0.15859030837004406, 0.2472466960352423, 0.37665198237885467, 0.4372246696035243, 0.6718061674008812, 0.8116740088105728, 0.413546255506608, 0.4587004405286344, 0.6613436123348019, 0.34856828193832606, 0.4251101321585904, 0.6905286343612336, 0.9223568281938327, 0.33810572687224677, 0.022026431718061675, 0.23733480176211455, 0.6668502202643173, 0.36288546255506615, 0.8265418502202644, 0.3287444933920705, 0.2731277533039648, 0.6415198237885463, 0.7153083700440529, 0.1894273127753304, 0.459251101321586, 0.170704845814978, 0.0005506607929515419, 0.8727973568281939, 0.26156387665198244, 0.37940528634361237, 0.2863436123348018, 0.08645374449339208, 0.4372246696035243, 0.25770925110132165, 0.446035242290749, 0.09251101321585904, 0.6183920704845816, 0.009361233480176211, 0.6420704845814978, 0.5495594713656389, 0.7582599118942732, 0.9564977973568283, 0.25825991189427316, 0.9410792951541851, 0.7841409691629957, 0.637114537444934, 0.9911894273127755, 0.0644273127753304, 0.26376651982378857, 0.2197136563876652, 0.631057268722467, 0.09416299559471367, 0.5633259911894274, 0.01762114537444934, 0.5104625550660794, 0.7208149779735684, 0.125, 0.012114537444933921, 0.14702643171806168, 0.001101321585903084, 0.6778634361233481, 0.30671806167400884, 0.3177312775330397, 0.36288546255506615, 0.6993392070484582, 0.643171806167401, 0.9482378854625552, 0.49504405286343617, 0.14702643171806168, 0.0016519823788546258, 0.5280837004405287, 0.12389867841409692, 0.7544052863436125, 0.03524229074889868, 0.48843612334801767, 0.7064977973568283, 0.5055066079295155, 0.12334801762114538, 0.681718061674009, 0.210352422907489, 1.0000000000000002, 0.36949339207048465, 0.2483480176211454, 0.3612334801762115, 0.6354625550660794, 0.26486784140969166, 0.07488986784140969, 0.5903083700440529, 0.6475770925110133, 0.03524229074889868, 0.26211453744493396, 0.21090308370044056, 0.28414096916299564, 0.24669603524229078, 0.49724669603524235, 0.40143171806167405, 0.04900881057268723, 0.07323788546255507, 0.12389867841409692, 0.4058370044052864, 0.19603524229074892, 0.288546255506608, 0.3403083700440529, 0.28028634361233484, 0.4300660792951542, 0.48568281938325997, 0.39592511013215864, 0.4212555066079296, 0.585352422907489, 0.9030837004405288, 0.8953744493392072, 0.6701541850220265, 0.6773127753303966, 0.8171806167400882, 0.2455947136563877, 0.24889867841409694, 0.41685022026431723, 0.7835903083700442, 0.026982378854625552, 0.19218061674008813, 0.27422907488986786, 0.20099118942731278, 0.14702643171806168, 0.2483480176211454, 0.3188325991189428, 0.26321585903083705, 0.670704845814978, 0.2444933920704846, 0.21310572687224671, 0.19438325991189428, 0.9350220264317182, 0.21585903083700442, 0.7378854625550662, 0.6905286343612336, 0.4162995594713657, 0.26376651982378857, 0.5726872246696036, 0.24944933920704845, 0.1866740088105727, 0.3408590308370045, 0.3199339207048459, 0.0710352422907489, 0.4443832599118943, 0.04570484581497798, 0.308920704845815, 0.1773127753303965, 0.8700440528634362, 0.48623348017621154, 0.47246696035242297, 0.518171806167401, 0.14757709251101322, 0.9118942731277534, 0.23733480176211455, 0.30396475770925113, 0.15859030837004406, 0.2180616740088106, 0.4405286343612335, 0.6541850220264318, 0.18447136563876654, 0.433920704845815, 0.33810572687224677, 0.8529735682819384, 0.5682819383259913, 0.183920704845815, 0.09911894273127754, 0.14647577092511013, 0.13656387665198239, 0.5088105726872247, 0.08480176211453745, 0.5154185022026433, 0.7929515418502203, 0.11123348017621146, 0.6740088105726874, 0.09251101321585904, 0.04129955947136565, 0.41574889867841414, 0.2984581497797357, 0.6651982378854626, 0.906387665198238, 0.08094713656387666, 0.8254405286343613, 0.4273127753303965, 0.6541850220264318, 0.907488986784141, 0.14207048458149782, 0.9774229074889869, 0.0, 0.39702643171806173, 0.5280837004405287, 0.11894273127753305, 0.29735682819383263, 0.23623348017621146, 0.525330396475771, 0.4410792951541851, 0.018171806167400884, 0.9003303964757711, 0.08645374449339208, 0.7912995594713658, 0.8226872246696036, 0.3045154185022027, 0.20925110132158592, 0.28414096916299564, 0.17125550660792951, 0.7483480176211454, 0.29460352422907493, 0.5126651982378856, 0.6806167400881058, 0.1723568281938326, 0.0578193832599119, 0.25440528634361237, 0.47742290748898686, 0.3425110132158591, 0.35792951541850226, 0.8529735682819384, 0.8353524229074891, 0.6514317180616741, 0.5539647577092511, 0.007709251101321586, 0.10187224669603524, 0.7235682819383261, 0.709251101321586, 0.38546255506607935, 0.4476872246696036, 0.12665198237885464, 0.5390969162995596, 0.5638766519823789, 0.4218061674008811, 0.644273127753304, 0.47742290748898686, 0.4977973568281939, 0.7345814977973569, 0.04900881057268723, 0.012114537444933921, 0.2483480176211454, 0.2290748898678414, 0.47632158590308377, 0.39592511013215864, 0.23953744493392073, 0.48623348017621154, 0.4096916299559472, 0.4702643171806168, 0.4058370044052864, 0.2505506607929516, 0.6784140969162996, 0.3122246696035243, 0.3237885462555067, 0.4256607929515419, 0.2378854625550661, 0.8722466960352424, 0.828193832599119, 0.3650881057268723, 0.459251101321586, 0.3270925110132159, 0.38105726872246704, 0.3408590308370045, 0.8425110132158591, 0.2340308370044053, 0.13876651982378854, 0.2197136563876652, 0.8761013215859031, 0.21255506607929517, 0.061674008810572695, 0.29185022026431723, 0.6387665198237886, 0.4085903083700441, 0.12389867841409692, 0.24504405286343614, 0.0033039647577092516, 0.23348017621145375, 0.8155286343612336, 0.16905286343612336, 0.7301762114537446, 0.19383259911894274, 0.5418502202643173, 0.6090308370044054, 0.7219162995594715, 0.41574889867841414, 0.125, 0.45374449339207057, 0.8199339207048459, 0.4587004405286344, 0.18612334801762115, 0.7632158590308371, 0.8023127753303966, 0.3441629955947137, 0.4113436123348018, 0.4432819383259913, 0.5401982378854626, 0.008259911894273128, 0.12169603524229075, 0.4041850220264318, 0.2263215859030837, 0.10407488986784141, 0.010462555066079295, 0.9966960352422909, 0.17841409691629956, 0.3144273127753304, 0.5952643171806168, 0.7230176211453745, 0.45759911894273136, 0.5715859030837005, 0.0881057268722467, 0.1828193832599119, 0.0, 0.2703744493392071, 0.5424008810572688, 0.41574889867841414, 0.14041850220264318, 0.3111233480176212, 0.10022026431718062, 0.19273127753303967, 0.5082599118942732, 0.0578193832599119, 0.11068281938325991, 0.024779735682819385, 0.6266519823788547, 0.009361233480176211, 0.0644273127753304, 0.5969162995594715, 0.35627753303964765, 0.5512114537444934, 0.578193832599119, 0.12389867841409692, 0.26431718061674014, 0.4520925110132159, 0.35517621145374456, 0.6029735682819384, 0.06662995594713657, 0.9102422907488988, 0.47577092511013225, 0.2929515418502203, 0.20264317180616742, 0.6233480176211454, 0.13325991189427314, 0.9482378854625552, 0.26486784140969166, 0.27422907488986786, 0.6657488986784141, 0.420704845814978, 0.4300660792951542, 0.0881057268722467, 0.021475770925110133, 0.22687224669603526, 0.558920704845815, 0.8160792951541851, 0.400330396475771, 0.23623348017621146, 0.015418502202643174, 0.011563876651982379, 0.16629955947136565, 0.21365638766519826, 0.2389867841409692, 0.35352422907488995, 0.1745594713656388, 0.06497797356828194, 0.13381057268722468, 0.08535242290748898, 0.25605726872246704, 0.3061674008810573, 0.3193832599118943, 0.28689427312775334, 0.05176211453744494, 0.20044052863436124, 0.12334801762114538, 0.5093612334801763, 0.14317180616740088, 0.1745594713656388, 0.5633259911894274, 0.02643171806167401, 0.05726872246696036, 0.4686123348017622, 0.26156387665198244, 0.20044052863436124, 0.04955947136563878, 0.38821585903083705, 0.47742290748898686, 0.5908590308370045, 0.007158590308370045, 0.20925110132158592, 0.4218061674008811, 0.03964757709251102, 0.1261013215859031, 0.6536343612334803, 0.19548458149779738, 0.7329295154185023, 0.18887665198237888, 0.7505506607929516, 0.13656387665198239, 0.7555066079295155, 0.7252202643171807, 0.3144273127753304, 0.37279735682819387], \"xaxis\": \"x2\", \"y\": [0.17948717948717952, 0.28205128205128205, 0.17948717948717952, 0.20512820512820518, 0.20512820512820518, 0.717948717948718, 0.3076923076923077, 0.3846153846153846, 0.20512820512820518, 0.6666666666666666, 0.3076923076923077, 0.6923076923076922, 0.3076923076923077, 0.6153846153846153, 0.33333333333333337, 0.9999999999999999, 0.28205128205128205, 0.20512820512820518, 0.23076923076923073, 0.4358974358974359, 0.717948717948718, 0.23076923076923073, 0.3589743589743589, 0.1282051282051282, 0.2564102564102564, 0.2564102564102564, 0.20512820512820518, 0.5128205128205128, 0.2564102564102564, 0.20512820512820518, 0.2564102564102564, 0.41025641025641024, 0.6666666666666666, 0.3076923076923077, 0.3076923076923077, 0.28205128205128205, 0.7948717948717948, 0.15384615384615385, 0.4358974358974359, 0.5128205128205128, 0.4358974358974359, 0.7692307692307693, 0.3076923076923077, 0.7948717948717948, 0.6153846153846153, 0.23076923076923073, 0.2564102564102564, 0.4871794871794871, 0.6923076923076922, 0.28205128205128205, 0.46153846153846156, 0.3076923076923077, 0.15384615384615385, 0.20512820512820518, 0.20512820512820518, 0.5128205128205128, 0.33333333333333337, 0.23076923076923073, 0.7435897435897435, 0.3076923076923077, 0.8205128205128206, 0.33333333333333337, 0.41025641025641024, 0.33333333333333337, 0.8461538461538461, 0.33333333333333337, 0.2564102564102564, 0.5897435897435898, 0.46153846153846156, 0.0, 0.717948717948718, 0.2564102564102564, 0.33333333333333337, 0.46153846153846156, 0.4358974358974359, 0.23076923076923073, 0.41025641025641024, 0.5384615384615384, 0.23076923076923073, 0.20512820512820518, 0.15384615384615385, 0.1282051282051282, 0.5897435897435898, 0.2564102564102564, 0.6153846153846153, 0.7435897435897435, 0.3076923076923077, 0.28205128205128205, 0.28205128205128205, 0.923076923076923, 0.07692307692307693, 0.5128205128205128, 0.4358974358974359, 0.7435897435897435, 0.46153846153846156, 0.28205128205128205, 0.4871794871794871, 0.7435897435897435, 0.6153846153846153, 0.4358974358974359, 0.20512820512820518, 0.41025641025641024, 0.3589743589743589, 0.2564102564102564, 0.3846153846153846, 0.4358974358974359, 0.7435897435897435, 0.8461538461538461, 0.3589743589743589, 0.3076923076923077, 0.17948717948717952, 0.8205128205128206, 0.3076923076923077, 0.3846153846153846, 0.41025641025641024, 0.2564102564102564, 0.28205128205128205, 0.23076923076923073, 0.28205128205128205, 0.3076923076923077, 0.8974358974358975, 0.6666666666666666, 0.20512820512820518, 0.23076923076923073, 0.28205128205128205, 0.23076923076923073, 0.33333333333333337, 0.46153846153846156, 0.33333333333333337, 0.6410256410256411, 0.2564102564102564, 0.3076923076923077, 0.17948717948717952, 0.2564102564102564, 0.4358974358974359, 0.3076923076923077, 0.3076923076923077, 0.41025641025641024, 0.5384615384615384, 0.3076923076923077, 0.3589743589743589, 0.7692307692307693, 0.3076923076923077, 0.2564102564102564, 0.7435897435897435, 0.6153846153846153, 0.8717948717948717, 0.41025641025641024, 0.6666666666666666, 0.3846153846153846, 0.5384615384615384, 0.3846153846153846, 0.1282051282051282, 0.41025641025641024, 0.23076923076923073, 0.17948717948717952, 0.3589743589743589, 0.2564102564102564, 0.3589743589743589, 0.46153846153846156, 0.17948717948717952, 0.3846153846153846, 0.10256410256410253, 0.46153846153846156, 0.33333333333333337, 0.1282051282051282, 0.4358974358974359, 0.4871794871794871, 0.10256410256410253, 0.2564102564102564, 0.15384615384615385, 0.3846153846153846, 0.20512820512820518, 0.3846153846153846, 0.6923076923076922, 0.3076923076923077, 0.3846153846153846, 0.23076923076923073, 0.3076923076923077, 0.41025641025641024, 0.20512820512820518, 0.20512820512820518, 0.6923076923076922, 0.28205128205128205, 0.5641025641025641, 0.17948717948717952, 0.23076923076923073, 0.4871794871794871, 0.4358974358974359, 0.33333333333333337, 0.23076923076923073, 0.23076923076923073, 0.23076923076923073, 0.2564102564102564, 0.8461538461538461, 0.3589743589743589, 0.33333333333333337, 0.6923076923076922, 0.2564102564102564, 0.3589743589743589, 0.3589743589743589, 0.2564102564102564, 0.23076923076923073, 0.5384615384615384, 0.5641025641025641, 0.46153846153846156, 0.6923076923076922, 0.5641025641025641, 0.8717948717948717, 0.33333333333333337, 0.5128205128205128, 0.3589743589743589, 0.3076923076923077, 0.17948717948717952, 0.4358974358974359, 0.41025641025641024, 0.33333333333333337, 0.5384615384615384, 0.23076923076923073, 0.17948717948717952, 0.717948717948718, 0.3076923076923077, 0.6666666666666666, 0.3589743589743589, 0.28205128205128205, 0.8205128205128206, 0.6666666666666666, 0.4358974358974359, 0.20512820512820518, 0.41025641025641024, 0.46153846153846156, 0.41025641025641024, 0.3076923076923077, 0.17948717948717952, 0.20512820512820518, 0.15384615384615385, 0.28205128205128205, 0.6153846153846153, 0.5384615384615384, 0.3589743589743589, 0.33333333333333337, 0.15384615384615385, 0.33333333333333337, 0.41025641025641024, 0.17948717948717952, 0.6666666666666666, 0.3076923076923077, 0.2564102564102564, 0.3076923076923077, 0.3076923076923077, 0.3076923076923077, 0.23076923076923073, 0.28205128205128205, 0.41025641025641024, 0.17948717948717952, 0.7692307692307693, 0.33333333333333337, 0.28205128205128205, 0.20512820512820518, 0.6923076923076922, 0.28205128205128205, 0.23076923076923073, 0.6153846153846153, 0.41025641025641024, 0.15384615384615385, 0.3076923076923077, 0.7435897435897435, 0.7435897435897435, 0.46153846153846156, 0.2564102564102564, 0.33333333333333337, 0.3589743589743589, 0.2564102564102564, 0.7948717948717948, 0.4358974358974359, 0.33333333333333337, 0.20512820512820518, 0.3589743589743589, 0.28205128205128205, 0.3076923076923077, 0.15384615384615385, 0.3076923076923077, 0.3589743589743589, 0.41025641025641024, 0.4358974358974359, 0.6153846153846153, 0.20512820512820518, 0.28205128205128205, 0.2564102564102564, 0.20512820512820518, 0.3076923076923077, 0.2564102564102564, 0.3589743589743589, 0.28205128205128205, 0.4358974358974359, 0.3846153846153846, 0.33333333333333337, 0.28205128205128205, 0.46153846153846156, 0.46153846153846156, 0.41025641025641024, 0.3846153846153846, 0.28205128205128205, 0.3846153846153846, 0.6666666666666666, 0.20512820512820518, 0.17948717948717952, 0.3589743589743589, 0.717948717948718, 0.15384615384615385, 0.28205128205128205, 0.28205128205128205, 0.2564102564102564, 0.3589743589743589, 0.5128205128205128, 0.5128205128205128, 0.23076923076923073, 0.23076923076923073, 0.28205128205128205, 0.17948717948717952, 0.28205128205128205, 0.7692307692307693, 0.717948717948718, 0.6666666666666666, 0.3076923076923077, 0.7692307692307693, 0.20512820512820518, 0.4871794871794871, 0.28205128205128205, 0.2564102564102564, 0.28205128205128205, 0.3076923076923077, 0.3076923076923077, 0.5897435897435898, 0.3076923076923077, 0.4358974358974359, 0.33333333333333337, 0.41025641025641024, 0.28205128205128205, 0.28205128205128205, 0.20512820512820518, 0.3589743589743589, 0.28205128205128205, 0.6923076923076922, 0.28205128205128205, 0.28205128205128205, 0.6666666666666666, 0.3589743589743589, 0.6153846153846153, 0.17948717948717952, 0.20512820512820518, 0.28205128205128205, 0.4871794871794871, 0.5641025641025641, 0.17948717948717952, 0.46153846153846156, 0.33333333333333337, 0.7692307692307693, 0.20512820512820518, 0.28205128205128205, 0.28205128205128205, 0.23076923076923073, 0.17948717948717952, 0.717948717948718, 0.2564102564102564, 0.6923076923076922, 0.46153846153846156, 0.6923076923076922, 0.23076923076923073, 0.41025641025641024, 0.17948717948717952, 0.3589743589743589, 0.2564102564102564, 0.17948717948717952, 0.23076923076923073, 0.33333333333333337, 0.3589743589743589, 0.20512820512820518, 0.17948717948717952, 0.33333333333333337, 0.23076923076923073, 0.4358974358974359, 0.6666666666666666, 0.20512820512820518, 0.2564102564102564, 0.17948717948717952, 0.23076923076923073, 0.23076923076923073, 0.1282051282051282, 0.28205128205128205, 0.8205128205128206, 0.15384615384615385, 0.28205128205128205, 0.2564102564102564, 0.20512820512820518, 0.3076923076923077, 0.4358974358974359, 0.7435897435897435, 0.8717948717948717, 0.20512820512820518, 0.6153846153846153, 0.3589743589743589, 0.3589743589743589, 0.46153846153846156, 0.5641025641025641, 0.4358974358974359, 0.8461538461538461, 0.3846153846153846, 0.41025641025641024, 0.1282051282051282, 0.717948717948718, 0.15384615384615385, 0.3076923076923077, 0.7948717948717948, 0.6153846153846153, 0.6666666666666666, 0.5897435897435898, 0.717948717948718, 0.28205128205128205, 0.7435897435897435, 0.4358974358974359, 0.7435897435897435, 0.28205128205128205, 0.7692307692307693, 0.5128205128205128, 0.28205128205128205, 0.28205128205128205, 0.5384615384615384, 0.7435897435897435, 0.23076923076923073, 0.23076923076923073, 0.28205128205128205, 0.7948717948717948, 0.4358974358974359, 0.717948717948718, 0.5384615384615384, 0.051282051282051266, 0.33333333333333337, 0.5641025641025641, 0.4871794871794871, 0.3846153846153846, 0.6923076923076922, 0.3589743589743589, 0.4358974358974359, 0.7692307692307693, 0.5384615384615384, 0.2564102564102564, 0.5641025641025641, 0.20512820512820518, 0.2564102564102564, 0.5897435897435898, 0.2564102564102564, 0.3846153846153846, 0.41025641025641024, 0.17948717948717952, 0.20512820512820518, 0.3076923076923077, 0.7948717948717948, 0.41025641025641024, 0.717948717948718, 0.23076923076923073, 0.2564102564102564, 0.23076923076923073, 0.7435897435897435, 0.3589743589743589, 0.20512820512820518, 0.3846153846153846, 0.2564102564102564, 0.6410256410256411, 0.8461538461538461, 0.2564102564102564, 0.41025641025641024, 0.20512820512820518, 0.5641025641025641, 0.7692307692307693, 0.5641025641025641, 0.46153846153846156, 0.5897435897435898, 0.717948717948718, 0.7435897435897435, 0.717948717948718, 0.5641025641025641, 0.5897435897435898, 0.3076923076923077, 0.33333333333333337, 0.2564102564102564, 0.3846153846153846, 0.5128205128205128, 0.6153846153846153, 0.46153846153846156, 0.3076923076923077, 0.17948717948717952, 0.8974358974358975, 0.41025641025641024, 0.3589743589743589, 0.2564102564102564, 0.4358974358974359, 0.3846153846153846, 0.46153846153846156, 0.28205128205128205, 0.23076923076923073, 0.6410256410256411, 0.2564102564102564, 0.717948717948718, 0.3589743589743589, 0.3846153846153846, 0.41025641025641024, 0.7435897435897435, 0.46153846153846156, 0.23076923076923073, 0.3589743589743589, 0.33333333333333337, 0.8717948717948717, 0.23076923076923073, 0.10256410256410253, 0.3589743589743589, 0.2564102564102564, 0.41025641025641024, 0.28205128205128205, 0.5897435897435898, 0.46153846153846156, 0.3846153846153846, 0.20512820512820518, 0.28205128205128205, 0.7692307692307693, 0.7692307692307693, 0.23076923076923073, 0.2564102564102564, 0.17948717948717952, 0.6666666666666666, 0.28205128205128205, 0.8717948717948717, 0.6923076923076922, 0.2564102564102564, 0.15384615384615385, 0.6666666666666666, 0.4358974358974359, 0.2564102564102564, 0.23076923076923073, 0.41025641025641024, 0.3589743589743589, 0.5641025641025641, 0.6153846153846153, 0.33333333333333337, 0.6410256410256411, 0.5384615384615384, 0.7692307692307693, 0.7435897435897435, 0.15384615384615385, 0.23076923076923073, 0.6153846153846153, 0.3076923076923077, 0.28205128205128205, 0.23076923076923073, 0.46153846153846156, 0.46153846153846156, 0.15384615384615385, 0.4358974358974359, 0.28205128205128205, 0.5128205128205128, 0.717948717948718, 0.33333333333333337, 0.4358974358974359, 0.2564102564102564, 0.3076923076923077, 0.46153846153846156, 0.3076923076923077, 0.20512820512820518, 0.3076923076923077, 0.15384615384615385, 0.46153846153846156, 0.6923076923076922, 0.41025641025641024, 0.41025641025641024, 0.23076923076923073, 0.3076923076923077, 0.6923076923076922, 0.46153846153846156, 0.5897435897435898, 0.6410256410256411, 0.23076923076923073, 0.17948717948717952, 0.20512820512820518, 0.3076923076923077, 0.4358974358974359, 0.9487179487179488, 0.20512820512820518, 0.23076923076923073, 0.7948717948717948, 0.3589743589743589, 0.6923076923076922, 0.3589743589743589, 0.6923076923076922, 0.7435897435897435, 0.2564102564102564, 0.28205128205128205, 0.5641025641025641, 0.3589743589743589, 0.2564102564102564, 0.28205128205128205, 0.5128205128205128, 0.3846153846153846, 0.20512820512820518, 0.5128205128205128, 0.20512820512820518, 0.2564102564102564, 0.3846153846153846, 0.17948717948717952, 0.9743589743589743, 0.41025641025641024, 0.23076923076923073, 0.28205128205128205, 0.5897435897435898, 0.3076923076923077, 0.15384615384615385, 0.3589743589743589, 0.3076923076923077, 0.3589743589743589, 0.2564102564102564, 0.5897435897435898, 0.6410256410256411, 0.3076923076923077, 0.23076923076923073, 0.3589743589743589, 0.17948717948717952, 0.4871794871794871, 0.41025641025641024, 0.5641025641025641, 0.23076923076923073, 0.6410256410256411, 0.46153846153846156, 0.2564102564102564, 0.15384615384615385, 0.6923076923076922, 0.28205128205128205, 0.3589743589743589, 0.3846153846153846, 0.2564102564102564, 0.41025641025641024, 0.2564102564102564, 0.33333333333333337, 0.717948717948718, 0.23076923076923073, 0.33333333333333337, 0.2564102564102564, 0.23076923076923073, 0.41025641025641024, 0.3589743589743589, 0.7692307692307693, 0.1282051282051282, 0.46153846153846156, 0.7948717948717948, 0.33333333333333337, 0.2564102564102564, 0.28205128205128205, 0.7948717948717948, 0.17948717948717952, 0.10256410256410253, 0.2564102564102564, 0.33333333333333337, 0.28205128205128205, 0.23076923076923073, 0.6923076923076922, 0.3076923076923077, 0.3846153846153846, 0.3076923076923077, 0.17948717948717952, 0.3846153846153846, 0.28205128205128205, 0.2564102564102564, 0.3846153846153846, 0.4871794871794871, 0.23076923076923073, 0.7692307692307693, 0.28205128205128205, 0.41025641025641024, 0.6923076923076922, 0.3846153846153846, 0.23076923076923073, 0.7692307692307693, 0.23076923076923073, 0.717948717948718, 0.2564102564102564], \"yaxis\": \"y2\"}],\n",
              "                        {\"annotations\": [{\"font\": {\"size\": 16}, \"showarrow\": false, \"text\": \"Actual\", \"x\": 0.225, \"xanchor\": \"center\", \"xref\": \"paper\", \"y\": 1.0, \"yanchor\": \"bottom\", \"yref\": \"paper\"}, {\"font\": {\"size\": 16}, \"showarrow\": false, \"text\": \"K-means cluster\", \"x\": 0.775, \"xanchor\": \"center\", \"xref\": \"paper\", \"y\": 1.0, \"yanchor\": \"bottom\", \"yref\": \"paper\"}], \"height\": 600, \"template\": {\"data\": {\"bar\": [{\"error_x\": {\"color\": \"#2a3f5f\"}, \"error_y\": {\"color\": \"#2a3f5f\"}, \"marker\": {\"line\": {\"color\": \"#E5ECF6\", \"width\": 0.5}}, \"type\": \"bar\"}], \"barpolar\": [{\"marker\": {\"line\": {\"color\": \"#E5ECF6\", \"width\": 0.5}}, \"type\": \"barpolar\"}], \"carpet\": [{\"aaxis\": {\"endlinecolor\": \"#2a3f5f\", \"gridcolor\": \"white\", \"linecolor\": \"white\", \"minorgridcolor\": \"white\", \"startlinecolor\": \"#2a3f5f\"}, \"baxis\": {\"endlinecolor\": \"#2a3f5f\", \"gridcolor\": \"white\", \"linecolor\": \"white\", \"minorgridcolor\": \"white\", \"startlinecolor\": \"#2a3f5f\"}, \"type\": \"carpet\"}], \"choropleth\": [{\"colorbar\": {\"outlinewidth\": 0, \"ticks\": \"\"}, \"type\": \"choropleth\"}], \"contour\": [{\"colorbar\": {\"outlinewidth\": 0, \"ticks\": \"\"}, \"colorscale\": [[0.0, \"#0d0887\"], [0.1111111111111111, \"#46039f\"], [0.2222222222222222, \"#7201a8\"], [0.3333333333333333, \"#9c179e\"], [0.4444444444444444, \"#bd3786\"], [0.5555555555555556, \"#d8576b\"], [0.6666666666666666, \"#ed7953\"], [0.7777777777777778, \"#fb9f3a\"], [0.8888888888888888, \"#fdca26\"], [1.0, \"#f0f921\"]], \"type\": \"contour\"}], \"contourcarpet\": [{\"colorbar\": {\"outlinewidth\": 0, \"ticks\": \"\"}, \"type\": \"contourcarpet\"}], \"heatmap\": [{\"colorbar\": {\"outlinewidth\": 0, \"ticks\": \"\"}, \"colorscale\": [[0.0, \"#0d0887\"], [0.1111111111111111, \"#46039f\"], [0.2222222222222222, \"#7201a8\"], [0.3333333333333333, \"#9c179e\"], [0.4444444444444444, \"#bd3786\"], [0.5555555555555556, \"#d8576b\"], [0.6666666666666666, \"#ed7953\"], [0.7777777777777778, \"#fb9f3a\"], [0.8888888888888888, \"#fdca26\"], [1.0, \"#f0f921\"]], \"type\": \"heatmap\"}], \"heatmapgl\": [{\"colorbar\": {\"outlinewidth\": 0, \"ticks\": \"\"}, \"colorscale\": [[0.0, \"#0d0887\"], [0.1111111111111111, \"#46039f\"], [0.2222222222222222, \"#7201a8\"], [0.3333333333333333, \"#9c179e\"], [0.4444444444444444, \"#bd3786\"], [0.5555555555555556, \"#d8576b\"], [0.6666666666666666, \"#ed7953\"], [0.7777777777777778, \"#fb9f3a\"], [0.8888888888888888, \"#fdca26\"], [1.0, \"#f0f921\"]], \"type\": \"heatmapgl\"}], \"histogram\": [{\"marker\": {\"colorbar\": {\"outlinewidth\": 0, \"ticks\": \"\"}}, \"type\": \"histogram\"}], \"histogram2d\": [{\"colorbar\": {\"outlinewidth\": 0, \"ticks\": \"\"}, \"colorscale\": [[0.0, \"#0d0887\"], [0.1111111111111111, \"#46039f\"], [0.2222222222222222, \"#7201a8\"], [0.3333333333333333, \"#9c179e\"], [0.4444444444444444, \"#bd3786\"], [0.5555555555555556, \"#d8576b\"], [0.6666666666666666, \"#ed7953\"], [0.7777777777777778, \"#fb9f3a\"], [0.8888888888888888, \"#fdca26\"], [1.0, \"#f0f921\"]], \"type\": \"histogram2d\"}], \"histogram2dcontour\": [{\"colorbar\": {\"outlinewidth\": 0, \"ticks\": \"\"}, \"colorscale\": [[0.0, \"#0d0887\"], [0.1111111111111111, \"#46039f\"], [0.2222222222222222, \"#7201a8\"], [0.3333333333333333, \"#9c179e\"], [0.4444444444444444, \"#bd3786\"], [0.5555555555555556, \"#d8576b\"], [0.6666666666666666, \"#ed7953\"], [0.7777777777777778, \"#fb9f3a\"], [0.8888888888888888, \"#fdca26\"], [1.0, \"#f0f921\"]], \"type\": \"histogram2dcontour\"}], \"mesh3d\": [{\"colorbar\": {\"outlinewidth\": 0, \"ticks\": \"\"}, \"type\": \"mesh3d\"}], \"parcoords\": [{\"line\": {\"colorbar\": {\"outlinewidth\": 0, \"ticks\": \"\"}}, \"type\": \"parcoords\"}], \"pie\": [{\"automargin\": true, \"type\": \"pie\"}], \"scatter\": [{\"marker\": {\"colorbar\": {\"outlinewidth\": 0, \"ticks\": \"\"}}, \"type\": \"scatter\"}], \"scatter3d\": [{\"line\": {\"colorbar\": {\"outlinewidth\": 0, \"ticks\": \"\"}}, \"marker\": {\"colorbar\": {\"outlinewidth\": 0, \"ticks\": \"\"}}, \"type\": \"scatter3d\"}], \"scattercarpet\": [{\"marker\": {\"colorbar\": {\"outlinewidth\": 0, \"ticks\": \"\"}}, \"type\": \"scattercarpet\"}], \"scattergeo\": [{\"marker\": {\"colorbar\": {\"outlinewidth\": 0, \"ticks\": \"\"}}, \"type\": \"scattergeo\"}], \"scattergl\": [{\"marker\": {\"colorbar\": {\"outlinewidth\": 0, \"ticks\": \"\"}}, \"type\": \"scattergl\"}], \"scattermapbox\": [{\"marker\": {\"colorbar\": {\"outlinewidth\": 0, \"ticks\": \"\"}}, \"type\": \"scattermapbox\"}], \"scatterpolar\": [{\"marker\": {\"colorbar\": {\"outlinewidth\": 0, \"ticks\": \"\"}}, \"type\": \"scatterpolar\"}], \"scatterpolargl\": [{\"marker\": {\"colorbar\": {\"outlinewidth\": 0, \"ticks\": \"\"}}, \"type\": \"scatterpolargl\"}], \"scatterternary\": [{\"marker\": {\"colorbar\": {\"outlinewidth\": 0, \"ticks\": \"\"}}, \"type\": \"scatterternary\"}], \"surface\": [{\"colorbar\": {\"outlinewidth\": 0, \"ticks\": \"\"}, \"colorscale\": [[0.0, \"#0d0887\"], [0.1111111111111111, \"#46039f\"], [0.2222222222222222, \"#7201a8\"], [0.3333333333333333, \"#9c179e\"], [0.4444444444444444, \"#bd3786\"], [0.5555555555555556, \"#d8576b\"], [0.6666666666666666, \"#ed7953\"], [0.7777777777777778, \"#fb9f3a\"], [0.8888888888888888, \"#fdca26\"], [1.0, \"#f0f921\"]], \"type\": \"surface\"}], \"table\": [{\"cells\": {\"fill\": {\"color\": \"#EBF0F8\"}, \"line\": {\"color\": \"white\"}}, \"header\": {\"fill\": {\"color\": \"#C8D4E3\"}, \"line\": {\"color\": \"white\"}}, \"type\": \"table\"}]}, \"layout\": {\"annotationdefaults\": {\"arrowcolor\": \"#2a3f5f\", \"arrowhead\": 0, \"arrowwidth\": 1}, \"coloraxis\": {\"colorbar\": {\"outlinewidth\": 0, \"ticks\": \"\"}}, \"colorscale\": {\"diverging\": [[0, \"#8e0152\"], [0.1, \"#c51b7d\"], [0.2, \"#de77ae\"], [0.3, \"#f1b6da\"], [0.4, \"#fde0ef\"], [0.5, \"#f7f7f7\"], [0.6, \"#e6f5d0\"], [0.7, \"#b8e186\"], [0.8, \"#7fbc41\"], [0.9, \"#4d9221\"], [1, \"#276419\"]], \"sequential\": [[0.0, \"#0d0887\"], [0.1111111111111111, \"#46039f\"], [0.2222222222222222, \"#7201a8\"], [0.3333333333333333, \"#9c179e\"], [0.4444444444444444, \"#bd3786\"], [0.5555555555555556, \"#d8576b\"], [0.6666666666666666, \"#ed7953\"], [0.7777777777777778, \"#fb9f3a\"], [0.8888888888888888, \"#fdca26\"], [1.0, \"#f0f921\"]], \"sequentialminus\": [[0.0, \"#0d0887\"], [0.1111111111111111, \"#46039f\"], [0.2222222222222222, \"#7201a8\"], [0.3333333333333333, \"#9c179e\"], [0.4444444444444444, \"#bd3786\"], [0.5555555555555556, \"#d8576b\"], [0.6666666666666666, \"#ed7953\"], [0.7777777777777778, \"#fb9f3a\"], [0.8888888888888888, \"#fdca26\"], [1.0, \"#f0f921\"]]}, \"colorway\": [\"#636efa\", \"#EF553B\", \"#00cc96\", \"#ab63fa\", \"#FFA15A\", \"#19d3f3\", \"#FF6692\", \"#B6E880\", \"#FF97FF\", \"#FECB52\"], \"font\": {\"color\": \"#2a3f5f\"}, \"geo\": {\"bgcolor\": \"white\", \"lakecolor\": \"white\", \"landcolor\": \"#E5ECF6\", \"showlakes\": true, \"showland\": true, \"subunitcolor\": \"white\"}, \"hoverlabel\": {\"align\": \"left\"}, \"hovermode\": \"closest\", \"mapbox\": {\"style\": \"light\"}, \"paper_bgcolor\": \"white\", \"plot_bgcolor\": \"#E5ECF6\", \"polar\": {\"angularaxis\": {\"gridcolor\": \"white\", \"linecolor\": \"white\", \"ticks\": \"\"}, \"bgcolor\": \"#E5ECF6\", \"radialaxis\": {\"gridcolor\": \"white\", \"linecolor\": \"white\", \"ticks\": \"\"}}, \"scene\": {\"xaxis\": {\"backgroundcolor\": \"#E5ECF6\", \"gridcolor\": \"white\", \"gridwidth\": 2, \"linecolor\": \"white\", \"showbackground\": true, \"ticks\": \"\", \"zerolinecolor\": \"white\"}, \"yaxis\": {\"backgroundcolor\": \"#E5ECF6\", \"gridcolor\": \"white\", \"gridwidth\": 2, \"linecolor\": \"white\", \"showbackground\": true, \"ticks\": \"\", \"zerolinecolor\": \"white\"}, \"zaxis\": {\"backgroundcolor\": \"#E5ECF6\", \"gridcolor\": \"white\", \"gridwidth\": 2, \"linecolor\": \"white\", \"showbackground\": true, \"ticks\": \"\", \"zerolinecolor\": \"white\"}}, \"shapedefaults\": {\"line\": {\"color\": \"#2a3f5f\"}}, \"ternary\": {\"aaxis\": {\"gridcolor\": \"white\", \"linecolor\": \"white\", \"ticks\": \"\"}, \"baxis\": {\"gridcolor\": \"white\", \"linecolor\": \"white\", \"ticks\": \"\"}, \"bgcolor\": \"#E5ECF6\", \"caxis\": {\"gridcolor\": \"white\", \"linecolor\": \"white\", \"ticks\": \"\"}}, \"title\": {\"x\": 0.05}, \"xaxis\": {\"automargin\": true, \"gridcolor\": \"white\", \"linecolor\": \"white\", \"ticks\": \"\", \"title\": {\"standoff\": 15}, \"zerolinecolor\": \"white\", \"zerolinewidth\": 2}, \"yaxis\": {\"automargin\": true, \"gridcolor\": \"white\", \"linecolor\": \"white\", \"ticks\": \"\", \"title\": {\"standoff\": 15}, \"zerolinecolor\": \"white\", \"zerolinewidth\": 2}}}, \"width\": 1000, \"xaxis\": {\"anchor\": \"y\", \"domain\": [0.0, 0.45]}, \"xaxis2\": {\"anchor\": \"y2\", \"domain\": [0.55, 1.0]}, \"yaxis\": {\"anchor\": \"x\", \"domain\": [0.0, 1.0]}, \"yaxis2\": {\"anchor\": \"x2\", \"domain\": [0.0, 1.0]}},\n",
              "                        {\"responsive\": true}\n",
              "                    ).then(function(){\n",
              "                            \n",
              "var gd = document.getElementById('18b95989-0948-4e8c-9ef1-fc80c09ace9b');\n",
              "var x = new MutationObserver(function (mutations, observer) {{\n",
              "        var display = window.getComputedStyle(gd).display;\n",
              "        if (!display || display === 'none') {{\n",
              "            console.log([gd, 'removed!']);\n",
              "            Plotly.purge(gd);\n",
              "            observer.disconnect();\n",
              "        }}\n",
              "}});\n",
              "\n",
              "// Listen for the removal of the full notebook cells\n",
              "var notebookContainer = gd.closest('#notebook-container');\n",
              "if (notebookContainer) {{\n",
              "    x.observe(notebookContainer, {childList: true});\n",
              "}}\n",
              "\n",
              "// Listen for the clearing of the current output cell\n",
              "var outputEl = gd.closest('.output');\n",
              "if (outputEl) {{\n",
              "    x.observe(outputEl, {childList: true});\n",
              "}}\n",
              "\n",
              "                        })\n",
              "                };\n",
              "                \n",
              "            </script>\n",
              "        </div>\n",
              "</body>\n",
              "</html>"
            ]
          },
          "metadata": {
            "tags": []
          }
        }
      ]
    },
    {
      "cell_type": "code",
      "metadata": {
        "id": "5sTvWTtIdo0b"
      },
      "source": [
        ""
      ],
      "execution_count": null,
      "outputs": []
    }
  ]
}