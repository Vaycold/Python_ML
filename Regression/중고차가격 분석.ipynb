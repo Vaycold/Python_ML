{
  "nbformat": 4,
  "nbformat_minor": 0,
  "metadata": {
    "colab": {
      "name": "중고차가격 분석.ipynb",
      "provenance": [],
      "include_colab_link": true
    },
    "kernelspec": {
      "name": "python3",
      "display_name": "Python 3"
    }
  },
  "cells": [
    {
      "cell_type": "markdown",
      "metadata": {
        "id": "view-in-github",
        "colab_type": "text"
      },
      "source": [
        "<a href=\"https://colab.research.google.com/github/Vaycold/Python_ML/blob/main/Regression/%EC%A4%91%EA%B3%A0%EC%B0%A8%EA%B0%80%EA%B2%A9%20%EB%B6%84%EC%84%9D.ipynb\" target=\"_parent\"><img src=\"https://colab.research.google.com/assets/colab-badge.svg\" alt=\"Open In Colab\"/></a>"
      ]
    },
    {
      "cell_type": "code",
      "metadata": {
        "id": "ytfw1SIVfEk7"
      },
      "source": [
        "import os\n",
        "import pandas as pd\n",
        "import numpy as np\n",
        "import matplotlib.pyplot as plt\n",
        "import seaborn as sns"
      ],
      "execution_count": null,
      "outputs": []
    },
    {
      "cell_type": "code",
      "metadata": {
        "colab": {
          "base_uri": "https://localhost:8080/",
          "height": 170
        },
        "id": "WCqlAYzEn8F6",
        "outputId": "d03d1487-b066-44fc-9f71-4e65462fa0fc"
      },
      "source": [
        "os.listdir('drive/My')"
      ],
      "execution_count": null,
      "outputs": [
        {
          "output_type": "error",
          "ename": "FileNotFoundError",
          "evalue": "ignored",
          "traceback": [
            "\u001b[0;31m---------------------------------------------------------------------------\u001b[0m",
            "\u001b[0;31mFileNotFoundError\u001b[0m                         Traceback (most recent call last)",
            "\u001b[0;32m<ipython-input-2-b3b85b96fe24>\u001b[0m in \u001b[0;36m<module>\u001b[0;34m()\u001b[0m\n\u001b[0;32m----> 1\u001b[0;31m \u001b[0mos\u001b[0m\u001b[0;34m.\u001b[0m\u001b[0mlistdir\u001b[0m\u001b[0;34m(\u001b[0m\u001b[0;34m'drive/My'\u001b[0m\u001b[0;34m)\u001b[0m\u001b[0;34m\u001b[0m\u001b[0;34m\u001b[0m\u001b[0m\n\u001b[0m",
            "\u001b[0;31mFileNotFoundError\u001b[0m: [Errno 2] No such file or directory: 'drive/My'"
          ]
        }
      ]
    },
    {
      "cell_type": "code",
      "metadata": {
        "id": "WdikSHysn1Er",
        "colab": {
          "base_uri": "https://localhost:8080/"
        },
        "outputId": "70504b7a-b771-443d-def1-b43e0ee51c14"
      },
      "source": [
        "from google.colab import drive\n",
        "drive.mount('/content/drive')"
      ],
      "execution_count": null,
      "outputs": [
        {
          "output_type": "stream",
          "text": [
            "Drive already mounted at /content/drive; to attempt to forcibly remount, call drive.mount(\"/content/drive\", force_remount=True).\n"
          ],
          "name": "stdout"
        }
      ]
    },
    {
      "cell_type": "code",
      "metadata": {
        "colab": {
          "base_uri": "https://localhost:8080/"
        },
        "id": "VXwnIOovoB8q",
        "outputId": "d7fb5a8a-ede1-44d2-c357-902c30c8e64c"
      },
      "source": [
        "df = pd.read_csv('/content/drive/MyDrive/fastcampus/MachineLearning_300/Part 2 - 머신러닝 회귀 모델/Chapter 1 - 자동으로 모은 데이터는 분석하기 어렵다면서_ 자동으로 모은 중고 자동차 데이터를 분석해보자!/vehicles.csv')\n",
        "df.shape"
      ],
      "execution_count": null,
      "outputs": [
        {
          "output_type": "execute_result",
          "data": {
            "text/plain": [
              "(458213, 26)"
            ]
          },
          "metadata": {
            "tags": []
          },
          "execution_count": 3
        }
      ]
    },
    {
      "cell_type": "code",
      "metadata": {
        "colab": {
          "base_uri": "https://localhost:8080/",
          "height": 518
        },
        "id": "AGW9qKEqoTe6",
        "outputId": "6ab8da3a-dfc0-4dd2-951d-0447f8eeee8f"
      },
      "source": [
        "df.head()"
      ],
      "execution_count": null,
      "outputs": [
        {
          "output_type": "execute_result",
          "data": {
            "text/html": [
              "<div>\n",
              "<style scoped>\n",
              "    .dataframe tbody tr th:only-of-type {\n",
              "        vertical-align: middle;\n",
              "    }\n",
              "\n",
              "    .dataframe tbody tr th {\n",
              "        vertical-align: top;\n",
              "    }\n",
              "\n",
              "    .dataframe thead th {\n",
              "        text-align: right;\n",
              "    }\n",
              "</style>\n",
              "<table border=\"1\" class=\"dataframe\">\n",
              "  <thead>\n",
              "    <tr style=\"text-align: right;\">\n",
              "      <th></th>\n",
              "      <th>Unnamed: 0</th>\n",
              "      <th>id</th>\n",
              "      <th>url</th>\n",
              "      <th>region</th>\n",
              "      <th>region_url</th>\n",
              "      <th>price</th>\n",
              "      <th>year</th>\n",
              "      <th>manufacturer</th>\n",
              "      <th>model</th>\n",
              "      <th>condition</th>\n",
              "      <th>cylinders</th>\n",
              "      <th>fuel</th>\n",
              "      <th>odometer</th>\n",
              "      <th>title_status</th>\n",
              "      <th>transmission</th>\n",
              "      <th>VIN</th>\n",
              "      <th>drive</th>\n",
              "      <th>size</th>\n",
              "      <th>type</th>\n",
              "      <th>paint_color</th>\n",
              "      <th>image_url</th>\n",
              "      <th>description</th>\n",
              "      <th>state</th>\n",
              "      <th>lat</th>\n",
              "      <th>long</th>\n",
              "      <th>posting_date</th>\n",
              "    </tr>\n",
              "  </thead>\n",
              "  <tbody>\n",
              "    <tr>\n",
              "      <th>0</th>\n",
              "      <td>0</td>\n",
              "      <td>7240372487</td>\n",
              "      <td>https://auburn.craigslist.org/ctd/d/auburn-uni...</td>\n",
              "      <td>auburn</td>\n",
              "      <td>https://auburn.craigslist.org</td>\n",
              "      <td>35990</td>\n",
              "      <td>2010.0</td>\n",
              "      <td>chevrolet</td>\n",
              "      <td>corvette grand sport</td>\n",
              "      <td>good</td>\n",
              "      <td>8 cylinders</td>\n",
              "      <td>gas</td>\n",
              "      <td>32742.0</td>\n",
              "      <td>clean</td>\n",
              "      <td>other</td>\n",
              "      <td>1G1YU3DW1A5106980</td>\n",
              "      <td>rwd</td>\n",
              "      <td>NaN</td>\n",
              "      <td>other</td>\n",
              "      <td>NaN</td>\n",
              "      <td>https://images.craigslist.org/00N0N_ipkbHVZYf4...</td>\n",
              "      <td>Carvana is the safer way to buy a car During t...</td>\n",
              "      <td>al</td>\n",
              "      <td>32.590000</td>\n",
              "      <td>-85.480000</td>\n",
              "      <td>2020-12-02T08:11:30-0600</td>\n",
              "    </tr>\n",
              "    <tr>\n",
              "      <th>1</th>\n",
              "      <td>1</td>\n",
              "      <td>7240309422</td>\n",
              "      <td>https://auburn.craigslist.org/cto/d/auburn-201...</td>\n",
              "      <td>auburn</td>\n",
              "      <td>https://auburn.craigslist.org</td>\n",
              "      <td>7500</td>\n",
              "      <td>2014.0</td>\n",
              "      <td>hyundai</td>\n",
              "      <td>sonata</td>\n",
              "      <td>excellent</td>\n",
              "      <td>4 cylinders</td>\n",
              "      <td>gas</td>\n",
              "      <td>93600.0</td>\n",
              "      <td>clean</td>\n",
              "      <td>automatic</td>\n",
              "      <td>5NPEC4AB0EH813529</td>\n",
              "      <td>fwd</td>\n",
              "      <td>NaN</td>\n",
              "      <td>sedan</td>\n",
              "      <td>NaN</td>\n",
              "      <td>https://images.craigslist.org/00s0s_gBHYmJ5o7y...</td>\n",
              "      <td>I'll move to another city and try to sell my c...</td>\n",
              "      <td>al</td>\n",
              "      <td>32.547500</td>\n",
              "      <td>-85.468200</td>\n",
              "      <td>2020-12-02T02:11:50-0600</td>\n",
              "    </tr>\n",
              "    <tr>\n",
              "      <th>2</th>\n",
              "      <td>2</td>\n",
              "      <td>7240224296</td>\n",
              "      <td>https://auburn.craigslist.org/cto/d/auburn-200...</td>\n",
              "      <td>auburn</td>\n",
              "      <td>https://auburn.craigslist.org</td>\n",
              "      <td>4900</td>\n",
              "      <td>2006.0</td>\n",
              "      <td>bmw</td>\n",
              "      <td>x3 3.0i</td>\n",
              "      <td>good</td>\n",
              "      <td>6 cylinders</td>\n",
              "      <td>gas</td>\n",
              "      <td>87046.0</td>\n",
              "      <td>clean</td>\n",
              "      <td>automatic</td>\n",
              "      <td>NaN</td>\n",
              "      <td>NaN</td>\n",
              "      <td>NaN</td>\n",
              "      <td>SUV</td>\n",
              "      <td>blue</td>\n",
              "      <td>https://images.craigslist.org/00B0B_5zgEGWPOrt...</td>\n",
              "      <td>Clean 2006 BMW X3 3.0I.  Beautiful and rare Bl...</td>\n",
              "      <td>al</td>\n",
              "      <td>32.616807</td>\n",
              "      <td>-85.464149</td>\n",
              "      <td>2020-12-01T19:50:41-0600</td>\n",
              "    </tr>\n",
              "    <tr>\n",
              "      <th>3</th>\n",
              "      <td>3</td>\n",
              "      <td>7240103965</td>\n",
              "      <td>https://auburn.craigslist.org/cto/d/lanett-tru...</td>\n",
              "      <td>auburn</td>\n",
              "      <td>https://auburn.craigslist.org</td>\n",
              "      <td>2000</td>\n",
              "      <td>1974.0</td>\n",
              "      <td>chevrolet</td>\n",
              "      <td>c-10</td>\n",
              "      <td>good</td>\n",
              "      <td>4 cylinders</td>\n",
              "      <td>gas</td>\n",
              "      <td>190000.0</td>\n",
              "      <td>clean</td>\n",
              "      <td>automatic</td>\n",
              "      <td>NaN</td>\n",
              "      <td>rwd</td>\n",
              "      <td>full-size</td>\n",
              "      <td>pickup</td>\n",
              "      <td>blue</td>\n",
              "      <td>https://images.craigslist.org/00M0M_6o7KcDpArw...</td>\n",
              "      <td>1974 chev. truck (LONG BED) NEW starter front ...</td>\n",
              "      <td>al</td>\n",
              "      <td>32.861600</td>\n",
              "      <td>-85.216100</td>\n",
              "      <td>2020-12-01T15:54:45-0600</td>\n",
              "    </tr>\n",
              "    <tr>\n",
              "      <th>4</th>\n",
              "      <td>4</td>\n",
              "      <td>7239983776</td>\n",
              "      <td>https://auburn.craigslist.org/cto/d/auburn-200...</td>\n",
              "      <td>auburn</td>\n",
              "      <td>https://auburn.craigslist.org</td>\n",
              "      <td>19500</td>\n",
              "      <td>2005.0</td>\n",
              "      <td>ford</td>\n",
              "      <td>f350 lariat</td>\n",
              "      <td>excellent</td>\n",
              "      <td>8 cylinders</td>\n",
              "      <td>diesel</td>\n",
              "      <td>116000.0</td>\n",
              "      <td>lien</td>\n",
              "      <td>automatic</td>\n",
              "      <td>NaN</td>\n",
              "      <td>4wd</td>\n",
              "      <td>full-size</td>\n",
              "      <td>pickup</td>\n",
              "      <td>blue</td>\n",
              "      <td>https://images.craigslist.org/00p0p_b95l1EgUfl...</td>\n",
              "      <td>2005 Ford F350 Lariat (Bullet Proofed). This t...</td>\n",
              "      <td>al</td>\n",
              "      <td>32.547500</td>\n",
              "      <td>-85.468200</td>\n",
              "      <td>2020-12-01T12:53:56-0600</td>\n",
              "    </tr>\n",
              "  </tbody>\n",
              "</table>\n",
              "</div>"
            ],
            "text/plain": [
              "   Unnamed: 0          id  ...       long              posting_date\n",
              "0           0  7240372487  ... -85.480000  2020-12-02T08:11:30-0600\n",
              "1           1  7240309422  ... -85.468200  2020-12-02T02:11:50-0600\n",
              "2           2  7240224296  ... -85.464149  2020-12-01T19:50:41-0600\n",
              "3           3  7240103965  ... -85.216100  2020-12-01T15:54:45-0600\n",
              "4           4  7239983776  ... -85.468200  2020-12-01T12:53:56-0600\n",
              "\n",
              "[5 rows x 26 columns]"
            ]
          },
          "metadata": {
            "tags": []
          },
          "execution_count": 4
        }
      ]
    },
    {
      "cell_type": "code",
      "metadata": {
        "colab": {
          "base_uri": "https://localhost:8080/",
          "height": 282
        },
        "id": "rch99BIFsf54",
        "outputId": "55f644bd-d699-4776-be25-8ebf3c584197"
      },
      "source": [
        "df.describe()"
      ],
      "execution_count": null,
      "outputs": [
        {
          "output_type": "execute_result",
          "data": {
            "text/html": [
              "<div>\n",
              "<style scoped>\n",
              "    .dataframe tbody tr th:only-of-type {\n",
              "        vertical-align: middle;\n",
              "    }\n",
              "\n",
              "    .dataframe tbody tr th {\n",
              "        vertical-align: top;\n",
              "    }\n",
              "\n",
              "    .dataframe thead th {\n",
              "        text-align: right;\n",
              "    }\n",
              "</style>\n",
              "<table border=\"1\" class=\"dataframe\">\n",
              "  <thead>\n",
              "    <tr style=\"text-align: right;\">\n",
              "      <th></th>\n",
              "      <th>Unnamed: 0</th>\n",
              "      <th>id</th>\n",
              "      <th>price</th>\n",
              "      <th>year</th>\n",
              "      <th>odometer</th>\n",
              "      <th>lat</th>\n",
              "      <th>long</th>\n",
              "    </tr>\n",
              "  </thead>\n",
              "  <tbody>\n",
              "    <tr>\n",
              "      <th>count</th>\n",
              "      <td>458213.000000</td>\n",
              "      <td>4.582130e+05</td>\n",
              "      <td>4.582130e+05</td>\n",
              "      <td>457163.000000</td>\n",
              "      <td>4.029100e+05</td>\n",
              "      <td>450765.000000</td>\n",
              "      <td>450765.000000</td>\n",
              "    </tr>\n",
              "    <tr>\n",
              "      <th>mean</th>\n",
              "      <td>229106.000000</td>\n",
              "      <td>7.235233e+09</td>\n",
              "      <td>4.042093e+04</td>\n",
              "      <td>2010.746067</td>\n",
              "      <td>1.016698e+05</td>\n",
              "      <td>38.531925</td>\n",
              "      <td>-94.375824</td>\n",
              "    </tr>\n",
              "    <tr>\n",
              "      <th>std</th>\n",
              "      <td>132274.843786</td>\n",
              "      <td>4.594362e+06</td>\n",
              "      <td>8.194599e+06</td>\n",
              "      <td>8.868136</td>\n",
              "      <td>3.228623e+06</td>\n",
              "      <td>5.857378</td>\n",
              "      <td>18.076225</td>\n",
              "    </tr>\n",
              "    <tr>\n",
              "      <th>min</th>\n",
              "      <td>0.000000</td>\n",
              "      <td>7.208550e+09</td>\n",
              "      <td>0.000000e+00</td>\n",
              "      <td>1900.000000</td>\n",
              "      <td>0.000000e+00</td>\n",
              "      <td>-82.607549</td>\n",
              "      <td>-164.091797</td>\n",
              "    </tr>\n",
              "    <tr>\n",
              "      <th>25%</th>\n",
              "      <td>114553.000000</td>\n",
              "      <td>7.231953e+09</td>\n",
              "      <td>4.900000e+03</td>\n",
              "      <td>2008.000000</td>\n",
              "      <td>4.087700e+04</td>\n",
              "      <td>34.600000</td>\n",
              "      <td>-110.890427</td>\n",
              "    </tr>\n",
              "    <tr>\n",
              "      <th>50%</th>\n",
              "      <td>229106.000000</td>\n",
              "      <td>7.236409e+09</td>\n",
              "      <td>1.099500e+04</td>\n",
              "      <td>2013.000000</td>\n",
              "      <td>8.764100e+04</td>\n",
              "      <td>39.244500</td>\n",
              "      <td>-88.314889</td>\n",
              "    </tr>\n",
              "    <tr>\n",
              "      <th>75%</th>\n",
              "      <td>343659.000000</td>\n",
              "      <td>7.239321e+09</td>\n",
              "      <td>2.149500e+04</td>\n",
              "      <td>2016.000000</td>\n",
              "      <td>1.340000e+05</td>\n",
              "      <td>42.484503</td>\n",
              "      <td>-81.015022</td>\n",
              "    </tr>\n",
              "    <tr>\n",
              "      <th>max</th>\n",
              "      <td>458212.000000</td>\n",
              "      <td>7.241019e+09</td>\n",
              "      <td>3.615215e+09</td>\n",
              "      <td>2021.000000</td>\n",
              "      <td>2.043756e+09</td>\n",
              "      <td>82.049255</td>\n",
              "      <td>150.898969</td>\n",
              "    </tr>\n",
              "  </tbody>\n",
              "</table>\n",
              "</div>"
            ],
            "text/plain": [
              "          Unnamed: 0            id  ...            lat           long\n",
              "count  458213.000000  4.582130e+05  ...  450765.000000  450765.000000\n",
              "mean   229106.000000  7.235233e+09  ...      38.531925     -94.375824\n",
              "std    132274.843786  4.594362e+06  ...       5.857378      18.076225\n",
              "min         0.000000  7.208550e+09  ...     -82.607549    -164.091797\n",
              "25%    114553.000000  7.231953e+09  ...      34.600000    -110.890427\n",
              "50%    229106.000000  7.236409e+09  ...      39.244500     -88.314889\n",
              "75%    343659.000000  7.239321e+09  ...      42.484503     -81.015022\n",
              "max    458212.000000  7.241019e+09  ...      82.049255     150.898969\n",
              "\n",
              "[8 rows x 7 columns]"
            ]
          },
          "metadata": {
            "tags": []
          },
          "execution_count": 6
        }
      ]
    },
    {
      "cell_type": "code",
      "metadata": {
        "colab": {
          "base_uri": "https://localhost:8080/"
        },
        "id": "dT4gnOnIsjLw",
        "outputId": "3d4e835c-98c0-4d0a-8ed1-8c909400ac03"
      },
      "source": [
        "df.info()"
      ],
      "execution_count": null,
      "outputs": [
        {
          "output_type": "stream",
          "text": [
            "<class 'pandas.core.frame.DataFrame'>\n",
            "RangeIndex: 458213 entries, 0 to 458212\n",
            "Data columns (total 26 columns):\n",
            " #   Column        Non-Null Count   Dtype  \n",
            "---  ------        --------------   -----  \n",
            " 0   Unnamed: 0    458213 non-null  int64  \n",
            " 1   id            458213 non-null  int64  \n",
            " 2   url           458213 non-null  object \n",
            " 3   region        458213 non-null  object \n",
            " 4   region_url    458213 non-null  object \n",
            " 5   price         458213 non-null  int64  \n",
            " 6   year          457163 non-null  float64\n",
            " 7   manufacturer  439993 non-null  object \n",
            " 8   model         453367 non-null  object \n",
            " 9   condition     265273 non-null  object \n",
            " 10  cylinders     287073 non-null  object \n",
            " 11  fuel          454976 non-null  object \n",
            " 12  odometer      402910 non-null  float64\n",
            " 13  title_status  455636 non-null  object \n",
            " 14  transmission  455771 non-null  object \n",
            " 15  VIN           270664 non-null  object \n",
            " 16  drive         324025 non-null  object \n",
            " 17  size          136865 non-null  object \n",
            " 18  type          345475 non-null  object \n",
            " 19  paint_color   317370 non-null  object \n",
            " 20  image_url     458185 non-null  object \n",
            " 21  description   458143 non-null  object \n",
            " 22  state         458213 non-null  object \n",
            " 23  lat           450765 non-null  float64\n",
            " 24  long          450765 non-null  float64\n",
            " 25  posting_date  458185 non-null  object \n",
            "dtypes: float64(4), int64(3), object(19)\n",
            "memory usage: 90.9+ MB\n"
          ],
          "name": "stdout"
        }
      ]
    },
    {
      "cell_type": "code",
      "metadata": {
        "colab": {
          "base_uri": "https://localhost:8080/"
        },
        "id": "EHc9X-L-s2nQ",
        "outputId": "d6ab1a85-9010-4a7a-c86e-4217db2cdfae"
      },
      "source": [
        "df.isna().sum()"
      ],
      "execution_count": null,
      "outputs": [
        {
          "output_type": "execute_result",
          "data": {
            "text/plain": [
              "Unnamed: 0           0\n",
              "id                   0\n",
              "url                  0\n",
              "region               0\n",
              "region_url           0\n",
              "price                0\n",
              "year              1050\n",
              "manufacturer     18220\n",
              "model             4846\n",
              "condition       192940\n",
              "cylinders       171140\n",
              "fuel              3237\n",
              "odometer         55303\n",
              "title_status      2577\n",
              "transmission      2442\n",
              "VIN             187549\n",
              "drive           134188\n",
              "size            321348\n",
              "type            112738\n",
              "paint_color     140843\n",
              "image_url           28\n",
              "description         70\n",
              "state                0\n",
              "lat               7448\n",
              "long              7448\n",
              "posting_date        28\n",
              "dtype: int64"
            ]
          },
          "metadata": {
            "tags": []
          },
          "execution_count": 5
        }
      ]
    },
    {
      "cell_type": "code",
      "metadata": {
        "id": "vJXF_eufqCEc"
      },
      "source": [
        "# 불필요한 컬럼제거하기\n",
        "# 'year' 컬럼을 'age' 컬럼으로 변경하기"
      ],
      "execution_count": null,
      "outputs": []
    },
    {
      "cell_type": "code",
      "metadata": {
        "colab": {
          "base_uri": "https://localhost:8080/"
        },
        "id": "sw8FRwJovIkY",
        "outputId": "dfd0391d-e9f3-409f-fac5-9e237080e4f7"
      },
      "source": [
        "df.columns"
      ],
      "execution_count": null,
      "outputs": [
        {
          "output_type": "execute_result",
          "data": {
            "text/plain": [
              "Index(['Unnamed: 0', 'id', 'url', 'region', 'region_url', 'price', 'year',\n",
              "       'manufacturer', 'model', 'condition', 'cylinders', 'fuel', 'odometer',\n",
              "       'title_status', 'transmission', 'VIN', 'drive', 'size', 'type',\n",
              "       'paint_color', 'image_url', 'description', 'state', 'lat', 'long',\n",
              "       'posting_date'],\n",
              "      dtype='object')"
            ]
          },
          "metadata": {
            "tags": []
          },
          "execution_count": 33
        }
      ]
    },
    {
      "cell_type": "code",
      "metadata": {
        "id": "oqoRrAwXu7_u"
      },
      "source": [
        "df.drop([\n",
        "        'Unnamed: 0', 'id', 'url', 'region_url', \n",
        "       'VIN', 'image_url', 'description', 'state', 'lat', 'long',\n",
        "       'posting_date' \n",
        "], axis = 1, inplace = True)"
      ],
      "execution_count": null,
      "outputs": []
    },
    {
      "cell_type": "code",
      "metadata": {
        "id": "4tv0U0Jjv41w"
      },
      "source": [
        "df['age'] = 2021 - df['year']\n",
        "df.drop('year', axis=1, inplace=True)"
      ],
      "execution_count": null,
      "outputs": []
    },
    {
      "cell_type": "code",
      "metadata": {
        "colab": {
          "base_uri": "https://localhost:8080/",
          "height": 194
        },
        "id": "1pTR6pbDwEQX",
        "outputId": "6efd3c34-78f8-4693-c8d6-9762cec28e76"
      },
      "source": [
        " df.head()"
      ],
      "execution_count": null,
      "outputs": [
        {
          "output_type": "execute_result",
          "data": {
            "text/html": [
              "<div>\n",
              "<style scoped>\n",
              "    .dataframe tbody tr th:only-of-type {\n",
              "        vertical-align: middle;\n",
              "    }\n",
              "\n",
              "    .dataframe tbody tr th {\n",
              "        vertical-align: top;\n",
              "    }\n",
              "\n",
              "    .dataframe thead th {\n",
              "        text-align: right;\n",
              "    }\n",
              "</style>\n",
              "<table border=\"1\" class=\"dataframe\">\n",
              "  <thead>\n",
              "    <tr style=\"text-align: right;\">\n",
              "      <th></th>\n",
              "      <th>region</th>\n",
              "      <th>price</th>\n",
              "      <th>manufacturer</th>\n",
              "      <th>model</th>\n",
              "      <th>condition</th>\n",
              "      <th>cylinders</th>\n",
              "      <th>fuel</th>\n",
              "      <th>odometer</th>\n",
              "      <th>title_status</th>\n",
              "      <th>transmission</th>\n",
              "      <th>drive</th>\n",
              "      <th>size</th>\n",
              "      <th>type</th>\n",
              "      <th>paint_color</th>\n",
              "      <th>age</th>\n",
              "    </tr>\n",
              "  </thead>\n",
              "  <tbody>\n",
              "    <tr>\n",
              "      <th>0</th>\n",
              "      <td>auburn</td>\n",
              "      <td>35990</td>\n",
              "      <td>chevrolet</td>\n",
              "      <td>corvette grand sport</td>\n",
              "      <td>good</td>\n",
              "      <td>8 cylinders</td>\n",
              "      <td>gas</td>\n",
              "      <td>32742.0</td>\n",
              "      <td>clean</td>\n",
              "      <td>other</td>\n",
              "      <td>rwd</td>\n",
              "      <td>NaN</td>\n",
              "      <td>other</td>\n",
              "      <td>NaN</td>\n",
              "      <td>11.0</td>\n",
              "    </tr>\n",
              "    <tr>\n",
              "      <th>1</th>\n",
              "      <td>auburn</td>\n",
              "      <td>7500</td>\n",
              "      <td>hyundai</td>\n",
              "      <td>sonata</td>\n",
              "      <td>excellent</td>\n",
              "      <td>4 cylinders</td>\n",
              "      <td>gas</td>\n",
              "      <td>93600.0</td>\n",
              "      <td>clean</td>\n",
              "      <td>automatic</td>\n",
              "      <td>fwd</td>\n",
              "      <td>NaN</td>\n",
              "      <td>sedan</td>\n",
              "      <td>NaN</td>\n",
              "      <td>7.0</td>\n",
              "    </tr>\n",
              "    <tr>\n",
              "      <th>2</th>\n",
              "      <td>auburn</td>\n",
              "      <td>4900</td>\n",
              "      <td>bmw</td>\n",
              "      <td>x3 3.0i</td>\n",
              "      <td>good</td>\n",
              "      <td>6 cylinders</td>\n",
              "      <td>gas</td>\n",
              "      <td>87046.0</td>\n",
              "      <td>clean</td>\n",
              "      <td>automatic</td>\n",
              "      <td>NaN</td>\n",
              "      <td>NaN</td>\n",
              "      <td>SUV</td>\n",
              "      <td>blue</td>\n",
              "      <td>15.0</td>\n",
              "    </tr>\n",
              "    <tr>\n",
              "      <th>3</th>\n",
              "      <td>auburn</td>\n",
              "      <td>2000</td>\n",
              "      <td>chevrolet</td>\n",
              "      <td>c-10</td>\n",
              "      <td>good</td>\n",
              "      <td>4 cylinders</td>\n",
              "      <td>gas</td>\n",
              "      <td>190000.0</td>\n",
              "      <td>clean</td>\n",
              "      <td>automatic</td>\n",
              "      <td>rwd</td>\n",
              "      <td>full-size</td>\n",
              "      <td>pickup</td>\n",
              "      <td>blue</td>\n",
              "      <td>47.0</td>\n",
              "    </tr>\n",
              "    <tr>\n",
              "      <th>4</th>\n",
              "      <td>auburn</td>\n",
              "      <td>19500</td>\n",
              "      <td>ford</td>\n",
              "      <td>f350 lariat</td>\n",
              "      <td>excellent</td>\n",
              "      <td>8 cylinders</td>\n",
              "      <td>diesel</td>\n",
              "      <td>116000.0</td>\n",
              "      <td>lien</td>\n",
              "      <td>automatic</td>\n",
              "      <td>4wd</td>\n",
              "      <td>full-size</td>\n",
              "      <td>pickup</td>\n",
              "      <td>blue</td>\n",
              "      <td>16.0</td>\n",
              "    </tr>\n",
              "  </tbody>\n",
              "</table>\n",
              "</div>"
            ],
            "text/plain": [
              "   region  price manufacturer  ...    type paint_color   age\n",
              "0  auburn  35990    chevrolet  ...   other         NaN  11.0\n",
              "1  auburn   7500      hyundai  ...   sedan         NaN   7.0\n",
              "2  auburn   4900          bmw  ...     SUV        blue  15.0\n",
              "3  auburn   2000    chevrolet  ...  pickup        blue  47.0\n",
              "4  auburn  19500         ford  ...  pickup        blue  16.0\n",
              "\n",
              "[5 rows x 15 columns]"
            ]
          },
          "metadata": {
            "tags": []
          },
          "execution_count": 10
        }
      ]
    },
    {
      "cell_type": "markdown",
      "metadata": {
        "id": "CcCr3pQdwcE3"
      },
      "source": [
        "### 범주형 데이터 통계분석하기"
      ]
    },
    {
      "cell_type": "code",
      "metadata": {
        "colab": {
          "base_uri": "https://localhost:8080/"
        },
        "id": "yK_g8SzTwFUN",
        "outputId": "33811a47-927e-49e5-e5f1-b53cf8228991"
      },
      "source": [
        "df.columns"
      ],
      "execution_count": null,
      "outputs": [
        {
          "output_type": "execute_result",
          "data": {
            "text/plain": [
              "Index(['region', 'price', 'manufacturer', 'model', 'condition', 'cylinders',\n",
              "       'fuel', 'odometer', 'title_status', 'transmission', 'drive', 'size',\n",
              "       'type', 'paint_color', 'age'],\n",
              "      dtype='object')"
            ]
          },
          "metadata": {
            "tags": []
          },
          "execution_count": 9
        }
      ]
    },
    {
      "cell_type": "code",
      "metadata": {
        "colab": {
          "base_uri": "https://localhost:8080/"
        },
        "id": "ane6YUT-wg6j",
        "outputId": "579e7919-c3c2-45d0-d1a8-383ce092a04f"
      },
      "source": [
        "# 범주형 데이터 값의 범위 및 기초 통계분석\n",
        "\n",
        "# 총 제조사는 몇개냐 ??\n",
        "len(df['manufacturer'].value_counts())"
      ],
      "execution_count": null,
      "outputs": [
        {
          "output_type": "execute_result",
          "data": {
            "text/plain": [
              "43"
            ]
          },
          "metadata": {
            "tags": []
          },
          "execution_count": 11
        }
      ]
    },
    {
      "cell_type": "code",
      "metadata": {
        "id": "FAvPhG1cwpNK"
      },
      "source": [
        "df['manufacturer'].value_counts()"
      ],
      "execution_count": null,
      "outputs": []
    },
    {
      "cell_type": "code",
      "metadata": {
        "colab": {
          "base_uri": "https://localhost:8080/",
          "height": 297
        },
        "id": "ItgL1oUIwxfY",
        "outputId": "c5f7f564-3c94-4d5a-a67a-0cc0d960e2ac"
      },
      "source": [
        "# 분포는 countplot을 이용하자\n",
        "\n",
        "sns.countplot(x = 'manufacturer', data=df.fillna('n/a'))\n",
        "\n",
        "# order가 없으면 난잡함 어떤게 많은지 분간이안됨"
      ],
      "execution_count": null,
      "outputs": [
        {
          "output_type": "execute_result",
          "data": {
            "text/plain": [
              "<matplotlib.axes._subplots.AxesSubplot at 0x7feeee7d5cd0>"
            ]
          },
          "metadata": {
            "tags": []
          },
          "execution_count": 20
        },
        {
          "output_type": "display_data",
          "data": {
            "image/png": "[encoded data removed]",
            "text/plain": [
              "<Figure size 432x288 with 1 Axes>"
            ]
          },
          "metadata": {
            "tags": [],
            "needs_background": "light"
          }
        }
      ]
    },
    {
      "cell_type": "code",
      "metadata": {
        "colab": {
          "base_uri": "https://localhost:8080/",
          "height": 297
        },
        "id": "YXJrEnd2xHgD",
        "outputId": "119a8318-1fcb-4d68-e198-44044bca754f"
      },
      "source": [
        "sns.countplot(x = 'manufacturer', data=df.fillna('n/a'), order= df.fillna('n/a')['manufacturer'].value_counts().index)"
      ],
      "execution_count": null,
      "outputs": [
        {
          "output_type": "execute_result",
          "data": {
            "text/plain": [
              "<matplotlib.axes._subplots.AxesSubplot at 0x7feeef43bd90>"
            ]
          },
          "metadata": {
            "tags": []
          },
          "execution_count": 21
        },
        {
          "output_type": "display_data",
          "data": {
            "image/png": "[encoded data removed]",
            "text/plain": [
              "<Figure size 432x288 with 1 Axes>"
            ]
          },
          "metadata": {
            "tags": [],
            "needs_background": "light"
          }
        }
      ]
    },
    {
      "cell_type": "code",
      "metadata": {
        "colab": {
          "base_uri": "https://localhost:8080/",
          "height": 515
        },
        "id": "dDIRszAMxbUi",
        "outputId": "796b8251-559c-48d5-8375-911d581dcef4"
      },
      "source": [
        "# 어우 너무 많다 y축으로 바꾸자\n",
        "plt.figure(figsize=(10,8))\n",
        "sns.countplot(y = 'manufacturer', data=df.fillna('n/a'), order= df.fillna('n/a')['manufacturer'].value_counts().index)"
      ],
      "execution_count": null,
      "outputs": [
        {
          "output_type": "execute_result",
          "data": {
            "text/plain": [
              "<matplotlib.axes._subplots.AxesSubplot at 0x7feeec933610>"
            ]
          },
          "metadata": {
            "tags": []
          },
          "execution_count": 25
        },
        {
          "output_type": "display_data",
          "data": {
            "image/png": "[encoded data removed]",
            "text/plain": [
              "<Figure size 720x576 with 1 Axes>"
            ]
          },
          "metadata": {
            "tags": [],
            "needs_background": "light"
          }
        }
      ]
    },
    {
      "cell_type": "code",
      "metadata": {
        "colab": {
          "base_uri": "https://localhost:8080/"
        },
        "id": "wtkhEsGgx_Hp",
        "outputId": "a4b1dad3-7ffc-4799-873d-e2c99e8ba597"
      },
      "source": [
        "df.columns"
      ],
      "execution_count": null,
      "outputs": [
        {
          "output_type": "execute_result",
          "data": {
            "text/plain": [
              "Index(['region', 'price', 'manufacturer', 'model', 'condition', 'cylinders',\n",
              "       'fuel', 'odometer', 'title_status', 'transmission', 'drive', 'size',\n",
              "       'type', 'paint_color', 'age'],\n",
              "      dtype='object')"
            ]
          },
          "metadata": {
            "tags": []
          },
          "execution_count": 26
        }
      ]
    },
    {
      "cell_type": "code",
      "metadata": {
        "colab": {
          "base_uri": "https://localhost:8080/"
        },
        "id": "gTvJk_ShyCCo",
        "outputId": "f31e17b8-df7e-4977-9e66-442bb38dce3f"
      },
      "source": [
        "# 모델의 수를 파악해보자\n",
        "len(df['model'].value_counts())\n",
        "\n",
        "# 어마어마하게 많구만"
      ],
      "execution_count": null,
      "outputs": [
        {
          "output_type": "execute_result",
          "data": {
            "text/plain": [
              "31520"
            ]
          },
          "metadata": {
            "tags": []
          },
          "execution_count": 27
        }
      ]
    },
    {
      "cell_type": "code",
      "metadata": {
        "id": "k3L0BSf7yTDz"
      },
      "source": [
        "for model, num in zip(df['model'].value_counts().index, df['model'].value_counts()) :\n",
        "  print(model, num)"
      ],
      "execution_count": null,
      "outputs": []
    },
    {
      "cell_type": "code",
      "metadata": {
        "colab": {
          "base_uri": "https://localhost:8080/",
          "height": 52
        },
        "id": "-PjxXhlwxh-E",
        "outputId": "d6812368-7673-49c3-a631-aa9470491c51"
      },
      "source": [
        "plt.figure(figsize=(10,8))\n",
        "#sns.countplot(y = 'model', data=df.fillna('n/a'), order= df.fillna('n/a')['model'].value_counts().index)\n",
        "\n",
        "# 얘는 메모리문제로 볼수가엄서용"
      ],
      "execution_count": null,
      "outputs": [
        {
          "output_type": "execute_result",
          "data": {
            "text/plain": [
              "<Figure size 720x576 with 0 Axes>"
            ]
          },
          "metadata": {
            "tags": []
          },
          "execution_count": 32
        },
        {
          "output_type": "display_data",
          "data": {
            "text/plain": [
              "<Figure size 720x576 with 0 Axes>"
            ]
          },
          "metadata": {
            "tags": []
          }
        }
      ]
    },
    {
      "cell_type": "code",
      "metadata": {
        "colab": {
          "base_uri": "https://localhost:8080/",
          "height": 515
        },
        "id": "zGjRE77ky7Mc",
        "outputId": "23579df5-3ba4-4fca-b6bb-7f8c6bcf08c3"
      },
      "source": [
        "# 컨디션을 볼까\n",
        "\n",
        "plt.figure(figsize=(10,8))\n",
        "sns.countplot(y = 'condition' , data=df.fillna('n/a'), order= df.fillna('n/a')['condition'].value_counts().index)"
      ],
      "execution_count": null,
      "outputs": [
        {
          "output_type": "execute_result",
          "data": {
            "text/plain": [
              "<matplotlib.axes._subplots.AxesSubplot at 0x7feecea0b610>"
            ]
          },
          "metadata": {
            "tags": []
          },
          "execution_count": 34
        },
        {
          "output_type": "display_data",
          "data": {
            "image/png": "[encoded data removed]",
            "text/plain": [
              "<Figure size 720x576 with 1 Axes>"
            ]
          },
          "metadata": {
            "tags": [],
            "needs_background": "light"
          }
        }
      ]
    },
    {
      "cell_type": "code",
      "metadata": {
        "colab": {
          "base_uri": "https://localhost:8080/",
          "height": 515
        },
        "id": "oyZG1QV8zh6Y",
        "outputId": "962253d5-047b-4e42-b0ec-6f1cda1ef46f"
      },
      "source": [
        "# 이번엔 실린더\n",
        "\n",
        "plt.figure(figsize=(10,8))\n",
        "sns.countplot(y = 'cylinders' , data=df.fillna('n/a'), order= df.fillna('n/a')['cylinders'].value_counts().index)"
      ],
      "execution_count": null,
      "outputs": [
        {
          "output_type": "execute_result",
          "data": {
            "text/plain": [
              "<matplotlib.axes._subplots.AxesSubplot at 0x7feec3058390>"
            ]
          },
          "metadata": {
            "tags": []
          },
          "execution_count": 36
        },
        {
          "output_type": "display_data",
          "data": {
            "image/png": "[encoded data removed]",
            "text/plain": [
              "<Figure size 720x576 with 1 Axes>"
            ]
          },
          "metadata": {
            "tags": [],
            "needs_background": "light"
          }
        }
      ]
    },
    {
      "cell_type": "code",
      "metadata": {
        "colab": {
          "base_uri": "https://localhost:8080/",
          "height": 515
        },
        "id": "VjcqEnKj0sUW",
        "outputId": "ee31aa91-be3b-44f8-bd57-778e092a34ac"
      },
      "source": [
        "# 이번엔 연료\n",
        "plt.figure(figsize=(10,8))\n",
        "sns.countplot(y = 'fuel' , data=df.fillna('n/a'), order= df.fillna('n/a')['fuel'].value_counts().index)\n"
      ],
      "execution_count": null,
      "outputs": [
        {
          "output_type": "execute_result",
          "data": {
            "text/plain": [
              "<matplotlib.axes._subplots.AxesSubplot at 0x7feec3091c10>"
            ]
          },
          "metadata": {
            "tags": []
          },
          "execution_count": 37
        },
        {
          "output_type": "display_data",
          "data": {
            "image/png": "[encoded data removed]",
            "text/plain": [
              "<Figure size 720x576 with 1 Axes>"
            ]
          },
          "metadata": {
            "tags": [],
            "needs_background": "light"
          }
        }
      ]
    },
    {
      "cell_type": "code",
      "metadata": {
        "colab": {
          "base_uri": "https://localhost:8080/",
          "height": 515
        },
        "id": "GhAaZ6xQ020X",
        "outputId": "6fab1246-6489-4e21-f22c-d868cd5adb7d"
      },
      "source": [
        "plt.figure(figsize=(10,8))\n",
        "sns.countplot(y = 'transmission' , data=df.fillna('n/a'), order= df.fillna('n/a')['transmission'].value_counts().index)"
      ],
      "execution_count": null,
      "outputs": [
        {
          "output_type": "execute_result",
          "data": {
            "text/plain": [
              "<matplotlib.axes._subplots.AxesSubplot at 0x7feec1a83ed0>"
            ]
          },
          "metadata": {
            "tags": []
          },
          "execution_count": 42
        },
        {
          "output_type": "display_data",
          "data": {
            "image/png": "[encoded data removed]",
            "text/plain": [
              "<Figure size 720x576 with 1 Axes>"
            ]
          },
          "metadata": {
            "tags": [],
            "needs_background": "light"
          }
        }
      ]
    },
    {
      "cell_type": "code",
      "metadata": {
        "colab": {
          "base_uri": "https://localhost:8080/",
          "height": 515
        },
        "id": "WjWI_LSt1Idq",
        "outputId": "0e3df409-f3a5-4f7d-fcf0-2992599a2599"
      },
      "source": [
        "plt.figure(figsize=(10,8))\n",
        "sns.countplot(y = 'drive' , data=df.fillna('n/a'), order= df.fillna('n/a')['drive'].value_counts().index)"
      ],
      "execution_count": null,
      "outputs": [
        {
          "output_type": "execute_result",
          "data": {
            "text/plain": [
              "<matplotlib.axes._subplots.AxesSubplot at 0x7feecebc1a50>"
            ]
          },
          "metadata": {
            "tags": []
          },
          "execution_count": 39
        },
        {
          "output_type": "display_data",
          "data": {
            "image/png": "[encoded data removed]",
            "text/plain": [
              "<Figure size 720x576 with 1 Axes>"
            ]
          },
          "metadata": {
            "tags": [],
            "needs_background": "light"
          }
        }
      ]
    },
    {
      "cell_type": "code",
      "metadata": {
        "colab": {
          "base_uri": "https://localhost:8080/",
          "height": 515
        },
        "id": "hPX9qWCs1Iay",
        "outputId": "3e31a9b3-ae46-4108-884c-9f61bc890441"
      },
      "source": [
        "plt.figure(figsize=(10,8))\n",
        "sns.countplot(y = 'size' , data=df.fillna('n/a'), order= df.fillna('n/a')['size'].value_counts().index)"
      ],
      "execution_count": null,
      "outputs": [
        {
          "output_type": "execute_result",
          "data": {
            "text/plain": [
              "<matplotlib.axes._subplots.AxesSubplot at 0x7feecebc1910>"
            ]
          },
          "metadata": {
            "tags": []
          },
          "execution_count": 40
        },
        {
          "output_type": "display_data",
          "data": {
            "image/png": "[encoded data removed]",
            "text/plain": [
              "<Figure size 720x576 with 1 Axes>"
            ]
          },
          "metadata": {
            "tags": [],
            "needs_background": "light"
          }
        }
      ]
    },
    {
      "cell_type": "code",
      "metadata": {
        "colab": {
          "base_uri": "https://localhost:8080/",
          "height": 515
        },
        "id": "6aZFQJW21jUx",
        "outputId": "143cf61f-9c14-447b-d48d-151b465b18f6"
      },
      "source": [
        "plt.figure(figsize=(10,8))\n",
        "sns.countplot(y = 'type' , data=df.fillna('n/a'), order= df.fillna('n/a')['type'].value_counts().index)"
      ],
      "execution_count": null,
      "outputs": [
        {
          "output_type": "execute_result",
          "data": {
            "text/plain": [
              "<matplotlib.axes._subplots.AxesSubplot at 0x7feec1a92dd0>"
            ]
          },
          "metadata": {
            "tags": []
          },
          "execution_count": 43
        },
        {
          "output_type": "display_data",
          "data": {
            "image/png": "[encoded data removed]",
            "text/plain": [
              "<Figure size 720x576 with 1 Axes>"
            ]
          },
          "metadata": {
            "tags": [],
            "needs_background": "light"
          }
        }
      ]
    },
    {
      "cell_type": "code",
      "metadata": {
        "colab": {
          "base_uri": "https://localhost:8080/",
          "height": 515
        },
        "id": "JUK0J45a1IYY",
        "outputId": "bc6cfa84-4ff4-450b-91cb-fd6db3554540"
      },
      "source": [
        "plt.figure(figsize=(10,8))\n",
        "sns.countplot(y = 'paint_color' , data=df.fillna('n/a'), order= df.fillna('n/a')['paint_color'].value_counts().index)"
      ],
      "execution_count": null,
      "outputs": [
        {
          "output_type": "execute_result",
          "data": {
            "text/plain": [
              "<matplotlib.axes._subplots.AxesSubplot at 0x7feec12da0d0>"
            ]
          },
          "metadata": {
            "tags": []
          },
          "execution_count": 41
        },
        {
          "output_type": "display_data",
          "data": {
            "image/png": "[encoded data removed]",
            "text/plain": [
              "<Figure size 720x576 with 1 Axes>"
            ]
          },
          "metadata": {
            "tags": [],
            "needs_background": "light"
          }
        }
      ]
    },
    {
      "cell_type": "markdown",
      "metadata": {
        "id": "P02jhL0g1sgp"
      },
      "source": [
        "### 수치형 데이터의 통계 분석하기"
      ]
    },
    {
      "cell_type": "code",
      "metadata": {
        "colab": {
          "base_uri": "https://localhost:8080/"
        },
        "id": "Hh8AinVi1VQm",
        "outputId": "4dc2831a-42ae-4d31-91f9-fc4c8e0034bd"
      },
      "source": [
        "df.columns"
      ],
      "execution_count": null,
      "outputs": [
        {
          "output_type": "execute_result",
          "data": {
            "text/plain": [
              "Index(['region', 'price', 'manufacturer', 'model', 'condition', 'cylinders',\n",
              "       'fuel', 'odometer', 'title_status', 'transmission', 'drive', 'size',\n",
              "       'type', 'paint_color', 'age'],\n",
              "      dtype='object')"
            ]
          },
          "metadata": {
            "tags": []
          },
          "execution_count": 44
        }
      ]
    },
    {
      "cell_type": "code",
      "metadata": {
        "colab": {
          "base_uri": "https://localhost:8080/",
          "height": 297
        },
        "id": "Z5DKNqct1vZi",
        "outputId": "669acc79-2177-4ce4-eed6-f522383e25bf"
      },
      "source": [
        "#sns.histplot(x = 'price', data=df)\n",
        "# 가격같은건 히스토그램으로 보려고하면 메모리 에러걸림\n",
        "\n",
        "# 그래서 박스플랏을 이용하자\n",
        "\n",
        "sns.boxplot(x='price', data=df)"
      ],
      "execution_count": null,
      "outputs": [
        {
          "output_type": "execute_result",
          "data": {
            "text/plain": [
              "<matplotlib.axes._subplots.AxesSubplot at 0x7feec0b42a90>"
            ]
          },
          "metadata": {
            "tags": []
          },
          "execution_count": 46
        },
        {
          "output_type": "display_data",
          "data": {
            "image/png": "[encoded data removed]",
            "text/plain": [
              "<Figure size 432x288 with 1 Axes>"
            ]
          },
          "metadata": {
            "tags": [],
            "needs_background": "light"
          }
        }
      ]
    },
    {
      "cell_type": "code",
      "metadata": {
        "colab": {
          "base_uri": "https://localhost:8080/",
          "height": 188
        },
        "id": "9YRYANgq2dNB",
        "outputId": "90cfe090-07e7-4801-f4dc-77422946f756"
      },
      "source": [
        "# 그래도 뭐 보이는게 없다 rug plot으로 봐보자\n",
        "\n",
        "plt.figure(figsize=(8,2))\n",
        "sns.rugplot(x = 'price', data= df, height= 1)"
      ],
      "execution_count": null,
      "outputs": [
        {
          "output_type": "execute_result",
          "data": {
            "text/plain": [
              "<matplotlib.axes._subplots.AxesSubplot at 0x7feeec6dffd0>"
            ]
          },
          "metadata": {
            "tags": []
          },
          "execution_count": 47
        },
        {
          "output_type": "display_data",
          "data": {
            "image/png": "[encoded data removed]",
            "text/plain": [
              "<Figure size 576x144 with 1 Axes>"
            ]
          },
          "metadata": {
            "tags": [],
            "needs_background": "light"
          }
        }
      ]
    },
    {
      "cell_type": "code",
      "metadata": {
        "colab": {
          "base_uri": "https://localhost:8080/",
          "height": 297
        },
        "id": "UCv6G3KV12gN",
        "outputId": "1904ab4d-09c6-47d0-b8e7-602c90d9c0be"
      },
      "source": [
        "# 얘도 아까 이상치가 하나 있었던걸로 보이기 때문에 rugplot을 실시한다\n",
        "sns.rugplot(x = 'odometer', data=df, height = 1)"
      ],
      "execution_count": null,
      "outputs": [
        {
          "output_type": "execute_result",
          "data": {
            "text/plain": [
              "<matplotlib.axes._subplots.AxesSubplot at 0x7feec0ea5a50>"
            ]
          },
          "metadata": {
            "tags": []
          },
          "execution_count": 48
        },
        {
          "output_type": "display_data",
          "data": {
            "image/png": "[encoded data removed]",
            "text/plain": [
              "<Figure size 432x288 with 1 Axes>"
            ]
          },
          "metadata": {
            "tags": [],
            "needs_background": "light"
          }
        }
      ]
    },
    {
      "cell_type": "code",
      "metadata": {
        "colab": {
          "base_uri": "https://localhost:8080/",
          "height": 515
        },
        "id": "UntPrQKg12d5",
        "outputId": "654b6dd7-fedd-419d-ef71-f3800e6353c3"
      },
      "source": [
        "plt.figure(figsize=(8,8))\n",
        "sns.histplot(x = 'age', data=df, bins = 20, kde = True)"
      ],
      "execution_count": null,
      "outputs": [
        {
          "output_type": "execute_result",
          "data": {
            "text/plain": [
              "<matplotlib.axes._subplots.AxesSubplot at 0x7fee9bdf0050>"
            ]
          },
          "metadata": {
            "tags": []
          },
          "execution_count": 58
        },
        {
          "output_type": "display_data",
          "data": {
            "image/png": "[encoded data removed]",
            "text/plain": [
              "<Figure size 576x576 with 1 Axes>"
            ]
          },
          "metadata": {
            "tags": [],
            "needs_background": "light"
          }
        }
      ]
    },
    {
      "cell_type": "code",
      "metadata": {
        "id": "MBliPEiW12bd"
      },
      "source": [
        "# 수치를 알기가 굉장히 힘들군 .... 데이터가 더러워"
      ],
      "execution_count": null,
      "outputs": []
    },
    {
      "cell_type": "markdown",
      "metadata": {
        "id": "zxgRAhOB3VXx"
      },
      "source": [
        "### 데이터 클리닝 수행하기"
      ]
    },
    {
      "cell_type": "code",
      "metadata": {
        "colab": {
          "base_uri": "https://localhost:8080/"
        },
        "id": "PhbAr1Zp3d82",
        "outputId": "adfd2b47-3510-423e-f60a-e8c4f7ff8c16"
      },
      "source": [
        "df.columns"
      ],
      "execution_count": null,
      "outputs": [
        {
          "output_type": "execute_result",
          "data": {
            "text/plain": [
              "Index(['region', 'price', 'manufacturer', 'model', 'condition', 'cylinders',\n",
              "       'fuel', 'odometer', 'title_status', 'transmission', 'drive', 'size',\n",
              "       'type', 'paint_color', 'age'],\n",
              "      dtype='object')"
            ]
          },
          "metadata": {
            "tags": []
          },
          "execution_count": 61
        }
      ]
    },
    {
      "cell_type": "code",
      "metadata": {
        "colab": {
          "base_uri": "https://localhost:8080/",
          "height": 308
        },
        "id": "0bTommjC3SkA",
        "outputId": "986e6e08-27e1-491e-c100-d4e16a62faae"
      },
      "source": [
        "# 범주형 데이터 시각화하여 분석하기\n",
        "sns.boxplot(x = 'manufacturer', y = 'price', data=df.fillna('n/a'))\n",
        "\n",
        "#알아볼수가없음... "
      ],
      "execution_count": null,
      "outputs": [
        {
          "output_type": "execute_result",
          "data": {
            "text/plain": [
              "<matplotlib.axes._subplots.AxesSubplot at 0x7fee9bd26ed0>"
            ]
          },
          "metadata": {
            "tags": []
          },
          "execution_count": 62
        },
        {
          "output_type": "display_data",
          "data": {
            "image/png": "[encoded data removed]",
            "text/plain": [
              "<Figure size 432x288 with 1 Axes>"
            ]
          },
          "metadata": {
            "tags": [],
            "needs_background": "light"
          }
        }
      ]
    },
    {
      "cell_type": "code",
      "metadata": {
        "colab": {
          "base_uri": "https://localhost:8080/",
          "height": 308
        },
        "id": "uhwb02HP3ZnJ",
        "outputId": "e0896ba0-cc45-41f0-cf10-3c5507acc643"
      },
      "source": [
        "sns.boxplot(x = 'fuel', y = 'price', data=df.fillna('n/a'))\n",
        "\n",
        "# 이상치 때문에 분석하기가 힘듦"
      ],
      "execution_count": null,
      "outputs": [
        {
          "output_type": "execute_result",
          "data": {
            "text/plain": [
              "<matplotlib.axes._subplots.AxesSubplot at 0x7fee9a4b0fd0>"
            ]
          },
          "metadata": {
            "tags": []
          },
          "execution_count": 64
        },
        {
          "output_type": "display_data",
          "data": {
            "image/png": "[encoded data removed]",
            "text/plain": [
              "<Figure size 432x288 with 1 Axes>"
            ]
          },
          "metadata": {
            "tags": [],
            "needs_background": "light"
          }
        }
      ]
    },
    {
      "cell_type": "code",
      "metadata": {
        "id": "Yz1U5uCZ3rpG"
      },
      "source": [
        "# 범주형 데이터 클리닝하기\n",
        "\n",
        "# 1. 결손데이터가 포함된 row 제거\n",
        "# 2. 결손데이터를 others 범주로 변경하기\n",
        "# 3. 지나치게 소수로 이루어진 others 범주로 변경하기\n",
        "# (4. Classifier를 학습해서, 결손 데이터를 추정해서 채워넣기)"
      ],
      "execution_count": null,
      "outputs": []
    },
    {
      "cell_type": "code",
      "metadata": {
        "colab": {
          "base_uri": "https://localhost:8080/"
        },
        "id": "ZB8PBmLa4Lpz",
        "outputId": "0180364a-fdc1-4869-dc1c-ff37d4d3c516"
      },
      "source": [
        "df.columns"
      ],
      "execution_count": null,
      "outputs": [
        {
          "output_type": "execute_result",
          "data": {
            "text/plain": [
              "Index(['region', 'price', 'manufacturer', 'model', 'condition', 'cylinders',\n",
              "       'fuel', 'odometer', 'title_status', 'transmission', 'drive', 'size',\n",
              "       'type', 'paint_color', 'age'],\n",
              "      dtype='object')"
            ]
          },
          "metadata": {
            "tags": []
          },
          "execution_count": 66
        }
      ]
    },
    {
      "cell_type": "code",
      "metadata": {
        "colab": {
          "base_uri": "https://localhost:8080/"
        },
        "id": "MaQdKhU-4MwZ",
        "outputId": "8d68f4ad-a1e9-42a4-89dd-075ae7c868bc"
      },
      "source": [
        "df['manufacturer'].fillna('others').value_counts()"
      ],
      "execution_count": null,
      "outputs": [
        {
          "output_type": "execute_result",
          "data": {
            "text/plain": [
              "ford               79666\n",
              "chevrolet          64977\n",
              "toyota             38577\n",
              "honda              25868\n",
              "nissan             23654\n",
              "jeep               21165\n",
              "others             18220\n",
              "ram                17697\n",
              "gmc                17267\n",
              "dodge              16730\n",
              "bmw                12352\n",
              "hyundai            10975\n",
              "mercedes-benz      10628\n",
              "subaru             10510\n",
              "volkswagen         10489\n",
              "kia                 8854\n",
              "chrysler            7499\n",
              "lexus               7119\n",
              "cadillac            6743\n",
              "buick               6009\n",
              "mazda               5931\n",
              "audi                5583\n",
              "acura               4008\n",
              "infiniti            3714\n",
              "lincoln             3338\n",
              "pontiac             3037\n",
              "volvo               2866\n",
              "mini                2330\n",
              "mitsubishi          2301\n",
              "porsche             1779\n",
              "rover               1662\n",
              "mercury             1645\n",
              "saturn              1393\n",
              "tesla               1067\n",
              "jaguar              1060\n",
              "fiat                 955\n",
              "alfa-romeo           187\n",
              "harley-davidson      139\n",
              "ferrari               96\n",
              "datsun                63\n",
              "aston-martin          35\n",
              "land rover            21\n",
              "morgan                 3\n",
              "hennessey              1\n",
              "Name: manufacturer, dtype: int64"
            ]
          },
          "metadata": {
            "tags": []
          },
          "execution_count": 10
        }
      ]
    },
    {
      "cell_type": "code",
      "metadata": {
        "colab": {
          "base_uri": "https://localhost:8080/",
          "height": 283
        },
        "id": "N_DACArt4Vfq",
        "outputId": "61a15a6f-98f1-463e-d86d-f743ce6d8960"
      },
      "source": [
        "# 시스템화 시켜버리자\n",
        "\n",
        "col = 'manufacturer'\n",
        "counts = df[col].fillna('others').value_counts()\n",
        "plt.plot(range(len(counts)), counts)"
      ],
      "execution_count": null,
      "outputs": [
        {
          "output_type": "execute_result",
          "data": {
            "text/plain": [
              "[<matplotlib.lines.Line2D at 0x7fee9afa3c10>]"
            ]
          },
          "metadata": {
            "tags": []
          },
          "execution_count": 68
        },
        {
          "output_type": "display_data",
          "data": {
            "image/png": "[encoded data removed]",
            "text/plain": [
              "<Figure size 432x288 with 1 Axes>"
            ]
          },
          "metadata": {
            "tags": [],
            "needs_background": "light"
          }
        }
      ]
    },
    {
      "cell_type": "code",
      "metadata": {
        "id": "js7KM9Ub4yvP"
      },
      "source": [
        "# 이제 딱 보고 몇번째 이후부터는 others로 대체하는 작업을 실시하자"
      ],
      "execution_count": null,
      "outputs": []
    },
    {
      "cell_type": "code",
      "metadata": {
        "colab": {
          "base_uri": "https://localhost:8080/"
        },
        "id": "A2mFepw95El5",
        "outputId": "418ff79d-f55d-4c1c-fa6c-e340667f7724"
      },
      "source": [
        "# 범주형 데이터를 몇개로 할 것인지 정해보자 여기서는 10개로 하자\n",
        "n_categorical = 10\n",
        "counts.index # 참고로 이것은 내림차순으로 나와 있는 것임"
      ],
      "execution_count": null,
      "outputs": [
        {
          "output_type": "execute_result",
          "data": {
            "text/plain": [
              "Index(['ford', 'chevrolet', 'toyota', 'honda', 'nissan', 'jeep', 'others',\n",
              "       'ram', 'gmc', 'dodge', 'bmw', 'hyundai', 'mercedes-benz', 'subaru',\n",
              "       'volkswagen', 'kia', 'chrysler', 'lexus', 'cadillac', 'buick', 'mazda',\n",
              "       'audi', 'acura', 'infiniti', 'lincoln', 'pontiac', 'volvo', 'mini',\n",
              "       'mitsubishi', 'porsche', 'rover', 'mercury', 'saturn', 'tesla',\n",
              "       'jaguar', 'fiat', 'alfa-romeo', 'harley-davidson', 'ferrari', 'datsun',\n",
              "       'aston-martin', 'land rover', 'morgan', 'hennessey'],\n",
              "      dtype='object')"
            ]
          },
          "metadata": {
            "tags": []
          },
          "execution_count": 72
        }
      ]
    },
    {
      "cell_type": "code",
      "metadata": {
        "colab": {
          "base_uri": "https://localhost:8080/"
        },
        "id": "sNyCN9iF5iTB",
        "outputId": "455ac396-6346-460e-8ab7-99152b41c861"
      },
      "source": [
        "counts.index[10:] #여기에 속해있으면 others로 바꿔주고 아니면 가만히 있게끔 하자"
      ],
      "execution_count": null,
      "outputs": [
        {
          "output_type": "execute_result",
          "data": {
            "text/plain": [
              "Index(['bmw', 'hyundai', 'mercedes-benz', 'subaru', 'volkswagen', 'kia',\n",
              "       'chrysler', 'lexus', 'cadillac', 'buick', 'mazda', 'audi', 'acura',\n",
              "       'infiniti', 'lincoln', 'pontiac', 'volvo', 'mini', 'mitsubishi',\n",
              "       'porsche', 'rover', 'mercury', 'saturn', 'tesla', 'jaguar', 'fiat',\n",
              "       'alfa-romeo', 'harley-davidson', 'ferrari', 'datsun', 'aston-martin',\n",
              "       'land rover', 'morgan', 'hennessey'],\n",
              "      dtype='object')"
            ]
          },
          "metadata": {
            "tags": []
          },
          "execution_count": 74
        }
      ]
    },
    {
      "cell_type": "code",
      "metadata": {
        "id": "2vgC-sMa49_N"
      },
      "source": [
        " df[col] = df[col].apply(lambda s : s if str(s) not in counts.index[n_categorical:] else 'others')"
      ],
      "execution_count": null,
      "outputs": []
    },
    {
      "cell_type": "code",
      "metadata": {
        "colab": {
          "base_uri": "https://localhost:8080/"
        },
        "id": "pjSplYCt558Z",
        "outputId": "9824095f-e92f-415d-892e-273b46f08e27"
      },
      "source": [
        "df[col].value_counts()"
      ],
      "execution_count": null,
      "outputs": [
        {
          "output_type": "execute_result",
          "data": {
            "text/plain": [
              "others       134392\n",
              "ford          79666\n",
              "chevrolet     64977\n",
              "toyota        38577\n",
              "honda         25868\n",
              "nissan        23654\n",
              "jeep          21165\n",
              "ram           17697\n",
              "gmc           17267\n",
              "dodge         16730\n",
              "Name: manufacturer, dtype: int64"
            ]
          },
          "metadata": {
            "tags": []
          },
          "execution_count": 76
        }
      ]
    },
    {
      "cell_type": "code",
      "metadata": {
        "colab": {
          "base_uri": "https://localhost:8080/"
        },
        "id": "UihipU5t6Syp",
        "outputId": "3686dd17-d1e1-4735-bb3e-d4e2a9a6b0bc"
      },
      "source": [
        "df.columns"
      ],
      "execution_count": null,
      "outputs": [
        {
          "output_type": "execute_result",
          "data": {
            "text/plain": [
              "Index(['region', 'price', 'manufacturer', 'model', 'condition', 'cylinders',\n",
              "       'fuel', 'odometer', 'title_status', 'transmission', 'drive', 'size',\n",
              "       'type', 'paint_color', 'age'],\n",
              "      dtype='object')"
            ]
          },
          "metadata": {
            "tags": []
          },
          "execution_count": 77
        }
      ]
    },
    {
      "cell_type": "code",
      "metadata": {
        "colab": {
          "base_uri": "https://localhost:8080/",
          "height": 287
        },
        "id": "C6UyMbhX5_Lq",
        "outputId": "04aee2b7-79c3-44c3-87eb-dded02f36170"
      },
      "source": [
        "# 이번에는 region을 보자\n",
        "\n",
        "col = 'region'\n",
        "counts = df[col].fillna('others').value_counts()\n",
        "plt.grid()\n",
        "plt.plot(range(len(counts)), counts)\n",
        "\n",
        "# 범주형 변수를 다(400개) 가져가기에는 부담스러움 그래서 5개만 가져가기로함"
      ],
      "execution_count": null,
      "outputs": [
        {
          "output_type": "execute_result",
          "data": {
            "text/plain": [
              "[<matplotlib.lines.Line2D at 0x7fee99551fd0>]"
            ]
          },
          "metadata": {
            "tags": []
          },
          "execution_count": 79
        },
        {
          "output_type": "display_data",
          "data": {
            "image/png": "[encoded data removed]",
            "text/plain": [
              "<Figure size 432x288 with 1 Axes>"
            ]
          },
          "metadata": {
            "tags": [],
            "needs_background": "light"
          }
        }
      ]
    },
    {
      "cell_type": "code",
      "metadata": {
        "id": "5v_FRgpL6V6H"
      },
      "source": [
        "# 범주형 데이터를 몇개로 할 것인지 정해보자 여기서는 5개로 하자\n",
        "n_categorical = 5\n",
        "df[col] = df[col].apply(lambda s : s if str(s) not in counts.index[n_categorical:] else 'others')\n",
        "df[col].value_counts()"
      ],
      "execution_count": null,
      "outputs": []
    },
    {
      "cell_type": "code",
      "metadata": {
        "colab": {
          "base_uri": "https://localhost:8080/"
        },
        "id": "xIJGpeQR6nxt",
        "outputId": "bd7c3802-0c66-4f00-ed56-ec2810cc457f"
      },
      "source": [
        "df[col].value_counts()"
      ],
      "execution_count": null,
      "outputs": [
        {
          "output_type": "execute_result",
          "data": {
            "text/plain": [
              "others          441016\n",
              "columbus          3818\n",
              "rochester         3592\n",
              "jacksonville      3504\n",
              "springfield       3293\n",
              "fayetteville      2990\n",
              "Name: region, dtype: int64"
            ]
          },
          "metadata": {
            "tags": []
          },
          "execution_count": 82
        }
      ]
    },
    {
      "cell_type": "code",
      "metadata": {
        "colab": {
          "base_uri": "https://localhost:8080/",
          "height": 283
        },
        "id": "cmqjkN8I7GPQ",
        "outputId": "8c8ee95a-5312-4a42-ff5f-7849237c6797"
      },
      "source": [
        "# 이번에는 모델로 보자\n",
        "col = 'model'\n",
        "counts = df[col].fillna('others').value_counts()\n",
        "plt.grid()\n",
        "plt.plot(range(len(counts)), counts)\n",
        "\n",
        "# 이건 더 자세히 봐야 될듯....."
      ],
      "execution_count": null,
      "outputs": [
        {
          "output_type": "execute_result",
          "data": {
            "text/plain": [
              "[<matplotlib.lines.Line2D at 0x7fee9a86b990>]"
            ]
          },
          "metadata": {
            "tags": []
          },
          "execution_count": 83
        },
        {
          "output_type": "display_data",
          "data": {
            "image/png": "[encoded data removed]",
            "text/plain": [
              "<Figure size 432x288 with 1 Axes>"
            ]
          },
          "metadata": {
            "tags": [],
            "needs_background": "light"
          }
        }
      ]
    },
    {
      "cell_type": "code",
      "metadata": {
        "colab": {
          "base_uri": "https://localhost:8080/",
          "height": 283
        },
        "id": "JtCG9px37QOO",
        "outputId": "40d85fa7-315c-4ab5-837d-a7d9e8f03c5a"
      },
      "source": [
        "plt.grid()\n",
        "plt.plot(range(len(counts[:100])), counts[:100])\n",
        "\n",
        "# 상위 10개에서 자르겠슴"
      ],
      "execution_count": null,
      "outputs": [
        {
          "output_type": "execute_result",
          "data": {
            "text/plain": [
              "[<matplotlib.lines.Line2D at 0x7fee9ae600d0>]"
            ]
          },
          "metadata": {
            "tags": []
          },
          "execution_count": 88
        },
        {
          "output_type": "display_data",
          "data": {
            "image/png": "[encoded data removed]",
            "text/plain": [
              "<Figure size 432x288 with 1 Axes>"
            ]
          },
          "metadata": {
            "tags": [],
            "needs_background": "light"
          }
        }
      ]
    },
    {
      "cell_type": "code",
      "metadata": {
        "colab": {
          "base_uri": "https://localhost:8080/",
          "height": 35
        },
        "id": "ijC-TYK27eNa",
        "outputId": "72fdb803-92f3-4040-def4-1577cc5ccd50"
      },
      "source": [
        "# 범주형 데이터를 몇개로 할 것인지 정해보자 여기서는 10개로 하자\n",
        "'''\n",
        "n_categorical = 10\n",
        "df[col] = df[col].apply(lambda s : s if str(s) not in counts.index[n_categorical:] else 'others')\n",
        "df[col].value_counts()\n",
        "'''\n",
        "# 이걸 고대로 돌리면 30000개나 되기 때문에 속도가 매우 느림"
      ],
      "execution_count": null,
      "outputs": [
        {
          "output_type": "execute_result",
          "data": {
            "application/vnd.google.colaboratory.intrinsic+json": {
              "type": "string"
            },
            "text/plain": [
              "\"\\nn_categorical = 10\\ndf[col] = df[col].apply(lambda s : s if str(s) not in counts.index[n_categorical:] else 'others')\\ndf[col].value_counts()\\n\""
            ]
          },
          "metadata": {
            "tags": []
          },
          "execution_count": 90
        }
      ]
    },
    {
      "cell_type": "code",
      "metadata": {
        "colab": {
          "base_uri": "https://localhost:8080/"
        },
        "id": "ak3htn6_77Su",
        "outputId": "e0893ba0-97c7-402a-8491-bfb426c718df"
      },
      "source": [
        "#그렇기 때문에 others를 미리 만들어 놓고 돌리는게 나음\n",
        "n_categorical = 10\n",
        "others = counts.index[n_categorical:]\n",
        "df[col] = df[col].apply(lambda s : s if str(s) not in others else 'others')\n",
        "df[col].value_counts()"
      ],
      "execution_count": null,
      "outputs": [
        {
          "output_type": "execute_result",
          "data": {
            "text/plain": [
              "others            413556\n",
              "f-150               8370\n",
              "silverado 1500      5964\n",
              "1500                4211\n",
              "camry               4033\n",
              "accord              3730\n",
              "altima              3490\n",
              "civic               3479\n",
              "escape              3444\n",
              "silverado           3090\n",
              "Name: model, dtype: int64"
            ]
          },
          "metadata": {
            "tags": []
          },
          "execution_count": 91
        }
      ]
    },
    {
      "cell_type": "code",
      "metadata": {
        "colab": {
          "base_uri": "https://localhost:8080/",
          "height": 284
        },
        "id": "oj7Iwd6-8vnm",
        "outputId": "60778c54-b74e-4b52-f53f-b05f6c408894"
      },
      "source": [
        "# 이번에는 컨디션 차례\n",
        "\n",
        "col = 'condition'\n",
        "counts = df[col].fillna('others').value_counts()\n",
        "plt.grid()\n",
        "plt.plot(range(len(counts)), counts)\n"
      ],
      "execution_count": null,
      "outputs": [
        {
          "output_type": "execute_result",
          "data": {
            "text/plain": [
              "[<matplotlib.lines.Line2D at 0x7fee9abef210>]"
            ]
          },
          "metadata": {
            "tags": []
          },
          "execution_count": 93
        },
        {
          "output_type": "display_data",
          "data": {
            "image/png": "[encoded data removed]",
            "text/plain": [
              "<Figure size 432x288 with 1 Axes>"
            ]
          },
          "metadata": {
            "tags": [],
            "needs_background": "light"
          }
        }
      ]
    },
    {
      "cell_type": "code",
      "metadata": {
        "colab": {
          "base_uri": "https://localhost:8080/"
        },
        "id": "2SIW4jts86c2",
        "outputId": "896421b1-9a2f-4eb4-a8ea-d2761e53ae3d"
      },
      "source": [
        "n_categorical = 3\n",
        "others = counts.index[n_categorical:]\n",
        "df[col] = df[col].apply(lambda s : s if str(s) not in others else 'others')\n",
        "df[col].value_counts()"
      ],
      "execution_count": null,
      "outputs": [
        {
          "output_type": "execute_result",
          "data": {
            "text/plain": [
              "good         115685\n",
              "excellent    115206\n",
              "others        34382\n",
              "Name: condition, dtype: int64"
            ]
          },
          "metadata": {
            "tags": []
          },
          "execution_count": 94
        }
      ]
    },
    {
      "cell_type": "code",
      "metadata": {
        "colab": {
          "base_uri": "https://localhost:8080/"
        },
        "id": "o9ElpHpH9I_F",
        "outputId": "6320e05c-534b-4bff-95c8-4af749143ff3"
      },
      "source": [
        "df.columns"
      ],
      "execution_count": null,
      "outputs": [
        {
          "output_type": "execute_result",
          "data": {
            "text/plain": [
              "Index(['region', 'price', 'manufacturer', 'model', 'condition', 'cylinders',\n",
              "       'fuel', 'odometer', 'title_status', 'transmission', 'drive', 'size',\n",
              "       'type', 'paint_color', 'age'],\n",
              "      dtype='object')"
            ]
          },
          "metadata": {
            "tags": []
          },
          "execution_count": 95
        }
      ]
    },
    {
      "cell_type": "code",
      "metadata": {
        "colab": {
          "base_uri": "https://localhost:8080/",
          "height": 283
        },
        "id": "BS29N6xI9DDw",
        "outputId": "d4aa456f-8103-45a4-bab1-8349312a86d7"
      },
      "source": [
        "# 이번에는 실린더 차례\n",
        "\n",
        "col = 'cylinders'\n",
        "counts = df[col].fillna('others').value_counts()\n",
        "plt.grid()\n",
        "plt.plot(range(len(counts)), counts)\n"
      ],
      "execution_count": null,
      "outputs": [
        {
          "output_type": "execute_result",
          "data": {
            "text/plain": [
              "[<matplotlib.lines.Line2D at 0x7fee99adfed0>]"
            ]
          },
          "metadata": {
            "tags": []
          },
          "execution_count": 96
        },
        {
          "output_type": "display_data",
          "data": {
            "image/png": "[encoded data removed]",
            "text/plain": [
              "<Figure size 432x288 with 1 Axes>"
            ]
          },
          "metadata": {
            "tags": [],
            "needs_background": "light"
          }
        }
      ]
    },
    {
      "cell_type": "code",
      "metadata": {
        "colab": {
          "base_uri": "https://localhost:8080/"
        },
        "id": "ev6kYS259LJa",
        "outputId": "419cb456-d8eb-4572-bcf1-86c6adc3c6a2"
      },
      "source": [
        "n_categorical = 4\n",
        "others = counts.index[n_categorical:]\n",
        "df[col] = df[col].apply(lambda s : s if str(s) not in others else 'others')\n",
        "df[col].value_counts()"
      ],
      "execution_count": null,
      "outputs": [
        {
          "output_type": "execute_result",
          "data": {
            "text/plain": [
              "6 cylinders    105677\n",
              "4 cylinders     94767\n",
              "8 cylinders     81179\n",
              "others           5450\n",
              "Name: cylinders, dtype: int64"
            ]
          },
          "metadata": {
            "tags": []
          },
          "execution_count": 97
        }
      ]
    },
    {
      "cell_type": "code",
      "metadata": {
        "colab": {
          "base_uri": "https://localhost:8080/",
          "height": 283
        },
        "id": "Osv6do2q9OwN",
        "outputId": "9efd90dd-5540-4245-ae38-29013c941ac7"
      },
      "source": [
        "# 이번에는 연료 차례\n",
        "\n",
        "col = 'fuel'\n",
        "counts = df[col].fillna('others').value_counts()\n",
        "plt.grid()\n",
        "plt.plot(range(len(counts)), counts)\n"
      ],
      "execution_count": null,
      "outputs": [
        {
          "output_type": "execute_result",
          "data": {
            "text/plain": [
              "[<matplotlib.lines.Line2D at 0x7fee9a434690>]"
            ]
          },
          "metadata": {
            "tags": []
          },
          "execution_count": 98
        },
        {
          "output_type": "display_data",
          "data": {
            "image/png": "[encoded data removed]",
            "text/plain": [
              "<Figure size 432x288 with 1 Axes>"
            ]
          },
          "metadata": {
            "tags": [],
            "needs_background": "light"
          }
        }
      ]
    },
    {
      "cell_type": "code",
      "metadata": {
        "colab": {
          "base_uri": "https://localhost:8080/"
        },
        "id": "jjjd51lc9U7Q",
        "outputId": "d99c7a0f-31a9-47c4-d50a-671ac25d61bd"
      },
      "source": [
        "n_categorical = 2\n",
        "others = counts.index[n_categorical:]\n",
        "df[col] = df[col].apply(lambda s : s if str(s) not in others else 'others')\n",
        "df[col].value_counts()"
      ],
      "execution_count": null,
      "outputs": [
        {
          "output_type": "execute_result",
          "data": {
            "text/plain": [
              "gas       399399\n",
              "diesel     31077\n",
              "others     24500\n",
              "Name: fuel, dtype: int64"
            ]
          },
          "metadata": {
            "tags": []
          },
          "execution_count": 99
        }
      ]
    },
    {
      "cell_type": "code",
      "metadata": {
        "colab": {
          "base_uri": "https://localhost:8080/",
          "height": 283
        },
        "id": "_GzdOzwM9ff-",
        "outputId": "c2267ecd-2596-445f-f675-b1164219e36c"
      },
      "source": [
        "# 이번에는 title_status\n",
        "\n",
        "col = 'title_status'\n",
        "counts = df[col].fillna('others').value_counts()\n",
        "plt.grid()\n",
        "plt.plot(range(len(counts)), counts)\n"
      ],
      "execution_count": null,
      "outputs": [
        {
          "output_type": "execute_result",
          "data": {
            "text/plain": [
              "[<matplotlib.lines.Line2D at 0x7fee9bba0210>]"
            ]
          },
          "metadata": {
            "tags": []
          },
          "execution_count": 100
        },
        {
          "output_type": "display_data",
          "data": {
            "image/png": "[encoded data removed]",
            "text/plain": [
              "<Figure size 432x288 with 1 Axes>"
            ]
          },
          "metadata": {
            "tags": [],
            "needs_background": "light"
          }
        }
      ]
    },
    {
      "cell_type": "code",
      "metadata": {
        "id": "8KOy48S_9mAD"
      },
      "source": [
        "# 얘는 0에 싹 다 몰려있네 그냥 넌 날려버리겠당\n",
        "df.drop('title_status', axis=1, inplace=True)"
      ],
      "execution_count": null,
      "outputs": []
    },
    {
      "cell_type": "code",
      "metadata": {
        "colab": {
          "base_uri": "https://localhost:8080/"
        },
        "id": "muLGnwT790UT",
        "outputId": "22141e25-1124-4b57-a836-fceb149e92b2"
      },
      "source": [
        "df.columns"
      ],
      "execution_count": null,
      "outputs": [
        {
          "output_type": "execute_result",
          "data": {
            "text/plain": [
              "Index(['region', 'price', 'manufacturer', 'model', 'condition', 'cylinders',\n",
              "       'fuel', 'odometer', 'transmission', 'drive', 'size', 'type',\n",
              "       'paint_color', 'age'],\n",
              "      dtype='object')"
            ]
          },
          "metadata": {
            "tags": []
          },
          "execution_count": 102
        }
      ]
    },
    {
      "cell_type": "code",
      "metadata": {
        "colab": {
          "base_uri": "https://localhost:8080/",
          "height": 283
        },
        "id": "lmlvCYvl9-DJ",
        "outputId": "6b6d68bc-14c7-4c40-e4de-f944b16a382d"
      },
      "source": [
        "# 이번에는 transmission\n",
        "\n",
        "col = 'transmission'\n",
        "counts = df[col].fillna('others').value_counts()\n",
        "plt.grid()\n",
        "plt.plot(range(len(counts)), counts)\n"
      ],
      "execution_count": null,
      "outputs": [
        {
          "output_type": "execute_result",
          "data": {
            "text/plain": [
              "[<matplotlib.lines.Line2D at 0x7fee9aef1e10>]"
            ]
          },
          "metadata": {
            "tags": []
          },
          "execution_count": 103
        },
        {
          "output_type": "display_data",
          "data": {
            "image/png": "[encoded data removed]",
            "text/plain": [
              "<Figure size 432x288 with 1 Axes>"
            ]
          },
          "metadata": {
            "tags": [],
            "needs_background": "light"
          }
        }
      ]
    },
    {
      "cell_type": "code",
      "metadata": {
        "colab": {
          "base_uri": "https://localhost:8080/"
        },
        "id": "siIqs36Y-BP9",
        "outputId": "b4545a34-627a-4e66-fd9e-9e52442ed8a9"
      },
      "source": [
        "n_categorical = 3\n",
        "others = counts.index[n_categorical:]\n",
        "df[col] = df[col].apply(lambda s : s if str(s) not in others else 'others')\n",
        "df[col].value_counts()"
      ],
      "execution_count": null,
      "outputs": [
        {
          "output_type": "execute_result",
          "data": {
            "text/plain": [
              "automatic    396322\n",
              "other         32186\n",
              "manual        27263\n",
              "Name: transmission, dtype: int64"
            ]
          },
          "metadata": {
            "tags": []
          },
          "execution_count": 104
        }
      ]
    },
    {
      "cell_type": "code",
      "metadata": {
        "colab": {
          "base_uri": "https://localhost:8080/",
          "height": 283
        },
        "id": "akDDno7Q-GAw",
        "outputId": "6117f1a8-17e1-42b9-c434-0bd971714984"
      },
      "source": [
        "# 이번에는 drive\n",
        "\n",
        "col = 'drive'\n",
        "counts = df[col].fillna('others').value_counts()\n",
        "plt.grid()\n",
        "plt.plot(range(len(counts)), counts)\n"
      ],
      "execution_count": null,
      "outputs": [
        {
          "output_type": "execute_result",
          "data": {
            "text/plain": [
              "[<matplotlib.lines.Line2D at 0x7fee9a3d0310>]"
            ]
          },
          "metadata": {
            "tags": []
          },
          "execution_count": 105
        },
        {
          "output_type": "display_data",
          "data": {
            "image/png": "[encoded data removed]",
            "text/plain": [
              "<Figure size 432x288 with 1 Axes>"
            ]
          },
          "metadata": {
            "tags": [],
            "needs_background": "light"
          }
        }
      ]
    },
    {
      "cell_type": "code",
      "metadata": {
        "id": "DctoRb_p-KxX"
      },
      "source": [
        "# 이건 그냥 고대로 써도 될듯\n",
        "# 대신 others를 넣어줘야 함\n",
        "df[col].fillna('others', inplace=True)"
      ],
      "execution_count": null,
      "outputs": []
    },
    {
      "cell_type": "code",
      "metadata": {
        "colab": {
          "base_uri": "https://localhost:8080/",
          "height": 283
        },
        "id": "4SFsgjDY-jxC",
        "outputId": "9698a4d2-42d4-4bc8-9553-2f0891501dac"
      },
      "source": [
        "# 이번에는 size\n",
        "\n",
        "col = 'size'\n",
        "counts = df[col].fillna('others').value_counts()\n",
        "plt.grid()\n",
        "plt.plot(range(len(counts)), counts)\n"
      ],
      "execution_count": null,
      "outputs": [
        {
          "output_type": "execute_result",
          "data": {
            "text/plain": [
              "[<matplotlib.lines.Line2D at 0x7fee9ab16910>]"
            ]
          },
          "metadata": {
            "tags": []
          },
          "execution_count": 107
        },
        {
          "output_type": "display_data",
          "data": {
            "image/png": "[encoded data removed]",
            "text/plain": [
              "<Figure size 432x288 with 1 Axes>"
            ]
          },
          "metadata": {
            "tags": [],
            "needs_background": "light"
          }
        }
      ]
    },
    {
      "cell_type": "code",
      "metadata": {
        "colab": {
          "base_uri": "https://localhost:8080/"
        },
        "id": "ZPeX8EoE-mg8",
        "outputId": "a29e953e-9275-420f-d44e-04624fee69f9"
      },
      "source": [
        "n_categorical = 2\n",
        "others = counts.index[n_categorical:]\n",
        "df[col] = df[col].apply(lambda s : s if str(s) not in others else 'others')\n",
        "df[col].value_counts()"
      ],
      "execution_count": null,
      "outputs": [
        {
          "output_type": "execute_result",
          "data": {
            "text/plain": [
              "full-size    69736\n",
              "others       67129\n",
              "Name: size, dtype: int64"
            ]
          },
          "metadata": {
            "tags": []
          },
          "execution_count": 108
        }
      ]
    },
    {
      "cell_type": "code",
      "metadata": {
        "colab": {
          "base_uri": "https://localhost:8080/",
          "height": 283
        },
        "id": "jQYn7G0p-qWO",
        "outputId": "0cf33913-7ed5-4eb7-c05b-ec198dbc6bef"
      },
      "source": [
        "# 이번에는 type\n",
        "\n",
        "col = 'type'\n",
        "counts = df[col].fillna('others').value_counts()\n",
        "plt.grid()\n",
        "plt.plot(range(len(counts)), counts)\n"
      ],
      "execution_count": null,
      "outputs": [
        {
          "output_type": "execute_result",
          "data": {
            "text/plain": [
              "[<matplotlib.lines.Line2D at 0x7fee9a571f10>]"
            ]
          },
          "metadata": {
            "tags": []
          },
          "execution_count": 109
        },
        {
          "output_type": "display_data",
          "data": {
            "image/png": "[encoded data removed]",
            "text/plain": [
              "<Figure size 432x288 with 1 Axes>"
            ]
          },
          "metadata": {
            "tags": [],
            "needs_background": "light"
          }
        }
      ]
    },
    {
      "cell_type": "code",
      "metadata": {
        "colab": {
          "base_uri": "https://localhost:8080/"
        },
        "id": "8lj0AuIn-wAI",
        "outputId": "05f0c188-29f5-482d-e283-7abeacb28403"
      },
      "source": [
        "  n_categorical = 8\n",
        "others = counts.index[n_categorical:]\n",
        "df[col] = df[col].apply(lambda s : s if str(s) not in others else 'others')\n",
        "df[col].value_counts()"
      ],
      "execution_count": null,
      "outputs": [
        {
          "output_type": "execute_result",
          "data": {
            "text/plain": [
              "sedan        92364\n",
              "SUV          79882\n",
              "pickup       43343\n",
              "truck        35694\n",
              "others       34538\n",
              "other        24160\n",
              "coupe        19106\n",
              "hatchback    16388\n",
              "Name: type, dtype: int64"
            ]
          },
          "metadata": {
            "tags": []
          },
          "execution_count": 110
        }
      ]
    },
    {
      "cell_type": "code",
      "metadata": {
        "id": "PmqUJwxQ-zTc"
      },
      "source": [
        "# other이랑 others를 합치고 싶음\n",
        "df.loc[df[col]=='other', col] = 'others'\n",
        "df[col].fillna('others', inplace = True)"
      ],
      "execution_count": null,
      "outputs": []
    },
    {
      "cell_type": "code",
      "metadata": {
        "colab": {
          "base_uri": "https://localhost:8080/"
        },
        "id": "UMTswfSI_G7v",
        "outputId": "b20281c4-9008-4a6b-ccbd-12d953815e04"
      },
      "source": [
        "df[col].value_counts()"
      ],
      "execution_count": null,
      "outputs": [
        {
          "output_type": "execute_result",
          "data": {
            "text/plain": [
              "others       171436\n",
              "sedan         92364\n",
              "SUV           79882\n",
              "pickup        43343\n",
              "truck         35694\n",
              "coupe         19106\n",
              "hatchback     16388\n",
              "Name: type, dtype: int64"
            ]
          },
          "metadata": {
            "tags": []
          },
          "execution_count": 113
        }
      ]
    },
    {
      "cell_type": "markdown",
      "metadata": {
        "id": "4k3HcjnQOlK-"
      },
      "source": [
        "### 에러생긴거가같아서 여기부분부터 다시"
      ]
    },
    {
      "cell_type": "code",
      "metadata": {
        "colab": {
          "base_uri": "https://localhost:8080/"
        },
        "id": "gOSUglcAOwO2",
        "outputId": "a468d173-41f4-488d-f9e3-0925b0ba16a6"
      },
      "source": [
        "df.columns"
      ],
      "execution_count": null,
      "outputs": [
        {
          "output_type": "execute_result",
          "data": {
            "text/plain": [
              "Index(['region', 'price', 'manufacturer', 'model', 'condition', 'cylinders',\n",
              "       'fuel', 'odometer', 'title_status', 'transmission', 'drive', 'size',\n",
              "       'type', 'paint_color', 'age'],\n",
              "      dtype='object')"
            ]
          },
          "metadata": {
            "tags": []
          },
          "execution_count": 37
        }
      ]
    },
    {
      "cell_type": "code",
      "metadata": {
        "id": "WpZ-8pAe_MTn",
        "colab": {
          "base_uri": "https://localhost:8080/",
          "height": 283
        },
        "outputId": "03b8b60f-01d8-4d4d-d481-e20e3321cbb7"
      },
      "source": [
        "plt.figure(figsize=(8,4))\n",
        "col = 'paint_color'\n",
        "counts = df[col].fillna('others').value_counts()\n",
        "plt.plot(range(len(counts)),counts)"
      ],
      "execution_count": null,
      "outputs": [
        {
          "output_type": "execute_result",
          "data": {
            "text/plain": [
              "[<matplotlib.lines.Line2D at 0x7f58cc2a58d0>]"
            ]
          },
          "metadata": {
            "tags": []
          },
          "execution_count": 84
        },
        {
          "output_type": "display_data",
          "data": {
            "image/png": "[encoded data removed]",
            "text/plain": [
              "<Figure size 576x288 with 1 Axes>"
            ]
          },
          "metadata": {
            "tags": [],
            "needs_background": "light"
          }
        }
      ]
    },
    {
      "cell_type": "code",
      "metadata": {
        "id": "890mZURRO9I_"
      },
      "source": [
        "n_cat = 7\n",
        "ot = counts.index[n_cat : ]\n",
        "df[col] = df[col].apply(lambda s : s if str(s) not in ot else  'others')"
      ],
      "execution_count": null,
      "outputs": []
    },
    {
      "cell_type": "code",
      "metadata": {
        "colab": {
          "base_uri": "https://localhost:8080/"
        },
        "id": "OyypiFTcPqa3",
        "outputId": "0351bd4b-ed24-487f-8f10-7293da2e3f50"
      },
      "source": [
        "df[col].value_counts()"
      ],
      "execution_count": null,
      "outputs": [
        {
          "output_type": "execute_result",
          "data": {
            "text/plain": [
              "white     82786\n",
              "black     64145\n",
              "silver    46722\n",
              "red       33274\n",
              "blue      32746\n",
              "grey      30455\n",
              "others    27242\n",
              "Name: paint_color, dtype: int64"
            ]
          },
          "metadata": {
            "tags": []
          },
          "execution_count": 86
        }
      ]
    },
    {
      "cell_type": "code",
      "metadata": {
        "id": "obgP6bsfaYMt"
      },
      "source": [
        "df.loc[df[col]=='other', col] = 'others'"
      ],
      "execution_count": null,
      "outputs": []
    },
    {
      "cell_type": "code",
      "metadata": {
        "id": "TE85mJ9vPuuX"
      },
      "source": [
        "#df.drop('title_status', axis=1, inplace=True) "
      ],
      "execution_count": null,
      "outputs": []
    },
    {
      "cell_type": "code",
      "metadata": {
        "id": "Sizwuy8AYj21"
      },
      "source": [
        "df[col].fillna('others', inplace =True)"
      ],
      "execution_count": null,
      "outputs": []
    },
    {
      "cell_type": "markdown",
      "metadata": {
        "id": "AD1-xg3jbCzn"
      },
      "source": [
        "### 수치형 데이터 시각화하여 분석"
      ]
    },
    {
      "cell_type": "code",
      "metadata": {
        "id": "7jyvg1nGaBvV"
      },
      "source": [
        "# seaborn을 이용하여 히스토그램을 사용하지만 값의 범위가 넓을 경우 잘 작동하지 않음"
      ],
      "execution_count": null,
      "outputs": []
    },
    {
      "cell_type": "code",
      "metadata": {
        "colab": {
          "base_uri": "https://localhost:8080/",
          "height": 188
        },
        "id": "Jlje8pmqb5DA",
        "outputId": "9bd355ff-ac53-4fe0-c312-3150987b2aa3"
      },
      "source": [
        "# 그래도 뭐 보이는게 없다 rug plot으로 봐보자\n",
        "\n",
        "plt.figure(figsize=(8,2))\n",
        "sns.rugplot(x = 'price', data= df, height= 1)"
      ],
      "execution_count": null,
      "outputs": [
        {
          "output_type": "execute_result",
          "data": {
            "text/plain": [
              "<matplotlib.axes._subplots.AxesSubplot at 0x7fae10cdcdd0>"
            ]
          },
          "metadata": {
            "tags": []
          },
          "execution_count": 85
        },
        {
          "output_type": "display_data",
          "data": {
            "image/png": "[encoded data removed]",
            "text/plain": [
              "<Figure size 576x144 with 1 Axes>"
            ]
          },
          "metadata": {
            "tags": [],
            "needs_background": "light"
          }
        }
      ]
    },
    {
      "cell_type": "code",
      "metadata": {
        "colab": {
          "base_uri": "https://localhost:8080/",
          "height": 297
        },
        "id": "rkWrrCYDbtUR",
        "outputId": "1904ab4d-09c6-47d0-b8e7-602c90d9c0be"
      },
      "source": [
        "sns.rugplot(x = 'odometer', data=df, height = 1)"
      ],
      "execution_count": null,
      "outputs": [
        {
          "output_type": "execute_result",
          "data": {
            "text/plain": [
              "<matplotlib.axes._subplots.AxesSubplot at 0x7feec0ea5a50>"
            ]
          },
          "metadata": {
            "tags": []
          },
          "execution_count": 48
        },
        {
          "output_type": "display_data",
          "data": {
            "image/png": "[encoded data removed]",
            "text/plain": [
              "<Figure size 432x288 with 1 Axes>"
            ]
          },
          "metadata": {
            "tags": [],
            "needs_background": "light"
          }
        }
      ]
    },
    {
      "cell_type": "code",
      "metadata": {
        "colab": {
          "base_uri": "https://localhost:8080/",
          "height": 515
        },
        "id": "SRFL1cUUbtUa",
        "outputId": "654b6dd7-fedd-419d-ef71-f3800e6353c3"
      },
      "source": [
        "plt.figure(figsize=(8,8))\n",
        "sns.histplot(x = 'age', data=df, bins = 20, kde = True)"
      ],
      "execution_count": null,
      "outputs": [
        {
          "output_type": "execute_result",
          "data": {
            "text/plain": [
              "<matplotlib.axes._subplots.AxesSubplot at 0x7fee9bdf0050>"
            ]
          },
          "metadata": {
            "tags": []
          },
          "execution_count": 58
        },
        {
          "output_type": "display_data",
          "data": {
            "image/png": "[encoded data removed]",
            "text/plain": [
              "<Figure size 576x576 with 1 Axes>"
            ]
          },
          "metadata": {
            "tags": [],
            "needs_background": "light"
          }
        }
      ]
    },
    {
      "cell_type": "markdown",
      "metadata": {
        "id": "ywHjFdHxcCU_"
      },
      "source": [
        "### 수치형 데이터 클리닝하기"
      ]
    },
    {
      "cell_type": "code",
      "metadata": {
        "colab": {
          "base_uri": "https://localhost:8080/"
        },
        "id": "tj3qJI0ccDaF",
        "outputId": "203b2fbc-fab9-477e-baf6-8c912360f530"
      },
      "source": [
        "# price 의 범위체크\n",
        "\n",
        "\n",
        "p1 = df['price'].quantile(0.99) # 상위 1퍼센트\n",
        "\n",
        "p2 = df['price'].quantile(0.1) # 하위 10퍼센트\n",
        "print(p1,'',p2)"
      ],
      "execution_count": null,
      "outputs": [
        {
          "output_type": "stream",
          "text": [
            "59900.0  651.0\n"
          ],
          "name": "stdout"
        }
      ]
    },
    {
      "cell_type": "code",
      "metadata": {
        "colab": {
          "base_uri": "https://localhost:8080/"
        },
        "id": "985-6MpMcI0S",
        "outputId": "20d4dbc7-1363-43e7-ea6b-ec7c0aa0b576"
      },
      "source": [
        "# odometer의 범위 체크\n",
        "\n",
        "o1 = df['odometer'].quantile(0.99)\n",
        "o2 = df['odometer'].quantile(0.1)\n",
        "print(o1,'',o2)"
      ],
      "execution_count": null,
      "outputs": [
        {
          "output_type": "stream",
          "text": [
            "270000.0  17553.0\n"
          ],
          "name": "stdout"
        }
      ]
    },
    {
      "cell_type": "code",
      "metadata": {
        "id": "C-ynk69aeEWI"
      },
      "source": [
        "# 이상치를 제거할 거임\n",
        "df = df[(p1 > df['price']) & (df['price'] > p2)]"
      ],
      "execution_count": null,
      "outputs": []
    },
    {
      "cell_type": "code",
      "metadata": {
        "id": "4YOtJ3Kje59B"
      },
      "source": [
        "df = df[(o1 > df['odometer']) & (o2<df['odometer'])]"
      ],
      "execution_count": null,
      "outputs": []
    },
    {
      "cell_type": "code",
      "metadata": {
        "colab": {
          "base_uri": "https://localhost:8080/",
          "height": 282
        },
        "id": "qNCvJ9OKfAQn",
        "outputId": "0020f3d4-4cf3-4f45-a6d6-886e3186f610"
      },
      "source": [
        "df.describe()\n",
        "\n",
        "#보면 median이랑 mean이 비슷해짐"
      ],
      "execution_count": null,
      "outputs": [
        {
          "output_type": "execute_result",
          "data": {
            "text/html": [
              "<div>\n",
              "<style scoped>\n",
              "    .dataframe tbody tr th:only-of-type {\n",
              "        vertical-align: middle;\n",
              "    }\n",
              "\n",
              "    .dataframe tbody tr th {\n",
              "        vertical-align: top;\n",
              "    }\n",
              "\n",
              "    .dataframe thead th {\n",
              "        text-align: right;\n",
              "    }\n",
              "</style>\n",
              "<table border=\"1\" class=\"dataframe\">\n",
              "  <thead>\n",
              "    <tr style=\"text-align: right;\">\n",
              "      <th></th>\n",
              "      <th>price</th>\n",
              "      <th>odometer</th>\n",
              "      <th>age</th>\n",
              "    </tr>\n",
              "  </thead>\n",
              "  <tbody>\n",
              "    <tr>\n",
              "      <th>count</th>\n",
              "      <td>324382.000000</td>\n",
              "      <td>324382.000000</td>\n",
              "      <td>323860.000000</td>\n",
              "    </tr>\n",
              "    <tr>\n",
              "      <th>mean</th>\n",
              "      <td>15314.530106</td>\n",
              "      <td>102569.319602</td>\n",
              "      <td>10.174001</td>\n",
              "    </tr>\n",
              "    <tr>\n",
              "      <th>std</th>\n",
              "      <td>11298.917484</td>\n",
              "      <td>55165.135400</td>\n",
              "      <td>7.076283</td>\n",
              "    </tr>\n",
              "    <tr>\n",
              "      <th>min</th>\n",
              "      <td>652.000000</td>\n",
              "      <td>17555.000000</td>\n",
              "      <td>0.000000</td>\n",
              "    </tr>\n",
              "    <tr>\n",
              "      <th>25%</th>\n",
              "      <td>6500.000000</td>\n",
              "      <td>56199.000000</td>\n",
              "      <td>5.000000</td>\n",
              "    </tr>\n",
              "    <tr>\n",
              "      <th>50%</th>\n",
              "      <td>12388.000000</td>\n",
              "      <td>98146.000000</td>\n",
              "      <td>9.000000</td>\n",
              "    </tr>\n",
              "    <tr>\n",
              "      <th>75%</th>\n",
              "      <td>21000.000000</td>\n",
              "      <td>140482.750000</td>\n",
              "      <td>13.000000</td>\n",
              "    </tr>\n",
              "    <tr>\n",
              "      <th>max</th>\n",
              "      <td>59895.000000</td>\n",
              "      <td>269930.000000</td>\n",
              "      <td>121.000000</td>\n",
              "    </tr>\n",
              "  </tbody>\n",
              "</table>\n",
              "</div>"
            ],
            "text/plain": [
              "               price       odometer            age\n",
              "count  324382.000000  324382.000000  323860.000000\n",
              "mean    15314.530106  102569.319602      10.174001\n",
              "std     11298.917484   55165.135400       7.076283\n",
              "min       652.000000   17555.000000       0.000000\n",
              "25%      6500.000000   56199.000000       5.000000\n",
              "50%     12388.000000   98146.000000       9.000000\n",
              "75%     21000.000000  140482.750000      13.000000\n",
              "max     59895.000000  269930.000000     121.000000"
            ]
          },
          "metadata": {
            "tags": []
          },
          "execution_count": 95
        }
      ]
    },
    {
      "cell_type": "code",
      "metadata": {
        "colab": {
          "base_uri": "https://localhost:8080/"
        },
        "id": "LQUrnwMqfuEr",
        "outputId": "bc8c4b5d-a4ee-46de-b349-6ba2ae8ad7c2"
      },
      "source": [
        "df.columns"
      ],
      "execution_count": null,
      "outputs": [
        {
          "output_type": "execute_result",
          "data": {
            "text/plain": [
              "Index(['region', 'price', 'manufacturer', 'model', 'condition', 'cylinders',\n",
              "       'fuel', 'odometer', 'transmission', 'drive', 'size', 'type',\n",
              "       'paint_color', 'age'],\n",
              "      dtype='object')"
            ]
          },
          "metadata": {
            "tags": []
          },
          "execution_count": 96
        }
      ]
    },
    {
      "cell_type": "code",
      "metadata": {
        "colab": {
          "base_uri": "https://localhost:8080/",
          "height": 383
        },
        "id": "VTqkjOlcfEaJ",
        "outputId": "ec725430-d8c2-4745-8132-bc6d582b2292"
      },
      "source": [
        "#이제 못봤었던 것들을 보자\n",
        "plt.figure(figsize=(20,5))\n",
        "plt.subplot(1,2,1)\n",
        "sns.boxplot(x = 'manufacturer', y='price', data=df)\n",
        "plt.xticks(rotation=45)\n",
        "plt.subplot(1,2,2)\n",
        "sns.boxplot(x = 'model', y='price', data=df)\n",
        "plt.xticks(rotation=45)\n",
        "plt.show()"
      ],
      "execution_count": null,
      "outputs": [
        {
          "output_type": "display_data",
          "data": {
            "image/png": "[encoded data removed]",
            "text/plain": [
              "<Figure size 1440x360 with 2 Axes>"
            ]
          },
          "metadata": {
            "tags": [],
            "needs_background": "light"
          }
        }
      ]
    },
    {
      "cell_type": "code",
      "metadata": {
        "id": "Wu1sfw_8fyGk"
      },
      "source": [
        "# 컬럼간 히트맵을 보자"
      ],
      "execution_count": null,
      "outputs": []
    },
    {
      "cell_type": "code",
      "metadata": {
        "colab": {
          "base_uri": "https://localhost:8080/",
          "height": 287
        },
        "id": "5ARVMmU3gq9x",
        "outputId": "868b334b-7f26-47e5-d5ff-9aed12165a51"
      },
      "source": [
        "sns.heatmap(df.corr(), annot = True, cmap='YlOrRd')"
      ],
      "execution_count": null,
      "outputs": [
        {
          "output_type": "execute_result",
          "data": {
            "text/plain": [
              "<matplotlib.axes._subplots.AxesSubplot at 0x7f58c79c71d0>"
            ]
          },
          "metadata": {
            "tags": []
          },
          "execution_count": 99
        },
        {
          "output_type": "display_data",
          "data": {
            "image/png": "[encoded data removed]",
            "text/plain": [
              "<Figure size 432x288 with 2 Axes>"
            ]
          },
          "metadata": {
            "tags": [],
            "needs_background": "light"
          }
        }
      ]
    },
    {
      "cell_type": "markdown",
      "metadata": {
        "id": "VsTyKXtZq_Ag"
      },
      "source": [
        "### 모델 학습을 위한 데이터 전처리"
      ]
    },
    {
      "cell_type": "code",
      "metadata": {
        "id": "6MgtrUY7gwYN"
      },
      "source": [
        "from sklearn.preprocessing import StandardScaler"
      ],
      "execution_count": null,
      "outputs": []
    },
    {
      "cell_type": "code",
      "metadata": {
        "id": "5bP5w6sCrEWs"
      },
      "source": [
        "X_num = df[['odometer','age']]\n",
        "\n",
        "scaler = StandardScaler()\n",
        "scaler.fit(X_num)\n",
        "X_scaled = scaler.transform(X_num)\n",
        "X_scaled = pd.DataFrame(X_scaled, index = X_num.index, columns = X_num.columns)\n",
        "\n",
        "# 범주형 데이터는 원핫으로\n",
        "X_cat = df.drop(['price', 'odometer','age'], axis = 1)\n",
        "X_cat = pd.get_dummies(X_cat)\n",
        "\n",
        "#입출력 데이터 통합하기\n",
        "X = pd.concat([X_scaled, X_cat], axis =1)\n",
        "y = df['price']"
      ],
      "execution_count": null,
      "outputs": []
    },
    {
      "cell_type": "code",
      "metadata": {
        "colab": {
          "base_uri": "https://localhost:8080/",
          "height": 231
        },
        "id": "F9xCzGJ8sGg-",
        "outputId": "c75b1047-d19a-47be-bfb8-467d1340b5ac"
      },
      "source": [
        "X.head()"
      ],
      "execution_count": null,
      "outputs": [
        {
          "output_type": "execute_result",
          "data": {
            "text/html": [
              "<div>\n",
              "<style scoped>\n",
              "    .dataframe tbody tr th:only-of-type {\n",
              "        vertical-align: middle;\n",
              "    }\n",
              "\n",
              "    .dataframe tbody tr th {\n",
              "        vertical-align: top;\n",
              "    }\n",
              "\n",
              "    .dataframe thead th {\n",
              "        text-align: right;\n",
              "    }\n",
              "</style>\n",
              "<table border=\"1\" class=\"dataframe\">\n",
              "  <thead>\n",
              "    <tr style=\"text-align: right;\">\n",
              "      <th></th>\n",
              "      <th>odometer</th>\n",
              "      <th>age</th>\n",
              "      <th>region_columbus</th>\n",
              "      <th>region_fayetteville</th>\n",
              "      <th>region_jacksonville</th>\n",
              "      <th>region_others</th>\n",
              "      <th>region_rochester</th>\n",
              "      <th>region_springfield</th>\n",
              "      <th>manufacturer_chevrolet</th>\n",
              "      <th>manufacturer_dodge</th>\n",
              "      <th>manufacturer_ford</th>\n",
              "      <th>manufacturer_gmc</th>\n",
              "      <th>manufacturer_honda</th>\n",
              "      <th>manufacturer_jeep</th>\n",
              "      <th>manufacturer_nissan</th>\n",
              "      <th>manufacturer_others</th>\n",
              "      <th>manufacturer_ram</th>\n",
              "      <th>manufacturer_toyota</th>\n",
              "      <th>model_1500</th>\n",
              "      <th>model_accord</th>\n",
              "      <th>model_altima</th>\n",
              "      <th>model_camry</th>\n",
              "      <th>model_civic</th>\n",
              "      <th>model_escape</th>\n",
              "      <th>model_f-150</th>\n",
              "      <th>model_others</th>\n",
              "      <th>model_silverado</th>\n",
              "      <th>model_silverado 1500</th>\n",
              "      <th>condition_excellent</th>\n",
              "      <th>condition_good</th>\n",
              "      <th>condition_others</th>\n",
              "      <th>cylinders_4 cylinders</th>\n",
              "      <th>cylinders_6 cylinders</th>\n",
              "      <th>cylinders_8 cylinders</th>\n",
              "      <th>cylinders_others</th>\n",
              "      <th>fuel_diesel</th>\n",
              "      <th>fuel_gas</th>\n",
              "      <th>fuel_others</th>\n",
              "      <th>transmission_automatic</th>\n",
              "      <th>transmission_manual</th>\n",
              "      <th>transmission_others</th>\n",
              "      <th>drive_4wd</th>\n",
              "      <th>drive_fwd</th>\n",
              "      <th>drive_others</th>\n",
              "      <th>size_full-size</th>\n",
              "      <th>size_others</th>\n",
              "      <th>type_SUV</th>\n",
              "      <th>type_coupe</th>\n",
              "      <th>type_hatchback</th>\n",
              "      <th>type_others</th>\n",
              "      <th>type_pickup</th>\n",
              "      <th>type_sedan</th>\n",
              "      <th>type_truck</th>\n",
              "      <th>paint_color_black</th>\n",
              "      <th>paint_color_blue</th>\n",
              "      <th>paint_color_grey</th>\n",
              "      <th>paint_color_others</th>\n",
              "      <th>paint_color_red</th>\n",
              "      <th>paint_color_silver</th>\n",
              "      <th>paint_color_white</th>\n",
              "    </tr>\n",
              "  </thead>\n",
              "  <tbody>\n",
              "    <tr>\n",
              "      <th>0</th>\n",
              "      <td>-1.265789</td>\n",
              "      <td>0.116728</td>\n",
              "      <td>0</td>\n",
              "      <td>0</td>\n",
              "      <td>0</td>\n",
              "      <td>1</td>\n",
              "      <td>0</td>\n",
              "      <td>0</td>\n",
              "      <td>1</td>\n",
              "      <td>0</td>\n",
              "      <td>0</td>\n",
              "      <td>0</td>\n",
              "      <td>0</td>\n",
              "      <td>0</td>\n",
              "      <td>0</td>\n",
              "      <td>0</td>\n",
              "      <td>0</td>\n",
              "      <td>0</td>\n",
              "      <td>0</td>\n",
              "      <td>0</td>\n",
              "      <td>0</td>\n",
              "      <td>0</td>\n",
              "      <td>0</td>\n",
              "      <td>0</td>\n",
              "      <td>0</td>\n",
              "      <td>1</td>\n",
              "      <td>0</td>\n",
              "      <td>0</td>\n",
              "      <td>0</td>\n",
              "      <td>1</td>\n",
              "      <td>0</td>\n",
              "      <td>0</td>\n",
              "      <td>0</td>\n",
              "      <td>1</td>\n",
              "      <td>0</td>\n",
              "      <td>0</td>\n",
              "      <td>1</td>\n",
              "      <td>0</td>\n",
              "      <td>0</td>\n",
              "      <td>0</td>\n",
              "      <td>1</td>\n",
              "      <td>0</td>\n",
              "      <td>0</td>\n",
              "      <td>1</td>\n",
              "      <td>0</td>\n",
              "      <td>0</td>\n",
              "      <td>0</td>\n",
              "      <td>0</td>\n",
              "      <td>0</td>\n",
              "      <td>1</td>\n",
              "      <td>0</td>\n",
              "      <td>0</td>\n",
              "      <td>0</td>\n",
              "      <td>0</td>\n",
              "      <td>0</td>\n",
              "      <td>0</td>\n",
              "      <td>1</td>\n",
              "      <td>0</td>\n",
              "      <td>0</td>\n",
              "      <td>0</td>\n",
              "    </tr>\n",
              "    <tr>\n",
              "      <th>1</th>\n",
              "      <td>-0.162591</td>\n",
              "      <td>-0.448541</td>\n",
              "      <td>0</td>\n",
              "      <td>0</td>\n",
              "      <td>0</td>\n",
              "      <td>1</td>\n",
              "      <td>0</td>\n",
              "      <td>0</td>\n",
              "      <td>0</td>\n",
              "      <td>0</td>\n",
              "      <td>0</td>\n",
              "      <td>0</td>\n",
              "      <td>0</td>\n",
              "      <td>0</td>\n",
              "      <td>0</td>\n",
              "      <td>1</td>\n",
              "      <td>0</td>\n",
              "      <td>0</td>\n",
              "      <td>0</td>\n",
              "      <td>0</td>\n",
              "      <td>0</td>\n",
              "      <td>0</td>\n",
              "      <td>0</td>\n",
              "      <td>0</td>\n",
              "      <td>0</td>\n",
              "      <td>1</td>\n",
              "      <td>0</td>\n",
              "      <td>0</td>\n",
              "      <td>1</td>\n",
              "      <td>0</td>\n",
              "      <td>0</td>\n",
              "      <td>1</td>\n",
              "      <td>0</td>\n",
              "      <td>0</td>\n",
              "      <td>0</td>\n",
              "      <td>0</td>\n",
              "      <td>1</td>\n",
              "      <td>0</td>\n",
              "      <td>1</td>\n",
              "      <td>0</td>\n",
              "      <td>0</td>\n",
              "      <td>0</td>\n",
              "      <td>1</td>\n",
              "      <td>0</td>\n",
              "      <td>0</td>\n",
              "      <td>0</td>\n",
              "      <td>0</td>\n",
              "      <td>0</td>\n",
              "      <td>0</td>\n",
              "      <td>0</td>\n",
              "      <td>0</td>\n",
              "      <td>1</td>\n",
              "      <td>0</td>\n",
              "      <td>0</td>\n",
              "      <td>0</td>\n",
              "      <td>0</td>\n",
              "      <td>1</td>\n",
              "      <td>0</td>\n",
              "      <td>0</td>\n",
              "      <td>0</td>\n",
              "    </tr>\n",
              "    <tr>\n",
              "      <th>2</th>\n",
              "      <td>-0.281398</td>\n",
              "      <td>0.681997</td>\n",
              "      <td>0</td>\n",
              "      <td>0</td>\n",
              "      <td>0</td>\n",
              "      <td>1</td>\n",
              "      <td>0</td>\n",
              "      <td>0</td>\n",
              "      <td>0</td>\n",
              "      <td>0</td>\n",
              "      <td>0</td>\n",
              "      <td>0</td>\n",
              "      <td>0</td>\n",
              "      <td>0</td>\n",
              "      <td>0</td>\n",
              "      <td>1</td>\n",
              "      <td>0</td>\n",
              "      <td>0</td>\n",
              "      <td>0</td>\n",
              "      <td>0</td>\n",
              "      <td>0</td>\n",
              "      <td>0</td>\n",
              "      <td>0</td>\n",
              "      <td>0</td>\n",
              "      <td>0</td>\n",
              "      <td>1</td>\n",
              "      <td>0</td>\n",
              "      <td>0</td>\n",
              "      <td>0</td>\n",
              "      <td>1</td>\n",
              "      <td>0</td>\n",
              "      <td>0</td>\n",
              "      <td>1</td>\n",
              "      <td>0</td>\n",
              "      <td>0</td>\n",
              "      <td>0</td>\n",
              "      <td>1</td>\n",
              "      <td>0</td>\n",
              "      <td>1</td>\n",
              "      <td>0</td>\n",
              "      <td>0</td>\n",
              "      <td>0</td>\n",
              "      <td>0</td>\n",
              "      <td>1</td>\n",
              "      <td>0</td>\n",
              "      <td>0</td>\n",
              "      <td>1</td>\n",
              "      <td>0</td>\n",
              "      <td>0</td>\n",
              "      <td>0</td>\n",
              "      <td>0</td>\n",
              "      <td>0</td>\n",
              "      <td>0</td>\n",
              "      <td>0</td>\n",
              "      <td>1</td>\n",
              "      <td>0</td>\n",
              "      <td>0</td>\n",
              "      <td>0</td>\n",
              "      <td>0</td>\n",
              "      <td>0</td>\n",
              "    </tr>\n",
              "    <tr>\n",
              "      <th>3</th>\n",
              "      <td>1.584893</td>\n",
              "      <td>5.204152</td>\n",
              "      <td>0</td>\n",
              "      <td>0</td>\n",
              "      <td>0</td>\n",
              "      <td>1</td>\n",
              "      <td>0</td>\n",
              "      <td>0</td>\n",
              "      <td>1</td>\n",
              "      <td>0</td>\n",
              "      <td>0</td>\n",
              "      <td>0</td>\n",
              "      <td>0</td>\n",
              "      <td>0</td>\n",
              "      <td>0</td>\n",
              "      <td>0</td>\n",
              "      <td>0</td>\n",
              "      <td>0</td>\n",
              "      <td>0</td>\n",
              "      <td>0</td>\n",
              "      <td>0</td>\n",
              "      <td>0</td>\n",
              "      <td>0</td>\n",
              "      <td>0</td>\n",
              "      <td>0</td>\n",
              "      <td>1</td>\n",
              "      <td>0</td>\n",
              "      <td>0</td>\n",
              "      <td>0</td>\n",
              "      <td>1</td>\n",
              "      <td>0</td>\n",
              "      <td>1</td>\n",
              "      <td>0</td>\n",
              "      <td>0</td>\n",
              "      <td>0</td>\n",
              "      <td>0</td>\n",
              "      <td>1</td>\n",
              "      <td>0</td>\n",
              "      <td>1</td>\n",
              "      <td>0</td>\n",
              "      <td>0</td>\n",
              "      <td>0</td>\n",
              "      <td>0</td>\n",
              "      <td>1</td>\n",
              "      <td>1</td>\n",
              "      <td>0</td>\n",
              "      <td>0</td>\n",
              "      <td>0</td>\n",
              "      <td>0</td>\n",
              "      <td>0</td>\n",
              "      <td>1</td>\n",
              "      <td>0</td>\n",
              "      <td>0</td>\n",
              "      <td>0</td>\n",
              "      <td>1</td>\n",
              "      <td>0</td>\n",
              "      <td>0</td>\n",
              "      <td>0</td>\n",
              "      <td>0</td>\n",
              "      <td>0</td>\n",
              "    </tr>\n",
              "    <tr>\n",
              "      <th>4</th>\n",
              "      <td>0.243464</td>\n",
              "      <td>0.823315</td>\n",
              "      <td>0</td>\n",
              "      <td>0</td>\n",
              "      <td>0</td>\n",
              "      <td>1</td>\n",
              "      <td>0</td>\n",
              "      <td>0</td>\n",
              "      <td>0</td>\n",
              "      <td>0</td>\n",
              "      <td>1</td>\n",
              "      <td>0</td>\n",
              "      <td>0</td>\n",
              "      <td>0</td>\n",
              "      <td>0</td>\n",
              "      <td>0</td>\n",
              "      <td>0</td>\n",
              "      <td>0</td>\n",
              "      <td>0</td>\n",
              "      <td>0</td>\n",
              "      <td>0</td>\n",
              "      <td>0</td>\n",
              "      <td>0</td>\n",
              "      <td>0</td>\n",
              "      <td>0</td>\n",
              "      <td>1</td>\n",
              "      <td>0</td>\n",
              "      <td>0</td>\n",
              "      <td>1</td>\n",
              "      <td>0</td>\n",
              "      <td>0</td>\n",
              "      <td>0</td>\n",
              "      <td>0</td>\n",
              "      <td>1</td>\n",
              "      <td>0</td>\n",
              "      <td>1</td>\n",
              "      <td>0</td>\n",
              "      <td>0</td>\n",
              "      <td>1</td>\n",
              "      <td>0</td>\n",
              "      <td>0</td>\n",
              "      <td>1</td>\n",
              "      <td>0</td>\n",
              "      <td>0</td>\n",
              "      <td>1</td>\n",
              "      <td>0</td>\n",
              "      <td>0</td>\n",
              "      <td>0</td>\n",
              "      <td>0</td>\n",
              "      <td>0</td>\n",
              "      <td>1</td>\n",
              "      <td>0</td>\n",
              "      <td>0</td>\n",
              "      <td>0</td>\n",
              "      <td>1</td>\n",
              "      <td>0</td>\n",
              "      <td>0</td>\n",
              "      <td>0</td>\n",
              "      <td>0</td>\n",
              "      <td>0</td>\n",
              "    </tr>\n",
              "  </tbody>\n",
              "</table>\n",
              "</div>"
            ],
            "text/plain": [
              "   odometer       age  ...  paint_color_silver  paint_color_white\n",
              "0 -1.265789  0.116728  ...                   0                  0\n",
              "1 -0.162591 -0.448541  ...                   0                  0\n",
              "2 -0.281398  0.681997  ...                   0                  0\n",
              "3  1.584893  5.204152  ...                   0                  0\n",
              "4  0.243464  0.823315  ...                   0                  0\n",
              "\n",
              "[5 rows x 60 columns]"
            ]
          },
          "metadata": {
            "tags": []
          },
          "execution_count": 102
        }
      ]
    },
    {
      "cell_type": "code",
      "metadata": {
        "colab": {
          "base_uri": "https://localhost:8080/"
        },
        "id": "i0IzrVZGsHg_",
        "outputId": "870a6e63-3d2a-4ba8-80af-db1914dcff64"
      },
      "source": [
        "X.shape"
      ],
      "execution_count": null,
      "outputs": [
        {
          "output_type": "execute_result",
          "data": {
            "text/plain": [
              "(324382, 60)"
            ]
          },
          "metadata": {
            "tags": []
          },
          "execution_count": 103
        }
      ]
    },
    {
      "cell_type": "code",
      "metadata": {
        "colab": {
          "base_uri": "https://localhost:8080/"
        },
        "id": "zyk9lNnmsJ2X",
        "outputId": "7fbfacad-8972-4134-ff2c-0013fdf3c74f"
      },
      "source": [
        "X.isna().sum()\n",
        "\n",
        "#age가 결측이 있음"
      ],
      "execution_count": null,
      "outputs": [
        {
          "output_type": "execute_result",
          "data": {
            "text/plain": [
              "odometer                    0\n",
              "age                       522\n",
              "region_columbus             0\n",
              "region_fayetteville         0\n",
              "region_jacksonville         0\n",
              "region_others               0\n",
              "region_rochester            0\n",
              "region_springfield          0\n",
              "manufacturer_chevrolet      0\n",
              "manufacturer_dodge          0\n",
              "manufacturer_ford           0\n",
              "manufacturer_gmc            0\n",
              "manufacturer_honda          0\n",
              "manufacturer_jeep           0\n",
              "manufacturer_nissan         0\n",
              "manufacturer_others         0\n",
              "manufacturer_ram            0\n",
              "manufacturer_toyota         0\n",
              "model_1500                  0\n",
              "model_accord                0\n",
              "model_altima                0\n",
              "model_camry                 0\n",
              "model_civic                 0\n",
              "model_escape                0\n",
              "model_f-150                 0\n",
              "model_others                0\n",
              "model_silverado             0\n",
              "model_silverado 1500        0\n",
              "condition_excellent         0\n",
              "condition_good              0\n",
              "condition_others            0\n",
              "cylinders_4 cylinders       0\n",
              "cylinders_6 cylinders       0\n",
              "cylinders_8 cylinders       0\n",
              "cylinders_others            0\n",
              "fuel_diesel                 0\n",
              "fuel_gas                    0\n",
              "fuel_others                 0\n",
              "transmission_automatic      0\n",
              "transmission_manual         0\n",
              "transmission_others         0\n",
              "drive_4wd                   0\n",
              "drive_fwd                   0\n",
              "drive_others                0\n",
              "size_full-size              0\n",
              "size_others                 0\n",
              "type_SUV                    0\n",
              "type_coupe                  0\n",
              "type_hatchback              0\n",
              "type_others                 0\n",
              "type_pickup                 0\n",
              "type_sedan                  0\n",
              "type_truck                  0\n",
              "paint_color_black           0\n",
              "paint_color_blue            0\n",
              "paint_color_grey            0\n",
              "paint_color_others          0\n",
              "paint_color_red             0\n",
              "paint_color_silver          0\n",
              "paint_color_white           0\n",
              "dtype: int64"
            ]
          },
          "metadata": {
            "tags": []
          },
          "execution_count": 105
        }
      ]
    },
    {
      "cell_type": "code",
      "metadata": {
        "colab": {
          "base_uri": "https://localhost:8080/"
        },
        "id": "w809yF4rsOYX",
        "outputId": "a91778f6-b015-4683-80bd-06a7e4bbfaf2"
      },
      "source": [
        "X['age'].mean()"
      ],
      "execution_count": null,
      "outputs": [
        {
          "output_type": "execute_result",
          "data": {
            "text/plain": [
              "2.4065666124846312e-15"
            ]
          },
          "metadata": {
            "tags": []
          },
          "execution_count": 106
        }
      ]
    },
    {
      "cell_type": "code",
      "metadata": {
        "id": "STmBre8rsUj9"
      },
      "source": [
        "# age 결측을 그냥 0으로 채우자"
      ],
      "execution_count": null,
      "outputs": []
    },
    {
      "cell_type": "code",
      "metadata": {
        "id": "1hvwjCaWsYwE"
      },
      "source": [
        "X.fillna(0.0, inplace = True)"
      ],
      "execution_count": null,
      "outputs": []
    },
    {
      "cell_type": "code",
      "metadata": {
        "colab": {
          "base_uri": "https://localhost:8080/"
        },
        "id": "yqD7p0n5scAn",
        "outputId": "c3fbbe07-21f9-4491-995d-27baa352e9be"
      },
      "source": [
        "X.isna().sum()"
      ],
      "execution_count": null,
      "outputs": [
        {
          "output_type": "execute_result",
          "data": {
            "text/plain": [
              "odometer                  0\n",
              "age                       0\n",
              "region_columbus           0\n",
              "region_fayetteville       0\n",
              "region_jacksonville       0\n",
              "region_others             0\n",
              "region_rochester          0\n",
              "region_springfield        0\n",
              "manufacturer_chevrolet    0\n",
              "manufacturer_dodge        0\n",
              "manufacturer_ford         0\n",
              "manufacturer_gmc          0\n",
              "manufacturer_honda        0\n",
              "manufacturer_jeep         0\n",
              "manufacturer_nissan       0\n",
              "manufacturer_others       0\n",
              "manufacturer_ram          0\n",
              "manufacturer_toyota       0\n",
              "model_1500                0\n",
              "model_accord              0\n",
              "model_altima              0\n",
              "model_camry               0\n",
              "model_civic               0\n",
              "model_escape              0\n",
              "model_f-150               0\n",
              "model_others              0\n",
              "model_silverado           0\n",
              "model_silverado 1500      0\n",
              "condition_excellent       0\n",
              "condition_good            0\n",
              "condition_others          0\n",
              "cylinders_4 cylinders     0\n",
              "cylinders_6 cylinders     0\n",
              "cylinders_8 cylinders     0\n",
              "cylinders_others          0\n",
              "fuel_diesel               0\n",
              "fuel_gas                  0\n",
              "fuel_others               0\n",
              "transmission_automatic    0\n",
              "transmission_manual       0\n",
              "transmission_others       0\n",
              "drive_4wd                 0\n",
              "drive_fwd                 0\n",
              "drive_others              0\n",
              "size_full-size            0\n",
              "size_others               0\n",
              "type_SUV                  0\n",
              "type_coupe                0\n",
              "type_hatchback            0\n",
              "type_others               0\n",
              "type_pickup               0\n",
              "type_sedan                0\n",
              "type_truck                0\n",
              "paint_color_black         0\n",
              "paint_color_blue          0\n",
              "paint_color_grey          0\n",
              "paint_color_others        0\n",
              "paint_color_red           0\n",
              "paint_color_silver        0\n",
              "paint_color_white         0\n",
              "dtype: int64"
            ]
          },
          "metadata": {
            "tags": []
          },
          "execution_count": 116
        }
      ]
    },
    {
      "cell_type": "markdown",
      "metadata": {
        "id": "D1PoxoE4szJg"
      },
      "source": [
        "### 학습데이터와 테스트데이터 분리"
      ]
    },
    {
      "cell_type": "code",
      "metadata": {
        "id": "6Znv3CvxshUD"
      },
      "source": [
        "from sklearn.model_selection import train_test_split "
      ],
      "execution_count": null,
      "outputs": []
    },
    {
      "cell_type": "code",
      "metadata": {
        "id": "Cemn5JCts6G0"
      },
      "source": [
        "X_train, X_test, y_train, y_test = train_test_split(X, y, test_size = 0.3, random_state = 1)"
      ],
      "execution_count": null,
      "outputs": []
    },
    {
      "cell_type": "markdown",
      "metadata": {
        "id": "AkazdnKrtTp5"
      },
      "source": [
        "## Regression model 학습하기"
      ]
    },
    {
      "cell_type": "code",
      "metadata": {
        "id": "dVZt2ir1tHhD"
      },
      "source": [
        "from xgboost import XGBRegressor"
      ],
      "execution_count": null,
      "outputs": []
    },
    {
      "cell_type": "code",
      "metadata": {
        "colab": {
          "base_uri": "https://localhost:8080/"
        },
        "id": "XQeWNcFJtaK1",
        "outputId": "d1ab687e-265b-490a-e189-58b0066af2d2"
      },
      "source": [
        "model_reg = XGBRegressor()\n",
        "model_reg.fit(X_train, y_train)"
      ],
      "execution_count": null,
      "outputs": [
        {
          "output_type": "stream",
          "text": [
            "[06:39:29] WARNING: /workspace/src/objective/regression_obj.cu:152: reg:linear is now deprecated in favor of reg:squarederror.\n"
          ],
          "name": "stdout"
        },
        {
          "output_type": "execute_result",
          "data": {
            "text/plain": [
              "XGBRegressor(base_score=0.5, booster='gbtree', colsample_bylevel=1,\n",
              "             colsample_bynode=1, colsample_bytree=1, gamma=0,\n",
              "             importance_type='gain', learning_rate=0.1, max_delta_step=0,\n",
              "             max_depth=3, min_child_weight=1, missing=None, n_estimators=100,\n",
              "             n_jobs=1, nthread=None, objective='reg:linear', random_state=0,\n",
              "             reg_alpha=0, reg_lambda=1, scale_pos_weight=1, seed=None,\n",
              "             silent=None, subsample=1, verbosity=1)"
            ]
          },
          "metadata": {
            "tags": []
          },
          "execution_count": 121
        }
      ]
    },
    {
      "cell_type": "code",
      "metadata": {
        "id": "vzGVUCsDtkVo"
      },
      "source": [
        "# 모델 평가하기\n",
        "from sklearn.metrics import mean_absolute_error, mean_squared_error\n",
        "from math import sqrt"
      ],
      "execution_count": null,
      "outputs": []
    },
    {
      "cell_type": "code",
      "metadata": {
        "colab": {
          "base_uri": "https://localhost:8080/"
        },
        "id": "y-H3lmJwtxGb",
        "outputId": "f29f4b98-2652-4a00-8721-a42f8e874f86"
      },
      "source": [
        "pred = model_reg.predict(X_test)\n",
        "print(mean_absolute_error(y_test,pred))\n",
        "print(sqrt(mean_squared_error(y_test, pred)))"
      ],
      "execution_count": null,
      "outputs": [
        {
          "output_type": "stream",
          "text": [
            "3771.7819860542554\n",
            "5610.364414330765\n"
          ],
          "name": "stdout"
        }
      ]
    },
    {
      "cell_type": "markdown",
      "metadata": {
        "id": "iEeofev2uDeB"
      },
      "source": [
        "## 심화분석"
      ]
    },
    {
      "cell_type": "code",
      "metadata": {
        "colab": {
          "base_uri": "https://localhost:8080/",
          "height": 483
        },
        "id": "wzi4RdDBt9ub",
        "outputId": "e81c2c7d-b3de-48d7-e26b-d758bcc14f1b"
      },
      "source": [
        "plt.figure(figsize=(10,8))\n",
        "plt.scatter(x = y_test, y=pred, alpha = 0.005)\n",
        "plt.plot([0,60000],[0,60000],'r-')\n",
        "plt.show()\n",
        "\n",
        "#저렴한 차는 잘 예측하는 거같긴하지만 아닌 케이스도 더러있음"
      ],
      "execution_count": null,
      "outputs": [
        {
          "output_type": "display_data",
          "data": {
            "image/png": "[encoded data removed]",
            "text/plain": [
              "<Figure size 720x576 with 1 Axes>"
            ]
          },
          "metadata": {
            "tags": [],
            "needs_background": "light"
          }
        }
      ]
    },
    {
      "cell_type": "code",
      "metadata": {
        "id": "vBcqhn3RuKdz"
      },
      "source": [
        "# 에러값의 히스토그램을 확인해보자 "
      ],
      "execution_count": null,
      "outputs": []
    },
    {
      "cell_type": "code",
      "metadata": {
        "colab": {
          "base_uri": "https://localhost:8080/",
          "height": 297
        },
        "id": "5JqJtBELuy-M",
        "outputId": "1f94de7e-8b5b-4198-d318-2417500a454d"
      },
      "source": [
        "err = ( pred - y_test) / y_test\n",
        "sns.histplot(data=err)"
      ],
      "execution_count": null,
      "outputs": [
        {
          "output_type": "execute_result",
          "data": {
            "text/plain": [
              "<matplotlib.axes._subplots.AxesSubplot at 0x7f58b21dc6d0>"
            ]
          },
          "metadata": {
            "tags": []
          },
          "execution_count": 134
        },
        {
          "output_type": "display_data",
          "data": {
            "image/png": "[encoded data removed]",
            "text/plain": [
              "<Figure size 432x288 with 1 Axes>"
            ]
          },
          "metadata": {
            "tags": [],
            "needs_background": "light"
          }
        }
      ]
    },
    {
      "cell_type": "code",
      "metadata": {
        "colab": {
          "base_uri": "https://localhost:8080/",
          "height": 265
        },
        "id": "w3c_peW7u6om",
        "outputId": "de17722a-6950-4c93-8cf7-d38caebc319f"
      },
      "source": [
        "plt.hist(err[err<6], bins=120)\n",
        "plt.show()"
      ],
      "execution_count": null,
      "outputs": [
        {
          "output_type": "display_data",
          "data": {
            "image/png": "[encoded data removed]",
            "text/plain": [
              "<Figure size 432x288 with 1 Axes>"
            ]
          },
          "metadata": {
            "tags": [],
            "needs_background": "light"
          }
        }
      ]
    },
    {
      "cell_type": "code",
      "metadata": {
        "colab": {
          "base_uri": "https://localhost:8080/",
          "height": 279
        },
        "id": "jb5Ko4kiu_la",
        "outputId": "b24f7496-5b96-4722-d6a1-d41d49fe6466"
      },
      "source": [
        "err = ( pred - y_test) / y_test * 100\n",
        "\n",
        "sns.histplot(err)\n",
        "plt.xlabel('error rate')\n",
        "plt.xlim(-100,100)\n",
        "plt.show()"
      ],
      "execution_count": null,
      "outputs": [
        {
          "output_type": "display_data",
          "data": {
            "image/png": "[encoded data removed]",
            "text/plain": [
              "<Figure size 432x288 with 1 Axes>"
            ]
          },
          "metadata": {
            "tags": [],
            "needs_background": "light"
          }
        }
      ]
    },
    {
      "cell_type": "code",
      "metadata": {
        "id": "rmlMyiXtvPkk"
      },
      "source": [
        ""
      ],
      "execution_count": null,
      "outputs": []
    }
  ]
}