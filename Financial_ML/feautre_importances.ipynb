{
  "nbformat": 4,
  "nbformat_minor": 0,
  "metadata": {
    "colab": {
      "name": "Untitled30.ipynb",
      "provenance": [],
      "authorship_tag": "ABX9TyMIsxWu9Rr9H+pyEGnjAYVV",
      "include_colab_link": true
    },
    "kernelspec": {
      "name": "python3",
      "display_name": "Python 3"
    },
    "language_info": {
      "name": "python"
    }
  },
  "cells": [
    {
      "cell_type": "markdown",
      "metadata": {
        "id": "view-in-github",
        "colab_type": "text"
      },
      "source": [
        "<a href=\"https://colab.research.google.com/github/Vaycold/Python_ML/blob/main/Financial_ML/feautre_importances.ipynb\" target=\"_parent\"><img src=\"https://colab.research.google.com/assets/colab-badge.svg\" alt=\"Open In Colab\"/></a>"
      ]
    },
    {
      "cell_type": "markdown",
      "metadata": {
        "id": "KzRdiryijAy8"
      },
      "source": [
        "## Package & Data, model Load\n",
        "\n",
        "    - eli5 : 머신러닝 모델 설명(Explain Like I am 5)\n",
        "    - pdpbox : partial dependence plot 학습 모델 설명 및 시각화\n",
        "    - lime   : 학습한 결과를 대리분석으로 설명"
      ]
    },
    {
      "cell_type": "code",
      "metadata": {
        "colab": {
          "base_uri": "https://localhost:8080/"
        },
        "id": "zeyoA8K9jaFK",
        "outputId": "4d476360-a448-4b13-bd35-02a40d1e4d93"
      },
      "source": [
        "! pip install eli5\n",
        "! pip install pdpbox\n",
        "! pip install lime"
      ],
      "execution_count": 1,
      "outputs": [
        {
          "output_type": "stream",
          "text": [
            "Requirement already satisfied: eli5 in /usr/local/lib/python3.7/dist-packages (0.11.0)\n",
            "Requirement already satisfied: attrs>16.0.0 in /usr/local/lib/python3.7/dist-packages (from eli5) (20.3.0)\n",
            "Requirement already satisfied: six in /usr/local/lib/python3.7/dist-packages (from eli5) (1.15.0)\n",
            "Requirement already satisfied: scikit-learn>=0.20 in /usr/local/lib/python3.7/dist-packages (from eli5) (0.22.2.post1)\n",
            "Requirement already satisfied: tabulate>=0.7.7 in /usr/local/lib/python3.7/dist-packages (from eli5) (0.8.9)\n",
            "Requirement already satisfied: numpy>=1.9.0 in /usr/local/lib/python3.7/dist-packages (from eli5) (1.19.5)\n",
            "Requirement already satisfied: jinja2 in /usr/local/lib/python3.7/dist-packages (from eli5) (2.11.3)\n",
            "Requirement already satisfied: graphviz in /usr/local/lib/python3.7/dist-packages (from eli5) (0.10.1)\n",
            "Requirement already satisfied: scipy in /usr/local/lib/python3.7/dist-packages (from eli5) (1.4.1)\n",
            "Requirement already satisfied: joblib>=0.11 in /usr/local/lib/python3.7/dist-packages (from scikit-learn>=0.20->eli5) (1.0.1)\n",
            "Requirement already satisfied: MarkupSafe>=0.23 in /usr/local/lib/python3.7/dist-packages (from jinja2->eli5) (1.1.1)\n",
            "Requirement already satisfied: pdpbox in /usr/local/lib/python3.7/dist-packages (0.2.1)\n",
            "Requirement already satisfied: pandas in /usr/local/lib/python3.7/dist-packages (from pdpbox) (1.1.5)\n",
            "Requirement already satisfied: matplotlib==3.1.1 in /usr/local/lib/python3.7/dist-packages (from pdpbox) (3.1.1)\n",
            "Requirement already satisfied: sklearn in /usr/local/lib/python3.7/dist-packages (from pdpbox) (0.0)\n",
            "Requirement already satisfied: numpy in /usr/local/lib/python3.7/dist-packages (from pdpbox) (1.19.5)\n",
            "Requirement already satisfied: scipy in /usr/local/lib/python3.7/dist-packages (from pdpbox) (1.4.1)\n",
            "Requirement already satisfied: psutil in /usr/local/lib/python3.7/dist-packages (from pdpbox) (5.4.8)\n",
            "Requirement already satisfied: joblib in /usr/local/lib/python3.7/dist-packages (from pdpbox) (1.0.1)\n",
            "Requirement already satisfied: python-dateutil>=2.7.3 in /usr/local/lib/python3.7/dist-packages (from pandas->pdpbox) (2.8.1)\n",
            "Requirement already satisfied: pytz>=2017.2 in /usr/local/lib/python3.7/dist-packages (from pandas->pdpbox) (2018.9)\n",
            "Requirement already satisfied: kiwisolver>=1.0.1 in /usr/local/lib/python3.7/dist-packages (from matplotlib==3.1.1->pdpbox) (1.3.1)\n",
            "Requirement already satisfied: cycler>=0.10 in /usr/local/lib/python3.7/dist-packages (from matplotlib==3.1.1->pdpbox) (0.10.0)\n",
            "Requirement already satisfied: pyparsing!=2.0.4,!=2.1.2,!=2.1.6,>=2.0.1 in /usr/local/lib/python3.7/dist-packages (from matplotlib==3.1.1->pdpbox) (2.4.7)\n",
            "Requirement already satisfied: scikit-learn in /usr/local/lib/python3.7/dist-packages (from sklearn->pdpbox) (0.22.2.post1)\n",
            "Requirement already satisfied: six>=1.5 in /usr/local/lib/python3.7/dist-packages (from python-dateutil>=2.7.3->pandas->pdpbox) (1.15.0)\n",
            "Requirement already satisfied: lime in /usr/local/lib/python3.7/dist-packages (0.2.0.1)\n",
            "Requirement already satisfied: matplotlib in /usr/local/lib/python3.7/dist-packages (from lime) (3.1.1)\n",
            "Requirement already satisfied: scikit-learn>=0.18 in /usr/local/lib/python3.7/dist-packages (from lime) (0.22.2.post1)\n",
            "Requirement already satisfied: scipy in /usr/local/lib/python3.7/dist-packages (from lime) (1.4.1)\n",
            "Requirement already satisfied: numpy in /usr/local/lib/python3.7/dist-packages (from lime) (1.19.5)\n",
            "Requirement already satisfied: tqdm in /usr/local/lib/python3.7/dist-packages (from lime) (4.41.1)\n",
            "Requirement already satisfied: scikit-image>=0.12 in /usr/local/lib/python3.7/dist-packages (from lime) (0.16.2)\n",
            "Requirement already satisfied: python-dateutil>=2.1 in /usr/local/lib/python3.7/dist-packages (from matplotlib->lime) (2.8.1)\n",
            "Requirement already satisfied: kiwisolver>=1.0.1 in /usr/local/lib/python3.7/dist-packages (from matplotlib->lime) (1.3.1)\n",
            "Requirement already satisfied: cycler>=0.10 in /usr/local/lib/python3.7/dist-packages (from matplotlib->lime) (0.10.0)\n",
            "Requirement already satisfied: pyparsing!=2.0.4,!=2.1.2,!=2.1.6,>=2.0.1 in /usr/local/lib/python3.7/dist-packages (from matplotlib->lime) (2.4.7)\n",
            "Requirement already satisfied: joblib>=0.11 in /usr/local/lib/python3.7/dist-packages (from scikit-learn>=0.18->lime) (1.0.1)\n",
            "Requirement already satisfied: imageio>=2.3.0 in /usr/local/lib/python3.7/dist-packages (from scikit-image>=0.12->lime) (2.4.1)\n",
            "Requirement already satisfied: pillow>=4.3.0 in /usr/local/lib/python3.7/dist-packages (from scikit-image>=0.12->lime) (7.1.2)\n",
            "Requirement already satisfied: networkx>=2.0 in /usr/local/lib/python3.7/dist-packages (from scikit-image>=0.12->lime) (2.5.1)\n",
            "Requirement already satisfied: PyWavelets>=0.4.0 in /usr/local/lib/python3.7/dist-packages (from scikit-image>=0.12->lime) (1.1.1)\n",
            "Requirement already satisfied: six>=1.5 in /usr/local/lib/python3.7/dist-packages (from python-dateutil>=2.1->matplotlib->lime) (1.15.0)\n",
            "Requirement already satisfied: decorator<5,>=4.3 in /usr/local/lib/python3.7/dist-packages (from networkx>=2.0->scikit-image>=0.12->lime) (4.4.2)\n"
          ],
          "name": "stdout"
        }
      ]
    },
    {
      "cell_type": "markdown",
      "metadata": {
        "id": "1kq4E3JYjocv"
      },
      "source": [
        "  [머신러닝 모델, 데이터셋을 저장, 불러오기 방법]\n",
        "\n",
        "  ____\n",
        "  1. 외부 모델 저장 후, 불러오기\n",
        "  2. 나의 모델 저장 후, 불러오기\n",
        "  3. 세션 내에서 학습시킨 모델 이용하기.\n"
      ]
    },
    {
      "cell_type": "code",
      "metadata": {
        "colab": {
          "base_uri": "https://localhost:8080/"
        },
        "id": "nwH9GjMYidBE",
        "outputId": "d45b5d11-0021-436d-f0b3-c5462d5bb25e"
      },
      "source": [
        "\n",
        "import numpy as np\n",
        "import pandas as pd\n",
        "import matplotlib.pyplot as plt\n",
        "\n",
        "import pickle      ## 데이터 모델 저장, 불러오기\n",
        "import gzip        ## 파일압축, 풀기\n",
        "\n",
        "import warnings\n",
        "warnings.filterwarnings('ignore')\n",
        "\n",
        "from google.colab import drive\n",
        "drive.mount('/content/Drive')"
      ],
      "execution_count": 2,
      "outputs": [
        {
          "output_type": "stream",
          "text": [
            "Mounted at /content/Drive\n"
          ],
          "name": "stdout"
        }
      ]
    },
    {
      "cell_type": "code",
      "metadata": {
        "id": "s9xl9KGsisFr"
      },
      "source": [
        "# ML model\n",
        "datapath = 'https://github.com/mchoimis/financialML/raw/main/xai/'"
      ],
      "execution_count": 3,
      "outputs": []
    },
    {
      "cell_type": "markdown",
      "metadata": {
        "id": "NVrQ92u6oTjI"
      },
      "source": [
        "```\n",
        "모델 및 데이터 설명\n",
        " - data00 : 이진분류용 데이터\n",
        " - data01 : 다중분류용 데이터\n",
        " - logreg : Logistic Regression Classifier( 00 )\n",
        " - rfc    : Random Forest Classifier ( 00, 01 )\n",
        " - gbc    : Gradient Boosting Classifier ( 00 )\n",
        " - lgbm   : LightGBM Classifier (00, 01 )\n",
        "```"
      ]
    },
    {
      "cell_type": "code",
      "metadata": {
        "id": "2sjD4aAjoQq7"
      },
      "source": [
        "import os"
      ],
      "execution_count": 4,
      "outputs": []
    },
    {
      "cell_type": "code",
      "metadata": {
        "colab": {
          "base_uri": "https://localhost:8080/"
        },
        "id": "89lKNJS5pVsY",
        "outputId": "01d11a08-24e9-40d9-f99d-e5db63a49d67"
      },
      "source": [
        "# Get present working Directory\n",
        "! pwd"
      ],
      "execution_count": 5,
      "outputs": [
        {
          "output_type": "stream",
          "text": [
            "/content\n"
          ],
          "name": "stdout"
        }
      ]
    },
    {
      "cell_type": "code",
      "metadata": {
        "id": "eqk2SgF2ppyy"
      },
      "source": [
        "# Create New Folder\n",
        "! mkdir financialml"
      ],
      "execution_count": 6,
      "outputs": []
    },
    {
      "cell_type": "code",
      "metadata": {
        "id": "wRIvg787pxE4"
      },
      "source": [
        "# 저장한 데이터와 모델 불러오기\n",
        "\n",
        "modelpath = '/content/financialml/'\n",
        "with gzip.open(modelpath + 'data00.pickle', 'rb') as f:\n",
        "    data00 = pickle.load(f)\n",
        "with gzip.open(modelpath + 'data00_X_train.pickle', 'rb') as f:\n",
        "    X_train = pickle.load(f)\n",
        "with gzip.open(modelpath + 'data00_X_test.pickle', 'rb') as f:\n",
        "    X_test = pickle.load(f)\n",
        "with gzip.open(modelpath + 'data00_y_train.pickle', 'rb') as f:\n",
        "    y_train = pickle.load(f)\n",
        "with gzip.open(modelpath + 'data00_y_test.pickle', 'rb') as f:\n",
        "    y_test = pickle.load(f)"
      ],
      "execution_count": 7,
      "outputs": []
    },
    {
      "cell_type": "markdown",
      "metadata": {
        "id": "-KKPSoTbtecv"
      },
      "source": [
        "## Interpretation Logistic Regression model's coef"
      ]
    },
    {
      "cell_type": "code",
      "metadata": {
        "id": "IIbqWDL0s6Ct"
      },
      "source": [
        "# 로지스틱 모델 회귀계수 해석\n",
        "# 이진분류 모델 불러오기\n",
        "with open(modelpath + 'logreg00.pkl', 'rb') as file :\n",
        "    logreg = pickle.load(file)"
      ],
      "execution_count": 8,
      "outputs": []
    },
    {
      "cell_type": "code",
      "metadata": {
        "colab": {
          "base_uri": "https://localhost:8080/"
        },
        "id": "2_vNQPxatMcG",
        "outputId": "fae67858-b0b7-4f9c-daec-1cb1566f161b"
      },
      "source": [
        "X_test.columns"
      ],
      "execution_count": 9,
      "outputs": [
        {
          "output_type": "execute_result",
          "data": {
            "text/plain": [
              "Index(['age', 'workclass', 'education.num', 'marital.status', 'occupation',\n",
              "       'relationship', 'race', 'sex', 'capital.gain', 'capital.loss',\n",
              "       'hours.per.week', 'native.country'],\n",
              "      dtype='object')"
            ]
          },
          "metadata": {
            "tags": []
          },
          "execution_count": 9
        }
      ]
    },
    {
      "cell_type": "code",
      "metadata": {
        "colab": {
          "base_uri": "https://localhost:8080/"
        },
        "id": "Tx3BU6njtN4J",
        "outputId": "018408b9-bb40-4d7a-f68b-77af0e308526"
      },
      "source": [
        "logreg.coef_"
      ],
      "execution_count": 10,
      "outputs": [
        {
          "output_type": "execute_result",
          "data": {
            "text/plain": [
              "array([[ 0.45435118, -0.08929983,  0.88011855, -0.37428934, -0.01347698,\n",
              "        -0.19718355,  0.08082303,  0.43380857,  2.34127172,  0.27435968,\n",
              "         0.37244795,  0.01498249]])"
            ]
          },
          "metadata": {
            "tags": []
          },
          "execution_count": 10
        }
      ]
    },
    {
      "cell_type": "code",
      "metadata": {
        "colab": {
          "base_uri": "https://localhost:8080/"
        },
        "id": "gXKoHRHntxHs",
        "outputId": "d3e0e9c5-0652-47f0-c9d2-7e7edc38e351"
      },
      "source": [
        "# Change the shape\n",
        "coef = sum(logreg.coef_)\n",
        "coef"
      ],
      "execution_count": 11,
      "outputs": [
        {
          "output_type": "execute_result",
          "data": {
            "text/plain": [
              "array([ 0.45435118, -0.08929983,  0.88011855, -0.37428934, -0.01347698,\n",
              "       -0.19718355,  0.08082303,  0.43380857,  2.34127172,  0.27435968,\n",
              "        0.37244795,  0.01498249])"
            ]
          },
          "metadata": {
            "tags": []
          },
          "execution_count": 11
        }
      ]
    },
    {
      "cell_type": "code",
      "metadata": {
        "colab": {
          "base_uri": "https://localhost:8080/",
          "height": 535
        },
        "id": "ZU24ymg7t5Vx",
        "outputId": "839912ba-b34f-47ba-c0f7-1e71d8603051"
      },
      "source": [
        "# Visualization\n",
        "\n",
        "indices = np.argsort(coef)\n",
        "\n",
        "plt.figure(figsize=(12,8))\n",
        "plt.barh(X_test.columns, coef[indices],\n",
        "         .35,\n",
        "         color = 'orange',\n",
        "         align = 'center')\n",
        "plt.yticks(X_test.columns, X_test.columns[indices],\n",
        "           fontsize=12)\n",
        "plt.xlabel('Coefficients(beta)', fontsize = 12)\n",
        "plt.title('Feature Importances - Logistic Regression Coefficients\\n', \n",
        "          fontsize = 15)\n",
        "plt.show()"
      ],
      "execution_count": 12,
      "outputs": [
        {
          "output_type": "display_data",
          "data": {
            "image/png": "[encoded data removed]",
            "text/plain": [
              "<Figure size 864x576 with 1 Axes>"
            ]
          },
          "metadata": {
            "tags": [],
            "needs_background": "light"
          }
        }
      ]
    },
    {
      "cell_type": "markdown",
      "metadata": {
        "id": "DMUgmja49iGc"
      },
      "source": [
        "## Checking the Feature importance [ Random Forest Classifier ]\n"
      ]
    },
    {
      "cell_type": "code",
      "metadata": {
        "id": "IJKUc5lV9i6b"
      },
      "source": [
        "with gzip.open(modelpath + 'data00_X_train.pickle',\n",
        "               'rb') as f:\n",
        "               x_train = pickle.load(f)\n",
        "with gzip.open(modelpath + 'data00_X_test.pickle',\n",
        "               'rb') as f:\n",
        "               x_test = pickle.load(f)"
      ],
      "execution_count": 13,
      "outputs": []
    },
    {
      "cell_type": "code",
      "metadata": {
        "id": "dwZ-UHEE9_b8"
      },
      "source": [
        "# 기존의 방법은 모델을 불러오고 fitting을 시켜주었었음.\n",
        "from sklearn.ensemble import RandomForestClassifier\n",
        "rf = RandomForestClassifier(random_state = 42)\n",
        "rfc = rf.fit(x_train, y_train)"
      ],
      "execution_count": 14,
      "outputs": []
    },
    {
      "cell_type": "code",
      "metadata": {
        "id": "itIzHTLZ-d-e"
      },
      "source": [
        "# Save the model\n",
        "pickle.dump(rfc , open(modelpath + 'rfc00.pkl', 'wb'))"
      ],
      "execution_count": 15,
      "outputs": []
    },
    {
      "cell_type": "code",
      "metadata": {
        "id": "QTnWzhbH-udK"
      },
      "source": [
        "# Load the model\n",
        "with open(modelpath + 'rfc00.pkl', 'rb') as file :\n",
        "    rf_model = pickle.load(file)"
      ],
      "execution_count": 16,
      "outputs": []
    },
    {
      "cell_type": "code",
      "metadata": {
        "colab": {
          "base_uri": "https://localhost:8080/"
        },
        "id": "Qrzrve0N_C1N",
        "outputId": "58e4a2b5-a3e2-4a18-8cd3-3c7cb97199a6"
      },
      "source": [
        "rf_model"
      ],
      "execution_count": 17,
      "outputs": [
        {
          "output_type": "execute_result",
          "data": {
            "text/plain": [
              "RandomForestClassifier(bootstrap=True, ccp_alpha=0.0, class_weight=None,\n",
              "                       criterion='gini', max_depth=None, max_features='auto',\n",
              "                       max_leaf_nodes=None, max_samples=None,\n",
              "                       min_impurity_decrease=0.0, min_impurity_split=None,\n",
              "                       min_samples_leaf=1, min_samples_split=2,\n",
              "                       min_weight_fraction_leaf=0.0, n_estimators=100,\n",
              "                       n_jobs=None, oob_score=False, random_state=42, verbose=0,\n",
              "                       warm_start=False)"
            ]
          },
          "metadata": {
            "tags": []
          },
          "execution_count": 17
        }
      ]
    },
    {
      "cell_type": "code",
      "metadata": {
        "colab": {
          "base_uri": "https://localhost:8080/"
        },
        "id": "CcV6wV-4_Fvl",
        "outputId": "f5e6f8c1-3377-4b17-92e1-1326bc58b7c2"
      },
      "source": [
        "# Feature's importance \n",
        "importances = rf_model.feature_importances_\n",
        "importances"
      ],
      "execution_count": 18,
      "outputs": [
        {
          "output_type": "execute_result",
          "data": {
            "text/plain": [
              "array([0.2120391 , 0.04862643, 0.14503283, 0.05946474, 0.08394042,\n",
              "       0.12762821, 0.01853742, 0.01328217, 0.12340054, 0.0394054 ,\n",
              "       0.10993623, 0.0187065 ])"
            ]
          },
          "metadata": {
            "tags": []
          },
          "execution_count": 18
        }
      ]
    },
    {
      "cell_type": "code",
      "metadata": {
        "colab": {
          "base_uri": "https://localhost:8080/",
          "height": 535
        },
        "id": "xLSsz6X1_Pj7",
        "outputId": "21bdd21c-fa00-4a00-c39f-7fd231873828"
      },
      "source": [
        "# Visualizing\n",
        "\n",
        "indices = np.argsort(importances)\n",
        "\n",
        "plt.figure(figsize=(12,8))\n",
        "plt.barh(X_test.columns, importances[indices],\n",
        "         .35,\n",
        "         color = 'lightgreen',\n",
        "         align = 'center')\n",
        "plt.yticks(X_test.columns, X_test.columns[indices],\n",
        "           fontsize=12)\n",
        "plt.xlabel('Relative Importnaces (MDI)', fontsize = 12)\n",
        "plt.title('Feature Importances -- Random Forest Classifier(binary) \\n', \n",
        "          fontsize = 15)\n",
        "plt.show()"
      ],
      "execution_count": 19,
      "outputs": [
        {
          "output_type": "display_data",
          "data": {
            "image/png": "[encoded data removed]",
            "text/plain": [
              "<Figure size 864x576 with 1 Axes>"
            ]
          },
          "metadata": {
            "tags": [],
            "needs_background": "light"
          }
        }
      ]
    },
    {
      "cell_type": "code",
      "metadata": {
        "colab": {
          "base_uri": "https://localhost:8080/"
        },
        "id": "CULJ9sbd_rIQ",
        "outputId": "44a579d0-5bfc-410b-c95f-9551aa4fdd07"
      },
      "source": [
        "# Eli5를 이용하여 Permutation importance 구하기\n",
        "\n",
        "import eli5\n",
        "from eli5.sklearn import PermutationImportance\n",
        "\n",
        "imp = PermutationImportance(rf_model, random_state = 1).fit(x_test,y_test)\n",
        "imp"
      ],
      "execution_count": 20,
      "outputs": [
        {
          "output_type": "execute_result",
          "data": {
            "text/plain": [
              "PermutationImportance(cv='prefit',\n",
              "                      estimator=RandomForestClassifier(bootstrap=True,\n",
              "                                                       ccp_alpha=0.0,\n",
              "                                                       class_weight=None,\n",
              "                                                       criterion='gini',\n",
              "                                                       max_depth=None,\n",
              "                                                       max_features='auto',\n",
              "                                                       max_leaf_nodes=None,\n",
              "                                                       max_samples=None,\n",
              "                                                       min_impurity_decrease=0.0,\n",
              "                                                       min_impurity_split=None,\n",
              "                                                       min_samples_leaf=1,\n",
              "                                                       min_samples_split=2,\n",
              "                                                       min_weight_fraction_leaf=0.0,\n",
              "                                                       n_estimators=100,\n",
              "                                                       n_jobs=None,\n",
              "                                                       oob_score=False,\n",
              "                                                       random_state=42,\n",
              "                                                       verbose=0,\n",
              "                                                       warm_start=False),\n",
              "                      n_iter=5, random_state=1, refit=True, scoring=None)"
            ]
          },
          "metadata": {
            "tags": []
          },
          "execution_count": 20
        }
      ]
    },
    {
      "cell_type": "code",
      "metadata": {
        "colab": {
          "base_uri": "https://localhost:8080/",
          "height": 235
        },
        "id": "h4n9GNrIAt2C",
        "outputId": "e6876d93-c936-44b8-af7d-1f5fef426e28"
      },
      "source": [
        "# 피쳐 중요도 순서대로 확인\n",
        "eli5.show_weights(imp,feature_names = X_test.columns.tolist())"
      ],
      "execution_count": 21,
      "outputs": [
        {
          "output_type": "execute_result",
          "data": {
            "text/html": [
              "\n",
              "    <style>\n",
              "    table.eli5-weights tr:hover {\n",
              "        filter: brightness(85%);\n",
              "    }\n",
              "</style>\n",
              "\n",
              "\n",
              "\n",
              "    \n",
              "\n",
              "    \n",
              "\n",
              "    \n",
              "\n",
              "    \n",
              "\n",
              "    \n",
              "\n",
              "    \n",
              "\n",
              "\n",
              "    \n",
              "\n",
              "    \n",
              "\n",
              "    \n",
              "\n",
              "    \n",
              "\n",
              "    \n",
              "\n",
              "    \n",
              "\n",
              "\n",
              "    \n",
              "\n",
              "    \n",
              "\n",
              "    \n",
              "\n",
              "    \n",
              "\n",
              "    \n",
              "        <table class=\"eli5-weights eli5-feature-importances\" style=\"border-collapse: collapse; border: none; margin-top: 0em; table-layout: auto;\">\n",
              "    <thead>\n",
              "    <tr style=\"border: none;\">\n",
              "        <th style=\"padding: 0 1em 0 0.5em; text-align: right; border: none;\">Weight</th>\n",
              "        <th style=\"padding: 0 0.5em 0 0.5em; text-align: left; border: none;\">Feature</th>\n",
              "    </tr>\n",
              "    </thead>\n",
              "    <tbody>\n",
              "    \n",
              "        <tr style=\"background-color: hsl(120, 100.00%, 80.00%); border: none;\">\n",
              "            <td style=\"padding: 0 1em 0 0.5em; text-align: right; border: none;\">\n",
              "                0.0455\n",
              "                \n",
              "                    &plusmn; 0.0031\n",
              "                \n",
              "            </td>\n",
              "            <td style=\"padding: 0 0.5em 0 0.5em; text-align: left; border: none;\">\n",
              "                capital.gain\n",
              "            </td>\n",
              "        </tr>\n",
              "    \n",
              "        <tr style=\"background-color: hsl(120, 100.00%, 85.79%); border: none;\">\n",
              "            <td style=\"padding: 0 1em 0 0.5em; text-align: right; border: none;\">\n",
              "                0.0279\n",
              "                \n",
              "                    &plusmn; 0.0072\n",
              "                \n",
              "            </td>\n",
              "            <td style=\"padding: 0 0.5em 0 0.5em; text-align: left; border: none;\">\n",
              "                relationship\n",
              "            </td>\n",
              "        </tr>\n",
              "    \n",
              "        <tr style=\"background-color: hsl(120, 100.00%, 87.31%); border: none;\">\n",
              "            <td style=\"padding: 0 1em 0 0.5em; text-align: right; border: none;\">\n",
              "                0.0238\n",
              "                \n",
              "                    &plusmn; 0.0020\n",
              "                \n",
              "            </td>\n",
              "            <td style=\"padding: 0 0.5em 0 0.5em; text-align: left; border: none;\">\n",
              "                education.num\n",
              "            </td>\n",
              "        </tr>\n",
              "    \n",
              "        <tr style=\"background-color: hsl(120, 100.00%, 92.11%); border: none;\">\n",
              "            <td style=\"padding: 0 1em 0 0.5em; text-align: right; border: none;\">\n",
              "                0.0121\n",
              "                \n",
              "                    &plusmn; 0.0062\n",
              "                \n",
              "            </td>\n",
              "            <td style=\"padding: 0 0.5em 0 0.5em; text-align: left; border: none;\">\n",
              "                age\n",
              "            </td>\n",
              "        </tr>\n",
              "    \n",
              "        <tr style=\"background-color: hsl(120, 100.00%, 92.88%); border: none;\">\n",
              "            <td style=\"padding: 0 1em 0 0.5em; text-align: right; border: none;\">\n",
              "                0.0104\n",
              "                \n",
              "                    &plusmn; 0.0018\n",
              "                \n",
              "            </td>\n",
              "            <td style=\"padding: 0 0.5em 0 0.5em; text-align: left; border: none;\">\n",
              "                capital.loss\n",
              "            </td>\n",
              "        </tr>\n",
              "    \n",
              "        <tr style=\"background-color: hsl(120, 100.00%, 92.93%); border: none;\">\n",
              "            <td style=\"padding: 0 1em 0 0.5em; text-align: right; border: none;\">\n",
              "                0.0103\n",
              "                \n",
              "                    &plusmn; 0.0051\n",
              "                \n",
              "            </td>\n",
              "            <td style=\"padding: 0 0.5em 0 0.5em; text-align: left; border: none;\">\n",
              "                occupation\n",
              "            </td>\n",
              "        </tr>\n",
              "    \n",
              "        <tr style=\"background-color: hsl(120, 100.00%, 95.98%); border: none;\">\n",
              "            <td style=\"padding: 0 1em 0 0.5em; text-align: right; border: none;\">\n",
              "                0.0046\n",
              "                \n",
              "                    &plusmn; 0.0017\n",
              "                \n",
              "            </td>\n",
              "            <td style=\"padding: 0 0.5em 0 0.5em; text-align: left; border: none;\">\n",
              "                workclass\n",
              "            </td>\n",
              "        </tr>\n",
              "    \n",
              "        <tr style=\"background-color: hsl(120, 100.00%, 96.13%); border: none;\">\n",
              "            <td style=\"padding: 0 1em 0 0.5em; text-align: right; border: none;\">\n",
              "                0.0044\n",
              "                \n",
              "                    &plusmn; 0.0047\n",
              "                \n",
              "            </td>\n",
              "            <td style=\"padding: 0 0.5em 0 0.5em; text-align: left; border: none;\">\n",
              "                hours.per.week\n",
              "            </td>\n",
              "        </tr>\n",
              "    \n",
              "        <tr style=\"background-color: hsl(120, 100.00%, 98.08%); border: none;\">\n",
              "            <td style=\"padding: 0 1em 0 0.5em; text-align: right; border: none;\">\n",
              "                0.0016\n",
              "                \n",
              "                    &plusmn; 0.0022\n",
              "                \n",
              "            </td>\n",
              "            <td style=\"padding: 0 0.5em 0 0.5em; text-align: left; border: none;\">\n",
              "                marital.status\n",
              "            </td>\n",
              "        </tr>\n",
              "    \n",
              "        <tr style=\"background-color: hsl(120, 100.00%, 98.93%); border: none;\">\n",
              "            <td style=\"padding: 0 1em 0 0.5em; text-align: right; border: none;\">\n",
              "                0.0007\n",
              "                \n",
              "                    &plusmn; 0.0018\n",
              "                \n",
              "            </td>\n",
              "            <td style=\"padding: 0 0.5em 0 0.5em; text-align: left; border: none;\">\n",
              "                sex\n",
              "            </td>\n",
              "        </tr>\n",
              "    \n",
              "        <tr style=\"background-color: hsl(120, 100.00%, 99.58%); border: none;\">\n",
              "            <td style=\"padding: 0 1em 0 0.5em; text-align: right; border: none;\">\n",
              "                0.0002\n",
              "                \n",
              "                    &plusmn; 0.0011\n",
              "                \n",
              "            </td>\n",
              "            <td style=\"padding: 0 0.5em 0 0.5em; text-align: left; border: none;\">\n",
              "                race\n",
              "            </td>\n",
              "        </tr>\n",
              "    \n",
              "        <tr style=\"background-color: hsl(0, 100.00%, 99.51%); border: none;\">\n",
              "            <td style=\"padding: 0 1em 0 0.5em; text-align: right; border: none;\">\n",
              "                -0.0002\n",
              "                \n",
              "                    &plusmn; 0.0015\n",
              "                \n",
              "            </td>\n",
              "            <td style=\"padding: 0 0.5em 0 0.5em; text-align: left; border: none;\">\n",
              "                native.country\n",
              "            </td>\n",
              "        </tr>\n",
              "    \n",
              "    \n",
              "    </tbody>\n",
              "</table>\n",
              "    \n",
              "\n",
              "    \n",
              "\n",
              "\n",
              "    \n",
              "\n",
              "    \n",
              "\n",
              "    \n",
              "\n",
              "    \n",
              "\n",
              "    \n",
              "\n",
              "    \n",
              "\n",
              "\n",
              "\n"
            ],
            "text/plain": [
              "<IPython.core.display.HTML object>"
            ]
          },
          "metadata": {
            "tags": []
          },
          "execution_count": 21
        }
      ]
    },
    {
      "cell_type": "code",
      "metadata": {
        "colab": {
          "base_uri": "https://localhost:8080/"
        },
        "id": "t-NhEbxtBA93",
        "outputId": "b5e5d40f-f491-4faf-dac4-a8937d535c54"
      },
      "source": [
        "print(eli5.format_as_text(\n",
        "    eli5.explain_weights(imp, feature_names = X_test.columns.tolist())\n",
        "))"
      ],
      "execution_count": 22,
      "outputs": [
        {
          "output_type": "stream",
          "text": [
            "Explained as: feature importances\n",
            "\n",
            "Feature importances, computed as a decrease in score when feature\n",
            "values are permuted (i.e. become noise). This is also known as \n",
            "permutation importance.\n",
            "\n",
            "If feature importances are computed on the same data as used for training, \n",
            "they don't reflect importance of features for generalization. Use a held-out\n",
            "dataset if you want generalization feature importances.\n",
            "\n",
            "0.0455 ± 0.0031  capital.gain\n",
            "0.0279 ± 0.0072  relationship\n",
            "0.0238 ± 0.0020  education.num\n",
            "0.0121 ± 0.0062  age\n",
            "0.0104 ± 0.0018  capital.loss\n",
            "0.0103 ± 0.0051  occupation\n",
            "0.0046 ± 0.0017  workclass\n",
            "0.0044 ± 0.0047  hours.per.week\n",
            "0.0016 ± 0.0022  marital.status\n",
            "0.0007 ± 0.0018  sex\n",
            "0.0002 ± 0.0011  race\n",
            "-0.0002 ± 0.0015  native.country\n"
          ],
          "name": "stdout"
        }
      ]
    },
    {
      "cell_type": "markdown",
      "metadata": {
        "id": "1OXaK4srB1Ae"
      },
      "source": [
        "## Partial Dependence Plot\n",
        "    피쳐의 수치를 선형적으로 변형하면서 알고리즘 해석 능력이 얼마나 증가하고 감소하는 지 관찰하는 기법\n",
        "    "
      ]
    },
    {
      "cell_type": "code",
      "metadata": {
        "id": "i8pH03dDCQLi"
      },
      "source": [
        "# preparing input binary data \n",
        "\n",
        "data00_prep = data00.drop(\n",
        "    ['education','fnlwgt'],\n",
        "    axis=1\n",
        "    )"
      ],
      "execution_count": 23,
      "outputs": []
    },
    {
      "cell_type": "code",
      "metadata": {
        "colab": {
          "base_uri": "https://localhost:8080/",
          "height": 195
        },
        "id": "IOLAkjM8CQJD",
        "outputId": "66e4a5ed-63b3-456e-fed9-5cb135432906"
      },
      "source": [
        "# numerically coding\n",
        "\n",
        "from sklearn.preprocessing import LabelEncoder\n",
        "categorical = ['income', 'workclass', 'marital.status','occupation','relationship','race','sex','native.country']\n",
        "for feature in categorical :\n",
        "    le = LabelEncoder()\n",
        "    data00_prep[feature] = le.fit_transform(data00_prep[feature])\n",
        "data00_prep.head()"
      ],
      "execution_count": 24,
      "outputs": [
        {
          "output_type": "execute_result",
          "data": {
            "text/html": [
              "<div>\n",
              "<style scoped>\n",
              "    .dataframe tbody tr th:only-of-type {\n",
              "        vertical-align: middle;\n",
              "    }\n",
              "\n",
              "    .dataframe tbody tr th {\n",
              "        vertical-align: top;\n",
              "    }\n",
              "\n",
              "    .dataframe thead th {\n",
              "        text-align: right;\n",
              "    }\n",
              "</style>\n",
              "<table border=\"1\" class=\"dataframe\">\n",
              "  <thead>\n",
              "    <tr style=\"text-align: right;\">\n",
              "      <th></th>\n",
              "      <th>age</th>\n",
              "      <th>workclass</th>\n",
              "      <th>education.num</th>\n",
              "      <th>marital.status</th>\n",
              "      <th>occupation</th>\n",
              "      <th>relationship</th>\n",
              "      <th>race</th>\n",
              "      <th>sex</th>\n",
              "      <th>capital.gain</th>\n",
              "      <th>capital.loss</th>\n",
              "      <th>hours.per.week</th>\n",
              "      <th>native.country</th>\n",
              "      <th>income</th>\n",
              "    </tr>\n",
              "  </thead>\n",
              "  <tbody>\n",
              "    <tr>\n",
              "      <th>0</th>\n",
              "      <td>90</td>\n",
              "      <td>3</td>\n",
              "      <td>9</td>\n",
              "      <td>6</td>\n",
              "      <td>9</td>\n",
              "      <td>1</td>\n",
              "      <td>4</td>\n",
              "      <td>0</td>\n",
              "      <td>0</td>\n",
              "      <td>4356</td>\n",
              "      <td>40</td>\n",
              "      <td>38</td>\n",
              "      <td>0</td>\n",
              "    </tr>\n",
              "    <tr>\n",
              "      <th>1</th>\n",
              "      <td>82</td>\n",
              "      <td>3</td>\n",
              "      <td>9</td>\n",
              "      <td>6</td>\n",
              "      <td>3</td>\n",
              "      <td>1</td>\n",
              "      <td>4</td>\n",
              "      <td>0</td>\n",
              "      <td>0</td>\n",
              "      <td>4356</td>\n",
              "      <td>18</td>\n",
              "      <td>38</td>\n",
              "      <td>0</td>\n",
              "    </tr>\n",
              "    <tr>\n",
              "      <th>2</th>\n",
              "      <td>66</td>\n",
              "      <td>3</td>\n",
              "      <td>10</td>\n",
              "      <td>6</td>\n",
              "      <td>9</td>\n",
              "      <td>4</td>\n",
              "      <td>2</td>\n",
              "      <td>0</td>\n",
              "      <td>0</td>\n",
              "      <td>4356</td>\n",
              "      <td>40</td>\n",
              "      <td>38</td>\n",
              "      <td>0</td>\n",
              "    </tr>\n",
              "    <tr>\n",
              "      <th>3</th>\n",
              "      <td>54</td>\n",
              "      <td>3</td>\n",
              "      <td>4</td>\n",
              "      <td>0</td>\n",
              "      <td>6</td>\n",
              "      <td>4</td>\n",
              "      <td>4</td>\n",
              "      <td>0</td>\n",
              "      <td>0</td>\n",
              "      <td>3900</td>\n",
              "      <td>40</td>\n",
              "      <td>38</td>\n",
              "      <td>0</td>\n",
              "    </tr>\n",
              "    <tr>\n",
              "      <th>4</th>\n",
              "      <td>41</td>\n",
              "      <td>3</td>\n",
              "      <td>10</td>\n",
              "      <td>5</td>\n",
              "      <td>9</td>\n",
              "      <td>3</td>\n",
              "      <td>4</td>\n",
              "      <td>0</td>\n",
              "      <td>0</td>\n",
              "      <td>3900</td>\n",
              "      <td>40</td>\n",
              "      <td>38</td>\n",
              "      <td>0</td>\n",
              "    </tr>\n",
              "  </tbody>\n",
              "</table>\n",
              "</div>"
            ],
            "text/plain": [
              "   age  workclass  education.num  ...  hours.per.week  native.country  income\n",
              "0   90          3              9  ...              40              38       0\n",
              "1   82          3              9  ...              18              38       0\n",
              "2   66          3             10  ...              40              38       0\n",
              "3   54          3              4  ...              40              38       0\n",
              "4   41          3             10  ...              40              38       0\n",
              "\n",
              "[5 rows x 13 columns]"
            ]
          },
          "metadata": {
            "tags": []
          },
          "execution_count": 24
        }
      ]
    },
    {
      "cell_type": "code",
      "metadata": {
        "id": "CI47IiJxCQHL"
      },
      "source": [
        "# Input data\n",
        "\n",
        "data = data00_prep\n",
        "features = data00_prep.columns[:12]\n",
        "target = data00_prep.columns[-1]"
      ],
      "execution_count": 25,
      "outputs": []
    },
    {
      "cell_type": "code",
      "metadata": {
        "id": "Ys0nNg0xCQFH"
      },
      "source": [
        "# Target Plot\n",
        "from pdpbox import pdp, info_plots"
      ],
      "execution_count": 26,
      "outputs": []
    },
    {
      "cell_type": "code",
      "metadata": {
        "colab": {
          "base_uri": "https://localhost:8080/"
        },
        "id": "OfoGlCqRCQC0",
        "outputId": "2e129f83-0a9c-4be7-cfe0-42978927c869"
      },
      "source": [
        "# ex.) educaiton 변수 구분 확인\n",
        "data00['education'].unique()"
      ],
      "execution_count": 27,
      "outputs": [
        {
          "output_type": "execute_result",
          "data": {
            "text/plain": [
              "array(['HS-grad', 'Some-college', '7th-8th', '10th', 'Doctorate',\n",
              "       'Prof-school', 'Bachelors', 'Masters', '11th', 'Assoc-acdm',\n",
              "       'Assoc-voc', '1st-4th', '5th-6th', '12th', '9th', 'Preschool'],\n",
              "      dtype=object)"
            ]
          },
          "metadata": {
            "tags": []
          },
          "execution_count": 27
        }
      ]
    },
    {
      "cell_type": "code",
      "metadata": {
        "colab": {
          "base_uri": "https://localhost:8080/"
        },
        "id": "MPdlqldFFs-A",
        "outputId": "bed299ec-2e57-4608-8299-95712003a8a5"
      },
      "source": [
        "data00['education.num'].unique()"
      ],
      "execution_count": 28,
      "outputs": [
        {
          "output_type": "execute_result",
          "data": {
            "text/plain": [
              "array([ 9, 10,  4,  6, 16, 15, 13, 14,  7, 12, 11,  2,  3,  8,  5,  1])"
            ]
          },
          "metadata": {
            "tags": []
          },
          "execution_count": 28
        }
      ]
    },
    {
      "cell_type": "code",
      "metadata": {
        "id": "x66Da2eJFs3T",
        "outputId": "0f32f876-e658-4748-8062-f5ff0469741f",
        "colab": {
          "base_uri": "https://localhost:8080/",
          "height": 195
        }
      },
      "source": [
        "a = pd.DataFrame(data00['education'].unique())\n",
        "a.head()"
      ],
      "execution_count": 32,
      "outputs": [
        {
          "output_type": "execute_result",
          "data": {
            "text/html": [
              "<div>\n",
              "<style scoped>\n",
              "    .dataframe tbody tr th:only-of-type {\n",
              "        vertical-align: middle;\n",
              "    }\n",
              "\n",
              "    .dataframe tbody tr th {\n",
              "        vertical-align: top;\n",
              "    }\n",
              "\n",
              "    .dataframe thead th {\n",
              "        text-align: right;\n",
              "    }\n",
              "</style>\n",
              "<table border=\"1\" class=\"dataframe\">\n",
              "  <thead>\n",
              "    <tr style=\"text-align: right;\">\n",
              "      <th></th>\n",
              "      <th>0</th>\n",
              "    </tr>\n",
              "  </thead>\n",
              "  <tbody>\n",
              "    <tr>\n",
              "      <th>0</th>\n",
              "      <td>HS-grad</td>\n",
              "    </tr>\n",
              "    <tr>\n",
              "      <th>1</th>\n",
              "      <td>Some-college</td>\n",
              "    </tr>\n",
              "    <tr>\n",
              "      <th>2</th>\n",
              "      <td>7th-8th</td>\n",
              "    </tr>\n",
              "    <tr>\n",
              "      <th>3</th>\n",
              "      <td>10th</td>\n",
              "    </tr>\n",
              "    <tr>\n",
              "      <th>4</th>\n",
              "      <td>Doctorate</td>\n",
              "    </tr>\n",
              "  </tbody>\n",
              "</table>\n",
              "</div>"
            ],
            "text/plain": [
              "              0\n",
              "0       HS-grad\n",
              "1  Some-college\n",
              "2       7th-8th\n",
              "3          10th\n",
              "4     Doctorate"
            ]
          },
          "metadata": {
            "tags": []
          },
          "execution_count": 32
        }
      ]
    },
    {
      "cell_type": "code",
      "metadata": {
        "id": "juh_0T1rIg7c",
        "outputId": "6581a548-2fdc-4632-b405-35695842e44e",
        "colab": {
          "base_uri": "https://localhost:8080/",
          "height": 195
        }
      },
      "source": [
        "a.rename(columns = {\n",
        "    0:'education'\n",
        "},\n",
        "inplace=True)\n",
        "a.head()"
      ],
      "execution_count": 33,
      "outputs": [
        {
          "output_type": "execute_result",
          "data": {
            "text/html": [
              "<div>\n",
              "<style scoped>\n",
              "    .dataframe tbody tr th:only-of-type {\n",
              "        vertical-align: middle;\n",
              "    }\n",
              "\n",
              "    .dataframe tbody tr th {\n",
              "        vertical-align: top;\n",
              "    }\n",
              "\n",
              "    .dataframe thead th {\n",
              "        text-align: right;\n",
              "    }\n",
              "</style>\n",
              "<table border=\"1\" class=\"dataframe\">\n",
              "  <thead>\n",
              "    <tr style=\"text-align: right;\">\n",
              "      <th></th>\n",
              "      <th>education</th>\n",
              "    </tr>\n",
              "  </thead>\n",
              "  <tbody>\n",
              "    <tr>\n",
              "      <th>0</th>\n",
              "      <td>HS-grad</td>\n",
              "    </tr>\n",
              "    <tr>\n",
              "      <th>1</th>\n",
              "      <td>Some-college</td>\n",
              "    </tr>\n",
              "    <tr>\n",
              "      <th>2</th>\n",
              "      <td>7th-8th</td>\n",
              "    </tr>\n",
              "    <tr>\n",
              "      <th>3</th>\n",
              "      <td>10th</td>\n",
              "    </tr>\n",
              "    <tr>\n",
              "      <th>4</th>\n",
              "      <td>Doctorate</td>\n",
              "    </tr>\n",
              "  </tbody>\n",
              "</table>\n",
              "</div>"
            ],
            "text/plain": [
              "      education\n",
              "0       HS-grad\n",
              "1  Some-college\n",
              "2       7th-8th\n",
              "3          10th\n",
              "4     Doctorate"
            ]
          },
          "metadata": {
            "tags": []
          },
          "execution_count": 33
        }
      ]
    },
    {
      "cell_type": "code",
      "metadata": {
        "id": "COGPwh3SIg5c",
        "outputId": "b13575b8-8ccc-4a30-a186-195698a63600",
        "colab": {
          "base_uri": "https://localhost:8080/",
          "height": 195
        }
      },
      "source": [
        "b = pd.DataFrame(data00['education.num'].unique())\n",
        "b.rename(columns=\n",
        "         {0 : 'education.num'},\n",
        "         inplace=True)\n",
        "b.head()"
      ],
      "execution_count": 34,
      "outputs": [
        {
          "output_type": "execute_result",
          "data": {
            "text/html": [
              "<div>\n",
              "<style scoped>\n",
              "    .dataframe tbody tr th:only-of-type {\n",
              "        vertical-align: middle;\n",
              "    }\n",
              "\n",
              "    .dataframe tbody tr th {\n",
              "        vertical-align: top;\n",
              "    }\n",
              "\n",
              "    .dataframe thead th {\n",
              "        text-align: right;\n",
              "    }\n",
              "</style>\n",
              "<table border=\"1\" class=\"dataframe\">\n",
              "  <thead>\n",
              "    <tr style=\"text-align: right;\">\n",
              "      <th></th>\n",
              "      <th>education.num</th>\n",
              "    </tr>\n",
              "  </thead>\n",
              "  <tbody>\n",
              "    <tr>\n",
              "      <th>0</th>\n",
              "      <td>9</td>\n",
              "    </tr>\n",
              "    <tr>\n",
              "      <th>1</th>\n",
              "      <td>10</td>\n",
              "    </tr>\n",
              "    <tr>\n",
              "      <th>2</th>\n",
              "      <td>4</td>\n",
              "    </tr>\n",
              "    <tr>\n",
              "      <th>3</th>\n",
              "      <td>6</td>\n",
              "    </tr>\n",
              "    <tr>\n",
              "      <th>4</th>\n",
              "      <td>16</td>\n",
              "    </tr>\n",
              "  </tbody>\n",
              "</table>\n",
              "</div>"
            ],
            "text/plain": [
              "   education.num\n",
              "0              9\n",
              "1             10\n",
              "2              4\n",
              "3              6\n",
              "4             16"
            ]
          },
          "metadata": {
            "tags": []
          },
          "execution_count": 34
        }
      ]
    },
    {
      "cell_type": "code",
      "metadata": {
        "id": "pfAHG7DfIg2y",
        "outputId": "41041540-0f3b-4c54-a7e0-ed28a8910f76",
        "colab": {
          "base_uri": "https://localhost:8080/",
          "height": 195
        }
      },
      "source": [
        "c = pd.concat([a,b], axis=1)\n",
        "c.head()"
      ],
      "execution_count": 35,
      "outputs": [
        {
          "output_type": "execute_result",
          "data": {
            "text/html": [
              "<div>\n",
              "<style scoped>\n",
              "    .dataframe tbody tr th:only-of-type {\n",
              "        vertical-align: middle;\n",
              "    }\n",
              "\n",
              "    .dataframe tbody tr th {\n",
              "        vertical-align: top;\n",
              "    }\n",
              "\n",
              "    .dataframe thead th {\n",
              "        text-align: right;\n",
              "    }\n",
              "</style>\n",
              "<table border=\"1\" class=\"dataframe\">\n",
              "  <thead>\n",
              "    <tr style=\"text-align: right;\">\n",
              "      <th></th>\n",
              "      <th>education</th>\n",
              "      <th>education.num</th>\n",
              "    </tr>\n",
              "  </thead>\n",
              "  <tbody>\n",
              "    <tr>\n",
              "      <th>0</th>\n",
              "      <td>HS-grad</td>\n",
              "      <td>9</td>\n",
              "    </tr>\n",
              "    <tr>\n",
              "      <th>1</th>\n",
              "      <td>Some-college</td>\n",
              "      <td>10</td>\n",
              "    </tr>\n",
              "    <tr>\n",
              "      <th>2</th>\n",
              "      <td>7th-8th</td>\n",
              "      <td>4</td>\n",
              "    </tr>\n",
              "    <tr>\n",
              "      <th>3</th>\n",
              "      <td>10th</td>\n",
              "      <td>6</td>\n",
              "    </tr>\n",
              "    <tr>\n",
              "      <th>4</th>\n",
              "      <td>Doctorate</td>\n",
              "      <td>16</td>\n",
              "    </tr>\n",
              "  </tbody>\n",
              "</table>\n",
              "</div>"
            ],
            "text/plain": [
              "      education  education.num\n",
              "0       HS-grad              9\n",
              "1  Some-college             10\n",
              "2       7th-8th              4\n",
              "3          10th              6\n",
              "4     Doctorate             16"
            ]
          },
          "metadata": {
            "tags": []
          },
          "execution_count": 35
        }
      ]
    },
    {
      "cell_type": "code",
      "metadata": {
        "id": "X6iAHa1pIg0n",
        "outputId": "94ccb28d-e7be-460e-d62d-c0ac3ee9d251",
        "colab": {
          "base_uri": "https://localhost:8080/",
          "height": 521
        }
      },
      "source": [
        "c.sort_values('education.num')"
      ],
      "execution_count": 36,
      "outputs": [
        {
          "output_type": "execute_result",
          "data": {
            "text/html": [
              "<div>\n",
              "<style scoped>\n",
              "    .dataframe tbody tr th:only-of-type {\n",
              "        vertical-align: middle;\n",
              "    }\n",
              "\n",
              "    .dataframe tbody tr th {\n",
              "        vertical-align: top;\n",
              "    }\n",
              "\n",
              "    .dataframe thead th {\n",
              "        text-align: right;\n",
              "    }\n",
              "</style>\n",
              "<table border=\"1\" class=\"dataframe\">\n",
              "  <thead>\n",
              "    <tr style=\"text-align: right;\">\n",
              "      <th></th>\n",
              "      <th>education</th>\n",
              "      <th>education.num</th>\n",
              "    </tr>\n",
              "  </thead>\n",
              "  <tbody>\n",
              "    <tr>\n",
              "      <th>15</th>\n",
              "      <td>Preschool</td>\n",
              "      <td>1</td>\n",
              "    </tr>\n",
              "    <tr>\n",
              "      <th>11</th>\n",
              "      <td>1st-4th</td>\n",
              "      <td>2</td>\n",
              "    </tr>\n",
              "    <tr>\n",
              "      <th>12</th>\n",
              "      <td>5th-6th</td>\n",
              "      <td>3</td>\n",
              "    </tr>\n",
              "    <tr>\n",
              "      <th>2</th>\n",
              "      <td>7th-8th</td>\n",
              "      <td>4</td>\n",
              "    </tr>\n",
              "    <tr>\n",
              "      <th>14</th>\n",
              "      <td>9th</td>\n",
              "      <td>5</td>\n",
              "    </tr>\n",
              "    <tr>\n",
              "      <th>3</th>\n",
              "      <td>10th</td>\n",
              "      <td>6</td>\n",
              "    </tr>\n",
              "    <tr>\n",
              "      <th>8</th>\n",
              "      <td>11th</td>\n",
              "      <td>7</td>\n",
              "    </tr>\n",
              "    <tr>\n",
              "      <th>13</th>\n",
              "      <td>12th</td>\n",
              "      <td>8</td>\n",
              "    </tr>\n",
              "    <tr>\n",
              "      <th>0</th>\n",
              "      <td>HS-grad</td>\n",
              "      <td>9</td>\n",
              "    </tr>\n",
              "    <tr>\n",
              "      <th>1</th>\n",
              "      <td>Some-college</td>\n",
              "      <td>10</td>\n",
              "    </tr>\n",
              "    <tr>\n",
              "      <th>10</th>\n",
              "      <td>Assoc-voc</td>\n",
              "      <td>11</td>\n",
              "    </tr>\n",
              "    <tr>\n",
              "      <th>9</th>\n",
              "      <td>Assoc-acdm</td>\n",
              "      <td>12</td>\n",
              "    </tr>\n",
              "    <tr>\n",
              "      <th>6</th>\n",
              "      <td>Bachelors</td>\n",
              "      <td>13</td>\n",
              "    </tr>\n",
              "    <tr>\n",
              "      <th>7</th>\n",
              "      <td>Masters</td>\n",
              "      <td>14</td>\n",
              "    </tr>\n",
              "    <tr>\n",
              "      <th>5</th>\n",
              "      <td>Prof-school</td>\n",
              "      <td>15</td>\n",
              "    </tr>\n",
              "    <tr>\n",
              "      <th>4</th>\n",
              "      <td>Doctorate</td>\n",
              "      <td>16</td>\n",
              "    </tr>\n",
              "  </tbody>\n",
              "</table>\n",
              "</div>"
            ],
            "text/plain": [
              "       education  education.num\n",
              "15     Preschool              1\n",
              "11       1st-4th              2\n",
              "12       5th-6th              3\n",
              "2        7th-8th              4\n",
              "14           9th              5\n",
              "3           10th              6\n",
              "8           11th              7\n",
              "13          12th              8\n",
              "0        HS-grad              9\n",
              "1   Some-college             10\n",
              "10     Assoc-voc             11\n",
              "9     Assoc-acdm             12\n",
              "6      Bachelors             13\n",
              "7        Masters             14\n",
              "5    Prof-school             15\n",
              "4      Doctorate             16"
            ]
          },
          "metadata": {
            "tags": []
          },
          "execution_count": 36
        }
      ]
    },
    {
      "cell_type": "code",
      "metadata": {
        "id": "-VZlyGETIgyL",
        "outputId": "e0628b19-13d7-4d3d-d72f-481e1ac05187",
        "colab": {
          "base_uri": "https://localhost:8080/",
          "height": 606
        }
      },
      "source": [
        "# 알고 싶은 변수가 education.num 일때 targetplot 시각화\n",
        "fig, axes, summary_df = info_plots.target_plot(\n",
        "    df = data,\n",
        "    feature = 'education.num',\n",
        "    feature_name = 'education.num',\n",
        "    target = target\n",
        ")"
      ],
      "execution_count": 37,
      "outputs": [
        {
          "output_type": "stream",
          "text": [
            "findfont: Font family ['Arial'] not found. Falling back to DejaVu Sans.\n",
            "findfont: Font family ['Arial'] not found. Falling back to DejaVu Sans.\n",
            "findfont: Font family ['Arial'] not found. Falling back to DejaVu Sans.\n"
          ],
          "name": "stderr"
        },
        {
          "output_type": "display_data",
          "data": {
            "image/png": "[encoded data removed]",
            "text/plain": [
              "<Figure size 1080x648 with 3 Axes>"
            ]
          },
          "metadata": {
            "tags": [],
            "needs_background": "light"
          }
        }
      ]
    },
    {
      "cell_type": "code",
      "metadata": {
        "id": "iLSSsimGCQAk"
      },
      "source": [
        "## 등급을 임의로 나눔\n",
        "## EDA 수행이라고 볼 수 있음."
      ],
      "execution_count": 38,
      "outputs": []
    },
    {
      "cell_type": "code",
      "metadata": {
        "id": "iDJCnWqONAxO",
        "outputId": "6e0e8be7-1889-41ed-b30e-5a2ba7532ba7",
        "colab": {
          "base_uri": "https://localhost:8080/",
          "height": 195
        }
      },
      "source": [
        "# target_plot의 summary 확인\n",
        "summary_df"
      ],
      "execution_count": 39,
      "outputs": [
        {
          "output_type": "execute_result",
          "data": {
            "text/html": [
              "<div>\n",
              "<style scoped>\n",
              "    .dataframe tbody tr th:only-of-type {\n",
              "        vertical-align: middle;\n",
              "    }\n",
              "\n",
              "    .dataframe tbody tr th {\n",
              "        vertical-align: top;\n",
              "    }\n",
              "\n",
              "    .dataframe thead th {\n",
              "        text-align: right;\n",
              "    }\n",
              "</style>\n",
              "<table border=\"1\" class=\"dataframe\">\n",
              "  <thead>\n",
              "    <tr style=\"text-align: right;\">\n",
              "      <th></th>\n",
              "      <th>x</th>\n",
              "      <th>display_column</th>\n",
              "      <th>value_lower</th>\n",
              "      <th>value_upper</th>\n",
              "      <th>count</th>\n",
              "      <th>income</th>\n",
              "    </tr>\n",
              "  </thead>\n",
              "  <tbody>\n",
              "    <tr>\n",
              "      <th>0</th>\n",
              "      <td>0</td>\n",
              "      <td>[1, 7)</td>\n",
              "      <td>1.0</td>\n",
              "      <td>7.0</td>\n",
              "      <td>2645</td>\n",
              "      <td>0.057089</td>\n",
              "    </tr>\n",
              "    <tr>\n",
              "      <th>1</th>\n",
              "      <td>1</td>\n",
              "      <td>[7, 9)</td>\n",
              "      <td>7.0</td>\n",
              "      <td>9.0</td>\n",
              "      <td>1608</td>\n",
              "      <td>0.057836</td>\n",
              "    </tr>\n",
              "    <tr>\n",
              "      <th>2</th>\n",
              "      <td>2</td>\n",
              "      <td>[9, 10)</td>\n",
              "      <td>9.0</td>\n",
              "      <td>10.0</td>\n",
              "      <td>10501</td>\n",
              "      <td>0.159509</td>\n",
              "    </tr>\n",
              "    <tr>\n",
              "      <th>3</th>\n",
              "      <td>3</td>\n",
              "      <td>[10, 13)</td>\n",
              "      <td>10.0</td>\n",
              "      <td>13.0</td>\n",
              "      <td>9740</td>\n",
              "      <td>0.206674</td>\n",
              "    </tr>\n",
              "    <tr>\n",
              "      <th>4</th>\n",
              "      <td>4</td>\n",
              "      <td>[13, 16]</td>\n",
              "      <td>13.0</td>\n",
              "      <td>16.0</td>\n",
              "      <td>8067</td>\n",
              "      <td>0.484567</td>\n",
              "    </tr>\n",
              "  </tbody>\n",
              "</table>\n",
              "</div>"
            ],
            "text/plain": [
              "   x display_column  value_lower  value_upper  count    income\n",
              "0  0         [1, 7)          1.0          7.0   2645  0.057089\n",
              "1  1         [7, 9)          7.0          9.0   1608  0.057836\n",
              "2  2        [9, 10)          9.0         10.0  10501  0.159509\n",
              "3  3       [10, 13)         10.0         13.0   9740  0.206674\n",
              "4  4       [13, 16]         13.0         16.0   8067  0.484567"
            ]
          },
          "metadata": {
            "tags": []
          },
          "execution_count": 39
        }
      ]
    },
    {
      "cell_type": "code",
      "metadata": {
        "id": "VCUgJHHSNAvW",
        "outputId": "d6705754-c95d-421f-d5f4-12ae09a1a43d",
        "colab": {
          "base_uri": "https://localhost:8080/",
          "height": 551
        }
      },
      "source": [
        "# 알고 싶은 변수가 age 일때 targetplot 시각화\n",
        "fig, axes, summary_df = info_plots.target_plot(\n",
        "    df = data,\n",
        "    feature = 'age',\n",
        "    feature_name = 'age',\n",
        "    target = target\n",
        ")"
      ],
      "execution_count": 40,
      "outputs": [
        {
          "output_type": "display_data",
          "data": {
            "image/png": "[encoded data removed]",
            "text/plain": [
              "<Figure size 1080x648 with 3 Axes>"
            ]
          },
          "metadata": {
            "tags": [],
            "needs_background": "light"
          }
        }
      ]
    },
    {
      "cell_type": "code",
      "metadata": {
        "id": "PzGtwFH7NAsv",
        "outputId": "1fe77da5-df4c-46fa-c941-dde8bd92e3af",
        "colab": {
          "base_uri": "https://localhost:8080/",
          "height": 314
        }
      },
      "source": [
        "summary_df"
      ],
      "execution_count": 41,
      "outputs": [
        {
          "output_type": "execute_result",
          "data": {
            "text/html": [
              "<div>\n",
              "<style scoped>\n",
              "    .dataframe tbody tr th:only-of-type {\n",
              "        vertical-align: middle;\n",
              "    }\n",
              "\n",
              "    .dataframe tbody tr th {\n",
              "        vertical-align: top;\n",
              "    }\n",
              "\n",
              "    .dataframe thead th {\n",
              "        text-align: right;\n",
              "    }\n",
              "</style>\n",
              "<table border=\"1\" class=\"dataframe\">\n",
              "  <thead>\n",
              "    <tr style=\"text-align: right;\">\n",
              "      <th></th>\n",
              "      <th>x</th>\n",
              "      <th>display_column</th>\n",
              "      <th>value_lower</th>\n",
              "      <th>value_upper</th>\n",
              "      <th>count</th>\n",
              "      <th>income</th>\n",
              "    </tr>\n",
              "  </thead>\n",
              "  <tbody>\n",
              "    <tr>\n",
              "      <th>0</th>\n",
              "      <td>0</td>\n",
              "      <td>[17, 22)</td>\n",
              "      <td>17.0</td>\n",
              "      <td>22.0</td>\n",
              "      <td>3130</td>\n",
              "      <td>0.001597</td>\n",
              "    </tr>\n",
              "    <tr>\n",
              "      <th>1</th>\n",
              "      <td>1</td>\n",
              "      <td>[22, 27)</td>\n",
              "      <td>22.0</td>\n",
              "      <td>27.0</td>\n",
              "      <td>4066</td>\n",
              "      <td>0.042302</td>\n",
              "    </tr>\n",
              "    <tr>\n",
              "      <th>2</th>\n",
              "      <td>2</td>\n",
              "      <td>[27, 31)</td>\n",
              "      <td>27.0</td>\n",
              "      <td>31.0</td>\n",
              "      <td>3376</td>\n",
              "      <td>0.149585</td>\n",
              "    </tr>\n",
              "    <tr>\n",
              "      <th>3</th>\n",
              "      <td>3</td>\n",
              "      <td>[31, 35)</td>\n",
              "      <td>31.0</td>\n",
              "      <td>35.0</td>\n",
              "      <td>3477</td>\n",
              "      <td>0.231809</td>\n",
              "    </tr>\n",
              "    <tr>\n",
              "      <th>4</th>\n",
              "      <td>4</td>\n",
              "      <td>[35, 39)</td>\n",
              "      <td>35.0</td>\n",
              "      <td>39.0</td>\n",
              "      <td>3459</td>\n",
              "      <td>0.304712</td>\n",
              "    </tr>\n",
              "    <tr>\n",
              "      <th>5</th>\n",
              "      <td>5</td>\n",
              "      <td>[39, 44)</td>\n",
              "      <td>39.0</td>\n",
              "      <td>44.0</td>\n",
              "      <td>3968</td>\n",
              "      <td>0.344758</td>\n",
              "    </tr>\n",
              "    <tr>\n",
              "      <th>6</th>\n",
              "      <td>6</td>\n",
              "      <td>[44, 49)</td>\n",
              "      <td>44.0</td>\n",
              "      <td>49.0</td>\n",
              "      <td>3446</td>\n",
              "      <td>0.396402</td>\n",
              "    </tr>\n",
              "    <tr>\n",
              "      <th>7</th>\n",
              "      <td>7</td>\n",
              "      <td>[49, 57)</td>\n",
              "      <td>49.0</td>\n",
              "      <td>57.0</td>\n",
              "      <td>3916</td>\n",
              "      <td>0.389939</td>\n",
              "    </tr>\n",
              "    <tr>\n",
              "      <th>8</th>\n",
              "      <td>8</td>\n",
              "      <td>[57, 90]</td>\n",
              "      <td>57.0</td>\n",
              "      <td>90.0</td>\n",
              "      <td>3723</td>\n",
              "      <td>0.278807</td>\n",
              "    </tr>\n",
              "  </tbody>\n",
              "</table>\n",
              "</div>"
            ],
            "text/plain": [
              "   x display_column  value_lower  value_upper  count    income\n",
              "0  0       [17, 22)         17.0         22.0   3130  0.001597\n",
              "1  1       [22, 27)         22.0         27.0   4066  0.042302\n",
              "2  2       [27, 31)         27.0         31.0   3376  0.149585\n",
              "3  3       [31, 35)         31.0         35.0   3477  0.231809\n",
              "4  4       [35, 39)         35.0         39.0   3459  0.304712\n",
              "5  5       [39, 44)         39.0         44.0   3968  0.344758\n",
              "6  6       [44, 49)         44.0         49.0   3446  0.396402\n",
              "7  7       [49, 57)         49.0         57.0   3916  0.389939\n",
              "8  8       [57, 90]         57.0         90.0   3723  0.278807"
            ]
          },
          "metadata": {
            "tags": []
          },
          "execution_count": 41
        }
      ]
    },
    {
      "cell_type": "code",
      "metadata": {
        "id": "wAoTPzyENAqR",
        "outputId": "0c0350e2-5f4c-4c69-963a-e21352f9fa95",
        "colab": {
          "base_uri": "https://localhost:8080/",
          "height": 551
        }
      },
      "source": [
        "# 알고 싶은 변수가 hours.per.week 일때 targetplot 시각화\n",
        "fig, axes, summary_df = info_plots.target_plot(\n",
        "    df = data,\n",
        "    feature = 'hours.per.week',\n",
        "    feature_name = 'hours.per.week',\n",
        "    target = target\n",
        ")"
      ],
      "execution_count": 42,
      "outputs": [
        {
          "output_type": "display_data",
          "data": {
            "image/png": "[encoded data removed]",
            "text/plain": [
              "<Figure size 1080x648 with 3 Axes>"
            ]
          },
          "metadata": {
            "tags": [],
            "needs_background": "light"
          }
        }
      ]
    },
    {
      "cell_type": "code",
      "metadata": {
        "id": "AGBNTqirNAoF",
        "outputId": "35d90308-9f18-4d5a-998d-8509f7ec5645",
        "colab": {
          "base_uri": "https://localhost:8080/",
          "height": 225
        }
      },
      "source": [
        "summary_df"
      ],
      "execution_count": 43,
      "outputs": [
        {
          "output_type": "execute_result",
          "data": {
            "text/html": [
              "<div>\n",
              "<style scoped>\n",
              "    .dataframe tbody tr th:only-of-type {\n",
              "        vertical-align: middle;\n",
              "    }\n",
              "\n",
              "    .dataframe tbody tr th {\n",
              "        vertical-align: top;\n",
              "    }\n",
              "\n",
              "    .dataframe thead th {\n",
              "        text-align: right;\n",
              "    }\n",
              "</style>\n",
              "<table border=\"1\" class=\"dataframe\">\n",
              "  <thead>\n",
              "    <tr style=\"text-align: right;\">\n",
              "      <th></th>\n",
              "      <th>x</th>\n",
              "      <th>display_column</th>\n",
              "      <th>value_lower</th>\n",
              "      <th>value_upper</th>\n",
              "      <th>count</th>\n",
              "      <th>income</th>\n",
              "    </tr>\n",
              "  </thead>\n",
              "  <tbody>\n",
              "    <tr>\n",
              "      <th>0</th>\n",
              "      <td>0</td>\n",
              "      <td>[1, 25)</td>\n",
              "      <td>1.0</td>\n",
              "      <td>25.0</td>\n",
              "      <td>3269</td>\n",
              "      <td>0.068522</td>\n",
              "    </tr>\n",
              "    <tr>\n",
              "      <th>1</th>\n",
              "      <td>1</td>\n",
              "      <td>[25, 37)</td>\n",
              "      <td>25.0</td>\n",
              "      <td>37.0</td>\n",
              "      <td>3831</td>\n",
              "      <td>0.104672</td>\n",
              "    </tr>\n",
              "    <tr>\n",
              "      <th>2</th>\n",
              "      <td>2</td>\n",
              "      <td>[37, 40)</td>\n",
              "      <td>37.0</td>\n",
              "      <td>40.0</td>\n",
              "      <td>663</td>\n",
              "      <td>0.170437</td>\n",
              "    </tr>\n",
              "    <tr>\n",
              "      <th>3</th>\n",
              "      <td>3</td>\n",
              "      <td>[40, 45)</td>\n",
              "      <td>40.0</td>\n",
              "      <td>45.0</td>\n",
              "      <td>15835</td>\n",
              "      <td>0.217051</td>\n",
              "    </tr>\n",
              "    <tr>\n",
              "      <th>4</th>\n",
              "      <td>4</td>\n",
              "      <td>[45, 52)</td>\n",
              "      <td>45.0</td>\n",
              "      <td>52.0</td>\n",
              "      <td>5333</td>\n",
              "      <td>0.405963</td>\n",
              "    </tr>\n",
              "    <tr>\n",
              "      <th>5</th>\n",
              "      <td>5</td>\n",
              "      <td>[52, 99]</td>\n",
              "      <td>52.0</td>\n",
              "      <td>99.0</td>\n",
              "      <td>3630</td>\n",
              "      <td>0.413499</td>\n",
              "    </tr>\n",
              "  </tbody>\n",
              "</table>\n",
              "</div>"
            ],
            "text/plain": [
              "   x display_column  value_lower  value_upper  count    income\n",
              "0  0        [1, 25)          1.0         25.0   3269  0.068522\n",
              "1  1       [25, 37)         25.0         37.0   3831  0.104672\n",
              "2  2       [37, 40)         37.0         40.0    663  0.170437\n",
              "3  3       [40, 45)         40.0         45.0  15835  0.217051\n",
              "4  4       [45, 52)         45.0         52.0   5333  0.405963\n",
              "5  5       [52, 99]         52.0         99.0   3630  0.413499"
            ]
          },
          "metadata": {
            "tags": []
          },
          "execution_count": 43
        }
      ]
    },
    {
      "cell_type": "markdown",
      "metadata": {
        "id": "VgH6WjVZB33O"
      },
      "source": [
        "## 다중분류 Randomforest Feature 중요도 분석"
      ]
    },
    {
      "cell_type": "code",
      "metadata": {
        "id": "htlS37kgOd5Q"
      },
      "source": [
        "# Load the data\n",
        "with gzip.open(modelpath + 'data01.pickle', 'rb') as f:\n",
        "    data01 = pickle.load(f)\n",
        "with gzip.open(modelpath + 'data01_X_train.pickle', 'rb') as f:\n",
        "    x_train = pickle.load(f)\n",
        "with gzip.open(modelpath + 'data01_X_test.pickle', 'rb') as f:\n",
        "    x_test = pickle.load(f)\n",
        "with gzip.open(modelpath + 'data01_y_train.pickle', 'rb') as f:\n",
        "    y_train01 = pickle.load(f)\n",
        "with gzip.open(modelpath + 'data01_y_test.pickle', 'rb') as f:\n",
        "    y_test01 = pickle.load(f)"
      ],
      "execution_count": 44,
      "outputs": []
    },
    {
      "cell_type": "code",
      "metadata": {
        "id": "mH73d6JEOevz"
      },
      "source": [
        "rf1 = RandomForestClassifier().fit(x_train,y_train01)"
      ],
      "execution_count": 45,
      "outputs": []
    },
    {
      "cell_type": "code",
      "metadata": {
        "id": "ve_PSMszOete",
        "outputId": "b50a03c9-2fe0-4abd-8c33-02742cc0a616",
        "colab": {
          "base_uri": "https://localhost:8080/"
        }
      },
      "source": [
        "x_test.columns"
      ],
      "execution_count": 46,
      "outputs": [
        {
          "output_type": "execute_result",
          "data": {
            "text/plain": [
              "Index(['age', 'workclass', 'education.num', 'marital.status', 'occupation',\n",
              "       'relationship', 'sex', 'capital.gain', 'capital.loss', 'hours.per.week',\n",
              "       'spend.groc', 'spend.med', 'spend.trav', 'asset', 'balance',\n",
              "       'native.country'],\n",
              "      dtype='object')"
            ]
          },
          "metadata": {
            "tags": []
          },
          "execution_count": 46
        }
      ]
    },
    {
      "cell_type": "code",
      "metadata": {
        "id": "ajmmUb8pOerO",
        "outputId": "b2fca602-028d-4b4f-bb48-89d719493657",
        "colab": {
          "base_uri": "https://localhost:8080/"
        }
      },
      "source": [
        "importances = rf1.feature_importances_\n",
        "importances"
      ],
      "execution_count": 47,
      "outputs": [
        {
          "output_type": "execute_result",
          "data": {
            "text/plain": [
              "array([0.03909332, 0.01383342, 0.02423123, 0.01227137, 0.02617883,\n",
              "       0.01432478, 0.00592339, 0.00686908, 0.00422924, 0.02753559,\n",
              "       0.04916548, 0.05176127, 0.38979103, 0.05243048, 0.27492448,\n",
              "       0.00743702])"
            ]
          },
          "metadata": {
            "tags": []
          },
          "execution_count": 47
        }
      ]
    },
    {
      "cell_type": "code",
      "metadata": {
        "id": "T7F7aNAbOeno",
        "outputId": "e208efe4-5268-4a09-d423-5e394e645900",
        "colab": {
          "base_uri": "https://localhost:8080/",
          "height": 535
        }
      },
      "source": [
        "indices = np.argsort(importances)\n",
        "plt.figure(figsize=(12,8))\n",
        "plt.barh(x_test.columns, importances[indices],\n",
        "         .35,\n",
        "         color = 'lightgreen',\n",
        "         align = 'center')\n",
        "plt.yticks(x_test.columns, x_test.columns[indices],\n",
        "           fontsize=12)\n",
        "plt.xlabel('Relative Importnaces (MDI)', fontsize = 12)\n",
        "plt.title('Feature Importances -- Random Forest Classifier(multi-class) \\n', \n",
        "          fontsize = 15)\n",
        "plt.show()"
      ],
      "execution_count": 48,
      "outputs": [
        {
          "output_type": "display_data",
          "data": {
            "image/png": "[encoded data removed]",
            "text/plain": [
              "<Figure size 864x576 with 1 Axes>"
            ]
          },
          "metadata": {
            "tags": [],
            "needs_background": "light"
          }
        }
      ]
    },
    {
      "cell_type": "markdown",
      "metadata": {
        "id": "HU2qjsI0B388"
      },
      "source": [
        "## 다중분류 LGBM Feature 중요도 분석"
      ]
    },
    {
      "cell_type": "code",
      "metadata": {
        "id": "dksTZTZFQ27e"
      },
      "source": [
        "with open(modelpath + 'lgbm01.pkl', 'rb') as file :\n",
        "    lgbm1 = pickle.load(file)"
      ],
      "execution_count": 50,
      "outputs": []
    },
    {
      "cell_type": "code",
      "metadata": {
        "id": "JilGeLqBQ25X",
        "outputId": "9b81f90e-13ba-4e30-ea73-da863d8a8ccf",
        "colab": {
          "base_uri": "https://localhost:8080/"
        }
      },
      "source": [
        "importances = lgbm1.feature_importances_\n",
        "importances"
      ],
      "execution_count": 51,
      "outputs": [
        {
          "output_type": "execute_result",
          "data": {
            "text/plain": [
              "array([ 601,  170,  267,  123,  293,  155,   45,   84,   61,  350,  792,\n",
              "        715, 5074, 1728, 4446,   96])"
            ]
          },
          "metadata": {
            "tags": []
          },
          "execution_count": 51
        }
      ]
    },
    {
      "cell_type": "code",
      "metadata": {
        "id": "iNOElo1gQ22_",
        "outputId": "d9eef804-6572-4d37-d169-72f022e54025",
        "colab": {
          "base_uri": "https://localhost:8080/",
          "height": 535
        }
      },
      "source": [
        "indices = np.argsort(importances)\n",
        "plt.figure(figsize=(12,8))\n",
        "plt.barh(x_test.columns, importances[indices],\n",
        "         .35,\n",
        "         color = 'lightgreen',\n",
        "         align = 'center')\n",
        "plt.yticks(x_test.columns, x_test.columns[indices],\n",
        "           fontsize=12)\n",
        "plt.xlabel('Relative Importnaces (MDI)', fontsize = 12)\n",
        "plt.title('Feature Importances -- LGBM Classifier(multi-class) \\n', \n",
        "          fontsize = 15)\n",
        "plt.show()"
      ],
      "execution_count": 53,
      "outputs": [
        {
          "output_type": "display_data",
          "data": {
            "image/png": "[encoded data removed]",
            "text/plain": [
              "<Figure size 864x576 with 1 Axes>"
            ]
          },
          "metadata": {
            "tags": [],
            "needs_background": "light"
          }
        }
      ]
    },
    {
      "cell_type": "markdown",
      "metadata": {
        "id": "khjzSuq9B4Bc"
      },
      "source": [
        "## 2 분류기 SUMMARY"
      ]
    },
    {
      "cell_type": "code",
      "metadata": {
        "id": "g2YDhptdaV_f",
        "outputId": "f9fe28ef-d5ea-4f22-eaaa-f48173be9e49",
        "colab": {
          "base_uri": "https://localhost:8080/",
          "height": 633
        }
      },
      "source": [
        "plt.figure(figsize=(18,10))\n",
        "\n",
        "plt.subplot(121)\n",
        "\n",
        "importances_rf = rf1.feature_importances_\n",
        "indices_rf = np.argsort(importances_rf)\n",
        "plt.title('Feature Importances -- RandomForest Classifier (Multi-class)')\n",
        "plt.barh(x_test.columns, importances_rf[indices_rf],\n",
        "         .25,\n",
        "         color = 'lightgreen')\n",
        "plt.yticks(x_test.columns, x_test.columns[indices_rf])\n",
        "plt.xlabel('Relative Importance (MDI)\\n')\n",
        "\n",
        "\n",
        "\n",
        "\n",
        "plt.subplot(122)\n",
        "\n",
        "importances_lgbm = lgbm1.feature_importances_\n",
        "indices_lgbm = np.argsort(importances_lgbm)\n",
        "plt.title('Feature Importances -- LGBM Classifier (Multi-class)')\n",
        "plt.barh(x_test.columns, importances_lgbm[indices_lgbm],\n",
        "         .25,\n",
        "         color='lightblue')\n",
        "plt.yticks(x_test.columns, x_test.columns[indices_lgbm])\n",
        "plt.xlabel('Relative Importances (# of splits)')\n",
        "\n",
        "plt.show()"
      ],
      "execution_count": 60,
      "outputs": [
        {
          "output_type": "display_data",
          "data": {
            "image/png": "[encoded data removed]",
            "text/plain": [
              "<Figure size 1296x720 with 2 Axes>"
            ]
          },
          "metadata": {
            "tags": [],
            "needs_background": "light"
          }
        }
      ]
    },
    {
      "cell_type": "markdown",
      "metadata": {
        "id": "YAoRkH5VB4Nj"
      },
      "source": [
        "## dd"
      ]
    },
    {
      "cell_type": "markdown",
      "metadata": {
        "id": "U9WcRRKbB4SK"
      },
      "source": [
        "## dd"
      ]
    },
    {
      "cell_type": "markdown",
      "metadata": {
        "id": "z5IBLgjaB4V2"
      },
      "source": [
        "## dd"
      ]
    }
  ]
}