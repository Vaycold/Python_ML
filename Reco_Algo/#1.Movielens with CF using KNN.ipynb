{
  "nbformat": 4,
  "nbformat_minor": 0,
  "metadata": {
    "colab": {
      "name": "Movielens with CF using KNN.ipynb",
      "provenance": [],
      "authorship_tag": "ABX9TyP+P5d6466oSUpKS897Ll8U",
      "include_colab_link": true
    },
    "kernelspec": {
      "name": "python3",
      "display_name": "Python 3"
    },
    "language_info": {
      "name": "python"
    }
  },
  "cells": [
    {
      "cell_type": "markdown",
      "metadata": {
        "id": "view-in-github",
        "colab_type": "text"
      },
      "source": [
        "<a href=\"https://colab.research.google.com/github/Vaycold/Python_ML/blob/main/Reco_Algo/%231.Movielens%20with%20CF%20using%20KNN.ipynb\" target=\"_parent\"><img src=\"https://colab.research.google.com/assets/colab-badge.svg\" alt=\"Open In Colab\"/></a>"
      ]
    },
    {
      "cell_type": "markdown",
      "metadata": {
        "id": "6y4kCw9sLhrw"
      },
      "source": [
        "## 데이터 전처리"
      ]
    },
    {
      "cell_type": "code",
      "metadata": {
        "colab": {
          "base_uri": "https://localhost:8080/",
          "height": 195
        },
        "id": "D7Hu5J-yLb7m",
        "outputId": "ea7f431b-769f-4293-8536-8522ff9fa226"
      },
      "source": [
        "import pandas as pd\n",
        "\n",
        "rating_url = 'https://raw.githubusercontent.com/yoonkt200/python-data-analysis/master/data/ml-1m/ratings.dat'\n",
        "rating_df  = pd.io.parsers.read_csv(rating_url, names = ['user_id', 'movie_id', 'rating','time'], delimiter = '::',engine='python')\n",
        "rating_df.head()"
      ],
      "execution_count": 4,
      "outputs": [
        {
          "output_type": "execute_result",
          "data": {
            "text/html": [
              "<div>\n",
              "<style scoped>\n",
              "    .dataframe tbody tr th:only-of-type {\n",
              "        vertical-align: middle;\n",
              "    }\n",
              "\n",
              "    .dataframe tbody tr th {\n",
              "        vertical-align: top;\n",
              "    }\n",
              "\n",
              "    .dataframe thead th {\n",
              "        text-align: right;\n",
              "    }\n",
              "</style>\n",
              "<table border=\"1\" class=\"dataframe\">\n",
              "  <thead>\n",
              "    <tr style=\"text-align: right;\">\n",
              "      <th></th>\n",
              "      <th>user_id</th>\n",
              "      <th>movie_id</th>\n",
              "      <th>rating</th>\n",
              "      <th>time</th>\n",
              "    </tr>\n",
              "  </thead>\n",
              "  <tbody>\n",
              "    <tr>\n",
              "      <th>0</th>\n",
              "      <td>1</td>\n",
              "      <td>1193</td>\n",
              "      <td>5</td>\n",
              "      <td>978300760</td>\n",
              "    </tr>\n",
              "    <tr>\n",
              "      <th>1</th>\n",
              "      <td>1</td>\n",
              "      <td>661</td>\n",
              "      <td>3</td>\n",
              "      <td>978302109</td>\n",
              "    </tr>\n",
              "    <tr>\n",
              "      <th>2</th>\n",
              "      <td>1</td>\n",
              "      <td>914</td>\n",
              "      <td>3</td>\n",
              "      <td>978301968</td>\n",
              "    </tr>\n",
              "    <tr>\n",
              "      <th>3</th>\n",
              "      <td>1</td>\n",
              "      <td>3408</td>\n",
              "      <td>4</td>\n",
              "      <td>978300275</td>\n",
              "    </tr>\n",
              "    <tr>\n",
              "      <th>4</th>\n",
              "      <td>1</td>\n",
              "      <td>2355</td>\n",
              "      <td>5</td>\n",
              "      <td>978824291</td>\n",
              "    </tr>\n",
              "  </tbody>\n",
              "</table>\n",
              "</div>"
            ],
            "text/plain": [
              "   user_id  movie_id  rating       time\n",
              "0        1      1193       5  978300760\n",
              "1        1       661       3  978302109\n",
              "2        1       914       3  978301968\n",
              "3        1      3408       4  978300275\n",
              "4        1      2355       5  978824291"
            ]
          },
          "metadata": {
            "tags": []
          },
          "execution_count": 4
        }
      ]
    },
    {
      "cell_type": "code",
      "metadata": {
        "colab": {
          "base_uri": "https://localhost:8080/",
          "height": 195
        },
        "id": "IwQh93kFL1Ay",
        "outputId": "d32accc3-fde9-44dc-9ee4-df29008322e2"
      },
      "source": [
        "movie_url = 'https://raw.githubusercontent.com/yoonkt200/python-data-analysis/master/data/ml-1m/movies.dat'\n",
        "movie_df  =  pd.io.parsers.read_csv(rating_url, names = [ 'movie_id', 'title','genre'], delimiter = '::',engine='python', encoding='ISO-8859-1')\n",
        "movie_df.head()"
      ],
      "execution_count": 8,
      "outputs": [
        {
          "output_type": "execute_result",
          "data": {
            "text/html": [
              "<div>\n",
              "<style scoped>\n",
              "    .dataframe tbody tr th:only-of-type {\n",
              "        vertical-align: middle;\n",
              "    }\n",
              "\n",
              "    .dataframe tbody tr th {\n",
              "        vertical-align: top;\n",
              "    }\n",
              "\n",
              "    .dataframe thead th {\n",
              "        text-align: right;\n",
              "    }\n",
              "</style>\n",
              "<table border=\"1\" class=\"dataframe\">\n",
              "  <thead>\n",
              "    <tr style=\"text-align: right;\">\n",
              "      <th></th>\n",
              "      <th>movie_id</th>\n",
              "      <th>title</th>\n",
              "      <th>genre</th>\n",
              "    </tr>\n",
              "  </thead>\n",
              "  <tbody>\n",
              "    <tr>\n",
              "      <th>1</th>\n",
              "      <td>1193</td>\n",
              "      <td>5</td>\n",
              "      <td>978300760</td>\n",
              "    </tr>\n",
              "    <tr>\n",
              "      <th>1</th>\n",
              "      <td>661</td>\n",
              "      <td>3</td>\n",
              "      <td>978302109</td>\n",
              "    </tr>\n",
              "    <tr>\n",
              "      <th>1</th>\n",
              "      <td>914</td>\n",
              "      <td>3</td>\n",
              "      <td>978301968</td>\n",
              "    </tr>\n",
              "    <tr>\n",
              "      <th>1</th>\n",
              "      <td>3408</td>\n",
              "      <td>4</td>\n",
              "      <td>978300275</td>\n",
              "    </tr>\n",
              "    <tr>\n",
              "      <th>1</th>\n",
              "      <td>2355</td>\n",
              "      <td>5</td>\n",
              "      <td>978824291</td>\n",
              "    </tr>\n",
              "  </tbody>\n",
              "</table>\n",
              "</div>"
            ],
            "text/plain": [
              "   movie_id  title      genre\n",
              "1      1193      5  978300760\n",
              "1       661      3  978302109\n",
              "1       914      3  978301968\n",
              "1      3408      4  978300275\n",
              "1      2355      5  978824291"
            ]
          },
          "metadata": {
            "tags": []
          },
          "execution_count": 8
        }
      ]
    },
    {
      "cell_type": "code",
      "metadata": {
        "colab": {
          "base_uri": "https://localhost:8080/"
        },
        "id": "IwU_aHyFNoxA",
        "outputId": "0873003a-98ac-47c7-914d-f154f9826697"
      },
      "source": [
        "print(f'movie_df : {movie_df.shape}')\n",
        "print(f'rating_df : {rating_df.shape}')"
      ],
      "execution_count": 21,
      "outputs": [
        {
          "output_type": "stream",
          "text": [
            "movie_df : (1000209, 3)\n",
            "rating_df : (1000209, 4)\n"
          ],
          "name": "stdout"
        }
      ]
    },
    {
      "cell_type": "code",
      "metadata": {
        "colab": {
          "base_uri": "https://localhost:8080/"
        },
        "id": "hqA4wvVqMmIZ",
        "outputId": "47e80222-5cb8-4883-c1e7-ee9b04770856"
      },
      "source": [
        "# 사용자 수 및 영화 갯수\n",
        "\n",
        "print(f'유저 아이디 수 : {len(rating_df[\"user_id\"].unique())}')\n",
        "print(f'영화의 개수  : {len(rating_df[\"movie_id\"].unique())}')\n"
      ],
      "execution_count": 17,
      "outputs": [
        {
          "output_type": "stream",
          "text": [
            "유저 아이디 수 : 6040\n",
            "영화의 개수  : 3706\n"
          ],
          "name": "stdout"
        }
      ]
    },
    {
      "cell_type": "code",
      "metadata": {
        "colab": {
          "base_uri": "https://localhost:8080/",
          "height": 283
        },
        "id": "DhDCjRBtNJaG",
        "outputId": "51820171-775f-4876-fb71-e97a24d0a239"
      },
      "source": [
        "# 영화 점수 분포 탐색\n",
        "import matplotlib.pyplot as plt\n",
        "rating_df['rating'].hist()"
      ],
      "execution_count": 23,
      "outputs": [
        {
          "output_type": "execute_result",
          "data": {
            "text/plain": [
              "<matplotlib.axes._subplots.AxesSubplot at 0x7f3927f43290>"
            ]
          },
          "metadata": {
            "tags": []
          },
          "execution_count": 23
        },
        {
          "output_type": "display_data",
          "data": {
            "image/png": "[encoded data removed]",
            "text/plain": [
              "<Figure size 432x288 with 1 Axes>"
            ]
          },
          "metadata": {
            "tags": [],
            "needs_background": "light"
          }
        }
      ]
    },
    {
      "cell_type": "markdown",
      "metadata": {
        "id": "eyEr7aVyQk5e"
      },
      "source": [
        "## CF(Collaborative Filtering)"
      ]
    },
    {
      "cell_type": "code",
      "metadata": {
        "colab": {
          "base_uri": "https://localhost:8080/"
        },
        "id": "sJJMMpHTOEiT",
        "outputId": "50214254-d676-4d2d-f7b3-26dbd5a37d47"
      },
      "source": [
        "# Modeling\n",
        "\n",
        "!pip install surprise"
      ],
      "execution_count": 24,
      "outputs": [
        {
          "output_type": "stream",
          "text": [
            "Collecting surprise\n",
            "  Downloading https://files.pythonhosted.org/packages/61/de/e5cba8682201fcf9c3719a6fdda95693468ed061945493dea2dd37c5618b/surprise-0.1-py2.py3-none-any.whl\n",
            "Collecting scikit-surprise\n",
            "\u001b[?25l  Downloading https://files.pythonhosted.org/packages/97/37/5d334adaf5ddd65da99fc65f6507e0e4599d092ba048f4302fe8775619e8/scikit-surprise-1.1.1.tar.gz (11.8MB)\n",
            "\u001b[K     |████████████████████████████████| 11.8MB 6.3MB/s \n",
            "\u001b[?25hRequirement already satisfied: joblib>=0.11 in /usr/local/lib/python3.7/dist-packages (from scikit-surprise->surprise) (1.0.1)\n",
            "Requirement already satisfied: numpy>=1.11.2 in /usr/local/lib/python3.7/dist-packages (from scikit-surprise->surprise) (1.19.5)\n",
            "Requirement already satisfied: scipy>=1.0.0 in /usr/local/lib/python3.7/dist-packages (from scikit-surprise->surprise) (1.4.1)\n",
            "Requirement already satisfied: six>=1.10.0 in /usr/local/lib/python3.7/dist-packages (from scikit-surprise->surprise) (1.15.0)\n",
            "Building wheels for collected packages: scikit-surprise\n",
            "  Building wheel for scikit-surprise (setup.py) ... \u001b[?25l\u001b[?25hdone\n",
            "  Created wheel for scikit-surprise: filename=scikit_surprise-1.1.1-cp37-cp37m-linux_x86_64.whl size=1617567 sha256=313438ca6bdc6d53af768486b2664afa0ee8ccd4bfde01af532173cf6e2c73dd\n",
            "  Stored in directory: /root/.cache/pip/wheels/78/9c/3d/41b419c9d2aff5b6e2b4c0fc8d25c538202834058f9ed110d0\n",
            "Successfully built scikit-surprise\n",
            "Installing collected packages: scikit-surprise, surprise\n",
            "Successfully installed scikit-surprise-1.1.1 surprise-0.1\n"
          ],
          "name": "stdout"
        }
      ]
    },
    {
      "cell_type": "code",
      "metadata": {
        "id": "fQ_MqvPLP5sx"
      },
      "source": [
        "from surprise import Dataset, Reader\n",
        "from surprise.model_selection import train_test_split\n",
        "\n",
        "reader = Reader(rating_scale = (1,5))  # rating은 1점부터 5점까지다.\n",
        "data = Dataset.load_from_df(rating_df[['user_id','movie_id','rating']] ,reader)\n",
        "trainset, testset  = train_test_split(data, test_size = 0.25)"
      ],
      "execution_count": 25,
      "outputs": []
    },
    {
      "cell_type": "code",
      "metadata": {
        "colab": {
          "base_uri": "https://localhost:8080/"
        },
        "id": "PR986j_QQgy1",
        "outputId": "da9c31cc-0ef2-4caa-9e03-eca0fd51dd41"
      },
      "source": [
        "# KNN Algorithm\n",
        "\n",
        "from surprise import KNNBasic\n",
        "from surprise import accuracy\n",
        "\n",
        "algo = KNNBasic( k =40, min_k = 1, sim_options = {'user_based' : True, 'name':'cosine'})\n",
        "algo.fit(trainset)\n",
        "predictions = algo.test(testset)"
      ],
      "execution_count": 28,
      "outputs": [
        {
          "output_type": "stream",
          "text": [
            "Computing the cosine similarity matrix...\n",
            "Done computing similarity matrix.\n"
          ],
          "name": "stdout"
        }
      ]
    },
    {
      "cell_type": "code",
      "metadata": {
        "colab": {
          "base_uri": "https://localhost:8080/"
        },
        "id": "0sACJU6fZGzr",
        "outputId": "7eb1d49d-c0a4-405a-b694-d78e4720c3b2"
      },
      "source": [
        "# Evaluate with RMSE\n",
        "accuracy.rmse(predictions)"
      ],
      "execution_count": 29,
      "outputs": [
        {
          "output_type": "stream",
          "text": [
            "RMSE: 0.9785\n"
          ],
          "name": "stdout"
        },
        {
          "output_type": "execute_result",
          "data": {
            "text/plain": [
              "0.9784558823126702"
            ]
          },
          "metadata": {
            "tags": []
          },
          "execution_count": 29
        }
      ]
    },
    {
      "cell_type": "code",
      "metadata": {
        "colab": {
          "base_uri": "https://localhost:8080/"
        },
        "id": "cCjDwDRcbb_R",
        "outputId": "b217b823-7e2c-4105-8c47-a94371795c93"
      },
      "source": [
        "predictions = algo.test(testset[:20])\n",
        "predictions "
      ],
      "execution_count": 30,
      "outputs": [
        {
          "output_type": "execute_result",
          "data": {
            "text/plain": [
              "[Prediction(uid=2262, iid=2716, r_ui=5.0, est=3.5994081787178756, details={'actual_k': 40, 'was_impossible': False}),\n",
              " Prediction(uid=1899, iid=1395, r_ui=4.0, est=3.875032046548435, details={'actual_k': 40, 'was_impossible': False}),\n",
              " Prediction(uid=2701, iid=1213, r_ui=5.0, est=4.225, details={'actual_k': 40, 'was_impossible': False}),\n",
              " Prediction(uid=1274, iid=2731, r_ui=4.0, est=4.575267096218099, details={'actual_k': 40, 'was_impossible': False}),\n",
              " Prediction(uid=2397, iid=3134, r_ui=5.0, est=4.6249062685836915, details={'actual_k': 40, 'was_impossible': False}),\n",
              " Prediction(uid=5393, iid=2430, r_ui=3.0, est=3.201323926130273, details={'actual_k': 40, 'was_impossible': False}),\n",
              " Prediction(uid=4754, iid=1468, r_ui=4.0, est=2.776753509712018, details={'actual_k': 40, 'was_impossible': False}),\n",
              " Prediction(uid=5848, iid=1317, r_ui=3.0, est=3.0450014330170534, details={'actual_k': 28, 'was_impossible': False}),\n",
              " Prediction(uid=4380, iid=3554, r_ui=4.0, est=3.8538849521858554, details={'actual_k': 40, 'was_impossible': False}),\n",
              " Prediction(uid=2355, iid=3421, r_ui=3.0, est=3.976032809620298, details={'actual_k': 40, 'was_impossible': False}),\n",
              " Prediction(uid=1266, iid=2148, r_ui=3.0, est=2.926623826096452, details={'actual_k': 40, 'was_impossible': False}),\n",
              " Prediction(uid=5483, iid=1042, r_ui=4.0, est=3.874249741946784, details={'actual_k': 40, 'was_impossible': False}),\n",
              " Prediction(uid=476, iid=2717, r_ui=4.0, est=3.1751364241787576, details={'actual_k': 40, 'was_impossible': False}),\n",
              " Prediction(uid=4303, iid=2606, r_ui=4.0, est=2.724541266392565, details={'actual_k': 40, 'was_impossible': False}),\n",
              " Prediction(uid=1714, iid=1405, r_ui=3.0, est=3.3742005176744803, details={'actual_k': 40, 'was_impossible': False}),\n",
              " Prediction(uid=3032, iid=291, r_ui=4.0, est=2.1253845944774947, details={'actual_k': 26, 'was_impossible': False}),\n",
              " Prediction(uid=5605, iid=3617, r_ui=3.0, est=3.6495141409772467, details={'actual_k': 40, 'was_impossible': False}),\n",
              " Prediction(uid=2424, iid=2956, r_ui=3.0, est=3.2233769603826046, details={'actual_k': 40, 'was_impossible': False}),\n",
              " Prediction(uid=724, iid=2583, r_ui=4.0, est=3.6506428898236365, details={'actual_k': 40, 'was_impossible': False}),\n",
              " Prediction(uid=5961, iid=454, r_ui=3.0, est=3.577097552532562, details={'actual_k': 40, 'was_impossible': False})]"
            ]
          },
          "metadata": {
            "tags": []
          },
          "execution_count": 30
        }
      ]
    },
    {
      "cell_type": "code",
      "metadata": {
        "id": "W2RVX-Vlbb6R"
      },
      "source": [
        ""
      ],
      "execution_count": null,
      "outputs": []
    },
    {
      "cell_type": "code",
      "metadata": {
        "id": "uIEwro4nbb2v"
      },
      "source": [
        ""
      ],
      "execution_count": null,
      "outputs": []
    }
  ]
}