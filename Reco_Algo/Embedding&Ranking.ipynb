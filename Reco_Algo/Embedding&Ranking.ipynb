{
  "nbformat": 4,
  "nbformat_minor": 0,
  "metadata": {
    "colab": {
      "name": "Embedding&Ranking.ipynb",
      "provenance": [],
      "authorship_tag": "ABX9TyMNC/xPjOW/OOCrgDy/8o+V",
      "include_colab_link": true
    },
    "kernelspec": {
      "name": "python3",
      "display_name": "Python 3"
    },
    "language_info": {
      "name": "python"
    }
  },
  "cells": [
    {
      "cell_type": "markdown",
      "metadata": {
        "id": "view-in-github",
        "colab_type": "text"
      },
      "source": [
        "<a href=\"https://colab.research.google.com/github/Vaycold/Python_ML/blob/main/Reco_Algo/Embedding%26Ranking.ipynb\" target=\"_parent\"><img src=\"https://colab.research.google.com/assets/colab-badge.svg\" alt=\"Open In Colab\"/></a>"
      ]
    },
    {
      "cell_type": "markdown",
      "metadata": {
        "id": "tTgb4_z8uQ3a"
      },
      "source": [
        "## Goal :\n",
        "  - Large-scale에서 적용 가능한 추천시스템 구조 이해\n",
        "  - Word2vec 기반 임베딩\n",
        "  - EDA에서 도출되는 다양한 INSIGHT\n",
        "  - "
      ]
    }
  ]
}