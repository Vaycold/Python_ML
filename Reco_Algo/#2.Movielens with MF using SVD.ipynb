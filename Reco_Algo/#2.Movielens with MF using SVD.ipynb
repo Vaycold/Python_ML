{
  "nbformat": 4,
  "nbformat_minor": 0,
  "metadata": {
    "colab": {
      "name": "Movielens with CF using KNN.ipynb",
      "provenance": [],
      "authorship_tag": "ABX9TyP2Ysf8iq2R2e39mGPqtmO2",
      "include_colab_link": true
    },
    "kernelspec": {
      "name": "python3",
      "display_name": "Python 3"
    },
    "language_info": {
      "name": "python"
    }
  },
  "cells": [
    {
      "cell_type": "markdown",
      "metadata": {
        "id": "view-in-github",
        "colab_type": "text"
      },
      "source": [
        "<a href=\"https://colab.research.google.com/github/Vaycold/Python_ML/blob/main/Reco_Algo/%232.Movielens%20with%20MF%20using%20SVD.ipynb\" target=\"_parent\"><img src=\"https://colab.research.google.com/assets/colab-badge.svg\" alt=\"Open In Colab\"/></a>"
      ]
    },
    {
      "cell_type": "markdown",
      "metadata": {
        "id": "6y4kCw9sLhrw"
      },
      "source": [
        "## 데이터 전처리"
      ]
    },
    {
      "cell_type": "code",
      "metadata": {
        "colab": {
          "base_uri": "https://localhost:8080/",
          "height": 195
        },
        "id": "D7Hu5J-yLb7m",
        "outputId": "a2261030-d422-4e00-e637-dfca6896f14b"
      },
      "source": [
        "import pandas as pd\n",
        "\n",
        "rating_url = 'https://raw.githubusercontent.com/yoonkt200/python-data-analysis/master/data/ml-1m/ratings.dat'\n",
        "rating_df  = pd.io.parsers.read_csv(rating_url, names = ['user_id', 'movie_id', 'rating','time'], delimiter = '::',engine='python')\n",
        "rating_df.head()"
      ],
      "execution_count": 3,
      "outputs": [
        {
          "output_type": "execute_result",
          "data": {
            "text/html": [
              "<div>\n",
              "<style scoped>\n",
              "    .dataframe tbody tr th:only-of-type {\n",
              "        vertical-align: middle;\n",
              "    }\n",
              "\n",
              "    .dataframe tbody tr th {\n",
              "        vertical-align: top;\n",
              "    }\n",
              "\n",
              "    .dataframe thead th {\n",
              "        text-align: right;\n",
              "    }\n",
              "</style>\n",
              "<table border=\"1\" class=\"dataframe\">\n",
              "  <thead>\n",
              "    <tr style=\"text-align: right;\">\n",
              "      <th></th>\n",
              "      <th>user_id</th>\n",
              "      <th>movie_id</th>\n",
              "      <th>rating</th>\n",
              "      <th>time</th>\n",
              "    </tr>\n",
              "  </thead>\n",
              "  <tbody>\n",
              "    <tr>\n",
              "      <th>0</th>\n",
              "      <td>1</td>\n",
              "      <td>1193</td>\n",
              "      <td>5</td>\n",
              "      <td>978300760</td>\n",
              "    </tr>\n",
              "    <tr>\n",
              "      <th>1</th>\n",
              "      <td>1</td>\n",
              "      <td>661</td>\n",
              "      <td>3</td>\n",
              "      <td>978302109</td>\n",
              "    </tr>\n",
              "    <tr>\n",
              "      <th>2</th>\n",
              "      <td>1</td>\n",
              "      <td>914</td>\n",
              "      <td>3</td>\n",
              "      <td>978301968</td>\n",
              "    </tr>\n",
              "    <tr>\n",
              "      <th>3</th>\n",
              "      <td>1</td>\n",
              "      <td>3408</td>\n",
              "      <td>4</td>\n",
              "      <td>978300275</td>\n",
              "    </tr>\n",
              "    <tr>\n",
              "      <th>4</th>\n",
              "      <td>1</td>\n",
              "      <td>2355</td>\n",
              "      <td>5</td>\n",
              "      <td>978824291</td>\n",
              "    </tr>\n",
              "  </tbody>\n",
              "</table>\n",
              "</div>"
            ],
            "text/plain": [
              "   user_id  movie_id  rating       time\n",
              "0        1      1193       5  978300760\n",
              "1        1       661       3  978302109\n",
              "2        1       914       3  978301968\n",
              "3        1      3408       4  978300275\n",
              "4        1      2355       5  978824291"
            ]
          },
          "metadata": {
            "tags": []
          },
          "execution_count": 3
        }
      ]
    },
    {
      "cell_type": "code",
      "metadata": {
        "colab": {
          "base_uri": "https://localhost:8080/",
          "height": 195
        },
        "id": "IwQh93kFL1Ay",
        "outputId": "0b78af0a-a6b0-4d57-f46d-5b590d7cf1ae"
      },
      "source": [
        "movie_url = 'https://raw.githubusercontent.com/yoonkt200/python-data-analysis/master/data/ml-1m/movies.dat'\n",
        "movie_df  =  pd.io.parsers.read_csv(rating_url, names = [ 'movie_id', 'title','genre'], delimiter = '::',engine='python', encoding='ISO-8859-1')\n",
        "movie_df.head()"
      ],
      "execution_count": 4,
      "outputs": [
        {
          "output_type": "execute_result",
          "data": {
            "text/html": [
              "<div>\n",
              "<style scoped>\n",
              "    .dataframe tbody tr th:only-of-type {\n",
              "        vertical-align: middle;\n",
              "    }\n",
              "\n",
              "    .dataframe tbody tr th {\n",
              "        vertical-align: top;\n",
              "    }\n",
              "\n",
              "    .dataframe thead th {\n",
              "        text-align: right;\n",
              "    }\n",
              "</style>\n",
              "<table border=\"1\" class=\"dataframe\">\n",
              "  <thead>\n",
              "    <tr style=\"text-align: right;\">\n",
              "      <th></th>\n",
              "      <th>movie_id</th>\n",
              "      <th>title</th>\n",
              "      <th>genre</th>\n",
              "    </tr>\n",
              "  </thead>\n",
              "  <tbody>\n",
              "    <tr>\n",
              "      <th>1</th>\n",
              "      <td>1193</td>\n",
              "      <td>5</td>\n",
              "      <td>978300760</td>\n",
              "    </tr>\n",
              "    <tr>\n",
              "      <th>1</th>\n",
              "      <td>661</td>\n",
              "      <td>3</td>\n",
              "      <td>978302109</td>\n",
              "    </tr>\n",
              "    <tr>\n",
              "      <th>1</th>\n",
              "      <td>914</td>\n",
              "      <td>3</td>\n",
              "      <td>978301968</td>\n",
              "    </tr>\n",
              "    <tr>\n",
              "      <th>1</th>\n",
              "      <td>3408</td>\n",
              "      <td>4</td>\n",
              "      <td>978300275</td>\n",
              "    </tr>\n",
              "    <tr>\n",
              "      <th>1</th>\n",
              "      <td>2355</td>\n",
              "      <td>5</td>\n",
              "      <td>978824291</td>\n",
              "    </tr>\n",
              "  </tbody>\n",
              "</table>\n",
              "</div>"
            ],
            "text/plain": [
              "   movie_id  title      genre\n",
              "1      1193      5  978300760\n",
              "1       661      3  978302109\n",
              "1       914      3  978301968\n",
              "1      3408      4  978300275\n",
              "1      2355      5  978824291"
            ]
          },
          "metadata": {
            "tags": []
          },
          "execution_count": 4
        }
      ]
    },
    {
      "cell_type": "code",
      "metadata": {
        "colab": {
          "base_uri": "https://localhost:8080/"
        },
        "id": "IwU_aHyFNoxA",
        "outputId": "0873003a-98ac-47c7-914d-f154f9826697"
      },
      "source": [
        "print(f'movie_df : {movie_df.shape}')\n",
        "print(f'rating_df : {rating_df.shape}')"
      ],
      "execution_count": null,
      "outputs": [
        {
          "output_type": "stream",
          "text": [
            "movie_df : (1000209, 3)\n",
            "rating_df : (1000209, 4)\n"
          ],
          "name": "stdout"
        }
      ]
    },
    {
      "cell_type": "code",
      "metadata": {
        "colab": {
          "base_uri": "https://localhost:8080/"
        },
        "id": "hqA4wvVqMmIZ",
        "outputId": "47e80222-5cb8-4883-c1e7-ee9b04770856"
      },
      "source": [
        "# 사용자 수 및 영화 갯수\n",
        "\n",
        "print(f'유저 아이디 수 : {len(rating_df[\"user_id\"].unique())}')\n",
        "print(f'영화의 개수  : {len(rating_df[\"movie_id\"].unique())}')\n"
      ],
      "execution_count": null,
      "outputs": [
        {
          "output_type": "stream",
          "text": [
            "유저 아이디 수 : 6040\n",
            "영화의 개수  : 3706\n"
          ],
          "name": "stdout"
        }
      ]
    },
    {
      "cell_type": "code",
      "metadata": {
        "colab": {
          "base_uri": "https://localhost:8080/",
          "height": 283
        },
        "id": "DhDCjRBtNJaG",
        "outputId": "51820171-775f-4876-fb71-e97a24d0a239"
      },
      "source": [
        "# 영화 점수 분포 탐색\n",
        "import matplotlib.pyplot as plt\n",
        "rating_df['rating'].hist()"
      ],
      "execution_count": null,
      "outputs": [
        {
          "output_type": "execute_result",
          "data": {
            "text/plain": [
              "<matplotlib.axes._subplots.AxesSubplot at 0x7f3927f43290>"
            ]
          },
          "metadata": {
            "tags": []
          },
          "execution_count": 23
        },
        {
          "output_type": "display_data",
          "data": {
            "image/png": "[encoded data removed]",
            "text/plain": [
              "<Figure size 432x288 with 1 Axes>"
            ]
          },
          "metadata": {
            "tags": [],
            "needs_background": "light"
          }
        }
      ]
    },
    {
      "cell_type": "markdown",
      "metadata": {
        "id": "eyEr7aVyQk5e"
      },
      "source": [
        "## MF-Based Modeling (SVD)"
      ]
    },
    {
      "cell_type": "code",
      "metadata": {
        "id": "sJJMMpHTOEiT"
      },
      "source": [
        "# Modeling\n",
        "!pip install surprise\n",
        "\n",
        "from surprise import Dataset, Reader\n",
        "from surprise.model_selection import train_test_split\n",
        "\n",
        "reader = Reader(rating_scale = (1,5))  # rating은 1점부터 5점까지다.\n",
        "data = Dataset.load_from_df(rating_df[['user_id','movie_id','rating']] ,reader)\n",
        "trainset, testset  = train_test_split(data, test_size = 0.25)"
      ],
      "execution_count": null,
      "outputs": []
    },
    {
      "cell_type": "code",
      "metadata": {
        "id": "g6WptCPtjYOf"
      },
      "source": [
        "# SVD\n",
        "from surprise import SVD\n",
        "from surprise.accuracy import rmse\n",
        "algo = SVD()\n",
        "algo.fit(trainset)\n",
        "predictions = algo.test(testset)"
      ],
      "execution_count": 6,
      "outputs": []
    },
    {
      "cell_type": "code",
      "metadata": {
        "id": "IdohwmqajYMV",
        "outputId": "5fb8fef4-c20f-4e7d-8590-96047e646b33",
        "colab": {
          "base_uri": "https://localhost:8080/"
        }
      },
      "source": [
        "rmse(predictions)"
      ],
      "execution_count": 7,
      "outputs": [
        {
          "output_type": "stream",
          "text": [
            "RMSE: 0.8774\n"
          ],
          "name": "stdout"
        },
        {
          "output_type": "execute_result",
          "data": {
            "text/plain": [
              "0.8774346240449056"
            ]
          },
          "metadata": {
            "tags": []
          },
          "execution_count": 7
        }
      ]
    },
    {
      "cell_type": "code",
      "metadata": {
        "id": "pjGwvZvVjYKB",
        "outputId": "e448a958-1cd2-4728-9463-61036c57f539",
        "colab": {
          "base_uri": "https://localhost:8080/"
        }
      },
      "source": [
        "# latent factor를 얼마만큼 만들어 내느냐가 SVD의 parameter가 됨.\n",
        "from time import time\n",
        "\n",
        "param_list = [10, 50, 100, 150, 200]\n",
        "rmse_list_by_factors = []\n",
        "ttime_list_by_factors = []\n",
        "for n in param_list :\n",
        "    train_start = time()\n",
        "    algo = SVD(n_factors= n )\n",
        "    algo.fit(trainset)\n",
        "    train_end = time()\n",
        "\n",
        "    print('training of time of model : %.2f seconds' % (train_end-train_start))\n",
        "    print('RMSE of test dataset in SVD Model, n_factors = '+str(n))\n",
        "    predictions = algo.test(testset)\n",
        "    rmse_result = rmse(predictions)\n",
        "    rmse_list_by_factors.append(rmse_result)\n",
        "    ttime_list_by_factors.append(train_end - train_start)\n",
        "    print('--------------------------------------------------')\n",
        "print('Done!!!!!!!!!!!!!!!!!!!!!!!!!!!!!')"
      ],
      "execution_count": 10,
      "outputs": [
        {
          "output_type": "stream",
          "text": [
            "training of time of model : 17.14 seconds\n",
            "RMSE of test dataset in SVD Model, n_factors = 10\n",
            "RMSE: 0.8775\n",
            "--------------------------------------------------\n",
            "training of time of model : 30.49 seconds\n",
            "RMSE of test dataset in SVD Model, n_factors = 50\n",
            "RMSE: 0.8748\n",
            "--------------------------------------------------\n",
            "training of time of model : 46.46 seconds\n",
            "RMSE of test dataset in SVD Model, n_factors = 100\n",
            "RMSE: 0.8778\n",
            "--------------------------------------------------\n",
            "training of time of model : 61.75 seconds\n",
            "RMSE of test dataset in SVD Model, n_factors = 150\n",
            "RMSE: 0.8800\n",
            "--------------------------------------------------\n",
            "training of time of model : 78.42 seconds\n",
            "RMSE of test dataset in SVD Model, n_factors = 200\n",
            "RMSE: 0.8823\n",
            "--------------------------------------------------\n",
            "Done!!!!!!!!!!!!!!!!!!!!!!!!!!!!!\n"
          ],
          "name": "stdout"
        }
      ]
    },
    {
      "cell_type": "code",
      "metadata": {
        "id": "rho7ZN3XjYID",
        "outputId": "64fd7dfc-2432-46dd-988b-063d9341050e",
        "colab": {
          "base_uri": "https://localhost:8080/"
        }
      },
      "source": [
        "rmse_list_by_factors"
      ],
      "execution_count": 11,
      "outputs": [
        {
          "output_type": "execute_result",
          "data": {
            "text/plain": [
              "[0.8775301330032051,\n",
              " 0.8748169607289128,\n",
              " 0.8778036864228941,\n",
              " 0.8800066229912309,\n",
              " 0.8822818795848832]"
            ]
          },
          "metadata": {
            "tags": []
          },
          "execution_count": 11
        }
      ]
    },
    {
      "cell_type": "code",
      "metadata": {
        "id": "wrcemfjajYFy",
        "outputId": "e7a76a0a-6102-409c-bbda-a7e69e2a261e",
        "colab": {
          "base_uri": "https://localhost:8080/"
        }
      },
      "source": [
        "ttime_list_by_factors"
      ],
      "execution_count": 12,
      "outputs": [
        {
          "output_type": "execute_result",
          "data": {
            "text/plain": [
              "[17.141536474227905,\n",
              " 30.49177837371826,\n",
              " 46.458786487579346,\n",
              " 61.747758626937866,\n",
              " 78.41775751113892]"
            ]
          },
          "metadata": {
            "tags": []
          },
          "execution_count": 12
        }
      ]
    },
    {
      "cell_type": "code",
      "metadata": {
        "id": "GIjsBS_axelE",
        "outputId": "c267bd48-7ee9-494a-b239-fc0986207f5f",
        "colab": {
          "base_uri": "https://localhost:8080/"
        }
      },
      "source": [
        "import numpy as np\n",
        "param_list[np.array(rmse_list_by_factors).argmin()]"
      ],
      "execution_count": 23,
      "outputs": [
        {
          "output_type": "execute_result",
          "data": {
            "text/plain": [
              "50"
            ]
          },
          "metadata": {
            "tags": []
          },
          "execution_count": 23
        }
      ]
    },
    {
      "cell_type": "code",
      "metadata": {
        "id": "tYCDjNi-xei-",
        "outputId": "a3b8d513-1c67-4704-d2d5-0114b512b111",
        "colab": {
          "base_uri": "https://localhost:8080/"
        }
      },
      "source": [
        "# Final evaluation\n",
        "algo = SVD(n_factors  = 50)\n",
        "algo.fit(trainset)\n",
        "predictions = algo.test(testset)\n",
        "rmse(predictions)"
      ],
      "execution_count": 26,
      "outputs": [
        {
          "output_type": "stream",
          "text": [
            "RMSE: 0.8739\n"
          ],
          "name": "stdout"
        },
        {
          "output_type": "execute_result",
          "data": {
            "text/plain": [
              "0.8739165862998768"
            ]
          },
          "metadata": {
            "tags": []
          },
          "execution_count": 26
        }
      ]
    }
  ]
}