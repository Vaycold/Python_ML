{
  "nbformat": 4,
  "nbformat_minor": 0,
  "metadata": {
    "colab": {
      "name": "Movielens with CF using KNN.ipynb",
      "provenance": [],
      "authorship_tag": "ABX9TyPFt7DfHE9CklmzS7WYN+DD",
      "include_colab_link": true
    },
    "kernelspec": {
      "name": "python3",
      "display_name": "Python 3"
    },
    "language_info": {
      "name": "python"
    }
  },
  "cells": [
    {
      "cell_type": "markdown",
      "metadata": {
        "id": "view-in-github",
        "colab_type": "text"
      },
      "source": [
        "<a href=\"https://colab.research.google.com/github/Vaycold/Python_ML/blob/main/Reco_Algo/%233.Movielens%20Evaluation.ipynb\" target=\"_parent\"><img src=\"https://colab.research.google.com/assets/colab-badge.svg\" alt=\"Open In Colab\"/></a>"
      ]
    },
    {
      "cell_type": "markdown",
      "metadata": {
        "id": "6y4kCw9sLhrw"
      },
      "source": [
        "## 데이터 전처리"
      ]
    },
    {
      "cell_type": "code",
      "metadata": {
        "colab": {
          "base_uri": "https://localhost:8080/",
          "height": 195
        },
        "id": "D7Hu5J-yLb7m",
        "outputId": "b5d48dbc-4a19-4685-8943-b0de4c6d949f"
      },
      "source": [
        "import pandas as pd\n",
        "\n",
        "rating_url = 'https://raw.githubusercontent.com/yoonkt200/python-data-analysis/master/data/ml-1m/ratings.dat'\n",
        "rating_df  = pd.io.parsers.read_csv(rating_url, names = ['user_id', 'movie_id', 'rating','time'], delimiter = '::',engine='python')\n",
        "rating_df.head()"
      ],
      "execution_count": 1,
      "outputs": [
        {
          "output_type": "execute_result",
          "data": {
            "text/html": [
              "<div>\n",
              "<style scoped>\n",
              "    .dataframe tbody tr th:only-of-type {\n",
              "        vertical-align: middle;\n",
              "    }\n",
              "\n",
              "    .dataframe tbody tr th {\n",
              "        vertical-align: top;\n",
              "    }\n",
              "\n",
              "    .dataframe thead th {\n",
              "        text-align: right;\n",
              "    }\n",
              "</style>\n",
              "<table border=\"1\" class=\"dataframe\">\n",
              "  <thead>\n",
              "    <tr style=\"text-align: right;\">\n",
              "      <th></th>\n",
              "      <th>user_id</th>\n",
              "      <th>movie_id</th>\n",
              "      <th>rating</th>\n",
              "      <th>time</th>\n",
              "    </tr>\n",
              "  </thead>\n",
              "  <tbody>\n",
              "    <tr>\n",
              "      <th>0</th>\n",
              "      <td>1</td>\n",
              "      <td>1193</td>\n",
              "      <td>5</td>\n",
              "      <td>978300760</td>\n",
              "    </tr>\n",
              "    <tr>\n",
              "      <th>1</th>\n",
              "      <td>1</td>\n",
              "      <td>661</td>\n",
              "      <td>3</td>\n",
              "      <td>978302109</td>\n",
              "    </tr>\n",
              "    <tr>\n",
              "      <th>2</th>\n",
              "      <td>1</td>\n",
              "      <td>914</td>\n",
              "      <td>3</td>\n",
              "      <td>978301968</td>\n",
              "    </tr>\n",
              "    <tr>\n",
              "      <th>3</th>\n",
              "      <td>1</td>\n",
              "      <td>3408</td>\n",
              "      <td>4</td>\n",
              "      <td>978300275</td>\n",
              "    </tr>\n",
              "    <tr>\n",
              "      <th>4</th>\n",
              "      <td>1</td>\n",
              "      <td>2355</td>\n",
              "      <td>5</td>\n",
              "      <td>978824291</td>\n",
              "    </tr>\n",
              "  </tbody>\n",
              "</table>\n",
              "</div>"
            ],
            "text/plain": [
              "   user_id  movie_id  rating       time\n",
              "0        1      1193       5  978300760\n",
              "1        1       661       3  978302109\n",
              "2        1       914       3  978301968\n",
              "3        1      3408       4  978300275\n",
              "4        1      2355       5  978824291"
            ]
          },
          "metadata": {
            "tags": []
          },
          "execution_count": 1
        }
      ]
    },
    {
      "cell_type": "code",
      "metadata": {
        "colab": {
          "base_uri": "https://localhost:8080/",
          "height": 195
        },
        "id": "IwQh93kFL1Ay",
        "outputId": "662f6827-733a-46cc-bfaa-c30ef4ec1972"
      },
      "source": [
        "movie_url = 'https://raw.githubusercontent.com/yoonkt200/python-data-analysis/master/data/ml-1m/movies.dat'\n",
        "movie_df  =  pd.io.parsers.read_csv(rating_url, names = [ 'movie_id', 'title','genre'], delimiter = '::',engine='python', encoding='ISO-8859-1')\n",
        "movie_df.head()"
      ],
      "execution_count": 2,
      "outputs": [
        {
          "output_type": "execute_result",
          "data": {
            "text/html": [
              "<div>\n",
              "<style scoped>\n",
              "    .dataframe tbody tr th:only-of-type {\n",
              "        vertical-align: middle;\n",
              "    }\n",
              "\n",
              "    .dataframe tbody tr th {\n",
              "        vertical-align: top;\n",
              "    }\n",
              "\n",
              "    .dataframe thead th {\n",
              "        text-align: right;\n",
              "    }\n",
              "</style>\n",
              "<table border=\"1\" class=\"dataframe\">\n",
              "  <thead>\n",
              "    <tr style=\"text-align: right;\">\n",
              "      <th></th>\n",
              "      <th>movie_id</th>\n",
              "      <th>title</th>\n",
              "      <th>genre</th>\n",
              "    </tr>\n",
              "  </thead>\n",
              "  <tbody>\n",
              "    <tr>\n",
              "      <th>1</th>\n",
              "      <td>1193</td>\n",
              "      <td>5</td>\n",
              "      <td>978300760</td>\n",
              "    </tr>\n",
              "    <tr>\n",
              "      <th>1</th>\n",
              "      <td>661</td>\n",
              "      <td>3</td>\n",
              "      <td>978302109</td>\n",
              "    </tr>\n",
              "    <tr>\n",
              "      <th>1</th>\n",
              "      <td>914</td>\n",
              "      <td>3</td>\n",
              "      <td>978301968</td>\n",
              "    </tr>\n",
              "    <tr>\n",
              "      <th>1</th>\n",
              "      <td>3408</td>\n",
              "      <td>4</td>\n",
              "      <td>978300275</td>\n",
              "    </tr>\n",
              "    <tr>\n",
              "      <th>1</th>\n",
              "      <td>2355</td>\n",
              "      <td>5</td>\n",
              "      <td>978824291</td>\n",
              "    </tr>\n",
              "  </tbody>\n",
              "</table>\n",
              "</div>"
            ],
            "text/plain": [
              "   movie_id  title      genre\n",
              "1      1193      5  978300760\n",
              "1       661      3  978302109\n",
              "1       914      3  978301968\n",
              "1      3408      4  978300275\n",
              "1      2355      5  978824291"
            ]
          },
          "metadata": {
            "tags": []
          },
          "execution_count": 2
        }
      ]
    },
    {
      "cell_type": "code",
      "metadata": {
        "colab": {
          "base_uri": "https://localhost:8080/"
        },
        "id": "IwU_aHyFNoxA",
        "outputId": "b587be74-3949-4632-f3e4-fc31904321eb"
      },
      "source": [
        "print(f'movie_df : {movie_df.shape}')\n",
        "print(f'rating_df : {rating_df.shape}')"
      ],
      "execution_count": 3,
      "outputs": [
        {
          "output_type": "stream",
          "text": [
            "movie_df : (1000209, 3)\n",
            "rating_df : (1000209, 4)\n"
          ],
          "name": "stdout"
        }
      ]
    },
    {
      "cell_type": "code",
      "metadata": {
        "colab": {
          "base_uri": "https://localhost:8080/"
        },
        "id": "hqA4wvVqMmIZ",
        "outputId": "c4b233bc-3fd2-47af-a790-cf373343f61a"
      },
      "source": [
        "# 사용자 수 및 영화 갯수\n",
        "\n",
        "print(f'유저 아이디 수 : {len(rating_df[\"user_id\"].unique())}')\n",
        "print(f'영화의 개수  : {len(rating_df[\"movie_id\"].unique())}')\n"
      ],
      "execution_count": 4,
      "outputs": [
        {
          "output_type": "stream",
          "text": [
            "유저 아이디 수 : 6040\n",
            "영화의 개수  : 3706\n"
          ],
          "name": "stdout"
        }
      ]
    },
    {
      "cell_type": "code",
      "metadata": {
        "colab": {
          "base_uri": "https://localhost:8080/",
          "height": 283
        },
        "id": "DhDCjRBtNJaG",
        "outputId": "5a612de1-48e0-4597-b19e-e4cee3dbc128"
      },
      "source": [
        "# 영화 점수 분포 탐색\n",
        "import matplotlib.pyplot as plt\n",
        "rating_df['rating'].hist()"
      ],
      "execution_count": 5,
      "outputs": [
        {
          "output_type": "execute_result",
          "data": {
            "text/plain": [
              "<matplotlib.axes._subplots.AxesSubplot at 0x7f827291c210>"
            ]
          },
          "metadata": {
            "tags": []
          },
          "execution_count": 5
        },
        {
          "output_type": "display_data",
          "data": {
            "image/png": "[encoded data removed]",
            "text/plain": [
              "<Figure size 432x288 with 1 Axes>"
            ]
          },
          "metadata": {
            "tags": [],
            "needs_background": "light"
          }
        }
      ]
    },
    {
      "cell_type": "code",
      "metadata": {
        "id": "nMQ-zgtTwbjo",
        "outputId": "11863769-af73-4184-d989-761a3d94e7de",
        "colab": {
          "base_uri": "https://localhost:8080/"
        }
      },
      "source": [
        "!pip install surprise"
      ],
      "execution_count": 3,
      "outputs": [
        {
          "output_type": "stream",
          "text": [
            "Requirement already satisfied: surprise in /usr/local/lib/python3.7/dist-packages (0.1)\n",
            "Requirement already satisfied: scikit-surprise in /usr/local/lib/python3.7/dist-packages (from surprise) (1.1.1)\n",
            "Requirement already satisfied: scipy>=1.0.0 in /usr/local/lib/python3.7/dist-packages (from scikit-surprise->surprise) (1.4.1)\n",
            "Requirement already satisfied: numpy>=1.11.2 in /usr/local/lib/python3.7/dist-packages (from scikit-surprise->surprise) (1.19.5)\n",
            "Requirement already satisfied: six>=1.10.0 in /usr/local/lib/python3.7/dist-packages (from scikit-surprise->surprise) (1.15.0)\n",
            "Requirement already satisfied: joblib>=0.11 in /usr/local/lib/python3.7/dist-packages (from scikit-surprise->surprise) (1.0.1)\n"
          ],
          "name": "stdout"
        }
      ]
    },
    {
      "cell_type": "code",
      "metadata": {
        "id": "19caHv8Wwbhe",
        "outputId": "33d053c9-7a6c-4340-bb28-b31a8e84776a",
        "colab": {
          "base_uri": "https://localhost:8080/"
        }
      },
      "source": [
        "# 추천 결과 평가 - 사용자별 전체 시청리스트 추출\n",
        "user_watch_dict_list = rating_df.groupby('user_id')[['user_id','movie_id']].apply(lambda x : x['movie_id'].tolist())\n",
        "user_watch_dict_list"
      ],
      "execution_count": 4,
      "outputs": [
        {
          "output_type": "execute_result",
          "data": {
            "text/plain": [
              "user_id\n",
              "1       [1193, 661, 914, 3408, 2355, 1197, 1287, 2804,...\n",
              "2       [1357, 3068, 1537, 647, 2194, 648, 2268, 2628,...\n",
              "3       [3421, 1641, 648, 1394, 3534, 104, 2735, 1210,...\n",
              "4       [3468, 1210, 2951, 1214, 1036, 260, 2028, 480,...\n",
              "5       [2987, 2333, 1175, 39, 288, 2337, 1535, 1392, ...\n",
              "                              ...                        \n",
              "6036    [571, 574, 2053, 2054, 2058, 588, 589, 4, 3005...\n",
              "6037    [589, 3006, 1407, 2064, 2065, 593, 3015, 903, ...\n",
              "6038    [1419, 920, 3088, 232, 1136, 1148, 1183, 2146,...\n",
              "6039    [588, 2067, 1416, 3022, 3028, 2080, 2083, 2087...\n",
              "6040    [573, 589, 1, 2068, 592, 593, 3016, 3017, 2070...\n",
              "Length: 6040, dtype: object"
            ]
          },
          "metadata": {
            "tags": []
          },
          "execution_count": 4
        }
      ]
    },
    {
      "cell_type": "code",
      "metadata": {
        "id": "lyC2ttI0wfQn",
        "outputId": "bf2c3382-e71f-41cb-ce1e-f41ef14d47bc",
        "colab": {
          "base_uri": "https://localhost:8080/",
          "height": 297
        }
      },
      "source": [
        "# 특정 시간 기준 사용자별 train / test 시청리스트 추출\n",
        "rating_df['time'].hist(bins=100)"
      ],
      "execution_count": 5,
      "outputs": [
        {
          "output_type": "execute_result",
          "data": {
            "text/plain": [
              "<matplotlib.axes._subplots.AxesSubplot at 0x7f6589adb150>"
            ]
          },
          "metadata": {
            "tags": []
          },
          "execution_count": 5
        },
        {
          "output_type": "display_data",
          "data": {
            "image/png": "[encoded data removed]",
            "text/plain": [
              "<Figure size 432x288 with 1 Axes>"
            ]
          },
          "metadata": {
            "tags": [],
            "needs_background": "light"
          }
        }
      ]
    },
    {
      "cell_type": "code",
      "metadata": {
        "id": "3959q8oVwfOj",
        "outputId": "17b3d3e3-157f-4fd7-ad9c-468772887dc4",
        "colab": {
          "base_uri": "https://localhost:8080/"
        }
      },
      "source": [
        "rating_df['time'].quantile(0.8, interpolation = 'nearest')"
      ],
      "execution_count": 6,
      "outputs": [
        {
          "output_type": "execute_result",
          "data": {
            "text/plain": [
              "975768738"
            ]
          },
          "metadata": {
            "tags": []
          },
          "execution_count": 6
        }
      ]
    },
    {
      "cell_type": "code",
      "metadata": {
        "id": "uipSjdHxwfMW",
        "outputId": "7a2cba12-45f7-4020-e0b9-4bf2864ee787",
        "colab": {
          "base_uri": "https://localhost:8080/"
        }
      },
      "source": [
        "train_df = rating_df[rating_df['time'] < 975768738][['user_id', 'movie_id', 'rating']]\n",
        "test_df = rating_df[rating_df['time'] >= 975768738][['user_id', 'movie_id', 'rating']]\n",
        "print(f' rating df shape : {rating_df.shape}')\n",
        "print(f' train df shape : {train_df.shape}')\n",
        "print(f' test df shape : {test_df.shape}')"
      ],
      "execution_count": 7,
      "outputs": [
        {
          "output_type": "stream",
          "text": [
            " rating df shape : (1000209, 4)\n",
            " train df shape : (800164, 3)\n",
            " test df shape : (200045, 3)\n"
          ],
          "name": "stdout"
        }
      ]
    },
    {
      "cell_type": "code",
      "metadata": {
        "id": "Jp0Bvou6wfIA",
        "outputId": "e9ddc670-f9a3-49bb-965b-20138908282e",
        "colab": {
          "base_uri": "https://localhost:8080/"
        }
      },
      "source": [
        "len(set(train_df['user_id']))"
      ],
      "execution_count": 8,
      "outputs": [
        {
          "output_type": "execute_result",
          "data": {
            "text/plain": [
              "5400"
            ]
          },
          "metadata": {
            "tags": []
          },
          "execution_count": 8
        }
      ]
    },
    {
      "cell_type": "code",
      "metadata": {
        "id": "VWOuAffIwbc-",
        "outputId": "aa2cf2da-b3b0-47a5-8b85-19ff8bb2280e",
        "colab": {
          "base_uri": "https://localhost:8080/"
        }
      },
      "source": [
        "len(set(test_df['user_id']))"
      ],
      "execution_count": 9,
      "outputs": [
        {
          "output_type": "execute_result",
          "data": {
            "text/plain": [
              "1783"
            ]
          },
          "metadata": {
            "tags": []
          },
          "execution_count": 9
        }
      ]
    },
    {
      "cell_type": "code",
      "metadata": {
        "id": "85Ev2_yQwban",
        "outputId": "92b54bbe-d7dd-480b-d10d-e4b6f30b326c",
        "colab": {
          "base_uri": "https://localhost:8080/"
        }
      },
      "source": [
        "# 모델 기반 사용자별 선호 시청리스트 추출\n",
        "from surprise import Dataset, Reader, SVD\n",
        "from surprise.model_selection import train_test_split\n",
        "\n",
        "reader = Reader(rating_scale = (1,5))\n",
        "data = Dataset.load_from_df(train_df, reader=reader)\n",
        "train_data = data.build_full_trainset()\n",
        "algo = SVD(n_factors=50)\n",
        "algo.fit(train_data)"
      ],
      "execution_count": 10,
      "outputs": [
        {
          "output_type": "execute_result",
          "data": {
            "text/plain": [
              "<surprise.prediction_algorithms.matrix_factorization.SVD at 0x7f6589902ad0>"
            ]
          },
          "metadata": {
            "tags": []
          },
          "execution_count": 10
        }
      ]
    },
    {
      "cell_type": "code",
      "metadata": {
        "id": "MG-PcQ_6zkI3"
      },
      "source": [
        "test_data = train_data.build_anti_testset() # ?에 해당하는 값을 추출하게 됨, 아직 시청하지 않은 값들을 캐옴"
      ],
      "execution_count": 11,
      "outputs": []
    },
    {
      "cell_type": "code",
      "metadata": {
        "id": "s6E4foxpzkF4"
      },
      "source": [
        "predictions = algo.test(test_data[:20])"
      ],
      "execution_count": 37,
      "outputs": []
    },
    {
      "cell_type": "code",
      "metadata": {
        "id": "sKN12CdGzkDm",
        "outputId": "a8331778-4717-4e9e-9988-e3b4cd3f6e0f",
        "colab": {
          "base_uri": "https://localhost:8080/"
        }
      },
      "source": [
        "predictions"
      ],
      "execution_count": 38,
      "outputs": [
        {
          "output_type": "execute_result",
          "data": {
            "text/plain": [
              "[Prediction(uid=635, iid=2054, r_ui=3.590506446178533, est=3.3421736263721376, details={'was_impossible': False}),\n",
              " Prediction(uid=635, iid=589, r_ui=3.590506446178533, est=4.1910090147434165, details={'was_impossible': False}),\n",
              " Prediction(uid=635, iid=1261, r_ui=3.590506446178533, est=4.172051171297118, details={'was_impossible': False}),\n",
              " Prediction(uid=635, iid=3016, r_ui=3.590506446178533, est=3.7736488470103517, details={'was_impossible': False}),\n",
              " Prediction(uid=635, iid=1274, r_ui=3.590506446178533, est=4.300482807112005, details={'was_impossible': False}),\n",
              " Prediction(uid=635, iid=2094, r_ui=3.590506446178533, est=3.360595614750531, details={'was_impossible': False}),\n",
              " Prediction(uid=635, iid=780, r_ui=3.590506446178533, est=3.735343303012632, details={'was_impossible': False}),\n",
              " Prediction(uid=635, iid=1603, r_ui=3.590506446178533, est=3.384434072152226, details={'was_impossible': False}),\n",
              " Prediction(uid=635, iid=2288, r_ui=3.590506446178533, est=4.33627957866017, details={'was_impossible': False}),\n",
              " Prediction(uid=635, iid=968, r_ui=3.590506446178533, est=4.0922533167483826, details={'was_impossible': False}),\n",
              " Prediction(uid=635, iid=2451, r_ui=3.590506446178533, est=3.0721818737858744, details={'was_impossible': False}),\n",
              " Prediction(uid=635, iid=2455, r_ui=3.590506446178533, est=4.019753494457575, details={'was_impossible': False}),\n",
              " Prediction(uid=635, iid=1653, r_ui=3.590506446178533, est=3.9732744774132085, details={'was_impossible': False}),\n",
              " Prediction(uid=635, iid=2456, r_ui=3.590506446178533, est=2.972740091065382, details={'was_impossible': False}),\n",
              " Prediction(uid=635, iid=2460, r_ui=3.590506446178533, est=2.6362224831813066, details={'was_impossible': False}),\n",
              " Prediction(uid=635, iid=2615, r_ui=3.590506446178533, est=3.529657242919216, details={'was_impossible': False}),\n",
              " Prediction(uid=635, iid=2628, r_ui=3.590506446178533, est=3.5366358737586445, details={'was_impossible': False}),\n",
              " Prediction(uid=635, iid=1690, r_ui=3.590506446178533, est=3.4547121860467955, details={'was_impossible': False}),\n",
              " Prediction(uid=635, iid=2641, r_ui=3.590506446178533, est=3.463774195161093, details={'was_impossible': False}),\n",
              " Prediction(uid=635, iid=2668, r_ui=3.590506446178533, est=3.004756002117663, details={'was_impossible': False})]"
            ]
          },
          "metadata": {
            "tags": []
          },
          "execution_count": 38
        }
      ]
    },
    {
      "cell_type": "code",
      "metadata": {
        "id": "YG3d33cpzkBb"
      },
      "source": [
        "# 추천 결과 평가\n",
        "predictions = algo.test(test_data)\n",
        "estimated_unwatched_dict = {}\n",
        "\n",
        "for uid, iid, _, predicted_rating, _ in predictions :\n",
        "    if uid in estimated_unwatched_dict :\n",
        "        estimated_unwatched_dict[uid].append((iid, predicted_rating))\n",
        "    else :\n",
        "        estimated_unwatched_dict[uid] = [(iid, predicted_rating)]"
      ],
      "execution_count": 12,
      "outputs": []
    },
    {
      "cell_type": "code",
      "metadata": {
        "id": "-URVoJK30sAh"
      },
      "source": [
        "# 4점 이상을 준 test 시청리스트만 추출\n",
        "\n",
        "user_watch_dict_list_test = test_df[test_df['rating']>=4].groupby('user_id')[['user_id','movie_id']].apply(lambda x : x['movie_id'].tolist())"
      ],
      "execution_count": 14,
      "outputs": []
    },
    {
      "cell_type": "code",
      "metadata": {
        "id": "NjY5oHWg0r92"
      },
      "source": [
        "user_metric = []\n",
        "# 유저별 k개의 선호리스트 추출\n",
        "k = 3 \n",
        "for user in estimated_unwatched_dict :\n",
        "    estimated_list = estimated_unwatched_dict[user].copy()\n",
        "    estimated_list.sort(key=lambda tup:tup[1], reverse=True)\n",
        "    try :\n",
        "        top_k_prefer_list = [movie[0] for movie in estimated_list[:k]]\n",
        "        actual_watch_list = user_watch_dict_list_test[int(user)]\n",
        "        user_metric.append((user,top_k_prefer_list,actual_watch_list))\n",
        "    except :\n",
        "        print('exclude user : ' + str(user))"
      ],
      "execution_count": null,
      "outputs": []
    },
    {
      "cell_type": "code",
      "metadata": {
        "id": "KyoGmG0L0r7e"
      },
      "source": [
        "user_metric[:2]"
      ],
      "execution_count": null,
      "outputs": []
    },
    {
      "cell_type": "code",
      "metadata": {
        "id": "NZNocDpS0r5S",
        "outputId": "d35d03f1-159a-4dc2-cd89-482798b64862",
        "colab": {
          "base_uri": "https://localhost:8080/"
        }
      },
      "source": [
        "# 유저 1명의 Precision\n",
        "predict_value = user_metric[0][1]\n",
        "actual_value = user_metric[0][2]\n",
        "TruePositive = [pv for pv in predict_value if pv in actual_value]\n",
        "len(TruePositive) / len(predict_value)"
      ],
      "execution_count": 20,
      "outputs": [
        {
          "output_type": "execute_result",
          "data": {
            "text/plain": [
              "0.0"
            ]
          },
          "metadata": {
            "tags": []
          },
          "execution_count": 20
        }
      ]
    },
    {
      "cell_type": "code",
      "metadata": {
        "id": "QprnktZZzj8_"
      },
      "source": [
        "def get_map(user_list) :\n",
        "    precision_list = []\n",
        "    for user in user_list :\n",
        "        predict_value = user[1]\n",
        "        actual_value = set(user[2])\n",
        "        tp = [pv for pv in predict_value if pv in actual_value]\n",
        "        precision = len(tp) / len(predict_value)\n",
        "        precision_list.append(precision)\n",
        "    return sum(precision_list) / len(precision_list)\n",
        "\n"
      ],
      "execution_count": 23,
      "outputs": []
    },
    {
      "cell_type": "code",
      "metadata": {
        "id": "KzyQwwodBl7y",
        "outputId": "b2654db3-4d2f-4780-dbb6-1a15f6fc2e07",
        "colab": {
          "base_uri": "https://localhost:8080/"
        }
      },
      "source": [
        "get_map(user_metric)"
      ],
      "execution_count": 24,
      "outputs": [
        {
          "output_type": "execute_result",
          "data": {
            "text/plain": [
              "0.15062388591800355"
            ]
          },
          "metadata": {
            "tags": []
          },
          "execution_count": 24
        }
      ]
    }
  ]
}