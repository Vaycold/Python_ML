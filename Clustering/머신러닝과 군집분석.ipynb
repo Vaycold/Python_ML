{
  "nbformat": 4,
  "nbformat_minor": 0,
  "metadata": {
    "colab": {
      "name": "머신러닝과 군집분석.ipynb",
      "provenance": [],
      "authorship_tag": "ABX9TyMy/8MZAzjSH//KNUvB7EDV",
      "include_colab_link": true
    },
    "kernelspec": {
      "name": "python3",
      "display_name": "Python 3"
    },
    "language_info": {
      "name": "python"
    }
  },
  "cells": [
    {
      "cell_type": "markdown",
      "metadata": {
        "id": "view-in-github",
        "colab_type": "text"
      },
      "source": [
        "<a href=\"https://colab.research.google.com/github/Vaycold/Python_ML/blob/main/Clustering/%EB%A8%B8%EC%8B%A0%EB%9F%AC%EB%8B%9D%EA%B3%BC%20%EA%B5%B0%EC%A7%91%EB%B6%84%EC%84%9D.ipynb\" target=\"_parent\"><img src=\"https://colab.research.google.com/assets/colab-badge.svg\" alt=\"Open In Colab\"/></a>"
      ]
    },
    {
      "cell_type": "markdown",
      "metadata": {
        "id": "VPwP3A1LIci1"
      },
      "source": [
        "## Goal\n",
        " - Clustering의 다양한 알고리즘\n",
        " - 시각화 및 차이점"
      ]
    },
    {
      "cell_type": "markdown",
      "metadata": {
        "id": "b9AMWiY1IoXE"
      },
      "source": [
        "## Data load & Preprocessing"
      ]
    },
    {
      "cell_type": "code",
      "metadata": {
        "id": "0v8m4RuLHu0b"
      },
      "source": [
        "# importing module\n",
        "import numpy as np\n",
        "import pandas as pd\n",
        "from sklearn.datasets import load_iris\n",
        "from sklearn.model_selection import train_test_split"
      ],
      "execution_count": 1,
      "outputs": []
    },
    {
      "cell_type": "code",
      "metadata": {
        "colab": {
          "base_uri": "https://localhost:8080/",
          "height": 195
        },
        "id": "FHORwK80I1BT",
        "outputId": "42242ac5-c3a5-426d-fcc1-9ccd676417f7"
      },
      "source": [
        "iris = load_iris()\n",
        "iris_df = pd.DataFrame(data=iris.data, columns = iris.feature_names)\n",
        "iris_df.head()"
      ],
      "execution_count": 2,
      "outputs": [
        {
          "output_type": "execute_result",
          "data": {
            "text/html": [
              "<div>\n",
              "<style scoped>\n",
              "    .dataframe tbody tr th:only-of-type {\n",
              "        vertical-align: middle;\n",
              "    }\n",
              "\n",
              "    .dataframe tbody tr th {\n",
              "        vertical-align: top;\n",
              "    }\n",
              "\n",
              "    .dataframe thead th {\n",
              "        text-align: right;\n",
              "    }\n",
              "</style>\n",
              "<table border=\"1\" class=\"dataframe\">\n",
              "  <thead>\n",
              "    <tr style=\"text-align: right;\">\n",
              "      <th></th>\n",
              "      <th>sepal length (cm)</th>\n",
              "      <th>sepal width (cm)</th>\n",
              "      <th>petal length (cm)</th>\n",
              "      <th>petal width (cm)</th>\n",
              "    </tr>\n",
              "  </thead>\n",
              "  <tbody>\n",
              "    <tr>\n",
              "      <th>0</th>\n",
              "      <td>5.1</td>\n",
              "      <td>3.5</td>\n",
              "      <td>1.4</td>\n",
              "      <td>0.2</td>\n",
              "    </tr>\n",
              "    <tr>\n",
              "      <th>1</th>\n",
              "      <td>4.9</td>\n",
              "      <td>3.0</td>\n",
              "      <td>1.4</td>\n",
              "      <td>0.2</td>\n",
              "    </tr>\n",
              "    <tr>\n",
              "      <th>2</th>\n",
              "      <td>4.7</td>\n",
              "      <td>3.2</td>\n",
              "      <td>1.3</td>\n",
              "      <td>0.2</td>\n",
              "    </tr>\n",
              "    <tr>\n",
              "      <th>3</th>\n",
              "      <td>4.6</td>\n",
              "      <td>3.1</td>\n",
              "      <td>1.5</td>\n",
              "      <td>0.2</td>\n",
              "    </tr>\n",
              "    <tr>\n",
              "      <th>4</th>\n",
              "      <td>5.0</td>\n",
              "      <td>3.6</td>\n",
              "      <td>1.4</td>\n",
              "      <td>0.2</td>\n",
              "    </tr>\n",
              "  </tbody>\n",
              "</table>\n",
              "</div>"
            ],
            "text/plain": [
              "   sepal length (cm)  sepal width (cm)  petal length (cm)  petal width (cm)\n",
              "0                5.1               3.5                1.4               0.2\n",
              "1                4.9               3.0                1.4               0.2\n",
              "2                4.7               3.2                1.3               0.2\n",
              "3                4.6               3.1                1.5               0.2\n",
              "4                5.0               3.6                1.4               0.2"
            ]
          },
          "metadata": {
            "tags": []
          },
          "execution_count": 2
        }
      ]
    },
    {
      "cell_type": "code",
      "metadata": {
        "colab": {
          "base_uri": "https://localhost:8080/"
        },
        "id": "Y1ur6GD7JER6",
        "outputId": "570a915e-b135-4214-e536-874e30c11f01"
      },
      "source": [
        "# 컬럼명 재 할당\n",
        "columns_name_list = ['sepal_length','sepal_width', 'petal_length', 'petal_width']\n",
        "iris_df.columns = columns_name_list\n",
        "iris_df.columns"
      ],
      "execution_count": 3,
      "outputs": [
        {
          "output_type": "execute_result",
          "data": {
            "text/plain": [
              "Index(['sepal_length', 'sepal_width', 'petal_length', 'petal_width'], dtype='object')"
            ]
          },
          "metadata": {
            "tags": []
          },
          "execution_count": 3
        }
      ]
    },
    {
      "cell_type": "code",
      "metadata": {
        "colab": {
          "base_uri": "https://localhost:8080/",
          "height": 195
        },
        "id": "vet-tknYJjxY",
        "outputId": "5bc95f1f-5f41-4236-b6e5-9ad348f14bcd"
      },
      "source": [
        "# 딕셔너리 방법으로도 가능함.\n",
        "\n",
        "columns_replace_dict = {\n",
        "    k:v for k,v in zip(iris.feature_names, columns_name_list)\n",
        "}\n",
        "iris_df.rename(columns_replace_dict, axis='columns', inplace=True)\n",
        "iris_df.head()"
      ],
      "execution_count": 4,
      "outputs": [
        {
          "output_type": "execute_result",
          "data": {
            "text/html": [
              "<div>\n",
              "<style scoped>\n",
              "    .dataframe tbody tr th:only-of-type {\n",
              "        vertical-align: middle;\n",
              "    }\n",
              "\n",
              "    .dataframe tbody tr th {\n",
              "        vertical-align: top;\n",
              "    }\n",
              "\n",
              "    .dataframe thead th {\n",
              "        text-align: right;\n",
              "    }\n",
              "</style>\n",
              "<table border=\"1\" class=\"dataframe\">\n",
              "  <thead>\n",
              "    <tr style=\"text-align: right;\">\n",
              "      <th></th>\n",
              "      <th>sepal_length</th>\n",
              "      <th>sepal_width</th>\n",
              "      <th>petal_length</th>\n",
              "      <th>petal_width</th>\n",
              "    </tr>\n",
              "  </thead>\n",
              "  <tbody>\n",
              "    <tr>\n",
              "      <th>0</th>\n",
              "      <td>5.1</td>\n",
              "      <td>3.5</td>\n",
              "      <td>1.4</td>\n",
              "      <td>0.2</td>\n",
              "    </tr>\n",
              "    <tr>\n",
              "      <th>1</th>\n",
              "      <td>4.9</td>\n",
              "      <td>3.0</td>\n",
              "      <td>1.4</td>\n",
              "      <td>0.2</td>\n",
              "    </tr>\n",
              "    <tr>\n",
              "      <th>2</th>\n",
              "      <td>4.7</td>\n",
              "      <td>3.2</td>\n",
              "      <td>1.3</td>\n",
              "      <td>0.2</td>\n",
              "    </tr>\n",
              "    <tr>\n",
              "      <th>3</th>\n",
              "      <td>4.6</td>\n",
              "      <td>3.1</td>\n",
              "      <td>1.5</td>\n",
              "      <td>0.2</td>\n",
              "    </tr>\n",
              "    <tr>\n",
              "      <th>4</th>\n",
              "      <td>5.0</td>\n",
              "      <td>3.6</td>\n",
              "      <td>1.4</td>\n",
              "      <td>0.2</td>\n",
              "    </tr>\n",
              "  </tbody>\n",
              "</table>\n",
              "</div>"
            ],
            "text/plain": [
              "   sepal_length  sepal_width  petal_length  petal_width\n",
              "0           5.1          3.5           1.4          0.2\n",
              "1           4.9          3.0           1.4          0.2\n",
              "2           4.7          3.2           1.3          0.2\n",
              "3           4.6          3.1           1.5          0.2\n",
              "4           5.0          3.6           1.4          0.2"
            ]
          },
          "metadata": {
            "tags": []
          },
          "execution_count": 4
        }
      ]
    },
    {
      "cell_type": "code",
      "metadata": {
        "id": "Lv-BEdzOKK4A"
      },
      "source": [
        "# target을 추가해보자.\n",
        "iris_df['target'] = iris.target"
      ],
      "execution_count": 5,
      "outputs": []
    },
    {
      "cell_type": "code",
      "metadata": {
        "colab": {
          "base_uri": "https://localhost:8080/",
          "height": 195
        },
        "id": "KvP9GCPiKpBQ",
        "outputId": "5b53fe42-e923-4489-9385-8ceb571203aa"
      },
      "source": [
        "iris_df.head()"
      ],
      "execution_count": 6,
      "outputs": [
        {
          "output_type": "execute_result",
          "data": {
            "text/html": [
              "<div>\n",
              "<style scoped>\n",
              "    .dataframe tbody tr th:only-of-type {\n",
              "        vertical-align: middle;\n",
              "    }\n",
              "\n",
              "    .dataframe tbody tr th {\n",
              "        vertical-align: top;\n",
              "    }\n",
              "\n",
              "    .dataframe thead th {\n",
              "        text-align: right;\n",
              "    }\n",
              "</style>\n",
              "<table border=\"1\" class=\"dataframe\">\n",
              "  <thead>\n",
              "    <tr style=\"text-align: right;\">\n",
              "      <th></th>\n",
              "      <th>sepal_length</th>\n",
              "      <th>sepal_width</th>\n",
              "      <th>petal_length</th>\n",
              "      <th>petal_width</th>\n",
              "      <th>target</th>\n",
              "    </tr>\n",
              "  </thead>\n",
              "  <tbody>\n",
              "    <tr>\n",
              "      <th>0</th>\n",
              "      <td>5.1</td>\n",
              "      <td>3.5</td>\n",
              "      <td>1.4</td>\n",
              "      <td>0.2</td>\n",
              "      <td>0</td>\n",
              "    </tr>\n",
              "    <tr>\n",
              "      <th>1</th>\n",
              "      <td>4.9</td>\n",
              "      <td>3.0</td>\n",
              "      <td>1.4</td>\n",
              "      <td>0.2</td>\n",
              "      <td>0</td>\n",
              "    </tr>\n",
              "    <tr>\n",
              "      <th>2</th>\n",
              "      <td>4.7</td>\n",
              "      <td>3.2</td>\n",
              "      <td>1.3</td>\n",
              "      <td>0.2</td>\n",
              "      <td>0</td>\n",
              "    </tr>\n",
              "    <tr>\n",
              "      <th>3</th>\n",
              "      <td>4.6</td>\n",
              "      <td>3.1</td>\n",
              "      <td>1.5</td>\n",
              "      <td>0.2</td>\n",
              "      <td>0</td>\n",
              "    </tr>\n",
              "    <tr>\n",
              "      <th>4</th>\n",
              "      <td>5.0</td>\n",
              "      <td>3.6</td>\n",
              "      <td>1.4</td>\n",
              "      <td>0.2</td>\n",
              "      <td>0</td>\n",
              "    </tr>\n",
              "  </tbody>\n",
              "</table>\n",
              "</div>"
            ],
            "text/plain": [
              "   sepal_length  sepal_width  petal_length  petal_width  target\n",
              "0           5.1          3.5           1.4          0.2       0\n",
              "1           4.9          3.0           1.4          0.2       0\n",
              "2           4.7          3.2           1.3          0.2       0\n",
              "3           4.6          3.1           1.5          0.2       0\n",
              "4           5.0          3.6           1.4          0.2       0"
            ]
          },
          "metadata": {
            "tags": []
          },
          "execution_count": 6
        }
      ]
    },
    {
      "cell_type": "code",
      "metadata": {
        "colab": {
          "base_uri": "https://localhost:8080/"
        },
        "id": "q6nRH00ZKxDI",
        "outputId": "7be50a5e-eed6-4238-ef11-443fbcae50e6"
      },
      "source": [
        "# target의 종류를 확인해보자.\n",
        "iris_df.target.unique()"
      ],
      "execution_count": 7,
      "outputs": [
        {
          "output_type": "execute_result",
          "data": {
            "text/plain": [
              "array([0, 1, 2])"
            ]
          },
          "metadata": {
            "tags": []
          },
          "execution_count": 7
        }
      ]
    },
    {
      "cell_type": "code",
      "metadata": {
        "colab": {
          "base_uri": "https://localhost:8080/"
        },
        "id": "UMugABBtK4G6",
        "outputId": "3ff623e3-7faa-48a6-cf49-c5a8af1e47a0"
      },
      "source": [
        "# 결측값 확인해보자\n",
        "iris_df.isnull().sum()"
      ],
      "execution_count": 8,
      "outputs": [
        {
          "output_type": "execute_result",
          "data": {
            "text/plain": [
              "sepal_length    0\n",
              "sepal_width     0\n",
              "petal_length    0\n",
              "petal_width     0\n",
              "target          0\n",
              "dtype: int64"
            ]
          },
          "metadata": {
            "tags": []
          },
          "execution_count": 8
        }
      ]
    },
    {
      "cell_type": "markdown",
      "metadata": {
        "id": "88uEdrd2LScZ"
      },
      "source": [
        "## 데이터 시각화"
      ]
    },
    {
      "cell_type": "code",
      "metadata": {
        "colab": {
          "base_uri": "https://localhost:8080/"
        },
        "id": "p2eCdR-gK97z",
        "outputId": "b486deb9-4e29-4e68-e2d5-82fec66a3345"
      },
      "source": [
        "iris_df.dtypes"
      ],
      "execution_count": null,
      "outputs": [
        {
          "output_type": "execute_result",
          "data": {
            "text/plain": [
              "sepal_length    float64\n",
              "sepal_width     float64\n",
              "petal_length    float64\n",
              "petal_width     float64\n",
              "target            int64\n",
              "dtype: object"
            ]
          },
          "metadata": {
            "tags": []
          },
          "execution_count": 9
        }
      ]
    },
    {
      "cell_type": "code",
      "metadata": {
        "colab": {
          "base_uri": "https://localhost:8080/",
          "height": 284
        },
        "id": "8awmbZHSLMGu",
        "outputId": "5197ee1b-b25a-4be5-9225-e265aeb68b04"
      },
      "source": [
        "iris_df.describe()"
      ],
      "execution_count": null,
      "outputs": [
        {
          "output_type": "execute_result",
          "data": {
            "text/html": [
              "<div>\n",
              "<style scoped>\n",
              "    .dataframe tbody tr th:only-of-type {\n",
              "        vertical-align: middle;\n",
              "    }\n",
              "\n",
              "    .dataframe tbody tr th {\n",
              "        vertical-align: top;\n",
              "    }\n",
              "\n",
              "    .dataframe thead th {\n",
              "        text-align: right;\n",
              "    }\n",
              "</style>\n",
              "<table border=\"1\" class=\"dataframe\">\n",
              "  <thead>\n",
              "    <tr style=\"text-align: right;\">\n",
              "      <th></th>\n",
              "      <th>sepal_length</th>\n",
              "      <th>sepal_width</th>\n",
              "      <th>petal_length</th>\n",
              "      <th>petal_width</th>\n",
              "      <th>target</th>\n",
              "    </tr>\n",
              "  </thead>\n",
              "  <tbody>\n",
              "    <tr>\n",
              "      <th>count</th>\n",
              "      <td>150.000000</td>\n",
              "      <td>150.000000</td>\n",
              "      <td>150.000000</td>\n",
              "      <td>150.000000</td>\n",
              "      <td>150.000000</td>\n",
              "    </tr>\n",
              "    <tr>\n",
              "      <th>mean</th>\n",
              "      <td>5.843333</td>\n",
              "      <td>3.057333</td>\n",
              "      <td>3.758000</td>\n",
              "      <td>1.199333</td>\n",
              "      <td>1.000000</td>\n",
              "    </tr>\n",
              "    <tr>\n",
              "      <th>std</th>\n",
              "      <td>0.828066</td>\n",
              "      <td>0.435866</td>\n",
              "      <td>1.765298</td>\n",
              "      <td>0.762238</td>\n",
              "      <td>0.819232</td>\n",
              "    </tr>\n",
              "    <tr>\n",
              "      <th>min</th>\n",
              "      <td>4.300000</td>\n",
              "      <td>2.000000</td>\n",
              "      <td>1.000000</td>\n",
              "      <td>0.100000</td>\n",
              "      <td>0.000000</td>\n",
              "    </tr>\n",
              "    <tr>\n",
              "      <th>25%</th>\n",
              "      <td>5.100000</td>\n",
              "      <td>2.800000</td>\n",
              "      <td>1.600000</td>\n",
              "      <td>0.300000</td>\n",
              "      <td>0.000000</td>\n",
              "    </tr>\n",
              "    <tr>\n",
              "      <th>50%</th>\n",
              "      <td>5.800000</td>\n",
              "      <td>3.000000</td>\n",
              "      <td>4.350000</td>\n",
              "      <td>1.300000</td>\n",
              "      <td>1.000000</td>\n",
              "    </tr>\n",
              "    <tr>\n",
              "      <th>75%</th>\n",
              "      <td>6.400000</td>\n",
              "      <td>3.300000</td>\n",
              "      <td>5.100000</td>\n",
              "      <td>1.800000</td>\n",
              "      <td>2.000000</td>\n",
              "    </tr>\n",
              "    <tr>\n",
              "      <th>max</th>\n",
              "      <td>7.900000</td>\n",
              "      <td>4.400000</td>\n",
              "      <td>6.900000</td>\n",
              "      <td>2.500000</td>\n",
              "      <td>2.000000</td>\n",
              "    </tr>\n",
              "  </tbody>\n",
              "</table>\n",
              "</div>"
            ],
            "text/plain": [
              "       sepal_length  sepal_width  petal_length  petal_width      target\n",
              "count    150.000000   150.000000    150.000000   150.000000  150.000000\n",
              "mean       5.843333     3.057333      3.758000     1.199333    1.000000\n",
              "std        0.828066     0.435866      1.765298     0.762238    0.819232\n",
              "min        4.300000     2.000000      1.000000     0.100000    0.000000\n",
              "25%        5.100000     2.800000      1.600000     0.300000    0.000000\n",
              "50%        5.800000     3.000000      4.350000     1.300000    1.000000\n",
              "75%        6.400000     3.300000      5.100000     1.800000    2.000000\n",
              "max        7.900000     4.400000      6.900000     2.500000    2.000000"
            ]
          },
          "metadata": {
            "tags": []
          },
          "execution_count": 10
        }
      ]
    },
    {
      "cell_type": "code",
      "metadata": {
        "colab": {
          "base_uri": "https://localhost:8080/",
          "height": 517
        },
        "id": "8VvN2DyALU_j",
        "outputId": "d971a393-46a0-41c6-93e0-b0b89c86d364"
      },
      "source": [
        "import plotly.express as px\n",
        "\n",
        "# scatter plot 생성\n",
        "fig = px.scatter(iris_df, x = 'sepal_length', y='sepal_width')\n",
        "\n",
        "# 그래프 사이즈 조정\n",
        "fig.update_layout(width = 600, height=500)\n",
        "\n",
        "fig.show()\n"
      ],
      "execution_count": 9,
      "outputs": [
        {
          "output_type": "display_data",
          "data": {
            "text/html": [
              "<html>\n",
              "<head><meta charset=\"utf-8\" /></head>\n",
              "<body>\n",
              "    <div>\n",
              "            <script src=\"https://cdnjs.cloudflare.com/ajax/libs/mathjax/2.7.5/MathJax.js?config=TeX-AMS-MML_SVG\"></script><script type=\"text/javascript\">if (window.MathJax) {MathJax.Hub.Config({SVG: {font: \"STIX-Web\"}});}</script>\n",
              "                <script type=\"text/javascript\">window.PlotlyConfig = {MathJaxConfig: 'local'};</script>\n",
              "        <script src=\"https://cdn.plot.ly/plotly-latest.min.js\"></script>    \n",
              "            <div id=\"2533558c-f1bd-4a48-9134-4c3527b852cf\" class=\"plotly-graph-div\" style=\"height:500px; width:600px;\"></div>\n",
              "            <script type=\"text/javascript\">\n",
              "                \n",
              "                    window.PLOTLYENV=window.PLOTLYENV || {};\n",
              "                    \n",
              "                if (document.getElementById(\"2533558c-f1bd-4a48-9134-4c3527b852cf\")) {\n",
              "                    Plotly.newPlot(\n",
              "                        '2533558c-f1bd-4a48-9134-4c3527b852cf',\n",
              "                        [{\"hoverlabel\": {\"namelength\": 0}, \"hovertemplate\": \"sepal_length=%{x}<br>sepal_width=%{y}\", \"legendgroup\": \"\", \"marker\": {\"color\": \"#636efa\", \"symbol\": \"circle\"}, \"mode\": \"markers\", \"name\": \"\", \"showlegend\": false, \"type\": \"scatter\", \"x\": [5.1, 4.9, 4.7, 4.6, 5.0, 5.4, 4.6, 5.0, 4.4, 4.9, 5.4, 4.8, 4.8, 4.3, 5.8, 5.7, 5.4, 5.1, 5.7, 5.1, 5.4, 5.1, 4.6, 5.1, 4.8, 5.0, 5.0, 5.2, 5.2, 4.7, 4.8, 5.4, 5.2, 5.5, 4.9, 5.0, 5.5, 4.9, 4.4, 5.1, 5.0, 4.5, 4.4, 5.0, 5.1, 4.8, 5.1, 4.6, 5.3, 5.0, 7.0, 6.4, 6.9, 5.5, 6.5, 5.7, 6.3, 4.9, 6.6, 5.2, 5.0, 5.9, 6.0, 6.1, 5.6, 6.7, 5.6, 5.8, 6.2, 5.6, 5.9, 6.1, 6.3, 6.1, 6.4, 6.6, 6.8, 6.7, 6.0, 5.7, 5.5, 5.5, 5.8, 6.0, 5.4, 6.0, 6.7, 6.3, 5.6, 5.5, 5.5, 6.1, 5.8, 5.0, 5.6, 5.7, 5.7, 6.2, 5.1, 5.7, 6.3, 5.8, 7.1, 6.3, 6.5, 7.6, 4.9, 7.3, 6.7, 7.2, 6.5, 6.4, 6.8, 5.7, 5.8, 6.4, 6.5, 7.7, 7.7, 6.0, 6.9, 5.6, 7.7, 6.3, 6.7, 7.2, 6.2, 6.1, 6.4, 7.2, 7.4, 7.9, 6.4, 6.3, 6.1, 7.7, 6.3, 6.4, 6.0, 6.9, 6.7, 6.9, 5.8, 6.8, 6.7, 6.7, 6.3, 6.5, 6.2, 5.9], \"xaxis\": \"x\", \"y\": [3.5, 3.0, 3.2, 3.1, 3.6, 3.9, 3.4, 3.4, 2.9, 3.1, 3.7, 3.4, 3.0, 3.0, 4.0, 4.4, 3.9, 3.5, 3.8, 3.8, 3.4, 3.7, 3.6, 3.3, 3.4, 3.0, 3.4, 3.5, 3.4, 3.2, 3.1, 3.4, 4.1, 4.2, 3.1, 3.2, 3.5, 3.6, 3.0, 3.4, 3.5, 2.3, 3.2, 3.5, 3.8, 3.0, 3.8, 3.2, 3.7, 3.3, 3.2, 3.2, 3.1, 2.3, 2.8, 2.8, 3.3, 2.4, 2.9, 2.7, 2.0, 3.0, 2.2, 2.9, 2.9, 3.1, 3.0, 2.7, 2.2, 2.5, 3.2, 2.8, 2.5, 2.8, 2.9, 3.0, 2.8, 3.0, 2.9, 2.6, 2.4, 2.4, 2.7, 2.7, 3.0, 3.4, 3.1, 2.3, 3.0, 2.5, 2.6, 3.0, 2.6, 2.3, 2.7, 3.0, 2.9, 2.9, 2.5, 2.8, 3.3, 2.7, 3.0, 2.9, 3.0, 3.0, 2.5, 2.9, 2.5, 3.6, 3.2, 2.7, 3.0, 2.5, 2.8, 3.2, 3.0, 3.8, 2.6, 2.2, 3.2, 2.8, 2.8, 2.7, 3.3, 3.2, 2.8, 3.0, 2.8, 3.0, 2.8, 3.8, 2.8, 2.8, 2.6, 3.0, 3.4, 3.1, 3.0, 3.1, 3.1, 3.1, 2.7, 3.2, 3.3, 3.0, 2.5, 3.0, 3.4, 3.0], \"yaxis\": \"y\"}],\n",
              "                        {\"height\": 500, \"legend\": {\"tracegroupgap\": 0}, \"margin\": {\"t\": 60}, \"template\": {\"data\": {\"bar\": [{\"error_x\": {\"color\": \"#2a3f5f\"}, \"error_y\": {\"color\": \"#2a3f5f\"}, \"marker\": {\"line\": {\"color\": \"#E5ECF6\", \"width\": 0.5}}, \"type\": \"bar\"}], \"barpolar\": [{\"marker\": {\"line\": {\"color\": \"#E5ECF6\", \"width\": 0.5}}, \"type\": \"barpolar\"}], \"carpet\": [{\"aaxis\": {\"endlinecolor\": \"#2a3f5f\", \"gridcolor\": \"white\", \"linecolor\": \"white\", \"minorgridcolor\": \"white\", \"startlinecolor\": \"#2a3f5f\"}, \"baxis\": {\"endlinecolor\": \"#2a3f5f\", \"gridcolor\": \"white\", \"linecolor\": \"white\", \"minorgridcolor\": \"white\", \"startlinecolor\": \"#2a3f5f\"}, \"type\": \"carpet\"}], \"choropleth\": [{\"colorbar\": {\"outlinewidth\": 0, \"ticks\": \"\"}, \"type\": \"choropleth\"}], \"contour\": [{\"colorbar\": {\"outlinewidth\": 0, \"ticks\": \"\"}, \"colorscale\": [[0.0, \"#0d0887\"], [0.1111111111111111, \"#46039f\"], [0.2222222222222222, \"#7201a8\"], [0.3333333333333333, \"#9c179e\"], [0.4444444444444444, \"#bd3786\"], [0.5555555555555556, \"#d8576b\"], [0.6666666666666666, \"#ed7953\"], [0.7777777777777778, \"#fb9f3a\"], [0.8888888888888888, \"#fdca26\"], [1.0, \"#f0f921\"]], \"type\": \"contour\"}], \"contourcarpet\": [{\"colorbar\": {\"outlinewidth\": 0, \"ticks\": \"\"}, \"type\": \"contourcarpet\"}], \"heatmap\": [{\"colorbar\": {\"outlinewidth\": 0, \"ticks\": \"\"}, \"colorscale\": [[0.0, \"#0d0887\"], [0.1111111111111111, \"#46039f\"], [0.2222222222222222, \"#7201a8\"], [0.3333333333333333, \"#9c179e\"], [0.4444444444444444, \"#bd3786\"], [0.5555555555555556, \"#d8576b\"], [0.6666666666666666, \"#ed7953\"], [0.7777777777777778, \"#fb9f3a\"], [0.8888888888888888, \"#fdca26\"], [1.0, \"#f0f921\"]], \"type\": \"heatmap\"}], \"heatmapgl\": [{\"colorbar\": {\"outlinewidth\": 0, \"ticks\": \"\"}, \"colorscale\": [[0.0, \"#0d0887\"], [0.1111111111111111, \"#46039f\"], [0.2222222222222222, \"#7201a8\"], [0.3333333333333333, \"#9c179e\"], [0.4444444444444444, \"#bd3786\"], [0.5555555555555556, \"#d8576b\"], [0.6666666666666666, \"#ed7953\"], [0.7777777777777778, \"#fb9f3a\"], [0.8888888888888888, \"#fdca26\"], [1.0, \"#f0f921\"]], \"type\": \"heatmapgl\"}], \"histogram\": [{\"marker\": {\"colorbar\": {\"outlinewidth\": 0, \"ticks\": \"\"}}, \"type\": \"histogram\"}], \"histogram2d\": [{\"colorbar\": {\"outlinewidth\": 0, \"ticks\": \"\"}, \"colorscale\": [[0.0, \"#0d0887\"], [0.1111111111111111, \"#46039f\"], [0.2222222222222222, \"#7201a8\"], [0.3333333333333333, \"#9c179e\"], [0.4444444444444444, \"#bd3786\"], [0.5555555555555556, \"#d8576b\"], [0.6666666666666666, \"#ed7953\"], [0.7777777777777778, \"#fb9f3a\"], [0.8888888888888888, \"#fdca26\"], [1.0, \"#f0f921\"]], \"type\": \"histogram2d\"}], \"histogram2dcontour\": [{\"colorbar\": {\"outlinewidth\": 0, \"ticks\": \"\"}, \"colorscale\": [[0.0, \"#0d0887\"], [0.1111111111111111, \"#46039f\"], [0.2222222222222222, \"#7201a8\"], [0.3333333333333333, \"#9c179e\"], [0.4444444444444444, \"#bd3786\"], [0.5555555555555556, \"#d8576b\"], [0.6666666666666666, \"#ed7953\"], [0.7777777777777778, \"#fb9f3a\"], [0.8888888888888888, \"#fdca26\"], [1.0, \"#f0f921\"]], \"type\": \"histogram2dcontour\"}], \"mesh3d\": [{\"colorbar\": {\"outlinewidth\": 0, \"ticks\": \"\"}, \"type\": \"mesh3d\"}], \"parcoords\": [{\"line\": {\"colorbar\": {\"outlinewidth\": 0, \"ticks\": \"\"}}, \"type\": \"parcoords\"}], \"pie\": [{\"automargin\": true, \"type\": \"pie\"}], \"scatter\": [{\"marker\": {\"colorbar\": {\"outlinewidth\": 0, \"ticks\": \"\"}}, \"type\": \"scatter\"}], \"scatter3d\": [{\"line\": {\"colorbar\": {\"outlinewidth\": 0, \"ticks\": \"\"}}, \"marker\": {\"colorbar\": {\"outlinewidth\": 0, \"ticks\": \"\"}}, \"type\": \"scatter3d\"}], \"scattercarpet\": [{\"marker\": {\"colorbar\": {\"outlinewidth\": 0, \"ticks\": \"\"}}, \"type\": \"scattercarpet\"}], \"scattergeo\": [{\"marker\": {\"colorbar\": {\"outlinewidth\": 0, \"ticks\": \"\"}}, \"type\": \"scattergeo\"}], \"scattergl\": [{\"marker\": {\"colorbar\": {\"outlinewidth\": 0, \"ticks\": \"\"}}, \"type\": \"scattergl\"}], \"scattermapbox\": [{\"marker\": {\"colorbar\": {\"outlinewidth\": 0, \"ticks\": \"\"}}, \"type\": \"scattermapbox\"}], \"scatterpolar\": [{\"marker\": {\"colorbar\": {\"outlinewidth\": 0, \"ticks\": \"\"}}, \"type\": \"scatterpolar\"}], \"scatterpolargl\": [{\"marker\": {\"colorbar\": {\"outlinewidth\": 0, \"ticks\": \"\"}}, \"type\": \"scatterpolargl\"}], \"scatterternary\": [{\"marker\": {\"colorbar\": {\"outlinewidth\": 0, \"ticks\": \"\"}}, \"type\": \"scatterternary\"}], \"surface\": [{\"colorbar\": {\"outlinewidth\": 0, \"ticks\": \"\"}, \"colorscale\": [[0.0, \"#0d0887\"], [0.1111111111111111, \"#46039f\"], [0.2222222222222222, \"#7201a8\"], [0.3333333333333333, \"#9c179e\"], [0.4444444444444444, \"#bd3786\"], [0.5555555555555556, \"#d8576b\"], [0.6666666666666666, \"#ed7953\"], [0.7777777777777778, \"#fb9f3a\"], [0.8888888888888888, \"#fdca26\"], [1.0, \"#f0f921\"]], \"type\": \"surface\"}], \"table\": [{\"cells\": {\"fill\": {\"color\": \"#EBF0F8\"}, \"line\": {\"color\": \"white\"}}, \"header\": {\"fill\": {\"color\": \"#C8D4E3\"}, \"line\": {\"color\": \"white\"}}, \"type\": \"table\"}]}, \"layout\": {\"annotationdefaults\": {\"arrowcolor\": \"#2a3f5f\", \"arrowhead\": 0, \"arrowwidth\": 1}, \"coloraxis\": {\"colorbar\": {\"outlinewidth\": 0, \"ticks\": \"\"}}, \"colorscale\": {\"diverging\": [[0, \"#8e0152\"], [0.1, \"#c51b7d\"], [0.2, \"#de77ae\"], [0.3, \"#f1b6da\"], [0.4, \"#fde0ef\"], [0.5, \"#f7f7f7\"], [0.6, \"#e6f5d0\"], [0.7, \"#b8e186\"], [0.8, \"#7fbc41\"], [0.9, \"#4d9221\"], [1, \"#276419\"]], \"sequential\": [[0.0, \"#0d0887\"], [0.1111111111111111, \"#46039f\"], [0.2222222222222222, \"#7201a8\"], [0.3333333333333333, \"#9c179e\"], [0.4444444444444444, \"#bd3786\"], [0.5555555555555556, \"#d8576b\"], [0.6666666666666666, \"#ed7953\"], [0.7777777777777778, \"#fb9f3a\"], [0.8888888888888888, \"#fdca26\"], [1.0, \"#f0f921\"]], \"sequentialminus\": [[0.0, \"#0d0887\"], [0.1111111111111111, \"#46039f\"], [0.2222222222222222, \"#7201a8\"], [0.3333333333333333, \"#9c179e\"], [0.4444444444444444, \"#bd3786\"], [0.5555555555555556, \"#d8576b\"], [0.6666666666666666, \"#ed7953\"], [0.7777777777777778, \"#fb9f3a\"], [0.8888888888888888, \"#fdca26\"], [1.0, \"#f0f921\"]]}, \"colorway\": [\"#636efa\", \"#EF553B\", \"#00cc96\", \"#ab63fa\", \"#FFA15A\", \"#19d3f3\", \"#FF6692\", \"#B6E880\", \"#FF97FF\", \"#FECB52\"], \"font\": {\"color\": \"#2a3f5f\"}, \"geo\": {\"bgcolor\": \"white\", \"lakecolor\": \"white\", \"landcolor\": \"#E5ECF6\", \"showlakes\": true, \"showland\": true, \"subunitcolor\": \"white\"}, \"hoverlabel\": {\"align\": \"left\"}, \"hovermode\": \"closest\", \"mapbox\": {\"style\": \"light\"}, \"paper_bgcolor\": \"white\", \"plot_bgcolor\": \"#E5ECF6\", \"polar\": {\"angularaxis\": {\"gridcolor\": \"white\", \"linecolor\": \"white\", \"ticks\": \"\"}, \"bgcolor\": \"#E5ECF6\", \"radialaxis\": {\"gridcolor\": \"white\", \"linecolor\": \"white\", \"ticks\": \"\"}}, \"scene\": {\"xaxis\": {\"backgroundcolor\": \"#E5ECF6\", \"gridcolor\": \"white\", \"gridwidth\": 2, \"linecolor\": \"white\", \"showbackground\": true, \"ticks\": \"\", \"zerolinecolor\": \"white\"}, \"yaxis\": {\"backgroundcolor\": \"#E5ECF6\", \"gridcolor\": \"white\", \"gridwidth\": 2, \"linecolor\": \"white\", \"showbackground\": true, \"ticks\": \"\", \"zerolinecolor\": \"white\"}, \"zaxis\": {\"backgroundcolor\": \"#E5ECF6\", \"gridcolor\": \"white\", \"gridwidth\": 2, \"linecolor\": \"white\", \"showbackground\": true, \"ticks\": \"\", \"zerolinecolor\": \"white\"}}, \"shapedefaults\": {\"line\": {\"color\": \"#2a3f5f\"}}, \"ternary\": {\"aaxis\": {\"gridcolor\": \"white\", \"linecolor\": \"white\", \"ticks\": \"\"}, \"baxis\": {\"gridcolor\": \"white\", \"linecolor\": \"white\", \"ticks\": \"\"}, \"bgcolor\": \"#E5ECF6\", \"caxis\": {\"gridcolor\": \"white\", \"linecolor\": \"white\", \"ticks\": \"\"}}, \"title\": {\"x\": 0.05}, \"xaxis\": {\"automargin\": true, \"gridcolor\": \"white\", \"linecolor\": \"white\", \"ticks\": \"\", \"title\": {\"standoff\": 15}, \"zerolinecolor\": \"white\", \"zerolinewidth\": 2}, \"yaxis\": {\"automargin\": true, \"gridcolor\": \"white\", \"linecolor\": \"white\", \"ticks\": \"\", \"title\": {\"standoff\": 15}, \"zerolinecolor\": \"white\", \"zerolinewidth\": 2}}}, \"width\": 600, \"xaxis\": {\"anchor\": \"y\", \"domain\": [0.0, 1.0], \"title\": {\"text\": \"sepal_length\"}}, \"yaxis\": {\"anchor\": \"x\", \"domain\": [0.0, 1.0], \"title\": {\"text\": \"sepal_width\"}}},\n",
              "                        {\"responsive\": true}\n",
              "                    ).then(function(){\n",
              "                            \n",
              "var gd = document.getElementById('2533558c-f1bd-4a48-9134-4c3527b852cf');\n",
              "var x = new MutationObserver(function (mutations, observer) {{\n",
              "        var display = window.getComputedStyle(gd).display;\n",
              "        if (!display || display === 'none') {{\n",
              "            console.log([gd, 'removed!']);\n",
              "            Plotly.purge(gd);\n",
              "            observer.disconnect();\n",
              "        }}\n",
              "}});\n",
              "\n",
              "// Listen for the removal of the full notebook cells\n",
              "var notebookContainer = gd.closest('#notebook-container');\n",
              "if (notebookContainer) {{\n",
              "    x.observe(notebookContainer, {childList: true});\n",
              "}}\n",
              "\n",
              "// Listen for the clearing of the current output cell\n",
              "var outputEl = gd.closest('.output');\n",
              "if (outputEl) {{\n",
              "    x.observe(outputEl, {childList: true});\n",
              "}}\n",
              "\n",
              "                        })\n",
              "                };\n",
              "                \n",
              "            </script>\n",
              "        </div>\n",
              "</body>\n",
              "</html>"
            ]
          },
          "metadata": {
            "tags": []
          }
        }
      ]
    },
    {
      "cell_type": "code",
      "metadata": {
        "colab": {
          "base_uri": "https://localhost:8080/",
          "height": 517
        },
        "id": "QIKPvKJyLruR",
        "outputId": "a4a1011f-9609-4691-9d43-2f8c953dd6fc"
      },
      "source": [
        "# target은 색깔을 넣어 확인해보자\n",
        "\n",
        "fig = px.scatter(iris_df, x = 'sepal_length', y='sepal_width', color = 'target')\n",
        "fig.update_layout(width = 600, height=500)\n",
        "fig.show()\n"
      ],
      "execution_count": 10,
      "outputs": [
        {
          "output_type": "display_data",
          "data": {
            "text/html": [
              "<html>\n",
              "<head><meta charset=\"utf-8\" /></head>\n",
              "<body>\n",
              "    <div>\n",
              "            <script src=\"https://cdnjs.cloudflare.com/ajax/libs/mathjax/2.7.5/MathJax.js?config=TeX-AMS-MML_SVG\"></script><script type=\"text/javascript\">if (window.MathJax) {MathJax.Hub.Config({SVG: {font: \"STIX-Web\"}});}</script>\n",
              "                <script type=\"text/javascript\">window.PlotlyConfig = {MathJaxConfig: 'local'};</script>\n",
              "        <script src=\"https://cdn.plot.ly/plotly-latest.min.js\"></script>    \n",
              "            <div id=\"69651c92-aea0-4b1e-9033-bbdcf875a280\" class=\"plotly-graph-div\" style=\"height:500px; width:600px;\"></div>\n",
              "            <script type=\"text/javascript\">\n",
              "                \n",
              "                    window.PLOTLYENV=window.PLOTLYENV || {};\n",
              "                    \n",
              "                if (document.getElementById(\"69651c92-aea0-4b1e-9033-bbdcf875a280\")) {\n",
              "                    Plotly.newPlot(\n",
              "                        '69651c92-aea0-4b1e-9033-bbdcf875a280',\n",
              "                        [{\"hoverlabel\": {\"namelength\": 0}, \"hovertemplate\": \"sepal_length=%{x}<br>sepal_width=%{y}<br>target=%{marker.color}\", \"legendgroup\": \"\", \"marker\": {\"color\": [0, 0, 0, 0, 0, 0, 0, 0, 0, 0, 0, 0, 0, 0, 0, 0, 0, 0, 0, 0, 0, 0, 0, 0, 0, 0, 0, 0, 0, 0, 0, 0, 0, 0, 0, 0, 0, 0, 0, 0, 0, 0, 0, 0, 0, 0, 0, 0, 0, 0, 1, 1, 1, 1, 1, 1, 1, 1, 1, 1, 1, 1, 1, 1, 1, 1, 1, 1, 1, 1, 1, 1, 1, 1, 1, 1, 1, 1, 1, 1, 1, 1, 1, 1, 1, 1, 1, 1, 1, 1, 1, 1, 1, 1, 1, 1, 1, 1, 1, 1, 2, 2, 2, 2, 2, 2, 2, 2, 2, 2, 2, 2, 2, 2, 2, 2, 2, 2, 2, 2, 2, 2, 2, 2, 2, 2, 2, 2, 2, 2, 2, 2, 2, 2, 2, 2, 2, 2, 2, 2, 2, 2, 2, 2, 2, 2, 2, 2, 2, 2], \"coloraxis\": \"coloraxis\", \"symbol\": \"circle\"}, \"mode\": \"markers\", \"name\": \"\", \"showlegend\": false, \"type\": \"scatter\", \"x\": [5.1, 4.9, 4.7, 4.6, 5.0, 5.4, 4.6, 5.0, 4.4, 4.9, 5.4, 4.8, 4.8, 4.3, 5.8, 5.7, 5.4, 5.1, 5.7, 5.1, 5.4, 5.1, 4.6, 5.1, 4.8, 5.0, 5.0, 5.2, 5.2, 4.7, 4.8, 5.4, 5.2, 5.5, 4.9, 5.0, 5.5, 4.9, 4.4, 5.1, 5.0, 4.5, 4.4, 5.0, 5.1, 4.8, 5.1, 4.6, 5.3, 5.0, 7.0, 6.4, 6.9, 5.5, 6.5, 5.7, 6.3, 4.9, 6.6, 5.2, 5.0, 5.9, 6.0, 6.1, 5.6, 6.7, 5.6, 5.8, 6.2, 5.6, 5.9, 6.1, 6.3, 6.1, 6.4, 6.6, 6.8, 6.7, 6.0, 5.7, 5.5, 5.5, 5.8, 6.0, 5.4, 6.0, 6.7, 6.3, 5.6, 5.5, 5.5, 6.1, 5.8, 5.0, 5.6, 5.7, 5.7, 6.2, 5.1, 5.7, 6.3, 5.8, 7.1, 6.3, 6.5, 7.6, 4.9, 7.3, 6.7, 7.2, 6.5, 6.4, 6.8, 5.7, 5.8, 6.4, 6.5, 7.7, 7.7, 6.0, 6.9, 5.6, 7.7, 6.3, 6.7, 7.2, 6.2, 6.1, 6.4, 7.2, 7.4, 7.9, 6.4, 6.3, 6.1, 7.7, 6.3, 6.4, 6.0, 6.9, 6.7, 6.9, 5.8, 6.8, 6.7, 6.7, 6.3, 6.5, 6.2, 5.9], \"xaxis\": \"x\", \"y\": [3.5, 3.0, 3.2, 3.1, 3.6, 3.9, 3.4, 3.4, 2.9, 3.1, 3.7, 3.4, 3.0, 3.0, 4.0, 4.4, 3.9, 3.5, 3.8, 3.8, 3.4, 3.7, 3.6, 3.3, 3.4, 3.0, 3.4, 3.5, 3.4, 3.2, 3.1, 3.4, 4.1, 4.2, 3.1, 3.2, 3.5, 3.6, 3.0, 3.4, 3.5, 2.3, 3.2, 3.5, 3.8, 3.0, 3.8, 3.2, 3.7, 3.3, 3.2, 3.2, 3.1, 2.3, 2.8, 2.8, 3.3, 2.4, 2.9, 2.7, 2.0, 3.0, 2.2, 2.9, 2.9, 3.1, 3.0, 2.7, 2.2, 2.5, 3.2, 2.8, 2.5, 2.8, 2.9, 3.0, 2.8, 3.0, 2.9, 2.6, 2.4, 2.4, 2.7, 2.7, 3.0, 3.4, 3.1, 2.3, 3.0, 2.5, 2.6, 3.0, 2.6, 2.3, 2.7, 3.0, 2.9, 2.9, 2.5, 2.8, 3.3, 2.7, 3.0, 2.9, 3.0, 3.0, 2.5, 2.9, 2.5, 3.6, 3.2, 2.7, 3.0, 2.5, 2.8, 3.2, 3.0, 3.8, 2.6, 2.2, 3.2, 2.8, 2.8, 2.7, 3.3, 3.2, 2.8, 3.0, 2.8, 3.0, 2.8, 3.8, 2.8, 2.8, 2.6, 3.0, 3.4, 3.1, 3.0, 3.1, 3.1, 3.1, 2.7, 3.2, 3.3, 3.0, 2.5, 3.0, 3.4, 3.0], \"yaxis\": \"y\"}],\n",
              "                        {\"coloraxis\": {\"colorbar\": {\"title\": {\"text\": \"target\"}}, \"colorscale\": [[0.0, \"#0d0887\"], [0.1111111111111111, \"#46039f\"], [0.2222222222222222, \"#7201a8\"], [0.3333333333333333, \"#9c179e\"], [0.4444444444444444, \"#bd3786\"], [0.5555555555555556, \"#d8576b\"], [0.6666666666666666, \"#ed7953\"], [0.7777777777777778, \"#fb9f3a\"], [0.8888888888888888, \"#fdca26\"], [1.0, \"#f0f921\"]]}, \"height\": 500, \"legend\": {\"tracegroupgap\": 0}, \"margin\": {\"t\": 60}, \"template\": {\"data\": {\"bar\": [{\"error_x\": {\"color\": \"#2a3f5f\"}, \"error_y\": {\"color\": \"#2a3f5f\"}, \"marker\": {\"line\": {\"color\": \"#E5ECF6\", \"width\": 0.5}}, \"type\": \"bar\"}], \"barpolar\": [{\"marker\": {\"line\": {\"color\": \"#E5ECF6\", \"width\": 0.5}}, \"type\": \"barpolar\"}], \"carpet\": [{\"aaxis\": {\"endlinecolor\": \"#2a3f5f\", \"gridcolor\": \"white\", \"linecolor\": \"white\", \"minorgridcolor\": \"white\", \"startlinecolor\": \"#2a3f5f\"}, \"baxis\": {\"endlinecolor\": \"#2a3f5f\", \"gridcolor\": \"white\", \"linecolor\": \"white\", \"minorgridcolor\": \"white\", \"startlinecolor\": \"#2a3f5f\"}, \"type\": \"carpet\"}], \"choropleth\": [{\"colorbar\": {\"outlinewidth\": 0, \"ticks\": \"\"}, \"type\": \"choropleth\"}], \"contour\": [{\"colorbar\": {\"outlinewidth\": 0, \"ticks\": \"\"}, \"colorscale\": [[0.0, \"#0d0887\"], [0.1111111111111111, \"#46039f\"], [0.2222222222222222, \"#7201a8\"], [0.3333333333333333, \"#9c179e\"], [0.4444444444444444, \"#bd3786\"], [0.5555555555555556, \"#d8576b\"], [0.6666666666666666, \"#ed7953\"], [0.7777777777777778, \"#fb9f3a\"], [0.8888888888888888, \"#fdca26\"], [1.0, \"#f0f921\"]], \"type\": \"contour\"}], \"contourcarpet\": [{\"colorbar\": {\"outlinewidth\": 0, \"ticks\": \"\"}, \"type\": \"contourcarpet\"}], \"heatmap\": [{\"colorbar\": {\"outlinewidth\": 0, \"ticks\": \"\"}, \"colorscale\": [[0.0, \"#0d0887\"], [0.1111111111111111, \"#46039f\"], [0.2222222222222222, \"#7201a8\"], [0.3333333333333333, \"#9c179e\"], [0.4444444444444444, \"#bd3786\"], [0.5555555555555556, \"#d8576b\"], [0.6666666666666666, \"#ed7953\"], [0.7777777777777778, \"#fb9f3a\"], [0.8888888888888888, \"#fdca26\"], [1.0, \"#f0f921\"]], \"type\": \"heatmap\"}], \"heatmapgl\": [{\"colorbar\": {\"outlinewidth\": 0, \"ticks\": \"\"}, \"colorscale\": [[0.0, \"#0d0887\"], [0.1111111111111111, \"#46039f\"], [0.2222222222222222, \"#7201a8\"], [0.3333333333333333, \"#9c179e\"], [0.4444444444444444, \"#bd3786\"], [0.5555555555555556, \"#d8576b\"], [0.6666666666666666, \"#ed7953\"], [0.7777777777777778, \"#fb9f3a\"], [0.8888888888888888, \"#fdca26\"], [1.0, \"#f0f921\"]], \"type\": \"heatmapgl\"}], \"histogram\": [{\"marker\": {\"colorbar\": {\"outlinewidth\": 0, \"ticks\": \"\"}}, \"type\": \"histogram\"}], \"histogram2d\": [{\"colorbar\": {\"outlinewidth\": 0, \"ticks\": \"\"}, \"colorscale\": [[0.0, \"#0d0887\"], [0.1111111111111111, \"#46039f\"], [0.2222222222222222, \"#7201a8\"], [0.3333333333333333, \"#9c179e\"], [0.4444444444444444, \"#bd3786\"], [0.5555555555555556, \"#d8576b\"], [0.6666666666666666, \"#ed7953\"], [0.7777777777777778, \"#fb9f3a\"], [0.8888888888888888, \"#fdca26\"], [1.0, \"#f0f921\"]], \"type\": \"histogram2d\"}], \"histogram2dcontour\": [{\"colorbar\": {\"outlinewidth\": 0, \"ticks\": \"\"}, \"colorscale\": [[0.0, \"#0d0887\"], [0.1111111111111111, \"#46039f\"], [0.2222222222222222, \"#7201a8\"], [0.3333333333333333, \"#9c179e\"], [0.4444444444444444, \"#bd3786\"], [0.5555555555555556, \"#d8576b\"], [0.6666666666666666, \"#ed7953\"], [0.7777777777777778, \"#fb9f3a\"], [0.8888888888888888, \"#fdca26\"], [1.0, \"#f0f921\"]], \"type\": \"histogram2dcontour\"}], \"mesh3d\": [{\"colorbar\": {\"outlinewidth\": 0, \"ticks\": \"\"}, \"type\": \"mesh3d\"}], \"parcoords\": [{\"line\": {\"colorbar\": {\"outlinewidth\": 0, \"ticks\": \"\"}}, \"type\": \"parcoords\"}], \"pie\": [{\"automargin\": true, \"type\": \"pie\"}], \"scatter\": [{\"marker\": {\"colorbar\": {\"outlinewidth\": 0, \"ticks\": \"\"}}, \"type\": \"scatter\"}], \"scatter3d\": [{\"line\": {\"colorbar\": {\"outlinewidth\": 0, \"ticks\": \"\"}}, \"marker\": {\"colorbar\": {\"outlinewidth\": 0, \"ticks\": \"\"}}, \"type\": \"scatter3d\"}], \"scattercarpet\": [{\"marker\": {\"colorbar\": {\"outlinewidth\": 0, \"ticks\": \"\"}}, \"type\": \"scattercarpet\"}], \"scattergeo\": [{\"marker\": {\"colorbar\": {\"outlinewidth\": 0, \"ticks\": \"\"}}, \"type\": \"scattergeo\"}], \"scattergl\": [{\"marker\": {\"colorbar\": {\"outlinewidth\": 0, \"ticks\": \"\"}}, \"type\": \"scattergl\"}], \"scattermapbox\": [{\"marker\": {\"colorbar\": {\"outlinewidth\": 0, \"ticks\": \"\"}}, \"type\": \"scattermapbox\"}], \"scatterpolar\": [{\"marker\": {\"colorbar\": {\"outlinewidth\": 0, \"ticks\": \"\"}}, \"type\": \"scatterpolar\"}], \"scatterpolargl\": [{\"marker\": {\"colorbar\": {\"outlinewidth\": 0, \"ticks\": \"\"}}, \"type\": \"scatterpolargl\"}], \"scatterternary\": [{\"marker\": {\"colorbar\": {\"outlinewidth\": 0, \"ticks\": \"\"}}, \"type\": \"scatterternary\"}], \"surface\": [{\"colorbar\": {\"outlinewidth\": 0, \"ticks\": \"\"}, \"colorscale\": [[0.0, \"#0d0887\"], [0.1111111111111111, \"#46039f\"], [0.2222222222222222, \"#7201a8\"], [0.3333333333333333, \"#9c179e\"], [0.4444444444444444, \"#bd3786\"], [0.5555555555555556, \"#d8576b\"], [0.6666666666666666, \"#ed7953\"], [0.7777777777777778, \"#fb9f3a\"], [0.8888888888888888, \"#fdca26\"], [1.0, \"#f0f921\"]], \"type\": \"surface\"}], \"table\": [{\"cells\": {\"fill\": {\"color\": \"#EBF0F8\"}, \"line\": {\"color\": \"white\"}}, \"header\": {\"fill\": {\"color\": \"#C8D4E3\"}, \"line\": {\"color\": \"white\"}}, \"type\": \"table\"}]}, \"layout\": {\"annotationdefaults\": {\"arrowcolor\": \"#2a3f5f\", \"arrowhead\": 0, \"arrowwidth\": 1}, \"coloraxis\": {\"colorbar\": {\"outlinewidth\": 0, \"ticks\": \"\"}}, \"colorscale\": {\"diverging\": [[0, \"#8e0152\"], [0.1, \"#c51b7d\"], [0.2, \"#de77ae\"], [0.3, \"#f1b6da\"], [0.4, \"#fde0ef\"], [0.5, \"#f7f7f7\"], [0.6, \"#e6f5d0\"], [0.7, \"#b8e186\"], [0.8, \"#7fbc41\"], [0.9, \"#4d9221\"], [1, \"#276419\"]], \"sequential\": [[0.0, \"#0d0887\"], [0.1111111111111111, \"#46039f\"], [0.2222222222222222, \"#7201a8\"], [0.3333333333333333, \"#9c179e\"], [0.4444444444444444, \"#bd3786\"], [0.5555555555555556, \"#d8576b\"], [0.6666666666666666, \"#ed7953\"], [0.7777777777777778, \"#fb9f3a\"], [0.8888888888888888, \"#fdca26\"], [1.0, \"#f0f921\"]], \"sequentialminus\": [[0.0, \"#0d0887\"], [0.1111111111111111, \"#46039f\"], [0.2222222222222222, \"#7201a8\"], [0.3333333333333333, \"#9c179e\"], [0.4444444444444444, \"#bd3786\"], [0.5555555555555556, \"#d8576b\"], [0.6666666666666666, \"#ed7953\"], [0.7777777777777778, \"#fb9f3a\"], [0.8888888888888888, \"#fdca26\"], [1.0, \"#f0f921\"]]}, \"colorway\": [\"#636efa\", \"#EF553B\", \"#00cc96\", \"#ab63fa\", \"#FFA15A\", \"#19d3f3\", \"#FF6692\", \"#B6E880\", \"#FF97FF\", \"#FECB52\"], \"font\": {\"color\": \"#2a3f5f\"}, \"geo\": {\"bgcolor\": \"white\", \"lakecolor\": \"white\", \"landcolor\": \"#E5ECF6\", \"showlakes\": true, \"showland\": true, \"subunitcolor\": \"white\"}, \"hoverlabel\": {\"align\": \"left\"}, \"hovermode\": \"closest\", \"mapbox\": {\"style\": \"light\"}, \"paper_bgcolor\": \"white\", \"plot_bgcolor\": \"#E5ECF6\", \"polar\": {\"angularaxis\": {\"gridcolor\": \"white\", \"linecolor\": \"white\", \"ticks\": \"\"}, \"bgcolor\": \"#E5ECF6\", \"radialaxis\": {\"gridcolor\": \"white\", \"linecolor\": \"white\", \"ticks\": \"\"}}, \"scene\": {\"xaxis\": {\"backgroundcolor\": \"#E5ECF6\", \"gridcolor\": \"white\", \"gridwidth\": 2, \"linecolor\": \"white\", \"showbackground\": true, \"ticks\": \"\", \"zerolinecolor\": \"white\"}, \"yaxis\": {\"backgroundcolor\": \"#E5ECF6\", \"gridcolor\": \"white\", \"gridwidth\": 2, \"linecolor\": \"white\", \"showbackground\": true, \"ticks\": \"\", \"zerolinecolor\": \"white\"}, \"zaxis\": {\"backgroundcolor\": \"#E5ECF6\", \"gridcolor\": \"white\", \"gridwidth\": 2, \"linecolor\": \"white\", \"showbackground\": true, \"ticks\": \"\", \"zerolinecolor\": \"white\"}}, \"shapedefaults\": {\"line\": {\"color\": \"#2a3f5f\"}}, \"ternary\": {\"aaxis\": {\"gridcolor\": \"white\", \"linecolor\": \"white\", \"ticks\": \"\"}, \"baxis\": {\"gridcolor\": \"white\", \"linecolor\": \"white\", \"ticks\": \"\"}, \"bgcolor\": \"#E5ECF6\", \"caxis\": {\"gridcolor\": \"white\", \"linecolor\": \"white\", \"ticks\": \"\"}}, \"title\": {\"x\": 0.05}, \"xaxis\": {\"automargin\": true, \"gridcolor\": \"white\", \"linecolor\": \"white\", \"ticks\": \"\", \"title\": {\"standoff\": 15}, \"zerolinecolor\": \"white\", \"zerolinewidth\": 2}, \"yaxis\": {\"automargin\": true, \"gridcolor\": \"white\", \"linecolor\": \"white\", \"ticks\": \"\", \"title\": {\"standoff\": 15}, \"zerolinecolor\": \"white\", \"zerolinewidth\": 2}}}, \"width\": 600, \"xaxis\": {\"anchor\": \"y\", \"domain\": [0.0, 1.0], \"title\": {\"text\": \"sepal_length\"}}, \"yaxis\": {\"anchor\": \"x\", \"domain\": [0.0, 1.0], \"title\": {\"text\": \"sepal_width\"}}},\n",
              "                        {\"responsive\": true}\n",
              "                    ).then(function(){\n",
              "                            \n",
              "var gd = document.getElementById('69651c92-aea0-4b1e-9033-bbdcf875a280');\n",
              "var x = new MutationObserver(function (mutations, observer) {{\n",
              "        var display = window.getComputedStyle(gd).display;\n",
              "        if (!display || display === 'none') {{\n",
              "            console.log([gd, 'removed!']);\n",
              "            Plotly.purge(gd);\n",
              "            observer.disconnect();\n",
              "        }}\n",
              "}});\n",
              "\n",
              "// Listen for the removal of the full notebook cells\n",
              "var notebookContainer = gd.closest('#notebook-container');\n",
              "if (notebookContainer) {{\n",
              "    x.observe(notebookContainer, {childList: true});\n",
              "}}\n",
              "\n",
              "// Listen for the clearing of the current output cell\n",
              "var outputEl = gd.closest('.output');\n",
              "if (outputEl) {{\n",
              "    x.observe(outputEl, {childList: true});\n",
              "}}\n",
              "\n",
              "                        })\n",
              "                };\n",
              "                \n",
              "            </script>\n",
              "        </div>\n",
              "</body>\n",
              "</html>"
            ]
          },
          "metadata": {
            "tags": []
          }
        }
      ]
    },
    {
      "cell_type": "markdown",
      "metadata": {
        "id": "8tLdjXLia1YD"
      },
      "source": [
        "## Split the dataset\n"
      ]
    },
    {
      "cell_type": "code",
      "metadata": {
        "id": "83dOx1Jka6zk"
      },
      "source": [
        "X = iris_df.iloc[:, :-1] # 전체의 row와 마지막 column을 제외한 값을 x로\n",
        "y = iris_df.iloc[:, -1]\n",
        "train_x, test_x, train_y, test_y = train_test_split(X, y , test_size = 0.2)"
      ],
      "execution_count": 11,
      "outputs": []
    },
    {
      "cell_type": "markdown",
      "metadata": {
        "id": "AC426273Mir4"
      },
      "source": [
        "## Clustering Algorithm  - DBSCAN clustering \n",
        "   \n",
        "  - Density-based spatial clustering of applications with noise \n",
        "  - K-means와 다르게 k를 직접 할당하지 않음\n",
        "  - 밀도에 따라서 군집을 나누기 때문에, 기하학적인 모양을 갖는 분포도 적용 가능.\n",
        "  - outlier 구분이 가능\n",
        "       \n"
      ]
    },
    {
      "cell_type": "code",
      "metadata": {
        "id": "dL7LZ9Ce6pEe",
        "outputId": "6f79874e-ab8c-4a67-ea2b-e57235b4fa85",
        "colab": {
          "base_uri": "https://localhost:8080/"
        }
      },
      "source": [
        "# 비구형 데이터를 생성해보자\n",
        "from sklearn.datasets import make_moons\n",
        "moon_data, moon_labels = make_moons(n_samples=400, noise =0.1 ,random_state=42)\n",
        "moon_data[:5]"
      ],
      "execution_count": 12,
      "outputs": [
        {
          "output_type": "execute_result",
          "data": {
            "text/plain": [
              "array([[-0.04405185,  0.43607778],\n",
              "       [ 0.69223045, -0.40111946],\n",
              "       [ 0.8281978 ,  0.54152189],\n",
              "       [ 0.17881243,  0.26886231],\n",
              "       [ 0.0917154 ,  0.94611799]])"
            ]
          },
          "metadata": {
            "tags": []
          },
          "execution_count": 12
        }
      ]
    },
    {
      "cell_type": "code",
      "metadata": {
        "id": "WkJRMOQ56pCZ",
        "outputId": "a53ab692-f18c-4dce-bc90-c9f00a8b76b1",
        "colab": {
          "base_uri": "https://localhost:8080/",
          "height": 195
        }
      },
      "source": [
        "moon_data_df = pd.DataFrame(moon_data, columns = ['x', 'y'])\n",
        "moon_data_df['label'] = moon_labels\n",
        "moon_data_df.head()"
      ],
      "execution_count": 15,
      "outputs": [
        {
          "output_type": "execute_result",
          "data": {
            "text/html": [
              "<div>\n",
              "<style scoped>\n",
              "    .dataframe tbody tr th:only-of-type {\n",
              "        vertical-align: middle;\n",
              "    }\n",
              "\n",
              "    .dataframe tbody tr th {\n",
              "        vertical-align: top;\n",
              "    }\n",
              "\n",
              "    .dataframe thead th {\n",
              "        text-align: right;\n",
              "    }\n",
              "</style>\n",
              "<table border=\"1\" class=\"dataframe\">\n",
              "  <thead>\n",
              "    <tr style=\"text-align: right;\">\n",
              "      <th></th>\n",
              "      <th>x</th>\n",
              "      <th>y</th>\n",
              "      <th>label</th>\n",
              "    </tr>\n",
              "  </thead>\n",
              "  <tbody>\n",
              "    <tr>\n",
              "      <th>0</th>\n",
              "      <td>-0.044052</td>\n",
              "      <td>0.436078</td>\n",
              "      <td>1</td>\n",
              "    </tr>\n",
              "    <tr>\n",
              "      <th>1</th>\n",
              "      <td>0.692230</td>\n",
              "      <td>-0.401119</td>\n",
              "      <td>1</td>\n",
              "    </tr>\n",
              "    <tr>\n",
              "      <th>2</th>\n",
              "      <td>0.828198</td>\n",
              "      <td>0.541522</td>\n",
              "      <td>0</td>\n",
              "    </tr>\n",
              "    <tr>\n",
              "      <th>3</th>\n",
              "      <td>0.178812</td>\n",
              "      <td>0.268862</td>\n",
              "      <td>1</td>\n",
              "    </tr>\n",
              "    <tr>\n",
              "      <th>4</th>\n",
              "      <td>0.091715</td>\n",
              "      <td>0.946118</td>\n",
              "      <td>0</td>\n",
              "    </tr>\n",
              "  </tbody>\n",
              "</table>\n",
              "</div>"
            ],
            "text/plain": [
              "          x         y  label\n",
              "0 -0.044052  0.436078      1\n",
              "1  0.692230 -0.401119      1\n",
              "2  0.828198  0.541522      0\n",
              "3  0.178812  0.268862      1\n",
              "4  0.091715  0.946118      0"
            ]
          },
          "metadata": {
            "tags": []
          },
          "execution_count": 15
        }
      ]
    },
    {
      "cell_type": "code",
      "metadata": {
        "id": "xLhFT52R6pAW",
        "outputId": "03c73b55-2a4a-4449-9fe2-a001e846f1d8",
        "colab": {
          "base_uri": "https://localhost:8080/",
          "height": 265
        }
      },
      "source": [
        "import matplotlib.pyplot as plt\n",
        "\n",
        "plt.scatter(data=moon_data_df, x='x', y='y', c=moon_data_df.label)\n",
        "plt.show()"
      ],
      "execution_count": 24,
      "outputs": [
        {
          "output_type": "display_data",
          "data": {
            "image/png": "[encoded data removed]",
            "text/plain": [
              "<Figure size 432x288 with 1 Axes>"
            ]
          },
          "metadata": {
            "tags": [],
            "needs_background": "light"
          }
        }
      ]
    },
    {
      "cell_type": "code",
      "metadata": {
        "id": "KHkqu3CM6o-U",
        "outputId": "bf802ba6-77e4-40fe-addb-a8bc57e598b9",
        "colab": {
          "base_uri": "https://localhost:8080/",
          "height": 517
        }
      },
      "source": [
        "fig = px.scatter(moon_data_df, 'x','y',color='label')\n",
        "fig.update_layout(width=600, height=500)\n",
        "fig.show()"
      ],
      "execution_count": 27,
      "outputs": [
        {
          "output_type": "display_data",
          "data": {
            "text/html": [
              "<html>\n",
              "<head><meta charset=\"utf-8\" /></head>\n",
              "<body>\n",
              "    <div>\n",
              "            <script src=\"https://cdnjs.cloudflare.com/ajax/libs/mathjax/2.7.5/MathJax.js?config=TeX-AMS-MML_SVG\"></script><script type=\"text/javascript\">if (window.MathJax) {MathJax.Hub.Config({SVG: {font: \"STIX-Web\"}});}</script>\n",
              "                <script type=\"text/javascript\">window.PlotlyConfig = {MathJaxConfig: 'local'};</script>\n",
              "        <script src=\"https://cdn.plot.ly/plotly-latest.min.js\"></script>    \n",
              "            <div id=\"75944e16-0535-44e2-95d9-ee96f26627f5\" class=\"plotly-graph-div\" style=\"height:500px; width:600px;\"></div>\n",
              "            <script type=\"text/javascript\">\n",
              "                \n",
              "                    window.PLOTLYENV=window.PLOTLYENV || {};\n",
              "                    \n",
              "                if (document.getElementById(\"75944e16-0535-44e2-95d9-ee96f26627f5\")) {\n",
              "                    Plotly.newPlot(\n",
              "                        '75944e16-0535-44e2-95d9-ee96f26627f5',\n",
              "                        [{\"hoverlabel\": {\"namelength\": 0}, \"hovertemplate\": \"x=%{x}<br>y=%{y}<br>label=%{marker.color}\", \"legendgroup\": \"\", \"marker\": {\"color\": [1, 1, 0, 1, 0, 0, 1, 0, 1, 0, 0, 1, 0, 0, 0, 0, 1, 1, 1, 1, 0, 0, 1, 1, 0, 1, 0, 1, 1, 0, 1, 0, 1, 0, 1, 0, 0, 1, 0, 0, 1, 0, 0, 0, 0, 1, 0, 0, 0, 0, 0, 1, 1, 0, 1, 0, 1, 0, 0, 0, 0, 1, 1, 0, 0, 0, 1, 1, 1, 0, 1, 0, 0, 0, 1, 1, 1, 1, 0, 1, 0, 0, 1, 1, 1, 0, 1, 1, 0, 0, 1, 1, 0, 1, 0, 1, 1, 1, 1, 0, 1, 0, 0, 0, 0, 0, 0, 0, 1, 1, 0, 1, 1, 1, 1, 0, 0, 1, 1, 1, 0, 0, 0, 1, 0, 0, 1, 1, 0, 1, 1, 0, 1, 0, 0, 0, 1, 1, 1, 1, 0, 0, 1, 0, 0, 1, 0, 0, 0, 1, 0, 1, 1, 0, 0, 0, 0, 0, 1, 1, 1, 1, 1, 0, 1, 0, 1, 0, 0, 1, 0, 0, 0, 0, 0, 1, 0, 1, 0, 0, 0, 0, 0, 0, 0, 0, 1, 1, 1, 0, 0, 0, 1, 0, 1, 1, 1, 1, 1, 1, 0, 1, 1, 1, 1, 0, 0, 0, 1, 0, 1, 0, 0, 1, 1, 0, 1, 1, 1, 1, 1, 0, 1, 0, 0, 0, 0, 1, 0, 1, 0, 1, 1, 0, 0, 1, 1, 1, 1, 1, 1, 0, 0, 1, 0, 0, 1, 0, 1, 1, 0, 1, 0, 1, 0, 1, 0, 0, 1, 0, 0, 0, 0, 0, 0, 0, 1, 1, 1, 0, 0, 1, 1, 1, 0, 0, 1, 1, 1, 1, 0, 1, 1, 0, 1, 1, 1, 0, 0, 1, 0, 0, 0, 1, 1, 1, 0, 1, 1, 1, 1, 0, 1, 0, 0, 0, 0, 0, 0, 1, 0, 0, 0, 1, 1, 1, 1, 1, 1, 1, 1, 1, 1, 1, 1, 1, 1, 1, 1, 0, 0, 1, 0, 1, 1, 0, 0, 0, 0, 0, 1, 0, 1, 0, 1, 0, 1, 1, 1, 0, 1, 0, 1, 0, 1, 1, 0, 1, 1, 1, 1, 0, 0, 0, 0, 1, 0, 0, 0, 0, 1, 1, 1, 0, 1, 0, 1, 0, 1, 1, 1, 1, 0, 0, 0, 1, 0, 1, 0, 1, 1, 0, 1, 0, 0, 0, 0, 1, 1, 0], \"coloraxis\": \"coloraxis\", \"symbol\": \"circle\"}, \"mode\": \"markers\", \"name\": \"\", \"showlegend\": false, \"type\": \"scatter\", \"x\": [-0.04405185436455387, 0.6922304485774229, 0.8281977981485314, 0.17881242677930137, 0.09171539700050081, 0.40156045922972966, 1.3757911943525358, 0.07314713993172753, 0.45860466022215285, -0.4178031928161623, 0.9579878024190793, 1.8524970559962026, 0.5552516585363515, 0.3022727378193304, -0.5247965363754132, 0.8580279728331913, 0.6189365495878882, 1.8927960119108467, 0.11756338555092069, 2.169029362678773, 0.404559599307745, 1.0893364137634811, 2.0669459262896903, 0.5877990025461418, 1.0446289348001918, 2.0490213676870517, -0.29381359169325855, 0.02237367735743013, 0.453000976269902, 0.052039835716421845, 2.1534991209951535, -1.119340367715941, 0.6240688008428807, 0.6746685269538756, 0.11590511420338562, -0.25247367792137004, -0.043682834885529404, 1.7828070067277453, -0.834513603902822, -0.5049155905696417, 1.806489808286964, 0.7605778678586781, 0.29985442632480913, 0.8905252470097118, 0.11826978657090345, 2.0034066514848714, -0.7130367234824387, -1.0452223143606545, 0.9604818564529551, -1.0610029020734704, 0.9290715732995999, 1.3419458957279273, 1.5452174341489513, 0.3985161871037338, 1.764957168546406, 0.9224449677324292, 0.033462363099337374, -0.8919029408079996, 1.0225793504988576, -0.9710888438761187, -0.4791414581275831, 0.8408477423017393, 0.2964391408080224, 0.4919544089308461, 0.0410776773647474, 0.9666350914963895, 1.6831546515793194, 0.43826348511034413, 1.740452092301724, 0.21658112980549674, 1.3012044573186852, -0.64388146241787, 0.9496985380360062, 0.6683706670351148, 2.021650614049808, 0.16473890548509473, -0.009247095964754717, 1.7690167227990816, -1.0104913674247578, 0.702434617830942, 0.9493893492279155, 0.8953640992371084, -0.15095907350779758, 0.28341059943157637, 0.686247114883507, 0.42168660618408793, 0.4135899135206339, 1.0577396586654602, 0.0034514995502456514, 0.2647671231050478, 0.06324742529253595, 1.5658002856216526, -0.2559695512442949, 0.2090468050023805, -1.0197784695319896, 1.1529542320186548, 1.8320855582539974, 1.9886682809991771, -0.16419264277805473, 0.3254160858230126, 0.20654495134218478, -0.02532499674177502, 1.0832306132818155, 0.5278969205172018, -0.7422978282856604, 1.0762354226047843, 0.9804704487371622, -0.7609520671028389, 1.7419705803807746, 1.8949012493453714, -0.49651016735263764, 2.0281830266713725, 0.7295586309939159, 2.0165730120568788, 1.0090524120850748, 0.8181446341926059, 0.47919081281108183, 0.8291064621354819, 1.1864304003533328, 0.7588546454896044, -0.9246852132955579, -0.19973768447083562, 0.940616481696544, 1.8498418744289271, 1.0076808280989389, -0.966543565363345, 1.6638459329092838, 1.6872832037570835, -0.9976923228984038, 0.259718542404861, 1.260522773047423, -0.5812357980233047, 0.5687897887080057, -0.9002692152319717, -0.25582248118023304, -1.1138631338303022, 0.13234844337348306, 0.5078751167554956, -0.11594691159512407, 1.0831469058632226, 0.9771117727121236, -0.32661461873026315, 0.9063697767081207, -0.6203513588550882, -1.1511863158724789, 0.7803374476056197, 0.5955667439508922, -0.1308958348924223, -0.8799966733224986, 1.922550311349182, 1.1750337382650022, 1.5611843539210797, 0.4481765327303048, -0.7585085272396329, 1.051622752860439, -0.8092021378321275, -0.07657329479524141, 0.3643485289920689, 1.3457410648452206, 1.9250783905350084, 2.128778248212025, 0.0706262481600407, 1.0274744413540133, -0.9039386882590633, 1.792856509913606, 0.23340051836624431, 2.0071012074483465, -0.7848715472141286, -0.6052644989118215, 0.05187296202004671, 0.18346525575039668, 0.4357050503972449, -0.19161096380566223, 0.23246382980226774, -0.6089928003474744, 1.1736206804738114, -0.14663398900921182, 0.2432922979322884, 0.2481370154715898, 1.056272964342253, 0.7460124466135112, -0.6474151293600467, -0.2998246700886737, -0.867194684720239, 0.45564543502722626, -1.0050512879881874, 1.3365798384645975, -0.17983124228592573, 1.498489509539917, -0.6805626396188176, -0.6490735256969274, -0.536868509390947, 1.975693655313992, 0.09373483171858374, 1.3769137547348915, 1.6728813869324226, 1.6448138852597582, 1.6705417974900587, 1.457852249627546, 0.976715110638505, -0.9263843640116586, -0.1223731313381849, 0.796228522033799, 0.15475677041477062, 0.7888519002662029, -0.5405845524825568, 0.9305692278235662, 0.9784119369643645, 1.4758331265836486, -1.0200230889843025, 0.04061773858849012, -0.3154849918885533, -1.0223978310048576, 1.3533832696767325, 1.0366465155314608, -0.04510451879071933, 1.8936032702640215, 0.5943858451752875, 1.885006370759624, 0.9389125135270914, 1.7893976221378944, -0.994564259030683, 0.3603982008922027, -0.4408604389520875, -0.5151095273058485, -1.0563766442123035, -1.0351547981205815, 1.9371282674993187, 0.9166357854923943, 0.0083564707053621, -0.12004194518298957, 0.06357500148967771, 0.4229368998509608, 0.9981936878290952, -0.30368999098948596, 1.874315243153208, 0.07222261812178199, 1.6470491039434203, 1.9686415215524833, 1.7843131131506498, 2.0873045148599823, -0.39790391370032724, 0.49229061778845873, 1.3148496627000024, 0.8494651045710285, 0.19481701963916617, 1.9508672322774856, -0.10148376708261908, 0.2825817386035496, 0.938344700184442, -0.33440741651656025, 0.15227499084567703, -0.9103538545522244, 0.7461365894557511, 0.7980254495229531, 1.9701048704314503, 0.652791628022177, 0.15095217091376792, 0.2049831993182284, -1.0351508911672802, -0.8495786602831639, 1.0732469394954367, 0.922355666831577, 1.179959994061442, -0.9293446879170691, -0.6635954598691399, 1.325082692179819, 0.5568693550491782, 0.07750159554668323, 0.12508148690837878, 0.7450034565443301, 0.18786203305535706, 1.0060978915552157, 1.0993371067091071, -0.9080886149685693, 0.5858015888336551, 1.0604130877330895, 0.08128104436835105, 0.2621963091845073, 1.4462645794969085, 1.0643805747202955, 0.2791274315012009, 1.9261906290309088, 0.07587637693033553, 0.2185468890445362, 1.6237768965846349, 0.031333571273604, -1.0991324877898918, 0.05943075792034612, 0.008629185751882248, 0.7067448851525836, 0.8727925257301243, 1.0098726006114973, 0.5993675602813255, 0.1018886995222481, 1.525369983953064, 1.054941483052359, 1.2136000567339893, 0.23308716959053433, 0.15132759806894286, 0.7976359593737035, -0.808584190274535, 1.961108543928387, -0.573486935719889, 0.3974880824749839, -0.6121576257879583, -0.40620203173039965, 0.8059004682255754, 0.577010942050867, 0.8487619173221225, 0.95116813790414, -0.8431589135514671, 0.8345576822705425, 1.8916875532375048, 1.3528302565382921, 0.14554876861527338, 0.74380252328883, 1.6283256315766768, 0.20872539439732596, 0.01575435537698975, 0.08103530943841337, 0.9398855834587191, 1.8681586907315795, 0.2982728817544293, 2.1277507888341294, 1.846066968959805, 0.905843066983084, 0.4764277360194793, 0.05079807673102646, -0.9159944605722037, 0.7547580557250606, 0.09090431203597911, -0.9855961407261281, 1.1645508833612985, 0.45777725614298304, -0.0457775363766378, 0.7800780371174919, 0.9360900798447133, 0.6689785958971225, 0.33478569722706114, 0.0225989916723915, 0.8552106280976605, 0.40095040462607473, 0.2905170667683744, 1.5057375454140596, 0.6567229379131222, 1.5589905162770326, 0.4463256730065187, 0.3209014155840095, 0.8604722047896834, 1.3193048015154476, 0.23241761555025903, 0.6689344099794808, -0.9368801423457124, 1.6369396239440042, 1.8250086156767336, -0.4044565529876215, 1.0911356663298046, 1.9771635326594774, 1.2487446961310449, 0.2680686577935133, 0.6096776291794008, 0.519633282205532, -0.8067740153047347, -1.0655947175512142, 2.0397784183254832, -1.0984313739240208, -1.0115042991719052, 0.593417605519658, 0.6893488089833144, 1.5811433931248629, 0.13264402366925823, 0.17583821874143654, 0.7968700476436335, 1.2559789044345149, -0.72730191303691, 0.6671056801212313, -1.0039351561663472, 0.803862955043394, 1.755527350459414, 0.4722598345644735, 1.1014506588758581, -0.8515613634567728, -0.344768061166429, -0.6240556307959167, 1.668619917195012, 0.09982365388048871, 1.9207005824962247, 0.21711474696683666, 1.6106948141690762, 0.06152089034007621, -0.3183138362478756, 2.051806694384509, 1.1621430615794484, -0.7693711814576643, 0.42481712855727227, 0.06612998562530321, 0.7241611107656446, 1.929872146707251, -0.0747996734498523], \"xaxis\": \"x\", \"y\": [0.43607778101760863, -0.4011194632440612, 0.5415218892178506, 0.26886231388723847, 0.9461179874453445, 0.9268166356399812, -0.4513290871112877, 0.9168823205037456, -0.3476620899215156, 0.9969302258350214, 0.12114286887719278, 0.1599189780891384, 0.965685772429867, 0.9301292941685252, 0.7897125490862673, 0.6755129042792798, -0.6523278952709434, 0.158747858462253, 0.10550256974316223, 0.32216590687738944, 0.95239331683874, 0.28773650388840166, 0.5549359778342985, -0.4275752586735255, 0.11362423171192629, 0.5587208679105828, 0.8871058855450891, -0.011244065183244362, -0.37282399872071736, 0.8683552101965917, 0.3387743351635715, 0.012114675029737565, -0.3249173888665629, 0.7648464577460884, -0.03455360646626823, 1.0157254753141933, 0.789928213280756, -0.23043958881624316, 0.5482327588836816, 0.8158505869016326, 0.25595173111671626, 0.8490047684040152, 0.7977673987470991, 0.7099043476407715, 0.8778058534457707, 0.2223803368419529, 0.9233940786148171, 0.2789271744465052, 0.2598976348965632, 0.4259623231575948, 0.7044894326221837, -0.43467545128738916, -0.2025606431151623, 0.7578228472730179, 0.12339506639239467, 0.6012696775757825, 0.19067157702276952, 0.4960748810175608, 0.36066014634971644, 0.6405981687615638, 1.0093246672652925, -0.683810686127401, -0.41241573507105345, 0.9901126903122439, 1.0533222871839638, 0.5834251609429104, -0.3177480119227779, -0.38340484123539237, 0.5354200429219066, 0.9736687007203508, -0.4195693110355442, 0.8241928619908845, 0.023234430827277622, 0.8047279428402697, 0.3481653007891365, -0.18751597646936197, 0.03742781347292015, 0.20281525401323908, 0.26766467034661684, -0.5634133844961742, 0.042395034693238194, 0.12029412831425107, 0.5363974171515313, -0.1450026982659779, -0.40495076112290174, 0.8574857282534363, -0.2320469450349981, -0.5010974292201972, 0.9232315981434537, 0.9512736717500212, 0.013266377828641828, -0.15587107312135612, 0.9769812759008681, 0.24958736254698483, 0.4310704881654892, -0.5388390359189088, 0.007344939439863404, 0.17873633391097563, -0.10434745860853986, 1.0154113850377267, 0.07817393049748056, 0.947301799237025, 0.30243413363940314, 0.9436475009919664, 0.688066258718179, 0.31552877308582405, 0.25009378313745445, 1.0259518073320897, -0.08661529391898053, -0.18713179029828392, 1.020847176615835, 0.37029889398262206, -0.37240717905441106, 0.15904904573753528, -0.7054738367924506, 0.7016062224228446, 0.8667912886886442, -0.5651271337464877, -0.519764696461732, -0.45614703155803, 0.6659339268772327, 1.0933060138877637, 0.25749074749584544, 0.006391413083718128, 0.34117127567420824, 0.28801758688468887, -0.21466511695958101, -0.390961809823812, 0.48813212785537713, -0.14858140113014096, -0.4766645861004665, 0.6748887284276055, -0.2677047542484201, 0.2619201140227827, 1.0180954146828698, -0.08705661343128906, 0.00912932714886762, -0.48441334225022337, 0.24031371708309332, -0.7040686518936875, 0.40745819890591284, 0.7493900295321627, -0.3263153064040736, 0.8387098635497955, -0.06624355977916652, -0.3862360517512149, 0.6386728106302391, 0.9641399984129664, 0.283554573861271, -0.023703499695742758, 0.08712904314172767, -0.2802004578206971, -0.16445885394768184, 0.748141806207555, 0.07573563016822103, 0.13687902584671832, 1.0123246744592231, 0.9587332861968995, -0.6347527000227957, 0.2703337265054317, 0.3285139273519466, 0.27277848784097924, -0.5378165485798784, 0.4860442990090752, -0.09965088293999937, 0.9718404298026123, 0.14070793064631937, 0.5879530835073661, 0.7955689362691735, 0.11809294944569163, 0.863886260883799, 0.947112468815042, 1.0144581477653083, 0.958636539202684, 0.8538968611679508, -0.26267904632598416, 1.098915276229116, -0.2985209827634067, 1.0221280706067108, 0.26708618818460234, 0.6027220092407295, 0.8686578241100799, 1.0958782230964785, 0.3372444433127365, 0.8287075193222752, 0.19988054900735763, -0.4000759499004397, 0.27210742336973803, -0.5554431740207553, 0.08132969177833893, 0.8815049333413835, 0.9423719015542635, 0.22898137437768737, 0.9093489420473164, -0.3990335438365677, -0.28120663796327605, -0.42347286188539957, -0.1316839261626955, -0.22512481834440223, -0.5487601936944003, 0.21098414319755895, 0.34272142754523316, -0.6021366375822279, 0.25817568609572544, -0.5251206254974262, 0.9181117639438922, 0.5398249074259076, 0.25352612158237964, -0.42390792934014865, 0.22748717279219446, 0.19092611177757238, 1.0083104690182787, 0.4011067930232193, -0.47274322766457466, -0.4985476580125366, 0.7991491020390376, 0.14287399006123414, -0.528630928174813, 0.10420737924262266, -0.5135540452630449, -0.26387131943612496, 0.6713911383163779, -0.12579009793677248, 0.7384652081800833, 0.8471182066753098, -0.3568205299359881, 0.05539817597695543, 0.3675642914202532, 0.12373202160019528, 0.5320457749816218, 0.7527784391323216, -0.07375254500638109, -0.03656097531307502, 0.21096138080488983, 1.0459161417121352, -0.05318329701654417, 0.13627157664599823, -0.16757444093230295, 0.10291719279716784, -0.1520068909668203, 0.28530735074108815, 0.982030294351673, 0.8693150287473763, -0.44725774744016616, 0.5435623850119276, 1.0914306332660042, 0.3900256213166849, 0.8954007189495029, -0.16532079284824672, -0.6327445340710072, 0.872152223717397, 0.02198057941962034, 0.11457950315220794, -0.5110142065757868, 0.7023762060734993, 0.06999163949717546, 0.8679890511284588, 0.9735792211196405, -0.37334478387442843, 0.2352123895851974, 0.5257157557542287, 0.0966570840121739, 0.3915777156856398, 0.40620951502008384, 0.5563002807945711, 0.9287284123514572, -0.4694932597705525, -0.28647303390245527, 0.2177456466088653, 1.0107712649386078, 0.7090896365466173, -0.20224818473919925, -0.6716737343647, -0.5255392480328201, 0.220602393102044, 0.5679185764822606, -0.664348506659051, 0.5655440149193591, -0.2605001465555224, -0.44476972105908064, 0.16411977735553548, -0.26884664450584866, -0.034101486858117314, 1.1367673776383977, 0.20383370529796563, -0.33120103482858776, 0.24276731510751107, 0.3998281611302054, 0.9409926919168601, 0.24999982561095813, 0.7849651477267724, 0.40450279943881134, 0.6137062126291012, -0.5724314430588369, 0.49498808243247494, 0.0019297974426112918, 0.22300462646561692, -0.3417331989379858, 0.1275069459089364, -0.23883742575743933, -0.3839793843645204, 0.549473350974221, 0.040814972387245074, 0.7653864752163864, 0.8866068075128529, 0.8269448471682256, 0.6919572681002077, 0.09598584740679728, 0.921427860837215, -0.4363056984528748, 0.13090585233804364, 0.708073706544875, 0.5953673442120604, 0.09509014818593642, -0.4265362405070112, 0.2169283752033758, -0.4984572915678237, -0.2528451566092468, 0.08119429053081831, 0.23973280995637058, 0.5570725509248531, -0.6683544103342967, -0.02515342308285237, -0.12638098881700305, 0.42675405509515674, 0.10121826279463625, -0.5700794902937782, -0.38939614448640203, 0.46414246315263463, 0.662046710981531, 0.6381008654279617, 0.23872062239361602, 0.24465186146853457, -0.40249503600795367, -0.10078345978288639, 1.060030149286084, 0.7488019569243001, -0.03162831609870871, 0.6036520491736346, 0.8900372542109308, 0.40528001022145993, 0.5669552804252124, -0.27463813164370005, 1.025321115737968, -0.37329350355500024, 0.6722832366601202, -0.23748233613720784, -0.328051945416493, -0.12664039057205045, 0.163902767064797, -0.40253376846929073, 0.9210944649201596, -0.3160694603337302, 0.49356261972143056, -0.4744664601030904, 0.5437106356516351, 0.8096130028026692, -0.6172332210395521, 0.3666784091668318, -0.36527871113721005, -0.07010628425274437, 0.7174606455400276, 0.6532250811403223, 0.29157261562178366, 0.2212330253379633, 0.5374177752148195, 0.44471746141975255, 0.47152389058042293, 0.6742885813462738, 0.6896349026977713, -0.1694959403716835, -0.158979629866297, -0.1711557573059312, 0.3571278338151201, -0.5769106371591088, 0.4057417900374254, -0.4360539225120356, 0.00817004076966052, -0.3328595135185971, -0.19911487236295916, -0.19863427705176354, -0.486249852261357, 0.7009224597105804, 0.8202303548674952, 0.6964627164785605, -0.20106864327115975, 1.055221255419995, 0.05914098492307132, 1.068621936007729, -0.23393265974914823, 0.26358525411585665, 0.995160530592945, 0.6307986637140104, 0.28999256891276015, 0.2900083101499388, 1.0503355163432597, 0.9487101716012722, -0.28599311361127777, -0.26332583701466633, 0.7965550564269417], \"yaxis\": \"y\"}],\n",
              "                        {\"coloraxis\": {\"colorbar\": {\"title\": {\"text\": \"label\"}}, \"colorscale\": [[0.0, \"#0d0887\"], [0.1111111111111111, \"#46039f\"], [0.2222222222222222, \"#7201a8\"], [0.3333333333333333, \"#9c179e\"], [0.4444444444444444, \"#bd3786\"], [0.5555555555555556, \"#d8576b\"], [0.6666666666666666, \"#ed7953\"], [0.7777777777777778, \"#fb9f3a\"], [0.8888888888888888, \"#fdca26\"], [1.0, \"#f0f921\"]]}, \"height\": 500, \"legend\": {\"tracegroupgap\": 0}, \"margin\": {\"t\": 60}, \"template\": {\"data\": {\"bar\": [{\"error_x\": {\"color\": \"#2a3f5f\"}, \"error_y\": {\"color\": \"#2a3f5f\"}, \"marker\": {\"line\": {\"color\": \"#E5ECF6\", \"width\": 0.5}}, \"type\": \"bar\"}], \"barpolar\": [{\"marker\": {\"line\": {\"color\": \"#E5ECF6\", \"width\": 0.5}}, \"type\": \"barpolar\"}], \"carpet\": [{\"aaxis\": {\"endlinecolor\": \"#2a3f5f\", \"gridcolor\": \"white\", \"linecolor\": \"white\", \"minorgridcolor\": \"white\", \"startlinecolor\": \"#2a3f5f\"}, \"baxis\": {\"endlinecolor\": \"#2a3f5f\", \"gridcolor\": \"white\", \"linecolor\": \"white\", \"minorgridcolor\": \"white\", \"startlinecolor\": \"#2a3f5f\"}, \"type\": \"carpet\"}], \"choropleth\": [{\"colorbar\": {\"outlinewidth\": 0, \"ticks\": \"\"}, \"type\": \"choropleth\"}], \"contour\": [{\"colorbar\": {\"outlinewidth\": 0, \"ticks\": \"\"}, \"colorscale\": [[0.0, \"#0d0887\"], [0.1111111111111111, \"#46039f\"], [0.2222222222222222, \"#7201a8\"], [0.3333333333333333, \"#9c179e\"], [0.4444444444444444, \"#bd3786\"], [0.5555555555555556, \"#d8576b\"], [0.6666666666666666, \"#ed7953\"], [0.7777777777777778, \"#fb9f3a\"], [0.8888888888888888, \"#fdca26\"], [1.0, \"#f0f921\"]], \"type\": \"contour\"}], \"contourcarpet\": [{\"colorbar\": {\"outlinewidth\": 0, \"ticks\": \"\"}, \"type\": \"contourcarpet\"}], \"heatmap\": [{\"colorbar\": {\"outlinewidth\": 0, \"ticks\": \"\"}, \"colorscale\": [[0.0, \"#0d0887\"], [0.1111111111111111, \"#46039f\"], [0.2222222222222222, \"#7201a8\"], [0.3333333333333333, \"#9c179e\"], [0.4444444444444444, \"#bd3786\"], [0.5555555555555556, \"#d8576b\"], [0.6666666666666666, \"#ed7953\"], [0.7777777777777778, \"#fb9f3a\"], [0.8888888888888888, \"#fdca26\"], [1.0, \"#f0f921\"]], \"type\": \"heatmap\"}], \"heatmapgl\": [{\"colorbar\": {\"outlinewidth\": 0, \"ticks\": \"\"}, \"colorscale\": [[0.0, \"#0d0887\"], [0.1111111111111111, \"#46039f\"], [0.2222222222222222, \"#7201a8\"], [0.3333333333333333, \"#9c179e\"], [0.4444444444444444, \"#bd3786\"], [0.5555555555555556, \"#d8576b\"], [0.6666666666666666, \"#ed7953\"], [0.7777777777777778, \"#fb9f3a\"], [0.8888888888888888, \"#fdca26\"], [1.0, \"#f0f921\"]], \"type\": \"heatmapgl\"}], \"histogram\": [{\"marker\": {\"colorbar\": {\"outlinewidth\": 0, \"ticks\": \"\"}}, \"type\": \"histogram\"}], \"histogram2d\": [{\"colorbar\": {\"outlinewidth\": 0, \"ticks\": \"\"}, \"colorscale\": [[0.0, \"#0d0887\"], [0.1111111111111111, \"#46039f\"], [0.2222222222222222, \"#7201a8\"], [0.3333333333333333, \"#9c179e\"], [0.4444444444444444, \"#bd3786\"], [0.5555555555555556, \"#d8576b\"], [0.6666666666666666, \"#ed7953\"], [0.7777777777777778, \"#fb9f3a\"], [0.8888888888888888, \"#fdca26\"], [1.0, \"#f0f921\"]], \"type\": \"histogram2d\"}], \"histogram2dcontour\": [{\"colorbar\": {\"outlinewidth\": 0, \"ticks\": \"\"}, \"colorscale\": [[0.0, \"#0d0887\"], [0.1111111111111111, \"#46039f\"], [0.2222222222222222, \"#7201a8\"], [0.3333333333333333, \"#9c179e\"], [0.4444444444444444, \"#bd3786\"], [0.5555555555555556, \"#d8576b\"], [0.6666666666666666, \"#ed7953\"], [0.7777777777777778, \"#fb9f3a\"], [0.8888888888888888, \"#fdca26\"], [1.0, \"#f0f921\"]], \"type\": \"histogram2dcontour\"}], \"mesh3d\": [{\"colorbar\": {\"outlinewidth\": 0, \"ticks\": \"\"}, \"type\": \"mesh3d\"}], \"parcoords\": [{\"line\": {\"colorbar\": {\"outlinewidth\": 0, \"ticks\": \"\"}}, \"type\": \"parcoords\"}], \"pie\": [{\"automargin\": true, \"type\": \"pie\"}], \"scatter\": [{\"marker\": {\"colorbar\": {\"outlinewidth\": 0, \"ticks\": \"\"}}, \"type\": \"scatter\"}], \"scatter3d\": [{\"line\": {\"colorbar\": {\"outlinewidth\": 0, \"ticks\": \"\"}}, \"marker\": {\"colorbar\": {\"outlinewidth\": 0, \"ticks\": \"\"}}, \"type\": \"scatter3d\"}], \"scattercarpet\": [{\"marker\": {\"colorbar\": {\"outlinewidth\": 0, \"ticks\": \"\"}}, \"type\": \"scattercarpet\"}], \"scattergeo\": [{\"marker\": {\"colorbar\": {\"outlinewidth\": 0, \"ticks\": \"\"}}, \"type\": \"scattergeo\"}], \"scattergl\": [{\"marker\": {\"colorbar\": {\"outlinewidth\": 0, \"ticks\": \"\"}}, \"type\": \"scattergl\"}], \"scattermapbox\": [{\"marker\": {\"colorbar\": {\"outlinewidth\": 0, \"ticks\": \"\"}}, \"type\": \"scattermapbox\"}], \"scatterpolar\": [{\"marker\": {\"colorbar\": {\"outlinewidth\": 0, \"ticks\": \"\"}}, \"type\": \"scatterpolar\"}], \"scatterpolargl\": [{\"marker\": {\"colorbar\": {\"outlinewidth\": 0, \"ticks\": \"\"}}, \"type\": \"scatterpolargl\"}], \"scatterternary\": [{\"marker\": {\"colorbar\": {\"outlinewidth\": 0, \"ticks\": \"\"}}, \"type\": \"scatterternary\"}], \"surface\": [{\"colorbar\": {\"outlinewidth\": 0, \"ticks\": \"\"}, \"colorscale\": [[0.0, \"#0d0887\"], [0.1111111111111111, \"#46039f\"], [0.2222222222222222, \"#7201a8\"], [0.3333333333333333, \"#9c179e\"], [0.4444444444444444, \"#bd3786\"], [0.5555555555555556, \"#d8576b\"], [0.6666666666666666, \"#ed7953\"], [0.7777777777777778, \"#fb9f3a\"], [0.8888888888888888, \"#fdca26\"], [1.0, \"#f0f921\"]], \"type\": \"surface\"}], \"table\": [{\"cells\": {\"fill\": {\"color\": \"#EBF0F8\"}, \"line\": {\"color\": \"white\"}}, \"header\": {\"fill\": {\"color\": \"#C8D4E3\"}, \"line\": {\"color\": \"white\"}}, \"type\": \"table\"}]}, \"layout\": {\"annotationdefaults\": {\"arrowcolor\": \"#2a3f5f\", \"arrowhead\": 0, \"arrowwidth\": 1}, \"coloraxis\": {\"colorbar\": {\"outlinewidth\": 0, \"ticks\": \"\"}}, \"colorscale\": {\"diverging\": [[0, \"#8e0152\"], [0.1, \"#c51b7d\"], [0.2, \"#de77ae\"], [0.3, \"#f1b6da\"], [0.4, \"#fde0ef\"], [0.5, \"#f7f7f7\"], [0.6, \"#e6f5d0\"], [0.7, \"#b8e186\"], [0.8, \"#7fbc41\"], [0.9, \"#4d9221\"], [1, \"#276419\"]], \"sequential\": [[0.0, \"#0d0887\"], [0.1111111111111111, \"#46039f\"], [0.2222222222222222, \"#7201a8\"], [0.3333333333333333, \"#9c179e\"], [0.4444444444444444, \"#bd3786\"], [0.5555555555555556, \"#d8576b\"], [0.6666666666666666, \"#ed7953\"], [0.7777777777777778, \"#fb9f3a\"], [0.8888888888888888, \"#fdca26\"], [1.0, \"#f0f921\"]], \"sequentialminus\": [[0.0, \"#0d0887\"], [0.1111111111111111, \"#46039f\"], [0.2222222222222222, \"#7201a8\"], [0.3333333333333333, \"#9c179e\"], [0.4444444444444444, \"#bd3786\"], [0.5555555555555556, \"#d8576b\"], [0.6666666666666666, \"#ed7953\"], [0.7777777777777778, \"#fb9f3a\"], [0.8888888888888888, \"#fdca26\"], [1.0, \"#f0f921\"]]}, \"colorway\": [\"#636efa\", \"#EF553B\", \"#00cc96\", \"#ab63fa\", \"#FFA15A\", \"#19d3f3\", \"#FF6692\", \"#B6E880\", \"#FF97FF\", \"#FECB52\"], \"font\": {\"color\": \"#2a3f5f\"}, \"geo\": {\"bgcolor\": \"white\", \"lakecolor\": \"white\", \"landcolor\": \"#E5ECF6\", \"showlakes\": true, \"showland\": true, \"subunitcolor\": \"white\"}, \"hoverlabel\": {\"align\": \"left\"}, \"hovermode\": \"closest\", \"mapbox\": {\"style\": \"light\"}, \"paper_bgcolor\": \"white\", \"plot_bgcolor\": \"#E5ECF6\", \"polar\": {\"angularaxis\": {\"gridcolor\": \"white\", \"linecolor\": \"white\", \"ticks\": \"\"}, \"bgcolor\": \"#E5ECF6\", \"radialaxis\": {\"gridcolor\": \"white\", \"linecolor\": \"white\", \"ticks\": \"\"}}, \"scene\": {\"xaxis\": {\"backgroundcolor\": \"#E5ECF6\", \"gridcolor\": \"white\", \"gridwidth\": 2, \"linecolor\": \"white\", \"showbackground\": true, \"ticks\": \"\", \"zerolinecolor\": \"white\"}, \"yaxis\": {\"backgroundcolor\": \"#E5ECF6\", \"gridcolor\": \"white\", \"gridwidth\": 2, \"linecolor\": \"white\", \"showbackground\": true, \"ticks\": \"\", \"zerolinecolor\": \"white\"}, \"zaxis\": {\"backgroundcolor\": \"#E5ECF6\", \"gridcolor\": \"white\", \"gridwidth\": 2, \"linecolor\": \"white\", \"showbackground\": true, \"ticks\": \"\", \"zerolinecolor\": \"white\"}}, \"shapedefaults\": {\"line\": {\"color\": \"#2a3f5f\"}}, \"ternary\": {\"aaxis\": {\"gridcolor\": \"white\", \"linecolor\": \"white\", \"ticks\": \"\"}, \"baxis\": {\"gridcolor\": \"white\", \"linecolor\": \"white\", \"ticks\": \"\"}, \"bgcolor\": \"#E5ECF6\", \"caxis\": {\"gridcolor\": \"white\", \"linecolor\": \"white\", \"ticks\": \"\"}}, \"title\": {\"x\": 0.05}, \"xaxis\": {\"automargin\": true, \"gridcolor\": \"white\", \"linecolor\": \"white\", \"ticks\": \"\", \"title\": {\"standoff\": 15}, \"zerolinecolor\": \"white\", \"zerolinewidth\": 2}, \"yaxis\": {\"automargin\": true, \"gridcolor\": \"white\", \"linecolor\": \"white\", \"ticks\": \"\", \"title\": {\"standoff\": 15}, \"zerolinecolor\": \"white\", \"zerolinewidth\": 2}}}, \"width\": 600, \"xaxis\": {\"anchor\": \"y\", \"domain\": [0.0, 1.0], \"title\": {\"text\": \"x\"}}, \"yaxis\": {\"anchor\": \"x\", \"domain\": [0.0, 1.0], \"title\": {\"text\": \"y\"}}},\n",
              "                        {\"responsive\": true}\n",
              "                    ).then(function(){\n",
              "                            \n",
              "var gd = document.getElementById('75944e16-0535-44e2-95d9-ee96f26627f5');\n",
              "var x = new MutationObserver(function (mutations, observer) {{\n",
              "        var display = window.getComputedStyle(gd).display;\n",
              "        if (!display || display === 'none') {{\n",
              "            console.log([gd, 'removed!']);\n",
              "            Plotly.purge(gd);\n",
              "            observer.disconnect();\n",
              "        }}\n",
              "}});\n",
              "\n",
              "// Listen for the removal of the full notebook cells\n",
              "var notebookContainer = gd.closest('#notebook-container');\n",
              "if (notebookContainer) {{\n",
              "    x.observe(notebookContainer, {childList: true});\n",
              "}}\n",
              "\n",
              "// Listen for the clearing of the current output cell\n",
              "var outputEl = gd.closest('.output');\n",
              "if (outputEl) {{\n",
              "    x.observe(outputEl, {childList: true});\n",
              "}}\n",
              "\n",
              "                        })\n",
              "                };\n",
              "                \n",
              "            </script>\n",
              "        </div>\n",
              "</body>\n",
              "</html>"
            ]
          },
          "metadata": {
            "tags": []
          }
        }
      ]
    },
    {
      "cell_type": "code",
      "metadata": {
        "id": "UNhDsENU6o8J"
      },
      "source": [
        "# DBSCAN 에서 활용되는 parameter\n",
        "# -1) eps(epsilon) : 기준점으로부터의 반경\n",
        "# -2) min_samples  : 반경 내 있어야 할 최소 data_points\n",
        "# module import\n",
        "from sklearn.cluster import DBSCAN\n",
        "from plotly.subplots import make_subplots\n",
        "import plotly.graph_objects as go\n",
        "dbscan = DBSCAN(eps = 0.2, min_samples=6)"
      ],
      "execution_count": 34,
      "outputs": []
    },
    {
      "cell_type": "code",
      "metadata": {
        "id": "1o6ECtc18Kkc",
        "outputId": "52c74c85-f5a8-42c0-d7a4-c7893fc92523",
        "colab": {
          "base_uri": "https://localhost:8080/"
        }
      },
      "source": [
        "dbscan.fit(moon_data)"
      ],
      "execution_count": 29,
      "outputs": [
        {
          "output_type": "execute_result",
          "data": {
            "text/plain": [
              "DBSCAN(algorithm='auto', eps=0.2, leaf_size=30, metric='euclidean',\n",
              "       metric_params=None, min_samples=6, n_jobs=None, p=None)"
            ]
          },
          "metadata": {
            "tags": []
          },
          "execution_count": 29
        }
      ]
    },
    {
      "cell_type": "code",
      "metadata": {
        "id": "zf16TvGc8Kia"
      },
      "source": [
        "dbscan_label = dbscan.labels_"
      ],
      "execution_count": 30,
      "outputs": []
    },
    {
      "cell_type": "code",
      "metadata": {
        "id": "l7vB-7Rn8Kgf",
        "outputId": "6cb10ca8-08df-4d8b-b2f8-d995b8b04d43",
        "colab": {
          "base_uri": "https://localhost:8080/"
        }
      },
      "source": [
        "set(dbscan_label) # -1은 outlier임"
      ],
      "execution_count": 35,
      "outputs": [
        {
          "output_type": "execute_result",
          "data": {
            "text/plain": [
              "{-1, 0, 1}"
            ]
          },
          "metadata": {
            "tags": []
          },
          "execution_count": 35
        }
      ]
    },
    {
      "cell_type": "code",
      "metadata": {
        "id": "i93pgcdv8KeU",
        "outputId": "5137dac0-ff26-4876-f115-085fdee8757c",
        "colab": {
          "base_uri": "https://localhost:8080/",
          "height": 517
        }
      },
      "source": [
        "moon_data_df['dbscan_label'] = dbscan_label\n",
        "\n",
        "fig = px.scatter(moon_data_df, 'x','y', color=dbscan_label)\n",
        "fig.update_layout(width = 600, height = 500)\n",
        "fig.show()"
      ],
      "execution_count": 37,
      "outputs": [
        {
          "output_type": "display_data",
          "data": {
            "text/html": [
              "<html>\n",
              "<head><meta charset=\"utf-8\" /></head>\n",
              "<body>\n",
              "    <div>\n",
              "            <script src=\"https://cdnjs.cloudflare.com/ajax/libs/mathjax/2.7.5/MathJax.js?config=TeX-AMS-MML_SVG\"></script><script type=\"text/javascript\">if (window.MathJax) {MathJax.Hub.Config({SVG: {font: \"STIX-Web\"}});}</script>\n",
              "                <script type=\"text/javascript\">window.PlotlyConfig = {MathJaxConfig: 'local'};</script>\n",
              "        <script src=\"https://cdn.plot.ly/plotly-latest.min.js\"></script>    \n",
              "            <div id=\"2870bc36-3274-4ba2-b6af-b5243b8fa76b\" class=\"plotly-graph-div\" style=\"height:500px; width:600px;\"></div>\n",
              "            <script type=\"text/javascript\">\n",
              "                \n",
              "                    window.PLOTLYENV=window.PLOTLYENV || {};\n",
              "                    \n",
              "                if (document.getElementById(\"2870bc36-3274-4ba2-b6af-b5243b8fa76b\")) {\n",
              "                    Plotly.newPlot(\n",
              "                        '2870bc36-3274-4ba2-b6af-b5243b8fa76b',\n",
              "                        [{\"hoverlabel\": {\"namelength\": 0}, \"hovertemplate\": \"x=%{x}<br>y=%{y}<br>color=%{marker.color}\", \"legendgroup\": \"\", \"marker\": {\"color\": [0, 0, 1, 0, 1, 1, 0, 1, 0, 1, 1, 0, 1, 1, 1, 1, 0, 0, 0, 0, 1, 1, 0, 0, 1, 0, 1, 0, 0, 1, 0, 1, 0, 1, 0, 1, 1, 0, 1, 1, 0, 1, 1, 1, 1, 0, 1, 1, 1, 1, 1, 0, 0, 1, 0, 1, 0, 1, 1, 1, 1, 0, 0, 1, 1, 1, 0, 0, -1, 1, 0, 1, 1, 1, 0, 0, 0, 0, 1, 0, 1, 1, 0, 0, 0, 1, 0, 0, 1, 1, 0, 0, 1, 0, 1, 0, 0, 0, -1, 1, 0, 1, 1, 1, 1, 1, 1, 1, 0, 0, 1, 0, 0, 0, 0, 1, 1, 0, 0, 0, 1, 1, 1, 0, 1, 1, 0, 0, 1, 0, 0, 1, 0, 1, 1, 1, 0, 0, 0, 0, 1, 1, 0, 1, 1, 0, 1, 1, 1, 0, 1, 0, 0, 1, 1, 1, 1, 1, 0, 0, 0, 0, 0, 1, 0, 1, 0, 1, 1, 0, 1, 1, 1, 1, 1, 0, 1, 0, 1, 1, 1, 1, 1, 1, 1, 1, 0, 0, 0, 1, 1, 1, 0, 1, 0, 0, 0, 0, 0, 0, 1, 0, 0, 0, 0, 1, 1, 1, 0, 1, 0, 1, 1, 0, 0, 1, 0, 0, 0, 0, 0, 1, 0, 1, 1, -1, 1, 0, 1, 0, 1, 0, 0, 1, 1, 0, 0, 0, 0, 0, 0, 1, 1, 0, 1, 1, 0, 1, 0, 0, 1, 0, 1, 0, 1, 0, 1, 1, 0, 1, 1, 1, 1, 1, 1, 1, 0, 0, 0, 1, 1, 0, 0, 0, 1, 1, 0, 0, 0, 0, 1, 0, 0, 1, 0, 0, 0, 1, 1, 0, 1, 1, 1, 0, 0, 0, 1, 0, 0, 0, 0, 1, 0, 1, 1, 1, 1, 1, 1, 0, 1, 1, 1, 0, 0, 0, 0, 0, 0, 0, 0, 0, 0, 0, 0, 0, 0, 0, 0, 1, 1, 0, 1, 0, 0, 1, 1, 1, 1, 1, 0, 1, 0, 1, 0, 1, 0, 0, 0, 1, 0, 1, 0, 1, 0, 0, 1, 0, 0, 0, 0, 1, 1, 1, 1, 0, 1, 1, 1, 1, 0, 0, 0, 1, 0, 1, 0, 1, 0, 0, 0, 0, 1, 1, 1, 0, 1, 0, 1, 0, 0, 1, 0, 1, 1, 1, 1, 0, 0, 1], \"coloraxis\": \"coloraxis\", \"symbol\": \"circle\"}, \"mode\": \"markers\", \"name\": \"\", \"showlegend\": false, \"type\": \"scatter\", \"x\": [-0.04405185436455387, 0.6922304485774229, 0.8281977981485314, 0.17881242677930137, 0.09171539700050081, 0.40156045922972966, 1.3757911943525358, 0.07314713993172753, 0.45860466022215285, -0.4178031928161623, 0.9579878024190793, 1.8524970559962026, 0.5552516585363515, 0.3022727378193304, -0.5247965363754132, 0.8580279728331913, 0.6189365495878882, 1.8927960119108467, 0.11756338555092069, 2.169029362678773, 0.404559599307745, 1.0893364137634811, 2.0669459262896903, 0.5877990025461418, 1.0446289348001918, 2.0490213676870517, -0.29381359169325855, 0.02237367735743013, 0.453000976269902, 0.052039835716421845, 2.1534991209951535, -1.119340367715941, 0.6240688008428807, 0.6746685269538756, 0.11590511420338562, -0.25247367792137004, -0.043682834885529404, 1.7828070067277453, -0.834513603902822, -0.5049155905696417, 1.806489808286964, 0.7605778678586781, 0.29985442632480913, 0.8905252470097118, 0.11826978657090345, 2.0034066514848714, -0.7130367234824387, -1.0452223143606545, 0.9604818564529551, -1.0610029020734704, 0.9290715732995999, 1.3419458957279273, 1.5452174341489513, 0.3985161871037338, 1.764957168546406, 0.9224449677324292, 0.033462363099337374, -0.8919029408079996, 1.0225793504988576, -0.9710888438761187, -0.4791414581275831, 0.8408477423017393, 0.2964391408080224, 0.4919544089308461, 0.0410776773647474, 0.9666350914963895, 1.6831546515793194, 0.43826348511034413, 1.740452092301724, 0.21658112980549674, 1.3012044573186852, -0.64388146241787, 0.9496985380360062, 0.6683706670351148, 2.021650614049808, 0.16473890548509473, -0.009247095964754717, 1.7690167227990816, -1.0104913674247578, 0.702434617830942, 0.9493893492279155, 0.8953640992371084, -0.15095907350779758, 0.28341059943157637, 0.686247114883507, 0.42168660618408793, 0.4135899135206339, 1.0577396586654602, 0.0034514995502456514, 0.2647671231050478, 0.06324742529253595, 1.5658002856216526, -0.2559695512442949, 0.2090468050023805, -1.0197784695319896, 1.1529542320186548, 1.8320855582539974, 1.9886682809991771, -0.16419264277805473, 0.3254160858230126, 0.20654495134218478, -0.02532499674177502, 1.0832306132818155, 0.5278969205172018, -0.7422978282856604, 1.0762354226047843, 0.9804704487371622, -0.7609520671028389, 1.7419705803807746, 1.8949012493453714, -0.49651016735263764, 2.0281830266713725, 0.7295586309939159, 2.0165730120568788, 1.0090524120850748, 0.8181446341926059, 0.47919081281108183, 0.8291064621354819, 1.1864304003533328, 0.7588546454896044, -0.9246852132955579, -0.19973768447083562, 0.940616481696544, 1.8498418744289271, 1.0076808280989389, -0.966543565363345, 1.6638459329092838, 1.6872832037570835, -0.9976923228984038, 0.259718542404861, 1.260522773047423, -0.5812357980233047, 0.5687897887080057, -0.9002692152319717, -0.25582248118023304, -1.1138631338303022, 0.13234844337348306, 0.5078751167554956, -0.11594691159512407, 1.0831469058632226, 0.9771117727121236, -0.32661461873026315, 0.9063697767081207, -0.6203513588550882, -1.1511863158724789, 0.7803374476056197, 0.5955667439508922, -0.1308958348924223, -0.8799966733224986, 1.922550311349182, 1.1750337382650022, 1.5611843539210797, 0.4481765327303048, -0.7585085272396329, 1.051622752860439, -0.8092021378321275, -0.07657329479524141, 0.3643485289920689, 1.3457410648452206, 1.9250783905350084, 2.128778248212025, 0.0706262481600407, 1.0274744413540133, -0.9039386882590633, 1.792856509913606, 0.23340051836624431, 2.0071012074483465, -0.7848715472141286, -0.6052644989118215, 0.05187296202004671, 0.18346525575039668, 0.4357050503972449, -0.19161096380566223, 0.23246382980226774, -0.6089928003474744, 1.1736206804738114, -0.14663398900921182, 0.2432922979322884, 0.2481370154715898, 1.056272964342253, 0.7460124466135112, -0.6474151293600467, -0.2998246700886737, -0.867194684720239, 0.45564543502722626, -1.0050512879881874, 1.3365798384645975, -0.17983124228592573, 1.498489509539917, -0.6805626396188176, -0.6490735256969274, -0.536868509390947, 1.975693655313992, 0.09373483171858374, 1.3769137547348915, 1.6728813869324226, 1.6448138852597582, 1.6705417974900587, 1.457852249627546, 0.976715110638505, -0.9263843640116586, -0.1223731313381849, 0.796228522033799, 0.15475677041477062, 0.7888519002662029, -0.5405845524825568, 0.9305692278235662, 0.9784119369643645, 1.4758331265836486, -1.0200230889843025, 0.04061773858849012, -0.3154849918885533, -1.0223978310048576, 1.3533832696767325, 1.0366465155314608, -0.04510451879071933, 1.8936032702640215, 0.5943858451752875, 1.885006370759624, 0.9389125135270914, 1.7893976221378944, -0.994564259030683, 0.3603982008922027, -0.4408604389520875, -0.5151095273058485, -1.0563766442123035, -1.0351547981205815, 1.9371282674993187, 0.9166357854923943, 0.0083564707053621, -0.12004194518298957, 0.06357500148967771, 0.4229368998509608, 0.9981936878290952, -0.30368999098948596, 1.874315243153208, 0.07222261812178199, 1.6470491039434203, 1.9686415215524833, 1.7843131131506498, 2.0873045148599823, -0.39790391370032724, 0.49229061778845873, 1.3148496627000024, 0.8494651045710285, 0.19481701963916617, 1.9508672322774856, -0.10148376708261908, 0.2825817386035496, 0.938344700184442, -0.33440741651656025, 0.15227499084567703, -0.9103538545522244, 0.7461365894557511, 0.7980254495229531, 1.9701048704314503, 0.652791628022177, 0.15095217091376792, 0.2049831993182284, -1.0351508911672802, -0.8495786602831639, 1.0732469394954367, 0.922355666831577, 1.179959994061442, -0.9293446879170691, -0.6635954598691399, 1.325082692179819, 0.5568693550491782, 0.07750159554668323, 0.12508148690837878, 0.7450034565443301, 0.18786203305535706, 1.0060978915552157, 1.0993371067091071, -0.9080886149685693, 0.5858015888336551, 1.0604130877330895, 0.08128104436835105, 0.2621963091845073, 1.4462645794969085, 1.0643805747202955, 0.2791274315012009, 1.9261906290309088, 0.07587637693033553, 0.2185468890445362, 1.6237768965846349, 0.031333571273604, -1.0991324877898918, 0.05943075792034612, 0.008629185751882248, 0.7067448851525836, 0.8727925257301243, 1.0098726006114973, 0.5993675602813255, 0.1018886995222481, 1.525369983953064, 1.054941483052359, 1.2136000567339893, 0.23308716959053433, 0.15132759806894286, 0.7976359593737035, -0.808584190274535, 1.961108543928387, -0.573486935719889, 0.3974880824749839, -0.6121576257879583, -0.40620203173039965, 0.8059004682255754, 0.577010942050867, 0.8487619173221225, 0.95116813790414, -0.8431589135514671, 0.8345576822705425, 1.8916875532375048, 1.3528302565382921, 0.14554876861527338, 0.74380252328883, 1.6283256315766768, 0.20872539439732596, 0.01575435537698975, 0.08103530943841337, 0.9398855834587191, 1.8681586907315795, 0.2982728817544293, 2.1277507888341294, 1.846066968959805, 0.905843066983084, 0.4764277360194793, 0.05079807673102646, -0.9159944605722037, 0.7547580557250606, 0.09090431203597911, -0.9855961407261281, 1.1645508833612985, 0.45777725614298304, -0.0457775363766378, 0.7800780371174919, 0.9360900798447133, 0.6689785958971225, 0.33478569722706114, 0.0225989916723915, 0.8552106280976605, 0.40095040462607473, 0.2905170667683744, 1.5057375454140596, 0.6567229379131222, 1.5589905162770326, 0.4463256730065187, 0.3209014155840095, 0.8604722047896834, 1.3193048015154476, 0.23241761555025903, 0.6689344099794808, -0.9368801423457124, 1.6369396239440042, 1.8250086156767336, -0.4044565529876215, 1.0911356663298046, 1.9771635326594774, 1.2487446961310449, 0.2680686577935133, 0.6096776291794008, 0.519633282205532, -0.8067740153047347, -1.0655947175512142, 2.0397784183254832, -1.0984313739240208, -1.0115042991719052, 0.593417605519658, 0.6893488089833144, 1.5811433931248629, 0.13264402366925823, 0.17583821874143654, 0.7968700476436335, 1.2559789044345149, -0.72730191303691, 0.6671056801212313, -1.0039351561663472, 0.803862955043394, 1.755527350459414, 0.4722598345644735, 1.1014506588758581, -0.8515613634567728, -0.344768061166429, -0.6240556307959167, 1.668619917195012, 0.09982365388048871, 1.9207005824962247, 0.21711474696683666, 1.6106948141690762, 0.06152089034007621, -0.3183138362478756, 2.051806694384509, 1.1621430615794484, -0.7693711814576643, 0.42481712855727227, 0.06612998562530321, 0.7241611107656446, 1.929872146707251, -0.0747996734498523], \"xaxis\": \"x\", \"y\": [0.43607778101760863, -0.4011194632440612, 0.5415218892178506, 0.26886231388723847, 0.9461179874453445, 0.9268166356399812, -0.4513290871112877, 0.9168823205037456, -0.3476620899215156, 0.9969302258350214, 0.12114286887719278, 0.1599189780891384, 0.965685772429867, 0.9301292941685252, 0.7897125490862673, 0.6755129042792798, -0.6523278952709434, 0.158747858462253, 0.10550256974316223, 0.32216590687738944, 0.95239331683874, 0.28773650388840166, 0.5549359778342985, -0.4275752586735255, 0.11362423171192629, 0.5587208679105828, 0.8871058855450891, -0.011244065183244362, -0.37282399872071736, 0.8683552101965917, 0.3387743351635715, 0.012114675029737565, -0.3249173888665629, 0.7648464577460884, -0.03455360646626823, 1.0157254753141933, 0.789928213280756, -0.23043958881624316, 0.5482327588836816, 0.8158505869016326, 0.25595173111671626, 0.8490047684040152, 0.7977673987470991, 0.7099043476407715, 0.8778058534457707, 0.2223803368419529, 0.9233940786148171, 0.2789271744465052, 0.2598976348965632, 0.4259623231575948, 0.7044894326221837, -0.43467545128738916, -0.2025606431151623, 0.7578228472730179, 0.12339506639239467, 0.6012696775757825, 0.19067157702276952, 0.4960748810175608, 0.36066014634971644, 0.6405981687615638, 1.0093246672652925, -0.683810686127401, -0.41241573507105345, 0.9901126903122439, 1.0533222871839638, 0.5834251609429104, -0.3177480119227779, -0.38340484123539237, 0.5354200429219066, 0.9736687007203508, -0.4195693110355442, 0.8241928619908845, 0.023234430827277622, 0.8047279428402697, 0.3481653007891365, -0.18751597646936197, 0.03742781347292015, 0.20281525401323908, 0.26766467034661684, -0.5634133844961742, 0.042395034693238194, 0.12029412831425107, 0.5363974171515313, -0.1450026982659779, -0.40495076112290174, 0.8574857282534363, -0.2320469450349981, -0.5010974292201972, 0.9232315981434537, 0.9512736717500212, 0.013266377828641828, -0.15587107312135612, 0.9769812759008681, 0.24958736254698483, 0.4310704881654892, -0.5388390359189088, 0.007344939439863404, 0.17873633391097563, -0.10434745860853986, 1.0154113850377267, 0.07817393049748056, 0.947301799237025, 0.30243413363940314, 0.9436475009919664, 0.688066258718179, 0.31552877308582405, 0.25009378313745445, 1.0259518073320897, -0.08661529391898053, -0.18713179029828392, 1.020847176615835, 0.37029889398262206, -0.37240717905441106, 0.15904904573753528, -0.7054738367924506, 0.7016062224228446, 0.8667912886886442, -0.5651271337464877, -0.519764696461732, -0.45614703155803, 0.6659339268772327, 1.0933060138877637, 0.25749074749584544, 0.006391413083718128, 0.34117127567420824, 0.28801758688468887, -0.21466511695958101, -0.390961809823812, 0.48813212785537713, -0.14858140113014096, -0.4766645861004665, 0.6748887284276055, -0.2677047542484201, 0.2619201140227827, 1.0180954146828698, -0.08705661343128906, 0.00912932714886762, -0.48441334225022337, 0.24031371708309332, -0.7040686518936875, 0.40745819890591284, 0.7493900295321627, -0.3263153064040736, 0.8387098635497955, -0.06624355977916652, -0.3862360517512149, 0.6386728106302391, 0.9641399984129664, 0.283554573861271, -0.023703499695742758, 0.08712904314172767, -0.2802004578206971, -0.16445885394768184, 0.748141806207555, 0.07573563016822103, 0.13687902584671832, 1.0123246744592231, 0.9587332861968995, -0.6347527000227957, 0.2703337265054317, 0.3285139273519466, 0.27277848784097924, -0.5378165485798784, 0.4860442990090752, -0.09965088293999937, 0.9718404298026123, 0.14070793064631937, 0.5879530835073661, 0.7955689362691735, 0.11809294944569163, 0.863886260883799, 0.947112468815042, 1.0144581477653083, 0.958636539202684, 0.8538968611679508, -0.26267904632598416, 1.098915276229116, -0.2985209827634067, 1.0221280706067108, 0.26708618818460234, 0.6027220092407295, 0.8686578241100799, 1.0958782230964785, 0.3372444433127365, 0.8287075193222752, 0.19988054900735763, -0.4000759499004397, 0.27210742336973803, -0.5554431740207553, 0.08132969177833893, 0.8815049333413835, 0.9423719015542635, 0.22898137437768737, 0.9093489420473164, -0.3990335438365677, -0.28120663796327605, -0.42347286188539957, -0.1316839261626955, -0.22512481834440223, -0.5487601936944003, 0.21098414319755895, 0.34272142754523316, -0.6021366375822279, 0.25817568609572544, -0.5251206254974262, 0.9181117639438922, 0.5398249074259076, 0.25352612158237964, -0.42390792934014865, 0.22748717279219446, 0.19092611177757238, 1.0083104690182787, 0.4011067930232193, -0.47274322766457466, -0.4985476580125366, 0.7991491020390376, 0.14287399006123414, -0.528630928174813, 0.10420737924262266, -0.5135540452630449, -0.26387131943612496, 0.6713911383163779, -0.12579009793677248, 0.7384652081800833, 0.8471182066753098, -0.3568205299359881, 0.05539817597695543, 0.3675642914202532, 0.12373202160019528, 0.5320457749816218, 0.7527784391323216, -0.07375254500638109, -0.03656097531307502, 0.21096138080488983, 1.0459161417121352, -0.05318329701654417, 0.13627157664599823, -0.16757444093230295, 0.10291719279716784, -0.1520068909668203, 0.28530735074108815, 0.982030294351673, 0.8693150287473763, -0.44725774744016616, 0.5435623850119276, 1.0914306332660042, 0.3900256213166849, 0.8954007189495029, -0.16532079284824672, -0.6327445340710072, 0.872152223717397, 0.02198057941962034, 0.11457950315220794, -0.5110142065757868, 0.7023762060734993, 0.06999163949717546, 0.8679890511284588, 0.9735792211196405, -0.37334478387442843, 0.2352123895851974, 0.5257157557542287, 0.0966570840121739, 0.3915777156856398, 0.40620951502008384, 0.5563002807945711, 0.9287284123514572, -0.4694932597705525, -0.28647303390245527, 0.2177456466088653, 1.0107712649386078, 0.7090896365466173, -0.20224818473919925, -0.6716737343647, -0.5255392480328201, 0.220602393102044, 0.5679185764822606, -0.664348506659051, 0.5655440149193591, -0.2605001465555224, -0.44476972105908064, 0.16411977735553548, -0.26884664450584866, -0.034101486858117314, 1.1367673776383977, 0.20383370529796563, -0.33120103482858776, 0.24276731510751107, 0.3998281611302054, 0.9409926919168601, 0.24999982561095813, 0.7849651477267724, 0.40450279943881134, 0.6137062126291012, -0.5724314430588369, 0.49498808243247494, 0.0019297974426112918, 0.22300462646561692, -0.3417331989379858, 0.1275069459089364, -0.23883742575743933, -0.3839793843645204, 0.549473350974221, 0.040814972387245074, 0.7653864752163864, 0.8866068075128529, 0.8269448471682256, 0.6919572681002077, 0.09598584740679728, 0.921427860837215, -0.4363056984528748, 0.13090585233804364, 0.708073706544875, 0.5953673442120604, 0.09509014818593642, -0.4265362405070112, 0.2169283752033758, -0.4984572915678237, -0.2528451566092468, 0.08119429053081831, 0.23973280995637058, 0.5570725509248531, -0.6683544103342967, -0.02515342308285237, -0.12638098881700305, 0.42675405509515674, 0.10121826279463625, -0.5700794902937782, -0.38939614448640203, 0.46414246315263463, 0.662046710981531, 0.6381008654279617, 0.23872062239361602, 0.24465186146853457, -0.40249503600795367, -0.10078345978288639, 1.060030149286084, 0.7488019569243001, -0.03162831609870871, 0.6036520491736346, 0.8900372542109308, 0.40528001022145993, 0.5669552804252124, -0.27463813164370005, 1.025321115737968, -0.37329350355500024, 0.6722832366601202, -0.23748233613720784, -0.328051945416493, -0.12664039057205045, 0.163902767064797, -0.40253376846929073, 0.9210944649201596, -0.3160694603337302, 0.49356261972143056, -0.4744664601030904, 0.5437106356516351, 0.8096130028026692, -0.6172332210395521, 0.3666784091668318, -0.36527871113721005, -0.07010628425274437, 0.7174606455400276, 0.6532250811403223, 0.29157261562178366, 0.2212330253379633, 0.5374177752148195, 0.44471746141975255, 0.47152389058042293, 0.6742885813462738, 0.6896349026977713, -0.1694959403716835, -0.158979629866297, -0.1711557573059312, 0.3571278338151201, -0.5769106371591088, 0.4057417900374254, -0.4360539225120356, 0.00817004076966052, -0.3328595135185971, -0.19911487236295916, -0.19863427705176354, -0.486249852261357, 0.7009224597105804, 0.8202303548674952, 0.6964627164785605, -0.20106864327115975, 1.055221255419995, 0.05914098492307132, 1.068621936007729, -0.23393265974914823, 0.26358525411585665, 0.995160530592945, 0.6307986637140104, 0.28999256891276015, 0.2900083101499388, 1.0503355163432597, 0.9487101716012722, -0.28599311361127777, -0.26332583701466633, 0.7965550564269417], \"yaxis\": \"y\"}],\n",
              "                        {\"coloraxis\": {\"colorbar\": {\"title\": {\"text\": \"color\"}}, \"colorscale\": [[0.0, \"#0d0887\"], [0.1111111111111111, \"#46039f\"], [0.2222222222222222, \"#7201a8\"], [0.3333333333333333, \"#9c179e\"], [0.4444444444444444, \"#bd3786\"], [0.5555555555555556, \"#d8576b\"], [0.6666666666666666, \"#ed7953\"], [0.7777777777777778, \"#fb9f3a\"], [0.8888888888888888, \"#fdca26\"], [1.0, \"#f0f921\"]]}, \"height\": 500, \"legend\": {\"tracegroupgap\": 0}, \"margin\": {\"t\": 60}, \"template\": {\"data\": {\"bar\": [{\"error_x\": {\"color\": \"#2a3f5f\"}, \"error_y\": {\"color\": \"#2a3f5f\"}, \"marker\": {\"line\": {\"color\": \"#E5ECF6\", \"width\": 0.5}}, \"type\": \"bar\"}], \"barpolar\": [{\"marker\": {\"line\": {\"color\": \"#E5ECF6\", \"width\": 0.5}}, \"type\": \"barpolar\"}], \"carpet\": [{\"aaxis\": {\"endlinecolor\": \"#2a3f5f\", \"gridcolor\": \"white\", \"linecolor\": \"white\", \"minorgridcolor\": \"white\", \"startlinecolor\": \"#2a3f5f\"}, \"baxis\": {\"endlinecolor\": \"#2a3f5f\", \"gridcolor\": \"white\", \"linecolor\": \"white\", \"minorgridcolor\": \"white\", \"startlinecolor\": \"#2a3f5f\"}, \"type\": \"carpet\"}], \"choropleth\": [{\"colorbar\": {\"outlinewidth\": 0, \"ticks\": \"\"}, \"type\": \"choropleth\"}], \"contour\": [{\"colorbar\": {\"outlinewidth\": 0, \"ticks\": \"\"}, \"colorscale\": [[0.0, \"#0d0887\"], [0.1111111111111111, \"#46039f\"], [0.2222222222222222, \"#7201a8\"], [0.3333333333333333, \"#9c179e\"], [0.4444444444444444, \"#bd3786\"], [0.5555555555555556, \"#d8576b\"], [0.6666666666666666, \"#ed7953\"], [0.7777777777777778, \"#fb9f3a\"], [0.8888888888888888, \"#fdca26\"], [1.0, \"#f0f921\"]], \"type\": \"contour\"}], \"contourcarpet\": [{\"colorbar\": {\"outlinewidth\": 0, \"ticks\": \"\"}, \"type\": \"contourcarpet\"}], \"heatmap\": [{\"colorbar\": {\"outlinewidth\": 0, \"ticks\": \"\"}, \"colorscale\": [[0.0, \"#0d0887\"], [0.1111111111111111, \"#46039f\"], [0.2222222222222222, \"#7201a8\"], [0.3333333333333333, \"#9c179e\"], [0.4444444444444444, \"#bd3786\"], [0.5555555555555556, \"#d8576b\"], [0.6666666666666666, \"#ed7953\"], [0.7777777777777778, \"#fb9f3a\"], [0.8888888888888888, \"#fdca26\"], [1.0, \"#f0f921\"]], \"type\": \"heatmap\"}], \"heatmapgl\": [{\"colorbar\": {\"outlinewidth\": 0, \"ticks\": \"\"}, \"colorscale\": [[0.0, \"#0d0887\"], [0.1111111111111111, \"#46039f\"], [0.2222222222222222, \"#7201a8\"], [0.3333333333333333, \"#9c179e\"], [0.4444444444444444, \"#bd3786\"], [0.5555555555555556, \"#d8576b\"], [0.6666666666666666, \"#ed7953\"], [0.7777777777777778, \"#fb9f3a\"], [0.8888888888888888, \"#fdca26\"], [1.0, \"#f0f921\"]], \"type\": \"heatmapgl\"}], \"histogram\": [{\"marker\": {\"colorbar\": {\"outlinewidth\": 0, \"ticks\": \"\"}}, \"type\": \"histogram\"}], \"histogram2d\": [{\"colorbar\": {\"outlinewidth\": 0, \"ticks\": \"\"}, \"colorscale\": [[0.0, \"#0d0887\"], [0.1111111111111111, \"#46039f\"], [0.2222222222222222, \"#7201a8\"], [0.3333333333333333, \"#9c179e\"], [0.4444444444444444, \"#bd3786\"], [0.5555555555555556, \"#d8576b\"], [0.6666666666666666, \"#ed7953\"], [0.7777777777777778, \"#fb9f3a\"], [0.8888888888888888, \"#fdca26\"], [1.0, \"#f0f921\"]], \"type\": \"histogram2d\"}], \"histogram2dcontour\": [{\"colorbar\": {\"outlinewidth\": 0, \"ticks\": \"\"}, \"colorscale\": [[0.0, \"#0d0887\"], [0.1111111111111111, \"#46039f\"], [0.2222222222222222, \"#7201a8\"], [0.3333333333333333, \"#9c179e\"], [0.4444444444444444, \"#bd3786\"], [0.5555555555555556, \"#d8576b\"], [0.6666666666666666, \"#ed7953\"], [0.7777777777777778, \"#fb9f3a\"], [0.8888888888888888, \"#fdca26\"], [1.0, \"#f0f921\"]], \"type\": \"histogram2dcontour\"}], \"mesh3d\": [{\"colorbar\": {\"outlinewidth\": 0, \"ticks\": \"\"}, \"type\": \"mesh3d\"}], \"parcoords\": [{\"line\": {\"colorbar\": {\"outlinewidth\": 0, \"ticks\": \"\"}}, \"type\": \"parcoords\"}], \"pie\": [{\"automargin\": true, \"type\": \"pie\"}], \"scatter\": [{\"marker\": {\"colorbar\": {\"outlinewidth\": 0, \"ticks\": \"\"}}, \"type\": \"scatter\"}], \"scatter3d\": [{\"line\": {\"colorbar\": {\"outlinewidth\": 0, \"ticks\": \"\"}}, \"marker\": {\"colorbar\": {\"outlinewidth\": 0, \"ticks\": \"\"}}, \"type\": \"scatter3d\"}], \"scattercarpet\": [{\"marker\": {\"colorbar\": {\"outlinewidth\": 0, \"ticks\": \"\"}}, \"type\": \"scattercarpet\"}], \"scattergeo\": [{\"marker\": {\"colorbar\": {\"outlinewidth\": 0, \"ticks\": \"\"}}, \"type\": \"scattergeo\"}], \"scattergl\": [{\"marker\": {\"colorbar\": {\"outlinewidth\": 0, \"ticks\": \"\"}}, \"type\": \"scattergl\"}], \"scattermapbox\": [{\"marker\": {\"colorbar\": {\"outlinewidth\": 0, \"ticks\": \"\"}}, \"type\": \"scattermapbox\"}], \"scatterpolar\": [{\"marker\": {\"colorbar\": {\"outlinewidth\": 0, \"ticks\": \"\"}}, \"type\": \"scatterpolar\"}], \"scatterpolargl\": [{\"marker\": {\"colorbar\": {\"outlinewidth\": 0, \"ticks\": \"\"}}, \"type\": \"scatterpolargl\"}], \"scatterternary\": [{\"marker\": {\"colorbar\": {\"outlinewidth\": 0, \"ticks\": \"\"}}, \"type\": \"scatterternary\"}], \"surface\": [{\"colorbar\": {\"outlinewidth\": 0, \"ticks\": \"\"}, \"colorscale\": [[0.0, \"#0d0887\"], [0.1111111111111111, \"#46039f\"], [0.2222222222222222, \"#7201a8\"], [0.3333333333333333, \"#9c179e\"], [0.4444444444444444, \"#bd3786\"], [0.5555555555555556, \"#d8576b\"], [0.6666666666666666, \"#ed7953\"], [0.7777777777777778, \"#fb9f3a\"], [0.8888888888888888, \"#fdca26\"], [1.0, \"#f0f921\"]], \"type\": \"surface\"}], \"table\": [{\"cells\": {\"fill\": {\"color\": \"#EBF0F8\"}, \"line\": {\"color\": \"white\"}}, \"header\": {\"fill\": {\"color\": \"#C8D4E3\"}, \"line\": {\"color\": \"white\"}}, \"type\": \"table\"}]}, \"layout\": {\"annotationdefaults\": {\"arrowcolor\": \"#2a3f5f\", \"arrowhead\": 0, \"arrowwidth\": 1}, \"coloraxis\": {\"colorbar\": {\"outlinewidth\": 0, \"ticks\": \"\"}}, \"colorscale\": {\"diverging\": [[0, \"#8e0152\"], [0.1, \"#c51b7d\"], [0.2, \"#de77ae\"], [0.3, \"#f1b6da\"], [0.4, \"#fde0ef\"], [0.5, \"#f7f7f7\"], [0.6, \"#e6f5d0\"], [0.7, \"#b8e186\"], [0.8, \"#7fbc41\"], [0.9, \"#4d9221\"], [1, \"#276419\"]], \"sequential\": [[0.0, \"#0d0887\"], [0.1111111111111111, \"#46039f\"], [0.2222222222222222, \"#7201a8\"], [0.3333333333333333, \"#9c179e\"], [0.4444444444444444, \"#bd3786\"], [0.5555555555555556, \"#d8576b\"], [0.6666666666666666, \"#ed7953\"], [0.7777777777777778, \"#fb9f3a\"], [0.8888888888888888, \"#fdca26\"], [1.0, \"#f0f921\"]], \"sequentialminus\": [[0.0, \"#0d0887\"], [0.1111111111111111, \"#46039f\"], [0.2222222222222222, \"#7201a8\"], [0.3333333333333333, \"#9c179e\"], [0.4444444444444444, \"#bd3786\"], [0.5555555555555556, \"#d8576b\"], [0.6666666666666666, \"#ed7953\"], [0.7777777777777778, \"#fb9f3a\"], [0.8888888888888888, \"#fdca26\"], [1.0, \"#f0f921\"]]}, \"colorway\": [\"#636efa\", \"#EF553B\", \"#00cc96\", \"#ab63fa\", \"#FFA15A\", \"#19d3f3\", \"#FF6692\", \"#B6E880\", \"#FF97FF\", \"#FECB52\"], \"font\": {\"color\": \"#2a3f5f\"}, \"geo\": {\"bgcolor\": \"white\", \"lakecolor\": \"white\", \"landcolor\": \"#E5ECF6\", \"showlakes\": true, \"showland\": true, \"subunitcolor\": \"white\"}, \"hoverlabel\": {\"align\": \"left\"}, \"hovermode\": \"closest\", \"mapbox\": {\"style\": \"light\"}, \"paper_bgcolor\": \"white\", \"plot_bgcolor\": \"#E5ECF6\", \"polar\": {\"angularaxis\": {\"gridcolor\": \"white\", \"linecolor\": \"white\", \"ticks\": \"\"}, \"bgcolor\": \"#E5ECF6\", \"radialaxis\": {\"gridcolor\": \"white\", \"linecolor\": \"white\", \"ticks\": \"\"}}, \"scene\": {\"xaxis\": {\"backgroundcolor\": \"#E5ECF6\", \"gridcolor\": \"white\", \"gridwidth\": 2, \"linecolor\": \"white\", \"showbackground\": true, \"ticks\": \"\", \"zerolinecolor\": \"white\"}, \"yaxis\": {\"backgroundcolor\": \"#E5ECF6\", \"gridcolor\": \"white\", \"gridwidth\": 2, \"linecolor\": \"white\", \"showbackground\": true, \"ticks\": \"\", \"zerolinecolor\": \"white\"}, \"zaxis\": {\"backgroundcolor\": \"#E5ECF6\", \"gridcolor\": \"white\", \"gridwidth\": 2, \"linecolor\": \"white\", \"showbackground\": true, \"ticks\": \"\", \"zerolinecolor\": \"white\"}}, \"shapedefaults\": {\"line\": {\"color\": \"#2a3f5f\"}}, \"ternary\": {\"aaxis\": {\"gridcolor\": \"white\", \"linecolor\": \"white\", \"ticks\": \"\"}, \"baxis\": {\"gridcolor\": \"white\", \"linecolor\": \"white\", \"ticks\": \"\"}, \"bgcolor\": \"#E5ECF6\", \"caxis\": {\"gridcolor\": \"white\", \"linecolor\": \"white\", \"ticks\": \"\"}}, \"title\": {\"x\": 0.05}, \"xaxis\": {\"automargin\": true, \"gridcolor\": \"white\", \"linecolor\": \"white\", \"ticks\": \"\", \"title\": {\"standoff\": 15}, \"zerolinecolor\": \"white\", \"zerolinewidth\": 2}, \"yaxis\": {\"automargin\": true, \"gridcolor\": \"white\", \"linecolor\": \"white\", \"ticks\": \"\", \"title\": {\"standoff\": 15}, \"zerolinecolor\": \"white\", \"zerolinewidth\": 2}}}, \"width\": 600, \"xaxis\": {\"anchor\": \"y\", \"domain\": [0.0, 1.0], \"title\": {\"text\": \"x\"}}, \"yaxis\": {\"anchor\": \"x\", \"domain\": [0.0, 1.0], \"title\": {\"text\": \"y\"}}},\n",
              "                        {\"responsive\": true}\n",
              "                    ).then(function(){\n",
              "                            \n",
              "var gd = document.getElementById('2870bc36-3274-4ba2-b6af-b5243b8fa76b');\n",
              "var x = new MutationObserver(function (mutations, observer) {{\n",
              "        var display = window.getComputedStyle(gd).display;\n",
              "        if (!display || display === 'none') {{\n",
              "            console.log([gd, 'removed!']);\n",
              "            Plotly.purge(gd);\n",
              "            observer.disconnect();\n",
              "        }}\n",
              "}});\n",
              "\n",
              "// Listen for the removal of the full notebook cells\n",
              "var notebookContainer = gd.closest('#notebook-container');\n",
              "if (notebookContainer) {{\n",
              "    x.observe(notebookContainer, {childList: true});\n",
              "}}\n",
              "\n",
              "// Listen for the clearing of the current output cell\n",
              "var outputEl = gd.closest('.output');\n",
              "if (outputEl) {{\n",
              "    x.observe(outputEl, {childList: true});\n",
              "}}\n",
              "\n",
              "                        })\n",
              "                };\n",
              "                \n",
              "            </script>\n",
              "        </div>\n",
              "</body>\n",
              "</html>"
            ]
          },
          "metadata": {
            "tags": []
          }
        }
      ]
    },
    {
      "cell_type": "code",
      "metadata": {
        "id": "bo9n7ouE8Kb9",
        "outputId": "741ef9cd-3003-4d27-d0f3-3f678c865517",
        "colab": {
          "base_uri": "https://localhost:8080/",
          "height": 1000
        }
      },
      "source": [
        "\n",
        "for eps in [0.1, 0.2, 0.5] :\n",
        "    dbscan = DBSCAN(eps=eps, min_samples=6).fit(moon_data)\n",
        "    dbscan_label = dbscan.labels_\n",
        "    print(f'eps : {eps} ->> label수 : {len(set(dbscan_label))}')\n",
        "    moon_data_df['dbscan_label'] = dbscan_label\n",
        "    fig = px.scatter(moon_data_df, 'x','y', color=dbscan_label)\n",
        "    fig.update_layout(width = 600, height = 500)\n",
        "    fig.show()"
      ],
      "execution_count": 39,
      "outputs": [
        {
          "output_type": "stream",
          "text": [
            "eps : 0.1 ->> label수 : 19\n"
          ],
          "name": "stdout"
        },
        {
          "output_type": "display_data",
          "data": {
            "text/html": [
              "<html>\n",
              "<head><meta charset=\"utf-8\" /></head>\n",
              "<body>\n",
              "    <div>\n",
              "            <script src=\"https://cdnjs.cloudflare.com/ajax/libs/mathjax/2.7.5/MathJax.js?config=TeX-AMS-MML_SVG\"></script><script type=\"text/javascript\">if (window.MathJax) {MathJax.Hub.Config({SVG: {font: \"STIX-Web\"}});}</script>\n",
              "                <script type=\"text/javascript\">window.PlotlyConfig = {MathJaxConfig: 'local'};</script>\n",
              "        <script src=\"https://cdn.plot.ly/plotly-latest.min.js\"></script>    \n",
              "            <div id=\"bd5f4524-e83c-47f1-9299-e26db423e0bb\" class=\"plotly-graph-div\" style=\"height:500px; width:600px;\"></div>\n",
              "            <script type=\"text/javascript\">\n",
              "                \n",
              "                    window.PLOTLYENV=window.PLOTLYENV || {};\n",
              "                    \n",
              "                if (document.getElementById(\"bd5f4524-e83c-47f1-9299-e26db423e0bb\")) {\n",
              "                    Plotly.newPlot(\n",
              "                        'bd5f4524-e83c-47f1-9299-e26db423e0bb',\n",
              "                        [{\"hoverlabel\": {\"namelength\": 0}, \"hovertemplate\": \"x=%{x}<br>y=%{y}<br>color=%{marker.color}\", \"legendgroup\": \"\", \"marker\": {\"color\": [17, 0, 8, 1, 2, 2, 3, 2, 4, 9, 5, 6, 2, 2, 7, 8, -1, 6, 1, -1, 2, 5, -1, 0, 5, -1, 9, 1, 4, 2, -1, -1, 0, 8, 1, 9, -1, 12, 10, 7, -1, 8, 2, 8, 2, 6, 7, 11, 5, 10, 8, 3, 12, 2, 6, 8, 1, 10, 5, 10, -1, -1, -1, 2, 2, 8, 12, 4, -1, 2, 3, 7, 5, 8, 13, 14, 1, 6, 11, 0, 5, 5, -1, 14, 0, 2, -1, 3, 2, 2, 1, 12, 9, 1, 10, 3, 6, 6, -1, 2, 1, 2, 5, 2, -1, 5, 5, -1, 12, -1, -1, 13, 0, 6, 16, 8, 2, 0, 3, 0, 15, 9, 5, 6, 5, 11, 12, 12, 10, 14, 3, 7, -1, 11, 9, -1, 1, -1, -1, 16, 5, -1, -1, 7, -1, 0, 8, 9, 11, 6, -1, 12, 14, -1, 5, -1, 2, 2, -1, 6, -1, 1, 3, 10, 6, 2, 6, 10, 7, 1, 2, 2, 9, 2, 7, -1, 9, -1, 2, 5, 8, 7, 9, 11, 2, 11, 3, -1, -1, -1, 7, 7, 6, 2, 3, 12, 12, 12, 12, 3, 11, -1, 0, 1, 0, 7, 8, 5, 3, 11, 1, 9, 10, 3, 3, -1, 6, -1, 6, 3, 12, 15, 14, 7, 7, -1, -1, 13, 5, 17, -1, 1, -1, 5, 9, 6, 1, 12, 6, 12, 13, 9, 2, 3, 8, 2, 13, 2, 14, 3, -1, 1, 11, 0, 8, 6, 8, 2, -1, 11, 10, 5, 5, -1, 10, 7, 3, -1, 1, 2, 8, 14, 16, 3, 11, 8, 16, -1, 14, 3, 5, -1, 6, -1, 1, 12, 1, 10, 2, 1, 8, -1, 8, -1, 17, -1, 5, 3, 1, 14, 0, 10, 6, 7, 2, 7, -1, 5, 2, 0, 5, 15, 8, 6, 3, 1, 0, 12, 1, 1, 17, 16, 6, 14, -1, 6, 3, 4, 17, 15, 8, 1, 11, 3, -1, -1, 8, 5, 8, 2, 17, 8, 4, 2, 3, 8, 12, 4, 14, 5, 3, 2, 0, 10, -1, -1, -1, 3, 13, 3, 14, 8, 8, 11, 11, -1, 10, 10, 8, 8, 12, 14, 14, -1, 3, -1, 0, -1, 0, 12, -1, 3, 15, -1, 7, 12, 2, 6, 2, 12, 1, 9, -1, 5, -1, 2, 2, 0, -1, -1], \"coloraxis\": \"coloraxis\", \"symbol\": \"circle\"}, \"mode\": \"markers\", \"name\": \"\", \"showlegend\": false, \"type\": \"scatter\", \"x\": [-0.04405185436455387, 0.6922304485774229, 0.8281977981485314, 0.17881242677930137, 0.09171539700050081, 0.40156045922972966, 1.3757911943525358, 0.07314713993172753, 0.45860466022215285, -0.4178031928161623, 0.9579878024190793, 1.8524970559962026, 0.5552516585363515, 0.3022727378193304, -0.5247965363754132, 0.8580279728331913, 0.6189365495878882, 1.8927960119108467, 0.11756338555092069, 2.169029362678773, 0.404559599307745, 1.0893364137634811, 2.0669459262896903, 0.5877990025461418, 1.0446289348001918, 2.0490213676870517, -0.29381359169325855, 0.02237367735743013, 0.453000976269902, 0.052039835716421845, 2.1534991209951535, -1.119340367715941, 0.6240688008428807, 0.6746685269538756, 0.11590511420338562, -0.25247367792137004, -0.043682834885529404, 1.7828070067277453, -0.834513603902822, -0.5049155905696417, 1.806489808286964, 0.7605778678586781, 0.29985442632480913, 0.8905252470097118, 0.11826978657090345, 2.0034066514848714, -0.7130367234824387, -1.0452223143606545, 0.9604818564529551, -1.0610029020734704, 0.9290715732995999, 1.3419458957279273, 1.5452174341489513, 0.3985161871037338, 1.764957168546406, 0.9224449677324292, 0.033462363099337374, -0.8919029408079996, 1.0225793504988576, -0.9710888438761187, -0.4791414581275831, 0.8408477423017393, 0.2964391408080224, 0.4919544089308461, 0.0410776773647474, 0.9666350914963895, 1.6831546515793194, 0.43826348511034413, 1.740452092301724, 0.21658112980549674, 1.3012044573186852, -0.64388146241787, 0.9496985380360062, 0.6683706670351148, 2.021650614049808, 0.16473890548509473, -0.009247095964754717, 1.7690167227990816, -1.0104913674247578, 0.702434617830942, 0.9493893492279155, 0.8953640992371084, -0.15095907350779758, 0.28341059943157637, 0.686247114883507, 0.42168660618408793, 0.4135899135206339, 1.0577396586654602, 0.0034514995502456514, 0.2647671231050478, 0.06324742529253595, 1.5658002856216526, -0.2559695512442949, 0.2090468050023805, -1.0197784695319896, 1.1529542320186548, 1.8320855582539974, 1.9886682809991771, -0.16419264277805473, 0.3254160858230126, 0.20654495134218478, -0.02532499674177502, 1.0832306132818155, 0.5278969205172018, -0.7422978282856604, 1.0762354226047843, 0.9804704487371622, -0.7609520671028389, 1.7419705803807746, 1.8949012493453714, -0.49651016735263764, 2.0281830266713725, 0.7295586309939159, 2.0165730120568788, 1.0090524120850748, 0.8181446341926059, 0.47919081281108183, 0.8291064621354819, 1.1864304003533328, 0.7588546454896044, -0.9246852132955579, -0.19973768447083562, 0.940616481696544, 1.8498418744289271, 1.0076808280989389, -0.966543565363345, 1.6638459329092838, 1.6872832037570835, -0.9976923228984038, 0.259718542404861, 1.260522773047423, -0.5812357980233047, 0.5687897887080057, -0.9002692152319717, -0.25582248118023304, -1.1138631338303022, 0.13234844337348306, 0.5078751167554956, -0.11594691159512407, 1.0831469058632226, 0.9771117727121236, -0.32661461873026315, 0.9063697767081207, -0.6203513588550882, -1.1511863158724789, 0.7803374476056197, 0.5955667439508922, -0.1308958348924223, -0.8799966733224986, 1.922550311349182, 1.1750337382650022, 1.5611843539210797, 0.4481765327303048, -0.7585085272396329, 1.051622752860439, -0.8092021378321275, -0.07657329479524141, 0.3643485289920689, 1.3457410648452206, 1.9250783905350084, 2.128778248212025, 0.0706262481600407, 1.0274744413540133, -0.9039386882590633, 1.792856509913606, 0.23340051836624431, 2.0071012074483465, -0.7848715472141286, -0.6052644989118215, 0.05187296202004671, 0.18346525575039668, 0.4357050503972449, -0.19161096380566223, 0.23246382980226774, -0.6089928003474744, 1.1736206804738114, -0.14663398900921182, 0.2432922979322884, 0.2481370154715898, 1.056272964342253, 0.7460124466135112, -0.6474151293600467, -0.2998246700886737, -0.867194684720239, 0.45564543502722626, -1.0050512879881874, 1.3365798384645975, -0.17983124228592573, 1.498489509539917, -0.6805626396188176, -0.6490735256969274, -0.536868509390947, 1.975693655313992, 0.09373483171858374, 1.3769137547348915, 1.6728813869324226, 1.6448138852597582, 1.6705417974900587, 1.457852249627546, 0.976715110638505, -0.9263843640116586, -0.1223731313381849, 0.796228522033799, 0.15475677041477062, 0.7888519002662029, -0.5405845524825568, 0.9305692278235662, 0.9784119369643645, 1.4758331265836486, -1.0200230889843025, 0.04061773858849012, -0.3154849918885533, -1.0223978310048576, 1.3533832696767325, 1.0366465155314608, -0.04510451879071933, 1.8936032702640215, 0.5943858451752875, 1.885006370759624, 0.9389125135270914, 1.7893976221378944, -0.994564259030683, 0.3603982008922027, -0.4408604389520875, -0.5151095273058485, -1.0563766442123035, -1.0351547981205815, 1.9371282674993187, 0.9166357854923943, 0.0083564707053621, -0.12004194518298957, 0.06357500148967771, 0.4229368998509608, 0.9981936878290952, -0.30368999098948596, 1.874315243153208, 0.07222261812178199, 1.6470491039434203, 1.9686415215524833, 1.7843131131506498, 2.0873045148599823, -0.39790391370032724, 0.49229061778845873, 1.3148496627000024, 0.8494651045710285, 0.19481701963916617, 1.9508672322774856, -0.10148376708261908, 0.2825817386035496, 0.938344700184442, -0.33440741651656025, 0.15227499084567703, -0.9103538545522244, 0.7461365894557511, 0.7980254495229531, 1.9701048704314503, 0.652791628022177, 0.15095217091376792, 0.2049831993182284, -1.0351508911672802, -0.8495786602831639, 1.0732469394954367, 0.922355666831577, 1.179959994061442, -0.9293446879170691, -0.6635954598691399, 1.325082692179819, 0.5568693550491782, 0.07750159554668323, 0.12508148690837878, 0.7450034565443301, 0.18786203305535706, 1.0060978915552157, 1.0993371067091071, -0.9080886149685693, 0.5858015888336551, 1.0604130877330895, 0.08128104436835105, 0.2621963091845073, 1.4462645794969085, 1.0643805747202955, 0.2791274315012009, 1.9261906290309088, 0.07587637693033553, 0.2185468890445362, 1.6237768965846349, 0.031333571273604, -1.0991324877898918, 0.05943075792034612, 0.008629185751882248, 0.7067448851525836, 0.8727925257301243, 1.0098726006114973, 0.5993675602813255, 0.1018886995222481, 1.525369983953064, 1.054941483052359, 1.2136000567339893, 0.23308716959053433, 0.15132759806894286, 0.7976359593737035, -0.808584190274535, 1.961108543928387, -0.573486935719889, 0.3974880824749839, -0.6121576257879583, -0.40620203173039965, 0.8059004682255754, 0.577010942050867, 0.8487619173221225, 0.95116813790414, -0.8431589135514671, 0.8345576822705425, 1.8916875532375048, 1.3528302565382921, 0.14554876861527338, 0.74380252328883, 1.6283256315766768, 0.20872539439732596, 0.01575435537698975, 0.08103530943841337, 0.9398855834587191, 1.8681586907315795, 0.2982728817544293, 2.1277507888341294, 1.846066968959805, 0.905843066983084, 0.4764277360194793, 0.05079807673102646, -0.9159944605722037, 0.7547580557250606, 0.09090431203597911, -0.9855961407261281, 1.1645508833612985, 0.45777725614298304, -0.0457775363766378, 0.7800780371174919, 0.9360900798447133, 0.6689785958971225, 0.33478569722706114, 0.0225989916723915, 0.8552106280976605, 0.40095040462607473, 0.2905170667683744, 1.5057375454140596, 0.6567229379131222, 1.5589905162770326, 0.4463256730065187, 0.3209014155840095, 0.8604722047896834, 1.3193048015154476, 0.23241761555025903, 0.6689344099794808, -0.9368801423457124, 1.6369396239440042, 1.8250086156767336, -0.4044565529876215, 1.0911356663298046, 1.9771635326594774, 1.2487446961310449, 0.2680686577935133, 0.6096776291794008, 0.519633282205532, -0.8067740153047347, -1.0655947175512142, 2.0397784183254832, -1.0984313739240208, -1.0115042991719052, 0.593417605519658, 0.6893488089833144, 1.5811433931248629, 0.13264402366925823, 0.17583821874143654, 0.7968700476436335, 1.2559789044345149, -0.72730191303691, 0.6671056801212313, -1.0039351561663472, 0.803862955043394, 1.755527350459414, 0.4722598345644735, 1.1014506588758581, -0.8515613634567728, -0.344768061166429, -0.6240556307959167, 1.668619917195012, 0.09982365388048871, 1.9207005824962247, 0.21711474696683666, 1.6106948141690762, 0.06152089034007621, -0.3183138362478756, 2.051806694384509, 1.1621430615794484, -0.7693711814576643, 0.42481712855727227, 0.06612998562530321, 0.7241611107656446, 1.929872146707251, -0.0747996734498523], \"xaxis\": \"x\", \"y\": [0.43607778101760863, -0.4011194632440612, 0.5415218892178506, 0.26886231388723847, 0.9461179874453445, 0.9268166356399812, -0.4513290871112877, 0.9168823205037456, -0.3476620899215156, 0.9969302258350214, 0.12114286887719278, 0.1599189780891384, 0.965685772429867, 0.9301292941685252, 0.7897125490862673, 0.6755129042792798, -0.6523278952709434, 0.158747858462253, 0.10550256974316223, 0.32216590687738944, 0.95239331683874, 0.28773650388840166, 0.5549359778342985, -0.4275752586735255, 0.11362423171192629, 0.5587208679105828, 0.8871058855450891, -0.011244065183244362, -0.37282399872071736, 0.8683552101965917, 0.3387743351635715, 0.012114675029737565, -0.3249173888665629, 0.7648464577460884, -0.03455360646626823, 1.0157254753141933, 0.789928213280756, -0.23043958881624316, 0.5482327588836816, 0.8158505869016326, 0.25595173111671626, 0.8490047684040152, 0.7977673987470991, 0.7099043476407715, 0.8778058534457707, 0.2223803368419529, 0.9233940786148171, 0.2789271744465052, 0.2598976348965632, 0.4259623231575948, 0.7044894326221837, -0.43467545128738916, -0.2025606431151623, 0.7578228472730179, 0.12339506639239467, 0.6012696775757825, 0.19067157702276952, 0.4960748810175608, 0.36066014634971644, 0.6405981687615638, 1.0093246672652925, -0.683810686127401, -0.41241573507105345, 0.9901126903122439, 1.0533222871839638, 0.5834251609429104, -0.3177480119227779, -0.38340484123539237, 0.5354200429219066, 0.9736687007203508, -0.4195693110355442, 0.8241928619908845, 0.023234430827277622, 0.8047279428402697, 0.3481653007891365, -0.18751597646936197, 0.03742781347292015, 0.20281525401323908, 0.26766467034661684, -0.5634133844961742, 0.042395034693238194, 0.12029412831425107, 0.5363974171515313, -0.1450026982659779, -0.40495076112290174, 0.8574857282534363, -0.2320469450349981, -0.5010974292201972, 0.9232315981434537, 0.9512736717500212, 0.013266377828641828, -0.15587107312135612, 0.9769812759008681, 0.24958736254698483, 0.4310704881654892, -0.5388390359189088, 0.007344939439863404, 0.17873633391097563, -0.10434745860853986, 1.0154113850377267, 0.07817393049748056, 0.947301799237025, 0.30243413363940314, 0.9436475009919664, 0.688066258718179, 0.31552877308582405, 0.25009378313745445, 1.0259518073320897, -0.08661529391898053, -0.18713179029828392, 1.020847176615835, 0.37029889398262206, -0.37240717905441106, 0.15904904573753528, -0.7054738367924506, 0.7016062224228446, 0.8667912886886442, -0.5651271337464877, -0.519764696461732, -0.45614703155803, 0.6659339268772327, 1.0933060138877637, 0.25749074749584544, 0.006391413083718128, 0.34117127567420824, 0.28801758688468887, -0.21466511695958101, -0.390961809823812, 0.48813212785537713, -0.14858140113014096, -0.4766645861004665, 0.6748887284276055, -0.2677047542484201, 0.2619201140227827, 1.0180954146828698, -0.08705661343128906, 0.00912932714886762, -0.48441334225022337, 0.24031371708309332, -0.7040686518936875, 0.40745819890591284, 0.7493900295321627, -0.3263153064040736, 0.8387098635497955, -0.06624355977916652, -0.3862360517512149, 0.6386728106302391, 0.9641399984129664, 0.283554573861271, -0.023703499695742758, 0.08712904314172767, -0.2802004578206971, -0.16445885394768184, 0.748141806207555, 0.07573563016822103, 0.13687902584671832, 1.0123246744592231, 0.9587332861968995, -0.6347527000227957, 0.2703337265054317, 0.3285139273519466, 0.27277848784097924, -0.5378165485798784, 0.4860442990090752, -0.09965088293999937, 0.9718404298026123, 0.14070793064631937, 0.5879530835073661, 0.7955689362691735, 0.11809294944569163, 0.863886260883799, 0.947112468815042, 1.0144581477653083, 0.958636539202684, 0.8538968611679508, -0.26267904632598416, 1.098915276229116, -0.2985209827634067, 1.0221280706067108, 0.26708618818460234, 0.6027220092407295, 0.8686578241100799, 1.0958782230964785, 0.3372444433127365, 0.8287075193222752, 0.19988054900735763, -0.4000759499004397, 0.27210742336973803, -0.5554431740207553, 0.08132969177833893, 0.8815049333413835, 0.9423719015542635, 0.22898137437768737, 0.9093489420473164, -0.3990335438365677, -0.28120663796327605, -0.42347286188539957, -0.1316839261626955, -0.22512481834440223, -0.5487601936944003, 0.21098414319755895, 0.34272142754523316, -0.6021366375822279, 0.25817568609572544, -0.5251206254974262, 0.9181117639438922, 0.5398249074259076, 0.25352612158237964, -0.42390792934014865, 0.22748717279219446, 0.19092611177757238, 1.0083104690182787, 0.4011067930232193, -0.47274322766457466, -0.4985476580125366, 0.7991491020390376, 0.14287399006123414, -0.528630928174813, 0.10420737924262266, -0.5135540452630449, -0.26387131943612496, 0.6713911383163779, -0.12579009793677248, 0.7384652081800833, 0.8471182066753098, -0.3568205299359881, 0.05539817597695543, 0.3675642914202532, 0.12373202160019528, 0.5320457749816218, 0.7527784391323216, -0.07375254500638109, -0.03656097531307502, 0.21096138080488983, 1.0459161417121352, -0.05318329701654417, 0.13627157664599823, -0.16757444093230295, 0.10291719279716784, -0.1520068909668203, 0.28530735074108815, 0.982030294351673, 0.8693150287473763, -0.44725774744016616, 0.5435623850119276, 1.0914306332660042, 0.3900256213166849, 0.8954007189495029, -0.16532079284824672, -0.6327445340710072, 0.872152223717397, 0.02198057941962034, 0.11457950315220794, -0.5110142065757868, 0.7023762060734993, 0.06999163949717546, 0.8679890511284588, 0.9735792211196405, -0.37334478387442843, 0.2352123895851974, 0.5257157557542287, 0.0966570840121739, 0.3915777156856398, 0.40620951502008384, 0.5563002807945711, 0.9287284123514572, -0.4694932597705525, -0.28647303390245527, 0.2177456466088653, 1.0107712649386078, 0.7090896365466173, -0.20224818473919925, -0.6716737343647, -0.5255392480328201, 0.220602393102044, 0.5679185764822606, -0.664348506659051, 0.5655440149193591, -0.2605001465555224, -0.44476972105908064, 0.16411977735553548, -0.26884664450584866, -0.034101486858117314, 1.1367673776383977, 0.20383370529796563, -0.33120103482858776, 0.24276731510751107, 0.3998281611302054, 0.9409926919168601, 0.24999982561095813, 0.7849651477267724, 0.40450279943881134, 0.6137062126291012, -0.5724314430588369, 0.49498808243247494, 0.0019297974426112918, 0.22300462646561692, -0.3417331989379858, 0.1275069459089364, -0.23883742575743933, -0.3839793843645204, 0.549473350974221, 0.040814972387245074, 0.7653864752163864, 0.8866068075128529, 0.8269448471682256, 0.6919572681002077, 0.09598584740679728, 0.921427860837215, -0.4363056984528748, 0.13090585233804364, 0.708073706544875, 0.5953673442120604, 0.09509014818593642, -0.4265362405070112, 0.2169283752033758, -0.4984572915678237, -0.2528451566092468, 0.08119429053081831, 0.23973280995637058, 0.5570725509248531, -0.6683544103342967, -0.02515342308285237, -0.12638098881700305, 0.42675405509515674, 0.10121826279463625, -0.5700794902937782, -0.38939614448640203, 0.46414246315263463, 0.662046710981531, 0.6381008654279617, 0.23872062239361602, 0.24465186146853457, -0.40249503600795367, -0.10078345978288639, 1.060030149286084, 0.7488019569243001, -0.03162831609870871, 0.6036520491736346, 0.8900372542109308, 0.40528001022145993, 0.5669552804252124, -0.27463813164370005, 1.025321115737968, -0.37329350355500024, 0.6722832366601202, -0.23748233613720784, -0.328051945416493, -0.12664039057205045, 0.163902767064797, -0.40253376846929073, 0.9210944649201596, -0.3160694603337302, 0.49356261972143056, -0.4744664601030904, 0.5437106356516351, 0.8096130028026692, -0.6172332210395521, 0.3666784091668318, -0.36527871113721005, -0.07010628425274437, 0.7174606455400276, 0.6532250811403223, 0.29157261562178366, 0.2212330253379633, 0.5374177752148195, 0.44471746141975255, 0.47152389058042293, 0.6742885813462738, 0.6896349026977713, -0.1694959403716835, -0.158979629866297, -0.1711557573059312, 0.3571278338151201, -0.5769106371591088, 0.4057417900374254, -0.4360539225120356, 0.00817004076966052, -0.3328595135185971, -0.19911487236295916, -0.19863427705176354, -0.486249852261357, 0.7009224597105804, 0.8202303548674952, 0.6964627164785605, -0.20106864327115975, 1.055221255419995, 0.05914098492307132, 1.068621936007729, -0.23393265974914823, 0.26358525411585665, 0.995160530592945, 0.6307986637140104, 0.28999256891276015, 0.2900083101499388, 1.0503355163432597, 0.9487101716012722, -0.28599311361127777, -0.26332583701466633, 0.7965550564269417], \"yaxis\": \"y\"}],\n",
              "                        {\"coloraxis\": {\"colorbar\": {\"title\": {\"text\": \"color\"}}, \"colorscale\": [[0.0, \"#0d0887\"], [0.1111111111111111, \"#46039f\"], [0.2222222222222222, \"#7201a8\"], [0.3333333333333333, \"#9c179e\"], [0.4444444444444444, \"#bd3786\"], [0.5555555555555556, \"#d8576b\"], [0.6666666666666666, \"#ed7953\"], [0.7777777777777778, \"#fb9f3a\"], [0.8888888888888888, \"#fdca26\"], [1.0, \"#f0f921\"]]}, \"height\": 500, \"legend\": {\"tracegroupgap\": 0}, \"margin\": {\"t\": 60}, \"template\": {\"data\": {\"bar\": [{\"error_x\": {\"color\": \"#2a3f5f\"}, \"error_y\": {\"color\": \"#2a3f5f\"}, \"marker\": {\"line\": {\"color\": \"#E5ECF6\", \"width\": 0.5}}, \"type\": \"bar\"}], \"barpolar\": [{\"marker\": {\"line\": {\"color\": \"#E5ECF6\", \"width\": 0.5}}, \"type\": \"barpolar\"}], \"carpet\": [{\"aaxis\": {\"endlinecolor\": \"#2a3f5f\", \"gridcolor\": \"white\", \"linecolor\": \"white\", \"minorgridcolor\": \"white\", \"startlinecolor\": \"#2a3f5f\"}, \"baxis\": {\"endlinecolor\": \"#2a3f5f\", \"gridcolor\": \"white\", \"linecolor\": \"white\", \"minorgridcolor\": \"white\", \"startlinecolor\": \"#2a3f5f\"}, \"type\": \"carpet\"}], \"choropleth\": [{\"colorbar\": {\"outlinewidth\": 0, \"ticks\": \"\"}, \"type\": \"choropleth\"}], \"contour\": [{\"colorbar\": {\"outlinewidth\": 0, \"ticks\": \"\"}, \"colorscale\": [[0.0, \"#0d0887\"], [0.1111111111111111, \"#46039f\"], [0.2222222222222222, \"#7201a8\"], [0.3333333333333333, \"#9c179e\"], [0.4444444444444444, \"#bd3786\"], [0.5555555555555556, \"#d8576b\"], [0.6666666666666666, \"#ed7953\"], [0.7777777777777778, \"#fb9f3a\"], [0.8888888888888888, \"#fdca26\"], [1.0, \"#f0f921\"]], \"type\": \"contour\"}], \"contourcarpet\": [{\"colorbar\": {\"outlinewidth\": 0, \"ticks\": \"\"}, \"type\": \"contourcarpet\"}], \"heatmap\": [{\"colorbar\": {\"outlinewidth\": 0, \"ticks\": \"\"}, \"colorscale\": [[0.0, \"#0d0887\"], [0.1111111111111111, \"#46039f\"], [0.2222222222222222, \"#7201a8\"], [0.3333333333333333, \"#9c179e\"], [0.4444444444444444, \"#bd3786\"], [0.5555555555555556, \"#d8576b\"], [0.6666666666666666, \"#ed7953\"], [0.7777777777777778, \"#fb9f3a\"], [0.8888888888888888, \"#fdca26\"], [1.0, \"#f0f921\"]], \"type\": \"heatmap\"}], \"heatmapgl\": [{\"colorbar\": {\"outlinewidth\": 0, \"ticks\": \"\"}, \"colorscale\": [[0.0, \"#0d0887\"], [0.1111111111111111, \"#46039f\"], [0.2222222222222222, \"#7201a8\"], [0.3333333333333333, \"#9c179e\"], [0.4444444444444444, \"#bd3786\"], [0.5555555555555556, \"#d8576b\"], [0.6666666666666666, \"#ed7953\"], [0.7777777777777778, \"#fb9f3a\"], [0.8888888888888888, \"#fdca26\"], [1.0, \"#f0f921\"]], \"type\": \"heatmapgl\"}], \"histogram\": [{\"marker\": {\"colorbar\": {\"outlinewidth\": 0, \"ticks\": \"\"}}, \"type\": \"histogram\"}], \"histogram2d\": [{\"colorbar\": {\"outlinewidth\": 0, \"ticks\": \"\"}, \"colorscale\": [[0.0, \"#0d0887\"], [0.1111111111111111, \"#46039f\"], [0.2222222222222222, \"#7201a8\"], [0.3333333333333333, \"#9c179e\"], [0.4444444444444444, \"#bd3786\"], [0.5555555555555556, \"#d8576b\"], [0.6666666666666666, \"#ed7953\"], [0.7777777777777778, \"#fb9f3a\"], [0.8888888888888888, \"#fdca26\"], [1.0, \"#f0f921\"]], \"type\": \"histogram2d\"}], \"histogram2dcontour\": [{\"colorbar\": {\"outlinewidth\": 0, \"ticks\": \"\"}, \"colorscale\": [[0.0, \"#0d0887\"], [0.1111111111111111, \"#46039f\"], [0.2222222222222222, \"#7201a8\"], [0.3333333333333333, \"#9c179e\"], [0.4444444444444444, \"#bd3786\"], [0.5555555555555556, \"#d8576b\"], [0.6666666666666666, \"#ed7953\"], [0.7777777777777778, \"#fb9f3a\"], [0.8888888888888888, \"#fdca26\"], [1.0, \"#f0f921\"]], \"type\": \"histogram2dcontour\"}], \"mesh3d\": [{\"colorbar\": {\"outlinewidth\": 0, \"ticks\": \"\"}, \"type\": \"mesh3d\"}], \"parcoords\": [{\"line\": {\"colorbar\": {\"outlinewidth\": 0, \"ticks\": \"\"}}, \"type\": \"parcoords\"}], \"pie\": [{\"automargin\": true, \"type\": \"pie\"}], \"scatter\": [{\"marker\": {\"colorbar\": {\"outlinewidth\": 0, \"ticks\": \"\"}}, \"type\": \"scatter\"}], \"scatter3d\": [{\"line\": {\"colorbar\": {\"outlinewidth\": 0, \"ticks\": \"\"}}, \"marker\": {\"colorbar\": {\"outlinewidth\": 0, \"ticks\": \"\"}}, \"type\": \"scatter3d\"}], \"scattercarpet\": [{\"marker\": {\"colorbar\": {\"outlinewidth\": 0, \"ticks\": \"\"}}, \"type\": \"scattercarpet\"}], \"scattergeo\": [{\"marker\": {\"colorbar\": {\"outlinewidth\": 0, \"ticks\": \"\"}}, \"type\": \"scattergeo\"}], \"scattergl\": [{\"marker\": {\"colorbar\": {\"outlinewidth\": 0, \"ticks\": \"\"}}, \"type\": \"scattergl\"}], \"scattermapbox\": [{\"marker\": {\"colorbar\": {\"outlinewidth\": 0, \"ticks\": \"\"}}, \"type\": \"scattermapbox\"}], \"scatterpolar\": [{\"marker\": {\"colorbar\": {\"outlinewidth\": 0, \"ticks\": \"\"}}, \"type\": \"scatterpolar\"}], \"scatterpolargl\": [{\"marker\": {\"colorbar\": {\"outlinewidth\": 0, \"ticks\": \"\"}}, \"type\": \"scatterpolargl\"}], \"scatterternary\": [{\"marker\": {\"colorbar\": {\"outlinewidth\": 0, \"ticks\": \"\"}}, \"type\": \"scatterternary\"}], \"surface\": [{\"colorbar\": {\"outlinewidth\": 0, \"ticks\": \"\"}, \"colorscale\": [[0.0, \"#0d0887\"], [0.1111111111111111, \"#46039f\"], [0.2222222222222222, \"#7201a8\"], [0.3333333333333333, \"#9c179e\"], [0.4444444444444444, \"#bd3786\"], [0.5555555555555556, \"#d8576b\"], [0.6666666666666666, \"#ed7953\"], [0.7777777777777778, \"#fb9f3a\"], [0.8888888888888888, \"#fdca26\"], [1.0, \"#f0f921\"]], \"type\": \"surface\"}], \"table\": [{\"cells\": {\"fill\": {\"color\": \"#EBF0F8\"}, \"line\": {\"color\": \"white\"}}, \"header\": {\"fill\": {\"color\": \"#C8D4E3\"}, \"line\": {\"color\": \"white\"}}, \"type\": \"table\"}]}, \"layout\": {\"annotationdefaults\": {\"arrowcolor\": \"#2a3f5f\", \"arrowhead\": 0, \"arrowwidth\": 1}, \"coloraxis\": {\"colorbar\": {\"outlinewidth\": 0, \"ticks\": \"\"}}, \"colorscale\": {\"diverging\": [[0, \"#8e0152\"], [0.1, \"#c51b7d\"], [0.2, \"#de77ae\"], [0.3, \"#f1b6da\"], [0.4, \"#fde0ef\"], [0.5, \"#f7f7f7\"], [0.6, \"#e6f5d0\"], [0.7, \"#b8e186\"], [0.8, \"#7fbc41\"], [0.9, \"#4d9221\"], [1, \"#276419\"]], \"sequential\": [[0.0, \"#0d0887\"], [0.1111111111111111, \"#46039f\"], [0.2222222222222222, \"#7201a8\"], [0.3333333333333333, \"#9c179e\"], [0.4444444444444444, \"#bd3786\"], [0.5555555555555556, \"#d8576b\"], [0.6666666666666666, \"#ed7953\"], [0.7777777777777778, \"#fb9f3a\"], [0.8888888888888888, \"#fdca26\"], [1.0, \"#f0f921\"]], \"sequentialminus\": [[0.0, \"#0d0887\"], [0.1111111111111111, \"#46039f\"], [0.2222222222222222, \"#7201a8\"], [0.3333333333333333, \"#9c179e\"], [0.4444444444444444, \"#bd3786\"], [0.5555555555555556, \"#d8576b\"], [0.6666666666666666, \"#ed7953\"], [0.7777777777777778, \"#fb9f3a\"], [0.8888888888888888, \"#fdca26\"], [1.0, \"#f0f921\"]]}, \"colorway\": [\"#636efa\", \"#EF553B\", \"#00cc96\", \"#ab63fa\", \"#FFA15A\", \"#19d3f3\", \"#FF6692\", \"#B6E880\", \"#FF97FF\", \"#FECB52\"], \"font\": {\"color\": \"#2a3f5f\"}, \"geo\": {\"bgcolor\": \"white\", \"lakecolor\": \"white\", \"landcolor\": \"#E5ECF6\", \"showlakes\": true, \"showland\": true, \"subunitcolor\": \"white\"}, \"hoverlabel\": {\"align\": \"left\"}, \"hovermode\": \"closest\", \"mapbox\": {\"style\": \"light\"}, \"paper_bgcolor\": \"white\", \"plot_bgcolor\": \"#E5ECF6\", \"polar\": {\"angularaxis\": {\"gridcolor\": \"white\", \"linecolor\": \"white\", \"ticks\": \"\"}, \"bgcolor\": \"#E5ECF6\", \"radialaxis\": {\"gridcolor\": \"white\", \"linecolor\": \"white\", \"ticks\": \"\"}}, \"scene\": {\"xaxis\": {\"backgroundcolor\": \"#E5ECF6\", \"gridcolor\": \"white\", \"gridwidth\": 2, \"linecolor\": \"white\", \"showbackground\": true, \"ticks\": \"\", \"zerolinecolor\": \"white\"}, \"yaxis\": {\"backgroundcolor\": \"#E5ECF6\", \"gridcolor\": \"white\", \"gridwidth\": 2, \"linecolor\": \"white\", \"showbackground\": true, \"ticks\": \"\", \"zerolinecolor\": \"white\"}, \"zaxis\": {\"backgroundcolor\": \"#E5ECF6\", \"gridcolor\": \"white\", \"gridwidth\": 2, \"linecolor\": \"white\", \"showbackground\": true, \"ticks\": \"\", \"zerolinecolor\": \"white\"}}, \"shapedefaults\": {\"line\": {\"color\": \"#2a3f5f\"}}, \"ternary\": {\"aaxis\": {\"gridcolor\": \"white\", \"linecolor\": \"white\", \"ticks\": \"\"}, \"baxis\": {\"gridcolor\": \"white\", \"linecolor\": \"white\", \"ticks\": \"\"}, \"bgcolor\": \"#E5ECF6\", \"caxis\": {\"gridcolor\": \"white\", \"linecolor\": \"white\", \"ticks\": \"\"}}, \"title\": {\"x\": 0.05}, \"xaxis\": {\"automargin\": true, \"gridcolor\": \"white\", \"linecolor\": \"white\", \"ticks\": \"\", \"title\": {\"standoff\": 15}, \"zerolinecolor\": \"white\", \"zerolinewidth\": 2}, \"yaxis\": {\"automargin\": true, \"gridcolor\": \"white\", \"linecolor\": \"white\", \"ticks\": \"\", \"title\": {\"standoff\": 15}, \"zerolinecolor\": \"white\", \"zerolinewidth\": 2}}}, \"width\": 600, \"xaxis\": {\"anchor\": \"y\", \"domain\": [0.0, 1.0], \"title\": {\"text\": \"x\"}}, \"yaxis\": {\"anchor\": \"x\", \"domain\": [0.0, 1.0], \"title\": {\"text\": \"y\"}}},\n",
              "                        {\"responsive\": true}\n",
              "                    ).then(function(){\n",
              "                            \n",
              "var gd = document.getElementById('bd5f4524-e83c-47f1-9299-e26db423e0bb');\n",
              "var x = new MutationObserver(function (mutations, observer) {{\n",
              "        var display = window.getComputedStyle(gd).display;\n",
              "        if (!display || display === 'none') {{\n",
              "            console.log([gd, 'removed!']);\n",
              "            Plotly.purge(gd);\n",
              "            observer.disconnect();\n",
              "        }}\n",
              "}});\n",
              "\n",
              "// Listen for the removal of the full notebook cells\n",
              "var notebookContainer = gd.closest('#notebook-container');\n",
              "if (notebookContainer) {{\n",
              "    x.observe(notebookContainer, {childList: true});\n",
              "}}\n",
              "\n",
              "// Listen for the clearing of the current output cell\n",
              "var outputEl = gd.closest('.output');\n",
              "if (outputEl) {{\n",
              "    x.observe(outputEl, {childList: true});\n",
              "}}\n",
              "\n",
              "                        })\n",
              "                };\n",
              "                \n",
              "            </script>\n",
              "        </div>\n",
              "</body>\n",
              "</html>"
            ]
          },
          "metadata": {
            "tags": []
          }
        },
        {
          "output_type": "stream",
          "text": [
            "eps : 0.2 ->> label수 : 3\n"
          ],
          "name": "stdout"
        },
        {
          "output_type": "display_data",
          "data": {
            "text/html": [
              "<html>\n",
              "<head><meta charset=\"utf-8\" /></head>\n",
              "<body>\n",
              "    <div>\n",
              "            <script src=\"https://cdnjs.cloudflare.com/ajax/libs/mathjax/2.7.5/MathJax.js?config=TeX-AMS-MML_SVG\"></script><script type=\"text/javascript\">if (window.MathJax) {MathJax.Hub.Config({SVG: {font: \"STIX-Web\"}});}</script>\n",
              "                <script type=\"text/javascript\">window.PlotlyConfig = {MathJaxConfig: 'local'};</script>\n",
              "        <script src=\"https://cdn.plot.ly/plotly-latest.min.js\"></script>    \n",
              "            <div id=\"79e008a4-8d0a-4bfc-9f4c-738ed278f0c1\" class=\"plotly-graph-div\" style=\"height:500px; width:600px;\"></div>\n",
              "            <script type=\"text/javascript\">\n",
              "                \n",
              "                    window.PLOTLYENV=window.PLOTLYENV || {};\n",
              "                    \n",
              "                if (document.getElementById(\"79e008a4-8d0a-4bfc-9f4c-738ed278f0c1\")) {\n",
              "                    Plotly.newPlot(\n",
              "                        '79e008a4-8d0a-4bfc-9f4c-738ed278f0c1',\n",
              "                        [{\"hoverlabel\": {\"namelength\": 0}, \"hovertemplate\": \"x=%{x}<br>y=%{y}<br>color=%{marker.color}\", \"legendgroup\": \"\", \"marker\": {\"color\": [0, 0, 1, 0, 1, 1, 0, 1, 0, 1, 1, 0, 1, 1, 1, 1, 0, 0, 0, 0, 1, 1, 0, 0, 1, 0, 1, 0, 0, 1, 0, 1, 0, 1, 0, 1, 1, 0, 1, 1, 0, 1, 1, 1, 1, 0, 1, 1, 1, 1, 1, 0, 0, 1, 0, 1, 0, 1, 1, 1, 1, 0, 0, 1, 1, 1, 0, 0, -1, 1, 0, 1, 1, 1, 0, 0, 0, 0, 1, 0, 1, 1, 0, 0, 0, 1, 0, 0, 1, 1, 0, 0, 1, 0, 1, 0, 0, 0, -1, 1, 0, 1, 1, 1, 1, 1, 1, 1, 0, 0, 1, 0, 0, 0, 0, 1, 1, 0, 0, 0, 1, 1, 1, 0, 1, 1, 0, 0, 1, 0, 0, 1, 0, 1, 1, 1, 0, 0, 0, 0, 1, 1, 0, 1, 1, 0, 1, 1, 1, 0, 1, 0, 0, 1, 1, 1, 1, 1, 0, 0, 0, 0, 0, 1, 0, 1, 0, 1, 1, 0, 1, 1, 1, 1, 1, 0, 1, 0, 1, 1, 1, 1, 1, 1, 1, 1, 0, 0, 0, 1, 1, 1, 0, 1, 0, 0, 0, 0, 0, 0, 1, 0, 0, 0, 0, 1, 1, 1, 0, 1, 0, 1, 1, 0, 0, 1, 0, 0, 0, 0, 0, 1, 0, 1, 1, -1, 1, 0, 1, 0, 1, 0, 0, 1, 1, 0, 0, 0, 0, 0, 0, 1, 1, 0, 1, 1, 0, 1, 0, 0, 1, 0, 1, 0, 1, 0, 1, 1, 0, 1, 1, 1, 1, 1, 1, 1, 0, 0, 0, 1, 1, 0, 0, 0, 1, 1, 0, 0, 0, 0, 1, 0, 0, 1, 0, 0, 0, 1, 1, 0, 1, 1, 1, 0, 0, 0, 1, 0, 0, 0, 0, 1, 0, 1, 1, 1, 1, 1, 1, 0, 1, 1, 1, 0, 0, 0, 0, 0, 0, 0, 0, 0, 0, 0, 0, 0, 0, 0, 0, 1, 1, 0, 1, 0, 0, 1, 1, 1, 1, 1, 0, 1, 0, 1, 0, 1, 0, 0, 0, 1, 0, 1, 0, 1, 0, 0, 1, 0, 0, 0, 0, 1, 1, 1, 1, 0, 1, 1, 1, 1, 0, 0, 0, 1, 0, 1, 0, 1, 0, 0, 0, 0, 1, 1, 1, 0, 1, 0, 1, 0, 0, 1, 0, 1, 1, 1, 1, 0, 0, 1], \"coloraxis\": \"coloraxis\", \"symbol\": \"circle\"}, \"mode\": \"markers\", \"name\": \"\", \"showlegend\": false, \"type\": \"scatter\", \"x\": [-0.04405185436455387, 0.6922304485774229, 0.8281977981485314, 0.17881242677930137, 0.09171539700050081, 0.40156045922972966, 1.3757911943525358, 0.07314713993172753, 0.45860466022215285, -0.4178031928161623, 0.9579878024190793, 1.8524970559962026, 0.5552516585363515, 0.3022727378193304, -0.5247965363754132, 0.8580279728331913, 0.6189365495878882, 1.8927960119108467, 0.11756338555092069, 2.169029362678773, 0.404559599307745, 1.0893364137634811, 2.0669459262896903, 0.5877990025461418, 1.0446289348001918, 2.0490213676870517, -0.29381359169325855, 0.02237367735743013, 0.453000976269902, 0.052039835716421845, 2.1534991209951535, -1.119340367715941, 0.6240688008428807, 0.6746685269538756, 0.11590511420338562, -0.25247367792137004, -0.043682834885529404, 1.7828070067277453, -0.834513603902822, -0.5049155905696417, 1.806489808286964, 0.7605778678586781, 0.29985442632480913, 0.8905252470097118, 0.11826978657090345, 2.0034066514848714, -0.7130367234824387, -1.0452223143606545, 0.9604818564529551, -1.0610029020734704, 0.9290715732995999, 1.3419458957279273, 1.5452174341489513, 0.3985161871037338, 1.764957168546406, 0.9224449677324292, 0.033462363099337374, -0.8919029408079996, 1.0225793504988576, -0.9710888438761187, -0.4791414581275831, 0.8408477423017393, 0.2964391408080224, 0.4919544089308461, 0.0410776773647474, 0.9666350914963895, 1.6831546515793194, 0.43826348511034413, 1.740452092301724, 0.21658112980549674, 1.3012044573186852, -0.64388146241787, 0.9496985380360062, 0.6683706670351148, 2.021650614049808, 0.16473890548509473, -0.009247095964754717, 1.7690167227990816, -1.0104913674247578, 0.702434617830942, 0.9493893492279155, 0.8953640992371084, -0.15095907350779758, 0.28341059943157637, 0.686247114883507, 0.42168660618408793, 0.4135899135206339, 1.0577396586654602, 0.0034514995502456514, 0.2647671231050478, 0.06324742529253595, 1.5658002856216526, -0.2559695512442949, 0.2090468050023805, -1.0197784695319896, 1.1529542320186548, 1.8320855582539974, 1.9886682809991771, -0.16419264277805473, 0.3254160858230126, 0.20654495134218478, -0.02532499674177502, 1.0832306132818155, 0.5278969205172018, -0.7422978282856604, 1.0762354226047843, 0.9804704487371622, -0.7609520671028389, 1.7419705803807746, 1.8949012493453714, -0.49651016735263764, 2.0281830266713725, 0.7295586309939159, 2.0165730120568788, 1.0090524120850748, 0.8181446341926059, 0.47919081281108183, 0.8291064621354819, 1.1864304003533328, 0.7588546454896044, -0.9246852132955579, -0.19973768447083562, 0.940616481696544, 1.8498418744289271, 1.0076808280989389, -0.966543565363345, 1.6638459329092838, 1.6872832037570835, -0.9976923228984038, 0.259718542404861, 1.260522773047423, -0.5812357980233047, 0.5687897887080057, -0.9002692152319717, -0.25582248118023304, -1.1138631338303022, 0.13234844337348306, 0.5078751167554956, -0.11594691159512407, 1.0831469058632226, 0.9771117727121236, -0.32661461873026315, 0.9063697767081207, -0.6203513588550882, -1.1511863158724789, 0.7803374476056197, 0.5955667439508922, -0.1308958348924223, -0.8799966733224986, 1.922550311349182, 1.1750337382650022, 1.5611843539210797, 0.4481765327303048, -0.7585085272396329, 1.051622752860439, -0.8092021378321275, -0.07657329479524141, 0.3643485289920689, 1.3457410648452206, 1.9250783905350084, 2.128778248212025, 0.0706262481600407, 1.0274744413540133, -0.9039386882590633, 1.792856509913606, 0.23340051836624431, 2.0071012074483465, -0.7848715472141286, -0.6052644989118215, 0.05187296202004671, 0.18346525575039668, 0.4357050503972449, -0.19161096380566223, 0.23246382980226774, -0.6089928003474744, 1.1736206804738114, -0.14663398900921182, 0.2432922979322884, 0.2481370154715898, 1.056272964342253, 0.7460124466135112, -0.6474151293600467, -0.2998246700886737, -0.867194684720239, 0.45564543502722626, -1.0050512879881874, 1.3365798384645975, -0.17983124228592573, 1.498489509539917, -0.6805626396188176, -0.6490735256969274, -0.536868509390947, 1.975693655313992, 0.09373483171858374, 1.3769137547348915, 1.6728813869324226, 1.6448138852597582, 1.6705417974900587, 1.457852249627546, 0.976715110638505, -0.9263843640116586, -0.1223731313381849, 0.796228522033799, 0.15475677041477062, 0.7888519002662029, -0.5405845524825568, 0.9305692278235662, 0.9784119369643645, 1.4758331265836486, -1.0200230889843025, 0.04061773858849012, -0.3154849918885533, -1.0223978310048576, 1.3533832696767325, 1.0366465155314608, -0.04510451879071933, 1.8936032702640215, 0.5943858451752875, 1.885006370759624, 0.9389125135270914, 1.7893976221378944, -0.994564259030683, 0.3603982008922027, -0.4408604389520875, -0.5151095273058485, -1.0563766442123035, -1.0351547981205815, 1.9371282674993187, 0.9166357854923943, 0.0083564707053621, -0.12004194518298957, 0.06357500148967771, 0.4229368998509608, 0.9981936878290952, -0.30368999098948596, 1.874315243153208, 0.07222261812178199, 1.6470491039434203, 1.9686415215524833, 1.7843131131506498, 2.0873045148599823, -0.39790391370032724, 0.49229061778845873, 1.3148496627000024, 0.8494651045710285, 0.19481701963916617, 1.9508672322774856, -0.10148376708261908, 0.2825817386035496, 0.938344700184442, -0.33440741651656025, 0.15227499084567703, -0.9103538545522244, 0.7461365894557511, 0.7980254495229531, 1.9701048704314503, 0.652791628022177, 0.15095217091376792, 0.2049831993182284, -1.0351508911672802, -0.8495786602831639, 1.0732469394954367, 0.922355666831577, 1.179959994061442, -0.9293446879170691, -0.6635954598691399, 1.325082692179819, 0.5568693550491782, 0.07750159554668323, 0.12508148690837878, 0.7450034565443301, 0.18786203305535706, 1.0060978915552157, 1.0993371067091071, -0.9080886149685693, 0.5858015888336551, 1.0604130877330895, 0.08128104436835105, 0.2621963091845073, 1.4462645794969085, 1.0643805747202955, 0.2791274315012009, 1.9261906290309088, 0.07587637693033553, 0.2185468890445362, 1.6237768965846349, 0.031333571273604, -1.0991324877898918, 0.05943075792034612, 0.008629185751882248, 0.7067448851525836, 0.8727925257301243, 1.0098726006114973, 0.5993675602813255, 0.1018886995222481, 1.525369983953064, 1.054941483052359, 1.2136000567339893, 0.23308716959053433, 0.15132759806894286, 0.7976359593737035, -0.808584190274535, 1.961108543928387, -0.573486935719889, 0.3974880824749839, -0.6121576257879583, -0.40620203173039965, 0.8059004682255754, 0.577010942050867, 0.8487619173221225, 0.95116813790414, -0.8431589135514671, 0.8345576822705425, 1.8916875532375048, 1.3528302565382921, 0.14554876861527338, 0.74380252328883, 1.6283256315766768, 0.20872539439732596, 0.01575435537698975, 0.08103530943841337, 0.9398855834587191, 1.8681586907315795, 0.2982728817544293, 2.1277507888341294, 1.846066968959805, 0.905843066983084, 0.4764277360194793, 0.05079807673102646, -0.9159944605722037, 0.7547580557250606, 0.09090431203597911, -0.9855961407261281, 1.1645508833612985, 0.45777725614298304, -0.0457775363766378, 0.7800780371174919, 0.9360900798447133, 0.6689785958971225, 0.33478569722706114, 0.0225989916723915, 0.8552106280976605, 0.40095040462607473, 0.2905170667683744, 1.5057375454140596, 0.6567229379131222, 1.5589905162770326, 0.4463256730065187, 0.3209014155840095, 0.8604722047896834, 1.3193048015154476, 0.23241761555025903, 0.6689344099794808, -0.9368801423457124, 1.6369396239440042, 1.8250086156767336, -0.4044565529876215, 1.0911356663298046, 1.9771635326594774, 1.2487446961310449, 0.2680686577935133, 0.6096776291794008, 0.519633282205532, -0.8067740153047347, -1.0655947175512142, 2.0397784183254832, -1.0984313739240208, -1.0115042991719052, 0.593417605519658, 0.6893488089833144, 1.5811433931248629, 0.13264402366925823, 0.17583821874143654, 0.7968700476436335, 1.2559789044345149, -0.72730191303691, 0.6671056801212313, -1.0039351561663472, 0.803862955043394, 1.755527350459414, 0.4722598345644735, 1.1014506588758581, -0.8515613634567728, -0.344768061166429, -0.6240556307959167, 1.668619917195012, 0.09982365388048871, 1.9207005824962247, 0.21711474696683666, 1.6106948141690762, 0.06152089034007621, -0.3183138362478756, 2.051806694384509, 1.1621430615794484, -0.7693711814576643, 0.42481712855727227, 0.06612998562530321, 0.7241611107656446, 1.929872146707251, -0.0747996734498523], \"xaxis\": \"x\", \"y\": [0.43607778101760863, -0.4011194632440612, 0.5415218892178506, 0.26886231388723847, 0.9461179874453445, 0.9268166356399812, -0.4513290871112877, 0.9168823205037456, -0.3476620899215156, 0.9969302258350214, 0.12114286887719278, 0.1599189780891384, 0.965685772429867, 0.9301292941685252, 0.7897125490862673, 0.6755129042792798, -0.6523278952709434, 0.158747858462253, 0.10550256974316223, 0.32216590687738944, 0.95239331683874, 0.28773650388840166, 0.5549359778342985, -0.4275752586735255, 0.11362423171192629, 0.5587208679105828, 0.8871058855450891, -0.011244065183244362, -0.37282399872071736, 0.8683552101965917, 0.3387743351635715, 0.012114675029737565, -0.3249173888665629, 0.7648464577460884, -0.03455360646626823, 1.0157254753141933, 0.789928213280756, -0.23043958881624316, 0.5482327588836816, 0.8158505869016326, 0.25595173111671626, 0.8490047684040152, 0.7977673987470991, 0.7099043476407715, 0.8778058534457707, 0.2223803368419529, 0.9233940786148171, 0.2789271744465052, 0.2598976348965632, 0.4259623231575948, 0.7044894326221837, -0.43467545128738916, -0.2025606431151623, 0.7578228472730179, 0.12339506639239467, 0.6012696775757825, 0.19067157702276952, 0.4960748810175608, 0.36066014634971644, 0.6405981687615638, 1.0093246672652925, -0.683810686127401, -0.41241573507105345, 0.9901126903122439, 1.0533222871839638, 0.5834251609429104, -0.3177480119227779, -0.38340484123539237, 0.5354200429219066, 0.9736687007203508, -0.4195693110355442, 0.8241928619908845, 0.023234430827277622, 0.8047279428402697, 0.3481653007891365, -0.18751597646936197, 0.03742781347292015, 0.20281525401323908, 0.26766467034661684, -0.5634133844961742, 0.042395034693238194, 0.12029412831425107, 0.5363974171515313, -0.1450026982659779, -0.40495076112290174, 0.8574857282534363, -0.2320469450349981, -0.5010974292201972, 0.9232315981434537, 0.9512736717500212, 0.013266377828641828, -0.15587107312135612, 0.9769812759008681, 0.24958736254698483, 0.4310704881654892, -0.5388390359189088, 0.007344939439863404, 0.17873633391097563, -0.10434745860853986, 1.0154113850377267, 0.07817393049748056, 0.947301799237025, 0.30243413363940314, 0.9436475009919664, 0.688066258718179, 0.31552877308582405, 0.25009378313745445, 1.0259518073320897, -0.08661529391898053, -0.18713179029828392, 1.020847176615835, 0.37029889398262206, -0.37240717905441106, 0.15904904573753528, -0.7054738367924506, 0.7016062224228446, 0.8667912886886442, -0.5651271337464877, -0.519764696461732, -0.45614703155803, 0.6659339268772327, 1.0933060138877637, 0.25749074749584544, 0.006391413083718128, 0.34117127567420824, 0.28801758688468887, -0.21466511695958101, -0.390961809823812, 0.48813212785537713, -0.14858140113014096, -0.4766645861004665, 0.6748887284276055, -0.2677047542484201, 0.2619201140227827, 1.0180954146828698, -0.08705661343128906, 0.00912932714886762, -0.48441334225022337, 0.24031371708309332, -0.7040686518936875, 0.40745819890591284, 0.7493900295321627, -0.3263153064040736, 0.8387098635497955, -0.06624355977916652, -0.3862360517512149, 0.6386728106302391, 0.9641399984129664, 0.283554573861271, -0.023703499695742758, 0.08712904314172767, -0.2802004578206971, -0.16445885394768184, 0.748141806207555, 0.07573563016822103, 0.13687902584671832, 1.0123246744592231, 0.9587332861968995, -0.6347527000227957, 0.2703337265054317, 0.3285139273519466, 0.27277848784097924, -0.5378165485798784, 0.4860442990090752, -0.09965088293999937, 0.9718404298026123, 0.14070793064631937, 0.5879530835073661, 0.7955689362691735, 0.11809294944569163, 0.863886260883799, 0.947112468815042, 1.0144581477653083, 0.958636539202684, 0.8538968611679508, -0.26267904632598416, 1.098915276229116, -0.2985209827634067, 1.0221280706067108, 0.26708618818460234, 0.6027220092407295, 0.8686578241100799, 1.0958782230964785, 0.3372444433127365, 0.8287075193222752, 0.19988054900735763, -0.4000759499004397, 0.27210742336973803, -0.5554431740207553, 0.08132969177833893, 0.8815049333413835, 0.9423719015542635, 0.22898137437768737, 0.9093489420473164, -0.3990335438365677, -0.28120663796327605, -0.42347286188539957, -0.1316839261626955, -0.22512481834440223, -0.5487601936944003, 0.21098414319755895, 0.34272142754523316, -0.6021366375822279, 0.25817568609572544, -0.5251206254974262, 0.9181117639438922, 0.5398249074259076, 0.25352612158237964, -0.42390792934014865, 0.22748717279219446, 0.19092611177757238, 1.0083104690182787, 0.4011067930232193, -0.47274322766457466, -0.4985476580125366, 0.7991491020390376, 0.14287399006123414, -0.528630928174813, 0.10420737924262266, -0.5135540452630449, -0.26387131943612496, 0.6713911383163779, -0.12579009793677248, 0.7384652081800833, 0.8471182066753098, -0.3568205299359881, 0.05539817597695543, 0.3675642914202532, 0.12373202160019528, 0.5320457749816218, 0.7527784391323216, -0.07375254500638109, -0.03656097531307502, 0.21096138080488983, 1.0459161417121352, -0.05318329701654417, 0.13627157664599823, -0.16757444093230295, 0.10291719279716784, -0.1520068909668203, 0.28530735074108815, 0.982030294351673, 0.8693150287473763, -0.44725774744016616, 0.5435623850119276, 1.0914306332660042, 0.3900256213166849, 0.8954007189495029, -0.16532079284824672, -0.6327445340710072, 0.872152223717397, 0.02198057941962034, 0.11457950315220794, -0.5110142065757868, 0.7023762060734993, 0.06999163949717546, 0.8679890511284588, 0.9735792211196405, -0.37334478387442843, 0.2352123895851974, 0.5257157557542287, 0.0966570840121739, 0.3915777156856398, 0.40620951502008384, 0.5563002807945711, 0.9287284123514572, -0.4694932597705525, -0.28647303390245527, 0.2177456466088653, 1.0107712649386078, 0.7090896365466173, -0.20224818473919925, -0.6716737343647, -0.5255392480328201, 0.220602393102044, 0.5679185764822606, -0.664348506659051, 0.5655440149193591, -0.2605001465555224, -0.44476972105908064, 0.16411977735553548, -0.26884664450584866, -0.034101486858117314, 1.1367673776383977, 0.20383370529796563, -0.33120103482858776, 0.24276731510751107, 0.3998281611302054, 0.9409926919168601, 0.24999982561095813, 0.7849651477267724, 0.40450279943881134, 0.6137062126291012, -0.5724314430588369, 0.49498808243247494, 0.0019297974426112918, 0.22300462646561692, -0.3417331989379858, 0.1275069459089364, -0.23883742575743933, -0.3839793843645204, 0.549473350974221, 0.040814972387245074, 0.7653864752163864, 0.8866068075128529, 0.8269448471682256, 0.6919572681002077, 0.09598584740679728, 0.921427860837215, -0.4363056984528748, 0.13090585233804364, 0.708073706544875, 0.5953673442120604, 0.09509014818593642, -0.4265362405070112, 0.2169283752033758, -0.4984572915678237, -0.2528451566092468, 0.08119429053081831, 0.23973280995637058, 0.5570725509248531, -0.6683544103342967, -0.02515342308285237, -0.12638098881700305, 0.42675405509515674, 0.10121826279463625, -0.5700794902937782, -0.38939614448640203, 0.46414246315263463, 0.662046710981531, 0.6381008654279617, 0.23872062239361602, 0.24465186146853457, -0.40249503600795367, -0.10078345978288639, 1.060030149286084, 0.7488019569243001, -0.03162831609870871, 0.6036520491736346, 0.8900372542109308, 0.40528001022145993, 0.5669552804252124, -0.27463813164370005, 1.025321115737968, -0.37329350355500024, 0.6722832366601202, -0.23748233613720784, -0.328051945416493, -0.12664039057205045, 0.163902767064797, -0.40253376846929073, 0.9210944649201596, -0.3160694603337302, 0.49356261972143056, -0.4744664601030904, 0.5437106356516351, 0.8096130028026692, -0.6172332210395521, 0.3666784091668318, -0.36527871113721005, -0.07010628425274437, 0.7174606455400276, 0.6532250811403223, 0.29157261562178366, 0.2212330253379633, 0.5374177752148195, 0.44471746141975255, 0.47152389058042293, 0.6742885813462738, 0.6896349026977713, -0.1694959403716835, -0.158979629866297, -0.1711557573059312, 0.3571278338151201, -0.5769106371591088, 0.4057417900374254, -0.4360539225120356, 0.00817004076966052, -0.3328595135185971, -0.19911487236295916, -0.19863427705176354, -0.486249852261357, 0.7009224597105804, 0.8202303548674952, 0.6964627164785605, -0.20106864327115975, 1.055221255419995, 0.05914098492307132, 1.068621936007729, -0.23393265974914823, 0.26358525411585665, 0.995160530592945, 0.6307986637140104, 0.28999256891276015, 0.2900083101499388, 1.0503355163432597, 0.9487101716012722, -0.28599311361127777, -0.26332583701466633, 0.7965550564269417], \"yaxis\": \"y\"}],\n",
              "                        {\"coloraxis\": {\"colorbar\": {\"title\": {\"text\": \"color\"}}, \"colorscale\": [[0.0, \"#0d0887\"], [0.1111111111111111, \"#46039f\"], [0.2222222222222222, \"#7201a8\"], [0.3333333333333333, \"#9c179e\"], [0.4444444444444444, \"#bd3786\"], [0.5555555555555556, \"#d8576b\"], [0.6666666666666666, \"#ed7953\"], [0.7777777777777778, \"#fb9f3a\"], [0.8888888888888888, \"#fdca26\"], [1.0, \"#f0f921\"]]}, \"height\": 500, \"legend\": {\"tracegroupgap\": 0}, \"margin\": {\"t\": 60}, \"template\": {\"data\": {\"bar\": [{\"error_x\": {\"color\": \"#2a3f5f\"}, \"error_y\": {\"color\": \"#2a3f5f\"}, \"marker\": {\"line\": {\"color\": \"#E5ECF6\", \"width\": 0.5}}, \"type\": \"bar\"}], \"barpolar\": [{\"marker\": {\"line\": {\"color\": \"#E5ECF6\", \"width\": 0.5}}, \"type\": \"barpolar\"}], \"carpet\": [{\"aaxis\": {\"endlinecolor\": \"#2a3f5f\", \"gridcolor\": \"white\", \"linecolor\": \"white\", \"minorgridcolor\": \"white\", \"startlinecolor\": \"#2a3f5f\"}, \"baxis\": {\"endlinecolor\": \"#2a3f5f\", \"gridcolor\": \"white\", \"linecolor\": \"white\", \"minorgridcolor\": \"white\", \"startlinecolor\": \"#2a3f5f\"}, \"type\": \"carpet\"}], \"choropleth\": [{\"colorbar\": {\"outlinewidth\": 0, \"ticks\": \"\"}, \"type\": \"choropleth\"}], \"contour\": [{\"colorbar\": {\"outlinewidth\": 0, \"ticks\": \"\"}, \"colorscale\": [[0.0, \"#0d0887\"], [0.1111111111111111, \"#46039f\"], [0.2222222222222222, \"#7201a8\"], [0.3333333333333333, \"#9c179e\"], [0.4444444444444444, \"#bd3786\"], [0.5555555555555556, \"#d8576b\"], [0.6666666666666666, \"#ed7953\"], [0.7777777777777778, \"#fb9f3a\"], [0.8888888888888888, \"#fdca26\"], [1.0, \"#f0f921\"]], \"type\": \"contour\"}], \"contourcarpet\": [{\"colorbar\": {\"outlinewidth\": 0, \"ticks\": \"\"}, \"type\": \"contourcarpet\"}], \"heatmap\": [{\"colorbar\": {\"outlinewidth\": 0, \"ticks\": \"\"}, \"colorscale\": [[0.0, \"#0d0887\"], [0.1111111111111111, \"#46039f\"], [0.2222222222222222, \"#7201a8\"], [0.3333333333333333, \"#9c179e\"], [0.4444444444444444, \"#bd3786\"], [0.5555555555555556, \"#d8576b\"], [0.6666666666666666, \"#ed7953\"], [0.7777777777777778, \"#fb9f3a\"], [0.8888888888888888, \"#fdca26\"], [1.0, \"#f0f921\"]], \"type\": \"heatmap\"}], \"heatmapgl\": [{\"colorbar\": {\"outlinewidth\": 0, \"ticks\": \"\"}, \"colorscale\": [[0.0, \"#0d0887\"], [0.1111111111111111, \"#46039f\"], [0.2222222222222222, \"#7201a8\"], [0.3333333333333333, \"#9c179e\"], [0.4444444444444444, \"#bd3786\"], [0.5555555555555556, \"#d8576b\"], [0.6666666666666666, \"#ed7953\"], [0.7777777777777778, \"#fb9f3a\"], [0.8888888888888888, \"#fdca26\"], [1.0, \"#f0f921\"]], \"type\": \"heatmapgl\"}], \"histogram\": [{\"marker\": {\"colorbar\": {\"outlinewidth\": 0, \"ticks\": \"\"}}, \"type\": \"histogram\"}], \"histogram2d\": [{\"colorbar\": {\"outlinewidth\": 0, \"ticks\": \"\"}, \"colorscale\": [[0.0, \"#0d0887\"], [0.1111111111111111, \"#46039f\"], [0.2222222222222222, \"#7201a8\"], [0.3333333333333333, \"#9c179e\"], [0.4444444444444444, \"#bd3786\"], [0.5555555555555556, \"#d8576b\"], [0.6666666666666666, \"#ed7953\"], [0.7777777777777778, \"#fb9f3a\"], [0.8888888888888888, \"#fdca26\"], [1.0, \"#f0f921\"]], \"type\": \"histogram2d\"}], \"histogram2dcontour\": [{\"colorbar\": {\"outlinewidth\": 0, \"ticks\": \"\"}, \"colorscale\": [[0.0, \"#0d0887\"], [0.1111111111111111, \"#46039f\"], [0.2222222222222222, \"#7201a8\"], [0.3333333333333333, \"#9c179e\"], [0.4444444444444444, \"#bd3786\"], [0.5555555555555556, \"#d8576b\"], [0.6666666666666666, \"#ed7953\"], [0.7777777777777778, \"#fb9f3a\"], [0.8888888888888888, \"#fdca26\"], [1.0, \"#f0f921\"]], \"type\": \"histogram2dcontour\"}], \"mesh3d\": [{\"colorbar\": {\"outlinewidth\": 0, \"ticks\": \"\"}, \"type\": \"mesh3d\"}], \"parcoords\": [{\"line\": {\"colorbar\": {\"outlinewidth\": 0, \"ticks\": \"\"}}, \"type\": \"parcoords\"}], \"pie\": [{\"automargin\": true, \"type\": \"pie\"}], \"scatter\": [{\"marker\": {\"colorbar\": {\"outlinewidth\": 0, \"ticks\": \"\"}}, \"type\": \"scatter\"}], \"scatter3d\": [{\"line\": {\"colorbar\": {\"outlinewidth\": 0, \"ticks\": \"\"}}, \"marker\": {\"colorbar\": {\"outlinewidth\": 0, \"ticks\": \"\"}}, \"type\": \"scatter3d\"}], \"scattercarpet\": [{\"marker\": {\"colorbar\": {\"outlinewidth\": 0, \"ticks\": \"\"}}, \"type\": \"scattercarpet\"}], \"scattergeo\": [{\"marker\": {\"colorbar\": {\"outlinewidth\": 0, \"ticks\": \"\"}}, \"type\": \"scattergeo\"}], \"scattergl\": [{\"marker\": {\"colorbar\": {\"outlinewidth\": 0, \"ticks\": \"\"}}, \"type\": \"scattergl\"}], \"scattermapbox\": [{\"marker\": {\"colorbar\": {\"outlinewidth\": 0, \"ticks\": \"\"}}, \"type\": \"scattermapbox\"}], \"scatterpolar\": [{\"marker\": {\"colorbar\": {\"outlinewidth\": 0, \"ticks\": \"\"}}, \"type\": \"scatterpolar\"}], \"scatterpolargl\": [{\"marker\": {\"colorbar\": {\"outlinewidth\": 0, \"ticks\": \"\"}}, \"type\": \"scatterpolargl\"}], \"scatterternary\": [{\"marker\": {\"colorbar\": {\"outlinewidth\": 0, \"ticks\": \"\"}}, \"type\": \"scatterternary\"}], \"surface\": [{\"colorbar\": {\"outlinewidth\": 0, \"ticks\": \"\"}, \"colorscale\": [[0.0, \"#0d0887\"], [0.1111111111111111, \"#46039f\"], [0.2222222222222222, \"#7201a8\"], [0.3333333333333333, \"#9c179e\"], [0.4444444444444444, \"#bd3786\"], [0.5555555555555556, \"#d8576b\"], [0.6666666666666666, \"#ed7953\"], [0.7777777777777778, \"#fb9f3a\"], [0.8888888888888888, \"#fdca26\"], [1.0, \"#f0f921\"]], \"type\": \"surface\"}], \"table\": [{\"cells\": {\"fill\": {\"color\": \"#EBF0F8\"}, \"line\": {\"color\": \"white\"}}, \"header\": {\"fill\": {\"color\": \"#C8D4E3\"}, \"line\": {\"color\": \"white\"}}, \"type\": \"table\"}]}, \"layout\": {\"annotationdefaults\": {\"arrowcolor\": \"#2a3f5f\", \"arrowhead\": 0, \"arrowwidth\": 1}, \"coloraxis\": {\"colorbar\": {\"outlinewidth\": 0, \"ticks\": \"\"}}, \"colorscale\": {\"diverging\": [[0, \"#8e0152\"], [0.1, \"#c51b7d\"], [0.2, \"#de77ae\"], [0.3, \"#f1b6da\"], [0.4, \"#fde0ef\"], [0.5, \"#f7f7f7\"], [0.6, \"#e6f5d0\"], [0.7, \"#b8e186\"], [0.8, \"#7fbc41\"], [0.9, \"#4d9221\"], [1, \"#276419\"]], \"sequential\": [[0.0, \"#0d0887\"], [0.1111111111111111, \"#46039f\"], [0.2222222222222222, \"#7201a8\"], [0.3333333333333333, \"#9c179e\"], [0.4444444444444444, \"#bd3786\"], [0.5555555555555556, \"#d8576b\"], [0.6666666666666666, \"#ed7953\"], [0.7777777777777778, \"#fb9f3a\"], [0.8888888888888888, \"#fdca26\"], [1.0, \"#f0f921\"]], \"sequentialminus\": [[0.0, \"#0d0887\"], [0.1111111111111111, \"#46039f\"], [0.2222222222222222, \"#7201a8\"], [0.3333333333333333, \"#9c179e\"], [0.4444444444444444, \"#bd3786\"], [0.5555555555555556, \"#d8576b\"], [0.6666666666666666, \"#ed7953\"], [0.7777777777777778, \"#fb9f3a\"], [0.8888888888888888, \"#fdca26\"], [1.0, \"#f0f921\"]]}, \"colorway\": [\"#636efa\", \"#EF553B\", \"#00cc96\", \"#ab63fa\", \"#FFA15A\", \"#19d3f3\", \"#FF6692\", \"#B6E880\", \"#FF97FF\", \"#FECB52\"], \"font\": {\"color\": \"#2a3f5f\"}, \"geo\": {\"bgcolor\": \"white\", \"lakecolor\": \"white\", \"landcolor\": \"#E5ECF6\", \"showlakes\": true, \"showland\": true, \"subunitcolor\": \"white\"}, \"hoverlabel\": {\"align\": \"left\"}, \"hovermode\": \"closest\", \"mapbox\": {\"style\": \"light\"}, \"paper_bgcolor\": \"white\", \"plot_bgcolor\": \"#E5ECF6\", \"polar\": {\"angularaxis\": {\"gridcolor\": \"white\", \"linecolor\": \"white\", \"ticks\": \"\"}, \"bgcolor\": \"#E5ECF6\", \"radialaxis\": {\"gridcolor\": \"white\", \"linecolor\": \"white\", \"ticks\": \"\"}}, \"scene\": {\"xaxis\": {\"backgroundcolor\": \"#E5ECF6\", \"gridcolor\": \"white\", \"gridwidth\": 2, \"linecolor\": \"white\", \"showbackground\": true, \"ticks\": \"\", \"zerolinecolor\": \"white\"}, \"yaxis\": {\"backgroundcolor\": \"#E5ECF6\", \"gridcolor\": \"white\", \"gridwidth\": 2, \"linecolor\": \"white\", \"showbackground\": true, \"ticks\": \"\", \"zerolinecolor\": \"white\"}, \"zaxis\": {\"backgroundcolor\": \"#E5ECF6\", \"gridcolor\": \"white\", \"gridwidth\": 2, \"linecolor\": \"white\", \"showbackground\": true, \"ticks\": \"\", \"zerolinecolor\": \"white\"}}, \"shapedefaults\": {\"line\": {\"color\": \"#2a3f5f\"}}, \"ternary\": {\"aaxis\": {\"gridcolor\": \"white\", \"linecolor\": \"white\", \"ticks\": \"\"}, \"baxis\": {\"gridcolor\": \"white\", \"linecolor\": \"white\", \"ticks\": \"\"}, \"bgcolor\": \"#E5ECF6\", \"caxis\": {\"gridcolor\": \"white\", \"linecolor\": \"white\", \"ticks\": \"\"}}, \"title\": {\"x\": 0.05}, \"xaxis\": {\"automargin\": true, \"gridcolor\": \"white\", \"linecolor\": \"white\", \"ticks\": \"\", \"title\": {\"standoff\": 15}, \"zerolinecolor\": \"white\", \"zerolinewidth\": 2}, \"yaxis\": {\"automargin\": true, \"gridcolor\": \"white\", \"linecolor\": \"white\", \"ticks\": \"\", \"title\": {\"standoff\": 15}, \"zerolinecolor\": \"white\", \"zerolinewidth\": 2}}}, \"width\": 600, \"xaxis\": {\"anchor\": \"y\", \"domain\": [0.0, 1.0], \"title\": {\"text\": \"x\"}}, \"yaxis\": {\"anchor\": \"x\", \"domain\": [0.0, 1.0], \"title\": {\"text\": \"y\"}}},\n",
              "                        {\"responsive\": true}\n",
              "                    ).then(function(){\n",
              "                            \n",
              "var gd = document.getElementById('79e008a4-8d0a-4bfc-9f4c-738ed278f0c1');\n",
              "var x = new MutationObserver(function (mutations, observer) {{\n",
              "        var display = window.getComputedStyle(gd).display;\n",
              "        if (!display || display === 'none') {{\n",
              "            console.log([gd, 'removed!']);\n",
              "            Plotly.purge(gd);\n",
              "            observer.disconnect();\n",
              "        }}\n",
              "}});\n",
              "\n",
              "// Listen for the removal of the full notebook cells\n",
              "var notebookContainer = gd.closest('#notebook-container');\n",
              "if (notebookContainer) {{\n",
              "    x.observe(notebookContainer, {childList: true});\n",
              "}}\n",
              "\n",
              "// Listen for the clearing of the current output cell\n",
              "var outputEl = gd.closest('.output');\n",
              "if (outputEl) {{\n",
              "    x.observe(outputEl, {childList: true});\n",
              "}}\n",
              "\n",
              "                        })\n",
              "                };\n",
              "                \n",
              "            </script>\n",
              "        </div>\n",
              "</body>\n",
              "</html>"
            ]
          },
          "metadata": {
            "tags": []
          }
        },
        {
          "output_type": "stream",
          "text": [
            "eps : 0.5 ->> label수 : 1\n"
          ],
          "name": "stdout"
        },
        {
          "output_type": "display_data",
          "data": {
            "text/html": [
              "<html>\n",
              "<head><meta charset=\"utf-8\" /></head>\n",
              "<body>\n",
              "    <div>\n",
              "            <script src=\"https://cdnjs.cloudflare.com/ajax/libs/mathjax/2.7.5/MathJax.js?config=TeX-AMS-MML_SVG\"></script><script type=\"text/javascript\">if (window.MathJax) {MathJax.Hub.Config({SVG: {font: \"STIX-Web\"}});}</script>\n",
              "                <script type=\"text/javascript\">window.PlotlyConfig = {MathJaxConfig: 'local'};</script>\n",
              "        <script src=\"https://cdn.plot.ly/plotly-latest.min.js\"></script>    \n",
              "            <div id=\"c0b5a190-bbfc-4ec0-a9bd-83335c4693a4\" class=\"plotly-graph-div\" style=\"height:500px; width:600px;\"></div>\n",
              "            <script type=\"text/javascript\">\n",
              "                \n",
              "                    window.PLOTLYENV=window.PLOTLYENV || {};\n",
              "                    \n",
              "                if (document.getElementById(\"c0b5a190-bbfc-4ec0-a9bd-83335c4693a4\")) {\n",
              "                    Plotly.newPlot(\n",
              "                        'c0b5a190-bbfc-4ec0-a9bd-83335c4693a4',\n",
              "                        [{\"hoverlabel\": {\"namelength\": 0}, \"hovertemplate\": \"x=%{x}<br>y=%{y}<br>color=%{marker.color}\", \"legendgroup\": \"\", \"marker\": {\"color\": [0, 0, 0, 0, 0, 0, 0, 0, 0, 0, 0, 0, 0, 0, 0, 0, 0, 0, 0, 0, 0, 0, 0, 0, 0, 0, 0, 0, 0, 0, 0, 0, 0, 0, 0, 0, 0, 0, 0, 0, 0, 0, 0, 0, 0, 0, 0, 0, 0, 0, 0, 0, 0, 0, 0, 0, 0, 0, 0, 0, 0, 0, 0, 0, 0, 0, 0, 0, 0, 0, 0, 0, 0, 0, 0, 0, 0, 0, 0, 0, 0, 0, 0, 0, 0, 0, 0, 0, 0, 0, 0, 0, 0, 0, 0, 0, 0, 0, 0, 0, 0, 0, 0, 0, 0, 0, 0, 0, 0, 0, 0, 0, 0, 0, 0, 0, 0, 0, 0, 0, 0, 0, 0, 0, 0, 0, 0, 0, 0, 0, 0, 0, 0, 0, 0, 0, 0, 0, 0, 0, 0, 0, 0, 0, 0, 0, 0, 0, 0, 0, 0, 0, 0, 0, 0, 0, 0, 0, 0, 0, 0, 0, 0, 0, 0, 0, 0, 0, 0, 0, 0, 0, 0, 0, 0, 0, 0, 0, 0, 0, 0, 0, 0, 0, 0, 0, 0, 0, 0, 0, 0, 0, 0, 0, 0, 0, 0, 0, 0, 0, 0, 0, 0, 0, 0, 0, 0, 0, 0, 0, 0, 0, 0, 0, 0, 0, 0, 0, 0, 0, 0, 0, 0, 0, 0, 0, 0, 0, 0, 0, 0, 0, 0, 0, 0, 0, 0, 0, 0, 0, 0, 0, 0, 0, 0, 0, 0, 0, 0, 0, 0, 0, 0, 0, 0, 0, 0, 0, 0, 0, 0, 0, 0, 0, 0, 0, 0, 0, 0, 0, 0, 0, 0, 0, 0, 0, 0, 0, 0, 0, 0, 0, 0, 0, 0, 0, 0, 0, 0, 0, 0, 0, 0, 0, 0, 0, 0, 0, 0, 0, 0, 0, 0, 0, 0, 0, 0, 0, 0, 0, 0, 0, 0, 0, 0, 0, 0, 0, 0, 0, 0, 0, 0, 0, 0, 0, 0, 0, 0, 0, 0, 0, 0, 0, 0, 0, 0, 0, 0, 0, 0, 0, 0, 0, 0, 0, 0, 0, 0, 0, 0, 0, 0, 0, 0, 0, 0, 0, 0, 0, 0, 0, 0, 0, 0, 0, 0, 0, 0, 0, 0, 0, 0, 0, 0, 0, 0, 0, 0, 0, 0, 0, 0, 0, 0, 0, 0, 0, 0, 0, 0, 0, 0, 0, 0, 0, 0, 0, 0, 0], \"coloraxis\": \"coloraxis\", \"symbol\": \"circle\"}, \"mode\": \"markers\", \"name\": \"\", \"showlegend\": false, \"type\": \"scatter\", \"x\": [-0.04405185436455387, 0.6922304485774229, 0.8281977981485314, 0.17881242677930137, 0.09171539700050081, 0.40156045922972966, 1.3757911943525358, 0.07314713993172753, 0.45860466022215285, -0.4178031928161623, 0.9579878024190793, 1.8524970559962026, 0.5552516585363515, 0.3022727378193304, -0.5247965363754132, 0.8580279728331913, 0.6189365495878882, 1.8927960119108467, 0.11756338555092069, 2.169029362678773, 0.404559599307745, 1.0893364137634811, 2.0669459262896903, 0.5877990025461418, 1.0446289348001918, 2.0490213676870517, -0.29381359169325855, 0.02237367735743013, 0.453000976269902, 0.052039835716421845, 2.1534991209951535, -1.119340367715941, 0.6240688008428807, 0.6746685269538756, 0.11590511420338562, -0.25247367792137004, -0.043682834885529404, 1.7828070067277453, -0.834513603902822, -0.5049155905696417, 1.806489808286964, 0.7605778678586781, 0.29985442632480913, 0.8905252470097118, 0.11826978657090345, 2.0034066514848714, -0.7130367234824387, -1.0452223143606545, 0.9604818564529551, -1.0610029020734704, 0.9290715732995999, 1.3419458957279273, 1.5452174341489513, 0.3985161871037338, 1.764957168546406, 0.9224449677324292, 0.033462363099337374, -0.8919029408079996, 1.0225793504988576, -0.9710888438761187, -0.4791414581275831, 0.8408477423017393, 0.2964391408080224, 0.4919544089308461, 0.0410776773647474, 0.9666350914963895, 1.6831546515793194, 0.43826348511034413, 1.740452092301724, 0.21658112980549674, 1.3012044573186852, -0.64388146241787, 0.9496985380360062, 0.6683706670351148, 2.021650614049808, 0.16473890548509473, -0.009247095964754717, 1.7690167227990816, -1.0104913674247578, 0.702434617830942, 0.9493893492279155, 0.8953640992371084, -0.15095907350779758, 0.28341059943157637, 0.686247114883507, 0.42168660618408793, 0.4135899135206339, 1.0577396586654602, 0.0034514995502456514, 0.2647671231050478, 0.06324742529253595, 1.5658002856216526, -0.2559695512442949, 0.2090468050023805, -1.0197784695319896, 1.1529542320186548, 1.8320855582539974, 1.9886682809991771, -0.16419264277805473, 0.3254160858230126, 0.20654495134218478, -0.02532499674177502, 1.0832306132818155, 0.5278969205172018, -0.7422978282856604, 1.0762354226047843, 0.9804704487371622, -0.7609520671028389, 1.7419705803807746, 1.8949012493453714, -0.49651016735263764, 2.0281830266713725, 0.7295586309939159, 2.0165730120568788, 1.0090524120850748, 0.8181446341926059, 0.47919081281108183, 0.8291064621354819, 1.1864304003533328, 0.7588546454896044, -0.9246852132955579, -0.19973768447083562, 0.940616481696544, 1.8498418744289271, 1.0076808280989389, -0.966543565363345, 1.6638459329092838, 1.6872832037570835, -0.9976923228984038, 0.259718542404861, 1.260522773047423, -0.5812357980233047, 0.5687897887080057, -0.9002692152319717, -0.25582248118023304, -1.1138631338303022, 0.13234844337348306, 0.5078751167554956, -0.11594691159512407, 1.0831469058632226, 0.9771117727121236, -0.32661461873026315, 0.9063697767081207, -0.6203513588550882, -1.1511863158724789, 0.7803374476056197, 0.5955667439508922, -0.1308958348924223, -0.8799966733224986, 1.922550311349182, 1.1750337382650022, 1.5611843539210797, 0.4481765327303048, -0.7585085272396329, 1.051622752860439, -0.8092021378321275, -0.07657329479524141, 0.3643485289920689, 1.3457410648452206, 1.9250783905350084, 2.128778248212025, 0.0706262481600407, 1.0274744413540133, -0.9039386882590633, 1.792856509913606, 0.23340051836624431, 2.0071012074483465, -0.7848715472141286, -0.6052644989118215, 0.05187296202004671, 0.18346525575039668, 0.4357050503972449, -0.19161096380566223, 0.23246382980226774, -0.6089928003474744, 1.1736206804738114, -0.14663398900921182, 0.2432922979322884, 0.2481370154715898, 1.056272964342253, 0.7460124466135112, -0.6474151293600467, -0.2998246700886737, -0.867194684720239, 0.45564543502722626, -1.0050512879881874, 1.3365798384645975, -0.17983124228592573, 1.498489509539917, -0.6805626396188176, -0.6490735256969274, -0.536868509390947, 1.975693655313992, 0.09373483171858374, 1.3769137547348915, 1.6728813869324226, 1.6448138852597582, 1.6705417974900587, 1.457852249627546, 0.976715110638505, -0.9263843640116586, -0.1223731313381849, 0.796228522033799, 0.15475677041477062, 0.7888519002662029, -0.5405845524825568, 0.9305692278235662, 0.9784119369643645, 1.4758331265836486, -1.0200230889843025, 0.04061773858849012, -0.3154849918885533, -1.0223978310048576, 1.3533832696767325, 1.0366465155314608, -0.04510451879071933, 1.8936032702640215, 0.5943858451752875, 1.885006370759624, 0.9389125135270914, 1.7893976221378944, -0.994564259030683, 0.3603982008922027, -0.4408604389520875, -0.5151095273058485, -1.0563766442123035, -1.0351547981205815, 1.9371282674993187, 0.9166357854923943, 0.0083564707053621, -0.12004194518298957, 0.06357500148967771, 0.4229368998509608, 0.9981936878290952, -0.30368999098948596, 1.874315243153208, 0.07222261812178199, 1.6470491039434203, 1.9686415215524833, 1.7843131131506498, 2.0873045148599823, -0.39790391370032724, 0.49229061778845873, 1.3148496627000024, 0.8494651045710285, 0.19481701963916617, 1.9508672322774856, -0.10148376708261908, 0.2825817386035496, 0.938344700184442, -0.33440741651656025, 0.15227499084567703, -0.9103538545522244, 0.7461365894557511, 0.7980254495229531, 1.9701048704314503, 0.652791628022177, 0.15095217091376792, 0.2049831993182284, -1.0351508911672802, -0.8495786602831639, 1.0732469394954367, 0.922355666831577, 1.179959994061442, -0.9293446879170691, -0.6635954598691399, 1.325082692179819, 0.5568693550491782, 0.07750159554668323, 0.12508148690837878, 0.7450034565443301, 0.18786203305535706, 1.0060978915552157, 1.0993371067091071, -0.9080886149685693, 0.5858015888336551, 1.0604130877330895, 0.08128104436835105, 0.2621963091845073, 1.4462645794969085, 1.0643805747202955, 0.2791274315012009, 1.9261906290309088, 0.07587637693033553, 0.2185468890445362, 1.6237768965846349, 0.031333571273604, -1.0991324877898918, 0.05943075792034612, 0.008629185751882248, 0.7067448851525836, 0.8727925257301243, 1.0098726006114973, 0.5993675602813255, 0.1018886995222481, 1.525369983953064, 1.054941483052359, 1.2136000567339893, 0.23308716959053433, 0.15132759806894286, 0.7976359593737035, -0.808584190274535, 1.961108543928387, -0.573486935719889, 0.3974880824749839, -0.6121576257879583, -0.40620203173039965, 0.8059004682255754, 0.577010942050867, 0.8487619173221225, 0.95116813790414, -0.8431589135514671, 0.8345576822705425, 1.8916875532375048, 1.3528302565382921, 0.14554876861527338, 0.74380252328883, 1.6283256315766768, 0.20872539439732596, 0.01575435537698975, 0.08103530943841337, 0.9398855834587191, 1.8681586907315795, 0.2982728817544293, 2.1277507888341294, 1.846066968959805, 0.905843066983084, 0.4764277360194793, 0.05079807673102646, -0.9159944605722037, 0.7547580557250606, 0.09090431203597911, -0.9855961407261281, 1.1645508833612985, 0.45777725614298304, -0.0457775363766378, 0.7800780371174919, 0.9360900798447133, 0.6689785958971225, 0.33478569722706114, 0.0225989916723915, 0.8552106280976605, 0.40095040462607473, 0.2905170667683744, 1.5057375454140596, 0.6567229379131222, 1.5589905162770326, 0.4463256730065187, 0.3209014155840095, 0.8604722047896834, 1.3193048015154476, 0.23241761555025903, 0.6689344099794808, -0.9368801423457124, 1.6369396239440042, 1.8250086156767336, -0.4044565529876215, 1.0911356663298046, 1.9771635326594774, 1.2487446961310449, 0.2680686577935133, 0.6096776291794008, 0.519633282205532, -0.8067740153047347, -1.0655947175512142, 2.0397784183254832, -1.0984313739240208, -1.0115042991719052, 0.593417605519658, 0.6893488089833144, 1.5811433931248629, 0.13264402366925823, 0.17583821874143654, 0.7968700476436335, 1.2559789044345149, -0.72730191303691, 0.6671056801212313, -1.0039351561663472, 0.803862955043394, 1.755527350459414, 0.4722598345644735, 1.1014506588758581, -0.8515613634567728, -0.344768061166429, -0.6240556307959167, 1.668619917195012, 0.09982365388048871, 1.9207005824962247, 0.21711474696683666, 1.6106948141690762, 0.06152089034007621, -0.3183138362478756, 2.051806694384509, 1.1621430615794484, -0.7693711814576643, 0.42481712855727227, 0.06612998562530321, 0.7241611107656446, 1.929872146707251, -0.0747996734498523], \"xaxis\": \"x\", \"y\": [0.43607778101760863, -0.4011194632440612, 0.5415218892178506, 0.26886231388723847, 0.9461179874453445, 0.9268166356399812, -0.4513290871112877, 0.9168823205037456, -0.3476620899215156, 0.9969302258350214, 0.12114286887719278, 0.1599189780891384, 0.965685772429867, 0.9301292941685252, 0.7897125490862673, 0.6755129042792798, -0.6523278952709434, 0.158747858462253, 0.10550256974316223, 0.32216590687738944, 0.95239331683874, 0.28773650388840166, 0.5549359778342985, -0.4275752586735255, 0.11362423171192629, 0.5587208679105828, 0.8871058855450891, -0.011244065183244362, -0.37282399872071736, 0.8683552101965917, 0.3387743351635715, 0.012114675029737565, -0.3249173888665629, 0.7648464577460884, -0.03455360646626823, 1.0157254753141933, 0.789928213280756, -0.23043958881624316, 0.5482327588836816, 0.8158505869016326, 0.25595173111671626, 0.8490047684040152, 0.7977673987470991, 0.7099043476407715, 0.8778058534457707, 0.2223803368419529, 0.9233940786148171, 0.2789271744465052, 0.2598976348965632, 0.4259623231575948, 0.7044894326221837, -0.43467545128738916, -0.2025606431151623, 0.7578228472730179, 0.12339506639239467, 0.6012696775757825, 0.19067157702276952, 0.4960748810175608, 0.36066014634971644, 0.6405981687615638, 1.0093246672652925, -0.683810686127401, -0.41241573507105345, 0.9901126903122439, 1.0533222871839638, 0.5834251609429104, -0.3177480119227779, -0.38340484123539237, 0.5354200429219066, 0.9736687007203508, -0.4195693110355442, 0.8241928619908845, 0.023234430827277622, 0.8047279428402697, 0.3481653007891365, -0.18751597646936197, 0.03742781347292015, 0.20281525401323908, 0.26766467034661684, -0.5634133844961742, 0.042395034693238194, 0.12029412831425107, 0.5363974171515313, -0.1450026982659779, -0.40495076112290174, 0.8574857282534363, -0.2320469450349981, -0.5010974292201972, 0.9232315981434537, 0.9512736717500212, 0.013266377828641828, -0.15587107312135612, 0.9769812759008681, 0.24958736254698483, 0.4310704881654892, -0.5388390359189088, 0.007344939439863404, 0.17873633391097563, -0.10434745860853986, 1.0154113850377267, 0.07817393049748056, 0.947301799237025, 0.30243413363940314, 0.9436475009919664, 0.688066258718179, 0.31552877308582405, 0.25009378313745445, 1.0259518073320897, -0.08661529391898053, -0.18713179029828392, 1.020847176615835, 0.37029889398262206, -0.37240717905441106, 0.15904904573753528, -0.7054738367924506, 0.7016062224228446, 0.8667912886886442, -0.5651271337464877, -0.519764696461732, -0.45614703155803, 0.6659339268772327, 1.0933060138877637, 0.25749074749584544, 0.006391413083718128, 0.34117127567420824, 0.28801758688468887, -0.21466511695958101, -0.390961809823812, 0.48813212785537713, -0.14858140113014096, -0.4766645861004665, 0.6748887284276055, -0.2677047542484201, 0.2619201140227827, 1.0180954146828698, -0.08705661343128906, 0.00912932714886762, -0.48441334225022337, 0.24031371708309332, -0.7040686518936875, 0.40745819890591284, 0.7493900295321627, -0.3263153064040736, 0.8387098635497955, -0.06624355977916652, -0.3862360517512149, 0.6386728106302391, 0.9641399984129664, 0.283554573861271, -0.023703499695742758, 0.08712904314172767, -0.2802004578206971, -0.16445885394768184, 0.748141806207555, 0.07573563016822103, 0.13687902584671832, 1.0123246744592231, 0.9587332861968995, -0.6347527000227957, 0.2703337265054317, 0.3285139273519466, 0.27277848784097924, -0.5378165485798784, 0.4860442990090752, -0.09965088293999937, 0.9718404298026123, 0.14070793064631937, 0.5879530835073661, 0.7955689362691735, 0.11809294944569163, 0.863886260883799, 0.947112468815042, 1.0144581477653083, 0.958636539202684, 0.8538968611679508, -0.26267904632598416, 1.098915276229116, -0.2985209827634067, 1.0221280706067108, 0.26708618818460234, 0.6027220092407295, 0.8686578241100799, 1.0958782230964785, 0.3372444433127365, 0.8287075193222752, 0.19988054900735763, -0.4000759499004397, 0.27210742336973803, -0.5554431740207553, 0.08132969177833893, 0.8815049333413835, 0.9423719015542635, 0.22898137437768737, 0.9093489420473164, -0.3990335438365677, -0.28120663796327605, -0.42347286188539957, -0.1316839261626955, -0.22512481834440223, -0.5487601936944003, 0.21098414319755895, 0.34272142754523316, -0.6021366375822279, 0.25817568609572544, -0.5251206254974262, 0.9181117639438922, 0.5398249074259076, 0.25352612158237964, -0.42390792934014865, 0.22748717279219446, 0.19092611177757238, 1.0083104690182787, 0.4011067930232193, -0.47274322766457466, -0.4985476580125366, 0.7991491020390376, 0.14287399006123414, -0.528630928174813, 0.10420737924262266, -0.5135540452630449, -0.26387131943612496, 0.6713911383163779, -0.12579009793677248, 0.7384652081800833, 0.8471182066753098, -0.3568205299359881, 0.05539817597695543, 0.3675642914202532, 0.12373202160019528, 0.5320457749816218, 0.7527784391323216, -0.07375254500638109, -0.03656097531307502, 0.21096138080488983, 1.0459161417121352, -0.05318329701654417, 0.13627157664599823, -0.16757444093230295, 0.10291719279716784, -0.1520068909668203, 0.28530735074108815, 0.982030294351673, 0.8693150287473763, -0.44725774744016616, 0.5435623850119276, 1.0914306332660042, 0.3900256213166849, 0.8954007189495029, -0.16532079284824672, -0.6327445340710072, 0.872152223717397, 0.02198057941962034, 0.11457950315220794, -0.5110142065757868, 0.7023762060734993, 0.06999163949717546, 0.8679890511284588, 0.9735792211196405, -0.37334478387442843, 0.2352123895851974, 0.5257157557542287, 0.0966570840121739, 0.3915777156856398, 0.40620951502008384, 0.5563002807945711, 0.9287284123514572, -0.4694932597705525, -0.28647303390245527, 0.2177456466088653, 1.0107712649386078, 0.7090896365466173, -0.20224818473919925, -0.6716737343647, -0.5255392480328201, 0.220602393102044, 0.5679185764822606, -0.664348506659051, 0.5655440149193591, -0.2605001465555224, -0.44476972105908064, 0.16411977735553548, -0.26884664450584866, -0.034101486858117314, 1.1367673776383977, 0.20383370529796563, -0.33120103482858776, 0.24276731510751107, 0.3998281611302054, 0.9409926919168601, 0.24999982561095813, 0.7849651477267724, 0.40450279943881134, 0.6137062126291012, -0.5724314430588369, 0.49498808243247494, 0.0019297974426112918, 0.22300462646561692, -0.3417331989379858, 0.1275069459089364, -0.23883742575743933, -0.3839793843645204, 0.549473350974221, 0.040814972387245074, 0.7653864752163864, 0.8866068075128529, 0.8269448471682256, 0.6919572681002077, 0.09598584740679728, 0.921427860837215, -0.4363056984528748, 0.13090585233804364, 0.708073706544875, 0.5953673442120604, 0.09509014818593642, -0.4265362405070112, 0.2169283752033758, -0.4984572915678237, -0.2528451566092468, 0.08119429053081831, 0.23973280995637058, 0.5570725509248531, -0.6683544103342967, -0.02515342308285237, -0.12638098881700305, 0.42675405509515674, 0.10121826279463625, -0.5700794902937782, -0.38939614448640203, 0.46414246315263463, 0.662046710981531, 0.6381008654279617, 0.23872062239361602, 0.24465186146853457, -0.40249503600795367, -0.10078345978288639, 1.060030149286084, 0.7488019569243001, -0.03162831609870871, 0.6036520491736346, 0.8900372542109308, 0.40528001022145993, 0.5669552804252124, -0.27463813164370005, 1.025321115737968, -0.37329350355500024, 0.6722832366601202, -0.23748233613720784, -0.328051945416493, -0.12664039057205045, 0.163902767064797, -0.40253376846929073, 0.9210944649201596, -0.3160694603337302, 0.49356261972143056, -0.4744664601030904, 0.5437106356516351, 0.8096130028026692, -0.6172332210395521, 0.3666784091668318, -0.36527871113721005, -0.07010628425274437, 0.7174606455400276, 0.6532250811403223, 0.29157261562178366, 0.2212330253379633, 0.5374177752148195, 0.44471746141975255, 0.47152389058042293, 0.6742885813462738, 0.6896349026977713, -0.1694959403716835, -0.158979629866297, -0.1711557573059312, 0.3571278338151201, -0.5769106371591088, 0.4057417900374254, -0.4360539225120356, 0.00817004076966052, -0.3328595135185971, -0.19911487236295916, -0.19863427705176354, -0.486249852261357, 0.7009224597105804, 0.8202303548674952, 0.6964627164785605, -0.20106864327115975, 1.055221255419995, 0.05914098492307132, 1.068621936007729, -0.23393265974914823, 0.26358525411585665, 0.995160530592945, 0.6307986637140104, 0.28999256891276015, 0.2900083101499388, 1.0503355163432597, 0.9487101716012722, -0.28599311361127777, -0.26332583701466633, 0.7965550564269417], \"yaxis\": \"y\"}],\n",
              "                        {\"coloraxis\": {\"colorbar\": {\"title\": {\"text\": \"color\"}}, \"colorscale\": [[0.0, \"#0d0887\"], [0.1111111111111111, \"#46039f\"], [0.2222222222222222, \"#7201a8\"], [0.3333333333333333, \"#9c179e\"], [0.4444444444444444, \"#bd3786\"], [0.5555555555555556, \"#d8576b\"], [0.6666666666666666, \"#ed7953\"], [0.7777777777777778, \"#fb9f3a\"], [0.8888888888888888, \"#fdca26\"], [1.0, \"#f0f921\"]]}, \"height\": 500, \"legend\": {\"tracegroupgap\": 0}, \"margin\": {\"t\": 60}, \"template\": {\"data\": {\"bar\": [{\"error_x\": {\"color\": \"#2a3f5f\"}, \"error_y\": {\"color\": \"#2a3f5f\"}, \"marker\": {\"line\": {\"color\": \"#E5ECF6\", \"width\": 0.5}}, \"type\": \"bar\"}], \"barpolar\": [{\"marker\": {\"line\": {\"color\": \"#E5ECF6\", \"width\": 0.5}}, \"type\": \"barpolar\"}], \"carpet\": [{\"aaxis\": {\"endlinecolor\": \"#2a3f5f\", \"gridcolor\": \"white\", \"linecolor\": \"white\", \"minorgridcolor\": \"white\", \"startlinecolor\": \"#2a3f5f\"}, \"baxis\": {\"endlinecolor\": \"#2a3f5f\", \"gridcolor\": \"white\", \"linecolor\": \"white\", \"minorgridcolor\": \"white\", \"startlinecolor\": \"#2a3f5f\"}, \"type\": \"carpet\"}], \"choropleth\": [{\"colorbar\": {\"outlinewidth\": 0, \"ticks\": \"\"}, \"type\": \"choropleth\"}], \"contour\": [{\"colorbar\": {\"outlinewidth\": 0, \"ticks\": \"\"}, \"colorscale\": [[0.0, \"#0d0887\"], [0.1111111111111111, \"#46039f\"], [0.2222222222222222, \"#7201a8\"], [0.3333333333333333, \"#9c179e\"], [0.4444444444444444, \"#bd3786\"], [0.5555555555555556, \"#d8576b\"], [0.6666666666666666, \"#ed7953\"], [0.7777777777777778, \"#fb9f3a\"], [0.8888888888888888, \"#fdca26\"], [1.0, \"#f0f921\"]], \"type\": \"contour\"}], \"contourcarpet\": [{\"colorbar\": {\"outlinewidth\": 0, \"ticks\": \"\"}, \"type\": \"contourcarpet\"}], \"heatmap\": [{\"colorbar\": {\"outlinewidth\": 0, \"ticks\": \"\"}, \"colorscale\": [[0.0, \"#0d0887\"], [0.1111111111111111, \"#46039f\"], [0.2222222222222222, \"#7201a8\"], [0.3333333333333333, \"#9c179e\"], [0.4444444444444444, \"#bd3786\"], [0.5555555555555556, \"#d8576b\"], [0.6666666666666666, \"#ed7953\"], [0.7777777777777778, \"#fb9f3a\"], [0.8888888888888888, \"#fdca26\"], [1.0, \"#f0f921\"]], \"type\": \"heatmap\"}], \"heatmapgl\": [{\"colorbar\": {\"outlinewidth\": 0, \"ticks\": \"\"}, \"colorscale\": [[0.0, \"#0d0887\"], [0.1111111111111111, \"#46039f\"], [0.2222222222222222, \"#7201a8\"], [0.3333333333333333, \"#9c179e\"], [0.4444444444444444, \"#bd3786\"], [0.5555555555555556, \"#d8576b\"], [0.6666666666666666, \"#ed7953\"], [0.7777777777777778, \"#fb9f3a\"], [0.8888888888888888, \"#fdca26\"], [1.0, \"#f0f921\"]], \"type\": \"heatmapgl\"}], \"histogram\": [{\"marker\": {\"colorbar\": {\"outlinewidth\": 0, \"ticks\": \"\"}}, \"type\": \"histogram\"}], \"histogram2d\": [{\"colorbar\": {\"outlinewidth\": 0, \"ticks\": \"\"}, \"colorscale\": [[0.0, \"#0d0887\"], [0.1111111111111111, \"#46039f\"], [0.2222222222222222, \"#7201a8\"], [0.3333333333333333, \"#9c179e\"], [0.4444444444444444, \"#bd3786\"], [0.5555555555555556, \"#d8576b\"], [0.6666666666666666, \"#ed7953\"], [0.7777777777777778, \"#fb9f3a\"], [0.8888888888888888, \"#fdca26\"], [1.0, \"#f0f921\"]], \"type\": \"histogram2d\"}], \"histogram2dcontour\": [{\"colorbar\": {\"outlinewidth\": 0, \"ticks\": \"\"}, \"colorscale\": [[0.0, \"#0d0887\"], [0.1111111111111111, \"#46039f\"], [0.2222222222222222, \"#7201a8\"], [0.3333333333333333, \"#9c179e\"], [0.4444444444444444, \"#bd3786\"], [0.5555555555555556, \"#d8576b\"], [0.6666666666666666, \"#ed7953\"], [0.7777777777777778, \"#fb9f3a\"], [0.8888888888888888, \"#fdca26\"], [1.0, \"#f0f921\"]], \"type\": \"histogram2dcontour\"}], \"mesh3d\": [{\"colorbar\": {\"outlinewidth\": 0, \"ticks\": \"\"}, \"type\": \"mesh3d\"}], \"parcoords\": [{\"line\": {\"colorbar\": {\"outlinewidth\": 0, \"ticks\": \"\"}}, \"type\": \"parcoords\"}], \"pie\": [{\"automargin\": true, \"type\": \"pie\"}], \"scatter\": [{\"marker\": {\"colorbar\": {\"outlinewidth\": 0, \"ticks\": \"\"}}, \"type\": \"scatter\"}], \"scatter3d\": [{\"line\": {\"colorbar\": {\"outlinewidth\": 0, \"ticks\": \"\"}}, \"marker\": {\"colorbar\": {\"outlinewidth\": 0, \"ticks\": \"\"}}, \"type\": \"scatter3d\"}], \"scattercarpet\": [{\"marker\": {\"colorbar\": {\"outlinewidth\": 0, \"ticks\": \"\"}}, \"type\": \"scattercarpet\"}], \"scattergeo\": [{\"marker\": {\"colorbar\": {\"outlinewidth\": 0, \"ticks\": \"\"}}, \"type\": \"scattergeo\"}], \"scattergl\": [{\"marker\": {\"colorbar\": {\"outlinewidth\": 0, \"ticks\": \"\"}}, \"type\": \"scattergl\"}], \"scattermapbox\": [{\"marker\": {\"colorbar\": {\"outlinewidth\": 0, \"ticks\": \"\"}}, \"type\": \"scattermapbox\"}], \"scatterpolar\": [{\"marker\": {\"colorbar\": {\"outlinewidth\": 0, \"ticks\": \"\"}}, \"type\": \"scatterpolar\"}], \"scatterpolargl\": [{\"marker\": {\"colorbar\": {\"outlinewidth\": 0, \"ticks\": \"\"}}, \"type\": \"scatterpolargl\"}], \"scatterternary\": [{\"marker\": {\"colorbar\": {\"outlinewidth\": 0, \"ticks\": \"\"}}, \"type\": \"scatterternary\"}], \"surface\": [{\"colorbar\": {\"outlinewidth\": 0, \"ticks\": \"\"}, \"colorscale\": [[0.0, \"#0d0887\"], [0.1111111111111111, \"#46039f\"], [0.2222222222222222, \"#7201a8\"], [0.3333333333333333, \"#9c179e\"], [0.4444444444444444, \"#bd3786\"], [0.5555555555555556, \"#d8576b\"], [0.6666666666666666, \"#ed7953\"], [0.7777777777777778, \"#fb9f3a\"], [0.8888888888888888, \"#fdca26\"], [1.0, \"#f0f921\"]], \"type\": \"surface\"}], \"table\": [{\"cells\": {\"fill\": {\"color\": \"#EBF0F8\"}, \"line\": {\"color\": \"white\"}}, \"header\": {\"fill\": {\"color\": \"#C8D4E3\"}, \"line\": {\"color\": \"white\"}}, \"type\": \"table\"}]}, \"layout\": {\"annotationdefaults\": {\"arrowcolor\": \"#2a3f5f\", \"arrowhead\": 0, \"arrowwidth\": 1}, \"coloraxis\": {\"colorbar\": {\"outlinewidth\": 0, \"ticks\": \"\"}}, \"colorscale\": {\"diverging\": [[0, \"#8e0152\"], [0.1, \"#c51b7d\"], [0.2, \"#de77ae\"], [0.3, \"#f1b6da\"], [0.4, \"#fde0ef\"], [0.5, \"#f7f7f7\"], [0.6, \"#e6f5d0\"], [0.7, \"#b8e186\"], [0.8, \"#7fbc41\"], [0.9, \"#4d9221\"], [1, \"#276419\"]], \"sequential\": [[0.0, \"#0d0887\"], [0.1111111111111111, \"#46039f\"], [0.2222222222222222, \"#7201a8\"], [0.3333333333333333, \"#9c179e\"], [0.4444444444444444, \"#bd3786\"], [0.5555555555555556, \"#d8576b\"], [0.6666666666666666, \"#ed7953\"], [0.7777777777777778, \"#fb9f3a\"], [0.8888888888888888, \"#fdca26\"], [1.0, \"#f0f921\"]], \"sequentialminus\": [[0.0, \"#0d0887\"], [0.1111111111111111, \"#46039f\"], [0.2222222222222222, \"#7201a8\"], [0.3333333333333333, \"#9c179e\"], [0.4444444444444444, \"#bd3786\"], [0.5555555555555556, \"#d8576b\"], [0.6666666666666666, \"#ed7953\"], [0.7777777777777778, \"#fb9f3a\"], [0.8888888888888888, \"#fdca26\"], [1.0, \"#f0f921\"]]}, \"colorway\": [\"#636efa\", \"#EF553B\", \"#00cc96\", \"#ab63fa\", \"#FFA15A\", \"#19d3f3\", \"#FF6692\", \"#B6E880\", \"#FF97FF\", \"#FECB52\"], \"font\": {\"color\": \"#2a3f5f\"}, \"geo\": {\"bgcolor\": \"white\", \"lakecolor\": \"white\", \"landcolor\": \"#E5ECF6\", \"showlakes\": true, \"showland\": true, \"subunitcolor\": \"white\"}, \"hoverlabel\": {\"align\": \"left\"}, \"hovermode\": \"closest\", \"mapbox\": {\"style\": \"light\"}, \"paper_bgcolor\": \"white\", \"plot_bgcolor\": \"#E5ECF6\", \"polar\": {\"angularaxis\": {\"gridcolor\": \"white\", \"linecolor\": \"white\", \"ticks\": \"\"}, \"bgcolor\": \"#E5ECF6\", \"radialaxis\": {\"gridcolor\": \"white\", \"linecolor\": \"white\", \"ticks\": \"\"}}, \"scene\": {\"xaxis\": {\"backgroundcolor\": \"#E5ECF6\", \"gridcolor\": \"white\", \"gridwidth\": 2, \"linecolor\": \"white\", \"showbackground\": true, \"ticks\": \"\", \"zerolinecolor\": \"white\"}, \"yaxis\": {\"backgroundcolor\": \"#E5ECF6\", \"gridcolor\": \"white\", \"gridwidth\": 2, \"linecolor\": \"white\", \"showbackground\": true, \"ticks\": \"\", \"zerolinecolor\": \"white\"}, \"zaxis\": {\"backgroundcolor\": \"#E5ECF6\", \"gridcolor\": \"white\", \"gridwidth\": 2, \"linecolor\": \"white\", \"showbackground\": true, \"ticks\": \"\", \"zerolinecolor\": \"white\"}}, \"shapedefaults\": {\"line\": {\"color\": \"#2a3f5f\"}}, \"ternary\": {\"aaxis\": {\"gridcolor\": \"white\", \"linecolor\": \"white\", \"ticks\": \"\"}, \"baxis\": {\"gridcolor\": \"white\", \"linecolor\": \"white\", \"ticks\": \"\"}, \"bgcolor\": \"#E5ECF6\", \"caxis\": {\"gridcolor\": \"white\", \"linecolor\": \"white\", \"ticks\": \"\"}}, \"title\": {\"x\": 0.05}, \"xaxis\": {\"automargin\": true, \"gridcolor\": \"white\", \"linecolor\": \"white\", \"ticks\": \"\", \"title\": {\"standoff\": 15}, \"zerolinecolor\": \"white\", \"zerolinewidth\": 2}, \"yaxis\": {\"automargin\": true, \"gridcolor\": \"white\", \"linecolor\": \"white\", \"ticks\": \"\", \"title\": {\"standoff\": 15}, \"zerolinecolor\": \"white\", \"zerolinewidth\": 2}}}, \"width\": 600, \"xaxis\": {\"anchor\": \"y\", \"domain\": [0.0, 1.0], \"title\": {\"text\": \"x\"}}, \"yaxis\": {\"anchor\": \"x\", \"domain\": [0.0, 1.0], \"title\": {\"text\": \"y\"}}},\n",
              "                        {\"responsive\": true}\n",
              "                    ).then(function(){\n",
              "                            \n",
              "var gd = document.getElementById('c0b5a190-bbfc-4ec0-a9bd-83335c4693a4');\n",
              "var x = new MutationObserver(function (mutations, observer) {{\n",
              "        var display = window.getComputedStyle(gd).display;\n",
              "        if (!display || display === 'none') {{\n",
              "            console.log([gd, 'removed!']);\n",
              "            Plotly.purge(gd);\n",
              "            observer.disconnect();\n",
              "        }}\n",
              "}});\n",
              "\n",
              "// Listen for the removal of the full notebook cells\n",
              "var notebookContainer = gd.closest('#notebook-container');\n",
              "if (notebookContainer) {{\n",
              "    x.observe(notebookContainer, {childList: true});\n",
              "}}\n",
              "\n",
              "// Listen for the clearing of the current output cell\n",
              "var outputEl = gd.closest('.output');\n",
              "if (outputEl) {{\n",
              "    x.observe(outputEl, {childList: true});\n",
              "}}\n",
              "\n",
              "                        })\n",
              "                };\n",
              "                \n",
              "            </script>\n",
              "        </div>\n",
              "</body>\n",
              "</html>"
            ]
          },
          "metadata": {
            "tags": []
          }
        }
      ]
    },
    {
      "cell_type": "code",
      "metadata": {
        "id": "hbuggswc-HEM"
      },
      "source": [
        "# "
      ],
      "execution_count": null,
      "outputs": []
    },
    {
      "cell_type": "code",
      "metadata": {
        "id": "oBFfBakR-HBy"
      },
      "source": [
        ""
      ],
      "execution_count": null,
      "outputs": []
    },
    {
      "cell_type": "code",
      "metadata": {
        "id": "gLGFCRR2-G_Y"
      },
      "source": [
        ""
      ],
      "execution_count": null,
      "outputs": []
    },
    {
      "cell_type": "code",
      "metadata": {
        "id": "l5OJdvsN-G9L"
      },
      "source": [
        ""
      ],
      "execution_count": null,
      "outputs": []
    },
    {
      "cell_type": "code",
      "metadata": {
        "id": "bmbzZ6N26o53"
      },
      "source": [
        ""
      ],
      "execution_count": null,
      "outputs": []
    },
    {
      "cell_type": "code",
      "metadata": {
        "id": "XDKheyWe6o3y"
      },
      "source": [
        ""
      ],
      "execution_count": null,
      "outputs": []
    },
    {
      "cell_type": "code",
      "metadata": {
        "id": "2KHKCx7-MZO1"
      },
      "source": [
        "# Agglomeartive module import ( 계층형 알고리즘)\n",
        "from sklearn.cluster import AgglomerativeClustering"
      ],
      "execution_count": null,
      "outputs": []
    },
    {
      "cell_type": "code",
      "metadata": {
        "colab": {
          "base_uri": "https://localhost:8080/"
        },
        "id": "T7MqXi5AbAzt",
        "outputId": "b3f92dd3-240e-4a72-8bc7-219f9673688f"
      },
      "source": [
        "aggl = AgglomerativeClustering(n_clusters=3, linkage='ward', affinity ='euclidean').fit(train_x) # affinity 는 유사도, 거리를 측정하는 방식을 선택한다고 보면됨\n",
        "aggl"
      ],
      "execution_count": null,
      "outputs": [
        {
          "output_type": "execute_result",
          "data": {
            "text/plain": [
              "AgglomerativeClustering(affinity='euclidean', compute_full_tree='auto',\n",
              "                        connectivity=None, distance_threshold=None,\n",
              "                        linkage='ward', memory=None, n_clusters=3)"
            ]
          },
          "metadata": {
            "tags": []
          },
          "execution_count": 63
        }
      ]
    },
    {
      "cell_type": "code",
      "metadata": {
        "id": "L6VE-GvYbbjP"
      },
      "source": [
        "# 훈련된 label을 변수에 저장하자\n",
        "aggl_labels = aggl.labels_"
      ],
      "execution_count": null,
      "outputs": []
    },
    {
      "cell_type": "code",
      "metadata": {
        "colab": {
          "base_uri": "https://localhost:8080/",
          "height": 247
        },
        "id": "QICaQ3RSbbfi",
        "outputId": "b3337082-8de4-42f7-a87c-261ecc367eb3"
      },
      "source": [
        "# 원래의 label과 훈련된 label을 시각화로 비교해보자.\n",
        "# 실제 label과 훈련된 결과 cluster를 그래프로 비교\n",
        "from plotly.subplots import make_subplots\n",
        "import plotly.graph_objects as go\n",
        "fig = make_subplots(rows =1, cols = 2, subplot_titles=('actual', 'aggl cluster'))\n",
        "fig.add_trace(\n",
        "    go.Scatter(x= train_x['sepal_width'],\n",
        "               y= train_x['sepal_length'],\n",
        "               mode= 'markers',\n",
        "               marker = dict(color=train_y )),\n",
        "              row=1, col=1 \n",
        "              )\n",
        "fig.add_trace(\n",
        "    go.Scatter(x= train_x['sepal_width'],\n",
        "               y= train_x['sepal_length'],\n",
        "               mode= 'markers',\n",
        "               marker = dict(color=aggl_labels )),\n",
        "              row=1, col=2 \n",
        "              )\n",
        "\n",
        "fig.update_layout(width= 800,height = 600)\n",
        "fig.show()"
      ],
      "execution_count": 33,
      "outputs": [
        {
          "output_type": "error",
          "ename": "NameError",
          "evalue": "ignored",
          "traceback": [
            "\u001b[0;31m---------------------------------------------------------------------------\u001b[0m",
            "\u001b[0;31mNameError\u001b[0m                                 Traceback (most recent call last)",
            "\u001b[0;32m<ipython-input-33-4377d00d5d60>\u001b[0m in \u001b[0;36m<module>\u001b[0;34m()\u001b[0m\n\u001b[1;32m     15\u001b[0m                \u001b[0my\u001b[0m\u001b[0;34m=\u001b[0m \u001b[0mtrain_x\u001b[0m\u001b[0;34m[\u001b[0m\u001b[0;34m'sepal_length'\u001b[0m\u001b[0;34m]\u001b[0m\u001b[0;34m,\u001b[0m\u001b[0;34m\u001b[0m\u001b[0;34m\u001b[0m\u001b[0m\n\u001b[1;32m     16\u001b[0m                \u001b[0mmode\u001b[0m\u001b[0;34m=\u001b[0m \u001b[0;34m'markers'\u001b[0m\u001b[0;34m,\u001b[0m\u001b[0;34m\u001b[0m\u001b[0;34m\u001b[0m\u001b[0m\n\u001b[0;32m---> 17\u001b[0;31m                marker = dict(color=aggl_labels )),\n\u001b[0m\u001b[1;32m     18\u001b[0m               \u001b[0mrow\u001b[0m\u001b[0;34m=\u001b[0m\u001b[0;36m1\u001b[0m\u001b[0;34m,\u001b[0m \u001b[0mcol\u001b[0m\u001b[0;34m=\u001b[0m\u001b[0;36m2\u001b[0m\u001b[0;34m\u001b[0m\u001b[0;34m\u001b[0m\u001b[0m\n\u001b[1;32m     19\u001b[0m               )\n",
            "\u001b[0;31mNameError\u001b[0m: name 'aggl_labels' is not defined"
          ]
        }
      ]
    },
    {
      "cell_type": "code",
      "metadata": {
        "colab": {
          "base_uri": "https://localhost:8080/",
          "height": 617
        },
        "id": "hAvmpDbgbbdU",
        "outputId": "0faf503f-8a45-475b-f807-82a97e45cdfb"
      },
      "source": [
        "fig = make_subplots(rows =1, cols = 2, subplot_titles=('actual', 'aggl cluster'))\n",
        "fig.add_trace(\n",
        "    go.Scatter(x= train_x['petal_width'],\n",
        "               y= train_x['petal_length'],\n",
        "               mode= 'markers',\n",
        "               marker = dict(color=train_y )),\n",
        "              row=1, col=1 \n",
        "              )\n",
        "fig.add_trace(\n",
        "    go.Scatter(x= train_x['petal_width'],\n",
        "               y= train_x['petal_length'],\n",
        "               mode= 'markers',\n",
        "               marker = dict(color=aggl_labels )),\n",
        "              row=1, col=2 \n",
        "              )\n",
        "\n",
        "fig.update_layout(width= 800,height = 600)\n",
        "fig.show()"
      ],
      "execution_count": null,
      "outputs": [
        {
          "output_type": "display_data",
          "data": {
            "text/html": [
              "<html>\n",
              "<head><meta charset=\"utf-8\" /></head>\n",
              "<body>\n",
              "    <div>\n",
              "            <script src=\"https://cdnjs.cloudflare.com/ajax/libs/mathjax/2.7.5/MathJax.js?config=TeX-AMS-MML_SVG\"></script><script type=\"text/javascript\">if (window.MathJax) {MathJax.Hub.Config({SVG: {font: \"STIX-Web\"}});}</script>\n",
              "                <script type=\"text/javascript\">window.PlotlyConfig = {MathJaxConfig: 'local'};</script>\n",
              "        <script src=\"https://cdn.plot.ly/plotly-latest.min.js\"></script>    \n",
              "            <div id=\"7bfdb4d4-a575-4bb9-bad7-b172d2c4cd99\" class=\"plotly-graph-div\" style=\"height:600px; width:800px;\"></div>\n",
              "            <script type=\"text/javascript\">\n",
              "                \n",
              "                    window.PLOTLYENV=window.PLOTLYENV || {};\n",
              "                    \n",
              "                if (document.getElementById(\"7bfdb4d4-a575-4bb9-bad7-b172d2c4cd99\")) {\n",
              "                    Plotly.newPlot(\n",
              "                        '7bfdb4d4-a575-4bb9-bad7-b172d2c4cd99',\n",
              "                        [{\"marker\": {\"color\": [0, 2, 1, 2, 2, 0, 2, 1, 1, 0, 2, 1, 2, 2, 1, 1, 2, 0, 2, 1, 2, 0, 1, 0, 0, 0, 1, 1, 2, 0, 0, 0, 0, 2, 0, 1, 0, 2, 0, 1, 1, 2, 2, 1, 1, 0, 0, 1, 0, 0, 0, 0, 0, 2, 1, 2, 0, 1, 1, 0, 0, 0, 2, 2, 2, 0, 0, 0, 2, 2, 1, 1, 1, 1, 1, 1, 1, 2, 2, 2, 0, 1, 2, 2, 1, 2, 0, 2, 1, 0, 1, 0, 1, 0, 0, 1, 1, 1, 2, 2, 2, 0, 1, 1, 1, 2, 0, 2, 0, 1, 0, 2, 1, 2, 0, 0, 2, 0, 2, 1]}, \"mode\": \"markers\", \"type\": \"scatter\", \"x\": [0.1, 2.4, 1.4, 2.1, 1.8, 0.4, 2.0, 1.3, 1.0, 0.2, 2.0, 1.3, 2.3, 2.5, 1.0, 1.2, 2.1, 0.2, 1.9, 1.3, 1.8, 0.2, 1.3, 0.2, 0.3, 0.4, 1.3, 1.6, 2.3, 0.2, 0.4, 0.2, 0.1, 1.8, 0.4, 1.0, 0.3, 2.0, 0.2, 1.5, 1.0, 2.3, 2.0, 1.2, 1.4, 0.3, 0.2, 1.7, 0.2, 0.2, 0.2, 0.2, 0.2, 1.8, 1.5, 1.9, 0.2, 1.3, 1.3, 0.2, 0.4, 0.3, 2.2, 1.9, 1.8, 0.2, 0.2, 0.2, 2.1, 2.3, 1.5, 1.1, 1.4, 1.2, 1.1, 1.0, 1.3, 2.3, 1.7, 1.8, 0.3, 1.5, 1.8, 1.6, 1.5, 2.5, 0.6, 1.8, 1.3, 0.2, 1.3, 0.5, 1.5, 0.2, 0.3, 1.6, 1.8, 1.2, 2.3, 2.2, 2.5, 0.2, 1.4, 1.4, 1.5, 1.8, 0.1, 1.8, 0.2, 1.5, 0.2, 2.1, 1.4, 2.4, 0.3, 0.2, 2.1, 0.2, 2.1, 1.0], \"xaxis\": \"x\", \"y\": [1.1, 5.6, 4.4, 6.6, 5.8, 1.9, 5.0, 4.3, 3.7, 1.4, 6.4, 4.4, 5.3, 5.7, 4.0, 4.2, 5.9, 1.5, 6.1, 4.0, 6.3, 1.3, 3.6, 1.6, 1.5, 1.7, 4.0, 4.5, 5.9, 1.5, 1.3, 1.3, 1.5, 4.9, 1.6, 3.5, 1.4, 5.2, 1.4, 4.5, 3.3, 6.9, 5.1, 3.9, 3.9, 1.3, 1.4, 5.0, 1.2, 1.4, 1.4, 1.6, 1.3, 4.9, 4.5, 5.3, 1.5, 4.0, 4.2, 1.5, 1.5, 1.3, 5.8, 5.1, 4.8, 1.5, 1.7, 1.2, 5.6, 5.2, 4.9, 3.0, 4.8, 4.4, 3.9, 4.1, 4.1, 5.4, 4.5, 4.8, 1.4, 4.5, 5.1, 5.8, 4.7, 6.0, 1.6, 5.5, 4.2, 1.5, 4.3, 1.7, 4.6, 1.9, 1.4, 5.1, 4.8, 4.7, 5.1, 6.7, 6.1, 1.6, 4.7, 4.6, 4.5, 6.0, 1.4, 5.5, 1.0, 4.9, 1.4, 5.7, 4.7, 5.1, 1.7, 1.6, 5.4, 1.3, 5.5, 3.5], \"yaxis\": \"y\"}, {\"marker\": {\"color\": [1, 2, 0, 2, 2, 1, 0, 0, 0, 1, 2, 0, 2, 2, 0, 0, 2, 1, 2, 0, 2, 1, 0, 1, 1, 1, 0, 0, 2, 1, 1, 1, 1, 0, 1, 0, 1, 2, 1, 0, 0, 2, 2, 0, 0, 1, 1, 2, 1, 1, 1, 1, 1, 0, 0, 2, 1, 0, 0, 1, 1, 1, 2, 0, 0, 1, 1, 1, 2, 2, 0, 0, 0, 0, 0, 0, 0, 2, 0, 0, 1, 0, 0, 2, 0, 2, 1, 2, 0, 1, 0, 1, 0, 1, 1, 0, 0, 0, 2, 2, 2, 1, 0, 0, 0, 2, 1, 2, 1, 0, 1, 2, 0, 0, 1, 1, 2, 1, 2, 0]}, \"mode\": \"markers\", \"type\": \"scatter\", \"x\": [0.1, 2.4, 1.4, 2.1, 1.8, 0.4, 2.0, 1.3, 1.0, 0.2, 2.0, 1.3, 2.3, 2.5, 1.0, 1.2, 2.1, 0.2, 1.9, 1.3, 1.8, 0.2, 1.3, 0.2, 0.3, 0.4, 1.3, 1.6, 2.3, 0.2, 0.4, 0.2, 0.1, 1.8, 0.4, 1.0, 0.3, 2.0, 0.2, 1.5, 1.0, 2.3, 2.0, 1.2, 1.4, 0.3, 0.2, 1.7, 0.2, 0.2, 0.2, 0.2, 0.2, 1.8, 1.5, 1.9, 0.2, 1.3, 1.3, 0.2, 0.4, 0.3, 2.2, 1.9, 1.8, 0.2, 0.2, 0.2, 2.1, 2.3, 1.5, 1.1, 1.4, 1.2, 1.1, 1.0, 1.3, 2.3, 1.7, 1.8, 0.3, 1.5, 1.8, 1.6, 1.5, 2.5, 0.6, 1.8, 1.3, 0.2, 1.3, 0.5, 1.5, 0.2, 0.3, 1.6, 1.8, 1.2, 2.3, 2.2, 2.5, 0.2, 1.4, 1.4, 1.5, 1.8, 0.1, 1.8, 0.2, 1.5, 0.2, 2.1, 1.4, 2.4, 0.3, 0.2, 2.1, 0.2, 2.1, 1.0], \"xaxis\": \"x2\", \"y\": [1.1, 5.6, 4.4, 6.6, 5.8, 1.9, 5.0, 4.3, 3.7, 1.4, 6.4, 4.4, 5.3, 5.7, 4.0, 4.2, 5.9, 1.5, 6.1, 4.0, 6.3, 1.3, 3.6, 1.6, 1.5, 1.7, 4.0, 4.5, 5.9, 1.5, 1.3, 1.3, 1.5, 4.9, 1.6, 3.5, 1.4, 5.2, 1.4, 4.5, 3.3, 6.9, 5.1, 3.9, 3.9, 1.3, 1.4, 5.0, 1.2, 1.4, 1.4, 1.6, 1.3, 4.9, 4.5, 5.3, 1.5, 4.0, 4.2, 1.5, 1.5, 1.3, 5.8, 5.1, 4.8, 1.5, 1.7, 1.2, 5.6, 5.2, 4.9, 3.0, 4.8, 4.4, 3.9, 4.1, 4.1, 5.4, 4.5, 4.8, 1.4, 4.5, 5.1, 5.8, 4.7, 6.0, 1.6, 5.5, 4.2, 1.5, 4.3, 1.7, 4.6, 1.9, 1.4, 5.1, 4.8, 4.7, 5.1, 6.7, 6.1, 1.6, 4.7, 4.6, 4.5, 6.0, 1.4, 5.5, 1.0, 4.9, 1.4, 5.7, 4.7, 5.1, 1.7, 1.6, 5.4, 1.3, 5.5, 3.5], \"yaxis\": \"y2\"}],\n",
              "                        {\"annotations\": [{\"font\": {\"size\": 16}, \"showarrow\": false, \"text\": \"actual\", \"x\": 0.225, \"xanchor\": \"center\", \"xref\": \"paper\", \"y\": 1.0, \"yanchor\": \"bottom\", \"yref\": \"paper\"}, {\"font\": {\"size\": 16}, \"showarrow\": false, \"text\": \"aggl cluster\", \"x\": 0.775, \"xanchor\": \"center\", \"xref\": \"paper\", \"y\": 1.0, \"yanchor\": \"bottom\", \"yref\": \"paper\"}], \"height\": 600, \"template\": {\"data\": {\"bar\": [{\"error_x\": {\"color\": \"#2a3f5f\"}, \"error_y\": {\"color\": \"#2a3f5f\"}, \"marker\": {\"line\": {\"color\": \"#E5ECF6\", \"width\": 0.5}}, \"type\": \"bar\"}], \"barpolar\": [{\"marker\": {\"line\": {\"color\": \"#E5ECF6\", \"width\": 0.5}}, \"type\": \"barpolar\"}], \"carpet\": [{\"aaxis\": {\"endlinecolor\": \"#2a3f5f\", \"gridcolor\": \"white\", \"linecolor\": \"white\", \"minorgridcolor\": \"white\", \"startlinecolor\": \"#2a3f5f\"}, \"baxis\": {\"endlinecolor\": \"#2a3f5f\", \"gridcolor\": \"white\", \"linecolor\": \"white\", \"minorgridcolor\": \"white\", \"startlinecolor\": \"#2a3f5f\"}, \"type\": \"carpet\"}], \"choropleth\": [{\"colorbar\": {\"outlinewidth\": 0, \"ticks\": \"\"}, \"type\": \"choropleth\"}], \"contour\": [{\"colorbar\": {\"outlinewidth\": 0, \"ticks\": \"\"}, \"colorscale\": [[0.0, \"#0d0887\"], [0.1111111111111111, \"#46039f\"], [0.2222222222222222, \"#7201a8\"], [0.3333333333333333, \"#9c179e\"], [0.4444444444444444, \"#bd3786\"], [0.5555555555555556, \"#d8576b\"], [0.6666666666666666, \"#ed7953\"], [0.7777777777777778, \"#fb9f3a\"], [0.8888888888888888, \"#fdca26\"], [1.0, \"#f0f921\"]], \"type\": \"contour\"}], \"contourcarpet\": [{\"colorbar\": {\"outlinewidth\": 0, \"ticks\": \"\"}, \"type\": \"contourcarpet\"}], \"heatmap\": [{\"colorbar\": {\"outlinewidth\": 0, \"ticks\": \"\"}, \"colorscale\": [[0.0, \"#0d0887\"], [0.1111111111111111, \"#46039f\"], [0.2222222222222222, \"#7201a8\"], [0.3333333333333333, \"#9c179e\"], [0.4444444444444444, \"#bd3786\"], [0.5555555555555556, \"#d8576b\"], [0.6666666666666666, \"#ed7953\"], [0.7777777777777778, \"#fb9f3a\"], [0.8888888888888888, \"#fdca26\"], [1.0, \"#f0f921\"]], \"type\": \"heatmap\"}], \"heatmapgl\": [{\"colorbar\": {\"outlinewidth\": 0, \"ticks\": \"\"}, \"colorscale\": [[0.0, \"#0d0887\"], [0.1111111111111111, \"#46039f\"], [0.2222222222222222, \"#7201a8\"], [0.3333333333333333, \"#9c179e\"], [0.4444444444444444, \"#bd3786\"], [0.5555555555555556, \"#d8576b\"], [0.6666666666666666, \"#ed7953\"], [0.7777777777777778, \"#fb9f3a\"], [0.8888888888888888, \"#fdca26\"], [1.0, \"#f0f921\"]], \"type\": \"heatmapgl\"}], \"histogram\": [{\"marker\": {\"colorbar\": {\"outlinewidth\": 0, \"ticks\": \"\"}}, \"type\": \"histogram\"}], \"histogram2d\": [{\"colorbar\": {\"outlinewidth\": 0, \"ticks\": \"\"}, \"colorscale\": [[0.0, \"#0d0887\"], [0.1111111111111111, \"#46039f\"], [0.2222222222222222, \"#7201a8\"], [0.3333333333333333, \"#9c179e\"], [0.4444444444444444, \"#bd3786\"], [0.5555555555555556, \"#d8576b\"], [0.6666666666666666, \"#ed7953\"], [0.7777777777777778, \"#fb9f3a\"], [0.8888888888888888, \"#fdca26\"], [1.0, \"#f0f921\"]], \"type\": \"histogram2d\"}], \"histogram2dcontour\": [{\"colorbar\": {\"outlinewidth\": 0, \"ticks\": \"\"}, \"colorscale\": [[0.0, \"#0d0887\"], [0.1111111111111111, \"#46039f\"], [0.2222222222222222, \"#7201a8\"], [0.3333333333333333, \"#9c179e\"], [0.4444444444444444, \"#bd3786\"], [0.5555555555555556, \"#d8576b\"], [0.6666666666666666, \"#ed7953\"], [0.7777777777777778, \"#fb9f3a\"], [0.8888888888888888, \"#fdca26\"], [1.0, \"#f0f921\"]], \"type\": \"histogram2dcontour\"}], \"mesh3d\": [{\"colorbar\": {\"outlinewidth\": 0, \"ticks\": \"\"}, \"type\": \"mesh3d\"}], \"parcoords\": [{\"line\": {\"colorbar\": {\"outlinewidth\": 0, \"ticks\": \"\"}}, \"type\": \"parcoords\"}], \"pie\": [{\"automargin\": true, \"type\": \"pie\"}], \"scatter\": [{\"marker\": {\"colorbar\": {\"outlinewidth\": 0, \"ticks\": \"\"}}, \"type\": \"scatter\"}], \"scatter3d\": [{\"line\": {\"colorbar\": {\"outlinewidth\": 0, \"ticks\": \"\"}}, \"marker\": {\"colorbar\": {\"outlinewidth\": 0, \"ticks\": \"\"}}, \"type\": \"scatter3d\"}], \"scattercarpet\": [{\"marker\": {\"colorbar\": {\"outlinewidth\": 0, \"ticks\": \"\"}}, \"type\": \"scattercarpet\"}], \"scattergeo\": [{\"marker\": {\"colorbar\": {\"outlinewidth\": 0, \"ticks\": \"\"}}, \"type\": \"scattergeo\"}], \"scattergl\": [{\"marker\": {\"colorbar\": {\"outlinewidth\": 0, \"ticks\": \"\"}}, \"type\": \"scattergl\"}], \"scattermapbox\": [{\"marker\": {\"colorbar\": {\"outlinewidth\": 0, \"ticks\": \"\"}}, \"type\": \"scattermapbox\"}], \"scatterpolar\": [{\"marker\": {\"colorbar\": {\"outlinewidth\": 0, \"ticks\": \"\"}}, \"type\": \"scatterpolar\"}], \"scatterpolargl\": [{\"marker\": {\"colorbar\": {\"outlinewidth\": 0, \"ticks\": \"\"}}, \"type\": \"scatterpolargl\"}], \"scatterternary\": [{\"marker\": {\"colorbar\": {\"outlinewidth\": 0, \"ticks\": \"\"}}, \"type\": \"scatterternary\"}], \"surface\": [{\"colorbar\": {\"outlinewidth\": 0, \"ticks\": \"\"}, \"colorscale\": [[0.0, \"#0d0887\"], [0.1111111111111111, \"#46039f\"], [0.2222222222222222, \"#7201a8\"], [0.3333333333333333, \"#9c179e\"], [0.4444444444444444, \"#bd3786\"], [0.5555555555555556, \"#d8576b\"], [0.6666666666666666, \"#ed7953\"], [0.7777777777777778, \"#fb9f3a\"], [0.8888888888888888, \"#fdca26\"], [1.0, \"#f0f921\"]], \"type\": \"surface\"}], \"table\": [{\"cells\": {\"fill\": {\"color\": \"#EBF0F8\"}, \"line\": {\"color\": \"white\"}}, \"header\": {\"fill\": {\"color\": \"#C8D4E3\"}, \"line\": {\"color\": \"white\"}}, \"type\": \"table\"}]}, \"layout\": {\"annotationdefaults\": {\"arrowcolor\": \"#2a3f5f\", \"arrowhead\": 0, \"arrowwidth\": 1}, \"coloraxis\": {\"colorbar\": {\"outlinewidth\": 0, \"ticks\": \"\"}}, \"colorscale\": {\"diverging\": [[0, \"#8e0152\"], [0.1, \"#c51b7d\"], [0.2, \"#de77ae\"], [0.3, \"#f1b6da\"], [0.4, \"#fde0ef\"], [0.5, \"#f7f7f7\"], [0.6, \"#e6f5d0\"], [0.7, \"#b8e186\"], [0.8, \"#7fbc41\"], [0.9, \"#4d9221\"], [1, \"#276419\"]], \"sequential\": [[0.0, \"#0d0887\"], [0.1111111111111111, \"#46039f\"], [0.2222222222222222, \"#7201a8\"], [0.3333333333333333, \"#9c179e\"], [0.4444444444444444, \"#bd3786\"], [0.5555555555555556, \"#d8576b\"], [0.6666666666666666, \"#ed7953\"], [0.7777777777777778, \"#fb9f3a\"], [0.8888888888888888, \"#fdca26\"], [1.0, \"#f0f921\"]], \"sequentialminus\": [[0.0, \"#0d0887\"], [0.1111111111111111, \"#46039f\"], [0.2222222222222222, \"#7201a8\"], [0.3333333333333333, \"#9c179e\"], [0.4444444444444444, \"#bd3786\"], [0.5555555555555556, \"#d8576b\"], [0.6666666666666666, \"#ed7953\"], [0.7777777777777778, \"#fb9f3a\"], [0.8888888888888888, \"#fdca26\"], [1.0, \"#f0f921\"]]}, \"colorway\": [\"#636efa\", \"#EF553B\", \"#00cc96\", \"#ab63fa\", \"#FFA15A\", \"#19d3f3\", \"#FF6692\", \"#B6E880\", \"#FF97FF\", \"#FECB52\"], \"font\": {\"color\": \"#2a3f5f\"}, \"geo\": {\"bgcolor\": \"white\", \"lakecolor\": \"white\", \"landcolor\": \"#E5ECF6\", \"showlakes\": true, \"showland\": true, \"subunitcolor\": \"white\"}, \"hoverlabel\": {\"align\": \"left\"}, \"hovermode\": \"closest\", \"mapbox\": {\"style\": \"light\"}, \"paper_bgcolor\": \"white\", \"plot_bgcolor\": \"#E5ECF6\", \"polar\": {\"angularaxis\": {\"gridcolor\": \"white\", \"linecolor\": \"white\", \"ticks\": \"\"}, \"bgcolor\": \"#E5ECF6\", \"radialaxis\": {\"gridcolor\": \"white\", \"linecolor\": \"white\", \"ticks\": \"\"}}, \"scene\": {\"xaxis\": {\"backgroundcolor\": \"#E5ECF6\", \"gridcolor\": \"white\", \"gridwidth\": 2, \"linecolor\": \"white\", \"showbackground\": true, \"ticks\": \"\", \"zerolinecolor\": \"white\"}, \"yaxis\": {\"backgroundcolor\": \"#E5ECF6\", \"gridcolor\": \"white\", \"gridwidth\": 2, \"linecolor\": \"white\", \"showbackground\": true, \"ticks\": \"\", \"zerolinecolor\": \"white\"}, \"zaxis\": {\"backgroundcolor\": \"#E5ECF6\", \"gridcolor\": \"white\", \"gridwidth\": 2, \"linecolor\": \"white\", \"showbackground\": true, \"ticks\": \"\", \"zerolinecolor\": \"white\"}}, \"shapedefaults\": {\"line\": {\"color\": \"#2a3f5f\"}}, \"ternary\": {\"aaxis\": {\"gridcolor\": \"white\", \"linecolor\": \"white\", \"ticks\": \"\"}, \"baxis\": {\"gridcolor\": \"white\", \"linecolor\": \"white\", \"ticks\": \"\"}, \"bgcolor\": \"#E5ECF6\", \"caxis\": {\"gridcolor\": \"white\", \"linecolor\": \"white\", \"ticks\": \"\"}}, \"title\": {\"x\": 0.05}, \"xaxis\": {\"automargin\": true, \"gridcolor\": \"white\", \"linecolor\": \"white\", \"ticks\": \"\", \"title\": {\"standoff\": 15}, \"zerolinecolor\": \"white\", \"zerolinewidth\": 2}, \"yaxis\": {\"automargin\": true, \"gridcolor\": \"white\", \"linecolor\": \"white\", \"ticks\": \"\", \"title\": {\"standoff\": 15}, \"zerolinecolor\": \"white\", \"zerolinewidth\": 2}}}, \"width\": 800, \"xaxis\": {\"anchor\": \"y\", \"domain\": [0.0, 0.45]}, \"xaxis2\": {\"anchor\": \"y2\", \"domain\": [0.55, 1.0]}, \"yaxis\": {\"anchor\": \"x\", \"domain\": [0.0, 1.0]}, \"yaxis2\": {\"anchor\": \"x2\", \"domain\": [0.0, 1.0]}},\n",
              "                        {\"responsive\": true}\n",
              "                    ).then(function(){\n",
              "                            \n",
              "var gd = document.getElementById('7bfdb4d4-a575-4bb9-bad7-b172d2c4cd99');\n",
              "var x = new MutationObserver(function (mutations, observer) {{\n",
              "        var display = window.getComputedStyle(gd).display;\n",
              "        if (!display || display === 'none') {{\n",
              "            console.log([gd, 'removed!']);\n",
              "            Plotly.purge(gd);\n",
              "            observer.disconnect();\n",
              "        }}\n",
              "}});\n",
              "\n",
              "// Listen for the removal of the full notebook cells\n",
              "var notebookContainer = gd.closest('#notebook-container');\n",
              "if (notebookContainer) {{\n",
              "    x.observe(notebookContainer, {childList: true});\n",
              "}}\n",
              "\n",
              "// Listen for the clearing of the current output cell\n",
              "var outputEl = gd.closest('.output');\n",
              "if (outputEl) {{\n",
              "    x.observe(outputEl, {childList: true});\n",
              "}}\n",
              "\n",
              "                        })\n",
              "                };\n",
              "                \n",
              "            </script>\n",
              "        </div>\n",
              "</body>\n",
              "</html>"
            ]
          },
          "metadata": {
            "tags": []
          }
        }
      ]
    },
    {
      "cell_type": "code",
      "metadata": {
        "colab": {
          "base_uri": "https://localhost:8080/"
        },
        "id": "TC0LSlZ7bba6",
        "outputId": "44ce2783-dce6-4115-9a7f-bb23a822c848"
      },
      "source": [
        "# 결과를 수치적으로 파악해보자.\n",
        "import scipy\n",
        "def find_matching_clusters(cluster_case, actual_labels, cluster_labels) :\n",
        "    matched_cluster = {}\n",
        "    actual_case = list(set(actual_labels))\n",
        "    for i in cluster_case :\n",
        "        idx = cluster_labels==i\n",
        "        new_label = scipy.stats.mode(actual_labels[idx])[0][0]\n",
        "        actual_case.remove(new_label)\n",
        "        matched_cluster[i] = new_label\n",
        "        print(f'훈련된 label 명 : {i} >> 가장 빈번한 실제 label명 : {new_label}')\n",
        "    return matched_cluster\n",
        "aggl_case = list(set(aggl_labels))\n",
        "aggl_perm_dict = find_matching_clusters(aggl_case, train_y, aggl_labels)\n",
        "aggl_perm_dict"
      ],
      "execution_count": null,
      "outputs": [
        {
          "output_type": "stream",
          "text": [
            "훈련된 label 명 : 0 >> 가장 빈번한 실제 label명 : 1\n",
            "훈련된 label 명 : 1 >> 가장 빈번한 실제 label명 : 0\n",
            "훈련된 label 명 : 2 >> 가장 빈번한 실제 label명 : 2\n"
          ],
          "name": "stdout"
        },
        {
          "output_type": "execute_result",
          "data": {
            "text/plain": [
              "{0: 1, 1: 0, 2: 2}"
            ]
          },
          "metadata": {
            "tags": []
          },
          "execution_count": 70
        }
      ]
    },
    {
      "cell_type": "code",
      "metadata": {
        "id": "Sj1O0bPcbbY7"
      },
      "source": [
        "agg_new_labels = [aggl_perm_dict[label] for label in aggl_labels]"
      ],
      "execution_count": null,
      "outputs": []
    },
    {
      "cell_type": "code",
      "metadata": {
        "colab": {
          "base_uri": "https://localhost:8080/"
        },
        "id": "riZPKE9NbbWs",
        "outputId": "f7731f64-50be-4901-8dde-c914ac21a843"
      },
      "source": [
        "accuracy_score(train_y, agg_new_labels)"
      ],
      "execution_count": null,
      "outputs": [
        {
          "output_type": "execute_result",
          "data": {
            "text/plain": [
              "0.9166666666666666"
            ]
          },
          "metadata": {
            "tags": []
          },
          "execution_count": 72
        }
      ]
    },
    {
      "cell_type": "code",
      "metadata": {
        "id": "K5elP_HXdGHm"
      },
      "source": [
        "## \n",
        "# dendrogram을 그리기 위한 matplotlib와 scipy의 dendrogram import\n",
        "import matplotlib.pyplot as plt\n",
        "from scipy.cluster.hierarchy import dendrogram, linkage"
      ],
      "execution_count": null,
      "outputs": []
    },
    {
      "cell_type": "code",
      "metadata": {
        "colab": {
          "base_uri": "https://localhost:8080/"
        },
        "id": "pJb8-wOWdGFi",
        "outputId": "3e7dc908-6874-47cf-baf8-6a67424901b9"
      },
      "source": [
        "# linkage matrix 구조를 파악해보자.\n",
        "sample = [[i] for i in [2, 8, 0, 4, 1, 9, 9, 0]]\n",
        "print(sample)\n",
        "sample_linkage = linkage(sample,'single')\n",
        "print(sample_linkage)\n",
        "# linkage matrix는 항상 4줄이 나오게 되는데, [node1, node2, distance, total_nodes] 로 출력이 됨. "
      ],
      "execution_count": null,
      "outputs": [
        {
          "output_type": "stream",
          "text": [
            "[[2], [8], [0], [4], [1], [9], [9], [0]]\n",
            "[[ 2.  7.  0.  2.]\n",
            " [ 5.  6.  0.  2.]\n",
            " [ 0.  4.  1.  2.]\n",
            " [ 8. 10.  1.  4.]\n",
            " [ 1.  9.  1.  3.]\n",
            " [ 3. 11.  2.  5.]\n",
            " [12. 13.  4.  8.]]\n"
          ],
          "name": "stdout"
        }
      ]
    },
    {
      "cell_type": "code",
      "metadata": {
        "colab": {
          "base_uri": "https://localhost:8080/",
          "height": 376
        },
        "id": "Wi_phrVmdGDD",
        "outputId": "4f8401f0-61ec-4322-e42e-5172cc3334ac"
      },
      "source": [
        "# linkage matrix를 통해 dendrogram을 그려보자.\n",
        "fig = plt.figure(figsize = (13,6))\n",
        "dn = dendrogram(sample_linkage)\n",
        "plt.show()"
      ],
      "execution_count": null,
      "outputs": [
        {
          "output_type": "display_data",
          "data": {
            "image/png": "[encoded data removed]",
            "text/plain": [
              "<Figure size 936x432 with 1 Axes>"
            ]
          },
          "metadata": {
            "tags": []
          }
        }
      ]
    },
    {
      "cell_type": "code",
      "metadata": {
        "id": "dLs94voEdGAb"
      },
      "source": [
        "# Agglomerative - dendrogram을 통해 알고리즘 이해하기\n",
        "# [참고] model.children_, model.labels_, model.distances_ 를 활용\n",
        "# [참고] dendrogram을 만들기 위해 어떤 형태의 데이터가 필요한지 확인하자\n",
        "\n",
        "def create_linkage(model) :\n",
        "    # 각 노드의 총 point 수 계산\n",
        "    counts = np.zeros(model.children_.shape[0]) # children 길이만큼 0을 채움\n",
        "    n_samples = len(model.labels_ ) # 각 point의 cluster level\n",
        "    for i, merge in enumerate(model.children_) :\n",
        "        current_count = 0\n",
        "        for child_idx in merge :\n",
        "            if child_idx < n_samples :\n",
        "                current_count += 1 # leaf node\n",
        "            else :\n",
        "                current_count += counts[child_idx - n_samples]\n",
        "        counts[i] = current_count\n",
        "\n",
        "    linkage_matrix = np.column_stack([model.children_, model.distances_, counts]).astype(float)\n",
        "    return linkage_matrix"
      ],
      "execution_count": null,
      "outputs": []
    },
    {
      "cell_type": "code",
      "metadata": {
        "colab": {
          "base_uri": "https://localhost:8080/"
        },
        "id": "kkUdQ06YdF-D",
        "outputId": "8c7dc040-a502-4d07-ffa4-db7ae8581db2"
      },
      "source": [
        "# dendrogram을 그리기 위해서 parameter 조정이 필요함.\n",
        "# distance_threshold = 0 , n_clusters =None  < None으로 해줘야 댐\n",
        "aggl_dend = AgglomerativeClustering(n_clusters=None, distance_threshold=0).fit(train_x)\n",
        "aggl_dend"
      ],
      "execution_count": null,
      "outputs": [
        {
          "output_type": "execute_result",
          "data": {
            "text/plain": [
              "AgglomerativeClustering(affinity='euclidean', compute_full_tree='auto',\n",
              "                        connectivity=None, distance_threshold=0, linkage='ward',\n",
              "                        memory=None, n_clusters=None)"
            ]
          },
          "metadata": {
            "tags": []
          },
          "execution_count": 83
        }
      ]
    },
    {
      "cell_type": "code",
      "metadata": {
        "colab": {
          "base_uri": "https://localhost:8080/",
          "height": 364
        },
        "id": "MfH25wIpe_6T",
        "outputId": "3daa4fb6-d0a5-4d95-862f-1cd6892e31b1"
      },
      "source": [
        "plt.title('Agglomerative Clustering Dendrogram')\n",
        "linkage_matrix = create_linkage(aggl_dend)\n",
        "dendrogram(linkage_matrix, truncate_mode = 'level', p=3)\n",
        "plt.show()\n",
        "# 우리는 답을 안다\n",
        "# 3개로 끊을 것이다. \n",
        "# 그렇다면 5와 10사이에서 끊어줘야 함.\n"
      ],
      "execution_count": null,
      "outputs": [
        {
          "output_type": "display_data",
          "data": {
            "image/png": "[encoded data removed]",
            "text/plain": [
              "<Figure size 576x396 with 1 Axes>"
            ]
          },
          "metadata": {
            "tags": []
          }
        }
      ]
    },
    {
      "cell_type": "code",
      "metadata": {
        "colab": {
          "base_uri": "https://localhost:8080/"
        },
        "id": "NH6EVSG0e_3s",
        "outputId": "2af2bb63-b69b-41ee-955d-4d5a53a39628"
      },
      "source": [
        "# cluster를 4로 설정한 후 해보자\n",
        "aggl = AgglomerativeClustering(n_clusters = 4, linkage='ward', affinity='euclidean').fit(train_x)\n",
        "aggl"
      ],
      "execution_count": null,
      "outputs": [
        {
          "output_type": "execute_result",
          "data": {
            "text/plain": [
              "AgglomerativeClustering(affinity='euclidean', compute_full_tree='auto',\n",
              "                        connectivity=None, distance_threshold=None,\n",
              "                        linkage='ward', memory=None, n_clusters=4)"
            ]
          },
          "metadata": {
            "tags": []
          },
          "execution_count": 88
        }
      ]
    },
    {
      "cell_type": "code",
      "metadata": {
        "colab": {
          "base_uri": "https://localhost:8080/",
          "height": 617
        },
        "id": "4WDYq-cqe_1h",
        "outputId": "ab0ce731-f66c-47aa-813e-0a6626b4c419"
      },
      "source": [
        "aggl_labels = aggl.labels_\n",
        "fig = make_subplots(rows =1, cols = 2, subplot_titles=('actual', 'aggl cluster'))\n",
        "fig.add_trace(\n",
        "    go.Scatter(x= train_x['petal_width'],\n",
        "               y= train_x['petal_length'],\n",
        "               mode= 'markers',\n",
        "               marker = dict(color=train_y )),\n",
        "              row=1, col=1 \n",
        "              )\n",
        "fig.add_trace(\n",
        "    go.Scatter(x= train_x['petal_width'],\n",
        "               y= train_x['petal_length'],\n",
        "               mode= 'markers',\n",
        "               marker = dict(color=aggl_labels )),\n",
        "              row=1, col=2 \n",
        "              )\n",
        "\n",
        "fig.update_layout(width= 800,height = 600)\n",
        "fig.show()"
      ],
      "execution_count": null,
      "outputs": [
        {
          "output_type": "display_data",
          "data": {
            "text/html": [
              "<html>\n",
              "<head><meta charset=\"utf-8\" /></head>\n",
              "<body>\n",
              "    <div>\n",
              "            <script src=\"https://cdnjs.cloudflare.com/ajax/libs/mathjax/2.7.5/MathJax.js?config=TeX-AMS-MML_SVG\"></script><script type=\"text/javascript\">if (window.MathJax) {MathJax.Hub.Config({SVG: {font: \"STIX-Web\"}});}</script>\n",
              "                <script type=\"text/javascript\">window.PlotlyConfig = {MathJaxConfig: 'local'};</script>\n",
              "        <script src=\"https://cdn.plot.ly/plotly-latest.min.js\"></script>    \n",
              "            <div id=\"5b08b062-4dd3-426c-b0a4-9d25afd26cec\" class=\"plotly-graph-div\" style=\"height:600px; width:800px;\"></div>\n",
              "            <script type=\"text/javascript\">\n",
              "                \n",
              "                    window.PLOTLYENV=window.PLOTLYENV || {};\n",
              "                    \n",
              "                if (document.getElementById(\"5b08b062-4dd3-426c-b0a4-9d25afd26cec\")) {\n",
              "                    Plotly.newPlot(\n",
              "                        '5b08b062-4dd3-426c-b0a4-9d25afd26cec',\n",
              "                        [{\"marker\": {\"color\": [0, 2, 1, 2, 2, 0, 2, 1, 1, 0, 2, 1, 2, 2, 1, 1, 2, 0, 2, 1, 2, 0, 1, 0, 0, 0, 1, 1, 2, 0, 0, 0, 0, 2, 0, 1, 0, 2, 0, 1, 1, 2, 2, 1, 1, 0, 0, 1, 0, 0, 0, 0, 0, 2, 1, 2, 0, 1, 1, 0, 0, 0, 2, 2, 2, 0, 0, 0, 2, 2, 1, 1, 1, 1, 1, 1, 1, 2, 2, 2, 0, 1, 2, 2, 1, 2, 0, 2, 1, 0, 1, 0, 1, 0, 0, 1, 1, 1, 2, 2, 2, 0, 1, 1, 1, 2, 0, 2, 0, 1, 0, 2, 1, 2, 0, 0, 2, 0, 2, 1]}, \"mode\": \"markers\", \"type\": \"scatter\", \"x\": [0.1, 2.4, 1.4, 2.1, 1.8, 0.4, 2.0, 1.3, 1.0, 0.2, 2.0, 1.3, 2.3, 2.5, 1.0, 1.2, 2.1, 0.2, 1.9, 1.3, 1.8, 0.2, 1.3, 0.2, 0.3, 0.4, 1.3, 1.6, 2.3, 0.2, 0.4, 0.2, 0.1, 1.8, 0.4, 1.0, 0.3, 2.0, 0.2, 1.5, 1.0, 2.3, 2.0, 1.2, 1.4, 0.3, 0.2, 1.7, 0.2, 0.2, 0.2, 0.2, 0.2, 1.8, 1.5, 1.9, 0.2, 1.3, 1.3, 0.2, 0.4, 0.3, 2.2, 1.9, 1.8, 0.2, 0.2, 0.2, 2.1, 2.3, 1.5, 1.1, 1.4, 1.2, 1.1, 1.0, 1.3, 2.3, 1.7, 1.8, 0.3, 1.5, 1.8, 1.6, 1.5, 2.5, 0.6, 1.8, 1.3, 0.2, 1.3, 0.5, 1.5, 0.2, 0.3, 1.6, 1.8, 1.2, 2.3, 2.2, 2.5, 0.2, 1.4, 1.4, 1.5, 1.8, 0.1, 1.8, 0.2, 1.5, 0.2, 2.1, 1.4, 2.4, 0.3, 0.2, 2.1, 0.2, 2.1, 1.0], \"xaxis\": \"x\", \"y\": [1.1, 5.6, 4.4, 6.6, 5.8, 1.9, 5.0, 4.3, 3.7, 1.4, 6.4, 4.4, 5.3, 5.7, 4.0, 4.2, 5.9, 1.5, 6.1, 4.0, 6.3, 1.3, 3.6, 1.6, 1.5, 1.7, 4.0, 4.5, 5.9, 1.5, 1.3, 1.3, 1.5, 4.9, 1.6, 3.5, 1.4, 5.2, 1.4, 4.5, 3.3, 6.9, 5.1, 3.9, 3.9, 1.3, 1.4, 5.0, 1.2, 1.4, 1.4, 1.6, 1.3, 4.9, 4.5, 5.3, 1.5, 4.0, 4.2, 1.5, 1.5, 1.3, 5.8, 5.1, 4.8, 1.5, 1.7, 1.2, 5.6, 5.2, 4.9, 3.0, 4.8, 4.4, 3.9, 4.1, 4.1, 5.4, 4.5, 4.8, 1.4, 4.5, 5.1, 5.8, 4.7, 6.0, 1.6, 5.5, 4.2, 1.5, 4.3, 1.7, 4.6, 1.9, 1.4, 5.1, 4.8, 4.7, 5.1, 6.7, 6.1, 1.6, 4.7, 4.6, 4.5, 6.0, 1.4, 5.5, 1.0, 4.9, 1.4, 5.7, 4.7, 5.1, 1.7, 1.6, 5.4, 1.3, 5.5, 3.5], \"yaxis\": \"y\"}, {\"marker\": {\"color\": [1, 0, 2, 0, 0, 1, 2, 2, 3, 1, 0, 2, 0, 0, 3, 3, 0, 1, 0, 3, 0, 1, 3, 1, 1, 1, 3, 2, 0, 1, 1, 1, 1, 2, 1, 3, 1, 0, 1, 3, 3, 0, 0, 3, 3, 1, 1, 0, 1, 1, 1, 1, 1, 2, 2, 0, 1, 3, 3, 1, 1, 1, 0, 2, 2, 1, 1, 1, 0, 0, 2, 3, 2, 3, 3, 3, 3, 0, 3, 2, 1, 2, 2, 0, 2, 0, 1, 0, 3, 1, 2, 1, 2, 1, 1, 2, 2, 2, 0, 0, 0, 1, 2, 2, 3, 0, 1, 0, 1, 2, 1, 0, 2, 2, 1, 1, 0, 1, 0, 3]}, \"mode\": \"markers\", \"type\": \"scatter\", \"x\": [0.1, 2.4, 1.4, 2.1, 1.8, 0.4, 2.0, 1.3, 1.0, 0.2, 2.0, 1.3, 2.3, 2.5, 1.0, 1.2, 2.1, 0.2, 1.9, 1.3, 1.8, 0.2, 1.3, 0.2, 0.3, 0.4, 1.3, 1.6, 2.3, 0.2, 0.4, 0.2, 0.1, 1.8, 0.4, 1.0, 0.3, 2.0, 0.2, 1.5, 1.0, 2.3, 2.0, 1.2, 1.4, 0.3, 0.2, 1.7, 0.2, 0.2, 0.2, 0.2, 0.2, 1.8, 1.5, 1.9, 0.2, 1.3, 1.3, 0.2, 0.4, 0.3, 2.2, 1.9, 1.8, 0.2, 0.2, 0.2, 2.1, 2.3, 1.5, 1.1, 1.4, 1.2, 1.1, 1.0, 1.3, 2.3, 1.7, 1.8, 0.3, 1.5, 1.8, 1.6, 1.5, 2.5, 0.6, 1.8, 1.3, 0.2, 1.3, 0.5, 1.5, 0.2, 0.3, 1.6, 1.8, 1.2, 2.3, 2.2, 2.5, 0.2, 1.4, 1.4, 1.5, 1.8, 0.1, 1.8, 0.2, 1.5, 0.2, 2.1, 1.4, 2.4, 0.3, 0.2, 2.1, 0.2, 2.1, 1.0], \"xaxis\": \"x2\", \"y\": [1.1, 5.6, 4.4, 6.6, 5.8, 1.9, 5.0, 4.3, 3.7, 1.4, 6.4, 4.4, 5.3, 5.7, 4.0, 4.2, 5.9, 1.5, 6.1, 4.0, 6.3, 1.3, 3.6, 1.6, 1.5, 1.7, 4.0, 4.5, 5.9, 1.5, 1.3, 1.3, 1.5, 4.9, 1.6, 3.5, 1.4, 5.2, 1.4, 4.5, 3.3, 6.9, 5.1, 3.9, 3.9, 1.3, 1.4, 5.0, 1.2, 1.4, 1.4, 1.6, 1.3, 4.9, 4.5, 5.3, 1.5, 4.0, 4.2, 1.5, 1.5, 1.3, 5.8, 5.1, 4.8, 1.5, 1.7, 1.2, 5.6, 5.2, 4.9, 3.0, 4.8, 4.4, 3.9, 4.1, 4.1, 5.4, 4.5, 4.8, 1.4, 4.5, 5.1, 5.8, 4.7, 6.0, 1.6, 5.5, 4.2, 1.5, 4.3, 1.7, 4.6, 1.9, 1.4, 5.1, 4.8, 4.7, 5.1, 6.7, 6.1, 1.6, 4.7, 4.6, 4.5, 6.0, 1.4, 5.5, 1.0, 4.9, 1.4, 5.7, 4.7, 5.1, 1.7, 1.6, 5.4, 1.3, 5.5, 3.5], \"yaxis\": \"y2\"}],\n",
              "                        {\"annotations\": [{\"font\": {\"size\": 16}, \"showarrow\": false, \"text\": \"actual\", \"x\": 0.225, \"xanchor\": \"center\", \"xref\": \"paper\", \"y\": 1.0, \"yanchor\": \"bottom\", \"yref\": \"paper\"}, {\"font\": {\"size\": 16}, \"showarrow\": false, \"text\": \"aggl cluster\", \"x\": 0.775, \"xanchor\": \"center\", \"xref\": \"paper\", \"y\": 1.0, \"yanchor\": \"bottom\", \"yref\": \"paper\"}], \"height\": 600, \"template\": {\"data\": {\"bar\": [{\"error_x\": {\"color\": \"#2a3f5f\"}, \"error_y\": {\"color\": \"#2a3f5f\"}, \"marker\": {\"line\": {\"color\": \"#E5ECF6\", \"width\": 0.5}}, \"type\": \"bar\"}], \"barpolar\": [{\"marker\": {\"line\": {\"color\": \"#E5ECF6\", \"width\": 0.5}}, \"type\": \"barpolar\"}], \"carpet\": [{\"aaxis\": {\"endlinecolor\": \"#2a3f5f\", \"gridcolor\": \"white\", \"linecolor\": \"white\", \"minorgridcolor\": \"white\", \"startlinecolor\": \"#2a3f5f\"}, \"baxis\": {\"endlinecolor\": \"#2a3f5f\", \"gridcolor\": \"white\", \"linecolor\": \"white\", \"minorgridcolor\": \"white\", \"startlinecolor\": \"#2a3f5f\"}, \"type\": \"carpet\"}], \"choropleth\": [{\"colorbar\": {\"outlinewidth\": 0, \"ticks\": \"\"}, \"type\": \"choropleth\"}], \"contour\": [{\"colorbar\": {\"outlinewidth\": 0, \"ticks\": \"\"}, \"colorscale\": [[0.0, \"#0d0887\"], [0.1111111111111111, \"#46039f\"], [0.2222222222222222, \"#7201a8\"], [0.3333333333333333, \"#9c179e\"], [0.4444444444444444, \"#bd3786\"], [0.5555555555555556, \"#d8576b\"], [0.6666666666666666, \"#ed7953\"], [0.7777777777777778, \"#fb9f3a\"], [0.8888888888888888, \"#fdca26\"], [1.0, \"#f0f921\"]], \"type\": \"contour\"}], \"contourcarpet\": [{\"colorbar\": {\"outlinewidth\": 0, \"ticks\": \"\"}, \"type\": \"contourcarpet\"}], \"heatmap\": [{\"colorbar\": {\"outlinewidth\": 0, \"ticks\": \"\"}, \"colorscale\": [[0.0, \"#0d0887\"], [0.1111111111111111, \"#46039f\"], [0.2222222222222222, \"#7201a8\"], [0.3333333333333333, \"#9c179e\"], [0.4444444444444444, \"#bd3786\"], [0.5555555555555556, \"#d8576b\"], [0.6666666666666666, \"#ed7953\"], [0.7777777777777778, \"#fb9f3a\"], [0.8888888888888888, \"#fdca26\"], [1.0, \"#f0f921\"]], \"type\": \"heatmap\"}], \"heatmapgl\": [{\"colorbar\": {\"outlinewidth\": 0, \"ticks\": \"\"}, \"colorscale\": [[0.0, \"#0d0887\"], [0.1111111111111111, \"#46039f\"], [0.2222222222222222, \"#7201a8\"], [0.3333333333333333, \"#9c179e\"], [0.4444444444444444, \"#bd3786\"], [0.5555555555555556, \"#d8576b\"], [0.6666666666666666, \"#ed7953\"], [0.7777777777777778, \"#fb9f3a\"], [0.8888888888888888, \"#fdca26\"], [1.0, \"#f0f921\"]], \"type\": \"heatmapgl\"}], \"histogram\": [{\"marker\": {\"colorbar\": {\"outlinewidth\": 0, \"ticks\": \"\"}}, \"type\": \"histogram\"}], \"histogram2d\": [{\"colorbar\": {\"outlinewidth\": 0, \"ticks\": \"\"}, \"colorscale\": [[0.0, \"#0d0887\"], [0.1111111111111111, \"#46039f\"], [0.2222222222222222, \"#7201a8\"], [0.3333333333333333, \"#9c179e\"], [0.4444444444444444, \"#bd3786\"], [0.5555555555555556, \"#d8576b\"], [0.6666666666666666, \"#ed7953\"], [0.7777777777777778, \"#fb9f3a\"], [0.8888888888888888, \"#fdca26\"], [1.0, \"#f0f921\"]], \"type\": \"histogram2d\"}], \"histogram2dcontour\": [{\"colorbar\": {\"outlinewidth\": 0, \"ticks\": \"\"}, \"colorscale\": [[0.0, \"#0d0887\"], [0.1111111111111111, \"#46039f\"], [0.2222222222222222, \"#7201a8\"], [0.3333333333333333, \"#9c179e\"], [0.4444444444444444, \"#bd3786\"], [0.5555555555555556, \"#d8576b\"], [0.6666666666666666, \"#ed7953\"], [0.7777777777777778, \"#fb9f3a\"], [0.8888888888888888, \"#fdca26\"], [1.0, \"#f0f921\"]], \"type\": \"histogram2dcontour\"}], \"mesh3d\": [{\"colorbar\": {\"outlinewidth\": 0, \"ticks\": \"\"}, \"type\": \"mesh3d\"}], \"parcoords\": [{\"line\": {\"colorbar\": {\"outlinewidth\": 0, \"ticks\": \"\"}}, \"type\": \"parcoords\"}], \"pie\": [{\"automargin\": true, \"type\": \"pie\"}], \"scatter\": [{\"marker\": {\"colorbar\": {\"outlinewidth\": 0, \"ticks\": \"\"}}, \"type\": \"scatter\"}], \"scatter3d\": [{\"line\": {\"colorbar\": {\"outlinewidth\": 0, \"ticks\": \"\"}}, \"marker\": {\"colorbar\": {\"outlinewidth\": 0, \"ticks\": \"\"}}, \"type\": \"scatter3d\"}], \"scattercarpet\": [{\"marker\": {\"colorbar\": {\"outlinewidth\": 0, \"ticks\": \"\"}}, \"type\": \"scattercarpet\"}], \"scattergeo\": [{\"marker\": {\"colorbar\": {\"outlinewidth\": 0, \"ticks\": \"\"}}, \"type\": \"scattergeo\"}], \"scattergl\": [{\"marker\": {\"colorbar\": {\"outlinewidth\": 0, \"ticks\": \"\"}}, \"type\": \"scattergl\"}], \"scattermapbox\": [{\"marker\": {\"colorbar\": {\"outlinewidth\": 0, \"ticks\": \"\"}}, \"type\": \"scattermapbox\"}], \"scatterpolar\": [{\"marker\": {\"colorbar\": {\"outlinewidth\": 0, \"ticks\": \"\"}}, \"type\": \"scatterpolar\"}], \"scatterpolargl\": [{\"marker\": {\"colorbar\": {\"outlinewidth\": 0, \"ticks\": \"\"}}, \"type\": \"scatterpolargl\"}], \"scatterternary\": [{\"marker\": {\"colorbar\": {\"outlinewidth\": 0, \"ticks\": \"\"}}, \"type\": \"scatterternary\"}], \"surface\": [{\"colorbar\": {\"outlinewidth\": 0, \"ticks\": \"\"}, \"colorscale\": [[0.0, \"#0d0887\"], [0.1111111111111111, \"#46039f\"], [0.2222222222222222, \"#7201a8\"], [0.3333333333333333, \"#9c179e\"], [0.4444444444444444, \"#bd3786\"], [0.5555555555555556, \"#d8576b\"], [0.6666666666666666, \"#ed7953\"], [0.7777777777777778, \"#fb9f3a\"], [0.8888888888888888, \"#fdca26\"], [1.0, \"#f0f921\"]], \"type\": \"surface\"}], \"table\": [{\"cells\": {\"fill\": {\"color\": \"#EBF0F8\"}, \"line\": {\"color\": \"white\"}}, \"header\": {\"fill\": {\"color\": \"#C8D4E3\"}, \"line\": {\"color\": \"white\"}}, \"type\": \"table\"}]}, \"layout\": {\"annotationdefaults\": {\"arrowcolor\": \"#2a3f5f\", \"arrowhead\": 0, \"arrowwidth\": 1}, \"coloraxis\": {\"colorbar\": {\"outlinewidth\": 0, \"ticks\": \"\"}}, \"colorscale\": {\"diverging\": [[0, \"#8e0152\"], [0.1, \"#c51b7d\"], [0.2, \"#de77ae\"], [0.3, \"#f1b6da\"], [0.4, \"#fde0ef\"], [0.5, \"#f7f7f7\"], [0.6, \"#e6f5d0\"], [0.7, \"#b8e186\"], [0.8, \"#7fbc41\"], [0.9, \"#4d9221\"], [1, \"#276419\"]], \"sequential\": [[0.0, \"#0d0887\"], [0.1111111111111111, \"#46039f\"], [0.2222222222222222, \"#7201a8\"], [0.3333333333333333, \"#9c179e\"], [0.4444444444444444, \"#bd3786\"], [0.5555555555555556, \"#d8576b\"], [0.6666666666666666, \"#ed7953\"], [0.7777777777777778, \"#fb9f3a\"], [0.8888888888888888, \"#fdca26\"], [1.0, \"#f0f921\"]], \"sequentialminus\": [[0.0, \"#0d0887\"], [0.1111111111111111, \"#46039f\"], [0.2222222222222222, \"#7201a8\"], [0.3333333333333333, \"#9c179e\"], [0.4444444444444444, \"#bd3786\"], [0.5555555555555556, \"#d8576b\"], [0.6666666666666666, \"#ed7953\"], [0.7777777777777778, \"#fb9f3a\"], [0.8888888888888888, \"#fdca26\"], [1.0, \"#f0f921\"]]}, \"colorway\": [\"#636efa\", \"#EF553B\", \"#00cc96\", \"#ab63fa\", \"#FFA15A\", \"#19d3f3\", \"#FF6692\", \"#B6E880\", \"#FF97FF\", \"#FECB52\"], \"font\": {\"color\": \"#2a3f5f\"}, \"geo\": {\"bgcolor\": \"white\", \"lakecolor\": \"white\", \"landcolor\": \"#E5ECF6\", \"showlakes\": true, \"showland\": true, \"subunitcolor\": \"white\"}, \"hoverlabel\": {\"align\": \"left\"}, \"hovermode\": \"closest\", \"mapbox\": {\"style\": \"light\"}, \"paper_bgcolor\": \"white\", \"plot_bgcolor\": \"#E5ECF6\", \"polar\": {\"angularaxis\": {\"gridcolor\": \"white\", \"linecolor\": \"white\", \"ticks\": \"\"}, \"bgcolor\": \"#E5ECF6\", \"radialaxis\": {\"gridcolor\": \"white\", \"linecolor\": \"white\", \"ticks\": \"\"}}, \"scene\": {\"xaxis\": {\"backgroundcolor\": \"#E5ECF6\", \"gridcolor\": \"white\", \"gridwidth\": 2, \"linecolor\": \"white\", \"showbackground\": true, \"ticks\": \"\", \"zerolinecolor\": \"white\"}, \"yaxis\": {\"backgroundcolor\": \"#E5ECF6\", \"gridcolor\": \"white\", \"gridwidth\": 2, \"linecolor\": \"white\", \"showbackground\": true, \"ticks\": \"\", \"zerolinecolor\": \"white\"}, \"zaxis\": {\"backgroundcolor\": \"#E5ECF6\", \"gridcolor\": \"white\", \"gridwidth\": 2, \"linecolor\": \"white\", \"showbackground\": true, \"ticks\": \"\", \"zerolinecolor\": \"white\"}}, \"shapedefaults\": {\"line\": {\"color\": \"#2a3f5f\"}}, \"ternary\": {\"aaxis\": {\"gridcolor\": \"white\", \"linecolor\": \"white\", \"ticks\": \"\"}, \"baxis\": {\"gridcolor\": \"white\", \"linecolor\": \"white\", \"ticks\": \"\"}, \"bgcolor\": \"#E5ECF6\", \"caxis\": {\"gridcolor\": \"white\", \"linecolor\": \"white\", \"ticks\": \"\"}}, \"title\": {\"x\": 0.05}, \"xaxis\": {\"automargin\": true, \"gridcolor\": \"white\", \"linecolor\": \"white\", \"ticks\": \"\", \"title\": {\"standoff\": 15}, \"zerolinecolor\": \"white\", \"zerolinewidth\": 2}, \"yaxis\": {\"automargin\": true, \"gridcolor\": \"white\", \"linecolor\": \"white\", \"ticks\": \"\", \"title\": {\"standoff\": 15}, \"zerolinecolor\": \"white\", \"zerolinewidth\": 2}}}, \"width\": 800, \"xaxis\": {\"anchor\": \"y\", \"domain\": [0.0, 0.45]}, \"xaxis2\": {\"anchor\": \"y2\", \"domain\": [0.55, 1.0]}, \"yaxis\": {\"anchor\": \"x\", \"domain\": [0.0, 1.0]}, \"yaxis2\": {\"anchor\": \"x2\", \"domain\": [0.0, 1.0]}},\n",
              "                        {\"responsive\": true}\n",
              "                    ).then(function(){\n",
              "                            \n",
              "var gd = document.getElementById('5b08b062-4dd3-426c-b0a4-9d25afd26cec');\n",
              "var x = new MutationObserver(function (mutations, observer) {{\n",
              "        var display = window.getComputedStyle(gd).display;\n",
              "        if (!display || display === 'none') {{\n",
              "            console.log([gd, 'removed!']);\n",
              "            Plotly.purge(gd);\n",
              "            observer.disconnect();\n",
              "        }}\n",
              "}});\n",
              "\n",
              "// Listen for the removal of the full notebook cells\n",
              "var notebookContainer = gd.closest('#notebook-container');\n",
              "if (notebookContainer) {{\n",
              "    x.observe(notebookContainer, {childList: true});\n",
              "}}\n",
              "\n",
              "// Listen for the clearing of the current output cell\n",
              "var outputEl = gd.closest('.output');\n",
              "if (outputEl) {{\n",
              "    x.observe(outputEl, {childList: true});\n",
              "}}\n",
              "\n",
              "                        })\n",
              "                };\n",
              "                \n",
              "            </script>\n",
              "        </div>\n",
              "</body>\n",
              "</html>"
            ]
          },
          "metadata": {
            "tags": []
          }
        }
      ]
    },
    {
      "cell_type": "code",
      "metadata": {
        "colab": {
          "base_uri": "https://localhost:8080/",
          "height": 617
        },
        "id": "LIVh3prqe_zW",
        "outputId": "03129d3f-5d35-4aa8-da0d-245d7ac53df3"
      },
      "source": [
        "fig = make_subplots(rows =1, cols = 2, subplot_titles=('actual', 'aggl cluster'))\n",
        "fig.add_trace(\n",
        "    go.Scatter(x= train_x['sepal_width'],\n",
        "               y= train_x['sepal_length'],\n",
        "               mode= 'markers',\n",
        "               marker = dict(color=train_y )),\n",
        "              row=1, col=1 \n",
        "              )\n",
        "fig.add_trace(\n",
        "    go.Scatter(x= train_x['sepal_width'],\n",
        "               y= train_x['sepal_length'],\n",
        "               mode= 'markers',\n",
        "               marker = dict(color=aggl_labels )),\n",
        "              row=1, col=2 \n",
        "              )\n",
        "\n",
        "fig.update_layout(width= 800,height = 600)\n",
        "fig.show()"
      ],
      "execution_count": null,
      "outputs": [
        {
          "output_type": "display_data",
          "data": {
            "text/html": [
              "<html>\n",
              "<head><meta charset=\"utf-8\" /></head>\n",
              "<body>\n",
              "    <div>\n",
              "            <script src=\"https://cdnjs.cloudflare.com/ajax/libs/mathjax/2.7.5/MathJax.js?config=TeX-AMS-MML_SVG\"></script><script type=\"text/javascript\">if (window.MathJax) {MathJax.Hub.Config({SVG: {font: \"STIX-Web\"}});}</script>\n",
              "                <script type=\"text/javascript\">window.PlotlyConfig = {MathJaxConfig: 'local'};</script>\n",
              "        <script src=\"https://cdn.plot.ly/plotly-latest.min.js\"></script>    \n",
              "            <div id=\"face0677-7a11-48f1-b742-adc9556575ac\" class=\"plotly-graph-div\" style=\"height:600px; width:800px;\"></div>\n",
              "            <script type=\"text/javascript\">\n",
              "                \n",
              "                    window.PLOTLYENV=window.PLOTLYENV || {};\n",
              "                    \n",
              "                if (document.getElementById(\"face0677-7a11-48f1-b742-adc9556575ac\")) {\n",
              "                    Plotly.newPlot(\n",
              "                        'face0677-7a11-48f1-b742-adc9556575ac',\n",
              "                        [{\"marker\": {\"color\": [0, 2, 1, 2, 2, 0, 2, 1, 1, 0, 2, 1, 2, 2, 1, 1, 2, 0, 2, 1, 2, 0, 1, 0, 0, 0, 1, 1, 2, 0, 0, 0, 0, 2, 0, 1, 0, 2, 0, 1, 1, 2, 2, 1, 1, 0, 0, 1, 0, 0, 0, 0, 0, 2, 1, 2, 0, 1, 1, 0, 0, 0, 2, 2, 2, 0, 0, 0, 2, 2, 1, 1, 1, 1, 1, 1, 1, 2, 2, 2, 0, 1, 2, 2, 1, 2, 0, 2, 1, 0, 1, 0, 1, 0, 0, 1, 1, 1, 2, 2, 2, 0, 1, 1, 1, 2, 0, 2, 0, 1, 0, 2, 1, 2, 0, 0, 2, 0, 2, 1]}, \"mode\": \"markers\", \"type\": \"scatter\", \"x\": [3.0, 3.4, 3.1, 3.0, 2.5, 3.8, 2.5, 2.9, 2.4, 3.6, 3.8, 2.3, 3.2, 3.3, 2.2, 3.0, 3.0, 3.4, 2.8, 2.3, 2.9, 3.5, 2.9, 3.8, 3.8, 3.9, 2.8, 3.4, 3.2, 3.4, 3.9, 3.0, 3.1, 3.0, 3.4, 2.0, 3.0, 3.0, 2.9, 3.0, 2.3, 2.6, 3.2, 2.7, 2.7, 3.5, 3.3, 3.0, 4.0, 3.2, 3.4, 3.1, 3.2, 2.7, 2.9, 2.7, 3.5, 2.5, 2.9, 3.7, 4.4, 2.3, 3.0, 2.7, 3.0, 3.7, 3.4, 3.2, 2.8, 3.0, 3.1, 2.5, 2.8, 2.6, 2.5, 2.7, 3.0, 3.4, 2.5, 2.8, 3.5, 2.2, 3.0, 3.0, 3.1, 3.3, 3.5, 3.0, 2.7, 3.1, 2.9, 3.3, 2.8, 3.4, 3.4, 2.7, 3.2, 2.8, 3.1, 3.8, 3.6, 3.0, 2.9, 3.0, 3.0, 3.2, 3.6, 3.1, 3.6, 2.5, 3.5, 3.3, 3.2, 2.8, 3.8, 3.4, 3.1, 3.2, 3.0, 2.6], \"xaxis\": \"x\", \"y\": [4.3, 6.3, 6.7, 7.6, 6.7, 5.1, 5.7, 6.2, 5.5, 5.0, 7.9, 6.3, 6.4, 6.7, 6.0, 5.7, 7.1, 5.1, 7.4, 5.5, 7.3, 5.5, 5.6, 5.1, 5.1, 5.4, 6.1, 6.0, 6.8, 5.0, 5.4, 4.4, 4.9, 6.1, 5.0, 5.0, 4.8, 6.5, 4.4, 5.6, 5.0, 7.7, 6.5, 5.8, 5.2, 5.0, 5.0, 6.7, 5.8, 4.6, 5.2, 4.8, 4.7, 6.3, 6.0, 6.4, 5.2, 5.5, 5.7, 5.4, 5.7, 4.5, 6.5, 5.8, 6.0, 5.3, 5.4, 5.0, 6.4, 6.7, 6.9, 5.1, 6.8, 5.5, 5.6, 5.8, 5.6, 6.2, 4.9, 6.2, 5.1, 6.2, 5.9, 7.2, 6.7, 6.3, 5.0, 6.5, 5.6, 4.9, 6.4, 5.1, 6.5, 4.8, 4.6, 6.0, 5.9, 6.1, 6.9, 7.7, 7.2, 5.0, 6.1, 6.1, 5.4, 7.2, 4.9, 6.4, 4.6, 6.3, 5.1, 6.7, 7.0, 5.8, 5.7, 4.8, 6.9, 4.4, 6.8, 5.7], \"yaxis\": \"y\"}, {\"marker\": {\"color\": [1, 0, 2, 0, 0, 1, 2, 2, 3, 1, 0, 2, 0, 0, 3, 3, 0, 1, 0, 3, 0, 1, 3, 1, 1, 1, 3, 2, 0, 1, 1, 1, 1, 2, 1, 3, 1, 0, 1, 3, 3, 0, 0, 3, 3, 1, 1, 0, 1, 1, 1, 1, 1, 2, 2, 0, 1, 3, 3, 1, 1, 1, 0, 2, 2, 1, 1, 1, 0, 0, 2, 3, 2, 3, 3, 3, 3, 0, 3, 2, 1, 2, 2, 0, 2, 0, 1, 0, 3, 1, 2, 1, 2, 1, 1, 2, 2, 2, 0, 0, 0, 1, 2, 2, 3, 0, 1, 0, 1, 2, 1, 0, 2, 2, 1, 1, 0, 1, 0, 3]}, \"mode\": \"markers\", \"type\": \"scatter\", \"x\": [3.0, 3.4, 3.1, 3.0, 2.5, 3.8, 2.5, 2.9, 2.4, 3.6, 3.8, 2.3, 3.2, 3.3, 2.2, 3.0, 3.0, 3.4, 2.8, 2.3, 2.9, 3.5, 2.9, 3.8, 3.8, 3.9, 2.8, 3.4, 3.2, 3.4, 3.9, 3.0, 3.1, 3.0, 3.4, 2.0, 3.0, 3.0, 2.9, 3.0, 2.3, 2.6, 3.2, 2.7, 2.7, 3.5, 3.3, 3.0, 4.0, 3.2, 3.4, 3.1, 3.2, 2.7, 2.9, 2.7, 3.5, 2.5, 2.9, 3.7, 4.4, 2.3, 3.0, 2.7, 3.0, 3.7, 3.4, 3.2, 2.8, 3.0, 3.1, 2.5, 2.8, 2.6, 2.5, 2.7, 3.0, 3.4, 2.5, 2.8, 3.5, 2.2, 3.0, 3.0, 3.1, 3.3, 3.5, 3.0, 2.7, 3.1, 2.9, 3.3, 2.8, 3.4, 3.4, 2.7, 3.2, 2.8, 3.1, 3.8, 3.6, 3.0, 2.9, 3.0, 3.0, 3.2, 3.6, 3.1, 3.6, 2.5, 3.5, 3.3, 3.2, 2.8, 3.8, 3.4, 3.1, 3.2, 3.0, 2.6], \"xaxis\": \"x2\", \"y\": [4.3, 6.3, 6.7, 7.6, 6.7, 5.1, 5.7, 6.2, 5.5, 5.0, 7.9, 6.3, 6.4, 6.7, 6.0, 5.7, 7.1, 5.1, 7.4, 5.5, 7.3, 5.5, 5.6, 5.1, 5.1, 5.4, 6.1, 6.0, 6.8, 5.0, 5.4, 4.4, 4.9, 6.1, 5.0, 5.0, 4.8, 6.5, 4.4, 5.6, 5.0, 7.7, 6.5, 5.8, 5.2, 5.0, 5.0, 6.7, 5.8, 4.6, 5.2, 4.8, 4.7, 6.3, 6.0, 6.4, 5.2, 5.5, 5.7, 5.4, 5.7, 4.5, 6.5, 5.8, 6.0, 5.3, 5.4, 5.0, 6.4, 6.7, 6.9, 5.1, 6.8, 5.5, 5.6, 5.8, 5.6, 6.2, 4.9, 6.2, 5.1, 6.2, 5.9, 7.2, 6.7, 6.3, 5.0, 6.5, 5.6, 4.9, 6.4, 5.1, 6.5, 4.8, 4.6, 6.0, 5.9, 6.1, 6.9, 7.7, 7.2, 5.0, 6.1, 6.1, 5.4, 7.2, 4.9, 6.4, 4.6, 6.3, 5.1, 6.7, 7.0, 5.8, 5.7, 4.8, 6.9, 4.4, 6.8, 5.7], \"yaxis\": \"y2\"}],\n",
              "                        {\"annotations\": [{\"font\": {\"size\": 16}, \"showarrow\": false, \"text\": \"actual\", \"x\": 0.225, \"xanchor\": \"center\", \"xref\": \"paper\", \"y\": 1.0, \"yanchor\": \"bottom\", \"yref\": \"paper\"}, {\"font\": {\"size\": 16}, \"showarrow\": false, \"text\": \"aggl cluster\", \"x\": 0.775, \"xanchor\": \"center\", \"xref\": \"paper\", \"y\": 1.0, \"yanchor\": \"bottom\", \"yref\": \"paper\"}], \"height\": 600, \"template\": {\"data\": {\"bar\": [{\"error_x\": {\"color\": \"#2a3f5f\"}, \"error_y\": {\"color\": \"#2a3f5f\"}, \"marker\": {\"line\": {\"color\": \"#E5ECF6\", \"width\": 0.5}}, \"type\": \"bar\"}], \"barpolar\": [{\"marker\": {\"line\": {\"color\": \"#E5ECF6\", \"width\": 0.5}}, \"type\": \"barpolar\"}], \"carpet\": [{\"aaxis\": {\"endlinecolor\": \"#2a3f5f\", \"gridcolor\": \"white\", \"linecolor\": \"white\", \"minorgridcolor\": \"white\", \"startlinecolor\": \"#2a3f5f\"}, \"baxis\": {\"endlinecolor\": \"#2a3f5f\", \"gridcolor\": \"white\", \"linecolor\": \"white\", \"minorgridcolor\": \"white\", \"startlinecolor\": \"#2a3f5f\"}, \"type\": \"carpet\"}], \"choropleth\": [{\"colorbar\": {\"outlinewidth\": 0, \"ticks\": \"\"}, \"type\": \"choropleth\"}], \"contour\": [{\"colorbar\": {\"outlinewidth\": 0, \"ticks\": \"\"}, \"colorscale\": [[0.0, \"#0d0887\"], [0.1111111111111111, \"#46039f\"], [0.2222222222222222, \"#7201a8\"], [0.3333333333333333, \"#9c179e\"], [0.4444444444444444, \"#bd3786\"], [0.5555555555555556, \"#d8576b\"], [0.6666666666666666, \"#ed7953\"], [0.7777777777777778, \"#fb9f3a\"], [0.8888888888888888, \"#fdca26\"], [1.0, \"#f0f921\"]], \"type\": \"contour\"}], \"contourcarpet\": [{\"colorbar\": {\"outlinewidth\": 0, \"ticks\": \"\"}, \"type\": \"contourcarpet\"}], \"heatmap\": [{\"colorbar\": {\"outlinewidth\": 0, \"ticks\": \"\"}, \"colorscale\": [[0.0, \"#0d0887\"], [0.1111111111111111, \"#46039f\"], [0.2222222222222222, \"#7201a8\"], [0.3333333333333333, \"#9c179e\"], [0.4444444444444444, \"#bd3786\"], [0.5555555555555556, \"#d8576b\"], [0.6666666666666666, \"#ed7953\"], [0.7777777777777778, \"#fb9f3a\"], [0.8888888888888888, \"#fdca26\"], [1.0, \"#f0f921\"]], \"type\": \"heatmap\"}], \"heatmapgl\": [{\"colorbar\": {\"outlinewidth\": 0, \"ticks\": \"\"}, \"colorscale\": [[0.0, \"#0d0887\"], [0.1111111111111111, \"#46039f\"], [0.2222222222222222, \"#7201a8\"], [0.3333333333333333, \"#9c179e\"], [0.4444444444444444, \"#bd3786\"], [0.5555555555555556, \"#d8576b\"], [0.6666666666666666, \"#ed7953\"], [0.7777777777777778, \"#fb9f3a\"], [0.8888888888888888, \"#fdca26\"], [1.0, \"#f0f921\"]], \"type\": \"heatmapgl\"}], \"histogram\": [{\"marker\": {\"colorbar\": {\"outlinewidth\": 0, \"ticks\": \"\"}}, \"type\": \"histogram\"}], \"histogram2d\": [{\"colorbar\": {\"outlinewidth\": 0, \"ticks\": \"\"}, \"colorscale\": [[0.0, \"#0d0887\"], [0.1111111111111111, \"#46039f\"], [0.2222222222222222, \"#7201a8\"], [0.3333333333333333, \"#9c179e\"], [0.4444444444444444, \"#bd3786\"], [0.5555555555555556, \"#d8576b\"], [0.6666666666666666, \"#ed7953\"], [0.7777777777777778, \"#fb9f3a\"], [0.8888888888888888, \"#fdca26\"], [1.0, \"#f0f921\"]], \"type\": \"histogram2d\"}], \"histogram2dcontour\": [{\"colorbar\": {\"outlinewidth\": 0, \"ticks\": \"\"}, \"colorscale\": [[0.0, \"#0d0887\"], [0.1111111111111111, \"#46039f\"], [0.2222222222222222, \"#7201a8\"], [0.3333333333333333, \"#9c179e\"], [0.4444444444444444, \"#bd3786\"], [0.5555555555555556, \"#d8576b\"], [0.6666666666666666, \"#ed7953\"], [0.7777777777777778, \"#fb9f3a\"], [0.8888888888888888, \"#fdca26\"], [1.0, \"#f0f921\"]], \"type\": \"histogram2dcontour\"}], \"mesh3d\": [{\"colorbar\": {\"outlinewidth\": 0, \"ticks\": \"\"}, \"type\": \"mesh3d\"}], \"parcoords\": [{\"line\": {\"colorbar\": {\"outlinewidth\": 0, \"ticks\": \"\"}}, \"type\": \"parcoords\"}], \"pie\": [{\"automargin\": true, \"type\": \"pie\"}], \"scatter\": [{\"marker\": {\"colorbar\": {\"outlinewidth\": 0, \"ticks\": \"\"}}, \"type\": \"scatter\"}], \"scatter3d\": [{\"line\": {\"colorbar\": {\"outlinewidth\": 0, \"ticks\": \"\"}}, \"marker\": {\"colorbar\": {\"outlinewidth\": 0, \"ticks\": \"\"}}, \"type\": \"scatter3d\"}], \"scattercarpet\": [{\"marker\": {\"colorbar\": {\"outlinewidth\": 0, \"ticks\": \"\"}}, \"type\": \"scattercarpet\"}], \"scattergeo\": [{\"marker\": {\"colorbar\": {\"outlinewidth\": 0, \"ticks\": \"\"}}, \"type\": \"scattergeo\"}], \"scattergl\": [{\"marker\": {\"colorbar\": {\"outlinewidth\": 0, \"ticks\": \"\"}}, \"type\": \"scattergl\"}], \"scattermapbox\": [{\"marker\": {\"colorbar\": {\"outlinewidth\": 0, \"ticks\": \"\"}}, \"type\": \"scattermapbox\"}], \"scatterpolar\": [{\"marker\": {\"colorbar\": {\"outlinewidth\": 0, \"ticks\": \"\"}}, \"type\": \"scatterpolar\"}], \"scatterpolargl\": [{\"marker\": {\"colorbar\": {\"outlinewidth\": 0, \"ticks\": \"\"}}, \"type\": \"scatterpolargl\"}], \"scatterternary\": [{\"marker\": {\"colorbar\": {\"outlinewidth\": 0, \"ticks\": \"\"}}, \"type\": \"scatterternary\"}], \"surface\": [{\"colorbar\": {\"outlinewidth\": 0, \"ticks\": \"\"}, \"colorscale\": [[0.0, \"#0d0887\"], [0.1111111111111111, \"#46039f\"], [0.2222222222222222, \"#7201a8\"], [0.3333333333333333, \"#9c179e\"], [0.4444444444444444, \"#bd3786\"], [0.5555555555555556, \"#d8576b\"], [0.6666666666666666, \"#ed7953\"], [0.7777777777777778, \"#fb9f3a\"], [0.8888888888888888, \"#fdca26\"], [1.0, \"#f0f921\"]], \"type\": \"surface\"}], \"table\": [{\"cells\": {\"fill\": {\"color\": \"#EBF0F8\"}, \"line\": {\"color\": \"white\"}}, \"header\": {\"fill\": {\"color\": \"#C8D4E3\"}, \"line\": {\"color\": \"white\"}}, \"type\": \"table\"}]}, \"layout\": {\"annotationdefaults\": {\"arrowcolor\": \"#2a3f5f\", \"arrowhead\": 0, \"arrowwidth\": 1}, \"coloraxis\": {\"colorbar\": {\"outlinewidth\": 0, \"ticks\": \"\"}}, \"colorscale\": {\"diverging\": [[0, \"#8e0152\"], [0.1, \"#c51b7d\"], [0.2, \"#de77ae\"], [0.3, \"#f1b6da\"], [0.4, \"#fde0ef\"], [0.5, \"#f7f7f7\"], [0.6, \"#e6f5d0\"], [0.7, \"#b8e186\"], [0.8, \"#7fbc41\"], [0.9, \"#4d9221\"], [1, \"#276419\"]], \"sequential\": [[0.0, \"#0d0887\"], [0.1111111111111111, \"#46039f\"], [0.2222222222222222, \"#7201a8\"], [0.3333333333333333, \"#9c179e\"], [0.4444444444444444, \"#bd3786\"], [0.5555555555555556, \"#d8576b\"], [0.6666666666666666, \"#ed7953\"], [0.7777777777777778, \"#fb9f3a\"], [0.8888888888888888, \"#fdca26\"], [1.0, \"#f0f921\"]], \"sequentialminus\": [[0.0, \"#0d0887\"], [0.1111111111111111, \"#46039f\"], [0.2222222222222222, \"#7201a8\"], [0.3333333333333333, \"#9c179e\"], [0.4444444444444444, \"#bd3786\"], [0.5555555555555556, \"#d8576b\"], [0.6666666666666666, \"#ed7953\"], [0.7777777777777778, \"#fb9f3a\"], [0.8888888888888888, \"#fdca26\"], [1.0, \"#f0f921\"]]}, \"colorway\": [\"#636efa\", \"#EF553B\", \"#00cc96\", \"#ab63fa\", \"#FFA15A\", \"#19d3f3\", \"#FF6692\", \"#B6E880\", \"#FF97FF\", \"#FECB52\"], \"font\": {\"color\": \"#2a3f5f\"}, \"geo\": {\"bgcolor\": \"white\", \"lakecolor\": \"white\", \"landcolor\": \"#E5ECF6\", \"showlakes\": true, \"showland\": true, \"subunitcolor\": \"white\"}, \"hoverlabel\": {\"align\": \"left\"}, \"hovermode\": \"closest\", \"mapbox\": {\"style\": \"light\"}, \"paper_bgcolor\": \"white\", \"plot_bgcolor\": \"#E5ECF6\", \"polar\": {\"angularaxis\": {\"gridcolor\": \"white\", \"linecolor\": \"white\", \"ticks\": \"\"}, \"bgcolor\": \"#E5ECF6\", \"radialaxis\": {\"gridcolor\": \"white\", \"linecolor\": \"white\", \"ticks\": \"\"}}, \"scene\": {\"xaxis\": {\"backgroundcolor\": \"#E5ECF6\", \"gridcolor\": \"white\", \"gridwidth\": 2, \"linecolor\": \"white\", \"showbackground\": true, \"ticks\": \"\", \"zerolinecolor\": \"white\"}, \"yaxis\": {\"backgroundcolor\": \"#E5ECF6\", \"gridcolor\": \"white\", \"gridwidth\": 2, \"linecolor\": \"white\", \"showbackground\": true, \"ticks\": \"\", \"zerolinecolor\": \"white\"}, \"zaxis\": {\"backgroundcolor\": \"#E5ECF6\", \"gridcolor\": \"white\", \"gridwidth\": 2, \"linecolor\": \"white\", \"showbackground\": true, \"ticks\": \"\", \"zerolinecolor\": \"white\"}}, \"shapedefaults\": {\"line\": {\"color\": \"#2a3f5f\"}}, \"ternary\": {\"aaxis\": {\"gridcolor\": \"white\", \"linecolor\": \"white\", \"ticks\": \"\"}, \"baxis\": {\"gridcolor\": \"white\", \"linecolor\": \"white\", \"ticks\": \"\"}, \"bgcolor\": \"#E5ECF6\", \"caxis\": {\"gridcolor\": \"white\", \"linecolor\": \"white\", \"ticks\": \"\"}}, \"title\": {\"x\": 0.05}, \"xaxis\": {\"automargin\": true, \"gridcolor\": \"white\", \"linecolor\": \"white\", \"ticks\": \"\", \"title\": {\"standoff\": 15}, \"zerolinecolor\": \"white\", \"zerolinewidth\": 2}, \"yaxis\": {\"automargin\": true, \"gridcolor\": \"white\", \"linecolor\": \"white\", \"ticks\": \"\", \"title\": {\"standoff\": 15}, \"zerolinecolor\": \"white\", \"zerolinewidth\": 2}}}, \"width\": 800, \"xaxis\": {\"anchor\": \"y\", \"domain\": [0.0, 0.45]}, \"xaxis2\": {\"anchor\": \"y2\", \"domain\": [0.55, 1.0]}, \"yaxis\": {\"anchor\": \"x\", \"domain\": [0.0, 1.0]}, \"yaxis2\": {\"anchor\": \"x2\", \"domain\": [0.0, 1.0]}},\n",
              "                        {\"responsive\": true}\n",
              "                    ).then(function(){\n",
              "                            \n",
              "var gd = document.getElementById('face0677-7a11-48f1-b742-adc9556575ac');\n",
              "var x = new MutationObserver(function (mutations, observer) {{\n",
              "        var display = window.getComputedStyle(gd).display;\n",
              "        if (!display || display === 'none') {{\n",
              "            console.log([gd, 'removed!']);\n",
              "            Plotly.purge(gd);\n",
              "            observer.disconnect();\n",
              "        }}\n",
              "}});\n",
              "\n",
              "// Listen for the removal of the full notebook cells\n",
              "var notebookContainer = gd.closest('#notebook-container');\n",
              "if (notebookContainer) {{\n",
              "    x.observe(notebookContainer, {childList: true});\n",
              "}}\n",
              "\n",
              "// Listen for the clearing of the current output cell\n",
              "var outputEl = gd.closest('.output');\n",
              "if (outputEl) {{\n",
              "    x.observe(outputEl, {childList: true});\n",
              "}}\n",
              "\n",
              "                        })\n",
              "                };\n",
              "                \n",
              "            </script>\n",
              "        </div>\n",
              "</body>\n",
              "</html>"
            ]
          },
          "metadata": {
            "tags": []
          }
        }
      ]
    }
  ]
}