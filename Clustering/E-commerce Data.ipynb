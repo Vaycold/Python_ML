{
  "nbformat": 4,
  "nbformat_minor": 0,
  "metadata": {
    "colab": {
      "name": "E-commerce Data.ipynb",
      "provenance": [],
      "authorship_tag": "ABX9TyND8JkHgTNvW7ovnM7N7NrW",
      "include_colab_link": true
    },
    "kernelspec": {
      "name": "python3",
      "display_name": "Python 3"
    },
    "language_info": {
      "name": "python"
    }
  },
  "cells": [
    {
      "cell_type": "markdown",
      "metadata": {
        "id": "view-in-github",
        "colab_type": "text"
      },
      "source": [
        "<a href=\"https://colab.research.google.com/github/Vaycold/Python_ML/blob/main/Clustering/E-commerce%20Data.ipynb\" target=\"_parent\"><img src=\"https://colab.research.google.com/assets/colab-badge.svg\" alt=\"Open In Colab\"/></a>"
      ]
    },
    {
      "cell_type": "markdown",
      "metadata": {
        "id": "WM2GxGTewz9q"
      },
      "source": [
        "# E-Commerce \n",
        "_____________"
      ]
    },
    {
      "cell_type": "markdown",
      "metadata": {
        "id": "s1wH5Tdhw55q"
      },
      "source": [
        "## Load the data"
      ]
    },
    {
      "cell_type": "code",
      "metadata": {
        "id": "IcV233lywLVK"
      },
      "source": [
        "# Install the package\n",
        "import pandas as pd\n",
        "import numpy as np\n",
        "from datetime import datetime\n",
        "import plotly.express as px\n",
        "from sklearn.model_selection import train_test_split\n",
        "import warnings \n",
        "warnings.filterwarnings(action = 'ignore')\n",
        "pd.set_option('display.max_columns', None)"
      ],
      "execution_count": 1,
      "outputs": []
    },
    {
      "cell_type": "code",
      "metadata": {
        "id": "jo3qprK5xk2M"
      },
      "source": [
        "# data url\n",
        "user_meta_url = 'https://raw.githubusercontent.com/dajeong-lecture/raw_data/main/user_meta_data.csv'\n",
        "user_statsdata_url = 'https://raw.githubusercontent.com/dajeong-lecture/raw_data/main/user_stats_data.csv'\n",
        "\n",
        "user_meta_df = pd.read_csv(user_meta_url, parse_dates=[0])\n",
        "user_stats_df = pd.read_csv(user_statsdata_url, parse_dates=[0])"
      ],
      "execution_count": 4,
      "outputs": []
    },
    {
      "cell_type": "code",
      "metadata": {
        "colab": {
          "base_uri": "https://localhost:8080/"
        },
        "id": "x4MeIY68y3KV",
        "outputId": "ac45a171-942e-409b-e4a2-6e9b9ea5581a"
      },
      "source": [
        "user_meta_df.columns"
      ],
      "execution_count": 11,
      "outputs": [
        {
          "output_type": "execute_result",
          "data": {
            "text/plain": [
              "Index(['user_id', 'sex', 'birthday_year', 'membership_type', 'category_prefer',\n",
              "       'joined_date', 'deleted_date', 'join_path', 'os', 'recommended_cnt'],\n",
              "      dtype='object')"
            ]
          },
          "metadata": {
            "tags": []
          },
          "execution_count": 11
        }
      ]
    },
    {
      "cell_type": "markdown",
      "metadata": {
        "id": "W8nNDoFoytA3"
      },
      "source": [
        "     Meta Data\n",
        "      - user_id         : 고객 고유 ID\n",
        "      - sex             : 성별(남0, 여1)\n",
        "      - birthday_year   : 생일년도(yyyy)\n",
        "      - membership_type : 멤버쉽타입(100 : 비회원, 300. 500: 정회원)\n",
        "      - category_prefer : 카테고리 선호 입력수\n",
        "      - joined_date     : 가입일자(yyyy)\n",
        "      - deleted_date    : \n",
        "      - join_path       :\n",
        "      - os              :\n",
        "      - recommended_cnt :"
      ]
    },
    {
      "cell_type": "code",
      "metadata": {
        "colab": {
          "base_uri": "https://localhost:8080/"
        },
        "id": "VPn8t_Hix7Cb",
        "outputId": "70032664-084e-4878-9052-5585065a0050"
      },
      "source": [
        "# Data shape\n",
        "print(user_meta_df.shape)\n",
        "print(user_stats_df.shape)"
      ],
      "execution_count": 8,
      "outputs": [
        {
          "output_type": "stream",
          "text": [
            "(3412, 10)\n",
            "(3412, 11)\n"
          ],
          "name": "stdout"
        }
      ]
    },
    {
      "cell_type": "code",
      "metadata": {
        "colab": {
          "base_uri": "https://localhost:8080/",
          "height": 106
        },
        "id": "IxOwUdfZyXeO",
        "outputId": "a4b3ac18-a049-40f0-e8e4-355cdbbda1bd"
      },
      "source": [
        "user_meta_df.head(2)"
      ],
      "execution_count": 9,
      "outputs": [
        {
          "output_type": "execute_result",
          "data": {
            "text/html": [
              "<div>\n",
              "<style scoped>\n",
              "    .dataframe tbody tr th:only-of-type {\n",
              "        vertical-align: middle;\n",
              "    }\n",
              "\n",
              "    .dataframe tbody tr th {\n",
              "        vertical-align: top;\n",
              "    }\n",
              "\n",
              "    .dataframe thead th {\n",
              "        text-align: right;\n",
              "    }\n",
              "</style>\n",
              "<table border=\"1\" class=\"dataframe\">\n",
              "  <thead>\n",
              "    <tr style=\"text-align: right;\">\n",
              "      <th></th>\n",
              "      <th>user_id</th>\n",
              "      <th>sex</th>\n",
              "      <th>birthday_year</th>\n",
              "      <th>membership_type</th>\n",
              "      <th>category_prefer</th>\n",
              "      <th>joined_date</th>\n",
              "      <th>deleted_date</th>\n",
              "      <th>join_path</th>\n",
              "      <th>os</th>\n",
              "      <th>recommended_cnt</th>\n",
              "    </tr>\n",
              "  </thead>\n",
              "  <tbody>\n",
              "    <tr>\n",
              "      <th>0</th>\n",
              "      <td>KjIRvUKVTgxGaek</td>\n",
              "      <td>0</td>\n",
              "      <td>1995</td>\n",
              "      <td>300</td>\n",
              "      <td>3</td>\n",
              "      <td>2019-09-09</td>\n",
              "      <td>NaT</td>\n",
              "      <td>NaN</td>\n",
              "      <td>AOS</td>\n",
              "      <td>4</td>\n",
              "    </tr>\n",
              "    <tr>\n",
              "      <th>1</th>\n",
              "      <td>QWhJIG1fOkhUJzG</td>\n",
              "      <td>1</td>\n",
              "      <td>1995</td>\n",
              "      <td>300</td>\n",
              "      <td>2</td>\n",
              "      <td>2020-04-13</td>\n",
              "      <td>NaT</td>\n",
              "      <td>NaN</td>\n",
              "      <td>AOS</td>\n",
              "      <td>1</td>\n",
              "    </tr>\n",
              "  </tbody>\n",
              "</table>\n",
              "</div>"
            ],
            "text/plain": [
              "           user_id  sex  birthday_year  membership_type  category_prefer  \\\n",
              "0  KjIRvUKVTgxGaek    0           1995              300                3   \n",
              "1  QWhJIG1fOkhUJzG    1           1995              300                2   \n",
              "\n",
              "  joined_date deleted_date  join_path   os  recommended_cnt  \n",
              "0  2019-09-09          NaT        NaN  AOS                4  \n",
              "1  2020-04-13          NaT        NaN  AOS                1  "
            ]
          },
          "metadata": {
            "tags": []
          },
          "execution_count": 9
        }
      ]
    },
    {
      "cell_type": "code",
      "metadata": {
        "colab": {
          "base_uri": "https://localhost:8080/",
          "height": 106
        },
        "id": "B0Ij91zpymHY",
        "outputId": "146a3e29-7de5-4861-f81f-970709e29909"
      },
      "source": [
        "user_stats_df.head(2)"
      ],
      "execution_count": 10,
      "outputs": [
        {
          "output_type": "execute_result",
          "data": {
            "text/html": [
              "<div>\n",
              "<style scoped>\n",
              "    .dataframe tbody tr th:only-of-type {\n",
              "        vertical-align: middle;\n",
              "    }\n",
              "\n",
              "    .dataframe tbody tr th {\n",
              "        vertical-align: top;\n",
              "    }\n",
              "\n",
              "    .dataframe thead th {\n",
              "        text-align: right;\n",
              "    }\n",
              "</style>\n",
              "<table border=\"1\" class=\"dataframe\">\n",
              "  <thead>\n",
              "    <tr style=\"text-align: right;\">\n",
              "      <th></th>\n",
              "      <th>user_id</th>\n",
              "      <th>membership_type</th>\n",
              "      <th>total_order_cnt</th>\n",
              "      <th>total_cost</th>\n",
              "      <th>avg_coupon_amt</th>\n",
              "      <th>avg_point_amt</th>\n",
              "      <th>weekly_order_cnt</th>\n",
              "      <th>monthly_order_cnt</th>\n",
              "      <th>avg_cost</th>\n",
              "      <th>avg_item_cost</th>\n",
              "      <th>last_date</th>\n",
              "    </tr>\n",
              "  </thead>\n",
              "  <tbody>\n",
              "    <tr>\n",
              "      <th>0</th>\n",
              "      <td>q3qlSo1pvyacJoy</td>\n",
              "      <td>100</td>\n",
              "      <td>1.0</td>\n",
              "      <td>23800.0</td>\n",
              "      <td>0.0</td>\n",
              "      <td>0.0</td>\n",
              "      <td>1.0</td>\n",
              "      <td>1.0</td>\n",
              "      <td>23800.0</td>\n",
              "      <td>0.0</td>\n",
              "      <td>2020-04-05</td>\n",
              "    </tr>\n",
              "    <tr>\n",
              "      <th>1</th>\n",
              "      <td>JRy7QRK0UMFP81X</td>\n",
              "      <td>100</td>\n",
              "      <td>1.0</td>\n",
              "      <td>23000.0</td>\n",
              "      <td>0.0</td>\n",
              "      <td>0.0</td>\n",
              "      <td>1.0</td>\n",
              "      <td>1.0</td>\n",
              "      <td>23000.0</td>\n",
              "      <td>10000.0</td>\n",
              "      <td>2020-01-17</td>\n",
              "    </tr>\n",
              "  </tbody>\n",
              "</table>\n",
              "</div>"
            ],
            "text/plain": [
              "           user_id  membership_type  total_order_cnt  total_cost  \\\n",
              "0  q3qlSo1pvyacJoy              100              1.0     23800.0   \n",
              "1  JRy7QRK0UMFP81X              100              1.0     23000.0   \n",
              "\n",
              "   avg_coupon_amt  avg_point_amt  weekly_order_cnt  monthly_order_cnt  \\\n",
              "0             0.0            0.0               1.0                1.0   \n",
              "1             0.0            0.0               1.0                1.0   \n",
              "\n",
              "   avg_cost  avg_item_cost   last_date  \n",
              "0   23800.0            0.0  2020-04-05  \n",
              "1   23000.0        10000.0  2020-01-17  "
            ]
          },
          "metadata": {
            "tags": []
          },
          "execution_count": 10
        }
      ]
    },
    {
      "cell_type": "code",
      "metadata": {
        "id": "qUv91hUVynWZ"
      },
      "source": [
        ""
      ],
      "execution_count": null,
      "outputs": []
    }
  ]
}