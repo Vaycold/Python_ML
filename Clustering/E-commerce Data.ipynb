{
  "nbformat": 4,
  "nbformat_minor": 0,
  "metadata": {
    "colab": {
      "name": "E-commerce Data.ipynb",
      "provenance": [],
      "authorship_tag": "ABX9TyPcBJ6x9Vk1YWDQUddLFpaB",
      "include_colab_link": true
    },
    "kernelspec": {
      "name": "python3",
      "display_name": "Python 3"
    },
    "language_info": {
      "name": "python"
    }
  },
  "cells": [
    {
      "cell_type": "markdown",
      "metadata": {
        "id": "view-in-github",
        "colab_type": "text"
      },
      "source": [
        "<a href=\"https://colab.research.google.com/github/Vaycold/Python_ML/blob/main/Clustering/E-commerce%20Data.ipynb\" target=\"_parent\"><img src=\"https://colab.research.google.com/assets/colab-badge.svg\" alt=\"Open In Colab\"/></a>"
      ]
    },
    {
      "cell_type": "markdown",
      "metadata": {
        "id": "WM2GxGTewz9q"
      },
      "source": [
        "# E-Commerce \n",
        "_____________"
      ]
    },
    {
      "cell_type": "markdown",
      "metadata": {
        "id": "s1wH5Tdhw55q"
      },
      "source": [
        "## Load the data"
      ]
    },
    {
      "cell_type": "code",
      "metadata": {
        "id": "IcV233lywLVK"
      },
      "source": [
        "# Install the package\n",
        "import pandas as pd\n",
        "import numpy as np\n",
        "from datetime import datetime\n",
        "import plotly.express as px\n",
        "from sklearn.model_selection import train_test_split\n",
        "import warnings \n",
        "warnings.filterwarnings(action = 'ignore')\n",
        "pd.set_option('display.max_columns', None)"
      ],
      "execution_count": 112,
      "outputs": []
    },
    {
      "cell_type": "code",
      "metadata": {
        "id": "jo3qprK5xk2M"
      },
      "source": [
        "# data url\n",
        "user_meta_url = 'https://raw.githubusercontent.com/dajeong-lecture/raw_data/main/user_meta_data.csv'\n",
        "user_statsdata_url = 'https://raw.githubusercontent.com/dajeong-lecture/raw_data/main/user_stats_data.csv'\n",
        "\n",
        "user_meta_df = pd.read_csv(user_meta_url, parse_dates=[0])\n",
        "user_stats_df = pd.read_csv(user_statsdata_url, parse_dates=[0])"
      ],
      "execution_count": 113,
      "outputs": []
    },
    {
      "cell_type": "markdown",
      "metadata": {
        "id": "W8nNDoFoytA3"
      },
      "source": [
        "     Meta Data\n",
        "      - user_id         : 고객 고유 ID\n",
        "      - sex             : 성별(남0, 여1)\n",
        "      - birthday_year   : 생일년도(yyyy)\n",
        "      - membership_type : 멤버쉽타입(100 : 비회원, 300. 500: 정회원)\n",
        "      - category_prefer : 카테고리 선호 입력수\n",
        "      - joined_date     : 가입일자(yyyy-mm-dd)\n",
        "      - deleted_date    : 탈퇴일자(yyyy-mm-dd)\n",
        "      - join_path       : 가입경로(None 일반가입, 1: sns가입)\n",
        "      - os              : (IOS ,AOS)\n",
        "      - recommended_cnt : 친구추천 수"
      ]
    },
    {
      "cell_type": "code",
      "metadata": {
        "colab": {
          "base_uri": "https://localhost:8080/"
        },
        "id": "VPn8t_Hix7Cb",
        "outputId": "261262ad-ca39-4709-f44e-2f8cb8503341"
      },
      "source": [
        "# Data shape\n",
        "print(user_meta_df.shape)\n",
        "print(user_stats_df.shape)"
      ],
      "execution_count": 114,
      "outputs": [
        {
          "output_type": "stream",
          "text": [
            "(3412, 10)\n",
            "(3412, 11)\n"
          ],
          "name": "stdout"
        }
      ]
    },
    {
      "cell_type": "code",
      "metadata": {
        "colab": {
          "base_uri": "https://localhost:8080/",
          "height": 106
        },
        "id": "IxOwUdfZyXeO",
        "outputId": "19ef03e9-2ed7-45f1-99d8-b3b3319faaa4"
      },
      "source": [
        "user_meta_df.head(2)"
      ],
      "execution_count": 115,
      "outputs": [
        {
          "output_type": "execute_result",
          "data": {
            "text/html": [
              "<div>\n",
              "<style scoped>\n",
              "    .dataframe tbody tr th:only-of-type {\n",
              "        vertical-align: middle;\n",
              "    }\n",
              "\n",
              "    .dataframe tbody tr th {\n",
              "        vertical-align: top;\n",
              "    }\n",
              "\n",
              "    .dataframe thead th {\n",
              "        text-align: right;\n",
              "    }\n",
              "</style>\n",
              "<table border=\"1\" class=\"dataframe\">\n",
              "  <thead>\n",
              "    <tr style=\"text-align: right;\">\n",
              "      <th></th>\n",
              "      <th>user_id</th>\n",
              "      <th>sex</th>\n",
              "      <th>birthday_year</th>\n",
              "      <th>membership_type</th>\n",
              "      <th>category_prefer</th>\n",
              "      <th>joined_date</th>\n",
              "      <th>deleted_date</th>\n",
              "      <th>join_path</th>\n",
              "      <th>os</th>\n",
              "      <th>recommended_cnt</th>\n",
              "    </tr>\n",
              "  </thead>\n",
              "  <tbody>\n",
              "    <tr>\n",
              "      <th>0</th>\n",
              "      <td>KjIRvUKVTgxGaek</td>\n",
              "      <td>0</td>\n",
              "      <td>1995</td>\n",
              "      <td>300</td>\n",
              "      <td>3</td>\n",
              "      <td>2019-09-09</td>\n",
              "      <td>NaT</td>\n",
              "      <td>NaN</td>\n",
              "      <td>AOS</td>\n",
              "      <td>4</td>\n",
              "    </tr>\n",
              "    <tr>\n",
              "      <th>1</th>\n",
              "      <td>QWhJIG1fOkhUJzG</td>\n",
              "      <td>1</td>\n",
              "      <td>1995</td>\n",
              "      <td>300</td>\n",
              "      <td>2</td>\n",
              "      <td>2020-04-13</td>\n",
              "      <td>NaT</td>\n",
              "      <td>NaN</td>\n",
              "      <td>AOS</td>\n",
              "      <td>1</td>\n",
              "    </tr>\n",
              "  </tbody>\n",
              "</table>\n",
              "</div>"
            ],
            "text/plain": [
              "           user_id  sex  birthday_year  membership_type  category_prefer  \\\n",
              "0  KjIRvUKVTgxGaek    0           1995              300                3   \n",
              "1  QWhJIG1fOkhUJzG    1           1995              300                2   \n",
              "\n",
              "  joined_date deleted_date  join_path   os  recommended_cnt  \n",
              "0  2019-09-09          NaT        NaN  AOS                4  \n",
              "1  2020-04-13          NaT        NaN  AOS                1  "
            ]
          },
          "metadata": {
            "tags": []
          },
          "execution_count": 115
        }
      ]
    },
    {
      "cell_type": "code",
      "metadata": {
        "colab": {
          "base_uri": "https://localhost:8080/",
          "height": 106
        },
        "id": "B0Ij91zpymHY",
        "outputId": "8c16e9c4-2dcf-4eee-8a3c-5dbba9f12827"
      },
      "source": [
        "user_stats_df.head(2)"
      ],
      "execution_count": 116,
      "outputs": [
        {
          "output_type": "execute_result",
          "data": {
            "text/html": [
              "<div>\n",
              "<style scoped>\n",
              "    .dataframe tbody tr th:only-of-type {\n",
              "        vertical-align: middle;\n",
              "    }\n",
              "\n",
              "    .dataframe tbody tr th {\n",
              "        vertical-align: top;\n",
              "    }\n",
              "\n",
              "    .dataframe thead th {\n",
              "        text-align: right;\n",
              "    }\n",
              "</style>\n",
              "<table border=\"1\" class=\"dataframe\">\n",
              "  <thead>\n",
              "    <tr style=\"text-align: right;\">\n",
              "      <th></th>\n",
              "      <th>user_id</th>\n",
              "      <th>membership_type</th>\n",
              "      <th>total_order_cnt</th>\n",
              "      <th>total_cost</th>\n",
              "      <th>avg_coupon_amt</th>\n",
              "      <th>avg_point_amt</th>\n",
              "      <th>weekly_order_cnt</th>\n",
              "      <th>monthly_order_cnt</th>\n",
              "      <th>avg_cost</th>\n",
              "      <th>avg_item_cost</th>\n",
              "      <th>last_date</th>\n",
              "    </tr>\n",
              "  </thead>\n",
              "  <tbody>\n",
              "    <tr>\n",
              "      <th>0</th>\n",
              "      <td>q3qlSo1pvyacJoy</td>\n",
              "      <td>100</td>\n",
              "      <td>1.0</td>\n",
              "      <td>23800.0</td>\n",
              "      <td>0.0</td>\n",
              "      <td>0.0</td>\n",
              "      <td>1.0</td>\n",
              "      <td>1.0</td>\n",
              "      <td>23800.0</td>\n",
              "      <td>0.0</td>\n",
              "      <td>2020-04-05</td>\n",
              "    </tr>\n",
              "    <tr>\n",
              "      <th>1</th>\n",
              "      <td>JRy7QRK0UMFP81X</td>\n",
              "      <td>100</td>\n",
              "      <td>1.0</td>\n",
              "      <td>23000.0</td>\n",
              "      <td>0.0</td>\n",
              "      <td>0.0</td>\n",
              "      <td>1.0</td>\n",
              "      <td>1.0</td>\n",
              "      <td>23000.0</td>\n",
              "      <td>10000.0</td>\n",
              "      <td>2020-01-17</td>\n",
              "    </tr>\n",
              "  </tbody>\n",
              "</table>\n",
              "</div>"
            ],
            "text/plain": [
              "           user_id  membership_type  total_order_cnt  total_cost  \\\n",
              "0  q3qlSo1pvyacJoy              100              1.0     23800.0   \n",
              "1  JRy7QRK0UMFP81X              100              1.0     23000.0   \n",
              "\n",
              "   avg_coupon_amt  avg_point_amt  weekly_order_cnt  monthly_order_cnt  \\\n",
              "0             0.0            0.0               1.0                1.0   \n",
              "1             0.0            0.0               1.0                1.0   \n",
              "\n",
              "   avg_cost  avg_item_cost   last_date  \n",
              "0   23800.0            0.0  2020-04-05  \n",
              "1   23000.0        10000.0  2020-01-17  "
            ]
          },
          "metadata": {
            "tags": []
          },
          "execution_count": 116
        }
      ]
    },
    {
      "cell_type": "code",
      "metadata": {
        "colab": {
          "base_uri": "https://localhost:8080/"
        },
        "id": "qUv91hUVynWZ",
        "outputId": "f1fba7f2-5df5-4f64-b13e-67e2c9d8fd65"
      },
      "source": [
        "# 컬럼 데이터 타입을 확인해보자\n",
        "user_meta_df.dtypes"
      ],
      "execution_count": 117,
      "outputs": [
        {
          "output_type": "execute_result",
          "data": {
            "text/plain": [
              "user_id             object\n",
              "sex                  int64\n",
              "birthday_year        int64\n",
              "membership_type      int64\n",
              "category_prefer      int64\n",
              "joined_date         object\n",
              "deleted_date        object\n",
              "join_path          float64\n",
              "os                  object\n",
              "recommended_cnt      int64\n",
              "dtype: object"
            ]
          },
          "metadata": {
            "tags": []
          },
          "execution_count": 117
        }
      ]
    },
    {
      "cell_type": "code",
      "metadata": {
        "colab": {
          "base_uri": "https://localhost:8080/",
          "height": 106
        },
        "id": "GByqvoUn0kht",
        "outputId": "6ae2255c-2b4d-4e1e-d492-328fd2a66ef7"
      },
      "source": [
        "# 고객의 나이정보 생성\n",
        "this_year = 2021\n",
        "user_meta_df['age'] =this_year - user_meta_df['birthday_year'] + 1\n",
        "user_meta_df.head(2)"
      ],
      "execution_count": 118,
      "outputs": [
        {
          "output_type": "execute_result",
          "data": {
            "text/html": [
              "<div>\n",
              "<style scoped>\n",
              "    .dataframe tbody tr th:only-of-type {\n",
              "        vertical-align: middle;\n",
              "    }\n",
              "\n",
              "    .dataframe tbody tr th {\n",
              "        vertical-align: top;\n",
              "    }\n",
              "\n",
              "    .dataframe thead th {\n",
              "        text-align: right;\n",
              "    }\n",
              "</style>\n",
              "<table border=\"1\" class=\"dataframe\">\n",
              "  <thead>\n",
              "    <tr style=\"text-align: right;\">\n",
              "      <th></th>\n",
              "      <th>user_id</th>\n",
              "      <th>sex</th>\n",
              "      <th>birthday_year</th>\n",
              "      <th>membership_type</th>\n",
              "      <th>category_prefer</th>\n",
              "      <th>joined_date</th>\n",
              "      <th>deleted_date</th>\n",
              "      <th>join_path</th>\n",
              "      <th>os</th>\n",
              "      <th>recommended_cnt</th>\n",
              "      <th>age</th>\n",
              "    </tr>\n",
              "  </thead>\n",
              "  <tbody>\n",
              "    <tr>\n",
              "      <th>0</th>\n",
              "      <td>KjIRvUKVTgxGaek</td>\n",
              "      <td>0</td>\n",
              "      <td>1995</td>\n",
              "      <td>300</td>\n",
              "      <td>3</td>\n",
              "      <td>2019-09-09</td>\n",
              "      <td>NaT</td>\n",
              "      <td>NaN</td>\n",
              "      <td>AOS</td>\n",
              "      <td>4</td>\n",
              "      <td>27</td>\n",
              "    </tr>\n",
              "    <tr>\n",
              "      <th>1</th>\n",
              "      <td>QWhJIG1fOkhUJzG</td>\n",
              "      <td>1</td>\n",
              "      <td>1995</td>\n",
              "      <td>300</td>\n",
              "      <td>2</td>\n",
              "      <td>2020-04-13</td>\n",
              "      <td>NaT</td>\n",
              "      <td>NaN</td>\n",
              "      <td>AOS</td>\n",
              "      <td>1</td>\n",
              "      <td>27</td>\n",
              "    </tr>\n",
              "  </tbody>\n",
              "</table>\n",
              "</div>"
            ],
            "text/plain": [
              "           user_id  sex  birthday_year  membership_type  category_prefer  \\\n",
              "0  KjIRvUKVTgxGaek    0           1995              300                3   \n",
              "1  QWhJIG1fOkhUJzG    1           1995              300                2   \n",
              "\n",
              "  joined_date deleted_date  join_path   os  recommended_cnt  age  \n",
              "0  2019-09-09          NaT        NaN  AOS                4   27  \n",
              "1  2020-04-13          NaT        NaN  AOS                1   27  "
            ]
          },
          "metadata": {
            "tags": []
          },
          "execution_count": 118
        }
      ]
    },
    {
      "cell_type": "code",
      "metadata": {
        "colab": {
          "base_uri": "https://localhost:8080/",
          "height": 195
        },
        "id": "ssbSJDFL03i7",
        "outputId": "b47a2b1d-fb0b-45ce-f513-85018b30ed67"
      },
      "source": [
        "# 가입일자를 사용하여 2021년 1월 1일 기준 고객의 가입 기간을 생성해보자\n",
        "today_ymd = datetime(2021, 1, 1)\n",
        "user_meta_df['joined_date'] = user_meta_df['joined_date'].astype('datetime64[ns]')\n",
        "\n",
        "user_meta_df['days_from_joined'] = (today_ymd - user_meta_df['joined_date']).dt.days # 가입기간을 일로 바꾸기\n",
        "user_meta_df['years_from_joined'] = (today_ymd - user_meta_df['joined_date']) / np.timedelta64(1, 'Y')\n",
        "user_meta_df['years_from_joined'] = user_meta_df['years_from_joined'].round(1)\n",
        "user_meta_df.head()\n"
      ],
      "execution_count": 119,
      "outputs": [
        {
          "output_type": "execute_result",
          "data": {
            "text/html": [
              "<div>\n",
              "<style scoped>\n",
              "    .dataframe tbody tr th:only-of-type {\n",
              "        vertical-align: middle;\n",
              "    }\n",
              "\n",
              "    .dataframe tbody tr th {\n",
              "        vertical-align: top;\n",
              "    }\n",
              "\n",
              "    .dataframe thead th {\n",
              "        text-align: right;\n",
              "    }\n",
              "</style>\n",
              "<table border=\"1\" class=\"dataframe\">\n",
              "  <thead>\n",
              "    <tr style=\"text-align: right;\">\n",
              "      <th></th>\n",
              "      <th>user_id</th>\n",
              "      <th>sex</th>\n",
              "      <th>birthday_year</th>\n",
              "      <th>membership_type</th>\n",
              "      <th>category_prefer</th>\n",
              "      <th>joined_date</th>\n",
              "      <th>deleted_date</th>\n",
              "      <th>join_path</th>\n",
              "      <th>os</th>\n",
              "      <th>recommended_cnt</th>\n",
              "      <th>age</th>\n",
              "      <th>days_from_joined</th>\n",
              "      <th>years_from_joined</th>\n",
              "    </tr>\n",
              "  </thead>\n",
              "  <tbody>\n",
              "    <tr>\n",
              "      <th>0</th>\n",
              "      <td>KjIRvUKVTgxGaek</td>\n",
              "      <td>0</td>\n",
              "      <td>1995</td>\n",
              "      <td>300</td>\n",
              "      <td>3</td>\n",
              "      <td>2019-09-09</td>\n",
              "      <td>NaT</td>\n",
              "      <td>NaN</td>\n",
              "      <td>AOS</td>\n",
              "      <td>4</td>\n",
              "      <td>27</td>\n",
              "      <td>480</td>\n",
              "      <td>1.3</td>\n",
              "    </tr>\n",
              "    <tr>\n",
              "      <th>1</th>\n",
              "      <td>QWhJIG1fOkhUJzG</td>\n",
              "      <td>1</td>\n",
              "      <td>1995</td>\n",
              "      <td>300</td>\n",
              "      <td>2</td>\n",
              "      <td>2020-04-13</td>\n",
              "      <td>NaT</td>\n",
              "      <td>NaN</td>\n",
              "      <td>AOS</td>\n",
              "      <td>1</td>\n",
              "      <td>27</td>\n",
              "      <td>263</td>\n",
              "      <td>0.7</td>\n",
              "    </tr>\n",
              "    <tr>\n",
              "      <th>2</th>\n",
              "      <td>5UD76uKfYNPTliG</td>\n",
              "      <td>1</td>\n",
              "      <td>1999</td>\n",
              "      <td>300</td>\n",
              "      <td>4</td>\n",
              "      <td>2018-12-18</td>\n",
              "      <td>NaT</td>\n",
              "      <td>NaN</td>\n",
              "      <td>AOS</td>\n",
              "      <td>6</td>\n",
              "      <td>23</td>\n",
              "      <td>745</td>\n",
              "      <td>2.0</td>\n",
              "    </tr>\n",
              "    <tr>\n",
              "      <th>3</th>\n",
              "      <td>lfpxRIsbmmt6mUQ</td>\n",
              "      <td>0</td>\n",
              "      <td>1998</td>\n",
              "      <td>300</td>\n",
              "      <td>7</td>\n",
              "      <td>2019-01-16</td>\n",
              "      <td>NaT</td>\n",
              "      <td>NaN</td>\n",
              "      <td>AOS</td>\n",
              "      <td>2</td>\n",
              "      <td>24</td>\n",
              "      <td>716</td>\n",
              "      <td>2.0</td>\n",
              "    </tr>\n",
              "    <tr>\n",
              "      <th>4</th>\n",
              "      <td>djGLdEHvJy17TDX</td>\n",
              "      <td>1</td>\n",
              "      <td>1999</td>\n",
              "      <td>300</td>\n",
              "      <td>6</td>\n",
              "      <td>2019-11-06</td>\n",
              "      <td>NaT</td>\n",
              "      <td>NaN</td>\n",
              "      <td>AOS</td>\n",
              "      <td>2</td>\n",
              "      <td>23</td>\n",
              "      <td>422</td>\n",
              "      <td>1.2</td>\n",
              "    </tr>\n",
              "  </tbody>\n",
              "</table>\n",
              "</div>"
            ],
            "text/plain": [
              "           user_id  sex  birthday_year  membership_type  category_prefer  \\\n",
              "0  KjIRvUKVTgxGaek    0           1995              300                3   \n",
              "1  QWhJIG1fOkhUJzG    1           1995              300                2   \n",
              "2  5UD76uKfYNPTliG    1           1999              300                4   \n",
              "3  lfpxRIsbmmt6mUQ    0           1998              300                7   \n",
              "4  djGLdEHvJy17TDX    1           1999              300                6   \n",
              "\n",
              "  joined_date deleted_date  join_path   os  recommended_cnt  age  \\\n",
              "0  2019-09-09          NaT        NaN  AOS                4   27   \n",
              "1  2020-04-13          NaT        NaN  AOS                1   27   \n",
              "2  2018-12-18          NaT        NaN  AOS                6   23   \n",
              "3  2019-01-16          NaT        NaN  AOS                2   24   \n",
              "4  2019-11-06          NaT        NaN  AOS                2   23   \n",
              "\n",
              "   days_from_joined  years_from_joined  \n",
              "0               480                1.3  \n",
              "1               263                0.7  \n",
              "2               745                2.0  \n",
              "3               716                2.0  \n",
              "4               422                1.2  "
            ]
          },
          "metadata": {
            "tags": []
          },
          "execution_count": 119
        }
      ]
    },
    {
      "cell_type": "code",
      "metadata": {
        "id": "TUzHNIYY14oe"
      },
      "source": [
        "# 탈퇴 일자를 사용하여 2021년 1월 1일 기준 고객의 탈퇴 여부를 binary로 나타내보자.\n",
        "user_meta_df['if_deleted'] = np.where(user_meta_df['deleted_date'] == 'NaT', 0, 1) # 1: 탈퇴함, 0 : 탈퇴하지 않음\n"
      ],
      "execution_count": 120,
      "outputs": []
    },
    {
      "cell_type": "code",
      "metadata": {
        "colab": {
          "base_uri": "https://localhost:8080/",
          "height": 215
        },
        "id": "jfuWdUOx2wUT",
        "outputId": "ae0bdc65-25a8-4108-acf2-81d2432c6054"
      },
      "source": [
        "user_meta_df.head()"
      ],
      "execution_count": 121,
      "outputs": [
        {
          "output_type": "execute_result",
          "data": {
            "text/html": [
              "<div>\n",
              "<style scoped>\n",
              "    .dataframe tbody tr th:only-of-type {\n",
              "        vertical-align: middle;\n",
              "    }\n",
              "\n",
              "    .dataframe tbody tr th {\n",
              "        vertical-align: top;\n",
              "    }\n",
              "\n",
              "    .dataframe thead th {\n",
              "        text-align: right;\n",
              "    }\n",
              "</style>\n",
              "<table border=\"1\" class=\"dataframe\">\n",
              "  <thead>\n",
              "    <tr style=\"text-align: right;\">\n",
              "      <th></th>\n",
              "      <th>user_id</th>\n",
              "      <th>sex</th>\n",
              "      <th>birthday_year</th>\n",
              "      <th>membership_type</th>\n",
              "      <th>category_prefer</th>\n",
              "      <th>joined_date</th>\n",
              "      <th>deleted_date</th>\n",
              "      <th>join_path</th>\n",
              "      <th>os</th>\n",
              "      <th>recommended_cnt</th>\n",
              "      <th>age</th>\n",
              "      <th>days_from_joined</th>\n",
              "      <th>years_from_joined</th>\n",
              "      <th>if_deleted</th>\n",
              "    </tr>\n",
              "  </thead>\n",
              "  <tbody>\n",
              "    <tr>\n",
              "      <th>0</th>\n",
              "      <td>KjIRvUKVTgxGaek</td>\n",
              "      <td>0</td>\n",
              "      <td>1995</td>\n",
              "      <td>300</td>\n",
              "      <td>3</td>\n",
              "      <td>2019-09-09</td>\n",
              "      <td>NaT</td>\n",
              "      <td>NaN</td>\n",
              "      <td>AOS</td>\n",
              "      <td>4</td>\n",
              "      <td>27</td>\n",
              "      <td>480</td>\n",
              "      <td>1.3</td>\n",
              "      <td>0</td>\n",
              "    </tr>\n",
              "    <tr>\n",
              "      <th>1</th>\n",
              "      <td>QWhJIG1fOkhUJzG</td>\n",
              "      <td>1</td>\n",
              "      <td>1995</td>\n",
              "      <td>300</td>\n",
              "      <td>2</td>\n",
              "      <td>2020-04-13</td>\n",
              "      <td>NaT</td>\n",
              "      <td>NaN</td>\n",
              "      <td>AOS</td>\n",
              "      <td>1</td>\n",
              "      <td>27</td>\n",
              "      <td>263</td>\n",
              "      <td>0.7</td>\n",
              "      <td>0</td>\n",
              "    </tr>\n",
              "    <tr>\n",
              "      <th>2</th>\n",
              "      <td>5UD76uKfYNPTliG</td>\n",
              "      <td>1</td>\n",
              "      <td>1999</td>\n",
              "      <td>300</td>\n",
              "      <td>4</td>\n",
              "      <td>2018-12-18</td>\n",
              "      <td>NaT</td>\n",
              "      <td>NaN</td>\n",
              "      <td>AOS</td>\n",
              "      <td>6</td>\n",
              "      <td>23</td>\n",
              "      <td>745</td>\n",
              "      <td>2.0</td>\n",
              "      <td>0</td>\n",
              "    </tr>\n",
              "    <tr>\n",
              "      <th>3</th>\n",
              "      <td>lfpxRIsbmmt6mUQ</td>\n",
              "      <td>0</td>\n",
              "      <td>1998</td>\n",
              "      <td>300</td>\n",
              "      <td>7</td>\n",
              "      <td>2019-01-16</td>\n",
              "      <td>NaT</td>\n",
              "      <td>NaN</td>\n",
              "      <td>AOS</td>\n",
              "      <td>2</td>\n",
              "      <td>24</td>\n",
              "      <td>716</td>\n",
              "      <td>2.0</td>\n",
              "      <td>0</td>\n",
              "    </tr>\n",
              "    <tr>\n",
              "      <th>4</th>\n",
              "      <td>djGLdEHvJy17TDX</td>\n",
              "      <td>1</td>\n",
              "      <td>1999</td>\n",
              "      <td>300</td>\n",
              "      <td>6</td>\n",
              "      <td>2019-11-06</td>\n",
              "      <td>NaT</td>\n",
              "      <td>NaN</td>\n",
              "      <td>AOS</td>\n",
              "      <td>2</td>\n",
              "      <td>23</td>\n",
              "      <td>422</td>\n",
              "      <td>1.2</td>\n",
              "      <td>0</td>\n",
              "    </tr>\n",
              "  </tbody>\n",
              "</table>\n",
              "</div>"
            ],
            "text/plain": [
              "           user_id  sex  birthday_year  membership_type  category_prefer  \\\n",
              "0  KjIRvUKVTgxGaek    0           1995              300                3   \n",
              "1  QWhJIG1fOkhUJzG    1           1995              300                2   \n",
              "2  5UD76uKfYNPTliG    1           1999              300                4   \n",
              "3  lfpxRIsbmmt6mUQ    0           1998              300                7   \n",
              "4  djGLdEHvJy17TDX    1           1999              300                6   \n",
              "\n",
              "  joined_date deleted_date  join_path   os  recommended_cnt  age  \\\n",
              "0  2019-09-09          NaT        NaN  AOS                4   27   \n",
              "1  2020-04-13          NaT        NaN  AOS                1   27   \n",
              "2  2018-12-18          NaT        NaN  AOS                6   23   \n",
              "3  2019-01-16          NaT        NaN  AOS                2   24   \n",
              "4  2019-11-06          NaT        NaN  AOS                2   23   \n",
              "\n",
              "   days_from_joined  years_from_joined  if_deleted  \n",
              "0               480                1.3           0  \n",
              "1               263                0.7           0  \n",
              "2               745                2.0           0  \n",
              "3               716                2.0           0  \n",
              "4               422                1.2           0  "
            ]
          },
          "metadata": {
            "tags": []
          },
          "execution_count": 121
        }
      ]
    },
    {
      "cell_type": "markdown",
      "metadata": {
        "id": "WMpw-yJE27dA"
      },
      "source": [
        "     Stats Data\n",
        "      - user_id          : 고객 고유 ID\n",
        "      - membership_type  : 멤버쉽타입(100 : 비회원, 300. 500: 정회원)\n",
        "      - total_order_cnt  : 총 거래 건수\n",
        "      - total_cost       : 총 거래 금액      \n",
        "      - avg_coupon_amt   : 평균 쿠폰 사용 금액\n",
        "      - avg_point_amt    : 평균 포인트사용 금액\n",
        "      - weekly_order_cnt : 주평균 거래 건수\n",
        "      - monthly_order_cnt: 월평균 거래 건수\n",
        "      - avg_cost         : 평균 거래 금액\n",
        "      - avg_item_cost    : 평균 상품 금액\n",
        "      - last_date        : 마지막 거래 일자 (yyyy-mm-dd)"
      ]
    },
    {
      "cell_type": "code",
      "metadata": {
        "colab": {
          "base_uri": "https://localhost:8080/"
        },
        "id": "6bQ4zI283Fg3",
        "outputId": "8927eaef-995a-4604-c0b0-189b59cc4909"
      },
      "source": [
        "user_stats_df.dtypes"
      ],
      "execution_count": 122,
      "outputs": [
        {
          "output_type": "execute_result",
          "data": {
            "text/plain": [
              "user_id               object\n",
              "membership_type        int64\n",
              "total_order_cnt      float64\n",
              "total_cost           float64\n",
              "avg_coupon_amt       float64\n",
              "avg_point_amt        float64\n",
              "weekly_order_cnt     float64\n",
              "monthly_order_cnt    float64\n",
              "avg_cost             float64\n",
              "avg_item_cost        float64\n",
              "last_date             object\n",
              "dtype: object"
            ]
          },
          "metadata": {
            "tags": []
          },
          "execution_count": 122
        }
      ]
    },
    {
      "cell_type": "code",
      "metadata": {
        "colab": {
          "base_uri": "https://localhost:8080/"
        },
        "id": "wCpygubD_F3T",
        "outputId": "75b393e5-be4f-4ed5-8807-0e56952422d6"
      },
      "source": [
        "user_stats_df.last_date.min(), user_stats_df.last_date.max()"
      ],
      "execution_count": 123,
      "outputs": [
        {
          "output_type": "execute_result",
          "data": {
            "text/plain": [
              "('2020-01-01', '2020-06-30')"
            ]
          },
          "metadata": {
            "tags": []
          },
          "execution_count": 123
        }
      ]
    },
    {
      "cell_type": "code",
      "metadata": {
        "id": "J7AUjOLh_Omc"
      },
      "source": [
        "# 마지막 거래일자의 가장 오래된 날짜를 선택하여 Recency의 정도를 알아보는 컬럼을 생성해보자\n",
        "# 기준점이 마지막 거래일자 직전일이 됨.\n",
        "oldest_ymd = datetime(2019,12,31)\n",
        "\n",
        "user_stats_df['last_date'] = user_stats_df['last_date'].astype('datetime64[ns]')\n",
        "user_stats_df['days_of_recency'] = (user_stats_df['last_date'] - oldest_ymd).dt.days"
      ],
      "execution_count": 124,
      "outputs": []
    },
    {
      "cell_type": "code",
      "metadata": {
        "colab": {
          "base_uri": "https://localhost:8080/",
          "height": 299
        },
        "id": "95hljKVOALZg",
        "outputId": "82769b50-e092-4361-9a33-5e88afa56a33"
      },
      "source": [
        "user_stats_df.head()"
      ],
      "execution_count": 125,
      "outputs": [
        {
          "output_type": "execute_result",
          "data": {
            "text/html": [
              "<div>\n",
              "<style scoped>\n",
              "    .dataframe tbody tr th:only-of-type {\n",
              "        vertical-align: middle;\n",
              "    }\n",
              "\n",
              "    .dataframe tbody tr th {\n",
              "        vertical-align: top;\n",
              "    }\n",
              "\n",
              "    .dataframe thead th {\n",
              "        text-align: right;\n",
              "    }\n",
              "</style>\n",
              "<table border=\"1\" class=\"dataframe\">\n",
              "  <thead>\n",
              "    <tr style=\"text-align: right;\">\n",
              "      <th></th>\n",
              "      <th>user_id</th>\n",
              "      <th>membership_type</th>\n",
              "      <th>total_order_cnt</th>\n",
              "      <th>total_cost</th>\n",
              "      <th>avg_coupon_amt</th>\n",
              "      <th>avg_point_amt</th>\n",
              "      <th>weekly_order_cnt</th>\n",
              "      <th>monthly_order_cnt</th>\n",
              "      <th>avg_cost</th>\n",
              "      <th>avg_item_cost</th>\n",
              "      <th>last_date</th>\n",
              "      <th>days_of_recency</th>\n",
              "    </tr>\n",
              "  </thead>\n",
              "  <tbody>\n",
              "    <tr>\n",
              "      <th>0</th>\n",
              "      <td>q3qlSo1pvyacJoy</td>\n",
              "      <td>100</td>\n",
              "      <td>1.0</td>\n",
              "      <td>23800.0</td>\n",
              "      <td>0.0</td>\n",
              "      <td>0.0</td>\n",
              "      <td>1.000</td>\n",
              "      <td>1.00</td>\n",
              "      <td>23800.00</td>\n",
              "      <td>0.00</td>\n",
              "      <td>2020-04-05</td>\n",
              "      <td>96</td>\n",
              "    </tr>\n",
              "    <tr>\n",
              "      <th>1</th>\n",
              "      <td>JRy7QRK0UMFP81X</td>\n",
              "      <td>100</td>\n",
              "      <td>1.0</td>\n",
              "      <td>23000.0</td>\n",
              "      <td>0.0</td>\n",
              "      <td>0.0</td>\n",
              "      <td>1.000</td>\n",
              "      <td>1.00</td>\n",
              "      <td>23000.00</td>\n",
              "      <td>10000.00</td>\n",
              "      <td>2020-01-17</td>\n",
              "      <td>17</td>\n",
              "    </tr>\n",
              "    <tr>\n",
              "      <th>2</th>\n",
              "      <td>Z0IzeePX3LwQ2Ea</td>\n",
              "      <td>100</td>\n",
              "      <td>1.0</td>\n",
              "      <td>24000.0</td>\n",
              "      <td>0.0</td>\n",
              "      <td>0.0</td>\n",
              "      <td>1.000</td>\n",
              "      <td>1.00</td>\n",
              "      <td>24000.00</td>\n",
              "      <td>24000.00</td>\n",
              "      <td>2020-05-15</td>\n",
              "      <td>136</td>\n",
              "    </tr>\n",
              "    <tr>\n",
              "      <th>3</th>\n",
              "      <td>EoRzAGlei59fugN</td>\n",
              "      <td>100</td>\n",
              "      <td>1.0</td>\n",
              "      <td>22000.0</td>\n",
              "      <td>-5000.0</td>\n",
              "      <td>0.0</td>\n",
              "      <td>1.000</td>\n",
              "      <td>1.00</td>\n",
              "      <td>22000.00</td>\n",
              "      <td>14000.00</td>\n",
              "      <td>2020-03-02</td>\n",
              "      <td>62</td>\n",
              "    </tr>\n",
              "    <tr>\n",
              "      <th>4</th>\n",
              "      <td>zgQJlOYlFURl6ev</td>\n",
              "      <td>300</td>\n",
              "      <td>19.0</td>\n",
              "      <td>561200.0</td>\n",
              "      <td>0.0</td>\n",
              "      <td>0.0</td>\n",
              "      <td>2.375</td>\n",
              "      <td>4.75</td>\n",
              "      <td>29536.84</td>\n",
              "      <td>24615.79</td>\n",
              "      <td>2020-06-23</td>\n",
              "      <td>175</td>\n",
              "    </tr>\n",
              "  </tbody>\n",
              "</table>\n",
              "</div>"
            ],
            "text/plain": [
              "           user_id  membership_type  total_order_cnt  total_cost  \\\n",
              "0  q3qlSo1pvyacJoy              100              1.0     23800.0   \n",
              "1  JRy7QRK0UMFP81X              100              1.0     23000.0   \n",
              "2  Z0IzeePX3LwQ2Ea              100              1.0     24000.0   \n",
              "3  EoRzAGlei59fugN              100              1.0     22000.0   \n",
              "4  zgQJlOYlFURl6ev              300             19.0    561200.0   \n",
              "\n",
              "   avg_coupon_amt  avg_point_amt  weekly_order_cnt  monthly_order_cnt  \\\n",
              "0             0.0            0.0             1.000               1.00   \n",
              "1             0.0            0.0             1.000               1.00   \n",
              "2             0.0            0.0             1.000               1.00   \n",
              "3         -5000.0            0.0             1.000               1.00   \n",
              "4             0.0            0.0             2.375               4.75   \n",
              "\n",
              "   avg_cost  avg_item_cost  last_date  days_of_recency  \n",
              "0  23800.00           0.00 2020-04-05               96  \n",
              "1  23000.00       10000.00 2020-01-17               17  \n",
              "2  24000.00       24000.00 2020-05-15              136  \n",
              "3  22000.00       14000.00 2020-03-02               62  \n",
              "4  29536.84       24615.79 2020-06-23              175  "
            ]
          },
          "metadata": {
            "tags": []
          },
          "execution_count": 125
        }
      ]
    },
    {
      "cell_type": "code",
      "metadata": {
        "id": "9hwzHjYUAN-i"
      },
      "source": [
        ""
      ],
      "execution_count": 125,
      "outputs": []
    },
    {
      "cell_type": "markdown",
      "metadata": {
        "id": "QOjbtMoFAXxU"
      },
      "source": [
        "## 고객데이터 EDA\n"
      ]
    },
    {
      "cell_type": "code",
      "metadata": {
        "colab": {
          "base_uri": "https://localhost:8080/"
        },
        "id": "VATsizgqAZB6",
        "outputId": "33d3c4ca-1659-4f6d-cafe-5f005a3b91c8"
      },
      "source": [
        "# 1. 컬럼별 Null 값이 있는가?\n",
        "\n",
        "user_meta_df.isna().sum()\n",
        "# user_meta_df.isnull().sum(axis=0) 같은방법"
      ],
      "execution_count": 126,
      "outputs": [
        {
          "output_type": "execute_result",
          "data": {
            "text/plain": [
              "user_id                 0\n",
              "sex                     0\n",
              "birthday_year           0\n",
              "membership_type         0\n",
              "category_prefer         0\n",
              "joined_date             0\n",
              "deleted_date            0\n",
              "join_path            2888\n",
              "os                      0\n",
              "recommended_cnt         0\n",
              "age                     0\n",
              "days_from_joined        0\n",
              "years_from_joined       0\n",
              "if_deleted              0\n",
              "dtype: int64"
            ]
          },
          "metadata": {
            "tags": []
          },
          "execution_count": 126
        }
      ]
    },
    {
      "cell_type": "code",
      "metadata": {
        "id": "SZwhqshLA1RI"
      },
      "source": [
        "# join path 는 위에서 보면 알 수 있듯이 null값은 일반가입을 의미함\n",
        "# 그래서 채워주기로 하자.\n",
        "user_meta_df['join_path'] = user_meta_df['join_path'].fillna(0)"
      ],
      "execution_count": 127,
      "outputs": []
    },
    {
      "cell_type": "code",
      "metadata": {
        "colab": {
          "base_uri": "https://localhost:8080/",
          "height": 47
        },
        "id": "V9vC09aWBJQn",
        "outputId": "1ed05c5e-9d24-4521-8487-b85b7a906bd4"
      },
      "source": [
        "# 2. 고객 메타 데이터는 user_id 기준으로 unique 해야 되기 때문에 중복 데이터를 확인하자\n",
        "user_meta_df[user_meta_df.duplicated(['user_id'])]"
      ],
      "execution_count": 128,
      "outputs": [
        {
          "output_type": "execute_result",
          "data": {
            "text/html": [
              "<div>\n",
              "<style scoped>\n",
              "    .dataframe tbody tr th:only-of-type {\n",
              "        vertical-align: middle;\n",
              "    }\n",
              "\n",
              "    .dataframe tbody tr th {\n",
              "        vertical-align: top;\n",
              "    }\n",
              "\n",
              "    .dataframe thead th {\n",
              "        text-align: right;\n",
              "    }\n",
              "</style>\n",
              "<table border=\"1\" class=\"dataframe\">\n",
              "  <thead>\n",
              "    <tr style=\"text-align: right;\">\n",
              "      <th></th>\n",
              "      <th>user_id</th>\n",
              "      <th>sex</th>\n",
              "      <th>birthday_year</th>\n",
              "      <th>membership_type</th>\n",
              "      <th>category_prefer</th>\n",
              "      <th>joined_date</th>\n",
              "      <th>deleted_date</th>\n",
              "      <th>join_path</th>\n",
              "      <th>os</th>\n",
              "      <th>recommended_cnt</th>\n",
              "      <th>age</th>\n",
              "      <th>days_from_joined</th>\n",
              "      <th>years_from_joined</th>\n",
              "      <th>if_deleted</th>\n",
              "    </tr>\n",
              "  </thead>\n",
              "  <tbody>\n",
              "  </tbody>\n",
              "</table>\n",
              "</div>"
            ],
            "text/plain": [
              "Empty DataFrame\n",
              "Columns: [user_id, sex, birthday_year, membership_type, category_prefer, joined_date, deleted_date, join_path, os, recommended_cnt, age, days_from_joined, years_from_joined, if_deleted]\n",
              "Index: []"
            ]
          },
          "metadata": {
            "tags": []
          },
          "execution_count": 128
        }
      ]
    },
    {
      "cell_type": "code",
      "metadata": {
        "colab": {
          "base_uri": "https://localhost:8080/",
          "height": 422
        },
        "id": "iwFHYq_2Bajq",
        "outputId": "e1f105a6-b04e-424f-bde0-5ec488fce504"
      },
      "source": [
        "# 중복데이터가 있다면 지우자.\n",
        "user_meta_df.drop_duplicates(subset='user_id')"
      ],
      "execution_count": 129,
      "outputs": [
        {
          "output_type": "execute_result",
          "data": {
            "text/html": [
              "<div>\n",
              "<style scoped>\n",
              "    .dataframe tbody tr th:only-of-type {\n",
              "        vertical-align: middle;\n",
              "    }\n",
              "\n",
              "    .dataframe tbody tr th {\n",
              "        vertical-align: top;\n",
              "    }\n",
              "\n",
              "    .dataframe thead th {\n",
              "        text-align: right;\n",
              "    }\n",
              "</style>\n",
              "<table border=\"1\" class=\"dataframe\">\n",
              "  <thead>\n",
              "    <tr style=\"text-align: right;\">\n",
              "      <th></th>\n",
              "      <th>user_id</th>\n",
              "      <th>sex</th>\n",
              "      <th>birthday_year</th>\n",
              "      <th>membership_type</th>\n",
              "      <th>category_prefer</th>\n",
              "      <th>joined_date</th>\n",
              "      <th>deleted_date</th>\n",
              "      <th>join_path</th>\n",
              "      <th>os</th>\n",
              "      <th>recommended_cnt</th>\n",
              "      <th>age</th>\n",
              "      <th>days_from_joined</th>\n",
              "      <th>years_from_joined</th>\n",
              "      <th>if_deleted</th>\n",
              "    </tr>\n",
              "  </thead>\n",
              "  <tbody>\n",
              "    <tr>\n",
              "      <th>0</th>\n",
              "      <td>KjIRvUKVTgxGaek</td>\n",
              "      <td>0</td>\n",
              "      <td>1995</td>\n",
              "      <td>300</td>\n",
              "      <td>3</td>\n",
              "      <td>2019-09-09</td>\n",
              "      <td>NaT</td>\n",
              "      <td>0.0</td>\n",
              "      <td>AOS</td>\n",
              "      <td>4</td>\n",
              "      <td>27</td>\n",
              "      <td>480</td>\n",
              "      <td>1.3</td>\n",
              "      <td>0</td>\n",
              "    </tr>\n",
              "    <tr>\n",
              "      <th>1</th>\n",
              "      <td>QWhJIG1fOkhUJzG</td>\n",
              "      <td>1</td>\n",
              "      <td>1995</td>\n",
              "      <td>300</td>\n",
              "      <td>2</td>\n",
              "      <td>2020-04-13</td>\n",
              "      <td>NaT</td>\n",
              "      <td>0.0</td>\n",
              "      <td>AOS</td>\n",
              "      <td>1</td>\n",
              "      <td>27</td>\n",
              "      <td>263</td>\n",
              "      <td>0.7</td>\n",
              "      <td>0</td>\n",
              "    </tr>\n",
              "    <tr>\n",
              "      <th>2</th>\n",
              "      <td>5UD76uKfYNPTliG</td>\n",
              "      <td>1</td>\n",
              "      <td>1999</td>\n",
              "      <td>300</td>\n",
              "      <td>4</td>\n",
              "      <td>2018-12-18</td>\n",
              "      <td>NaT</td>\n",
              "      <td>0.0</td>\n",
              "      <td>AOS</td>\n",
              "      <td>6</td>\n",
              "      <td>23</td>\n",
              "      <td>745</td>\n",
              "      <td>2.0</td>\n",
              "      <td>0</td>\n",
              "    </tr>\n",
              "    <tr>\n",
              "      <th>3</th>\n",
              "      <td>lfpxRIsbmmt6mUQ</td>\n",
              "      <td>0</td>\n",
              "      <td>1998</td>\n",
              "      <td>300</td>\n",
              "      <td>7</td>\n",
              "      <td>2019-01-16</td>\n",
              "      <td>NaT</td>\n",
              "      <td>0.0</td>\n",
              "      <td>AOS</td>\n",
              "      <td>2</td>\n",
              "      <td>24</td>\n",
              "      <td>716</td>\n",
              "      <td>2.0</td>\n",
              "      <td>0</td>\n",
              "    </tr>\n",
              "    <tr>\n",
              "      <th>4</th>\n",
              "      <td>djGLdEHvJy17TDX</td>\n",
              "      <td>1</td>\n",
              "      <td>1999</td>\n",
              "      <td>300</td>\n",
              "      <td>6</td>\n",
              "      <td>2019-11-06</td>\n",
              "      <td>NaT</td>\n",
              "      <td>0.0</td>\n",
              "      <td>AOS</td>\n",
              "      <td>2</td>\n",
              "      <td>23</td>\n",
              "      <td>422</td>\n",
              "      <td>1.2</td>\n",
              "      <td>0</td>\n",
              "    </tr>\n",
              "    <tr>\n",
              "      <th>...</th>\n",
              "      <td>...</td>\n",
              "      <td>...</td>\n",
              "      <td>...</td>\n",
              "      <td>...</td>\n",
              "      <td>...</td>\n",
              "      <td>...</td>\n",
              "      <td>...</td>\n",
              "      <td>...</td>\n",
              "      <td>...</td>\n",
              "      <td>...</td>\n",
              "      <td>...</td>\n",
              "      <td>...</td>\n",
              "      <td>...</td>\n",
              "      <td>...</td>\n",
              "    </tr>\n",
              "    <tr>\n",
              "      <th>3407</th>\n",
              "      <td>K0qchcNENCEDzPH</td>\n",
              "      <td>1</td>\n",
              "      <td>1995</td>\n",
              "      <td>100</td>\n",
              "      <td>5</td>\n",
              "      <td>2019-02-08</td>\n",
              "      <td>NaT</td>\n",
              "      <td>0.0</td>\n",
              "      <td>AOS</td>\n",
              "      <td>3</td>\n",
              "      <td>27</td>\n",
              "      <td>693</td>\n",
              "      <td>1.9</td>\n",
              "      <td>0</td>\n",
              "    </tr>\n",
              "    <tr>\n",
              "      <th>3408</th>\n",
              "      <td>EgkSw32Hq7ueGrf</td>\n",
              "      <td>0</td>\n",
              "      <td>1981</td>\n",
              "      <td>100</td>\n",
              "      <td>0</td>\n",
              "      <td>2019-09-05</td>\n",
              "      <td>NaT</td>\n",
              "      <td>0.0</td>\n",
              "      <td>AOS</td>\n",
              "      <td>0</td>\n",
              "      <td>41</td>\n",
              "      <td>484</td>\n",
              "      <td>1.3</td>\n",
              "      <td>0</td>\n",
              "    </tr>\n",
              "    <tr>\n",
              "      <th>3409</th>\n",
              "      <td>wvzkibB8S2Oth9b</td>\n",
              "      <td>0</td>\n",
              "      <td>1978</td>\n",
              "      <td>100</td>\n",
              "      <td>0</td>\n",
              "      <td>2017-10-16</td>\n",
              "      <td>NaT</td>\n",
              "      <td>0.0</td>\n",
              "      <td>AOS</td>\n",
              "      <td>0</td>\n",
              "      <td>44</td>\n",
              "      <td>1173</td>\n",
              "      <td>3.2</td>\n",
              "      <td>0</td>\n",
              "    </tr>\n",
              "    <tr>\n",
              "      <th>3410</th>\n",
              "      <td>8WI83Ev0nnBfMB7</td>\n",
              "      <td>1</td>\n",
              "      <td>1988</td>\n",
              "      <td>100</td>\n",
              "      <td>8</td>\n",
              "      <td>2017-12-06</td>\n",
              "      <td>NaT</td>\n",
              "      <td>0.0</td>\n",
              "      <td>AOS</td>\n",
              "      <td>0</td>\n",
              "      <td>34</td>\n",
              "      <td>1122</td>\n",
              "      <td>3.1</td>\n",
              "      <td>0</td>\n",
              "    </tr>\n",
              "    <tr>\n",
              "      <th>3411</th>\n",
              "      <td>jat1krEScInB0Hx</td>\n",
              "      <td>1</td>\n",
              "      <td>1998</td>\n",
              "      <td>100</td>\n",
              "      <td>5</td>\n",
              "      <td>2020-06-19</td>\n",
              "      <td>NaT</td>\n",
              "      <td>0.0</td>\n",
              "      <td>IOS</td>\n",
              "      <td>2</td>\n",
              "      <td>24</td>\n",
              "      <td>196</td>\n",
              "      <td>0.5</td>\n",
              "      <td>0</td>\n",
              "    </tr>\n",
              "  </tbody>\n",
              "</table>\n",
              "<p>3412 rows × 14 columns</p>\n",
              "</div>"
            ],
            "text/plain": [
              "              user_id  sex  birthday_year  membership_type  category_prefer  \\\n",
              "0     KjIRvUKVTgxGaek    0           1995              300                3   \n",
              "1     QWhJIG1fOkhUJzG    1           1995              300                2   \n",
              "2     5UD76uKfYNPTliG    1           1999              300                4   \n",
              "3     lfpxRIsbmmt6mUQ    0           1998              300                7   \n",
              "4     djGLdEHvJy17TDX    1           1999              300                6   \n",
              "...               ...  ...            ...              ...              ...   \n",
              "3407  K0qchcNENCEDzPH    1           1995              100                5   \n",
              "3408  EgkSw32Hq7ueGrf    0           1981              100                0   \n",
              "3409  wvzkibB8S2Oth9b    0           1978              100                0   \n",
              "3410  8WI83Ev0nnBfMB7    1           1988              100                8   \n",
              "3411  jat1krEScInB0Hx    1           1998              100                5   \n",
              "\n",
              "     joined_date deleted_date  join_path   os  recommended_cnt  age  \\\n",
              "0     2019-09-09          NaT        0.0  AOS                4   27   \n",
              "1     2020-04-13          NaT        0.0  AOS                1   27   \n",
              "2     2018-12-18          NaT        0.0  AOS                6   23   \n",
              "3     2019-01-16          NaT        0.0  AOS                2   24   \n",
              "4     2019-11-06          NaT        0.0  AOS                2   23   \n",
              "...          ...          ...        ...  ...              ...  ...   \n",
              "3407  2019-02-08          NaT        0.0  AOS                3   27   \n",
              "3408  2019-09-05          NaT        0.0  AOS                0   41   \n",
              "3409  2017-10-16          NaT        0.0  AOS                0   44   \n",
              "3410  2017-12-06          NaT        0.0  AOS                0   34   \n",
              "3411  2020-06-19          NaT        0.0  IOS                2   24   \n",
              "\n",
              "      days_from_joined  years_from_joined  if_deleted  \n",
              "0                  480                1.3           0  \n",
              "1                  263                0.7           0  \n",
              "2                  745                2.0           0  \n",
              "3                  716                2.0           0  \n",
              "4                  422                1.2           0  \n",
              "...                ...                ...         ...  \n",
              "3407               693                1.9           0  \n",
              "3408               484                1.3           0  \n",
              "3409              1173                3.2           0  \n",
              "3410              1122                3.1           0  \n",
              "3411               196                0.5           0  \n",
              "\n",
              "[3412 rows x 14 columns]"
            ]
          },
          "metadata": {
            "tags": []
          },
          "execution_count": 129
        }
      ]
    },
    {
      "cell_type": "code",
      "metadata": {
        "colab": {
          "base_uri": "https://localhost:8080/"
        },
        "id": "Uh07GVPCBiQE",
        "outputId": "6943b10c-e2eb-4d88-c90e-a5e460f74f84"
      },
      "source": [
        "# 멤버쉽 타입별 분포를 확인해보자.\n",
        "\n",
        "type(user_meta_df.groupby(['membership_type'])[['user_id']].count()) # 대괄호 안에 두개 안에 넣으면 dataframe"
      ],
      "execution_count": 130,
      "outputs": [
        {
          "output_type": "execute_result",
          "data": {
            "text/plain": [
              "pandas.core.frame.DataFrame"
            ]
          },
          "metadata": {
            "tags": []
          },
          "execution_count": 130
        }
      ]
    },
    {
      "cell_type": "code",
      "metadata": {
        "colab": {
          "base_uri": "https://localhost:8080/"
        },
        "id": "yuGXmXK6BrpY",
        "outputId": "b4473ef5-1911-4c75-9894-aae58cb1d802"
      },
      "source": [
        "type(user_meta_df.groupby(['membership_type'])['user_id'].count()) # 하나만 넣으면 series임."
      ],
      "execution_count": 131,
      "outputs": [
        {
          "output_type": "execute_result",
          "data": {
            "text/plain": [
              "pandas.core.series.Series"
            ]
          },
          "metadata": {
            "tags": []
          },
          "execution_count": 131
        }
      ]
    },
    {
      "cell_type": "code",
      "metadata": {
        "colab": {
          "base_uri": "https://localhost:8080/",
          "height": 195
        },
        "id": "2jXxf9jiB5nT",
        "outputId": "710efdda-fe4f-4b40-f227-ada080b02000"
      },
      "source": [
        "user_meta_df.groupby(['membership_type'])[['user_id']].count()"
      ],
      "execution_count": 132,
      "outputs": [
        {
          "output_type": "execute_result",
          "data": {
            "text/html": [
              "<div>\n",
              "<style scoped>\n",
              "    .dataframe tbody tr th:only-of-type {\n",
              "        vertical-align: middle;\n",
              "    }\n",
              "\n",
              "    .dataframe tbody tr th {\n",
              "        vertical-align: top;\n",
              "    }\n",
              "\n",
              "    .dataframe thead th {\n",
              "        text-align: right;\n",
              "    }\n",
              "</style>\n",
              "<table border=\"1\" class=\"dataframe\">\n",
              "  <thead>\n",
              "    <tr style=\"text-align: right;\">\n",
              "      <th></th>\n",
              "      <th>user_id</th>\n",
              "    </tr>\n",
              "    <tr>\n",
              "      <th>membership_type</th>\n",
              "      <th></th>\n",
              "    </tr>\n",
              "  </thead>\n",
              "  <tbody>\n",
              "    <tr>\n",
              "      <th>100</th>\n",
              "      <td>2667</td>\n",
              "    </tr>\n",
              "    <tr>\n",
              "      <th>300</th>\n",
              "      <td>513</td>\n",
              "    </tr>\n",
              "    <tr>\n",
              "      <th>400</th>\n",
              "      <td>126</td>\n",
              "    </tr>\n",
              "    <tr>\n",
              "      <th>500</th>\n",
              "      <td>106</td>\n",
              "    </tr>\n",
              "  </tbody>\n",
              "</table>\n",
              "</div>"
            ],
            "text/plain": [
              "                 user_id\n",
              "membership_type         \n",
              "100                 2667\n",
              "300                  513\n",
              "400                  126\n",
              "500                  106"
            ]
          },
          "metadata": {
            "tags": []
          },
          "execution_count": 132
        }
      ]
    },
    {
      "cell_type": "code",
      "metadata": {
        "colab": {
          "base_uri": "https://localhost:8080/"
        },
        "id": "Vl4HLvS3Choz",
        "outputId": "394d8036-fc79-467a-e461-9673d1cfc487"
      },
      "source": [
        "user_meta_df.columns"
      ],
      "execution_count": 133,
      "outputs": [
        {
          "output_type": "execute_result",
          "data": {
            "text/plain": [
              "Index(['user_id', 'sex', 'birthday_year', 'membership_type', 'category_prefer',\n",
              "       'joined_date', 'deleted_date', 'join_path', 'os', 'recommended_cnt',\n",
              "       'age', 'days_from_joined', 'years_from_joined', 'if_deleted'],\n",
              "      dtype='object')"
            ]
          },
          "metadata": {
            "tags": []
          },
          "execution_count": 133
        }
      ]
    },
    {
      "cell_type": "code",
      "metadata": {
        "colab": {
          "base_uri": "https://localhost:8080/",
          "height": 343
        },
        "id": "TstQb5H6B_na",
        "outputId": "7b6b6e8a-6006-49ed-cfdc-df2dd22c8a7f"
      },
      "source": [
        "# 가입기간에 따른 고객 분포 \n",
        "user_ct_from_join = user_meta_df.groupby(['years_from_joined'])[['user_id']].count().reset_index()\n",
        "user_ct_from_join[:10]"
      ],
      "execution_count": 134,
      "outputs": [
        {
          "output_type": "execute_result",
          "data": {
            "text/html": [
              "<div>\n",
              "<style scoped>\n",
              "    .dataframe tbody tr th:only-of-type {\n",
              "        vertical-align: middle;\n",
              "    }\n",
              "\n",
              "    .dataframe tbody tr th {\n",
              "        vertical-align: top;\n",
              "    }\n",
              "\n",
              "    .dataframe thead th {\n",
              "        text-align: right;\n",
              "    }\n",
              "</style>\n",
              "<table border=\"1\" class=\"dataframe\">\n",
              "  <thead>\n",
              "    <tr style=\"text-align: right;\">\n",
              "      <th></th>\n",
              "      <th>years_from_joined</th>\n",
              "      <th>user_id</th>\n",
              "    </tr>\n",
              "  </thead>\n",
              "  <tbody>\n",
              "    <tr>\n",
              "      <th>0</th>\n",
              "      <td>0.0</td>\n",
              "      <td>64</td>\n",
              "    </tr>\n",
              "    <tr>\n",
              "      <th>1</th>\n",
              "      <td>0.1</td>\n",
              "      <td>102</td>\n",
              "    </tr>\n",
              "    <tr>\n",
              "      <th>2</th>\n",
              "      <td>0.2</td>\n",
              "      <td>112</td>\n",
              "    </tr>\n",
              "    <tr>\n",
              "      <th>3</th>\n",
              "      <td>0.3</td>\n",
              "      <td>128</td>\n",
              "    </tr>\n",
              "    <tr>\n",
              "      <th>4</th>\n",
              "      <td>0.4</td>\n",
              "      <td>100</td>\n",
              "    </tr>\n",
              "    <tr>\n",
              "      <th>5</th>\n",
              "      <td>0.5</td>\n",
              "      <td>92</td>\n",
              "    </tr>\n",
              "    <tr>\n",
              "      <th>6</th>\n",
              "      <td>0.6</td>\n",
              "      <td>119</td>\n",
              "    </tr>\n",
              "    <tr>\n",
              "      <th>7</th>\n",
              "      <td>0.7</td>\n",
              "      <td>101</td>\n",
              "    </tr>\n",
              "    <tr>\n",
              "      <th>8</th>\n",
              "      <td>0.8</td>\n",
              "      <td>84</td>\n",
              "    </tr>\n",
              "    <tr>\n",
              "      <th>9</th>\n",
              "      <td>0.9</td>\n",
              "      <td>118</td>\n",
              "    </tr>\n",
              "  </tbody>\n",
              "</table>\n",
              "</div>"
            ],
            "text/plain": [
              "   years_from_joined  user_id\n",
              "0                0.0       64\n",
              "1                0.1      102\n",
              "2                0.2      112\n",
              "3                0.3      128\n",
              "4                0.4      100\n",
              "5                0.5       92\n",
              "6                0.6      119\n",
              "7                0.7      101\n",
              "8                0.8       84\n",
              "9                0.9      118"
            ]
          },
          "metadata": {
            "tags": []
          },
          "execution_count": 134
        }
      ]
    },
    {
      "cell_type": "code",
      "metadata": {
        "colab": {
          "base_uri": "https://localhost:8080/",
          "height": 428
        },
        "id": "lZ4I3EVDEm42",
        "outputId": "ab0433e3-56d4-4289-8179-5e3684607c3b"
      },
      "source": [
        "plt.figure(figsize=(15,7))\n",
        "plt.bar(user_ct_from_join.years_from_joined, user_ct_from_join.user_id,\n",
        "        width=0.06, alpha=0.09, color='black')\n",
        "plt.show()\n"
      ],
      "execution_count": 135,
      "outputs": [
        {
          "output_type": "display_data",
          "data": {
            "image/png": "[encoded data removed]",
            "text/plain": [
              "<Figure size 1080x504 with 1 Axes>"
            ]
          },
          "metadata": {
            "tags": [],
            "needs_background": "light"
          }
        }
      ]
    },
    {
      "cell_type": "code",
      "metadata": {
        "colab": {
          "base_uri": "https://localhost:8080/",
          "height": 517
        },
        "id": "IfB0dFUNFy49",
        "outputId": "e1fb0bf1-0465-4b37-cb7e-d4556573ef61"
      },
      "source": [
        "fig  = px.bar(user_ct_from_join,\n",
        "              x = 'years_from_joined',\n",
        "              y = 'user_id')\n",
        "fig.update_layout(height = 500, width = 1000)\n",
        "fig.show()\n",
        "\n",
        "# 최근 가입한 유저가 많음."
      ],
      "execution_count": 136,
      "outputs": [
        {
          "output_type": "display_data",
          "data": {
            "text/html": [
              "<html>\n",
              "<head><meta charset=\"utf-8\" /></head>\n",
              "<body>\n",
              "    <div>\n",
              "            <script src=\"https://cdnjs.cloudflare.com/ajax/libs/mathjax/2.7.5/MathJax.js?config=TeX-AMS-MML_SVG\"></script><script type=\"text/javascript\">if (window.MathJax) {MathJax.Hub.Config({SVG: {font: \"STIX-Web\"}});}</script>\n",
              "                <script type=\"text/javascript\">window.PlotlyConfig = {MathJaxConfig: 'local'};</script>\n",
              "        <script src=\"https://cdn.plot.ly/plotly-latest.min.js\"></script>    \n",
              "            <div id=\"831f436c-0d99-4d13-b969-1ff07156ec7b\" class=\"plotly-graph-div\" style=\"height:500px; width:1000px;\"></div>\n",
              "            <script type=\"text/javascript\">\n",
              "                \n",
              "                    window.PLOTLYENV=window.PLOTLYENV || {};\n",
              "                    \n",
              "                if (document.getElementById(\"831f436c-0d99-4d13-b969-1ff07156ec7b\")) {\n",
              "                    Plotly.newPlot(\n",
              "                        '831f436c-0d99-4d13-b969-1ff07156ec7b',\n",
              "                        [{\"alignmentgroup\": \"True\", \"hoverlabel\": {\"namelength\": 0}, \"hovertemplate\": \"years_from_joined=%{x}<br>user_id=%{y}\", \"legendgroup\": \"\", \"marker\": {\"color\": \"#636efa\"}, \"name\": \"\", \"offsetgroup\": \"\", \"orientation\": \"v\", \"showlegend\": false, \"textposition\": \"auto\", \"type\": \"bar\", \"x\": [0.0, 0.1, 0.2, 0.3, 0.4, 0.5, 0.6, 0.7, 0.8, 0.9, 1.0, 1.1, 1.2, 1.3, 1.4, 1.5, 1.6, 1.7, 1.8, 1.9, 2.0, 2.1, 2.2, 2.3, 2.4, 2.5, 2.6, 2.7, 2.8, 2.9, 3.0, 3.1, 3.2, 3.3, 3.4, 3.5, 3.6, 3.7, 3.8, 3.9, 4.0, 4.1, 4.2, 4.3, 4.4, 4.5, 4.6, 4.7, 4.8, 4.9, 5.0], \"xaxis\": \"x\", \"y\": [64, 102, 112, 128, 100, 92, 119, 101, 84, 118, 106, 95, 108, 95, 87, 91, 102, 104, 84, 90, 86, 109, 71, 72, 84, 82, 69, 61, 63, 72, 59, 56, 58, 51, 39, 38, 42, 30, 46, 49, 22, 34, 23, 17, 25, 16, 11, 19, 9, 14, 3], \"yaxis\": \"y\"}],\n",
              "                        {\"barmode\": \"relative\", \"height\": 500, \"legend\": {\"tracegroupgap\": 0}, \"margin\": {\"t\": 60}, \"template\": {\"data\": {\"bar\": [{\"error_x\": {\"color\": \"#2a3f5f\"}, \"error_y\": {\"color\": \"#2a3f5f\"}, \"marker\": {\"line\": {\"color\": \"#E5ECF6\", \"width\": 0.5}}, \"type\": \"bar\"}], \"barpolar\": [{\"marker\": {\"line\": {\"color\": \"#E5ECF6\", \"width\": 0.5}}, \"type\": \"barpolar\"}], \"carpet\": [{\"aaxis\": {\"endlinecolor\": \"#2a3f5f\", \"gridcolor\": \"white\", \"linecolor\": \"white\", \"minorgridcolor\": \"white\", \"startlinecolor\": \"#2a3f5f\"}, \"baxis\": {\"endlinecolor\": \"#2a3f5f\", \"gridcolor\": \"white\", \"linecolor\": \"white\", \"minorgridcolor\": \"white\", \"startlinecolor\": \"#2a3f5f\"}, \"type\": \"carpet\"}], \"choropleth\": [{\"colorbar\": {\"outlinewidth\": 0, \"ticks\": \"\"}, \"type\": \"choropleth\"}], \"contour\": [{\"colorbar\": {\"outlinewidth\": 0, \"ticks\": \"\"}, \"colorscale\": [[0.0, \"#0d0887\"], [0.1111111111111111, \"#46039f\"], [0.2222222222222222, \"#7201a8\"], [0.3333333333333333, \"#9c179e\"], [0.4444444444444444, \"#bd3786\"], [0.5555555555555556, \"#d8576b\"], [0.6666666666666666, \"#ed7953\"], [0.7777777777777778, \"#fb9f3a\"], [0.8888888888888888, \"#fdca26\"], [1.0, \"#f0f921\"]], \"type\": \"contour\"}], \"contourcarpet\": [{\"colorbar\": {\"outlinewidth\": 0, \"ticks\": \"\"}, \"type\": \"contourcarpet\"}], \"heatmap\": [{\"colorbar\": {\"outlinewidth\": 0, \"ticks\": \"\"}, \"colorscale\": [[0.0, \"#0d0887\"], [0.1111111111111111, \"#46039f\"], [0.2222222222222222, \"#7201a8\"], [0.3333333333333333, \"#9c179e\"], [0.4444444444444444, \"#bd3786\"], [0.5555555555555556, \"#d8576b\"], [0.6666666666666666, \"#ed7953\"], [0.7777777777777778, \"#fb9f3a\"], [0.8888888888888888, \"#fdca26\"], [1.0, \"#f0f921\"]], \"type\": \"heatmap\"}], \"heatmapgl\": [{\"colorbar\": {\"outlinewidth\": 0, \"ticks\": \"\"}, \"colorscale\": [[0.0, \"#0d0887\"], [0.1111111111111111, \"#46039f\"], [0.2222222222222222, \"#7201a8\"], [0.3333333333333333, \"#9c179e\"], [0.4444444444444444, \"#bd3786\"], [0.5555555555555556, \"#d8576b\"], [0.6666666666666666, \"#ed7953\"], [0.7777777777777778, \"#fb9f3a\"], [0.8888888888888888, \"#fdca26\"], [1.0, \"#f0f921\"]], \"type\": \"heatmapgl\"}], \"histogram\": [{\"marker\": {\"colorbar\": {\"outlinewidth\": 0, \"ticks\": \"\"}}, \"type\": \"histogram\"}], \"histogram2d\": [{\"colorbar\": {\"outlinewidth\": 0, \"ticks\": \"\"}, \"colorscale\": [[0.0, \"#0d0887\"], [0.1111111111111111, \"#46039f\"], [0.2222222222222222, \"#7201a8\"], [0.3333333333333333, \"#9c179e\"], [0.4444444444444444, \"#bd3786\"], [0.5555555555555556, \"#d8576b\"], [0.6666666666666666, \"#ed7953\"], [0.7777777777777778, \"#fb9f3a\"], [0.8888888888888888, \"#fdca26\"], [1.0, \"#f0f921\"]], \"type\": \"histogram2d\"}], \"histogram2dcontour\": [{\"colorbar\": {\"outlinewidth\": 0, \"ticks\": \"\"}, \"colorscale\": [[0.0, \"#0d0887\"], [0.1111111111111111, \"#46039f\"], [0.2222222222222222, \"#7201a8\"], [0.3333333333333333, \"#9c179e\"], [0.4444444444444444, \"#bd3786\"], [0.5555555555555556, \"#d8576b\"], [0.6666666666666666, \"#ed7953\"], [0.7777777777777778, \"#fb9f3a\"], [0.8888888888888888, \"#fdca26\"], [1.0, \"#f0f921\"]], \"type\": \"histogram2dcontour\"}], \"mesh3d\": [{\"colorbar\": {\"outlinewidth\": 0, \"ticks\": \"\"}, \"type\": \"mesh3d\"}], \"parcoords\": [{\"line\": {\"colorbar\": {\"outlinewidth\": 0, \"ticks\": \"\"}}, \"type\": \"parcoords\"}], \"pie\": [{\"automargin\": true, \"type\": \"pie\"}], \"scatter\": [{\"marker\": {\"colorbar\": {\"outlinewidth\": 0, \"ticks\": \"\"}}, \"type\": \"scatter\"}], \"scatter3d\": [{\"line\": {\"colorbar\": {\"outlinewidth\": 0, \"ticks\": \"\"}}, \"marker\": {\"colorbar\": {\"outlinewidth\": 0, \"ticks\": \"\"}}, \"type\": \"scatter3d\"}], \"scattercarpet\": [{\"marker\": {\"colorbar\": {\"outlinewidth\": 0, \"ticks\": \"\"}}, \"type\": \"scattercarpet\"}], \"scattergeo\": [{\"marker\": {\"colorbar\": {\"outlinewidth\": 0, \"ticks\": \"\"}}, \"type\": \"scattergeo\"}], \"scattergl\": [{\"marker\": {\"colorbar\": {\"outlinewidth\": 0, \"ticks\": \"\"}}, \"type\": \"scattergl\"}], \"scattermapbox\": [{\"marker\": {\"colorbar\": {\"outlinewidth\": 0, \"ticks\": \"\"}}, \"type\": \"scattermapbox\"}], \"scatterpolar\": [{\"marker\": {\"colorbar\": {\"outlinewidth\": 0, \"ticks\": \"\"}}, \"type\": \"scatterpolar\"}], \"scatterpolargl\": [{\"marker\": {\"colorbar\": {\"outlinewidth\": 0, \"ticks\": \"\"}}, \"type\": \"scatterpolargl\"}], \"scatterternary\": [{\"marker\": {\"colorbar\": {\"outlinewidth\": 0, \"ticks\": \"\"}}, \"type\": \"scatterternary\"}], \"surface\": [{\"colorbar\": {\"outlinewidth\": 0, \"ticks\": \"\"}, \"colorscale\": [[0.0, \"#0d0887\"], [0.1111111111111111, \"#46039f\"], [0.2222222222222222, \"#7201a8\"], [0.3333333333333333, \"#9c179e\"], [0.4444444444444444, \"#bd3786\"], [0.5555555555555556, \"#d8576b\"], [0.6666666666666666, \"#ed7953\"], [0.7777777777777778, \"#fb9f3a\"], [0.8888888888888888, \"#fdca26\"], [1.0, \"#f0f921\"]], \"type\": \"surface\"}], \"table\": [{\"cells\": {\"fill\": {\"color\": \"#EBF0F8\"}, \"line\": {\"color\": \"white\"}}, \"header\": {\"fill\": {\"color\": \"#C8D4E3\"}, \"line\": {\"color\": \"white\"}}, \"type\": \"table\"}]}, \"layout\": {\"annotationdefaults\": {\"arrowcolor\": \"#2a3f5f\", \"arrowhead\": 0, \"arrowwidth\": 1}, \"coloraxis\": {\"colorbar\": {\"outlinewidth\": 0, \"ticks\": \"\"}}, \"colorscale\": {\"diverging\": [[0, \"#8e0152\"], [0.1, \"#c51b7d\"], [0.2, \"#de77ae\"], [0.3, \"#f1b6da\"], [0.4, \"#fde0ef\"], [0.5, \"#f7f7f7\"], [0.6, \"#e6f5d0\"], [0.7, \"#b8e186\"], [0.8, \"#7fbc41\"], [0.9, \"#4d9221\"], [1, \"#276419\"]], \"sequential\": [[0.0, \"#0d0887\"], [0.1111111111111111, \"#46039f\"], [0.2222222222222222, \"#7201a8\"], [0.3333333333333333, \"#9c179e\"], [0.4444444444444444, \"#bd3786\"], [0.5555555555555556, \"#d8576b\"], [0.6666666666666666, \"#ed7953\"], [0.7777777777777778, \"#fb9f3a\"], [0.8888888888888888, \"#fdca26\"], [1.0, \"#f0f921\"]], \"sequentialminus\": [[0.0, \"#0d0887\"], [0.1111111111111111, \"#46039f\"], [0.2222222222222222, \"#7201a8\"], [0.3333333333333333, \"#9c179e\"], [0.4444444444444444, \"#bd3786\"], [0.5555555555555556, \"#d8576b\"], [0.6666666666666666, \"#ed7953\"], [0.7777777777777778, \"#fb9f3a\"], [0.8888888888888888, \"#fdca26\"], [1.0, \"#f0f921\"]]}, \"colorway\": [\"#636efa\", \"#EF553B\", \"#00cc96\", \"#ab63fa\", \"#FFA15A\", \"#19d3f3\", \"#FF6692\", \"#B6E880\", \"#FF97FF\", \"#FECB52\"], \"font\": {\"color\": \"#2a3f5f\"}, \"geo\": {\"bgcolor\": \"white\", \"lakecolor\": \"white\", \"landcolor\": \"#E5ECF6\", \"showlakes\": true, \"showland\": true, \"subunitcolor\": \"white\"}, \"hoverlabel\": {\"align\": \"left\"}, \"hovermode\": \"closest\", \"mapbox\": {\"style\": \"light\"}, \"paper_bgcolor\": \"white\", \"plot_bgcolor\": \"#E5ECF6\", \"polar\": {\"angularaxis\": {\"gridcolor\": \"white\", \"linecolor\": \"white\", \"ticks\": \"\"}, \"bgcolor\": \"#E5ECF6\", \"radialaxis\": {\"gridcolor\": \"white\", \"linecolor\": \"white\", \"ticks\": \"\"}}, \"scene\": {\"xaxis\": {\"backgroundcolor\": \"#E5ECF6\", \"gridcolor\": \"white\", \"gridwidth\": 2, \"linecolor\": \"white\", \"showbackground\": true, \"ticks\": \"\", \"zerolinecolor\": \"white\"}, \"yaxis\": {\"backgroundcolor\": \"#E5ECF6\", \"gridcolor\": \"white\", \"gridwidth\": 2, \"linecolor\": \"white\", \"showbackground\": true, \"ticks\": \"\", \"zerolinecolor\": \"white\"}, \"zaxis\": {\"backgroundcolor\": \"#E5ECF6\", \"gridcolor\": \"white\", \"gridwidth\": 2, \"linecolor\": \"white\", \"showbackground\": true, \"ticks\": \"\", \"zerolinecolor\": \"white\"}}, \"shapedefaults\": {\"line\": {\"color\": \"#2a3f5f\"}}, \"ternary\": {\"aaxis\": {\"gridcolor\": \"white\", \"linecolor\": \"white\", \"ticks\": \"\"}, \"baxis\": {\"gridcolor\": \"white\", \"linecolor\": \"white\", \"ticks\": \"\"}, \"bgcolor\": \"#E5ECF6\", \"caxis\": {\"gridcolor\": \"white\", \"linecolor\": \"white\", \"ticks\": \"\"}}, \"title\": {\"x\": 0.05}, \"xaxis\": {\"automargin\": true, \"gridcolor\": \"white\", \"linecolor\": \"white\", \"ticks\": \"\", \"title\": {\"standoff\": 15}, \"zerolinecolor\": \"white\", \"zerolinewidth\": 2}, \"yaxis\": {\"automargin\": true, \"gridcolor\": \"white\", \"linecolor\": \"white\", \"ticks\": \"\", \"title\": {\"standoff\": 15}, \"zerolinecolor\": \"white\", \"zerolinewidth\": 2}}}, \"width\": 1000, \"xaxis\": {\"anchor\": \"y\", \"domain\": [0.0, 1.0], \"title\": {\"text\": \"years_from_joined\"}}, \"yaxis\": {\"anchor\": \"x\", \"domain\": [0.0, 1.0], \"title\": {\"text\": \"user_id\"}}},\n",
              "                        {\"responsive\": true}\n",
              "                    ).then(function(){\n",
              "                            \n",
              "var gd = document.getElementById('831f436c-0d99-4d13-b969-1ff07156ec7b');\n",
              "var x = new MutationObserver(function (mutations, observer) {{\n",
              "        var display = window.getComputedStyle(gd).display;\n",
              "        if (!display || display === 'none') {{\n",
              "            console.log([gd, 'removed!']);\n",
              "            Plotly.purge(gd);\n",
              "            observer.disconnect();\n",
              "        }}\n",
              "}});\n",
              "\n",
              "// Listen for the removal of the full notebook cells\n",
              "var notebookContainer = gd.closest('#notebook-container');\n",
              "if (notebookContainer) {{\n",
              "    x.observe(notebookContainer, {childList: true});\n",
              "}}\n",
              "\n",
              "// Listen for the clearing of the current output cell\n",
              "var outputEl = gd.closest('.output');\n",
              "if (outputEl) {{\n",
              "    x.observe(outputEl, {childList: true});\n",
              "}}\n",
              "\n",
              "                        })\n",
              "                };\n",
              "                \n",
              "            </script>\n",
              "        </div>\n",
              "</body>\n",
              "</html>"
            ]
          },
          "metadata": {
            "tags": []
          }
        }
      ]
    },
    {
      "cell_type": "code",
      "metadata": {
        "colab": {
          "base_uri": "https://localhost:8080/",
          "height": 517
        },
        "id": "z5ipeD3lHtYy",
        "outputId": "c7f9a7ee-e2f9-48a7-f6cb-fb61d4196610"
      },
      "source": [
        "# 카테고리 선호 입력 수에 따른 고객 분포 확인\n",
        "user_ct_from_ctg = user_meta_df.groupby(['category_prefer'])[['user_id']].count().reset_index()\n",
        "fig  = px.bar(user_ct_from_ctg,\n",
        "              x = 'category_prefer',\n",
        "              y = 'user_id')\n",
        "fig.update_layout(height = 500, width = 1000)\n",
        "fig.show()"
      ],
      "execution_count": 137,
      "outputs": [
        {
          "output_type": "display_data",
          "data": {
            "text/html": [
              "<html>\n",
              "<head><meta charset=\"utf-8\" /></head>\n",
              "<body>\n",
              "    <div>\n",
              "            <script src=\"https://cdnjs.cloudflare.com/ajax/libs/mathjax/2.7.5/MathJax.js?config=TeX-AMS-MML_SVG\"></script><script type=\"text/javascript\">if (window.MathJax) {MathJax.Hub.Config({SVG: {font: \"STIX-Web\"}});}</script>\n",
              "                <script type=\"text/javascript\">window.PlotlyConfig = {MathJaxConfig: 'local'};</script>\n",
              "        <script src=\"https://cdn.plot.ly/plotly-latest.min.js\"></script>    \n",
              "            <div id=\"07f21c32-8438-4507-9b52-8056954918df\" class=\"plotly-graph-div\" style=\"height:500px; width:1000px;\"></div>\n",
              "            <script type=\"text/javascript\">\n",
              "                \n",
              "                    window.PLOTLYENV=window.PLOTLYENV || {};\n",
              "                    \n",
              "                if (document.getElementById(\"07f21c32-8438-4507-9b52-8056954918df\")) {\n",
              "                    Plotly.newPlot(\n",
              "                        '07f21c32-8438-4507-9b52-8056954918df',\n",
              "                        [{\"alignmentgroup\": \"True\", \"hoverlabel\": {\"namelength\": 0}, \"hovertemplate\": \"category_prefer=%{x}<br>user_id=%{y}\", \"legendgroup\": \"\", \"marker\": {\"color\": \"#636efa\"}, \"name\": \"\", \"offsetgroup\": \"\", \"orientation\": \"v\", \"showlegend\": false, \"textposition\": \"auto\", \"type\": \"bar\", \"x\": [0, 1, 2, 3, 4, 5, 6, 7, 8, 9, 10, 11, 12, 13, 14, 15, 16, 17], \"xaxis\": \"x\", \"y\": [562, 240, 280, 310, 319, 347, 351, 283, 246, 187, 112, 88, 43, 27, 10, 3, 3, 1], \"yaxis\": \"y\"}],\n",
              "                        {\"barmode\": \"relative\", \"height\": 500, \"legend\": {\"tracegroupgap\": 0}, \"margin\": {\"t\": 60}, \"template\": {\"data\": {\"bar\": [{\"error_x\": {\"color\": \"#2a3f5f\"}, \"error_y\": {\"color\": \"#2a3f5f\"}, \"marker\": {\"line\": {\"color\": \"#E5ECF6\", \"width\": 0.5}}, \"type\": \"bar\"}], \"barpolar\": [{\"marker\": {\"line\": {\"color\": \"#E5ECF6\", \"width\": 0.5}}, \"type\": \"barpolar\"}], \"carpet\": [{\"aaxis\": {\"endlinecolor\": \"#2a3f5f\", \"gridcolor\": \"white\", \"linecolor\": \"white\", \"minorgridcolor\": \"white\", \"startlinecolor\": \"#2a3f5f\"}, \"baxis\": {\"endlinecolor\": \"#2a3f5f\", \"gridcolor\": \"white\", \"linecolor\": \"white\", \"minorgridcolor\": \"white\", \"startlinecolor\": \"#2a3f5f\"}, \"type\": \"carpet\"}], \"choropleth\": [{\"colorbar\": {\"outlinewidth\": 0, \"ticks\": \"\"}, \"type\": \"choropleth\"}], \"contour\": [{\"colorbar\": {\"outlinewidth\": 0, \"ticks\": \"\"}, \"colorscale\": [[0.0, \"#0d0887\"], [0.1111111111111111, \"#46039f\"], [0.2222222222222222, \"#7201a8\"], [0.3333333333333333, \"#9c179e\"], [0.4444444444444444, \"#bd3786\"], [0.5555555555555556, \"#d8576b\"], [0.6666666666666666, \"#ed7953\"], [0.7777777777777778, \"#fb9f3a\"], [0.8888888888888888, \"#fdca26\"], [1.0, \"#f0f921\"]], \"type\": \"contour\"}], \"contourcarpet\": [{\"colorbar\": {\"outlinewidth\": 0, \"ticks\": \"\"}, \"type\": \"contourcarpet\"}], \"heatmap\": [{\"colorbar\": {\"outlinewidth\": 0, \"ticks\": \"\"}, \"colorscale\": [[0.0, \"#0d0887\"], [0.1111111111111111, \"#46039f\"], [0.2222222222222222, \"#7201a8\"], [0.3333333333333333, \"#9c179e\"], [0.4444444444444444, \"#bd3786\"], [0.5555555555555556, \"#d8576b\"], [0.6666666666666666, \"#ed7953\"], [0.7777777777777778, \"#fb9f3a\"], [0.8888888888888888, \"#fdca26\"], [1.0, \"#f0f921\"]], \"type\": \"heatmap\"}], \"heatmapgl\": [{\"colorbar\": {\"outlinewidth\": 0, \"ticks\": \"\"}, \"colorscale\": [[0.0, \"#0d0887\"], [0.1111111111111111, \"#46039f\"], [0.2222222222222222, \"#7201a8\"], [0.3333333333333333, \"#9c179e\"], [0.4444444444444444, \"#bd3786\"], [0.5555555555555556, \"#d8576b\"], [0.6666666666666666, \"#ed7953\"], [0.7777777777777778, \"#fb9f3a\"], [0.8888888888888888, \"#fdca26\"], [1.0, \"#f0f921\"]], \"type\": \"heatmapgl\"}], \"histogram\": [{\"marker\": {\"colorbar\": {\"outlinewidth\": 0, \"ticks\": \"\"}}, \"type\": \"histogram\"}], \"histogram2d\": [{\"colorbar\": {\"outlinewidth\": 0, \"ticks\": \"\"}, \"colorscale\": [[0.0, \"#0d0887\"], [0.1111111111111111, \"#46039f\"], [0.2222222222222222, \"#7201a8\"], [0.3333333333333333, \"#9c179e\"], [0.4444444444444444, \"#bd3786\"], [0.5555555555555556, \"#d8576b\"], [0.6666666666666666, \"#ed7953\"], [0.7777777777777778, \"#fb9f3a\"], [0.8888888888888888, \"#fdca26\"], [1.0, \"#f0f921\"]], \"type\": \"histogram2d\"}], \"histogram2dcontour\": [{\"colorbar\": {\"outlinewidth\": 0, \"ticks\": \"\"}, \"colorscale\": [[0.0, \"#0d0887\"], [0.1111111111111111, \"#46039f\"], [0.2222222222222222, \"#7201a8\"], [0.3333333333333333, \"#9c179e\"], [0.4444444444444444, \"#bd3786\"], [0.5555555555555556, \"#d8576b\"], [0.6666666666666666, \"#ed7953\"], [0.7777777777777778, \"#fb9f3a\"], [0.8888888888888888, \"#fdca26\"], [1.0, \"#f0f921\"]], \"type\": \"histogram2dcontour\"}], \"mesh3d\": [{\"colorbar\": {\"outlinewidth\": 0, \"ticks\": \"\"}, \"type\": \"mesh3d\"}], \"parcoords\": [{\"line\": {\"colorbar\": {\"outlinewidth\": 0, \"ticks\": \"\"}}, \"type\": \"parcoords\"}], \"pie\": [{\"automargin\": true, \"type\": \"pie\"}], \"scatter\": [{\"marker\": {\"colorbar\": {\"outlinewidth\": 0, \"ticks\": \"\"}}, \"type\": \"scatter\"}], \"scatter3d\": [{\"line\": {\"colorbar\": {\"outlinewidth\": 0, \"ticks\": \"\"}}, \"marker\": {\"colorbar\": {\"outlinewidth\": 0, \"ticks\": \"\"}}, \"type\": \"scatter3d\"}], \"scattercarpet\": [{\"marker\": {\"colorbar\": {\"outlinewidth\": 0, \"ticks\": \"\"}}, \"type\": \"scattercarpet\"}], \"scattergeo\": [{\"marker\": {\"colorbar\": {\"outlinewidth\": 0, \"ticks\": \"\"}}, \"type\": \"scattergeo\"}], \"scattergl\": [{\"marker\": {\"colorbar\": {\"outlinewidth\": 0, \"ticks\": \"\"}}, \"type\": \"scattergl\"}], \"scattermapbox\": [{\"marker\": {\"colorbar\": {\"outlinewidth\": 0, \"ticks\": \"\"}}, \"type\": \"scattermapbox\"}], \"scatterpolar\": [{\"marker\": {\"colorbar\": {\"outlinewidth\": 0, \"ticks\": \"\"}}, \"type\": \"scatterpolar\"}], \"scatterpolargl\": [{\"marker\": {\"colorbar\": {\"outlinewidth\": 0, \"ticks\": \"\"}}, \"type\": \"scatterpolargl\"}], \"scatterternary\": [{\"marker\": {\"colorbar\": {\"outlinewidth\": 0, \"ticks\": \"\"}}, \"type\": \"scatterternary\"}], \"surface\": [{\"colorbar\": {\"outlinewidth\": 0, \"ticks\": \"\"}, \"colorscale\": [[0.0, \"#0d0887\"], [0.1111111111111111, \"#46039f\"], [0.2222222222222222, \"#7201a8\"], [0.3333333333333333, \"#9c179e\"], [0.4444444444444444, \"#bd3786\"], [0.5555555555555556, \"#d8576b\"], [0.6666666666666666, \"#ed7953\"], [0.7777777777777778, \"#fb9f3a\"], [0.8888888888888888, \"#fdca26\"], [1.0, \"#f0f921\"]], \"type\": \"surface\"}], \"table\": [{\"cells\": {\"fill\": {\"color\": \"#EBF0F8\"}, \"line\": {\"color\": \"white\"}}, \"header\": {\"fill\": {\"color\": \"#C8D4E3\"}, \"line\": {\"color\": \"white\"}}, \"type\": \"table\"}]}, \"layout\": {\"annotationdefaults\": {\"arrowcolor\": \"#2a3f5f\", \"arrowhead\": 0, \"arrowwidth\": 1}, \"coloraxis\": {\"colorbar\": {\"outlinewidth\": 0, \"ticks\": \"\"}}, \"colorscale\": {\"diverging\": [[0, \"#8e0152\"], [0.1, \"#c51b7d\"], [0.2, \"#de77ae\"], [0.3, \"#f1b6da\"], [0.4, \"#fde0ef\"], [0.5, \"#f7f7f7\"], [0.6, \"#e6f5d0\"], [0.7, \"#b8e186\"], [0.8, \"#7fbc41\"], [0.9, \"#4d9221\"], [1, \"#276419\"]], \"sequential\": [[0.0, \"#0d0887\"], [0.1111111111111111, \"#46039f\"], [0.2222222222222222, \"#7201a8\"], [0.3333333333333333, \"#9c179e\"], [0.4444444444444444, \"#bd3786\"], [0.5555555555555556, \"#d8576b\"], [0.6666666666666666, \"#ed7953\"], [0.7777777777777778, \"#fb9f3a\"], [0.8888888888888888, \"#fdca26\"], [1.0, \"#f0f921\"]], \"sequentialminus\": [[0.0, \"#0d0887\"], [0.1111111111111111, \"#46039f\"], [0.2222222222222222, \"#7201a8\"], [0.3333333333333333, \"#9c179e\"], [0.4444444444444444, \"#bd3786\"], [0.5555555555555556, \"#d8576b\"], [0.6666666666666666, \"#ed7953\"], [0.7777777777777778, \"#fb9f3a\"], [0.8888888888888888, \"#fdca26\"], [1.0, \"#f0f921\"]]}, \"colorway\": [\"#636efa\", \"#EF553B\", \"#00cc96\", \"#ab63fa\", \"#FFA15A\", \"#19d3f3\", \"#FF6692\", \"#B6E880\", \"#FF97FF\", \"#FECB52\"], \"font\": {\"color\": \"#2a3f5f\"}, \"geo\": {\"bgcolor\": \"white\", \"lakecolor\": \"white\", \"landcolor\": \"#E5ECF6\", \"showlakes\": true, \"showland\": true, \"subunitcolor\": \"white\"}, \"hoverlabel\": {\"align\": \"left\"}, \"hovermode\": \"closest\", \"mapbox\": {\"style\": \"light\"}, \"paper_bgcolor\": \"white\", \"plot_bgcolor\": \"#E5ECF6\", \"polar\": {\"angularaxis\": {\"gridcolor\": \"white\", \"linecolor\": \"white\", \"ticks\": \"\"}, \"bgcolor\": \"#E5ECF6\", \"radialaxis\": {\"gridcolor\": \"white\", \"linecolor\": \"white\", \"ticks\": \"\"}}, \"scene\": {\"xaxis\": {\"backgroundcolor\": \"#E5ECF6\", \"gridcolor\": \"white\", \"gridwidth\": 2, \"linecolor\": \"white\", \"showbackground\": true, \"ticks\": \"\", \"zerolinecolor\": \"white\"}, \"yaxis\": {\"backgroundcolor\": \"#E5ECF6\", \"gridcolor\": \"white\", \"gridwidth\": 2, \"linecolor\": \"white\", \"showbackground\": true, \"ticks\": \"\", \"zerolinecolor\": \"white\"}, \"zaxis\": {\"backgroundcolor\": \"#E5ECF6\", \"gridcolor\": \"white\", \"gridwidth\": 2, \"linecolor\": \"white\", \"showbackground\": true, \"ticks\": \"\", \"zerolinecolor\": \"white\"}}, \"shapedefaults\": {\"line\": {\"color\": \"#2a3f5f\"}}, \"ternary\": {\"aaxis\": {\"gridcolor\": \"white\", \"linecolor\": \"white\", \"ticks\": \"\"}, \"baxis\": {\"gridcolor\": \"white\", \"linecolor\": \"white\", \"ticks\": \"\"}, \"bgcolor\": \"#E5ECF6\", \"caxis\": {\"gridcolor\": \"white\", \"linecolor\": \"white\", \"ticks\": \"\"}}, \"title\": {\"x\": 0.05}, \"xaxis\": {\"automargin\": true, \"gridcolor\": \"white\", \"linecolor\": \"white\", \"ticks\": \"\", \"title\": {\"standoff\": 15}, \"zerolinecolor\": \"white\", \"zerolinewidth\": 2}, \"yaxis\": {\"automargin\": true, \"gridcolor\": \"white\", \"linecolor\": \"white\", \"ticks\": \"\", \"title\": {\"standoff\": 15}, \"zerolinecolor\": \"white\", \"zerolinewidth\": 2}}}, \"width\": 1000, \"xaxis\": {\"anchor\": \"y\", \"domain\": [0.0, 1.0], \"title\": {\"text\": \"category_prefer\"}}, \"yaxis\": {\"anchor\": \"x\", \"domain\": [0.0, 1.0], \"title\": {\"text\": \"user_id\"}}},\n",
              "                        {\"responsive\": true}\n",
              "                    ).then(function(){\n",
              "                            \n",
              "var gd = document.getElementById('07f21c32-8438-4507-9b52-8056954918df');\n",
              "var x = new MutationObserver(function (mutations, observer) {{\n",
              "        var display = window.getComputedStyle(gd).display;\n",
              "        if (!display || display === 'none') {{\n",
              "            console.log([gd, 'removed!']);\n",
              "            Plotly.purge(gd);\n",
              "            observer.disconnect();\n",
              "        }}\n",
              "}});\n",
              "\n",
              "// Listen for the removal of the full notebook cells\n",
              "var notebookContainer = gd.closest('#notebook-container');\n",
              "if (notebookContainer) {{\n",
              "    x.observe(notebookContainer, {childList: true});\n",
              "}}\n",
              "\n",
              "// Listen for the clearing of the current output cell\n",
              "var outputEl = gd.closest('.output');\n",
              "if (outputEl) {{\n",
              "    x.observe(outputEl, {childList: true});\n",
              "}}\n",
              "\n",
              "                        })\n",
              "                };\n",
              "                \n",
              "            </script>\n",
              "        </div>\n",
              "</body>\n",
              "</html>"
            ]
          },
          "metadata": {
            "tags": []
          }
        }
      ]
    },
    {
      "cell_type": "code",
      "metadata": {
        "colab": {
          "base_uri": "https://localhost:8080/"
        },
        "id": "ztZMa11iIIN8",
        "outputId": "7e2708c3-1526-48ee-f3a3-1a43b53fee25"
      },
      "source": [
        "user_meta_df.columns"
      ],
      "execution_count": 138,
      "outputs": [
        {
          "output_type": "execute_result",
          "data": {
            "text/plain": [
              "Index(['user_id', 'sex', 'birthday_year', 'membership_type', 'category_prefer',\n",
              "       'joined_date', 'deleted_date', 'join_path', 'os', 'recommended_cnt',\n",
              "       'age', 'days_from_joined', 'years_from_joined', 'if_deleted'],\n",
              "      dtype='object')"
            ]
          },
          "metadata": {
            "tags": []
          },
          "execution_count": 138
        }
      ]
    },
    {
      "cell_type": "code",
      "metadata": {
        "colab": {
          "base_uri": "https://localhost:8080/",
          "height": 517
        },
        "id": "HF2gBnpNIK2O",
        "outputId": "cb115eae-72aa-4d0f-b96c-669ed8aebb33"
      },
      "source": [
        "# 친구 추천 횟수에 따른 고객 분포 확인\n",
        "user_ct_from_rcm = user_meta_df.groupby(['recommended_cnt'])[['user_id']].count().reset_index()\n",
        "fig  = px.bar(user_ct_from_rcm,\n",
        "              x = 'recommended_cnt',\n",
        "              y = 'user_id')\n",
        "fig.update_layout(height = 500, width = 1000)\n",
        "fig.show()"
      ],
      "execution_count": 139,
      "outputs": [
        {
          "output_type": "display_data",
          "data": {
            "text/html": [
              "<html>\n",
              "<head><meta charset=\"utf-8\" /></head>\n",
              "<body>\n",
              "    <div>\n",
              "            <script src=\"https://cdnjs.cloudflare.com/ajax/libs/mathjax/2.7.5/MathJax.js?config=TeX-AMS-MML_SVG\"></script><script type=\"text/javascript\">if (window.MathJax) {MathJax.Hub.Config({SVG: {font: \"STIX-Web\"}});}</script>\n",
              "                <script type=\"text/javascript\">window.PlotlyConfig = {MathJaxConfig: 'local'};</script>\n",
              "        <script src=\"https://cdn.plot.ly/plotly-latest.min.js\"></script>    \n",
              "            <div id=\"5b76439b-e03d-4eab-bd41-fa751412e136\" class=\"plotly-graph-div\" style=\"height:500px; width:1000px;\"></div>\n",
              "            <script type=\"text/javascript\">\n",
              "                \n",
              "                    window.PLOTLYENV=window.PLOTLYENV || {};\n",
              "                    \n",
              "                if (document.getElementById(\"5b76439b-e03d-4eab-bd41-fa751412e136\")) {\n",
              "                    Plotly.newPlot(\n",
              "                        '5b76439b-e03d-4eab-bd41-fa751412e136',\n",
              "                        [{\"alignmentgroup\": \"True\", \"hoverlabel\": {\"namelength\": 0}, \"hovertemplate\": \"recommended_cnt=%{x}<br>user_id=%{y}\", \"legendgroup\": \"\", \"marker\": {\"color\": \"#636efa\"}, \"name\": \"\", \"offsetgroup\": \"\", \"orientation\": \"v\", \"showlegend\": false, \"textposition\": \"auto\", \"type\": \"bar\", \"x\": [0, 1, 2, 3, 4, 5, 6, 7, 8, 9, 10, 11, 12, 13, 14, 15, 16, 18, 19, 21], \"xaxis\": \"x\", \"y\": [1091, 439, 508, 494, 379, 227, 88, 58, 35, 27, 26, 14, 8, 8, 5, 1, 1, 1, 1, 1], \"yaxis\": \"y\"}],\n",
              "                        {\"barmode\": \"relative\", \"height\": 500, \"legend\": {\"tracegroupgap\": 0}, \"margin\": {\"t\": 60}, \"template\": {\"data\": {\"bar\": [{\"error_x\": {\"color\": \"#2a3f5f\"}, \"error_y\": {\"color\": \"#2a3f5f\"}, \"marker\": {\"line\": {\"color\": \"#E5ECF6\", \"width\": 0.5}}, \"type\": \"bar\"}], \"barpolar\": [{\"marker\": {\"line\": {\"color\": \"#E5ECF6\", \"width\": 0.5}}, \"type\": \"barpolar\"}], \"carpet\": [{\"aaxis\": {\"endlinecolor\": \"#2a3f5f\", \"gridcolor\": \"white\", \"linecolor\": \"white\", \"minorgridcolor\": \"white\", \"startlinecolor\": \"#2a3f5f\"}, \"baxis\": {\"endlinecolor\": \"#2a3f5f\", \"gridcolor\": \"white\", \"linecolor\": \"white\", \"minorgridcolor\": \"white\", \"startlinecolor\": \"#2a3f5f\"}, \"type\": \"carpet\"}], \"choropleth\": [{\"colorbar\": {\"outlinewidth\": 0, \"ticks\": \"\"}, \"type\": \"choropleth\"}], \"contour\": [{\"colorbar\": {\"outlinewidth\": 0, \"ticks\": \"\"}, \"colorscale\": [[0.0, \"#0d0887\"], [0.1111111111111111, \"#46039f\"], [0.2222222222222222, \"#7201a8\"], [0.3333333333333333, \"#9c179e\"], [0.4444444444444444, \"#bd3786\"], [0.5555555555555556, \"#d8576b\"], [0.6666666666666666, \"#ed7953\"], [0.7777777777777778, \"#fb9f3a\"], [0.8888888888888888, \"#fdca26\"], [1.0, \"#f0f921\"]], \"type\": \"contour\"}], \"contourcarpet\": [{\"colorbar\": {\"outlinewidth\": 0, \"ticks\": \"\"}, \"type\": \"contourcarpet\"}], \"heatmap\": [{\"colorbar\": {\"outlinewidth\": 0, \"ticks\": \"\"}, \"colorscale\": [[0.0, \"#0d0887\"], [0.1111111111111111, \"#46039f\"], [0.2222222222222222, \"#7201a8\"], [0.3333333333333333, \"#9c179e\"], [0.4444444444444444, \"#bd3786\"], [0.5555555555555556, \"#d8576b\"], [0.6666666666666666, \"#ed7953\"], [0.7777777777777778, \"#fb9f3a\"], [0.8888888888888888, \"#fdca26\"], [1.0, \"#f0f921\"]], \"type\": \"heatmap\"}], \"heatmapgl\": [{\"colorbar\": {\"outlinewidth\": 0, \"ticks\": \"\"}, \"colorscale\": [[0.0, \"#0d0887\"], [0.1111111111111111, \"#46039f\"], [0.2222222222222222, \"#7201a8\"], [0.3333333333333333, \"#9c179e\"], [0.4444444444444444, \"#bd3786\"], [0.5555555555555556, \"#d8576b\"], [0.6666666666666666, \"#ed7953\"], [0.7777777777777778, \"#fb9f3a\"], [0.8888888888888888, \"#fdca26\"], [1.0, \"#f0f921\"]], \"type\": \"heatmapgl\"}], \"histogram\": [{\"marker\": {\"colorbar\": {\"outlinewidth\": 0, \"ticks\": \"\"}}, \"type\": \"histogram\"}], \"histogram2d\": [{\"colorbar\": {\"outlinewidth\": 0, \"ticks\": \"\"}, \"colorscale\": [[0.0, \"#0d0887\"], [0.1111111111111111, \"#46039f\"], [0.2222222222222222, \"#7201a8\"], [0.3333333333333333, \"#9c179e\"], [0.4444444444444444, \"#bd3786\"], [0.5555555555555556, \"#d8576b\"], [0.6666666666666666, \"#ed7953\"], [0.7777777777777778, \"#fb9f3a\"], [0.8888888888888888, \"#fdca26\"], [1.0, \"#f0f921\"]], \"type\": \"histogram2d\"}], \"histogram2dcontour\": [{\"colorbar\": {\"outlinewidth\": 0, \"ticks\": \"\"}, \"colorscale\": [[0.0, \"#0d0887\"], [0.1111111111111111, \"#46039f\"], [0.2222222222222222, \"#7201a8\"], [0.3333333333333333, \"#9c179e\"], [0.4444444444444444, \"#bd3786\"], [0.5555555555555556, \"#d8576b\"], [0.6666666666666666, \"#ed7953\"], [0.7777777777777778, \"#fb9f3a\"], [0.8888888888888888, \"#fdca26\"], [1.0, \"#f0f921\"]], \"type\": \"histogram2dcontour\"}], \"mesh3d\": [{\"colorbar\": {\"outlinewidth\": 0, \"ticks\": \"\"}, \"type\": \"mesh3d\"}], \"parcoords\": [{\"line\": {\"colorbar\": {\"outlinewidth\": 0, \"ticks\": \"\"}}, \"type\": \"parcoords\"}], \"pie\": [{\"automargin\": true, \"type\": \"pie\"}], \"scatter\": [{\"marker\": {\"colorbar\": {\"outlinewidth\": 0, \"ticks\": \"\"}}, \"type\": \"scatter\"}], \"scatter3d\": [{\"line\": {\"colorbar\": {\"outlinewidth\": 0, \"ticks\": \"\"}}, \"marker\": {\"colorbar\": {\"outlinewidth\": 0, \"ticks\": \"\"}}, \"type\": \"scatter3d\"}], \"scattercarpet\": [{\"marker\": {\"colorbar\": {\"outlinewidth\": 0, \"ticks\": \"\"}}, \"type\": \"scattercarpet\"}], \"scattergeo\": [{\"marker\": {\"colorbar\": {\"outlinewidth\": 0, \"ticks\": \"\"}}, \"type\": \"scattergeo\"}], \"scattergl\": [{\"marker\": {\"colorbar\": {\"outlinewidth\": 0, \"ticks\": \"\"}}, \"type\": \"scattergl\"}], \"scattermapbox\": [{\"marker\": {\"colorbar\": {\"outlinewidth\": 0, \"ticks\": \"\"}}, \"type\": \"scattermapbox\"}], \"scatterpolar\": [{\"marker\": {\"colorbar\": {\"outlinewidth\": 0, \"ticks\": \"\"}}, \"type\": \"scatterpolar\"}], \"scatterpolargl\": [{\"marker\": {\"colorbar\": {\"outlinewidth\": 0, \"ticks\": \"\"}}, \"type\": \"scatterpolargl\"}], \"scatterternary\": [{\"marker\": {\"colorbar\": {\"outlinewidth\": 0, \"ticks\": \"\"}}, \"type\": \"scatterternary\"}], \"surface\": [{\"colorbar\": {\"outlinewidth\": 0, \"ticks\": \"\"}, \"colorscale\": [[0.0, \"#0d0887\"], [0.1111111111111111, \"#46039f\"], [0.2222222222222222, \"#7201a8\"], [0.3333333333333333, \"#9c179e\"], [0.4444444444444444, \"#bd3786\"], [0.5555555555555556, \"#d8576b\"], [0.6666666666666666, \"#ed7953\"], [0.7777777777777778, \"#fb9f3a\"], [0.8888888888888888, \"#fdca26\"], [1.0, \"#f0f921\"]], \"type\": \"surface\"}], \"table\": [{\"cells\": {\"fill\": {\"color\": \"#EBF0F8\"}, \"line\": {\"color\": \"white\"}}, \"header\": {\"fill\": {\"color\": \"#C8D4E3\"}, \"line\": {\"color\": \"white\"}}, \"type\": \"table\"}]}, \"layout\": {\"annotationdefaults\": {\"arrowcolor\": \"#2a3f5f\", \"arrowhead\": 0, \"arrowwidth\": 1}, \"coloraxis\": {\"colorbar\": {\"outlinewidth\": 0, \"ticks\": \"\"}}, \"colorscale\": {\"diverging\": [[0, \"#8e0152\"], [0.1, \"#c51b7d\"], [0.2, \"#de77ae\"], [0.3, \"#f1b6da\"], [0.4, \"#fde0ef\"], [0.5, \"#f7f7f7\"], [0.6, \"#e6f5d0\"], [0.7, \"#b8e186\"], [0.8, \"#7fbc41\"], [0.9, \"#4d9221\"], [1, \"#276419\"]], \"sequential\": [[0.0, \"#0d0887\"], [0.1111111111111111, \"#46039f\"], [0.2222222222222222, \"#7201a8\"], [0.3333333333333333, \"#9c179e\"], [0.4444444444444444, \"#bd3786\"], [0.5555555555555556, \"#d8576b\"], [0.6666666666666666, \"#ed7953\"], [0.7777777777777778, \"#fb9f3a\"], [0.8888888888888888, \"#fdca26\"], [1.0, \"#f0f921\"]], \"sequentialminus\": [[0.0, \"#0d0887\"], [0.1111111111111111, \"#46039f\"], [0.2222222222222222, \"#7201a8\"], [0.3333333333333333, \"#9c179e\"], [0.4444444444444444, \"#bd3786\"], [0.5555555555555556, \"#d8576b\"], [0.6666666666666666, \"#ed7953\"], [0.7777777777777778, \"#fb9f3a\"], [0.8888888888888888, \"#fdca26\"], [1.0, \"#f0f921\"]]}, \"colorway\": [\"#636efa\", \"#EF553B\", \"#00cc96\", \"#ab63fa\", \"#FFA15A\", \"#19d3f3\", \"#FF6692\", \"#B6E880\", \"#FF97FF\", \"#FECB52\"], \"font\": {\"color\": \"#2a3f5f\"}, \"geo\": {\"bgcolor\": \"white\", \"lakecolor\": \"white\", \"landcolor\": \"#E5ECF6\", \"showlakes\": true, \"showland\": true, \"subunitcolor\": \"white\"}, \"hoverlabel\": {\"align\": \"left\"}, \"hovermode\": \"closest\", \"mapbox\": {\"style\": \"light\"}, \"paper_bgcolor\": \"white\", \"plot_bgcolor\": \"#E5ECF6\", \"polar\": {\"angularaxis\": {\"gridcolor\": \"white\", \"linecolor\": \"white\", \"ticks\": \"\"}, \"bgcolor\": \"#E5ECF6\", \"radialaxis\": {\"gridcolor\": \"white\", \"linecolor\": \"white\", \"ticks\": \"\"}}, \"scene\": {\"xaxis\": {\"backgroundcolor\": \"#E5ECF6\", \"gridcolor\": \"white\", \"gridwidth\": 2, \"linecolor\": \"white\", \"showbackground\": true, \"ticks\": \"\", \"zerolinecolor\": \"white\"}, \"yaxis\": {\"backgroundcolor\": \"#E5ECF6\", \"gridcolor\": \"white\", \"gridwidth\": 2, \"linecolor\": \"white\", \"showbackground\": true, \"ticks\": \"\", \"zerolinecolor\": \"white\"}, \"zaxis\": {\"backgroundcolor\": \"#E5ECF6\", \"gridcolor\": \"white\", \"gridwidth\": 2, \"linecolor\": \"white\", \"showbackground\": true, \"ticks\": \"\", \"zerolinecolor\": \"white\"}}, \"shapedefaults\": {\"line\": {\"color\": \"#2a3f5f\"}}, \"ternary\": {\"aaxis\": {\"gridcolor\": \"white\", \"linecolor\": \"white\", \"ticks\": \"\"}, \"baxis\": {\"gridcolor\": \"white\", \"linecolor\": \"white\", \"ticks\": \"\"}, \"bgcolor\": \"#E5ECF6\", \"caxis\": {\"gridcolor\": \"white\", \"linecolor\": \"white\", \"ticks\": \"\"}}, \"title\": {\"x\": 0.05}, \"xaxis\": {\"automargin\": true, \"gridcolor\": \"white\", \"linecolor\": \"white\", \"ticks\": \"\", \"title\": {\"standoff\": 15}, \"zerolinecolor\": \"white\", \"zerolinewidth\": 2}, \"yaxis\": {\"automargin\": true, \"gridcolor\": \"white\", \"linecolor\": \"white\", \"ticks\": \"\", \"title\": {\"standoff\": 15}, \"zerolinecolor\": \"white\", \"zerolinewidth\": 2}}}, \"width\": 1000, \"xaxis\": {\"anchor\": \"y\", \"domain\": [0.0, 1.0], \"title\": {\"text\": \"recommended_cnt\"}}, \"yaxis\": {\"anchor\": \"x\", \"domain\": [0.0, 1.0], \"title\": {\"text\": \"user_id\"}}},\n",
              "                        {\"responsive\": true}\n",
              "                    ).then(function(){\n",
              "                            \n",
              "var gd = document.getElementById('5b76439b-e03d-4eab-bd41-fa751412e136');\n",
              "var x = new MutationObserver(function (mutations, observer) {{\n",
              "        var display = window.getComputedStyle(gd).display;\n",
              "        if (!display || display === 'none') {{\n",
              "            console.log([gd, 'removed!']);\n",
              "            Plotly.purge(gd);\n",
              "            observer.disconnect();\n",
              "        }}\n",
              "}});\n",
              "\n",
              "// Listen for the removal of the full notebook cells\n",
              "var notebookContainer = gd.closest('#notebook-container');\n",
              "if (notebookContainer) {{\n",
              "    x.observe(notebookContainer, {childList: true});\n",
              "}}\n",
              "\n",
              "// Listen for the clearing of the current output cell\n",
              "var outputEl = gd.closest('.output');\n",
              "if (outputEl) {{\n",
              "    x.observe(outputEl, {childList: true});\n",
              "}}\n",
              "\n",
              "                        })\n",
              "                };\n",
              "                \n",
              "            </script>\n",
              "        </div>\n",
              "</body>\n",
              "</html>"
            ]
          },
          "metadata": {
            "tags": []
          }
        }
      ]
    },
    {
      "cell_type": "code",
      "metadata": {
        "id": "a37BQ-uBIeYK"
      },
      "source": [
        "# 변수간 상관관계 살펴보기\n",
        "corr_matrix = user_meta_df.corr()"
      ],
      "execution_count": 141,
      "outputs": []
    },
    {
      "cell_type": "code",
      "metadata": {
        "colab": {
          "base_uri": "https://localhost:8080/",
          "height": 343
        },
        "id": "ow1LNwB5I1UT",
        "outputId": "3342853f-59b9-428a-839f-9df402c5ea38"
      },
      "source": [
        "corr_matrix[abs(corr_matrix>=0.5)]"
      ],
      "execution_count": 144,
      "outputs": [
        {
          "output_type": "execute_result",
          "data": {
            "text/html": [
              "<div>\n",
              "<style scoped>\n",
              "    .dataframe tbody tr th:only-of-type {\n",
              "        vertical-align: middle;\n",
              "    }\n",
              "\n",
              "    .dataframe tbody tr th {\n",
              "        vertical-align: top;\n",
              "    }\n",
              "\n",
              "    .dataframe thead th {\n",
              "        text-align: right;\n",
              "    }\n",
              "</style>\n",
              "<table border=\"1\" class=\"dataframe\">\n",
              "  <thead>\n",
              "    <tr style=\"text-align: right;\">\n",
              "      <th></th>\n",
              "      <th>sex</th>\n",
              "      <th>birthday_year</th>\n",
              "      <th>membership_type</th>\n",
              "      <th>category_prefer</th>\n",
              "      <th>join_path</th>\n",
              "      <th>recommended_cnt</th>\n",
              "      <th>age</th>\n",
              "      <th>days_from_joined</th>\n",
              "      <th>years_from_joined</th>\n",
              "      <th>if_deleted</th>\n",
              "    </tr>\n",
              "  </thead>\n",
              "  <tbody>\n",
              "    <tr>\n",
              "      <th>sex</th>\n",
              "      <td>1.0</td>\n",
              "      <td>NaN</td>\n",
              "      <td>NaN</td>\n",
              "      <td>NaN</td>\n",
              "      <td>NaN</td>\n",
              "      <td>NaN</td>\n",
              "      <td>NaN</td>\n",
              "      <td>NaN</td>\n",
              "      <td>NaN</td>\n",
              "      <td>NaN</td>\n",
              "    </tr>\n",
              "    <tr>\n",
              "      <th>birthday_year</th>\n",
              "      <td>NaN</td>\n",
              "      <td>1.000000</td>\n",
              "      <td>NaN</td>\n",
              "      <td>0.504292</td>\n",
              "      <td>NaN</td>\n",
              "      <td>NaN</td>\n",
              "      <td>NaN</td>\n",
              "      <td>NaN</td>\n",
              "      <td>NaN</td>\n",
              "      <td>NaN</td>\n",
              "    </tr>\n",
              "    <tr>\n",
              "      <th>membership_type</th>\n",
              "      <td>NaN</td>\n",
              "      <td>NaN</td>\n",
              "      <td>1.0</td>\n",
              "      <td>NaN</td>\n",
              "      <td>NaN</td>\n",
              "      <td>NaN</td>\n",
              "      <td>NaN</td>\n",
              "      <td>NaN</td>\n",
              "      <td>NaN</td>\n",
              "      <td>NaN</td>\n",
              "    </tr>\n",
              "    <tr>\n",
              "      <th>category_prefer</th>\n",
              "      <td>NaN</td>\n",
              "      <td>0.504292</td>\n",
              "      <td>NaN</td>\n",
              "      <td>1.000000</td>\n",
              "      <td>NaN</td>\n",
              "      <td>NaN</td>\n",
              "      <td>NaN</td>\n",
              "      <td>NaN</td>\n",
              "      <td>NaN</td>\n",
              "      <td>NaN</td>\n",
              "    </tr>\n",
              "    <tr>\n",
              "      <th>join_path</th>\n",
              "      <td>NaN</td>\n",
              "      <td>NaN</td>\n",
              "      <td>NaN</td>\n",
              "      <td>NaN</td>\n",
              "      <td>1.0</td>\n",
              "      <td>NaN</td>\n",
              "      <td>NaN</td>\n",
              "      <td>NaN</td>\n",
              "      <td>NaN</td>\n",
              "      <td>NaN</td>\n",
              "    </tr>\n",
              "    <tr>\n",
              "      <th>recommended_cnt</th>\n",
              "      <td>NaN</td>\n",
              "      <td>NaN</td>\n",
              "      <td>NaN</td>\n",
              "      <td>NaN</td>\n",
              "      <td>NaN</td>\n",
              "      <td>1.0</td>\n",
              "      <td>NaN</td>\n",
              "      <td>NaN</td>\n",
              "      <td>NaN</td>\n",
              "      <td>NaN</td>\n",
              "    </tr>\n",
              "    <tr>\n",
              "      <th>age</th>\n",
              "      <td>NaN</td>\n",
              "      <td>NaN</td>\n",
              "      <td>NaN</td>\n",
              "      <td>NaN</td>\n",
              "      <td>NaN</td>\n",
              "      <td>NaN</td>\n",
              "      <td>1.0</td>\n",
              "      <td>NaN</td>\n",
              "      <td>NaN</td>\n",
              "      <td>NaN</td>\n",
              "    </tr>\n",
              "    <tr>\n",
              "      <th>days_from_joined</th>\n",
              "      <td>NaN</td>\n",
              "      <td>NaN</td>\n",
              "      <td>NaN</td>\n",
              "      <td>NaN</td>\n",
              "      <td>NaN</td>\n",
              "      <td>NaN</td>\n",
              "      <td>NaN</td>\n",
              "      <td>1.000000</td>\n",
              "      <td>0.999718</td>\n",
              "      <td>NaN</td>\n",
              "    </tr>\n",
              "    <tr>\n",
              "      <th>years_from_joined</th>\n",
              "      <td>NaN</td>\n",
              "      <td>NaN</td>\n",
              "      <td>NaN</td>\n",
              "      <td>NaN</td>\n",
              "      <td>NaN</td>\n",
              "      <td>NaN</td>\n",
              "      <td>NaN</td>\n",
              "      <td>0.999718</td>\n",
              "      <td>1.000000</td>\n",
              "      <td>NaN</td>\n",
              "    </tr>\n",
              "    <tr>\n",
              "      <th>if_deleted</th>\n",
              "      <td>NaN</td>\n",
              "      <td>NaN</td>\n",
              "      <td>NaN</td>\n",
              "      <td>NaN</td>\n",
              "      <td>NaN</td>\n",
              "      <td>NaN</td>\n",
              "      <td>NaN</td>\n",
              "      <td>NaN</td>\n",
              "      <td>NaN</td>\n",
              "      <td>1.0</td>\n",
              "    </tr>\n",
              "  </tbody>\n",
              "</table>\n",
              "</div>"
            ],
            "text/plain": [
              "                   sex  birthday_year  membership_type  category_prefer  \\\n",
              "sex                1.0            NaN              NaN              NaN   \n",
              "birthday_year      NaN       1.000000              NaN         0.504292   \n",
              "membership_type    NaN            NaN              1.0              NaN   \n",
              "category_prefer    NaN       0.504292              NaN         1.000000   \n",
              "join_path          NaN            NaN              NaN              NaN   \n",
              "recommended_cnt    NaN            NaN              NaN              NaN   \n",
              "age                NaN            NaN              NaN              NaN   \n",
              "days_from_joined   NaN            NaN              NaN              NaN   \n",
              "years_from_joined  NaN            NaN              NaN              NaN   \n",
              "if_deleted         NaN            NaN              NaN              NaN   \n",
              "\n",
              "                   join_path  recommended_cnt  age  days_from_joined  \\\n",
              "sex                      NaN              NaN  NaN               NaN   \n",
              "birthday_year            NaN              NaN  NaN               NaN   \n",
              "membership_type          NaN              NaN  NaN               NaN   \n",
              "category_prefer          NaN              NaN  NaN               NaN   \n",
              "join_path                1.0              NaN  NaN               NaN   \n",
              "recommended_cnt          NaN              1.0  NaN               NaN   \n",
              "age                      NaN              NaN  1.0               NaN   \n",
              "days_from_joined         NaN              NaN  NaN          1.000000   \n",
              "years_from_joined        NaN              NaN  NaN          0.999718   \n",
              "if_deleted               NaN              NaN  NaN               NaN   \n",
              "\n",
              "                   years_from_joined  if_deleted  \n",
              "sex                              NaN         NaN  \n",
              "birthday_year                    NaN         NaN  \n",
              "membership_type                  NaN         NaN  \n",
              "category_prefer                  NaN         NaN  \n",
              "join_path                        NaN         NaN  \n",
              "recommended_cnt                  NaN         NaN  \n",
              "age                              NaN         NaN  \n",
              "days_from_joined            0.999718         NaN  \n",
              "years_from_joined           1.000000         NaN  \n",
              "if_deleted                       NaN         1.0  "
            ]
          },
          "metadata": {
            "tags": []
          },
          "execution_count": 144
        }
      ]
    },
    {
      "cell_type": "code",
      "metadata": {
        "colab": {
          "base_uri": "https://localhost:8080/",
          "height": 238
        },
        "id": "9XUqJmPvdsJo",
        "outputId": "45be3ae9-9ecf-48c4-defe-b65a75aed8ac"
      },
      "source": [
        "# 히트맵으로 봐보자\n",
        "corr_matrix.style.background_gradient()"
      ],
      "execution_count": 146,
      "outputs": [
        {
          "output_type": "execute_result",
          "data": {
            "text/html": [
              "<style  type=\"text/css\" >\n",
              "#T_364dce90_a8e1_11eb_96ea_0242ac1c0002row0_col0,#T_364dce90_a8e1_11eb_96ea_0242ac1c0002row1_col1,#T_364dce90_a8e1_11eb_96ea_0242ac1c0002row2_col2,#T_364dce90_a8e1_11eb_96ea_0242ac1c0002row3_col3,#T_364dce90_a8e1_11eb_96ea_0242ac1c0002row4_col4,#T_364dce90_a8e1_11eb_96ea_0242ac1c0002row5_col5,#T_364dce90_a8e1_11eb_96ea_0242ac1c0002row6_col6,#T_364dce90_a8e1_11eb_96ea_0242ac1c0002row7_col7,#T_364dce90_a8e1_11eb_96ea_0242ac1c0002row7_col8,#T_364dce90_a8e1_11eb_96ea_0242ac1c0002row8_col7,#T_364dce90_a8e1_11eb_96ea_0242ac1c0002row8_col8,#T_364dce90_a8e1_11eb_96ea_0242ac1c0002row9_col9{\n",
              "            background-color:  #023858;\n",
              "            color:  #f1f1f1;\n",
              "        }#T_364dce90_a8e1_11eb_96ea_0242ac1c0002row0_col1{\n",
              "            background-color:  #75a9cf;\n",
              "            color:  #000000;\n",
              "        }#T_364dce90_a8e1_11eb_96ea_0242ac1c0002row0_col2,#T_364dce90_a8e1_11eb_96ea_0242ac1c0002row1_col4{\n",
              "            background-color:  #f5eef6;\n",
              "            color:  #000000;\n",
              "        }#T_364dce90_a8e1_11eb_96ea_0242ac1c0002row0_col3,#T_364dce90_a8e1_11eb_96ea_0242ac1c0002row7_col3,#T_364dce90_a8e1_11eb_96ea_0242ac1c0002row8_col3{\n",
              "            background-color:  #b5c4df;\n",
              "            color:  #000000;\n",
              "        }#T_364dce90_a8e1_11eb_96ea_0242ac1c0002row0_col4,#T_364dce90_a8e1_11eb_96ea_0242ac1c0002row5_col2{\n",
              "            background-color:  #f8f1f8;\n",
              "            color:  #000000;\n",
              "        }#T_364dce90_a8e1_11eb_96ea_0242ac1c0002row0_col5{\n",
              "            background-color:  #dddbec;\n",
              "            color:  #000000;\n",
              "        }#T_364dce90_a8e1_11eb_96ea_0242ac1c0002row0_col6{\n",
              "            background-color:  #73a9cf;\n",
              "            color:  #000000;\n",
              "        }#T_364dce90_a8e1_11eb_96ea_0242ac1c0002row0_col7,#T_364dce90_a8e1_11eb_96ea_0242ac1c0002row0_col8{\n",
              "            background-color:  #efe9f3;\n",
              "            color:  #000000;\n",
              "        }#T_364dce90_a8e1_11eb_96ea_0242ac1c0002row0_col9,#T_364dce90_a8e1_11eb_96ea_0242ac1c0002row6_col0{\n",
              "            background-color:  #fcf4fa;\n",
              "            color:  #000000;\n",
              "        }#T_364dce90_a8e1_11eb_96ea_0242ac1c0002row1_col0,#T_364dce90_a8e1_11eb_96ea_0242ac1c0002row2_col0,#T_364dce90_a8e1_11eb_96ea_0242ac1c0002row3_col2,#T_364dce90_a8e1_11eb_96ea_0242ac1c0002row9_col0{\n",
              "            background-color:  #fdf5fa;\n",
              "            color:  #000000;\n",
              "        }#T_364dce90_a8e1_11eb_96ea_0242ac1c0002row1_col2,#T_364dce90_a8e1_11eb_96ea_0242ac1c0002row1_col6,#T_364dce90_a8e1_11eb_96ea_0242ac1c0002row1_col7,#T_364dce90_a8e1_11eb_96ea_0242ac1c0002row1_col8,#T_364dce90_a8e1_11eb_96ea_0242ac1c0002row4_col0,#T_364dce90_a8e1_11eb_96ea_0242ac1c0002row4_col9,#T_364dce90_a8e1_11eb_96ea_0242ac1c0002row5_col0,#T_364dce90_a8e1_11eb_96ea_0242ac1c0002row6_col1,#T_364dce90_a8e1_11eb_96ea_0242ac1c0002row6_col3,#T_364dce90_a8e1_11eb_96ea_0242ac1c0002row6_col5,#T_364dce90_a8e1_11eb_96ea_0242ac1c0002row6_col9,#T_364dce90_a8e1_11eb_96ea_0242ac1c0002row7_col0,#T_364dce90_a8e1_11eb_96ea_0242ac1c0002row7_col4,#T_364dce90_a8e1_11eb_96ea_0242ac1c0002row8_col0,#T_364dce90_a8e1_11eb_96ea_0242ac1c0002row8_col4{\n",
              "            background-color:  #fff7fb;\n",
              "            color:  #000000;\n",
              "        }#T_364dce90_a8e1_11eb_96ea_0242ac1c0002row1_col3{\n",
              "            background-color:  #2484ba;\n",
              "            color:  #000000;\n",
              "        }#T_364dce90_a8e1_11eb_96ea_0242ac1c0002row1_col5{\n",
              "            background-color:  #97b7d7;\n",
              "            color:  #000000;\n",
              "        }#T_364dce90_a8e1_11eb_96ea_0242ac1c0002row1_col9,#T_364dce90_a8e1_11eb_96ea_0242ac1c0002row9_col4{\n",
              "            background-color:  #f9f2f8;\n",
              "            color:  #000000;\n",
              "        }#T_364dce90_a8e1_11eb_96ea_0242ac1c0002row2_col1{\n",
              "            background-color:  #81aed2;\n",
              "            color:  #000000;\n",
              "        }#T_364dce90_a8e1_11eb_96ea_0242ac1c0002row2_col3{\n",
              "            background-color:  #c0c9e2;\n",
              "            color:  #000000;\n",
              "        }#T_364dce90_a8e1_11eb_96ea_0242ac1c0002row2_col4{\n",
              "            background-color:  #f3edf5;\n",
              "            color:  #000000;\n",
              "        }#T_364dce90_a8e1_11eb_96ea_0242ac1c0002row2_col5{\n",
              "            background-color:  #dedcec;\n",
              "            color:  #000000;\n",
              "        }#T_364dce90_a8e1_11eb_96ea_0242ac1c0002row2_col6{\n",
              "            background-color:  #63a2cb;\n",
              "            color:  #000000;\n",
              "        }#T_364dce90_a8e1_11eb_96ea_0242ac1c0002row2_col7,#T_364dce90_a8e1_11eb_96ea_0242ac1c0002row2_col8{\n",
              "            background-color:  #e6e2ef;\n",
              "            color:  #000000;\n",
              "        }#T_364dce90_a8e1_11eb_96ea_0242ac1c0002row2_col9,#T_364dce90_a8e1_11eb_96ea_0242ac1c0002row5_col9{\n",
              "            background-color:  #fbf3f9;\n",
              "            color:  #000000;\n",
              "        }#T_364dce90_a8e1_11eb_96ea_0242ac1c0002row3_col0,#T_364dce90_a8e1_11eb_96ea_0242ac1c0002row7_col9,#T_364dce90_a8e1_11eb_96ea_0242ac1c0002row8_col9{\n",
              "            background-color:  #fef6fa;\n",
              "            color:  #000000;\n",
              "        }#T_364dce90_a8e1_11eb_96ea_0242ac1c0002row3_col1{\n",
              "            background-color:  #056faf;\n",
              "            color:  #f1f1f1;\n",
              "        }#T_364dce90_a8e1_11eb_96ea_0242ac1c0002row3_col4{\n",
              "            background-color:  #f6eff7;\n",
              "            color:  #000000;\n",
              "        }#T_364dce90_a8e1_11eb_96ea_0242ac1c0002row3_col5{\n",
              "            background-color:  #b1c2de;\n",
              "            color:  #000000;\n",
              "        }#T_364dce90_a8e1_11eb_96ea_0242ac1c0002row3_col6{\n",
              "            background-color:  #d1d2e6;\n",
              "            color:  #000000;\n",
              "        }#T_364dce90_a8e1_11eb_96ea_0242ac1c0002row3_col7,#T_364dce90_a8e1_11eb_96ea_0242ac1c0002row3_col8{\n",
              "            background-color:  #eee8f3;\n",
              "            color:  #000000;\n",
              "        }#T_364dce90_a8e1_11eb_96ea_0242ac1c0002row3_col9{\n",
              "            background-color:  #faf3f9;\n",
              "            color:  #000000;\n",
              "        }#T_364dce90_a8e1_11eb_96ea_0242ac1c0002row4_col1{\n",
              "            background-color:  #71a8ce;\n",
              "            color:  #000000;\n",
              "        }#T_364dce90_a8e1_11eb_96ea_0242ac1c0002row4_col2{\n",
              "            background-color:  #f2ecf5;\n",
              "            color:  #000000;\n",
              "        }#T_364dce90_a8e1_11eb_96ea_0242ac1c0002row4_col3{\n",
              "            background-color:  #b3c3de;\n",
              "            color:  #000000;\n",
              "        }#T_364dce90_a8e1_11eb_96ea_0242ac1c0002row4_col5,#T_364dce90_a8e1_11eb_96ea_0242ac1c0002row9_col5{\n",
              "            background-color:  #d9d8ea;\n",
              "            color:  #000000;\n",
              "        }#T_364dce90_a8e1_11eb_96ea_0242ac1c0002row4_col6{\n",
              "            background-color:  #76aad0;\n",
              "            color:  #000000;\n",
              "        }#T_364dce90_a8e1_11eb_96ea_0242ac1c0002row4_col7,#T_364dce90_a8e1_11eb_96ea_0242ac1c0002row4_col8,#T_364dce90_a8e1_11eb_96ea_0242ac1c0002row5_col4{\n",
              "            background-color:  #f5eff6;\n",
              "            color:  #000000;\n",
              "        }#T_364dce90_a8e1_11eb_96ea_0242ac1c0002row5_col1{\n",
              "            background-color:  #348ebf;\n",
              "            color:  #000000;\n",
              "        }#T_364dce90_a8e1_11eb_96ea_0242ac1c0002row5_col3{\n",
              "            background-color:  #88b1d4;\n",
              "            color:  #000000;\n",
              "        }#T_364dce90_a8e1_11eb_96ea_0242ac1c0002row5_col6{\n",
              "            background-color:  #a8bedc;\n",
              "            color:  #000000;\n",
              "        }#T_364dce90_a8e1_11eb_96ea_0242ac1c0002row5_col7,#T_364dce90_a8e1_11eb_96ea_0242ac1c0002row5_col8{\n",
              "            background-color:  #c4cbe3;\n",
              "            color:  #000000;\n",
              "        }#T_364dce90_a8e1_11eb_96ea_0242ac1c0002row6_col2{\n",
              "            background-color:  #ebe6f2;\n",
              "            color:  #000000;\n",
              "        }#T_364dce90_a8e1_11eb_96ea_0242ac1c0002row6_col4{\n",
              "            background-color:  #f7f0f7;\n",
              "            color:  #000000;\n",
              "        }#T_364dce90_a8e1_11eb_96ea_0242ac1c0002row6_col7,#T_364dce90_a8e1_11eb_96ea_0242ac1c0002row6_col8{\n",
              "            background-color:  #d2d2e7;\n",
              "            color:  #000000;\n",
              "        }#T_364dce90_a8e1_11eb_96ea_0242ac1c0002row7_col1,#T_364dce90_a8e1_11eb_96ea_0242ac1c0002row8_col1{\n",
              "            background-color:  #8fb4d6;\n",
              "            color:  #000000;\n",
              "        }#T_364dce90_a8e1_11eb_96ea_0242ac1c0002row7_col2,#T_364dce90_a8e1_11eb_96ea_0242ac1c0002row8_col2{\n",
              "            background-color:  #f0eaf4;\n",
              "            color:  #000000;\n",
              "        }#T_364dce90_a8e1_11eb_96ea_0242ac1c0002row7_col5,#T_364dce90_a8e1_11eb_96ea_0242ac1c0002row8_col5{\n",
              "            background-color:  #adc1dd;\n",
              "            color:  #000000;\n",
              "        }#T_364dce90_a8e1_11eb_96ea_0242ac1c0002row7_col6,#T_364dce90_a8e1_11eb_96ea_0242ac1c0002row8_col6{\n",
              "            background-color:  #529bc7;\n",
              "            color:  #000000;\n",
              "        }#T_364dce90_a8e1_11eb_96ea_0242ac1c0002row9_col1{\n",
              "            background-color:  #6fa7ce;\n",
              "            color:  #000000;\n",
              "        }#T_364dce90_a8e1_11eb_96ea_0242ac1c0002row9_col2{\n",
              "            background-color:  #f4eef6;\n",
              "            color:  #000000;\n",
              "        }#T_364dce90_a8e1_11eb_96ea_0242ac1c0002row9_col3{\n",
              "            background-color:  #b0c2de;\n",
              "            color:  #000000;\n",
              "        }#T_364dce90_a8e1_11eb_96ea_0242ac1c0002row9_col6{\n",
              "            background-color:  #78abd0;\n",
              "            color:  #000000;\n",
              "        }#T_364dce90_a8e1_11eb_96ea_0242ac1c0002row9_col7,#T_364dce90_a8e1_11eb_96ea_0242ac1c0002row9_col8{\n",
              "            background-color:  #eee9f3;\n",
              "            color:  #000000;\n",
              "        }</style><table id=\"T_364dce90_a8e1_11eb_96ea_0242ac1c0002\" ><thead>    <tr>        <th class=\"blank level0\" ></th>        <th class=\"col_heading level0 col0\" >sex</th>        <th class=\"col_heading level0 col1\" >birthday_year</th>        <th class=\"col_heading level0 col2\" >membership_type</th>        <th class=\"col_heading level0 col3\" >category_prefer</th>        <th class=\"col_heading level0 col4\" >join_path</th>        <th class=\"col_heading level0 col5\" >recommended_cnt</th>        <th class=\"col_heading level0 col6\" >age</th>        <th class=\"col_heading level0 col7\" >days_from_joined</th>        <th class=\"col_heading level0 col8\" >years_from_joined</th>        <th class=\"col_heading level0 col9\" >if_deleted</th>    </tr></thead><tbody>\n",
              "                <tr>\n",
              "                        <th id=\"T_364dce90_a8e1_11eb_96ea_0242ac1c0002level0_row0\" class=\"row_heading level0 row0\" >sex</th>\n",
              "                        <td id=\"T_364dce90_a8e1_11eb_96ea_0242ac1c0002row0_col0\" class=\"data row0 col0\" >1.000000</td>\n",
              "                        <td id=\"T_364dce90_a8e1_11eb_96ea_0242ac1c0002row0_col1\" class=\"data row0 col1\" >-0.005282</td>\n",
              "                        <td id=\"T_364dce90_a8e1_11eb_96ea_0242ac1c0002row0_col2\" class=\"data row0 col2\" >0.001593</td>\n",
              "                        <td id=\"T_364dce90_a8e1_11eb_96ea_0242ac1c0002row0_col3\" class=\"data row0 col3\" >-0.006267</td>\n",
              "                        <td id=\"T_364dce90_a8e1_11eb_96ea_0242ac1c0002row0_col4\" class=\"data row0 col4\" >-0.017552</td>\n",
              "                        <td id=\"T_364dce90_a8e1_11eb_96ea_0242ac1c0002row0_col5\" class=\"data row0 col5\" >-0.013729</td>\n",
              "                        <td id=\"T_364dce90_a8e1_11eb_96ea_0242ac1c0002row0_col6\" class=\"data row0 col6\" >0.005282</td>\n",
              "                        <td id=\"T_364dce90_a8e1_11eb_96ea_0242ac1c0002row0_col7\" class=\"data row0 col7\" >-0.016833</td>\n",
              "                        <td id=\"T_364dce90_a8e1_11eb_96ea_0242ac1c0002row0_col8\" class=\"data row0 col8\" >-0.016351</td>\n",
              "                        <td id=\"T_364dce90_a8e1_11eb_96ea_0242ac1c0002row0_col9\" class=\"data row0 col9\" >0.001651</td>\n",
              "            </tr>\n",
              "            <tr>\n",
              "                        <th id=\"T_364dce90_a8e1_11eb_96ea_0242ac1c0002level0_row1\" class=\"row_heading level0 row1\" >birthday_year</th>\n",
              "                        <td id=\"T_364dce90_a8e1_11eb_96ea_0242ac1c0002row1_col0\" class=\"data row1 col0\" >-0.005282</td>\n",
              "                        <td id=\"T_364dce90_a8e1_11eb_96ea_0242ac1c0002row1_col1\" class=\"data row1 col1\" >1.000000</td>\n",
              "                        <td id=\"T_364dce90_a8e1_11eb_96ea_0242ac1c0002row1_col2\" class=\"data row1 col2\" >-0.069491</td>\n",
              "                        <td id=\"T_364dce90_a8e1_11eb_96ea_0242ac1c0002row1_col3\" class=\"data row1 col3\" >0.504292</td>\n",
              "                        <td id=\"T_364dce90_a8e1_11eb_96ea_0242ac1c0002row1_col4\" class=\"data row1 col4\" >0.009461</td>\n",
              "                        <td id=\"T_364dce90_a8e1_11eb_96ea_0242ac1c0002row1_col5\" class=\"data row1 col5\" >0.258950</td>\n",
              "                        <td id=\"T_364dce90_a8e1_11eb_96ea_0242ac1c0002row1_col6\" class=\"data row1 col6\" >-1.000000</td>\n",
              "                        <td id=\"T_364dce90_a8e1_11eb_96ea_0242ac1c0002row1_col7\" class=\"data row1 col7\" >-0.138338</td>\n",
              "                        <td id=\"T_364dce90_a8e1_11eb_96ea_0242ac1c0002row1_col8\" class=\"data row1 col8\" >-0.138318</td>\n",
              "                        <td id=\"T_364dce90_a8e1_11eb_96ea_0242ac1c0002row1_col9\" class=\"data row1 col9\" >0.021408</td>\n",
              "            </tr>\n",
              "            <tr>\n",
              "                        <th id=\"T_364dce90_a8e1_11eb_96ea_0242ac1c0002level0_row2\" class=\"row_heading level0 row2\" >membership_type</th>\n",
              "                        <td id=\"T_364dce90_a8e1_11eb_96ea_0242ac1c0002row2_col0\" class=\"data row2 col0\" >0.001593</td>\n",
              "                        <td id=\"T_364dce90_a8e1_11eb_96ea_0242ac1c0002row2_col1\" class=\"data row2 col1\" >-0.069491</td>\n",
              "                        <td id=\"T_364dce90_a8e1_11eb_96ea_0242ac1c0002row2_col2\" class=\"data row2 col2\" >1.000000</td>\n",
              "                        <td id=\"T_364dce90_a8e1_11eb_96ea_0242ac1c0002row2_col3\" class=\"data row2 col3\" >-0.053046</td>\n",
              "                        <td id=\"T_364dce90_a8e1_11eb_96ea_0242ac1c0002row2_col4\" class=\"data row2 col4\" >0.019963</td>\n",
              "                        <td id=\"T_364dce90_a8e1_11eb_96ea_0242ac1c0002row2_col5\" class=\"data row2 col5\" >-0.021604</td>\n",
              "                        <td id=\"T_364dce90_a8e1_11eb_96ea_0242ac1c0002row2_col6\" class=\"data row2 col6\" >0.069491</td>\n",
              "                        <td id=\"T_364dce90_a8e1_11eb_96ea_0242ac1c0002row2_col7\" class=\"data row2 col7\" >0.037165</td>\n",
              "                        <td id=\"T_364dce90_a8e1_11eb_96ea_0242ac1c0002row2_col8\" class=\"data row2 col8\" >0.036992</td>\n",
              "                        <td id=\"T_364dce90_a8e1_11eb_96ea_0242ac1c0002row2_col9\" class=\"data row2 col9\" >0.009109</td>\n",
              "            </tr>\n",
              "            <tr>\n",
              "                        <th id=\"T_364dce90_a8e1_11eb_96ea_0242ac1c0002level0_row3\" class=\"row_heading level0 row3\" >category_prefer</th>\n",
              "                        <td id=\"T_364dce90_a8e1_11eb_96ea_0242ac1c0002row3_col0\" class=\"data row3 col0\" >-0.006267</td>\n",
              "                        <td id=\"T_364dce90_a8e1_11eb_96ea_0242ac1c0002row3_col1\" class=\"data row3 col1\" >0.504292</td>\n",
              "                        <td id=\"T_364dce90_a8e1_11eb_96ea_0242ac1c0002row3_col2\" class=\"data row3 col2\" >-0.053046</td>\n",
              "                        <td id=\"T_364dce90_a8e1_11eb_96ea_0242ac1c0002row3_col3\" class=\"data row3 col3\" >1.000000</td>\n",
              "                        <td id=\"T_364dce90_a8e1_11eb_96ea_0242ac1c0002row3_col4\" class=\"data row3 col4\" >0.002226</td>\n",
              "                        <td id=\"T_364dce90_a8e1_11eb_96ea_0242ac1c0002row3_col5\" class=\"data row3 col5\" >0.171625</td>\n",
              "                        <td id=\"T_364dce90_a8e1_11eb_96ea_0242ac1c0002row3_col6\" class=\"data row3 col6\" >-0.504292</td>\n",
              "                        <td id=\"T_364dce90_a8e1_11eb_96ea_0242ac1c0002row3_col7\" class=\"data row3 col7\" >-0.007478</td>\n",
              "                        <td id=\"T_364dce90_a8e1_11eb_96ea_0242ac1c0002row3_col8\" class=\"data row3 col8\" >-0.007576</td>\n",
              "                        <td id=\"T_364dce90_a8e1_11eb_96ea_0242ac1c0002row3_col9\" class=\"data row3 col9\" >0.013642</td>\n",
              "            </tr>\n",
              "            <tr>\n",
              "                        <th id=\"T_364dce90_a8e1_11eb_96ea_0242ac1c0002level0_row4\" class=\"row_heading level0 row4\" >join_path</th>\n",
              "                        <td id=\"T_364dce90_a8e1_11eb_96ea_0242ac1c0002row4_col0\" class=\"data row4 col0\" >-0.017552</td>\n",
              "                        <td id=\"T_364dce90_a8e1_11eb_96ea_0242ac1c0002row4_col1\" class=\"data row4 col1\" >0.009461</td>\n",
              "                        <td id=\"T_364dce90_a8e1_11eb_96ea_0242ac1c0002row4_col2\" class=\"data row4 col2\" >0.019963</td>\n",
              "                        <td id=\"T_364dce90_a8e1_11eb_96ea_0242ac1c0002row4_col3\" class=\"data row4 col3\" >0.002226</td>\n",
              "                        <td id=\"T_364dce90_a8e1_11eb_96ea_0242ac1c0002row4_col4\" class=\"data row4 col4\" >1.000000</td>\n",
              "                        <td id=\"T_364dce90_a8e1_11eb_96ea_0242ac1c0002row4_col5\" class=\"data row4 col5\" >0.006406</td>\n",
              "                        <td id=\"T_364dce90_a8e1_11eb_96ea_0242ac1c0002row4_col6\" class=\"data row4 col6\" >-0.009461</td>\n",
              "                        <td id=\"T_364dce90_a8e1_11eb_96ea_0242ac1c0002row4_col7\" class=\"data row4 col7\" >-0.064171</td>\n",
              "                        <td id=\"T_364dce90_a8e1_11eb_96ea_0242ac1c0002row4_col8\" class=\"data row4 col8\" >-0.063883</td>\n",
              "                        <td id=\"T_364dce90_a8e1_11eb_96ea_0242ac1c0002row4_col9\" class=\"data row4 col9\" >-0.020725</td>\n",
              "            </tr>\n",
              "            <tr>\n",
              "                        <th id=\"T_364dce90_a8e1_11eb_96ea_0242ac1c0002level0_row5\" class=\"row_heading level0 row5\" >recommended_cnt</th>\n",
              "                        <td id=\"T_364dce90_a8e1_11eb_96ea_0242ac1c0002row5_col0\" class=\"data row5 col0\" >-0.013729</td>\n",
              "                        <td id=\"T_364dce90_a8e1_11eb_96ea_0242ac1c0002row5_col1\" class=\"data row5 col1\" >0.258950</td>\n",
              "                        <td id=\"T_364dce90_a8e1_11eb_96ea_0242ac1c0002row5_col2\" class=\"data row5 col2\" >-0.021604</td>\n",
              "                        <td id=\"T_364dce90_a8e1_11eb_96ea_0242ac1c0002row5_col3\" class=\"data row5 col3\" >0.171625</td>\n",
              "                        <td id=\"T_364dce90_a8e1_11eb_96ea_0242ac1c0002row5_col4\" class=\"data row5 col4\" >0.006406</td>\n",
              "                        <td id=\"T_364dce90_a8e1_11eb_96ea_0242ac1c0002row5_col5\" class=\"data row5 col5\" >1.000000</td>\n",
              "                        <td id=\"T_364dce90_a8e1_11eb_96ea_0242ac1c0002row5_col6\" class=\"data row5 col6\" >-0.258950</td>\n",
              "                        <td id=\"T_364dce90_a8e1_11eb_96ea_0242ac1c0002row5_col7\" class=\"data row5 col7\" >0.186742</td>\n",
              "                        <td id=\"T_364dce90_a8e1_11eb_96ea_0242ac1c0002row5_col8\" class=\"data row5 col8\" >0.187304</td>\n",
              "                        <td id=\"T_364dce90_a8e1_11eb_96ea_0242ac1c0002row5_col9\" class=\"data row5 col9\" >0.009055</td>\n",
              "            </tr>\n",
              "            <tr>\n",
              "                        <th id=\"T_364dce90_a8e1_11eb_96ea_0242ac1c0002level0_row6\" class=\"row_heading level0 row6\" >age</th>\n",
              "                        <td id=\"T_364dce90_a8e1_11eb_96ea_0242ac1c0002row6_col0\" class=\"data row6 col0\" >0.005282</td>\n",
              "                        <td id=\"T_364dce90_a8e1_11eb_96ea_0242ac1c0002row6_col1\" class=\"data row6 col1\" >-1.000000</td>\n",
              "                        <td id=\"T_364dce90_a8e1_11eb_96ea_0242ac1c0002row6_col2\" class=\"data row6 col2\" >0.069491</td>\n",
              "                        <td id=\"T_364dce90_a8e1_11eb_96ea_0242ac1c0002row6_col3\" class=\"data row6 col3\" >-0.504292</td>\n",
              "                        <td id=\"T_364dce90_a8e1_11eb_96ea_0242ac1c0002row6_col4\" class=\"data row6 col4\" >-0.009461</td>\n",
              "                        <td id=\"T_364dce90_a8e1_11eb_96ea_0242ac1c0002row6_col5\" class=\"data row6 col5\" >-0.258950</td>\n",
              "                        <td id=\"T_364dce90_a8e1_11eb_96ea_0242ac1c0002row6_col6\" class=\"data row6 col6\" >1.000000</td>\n",
              "                        <td id=\"T_364dce90_a8e1_11eb_96ea_0242ac1c0002row6_col7\" class=\"data row6 col7\" >0.138338</td>\n",
              "                        <td id=\"T_364dce90_a8e1_11eb_96ea_0242ac1c0002row6_col8\" class=\"data row6 col8\" >0.138318</td>\n",
              "                        <td id=\"T_364dce90_a8e1_11eb_96ea_0242ac1c0002row6_col9\" class=\"data row6 col9\" >-0.021408</td>\n",
              "            </tr>\n",
              "            <tr>\n",
              "                        <th id=\"T_364dce90_a8e1_11eb_96ea_0242ac1c0002level0_row7\" class=\"row_heading level0 row7\" >days_from_joined</th>\n",
              "                        <td id=\"T_364dce90_a8e1_11eb_96ea_0242ac1c0002row7_col0\" class=\"data row7 col0\" >-0.016833</td>\n",
              "                        <td id=\"T_364dce90_a8e1_11eb_96ea_0242ac1c0002row7_col1\" class=\"data row7 col1\" >-0.138338</td>\n",
              "                        <td id=\"T_364dce90_a8e1_11eb_96ea_0242ac1c0002row7_col2\" class=\"data row7 col2\" >0.037165</td>\n",
              "                        <td id=\"T_364dce90_a8e1_11eb_96ea_0242ac1c0002row7_col3\" class=\"data row7 col3\" >-0.007478</td>\n",
              "                        <td id=\"T_364dce90_a8e1_11eb_96ea_0242ac1c0002row7_col4\" class=\"data row7 col4\" >-0.064171</td>\n",
              "                        <td id=\"T_364dce90_a8e1_11eb_96ea_0242ac1c0002row7_col5\" class=\"data row7 col5\" >0.186742</td>\n",
              "                        <td id=\"T_364dce90_a8e1_11eb_96ea_0242ac1c0002row7_col6\" class=\"data row7 col6\" >0.138338</td>\n",
              "                        <td id=\"T_364dce90_a8e1_11eb_96ea_0242ac1c0002row7_col7\" class=\"data row7 col7\" >1.000000</td>\n",
              "                        <td id=\"T_364dce90_a8e1_11eb_96ea_0242ac1c0002row7_col8\" class=\"data row7 col8\" >0.999718</td>\n",
              "                        <td id=\"T_364dce90_a8e1_11eb_96ea_0242ac1c0002row7_col9\" class=\"data row7 col9\" >-0.010898</td>\n",
              "            </tr>\n",
              "            <tr>\n",
              "                        <th id=\"T_364dce90_a8e1_11eb_96ea_0242ac1c0002level0_row8\" class=\"row_heading level0 row8\" >years_from_joined</th>\n",
              "                        <td id=\"T_364dce90_a8e1_11eb_96ea_0242ac1c0002row8_col0\" class=\"data row8 col0\" >-0.016351</td>\n",
              "                        <td id=\"T_364dce90_a8e1_11eb_96ea_0242ac1c0002row8_col1\" class=\"data row8 col1\" >-0.138318</td>\n",
              "                        <td id=\"T_364dce90_a8e1_11eb_96ea_0242ac1c0002row8_col2\" class=\"data row8 col2\" >0.036992</td>\n",
              "                        <td id=\"T_364dce90_a8e1_11eb_96ea_0242ac1c0002row8_col3\" class=\"data row8 col3\" >-0.007576</td>\n",
              "                        <td id=\"T_364dce90_a8e1_11eb_96ea_0242ac1c0002row8_col4\" class=\"data row8 col4\" >-0.063883</td>\n",
              "                        <td id=\"T_364dce90_a8e1_11eb_96ea_0242ac1c0002row8_col5\" class=\"data row8 col5\" >0.187304</td>\n",
              "                        <td id=\"T_364dce90_a8e1_11eb_96ea_0242ac1c0002row8_col6\" class=\"data row8 col6\" >0.138318</td>\n",
              "                        <td id=\"T_364dce90_a8e1_11eb_96ea_0242ac1c0002row8_col7\" class=\"data row8 col7\" >0.999718</td>\n",
              "                        <td id=\"T_364dce90_a8e1_11eb_96ea_0242ac1c0002row8_col8\" class=\"data row8 col8\" >1.000000</td>\n",
              "                        <td id=\"T_364dce90_a8e1_11eb_96ea_0242ac1c0002row8_col9\" class=\"data row8 col9\" >-0.011358</td>\n",
              "            </tr>\n",
              "            <tr>\n",
              "                        <th id=\"T_364dce90_a8e1_11eb_96ea_0242ac1c0002level0_row9\" class=\"row_heading level0 row9\" >if_deleted</th>\n",
              "                        <td id=\"T_364dce90_a8e1_11eb_96ea_0242ac1c0002row9_col0\" class=\"data row9 col0\" >0.001651</td>\n",
              "                        <td id=\"T_364dce90_a8e1_11eb_96ea_0242ac1c0002row9_col1\" class=\"data row9 col1\" >0.021408</td>\n",
              "                        <td id=\"T_364dce90_a8e1_11eb_96ea_0242ac1c0002row9_col2\" class=\"data row9 col2\" >0.009109</td>\n",
              "                        <td id=\"T_364dce90_a8e1_11eb_96ea_0242ac1c0002row9_col3\" class=\"data row9 col3\" >0.013642</td>\n",
              "                        <td id=\"T_364dce90_a8e1_11eb_96ea_0242ac1c0002row9_col4\" class=\"data row9 col4\" >-0.020725</td>\n",
              "                        <td id=\"T_364dce90_a8e1_11eb_96ea_0242ac1c0002row9_col5\" class=\"data row9 col5\" >0.009055</td>\n",
              "                        <td id=\"T_364dce90_a8e1_11eb_96ea_0242ac1c0002row9_col6\" class=\"data row9 col6\" >-0.021408</td>\n",
              "                        <td id=\"T_364dce90_a8e1_11eb_96ea_0242ac1c0002row9_col7\" class=\"data row9 col7\" >-0.010898</td>\n",
              "                        <td id=\"T_364dce90_a8e1_11eb_96ea_0242ac1c0002row9_col8\" class=\"data row9 col8\" >-0.011358</td>\n",
              "                        <td id=\"T_364dce90_a8e1_11eb_96ea_0242ac1c0002row9_col9\" class=\"data row9 col9\" >1.000000</td>\n",
              "            </tr>\n",
              "    </tbody></table>"
            ],
            "text/plain": [
              "<pandas.io.formats.style.Styler at 0x7f71a71eb310>"
            ]
          },
          "metadata": {
            "tags": []
          },
          "execution_count": 146
        }
      ]
    },
    {
      "cell_type": "code",
      "metadata": {
        "colab": {
          "base_uri": "https://localhost:8080/",
          "height": 517
        },
        "id": "tq3gEIoleATq",
        "outputId": "62a987a5-6290-4d81-957d-12a1e03b1cb8"
      },
      "source": [
        "# age와 recommend의 상관관계를 봐보자\n",
        "\n",
        "fig = px.scatter(x = user_meta_df['age'],\n",
        "                 y = user_meta_df['category_prefer'])\n",
        "fig.update_layout(width = 600, height = 500)\n",
        "fig.show()"
      ],
      "execution_count": 148,
      "outputs": [
        {
          "output_type": "display_data",
          "data": {
            "text/html": [
              "<html>\n",
              "<head><meta charset=\"utf-8\" /></head>\n",
              "<body>\n",
              "    <div>\n",
              "            <script src=\"https://cdnjs.cloudflare.com/ajax/libs/mathjax/2.7.5/MathJax.js?config=TeX-AMS-MML_SVG\"></script><script type=\"text/javascript\">if (window.MathJax) {MathJax.Hub.Config({SVG: {font: \"STIX-Web\"}});}</script>\n",
              "                <script type=\"text/javascript\">window.PlotlyConfig = {MathJaxConfig: 'local'};</script>\n",
              "        <script src=\"https://cdn.plot.ly/plotly-latest.min.js\"></script>    \n",
              "            <div id=\"3a54e3e3-d796-4fc1-bc32-7d8683e184a0\" class=\"plotly-graph-div\" style=\"height:500px; width:600px;\"></div>\n",
              "            <script type=\"text/javascript\">\n",
              "                \n",
              "                    window.PLOTLYENV=window.PLOTLYENV || {};\n",
              "                    \n",
              "                if (document.getElementById(\"3a54e3e3-d796-4fc1-bc32-7d8683e184a0\")) {\n",
              "                    Plotly.newPlot(\n",
              "                        '3a54e3e3-d796-4fc1-bc32-7d8683e184a0',\n",
              "                        [{\"hoverlabel\": {\"namelength\": 0}, \"hovertemplate\": \"x=%{x}<br>y=%{y}\", \"legendgroup\": \"\", \"marker\": {\"color\": \"#636efa\", \"symbol\": \"circle\"}, \"mode\": \"markers\", \"name\": \"\", \"showlegend\": false, \"type\": \"scattergl\", \"x\": [27, 27, 23, 24, 23, 27, 28, 26, 27, 23, 23, 28, 27, 28, 27, 28, 25, 28, 26, 22, 26, 26, 25, 27, 25, 22, 26, 27, 27, 25, 25, 22, 26, 25, 25, 29, 24, 25, 27, 29, 24, 24, 25, 26, 28, 27, 25, 26, 23, 22, 19, 27, 29, 25, 23, 28, 27, 24, 25, 24, 24, 22, 29, 24, 23, 26, 27, 26, 26, 24, 29, 26, 27, 28, 22, 23, 25, 29, 27, 25, 28, 30, 23, 26, 26, 27, 21, 28, 27, 24, 27, 31, 23, 28, 25, 23, 25, 26, 29, 23, 25, 27, 23, 24, 26, 27, 25, 28, 27, 26, 26, 21, 22, 24, 27, 25, 27, 24, 25, 24, 25, 29, 26, 29, 27, 25, 22, 28, 26, 23, 22, 26, 29, 26, 27, 23, 28, 26, 24, 26, 23, 28, 25, 25, 28, 26, 26, 22, 25, 26, 23, 22, 27, 23, 26, 26, 28, 27, 29, 27, 27, 24, 25, 27, 29, 24, 25, 26, 26, 23, 23, 25, 25, 26, 27, 26, 30, 31, 32, 26, 30, 33, 37, 31, 33, 27, 30, 27, 32, 32, 31, 27, 33, 34, 28, 32, 32, 34, 31, 29, 31, 31, 30, 32, 33, 29, 33, 29, 34, 30, 30, 35, 32, 29, 29, 31, 32, 30, 33, 31, 33, 33, 30, 29, 29, 31, 31, 30, 31, 29, 31, 34, 30, 33, 30, 26, 32, 33, 31, 32, 27, 35, 34, 33, 35, 29, 34, 31, 29, 32, 29, 38, 29, 32, 28, 30, 30, 29, 38, 35, 32, 30, 33, 30, 40, 32, 35, 30, 34, 30, 33, 28, 27, 35, 30, 34, 29, 31, 31, 30, 34, 35, 31, 29, 28, 34, 33, 31, 30, 32, 31, 29, 32, 34, 33, 30, 32, 30, 33, 36, 32, 34, 33, 26, 23, 27, 36, 35, 36, 32, 30, 28, 34, 31, 36, 34, 30, 34, 34, 33, 30, 27, 31, 31, 31, 31, 33, 31, 40, 32, 31, 35, 34, 30, 36, 32, 26, 29, 35, 31, 28, 32, 27, 25, 28, 37, 30, 28, 28, 26, 36, 31, 32, 32, 33, 31, 33, 38, 31, 33, 31, 29, 32, 30, 34, 31, 32, 34, 33, 28, 31, 34, 31, 31, 32, 27, 28, 30, 30, 28, 31, 34, 32, 33, 31, 29, 32, 30, 31, 34, 29, 33, 30, 30, 30, 32, 42, 42, 43, 40, 42, 39, 51, 47, 46, 47, 47, 37, 45, 45, 47, 38, 36, 42, 42, 40, 45, 44, 48, 43, 38, 41, 43, 44, 46, 40, 39, 47, 39, 39, 45, 36, 36, 36, 47, 38, 32, 48, 43, 46, 44, 45, 43, 42, 47, 50, 42, 37, 48, 44, 42, 51, 36, 44, 46, 38, 45, 42, 38, 37, 52, 49, 42, 38, 50, 46, 45, 44, 45, 41, 50, 41, 42, 39, 39, 49, 40, 36, 39, 47, 43, 45, 37, 35, 41, 46, 50, 46, 45, 41, 42, 40, 47, 44, 44, 47, 44, 45, 36, 40, 46, 43, 43, 40, 40, 44, 43, 38, 38, 42, 39, 38, 41, 43, 37, 43, 34, 45, 35, 37, 45, 43, 43, 37, 50, 42, 48, 37, 47, 37, 45, 45, 38, 54, 48, 49, 48, 41, 46, 43, 51, 44, 44, 38, 32, 41, 42, 46, 38, 42, 47, 39, 42, 41, 37, 43, 42, 40, 45, 38, 44, 46, 44, 40, 44, 40, 46, 41, 47, 43, 43, 41, 46, 44, 34, 45, 48, 47, 37, 44, 49, 43, 39, 53, 49, 47, 50, 45, 46, 40, 43, 32, 37, 49, 38, 41, 34, 46, 54, 43, 49, 37, 38, 40, 47, 39, 43, 49, 41, 32, 46, 47, 40, 50, 42, 44, 43, 44, 36, 44, 40, 45, 45, 46, 44, 36, 28, 28, 27, 26, 26, 26, 27, 24, 26, 22, 26, 25, 22, 25, 29, 23, 25, 21, 24, 26, 22, 30, 23, 26, 28, 26, 24, 26, 26, 26, 22, 23, 27, 25, 28, 25, 23, 26, 27, 24, 21, 25, 23, 29, 26, 28, 29, 23, 24, 30, 26, 25, 27, 27, 24, 28, 25, 26, 27, 24, 24, 24, 30, 28, 27, 28, 26, 24, 27, 24, 29, 26, 30, 25, 21, 29, 31, 26, 24, 26, 21, 25, 24, 25, 28, 28, 28, 24, 25, 31, 26, 20, 26, 24, 32, 29, 30, 26, 25, 26, 24, 23, 28, 27, 27, 29, 26, 26, 24, 29, 24, 31, 27, 23, 24, 23, 22, 23, 29, 31, 25, 27, 48, 45, 31, 24, 46, 48, 21, 22, 20, 25, 22, 50, 42, 43, 33, 30, 29, 34, 37, 30, 23, 35, 26, 24, 47, 24, 45, 39, 49, 42, 29, 40, 46, 25, 32, 32, 37, 29, 27, 21, 26, 19, 33, 22, 38, 25, 27, 31, 42, 30, 28, 26, 24, 27, 25, 31, 52, 26, 27, 34, 25, 46, 25, 26, 24, 27, 23, 31, 23, 26, 32, 25, 49, 36, 44, 21, 26, 25, 43, 39, 25, 51, 25, 30, 22, 26, 37, 39, 25, 26, 32, 29, 25, 25, 26, 42, 29, 36, 32, 21, 43, 36, 47, 38, 23, 26, 33, 38, 23, 26, 33, 27, 18, 52, 23, 26, 32, 28, 23, 25, 28, 28, 37, 42, 27, 41, 28, 22, 37, 31, 27, 50, 28, 38, 45, 24, 33, 35, 35, 34, 32, 29, 32, 28, 26, 26, 28, 28, 31, 26, 24, 22, 26, 43, 25, 21, 42, 40, 30, 32, 43, 31, 26, 27, 30, 24, 25, 25, 38, 23, 34, 25, 24, 23, 27, 27, 20, 32, 45, 42, 25, 25, 20, 26, 28, 26, 32, 26, 29, 22, 24, 27, 25, 28, 24, 27, 39, 25, 34, 25, 30, 25, 30, 27, 30, 27, 26, 23, 27, 29, 25, 24, 21, 40, 30, 26, 33, 25, 24, 23, 24, 25, 48, 33, 28, 24, 30, 24, 45, 30, 26, 30, 46, 29, 24, 29, 29, 25, 22, 32, 42, 31, 26, 23, 25, 24, 29, 45, 32, 26, 26, 27, 36, 39, 31, 31, 22, 48, 27, 43, 33, 23, 26, 39, 23, 29, 35, 28, 31, 24, 32, 24, 28, 32, 29, 30, 30, 38, 49, 27, 49, 25, 24, 51, 28, 24, 50, 23, 40, 25, 36, 32, 45, 37, 31, 33, 42, 42, 32, 30, 26, 28, 30, 23, 28, 39, 35, 27, 29, 27, 34, 28, 28, 31, 32, 33, 24, 25, 24, 33, 23, 23, 41, 30, 27, 27, 25, 29, 23, 32, 27, 21, 27, 45, 31, 30, 34, 31, 24, 33, 24, 26, 41, 26, 46, 22, 22, 27, 26, 27, 22, 26, 32, 25, 28, 32, 28, 40, 25, 26, 43, 22, 29, 27, 41, 26, 32, 25, 26, 46, 31, 31, 30, 27, 28, 45, 31, 25, 28, 31, 25, 32, 31, 41, 24, 27, 30, 25, 24, 38, 22, 26, 24, 39, 48, 34, 36, 45, 27, 47, 28, 25, 33, 23, 31, 33, 37, 29, 36, 26, 27, 43, 30, 52, 27, 30, 32, 24, 24, 30, 29, 22, 32, 27, 25, 41, 31, 27, 44, 24, 29, 26, 29, 24, 21, 30, 31, 29, 28, 24, 27, 38, 23, 24, 28, 29, 30, 28, 27, 23, 20, 42, 32, 22, 26, 23, 22, 36, 28, 25, 23, 26, 31, 31, 22, 26, 24, 41, 30, 24, 28, 24, 42, 25, 25, 27, 33, 31, 31, 31, 23, 22, 24, 26, 28, 46, 31, 26, 23, 37, 30, 27, 39, 24, 30, 30, 22, 26, 22, 32, 42, 31, 22, 26, 23, 47, 32, 20, 33, 25, 45, 23, 45, 25, 18, 23, 53, 46, 22, 38, 24, 27, 47, 31, 24, 43, 32, 29, 28, 28, 25, 25, 23, 43, 32, 29, 30, 29, 27, 26, 22, 28, 25, 21, 24, 44, 30, 27, 33, 30, 34, 24, 26, 28, 30, 27, 29, 29, 37, 45, 28, 42, 41, 46, 34, 23, 26, 46, 41, 24, 49, 32, 28, 28, 23, 44, 33, 33, 27, 31, 36, 25, 31, 46, 30, 30, 21, 42, 51, 27, 28, 25, 20, 46, 26, 30, 50, 26, 45, 31, 33, 40, 28, 48, 39, 25, 30, 26, 30, 27, 30, 30, 48, 30, 30, 29, 22, 32, 23, 34, 21, 22, 24, 54, 31, 36, 23, 28, 29, 44, 27, 33, 35, 29, 27, 21, 28, 47, 26, 30, 27, 27, 46, 47, 32, 27, 32, 25, 51, 36, 40, 23, 34, 31, 28, 23, 27, 32, 25, 24, 32, 28, 26, 34, 27, 23, 26, 45, 23, 40, 28, 31, 42, 31, 47, 28, 38, 31, 27, 45, 45, 28, 30, 26, 39, 23, 32, 28, 48, 30, 23, 22, 26, 25, 26, 40, 46, 34, 22, 24, 27, 34, 47, 39, 32, 26, 24, 31, 52, 42, 33, 26, 31, 22, 28, 47, 33, 27, 24, 29, 32, 25, 26, 27, 43, 43, 34, 32, 28, 27, 30, 39, 41, 49, 39, 35, 31, 44, 24, 28, 48, 25, 42, 40, 35, 21, 43, 22, 44, 45, 27, 27, 30, 41, 31, 32, 24, 31, 31, 34, 25, 31, 20, 48, 27, 27, 31, 33, 28, 27, 29, 29, 43, 25, 23, 38, 23, 20, 24, 23, 23, 30, 30, 29, 35, 28, 28, 27, 44, 21, 26, 34, 25, 26, 30, 28, 40, 24, 25, 27, 48, 32, 29, 32, 44, 47, 26, 33, 32, 43, 23, 25, 21, 26, 26, 40, 33, 29, 29, 32, 41, 27, 43, 25, 32, 45, 25, 25, 31, 34, 36, 27, 47, 40, 25, 28, 40, 27, 25, 27, 23, 27, 28, 26, 29, 26, 30, 30, 25, 40, 29, 29, 29, 20, 25, 46, 22, 31, 43, 26, 26, 30, 24, 26, 43, 23, 47, 43, 28, 32, 26, 25, 34, 24, 31, 24, 25, 45, 34, 33, 30, 24, 53, 25, 33, 26, 30, 36, 26, 34, 23, 27, 42, 25, 46, 33, 41, 41, 20, 25, 26, 32, 33, 31, 28, 24, 25, 33, 23, 22, 42, 28, 30, 26, 41, 40, 30, 24, 35, 47, 29, 27, 24, 29, 47, 28, 34, 32, 46, 36, 36, 32, 24, 35, 34, 40, 25, 20, 26, 31, 35, 34, 28, 24, 32, 25, 22, 49, 25, 29, 32, 27, 24, 46, 39, 25, 46, 38, 27, 32, 42, 25, 27, 27, 24, 41, 27, 19, 46, 25, 30, 25, 28, 30, 45, 34, 28, 24, 31, 32, 26, 32, 23, 31, 42, 42, 27, 33, 20, 31, 30, 34, 25, 42, 32, 29, 28, 32, 28, 24, 40, 39, 43, 25, 31, 26, 26, 25, 31, 42, 41, 36, 47, 40, 33, 28, 49, 25, 28, 25, 41, 48, 22, 41, 32, 32, 22, 39, 46, 31, 23, 31, 24, 26, 27, 23, 42, 26, 44, 30, 26, 29, 32, 28, 21, 35, 43, 24, 23, 29, 34, 31, 35, 40, 25, 29, 44, 22, 27, 32, 27, 25, 27, 28, 29, 28, 27, 32, 29, 25, 34, 24, 34, 23, 25, 45, 23, 28, 46, 25, 25, 26, 25, 22, 25, 24, 34, 26, 25, 23, 27, 29, 37, 31, 27, 25, 25, 32, 37, 28, 23, 35, 45, 41, 24, 40, 26, 28, 28, 28, 24, 26, 28, 27, 21, 41, 30, 48, 30, 36, 24, 23, 26, 28, 32, 27, 47, 40, 48, 28, 46, 53, 37, 39, 46, 26, 26, 44, 47, 24, 25, 24, 48, 26, 46, 45, 38, 40, 23, 46, 23, 27, 28, 32, 25, 28, 32, 27, 25, 23, 31, 33, 28, 25, 25, 50, 27, 42, 30, 25, 24, 42, 30, 34, 39, 26, 33, 25, 29, 27, 33, 49, 25, 22, 45, 48, 28, 41, 23, 32, 24, 29, 25, 30, 44, 47, 18, 43, 45, 34, 30, 29, 30, 34, 24, 25, 31, 33, 34, 43, 42, 39, 34, 23, 28, 31, 47, 32, 26, 29, 29, 29, 26, 26, 41, 26, 28, 30, 31, 31, 30, 31, 32, 24, 42, 28, 40, 31, 42, 32, 30, 46, 44, 42, 30, 26, 26, 44, 27, 20, 23, 32, 36, 23, 23, 28, 25, 27, 27, 52, 32, 30, 21, 23, 30, 31, 39, 31, 37, 29, 41, 25, 37, 27, 30, 31, 28, 24, 33, 29, 29, 34, 23, 26, 37, 38, 31, 45, 32, 29, 28, 39, 33, 25, 34, 23, 22, 40, 45, 25, 28, 28, 45, 31, 19, 34, 35, 22, 24, 23, 27, 29, 35, 26, 29, 27, 26, 27, 26, 33, 26, 29, 30, 27, 32, 33, 43, 30, 33, 31, 25, 31, 28, 32, 43, 48, 26, 30, 28, 42, 24, 30, 38, 31, 51, 37, 28, 32, 22, 47, 30, 27, 21, 26, 26, 31, 39, 31, 25, 31, 28, 30, 28, 28, 27, 25, 25, 28, 22, 34, 42, 24, 23, 25, 32, 28, 29, 36, 42, 27, 32, 45, 23, 26, 22, 27, 32, 28, 43, 23, 39, 30, 27, 31, 21, 26, 36, 24, 35, 47, 28, 26, 33, 33, 34, 24, 25, 44, 24, 25, 22, 44, 29, 43, 30, 32, 25, 33, 22, 40, 31, 30, 44, 23, 39, 27, 22, 39, 52, 37, 24, 25, 32, 28, 26, 47, 23, 33, 39, 25, 53, 46, 26, 38, 23, 26, 44, 29, 43, 45, 41, 25, 45, 40, 23, 47, 26, 46, 30, 30, 31, 44, 23, 24, 26, 22, 23, 40, 25, 27, 30, 31, 41, 29, 27, 43, 20, 42, 29, 23, 27, 26, 45, 23, 30, 30, 27, 29, 28, 27, 45, 34, 24, 40, 24, 44, 25, 37, 25, 23, 22, 22, 27, 28, 33, 31, 28, 27, 28, 24, 21, 24, 31, 27, 46, 29, 31, 31, 25, 30, 23, 47, 28, 51, 44, 36, 33, 35, 27, 23, 45, 40, 24, 33, 44, 30, 31, 26, 24, 28, 27, 22, 23, 25, 24, 27, 47, 25, 43, 25, 33, 44, 39, 46, 25, 29, 41, 27, 28, 28, 40, 44, 28, 28, 26, 33, 32, 35, 26, 26, 29, 33, 28, 27, 25, 28, 30, 29, 26, 28, 23, 29, 47, 31, 22, 28, 40, 29, 29, 25, 30, 45, 42, 51, 33, 33, 39, 25, 31, 35, 36, 24, 27, 40, 41, 28, 46, 26, 49, 24, 31, 27, 25, 44, 24, 47, 27, 35, 32, 27, 25, 24, 23, 25, 24, 28, 23, 33, 27, 26, 29, 50, 31, 43, 25, 37, 28, 27, 40, 24, 29, 26, 22, 25, 32, 26, 20, 27, 41, 25, 43, 27, 28, 27, 26, 24, 37, 41, 43, 30, 29, 36, 32, 36, 28, 26, 29, 35, 44, 30, 25, 18, 26, 33, 28, 32, 27, 29, 25, 31, 23, 25, 26, 23, 36, 28, 25, 38, 42, 40, 44, 44, 41, 42, 27, 29, 40, 24, 33, 24, 32, 23, 50, 28, 22, 30, 51, 36, 29, 23, 39, 22, 29, 26, 34, 27, 43, 33, 32, 25, 43, 45, 24, 33, 42, 27, 43, 27, 27, 23, 29, 36, 45, 22, 26, 30, 38, 33, 24, 19, 29, 35, 25, 29, 26, 47, 26, 42, 27, 27, 26, 26, 30, 26, 36, 28, 27, 41, 28, 42, 24, 38, 28, 50, 26, 43, 22, 30, 32, 22, 22, 18, 24, 22, 26, 25, 22, 29, 33, 24, 21, 30, 42, 24, 28, 23, 42, 28, 28, 24, 26, 25, 44, 19, 40, 29, 30, 43, 25, 30, 51, 24, 27, 28, 35, 28, 35, 26, 25, 53, 22, 26, 27, 23, 43, 40, 29, 24, 25, 25, 30, 41, 46, 26, 24, 28, 27, 46, 26, 34, 32, 29, 29, 45, 23, 27, 23, 30, 26, 36, 29, 30, 36, 43, 51, 29, 46, 22, 33, 31, 32, 27, 35, 22, 39, 40, 26, 42, 40, 32, 34, 24, 38, 26, 35, 31, 27, 22, 34, 24, 29, 26, 24, 28, 28, 29, 31, 46, 32, 30, 30, 28, 28, 29, 24, 22, 26, 30, 41, 23, 28, 49, 24, 40, 27, 48, 32, 36, 27, 26, 39, 21, 39, 38, 32, 28, 38, 32, 26, 31, 33, 27, 33, 36, 22, 23, 31, 27, 29, 30, 25, 23, 21, 24, 28, 25, 27, 35, 32, 46, 27, 20, 29, 31, 29, 28, 41, 38, 32, 36, 26, 28, 20, 28, 29, 46, 28, 31, 23, 26, 36, 31, 23, 28, 26, 30, 40, 26, 35, 31, 27, 40, 29, 28, 38, 42, 28, 28, 31, 25, 32, 53, 43, 24, 31, 26, 27, 38, 30, 25, 33, 30, 25, 39, 33, 41, 32, 47, 37, 28, 30, 24, 44, 28, 37, 32, 27, 51, 23, 24, 28, 24, 32, 39, 28, 49, 30, 26, 40, 39, 49, 24, 34, 26, 49, 24, 26, 24, 26, 22, 34, 29, 28, 29, 24, 41, 27, 24, 27, 23, 31, 27, 40, 28, 25, 31, 31, 33, 27, 37, 35, 42, 32, 28, 34, 48, 33, 40, 29, 23, 34, 24, 34, 25, 30, 32, 24, 29, 43, 28, 28, 27, 24, 24, 28, 30, 30, 25, 43, 35, 21, 31, 23, 25, 28, 27, 36, 37, 40, 23, 26, 25, 33, 25, 40, 28, 26, 20, 23, 31, 25, 45, 38, 47, 51, 36, 25, 28, 47, 31, 25, 27, 27, 34, 26, 49, 26, 28, 38, 27, 27, 27, 31, 26, 33, 21, 22, 24, 30, 27, 31, 39, 50, 26, 42, 26, 33, 43, 28, 35, 22, 31, 23, 26, 39, 45, 26, 44, 30, 30, 29, 24, 30, 22, 34, 31, 29, 37, 30, 32, 29, 33, 33, 41, 28, 30, 34, 31, 26, 28, 29, 24, 45, 26, 27, 25, 39, 25, 26, 30, 42, 42, 22, 32, 24, 26, 27, 20, 26, 33, 24, 22, 25, 46, 20, 51, 38, 35, 25, 24, 30, 32, 48, 26, 30, 28, 28, 29, 26, 25, 28, 30, 45, 25, 33, 28, 29, 28, 31, 23, 40, 26, 22, 25, 31, 20, 21, 32, 26, 24, 23, 31, 27, 31, 43, 21, 28, 38, 28, 33, 24, 47, 45, 27, 40, 24, 47, 43, 29, 33, 41, 33, 29, 45, 31, 34, 29, 48, 40, 22, 26, 23, 35, 55, 26, 38, 33, 27, 33, 24, 25, 24, 26, 31, 22, 26, 44, 31, 30, 30, 27, 32, 26, 31, 50, 24, 25, 43, 28, 28, 22, 23, 26, 35, 29, 25, 22, 31, 27, 49, 34, 31, 24, 25, 23, 28, 40, 29, 19, 31, 37, 29, 27, 45, 23, 25, 24, 28, 42, 32, 27, 45, 30, 26, 48, 46, 21, 36, 29, 37, 25, 33, 29, 46, 29, 26, 36, 45, 27, 29, 48, 44, 31, 26, 36, 49, 22, 38, 23, 31, 27, 48, 44, 46, 27, 29, 23, 23, 26, 26, 26, 27, 27, 24, 34, 35, 37, 45, 31, 28, 28, 41, 24, 41, 23, 32, 23, 23, 33, 29, 27, 21, 41, 37, 36, 25, 25, 31, 34, 27, 45, 45, 39, 42, 20, 20, 33, 31, 46, 24, 22, 42, 29, 26, 33, 44, 28, 24, 26, 35, 30, 46, 42, 33, 43, 34, 24, 25, 24, 24, 30, 41, 26, 24, 32, 30, 32, 30, 30, 37, 38, 26, 23, 26, 43, 32, 25, 50, 26, 33, 22, 19, 43, 29, 32, 33, 25, 27, 28, 24, 26, 28, 40, 27, 34, 45, 41, 26, 27, 28, 25, 30, 24, 29, 27, 28, 30, 26, 46, 29, 29, 27, 40, 41, 26, 26, 24, 22, 31, 30, 35, 34, 42, 31, 30, 46, 29, 27, 35, 32, 26, 45, 24, 49, 23, 25, 35, 30, 27, 24, 40, 46, 26, 38, 25, 43, 37, 46, 42, 24, 29, 23, 45, 43, 30, 44, 26, 26, 30, 27, 42, 23, 24, 25, 25, 32, 44, 22, 26, 26, 45, 39, 30, 49, 27, 25, 27, 32, 29, 42, 30, 27, 25, 26, 25, 40, 36, 21, 28, 48, 44, 22, 44, 22, 45, 31, 26, 27, 24, 24, 42, 28, 53, 30, 28, 23, 22, 33, 45, 47, 35, 26, 39, 38, 29, 25, 23, 31, 43, 29, 45, 24, 24, 27, 42, 28, 46, 30, 29, 24, 27, 27, 22, 38, 43, 46, 34, 35, 21, 25, 30, 25, 25, 38, 23, 28, 41, 25, 29, 25, 23, 23, 33, 33, 45, 28, 27, 26, 51, 43, 34, 21, 41, 32, 27, 25, 43, 22, 33, 24, 27, 22, 22, 33, 40, 25, 27, 44, 16, 27, 29, 26, 44, 32, 47, 25, 29, 28, 25, 27, 24, 45, 30, 33, 27, 27, 33, 31, 31, 26, 48, 26, 29, 48, 33, 41, 24, 24, 30, 27, 41, 44, 34, 24], \"xaxis\": \"x\", \"y\": [3, 2, 4, 7, 6, 1, 4, 0, 5, 5, 10, 7, 5, 1, 6, 3, 2, 3, 6, 12, 4, 2, 5, 3, 5, 5, 4, 5, 3, 5, 9, 9, 4, 9, 6, 3, 7, 10, 4, 5, 2, 6, 5, 11, 4, 7, 10, 5, 11, 7, 9, 9, 6, 5, 7, 4, 3, 5, 8, 1, 3, 6, 3, 7, 7, 5, 6, 9, 2, 5, 0, 7, 5, 3, 8, 9, 8, 5, 13, 10, 5, 3, 5, 1, 9, 1, 8, 4, 3, 7, 4, 1, 2, 4, 5, 9, 1, 5, 0, 0, 6, 6, 5, 9, 4, 8, 6, 3, 6, 6, 5, 8, 10, 6, 5, 10, 11, 5, 7, 10, 4, 5, 4, 7, 7, 7, 7, 2, 7, 6, 6, 4, 1, 8, 3, 7, 8, 1, 7, 3, 14, 5, 5, 5, 2, 8, 3, 10, 5, 3, 8, 7, 6, 11, 7, 4, 0, 2, 7, 1, 7, 13, 9, 5, 6, 2, 5, 4, 6, 9, 5, 2, 10, 6, 5, 3, 1, 0, 9, 12, 0, 3, 8, 3, 3, 0, 1, 0, 3, 1, 9, 6, 9, 8, 5, 6, 5, 0, 0, 3, 3, 0, 5, 12, 7, 6, 6, 4, 3, 10, 5, 2, 7, 9, 4, 7, 9, 6, 1, 7, 1, 0, 6, 6, 6, 8, 6, 3, 0, 5, 6, 8, 0, 5, 10, 4, 9, 11, 5, 12, 7, 11, 9, 9, 8, 2, 8, 7, 3, 7, 4, 9, 5, 9, 8, 7, 12, 4, 10, 7, 4, 8, 5, 3, 1, 2, 6, 2, 7, 1, 7, 7, 5, 0, 7, 1, 3, 4, 3, 0, 3, 5, 6, 4, 0, 7, 5, 7, 0, 7, 4, 5, 2, 1, 7, 7, 13, 9, 6, 9, 2, 6, 5, 4, 5, 9, 0, 7, 7, 8, 5, 2, 8, 0, 5, 3, 0, 8, 7, 8, 6, 2, 9, 6, 7, 0, 6, 4, 3, 8, 4, 5, 8, 3, 5, 7, 2, 3, 5, 4, 0, 14, 5, 7, 2, 6, 8, 3, 0, 6, 7, 6, 4, 4, 9, 2, 4, 3, 8, 8, 5, 6, 8, 6, 0, 0, 8, 6, 4, 3, 2, 1, 5, 8, 5, 7, 10, 0, 10, 7, 8, 8, 6, 2, 3, 7, 2, 5, 13, 6, 1, 11, 4, 4, 8, 11, 4, 0, 2, 2, 1, 0, 0, 3, 1, 0, 0, 0, 2, 0, 3, 5, 0, 0, 0, 3, 6, 2, 1, 0, 0, 3, 0, 0, 2, 0, 2, 0, 0, 6, 3, 10, 1, 4, 2, 0, 0, 2, 0, 0, 6, 0, 0, 7, 5, 0, 6, 5, 6, 0, 0, 3, 0, 0, 4, 0, 0, 1, 3, 6, 0, 5, 0, 2, 5, 7, 0, 0, 0, 0, 0, 2, 0, 2, 0, 3, 1, 4, 1, 0, 0, 0, 0, 6, 0, 0, 2, 0, 1, 4, 0, 8, 0, 1, 4, 3, 1, 1, 0, 0, 0, 1, 0, 0, 0, 0, 2, 0, 0, 0, 1, 0, 0, 0, 0, 1, 0, 0, 3, 0, 5, 0, 3, 2, 2, 1, 0, 0, 1, 0, 4, 0, 0, 0, 4, 5, 6, 3, 6, 6, 2, 0, 1, 3, 2, 1, 0, 5, 2, 2, 0, 2, 3, 2, 1, 0, 3, 1, 6, 0, 7, 0, 3, 6, 4, 2, 3, 0, 1, 0, 0, 1, 0, 1, 2, 2, 4, 1, 0, 0, 1, 6, 0, 4, 0, 3, 2, 0, 0, 1, 3, 0, 0, 3, 1, 2, 0, 2, 3, 0, 0, 0, 5, 1, 0, 6, 0, 0, 0, 0, 0, 0, 0, 3, 6, 0, 0, 4, 7, 4, 7, 0, 1, 0, 0, 0, 3, 2, 3, 5, 6, 6, 3, 3, 5, 9, 6, 3, 7, 3, 4, 7, 4, 10, 11, 4, 4, 0, 7, 8, 10, 7, 10, 7, 4, 5, 9, 12, 2, 8, 4, 6, 11, 9, 4, 5, 8, 12, 10, 3, 4, 1, 2, 11, 3, 2, 2, 5, 3, 5, 5, 2, 4, 1, 6, 6, 10, 1, 7, 7, 1, 3, 5, 1, 4, 2, 7, 9, 7, 7, 8, 1, 9, 5, 6, 6, 7, 10, 11, 9, 6, 2, 6, 8, 8, 0, 7, 6, 12, 9, 0, 1, 0, 3, 0, 8, 2, 9, 5, 6, 8, 3, 5, 4, 10, 0, 8, 1, 0, 8, 8, 3, 8, 10, 5, 9, 5, 1, 0, 1, 11, 6, 0, 6, 6, 0, 11, 8, 10, 2, 0, 0, 11, 7, 1, 8, 9, 4, 6, 8, 5, 8, 3, 11, 0, 0, 1, 8, 8, 3, 3, 8, 0, 4, 6, 9, 7, 3, 6, 16, 0, 5, 2, 5, 2, 5, 1, 8, 6, 1, 6, 1, 10, 4, 3, 4, 8, 8, 2, 1, 7, 4, 10, 7, 9, 10, 7, 10, 6, 5, 0, 5, 2, 11, 5, 2, 0, 0, 5, 1, 5, 5, 11, 7, 3, 0, 12, 8, 5, 3, 10, 6, 7, 2, 0, 3, 11, 12, 0, 3, 0, 1, 8, 12, 8, 0, 8, 8, 8, 3, 11, 2, 6, 5, 7, 3, 6, 4, 8, 6, 0, 0, 7, 4, 6, 8, 2, 3, 5, 0, 0, 2, 0, 2, 4, 2, 3, 1, 4, 2, 6, 3, 0, 6, 4, 4, 11, 7, 9, 8, 6, 0, 7, 7, 1, 0, 6, 3, 4, 4, 7, 4, 9, 3, 5, 1, 0, 7, 13, 8, 9, 6, 10, 3, 12, 3, 6, 0, 7, 11, 8, 9, 1, 0, 8, 6, 1, 6, 5, 5, 0, 5, 8, 4, 1, 5, 5, 5, 2, 2, 5, 6, 2, 4, 4, 7, 4, 1, 5, 8, 6, 0, 12, 6, 7, 10, 7, 4, 0, 6, 0, 7, 1, 2, 0, 7, 3, 8, 6, 5, 6, 3, 9, 0, 6, 6, 11, 6, 4, 7, 8, 5, 4, 0, 4, 7, 4, 7, 1, 2, 8, 0, 3, 9, 11, 0, 10, 0, 6, 12, 8, 0, 8, 3, 10, 9, 7, 5, 5, 4, 7, 2, 0, 3, 5, 0, 8, 8, 0, 4, 5, 0, 7, 8, 0, 7, 1, 6, 0, 9, 2, 9, 4, 7, 5, 6, 0, 0, 6, 0, 5, 7, 1, 11, 2, 5, 5, 7, 6, 5, 8, 4, 6, 2, 9, 6, 8, 5, 12, 8, 2, 8, 4, 7, 6, 8, 6, 5, 7, 6, 7, 0, 2, 7, 8, 2, 8, 7, 11, 9, 0, 6, 5, 6, 11, 8, 2, 6, 3, 9, 3, 2, 3, 3, 7, 0, 5, 9, 5, 7, 4, 5, 0, 4, 1, 3, 2, 2, 2, 5, 6, 1, 4, 0, 6, 8, 2, 6, 9, 0, 2, 0, 4, 5, 7, 4, 6, 0, 4, 7, 5, 3, 0, 6, 1, 1, 7, 0, 4, 7, 7, 1, 2, 4, 9, 9, 1, 8, 4, 3, 1, 4, 10, 7, 1, 4, 5, 9, 9, 4, 7, 10, 2, 0, 3, 0, 3, 6, 7, 5, 9, 7, 8, 4, 0, 3, 2, 14, 3, 0, 13, 8, 0, 2, 4, 2, 0, 10, 8, 0, 6, 6, 5, 7, 9, 2, 4, 4, 2, 0, 4, 11, 8, 9, 7, 3, 10, 5, 2, 13, 2, 4, 5, 5, 6, 1, 9, 0, 10, 9, 0, 10, 1, 0, 6, 5, 9, 3, 1, 4, 1, 5, 1, 9, 7, 4, 11, 7, 1, 4, 5, 0, 5, 3, 4, 13, 5, 6, 5, 5, 3, 4, 9, 7, 3, 1, 5, 6, 6, 6, 0, 8, 11, 0, 4, 9, 4, 2, 7, 5, 10, 3, 6, 6, 0, 6, 4, 7, 9, 4, 8, 8, 5, 0, 3, 9, 10, 2, 1, 5, 0, 4, 9, 7, 2, 0, 3, 0, 10, 0, 3, 3, 8, 9, 9, 0, 2, 10, 0, 1, 7, 2, 14, 0, 5, 5, 0, 1, 3, 6, 2, 2, 0, 8, 9, 0, 2, 6, 9, 0, 8, 0, 3, 1, 3, 8, 2, 9, 5, 1, 6, 0, 0, 7, 11, 1, 6, 3, 6, 5, 0, 4, 4, 4, 8, 5, 6, 6, 5, 1, 10, 1, 5, 12, 6, 10, 7, 1, 3, 5, 11, 3, 3, 9, 0, 0, 9, 0, 5, 7, 0, 1, 6, 6, 4, 4, 0, 4, 0, 8, 9, 6, 2, 9, 12, 6, 5, 11, 1, 1, 10, 6, 3, 11, 8, 3, 9, 0, 7, 4, 0, 6, 1, 11, 3, 0, 2, 2, 1, 4, 5, 3, 0, 8, 11, 3, 5, 1, 12, 5, 7, 5, 5, 7, 3, 6, 6, 5, 5, 8, 0, 0, 9, 11, 10, 0, 0, 2, 3, 8, 4, 4, 0, 4, 2, 2, 6, 6, 3, 7, 1, 8, 1, 0, 9, 16, 3, 1, 2, 0, 6, 1, 0, 7, 6, 2, 15, 8, 0, 7, 3, 0, 7, 12, 0, 11, 3, 2, 0, 8, 7, 0, 0, 8, 4, 3, 6, 0, 2, 3, 9, 1, 3, 6, 3, 9, 2, 5, 5, 5, 0, 6, 11, 2, 3, 7, 6, 9, 5, 7, 6, 2, 7, 6, 3, 2, 0, 11, 1, 4, 4, 6, 3, 3, 0, 3, 3, 9, 0, 8, 9, 9, 1, 0, 7, 11, 7, 1, 8, 8, 7, 7, 2, 1, 0, 5, 0, 7, 8, 4, 0, 10, 8, 0, 8, 9, 1, 3, 2, 6, 0, 0, 6, 9, 2, 6, 2, 5, 5, 6, 8, 7, 9, 3, 3, 3, 3, 0, 0, 5, 4, 13, 4, 0, 10, 6, 5, 2, 4, 6, 10, 11, 0, 6, 0, 3, 5, 3, 6, 9, 4, 3, 8, 5, 5, 1, 3, 4, 4, 6, 1, 6, 5, 7, 2, 8, 5, 8, 9, 9, 0, 8, 3, 4, 0, 1, 10, 8, 4, 6, 7, 3, 6, 9, 11, 5, 9, 13, 4, 3, 5, 5, 5, 9, 3, 3, 4, 3, 6, 7, 6, 5, 2, 1, 13, 9, 0, 0, 0, 7, 8, 14, 7, 7, 11, 7, 8, 14, 7, 2, 5, 12, 13, 11, 1, 4, 6, 7, 14, 5, 8, 0, 2, 9, 0, 3, 6, 5, 0, 11, 7, 4, 11, 2, 8, 12, 6, 5, 5, 7, 3, 5, 0, 13, 0, 8, 6, 0, 7, 0, 1, 6, 5, 0, 2, 7, 10, 10, 5, 5, 8, 0, 5, 7, 2, 8, 0, 10, 0, 0, 2, 6, 3, 1, 7, 1, 9, 0, 6, 3, 0, 0, 8, 4, 3, 4, 2, 4, 0, 1, 11, 6, 6, 7, 10, 5, 0, 9, 6, 2, 12, 4, 0, 11, 5, 9, 4, 0, 3, 0, 3, 1, 6, 11, 0, 8, 6, 6, 6, 2, 1, 1, 3, 4, 0, 7, 0, 9, 2, 6, 9, 3, 8, 1, 5, 6, 9, 6, 9, 8, 0, 4, 0, 0, 7, 4, 0, 5, 3, 6, 2, 10, 6, 6, 7, 2, 8, 7, 4, 1, 7, 7, 3, 7, 0, 10, 0, 5, 8, 4, 5, 0, 9, 0, 6, 1, 1, 4, 5, 11, 4, 5, 4, 1, 10, 0, 3, 2, 8, 10, 4, 5, 8, 7, 0, 0, 0, 3, 0, 6, 4, 0, 0, 6, 7, 0, 3, 1, 3, 2, 0, 7, 0, 0, 0, 3, 9, 4, 6, 2, 3, 6, 3, 4, 7, 5, 5, 2, 6, 12, 2, 8, 6, 6, 6, 1, 7, 0, 2, 0, 3, 1, 5, 12, 7, 6, 1, 8, 0, 0, 5, 6, 5, 5, 2, 2, 5, 3, 3, 10, 6, 0, 4, 1, 8, 1, 5, 0, 9, 0, 9, 7, 7, 5, 6, 5, 0, 5, 2, 4, 2, 3, 6, 0, 2, 0, 4, 3, 2, 0, 6, 7, 0, 8, 9, 3, 2, 2, 8, 2, 10, 8, 1, 6, 2, 4, 2, 0, 7, 2, 5, 4, 2, 2, 9, 5, 4, 6, 4, 9, 2, 10, 4, 5, 2, 7, 8, 5, 0, 2, 13, 10, 5, 10, 0, 3, 5, 4, 0, 3, 0, 5, 6, 2, 2, 4, 11, 1, 6, 10, 9, 5, 1, 0, 7, 0, 2, 7, 7, 0, 2, 11, 12, 10, 13, 0, 2, 5, 5, 0, 2, 8, 11, 1, 6, 6, 5, 7, 5, 4, 4, 7, 1, 9, 9, 9, 5, 3, 8, 3, 5, 2, 7, 4, 0, 3, 1, 8, 5, 7, 9, 4, 0, 0, 8, 2, 1, 0, 5, 2, 0, 3, 0, 11, 4, 3, 6, 2, 0, 9, 12, 8, 7, 10, 6, 7, 8, 2, 4, 2, 0, 4, 3, 4, 2, 5, 10, 5, 0, 7, 6, 5, 9, 0, 10, 12, 0, 10, 0, 0, 8, 3, 5, 0, 0, 6, 0, 8, 0, 2, 0, 13, 10, 6, 2, 13, 3, 0, 5, 4, 10, 8, 3, 4, 4, 4, 6, 3, 7, 0, 5, 9, 3, 8, 1, 3, 7, 0, 9, 2, 3, 1, 1, 0, 5, 1, 1, 9, 3, 6, 1, 2, 5, 2, 2, 8, 1, 1, 0, 3, 6, 5, 7, 3, 0, 3, 0, 3, 2, 3, 3, 0, 7, 0, 6, 2, 5, 0, 7, 1, 4, 6, 8, 9, 3, 3, 0, 6, 9, 11, 2, 6, 6, 4, 9, 4, 4, 8, 4, 7, 0, 8, 6, 6, 1, 3, 8, 2, 1, 7, 6, 0, 6, 0, 3, 0, 6, 9, 7, 5, 5, 4, 6, 12, 0, 4, 0, 8, 9, 6, 6, 7, 4, 2, 3, 7, 8, 5, 14, 0, 3, 4, 4, 4, 5, 1, 3, 12, 3, 0, 8, 6, 0, 4, 6, 5, 6, 5, 5, 9, 3, 9, 8, 8, 5, 6, 0, 3, 4, 1, 0, 0, 6, 6, 2, 5, 4, 3, 2, 4, 1, 6, 8, 7, 11, 10, 6, 3, 2, 8, 4, 4, 10, 7, 9, 1, 9, 8, 8, 4, 0, 7, 7, 3, 1, 2, 5, 5, 9, 0, 2, 1, 4, 2, 0, 7, 0, 5, 4, 6, 4, 6, 4, 10, 2, 0, 3, 3, 0, 6, 6, 3, 8, 0, 11, 6, 4, 6, 6, 10, 6, 7, 11, 6, 7, 10, 5, 3, 7, 7, 8, 2, 6, 2, 6, 5, 0, 5, 8, 3, 8, 0, 9, 5, 10, 2, 0, 11, 0, 6, 5, 4, 3, 5, 8, 4, 0, 3, 4, 7, 7, 7, 5, 4, 9, 5, 1, 6, 13, 16, 9, 10, 1, 12, 2, 2, 9, 2, 6, 1, 3, 10, 4, 8, 7, 2, 0, 2, 0, 1, 1, 5, 7, 9, 0, 6, 0, 6, 7, 1, 0, 8, 6, 5, 2, 10, 0, 7, 0, 6, 0, 9, 7, 4, 6, 4, 2, 4, 0, 5, 3, 7, 4, 7, 1, 7, 5, 8, 4, 8, 0, 11, 9, 0, 0, 4, 5, 11, 0, 3, 2, 8, 4, 0, 4, 0, 6, 5, 5, 3, 15, 3, 4, 4, 1, 0, 1, 0, 5, 0, 8, 1, 3, 5, 9, 8, 6, 9, 8, 15, 10, 10, 6, 6, 8, 4, 11, 5, 9, 4, 0, 12, 1, 10, 1, 5, 7, 7, 9, 6, 4, 14, 0, 7, 8, 0, 8, 1, 0, 4, 2, 3, 0, 5, 8, 6, 5, 0, 8, 6, 5, 4, 4, 0, 5, 7, 7, 5, 5, 2, 0, 4, 6, 1, 8, 3, 8, 8, 11, 8, 0, 0, 8, 5, 5, 1, 1, 11, 3, 4, 4, 0, 0, 7, 4, 11, 2, 0, 8, 6, 7, 10, 1, 0, 7, 2, 4, 6, 11, 9, 0, 6, 5, 2, 4, 10, 5, 1, 6, 2, 9, 7, 3, 1, 5, 0, 6, 0, 9, 6, 8, 0, 6, 9, 6, 3, 1, 8, 4, 1, 7, 2, 6, 0, 8, 4, 4, 5, 0, 10, 0, 1, 2, 9, 6, 2, 6, 3, 9, 11, 0, 6, 12, 9, 1, 5, 2, 2, 5, 4, 9, 5, 3, 4, 4, 5, 1, 0, 3, 10, 3, 6, 6, 6, 1, 2, 2, 9, 5, 8, 11, 5, 4, 6, 9, 0, 3, 7, 10, 5, 11, 8, 11, 4, 0, 3, 7, 6, 6, 0, 11, 5, 6, 6, 3, 7, 4, 4, 3, 2, 5, 6, 1, 7, 8, 0, 2, 4, 8, 0, 3, 0, 10, 0, 4, 0, 1, 7, 10, 4, 0, 4, 10, 3, 6, 0, 7, 9, 6, 7, 0, 0, 4, 0, 1, 0, 0, 0, 0, 7, 0, 4, 4, 5, 12, 10, 1, 12, 3, 10, 2, 4, 5, 5, 1, 4, 5, 11, 2, 7, 0, 8, 3, 4, 0, 8, 7, 9, 5, 1, 0, 4, 10, 0, 9, 1, 11, 9, 0, 7, 1, 6, 6, 5, 5, 5, 4, 5, 6, 8, 6, 6, 5, 7, 10, 3, 0, 12, 10, 5, 8, 8, 2, 2, 8, 3, 0, 4, 9, 9, 11, 4, 2, 5, 6, 13, 7, 5, 3, 1, 0, 1, 4, 0, 10, 5, 2, 0, 6, 4, 4, 4, 0, 5, 6, 3, 0, 5, 1, 4, 5, 4, 2, 13, 13, 7, 6, 4, 4, 1, 4, 2, 0, 3, 6, 0, 8, 9, 13, 4, 13, 4, 0, 1, 10, 1, 7, 3, 4, 9, 6, 8, 3, 9, 4, 0, 0, 8, 5, 2, 5, 2, 0, 4, 4, 3, 8, 5, 3, 7, 2, 1, 4, 8, 1, 6, 6, 1, 3, 0, 8, 9, 10, 4, 13, 6, 8, 12, 9, 9, 8, 0, 12, 0, 0, 3, 4, 2, 6, 4, 1, 7, 6, 0, 1, 6, 6, 1, 1, 3, 0, 7, 0, 5, 3, 2, 4, 6, 4, 6, 9, 7, 2, 3, 4, 0, 4, 13, 5, 0, 7, 8, 0, 3, 6, 0, 9, 7, 4, 0, 0, 4, 0, 12, 2, 0, 11, 0, 9, 3, 5, 2, 4, 2, 0, 0, 0, 17, 7, 9, 5, 0, 2, 2, 2, 3, 5, 5, 6, 11, 7, 5, 12, 4, 2, 4, 2, 2, 3, 3, 3, 8, 4, 5, 7, 1, 5, 0, 6, 6, 6, 11, 4, 11, 6, 2, 2, 1, 8, 5, 10, 3, 7, 0, 0, 1, 10, 4, 7, 3, 7, 3, 8, 9, 8, 4, 0, 0, 6, 3, 2, 1, 0, 1, 10, 0, 4, 0, 10, 6, 7, 1, 3, 5, 0, 0, 4, 0, 0, 4, 3, 0, 8, 0, 9, 0, 9, 9, 6, 0, 0, 3, 3, 5, 6, 3, 4, 3, 1, 5, 8, 5, 5, 7, 3, 8, 0, 6, 4, 0, 8, 0, 10, 8, 11, 6, 10, 2, 1, 8, 3, 0, 1, 5, 9, 12, 8, 2, 4, 3, 0, 0, 12, 8, 5, 3, 9, 5, 7, 0, 3, 1, 2, 5, 1, 4, 4, 8, 6, 6, 0, 8, 1, 2, 2, 7, 6, 4, 3, 0, 3, 7, 6, 0, 4, 6, 4, 10, 0, 7, 7, 3, 5, 1, 6, 0, 6, 3, 7, 13, 0, 2, 8, 6, 4, 6, 3, 5, 7, 7, 1, 3, 4, 7, 1, 1, 3, 6, 4, 7, 7, 6, 5, 2, 8, 6, 2, 1, 0, 7, 0, 0, 11, 6, 4, 13, 8, 8, 7, 3, 0, 3, 0, 2, 9, 6, 3, 4, 6, 0, 7, 0, 5, 12, 1, 7, 4, 7, 2, 1, 6, 0, 0, 3, 0, 2, 6, 11, 2, 8, 9, 0, 0, 3, 8, 4, 8, 4, 0, 5, 6, 7, 6, 6, 0, 10, 8, 3, 0, 2, 2, 1, 7, 14, 1, 6, 4, 3, 7, 4, 3, 7, 9, 0, 0, 7, 9, 1, 8, 9, 1, 7, 0, 7, 2, 4, 4, 7, 0, 9, 1, 9, 11, 9, 12, 8, 0, 3, 2, 4, 2, 3, 0, 9, 5, 5, 2, 0, 2, 8, 6, 2, 5, 5, 0, 11, 5, 5, 1, 10, 9, 0, 0, 2, 6, 2, 11, 11, 7, 3, 5, 0, 4, 7, 5, 8, 5, 8, 8, 5, 0, 2, 3, 6, 3, 11, 4, 0, 0, 10, 0, 10, 2, 9, 1, 8, 3, 8, 6, 11, 7, 5, 0, 3, 4, 0, 10, 3, 1, 5, 2, 5, 5, 9, 4, 2, 5, 5, 3, 1, 4, 4, 2, 2, 3, 0, 5, 2, 2, 0, 0, 0, 8, 0, 7, 8, 4, 5, 0, 0, 8, 5], \"yaxis\": \"y\"}],\n",
              "                        {\"height\": 500, \"legend\": {\"tracegroupgap\": 0}, \"margin\": {\"t\": 60}, \"template\": {\"data\": {\"bar\": [{\"error_x\": {\"color\": \"#2a3f5f\"}, \"error_y\": {\"color\": \"#2a3f5f\"}, \"marker\": {\"line\": {\"color\": \"#E5ECF6\", \"width\": 0.5}}, \"type\": \"bar\"}], \"barpolar\": [{\"marker\": {\"line\": {\"color\": \"#E5ECF6\", \"width\": 0.5}}, \"type\": \"barpolar\"}], \"carpet\": [{\"aaxis\": {\"endlinecolor\": \"#2a3f5f\", \"gridcolor\": \"white\", \"linecolor\": \"white\", \"minorgridcolor\": \"white\", \"startlinecolor\": \"#2a3f5f\"}, \"baxis\": {\"endlinecolor\": \"#2a3f5f\", \"gridcolor\": \"white\", \"linecolor\": \"white\", \"minorgridcolor\": \"white\", \"startlinecolor\": \"#2a3f5f\"}, \"type\": \"carpet\"}], \"choropleth\": [{\"colorbar\": {\"outlinewidth\": 0, \"ticks\": \"\"}, \"type\": \"choropleth\"}], \"contour\": [{\"colorbar\": {\"outlinewidth\": 0, \"ticks\": \"\"}, \"colorscale\": [[0.0, \"#0d0887\"], [0.1111111111111111, \"#46039f\"], [0.2222222222222222, \"#7201a8\"], [0.3333333333333333, \"#9c179e\"], [0.4444444444444444, \"#bd3786\"], [0.5555555555555556, \"#d8576b\"], [0.6666666666666666, \"#ed7953\"], [0.7777777777777778, \"#fb9f3a\"], [0.8888888888888888, \"#fdca26\"], [1.0, \"#f0f921\"]], \"type\": \"contour\"}], \"contourcarpet\": [{\"colorbar\": {\"outlinewidth\": 0, \"ticks\": \"\"}, \"type\": \"contourcarpet\"}], \"heatmap\": [{\"colorbar\": {\"outlinewidth\": 0, \"ticks\": \"\"}, \"colorscale\": [[0.0, \"#0d0887\"], [0.1111111111111111, \"#46039f\"], [0.2222222222222222, \"#7201a8\"], [0.3333333333333333, \"#9c179e\"], [0.4444444444444444, \"#bd3786\"], [0.5555555555555556, \"#d8576b\"], [0.6666666666666666, \"#ed7953\"], [0.7777777777777778, \"#fb9f3a\"], [0.8888888888888888, \"#fdca26\"], [1.0, \"#f0f921\"]], \"type\": \"heatmap\"}], \"heatmapgl\": [{\"colorbar\": {\"outlinewidth\": 0, \"ticks\": \"\"}, \"colorscale\": [[0.0, \"#0d0887\"], [0.1111111111111111, \"#46039f\"], [0.2222222222222222, \"#7201a8\"], [0.3333333333333333, \"#9c179e\"], [0.4444444444444444, \"#bd3786\"], [0.5555555555555556, \"#d8576b\"], [0.6666666666666666, \"#ed7953\"], [0.7777777777777778, \"#fb9f3a\"], [0.8888888888888888, \"#fdca26\"], [1.0, \"#f0f921\"]], \"type\": \"heatmapgl\"}], \"histogram\": [{\"marker\": {\"colorbar\": {\"outlinewidth\": 0, \"ticks\": \"\"}}, \"type\": \"histogram\"}], \"histogram2d\": [{\"colorbar\": {\"outlinewidth\": 0, \"ticks\": \"\"}, \"colorscale\": [[0.0, \"#0d0887\"], [0.1111111111111111, \"#46039f\"], [0.2222222222222222, \"#7201a8\"], [0.3333333333333333, \"#9c179e\"], [0.4444444444444444, \"#bd3786\"], [0.5555555555555556, \"#d8576b\"], [0.6666666666666666, \"#ed7953\"], [0.7777777777777778, \"#fb9f3a\"], [0.8888888888888888, \"#fdca26\"], [1.0, \"#f0f921\"]], \"type\": \"histogram2d\"}], \"histogram2dcontour\": [{\"colorbar\": {\"outlinewidth\": 0, \"ticks\": \"\"}, \"colorscale\": [[0.0, \"#0d0887\"], [0.1111111111111111, \"#46039f\"], [0.2222222222222222, \"#7201a8\"], [0.3333333333333333, \"#9c179e\"], [0.4444444444444444, \"#bd3786\"], [0.5555555555555556, \"#d8576b\"], [0.6666666666666666, \"#ed7953\"], [0.7777777777777778, \"#fb9f3a\"], [0.8888888888888888, \"#fdca26\"], [1.0, \"#f0f921\"]], \"type\": \"histogram2dcontour\"}], \"mesh3d\": [{\"colorbar\": {\"outlinewidth\": 0, \"ticks\": \"\"}, \"type\": \"mesh3d\"}], \"parcoords\": [{\"line\": {\"colorbar\": {\"outlinewidth\": 0, \"ticks\": \"\"}}, \"type\": \"parcoords\"}], \"pie\": [{\"automargin\": true, \"type\": \"pie\"}], \"scatter\": [{\"marker\": {\"colorbar\": {\"outlinewidth\": 0, \"ticks\": \"\"}}, \"type\": \"scatter\"}], \"scatter3d\": [{\"line\": {\"colorbar\": {\"outlinewidth\": 0, \"ticks\": \"\"}}, \"marker\": {\"colorbar\": {\"outlinewidth\": 0, \"ticks\": \"\"}}, \"type\": \"scatter3d\"}], \"scattercarpet\": [{\"marker\": {\"colorbar\": {\"outlinewidth\": 0, \"ticks\": \"\"}}, \"type\": \"scattercarpet\"}], \"scattergeo\": [{\"marker\": {\"colorbar\": {\"outlinewidth\": 0, \"ticks\": \"\"}}, \"type\": \"scattergeo\"}], \"scattergl\": [{\"marker\": {\"colorbar\": {\"outlinewidth\": 0, \"ticks\": \"\"}}, \"type\": \"scattergl\"}], \"scattermapbox\": [{\"marker\": {\"colorbar\": {\"outlinewidth\": 0, \"ticks\": \"\"}}, \"type\": \"scattermapbox\"}], \"scatterpolar\": [{\"marker\": {\"colorbar\": {\"outlinewidth\": 0, \"ticks\": \"\"}}, \"type\": \"scatterpolar\"}], \"scatterpolargl\": [{\"marker\": {\"colorbar\": {\"outlinewidth\": 0, \"ticks\": \"\"}}, \"type\": \"scatterpolargl\"}], \"scatterternary\": [{\"marker\": {\"colorbar\": {\"outlinewidth\": 0, \"ticks\": \"\"}}, \"type\": \"scatterternary\"}], \"surface\": [{\"colorbar\": {\"outlinewidth\": 0, \"ticks\": \"\"}, \"colorscale\": [[0.0, \"#0d0887\"], [0.1111111111111111, \"#46039f\"], [0.2222222222222222, \"#7201a8\"], [0.3333333333333333, \"#9c179e\"], [0.4444444444444444, \"#bd3786\"], [0.5555555555555556, \"#d8576b\"], [0.6666666666666666, \"#ed7953\"], [0.7777777777777778, \"#fb9f3a\"], [0.8888888888888888, \"#fdca26\"], [1.0, \"#f0f921\"]], \"type\": \"surface\"}], \"table\": [{\"cells\": {\"fill\": {\"color\": \"#EBF0F8\"}, \"line\": {\"color\": \"white\"}}, \"header\": {\"fill\": {\"color\": \"#C8D4E3\"}, \"line\": {\"color\": \"white\"}}, \"type\": \"table\"}]}, \"layout\": {\"annotationdefaults\": {\"arrowcolor\": \"#2a3f5f\", \"arrowhead\": 0, \"arrowwidth\": 1}, \"coloraxis\": {\"colorbar\": {\"outlinewidth\": 0, \"ticks\": \"\"}}, \"colorscale\": {\"diverging\": [[0, \"#8e0152\"], [0.1, \"#c51b7d\"], [0.2, \"#de77ae\"], [0.3, \"#f1b6da\"], [0.4, \"#fde0ef\"], [0.5, \"#f7f7f7\"], [0.6, \"#e6f5d0\"], [0.7, \"#b8e186\"], [0.8, \"#7fbc41\"], [0.9, \"#4d9221\"], [1, \"#276419\"]], \"sequential\": [[0.0, \"#0d0887\"], [0.1111111111111111, \"#46039f\"], [0.2222222222222222, \"#7201a8\"], [0.3333333333333333, \"#9c179e\"], [0.4444444444444444, \"#bd3786\"], [0.5555555555555556, \"#d8576b\"], [0.6666666666666666, \"#ed7953\"], [0.7777777777777778, \"#fb9f3a\"], [0.8888888888888888, \"#fdca26\"], [1.0, \"#f0f921\"]], \"sequentialminus\": [[0.0, \"#0d0887\"], [0.1111111111111111, \"#46039f\"], [0.2222222222222222, \"#7201a8\"], [0.3333333333333333, \"#9c179e\"], [0.4444444444444444, \"#bd3786\"], [0.5555555555555556, \"#d8576b\"], [0.6666666666666666, \"#ed7953\"], [0.7777777777777778, \"#fb9f3a\"], [0.8888888888888888, \"#fdca26\"], [1.0, \"#f0f921\"]]}, \"colorway\": [\"#636efa\", \"#EF553B\", \"#00cc96\", \"#ab63fa\", \"#FFA15A\", \"#19d3f3\", \"#FF6692\", \"#B6E880\", \"#FF97FF\", \"#FECB52\"], \"font\": {\"color\": \"#2a3f5f\"}, \"geo\": {\"bgcolor\": \"white\", \"lakecolor\": \"white\", \"landcolor\": \"#E5ECF6\", \"showlakes\": true, \"showland\": true, \"subunitcolor\": \"white\"}, \"hoverlabel\": {\"align\": \"left\"}, \"hovermode\": \"closest\", \"mapbox\": {\"style\": \"light\"}, \"paper_bgcolor\": \"white\", \"plot_bgcolor\": \"#E5ECF6\", \"polar\": {\"angularaxis\": {\"gridcolor\": \"white\", \"linecolor\": \"white\", \"ticks\": \"\"}, \"bgcolor\": \"#E5ECF6\", \"radialaxis\": {\"gridcolor\": \"white\", \"linecolor\": \"white\", \"ticks\": \"\"}}, \"scene\": {\"xaxis\": {\"backgroundcolor\": \"#E5ECF6\", \"gridcolor\": \"white\", \"gridwidth\": 2, \"linecolor\": \"white\", \"showbackground\": true, \"ticks\": \"\", \"zerolinecolor\": \"white\"}, \"yaxis\": {\"backgroundcolor\": \"#E5ECF6\", \"gridcolor\": \"white\", \"gridwidth\": 2, \"linecolor\": \"white\", \"showbackground\": true, \"ticks\": \"\", \"zerolinecolor\": \"white\"}, \"zaxis\": {\"backgroundcolor\": \"#E5ECF6\", \"gridcolor\": \"white\", \"gridwidth\": 2, \"linecolor\": \"white\", \"showbackground\": true, \"ticks\": \"\", \"zerolinecolor\": \"white\"}}, \"shapedefaults\": {\"line\": {\"color\": \"#2a3f5f\"}}, \"ternary\": {\"aaxis\": {\"gridcolor\": \"white\", \"linecolor\": \"white\", \"ticks\": \"\"}, \"baxis\": {\"gridcolor\": \"white\", \"linecolor\": \"white\", \"ticks\": \"\"}, \"bgcolor\": \"#E5ECF6\", \"caxis\": {\"gridcolor\": \"white\", \"linecolor\": \"white\", \"ticks\": \"\"}}, \"title\": {\"x\": 0.05}, \"xaxis\": {\"automargin\": true, \"gridcolor\": \"white\", \"linecolor\": \"white\", \"ticks\": \"\", \"title\": {\"standoff\": 15}, \"zerolinecolor\": \"white\", \"zerolinewidth\": 2}, \"yaxis\": {\"automargin\": true, \"gridcolor\": \"white\", \"linecolor\": \"white\", \"ticks\": \"\", \"title\": {\"standoff\": 15}, \"zerolinecolor\": \"white\", \"zerolinewidth\": 2}}}, \"width\": 600, \"xaxis\": {\"anchor\": \"y\", \"domain\": [0.0, 1.0], \"title\": {\"text\": \"x\"}}, \"yaxis\": {\"anchor\": \"x\", \"domain\": [0.0, 1.0], \"title\": {\"text\": \"y\"}}},\n",
              "                        {\"responsive\": true}\n",
              "                    ).then(function(){\n",
              "                            \n",
              "var gd = document.getElementById('3a54e3e3-d796-4fc1-bc32-7d8683e184a0');\n",
              "var x = new MutationObserver(function (mutations, observer) {{\n",
              "        var display = window.getComputedStyle(gd).display;\n",
              "        if (!display || display === 'none') {{\n",
              "            console.log([gd, 'removed!']);\n",
              "            Plotly.purge(gd);\n",
              "            observer.disconnect();\n",
              "        }}\n",
              "}});\n",
              "\n",
              "// Listen for the removal of the full notebook cells\n",
              "var notebookContainer = gd.closest('#notebook-container');\n",
              "if (notebookContainer) {{\n",
              "    x.observe(notebookContainer, {childList: true});\n",
              "}}\n",
              "\n",
              "// Listen for the clearing of the current output cell\n",
              "var outputEl = gd.closest('.output');\n",
              "if (outputEl) {{\n",
              "    x.observe(outputEl, {childList: true});\n",
              "}}\n",
              "\n",
              "                        })\n",
              "                };\n",
              "                \n",
              "            </script>\n",
              "        </div>\n",
              "</body>\n",
              "</html>"
            ]
          },
          "metadata": {
            "tags": []
          }
        }
      ]
    },
    {
      "cell_type": "code",
      "metadata": {
        "colab": {
          "base_uri": "https://localhost:8080/",
          "height": 517
        },
        "id": "G7ZA5XVieZkY",
        "outputId": "ad0942bb-b4ca-4d46-c46d-99bccbdd8848"
      },
      "source": [
        "fig = px.scatter(x = user_meta_df['age'],\n",
        "                 y = user_meta_df['recommended_cnt'])\n",
        "fig.update_layout(width = 600, height = 500)\n",
        "fig.show()"
      ],
      "execution_count": 149,
      "outputs": [
        {
          "output_type": "display_data",
          "data": {
            "text/html": [
              "<html>\n",
              "<head><meta charset=\"utf-8\" /></head>\n",
              "<body>\n",
              "    <div>\n",
              "            <script src=\"https://cdnjs.cloudflare.com/ajax/libs/mathjax/2.7.5/MathJax.js?config=TeX-AMS-MML_SVG\"></script><script type=\"text/javascript\">if (window.MathJax) {MathJax.Hub.Config({SVG: {font: \"STIX-Web\"}});}</script>\n",
              "                <script type=\"text/javascript\">window.PlotlyConfig = {MathJaxConfig: 'local'};</script>\n",
              "        <script src=\"https://cdn.plot.ly/plotly-latest.min.js\"></script>    \n",
              "            <div id=\"10c8e5ec-b58e-4b80-80fa-5f19229d0200\" class=\"plotly-graph-div\" style=\"height:500px; width:600px;\"></div>\n",
              "            <script type=\"text/javascript\">\n",
              "                \n",
              "                    window.PLOTLYENV=window.PLOTLYENV || {};\n",
              "                    \n",
              "                if (document.getElementById(\"10c8e5ec-b58e-4b80-80fa-5f19229d0200\")) {\n",
              "                    Plotly.newPlot(\n",
              "                        '10c8e5ec-b58e-4b80-80fa-5f19229d0200',\n",
              "                        [{\"hoverlabel\": {\"namelength\": 0}, \"hovertemplate\": \"x=%{x}<br>y=%{y}\", \"legendgroup\": \"\", \"marker\": {\"color\": \"#636efa\", \"symbol\": \"circle\"}, \"mode\": \"markers\", \"name\": \"\", \"showlegend\": false, \"type\": \"scattergl\", \"x\": [27, 27, 23, 24, 23, 27, 28, 26, 27, 23, 23, 28, 27, 28, 27, 28, 25, 28, 26, 22, 26, 26, 25, 27, 25, 22, 26, 27, 27, 25, 25, 22, 26, 25, 25, 29, 24, 25, 27, 29, 24, 24, 25, 26, 28, 27, 25, 26, 23, 22, 19, 27, 29, 25, 23, 28, 27, 24, 25, 24, 24, 22, 29, 24, 23, 26, 27, 26, 26, 24, 29, 26, 27, 28, 22, 23, 25, 29, 27, 25, 28, 30, 23, 26, 26, 27, 21, 28, 27, 24, 27, 31, 23, 28, 25, 23, 25, 26, 29, 23, 25, 27, 23, 24, 26, 27, 25, 28, 27, 26, 26, 21, 22, 24, 27, 25, 27, 24, 25, 24, 25, 29, 26, 29, 27, 25, 22, 28, 26, 23, 22, 26, 29, 26, 27, 23, 28, 26, 24, 26, 23, 28, 25, 25, 28, 26, 26, 22, 25, 26, 23, 22, 27, 23, 26, 26, 28, 27, 29, 27, 27, 24, 25, 27, 29, 24, 25, 26, 26, 23, 23, 25, 25, 26, 27, 26, 30, 31, 32, 26, 30, 33, 37, 31, 33, 27, 30, 27, 32, 32, 31, 27, 33, 34, 28, 32, 32, 34, 31, 29, 31, 31, 30, 32, 33, 29, 33, 29, 34, 30, 30, 35, 32, 29, 29, 31, 32, 30, 33, 31, 33, 33, 30, 29, 29, 31, 31, 30, 31, 29, 31, 34, 30, 33, 30, 26, 32, 33, 31, 32, 27, 35, 34, 33, 35, 29, 34, 31, 29, 32, 29, 38, 29, 32, 28, 30, 30, 29, 38, 35, 32, 30, 33, 30, 40, 32, 35, 30, 34, 30, 33, 28, 27, 35, 30, 34, 29, 31, 31, 30, 34, 35, 31, 29, 28, 34, 33, 31, 30, 32, 31, 29, 32, 34, 33, 30, 32, 30, 33, 36, 32, 34, 33, 26, 23, 27, 36, 35, 36, 32, 30, 28, 34, 31, 36, 34, 30, 34, 34, 33, 30, 27, 31, 31, 31, 31, 33, 31, 40, 32, 31, 35, 34, 30, 36, 32, 26, 29, 35, 31, 28, 32, 27, 25, 28, 37, 30, 28, 28, 26, 36, 31, 32, 32, 33, 31, 33, 38, 31, 33, 31, 29, 32, 30, 34, 31, 32, 34, 33, 28, 31, 34, 31, 31, 32, 27, 28, 30, 30, 28, 31, 34, 32, 33, 31, 29, 32, 30, 31, 34, 29, 33, 30, 30, 30, 32, 42, 42, 43, 40, 42, 39, 51, 47, 46, 47, 47, 37, 45, 45, 47, 38, 36, 42, 42, 40, 45, 44, 48, 43, 38, 41, 43, 44, 46, 40, 39, 47, 39, 39, 45, 36, 36, 36, 47, 38, 32, 48, 43, 46, 44, 45, 43, 42, 47, 50, 42, 37, 48, 44, 42, 51, 36, 44, 46, 38, 45, 42, 38, 37, 52, 49, 42, 38, 50, 46, 45, 44, 45, 41, 50, 41, 42, 39, 39, 49, 40, 36, 39, 47, 43, 45, 37, 35, 41, 46, 50, 46, 45, 41, 42, 40, 47, 44, 44, 47, 44, 45, 36, 40, 46, 43, 43, 40, 40, 44, 43, 38, 38, 42, 39, 38, 41, 43, 37, 43, 34, 45, 35, 37, 45, 43, 43, 37, 50, 42, 48, 37, 47, 37, 45, 45, 38, 54, 48, 49, 48, 41, 46, 43, 51, 44, 44, 38, 32, 41, 42, 46, 38, 42, 47, 39, 42, 41, 37, 43, 42, 40, 45, 38, 44, 46, 44, 40, 44, 40, 46, 41, 47, 43, 43, 41, 46, 44, 34, 45, 48, 47, 37, 44, 49, 43, 39, 53, 49, 47, 50, 45, 46, 40, 43, 32, 37, 49, 38, 41, 34, 46, 54, 43, 49, 37, 38, 40, 47, 39, 43, 49, 41, 32, 46, 47, 40, 50, 42, 44, 43, 44, 36, 44, 40, 45, 45, 46, 44, 36, 28, 28, 27, 26, 26, 26, 27, 24, 26, 22, 26, 25, 22, 25, 29, 23, 25, 21, 24, 26, 22, 30, 23, 26, 28, 26, 24, 26, 26, 26, 22, 23, 27, 25, 28, 25, 23, 26, 27, 24, 21, 25, 23, 29, 26, 28, 29, 23, 24, 30, 26, 25, 27, 27, 24, 28, 25, 26, 27, 24, 24, 24, 30, 28, 27, 28, 26, 24, 27, 24, 29, 26, 30, 25, 21, 29, 31, 26, 24, 26, 21, 25, 24, 25, 28, 28, 28, 24, 25, 31, 26, 20, 26, 24, 32, 29, 30, 26, 25, 26, 24, 23, 28, 27, 27, 29, 26, 26, 24, 29, 24, 31, 27, 23, 24, 23, 22, 23, 29, 31, 25, 27, 48, 45, 31, 24, 46, 48, 21, 22, 20, 25, 22, 50, 42, 43, 33, 30, 29, 34, 37, 30, 23, 35, 26, 24, 47, 24, 45, 39, 49, 42, 29, 40, 46, 25, 32, 32, 37, 29, 27, 21, 26, 19, 33, 22, 38, 25, 27, 31, 42, 30, 28, 26, 24, 27, 25, 31, 52, 26, 27, 34, 25, 46, 25, 26, 24, 27, 23, 31, 23, 26, 32, 25, 49, 36, 44, 21, 26, 25, 43, 39, 25, 51, 25, 30, 22, 26, 37, 39, 25, 26, 32, 29, 25, 25, 26, 42, 29, 36, 32, 21, 43, 36, 47, 38, 23, 26, 33, 38, 23, 26, 33, 27, 18, 52, 23, 26, 32, 28, 23, 25, 28, 28, 37, 42, 27, 41, 28, 22, 37, 31, 27, 50, 28, 38, 45, 24, 33, 35, 35, 34, 32, 29, 32, 28, 26, 26, 28, 28, 31, 26, 24, 22, 26, 43, 25, 21, 42, 40, 30, 32, 43, 31, 26, 27, 30, 24, 25, 25, 38, 23, 34, 25, 24, 23, 27, 27, 20, 32, 45, 42, 25, 25, 20, 26, 28, 26, 32, 26, 29, 22, 24, 27, 25, 28, 24, 27, 39, 25, 34, 25, 30, 25, 30, 27, 30, 27, 26, 23, 27, 29, 25, 24, 21, 40, 30, 26, 33, 25, 24, 23, 24, 25, 48, 33, 28, 24, 30, 24, 45, 30, 26, 30, 46, 29, 24, 29, 29, 25, 22, 32, 42, 31, 26, 23, 25, 24, 29, 45, 32, 26, 26, 27, 36, 39, 31, 31, 22, 48, 27, 43, 33, 23, 26, 39, 23, 29, 35, 28, 31, 24, 32, 24, 28, 32, 29, 30, 30, 38, 49, 27, 49, 25, 24, 51, 28, 24, 50, 23, 40, 25, 36, 32, 45, 37, 31, 33, 42, 42, 32, 30, 26, 28, 30, 23, 28, 39, 35, 27, 29, 27, 34, 28, 28, 31, 32, 33, 24, 25, 24, 33, 23, 23, 41, 30, 27, 27, 25, 29, 23, 32, 27, 21, 27, 45, 31, 30, 34, 31, 24, 33, 24, 26, 41, 26, 46, 22, 22, 27, 26, 27, 22, 26, 32, 25, 28, 32, 28, 40, 25, 26, 43, 22, 29, 27, 41, 26, 32, 25, 26, 46, 31, 31, 30, 27, 28, 45, 31, 25, 28, 31, 25, 32, 31, 41, 24, 27, 30, 25, 24, 38, 22, 26, 24, 39, 48, 34, 36, 45, 27, 47, 28, 25, 33, 23, 31, 33, 37, 29, 36, 26, 27, 43, 30, 52, 27, 30, 32, 24, 24, 30, 29, 22, 32, 27, 25, 41, 31, 27, 44, 24, 29, 26, 29, 24, 21, 30, 31, 29, 28, 24, 27, 38, 23, 24, 28, 29, 30, 28, 27, 23, 20, 42, 32, 22, 26, 23, 22, 36, 28, 25, 23, 26, 31, 31, 22, 26, 24, 41, 30, 24, 28, 24, 42, 25, 25, 27, 33, 31, 31, 31, 23, 22, 24, 26, 28, 46, 31, 26, 23, 37, 30, 27, 39, 24, 30, 30, 22, 26, 22, 32, 42, 31, 22, 26, 23, 47, 32, 20, 33, 25, 45, 23, 45, 25, 18, 23, 53, 46, 22, 38, 24, 27, 47, 31, 24, 43, 32, 29, 28, 28, 25, 25, 23, 43, 32, 29, 30, 29, 27, 26, 22, 28, 25, 21, 24, 44, 30, 27, 33, 30, 34, 24, 26, 28, 30, 27, 29, 29, 37, 45, 28, 42, 41, 46, 34, 23, 26, 46, 41, 24, 49, 32, 28, 28, 23, 44, 33, 33, 27, 31, 36, 25, 31, 46, 30, 30, 21, 42, 51, 27, 28, 25, 20, 46, 26, 30, 50, 26, 45, 31, 33, 40, 28, 48, 39, 25, 30, 26, 30, 27, 30, 30, 48, 30, 30, 29, 22, 32, 23, 34, 21, 22, 24, 54, 31, 36, 23, 28, 29, 44, 27, 33, 35, 29, 27, 21, 28, 47, 26, 30, 27, 27, 46, 47, 32, 27, 32, 25, 51, 36, 40, 23, 34, 31, 28, 23, 27, 32, 25, 24, 32, 28, 26, 34, 27, 23, 26, 45, 23, 40, 28, 31, 42, 31, 47, 28, 38, 31, 27, 45, 45, 28, 30, 26, 39, 23, 32, 28, 48, 30, 23, 22, 26, 25, 26, 40, 46, 34, 22, 24, 27, 34, 47, 39, 32, 26, 24, 31, 52, 42, 33, 26, 31, 22, 28, 47, 33, 27, 24, 29, 32, 25, 26, 27, 43, 43, 34, 32, 28, 27, 30, 39, 41, 49, 39, 35, 31, 44, 24, 28, 48, 25, 42, 40, 35, 21, 43, 22, 44, 45, 27, 27, 30, 41, 31, 32, 24, 31, 31, 34, 25, 31, 20, 48, 27, 27, 31, 33, 28, 27, 29, 29, 43, 25, 23, 38, 23, 20, 24, 23, 23, 30, 30, 29, 35, 28, 28, 27, 44, 21, 26, 34, 25, 26, 30, 28, 40, 24, 25, 27, 48, 32, 29, 32, 44, 47, 26, 33, 32, 43, 23, 25, 21, 26, 26, 40, 33, 29, 29, 32, 41, 27, 43, 25, 32, 45, 25, 25, 31, 34, 36, 27, 47, 40, 25, 28, 40, 27, 25, 27, 23, 27, 28, 26, 29, 26, 30, 30, 25, 40, 29, 29, 29, 20, 25, 46, 22, 31, 43, 26, 26, 30, 24, 26, 43, 23, 47, 43, 28, 32, 26, 25, 34, 24, 31, 24, 25, 45, 34, 33, 30, 24, 53, 25, 33, 26, 30, 36, 26, 34, 23, 27, 42, 25, 46, 33, 41, 41, 20, 25, 26, 32, 33, 31, 28, 24, 25, 33, 23, 22, 42, 28, 30, 26, 41, 40, 30, 24, 35, 47, 29, 27, 24, 29, 47, 28, 34, 32, 46, 36, 36, 32, 24, 35, 34, 40, 25, 20, 26, 31, 35, 34, 28, 24, 32, 25, 22, 49, 25, 29, 32, 27, 24, 46, 39, 25, 46, 38, 27, 32, 42, 25, 27, 27, 24, 41, 27, 19, 46, 25, 30, 25, 28, 30, 45, 34, 28, 24, 31, 32, 26, 32, 23, 31, 42, 42, 27, 33, 20, 31, 30, 34, 25, 42, 32, 29, 28, 32, 28, 24, 40, 39, 43, 25, 31, 26, 26, 25, 31, 42, 41, 36, 47, 40, 33, 28, 49, 25, 28, 25, 41, 48, 22, 41, 32, 32, 22, 39, 46, 31, 23, 31, 24, 26, 27, 23, 42, 26, 44, 30, 26, 29, 32, 28, 21, 35, 43, 24, 23, 29, 34, 31, 35, 40, 25, 29, 44, 22, 27, 32, 27, 25, 27, 28, 29, 28, 27, 32, 29, 25, 34, 24, 34, 23, 25, 45, 23, 28, 46, 25, 25, 26, 25, 22, 25, 24, 34, 26, 25, 23, 27, 29, 37, 31, 27, 25, 25, 32, 37, 28, 23, 35, 45, 41, 24, 40, 26, 28, 28, 28, 24, 26, 28, 27, 21, 41, 30, 48, 30, 36, 24, 23, 26, 28, 32, 27, 47, 40, 48, 28, 46, 53, 37, 39, 46, 26, 26, 44, 47, 24, 25, 24, 48, 26, 46, 45, 38, 40, 23, 46, 23, 27, 28, 32, 25, 28, 32, 27, 25, 23, 31, 33, 28, 25, 25, 50, 27, 42, 30, 25, 24, 42, 30, 34, 39, 26, 33, 25, 29, 27, 33, 49, 25, 22, 45, 48, 28, 41, 23, 32, 24, 29, 25, 30, 44, 47, 18, 43, 45, 34, 30, 29, 30, 34, 24, 25, 31, 33, 34, 43, 42, 39, 34, 23, 28, 31, 47, 32, 26, 29, 29, 29, 26, 26, 41, 26, 28, 30, 31, 31, 30, 31, 32, 24, 42, 28, 40, 31, 42, 32, 30, 46, 44, 42, 30, 26, 26, 44, 27, 20, 23, 32, 36, 23, 23, 28, 25, 27, 27, 52, 32, 30, 21, 23, 30, 31, 39, 31, 37, 29, 41, 25, 37, 27, 30, 31, 28, 24, 33, 29, 29, 34, 23, 26, 37, 38, 31, 45, 32, 29, 28, 39, 33, 25, 34, 23, 22, 40, 45, 25, 28, 28, 45, 31, 19, 34, 35, 22, 24, 23, 27, 29, 35, 26, 29, 27, 26, 27, 26, 33, 26, 29, 30, 27, 32, 33, 43, 30, 33, 31, 25, 31, 28, 32, 43, 48, 26, 30, 28, 42, 24, 30, 38, 31, 51, 37, 28, 32, 22, 47, 30, 27, 21, 26, 26, 31, 39, 31, 25, 31, 28, 30, 28, 28, 27, 25, 25, 28, 22, 34, 42, 24, 23, 25, 32, 28, 29, 36, 42, 27, 32, 45, 23, 26, 22, 27, 32, 28, 43, 23, 39, 30, 27, 31, 21, 26, 36, 24, 35, 47, 28, 26, 33, 33, 34, 24, 25, 44, 24, 25, 22, 44, 29, 43, 30, 32, 25, 33, 22, 40, 31, 30, 44, 23, 39, 27, 22, 39, 52, 37, 24, 25, 32, 28, 26, 47, 23, 33, 39, 25, 53, 46, 26, 38, 23, 26, 44, 29, 43, 45, 41, 25, 45, 40, 23, 47, 26, 46, 30, 30, 31, 44, 23, 24, 26, 22, 23, 40, 25, 27, 30, 31, 41, 29, 27, 43, 20, 42, 29, 23, 27, 26, 45, 23, 30, 30, 27, 29, 28, 27, 45, 34, 24, 40, 24, 44, 25, 37, 25, 23, 22, 22, 27, 28, 33, 31, 28, 27, 28, 24, 21, 24, 31, 27, 46, 29, 31, 31, 25, 30, 23, 47, 28, 51, 44, 36, 33, 35, 27, 23, 45, 40, 24, 33, 44, 30, 31, 26, 24, 28, 27, 22, 23, 25, 24, 27, 47, 25, 43, 25, 33, 44, 39, 46, 25, 29, 41, 27, 28, 28, 40, 44, 28, 28, 26, 33, 32, 35, 26, 26, 29, 33, 28, 27, 25, 28, 30, 29, 26, 28, 23, 29, 47, 31, 22, 28, 40, 29, 29, 25, 30, 45, 42, 51, 33, 33, 39, 25, 31, 35, 36, 24, 27, 40, 41, 28, 46, 26, 49, 24, 31, 27, 25, 44, 24, 47, 27, 35, 32, 27, 25, 24, 23, 25, 24, 28, 23, 33, 27, 26, 29, 50, 31, 43, 25, 37, 28, 27, 40, 24, 29, 26, 22, 25, 32, 26, 20, 27, 41, 25, 43, 27, 28, 27, 26, 24, 37, 41, 43, 30, 29, 36, 32, 36, 28, 26, 29, 35, 44, 30, 25, 18, 26, 33, 28, 32, 27, 29, 25, 31, 23, 25, 26, 23, 36, 28, 25, 38, 42, 40, 44, 44, 41, 42, 27, 29, 40, 24, 33, 24, 32, 23, 50, 28, 22, 30, 51, 36, 29, 23, 39, 22, 29, 26, 34, 27, 43, 33, 32, 25, 43, 45, 24, 33, 42, 27, 43, 27, 27, 23, 29, 36, 45, 22, 26, 30, 38, 33, 24, 19, 29, 35, 25, 29, 26, 47, 26, 42, 27, 27, 26, 26, 30, 26, 36, 28, 27, 41, 28, 42, 24, 38, 28, 50, 26, 43, 22, 30, 32, 22, 22, 18, 24, 22, 26, 25, 22, 29, 33, 24, 21, 30, 42, 24, 28, 23, 42, 28, 28, 24, 26, 25, 44, 19, 40, 29, 30, 43, 25, 30, 51, 24, 27, 28, 35, 28, 35, 26, 25, 53, 22, 26, 27, 23, 43, 40, 29, 24, 25, 25, 30, 41, 46, 26, 24, 28, 27, 46, 26, 34, 32, 29, 29, 45, 23, 27, 23, 30, 26, 36, 29, 30, 36, 43, 51, 29, 46, 22, 33, 31, 32, 27, 35, 22, 39, 40, 26, 42, 40, 32, 34, 24, 38, 26, 35, 31, 27, 22, 34, 24, 29, 26, 24, 28, 28, 29, 31, 46, 32, 30, 30, 28, 28, 29, 24, 22, 26, 30, 41, 23, 28, 49, 24, 40, 27, 48, 32, 36, 27, 26, 39, 21, 39, 38, 32, 28, 38, 32, 26, 31, 33, 27, 33, 36, 22, 23, 31, 27, 29, 30, 25, 23, 21, 24, 28, 25, 27, 35, 32, 46, 27, 20, 29, 31, 29, 28, 41, 38, 32, 36, 26, 28, 20, 28, 29, 46, 28, 31, 23, 26, 36, 31, 23, 28, 26, 30, 40, 26, 35, 31, 27, 40, 29, 28, 38, 42, 28, 28, 31, 25, 32, 53, 43, 24, 31, 26, 27, 38, 30, 25, 33, 30, 25, 39, 33, 41, 32, 47, 37, 28, 30, 24, 44, 28, 37, 32, 27, 51, 23, 24, 28, 24, 32, 39, 28, 49, 30, 26, 40, 39, 49, 24, 34, 26, 49, 24, 26, 24, 26, 22, 34, 29, 28, 29, 24, 41, 27, 24, 27, 23, 31, 27, 40, 28, 25, 31, 31, 33, 27, 37, 35, 42, 32, 28, 34, 48, 33, 40, 29, 23, 34, 24, 34, 25, 30, 32, 24, 29, 43, 28, 28, 27, 24, 24, 28, 30, 30, 25, 43, 35, 21, 31, 23, 25, 28, 27, 36, 37, 40, 23, 26, 25, 33, 25, 40, 28, 26, 20, 23, 31, 25, 45, 38, 47, 51, 36, 25, 28, 47, 31, 25, 27, 27, 34, 26, 49, 26, 28, 38, 27, 27, 27, 31, 26, 33, 21, 22, 24, 30, 27, 31, 39, 50, 26, 42, 26, 33, 43, 28, 35, 22, 31, 23, 26, 39, 45, 26, 44, 30, 30, 29, 24, 30, 22, 34, 31, 29, 37, 30, 32, 29, 33, 33, 41, 28, 30, 34, 31, 26, 28, 29, 24, 45, 26, 27, 25, 39, 25, 26, 30, 42, 42, 22, 32, 24, 26, 27, 20, 26, 33, 24, 22, 25, 46, 20, 51, 38, 35, 25, 24, 30, 32, 48, 26, 30, 28, 28, 29, 26, 25, 28, 30, 45, 25, 33, 28, 29, 28, 31, 23, 40, 26, 22, 25, 31, 20, 21, 32, 26, 24, 23, 31, 27, 31, 43, 21, 28, 38, 28, 33, 24, 47, 45, 27, 40, 24, 47, 43, 29, 33, 41, 33, 29, 45, 31, 34, 29, 48, 40, 22, 26, 23, 35, 55, 26, 38, 33, 27, 33, 24, 25, 24, 26, 31, 22, 26, 44, 31, 30, 30, 27, 32, 26, 31, 50, 24, 25, 43, 28, 28, 22, 23, 26, 35, 29, 25, 22, 31, 27, 49, 34, 31, 24, 25, 23, 28, 40, 29, 19, 31, 37, 29, 27, 45, 23, 25, 24, 28, 42, 32, 27, 45, 30, 26, 48, 46, 21, 36, 29, 37, 25, 33, 29, 46, 29, 26, 36, 45, 27, 29, 48, 44, 31, 26, 36, 49, 22, 38, 23, 31, 27, 48, 44, 46, 27, 29, 23, 23, 26, 26, 26, 27, 27, 24, 34, 35, 37, 45, 31, 28, 28, 41, 24, 41, 23, 32, 23, 23, 33, 29, 27, 21, 41, 37, 36, 25, 25, 31, 34, 27, 45, 45, 39, 42, 20, 20, 33, 31, 46, 24, 22, 42, 29, 26, 33, 44, 28, 24, 26, 35, 30, 46, 42, 33, 43, 34, 24, 25, 24, 24, 30, 41, 26, 24, 32, 30, 32, 30, 30, 37, 38, 26, 23, 26, 43, 32, 25, 50, 26, 33, 22, 19, 43, 29, 32, 33, 25, 27, 28, 24, 26, 28, 40, 27, 34, 45, 41, 26, 27, 28, 25, 30, 24, 29, 27, 28, 30, 26, 46, 29, 29, 27, 40, 41, 26, 26, 24, 22, 31, 30, 35, 34, 42, 31, 30, 46, 29, 27, 35, 32, 26, 45, 24, 49, 23, 25, 35, 30, 27, 24, 40, 46, 26, 38, 25, 43, 37, 46, 42, 24, 29, 23, 45, 43, 30, 44, 26, 26, 30, 27, 42, 23, 24, 25, 25, 32, 44, 22, 26, 26, 45, 39, 30, 49, 27, 25, 27, 32, 29, 42, 30, 27, 25, 26, 25, 40, 36, 21, 28, 48, 44, 22, 44, 22, 45, 31, 26, 27, 24, 24, 42, 28, 53, 30, 28, 23, 22, 33, 45, 47, 35, 26, 39, 38, 29, 25, 23, 31, 43, 29, 45, 24, 24, 27, 42, 28, 46, 30, 29, 24, 27, 27, 22, 38, 43, 46, 34, 35, 21, 25, 30, 25, 25, 38, 23, 28, 41, 25, 29, 25, 23, 23, 33, 33, 45, 28, 27, 26, 51, 43, 34, 21, 41, 32, 27, 25, 43, 22, 33, 24, 27, 22, 22, 33, 40, 25, 27, 44, 16, 27, 29, 26, 44, 32, 47, 25, 29, 28, 25, 27, 24, 45, 30, 33, 27, 27, 33, 31, 31, 26, 48, 26, 29, 48, 33, 41, 24, 24, 30, 27, 41, 44, 34, 24], \"xaxis\": \"x\", \"y\": [4, 1, 6, 2, 2, 0, 1, 0, 1, 5, 7, 4, 2, 1, 4, 0, 3, 3, 3, 3, 5, 4, 2, 2, 3, 4, 4, 4, 0, 2, 2, 3, 2, 2, 2, 2, 3, 0, 1, 1, 2, 1, 3, 2, 1, 0, 3, 3, 4, 2, 5, 3, 2, 3, 2, 2, 4, 4, 3, 3, 3, 4, 2, 2, 1, 3, 0, 4, 5, 5, 0, 4, 3, 2, 2, 1, 2, 0, 0, 4, 3, 1, 4, 3, 5, 2, 5, 3, 5, 1, 5, 3, 2, 2, 6, 1, 3, 1, 0, 5, 2, 0, 0, 4, 3, 2, 3, 1, 1, 2, 1, 0, 0, 3, 1, 2, 2, 4, 2, 2, 5, 0, 2, 1, 1, 1, 3, 2, 3, 4, 5, 1, 0, 2, 1, 3, 2, 4, 1, 2, 5, 3, 4, 3, 0, 2, 0, 2, 2, 0, 2, 3, 2, 3, 2, 4, 4, 5, 4, 0, 3, 2, 2, 2, 4, 2, 4, 5, 4, 5, 4, 4, 1, 6, 1, 1, 0, 2, 0, 0, 0, 8, 0, 1, 0, 0, 6, 0, 11, 1, 1, 4, 5, 0, 3, 0, 7, 1, 2, 0, 0, 5, 5, 0, 2, 3, 0, 2, 3, 0, 0, 0, 0, 8, 0, 6, 5, 9, 9, 0, 0, 0, 6, 0, 10, 0, 8, 5, 0, 3, 0, 3, 0, 0, 1, 0, 3, 3, 0, 5, 5, 11, 0, 9, 6, 4, 0, 1, 0, 5, 6, 2, 2, 0, 4, 0, 3, 0, 13, 1, 0, 0, 0, 4, 2, 9, 0, 0, 0, 3, 12, 7, 0, 0, 4, 3, 8, 0, 0, 0, 5, 4, 0, 5, 0, 0, 0, 3, 1, 10, 2, 0, 12, 0, 0, 4, 7, 14, 0, 5, 0, 0, 0, 6, 2, 1, 4, 0, 0, 0, 9, 1, 6, 1, 1, 0, 8, 10, 2, 0, 5, 2, 0, 13, 4, 0, 13, 4, 4, 1, 0, 2, 0, 2, 3, 12, 1, 10, 0, 0, 1, 0, 4, 5, 0, 2, 0, 1, 0, 9, 0, 0, 1, 8, 0, 0, 0, 2, 0, 7, 0, 3, 1, 1, 0, 11, 0, 2, 0, 12, 10, 9, 1, 0, 0, 0, 0, 11, 2, 2, 4, 0, 2, 4, 0, 4, 0, 5, 0, 14, 0, 0, 0, 0, 3, 10, 2, 0, 2, 4, 0, 2, 0, 1, 0, 0, 1, 0, 0, 0, 1, 0, 1, 0, 5, 2, 1, 0, 5, 5, 2, 0, 0, 0, 1, 0, 1, 3, 0, 0, 0, 0, 3, 0, 0, 0, 0, 2, 0, 0, 2, 0, 5, 2, 5, 0, 3, 0, 0, 0, 2, 0, 4, 0, 0, 1, 0, 0, 1, 5, 0, 1, 0, 0, 2, 2, 0, 0, 0, 1, 0, 0, 0, 2, 0, 0, 2, 0, 0, 0, 0, 6, 1, 0, 1, 0, 0, 0, 0, 0, 0, 0, 2, 0, 0, 0, 2, 6, 0, 1, 0, 0, 0, 0, 9, 1, 0, 4, 2, 5, 0, 5, 0, 0, 0, 0, 0, 0, 2, 0, 0, 0, 0, 0, 0, 0, 0, 0, 0, 0, 0, 4, 2, 0, 5, 0, 1, 0, 3, 0, 0, 0, 0, 1, 3, 0, 0, 0, 0, 2, 0, 0, 1, 0, 0, 0, 3, 0, 8, 0, 0, 2, 3, 2, 2, 3, 0, 4, 3, 1, 0, 0, 0, 1, 0, 0, 0, 0, 0, 0, 0, 3, 1, 0, 3, 0, 0, 0, 0, 4, 0, 0, 4, 1, 2, 0, 2, 4, 0, 0, 0, 2, 1, 4, 1, 3, 0, 3, 0, 5, 0, 0, 0, 0, 4, 0, 2, 0, 0, 0, 2, 4, 0, 0, 2, 0, 4, 3, 6, 4, 3, 2, 2, 4, 3, 5, 1, 4, 6, 3, 0, 3, 2, 4, 2, 2, 3, 0, 3, 3, 3, 3, 3, 1, 3, 2, 5, 0, 2, 2, 0, 1, 2, 3, 2, 2, 5, 1, 3, 2, 3, 3, 4, 4, 4, 4, 2, 3, 3, 1, 5, 3, 4, 3, 1, 3, 0, 2, 0, 0, 2, 0, 0, 4, 2, 2, 2, 0, 2, 0, 3, 0, 0, 5, 3, 0, 5, 4, 3, 2, 1, 2, 2, 2, 2, 1, 1, 4, 1, 0, 1, 1, 0, 1, 3, 3, 3, 3, 3, 2, 0, 3, 3, 1, 0, 3, 3, 4, 2, 3, 2, 4, 3, 4, 2, 0, 4, 0, 0, 0, 5, 5, 2, 0, 3, 3, 4, 4, 4, 0, 0, 0, 4, 5, 0, 3, 0, 18, 3, 0, 4, 3, 0, 2, 3, 0, 2, 1, 0, 0, 5, 4, 2, 0, 2, 10, 3, 6, 1, 5, 0, 4, 0, 3, 0, 0, 4, 0, 1, 1, 1, 3, 3, 0, 0, 2, 1, 1, 5, 2, 1, 2, 2, 2, 4, 1, 6, 3, 0, 3, 4, 0, 0, 5, 3, 4, 0, 1, 1, 0, 2, 1, 2, 2, 0, 1, 1, 1, 9, 0, 3, 5, 2, 0, 0, 0, 2, 1, 0, 1, 0, 2, 1, 0, 5, 0, 3, 2, 5, 3, 1, 0, 3, 3, 13, 3, 3, 2, 1, 2, 0, 2, 0, 0, 2, 2, 0, 6, 4, 0, 3, 0, 0, 4, 0, 4, 0, 6, 5, 2, 0, 4, 6, 3, 0, 2, 0, 1, 0, 3, 2, 1, 3, 4, 6, 2, 0, 7, 7, 0, 2, 5, 10, 1, 3, 2, 1, 3, 0, 1, 3, 1, 0, 9, 5, 0, 2, 5, 1, 2, 6, 1, 1, 4, 0, 0, 2, 1, 4, 0, 8, 0, 3, 1, 0, 0, 0, 4, 1, 2, 0, 1, 6, 5, 3, 5, 0, 5, 2, 3, 5, 0, 8, 3, 0, 2, 5, 3, 4, 2, 0, 0, 2, 5, 1, 4, 3, 0, 3, 6, 0, 2, 0, 2, 0, 0, 1, 0, 0, 12, 2, 3, 1, 7, 11, 0, 0, 2, 1, 1, 0, 1, 0, 0, 3, 0, 1, 0, 5, 2, 2, 0, 3, 2, 0, 2, 0, 4, 0, 2, 0, 3, 1, 0, 3, 0, 0, 9, 0, 4, 3, 1, 3, 2, 0, 4, 0, 2, 0, 5, 4, 0, 0, 7, 1, 0, 0, 7, 3, 1, 5, 5, 4, 0, 0, 0, 1, 0, 5, 3, 8, 1, 4, 0, 3, 3, 3, 7, 4, 1, 3, 10, 1, 2, 0, 0, 3, 5, 1, 4, 3, 1, 0, 0, 0, 5, 2, 10, 2, 2, 0, 3, 0, 2, 5, 3, 2, 0, 2, 3, 0, 4, 4, 0, 7, 2, 2, 3, 1, 2, 1, 5, 3, 1, 0, 4, 5, 3, 0, 0, 0, 1, 2, 0, 0, 2, 5, 0, 3, 0, 0, 1, 5, 2, 7, 2, 4, 3, 4, 1, 2, 0, 0, 2, 4, 7, 0, 0, 0, 0, 10, 5, 8, 0, 0, 5, 0, 2, 3, 5, 2, 1, 1, 0, 0, 4, 6, 6, 1, 4, 10, 6, 4, 0, 10, 3, 1, 5, 10, 2, 0, 0, 3, 0, 1, 0, 3, 2, 0, 0, 2, 3, 1, 3, 2, 3, 0, 2, 4, 1, 2, 1, 1, 3, 2, 5, 4, 4, 4, 3, 0, 1, 4, 0, 2, 0, 10, 3, 6, 3, 0, 3, 3, 2, 0, 2, 2, 11, 3, 4, 3, 2, 2, 7, 8, 7, 4, 0, 0, 3, 0, 1, 2, 0, 4, 3, 4, 10, 0, 6, 0, 3, 1, 0, 2, 3, 1, 4, 0, 4, 0, 4, 6, 4, 0, 3, 6, 0, 3, 0, 0, 6, 4, 0, 0, 3, 0, 2, 1, 1, 2, 0, 0, 0, 3, 1, 0, 4, 4, 0, 0, 6, 2, 1, 0, 1, 0, 1, 2, 3, 3, 8, 4, 3, 3, 3, 3, 2, 2, 0, 0, 0, 7, 3, 2, 3, 0, 5, 0, 4, 0, 1, 2, 1, 4, 0, 1, 2, 0, 2, 3, 0, 2, 0, 3, 0, 3, 5, 2, 5, 4, 5, 3, 5, 0, 0, 3, 0, 0, 4, 1, 3, 0, 4, 6, 3, 0, 3, 0, 4, 0, 3, 4, 0, 5, 2, 2, 3, 5, 5, 4, 0, 2, 4, 3, 0, 3, 0, 3, 0, 5, 4, 1, 4, 4, 0, 2, 0, 3, 0, 4, 0, 4, 3, 2, 2, 4, 3, 0, 2, 7, 3, 2, 2, 1, 0, 3, 2, 2, 2, 2, 0, 5, 2, 2, 0, 4, 0, 1, 0, 0, 0, 0, 2, 0, 0, 4, 4, 7, 2, 0, 1, 0, 7, 7, 5, 0, 8, 3, 2, 3, 5, 5, 0, 0, 7, 4, 3, 1, 0, 4, 2, 3, 2, 3, 4, 0, 1, 0, 0, 1, 5, 0, 2, 3, 2, 3, 3, 0, 2, 7, 2, 2, 1, 0, 6, 3, 8, 5, 1, 1, 0, 2, 7, 8, 0, 2, 0, 0, 1, 0, 0, 0, 2, 0, 3, 4, 0, 6, 0, 2, 6, 6, 1, 4, 1, 2, 6, 2, 8, 5, 7, 0, 0, 6, 5, 1, 0, 4, 0, 3, 4, 5, 6, 4, 3, 2, 1, 5, 0, 10, 1, 1, 1, 7, 15, 1, 4, 4, 0, 4, 2, 4, 3, 0, 3, 5, 1, 0, 0, 0, 2, 0, 1, 1, 11, 11, 4, 1, 2, 3, 3, 4, 2, 1, 0, 5, 4, 0, 0, 3, 1, 0, 0, 5, 2, 0, 0, 0, 2, 0, 10, 3, 2, 1, 2, 4, 1, 6, 0, 0, 3, 4, 0, 4, 5, 4, 0, 1, 2, 1, 2, 4, 0, 5, 7, 5, 2, 2, 0, 0, 2, 1, 3, 0, 0, 1, 3, 3, 1, 10, 3, 5, 5, 4, 0, 0, 5, 0, 3, 4, 2, 0, 1, 5, 0, 3, 6, 2, 1, 0, 3, 4, 4, 1, 0, 2, 0, 5, 9, 0, 1, 0, 3, 1, 1, 1, 4, 2, 2, 9, 3, 0, 0, 0, 2, 7, 0, 4, 0, 3, 2, 6, 2, 0, 2, 1, 0, 0, 0, 0, 2, 0, 0, 1, 5, 4, 13, 0, 1, 0, 1, 0, 3, 2, 1, 6, 7, 10, 2, 4, 0, 0, 3, 1, 12, 4, 3, 0, 1, 2, 3, 4, 0, 2, 6, 5, 0, 8, 5, 5, 0, 0, 0, 0, 2, 0, 0, 6, 0, 3, 6, 0, 5, 0, 9, 3, 4, 4, 4, 3, 2, 8, 4, 1, 4, 4, 3, 0, 0, 0, 3, 5, 3, 1, 3, 0, 1, 1, 0, 4, 4, 0, 2, 2, 4, 3, 4, 0, 0, 3, 1, 6, 0, 5, 1, 0, 8, 3, 7, 2, 5, 4, 5, 7, 3, 0, 0, 4, 5, 0, 1, 1, 5, 0, 2, 5, 2, 0, 1, 0, 3, 0, 3, 0, 4, 4, 3, 4, 3, 1, 3, 2, 2, 2, 2, 1, 3, 0, 4, 0, 4, 5, 2, 4, 0, 0, 4, 5, 4, 3, 3, 1, 5, 5, 3, 3, 4, 5, 1, 3, 11, 3, 3, 6, 0, 0, 3, 3, 0, 1, 0, 1, 5, 3, 0, 2, 2, 3, 1, 3, 0, 2, 0, 0, 0, 0, 8, 3, 4, 2, 2, 1, 3, 0, 4, 0, 2, 1, 0, 0, 0, 0, 1, 2, 5, 0, 5, 4, 3, 1, 4, 0, 3, 0, 0, 4, 0, 5, 3, 2, 0, 4, 0, 3, 5, 4, 2, 0, 1, 4, 2, 2, 3, 2, 0, 2, 4, 4, 0, 2, 0, 1, 2, 1, 2, 9, 2, 0, 0, 1, 2, 4, 0, 1, 2, 2, 5, 1, 3, 4, 0, 0, 0, 5, 0, 1, 2, 3, 0, 10, 0, 2, 3, 0, 11, 3, 7, 0, 0, 14, 3, 0, 0, 5, 1, 1, 0, 1, 3, 2, 0, 0, 1, 6, 1, 3, 3, 0, 8, 0, 3, 0, 4, 2, 2, 5, 5, 6, 0, 0, 1, 0, 4, 3, 2, 0, 2, 3, 0, 0, 2, 3, 3, 4, 3, 0, 4, 1, 3, 4, 2, 1, 0, 1, 2, 8, 3, 0, 3, 6, 3, 0, 7, 3, 3, 4, 2, 0, 0, 3, 4, 9, 2, 1, 0, 1, 9, 5, 0, 1, 2, 2, 3, 1, 3, 0, 3, 3, 4, 0, 9, 5, 10, 0, 2, 4, 6, 0, 0, 3, 1, 1, 0, 5, 1, 3, 0, 4, 0, 7, 1, 0, 2, 4, 4, 0, 5, 6, 0, 2, 5, 0, 0, 7, 3, 3, 0, 0, 2, 0, 0, 3, 7, 0, 4, 2, 4, 2, 5, 1, 3, 2, 6, 2, 10, 2, 6, 0, 0, 0, 3, 3, 5, 4, 2, 3, 0, 0, 5, 5, 5, 0, 1, 0, 4, 0, 2, 0, 0, 6, 3, 1, 3, 0, 1, 5, 4, 0, 1, 3, 7, 3, 5, 0, 0, 0, 3, 8, 3, 1, 5, 5, 1, 5, 0, 3, 4, 6, 0, 0, 1, 0, 3, 5, 2, 5, 0, 0, 0, 1, 3, 3, 5, 4, 0, 0, 3, 2, 3, 1, 3, 4, 0, 4, 4, 1, 5, 4, 0, 2, 4, 5, 3, 0, 4, 0, 5, 4, 3, 0, 1, 5, 0, 1, 0, 0, 2, 6, 0, 3, 4, 3, 3, 5, 0, 2, 1, 1, 1, 1, 0, 1, 0, 6, 1, 2, 1, 4, 4, 0, 4, 0, 0, 1, 0, 3, 4, 4, 4, 0, 1, 0, 0, 3, 4, 5, 3, 4, 1, 5, 0, 8, 7, 0, 0, 2, 3, 3, 3, 0, 0, 3, 2, 1, 0, 4, 6, 3, 0, 0, 7, 0, 0, 0, 0, 3, 3, 0, 0, 3, 0, 0, 0, 3, 2, 4, 4, 0, 3, 2, 0, 4, 1, 0, 1, 0, 1, 3, 0, 0, 0, 1, 0, 1, 2, 9, 2, 0, 0, 2, 2, 3, 0, 0, 6, 4, 1, 0, 7, 3, 1, 0, 0, 0, 4, 4, 1, 1, 2, 0, 0, 7, 4, 0, 0, 1, 2, 0, 0, 0, 0, 0, 0, 0, 3, 4, 9, 0, 4, 0, 0, 2, 1, 0, 2, 4, 4, 5, 3, 2, 2, 2, 0, 2, 0, 0, 2, 2, 3, 4, 4, 1, 1, 1, 13, 3, 5, 5, 3, 8, 5, 4, 0, 3, 2, 0, 3, 4, 1, 4, 5, 0, 0, 3, 4, 0, 0, 1, 1, 3, 1, 3, 4, 5, 0, 4, 0, 3, 0, 1, 0, 0, 2, 2, 0, 0, 11, 2, 5, 2, 0, 3, 8, 1, 1, 3, 0, 5, 4, 2, 2, 1, 1, 4, 4, 0, 0, 0, 0, 3, 0, 3, 1, 2, 5, 1, 3, 0, 2, 0, 0, 6, 4, 1, 1, 0, 3, 0, 4, 0, 1, 2, 4, 5, 0, 0, 4, 0, 2, 3, 7, 0, 2, 0, 0, 1, 3, 0, 2, 3, 2, 3, 7, 0, 1, 3, 4, 0, 0, 0, 0, 1, 0, 4, 0, 1, 1, 1, 3, 5, 5, 2, 4, 3, 0, 2, 0, 4, 0, 4, 0, 1, 1, 3, 7, 12, 5, 5, 4, 3, 4, 8, 0, 2, 0, 0, 3, 3, 0, 0, 3, 2, 2, 0, 2, 1, 4, 1, 3, 0, 3, 0, 11, 4, 0, 3, 1, 1, 4, 3, 2, 0, 5, 3, 1, 4, 0, 0, 4, 1, 4, 2, 1, 1, 5, 2, 3, 3, 3, 2, 4, 3, 4, 1, 0, 3, 0, 0, 0, 1, 0, 3, 2, 2, 12, 6, 1, 2, 0, 1, 0, 1, 1, 4, 7, 5, 2, 6, 0, 0, 6, 2, 1, 0, 2, 1, 5, 7, 2, 2, 0, 5, 0, 2, 2, 0, 6, 0, 5, 4, 0, 3, 2, 0, 4, 0, 3, 9, 3, 0, 4, 2, 1, 2, 1, 2, 2, 0, 0, 3, 0, 1, 0, 0, 0, 0, 3, 7, 2, 1, 0, 16, 2, 0, 0, 2, 0, 2, 2, 1, 6, 2, 4, 2, 6, 1, 2, 2, 6, 4, 4, 0, 1, 3, 0, 0, 0, 4, 4, 1, 1, 1, 2, 0, 0, 0, 0, 4, 7, 2, 2, 3, 0, 19, 0, 6, 3, 4, 0, 2, 1, 0, 11, 5, 1, 0, 0, 1, 0, 2, 1, 0, 0, 1, 2, 4, 3, 0, 0, 1, 2, 2, 2, 6, 0, 0, 1, 7, 9, 3, 0, 1, 0, 14, 1, 0, 0, 0, 3, 2, 3, 4, 3, 1, 0, 3, 5, 0, 0, 0, 2, 5, 0, 3, 4, 1, 0, 4, 3, 0, 2, 0, 3, 3, 4, 4, 4, 0, 5, 2, 3, 3, 0, 3, 6, 0, 3, 0, 1, 0, 0, 5, 13, 3, 1, 3, 0, 6, 0, 5, 4, 2, 3, 3, 0, 2, 3, 2, 1, 0, 2, 9, 0, 2, 3, 0, 3, 2, 4, 1, 3, 0, 0, 2, 5, 0, 0, 4, 8, 4, 0, 0, 0, 7, 0, 0, 4, 2, 0, 5, 1, 0, 1, 5, 2, 3, 3, 3, 4, 0, 3, 0, 0, 1, 0, 0, 0, 3, 3, 5, 2, 5, 1, 4, 2, 1, 2, 0, 1, 4, 3, 0, 1, 3, 2, 0, 3, 0, 1, 0, 3, 0, 3, 1, 1, 0, 2, 3, 5, 2, 0, 0, 2, 1, 0, 5, 0, 0, 4, 5, 4, 7, 2, 0, 0, 4, 4, 1, 3, 9, 0, 1, 0, 6, 1, 3, 3, 1, 3, 0, 4, 1, 1, 0, 2, 2, 0, 4, 0, 3, 0, 4, 3, 4, 4, 0, 4, 2, 2, 5, 0, 6, 0, 0, 4, 0, 5, 0, 4, 0, 3, 2, 0, 2, 0, 0, 5, 1, 0, 0, 2, 0, 1, 1, 3, 5, 1, 2, 4, 3, 6, 2, 4, 2, 2, 4, 2, 2, 4, 5, 0, 5, 4, 0, 0, 10, 6, 3, 1, 0, 5, 0, 3, 1, 4, 0, 0, 0, 0, 4, 0, 10, 0, 0, 0, 0, 2, 3, 4, 0, 6, 2, 0, 0, 0, 4, 1, 0, 3, 4, 6, 1, 3, 1, 1, 0, 3, 0, 8, 3, 0, 0, 3, 4, 3, 0, 1, 3, 3, 2, 6, 2, 3, 5, 4, 2, 0, 0, 8, 2, 1, 1, 5, 0, 4, 3, 9, 0, 2, 1, 0, 2, 0, 2, 4, 4, 1, 2, 0, 2, 3, 2, 3, 4, 0, 4, 1, 3, 1, 0, 0, 5, 0, 0, 1, 2, 1, 0, 6, 0, 0, 3, 1, 1, 1, 1, 0, 3, 0, 4, 0, 1, 0, 3, 2, 3, 4, 4, 6, 2, 4, 7, 0, 6, 0, 0, 2, 0, 0, 0, 0, 1, 0, 4, 3, 14, 1, 2, 4, 5, 0, 0, 4, 1, 7, 0, 1, 0, 1, 5, 0, 4, 4, 13, 5, 3, 3, 5, 0, 1, 2, 0, 0, 11, 3, 4, 4, 5, 1, 0, 1, 0, 0, 1, 6, 2, 2, 7, 0, 0, 1, 0, 1, 2, 0, 3, 0, 0, 4, 2, 2, 3, 0, 4, 1, 0, 0, 2, 7, 0, 3, 6, 0, 2, 3, 2, 1, 2, 2, 0, 4, 8, 0, 0, 4, 5, 2, 5, 1, 3, 5, 4, 0, 0, 1, 0, 3, 2, 0, 2, 0, 2, 2, 5, 4, 21, 3, 6, 3, 5, 2, 2, 0, 1, 1, 0, 10, 1, 5, 1, 0, 6, 4, 0, 8, 1, 0, 3, 0, 4, 0, 3, 5, 0, 0, 0, 3, 4, 5, 2, 3, 5, 0, 1, 4, 1, 1, 1, 2, 3, 3, 0, 3, 0, 2, 2, 1, 0, 1, 0, 0, 1, 3, 3, 0, 0, 2, 0, 0, 4, 2, 3, 2, 0, 4, 0, 2, 0, 4, 0, 4, 3, 8, 3, 3, 5, 2, 0, 2, 0, 9, 0, 4, 1, 0, 2, 0, 0, 3, 0, 0, 8, 3, 2, 0, 0, 1, 1, 2, 3, 1, 3, 0, 3, 0, 2, 2, 3, 3, 5, 0, 2, 0, 7, 0, 4, 2, 4, 3, 4, 1, 1, 1, 4, 3, 4, 2, 4, 5, 0, 4, 0, 1, 1, 0, 0, 2, 3, 4, 2, 0, 2, 3, 0, 3, 4, 3, 1, 2, 7, 0, 0, 4, 9, 4, 5, 2, 0, 1, 0, 4, 1, 2, 3, 0, 1, 3, 2, 0, 0, 3, 2, 2, 4, 1, 0, 3, 0, 3, 0, 0, 1, 7, 1, 3, 4, 3, 0, 0, 0, 2], \"yaxis\": \"y\"}],\n",
              "                        {\"height\": 500, \"legend\": {\"tracegroupgap\": 0}, \"margin\": {\"t\": 60}, \"template\": {\"data\": {\"bar\": [{\"error_x\": {\"color\": \"#2a3f5f\"}, \"error_y\": {\"color\": \"#2a3f5f\"}, \"marker\": {\"line\": {\"color\": \"#E5ECF6\", \"width\": 0.5}}, \"type\": \"bar\"}], \"barpolar\": [{\"marker\": {\"line\": {\"color\": \"#E5ECF6\", \"width\": 0.5}}, \"type\": \"barpolar\"}], \"carpet\": [{\"aaxis\": {\"endlinecolor\": \"#2a3f5f\", \"gridcolor\": \"white\", \"linecolor\": \"white\", \"minorgridcolor\": \"white\", \"startlinecolor\": \"#2a3f5f\"}, \"baxis\": {\"endlinecolor\": \"#2a3f5f\", \"gridcolor\": \"white\", \"linecolor\": \"white\", \"minorgridcolor\": \"white\", \"startlinecolor\": \"#2a3f5f\"}, \"type\": \"carpet\"}], \"choropleth\": [{\"colorbar\": {\"outlinewidth\": 0, \"ticks\": \"\"}, \"type\": \"choropleth\"}], \"contour\": [{\"colorbar\": {\"outlinewidth\": 0, \"ticks\": \"\"}, \"colorscale\": [[0.0, \"#0d0887\"], [0.1111111111111111, \"#46039f\"], [0.2222222222222222, \"#7201a8\"], [0.3333333333333333, \"#9c179e\"], [0.4444444444444444, \"#bd3786\"], [0.5555555555555556, \"#d8576b\"], [0.6666666666666666, \"#ed7953\"], [0.7777777777777778, \"#fb9f3a\"], [0.8888888888888888, \"#fdca26\"], [1.0, \"#f0f921\"]], \"type\": \"contour\"}], \"contourcarpet\": [{\"colorbar\": {\"outlinewidth\": 0, \"ticks\": \"\"}, \"type\": \"contourcarpet\"}], \"heatmap\": [{\"colorbar\": {\"outlinewidth\": 0, \"ticks\": \"\"}, \"colorscale\": [[0.0, \"#0d0887\"], [0.1111111111111111, \"#46039f\"], [0.2222222222222222, \"#7201a8\"], [0.3333333333333333, \"#9c179e\"], [0.4444444444444444, \"#bd3786\"], [0.5555555555555556, \"#d8576b\"], [0.6666666666666666, \"#ed7953\"], [0.7777777777777778, \"#fb9f3a\"], [0.8888888888888888, \"#fdca26\"], [1.0, \"#f0f921\"]], \"type\": \"heatmap\"}], \"heatmapgl\": [{\"colorbar\": {\"outlinewidth\": 0, \"ticks\": \"\"}, \"colorscale\": [[0.0, \"#0d0887\"], [0.1111111111111111, \"#46039f\"], [0.2222222222222222, \"#7201a8\"], [0.3333333333333333, \"#9c179e\"], [0.4444444444444444, \"#bd3786\"], [0.5555555555555556, \"#d8576b\"], [0.6666666666666666, \"#ed7953\"], [0.7777777777777778, \"#fb9f3a\"], [0.8888888888888888, \"#fdca26\"], [1.0, \"#f0f921\"]], \"type\": \"heatmapgl\"}], \"histogram\": [{\"marker\": {\"colorbar\": {\"outlinewidth\": 0, \"ticks\": \"\"}}, \"type\": \"histogram\"}], \"histogram2d\": [{\"colorbar\": {\"outlinewidth\": 0, \"ticks\": \"\"}, \"colorscale\": [[0.0, \"#0d0887\"], [0.1111111111111111, \"#46039f\"], [0.2222222222222222, \"#7201a8\"], [0.3333333333333333, \"#9c179e\"], [0.4444444444444444, \"#bd3786\"], [0.5555555555555556, \"#d8576b\"], [0.6666666666666666, \"#ed7953\"], [0.7777777777777778, \"#fb9f3a\"], [0.8888888888888888, \"#fdca26\"], [1.0, \"#f0f921\"]], \"type\": \"histogram2d\"}], \"histogram2dcontour\": [{\"colorbar\": {\"outlinewidth\": 0, \"ticks\": \"\"}, \"colorscale\": [[0.0, \"#0d0887\"], [0.1111111111111111, \"#46039f\"], [0.2222222222222222, \"#7201a8\"], [0.3333333333333333, \"#9c179e\"], [0.4444444444444444, \"#bd3786\"], [0.5555555555555556, \"#d8576b\"], [0.6666666666666666, \"#ed7953\"], [0.7777777777777778, \"#fb9f3a\"], [0.8888888888888888, \"#fdca26\"], [1.0, \"#f0f921\"]], \"type\": \"histogram2dcontour\"}], \"mesh3d\": [{\"colorbar\": {\"outlinewidth\": 0, \"ticks\": \"\"}, \"type\": \"mesh3d\"}], \"parcoords\": [{\"line\": {\"colorbar\": {\"outlinewidth\": 0, \"ticks\": \"\"}}, \"type\": \"parcoords\"}], \"pie\": [{\"automargin\": true, \"type\": \"pie\"}], \"scatter\": [{\"marker\": {\"colorbar\": {\"outlinewidth\": 0, \"ticks\": \"\"}}, \"type\": \"scatter\"}], \"scatter3d\": [{\"line\": {\"colorbar\": {\"outlinewidth\": 0, \"ticks\": \"\"}}, \"marker\": {\"colorbar\": {\"outlinewidth\": 0, \"ticks\": \"\"}}, \"type\": \"scatter3d\"}], \"scattercarpet\": [{\"marker\": {\"colorbar\": {\"outlinewidth\": 0, \"ticks\": \"\"}}, \"type\": \"scattercarpet\"}], \"scattergeo\": [{\"marker\": {\"colorbar\": {\"outlinewidth\": 0, \"ticks\": \"\"}}, \"type\": \"scattergeo\"}], \"scattergl\": [{\"marker\": {\"colorbar\": {\"outlinewidth\": 0, \"ticks\": \"\"}}, \"type\": \"scattergl\"}], \"scattermapbox\": [{\"marker\": {\"colorbar\": {\"outlinewidth\": 0, \"ticks\": \"\"}}, \"type\": \"scattermapbox\"}], \"scatterpolar\": [{\"marker\": {\"colorbar\": {\"outlinewidth\": 0, \"ticks\": \"\"}}, \"type\": \"scatterpolar\"}], \"scatterpolargl\": [{\"marker\": {\"colorbar\": {\"outlinewidth\": 0, \"ticks\": \"\"}}, \"type\": \"scatterpolargl\"}], \"scatterternary\": [{\"marker\": {\"colorbar\": {\"outlinewidth\": 0, \"ticks\": \"\"}}, \"type\": \"scatterternary\"}], \"surface\": [{\"colorbar\": {\"outlinewidth\": 0, \"ticks\": \"\"}, \"colorscale\": [[0.0, \"#0d0887\"], [0.1111111111111111, \"#46039f\"], [0.2222222222222222, \"#7201a8\"], [0.3333333333333333, \"#9c179e\"], [0.4444444444444444, \"#bd3786\"], [0.5555555555555556, \"#d8576b\"], [0.6666666666666666, \"#ed7953\"], [0.7777777777777778, \"#fb9f3a\"], [0.8888888888888888, \"#fdca26\"], [1.0, \"#f0f921\"]], \"type\": \"surface\"}], \"table\": [{\"cells\": {\"fill\": {\"color\": \"#EBF0F8\"}, \"line\": {\"color\": \"white\"}}, \"header\": {\"fill\": {\"color\": \"#C8D4E3\"}, \"line\": {\"color\": \"white\"}}, \"type\": \"table\"}]}, \"layout\": {\"annotationdefaults\": {\"arrowcolor\": \"#2a3f5f\", \"arrowhead\": 0, \"arrowwidth\": 1}, \"coloraxis\": {\"colorbar\": {\"outlinewidth\": 0, \"ticks\": \"\"}}, \"colorscale\": {\"diverging\": [[0, \"#8e0152\"], [0.1, \"#c51b7d\"], [0.2, \"#de77ae\"], [0.3, \"#f1b6da\"], [0.4, \"#fde0ef\"], [0.5, \"#f7f7f7\"], [0.6, \"#e6f5d0\"], [0.7, \"#b8e186\"], [0.8, \"#7fbc41\"], [0.9, \"#4d9221\"], [1, \"#276419\"]], \"sequential\": [[0.0, \"#0d0887\"], [0.1111111111111111, \"#46039f\"], [0.2222222222222222, \"#7201a8\"], [0.3333333333333333, \"#9c179e\"], [0.4444444444444444, \"#bd3786\"], [0.5555555555555556, \"#d8576b\"], [0.6666666666666666, \"#ed7953\"], [0.7777777777777778, \"#fb9f3a\"], [0.8888888888888888, \"#fdca26\"], [1.0, \"#f0f921\"]], \"sequentialminus\": [[0.0, \"#0d0887\"], [0.1111111111111111, \"#46039f\"], [0.2222222222222222, \"#7201a8\"], [0.3333333333333333, \"#9c179e\"], [0.4444444444444444, \"#bd3786\"], [0.5555555555555556, \"#d8576b\"], [0.6666666666666666, \"#ed7953\"], [0.7777777777777778, \"#fb9f3a\"], [0.8888888888888888, \"#fdca26\"], [1.0, \"#f0f921\"]]}, \"colorway\": [\"#636efa\", \"#EF553B\", \"#00cc96\", \"#ab63fa\", \"#FFA15A\", \"#19d3f3\", \"#FF6692\", \"#B6E880\", \"#FF97FF\", \"#FECB52\"], \"font\": {\"color\": \"#2a3f5f\"}, \"geo\": {\"bgcolor\": \"white\", \"lakecolor\": \"white\", \"landcolor\": \"#E5ECF6\", \"showlakes\": true, \"showland\": true, \"subunitcolor\": \"white\"}, \"hoverlabel\": {\"align\": \"left\"}, \"hovermode\": \"closest\", \"mapbox\": {\"style\": \"light\"}, \"paper_bgcolor\": \"white\", \"plot_bgcolor\": \"#E5ECF6\", \"polar\": {\"angularaxis\": {\"gridcolor\": \"white\", \"linecolor\": \"white\", \"ticks\": \"\"}, \"bgcolor\": \"#E5ECF6\", \"radialaxis\": {\"gridcolor\": \"white\", \"linecolor\": \"white\", \"ticks\": \"\"}}, \"scene\": {\"xaxis\": {\"backgroundcolor\": \"#E5ECF6\", \"gridcolor\": \"white\", \"gridwidth\": 2, \"linecolor\": \"white\", \"showbackground\": true, \"ticks\": \"\", \"zerolinecolor\": \"white\"}, \"yaxis\": {\"backgroundcolor\": \"#E5ECF6\", \"gridcolor\": \"white\", \"gridwidth\": 2, \"linecolor\": \"white\", \"showbackground\": true, \"ticks\": \"\", \"zerolinecolor\": \"white\"}, \"zaxis\": {\"backgroundcolor\": \"#E5ECF6\", \"gridcolor\": \"white\", \"gridwidth\": 2, \"linecolor\": \"white\", \"showbackground\": true, \"ticks\": \"\", \"zerolinecolor\": \"white\"}}, \"shapedefaults\": {\"line\": {\"color\": \"#2a3f5f\"}}, \"ternary\": {\"aaxis\": {\"gridcolor\": \"white\", \"linecolor\": \"white\", \"ticks\": \"\"}, \"baxis\": {\"gridcolor\": \"white\", \"linecolor\": \"white\", \"ticks\": \"\"}, \"bgcolor\": \"#E5ECF6\", \"caxis\": {\"gridcolor\": \"white\", \"linecolor\": \"white\", \"ticks\": \"\"}}, \"title\": {\"x\": 0.05}, \"xaxis\": {\"automargin\": true, \"gridcolor\": \"white\", \"linecolor\": \"white\", \"ticks\": \"\", \"title\": {\"standoff\": 15}, \"zerolinecolor\": \"white\", \"zerolinewidth\": 2}, \"yaxis\": {\"automargin\": true, \"gridcolor\": \"white\", \"linecolor\": \"white\", \"ticks\": \"\", \"title\": {\"standoff\": 15}, \"zerolinecolor\": \"white\", \"zerolinewidth\": 2}}}, \"width\": 600, \"xaxis\": {\"anchor\": \"y\", \"domain\": [0.0, 1.0], \"title\": {\"text\": \"x\"}}, \"yaxis\": {\"anchor\": \"x\", \"domain\": [0.0, 1.0], \"title\": {\"text\": \"y\"}}},\n",
              "                        {\"responsive\": true}\n",
              "                    ).then(function(){\n",
              "                            \n",
              "var gd = document.getElementById('10c8e5ec-b58e-4b80-80fa-5f19229d0200');\n",
              "var x = new MutationObserver(function (mutations, observer) {{\n",
              "        var display = window.getComputedStyle(gd).display;\n",
              "        if (!display || display === 'none') {{\n",
              "            console.log([gd, 'removed!']);\n",
              "            Plotly.purge(gd);\n",
              "            observer.disconnect();\n",
              "        }}\n",
              "}});\n",
              "\n",
              "// Listen for the removal of the full notebook cells\n",
              "var notebookContainer = gd.closest('#notebook-container');\n",
              "if (notebookContainer) {{\n",
              "    x.observe(notebookContainer, {childList: true});\n",
              "}}\n",
              "\n",
              "// Listen for the clearing of the current output cell\n",
              "var outputEl = gd.closest('.output');\n",
              "if (outputEl) {{\n",
              "    x.observe(outputEl, {childList: true});\n",
              "}}\n",
              "\n",
              "                        })\n",
              "                };\n",
              "                \n",
              "            </script>\n",
              "        </div>\n",
              "</body>\n",
              "</html>"
            ]
          },
          "metadata": {
            "tags": []
          }
        }
      ]
    },
    {
      "cell_type": "code",
      "metadata": {
        "colab": {
          "base_uri": "https://localhost:8080/",
          "height": 136
        },
        "id": "6ZOxbJqle3cX",
        "outputId": "4a8ef27e-c0e2-47d3-8c2b-9b3caededb02"
      },
      "source": [
        "user_meta_df.pivot_table(\n",
        "    values = 'user_id',\n",
        "    index = 'sex',\n",
        "    columns = 'join_path',\n",
        "    aggfunc = 'count'\n",
        ")"
      ],
      "execution_count": 150,
      "outputs": [
        {
          "output_type": "execute_result",
          "data": {
            "text/html": [
              "<div>\n",
              "<style scoped>\n",
              "    .dataframe tbody tr th:only-of-type {\n",
              "        vertical-align: middle;\n",
              "    }\n",
              "\n",
              "    .dataframe tbody tr th {\n",
              "        vertical-align: top;\n",
              "    }\n",
              "\n",
              "    .dataframe thead th {\n",
              "        text-align: right;\n",
              "    }\n",
              "</style>\n",
              "<table border=\"1\" class=\"dataframe\">\n",
              "  <thead>\n",
              "    <tr style=\"text-align: right;\">\n",
              "      <th>join_path</th>\n",
              "      <th>0.0</th>\n",
              "      <th>1.0</th>\n",
              "    </tr>\n",
              "    <tr>\n",
              "      <th>sex</th>\n",
              "      <th></th>\n",
              "      <th></th>\n",
              "    </tr>\n",
              "  </thead>\n",
              "  <tbody>\n",
              "    <tr>\n",
              "      <th>0</th>\n",
              "      <td>1253</td>\n",
              "      <td>240</td>\n",
              "    </tr>\n",
              "    <tr>\n",
              "      <th>1</th>\n",
              "      <td>1635</td>\n",
              "      <td>284</td>\n",
              "    </tr>\n",
              "  </tbody>\n",
              "</table>\n",
              "</div>"
            ],
            "text/plain": [
              "join_path   0.0  1.0\n",
              "sex                 \n",
              "0          1253  240\n",
              "1          1635  284"
            ]
          },
          "metadata": {
            "tags": []
          },
          "execution_count": 150
        }
      ]
    },
    {
      "cell_type": "markdown",
      "metadata": {
        "id": "YQSM_gMwfcH-"
      },
      "source": [
        "## Data Cleansing"
      ]
    },
    {
      "cell_type": "code",
      "metadata": {
        "colab": {
          "base_uri": "https://localhost:8080/",
          "height": 195
        },
        "id": "3G2oFJqZfNsH",
        "outputId": "dffba111-a2bb-4c34-bbe8-aa2148fff6da"
      },
      "source": [
        "# numeric type 만 남기기\n",
        "numerics_types = ['int64' , 'int32', 'int16', 'float64', 'float32','float16']\n",
        "user_numeric_df = user_meta_df.select_dtypes(include=numerics_types)\n",
        "user_numeric_df.head()"
      ],
      "execution_count": 152,
      "outputs": [
        {
          "output_type": "execute_result",
          "data": {
            "text/html": [
              "<div>\n",
              "<style scoped>\n",
              "    .dataframe tbody tr th:only-of-type {\n",
              "        vertical-align: middle;\n",
              "    }\n",
              "\n",
              "    .dataframe tbody tr th {\n",
              "        vertical-align: top;\n",
              "    }\n",
              "\n",
              "    .dataframe thead th {\n",
              "        text-align: right;\n",
              "    }\n",
              "</style>\n",
              "<table border=\"1\" class=\"dataframe\">\n",
              "  <thead>\n",
              "    <tr style=\"text-align: right;\">\n",
              "      <th></th>\n",
              "      <th>sex</th>\n",
              "      <th>birthday_year</th>\n",
              "      <th>membership_type</th>\n",
              "      <th>category_prefer</th>\n",
              "      <th>join_path</th>\n",
              "      <th>recommended_cnt</th>\n",
              "      <th>age</th>\n",
              "      <th>days_from_joined</th>\n",
              "      <th>years_from_joined</th>\n",
              "      <th>if_deleted</th>\n",
              "    </tr>\n",
              "  </thead>\n",
              "  <tbody>\n",
              "    <tr>\n",
              "      <th>0</th>\n",
              "      <td>0</td>\n",
              "      <td>1995</td>\n",
              "      <td>300</td>\n",
              "      <td>3</td>\n",
              "      <td>0.0</td>\n",
              "      <td>4</td>\n",
              "      <td>27</td>\n",
              "      <td>480</td>\n",
              "      <td>1.3</td>\n",
              "      <td>0</td>\n",
              "    </tr>\n",
              "    <tr>\n",
              "      <th>1</th>\n",
              "      <td>1</td>\n",
              "      <td>1995</td>\n",
              "      <td>300</td>\n",
              "      <td>2</td>\n",
              "      <td>0.0</td>\n",
              "      <td>1</td>\n",
              "      <td>27</td>\n",
              "      <td>263</td>\n",
              "      <td>0.7</td>\n",
              "      <td>0</td>\n",
              "    </tr>\n",
              "    <tr>\n",
              "      <th>2</th>\n",
              "      <td>1</td>\n",
              "      <td>1999</td>\n",
              "      <td>300</td>\n",
              "      <td>4</td>\n",
              "      <td>0.0</td>\n",
              "      <td>6</td>\n",
              "      <td>23</td>\n",
              "      <td>745</td>\n",
              "      <td>2.0</td>\n",
              "      <td>0</td>\n",
              "    </tr>\n",
              "    <tr>\n",
              "      <th>3</th>\n",
              "      <td>0</td>\n",
              "      <td>1998</td>\n",
              "      <td>300</td>\n",
              "      <td>7</td>\n",
              "      <td>0.0</td>\n",
              "      <td>2</td>\n",
              "      <td>24</td>\n",
              "      <td>716</td>\n",
              "      <td>2.0</td>\n",
              "      <td>0</td>\n",
              "    </tr>\n",
              "    <tr>\n",
              "      <th>4</th>\n",
              "      <td>1</td>\n",
              "      <td>1999</td>\n",
              "      <td>300</td>\n",
              "      <td>6</td>\n",
              "      <td>0.0</td>\n",
              "      <td>2</td>\n",
              "      <td>23</td>\n",
              "      <td>422</td>\n",
              "      <td>1.2</td>\n",
              "      <td>0</td>\n",
              "    </tr>\n",
              "  </tbody>\n",
              "</table>\n",
              "</div>"
            ],
            "text/plain": [
              "   sex  birthday_year  membership_type  category_prefer  join_path  \\\n",
              "0    0           1995              300                3        0.0   \n",
              "1    1           1995              300                2        0.0   \n",
              "2    1           1999              300                4        0.0   \n",
              "3    0           1998              300                7        0.0   \n",
              "4    1           1999              300                6        0.0   \n",
              "\n",
              "   recommended_cnt  age  days_from_joined  years_from_joined  if_deleted  \n",
              "0                4   27               480                1.3           0  \n",
              "1                1   27               263                0.7           0  \n",
              "2                6   23               745                2.0           0  \n",
              "3                2   24               716                2.0           0  \n",
              "4                2   23               422                1.2           0  "
            ]
          },
          "metadata": {
            "tags": []
          },
          "execution_count": 152
        }
      ]
    },
    {
      "cell_type": "code",
      "metadata": {
        "colab": {
          "base_uri": "https://localhost:8080/",
          "height": 106
        },
        "id": "1OHPo174f1xQ",
        "outputId": "60081bd1-6f53-4c5a-b977-85a38ab05de9"
      },
      "source": [
        "# Binary 변수 제거 하자\n",
        "user_binary_cols = [col for col in user_numeric_df if np.isin(user_numeric_df[col].unique(), [0,1]).all()] # np.isin 이 안에 값이 해당하는 지 묻는 함수 \n",
        "user_numeric_df.drop(user_binary_cols, axis=1, inplace=True)\n",
        "user_numeric_df.head(2)"
      ],
      "execution_count": 156,
      "outputs": [
        {
          "output_type": "execute_result",
          "data": {
            "text/html": [
              "<div>\n",
              "<style scoped>\n",
              "    .dataframe tbody tr th:only-of-type {\n",
              "        vertical-align: middle;\n",
              "    }\n",
              "\n",
              "    .dataframe tbody tr th {\n",
              "        vertical-align: top;\n",
              "    }\n",
              "\n",
              "    .dataframe thead th {\n",
              "        text-align: right;\n",
              "    }\n",
              "</style>\n",
              "<table border=\"1\" class=\"dataframe\">\n",
              "  <thead>\n",
              "    <tr style=\"text-align: right;\">\n",
              "      <th></th>\n",
              "      <th>birthday_year</th>\n",
              "      <th>membership_type</th>\n",
              "      <th>category_prefer</th>\n",
              "      <th>recommended_cnt</th>\n",
              "      <th>age</th>\n",
              "      <th>days_from_joined</th>\n",
              "      <th>years_from_joined</th>\n",
              "    </tr>\n",
              "  </thead>\n",
              "  <tbody>\n",
              "    <tr>\n",
              "      <th>0</th>\n",
              "      <td>1995</td>\n",
              "      <td>300</td>\n",
              "      <td>3</td>\n",
              "      <td>4</td>\n",
              "      <td>27</td>\n",
              "      <td>480</td>\n",
              "      <td>1.3</td>\n",
              "    </tr>\n",
              "    <tr>\n",
              "      <th>1</th>\n",
              "      <td>1995</td>\n",
              "      <td>300</td>\n",
              "      <td>2</td>\n",
              "      <td>1</td>\n",
              "      <td>27</td>\n",
              "      <td>263</td>\n",
              "      <td>0.7</td>\n",
              "    </tr>\n",
              "  </tbody>\n",
              "</table>\n",
              "</div>"
            ],
            "text/plain": [
              "   birthday_year  membership_type  category_prefer  recommended_cnt  age  \\\n",
              "0           1995              300                3                4   27   \n",
              "1           1995              300                2                1   27   \n",
              "\n",
              "   days_from_joined  years_from_joined  \n",
              "0               480                1.3  \n",
              "1               263                0.7  "
            ]
          },
          "metadata": {
            "tags": []
          },
          "execution_count": 156
        }
      ]
    },
    {
      "cell_type": "code",
      "metadata": {
        "colab": {
          "base_uri": "https://localhost:8080/"
        },
        "id": "vXgZEuqYgue3",
        "outputId": "c3fd8427-70a3-4d87-a8ba-b95da65afe15"
      },
      "source": [
        "# 멤버쉽 변수 분리\n",
        "\n",
        "user_x_cols = list(user_numeric_df.columns)\n",
        "user_x_cols.remove('membership_type')\n",
        "user_x_cols\n"
      ],
      "execution_count": 157,
      "outputs": [
        {
          "output_type": "execute_result",
          "data": {
            "text/plain": [
              "['birthday_year',\n",
              " 'category_prefer',\n",
              " 'recommended_cnt',\n",
              " 'age',\n",
              " 'days_from_joined',\n",
              " 'years_from_joined']"
            ]
          },
          "metadata": {
            "tags": []
          },
          "execution_count": 157
        }
      ]
    },
    {
      "cell_type": "code",
      "metadata": {
        "colab": {
          "base_uri": "https://localhost:8080/",
          "height": 284
        },
        "id": "wqPhVOqEhmEB",
        "outputId": "f24df066-e9e9-4bfd-f86f-b62b43bc8e0f"
      },
      "source": [
        "user_numeric_df.describe()"
      ],
      "execution_count": 160,
      "outputs": [
        {
          "output_type": "execute_result",
          "data": {
            "text/html": [
              "<div>\n",
              "<style scoped>\n",
              "    .dataframe tbody tr th:only-of-type {\n",
              "        vertical-align: middle;\n",
              "    }\n",
              "\n",
              "    .dataframe tbody tr th {\n",
              "        vertical-align: top;\n",
              "    }\n",
              "\n",
              "    .dataframe thead th {\n",
              "        text-align: right;\n",
              "    }\n",
              "</style>\n",
              "<table border=\"1\" class=\"dataframe\">\n",
              "  <thead>\n",
              "    <tr style=\"text-align: right;\">\n",
              "      <th></th>\n",
              "      <th>birthday_year</th>\n",
              "      <th>membership_type</th>\n",
              "      <th>category_prefer</th>\n",
              "      <th>recommended_cnt</th>\n",
              "      <th>age</th>\n",
              "      <th>days_from_joined</th>\n",
              "      <th>years_from_joined</th>\n",
              "    </tr>\n",
              "  </thead>\n",
              "  <tbody>\n",
              "    <tr>\n",
              "      <th>count</th>\n",
              "      <td>3412.000000</td>\n",
              "      <td>3412.000000</td>\n",
              "      <td>3412.000000</td>\n",
              "      <td>3412.000000</td>\n",
              "      <td>3412.000000</td>\n",
              "      <td>3412.000000</td>\n",
              "      <td>3412.000000</td>\n",
              "    </tr>\n",
              "    <tr>\n",
              "      <th>mean</th>\n",
              "      <td>1990.516706</td>\n",
              "      <td>153.575615</td>\n",
              "      <td>4.596717</td>\n",
              "      <td>2.291325</td>\n",
              "      <td>31.483294</td>\n",
              "      <td>659.414127</td>\n",
              "      <td>1.805158</td>\n",
              "    </tr>\n",
              "    <tr>\n",
              "      <th>std</th>\n",
              "      <td>7.669478</td>\n",
              "      <td>106.964154</td>\n",
              "      <td>3.403961</td>\n",
              "      <td>2.455373</td>\n",
              "      <td>7.669478</td>\n",
              "      <td>443.232127</td>\n",
              "      <td>1.214158</td>\n",
              "    </tr>\n",
              "    <tr>\n",
              "      <th>min</th>\n",
              "      <td>1967.000000</td>\n",
              "      <td>100.000000</td>\n",
              "      <td>0.000000</td>\n",
              "      <td>0.000000</td>\n",
              "      <td>16.000000</td>\n",
              "      <td>1.000000</td>\n",
              "      <td>0.000000</td>\n",
              "    </tr>\n",
              "    <tr>\n",
              "      <th>25%</th>\n",
              "      <td>1986.000000</td>\n",
              "      <td>100.000000</td>\n",
              "      <td>2.000000</td>\n",
              "      <td>0.000000</td>\n",
              "      <td>26.000000</td>\n",
              "      <td>290.750000</td>\n",
              "      <td>0.800000</td>\n",
              "    </tr>\n",
              "    <tr>\n",
              "      <th>50%</th>\n",
              "      <td>1993.000000</td>\n",
              "      <td>100.000000</td>\n",
              "      <td>4.000000</td>\n",
              "      <td>2.000000</td>\n",
              "      <td>29.000000</td>\n",
              "      <td>603.000000</td>\n",
              "      <td>1.700000</td>\n",
              "    </tr>\n",
              "    <tr>\n",
              "      <th>75%</th>\n",
              "      <td>1996.000000</td>\n",
              "      <td>100.000000</td>\n",
              "      <td>7.000000</td>\n",
              "      <td>4.000000</td>\n",
              "      <td>36.000000</td>\n",
              "      <td>969.000000</td>\n",
              "      <td>2.700000</td>\n",
              "    </tr>\n",
              "    <tr>\n",
              "      <th>max</th>\n",
              "      <td>2006.000000</td>\n",
              "      <td>500.000000</td>\n",
              "      <td>17.000000</td>\n",
              "      <td>21.000000</td>\n",
              "      <td>55.000000</td>\n",
              "      <td>1817.000000</td>\n",
              "      <td>5.000000</td>\n",
              "    </tr>\n",
              "  </tbody>\n",
              "</table>\n",
              "</div>"
            ],
            "text/plain": [
              "       birthday_year  membership_type  category_prefer  recommended_cnt  \\\n",
              "count    3412.000000      3412.000000      3412.000000      3412.000000   \n",
              "mean     1990.516706       153.575615         4.596717         2.291325   \n",
              "std         7.669478       106.964154         3.403961         2.455373   \n",
              "min      1967.000000       100.000000         0.000000         0.000000   \n",
              "25%      1986.000000       100.000000         2.000000         0.000000   \n",
              "50%      1993.000000       100.000000         4.000000         2.000000   \n",
              "75%      1996.000000       100.000000         7.000000         4.000000   \n",
              "max      2006.000000       500.000000        17.000000        21.000000   \n",
              "\n",
              "               age  days_from_joined  years_from_joined  \n",
              "count  3412.000000       3412.000000        3412.000000  \n",
              "mean     31.483294        659.414127           1.805158  \n",
              "std       7.669478        443.232127           1.214158  \n",
              "min      16.000000          1.000000           0.000000  \n",
              "25%      26.000000        290.750000           0.800000  \n",
              "50%      29.000000        603.000000           1.700000  \n",
              "75%      36.000000        969.000000           2.700000  \n",
              "max      55.000000       1817.000000           5.000000  "
            ]
          },
          "metadata": {
            "tags": []
          },
          "execution_count": 160
        }
      ]
    },
    {
      "cell_type": "markdown",
      "metadata": {
        "id": "lVklj_7wh13V"
      },
      "source": [
        "## Split the data"
      ]
    },
    {
      "cell_type": "code",
      "metadata": {
        "colab": {
          "base_uri": "https://localhost:8080/"
        },
        "id": "o79caIQwh2--",
        "outputId": "c7d3f69b-4594-4c89-cb1f-99eef32778b5"
      },
      "source": [
        "x = user_numeric_df[user_x_cols]\n",
        "y = user_numeric_df['membership_type']\n",
        "\n",
        "train_x, test_x, train_y, test_y = train_test_split(x, y, test_size = 0.2)\n",
        "print(len(train_x), len(test_x))"
      ],
      "execution_count": 163,
      "outputs": [
        {
          "output_type": "stream",
          "text": [
            "2729 683\n"
          ],
          "name": "stdout"
        }
      ]
    },
    {
      "cell_type": "markdown",
      "metadata": {
        "id": "52ZrZvIKiagN"
      },
      "source": [
        "## Clustering"
      ]
    },
    {
      "cell_type": "markdown",
      "metadata": {
        "id": "SjjddFrTifL1"
      },
      "source": [
        "### K-means"
      ]
    },
    {
      "cell_type": "code",
      "metadata": {
        "id": "AWR0e3uKiL7z"
      },
      "source": [
        "# import the module.\n",
        "from sklearn.cluster import KMeans\n",
        "\n",
        "# Find the best k using for elbow method\n",
        "\n",
        "distortions = []\n",
        "k_range = range(1,11)\n",
        "for n in k_range :\n",
        "    km = KMeans(n_clusters = n, random_state = 42)\n",
        "    km.fit(train_x)\n",
        "    distortions.append(km.inertia_.round(2))"
      ],
      "execution_count": 169,
      "outputs": []
    },
    {
      "cell_type": "code",
      "metadata": {
        "colab": {
          "base_uri": "https://localhost:8080/"
        },
        "id": "eKCmtRkTjFhh",
        "outputId": "894694fe-d0c0-4e07-eaeb-321c151a5704"
      },
      "source": [
        "distortions"
      ],
      "execution_count": 170,
      "outputs": [
        {
          "output_type": "execute_result",
          "data": {
            "text/plain": [
              "[531710786.15,\n",
              " 154425721.7,\n",
              " 71864103.05,\n",
              " 41572341.05,\n",
              " 26563580.19,\n",
              " 19226206.52,\n",
              " 14303216.61,\n",
              " 10861102.51,\n",
              " 8459378.56,\n",
              " 6914963.54]"
            ]
          },
          "metadata": {
            "tags": []
          },
          "execution_count": 170
        }
      ]
    },
    {
      "cell_type": "code",
      "metadata": {
        "colab": {
          "base_uri": "https://localhost:8080/",
          "height": 417
        },
        "id": "EQLBJpnQjLzI",
        "outputId": "d5c108ca-b3d2-4bf3-9111-5d4a02720545"
      },
      "source": [
        "fig = px.line(x = k_range,\n",
        "              y = distortions,\n",
        "              labels = {'x' : 'k', 'y' : 'distortions'}) # x축 y 축 이름 정하기\n",
        "fig.update_layout(width = 700, height = 400)\n",
        "fig.show()"
      ],
      "execution_count": 174,
      "outputs": [
        {
          "output_type": "display_data",
          "data": {
            "text/html": [
              "<html>\n",
              "<head><meta charset=\"utf-8\" /></head>\n",
              "<body>\n",
              "    <div>\n",
              "            <script src=\"https://cdnjs.cloudflare.com/ajax/libs/mathjax/2.7.5/MathJax.js?config=TeX-AMS-MML_SVG\"></script><script type=\"text/javascript\">if (window.MathJax) {MathJax.Hub.Config({SVG: {font: \"STIX-Web\"}});}</script>\n",
              "                <script type=\"text/javascript\">window.PlotlyConfig = {MathJaxConfig: 'local'};</script>\n",
              "        <script src=\"https://cdn.plot.ly/plotly-latest.min.js\"></script>    \n",
              "            <div id=\"fc3e50a9-7a92-402a-be4e-d65ffe37f8f3\" class=\"plotly-graph-div\" style=\"height:400px; width:700px;\"></div>\n",
              "            <script type=\"text/javascript\">\n",
              "                \n",
              "                    window.PLOTLYENV=window.PLOTLYENV || {};\n",
              "                    \n",
              "                if (document.getElementById(\"fc3e50a9-7a92-402a-be4e-d65ffe37f8f3\")) {\n",
              "                    Plotly.newPlot(\n",
              "                        'fc3e50a9-7a92-402a-be4e-d65ffe37f8f3',\n",
              "                        [{\"hoverlabel\": {\"namelength\": 0}, \"hovertemplate\": \"k=%{x}<br>distortions=%{y}\", \"legendgroup\": \"\", \"line\": {\"color\": \"#636efa\", \"dash\": \"solid\"}, \"mode\": \"lines\", \"name\": \"\", \"showlegend\": false, \"type\": \"scatter\", \"x\": [1, 2, 3, 4, 5, 6, 7, 8, 9, 10], \"xaxis\": \"x\", \"y\": [531710786.15, 154425721.7, 71864103.05, 41572341.05, 26563580.19, 19226206.52, 14303216.61, 10861102.51, 8459378.56, 6914963.54], \"yaxis\": \"y\"}],\n",
              "                        {\"height\": 400, \"legend\": {\"tracegroupgap\": 0}, \"margin\": {\"t\": 60}, \"template\": {\"data\": {\"bar\": [{\"error_x\": {\"color\": \"#2a3f5f\"}, \"error_y\": {\"color\": \"#2a3f5f\"}, \"marker\": {\"line\": {\"color\": \"#E5ECF6\", \"width\": 0.5}}, \"type\": \"bar\"}], \"barpolar\": [{\"marker\": {\"line\": {\"color\": \"#E5ECF6\", \"width\": 0.5}}, \"type\": \"barpolar\"}], \"carpet\": [{\"aaxis\": {\"endlinecolor\": \"#2a3f5f\", \"gridcolor\": \"white\", \"linecolor\": \"white\", \"minorgridcolor\": \"white\", \"startlinecolor\": \"#2a3f5f\"}, \"baxis\": {\"endlinecolor\": \"#2a3f5f\", \"gridcolor\": \"white\", \"linecolor\": \"white\", \"minorgridcolor\": \"white\", \"startlinecolor\": \"#2a3f5f\"}, \"type\": \"carpet\"}], \"choropleth\": [{\"colorbar\": {\"outlinewidth\": 0, \"ticks\": \"\"}, \"type\": \"choropleth\"}], \"contour\": [{\"colorbar\": {\"outlinewidth\": 0, \"ticks\": \"\"}, \"colorscale\": [[0.0, \"#0d0887\"], [0.1111111111111111, \"#46039f\"], [0.2222222222222222, \"#7201a8\"], [0.3333333333333333, \"#9c179e\"], [0.4444444444444444, \"#bd3786\"], [0.5555555555555556, \"#d8576b\"], [0.6666666666666666, \"#ed7953\"], [0.7777777777777778, \"#fb9f3a\"], [0.8888888888888888, \"#fdca26\"], [1.0, \"#f0f921\"]], \"type\": \"contour\"}], \"contourcarpet\": [{\"colorbar\": {\"outlinewidth\": 0, \"ticks\": \"\"}, \"type\": \"contourcarpet\"}], \"heatmap\": [{\"colorbar\": {\"outlinewidth\": 0, \"ticks\": \"\"}, \"colorscale\": [[0.0, \"#0d0887\"], [0.1111111111111111, \"#46039f\"], [0.2222222222222222, \"#7201a8\"], [0.3333333333333333, \"#9c179e\"], [0.4444444444444444, \"#bd3786\"], [0.5555555555555556, \"#d8576b\"], [0.6666666666666666, \"#ed7953\"], [0.7777777777777778, \"#fb9f3a\"], [0.8888888888888888, \"#fdca26\"], [1.0, \"#f0f921\"]], \"type\": \"heatmap\"}], \"heatmapgl\": [{\"colorbar\": {\"outlinewidth\": 0, \"ticks\": \"\"}, \"colorscale\": [[0.0, \"#0d0887\"], [0.1111111111111111, \"#46039f\"], [0.2222222222222222, \"#7201a8\"], [0.3333333333333333, \"#9c179e\"], [0.4444444444444444, \"#bd3786\"], [0.5555555555555556, \"#d8576b\"], [0.6666666666666666, \"#ed7953\"], [0.7777777777777778, \"#fb9f3a\"], [0.8888888888888888, \"#fdca26\"], [1.0, \"#f0f921\"]], \"type\": \"heatmapgl\"}], \"histogram\": [{\"marker\": {\"colorbar\": {\"outlinewidth\": 0, \"ticks\": \"\"}}, \"type\": \"histogram\"}], \"histogram2d\": [{\"colorbar\": {\"outlinewidth\": 0, \"ticks\": \"\"}, \"colorscale\": [[0.0, \"#0d0887\"], [0.1111111111111111, \"#46039f\"], [0.2222222222222222, \"#7201a8\"], [0.3333333333333333, \"#9c179e\"], [0.4444444444444444, \"#bd3786\"], [0.5555555555555556, \"#d8576b\"], [0.6666666666666666, \"#ed7953\"], [0.7777777777777778, \"#fb9f3a\"], [0.8888888888888888, \"#fdca26\"], [1.0, \"#f0f921\"]], \"type\": \"histogram2d\"}], \"histogram2dcontour\": [{\"colorbar\": {\"outlinewidth\": 0, \"ticks\": \"\"}, \"colorscale\": [[0.0, \"#0d0887\"], [0.1111111111111111, \"#46039f\"], [0.2222222222222222, \"#7201a8\"], [0.3333333333333333, \"#9c179e\"], [0.4444444444444444, \"#bd3786\"], [0.5555555555555556, \"#d8576b\"], [0.6666666666666666, \"#ed7953\"], [0.7777777777777778, \"#fb9f3a\"], [0.8888888888888888, \"#fdca26\"], [1.0, \"#f0f921\"]], \"type\": \"histogram2dcontour\"}], \"mesh3d\": [{\"colorbar\": {\"outlinewidth\": 0, \"ticks\": \"\"}, \"type\": \"mesh3d\"}], \"parcoords\": [{\"line\": {\"colorbar\": {\"outlinewidth\": 0, \"ticks\": \"\"}}, \"type\": \"parcoords\"}], \"pie\": [{\"automargin\": true, \"type\": \"pie\"}], \"scatter\": [{\"marker\": {\"colorbar\": {\"outlinewidth\": 0, \"ticks\": \"\"}}, \"type\": \"scatter\"}], \"scatter3d\": [{\"line\": {\"colorbar\": {\"outlinewidth\": 0, \"ticks\": \"\"}}, \"marker\": {\"colorbar\": {\"outlinewidth\": 0, \"ticks\": \"\"}}, \"type\": \"scatter3d\"}], \"scattercarpet\": [{\"marker\": {\"colorbar\": {\"outlinewidth\": 0, \"ticks\": \"\"}}, \"type\": \"scattercarpet\"}], \"scattergeo\": [{\"marker\": {\"colorbar\": {\"outlinewidth\": 0, \"ticks\": \"\"}}, \"type\": \"scattergeo\"}], \"scattergl\": [{\"marker\": {\"colorbar\": {\"outlinewidth\": 0, \"ticks\": \"\"}}, \"type\": \"scattergl\"}], \"scattermapbox\": [{\"marker\": {\"colorbar\": {\"outlinewidth\": 0, \"ticks\": \"\"}}, \"type\": \"scattermapbox\"}], \"scatterpolar\": [{\"marker\": {\"colorbar\": {\"outlinewidth\": 0, \"ticks\": \"\"}}, \"type\": \"scatterpolar\"}], \"scatterpolargl\": [{\"marker\": {\"colorbar\": {\"outlinewidth\": 0, \"ticks\": \"\"}}, \"type\": \"scatterpolargl\"}], \"scatterternary\": [{\"marker\": {\"colorbar\": {\"outlinewidth\": 0, \"ticks\": \"\"}}, \"type\": \"scatterternary\"}], \"surface\": [{\"colorbar\": {\"outlinewidth\": 0, \"ticks\": \"\"}, \"colorscale\": [[0.0, \"#0d0887\"], [0.1111111111111111, \"#46039f\"], [0.2222222222222222, \"#7201a8\"], [0.3333333333333333, \"#9c179e\"], [0.4444444444444444, \"#bd3786\"], [0.5555555555555556, \"#d8576b\"], [0.6666666666666666, \"#ed7953\"], [0.7777777777777778, \"#fb9f3a\"], [0.8888888888888888, \"#fdca26\"], [1.0, \"#f0f921\"]], \"type\": \"surface\"}], \"table\": [{\"cells\": {\"fill\": {\"color\": \"#EBF0F8\"}, \"line\": {\"color\": \"white\"}}, \"header\": {\"fill\": {\"color\": \"#C8D4E3\"}, \"line\": {\"color\": \"white\"}}, \"type\": \"table\"}]}, \"layout\": {\"annotationdefaults\": {\"arrowcolor\": \"#2a3f5f\", \"arrowhead\": 0, \"arrowwidth\": 1}, \"coloraxis\": {\"colorbar\": {\"outlinewidth\": 0, \"ticks\": \"\"}}, \"colorscale\": {\"diverging\": [[0, \"#8e0152\"], [0.1, \"#c51b7d\"], [0.2, \"#de77ae\"], [0.3, \"#f1b6da\"], [0.4, \"#fde0ef\"], [0.5, \"#f7f7f7\"], [0.6, \"#e6f5d0\"], [0.7, \"#b8e186\"], [0.8, \"#7fbc41\"], [0.9, \"#4d9221\"], [1, \"#276419\"]], \"sequential\": [[0.0, \"#0d0887\"], [0.1111111111111111, \"#46039f\"], [0.2222222222222222, \"#7201a8\"], [0.3333333333333333, \"#9c179e\"], [0.4444444444444444, \"#bd3786\"], [0.5555555555555556, \"#d8576b\"], [0.6666666666666666, \"#ed7953\"], [0.7777777777777778, \"#fb9f3a\"], [0.8888888888888888, \"#fdca26\"], [1.0, \"#f0f921\"]], \"sequentialminus\": [[0.0, \"#0d0887\"], [0.1111111111111111, \"#46039f\"], [0.2222222222222222, \"#7201a8\"], [0.3333333333333333, \"#9c179e\"], [0.4444444444444444, \"#bd3786\"], [0.5555555555555556, \"#d8576b\"], [0.6666666666666666, \"#ed7953\"], [0.7777777777777778, \"#fb9f3a\"], [0.8888888888888888, \"#fdca26\"], [1.0, \"#f0f921\"]]}, \"colorway\": [\"#636efa\", \"#EF553B\", \"#00cc96\", \"#ab63fa\", \"#FFA15A\", \"#19d3f3\", \"#FF6692\", \"#B6E880\", \"#FF97FF\", \"#FECB52\"], \"font\": {\"color\": \"#2a3f5f\"}, \"geo\": {\"bgcolor\": \"white\", \"lakecolor\": \"white\", \"landcolor\": \"#E5ECF6\", \"showlakes\": true, \"showland\": true, \"subunitcolor\": \"white\"}, \"hoverlabel\": {\"align\": \"left\"}, \"hovermode\": \"closest\", \"mapbox\": {\"style\": \"light\"}, \"paper_bgcolor\": \"white\", \"plot_bgcolor\": \"#E5ECF6\", \"polar\": {\"angularaxis\": {\"gridcolor\": \"white\", \"linecolor\": \"white\", \"ticks\": \"\"}, \"bgcolor\": \"#E5ECF6\", \"radialaxis\": {\"gridcolor\": \"white\", \"linecolor\": \"white\", \"ticks\": \"\"}}, \"scene\": {\"xaxis\": {\"backgroundcolor\": \"#E5ECF6\", \"gridcolor\": \"white\", \"gridwidth\": 2, \"linecolor\": \"white\", \"showbackground\": true, \"ticks\": \"\", \"zerolinecolor\": \"white\"}, \"yaxis\": {\"backgroundcolor\": \"#E5ECF6\", \"gridcolor\": \"white\", \"gridwidth\": 2, \"linecolor\": \"white\", \"showbackground\": true, \"ticks\": \"\", \"zerolinecolor\": \"white\"}, \"zaxis\": {\"backgroundcolor\": \"#E5ECF6\", \"gridcolor\": \"white\", \"gridwidth\": 2, \"linecolor\": \"white\", \"showbackground\": true, \"ticks\": \"\", \"zerolinecolor\": \"white\"}}, \"shapedefaults\": {\"line\": {\"color\": \"#2a3f5f\"}}, \"ternary\": {\"aaxis\": {\"gridcolor\": \"white\", \"linecolor\": \"white\", \"ticks\": \"\"}, \"baxis\": {\"gridcolor\": \"white\", \"linecolor\": \"white\", \"ticks\": \"\"}, \"bgcolor\": \"#E5ECF6\", \"caxis\": {\"gridcolor\": \"white\", \"linecolor\": \"white\", \"ticks\": \"\"}}, \"title\": {\"x\": 0.05}, \"xaxis\": {\"automargin\": true, \"gridcolor\": \"white\", \"linecolor\": \"white\", \"ticks\": \"\", \"title\": {\"standoff\": 15}, \"zerolinecolor\": \"white\", \"zerolinewidth\": 2}, \"yaxis\": {\"automargin\": true, \"gridcolor\": \"white\", \"linecolor\": \"white\", \"ticks\": \"\", \"title\": {\"standoff\": 15}, \"zerolinecolor\": \"white\", \"zerolinewidth\": 2}}}, \"width\": 700, \"xaxis\": {\"anchor\": \"y\", \"domain\": [0.0, 1.0], \"title\": {\"text\": \"k\"}}, \"yaxis\": {\"anchor\": \"x\", \"domain\": [0.0, 1.0], \"title\": {\"text\": \"distortions\"}}},\n",
              "                        {\"responsive\": true}\n",
              "                    ).then(function(){\n",
              "                            \n",
              "var gd = document.getElementById('fc3e50a9-7a92-402a-be4e-d65ffe37f8f3');\n",
              "var x = new MutationObserver(function (mutations, observer) {{\n",
              "        var display = window.getComputedStyle(gd).display;\n",
              "        if (!display || display === 'none') {{\n",
              "            console.log([gd, 'removed!']);\n",
              "            Plotly.purge(gd);\n",
              "            observer.disconnect();\n",
              "        }}\n",
              "}});\n",
              "\n",
              "// Listen for the removal of the full notebook cells\n",
              "var notebookContainer = gd.closest('#notebook-container');\n",
              "if (notebookContainer) {{\n",
              "    x.observe(notebookContainer, {childList: true});\n",
              "}}\n",
              "\n",
              "// Listen for the clearing of the current output cell\n",
              "var outputEl = gd.closest('.output');\n",
              "if (outputEl) {{\n",
              "    x.observe(outputEl, {childList: true});\n",
              "}}\n",
              "\n",
              "                        })\n",
              "                };\n",
              "                \n",
              "            </script>\n",
              "        </div>\n",
              "</body>\n",
              "</html>"
            ]
          },
          "metadata": {
            "tags": []
          }
        }
      ]
    },
    {
      "cell_type": "code",
      "metadata": {
        "colab": {
          "base_uri": "https://localhost:8080/"
        },
        "id": "HvcHFQ1mjr2W",
        "outputId": "d43b1e0b-82a2-45ac-d8b5-da9b94421983"
      },
      "source": [
        "km = KMeans(n_clusters = 3, random_state = 42)\n",
        "km.fit(train_x)"
      ],
      "execution_count": 175,
      "outputs": [
        {
          "output_type": "execute_result",
          "data": {
            "text/plain": [
              "KMeans(algorithm='auto', copy_x=True, init='k-means++', max_iter=300,\n",
              "       n_clusters=3, n_init=10, n_jobs=None, precompute_distances='auto',\n",
              "       random_state=42, tol=0.0001, verbose=0)"
            ]
          },
          "metadata": {
            "tags": []
          },
          "execution_count": 175
        }
      ]
    },
    {
      "cell_type": "code",
      "metadata": {
        "id": "ijRWRoZ3j-BC"
      },
      "source": [
        "# 훈련된 결과 확인해보기"
      ],
      "execution_count": null,
      "outputs": []
    }
  ]
}